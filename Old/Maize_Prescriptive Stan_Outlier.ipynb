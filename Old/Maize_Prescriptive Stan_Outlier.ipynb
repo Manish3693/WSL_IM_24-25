{
 "cells": [
  {
   "cell_type": "code",
   "execution_count": 232,
   "metadata": {},
   "outputs": [],
   "source": [
    "import pandas as pd\n",
    "import statsmodels.api as sm\n",
    "import re\n",
    "import numpy as np\n",
    "import pandas as pd\n",
    "from itertools import product"
   ]
  },
  {
   "cell_type": "code",
   "execution_count": 233,
   "metadata": {},
   "outputs": [
    {
     "data": {
      "text/html": [
       "<div>\n",
       "<style scoped>\n",
       "    .dataframe tbody tr th:only-of-type {\n",
       "        vertical-align: middle;\n",
       "    }\n",
       "\n",
       "    .dataframe tbody tr th {\n",
       "        vertical-align: top;\n",
       "    }\n",
       "\n",
       "    .dataframe thead th {\n",
       "        text-align: right;\n",
       "    }\n",
       "</style>\n",
       "<table border=\"1\" class=\"dataframe\">\n",
       "  <thead>\n",
       "    <tr style=\"text-align: right;\">\n",
       "      <th></th>\n",
       "      <th>District</th>\n",
       "      <th>Maize_Production</th>\n",
       "      <th>TotalNPK</th>\n",
       "      <th>SowingSeedsDistributed_Maize</th>\n",
       "      <th>LivestockCensus_2012_Cattle</th>\n",
       "      <th>AreaUnderCereals_Maize</th>\n",
       "      <th>NetAreaIrrigatedUnderDifferentSources_TubeWells_NetIrrigatedArea</th>\n",
       "      <th>Maize_Ratio</th>\n",
       "    </tr>\n",
       "  </thead>\n",
       "  <tbody>\n",
       "    <tr>\n",
       "      <th>24</th>\n",
       "      <td>BALLARI</td>\n",
       "      <td>104045</td>\n",
       "      <td>8404.154608</td>\n",
       "      <td>2859.005</td>\n",
       "      <td>23446.847903</td>\n",
       "      <td>49869.5</td>\n",
       "      <td>10248.613355</td>\n",
       "      <td>0.136288</td>\n",
       "    </tr>\n",
       "    <tr>\n",
       "      <th>25</th>\n",
       "      <td>BIDAR</td>\n",
       "      <td>2791</td>\n",
       "      <td>249.381182</td>\n",
       "      <td>24.550</td>\n",
       "      <td>2371.831678</td>\n",
       "      <td>1382.0</td>\n",
       "      <td>201.341576</td>\n",
       "      <td>0.010114</td>\n",
       "    </tr>\n",
       "    <tr>\n",
       "      <th>26</th>\n",
       "      <td>KALABURAGI</td>\n",
       "      <td>14621</td>\n",
       "      <td>710.101614</td>\n",
       "      <td>165.000</td>\n",
       "      <td>6221.617910</td>\n",
       "      <td>2634.0</td>\n",
       "      <td>641.759643</td>\n",
       "      <td>0.013150</td>\n",
       "    </tr>\n",
       "    <tr>\n",
       "      <th>27</th>\n",
       "      <td>YADGIRI</td>\n",
       "      <td>2673</td>\n",
       "      <td>368.617469</td>\n",
       "      <td>0.000</td>\n",
       "      <td>1253.317144</td>\n",
       "      <td>961.0</td>\n",
       "      <td>88.878158</td>\n",
       "      <td>0.004033</td>\n",
       "    </tr>\n",
       "    <tr>\n",
       "      <th>28</th>\n",
       "      <td>RAICHUR</td>\n",
       "      <td>723</td>\n",
       "      <td>61.547519</td>\n",
       "      <td>14.350</td>\n",
       "      <td>188.537479</td>\n",
       "      <td>2600.0</td>\n",
       "      <td>13.949581</td>\n",
       "      <td>0.000525</td>\n",
       "    </tr>\n",
       "    <tr>\n",
       "      <th>29</th>\n",
       "      <td>KOPPAL</td>\n",
       "      <td>190252</td>\n",
       "      <td>10997.550403</td>\n",
       "      <td>5292.000</td>\n",
       "      <td>38936.400172</td>\n",
       "      <td>48210.0</td>\n",
       "      <td>12343.237178</td>\n",
       "      <td>0.149521</td>\n",
       "    </tr>\n",
       "    <tr>\n",
       "      <th>30</th>\n",
       "      <td>VIJAYANAGARA</td>\n",
       "      <td>104045</td>\n",
       "      <td>8404.154608</td>\n",
       "      <td>2859.005</td>\n",
       "      <td>23446.847903</td>\n",
       "      <td>49869.5</td>\n",
       "      <td>10248.613355</td>\n",
       "      <td>0.136288</td>\n",
       "    </tr>\n",
       "  </tbody>\n",
       "</table>\n",
       "</div>"
      ],
      "text/plain": [
       "        District  Maize_Production      TotalNPK  \\\n",
       "24       BALLARI            104045   8404.154608   \n",
       "25         BIDAR              2791    249.381182   \n",
       "26    KALABURAGI             14621    710.101614   \n",
       "27       YADGIRI              2673    368.617469   \n",
       "28       RAICHUR               723     61.547519   \n",
       "29        KOPPAL            190252  10997.550403   \n",
       "30  VIJAYANAGARA            104045   8404.154608   \n",
       "\n",
       "    SowingSeedsDistributed_Maize  LivestockCensus_2012_Cattle  \\\n",
       "24                      2859.005                 23446.847903   \n",
       "25                        24.550                  2371.831678   \n",
       "26                       165.000                  6221.617910   \n",
       "27                         0.000                  1253.317144   \n",
       "28                        14.350                   188.537479   \n",
       "29                      5292.000                 38936.400172   \n",
       "30                      2859.005                 23446.847903   \n",
       "\n",
       "    AreaUnderCereals_Maize  \\\n",
       "24                 49869.5   \n",
       "25                  1382.0   \n",
       "26                  2634.0   \n",
       "27                   961.0   \n",
       "28                  2600.0   \n",
       "29                 48210.0   \n",
       "30                 49869.5   \n",
       "\n",
       "    NetAreaIrrigatedUnderDifferentSources_TubeWells_NetIrrigatedArea  \\\n",
       "24                                       10248.613355                  \n",
       "25                                         201.341576                  \n",
       "26                                         641.759643                  \n",
       "27                                          88.878158                  \n",
       "28                                          13.949581                  \n",
       "29                                       12343.237178                  \n",
       "30                                       10248.613355                  \n",
       "\n",
       "    Maize_Ratio  \n",
       "24     0.136288  \n",
       "25     0.010114  \n",
       "26     0.013150  \n",
       "27     0.004033  \n",
       "28     0.000525  \n",
       "29     0.149521  \n",
       "30     0.136288  "
      ]
     },
     "execution_count": 233,
     "metadata": {},
     "output_type": "execute_result"
    }
   ],
   "source": [
    "def remove_pattern(col_name):\n",
    "    return re.sub(r'_[0-9]{3}$', '', col_name)\n",
    "\n",
    "Zones = pd.read_excel('Zones.xlsx')\n",
    "Dataset = pd.read_csv('KAG 2016-17\\Agriculture\\Agriculture_KAG_2016_17.csv')\n",
    "Dataset.columns = map(remove_pattern, Dataset.columns)\n",
    "\n",
    "param = pd.read_csv('Params/5_Param_Maize_Multicollinearity.csv')\n",
    "\n",
    "Working_Directory = pd.read_csv('Working_Directory.csv')\n",
    "Working_Directory = Working_Directory[['District','Maize_Production','TotalNPK', 'SowingSeedsDistributed_Maize',\n",
    "'LivestockCensus_2012_Cattle', 'AreaUnderCereals_Maize','NetAreaIrrigatedUnderDifferentSources_TubeWells_NetIrrigatedArea','Maize_Ratio']].copy()\n",
    "\n",
    "for x in param.columns:\n",
    "    if(x != 'SowingSeedsDistributed_Maize' and x != 'AreaUnderCereals_Maize'):\n",
    "        Working_Directory[x] = Working_Directory[x]*Working_Directory['Maize_Ratio']\n",
    "        \n",
    "Working_Directory[24:]"
   ]
  },
  {
   "cell_type": "code",
   "execution_count": 234,
   "metadata": {},
   "outputs": [
    {
     "data": {
      "text/html": [
       "<div>\n",
       "<style scoped>\n",
       "    .dataframe tbody tr th:only-of-type {\n",
       "        vertical-align: middle;\n",
       "    }\n",
       "\n",
       "    .dataframe tbody tr th {\n",
       "        vertical-align: top;\n",
       "    }\n",
       "\n",
       "    .dataframe thead th {\n",
       "        text-align: right;\n",
       "    }\n",
       "</style>\n",
       "<table border=\"1\" class=\"dataframe\">\n",
       "  <thead>\n",
       "    <tr style=\"text-align: right;\">\n",
       "      <th></th>\n",
       "      <th>SowingSeedsDistributed_Maize</th>\n",
       "      <th>LivestockCensus_2012_Cattle</th>\n",
       "      <th>AreaUnderCereals_Maize</th>\n",
       "      <th>TotalNPK</th>\n",
       "      <th>NetAreaIrrigatedUnderDifferentSources_TubeWells_NetIrrigatedArea</th>\n",
       "    </tr>\n",
       "  </thead>\n",
       "  <tbody>\n",
       "    <tr>\n",
       "      <th>0</th>\n",
       "      <td>4.45</td>\n",
       "      <td>2567.461578</td>\n",
       "      <td>1129.0</td>\n",
       "      <td>438.180210</td>\n",
       "      <td>175.723235</td>\n",
       "    </tr>\n",
       "    <tr>\n",
       "      <th>1</th>\n",
       "      <td>134.73</td>\n",
       "      <td>25037.139271</td>\n",
       "      <td>14867.0</td>\n",
       "      <td>3036.080250</td>\n",
       "      <td>3197.193185</td>\n",
       "    </tr>\n",
       "    <tr>\n",
       "      <th>2</th>\n",
       "      <td>260.15</td>\n",
       "      <td>7729.614277</td>\n",
       "      <td>1987.0</td>\n",
       "      <td>222.225258</td>\n",
       "      <td>709.859804</td>\n",
       "    </tr>\n",
       "    <tr>\n",
       "      <th>3</th>\n",
       "      <td>5004.00</td>\n",
       "      <td>83821.593093</td>\n",
       "      <td>92194.0</td>\n",
       "      <td>10902.406571</td>\n",
       "      <td>28105.507253</td>\n",
       "    </tr>\n",
       "    <tr>\n",
       "      <th>4</th>\n",
       "      <td>6124.60</td>\n",
       "      <td>85657.632091</td>\n",
       "      <td>173400.0</td>\n",
       "      <td>25702.835480</td>\n",
       "      <td>20213.730878</td>\n",
       "    </tr>\n",
       "  </tbody>\n",
       "</table>\n",
       "</div>"
      ],
      "text/plain": [
       "   SowingSeedsDistributed_Maize  LivestockCensus_2012_Cattle  \\\n",
       "0                          4.45                  2567.461578   \n",
       "1                        134.73                 25037.139271   \n",
       "2                        260.15                  7729.614277   \n",
       "3                       5004.00                 83821.593093   \n",
       "4                       6124.60                 85657.632091   \n",
       "\n",
       "   AreaUnderCereals_Maize      TotalNPK  \\\n",
       "0                  1129.0    438.180210   \n",
       "1                 14867.0   3036.080250   \n",
       "2                  1987.0    222.225258   \n",
       "3                 92194.0  10902.406571   \n",
       "4                173400.0  25702.835480   \n",
       "\n",
       "   NetAreaIrrigatedUnderDifferentSources_TubeWells_NetIrrigatedArea  \n",
       "0                                         175.723235                 \n",
       "1                                        3197.193185                 \n",
       "2                                         709.859804                 \n",
       "3                                       28105.507253                 \n",
       "4                                       20213.730878                 "
      ]
     },
     "execution_count": 234,
     "metadata": {},
     "output_type": "execute_result"
    }
   ],
   "source": [
    "Case_file = pd.read_csv('Params/5_Param_Maize_Multicollinearity.csv')\n",
    "for x in Case_file.columns:\n",
    "    Working_Directory[x] = Case_file[x]\n",
    "y = Working_Directory['Maize_Production']\n",
    "Case_file[:5]"
   ]
  },
  {
   "cell_type": "code",
   "execution_count": 235,
   "metadata": {},
   "outputs": [
    {
     "data": {
      "text/html": [
       "<div>\n",
       "<style scoped>\n",
       "    .dataframe tbody tr th:only-of-type {\n",
       "        vertical-align: middle;\n",
       "    }\n",
       "\n",
       "    .dataframe tbody tr th {\n",
       "        vertical-align: top;\n",
       "    }\n",
       "\n",
       "    .dataframe thead th {\n",
       "        text-align: right;\n",
       "    }\n",
       "</style>\n",
       "<table border=\"1\" class=\"dataframe\">\n",
       "  <thead>\n",
       "    <tr style=\"text-align: right;\">\n",
       "      <th></th>\n",
       "      <th>SowingSeedsDistributed_Maize</th>\n",
       "      <th>LivestockCensus_2012_Cattle</th>\n",
       "      <th>AreaUnderCereals_Maize</th>\n",
       "      <th>TotalNPK</th>\n",
       "      <th>NetAreaIrrigatedUnderDifferentSources_TubeWells_NetIrrigatedArea</th>\n",
       "    </tr>\n",
       "  </thead>\n",
       "  <tbody>\n",
       "    <tr>\n",
       "      <th>24</th>\n",
       "      <td>2859.005</td>\n",
       "      <td>23446.847903</td>\n",
       "      <td>49869.5</td>\n",
       "      <td>8404.154608</td>\n",
       "      <td>10248.613355</td>\n",
       "    </tr>\n",
       "    <tr>\n",
       "      <th>25</th>\n",
       "      <td>24.550</td>\n",
       "      <td>2371.831678</td>\n",
       "      <td>1382.0</td>\n",
       "      <td>249.381182</td>\n",
       "      <td>201.341576</td>\n",
       "    </tr>\n",
       "    <tr>\n",
       "      <th>26</th>\n",
       "      <td>165.000</td>\n",
       "      <td>6221.617910</td>\n",
       "      <td>2634.0</td>\n",
       "      <td>710.101614</td>\n",
       "      <td>641.759643</td>\n",
       "    </tr>\n",
       "    <tr>\n",
       "      <th>27</th>\n",
       "      <td>0.000</td>\n",
       "      <td>1253.317144</td>\n",
       "      <td>961.0</td>\n",
       "      <td>368.617469</td>\n",
       "      <td>88.878158</td>\n",
       "    </tr>\n",
       "    <tr>\n",
       "      <th>28</th>\n",
       "      <td>14.350</td>\n",
       "      <td>188.537479</td>\n",
       "      <td>2600.0</td>\n",
       "      <td>61.547519</td>\n",
       "      <td>13.949581</td>\n",
       "    </tr>\n",
       "    <tr>\n",
       "      <th>29</th>\n",
       "      <td>5292.000</td>\n",
       "      <td>38936.400172</td>\n",
       "      <td>48210.0</td>\n",
       "      <td>10997.550403</td>\n",
       "      <td>12343.237178</td>\n",
       "    </tr>\n",
       "    <tr>\n",
       "      <th>30</th>\n",
       "      <td>2859.005</td>\n",
       "      <td>23446.847903</td>\n",
       "      <td>49869.5</td>\n",
       "      <td>8404.154608</td>\n",
       "      <td>10248.613355</td>\n",
       "    </tr>\n",
       "  </tbody>\n",
       "</table>\n",
       "</div>"
      ],
      "text/plain": [
       "    SowingSeedsDistributed_Maize  LivestockCensus_2012_Cattle  \\\n",
       "24                      2859.005                 23446.847903   \n",
       "25                        24.550                  2371.831678   \n",
       "26                       165.000                  6221.617910   \n",
       "27                         0.000                  1253.317144   \n",
       "28                        14.350                   188.537479   \n",
       "29                      5292.000                 38936.400172   \n",
       "30                      2859.005                 23446.847903   \n",
       "\n",
       "    AreaUnderCereals_Maize      TotalNPK  \\\n",
       "24                 49869.5   8404.154608   \n",
       "25                  1382.0    249.381182   \n",
       "26                  2634.0    710.101614   \n",
       "27                   961.0    368.617469   \n",
       "28                  2600.0     61.547519   \n",
       "29                 48210.0  10997.550403   \n",
       "30                 49869.5   8404.154608   \n",
       "\n",
       "    NetAreaIrrigatedUnderDifferentSources_TubeWells_NetIrrigatedArea  \n",
       "24                                       10248.613355                 \n",
       "25                                         201.341576                 \n",
       "26                                         641.759643                 \n",
       "27                                          88.878158                 \n",
       "28                                          13.949581                 \n",
       "29                                       12343.237178                 \n",
       "30                                       10248.613355                 "
      ]
     },
     "execution_count": 235,
     "metadata": {},
     "output_type": "execute_result"
    }
   ],
   "source": [
    "if(len(Case_file) < 31):\n",
    "    row_24 = Case_file.iloc[24]\n",
    "    halved_row_24 = row_24 / 2\n",
    "    Case_file.iloc[24] = halved_row_24\n",
    "    Case_file.loc[len(Case_file)] = halved_row_24\n",
    "\n",
    "Case_file[24:]"
   ]
  },
  {
   "cell_type": "code",
   "execution_count": 236,
   "metadata": {},
   "outputs": [
    {
     "data": {
      "text/plain": [
       "Index(['SowingSeedsDistributed_Maize', 'LivestockCensus_2012_Cattle',\n",
       "       'AreaUnderCereals_Maize', 'TotalNPK',\n",
       "       'NetAreaIrrigatedUnderDifferentSources_TubeWells_NetIrrigatedArea'],\n",
       "      dtype='object')"
      ]
     },
     "execution_count": 236,
     "metadata": {},
     "output_type": "execute_result"
    }
   ],
   "source": [
    "Case_file.columns"
   ]
  },
  {
   "cell_type": "code",
   "execution_count": 237,
   "metadata": {},
   "outputs": [
    {
     "name": "stdout",
     "output_type": "stream",
     "text": [
      "Q1 (25th percentile): 12535.5\n",
      "Q3 (75th percentile): 208289.5\n",
      "Lower bound: -281095.5\n",
      "Upper bound: 501920.5\n",
      "IQR: 195754.0\n"
     ]
    },
    {
     "data": {
      "image/png": "[encoded data removed]",
      "text/plain": [
       "<Figure size 864x576 with 1 Axes>"
      ]
     },
     "metadata": {
      "needs_background": "light"
     },
     "output_type": "display_data"
    }
   ],
   "source": [
    "import seaborn as sns\n",
    "import matplotlib.pyplot as plt\n",
    "import pandas as pd\n",
    "\n",
    "# Step 1: Combine Case_file and y DataFrames along columns\n",
    "df = pd.concat([Case_file, y], axis=1)\n",
    "\n",
    "# Step 2: Calculate IQR for 'Maize_Production'\n",
    "Q1 = df['Maize_Production'].quantile(0.25)  # First Quartile (25th percentile)\n",
    "Q3 = df['Maize_Production'].quantile(0.75)  # Third Quartile (75th percentile)\n",
    "IQR = Q3 - Q1  # Interquartile Range\n",
    "\n",
    "# Step 3: Define outliers as values outside the IQR range\n",
    "lower_bound = Q1 - 1.5 * IQR\n",
    "upper_bound = Q3 + 1.5 * IQR\n",
    "\n",
    "# Print important points\n",
    "print(\"Q1 (25th percentile):\", Q1)\n",
    "print(\"Q3 (75th percentile):\", Q3)\n",
    "print(\"Lower bound:\", lower_bound)\n",
    "print(\"Upper bound:\", upper_bound)\n",
    "print(\"IQR:\", IQR)\n",
    "\n",
    "# Step 4: Flag outliers\n",
    "df['Outlier'] = (df['Maize_Production'] < lower_bound) | (df['Maize_Production'] > upper_bound)\n",
    "\n",
    "# Step 5: Calculate median for annotations\n",
    "median = df['Maize_Production'].median()\n",
    "\n",
    "# Step 6: Visualize box plot with outliers\n",
    "plt.figure(figsize=(12, 8))\n",
    "sns.boxplot( y='Maize_Production', data=df)\n",
    "\n",
    "# Add labels and title\n",
    "plt.title('Box Plot of Maize_Production by AreaUnderCereals_Maize')\n",
    "plt.xlabel('AreaUnderCereals_Maize')\n",
    "plt.ylabel('Maize_Production')\n",
    "\n",
    "# Add annotations for important points\n",
    "plt.text(0, lower_bound, f'Lower Bound\\n{lower_bound:.2f}', color='blue', ha='center', va='bottom')\n",
    "plt.text(0, Q1, f'Q1\\n{Q1:.2f}', color='green', ha='center', va='bottom')\n",
    "plt.text(0, median, f'Median\\n{median:.2f}', color='purple', ha='center', va='bottom')\n",
    "plt.text(0, Q3, f'Q3\\n{Q3:.2f}', color='orange', ha='center', va='bottom')\n",
    "plt.text(0, upper_bound, f'Upper Bound\\n{upper_bound:.2f}', color='red', ha='center', va='bottom')\n",
    "\n",
    "plt.show()\n"
   ]
  },
  {
   "cell_type": "code",
   "execution_count": 238,
   "metadata": {},
   "outputs": [
    {
     "data": {
      "text/plain": [
       "4     593544\n",
       "17    576758\n",
       "Name: Maize_Production, dtype: int64"
      ]
     },
     "execution_count": 238,
     "metadata": {},
     "output_type": "execute_result"
    }
   ],
   "source": [
    "df[df['Outlier']]['Maize_Production']"
   ]
  },
  {
   "cell_type": "code",
   "execution_count": 239,
   "metadata": {},
   "outputs": [
    {
     "data": {
      "text/html": [
       "<div>\n",
       "<style scoped>\n",
       "    .dataframe tbody tr th:only-of-type {\n",
       "        vertical-align: middle;\n",
       "    }\n",
       "\n",
       "    .dataframe tbody tr th {\n",
       "        vertical-align: top;\n",
       "    }\n",
       "\n",
       "    .dataframe thead th {\n",
       "        text-align: right;\n",
       "    }\n",
       "</style>\n",
       "<table border=\"1\" class=\"dataframe\">\n",
       "  <thead>\n",
       "    <tr style=\"text-align: right;\">\n",
       "      <th></th>\n",
       "      <th>SowingSeedsDistributed_Maize</th>\n",
       "      <th>LivestockCensus_2012_Cattle</th>\n",
       "      <th>AreaUnderCereals_Maize</th>\n",
       "      <th>TotalNPK</th>\n",
       "      <th>NetAreaIrrigatedUnderDifferentSources_TubeWells_NetIrrigatedArea</th>\n",
       "      <th>Maize_Production</th>\n",
       "      <th>Outlier</th>\n",
       "    </tr>\n",
       "  </thead>\n",
       "  <tbody>\n",
       "    <tr>\n",
       "      <th>0</th>\n",
       "      <td>4.45</td>\n",
       "      <td>2567.461578</td>\n",
       "      <td>1129.0</td>\n",
       "      <td>438.180210</td>\n",
       "      <td>175.723235</td>\n",
       "      <td>2879</td>\n",
       "      <td>False</td>\n",
       "    </tr>\n",
       "    <tr>\n",
       "      <th>1</th>\n",
       "      <td>134.73</td>\n",
       "      <td>25037.139271</td>\n",
       "      <td>14867.0</td>\n",
       "      <td>3036.080250</td>\n",
       "      <td>3197.193185</td>\n",
       "      <td>42583</td>\n",
       "      <td>False</td>\n",
       "    </tr>\n",
       "    <tr>\n",
       "      <th>2</th>\n",
       "      <td>260.15</td>\n",
       "      <td>7729.614277</td>\n",
       "      <td>1987.0</td>\n",
       "      <td>222.225258</td>\n",
       "      <td>709.859804</td>\n",
       "      <td>10450</td>\n",
       "      <td>False</td>\n",
       "    </tr>\n",
       "    <tr>\n",
       "      <th>3</th>\n",
       "      <td>5004.00</td>\n",
       "      <td>83821.593093</td>\n",
       "      <td>92194.0</td>\n",
       "      <td>10902.406571</td>\n",
       "      <td>28105.507253</td>\n",
       "      <td>271975</td>\n",
       "      <td>False</td>\n",
       "    </tr>\n",
       "    <tr>\n",
       "      <th>4</th>\n",
       "      <td>51.50</td>\n",
       "      <td>2278.829821</td>\n",
       "      <td>640.0</td>\n",
       "      <td>220.782906</td>\n",
       "      <td>200.386108</td>\n",
       "      <td>1759</td>\n",
       "      <td>False</td>\n",
       "    </tr>\n",
       "  </tbody>\n",
       "</table>\n",
       "</div>"
      ],
      "text/plain": [
       "   SowingSeedsDistributed_Maize  LivestockCensus_2012_Cattle  \\\n",
       "0                          4.45                  2567.461578   \n",
       "1                        134.73                 25037.139271   \n",
       "2                        260.15                  7729.614277   \n",
       "3                       5004.00                 83821.593093   \n",
       "4                         51.50                  2278.829821   \n",
       "\n",
       "   AreaUnderCereals_Maize      TotalNPK  \\\n",
       "0                  1129.0    438.180210   \n",
       "1                 14867.0   3036.080250   \n",
       "2                  1987.0    222.225258   \n",
       "3                 92194.0  10902.406571   \n",
       "4                   640.0    220.782906   \n",
       "\n",
       "   NetAreaIrrigatedUnderDifferentSources_TubeWells_NetIrrigatedArea  \\\n",
       "0                                         175.723235                  \n",
       "1                                        3197.193185                  \n",
       "2                                         709.859804                  \n",
       "3                                       28105.507253                  \n",
       "4                                         200.386108                  \n",
       "\n",
       "   Maize_Production  Outlier  \n",
       "0              2879    False  \n",
       "1             42583    False  \n",
       "2             10450    False  \n",
       "3            271975    False  \n",
       "4              1759    False  "
      ]
     },
     "execution_count": 239,
     "metadata": {},
     "output_type": "execute_result"
    }
   ],
   "source": [
    "# Remove outliers from the DataFrame\n",
    "df_cleaned = df[~df['Outlier']]\n",
    "df_cleaned.reset_index(drop=True, inplace=True)\n",
    "df_cleaned.head()"
   ]
  },
  {
   "cell_type": "markdown",
   "metadata": {},
   "source": [
    "Standardizing for all independent variables"
   ]
  },
  {
   "cell_type": "code",
   "execution_count": 240,
   "metadata": {},
   "outputs": [
    {
     "data": {
      "text/html": [
       "<div>\n",
       "<style scoped>\n",
       "    .dataframe tbody tr th:only-of-type {\n",
       "        vertical-align: middle;\n",
       "    }\n",
       "\n",
       "    .dataframe tbody tr th {\n",
       "        vertical-align: top;\n",
       "    }\n",
       "\n",
       "    .dataframe thead th {\n",
       "        text-align: right;\n",
       "    }\n",
       "</style>\n",
       "<table border=\"1\" class=\"dataframe\">\n",
       "  <thead>\n",
       "    <tr style=\"text-align: right;\">\n",
       "      <th></th>\n",
       "      <th>SowingSeedsDistributed_Maize</th>\n",
       "      <th>LivestockCensus_2012_Cattle</th>\n",
       "      <th>AreaUnderCereals_Maize</th>\n",
       "      <th>TotalNPK</th>\n",
       "      <th>NetAreaIrrigatedUnderDifferentSources_TubeWells_NetIrrigatedArea</th>\n",
       "    </tr>\n",
       "  </thead>\n",
       "  <tbody>\n",
       "    <tr>\n",
       "      <th>0</th>\n",
       "      <td>4.450</td>\n",
       "      <td>2567.461578</td>\n",
       "      <td>1129.0</td>\n",
       "      <td>438.180210</td>\n",
       "      <td>175.723235</td>\n",
       "    </tr>\n",
       "    <tr>\n",
       "      <th>1</th>\n",
       "      <td>134.730</td>\n",
       "      <td>25037.139271</td>\n",
       "      <td>14867.0</td>\n",
       "      <td>3036.080250</td>\n",
       "      <td>3197.193185</td>\n",
       "    </tr>\n",
       "    <tr>\n",
       "      <th>2</th>\n",
       "      <td>260.150</td>\n",
       "      <td>7729.614277</td>\n",
       "      <td>1987.0</td>\n",
       "      <td>222.225258</td>\n",
       "      <td>709.859804</td>\n",
       "    </tr>\n",
       "    <tr>\n",
       "      <th>3</th>\n",
       "      <td>5004.000</td>\n",
       "      <td>83821.593093</td>\n",
       "      <td>92194.0</td>\n",
       "      <td>10902.406571</td>\n",
       "      <td>28105.507253</td>\n",
       "    </tr>\n",
       "    <tr>\n",
       "      <th>4</th>\n",
       "      <td>6124.600</td>\n",
       "      <td>85657.632091</td>\n",
       "      <td>173400.0</td>\n",
       "      <td>25702.835480</td>\n",
       "      <td>20213.730878</td>\n",
       "    </tr>\n",
       "    <tr>\n",
       "      <th>5</th>\n",
       "      <td>51.500</td>\n",
       "      <td>2278.829821</td>\n",
       "      <td>640.0</td>\n",
       "      <td>220.782906</td>\n",
       "      <td>200.386108</td>\n",
       "    </tr>\n",
       "    <tr>\n",
       "      <th>6</th>\n",
       "      <td>3538.150</td>\n",
       "      <td>71206.945309</td>\n",
       "      <td>59377.0</td>\n",
       "      <td>8196.896749</td>\n",
       "      <td>14559.991862</td>\n",
       "    </tr>\n",
       "    <tr>\n",
       "      <th>7</th>\n",
       "      <td>3814.020</td>\n",
       "      <td>104722.000363</td>\n",
       "      <td>43827.0</td>\n",
       "      <td>10428.246256</td>\n",
       "      <td>5958.813645</td>\n",
       "    </tr>\n",
       "    <tr>\n",
       "      <th>8</th>\n",
       "      <td>1639.850</td>\n",
       "      <td>37944.093756</td>\n",
       "      <td>24207.0</td>\n",
       "      <td>2746.313635</td>\n",
       "      <td>10417.677296</td>\n",
       "    </tr>\n",
       "    <tr>\n",
       "      <th>9</th>\n",
       "      <td>2923.790</td>\n",
       "      <td>40572.445630</td>\n",
       "      <td>25831.0</td>\n",
       "      <td>8156.290370</td>\n",
       "      <td>3145.789961</td>\n",
       "    </tr>\n",
       "    <tr>\n",
       "      <th>10</th>\n",
       "      <td>0.000</td>\n",
       "      <td>0.000000</td>\n",
       "      <td>0.0</td>\n",
       "      <td>0.000000</td>\n",
       "      <td>0.000000</td>\n",
       "    </tr>\n",
       "    <tr>\n",
       "      <th>11</th>\n",
       "      <td>0.000</td>\n",
       "      <td>94.499008</td>\n",
       "      <td>8.0</td>\n",
       "      <td>2.304863</td>\n",
       "      <td>0.262053</td>\n",
       "    </tr>\n",
       "    <tr>\n",
       "      <th>12</th>\n",
       "      <td>8925.330</td>\n",
       "      <td>151008.140250</td>\n",
       "      <td>79058.0</td>\n",
       "      <td>17039.273894</td>\n",
       "      <td>5824.841580</td>\n",
       "    </tr>\n",
       "    <tr>\n",
       "      <th>13</th>\n",
       "      <td>246.410</td>\n",
       "      <td>7599.582730</td>\n",
       "      <td>3448.0</td>\n",
       "      <td>3519.022414</td>\n",
       "      <td>9.109736</td>\n",
       "    </tr>\n",
       "    <tr>\n",
       "      <th>14</th>\n",
       "      <td>794.030</td>\n",
       "      <td>8774.134623</td>\n",
       "      <td>4892.0</td>\n",
       "      <td>1448.830355</td>\n",
       "      <td>383.392887</td>\n",
       "    </tr>\n",
       "    <tr>\n",
       "      <th>15</th>\n",
       "      <td>1573.430</td>\n",
       "      <td>61547.727444</td>\n",
       "      <td>37283.0</td>\n",
       "      <td>6945.331415</td>\n",
       "      <td>2222.228302</td>\n",
       "    </tr>\n",
       "    <tr>\n",
       "      <th>16</th>\n",
       "      <td>2054.600</td>\n",
       "      <td>80396.926683</td>\n",
       "      <td>38569.0</td>\n",
       "      <td>7289.684770</td>\n",
       "      <td>13496.467160</td>\n",
       "    </tr>\n",
       "    <tr>\n",
       "      <th>17</th>\n",
       "      <td>11883.580</td>\n",
       "      <td>159047.086192</td>\n",
       "      <td>131163.0</td>\n",
       "      <td>48288.815127</td>\n",
       "      <td>37481.297967</td>\n",
       "    </tr>\n",
       "    <tr>\n",
       "      <th>18</th>\n",
       "      <td>2682.760</td>\n",
       "      <td>48619.507080</td>\n",
       "      <td>40207.0</td>\n",
       "      <td>10420.071653</td>\n",
       "      <td>21812.245218</td>\n",
       "    </tr>\n",
       "    <tr>\n",
       "      <th>19</th>\n",
       "      <td>5678.150</td>\n",
       "      <td>75578.051999</td>\n",
       "      <td>44300.0</td>\n",
       "      <td>22940.521254</td>\n",
       "      <td>31781.380297</td>\n",
       "    </tr>\n",
       "    <tr>\n",
       "      <th>20</th>\n",
       "      <td>2471.350</td>\n",
       "      <td>33424.645600</td>\n",
       "      <td>30900.0</td>\n",
       "      <td>6447.725408</td>\n",
       "      <td>3590.483189</td>\n",
       "    </tr>\n",
       "    <tr>\n",
       "      <th>21</th>\n",
       "      <td>4111.000</td>\n",
       "      <td>34261.981768</td>\n",
       "      <td>34163.0</td>\n",
       "      <td>5591.244159</td>\n",
       "      <td>10006.597795</td>\n",
       "    </tr>\n",
       "    <tr>\n",
       "      <th>22</th>\n",
       "      <td>11325.600</td>\n",
       "      <td>95150.640269</td>\n",
       "      <td>170696.0</td>\n",
       "      <td>21731.170722</td>\n",
       "      <td>21067.544411</td>\n",
       "    </tr>\n",
       "    <tr>\n",
       "      <th>23</th>\n",
       "      <td>1469.200</td>\n",
       "      <td>22563.771076</td>\n",
       "      <td>4576.0</td>\n",
       "      <td>1025.616827</td>\n",
       "      <td>566.513342</td>\n",
       "    </tr>\n",
       "    <tr>\n",
       "      <th>24</th>\n",
       "      <td>2859.005</td>\n",
       "      <td>23446.847903</td>\n",
       "      <td>49869.5</td>\n",
       "      <td>8404.154608</td>\n",
       "      <td>10248.613355</td>\n",
       "    </tr>\n",
       "    <tr>\n",
       "      <th>25</th>\n",
       "      <td>24.550</td>\n",
       "      <td>2371.831678</td>\n",
       "      <td>1382.0</td>\n",
       "      <td>249.381182</td>\n",
       "      <td>201.341576</td>\n",
       "    </tr>\n",
       "    <tr>\n",
       "      <th>26</th>\n",
       "      <td>165.000</td>\n",
       "      <td>6221.617910</td>\n",
       "      <td>2634.0</td>\n",
       "      <td>710.101614</td>\n",
       "      <td>641.759643</td>\n",
       "    </tr>\n",
       "    <tr>\n",
       "      <th>27</th>\n",
       "      <td>0.000</td>\n",
       "      <td>1253.317144</td>\n",
       "      <td>961.0</td>\n",
       "      <td>368.617469</td>\n",
       "      <td>88.878158</td>\n",
       "    </tr>\n",
       "    <tr>\n",
       "      <th>28</th>\n",
       "      <td>14.350</td>\n",
       "      <td>188.537479</td>\n",
       "      <td>2600.0</td>\n",
       "      <td>61.547519</td>\n",
       "      <td>13.949581</td>\n",
       "    </tr>\n",
       "    <tr>\n",
       "      <th>29</th>\n",
       "      <td>5292.000</td>\n",
       "      <td>38936.400172</td>\n",
       "      <td>48210.0</td>\n",
       "      <td>10997.550403</td>\n",
       "      <td>12343.237178</td>\n",
       "    </tr>\n",
       "    <tr>\n",
       "      <th>30</th>\n",
       "      <td>2859.005</td>\n",
       "      <td>23446.847903</td>\n",
       "      <td>49869.5</td>\n",
       "      <td>8404.154608</td>\n",
       "      <td>10248.613355</td>\n",
       "    </tr>\n",
       "  </tbody>\n",
       "</table>\n",
       "</div>"
      ],
      "text/plain": [
       "    SowingSeedsDistributed_Maize  LivestockCensus_2012_Cattle  \\\n",
       "0                          4.450                  2567.461578   \n",
       "1                        134.730                 25037.139271   \n",
       "2                        260.150                  7729.614277   \n",
       "3                       5004.000                 83821.593093   \n",
       "4                       6124.600                 85657.632091   \n",
       "5                         51.500                  2278.829821   \n",
       "6                       3538.150                 71206.945309   \n",
       "7                       3814.020                104722.000363   \n",
       "8                       1639.850                 37944.093756   \n",
       "9                       2923.790                 40572.445630   \n",
       "10                         0.000                     0.000000   \n",
       "11                         0.000                    94.499008   \n",
       "12                      8925.330                151008.140250   \n",
       "13                       246.410                  7599.582730   \n",
       "14                       794.030                  8774.134623   \n",
       "15                      1573.430                 61547.727444   \n",
       "16                      2054.600                 80396.926683   \n",
       "17                     11883.580                159047.086192   \n",
       "18                      2682.760                 48619.507080   \n",
       "19                      5678.150                 75578.051999   \n",
       "20                      2471.350                 33424.645600   \n",
       "21                      4111.000                 34261.981768   \n",
       "22                     11325.600                 95150.640269   \n",
       "23                      1469.200                 22563.771076   \n",
       "24                      2859.005                 23446.847903   \n",
       "25                        24.550                  2371.831678   \n",
       "26                       165.000                  6221.617910   \n",
       "27                         0.000                  1253.317144   \n",
       "28                        14.350                   188.537479   \n",
       "29                      5292.000                 38936.400172   \n",
       "30                      2859.005                 23446.847903   \n",
       "\n",
       "    AreaUnderCereals_Maize      TotalNPK  \\\n",
       "0                   1129.0    438.180210   \n",
       "1                  14867.0   3036.080250   \n",
       "2                   1987.0    222.225258   \n",
       "3                  92194.0  10902.406571   \n",
       "4                 173400.0  25702.835480   \n",
       "5                    640.0    220.782906   \n",
       "6                  59377.0   8196.896749   \n",
       "7                  43827.0  10428.246256   \n",
       "8                  24207.0   2746.313635   \n",
       "9                  25831.0   8156.290370   \n",
       "10                     0.0      0.000000   \n",
       "11                     8.0      2.304863   \n",
       "12                 79058.0  17039.273894   \n",
       "13                  3448.0   3519.022414   \n",
       "14                  4892.0   1448.830355   \n",
       "15                 37283.0   6945.331415   \n",
       "16                 38569.0   7289.684770   \n",
       "17                131163.0  48288.815127   \n",
       "18                 40207.0  10420.071653   \n",
       "19                 44300.0  22940.521254   \n",
       "20                 30900.0   6447.725408   \n",
       "21                 34163.0   5591.244159   \n",
       "22                170696.0  21731.170722   \n",
       "23                  4576.0   1025.616827   \n",
       "24                 49869.5   8404.154608   \n",
       "25                  1382.0    249.381182   \n",
       "26                  2634.0    710.101614   \n",
       "27                   961.0    368.617469   \n",
       "28                  2600.0     61.547519   \n",
       "29                 48210.0  10997.550403   \n",
       "30                 49869.5   8404.154608   \n",
       "\n",
       "    NetAreaIrrigatedUnderDifferentSources_TubeWells_NetIrrigatedArea  \n",
       "0                                          175.723235                 \n",
       "1                                         3197.193185                 \n",
       "2                                          709.859804                 \n",
       "3                                        28105.507253                 \n",
       "4                                        20213.730878                 \n",
       "5                                          200.386108                 \n",
       "6                                        14559.991862                 \n",
       "7                                         5958.813645                 \n",
       "8                                        10417.677296                 \n",
       "9                                         3145.789961                 \n",
       "10                                           0.000000                 \n",
       "11                                           0.262053                 \n",
       "12                                        5824.841580                 \n",
       "13                                           9.109736                 \n",
       "14                                         383.392887                 \n",
       "15                                        2222.228302                 \n",
       "16                                       13496.467160                 \n",
       "17                                       37481.297967                 \n",
       "18                                       21812.245218                 \n",
       "19                                       31781.380297                 \n",
       "20                                        3590.483189                 \n",
       "21                                       10006.597795                 \n",
       "22                                       21067.544411                 \n",
       "23                                         566.513342                 \n",
       "24                                       10248.613355                 \n",
       "25                                         201.341576                 \n",
       "26                                         641.759643                 \n",
       "27                                          88.878158                 \n",
       "28                                          13.949581                 \n",
       "29                                       12343.237178                 \n",
       "30                                       10248.613355                 "
      ]
     },
     "execution_count": 240,
     "metadata": {},
     "output_type": "execute_result"
    }
   ],
   "source": [
    "Case_file"
   ]
  },
  {
   "cell_type": "code",
   "execution_count": 241,
   "metadata": {},
   "outputs": [
    {
     "name": "stdout",
     "output_type": "stream",
     "text": [
      "Outliers in SowingSeedsDistributed_Maize:\n",
      "17    11883.58\n",
      "22    11325.60\n",
      "Name: SowingSeedsDistributed_Maize, dtype: float64\n",
      "\n"
     ]
    }
   ],
   "source": [
    "import pandas as pd\n",
    "\n",
    "column = 'SowingSeedsDistributed_Maize'\n",
    "Q1 = Case_file[column].quantile(0.25)  # First Quartile (25th percentile)\n",
    "Q3 = Case_file[column].quantile(0.75)  # Third Quartile (75th percentile)\n",
    "IQR = Q3 - Q1  # Interquartile Range\n",
    "\n",
    "lower_bound = Q1 - 1.5 * IQR\n",
    "upper_bound = Q3 + 1.5 * IQR\n",
    "\n",
    "outlier_mask = (Case_file[column] < lower_bound) | (Case_file[column] > upper_bound)\n",
    "\n",
    "outliers = Case_file[outlier_mask][column]\n",
    "print(f\"Outliers in {column}:\\n{outliers}\\n\")\n",
    "\n",
    "X1_clean = Case_file[~outlier_mask][column].reset_index(drop=True)"
   ]
  },
  {
   "cell_type": "code",
   "execution_count": 242,
   "metadata": {},
   "outputs": [
    {
     "name": "stdout",
     "output_type": "stream",
     "text": [
      "Outliers in LivestockCensus_2012_Cattle:\n",
      "Series([], Name: LivestockCensus_2012_Cattle, dtype: float64)\n",
      "\n"
     ]
    }
   ],
   "source": [
    "column = 'LivestockCensus_2012_Cattle'\n",
    "Q1 = Case_file[column].quantile(0.25)  # First Quartile (25th percentile)\n",
    "Q3 = Case_file[column].quantile(0.75)  # Third Quartile (75th percentile)\n",
    "IQR = Q3 - Q1  # Interquartile Range\n",
    "\n",
    "lower_bound = Q1 - 1.5 * IQR\n",
    "upper_bound = Q3 + 1.5 * IQR\n",
    "outlier_mask = (Case_file[column] < lower_bound) | (Case_file[column] > upper_bound)\n",
    "\n",
    "outliers = Case_file[outlier_mask][column]\n",
    "print(f\"Outliers in {column}:\\n{outliers}\\n\")\n",
    "\n",
    "X2_clean = Case_file[~outlier_mask][column].reset_index(drop=True)"
   ]
  },
  {
   "cell_type": "code",
   "execution_count": 243,
   "metadata": {},
   "outputs": [
    {
     "data": {
      "text/plain": [
       "Index(['SowingSeedsDistributed_Maize', 'LivestockCensus_2012_Cattle',\n",
       "       'AreaUnderCereals_Maize', 'TotalNPK',\n",
       "       'NetAreaIrrigatedUnderDifferentSources_TubeWells_NetIrrigatedArea'],\n",
       "      dtype='object')"
      ]
     },
     "execution_count": 243,
     "metadata": {},
     "output_type": "execute_result"
    }
   ],
   "source": [
    "Case_file.columns"
   ]
  },
  {
   "cell_type": "code",
   "execution_count": 244,
   "metadata": {},
   "outputs": [
    {
     "name": "stdout",
     "output_type": "stream",
     "text": [
      "Outliers in AreaUnderCereals_Maize:\n",
      "4     173400.0\n",
      "17    131163.0\n",
      "22    170696.0\n",
      "Name: AreaUnderCereals_Maize, dtype: float64\n",
      "\n"
     ]
    }
   ],
   "source": [
    "column = 'AreaUnderCereals_Maize'\n",
    "Q1 = Case_file[column].quantile(0.25)  # First Quartile (25th percentile)\n",
    "Q3 = Case_file[column].quantile(0.75)  # Third Quartile (75th percentile)\n",
    "IQR = Q3 - Q1  # Interquartile Range\n",
    "\n",
    "lower_bound = Q1 - 1.5 * IQR\n",
    "upper_bound = Q3 + 1.5 * IQR\n",
    "outlier_mask = (Case_file[column] < lower_bound) | (Case_file[column] > upper_bound)\n",
    "\n",
    "outliers = Case_file[outlier_mask][column]\n",
    "print(f\"Outliers in {column}:\\n{outliers}\\n\")\n",
    "\n",
    "X3_clean = Case_file[~outlier_mask][column].reset_index(drop=True)"
   ]
  },
  {
   "cell_type": "code",
   "execution_count": 245,
   "metadata": {},
   "outputs": [
    {
     "name": "stdout",
     "output_type": "stream",
     "text": [
      "Outliers in TotalNPK:\n",
      "4     25702.835480\n",
      "17    48288.815127\n",
      "Name: TotalNPK, dtype: float64\n",
      "\n"
     ]
    }
   ],
   "source": [
    "column = 'TotalNPK'\n",
    "Q1 = Case_file[column].quantile(0.25)  # First Quartile (25th percentile)\n",
    "Q3 = Case_file[column].quantile(0.75)  # Third Quartile (75th percentile)\n",
    "IQR = Q3 - Q1  # Interquartile Range\n",
    "\n",
    "lower_bound = Q1 - 1.5 * IQR\n",
    "upper_bound = Q3 + 1.5 * IQR\n",
    "outlier_mask = (Case_file[column] < lower_bound) | (Case_file[column] > upper_bound)\n",
    "\n",
    "outliers = Case_file[outlier_mask][column]\n",
    "print(f\"Outliers in {column}:\\n{outliers}\\n\")\n",
    "\n",
    "X4_clean = Case_file[~outlier_mask][column].reset_index(drop=True)"
   ]
  },
  {
   "cell_type": "code",
   "execution_count": 246,
   "metadata": {},
   "outputs": [
    {
     "name": "stdout",
     "output_type": "stream",
     "text": [
      "Outliers in NetAreaIrrigatedUnderDifferentSources_TubeWells_NetIrrigatedArea:\n",
      "17    37481.297967\n",
      "Name: NetAreaIrrigatedUnderDifferentSources_TubeWells_NetIrrigatedArea, dtype: float64\n",
      "\n"
     ]
    }
   ],
   "source": [
    "column = 'NetAreaIrrigatedUnderDifferentSources_TubeWells_NetIrrigatedArea'\n",
    "Q1 = Case_file[column].quantile(0.25)  # First Quartile (25th percentile)\n",
    "Q3 = Case_file[column].quantile(0.75)  # Third Quartile (75th percentile)\n",
    "IQR = Q3 - Q1  # Interquartile Range\n",
    "\n",
    "lower_bound = Q1 - 1.5 * IQR\n",
    "upper_bound = Q3 + 1.5 * IQR\n",
    "outlier_mask = (Case_file[column] < lower_bound) | (Case_file[column] > upper_bound)\n",
    "\n",
    "outliers = Case_file[outlier_mask][column]\n",
    "print(f\"Outliers in {column}:\\n{outliers}\\n\")\n",
    "\n",
    "X5_clean = Case_file[~outlier_mask][column].reset_index(drop=True)"
   ]
  },
  {
   "cell_type": "code",
   "execution_count": 247,
   "metadata": {},
   "outputs": [
    {
     "name": "stdout",
     "output_type": "stream",
     "text": [
      "Outliers in NetAreaIrrigatedUnderDifferentSources_TubeWells_NetIrrigatedArea:\n",
      "17    37481.297967\n",
      "Name: NetAreaIrrigatedUnderDifferentSources_TubeWells_NetIrrigatedArea, dtype: float64\n",
      "\n"
     ]
    },
    {
     "data": {
      "text/plain": [
       "0      175.723235\n",
       "1     3197.193185\n",
       "2      709.859804\n",
       "3    28105.507253\n",
       "4    20213.730878\n",
       "Name: NetAreaIrrigatedUnderDifferentSources_TubeWells_NetIrrigatedArea, dtype: float64"
      ]
     },
     "execution_count": 247,
     "metadata": {},
     "output_type": "execute_result"
    }
   ],
   "source": [
    "def remove_outliers_from_column(df, column):\n",
    "    Q1 = df[column].quantile(0.25)  # First Quartile (25th percentile)\n",
    "    Q3 = df[column].quantile(0.75)  # Third Quartile (75th percentile)\n",
    "    IQR = Q3 - Q1  # Interquartile Range\n",
    "\n",
    "    lower_bound = Q1 - 1.5 * IQR\n",
    "    upper_bound = Q3 + 1.5 * IQR\n",
    "\n",
    "    # Create a mask for outliers\n",
    "    outlier_mask = (df[column] < lower_bound) | (df[column] > upper_bound)\n",
    "\n",
    "    # Print outliers for the current column\n",
    "    outliers = df[outlier_mask][column]\n",
    "    print(f\"Outliers in {column}:\\n{outliers}\\n\")\n",
    "\n",
    "    # Return Series without outliers\n",
    "    return df[~outlier_mask][column].reset_index(drop=True)\n",
    "\n",
    "X5_clean = remove_outliers_from_column(Case_file, 'NetAreaIrrigatedUnderDifferentSources_TubeWells_NetIrrigatedArea')\n",
    "X5_clean.head()"
   ]
  },
  {
   "cell_type": "code",
   "execution_count": 248,
   "metadata": {},
   "outputs": [],
   "source": [
    "X1_mean = X1_clean.mean()\n",
    "X1_std = X1_clean.std()\n",
    "X1_median = X1_clean.median()\n",
    "\n",
    "X2_mean = X2_clean.mean()\n",
    "X2_std = X2_clean.std()\n",
    "X2_median = X2_clean.median()\n",
    "\n",
    "X3_mean = X3_clean.mean()\n",
    "X3_std = X3_clean.std()\n",
    "X3_median = X3_clean.median()\n",
    "\n",
    "X4_mean = X4_clean.mean()\n",
    "X4_std = X4_clean.std()\n",
    "X4_median = X4_clean.median()\n",
    "\n",
    "X5_mean = X5_clean.mean()\n",
    "X5_std = X5_clean.std()\n",
    "X5_median = X5_clean.median()\n",
    "\n",
    "print(f'X1: Mean = {X1_mean}, Std = {X1_std}, Median = {X1_median}')\n",
    "print(f'X2: Mean = {X2_mean}, Std = {X2_std}, Median = {X2_median}')\n",
    "print(f'X3: Mean = {X3_mean}, Std = {X3_std}, Median = {X3_median}')\n",
    "print(f'X4: Mean = {X4_mean}, Std = {X4_std}, Median = {X4_median}')\n",
    "print(f'X5: Mean = {X5_mean}, Std = {X5_std}, Median = {X5_median}')"
   ]
  },
  {
   "cell_type": "code",
   "execution_count": 249,
   "metadata": {},
   "outputs": [
    {
     "data": {
      "text/html": [
       "<div>\n",
       "<style scoped>\n",
       "    .dataframe tbody tr th:only-of-type {\n",
       "        vertical-align: middle;\n",
       "    }\n",
       "\n",
       "    .dataframe tbody tr th {\n",
       "        vertical-align: top;\n",
       "    }\n",
       "\n",
       "    .dataframe thead th {\n",
       "        text-align: right;\n",
       "    }\n",
       "</style>\n",
       "<table border=\"1\" class=\"dataframe\">\n",
       "  <thead>\n",
       "    <tr style=\"text-align: right;\">\n",
       "      <th></th>\n",
       "      <th>SowingSeedsDistributed_Maize</th>\n",
       "      <th>LivestockCensus_2012_Cattle</th>\n",
       "      <th>AreaUnderCereals_Maize</th>\n",
       "      <th>TotalNPK</th>\n",
       "      <th>NetAreaIrrigatedUnderDifferentSources_TubeWells_NetIrrigatedArea</th>\n",
       "    </tr>\n",
       "  </thead>\n",
       "  <tbody>\n",
       "    <tr>\n",
       "      <th>0</th>\n",
       "      <td>-0.954112</td>\n",
       "      <td>-0.923517</td>\n",
       "      <td>-0.969564</td>\n",
       "      <td>-0.894300</td>\n",
       "      <td>-0.824518</td>\n",
       "    </tr>\n",
       "    <tr>\n",
       "      <th>1</th>\n",
       "      <td>-0.898299</td>\n",
       "      <td>-0.411298</td>\n",
       "      <td>-0.440831</td>\n",
       "      <td>-0.486547</td>\n",
       "      <td>-0.493762</td>\n",
       "    </tr>\n",
       "    <tr>\n",
       "      <th>2</th>\n",
       "      <td>-0.844569</td>\n",
       "      <td>-0.805840</td>\n",
       "      <td>-0.936542</td>\n",
       "      <td>-0.928196</td>\n",
       "      <td>-0.766046</td>\n",
       "    </tr>\n",
       "    <tr>\n",
       "      <th>3</th>\n",
       "      <td>1.187731</td>\n",
       "      <td>0.928753</td>\n",
       "      <td>2.535248</td>\n",
       "      <td>0.748113</td>\n",
       "      <td>2.232911</td>\n",
       "    </tr>\n",
       "    <tr>\n",
       "      <th>4</th>\n",
       "      <td>1.667804</td>\n",
       "      <td>0.970607</td>\n",
       "      <td>5.660616</td>\n",
       "      <td>3.071116</td>\n",
       "      <td>1.369011</td>\n",
       "    </tr>\n",
       "    <tr>\n",
       "      <th>5</th>\n",
       "      <td>-0.933956</td>\n",
       "      <td>-0.930096</td>\n",
       "      <td>-0.988384</td>\n",
       "      <td>-0.928422</td>\n",
       "      <td>-0.821818</td>\n",
       "    </tr>\n",
       "    <tr>\n",
       "      <th>6</th>\n",
       "      <td>0.559750</td>\n",
       "      <td>0.641189</td>\n",
       "      <td>1.272222</td>\n",
       "      <td>0.323470</td>\n",
       "      <td>0.750105</td>\n",
       "    </tr>\n",
       "    <tr>\n",
       "      <th>7</th>\n",
       "      <td>0.677935</td>\n",
       "      <td>1.405199</td>\n",
       "      <td>0.673751</td>\n",
       "      <td>0.673691</td>\n",
       "      <td>-0.191452</td>\n",
       "    </tr>\n",
       "    <tr>\n",
       "      <th>8</th>\n",
       "      <td>-0.253495</td>\n",
       "      <td>-0.117071</td>\n",
       "      <td>-0.081363</td>\n",
       "      <td>-0.532027</td>\n",
       "      <td>0.296653</td>\n",
       "    </tr>\n",
       "    <tr>\n",
       "      <th>9</th>\n",
       "      <td>0.296554</td>\n",
       "      <td>-0.057155</td>\n",
       "      <td>-0.018860</td>\n",
       "      <td>0.317096</td>\n",
       "      <td>-0.499389</td>\n",
       "    </tr>\n",
       "    <tr>\n",
       "      <th>10</th>\n",
       "      <td>-0.956019</td>\n",
       "      <td>-0.982044</td>\n",
       "      <td>-1.013016</td>\n",
       "      <td>-0.963075</td>\n",
       "      <td>-0.843754</td>\n",
       "    </tr>\n",
       "    <tr>\n",
       "      <th>11</th>\n",
       "      <td>-0.956019</td>\n",
       "      <td>-0.979890</td>\n",
       "      <td>-1.012708</td>\n",
       "      <td>-0.962713</td>\n",
       "      <td>-0.843725</td>\n",
       "    </tr>\n",
       "    <tr>\n",
       "      <th>12</th>\n",
       "      <td>2.867656</td>\n",
       "      <td>2.460338</td>\n",
       "      <td>2.029683</td>\n",
       "      <td>1.711326</td>\n",
       "      <td>-0.206118</td>\n",
       "    </tr>\n",
       "    <tr>\n",
       "      <th>13</th>\n",
       "      <td>-0.850455</td>\n",
       "      <td>-0.808804</td>\n",
       "      <td>-0.880313</td>\n",
       "      <td>-0.410746</td>\n",
       "      <td>-0.842756</td>\n",
       "    </tr>\n",
       "    <tr>\n",
       "      <th>14</th>\n",
       "      <td>-0.615851</td>\n",
       "      <td>-0.782029</td>\n",
       "      <td>-0.824738</td>\n",
       "      <td>-0.735674</td>\n",
       "      <td>-0.801784</td>\n",
       "    </tr>\n",
       "    <tr>\n",
       "      <th>15</th>\n",
       "      <td>-0.281950</td>\n",
       "      <td>0.420998</td>\n",
       "      <td>0.421892</td>\n",
       "      <td>0.127030</td>\n",
       "      <td>-0.600490</td>\n",
       "    </tr>\n",
       "    <tr>\n",
       "      <th>16</th>\n",
       "      <td>-0.075813</td>\n",
       "      <td>0.850684</td>\n",
       "      <td>0.471386</td>\n",
       "      <td>0.181078</td>\n",
       "      <td>0.633683</td>\n",
       "    </tr>\n",
       "    <tr>\n",
       "      <th>17</th>\n",
       "      <td>4.134992</td>\n",
       "      <td>2.643594</td>\n",
       "      <td>4.035044</td>\n",
       "      <td>6.616101</td>\n",
       "      <td>3.259264</td>\n",
       "    </tr>\n",
       "    <tr>\n",
       "      <th>18</th>\n",
       "      <td>0.193295</td>\n",
       "      <td>0.126286</td>\n",
       "      <td>0.534428</td>\n",
       "      <td>0.672408</td>\n",
       "      <td>1.543998</td>\n",
       "    </tr>\n",
       "    <tr>\n",
       "      <th>19</th>\n",
       "      <td>1.476541</td>\n",
       "      <td>0.740833</td>\n",
       "      <td>0.691955</td>\n",
       "      <td>2.637557</td>\n",
       "      <td>2.635303</td>\n",
       "    </tr>\n",
       "    <tr>\n",
       "      <th>20</th>\n",
       "      <td>0.102725</td>\n",
       "      <td>-0.220096</td>\n",
       "      <td>0.176230</td>\n",
       "      <td>0.048928</td>\n",
       "      <td>-0.450709</td>\n",
       "    </tr>\n",
       "    <tr>\n",
       "      <th>21</th>\n",
       "      <td>0.805163</td>\n",
       "      <td>-0.201008</td>\n",
       "      <td>0.301813</td>\n",
       "      <td>-0.085501</td>\n",
       "      <td>0.251653</td>\n",
       "    </tr>\n",
       "    <tr>\n",
       "      <th>22</th>\n",
       "      <td>3.895949</td>\n",
       "      <td>1.187010</td>\n",
       "      <td>5.556548</td>\n",
       "      <td>2.447743</td>\n",
       "      <td>1.462477</td>\n",
       "    </tr>\n",
       "    <tr>\n",
       "      <th>23</th>\n",
       "      <td>-0.326603</td>\n",
       "      <td>-0.467681</td>\n",
       "      <td>-0.836899</td>\n",
       "      <td>-0.802099</td>\n",
       "      <td>-0.781738</td>\n",
       "    </tr>\n",
       "    <tr>\n",
       "      <th>24</th>\n",
       "      <td>0.268799</td>\n",
       "      <td>-0.447550</td>\n",
       "      <td>0.906308</td>\n",
       "      <td>0.356000</td>\n",
       "      <td>0.278146</td>\n",
       "    </tr>\n",
       "    <tr>\n",
       "      <th>25</th>\n",
       "      <td>-0.945501</td>\n",
       "      <td>-0.927976</td>\n",
       "      <td>-0.959827</td>\n",
       "      <td>-0.923933</td>\n",
       "      <td>-0.821713</td>\n",
       "    </tr>\n",
       "    <tr>\n",
       "      <th>26</th>\n",
       "      <td>-0.885332</td>\n",
       "      <td>-0.840216</td>\n",
       "      <td>-0.911641</td>\n",
       "      <td>-0.851621</td>\n",
       "      <td>-0.773501</td>\n",
       "    </tr>\n",
       "    <tr>\n",
       "      <th>27</th>\n",
       "      <td>-0.956019</td>\n",
       "      <td>-0.953474</td>\n",
       "      <td>-0.976030</td>\n",
       "      <td>-0.905219</td>\n",
       "      <td>-0.834024</td>\n",
       "    </tr>\n",
       "    <tr>\n",
       "      <th>28</th>\n",
       "      <td>-0.949871</td>\n",
       "      <td>-0.977746</td>\n",
       "      <td>-0.912950</td>\n",
       "      <td>-0.953415</td>\n",
       "      <td>-0.842227</td>\n",
       "    </tr>\n",
       "    <tr>\n",
       "      <th>29</th>\n",
       "      <td>1.311112</td>\n",
       "      <td>-0.094450</td>\n",
       "      <td>0.842439</td>\n",
       "      <td>0.763047</td>\n",
       "      <td>0.507441</td>\n",
       "    </tr>\n",
       "    <tr>\n",
       "      <th>30</th>\n",
       "      <td>0.268799</td>\n",
       "      <td>-0.447550</td>\n",
       "      <td>0.906308</td>\n",
       "      <td>0.356000</td>\n",
       "      <td>0.278146</td>\n",
       "    </tr>\n",
       "  </tbody>\n",
       "</table>\n",
       "</div>"
      ],
      "text/plain": [
       "    SowingSeedsDistributed_Maize  LivestockCensus_2012_Cattle  \\\n",
       "0                      -0.954112                    -0.923517   \n",
       "1                      -0.898299                    -0.411298   \n",
       "2                      -0.844569                    -0.805840   \n",
       "3                       1.187731                     0.928753   \n",
       "4                       1.667804                     0.970607   \n",
       "5                      -0.933956                    -0.930096   \n",
       "6                       0.559750                     0.641189   \n",
       "7                       0.677935                     1.405199   \n",
       "8                      -0.253495                    -0.117071   \n",
       "9                       0.296554                    -0.057155   \n",
       "10                     -0.956019                    -0.982044   \n",
       "11                     -0.956019                    -0.979890   \n",
       "12                      2.867656                     2.460338   \n",
       "13                     -0.850455                    -0.808804   \n",
       "14                     -0.615851                    -0.782029   \n",
       "15                     -0.281950                     0.420998   \n",
       "16                     -0.075813                     0.850684   \n",
       "17                      4.134992                     2.643594   \n",
       "18                      0.193295                     0.126286   \n",
       "19                      1.476541                     0.740833   \n",
       "20                      0.102725                    -0.220096   \n",
       "21                      0.805163                    -0.201008   \n",
       "22                      3.895949                     1.187010   \n",
       "23                     -0.326603                    -0.467681   \n",
       "24                      0.268799                    -0.447550   \n",
       "25                     -0.945501                    -0.927976   \n",
       "26                     -0.885332                    -0.840216   \n",
       "27                     -0.956019                    -0.953474   \n",
       "28                     -0.949871                    -0.977746   \n",
       "29                      1.311112                    -0.094450   \n",
       "30                      0.268799                    -0.447550   \n",
       "\n",
       "    AreaUnderCereals_Maize  TotalNPK  \\\n",
       "0                -0.969564 -0.894300   \n",
       "1                -0.440831 -0.486547   \n",
       "2                -0.936542 -0.928196   \n",
       "3                 2.535248  0.748113   \n",
       "4                 5.660616  3.071116   \n",
       "5                -0.988384 -0.928422   \n",
       "6                 1.272222  0.323470   \n",
       "7                 0.673751  0.673691   \n",
       "8                -0.081363 -0.532027   \n",
       "9                -0.018860  0.317096   \n",
       "10               -1.013016 -0.963075   \n",
       "11               -1.012708 -0.962713   \n",
       "12                2.029683  1.711326   \n",
       "13               -0.880313 -0.410746   \n",
       "14               -0.824738 -0.735674   \n",
       "15                0.421892  0.127030   \n",
       "16                0.471386  0.181078   \n",
       "17                4.035044  6.616101   \n",
       "18                0.534428  0.672408   \n",
       "19                0.691955  2.637557   \n",
       "20                0.176230  0.048928   \n",
       "21                0.301813 -0.085501   \n",
       "22                5.556548  2.447743   \n",
       "23               -0.836899 -0.802099   \n",
       "24                0.906308  0.356000   \n",
       "25               -0.959827 -0.923933   \n",
       "26               -0.911641 -0.851621   \n",
       "27               -0.976030 -0.905219   \n",
       "28               -0.912950 -0.953415   \n",
       "29                0.842439  0.763047   \n",
       "30                0.906308  0.356000   \n",
       "\n",
       "    NetAreaIrrigatedUnderDifferentSources_TubeWells_NetIrrigatedArea  \n",
       "0                                           -0.824518                 \n",
       "1                                           -0.493762                 \n",
       "2                                           -0.766046                 \n",
       "3                                            2.232911                 \n",
       "4                                            1.369011                 \n",
       "5                                           -0.821818                 \n",
       "6                                            0.750105                 \n",
       "7                                           -0.191452                 \n",
       "8                                            0.296653                 \n",
       "9                                           -0.499389                 \n",
       "10                                          -0.843754                 \n",
       "11                                          -0.843725                 \n",
       "12                                          -0.206118                 \n",
       "13                                          -0.842756                 \n",
       "14                                          -0.801784                 \n",
       "15                                          -0.600490                 \n",
       "16                                           0.633683                 \n",
       "17                                           3.259264                 \n",
       "18                                           1.543998                 \n",
       "19                                           2.635303                 \n",
       "20                                          -0.450709                 \n",
       "21                                           0.251653                 \n",
       "22                                           1.462477                 \n",
       "23                                          -0.781738                 \n",
       "24                                           0.278146                 \n",
       "25                                          -0.821713                 \n",
       "26                                          -0.773501                 \n",
       "27                                          -0.834024                 \n",
       "28                                          -0.842227                 \n",
       "29                                           0.507441                 \n",
       "30                                           0.278146                 "
      ]
     },
     "execution_count": 249,
     "metadata": {},
     "output_type": "execute_result"
    }
   ],
   "source": [
    "import pandas as pd\n",
    "\n",
    "# Assuming Case_file is your DataFrame and you've already calculated the means and standard deviations\n",
    "Case_file_stan = pd.DataFrame()\n",
    "\n",
    "Case_file_stan['SowingSeedsDistributed_Maize'] = (Case_file['SowingSeedsDistributed_Maize'] - X1_mean) / X1_std\n",
    "Case_file_stan['LivestockCensus_2012_Cattle'] = (Case_file['LivestockCensus_2012_Cattle'] - X2_mean) / X2_std\n",
    "Case_file_stan['AreaUnderCereals_Maize'] = (Case_file['AreaUnderCereals_Maize'] - X3_mean) / X3_std\n",
    "Case_file_stan['TotalNPK'] = (Case_file['TotalNPK'] - X4_mean) / X4_std\n",
    "Case_file_stan['NetAreaIrrigatedUnderDifferentSources_TubeWells_NetIrrigatedArea'] = (Case_file['NetAreaIrrigatedUnderDifferentSources_TubeWells_NetIrrigatedArea'] - X5_mean) / X5_std\n",
    "Case_file_stan"
   ]
  },
  {
   "cell_type": "markdown",
   "metadata": {},
   "source": [
    "Calculating delta over dependent variable"
   ]
  },
  {
   "cell_type": "code",
   "execution_count": 250,
   "metadata": {},
   "outputs": [
    {
     "name": "stdout",
     "output_type": "stream",
     "text": [
      "4     593544\n",
      "17    576758\n",
      "Name: Maize_Production, dtype: int64\n"
     ]
    },
    {
     "data": {
      "text/plain": [
       "0      2879\n",
       "1     42583\n",
       "2     10450\n",
       "3    271975\n",
       "4      1759\n",
       "Name: Maize_Production, dtype: int64"
      ]
     },
     "execution_count": 250,
     "metadata": {},
     "output_type": "execute_result"
    }
   ],
   "source": [
    "y = Working_Directory['Maize_Production']\n",
    "\n",
    "Q1 = y.quantile(0.25)\n",
    "Q3 = y.quantile(0.75)\n",
    "IQR = Q3 - Q1\n",
    "\n",
    "lower_bound = Q1 - 1.5 * IQR\n",
    "upper_bound = Q3 + 1.5 * IQR\n",
    "\n",
    "y_cleaned = y[(y >= lower_bound) & (y <= upper_bound)].reset_index(drop=True)\n",
    "\n",
    "outliers = y[(y < lower_bound) | (y > upper_bound)]\n",
    "print(outliers)\n",
    "\n",
    "y_cleaned.head()"
   ]
  },
  {
   "cell_type": "code",
   "execution_count": 251,
   "metadata": {},
   "outputs": [
    {
     "name": "stdout",
     "output_type": "stream",
     "text": [
      "Mean: 103798.10344827586\n",
      "Standard Deviation: 113172.42594672735\n"
     ]
    }
   ],
   "source": [
    "mean_y = y_cleaned.mean()\n",
    "std_y = y_cleaned.std()\n",
    "median_y = y_cleaned.median()\n",
    "\n",
    "print(f'Mean: {mean_y}')\n",
    "print(f'Standard Deviation: {std_y}')"
   ]
  },
  {
   "cell_type": "code",
   "execution_count": 252,
   "metadata": {},
   "outputs": [
    {
     "name": "stdout",
     "output_type": "stream",
     "text": [
      "Mean: 31055.025583982213\n",
      "Standard Deviation: 162508.37904053685\n"
     ]
    }
   ],
   "source": [
    "y_dev = y - mean_y \n",
    "\n",
    "mean_y_dev = y_dev.mean()\n",
    "std_y_dev = y_dev.std()\n",
    "\n",
    "print(f'Mean: {mean_y_dev}')\n",
    "print(f'Standard Deviation: {std_y_dev}')"
   ]
  },
  {
   "cell_type": "code",
   "execution_count": 253,
   "metadata": {},
   "outputs": [
    {
     "data": {
      "text/plain": [
       "0    -0.812107\n",
       "1    -0.567787\n",
       "2    -0.765518\n",
       "3     0.843783\n",
       "4     2.822568\n",
       "5    -0.818999\n",
       "6    -0.180681\n",
       "7     0.564149\n",
       "8    -0.418348\n",
       "9    -0.452285\n",
       "10   -0.829823\n",
       "11   -0.829152\n",
       "12    1.225068\n",
       "13   -0.719545\n",
       "14   -0.710524\n",
       "15    0.014158\n",
       "16    0.080198\n",
       "17    2.719274\n",
       "18    0.562887\n",
       "19    0.719014\n",
       "20   -0.272104\n",
       "21    0.022293\n",
       "22    1.714582\n",
       "23   -0.681596\n",
       "24   -0.189579\n",
       "25   -0.812648\n",
       "26   -0.739852\n",
       "27   -0.813374\n",
       "28   -0.825374\n",
       "29    0.340899\n",
       "30   -0.189579\n",
       "Name: Maize_Production, dtype: float64"
      ]
     },
     "execution_count": 253,
     "metadata": {},
     "output_type": "execute_result"
    }
   ],
   "source": [
    "y_dev_st = (y_dev - mean_y_dev )/std_y_dev\n",
    "y_dev_st"
   ]
  },
  {
   "cell_type": "code",
   "execution_count": 254,
   "metadata": {},
   "outputs": [
    {
     "data": {
      "text/plain": [
       "4.3871716295671506e-17"
      ]
     },
     "execution_count": 254,
     "metadata": {},
     "output_type": "execute_result"
    }
   ],
   "source": [
    "delta = y_dev_st.mean()\n",
    "delta"
   ]
  },
  {
   "cell_type": "code",
   "execution_count": 255,
   "metadata": {},
   "outputs": [
    {
     "data": {
      "text/plain": [
       "-0.27210368655038913"
      ]
     },
     "execution_count": 255,
     "metadata": {},
     "output_type": "execute_result"
    }
   ],
   "source": [
    "y_dev_st.median()"
   ]
  },
  {
   "cell_type": "markdown",
   "metadata": {},
   "source": [
    "Standardizing dependent Variable"
   ]
  },
  {
   "cell_type": "code",
   "execution_count": 256,
   "metadata": {},
   "outputs": [
    {
     "data": {
      "text/plain": [
       "0   -0.891729\n",
       "1   -0.540901\n",
       "2   -0.824831\n",
       "3    1.486024\n",
       "4    4.327431\n",
       "Name: Maize_Production, dtype: float64"
      ]
     },
     "execution_count": 256,
     "metadata": {},
     "output_type": "execute_result"
    }
   ],
   "source": [
    "y_st = (y - mean_y)/std_y\n",
    "y_st.head()"
   ]
  },
  {
   "cell_type": "code",
   "execution_count": 257,
   "metadata": {},
   "outputs": [
    {
     "data": {
      "text/plain": [
       "31"
      ]
     },
     "execution_count": 257,
     "metadata": {},
     "output_type": "execute_result"
    }
   ],
   "source": [
    "# Ensure that the index of y and Case_file are aligned\n",
    "y = y.loc[Case_file.index]\n",
    "\n",
    "# # Identify rows in Case_file that have any zeros\n",
    "# rows_to_remove = (Case_file == 0).any(axis=1)\n",
    "\n",
    "# # Identify rows where 'Maize_Production' is less than 500\n",
    "# rows_to_remove |= Working_Directory['Maize_Production'] < 500\n",
    "\n",
    "# # Apply the mask to both DataFrames\n",
    "# Case_file = Case_file[~rows_to_remove].reset_index(drop=True)\n",
    "# y = y[~rows_to_remove].reset_index(drop=True)\n",
    "\n",
    "# Correct way to get the length of Case_file\n",
    "case_file_length = len(Case_file)\n",
    "case_file_length"
   ]
  },
  {
   "cell_type": "code",
   "execution_count": 258,
   "metadata": {},
   "outputs": [
    {
     "data": {
      "text/html": [
       "<div>\n",
       "<style scoped>\n",
       "    .dataframe tbody tr th:only-of-type {\n",
       "        vertical-align: middle;\n",
       "    }\n",
       "\n",
       "    .dataframe tbody tr th {\n",
       "        vertical-align: top;\n",
       "    }\n",
       "\n",
       "    .dataframe thead th {\n",
       "        text-align: right;\n",
       "    }\n",
       "</style>\n",
       "<table border=\"1\" class=\"dataframe\">\n",
       "  <thead>\n",
       "    <tr style=\"text-align: right;\">\n",
       "      <th></th>\n",
       "      <th>const</th>\n",
       "      <th>SowingSeedsDistributed_Maize</th>\n",
       "      <th>LivestockCensus_2012_Cattle</th>\n",
       "      <th>AreaUnderCereals_Maize</th>\n",
       "      <th>TotalNPK</th>\n",
       "      <th>NetAreaIrrigatedUnderDifferentSources_TubeWells_NetIrrigatedArea</th>\n",
       "    </tr>\n",
       "  </thead>\n",
       "  <tbody>\n",
       "    <tr>\n",
       "      <th>0</th>\n",
       "      <td>1.0</td>\n",
       "      <td>-0.954112</td>\n",
       "      <td>-0.923517</td>\n",
       "      <td>-0.969564</td>\n",
       "      <td>-0.894300</td>\n",
       "      <td>-0.824518</td>\n",
       "    </tr>\n",
       "    <tr>\n",
       "      <th>1</th>\n",
       "      <td>1.0</td>\n",
       "      <td>-0.898299</td>\n",
       "      <td>-0.411298</td>\n",
       "      <td>-0.440831</td>\n",
       "      <td>-0.486547</td>\n",
       "      <td>-0.493762</td>\n",
       "    </tr>\n",
       "    <tr>\n",
       "      <th>2</th>\n",
       "      <td>1.0</td>\n",
       "      <td>-0.844569</td>\n",
       "      <td>-0.805840</td>\n",
       "      <td>-0.936542</td>\n",
       "      <td>-0.928196</td>\n",
       "      <td>-0.766046</td>\n",
       "    </tr>\n",
       "    <tr>\n",
       "      <th>3</th>\n",
       "      <td>1.0</td>\n",
       "      <td>1.187731</td>\n",
       "      <td>0.928753</td>\n",
       "      <td>2.535248</td>\n",
       "      <td>0.748113</td>\n",
       "      <td>2.232911</td>\n",
       "    </tr>\n",
       "    <tr>\n",
       "      <th>4</th>\n",
       "      <td>1.0</td>\n",
       "      <td>1.667804</td>\n",
       "      <td>0.970607</td>\n",
       "      <td>5.660616</td>\n",
       "      <td>3.071116</td>\n",
       "      <td>1.369011</td>\n",
       "    </tr>\n",
       "  </tbody>\n",
       "</table>\n",
       "</div>"
      ],
      "text/plain": [
       "   const  SowingSeedsDistributed_Maize  LivestockCensus_2012_Cattle  \\\n",
       "0    1.0                     -0.954112                    -0.923517   \n",
       "1    1.0                     -0.898299                    -0.411298   \n",
       "2    1.0                     -0.844569                    -0.805840   \n",
       "3    1.0                      1.187731                     0.928753   \n",
       "4    1.0                      1.667804                     0.970607   \n",
       "\n",
       "   AreaUnderCereals_Maize  TotalNPK  \\\n",
       "0               -0.969564 -0.894300   \n",
       "1               -0.440831 -0.486547   \n",
       "2               -0.936542 -0.928196   \n",
       "3                2.535248  0.748113   \n",
       "4                5.660616  3.071116   \n",
       "\n",
       "   NetAreaIrrigatedUnderDifferentSources_TubeWells_NetIrrigatedArea  \n",
       "0                                          -0.824518                 \n",
       "1                                          -0.493762                 \n",
       "2                                          -0.766046                 \n",
       "3                                           2.232911                 \n",
       "4                                           1.369011                 "
      ]
     },
     "execution_count": 258,
     "metadata": {},
     "output_type": "execute_result"
    }
   ],
   "source": [
    "Case_file_stan =sm.add_constant(Case_file_stan)\n",
    "Case_file_stan.head()"
   ]
  },
  {
   "cell_type": "code",
   "execution_count": 259,
   "metadata": {},
   "outputs": [
    {
     "data": {
      "text/html": [
       "<div>\n",
       "<style scoped>\n",
       "    .dataframe tbody tr th:only-of-type {\n",
       "        vertical-align: middle;\n",
       "    }\n",
       "\n",
       "    .dataframe tbody tr th {\n",
       "        vertical-align: top;\n",
       "    }\n",
       "\n",
       "    .dataframe thead th {\n",
       "        text-align: right;\n",
       "    }\n",
       "</style>\n",
       "<table border=\"1\" class=\"dataframe\">\n",
       "  <thead>\n",
       "    <tr style=\"text-align: right;\">\n",
       "      <th></th>\n",
       "      <th>const</th>\n",
       "      <th>SowingSeedsDistributed_Maize</th>\n",
       "      <th>LivestockCensus_2012_Cattle</th>\n",
       "      <th>AreaUnderCereals_Maize</th>\n",
       "      <th>TotalNPK</th>\n",
       "      <th>NetAreaIrrigatedUnderDifferentSources_TubeWells_NetIrrigatedArea</th>\n",
       "    </tr>\n",
       "  </thead>\n",
       "  <tbody>\n",
       "    <tr>\n",
       "      <th>0</th>\n",
       "      <td>1.0</td>\n",
       "      <td>4.45</td>\n",
       "      <td>2567.461578</td>\n",
       "      <td>1129.0</td>\n",
       "      <td>438.180210</td>\n",
       "      <td>175.723235</td>\n",
       "    </tr>\n",
       "    <tr>\n",
       "      <th>1</th>\n",
       "      <td>1.0</td>\n",
       "      <td>134.73</td>\n",
       "      <td>25037.139271</td>\n",
       "      <td>14867.0</td>\n",
       "      <td>3036.080250</td>\n",
       "      <td>3197.193185</td>\n",
       "    </tr>\n",
       "    <tr>\n",
       "      <th>2</th>\n",
       "      <td>1.0</td>\n",
       "      <td>260.15</td>\n",
       "      <td>7729.614277</td>\n",
       "      <td>1987.0</td>\n",
       "      <td>222.225258</td>\n",
       "      <td>709.859804</td>\n",
       "    </tr>\n",
       "    <tr>\n",
       "      <th>3</th>\n",
       "      <td>1.0</td>\n",
       "      <td>5004.00</td>\n",
       "      <td>83821.593093</td>\n",
       "      <td>92194.0</td>\n",
       "      <td>10902.406571</td>\n",
       "      <td>28105.507253</td>\n",
       "    </tr>\n",
       "    <tr>\n",
       "      <th>4</th>\n",
       "      <td>1.0</td>\n",
       "      <td>6124.60</td>\n",
       "      <td>85657.632091</td>\n",
       "      <td>173400.0</td>\n",
       "      <td>25702.835480</td>\n",
       "      <td>20213.730878</td>\n",
       "    </tr>\n",
       "  </tbody>\n",
       "</table>\n",
       "</div>"
      ],
      "text/plain": [
       "   const  SowingSeedsDistributed_Maize  LivestockCensus_2012_Cattle  \\\n",
       "0    1.0                          4.45                  2567.461578   \n",
       "1    1.0                        134.73                 25037.139271   \n",
       "2    1.0                        260.15                  7729.614277   \n",
       "3    1.0                       5004.00                 83821.593093   \n",
       "4    1.0                       6124.60                 85657.632091   \n",
       "\n",
       "   AreaUnderCereals_Maize      TotalNPK  \\\n",
       "0                  1129.0    438.180210   \n",
       "1                 14867.0   3036.080250   \n",
       "2                  1987.0    222.225258   \n",
       "3                 92194.0  10902.406571   \n",
       "4                173400.0  25702.835480   \n",
       "\n",
       "   NetAreaIrrigatedUnderDifferentSources_TubeWells_NetIrrigatedArea  \n",
       "0                                         175.723235                 \n",
       "1                                        3197.193185                 \n",
       "2                                         709.859804                 \n",
       "3                                       28105.507253                 \n",
       "4                                       20213.730878                 "
      ]
     },
     "execution_count": 259,
     "metadata": {},
     "output_type": "execute_result"
    }
   ],
   "source": [
    "Case_file =sm.add_constant(Case_file)\n",
    "Case_file.head()"
   ]
  },
  {
   "cell_type": "code",
   "execution_count": 260,
   "metadata": {},
   "outputs": [],
   "source": [
    "Case_file_1 = Case_file[['const','NetAreaIrrigatedUnderDifferentSources_TubeWells_NetIrrigatedArea','AreaUnderCereals_Maize','TotalNPK']].copy()"
   ]
  },
  {
   "cell_type": "code",
   "execution_count": 261,
   "metadata": {},
   "outputs": [],
   "source": [
    "# from sklearn.preprocessing import MinMaxScaler\n",
    "# from sklearn.preprocessing import StandardScaler\n",
    "\n",
    "# columns_to_standardize = ['LivestockCensus_2012_Cattle','AreaUnderCereals_Maize','TotalNPK']\n",
    "\n",
    "# Case_file_1 = Case_file[['const'] + columns_to_standardize].copy()\n",
    "# scaler = StandardScaler()\n",
    "\n",
    "# X_st = pd.DataFrame()\n",
    "# X_st['const'] = Case_file['const']\n",
    "# # X_st[columns_to_standardize] = scaler.fit_transform(Case_file_1[columns_to_standardize])\n",
    "# X_st[columns_to_standardize] = Case_file_1[columns_to_standardize]\n",
    "\n",
    "# Target = 0.05\n",
    "# y_st = pd.DataFrame()\n",
    "# y_st['Maize_Production'] = Working_Directory[~rows_to_remove]['Maize_Production'].reset_index(drop=True)\n",
    "# # y_st['Target_Production'] = (1+Target)*y_st['Maize_Production']\n",
    "# # columns_to_standardize = ['Maize_Production','Target_Production']\n",
    "\n",
    "# columns_to_standardize = ['Maize_Production']\n",
    "# # y_st[columns_to_standardize] = scaler.fit_transform(y_st[columns_to_standardize])\n",
    "# # columns_to_standardize = ['GroundNut Production','Target Production']\n",
    "# y_st.head()"
   ]
  },
  {
   "cell_type": "code",
   "execution_count": 262,
   "metadata": {},
   "outputs": [],
   "source": [
    "# # Get the row with the maximum value in 'Groundnut_Production'\n",
    "# max_row = Working_Directory[~rows_to_remove][Working_Directory[~rows_to_remove]['Maize_Production'] == Working_Directory[~rows_to_remove]['Maize_Production'].max()]\n",
    "\n",
    "# # Get the row with the minimum value in 'Groundnut_Production'\n",
    "# min_row = Working_Directory[~rows_to_remove][Working_Directory[~rows_to_remove]['Maize_Production'] == Working_Directory[~rows_to_remove]['Maize_Production'].min()]\n",
    "\n",
    "# # Print the rows\n",
    "# print(\"Row with maximum Maize_Production:\\n\", max_row)\n",
    "# print(\"\\nRow with minimum Maize_Production:\\n\", min_row)\n"
   ]
  },
  {
   "cell_type": "code",
   "execution_count": 263,
   "metadata": {},
   "outputs": [
    {
     "name": "stdout",
     "output_type": "stream",
     "text": [
      "                            OLS Regression Results                            \n",
      "==============================================================================\n",
      "Dep. Variable:       Maize_Production   R-squared:                       0.961\n",
      "Model:                            OLS   Adj. R-squared:                  0.953\n",
      "Method:                 Least Squares   F-statistic:                     122.3\n",
      "Date:                Fri, 20 Sep 2024   Prob (F-statistic):           9.66e-17\n",
      "Time:                        12:28:44   Log-Likelihood:                -4.5163\n",
      "No. Observations:                  31   AIC:                             21.03\n",
      "Df Residuals:                      25   BIC:                             29.64\n",
      "Df Model:                           5                                         \n",
      "Covariance Type:            nonrobust                                         \n",
      "====================================================================================================================================\n",
      "                                                                       coef    std err          t      P>|t|      [0.025      0.975]\n",
      "------------------------------------------------------------------------------------------------------------------------------------\n",
      "const                                                               -0.0216      0.063     -0.345      0.733      -0.150       0.107\n",
      "SowingSeedsDistributed_Maize                                        -0.2139      0.125     -1.714      0.099      -0.471       0.043\n",
      "LivestockCensus_2012_Cattle                                          0.3126      0.121      2.590      0.016       0.064       0.561\n",
      "AreaUnderCereals_Maize                                               0.4656      0.068      6.848      0.000       0.326       0.606\n",
      "TotalNPK                                                             0.3903      0.097      4.020      0.000       0.190       0.590\n",
      "NetAreaIrrigatedUnderDifferentSources_TubeWells_NetIrrigatedArea     0.0033      0.093      0.035      0.972      -0.189       0.196\n",
      "==============================================================================\n",
      "Omnibus:                        1.806   Durbin-Watson:                   2.516\n",
      "Prob(Omnibus):                  0.405   Jarque-Bera (JB):                0.722\n",
      "Skew:                          -0.090   Prob(JB):                        0.697\n",
      "Kurtosis:                       3.726   Cond. No.                         8.10\n",
      "==============================================================================\n",
      "\n",
      "Notes:\n",
      "[1] Standard Errors assume that the covariance matrix of the errors is correctly specified.\n"
     ]
    },
    {
     "data": {
      "text/plain": [
       "array([-0.21387962,  0.31263851,  0.46564096,  0.39030154,  0.00329052])"
      ]
     },
     "execution_count": 263,
     "metadata": {},
     "output_type": "execute_result"
    }
   ],
   "source": [
    "# model=sm.OLS(y,Case_file_1).fit()\n",
    "# print(model.summary())\n",
    "# model.params.values\n",
    "# coef=model.params.values[1:]\n",
    "# coef\n",
    "\n",
    "model=sm.OLS(y_st,Case_file_stan).fit()\n",
    "Case_file = Case_file_stan\n",
    "print(model.summary())\n",
    "model.params.values\n",
    "coef=model.params.values[1:]\n",
    "coef"
   ]
  },
  {
   "cell_type": "code",
   "execution_count": 264,
   "metadata": {},
   "outputs": [
    {
     "data": {
      "text/html": [
       "<div>\n",
       "<style scoped>\n",
       "    .dataframe tbody tr th:only-of-type {\n",
       "        vertical-align: middle;\n",
       "    }\n",
       "\n",
       "    .dataframe tbody tr th {\n",
       "        vertical-align: top;\n",
       "    }\n",
       "\n",
       "    .dataframe thead th {\n",
       "        text-align: right;\n",
       "    }\n",
       "</style>\n",
       "<table border=\"1\" class=\"dataframe\">\n",
       "  <thead>\n",
       "    <tr style=\"text-align: right;\">\n",
       "      <th></th>\n",
       "      <th>SowingSeedsDistributed_Maize</th>\n",
       "      <th>LivestockCensus_2012_Cattle</th>\n",
       "      <th>AreaUnderCereals_Maize</th>\n",
       "      <th>TotalNPK</th>\n",
       "      <th>NetAreaIrrigatedUnderDifferentSources_TubeWells_NetIrrigatedArea</th>\n",
       "    </tr>\n",
       "  </thead>\n",
       "  <tbody>\n",
       "    <tr>\n",
       "      <th>0</th>\n",
       "      <td>-0.954112</td>\n",
       "      <td>-0.923517</td>\n",
       "      <td>-0.969564</td>\n",
       "      <td>-0.894300</td>\n",
       "      <td>-0.824518</td>\n",
       "    </tr>\n",
       "    <tr>\n",
       "      <th>1</th>\n",
       "      <td>-0.898299</td>\n",
       "      <td>-0.411298</td>\n",
       "      <td>-0.440831</td>\n",
       "      <td>-0.486547</td>\n",
       "      <td>-0.493762</td>\n",
       "    </tr>\n",
       "    <tr>\n",
       "      <th>2</th>\n",
       "      <td>-0.844569</td>\n",
       "      <td>-0.805840</td>\n",
       "      <td>-0.936542</td>\n",
       "      <td>-0.928196</td>\n",
       "      <td>-0.766046</td>\n",
       "    </tr>\n",
       "    <tr>\n",
       "      <th>3</th>\n",
       "      <td>1.187731</td>\n",
       "      <td>0.928753</td>\n",
       "      <td>2.535248</td>\n",
       "      <td>0.748113</td>\n",
       "      <td>2.232911</td>\n",
       "    </tr>\n",
       "    <tr>\n",
       "      <th>4</th>\n",
       "      <td>1.667804</td>\n",
       "      <td>0.970607</td>\n",
       "      <td>5.660616</td>\n",
       "      <td>3.071116</td>\n",
       "      <td>1.369011</td>\n",
       "    </tr>\n",
       "  </tbody>\n",
       "</table>\n",
       "</div>"
      ],
      "text/plain": [
       "   SowingSeedsDistributed_Maize  LivestockCensus_2012_Cattle  \\\n",
       "0                     -0.954112                    -0.923517   \n",
       "1                     -0.898299                    -0.411298   \n",
       "2                     -0.844569                    -0.805840   \n",
       "3                      1.187731                     0.928753   \n",
       "4                      1.667804                     0.970607   \n",
       "\n",
       "   AreaUnderCereals_Maize  TotalNPK  \\\n",
       "0               -0.969564 -0.894300   \n",
       "1               -0.440831 -0.486547   \n",
       "2               -0.936542 -0.928196   \n",
       "3                2.535248  0.748113   \n",
       "4                5.660616  3.071116   \n",
       "\n",
       "   NetAreaIrrigatedUnderDifferentSources_TubeWells_NetIrrigatedArea  \n",
       "0                                          -0.824518                 \n",
       "1                                          -0.493762                 \n",
       "2                                          -0.766046                 \n",
       "3                                           2.232911                 \n",
       "4                                           1.369011                 "
      ]
     },
     "execution_count": 264,
     "metadata": {},
     "output_type": "execute_result"
    }
   ],
   "source": [
    "Case_file.drop('const',axis=1,inplace=True)\n",
    "Case_file[:5]"
   ]
  },
  {
   "cell_type": "code",
   "execution_count": 272,
   "metadata": {},
   "outputs": [
    {
     "data": {
      "text/plain": [
       "<itertools.product at 0x1f700c23800>"
      ]
     },
     "execution_count": 272,
     "metadata": {},
     "output_type": "execute_result"
    }
   ],
   "source": [
    "Case_file.loc[:,'Beta_0'] = model.params.values[0]\n",
    "Case_file.loc[:,'Beta_1'] = coef[0]\n",
    "Case_file.loc[:,'Beta_2'] = coef[1]\n",
    "Case_file.loc[:,'Beta_3'] = coef[2]\n",
    "Case_file.loc[:,'Beta_4'] = coef[3]\n",
    "Case_file.loc[:,'Beta_5'] = coef[4]\n",
    "\n",
    "intervals = np.arange(0, 1.1, 0.1)\n",
    "columns=['Sensitivity_SowingSeedsDistributed_Maize', 'Sensitivity_LivestockCensus_2012_Cattle' , 'Sensitivity_AreaUnderCereals_Maize', 'Sensitivity_TotalNPK','Sensitivity_NetAreaIrrigatedUnderDifferentSources_TubeWells_NetIrrigatedArea']\n",
    "\n",
    "# columns=['Sensitivity_LivestockCensus_2012_Cattle' , 'Sensitivity_AreaUnderCereals_Maize', 'Sensitivity_TotalNPK']\n",
    "# Generate all possible combinations of elements in arr\n",
    "\n",
    "num = len(columns)\n",
    "combinations = product(intervals, repeat=len(columns))\n",
    "combinations"
   ]
  },
  {
   "cell_type": "code",
   "execution_count": 273,
   "metadata": {},
   "outputs": [
    {
     "data": {
      "text/html": [
       "<div>\n",
       "<style scoped>\n",
       "    .dataframe tbody tr th:only-of-type {\n",
       "        vertical-align: middle;\n",
       "    }\n",
       "\n",
       "    .dataframe tbody tr th {\n",
       "        vertical-align: top;\n",
       "    }\n",
       "\n",
       "    .dataframe thead th {\n",
       "        text-align: right;\n",
       "    }\n",
       "</style>\n",
       "<table border=\"1\" class=\"dataframe\">\n",
       "  <thead>\n",
       "    <tr style=\"text-align: right;\">\n",
       "      <th></th>\n",
       "      <th>Sensitivity_SowingSeedsDistributed_Maize</th>\n",
       "      <th>Sensitivity_LivestockCensus_2012_Cattle</th>\n",
       "      <th>Sensitivity_AreaUnderCereals_Maize</th>\n",
       "      <th>Sensitivity_TotalNPK</th>\n",
       "      <th>Sensitivity_NetAreaIrrigatedUnderDifferentSources_TubeWells_NetIrrigatedArea</th>\n",
       "    </tr>\n",
       "  </thead>\n",
       "  <tbody>\n",
       "    <tr>\n",
       "      <th>0</th>\n",
       "      <td>0.0</td>\n",
       "      <td>0.0</td>\n",
       "      <td>0.0</td>\n",
       "      <td>0.0</td>\n",
       "      <td>0.0</td>\n",
       "    </tr>\n",
       "    <tr>\n",
       "      <th>1</th>\n",
       "      <td>0.0</td>\n",
       "      <td>0.0</td>\n",
       "      <td>0.0</td>\n",
       "      <td>0.0</td>\n",
       "      <td>0.1</td>\n",
       "    </tr>\n",
       "    <tr>\n",
       "      <th>2</th>\n",
       "      <td>0.0</td>\n",
       "      <td>0.0</td>\n",
       "      <td>0.0</td>\n",
       "      <td>0.0</td>\n",
       "      <td>0.2</td>\n",
       "    </tr>\n",
       "    <tr>\n",
       "      <th>3</th>\n",
       "      <td>0.0</td>\n",
       "      <td>0.0</td>\n",
       "      <td>0.0</td>\n",
       "      <td>0.0</td>\n",
       "      <td>0.3</td>\n",
       "    </tr>\n",
       "    <tr>\n",
       "      <th>4</th>\n",
       "      <td>0.0</td>\n",
       "      <td>0.0</td>\n",
       "      <td>0.0</td>\n",
       "      <td>0.0</td>\n",
       "      <td>0.4</td>\n",
       "    </tr>\n",
       "    <tr>\n",
       "      <th>...</th>\n",
       "      <td>...</td>\n",
       "      <td>...</td>\n",
       "      <td>...</td>\n",
       "      <td>...</td>\n",
       "      <td>...</td>\n",
       "    </tr>\n",
       "    <tr>\n",
       "      <th>161046</th>\n",
       "      <td>1.0</td>\n",
       "      <td>1.0</td>\n",
       "      <td>1.0</td>\n",
       "      <td>1.0</td>\n",
       "      <td>0.6</td>\n",
       "    </tr>\n",
       "    <tr>\n",
       "      <th>161047</th>\n",
       "      <td>1.0</td>\n",
       "      <td>1.0</td>\n",
       "      <td>1.0</td>\n",
       "      <td>1.0</td>\n",
       "      <td>0.7</td>\n",
       "    </tr>\n",
       "    <tr>\n",
       "      <th>161048</th>\n",
       "      <td>1.0</td>\n",
       "      <td>1.0</td>\n",
       "      <td>1.0</td>\n",
       "      <td>1.0</td>\n",
       "      <td>0.8</td>\n",
       "    </tr>\n",
       "    <tr>\n",
       "      <th>161049</th>\n",
       "      <td>1.0</td>\n",
       "      <td>1.0</td>\n",
       "      <td>1.0</td>\n",
       "      <td>1.0</td>\n",
       "      <td>0.9</td>\n",
       "    </tr>\n",
       "    <tr>\n",
       "      <th>161050</th>\n",
       "      <td>1.0</td>\n",
       "      <td>1.0</td>\n",
       "      <td>1.0</td>\n",
       "      <td>1.0</td>\n",
       "      <td>1.0</td>\n",
       "    </tr>\n",
       "  </tbody>\n",
       "</table>\n",
       "<p>161051 rows × 5 columns</p>\n",
       "</div>"
      ],
      "text/plain": [
       "        Sensitivity_SowingSeedsDistributed_Maize  \\\n",
       "0                                            0.0   \n",
       "1                                            0.0   \n",
       "2                                            0.0   \n",
       "3                                            0.0   \n",
       "4                                            0.0   \n",
       "...                                          ...   \n",
       "161046                                       1.0   \n",
       "161047                                       1.0   \n",
       "161048                                       1.0   \n",
       "161049                                       1.0   \n",
       "161050                                       1.0   \n",
       "\n",
       "        Sensitivity_LivestockCensus_2012_Cattle  \\\n",
       "0                                           0.0   \n",
       "1                                           0.0   \n",
       "2                                           0.0   \n",
       "3                                           0.0   \n",
       "4                                           0.0   \n",
       "...                                         ...   \n",
       "161046                                      1.0   \n",
       "161047                                      1.0   \n",
       "161048                                      1.0   \n",
       "161049                                      1.0   \n",
       "161050                                      1.0   \n",
       "\n",
       "        Sensitivity_AreaUnderCereals_Maize  Sensitivity_TotalNPK  \\\n",
       "0                                      0.0                   0.0   \n",
       "1                                      0.0                   0.0   \n",
       "2                                      0.0                   0.0   \n",
       "3                                      0.0                   0.0   \n",
       "4                                      0.0                   0.0   \n",
       "...                                    ...                   ...   \n",
       "161046                                 1.0                   1.0   \n",
       "161047                                 1.0                   1.0   \n",
       "161048                                 1.0                   1.0   \n",
       "161049                                 1.0                   1.0   \n",
       "161050                                 1.0                   1.0   \n",
       "\n",
       "        Sensitivity_NetAreaIrrigatedUnderDifferentSources_TubeWells_NetIrrigatedArea  \n",
       "0                                                     0.0                             \n",
       "1                                                     0.1                             \n",
       "2                                                     0.2                             \n",
       "3                                                     0.3                             \n",
       "4                                                     0.4                             \n",
       "...                                                   ...                             \n",
       "161046                                                0.6                             \n",
       "161047                                                0.7                             \n",
       "161048                                                0.8                             \n",
       "161049                                                0.9                             \n",
       "161050                                                1.0                             \n",
       "\n",
       "[161051 rows x 5 columns]"
      ]
     },
     "execution_count": 273,
     "metadata": {},
     "output_type": "execute_result"
    }
   ],
   "source": [
    "alpha_df = pd.DataFrame(combinations, columns=columns)\n",
    "alpha_df"
   ]
  },
  {
   "cell_type": "code",
   "execution_count": 274,
   "metadata": {},
   "outputs": [
    {
     "name": "stdout",
     "output_type": "stream",
     "text": [
      "         Sensitivity_SowingSeedsDistributed_Maize  \\\n",
      "0                                             0.0   \n",
      "1                                             0.0   \n",
      "2                                             0.0   \n",
      "3                                             0.0   \n",
      "4                                             0.0   \n",
      "...                                           ...   \n",
      "4992576                                       1.0   \n",
      "4992577                                       1.0   \n",
      "4992578                                       1.0   \n",
      "4992579                                       1.0   \n",
      "4992580                                       1.0   \n",
      "\n",
      "         Sensitivity_LivestockCensus_2012_Cattle  \\\n",
      "0                                            0.0   \n",
      "1                                            0.0   \n",
      "2                                            0.0   \n",
      "3                                            0.0   \n",
      "4                                            0.0   \n",
      "...                                          ...   \n",
      "4992576                                      1.0   \n",
      "4992577                                      1.0   \n",
      "4992578                                      1.0   \n",
      "4992579                                      1.0   \n",
      "4992580                                      1.0   \n",
      "\n",
      "         Sensitivity_AreaUnderCereals_Maize  Sensitivity_TotalNPK  \\\n",
      "0                                       0.0                   0.0   \n",
      "1                                       0.0                   0.0   \n",
      "2                                       0.0                   0.0   \n",
      "3                                       0.0                   0.0   \n",
      "4                                       0.0                   0.0   \n",
      "...                                     ...                   ...   \n",
      "4992576                                 1.0                   1.0   \n",
      "4992577                                 1.0                   1.0   \n",
      "4992578                                 1.0                   1.0   \n",
      "4992579                                 1.0                   1.0   \n",
      "4992580                                 1.0                   1.0   \n",
      "\n",
      "         Sensitivity_NetAreaIrrigatedUnderDifferentSources_TubeWells_NetIrrigatedArea  \\\n",
      "0                                                      0.0                              \n",
      "1                                                      0.0                              \n",
      "2                                                      0.0                              \n",
      "3                                                      0.0                              \n",
      "4                                                      0.0                              \n",
      "...                                                    ...                              \n",
      "4992576                                                1.0                              \n",
      "4992577                                                1.0                              \n",
      "4992578                                                1.0                              \n",
      "4992579                                                1.0                              \n",
      "4992580                                                1.0                              \n",
      "\n",
      "         SowingSeedsDistributed_Maize  LivestockCensus_2012_Cattle  \\\n",
      "0                           -0.954112                    -0.923517   \n",
      "1                           -0.898299                    -0.411298   \n",
      "2                           -0.844569                    -0.805840   \n",
      "3                            1.187731                     0.928753   \n",
      "4                            1.667804                     0.970607   \n",
      "...                               ...                          ...   \n",
      "4992576                     -0.885332                    -0.840216   \n",
      "4992577                     -0.956019                    -0.953474   \n",
      "4992578                     -0.949871                    -0.977746   \n",
      "4992579                      1.311112                    -0.094450   \n",
      "4992580                      0.268799                    -0.447550   \n",
      "\n",
      "         AreaUnderCereals_Maize  TotalNPK  \\\n",
      "0                     -0.969564 -0.894300   \n",
      "1                     -0.440831 -0.486547   \n",
      "2                     -0.936542 -0.928196   \n",
      "3                      2.535248  0.748113   \n",
      "4                      5.660616  3.071116   \n",
      "...                         ...       ...   \n",
      "4992576               -0.911641 -0.851621   \n",
      "4992577               -0.976030 -0.905219   \n",
      "4992578               -0.912950 -0.953415   \n",
      "4992579                0.842439  0.763047   \n",
      "4992580                0.906308  0.356000   \n",
      "\n",
      "         NetAreaIrrigatedUnderDifferentSources_TubeWells_NetIrrigatedArea  \\\n",
      "0                                                -0.824518                  \n",
      "1                                                -0.493762                  \n",
      "2                                                -0.766046                  \n",
      "3                                                 2.232911                  \n",
      "4                                                 1.369011                  \n",
      "...                                                    ...                  \n",
      "4992576                                          -0.773501                  \n",
      "4992577                                          -0.834024                  \n",
      "4992578                                          -0.842227                  \n",
      "4992579                                           0.507441                  \n",
      "4992580                                           0.278146                  \n",
      "\n",
      "           Beta_0   Beta_1    Beta_2    Beta_3    Beta_4    Beta_5  \n",
      "0       -0.021597 -0.21388  0.312639  0.465641  0.390302  0.003291  \n",
      "1       -0.021597 -0.21388  0.312639  0.465641  0.390302  0.003291  \n",
      "2       -0.021597 -0.21388  0.312639  0.465641  0.390302  0.003291  \n",
      "3       -0.021597 -0.21388  0.312639  0.465641  0.390302  0.003291  \n",
      "4       -0.021597 -0.21388  0.312639  0.465641  0.390302  0.003291  \n",
      "...           ...      ...       ...       ...       ...       ...  \n",
      "4992576 -0.021597 -0.21388  0.312639  0.465641  0.390302  0.003291  \n",
      "4992577 -0.021597 -0.21388  0.312639  0.465641  0.390302  0.003291  \n",
      "4992578 -0.021597 -0.21388  0.312639  0.465641  0.390302  0.003291  \n",
      "4992579 -0.021597 -0.21388  0.312639  0.465641  0.390302  0.003291  \n",
      "4992580 -0.021597 -0.21388  0.312639  0.465641  0.390302  0.003291  \n",
      "\n",
      "[4992581 rows x 16 columns]\n"
     ]
    }
   ],
   "source": [
    "Case_file['key'] = 1\n",
    "alpha_df['key'] = 1\n",
    "\n",
    "# Performing the Cartesian product\n",
    "result_df = pd.merge( alpha_df, Case_file, on='key').drop('key', axis=1)\n",
    "\n",
    "print(result_df)"
   ]
  },
  {
   "cell_type": "code",
   "execution_count": 275,
   "metadata": {},
   "outputs": [
    {
     "data": {
      "text/html": [
       "<div>\n",
       "<style scoped>\n",
       "    .dataframe tbody tr th:only-of-type {\n",
       "        vertical-align: middle;\n",
       "    }\n",
       "\n",
       "    .dataframe tbody tr th {\n",
       "        vertical-align: top;\n",
       "    }\n",
       "\n",
       "    .dataframe thead th {\n",
       "        text-align: right;\n",
       "    }\n",
       "</style>\n",
       "<table border=\"1\" class=\"dataframe\">\n",
       "  <thead>\n",
       "    <tr style=\"text-align: right;\">\n",
       "      <th></th>\n",
       "      <th>Sensitivity_SowingSeedsDistributed_Maize</th>\n",
       "      <th>Sensitivity_LivestockCensus_2012_Cattle</th>\n",
       "      <th>Sensitivity_AreaUnderCereals_Maize</th>\n",
       "      <th>Sensitivity_TotalNPK</th>\n",
       "      <th>Sensitivity_NetAreaIrrigatedUnderDifferentSources_TubeWells_NetIrrigatedArea</th>\n",
       "      <th>SowingSeedsDistributed_Maize</th>\n",
       "      <th>LivestockCensus_2012_Cattle</th>\n",
       "      <th>AreaUnderCereals_Maize</th>\n",
       "      <th>TotalNPK</th>\n",
       "      <th>NetAreaIrrigatedUnderDifferentSources_TubeWells_NetIrrigatedArea</th>\n",
       "      <th>Beta_0</th>\n",
       "      <th>Beta_1</th>\n",
       "      <th>Beta_2</th>\n",
       "      <th>Beta_3</th>\n",
       "      <th>Beta_4</th>\n",
       "      <th>Beta_5</th>\n",
       "    </tr>\n",
       "  </thead>\n",
       "  <tbody>\n",
       "    <tr>\n",
       "      <th>0</th>\n",
       "      <td>0.0</td>\n",
       "      <td>0.0</td>\n",
       "      <td>0.0</td>\n",
       "      <td>0.0</td>\n",
       "      <td>0.0</td>\n",
       "      <td>-0.954112</td>\n",
       "      <td>-0.923517</td>\n",
       "      <td>-0.969564</td>\n",
       "      <td>-0.894300</td>\n",
       "      <td>-0.824518</td>\n",
       "      <td>-0.021597</td>\n",
       "      <td>-0.21388</td>\n",
       "      <td>0.312639</td>\n",
       "      <td>0.465641</td>\n",
       "      <td>0.390302</td>\n",
       "      <td>0.003291</td>\n",
       "    </tr>\n",
       "    <tr>\n",
       "      <th>1</th>\n",
       "      <td>0.0</td>\n",
       "      <td>0.0</td>\n",
       "      <td>0.0</td>\n",
       "      <td>0.0</td>\n",
       "      <td>0.0</td>\n",
       "      <td>-0.898299</td>\n",
       "      <td>-0.411298</td>\n",
       "      <td>-0.440831</td>\n",
       "      <td>-0.486547</td>\n",
       "      <td>-0.493762</td>\n",
       "      <td>-0.021597</td>\n",
       "      <td>-0.21388</td>\n",
       "      <td>0.312639</td>\n",
       "      <td>0.465641</td>\n",
       "      <td>0.390302</td>\n",
       "      <td>0.003291</td>\n",
       "    </tr>\n",
       "    <tr>\n",
       "      <th>2</th>\n",
       "      <td>0.0</td>\n",
       "      <td>0.0</td>\n",
       "      <td>0.0</td>\n",
       "      <td>0.0</td>\n",
       "      <td>0.0</td>\n",
       "      <td>-0.844569</td>\n",
       "      <td>-0.805840</td>\n",
       "      <td>-0.936542</td>\n",
       "      <td>-0.928196</td>\n",
       "      <td>-0.766046</td>\n",
       "      <td>-0.021597</td>\n",
       "      <td>-0.21388</td>\n",
       "      <td>0.312639</td>\n",
       "      <td>0.465641</td>\n",
       "      <td>0.390302</td>\n",
       "      <td>0.003291</td>\n",
       "    </tr>\n",
       "    <tr>\n",
       "      <th>3</th>\n",
       "      <td>0.0</td>\n",
       "      <td>0.0</td>\n",
       "      <td>0.0</td>\n",
       "      <td>0.0</td>\n",
       "      <td>0.0</td>\n",
       "      <td>1.187731</td>\n",
       "      <td>0.928753</td>\n",
       "      <td>2.535248</td>\n",
       "      <td>0.748113</td>\n",
       "      <td>2.232911</td>\n",
       "      <td>-0.021597</td>\n",
       "      <td>-0.21388</td>\n",
       "      <td>0.312639</td>\n",
       "      <td>0.465641</td>\n",
       "      <td>0.390302</td>\n",
       "      <td>0.003291</td>\n",
       "    </tr>\n",
       "    <tr>\n",
       "      <th>4</th>\n",
       "      <td>0.0</td>\n",
       "      <td>0.0</td>\n",
       "      <td>0.0</td>\n",
       "      <td>0.0</td>\n",
       "      <td>0.0</td>\n",
       "      <td>1.667804</td>\n",
       "      <td>0.970607</td>\n",
       "      <td>5.660616</td>\n",
       "      <td>3.071116</td>\n",
       "      <td>1.369011</td>\n",
       "      <td>-0.021597</td>\n",
       "      <td>-0.21388</td>\n",
       "      <td>0.312639</td>\n",
       "      <td>0.465641</td>\n",
       "      <td>0.390302</td>\n",
       "      <td>0.003291</td>\n",
       "    </tr>\n",
       "  </tbody>\n",
       "</table>\n",
       "</div>"
      ],
      "text/plain": [
       "   Sensitivity_SowingSeedsDistributed_Maize  \\\n",
       "0                                       0.0   \n",
       "1                                       0.0   \n",
       "2                                       0.0   \n",
       "3                                       0.0   \n",
       "4                                       0.0   \n",
       "\n",
       "   Sensitivity_LivestockCensus_2012_Cattle  \\\n",
       "0                                      0.0   \n",
       "1                                      0.0   \n",
       "2                                      0.0   \n",
       "3                                      0.0   \n",
       "4                                      0.0   \n",
       "\n",
       "   Sensitivity_AreaUnderCereals_Maize  Sensitivity_TotalNPK  \\\n",
       "0                                 0.0                   0.0   \n",
       "1                                 0.0                   0.0   \n",
       "2                                 0.0                   0.0   \n",
       "3                                 0.0                   0.0   \n",
       "4                                 0.0                   0.0   \n",
       "\n",
       "   Sensitivity_NetAreaIrrigatedUnderDifferentSources_TubeWells_NetIrrigatedArea  \\\n",
       "0                                                0.0                              \n",
       "1                                                0.0                              \n",
       "2                                                0.0                              \n",
       "3                                                0.0                              \n",
       "4                                                0.0                              \n",
       "\n",
       "   SowingSeedsDistributed_Maize  LivestockCensus_2012_Cattle  \\\n",
       "0                     -0.954112                    -0.923517   \n",
       "1                     -0.898299                    -0.411298   \n",
       "2                     -0.844569                    -0.805840   \n",
       "3                      1.187731                     0.928753   \n",
       "4                      1.667804                     0.970607   \n",
       "\n",
       "   AreaUnderCereals_Maize  TotalNPK  \\\n",
       "0               -0.969564 -0.894300   \n",
       "1               -0.440831 -0.486547   \n",
       "2               -0.936542 -0.928196   \n",
       "3                2.535248  0.748113   \n",
       "4                5.660616  3.071116   \n",
       "\n",
       "   NetAreaIrrigatedUnderDifferentSources_TubeWells_NetIrrigatedArea    Beta_0  \\\n",
       "0                                          -0.824518                -0.021597   \n",
       "1                                          -0.493762                -0.021597   \n",
       "2                                          -0.766046                -0.021597   \n",
       "3                                           2.232911                -0.021597   \n",
       "4                                           1.369011                -0.021597   \n",
       "\n",
       "    Beta_1    Beta_2    Beta_3    Beta_4    Beta_5  \n",
       "0 -0.21388  0.312639  0.465641  0.390302  0.003291  \n",
       "1 -0.21388  0.312639  0.465641  0.390302  0.003291  \n",
       "2 -0.21388  0.312639  0.465641  0.390302  0.003291  \n",
       "3 -0.21388  0.312639  0.465641  0.390302  0.003291  \n",
       "4 -0.21388  0.312639  0.465641  0.390302  0.003291  "
      ]
     },
     "execution_count": 275,
     "metadata": {},
     "output_type": "execute_result"
    }
   ],
   "source": [
    "result_df.head()"
   ]
  },
  {
   "cell_type": "code",
   "execution_count": 276,
   "metadata": {},
   "outputs": [
    {
     "data": {
      "text/plain": [
       "134853.12903225806"
      ]
     },
     "execution_count": 276,
     "metadata": {},
     "output_type": "execute_result"
    }
   ],
   "source": [
    "Working_Directory['Maize_Production'].mean()"
   ]
  },
  {
   "cell_type": "code",
   "execution_count": 277,
   "metadata": {},
   "outputs": [
    {
     "data": {
      "text/plain": [
       "Index(['District', 'Maize_Production', 'TotalNPK',\n",
       "       'SowingSeedsDistributed_Maize', 'LivestockCensus_2012_Cattle',\n",
       "       'AreaUnderCereals_Maize',\n",
       "       'NetAreaIrrigatedUnderDifferentSources_TubeWells_NetIrrigatedArea',\n",
       "       'Maize_Ratio'],\n",
       "      dtype='object')"
      ]
     },
     "execution_count": 277,
     "metadata": {},
     "output_type": "execute_result"
    }
   ],
   "source": [
    "Working_Directory.columns"
   ]
  },
  {
   "cell_type": "code",
   "execution_count": 278,
   "metadata": {},
   "outputs": [],
   "source": [
    "# delta_O = 0.05*(y_st['Maize_Production'].median())\n",
    "# delta_O"
   ]
  },
  {
   "cell_type": "code",
   "execution_count": 279,
   "metadata": {},
   "outputs": [],
   "source": [
    "# delta_O = 5000\n",
    "\n",
    "result_df['New_F1'] = result_df['SowingSeedsDistributed_Maize'] + (result_df['Sensitivity_SowingSeedsDistributed_Maize']*delta)/result_df['Beta_1']\n",
    "result_df['New_F2'] = result_df['LivestockCensus_2012_Cattle'] + (result_df['Sensitivity_LivestockCensus_2012_Cattle']*delta)/result_df['Beta_2']\n",
    "result_df['New_F3'] = result_df['AreaUnderCereals_Maize'] + (result_df['Sensitivity_AreaUnderCereals_Maize']*delta)/result_df['Beta_3']\n",
    "result_df['New_F4'] = result_df['TotalNPK'] + (result_df['Sensitivity_TotalNPK']*delta)/result_df['Beta_4']\n",
    "result_df['New_F5'] = result_df['NetAreaIrrigatedUnderDifferentSources_TubeWells_NetIrrigatedArea'] + (result_df['Sensitivity_NetAreaIrrigatedUnderDifferentSources_TubeWells_NetIrrigatedArea']*delta)/result_df['Beta_5']\n",
    "result_df['District'] = np.tile(Working_Directory['District'],11**num)\n",
    "\n",
    "# result_df['New_F1'] = result_df['New_F1'].apply(lambda x: max(0, x))\n",
    "# result_df['New_F2'] = result_df['New_F2'].apply(lambda x: max(0, x))\n",
    "# result_df['New_F3'] = result_df['New_F3'].apply(lambda x: max(0, x))\n",
    "# result_df['New_F4'] = result_df['New_F4'].apply(lambda x: max(0, x))\n",
    "# result_df['New_F5'] = result_df['New_F5'].apply(lambda x: max(0, x))\n",
    "\n"
   ]
  },
  {
   "cell_type": "code",
   "execution_count": 281,
   "metadata": {},
   "outputs": [
    {
     "data": {
      "text/html": [
       "<div>\n",
       "<style scoped>\n",
       "    .dataframe tbody tr th:only-of-type {\n",
       "        vertical-align: middle;\n",
       "    }\n",
       "\n",
       "    .dataframe tbody tr th {\n",
       "        vertical-align: top;\n",
       "    }\n",
       "\n",
       "    .dataframe thead th {\n",
       "        text-align: right;\n",
       "    }\n",
       "</style>\n",
       "<table border=\"1\" class=\"dataframe\">\n",
       "  <thead>\n",
       "    <tr style=\"text-align: right;\">\n",
       "      <th></th>\n",
       "      <th>Sensitivity_SowingSeedsDistributed_Maize</th>\n",
       "      <th>Sensitivity_LivestockCensus_2012_Cattle</th>\n",
       "      <th>Sensitivity_AreaUnderCereals_Maize</th>\n",
       "      <th>Sensitivity_TotalNPK</th>\n",
       "      <th>Sensitivity_NetAreaIrrigatedUnderDifferentSources_TubeWells_NetIrrigatedArea</th>\n",
       "      <th>SowingSeedsDistributed_Maize</th>\n",
       "      <th>LivestockCensus_2012_Cattle</th>\n",
       "      <th>AreaUnderCereals_Maize</th>\n",
       "      <th>TotalNPK</th>\n",
       "      <th>NetAreaIrrigatedUnderDifferentSources_TubeWells_NetIrrigatedArea</th>\n",
       "      <th>...</th>\n",
       "      <th>Beta_3</th>\n",
       "      <th>Beta_4</th>\n",
       "      <th>Beta_5</th>\n",
       "      <th>New_F1</th>\n",
       "      <th>New_F2</th>\n",
       "      <th>New_F3</th>\n",
       "      <th>New_F4</th>\n",
       "      <th>New_F5</th>\n",
       "      <th>District</th>\n",
       "      <th>New_Production</th>\n",
       "    </tr>\n",
       "  </thead>\n",
       "  <tbody>\n",
       "    <tr>\n",
       "      <th>0</th>\n",
       "      <td>0.0</td>\n",
       "      <td>0.0</td>\n",
       "      <td>0.0</td>\n",
       "      <td>0.0</td>\n",
       "      <td>0.0</td>\n",
       "      <td>-0.954112</td>\n",
       "      <td>-0.923517</td>\n",
       "      <td>-0.969564</td>\n",
       "      <td>-0.894300</td>\n",
       "      <td>-0.824518</td>\n",
       "      <td>...</td>\n",
       "      <td>0.465641</td>\n",
       "      <td>0.390302</td>\n",
       "      <td>0.003291</td>\n",
       "      <td>-0.954112</td>\n",
       "      <td>-0.923517</td>\n",
       "      <td>-0.969564</td>\n",
       "      <td>-0.894300</td>\n",
       "      <td>-0.824518</td>\n",
       "      <td>BENGALURU</td>\n",
       "      <td>-0.909488</td>\n",
       "    </tr>\n",
       "    <tr>\n",
       "      <th>1</th>\n",
       "      <td>0.0</td>\n",
       "      <td>0.0</td>\n",
       "      <td>0.0</td>\n",
       "      <td>0.0</td>\n",
       "      <td>0.0</td>\n",
       "      <td>-0.898299</td>\n",
       "      <td>-0.411298</td>\n",
       "      <td>-0.440831</td>\n",
       "      <td>-0.486547</td>\n",
       "      <td>-0.493762</td>\n",
       "      <td>...</td>\n",
       "      <td>0.465641</td>\n",
       "      <td>0.390302</td>\n",
       "      <td>0.003291</td>\n",
       "      <td>-0.898299</td>\n",
       "      <td>-0.411298</td>\n",
       "      <td>-0.440831</td>\n",
       "      <td>-0.486547</td>\n",
       "      <td>-0.493762</td>\n",
       "      <td>BENGALURU(R)</td>\n",
       "      <td>-0.354850</td>\n",
       "    </tr>\n",
       "    <tr>\n",
       "      <th>2</th>\n",
       "      <td>0.0</td>\n",
       "      <td>0.0</td>\n",
       "      <td>0.0</td>\n",
       "      <td>0.0</td>\n",
       "      <td>0.0</td>\n",
       "      <td>-0.844569</td>\n",
       "      <td>-0.805840</td>\n",
       "      <td>-0.936542</td>\n",
       "      <td>-0.928196</td>\n",
       "      <td>-0.766046</td>\n",
       "      <td>...</td>\n",
       "      <td>0.465641</td>\n",
       "      <td>0.390302</td>\n",
       "      <td>0.003291</td>\n",
       "      <td>-0.844569</td>\n",
       "      <td>-0.805840</td>\n",
       "      <td>-0.936542</td>\n",
       "      <td>-0.928196</td>\n",
       "      <td>-0.766046</td>\n",
       "      <td>RAMANAGARA</td>\n",
       "      <td>-0.893787</td>\n",
       "    </tr>\n",
       "    <tr>\n",
       "      <th>3</th>\n",
       "      <td>0.0</td>\n",
       "      <td>0.0</td>\n",
       "      <td>0.0</td>\n",
       "      <td>0.0</td>\n",
       "      <td>0.0</td>\n",
       "      <td>1.187731</td>\n",
       "      <td>0.928753</td>\n",
       "      <td>2.535248</td>\n",
       "      <td>0.748113</td>\n",
       "      <td>2.232911</td>\n",
       "      <td>...</td>\n",
       "      <td>0.465641</td>\n",
       "      <td>0.390302</td>\n",
       "      <td>0.003291</td>\n",
       "      <td>1.187731</td>\n",
       "      <td>0.928753</td>\n",
       "      <td>2.535248</td>\n",
       "      <td>0.748113</td>\n",
       "      <td>2.232911</td>\n",
       "      <td>CHITRADURGA</td>\n",
       "      <td>1.494587</td>\n",
       "    </tr>\n",
       "    <tr>\n",
       "      <th>4</th>\n",
       "      <td>0.0</td>\n",
       "      <td>0.0</td>\n",
       "      <td>0.0</td>\n",
       "      <td>0.0</td>\n",
       "      <td>0.0</td>\n",
       "      <td>1.667804</td>\n",
       "      <td>0.970607</td>\n",
       "      <td>5.660616</td>\n",
       "      <td>3.071116</td>\n",
       "      <td>1.369011</td>\n",
       "      <td>...</td>\n",
       "      <td>0.465641</td>\n",
       "      <td>0.390302</td>\n",
       "      <td>0.003291</td>\n",
       "      <td>1.667804</td>\n",
       "      <td>0.970607</td>\n",
       "      <td>5.660616</td>\n",
       "      <td>3.071116</td>\n",
       "      <td>1.369011</td>\n",
       "      <td>DAVANAGERE</td>\n",
       "      <td>3.764124</td>\n",
       "    </tr>\n",
       "    <tr>\n",
       "      <th>...</th>\n",
       "      <td>...</td>\n",
       "      <td>...</td>\n",
       "      <td>...</td>\n",
       "      <td>...</td>\n",
       "      <td>...</td>\n",
       "      <td>...</td>\n",
       "      <td>...</td>\n",
       "      <td>...</td>\n",
       "      <td>...</td>\n",
       "      <td>...</td>\n",
       "      <td>...</td>\n",
       "      <td>...</td>\n",
       "      <td>...</td>\n",
       "      <td>...</td>\n",
       "      <td>...</td>\n",
       "      <td>...</td>\n",
       "      <td>...</td>\n",
       "      <td>...</td>\n",
       "      <td>...</td>\n",
       "      <td>...</td>\n",
       "      <td>...</td>\n",
       "    </tr>\n",
       "    <tr>\n",
       "      <th>4992576</th>\n",
       "      <td>1.0</td>\n",
       "      <td>1.0</td>\n",
       "      <td>1.0</td>\n",
       "      <td>1.0</td>\n",
       "      <td>1.0</td>\n",
       "      <td>-0.885332</td>\n",
       "      <td>-0.840216</td>\n",
       "      <td>-0.911641</td>\n",
       "      <td>-0.851621</td>\n",
       "      <td>-0.773501</td>\n",
       "      <td>...</td>\n",
       "      <td>0.465641</td>\n",
       "      <td>0.390302</td>\n",
       "      <td>0.003291</td>\n",
       "      <td>-0.885332</td>\n",
       "      <td>-0.840216</td>\n",
       "      <td>-0.911641</td>\n",
       "      <td>-0.851621</td>\n",
       "      <td>-0.773501</td>\n",
       "      <td>KALABURAGI</td>\n",
       "      <td>-0.854359</td>\n",
       "    </tr>\n",
       "    <tr>\n",
       "      <th>4992577</th>\n",
       "      <td>1.0</td>\n",
       "      <td>1.0</td>\n",
       "      <td>1.0</td>\n",
       "      <td>1.0</td>\n",
       "      <td>1.0</td>\n",
       "      <td>-0.956019</td>\n",
       "      <td>-0.953474</td>\n",
       "      <td>-0.976030</td>\n",
       "      <td>-0.905219</td>\n",
       "      <td>-0.834024</td>\n",
       "      <td>...</td>\n",
       "      <td>0.465641</td>\n",
       "      <td>0.390302</td>\n",
       "      <td>0.003291</td>\n",
       "      <td>-0.956019</td>\n",
       "      <td>-0.953474</td>\n",
       "      <td>-0.976030</td>\n",
       "      <td>-0.905219</td>\n",
       "      <td>-0.834024</td>\n",
       "      <td>YADGIRI</td>\n",
       "      <td>-0.925749</td>\n",
       "    </tr>\n",
       "    <tr>\n",
       "      <th>4992578</th>\n",
       "      <td>1.0</td>\n",
       "      <td>1.0</td>\n",
       "      <td>1.0</td>\n",
       "      <td>1.0</td>\n",
       "      <td>1.0</td>\n",
       "      <td>-0.949871</td>\n",
       "      <td>-0.977746</td>\n",
       "      <td>-0.912950</td>\n",
       "      <td>-0.953415</td>\n",
       "      <td>-0.842227</td>\n",
       "      <td>...</td>\n",
       "      <td>0.465641</td>\n",
       "      <td>0.390302</td>\n",
       "      <td>0.003291</td>\n",
       "      <td>-0.949871</td>\n",
       "      <td>-0.977746</td>\n",
       "      <td>-0.912950</td>\n",
       "      <td>-0.953415</td>\n",
       "      <td>-0.842227</td>\n",
       "      <td>RAICHUR</td>\n",
       "      <td>-0.924118</td>\n",
       "    </tr>\n",
       "    <tr>\n",
       "      <th>4992579</th>\n",
       "      <td>1.0</td>\n",
       "      <td>1.0</td>\n",
       "      <td>1.0</td>\n",
       "      <td>1.0</td>\n",
       "      <td>1.0</td>\n",
       "      <td>1.311112</td>\n",
       "      <td>-0.094450</td>\n",
       "      <td>0.842439</td>\n",
       "      <td>0.763047</td>\n",
       "      <td>0.507441</td>\n",
       "      <td>...</td>\n",
       "      <td>0.465641</td>\n",
       "      <td>0.390302</td>\n",
       "      <td>0.003291</td>\n",
       "      <td>1.311112</td>\n",
       "      <td>-0.094450</td>\n",
       "      <td>0.842439</td>\n",
       "      <td>0.763047</td>\n",
       "      <td>0.507441</td>\n",
       "      <td>KOPPAL</td>\n",
       "      <td>0.360216</td>\n",
       "    </tr>\n",
       "    <tr>\n",
       "      <th>4992580</th>\n",
       "      <td>1.0</td>\n",
       "      <td>1.0</td>\n",
       "      <td>1.0</td>\n",
       "      <td>1.0</td>\n",
       "      <td>1.0</td>\n",
       "      <td>0.268799</td>\n",
       "      <td>-0.447550</td>\n",
       "      <td>0.906308</td>\n",
       "      <td>0.356000</td>\n",
       "      <td>0.278146</td>\n",
       "      <td>...</td>\n",
       "      <td>0.465641</td>\n",
       "      <td>0.390302</td>\n",
       "      <td>0.003291</td>\n",
       "      <td>0.268799</td>\n",
       "      <td>-0.447550</td>\n",
       "      <td>0.906308</td>\n",
       "      <td>0.356000</td>\n",
       "      <td>0.278146</td>\n",
       "      <td>VIJAYANAGARA</td>\n",
       "      <td>0.342867</td>\n",
       "    </tr>\n",
       "  </tbody>\n",
       "</table>\n",
       "<p>4992581 rows × 23 columns</p>\n",
       "</div>"
      ],
      "text/plain": [
       "         Sensitivity_SowingSeedsDistributed_Maize  \\\n",
       "0                                             0.0   \n",
       "1                                             0.0   \n",
       "2                                             0.0   \n",
       "3                                             0.0   \n",
       "4                                             0.0   \n",
       "...                                           ...   \n",
       "4992576                                       1.0   \n",
       "4992577                                       1.0   \n",
       "4992578                                       1.0   \n",
       "4992579                                       1.0   \n",
       "4992580                                       1.0   \n",
       "\n",
       "         Sensitivity_LivestockCensus_2012_Cattle  \\\n",
       "0                                            0.0   \n",
       "1                                            0.0   \n",
       "2                                            0.0   \n",
       "3                                            0.0   \n",
       "4                                            0.0   \n",
       "...                                          ...   \n",
       "4992576                                      1.0   \n",
       "4992577                                      1.0   \n",
       "4992578                                      1.0   \n",
       "4992579                                      1.0   \n",
       "4992580                                      1.0   \n",
       "\n",
       "         Sensitivity_AreaUnderCereals_Maize  Sensitivity_TotalNPK  \\\n",
       "0                                       0.0                   0.0   \n",
       "1                                       0.0                   0.0   \n",
       "2                                       0.0                   0.0   \n",
       "3                                       0.0                   0.0   \n",
       "4                                       0.0                   0.0   \n",
       "...                                     ...                   ...   \n",
       "4992576                                 1.0                   1.0   \n",
       "4992577                                 1.0                   1.0   \n",
       "4992578                                 1.0                   1.0   \n",
       "4992579                                 1.0                   1.0   \n",
       "4992580                                 1.0                   1.0   \n",
       "\n",
       "         Sensitivity_NetAreaIrrigatedUnderDifferentSources_TubeWells_NetIrrigatedArea  \\\n",
       "0                                                      0.0                              \n",
       "1                                                      0.0                              \n",
       "2                                                      0.0                              \n",
       "3                                                      0.0                              \n",
       "4                                                      0.0                              \n",
       "...                                                    ...                              \n",
       "4992576                                                1.0                              \n",
       "4992577                                                1.0                              \n",
       "4992578                                                1.0                              \n",
       "4992579                                                1.0                              \n",
       "4992580                                                1.0                              \n",
       "\n",
       "         SowingSeedsDistributed_Maize  LivestockCensus_2012_Cattle  \\\n",
       "0                           -0.954112                    -0.923517   \n",
       "1                           -0.898299                    -0.411298   \n",
       "2                           -0.844569                    -0.805840   \n",
       "3                            1.187731                     0.928753   \n",
       "4                            1.667804                     0.970607   \n",
       "...                               ...                          ...   \n",
       "4992576                     -0.885332                    -0.840216   \n",
       "4992577                     -0.956019                    -0.953474   \n",
       "4992578                     -0.949871                    -0.977746   \n",
       "4992579                      1.311112                    -0.094450   \n",
       "4992580                      0.268799                    -0.447550   \n",
       "\n",
       "         AreaUnderCereals_Maize  TotalNPK  \\\n",
       "0                     -0.969564 -0.894300   \n",
       "1                     -0.440831 -0.486547   \n",
       "2                     -0.936542 -0.928196   \n",
       "3                      2.535248  0.748113   \n",
       "4                      5.660616  3.071116   \n",
       "...                         ...       ...   \n",
       "4992576               -0.911641 -0.851621   \n",
       "4992577               -0.976030 -0.905219   \n",
       "4992578               -0.912950 -0.953415   \n",
       "4992579                0.842439  0.763047   \n",
       "4992580                0.906308  0.356000   \n",
       "\n",
       "         NetAreaIrrigatedUnderDifferentSources_TubeWells_NetIrrigatedArea  \\\n",
       "0                                                -0.824518                  \n",
       "1                                                -0.493762                  \n",
       "2                                                -0.766046                  \n",
       "3                                                 2.232911                  \n",
       "4                                                 1.369011                  \n",
       "...                                                    ...                  \n",
       "4992576                                          -0.773501                  \n",
       "4992577                                          -0.834024                  \n",
       "4992578                                          -0.842227                  \n",
       "4992579                                           0.507441                  \n",
       "4992580                                           0.278146                  \n",
       "\n",
       "         ...    Beta_3    Beta_4    Beta_5    New_F1    New_F2    New_F3  \\\n",
       "0        ...  0.465641  0.390302  0.003291 -0.954112 -0.923517 -0.969564   \n",
       "1        ...  0.465641  0.390302  0.003291 -0.898299 -0.411298 -0.440831   \n",
       "2        ...  0.465641  0.390302  0.003291 -0.844569 -0.805840 -0.936542   \n",
       "3        ...  0.465641  0.390302  0.003291  1.187731  0.928753  2.535248   \n",
       "4        ...  0.465641  0.390302  0.003291  1.667804  0.970607  5.660616   \n",
       "...      ...       ...       ...       ...       ...       ...       ...   \n",
       "4992576  ...  0.465641  0.390302  0.003291 -0.885332 -0.840216 -0.911641   \n",
       "4992577  ...  0.465641  0.390302  0.003291 -0.956019 -0.953474 -0.976030   \n",
       "4992578  ...  0.465641  0.390302  0.003291 -0.949871 -0.977746 -0.912950   \n",
       "4992579  ...  0.465641  0.390302  0.003291  1.311112 -0.094450  0.842439   \n",
       "4992580  ...  0.465641  0.390302  0.003291  0.268799 -0.447550  0.906308   \n",
       "\n",
       "           New_F4    New_F5      District  New_Production  \n",
       "0       -0.894300 -0.824518     BENGALURU       -0.909488  \n",
       "1       -0.486547 -0.493762  BENGALURU(R)       -0.354850  \n",
       "2       -0.928196 -0.766046    RAMANAGARA       -0.893787  \n",
       "3        0.748113  2.232911   CHITRADURGA        1.494587  \n",
       "4        3.071116  1.369011    DAVANAGERE        3.764124  \n",
       "...           ...       ...           ...             ...  \n",
       "4992576 -0.851621 -0.773501    KALABURAGI       -0.854359  \n",
       "4992577 -0.905219 -0.834024       YADGIRI       -0.925749  \n",
       "4992578 -0.953415 -0.842227       RAICHUR       -0.924118  \n",
       "4992579  0.763047  0.507441        KOPPAL        0.360216  \n",
       "4992580  0.356000  0.278146  VIJAYANAGARA        0.342867  \n",
       "\n",
       "[4992581 rows x 23 columns]"
      ]
     },
     "execution_count": 281,
     "metadata": {},
     "output_type": "execute_result"
    }
   ],
   "source": [
    "result_df['New_Production'] = result_df['Beta_1'] * result_df['New_F1'] + result_df['Beta_2'] * result_df['New_F2'] + result_df['Beta_3'] * result_df['New_F3'] + result_df['Beta_4'] * result_df['New_F4']  + result_df['Beta_5'] * result_df['New_F5'] + result_df['Beta_0']\n",
    "result_df"
   ]
  },
  {
   "cell_type": "code",
   "execution_count": 282,
   "metadata": {},
   "outputs": [],
   "source": [
    "def normalize_list(lst):\n",
    "    min_val = min(lst)\n",
    "    max_val = max(lst)\n",
    "    normalized_lst = [(x - min_val) / (max_val - min_val) for x in lst]\n",
    "    return normalized_lst"
   ]
  },
  {
   "cell_type": "code",
   "execution_count": 283,
   "metadata": {},
   "outputs": [
    {
     "name": "stdout",
     "output_type": "stream",
     "text": [
      "    1   2   3   4   5   6   7   8   9   10  ...  22  23  24  25  26  27  28  \\\n",
      "1    0   1   1   0   0   0   0   0   0   0  ...   0   0   0   0   0   0   0   \n",
      "2    1   0   1   0   0   1   1   0   1   0  ...   0   0   0   0   0   0   0   \n",
      "3    1   1   0   0   0   0   0   0   1   0  ...   0   0   0   0   0   0   0   \n",
      "4    0   0   0   0   1   0   0   0   1   1  ...   0   0   0   1   0   0   0   \n",
      "5    0   0   0   1   0   0   0   1   0   1  ...   0   1   0   1   0   0   0   \n",
      "6    0   1   0   0   0   0   1   0   0   0  ...   0   0   0   0   0   0   0   \n",
      "7    0   1   0   0   0   1   0   0   1   0  ...   0   0   0   0   0   0   0   \n",
      "8    0   0   0   0   1   0   0   0   0   1  ...   0   1   1   0   0   0   0   \n",
      "9    0   1   1   1   0   0   1   0   0   1  ...   0   0   0   0   0   0   0   \n",
      "10   0   0   0   1   1   0   0   1   1   0  ...   0   0   0   0   0   0   0   \n",
      "11   0   0   0   0   0   0   0   0   0   1  ...   0   0   0   0   0   0   0   \n",
      "12   0   0   0   0   0   0   0   1   0   1  ...   0   0   1   0   0   0   0   \n",
      "13   0   0   0   0   0   0   0   0   1   1  ...   0   0   0   0   0   0   0   \n",
      "14   0   0   0   0   0   0   0   0   0   0  ...   0   0   0   0   0   0   0   \n",
      "15   0   0   1   0   0   0   0   0   1   0  ...   0   0   0   0   0   0   0   \n",
      "16   0   0   0   0   0   0   0   0   0   0  ...   0   0   0   0   0   0   0   \n",
      "17   0   0   1   0   0   0   0   0   0   0  ...   0   0   0   0   0   0   0   \n",
      "18   0   0   0   0   0   0   0   0   0   0  ...   1   0   1   0   0   0   0   \n",
      "19   0   0   0   0   0   0   0   0   0   0  ...   0   0   0   0   0   1   1   \n",
      "20   0   0   0   0   0   0   0   0   0   0  ...   1   0   0   0   0   0   0   \n",
      "21   0   0   0   0   0   0   0   0   0   0  ...   1   1   1   0   0   0   0   \n",
      "22   0   0   0   0   0   0   0   0   0   0  ...   0   1   0   1   0   0   0   \n",
      "23   0   0   0   0   1   0   0   1   0   0  ...   1   0   1   1   0   0   0   \n",
      "24   0   0   0   0   0   0   0   1   0   0  ...   0   1   0   0   0   0   0   \n",
      "25   0   0   0   1   1   0   0   0   0   0  ...   1   1   0   0   0   0   0   \n",
      "26   0   0   0   0   0   0   0   0   0   0  ...   0   0   0   0   0   1   0   \n",
      "27   0   0   0   0   0   0   0   0   0   0  ...   0   0   0   0   1   0   1   \n",
      "28   0   0   0   0   0   0   0   0   0   0  ...   0   0   0   0   0   1   0   \n",
      "29   0   0   0   0   0   0   0   0   0   0  ...   0   0   0   1   0   0   1   \n",
      "30   0   0   0   0   0   0   0   0   0   0  ...   1   0   0   1   0   0   0   \n",
      "31   0   0   0   1   1   0   0   0   0   0  ...   1   1   0   1   0   0   0   \n",
      "\n",
      "    29  30  31  \n",
      "1    0   0   0  \n",
      "2    0   0   0  \n",
      "3    0   0   0  \n",
      "4    0   0   1  \n",
      "5    0   0   1  \n",
      "6    0   0   0  \n",
      "7    0   0   0  \n",
      "8    0   0   0  \n",
      "9    0   0   0  \n",
      "10   0   0   0  \n",
      "11   0   0   0  \n",
      "12   0   0   0  \n",
      "13   0   0   0  \n",
      "14   0   0   0  \n",
      "15   0   0   0  \n",
      "16   0   0   0  \n",
      "17   0   0   0  \n",
      "18   0   0   0  \n",
      "19   1   0   0  \n",
      "20   1   1   0  \n",
      "21   0   0   0  \n",
      "22   0   1   1  \n",
      "23   0   0   1  \n",
      "24   0   0   0  \n",
      "25   1   1   1  \n",
      "26   0   0   0  \n",
      "27   0   0   0  \n",
      "28   1   0   0  \n",
      "29   0   1   0  \n",
      "30   1   0   1  \n",
      "31   0   1   0  \n",
      "\n",
      "[31 rows x 31 columns]\n"
     ]
    }
   ],
   "source": [
    "import pandas as pd\n",
    "import numpy as np\n",
    "\n",
    "adjacency_excel = pd.read_excel('Karnataka_District_Adjacency_File.xlsx')\n",
    "\n",
    "district_codes = sorted(set(adjacency_excel['District_Code']))\n",
    "\n",
    "n = len(district_codes)\n",
    "adj_matrix = np.zeros((n, n), dtype=int)\n",
    "\n",
    "code_to_index = {code: idx for idx, code in enumerate(district_codes)}\n",
    "\n",
    "for i in range(len(adjacency_excel)):\n",
    "    district_code = adjacency_excel['District_Code'][i]\n",
    "    neighbors = [int(num) for num in str(adjacency_excel['District_Neighbors'][i]).split(',') if num.strip().isdigit()]\n",
    "    \n",
    "    for neighbor in neighbors:\n",
    "        adj_matrix[code_to_index[district_code]][code_to_index[neighbor]] = 1\n",
    "        adj_matrix[code_to_index[neighbor]][code_to_index[district_code]] = 1  # Assuming adjacency is bidirectional\n",
    "\n",
    "adj_matrix_df = pd.DataFrame(adj_matrix, index=district_codes, columns=district_codes)\n",
    "\n",
    "print(adj_matrix_df)\n",
    "\n",
    "adj_matrix_np = adj_matrix_df.to_numpy()"
   ]
  },
  {
   "cell_type": "code",
   "execution_count": 285,
   "metadata": {},
   "outputs": [],
   "source": [
    "def calculate_avg_capability(capability, neighbors):\n",
    "    num_neighbors = len(neighbors)\n",
    "    if num_neighbors == 0:\n",
    "        return 0\n",
    "    sum_capabilities = sum(capability[n] for n in neighbors)\n",
    "    return sum_capabilities / num_neighbors\n",
    "\n",
    "def calculate_stress_stability(capability, adjacency_matrix):\n",
    "    n = len(capability)\n",
    "    stress = np.zeros(n)\n",
    "    stability = np.zeros(n)\n",
    "    \n",
    "    for i in range(n):\n",
    "        neighbors = [j for j in range(n) if adjacency_matrix[i][j] == 1 and i != j]\n",
    "        if len(neighbors) > 0:\n",
    "            avg_capability = calculate_avg_capability(capability, neighbors)\n",
    "            stress[i] = abs(avg_capability - capability[i])\n",
    "            stability[i] = 1 - stress[i]\n",
    "        else:\n",
    "            stress[i] = 0  # If no neighbors, stress is zero\n",
    "            stability[i] = 1\n",
    "        \n",
    "    return stress, stability"
   ]
  },
  {
   "cell_type": "code",
   "execution_count": 286,
   "metadata": {},
   "outputs": [
    {
     "name": "stdout",
     "output_type": "stream",
     "text": [
      "161051\n",
      "31\n",
      "4992581 4992581\n"
     ]
    }
   ],
   "source": [
    "stress_values_list = []\n",
    "stability_values_list = []\n",
    "\n",
    "# Define batch size\n",
    "batch_size = case_file_length\n",
    "\n",
    "# Iterate over the New_Production column in batches of 31\n",
    "num_batches = len(result_df) // batch_size\n",
    "\n",
    "for i in range(num_batches):\n",
    "    # Get the batch of 31 production values\n",
    "    start_idx = i * batch_size\n",
    "    end_idx = start_idx + batch_size\n",
    "    batch = normalize_list(result_df['New_Production'][start_idx:end_idx].values)\n",
    "    \n",
    "    # Calculate the stress and stability values for the batch\n",
    "    stress_batch, stability_batch = calculate_stress_stability(batch, adj_matrix_np)\n",
    "    \n",
    "    stress_values_list.extend(stress_batch)\n",
    "    stability_values_list.extend(stability_batch)\n",
    "\n",
    "\n",
    "print(num_batches)\n",
    "print(len(stress_batch))\n",
    "print(len(stress_values_list), len(stability_values_list))\n",
    "\n",
    "result_df['Stress_Values'] = stress_values_list\n",
    "result_df['Stability_Values'] = stability_values_list"
   ]
  },
  {
   "cell_type": "code",
   "execution_count": 287,
   "metadata": {},
   "outputs": [
    {
     "data": {
      "text/plain": [
       "Index(['Sensitivity_SowingSeedsDistributed_Maize',\n",
       "       'Sensitivity_LivestockCensus_2012_Cattle',\n",
       "       'Sensitivity_AreaUnderCereals_Maize', 'Sensitivity_TotalNPK',\n",
       "       'Sensitivity_NetAreaIrrigatedUnderDifferentSources_TubeWells_NetIrrigatedArea',\n",
       "       'SowingSeedsDistributed_Maize', 'LivestockCensus_2012_Cattle',\n",
       "       'AreaUnderCereals_Maize', 'TotalNPK',\n",
       "       'NetAreaIrrigatedUnderDifferentSources_TubeWells_NetIrrigatedArea',\n",
       "       'Beta_0', 'Beta_1', 'Beta_2', 'Beta_3', 'Beta_4', 'Beta_5', 'New_F1',\n",
       "       'New_F2', 'New_F3', 'New_F4', 'New_F5', 'District', 'New_Production',\n",
       "       'Stress_Values', 'Stability_Values'],\n",
       "      dtype='object')"
      ]
     },
     "execution_count": 287,
     "metadata": {},
     "output_type": "execute_result"
    }
   ],
   "source": [
    "result_df.columns"
   ]
  },
  {
   "cell_type": "code",
   "execution_count": 288,
   "metadata": {},
   "outputs": [],
   "source": [
    "# viz_df = result_df[['District','Sensitivity_LivestockCensus_2012_Cattle','Sensitivity_AreaUnderCereals_Maize',\n",
    "                    # 'Sensitivity_TotalNPK',\t'New_Production','Stability_Values']].copy()\n",
    "\n",
    "viz_df = result_df[['District','Sensitivity_SowingSeedsDistributed_Maize','Sensitivity_LivestockCensus_2012_Cattle','Sensitivity_AreaUnderCereals_Maize',\n",
    "                    'Sensitivity_TotalNPK',\t'Sensitivity_NetAreaIrrigatedUnderDifferentSources_TubeWells_NetIrrigatedArea','New_Production','Stability_Values']].copy()\n",
    "\n",
    "abbreviation_mapping = {\n",
    "    'BENGALURU': 'BLR',\n",
    "    'BENGALURU(R)': 'BLR(R)',\n",
    "    'RAMANAGARA': 'RGA',\n",
    "    'CHITRADURGA': 'CDA',\n",
    "    'DAVANAGERE': 'DVG',\n",
    "    'KOLAR': 'KLR',\n",
    "    'CHIKKABALLAPURA': 'CKA',\n",
    "    'SHIVAMOGGA': 'SMG',\n",
    "    'TUMAKURU': 'TKR',\n",
    "    'CHIKKAMAGALURU': 'CMG',\n",
    "    'DAKSHINA KANNADA': 'DKA',\n",
    "    'UDUPI': 'UPI',\n",
    "    'HASSAN': 'HSN',\n",
    "    'KODAGU': 'KDG',\n",
    "    'MANDYA': 'MDY',\n",
    "    'MYSURU': 'MYS',\n",
    "    'CHAMARAJANAGAR': 'CNR',\n",
    "    'BELAGAVI': 'BLG',\n",
    "    'VIJAYAPURA': 'VJP',\n",
    "    'BAGALKOT': 'BKT',\n",
    "    'DHARAWAD': 'DWD',\n",
    "    'GADAG': 'GDG',\n",
    "    'HAVERI': 'HVR',\n",
    "    'UTTARA KANNADA': 'UTK',\n",
    "    'BALLARI': 'BLL',\n",
    "    'BIDAR': 'BDR',\n",
    "    'KALABURAGI': 'KLB',\n",
    "    'YADGIRI': 'YDR',\n",
    "    'RAICHUR': 'RCR',\n",
    "    'KOPPAL': 'KPL',\n",
    "    'VIJAYANAGARA' : 'VJN'\n",
    "}\n",
    "\n",
    "viz_df['Abbreviation'] = viz_df['District'].map(abbreviation_mapping)\n",
    "\n",
    "legend_labels = [{'Abbreviation': abb, 'Full Form': full_form} \n",
    "                    for abb, full_form in zip(viz_df['Abbreviation'].unique(), viz_df['District'].unique())]"
   ]
  },
  {
   "cell_type": "code",
   "execution_count": 297,
   "metadata": {},
   "outputs": [],
   "source": [
    "# viz_df['New_Production'] = viz_df['New_Production'].apply(lambda x: max(0, x))\n",
    "y = y_st\n",
    "\n",
    "viz_df['Percentage Change'] = viz_df['New_Production'] - np.tile(y.values, len(viz_df) // case_file_length + 1)[:len(viz_df)]\n",
    "for i in range(0, len(viz_df), case_file_length):\n",
    "    viz_df.loc[i:i+case_file_length-1, 'Percentage Change'] = viz_df.loc[i:i+case_file_length-1, 'Percentage Change'] \n",
    "    # viz_df.loc[i:i+case_file_length-1, 'Normalized Percentage Change'] = normalize_list(viz_df.loc[i:i+case_file_length-1, 'Percentage Change'])\n",
    "\n",
    "viz_df['Percentage Change'] = viz_df['Percentage Change'].replace([np.inf, -np.inf], 0)"
   ]
  },
  {
   "cell_type": "code",
   "execution_count": 298,
   "metadata": {},
   "outputs": [
    {
     "data": {
      "application/vnd.plotly.v1+json": {
       "config": {
        "plotlyServerURL": "https://plot.ly"
       },
       "data": [
        {
         "hovertemplate": "Stability=%{x}<br>Percentage Change=%{y}<br>Abbreviation=%{text}<extra></extra>",
         "legendgroup": "",
         "marker": {
          "color": "darkblue",
          "opacity": 1,
          "symbol": "circle"
         },
         "mode": "markers+text",
         "name": "",
         "orientation": "v",
         "showlegend": false,
         "text": [
          "BLR",
          "BLR(R)",
          "RGA",
          "CDA",
          "DVG",
          "KLR",
          "CKA",
          "SMG",
          "TKR",
          "CMG",
          "DKA",
          "UPI",
          "HSN",
          "KDG",
          "MDY",
          "MYS",
          "CNR",
          "BLG",
          "VJP",
          "BKT",
          "DWD",
          "GDG",
          "HVR",
          "UTK",
          "BLL",
          "BDR",
          "KLB",
          "YDR",
          "RCR",
          "KPL",
          "VJN"
         ],
         "textfont": {
          "size": 11
         },
         "textposition": "top center",
         "type": "scatter",
         "x": [
          0.9468652594143981,
          0.9837809292517968,
          0.8993567163080204,
          0.8784707564883412,
          0.4881761898865633,
          0.7856054967109021,
          0.7588859086527187,
          0.9695290457280841,
          0.9011162400570844,
          0.8513542447654895,
          0.812926669839431,
          0.8613891745890183,
          0.6040010561670903,
          0.8022956155819656,
          0.7908516857998875,
          0.9612529185867211,
          0.8170217814874818,
          0.21075059182045153,
          0.9821832868604443,
          0.9217459460003673,
          0.6946546380432644,
          0.7129358516631248,
          0.5444985272809926,
          0.5775928294754054,
          0.8521966100277104,
          0.9878165260080034,
          0.9248170770011617,
          0.9073526129458404,
          0.7709899114797478,
          0.965209436648478,
          0.7882170540865595
         ],
         "xaxis": "x",
         "y": [
          -0.017758823999122653,
          0.1860508893002784,
          -0.06895638919606317,
          0.008563889768559374,
          -0.5633077489375085,
          -0.036302795306374924,
          0.7653032219545112,
          -0.23572169660706688,
          0.077775805931387,
          0.38549311880384046,
          -0.05734912862194008,
          -0.057354116400116784,
          -0.2869001918226117,
          0.09325301256452334,
          -0.06231354662869204,
          0.11964541873946344,
          0.16326736610709813,
          0.2132731796474605,
          -0.589757622521895,
          -0.052333297989204164,
          0.103614068834113,
          -0.4550711623570427,
          0.3273356908878067,
          -0.09896171813574395,
          0.3406855913618629,
          -0.027239730471567247,
          -0.06638301840323668,
          -0.03220006266488007,
          -0.01333853756100345,
          -0.40369725763867575,
          0.3406855913618629
         ],
         "yaxis": "y"
        },
        {
         "marker": {
          "color": "darkblue"
         },
         "mode": "markers",
         "name": "BLR: BENGALURU",
         "type": "scatter",
         "x": [
          null
         ],
         "y": [
          null
         ]
        },
        {
         "marker": {
          "color": "darkblue"
         },
         "mode": "markers",
         "name": "BLR(R): BENGALURU(R)",
         "type": "scatter",
         "x": [
          null
         ],
         "y": [
          null
         ]
        },
        {
         "marker": {
          "color": "darkblue"
         },
         "mode": "markers",
         "name": "RGA: RAMANAGARA",
         "type": "scatter",
         "x": [
          null
         ],
         "y": [
          null
         ]
        },
        {
         "marker": {
          "color": "darkblue"
         },
         "mode": "markers",
         "name": "CDA: CHITRADURGA",
         "type": "scatter",
         "x": [
          null
         ],
         "y": [
          null
         ]
        },
        {
         "marker": {
          "color": "darkblue"
         },
         "mode": "markers",
         "name": "DVG: DAVANAGERE",
         "type": "scatter",
         "x": [
          null
         ],
         "y": [
          null
         ]
        },
        {
         "marker": {
          "color": "darkblue"
         },
         "mode": "markers",
         "name": "KLR: KOLAR",
         "type": "scatter",
         "x": [
          null
         ],
         "y": [
          null
         ]
        },
        {
         "marker": {
          "color": "darkblue"
         },
         "mode": "markers",
         "name": "CKA: CHIKKABALLAPURA",
         "type": "scatter",
         "x": [
          null
         ],
         "y": [
          null
         ]
        },
        {
         "marker": {
          "color": "darkblue"
         },
         "mode": "markers",
         "name": "SMG: SHIVAMOGGA",
         "type": "scatter",
         "x": [
          null
         ],
         "y": [
          null
         ]
        },
        {
         "marker": {
          "color": "darkblue"
         },
         "mode": "markers",
         "name": "TKR: TUMAKURU",
         "type": "scatter",
         "x": [
          null
         ],
         "y": [
          null
         ]
        },
        {
         "marker": {
          "color": "darkblue"
         },
         "mode": "markers",
         "name": "CMG: CHIKKAMAGALURU",
         "type": "scatter",
         "x": [
          null
         ],
         "y": [
          null
         ]
        },
        {
         "marker": {
          "color": "darkblue"
         },
         "mode": "markers",
         "name": "DKA: DAKSHINA KANNADA",
         "type": "scatter",
         "x": [
          null
         ],
         "y": [
          null
         ]
        },
        {
         "marker": {
          "color": "darkblue"
         },
         "mode": "markers",
         "name": "UPI: UDUPI",
         "type": "scatter",
         "x": [
          null
         ],
         "y": [
          null
         ]
        },
        {
         "marker": {
          "color": "darkblue"
         },
         "mode": "markers",
         "name": "HSN: HASSAN",
         "type": "scatter",
         "x": [
          null
         ],
         "y": [
          null
         ]
        },
        {
         "marker": {
          "color": "darkblue"
         },
         "mode": "markers",
         "name": "KDG: KODAGU",
         "type": "scatter",
         "x": [
          null
         ],
         "y": [
          null
         ]
        },
        {
         "marker": {
          "color": "darkblue"
         },
         "mode": "markers",
         "name": "MDY: MANDYA",
         "type": "scatter",
         "x": [
          null
         ],
         "y": [
          null
         ]
        },
        {
         "marker": {
          "color": "darkblue"
         },
         "mode": "markers",
         "name": "MYS: MYSURU",
         "type": "scatter",
         "x": [
          null
         ],
         "y": [
          null
         ]
        },
        {
         "marker": {
          "color": "darkblue"
         },
         "mode": "markers",
         "name": "CNR: CHAMARAJANAGAR",
         "type": "scatter",
         "x": [
          null
         ],
         "y": [
          null
         ]
        },
        {
         "marker": {
          "color": "darkblue"
         },
         "mode": "markers",
         "name": "BLG: BELAGAVI",
         "type": "scatter",
         "x": [
          null
         ],
         "y": [
          null
         ]
        },
        {
         "marker": {
          "color": "darkblue"
         },
         "mode": "markers",
         "name": "VJP: VIJAYAPURA",
         "type": "scatter",
         "x": [
          null
         ],
         "y": [
          null
         ]
        },
        {
         "marker": {
          "color": "darkblue"
         },
         "mode": "markers",
         "name": "BKT: BAGALKOT",
         "type": "scatter",
         "x": [
          null
         ],
         "y": [
          null
         ]
        },
        {
         "marker": {
          "color": "darkblue"
         },
         "mode": "markers",
         "name": "DWD: DHARAWAD",
         "type": "scatter",
         "x": [
          null
         ],
         "y": [
          null
         ]
        },
        {
         "marker": {
          "color": "darkblue"
         },
         "mode": "markers",
         "name": "GDG: GADAG",
         "type": "scatter",
         "x": [
          null
         ],
         "y": [
          null
         ]
        },
        {
         "marker": {
          "color": "darkblue"
         },
         "mode": "markers",
         "name": "HVR: HAVERI",
         "type": "scatter",
         "x": [
          null
         ],
         "y": [
          null
         ]
        },
        {
         "marker": {
          "color": "darkblue"
         },
         "mode": "markers",
         "name": "UTK: UTTARA KANNADA",
         "type": "scatter",
         "x": [
          null
         ],
         "y": [
          null
         ]
        },
        {
         "marker": {
          "color": "darkblue"
         },
         "mode": "markers",
         "name": "BLL: BALLARI",
         "type": "scatter",
         "x": [
          null
         ],
         "y": [
          null
         ]
        },
        {
         "marker": {
          "color": "darkblue"
         },
         "mode": "markers",
         "name": "BDR: BIDAR",
         "type": "scatter",
         "x": [
          null
         ],
         "y": [
          null
         ]
        },
        {
         "marker": {
          "color": "darkblue"
         },
         "mode": "markers",
         "name": "KLB: KALABURAGI",
         "type": "scatter",
         "x": [
          null
         ],
         "y": [
          null
         ]
        },
        {
         "marker": {
          "color": "darkblue"
         },
         "mode": "markers",
         "name": "YDR: YADGIRI",
         "type": "scatter",
         "x": [
          null
         ],
         "y": [
          null
         ]
        },
        {
         "marker": {
          "color": "darkblue"
         },
         "mode": "markers",
         "name": "RCR: RAICHUR",
         "type": "scatter",
         "x": [
          null
         ],
         "y": [
          null
         ]
        },
        {
         "marker": {
          "color": "darkblue"
         },
         "mode": "markers",
         "name": "KPL: KOPPAL",
         "type": "scatter",
         "x": [
          null
         ],
         "y": [
          null
         ]
        },
        {
         "marker": {
          "color": "darkblue"
         },
         "mode": "markers",
         "name": "VJN: VIJAYANAGARA",
         "type": "scatter",
         "x": [
          null
         ],
         "y": [
          null
         ]
        },
        {
         "mode": "text",
         "showlegend": false,
         "text": [
          "Avg Stability: 0.80"
         ],
         "textfont": {
          "size": 10.7
         },
         "type": "scatter",
         "x": [
          0.804962599634082
         ],
         "y": [
          -0.07
         ]
        },
        {
         "mode": "text",
         "showlegend": false,
         "text": [
          "Avg Impact: 0.00"
         ],
         "textfont": {
          "size": 10.7
         },
         "type": "scatter",
         "x": [
          0.3
         ],
         "y": [
          -0.039999999999999314
         ]
        }
       ],
       "layout": {
        "annotations": [
         {
          "font": {
           "size": 13
          },
          "showarrow": false,
          "text": "α<sub>MS</sub>: 0.50, α<sub>LV</sub>: 0.50, α<sub>AM</sub>: 0.50, α<sub>NPK</sub>: 0.50, α<sub>TBW</sub>: 0.50",
          "x": 0.5,
          "xref": "paper",
          "y": -0.25,
          "yref": "paper"
         }
        ],
        "legend": {
         "title": {
          "font": {
           "size": 12
          },
          "text": "Districts"
         },
         "tracegroupgap": 0
        },
        "shapes": [
         {
          "line": {
           "color": "red",
           "dash": "dash",
           "width": 1.5
          },
          "type": "line",
          "x0": 0.804962599634082,
          "x1": 0.804962599634082,
          "y0": 0,
          "y1": 1,
          "yref": "paper"
         },
         {
          "line": {
           "color": "red",
           "dash": "dash",
           "width": 1.5
          },
          "type": "line",
          "x0": 0,
          "x1": 1,
          "xref": "paper",
          "y0": 6.894126846462666e-16,
          "y1": 6.894126846462666e-16
         }
        ],
        "template": {
         "data": {
          "bar": [
           {
            "error_x": {
             "color": "#2a3f5f"
            },
            "error_y": {
             "color": "#2a3f5f"
            },
            "marker": {
             "line": {
              "color": "#E5ECF6",
              "width": 0.5
             },
             "pattern": {
              "fillmode": "overlay",
              "size": 10,
              "solidity": 0.2
             }
            },
            "type": "bar"
           }
          ],
          "barpolar": [
           {
            "marker": {
             "line": {
              "color": "#E5ECF6",
              "width": 0.5
             },
             "pattern": {
              "fillmode": "overlay",
              "size": 10,
              "solidity": 0.2
             }
            },
            "type": "barpolar"
           }
          ],
          "carpet": [
           {
            "aaxis": {
             "endlinecolor": "#2a3f5f",
             "gridcolor": "white",
             "linecolor": "white",
             "minorgridcolor": "white",
             "startlinecolor": "#2a3f5f"
            },
            "baxis": {
             "endlinecolor": "#2a3f5f",
             "gridcolor": "white",
             "linecolor": "white",
             "minorgridcolor": "white",
             "startlinecolor": "#2a3f5f"
            },
            "type": "carpet"
           }
          ],
          "choropleth": [
           {
            "colorbar": {
             "outlinewidth": 0,
             "ticks": ""
            },
            "type": "choropleth"
           }
          ],
          "contour": [
           {
            "colorbar": {
             "outlinewidth": 0,
             "ticks": ""
            },
            "colorscale": [
             [
              0,
              "#0d0887"
             ],
             [
              0.1111111111111111,
              "#46039f"
             ],
             [
              0.2222222222222222,
              "#7201a8"
             ],
             [
              0.3333333333333333,
              "#9c179e"
             ],
             [
              0.4444444444444444,
              "#bd3786"
             ],
             [
              0.5555555555555556,
              "#d8576b"
             ],
             [
              0.6666666666666666,
              "#ed7953"
             ],
             [
              0.7777777777777778,
              "#fb9f3a"
             ],
             [
              0.8888888888888888,
              "#fdca26"
             ],
             [
              1,
              "#f0f921"
             ]
            ],
            "type": "contour"
           }
          ],
          "contourcarpet": [
           {
            "colorbar": {
             "outlinewidth": 0,
             "ticks": ""
            },
            "type": "contourcarpet"
           }
          ],
          "heatmap": [
           {
            "colorbar": {
             "outlinewidth": 0,
             "ticks": ""
            },
            "colorscale": [
             [
              0,
              "#0d0887"
             ],
             [
              0.1111111111111111,
              "#46039f"
             ],
             [
              0.2222222222222222,
              "#7201a8"
             ],
             [
              0.3333333333333333,
              "#9c179e"
             ],
             [
              0.4444444444444444,
              "#bd3786"
             ],
             [
              0.5555555555555556,
              "#d8576b"
             ],
             [
              0.6666666666666666,
              "#ed7953"
             ],
             [
              0.7777777777777778,
              "#fb9f3a"
             ],
             [
              0.8888888888888888,
              "#fdca26"
             ],
             [
              1,
              "#f0f921"
             ]
            ],
            "type": "heatmap"
           }
          ],
          "heatmapgl": [
           {
            "colorbar": {
             "outlinewidth": 0,
             "ticks": ""
            },
            "colorscale": [
             [
              0,
              "#0d0887"
             ],
             [
              0.1111111111111111,
              "#46039f"
             ],
             [
              0.2222222222222222,
              "#7201a8"
             ],
             [
              0.3333333333333333,
              "#9c179e"
             ],
             [
              0.4444444444444444,
              "#bd3786"
             ],
             [
              0.5555555555555556,
              "#d8576b"
             ],
             [
              0.6666666666666666,
              "#ed7953"
             ],
             [
              0.7777777777777778,
              "#fb9f3a"
             ],
             [
              0.8888888888888888,
              "#fdca26"
             ],
             [
              1,
              "#f0f921"
             ]
            ],
            "type": "heatmapgl"
           }
          ],
          "histogram": [
           {
            "marker": {
             "pattern": {
              "fillmode": "overlay",
              "size": 10,
              "solidity": 0.2
             }
            },
            "type": "histogram"
           }
          ],
          "histogram2d": [
           {
            "colorbar": {
             "outlinewidth": 0,
             "ticks": ""
            },
            "colorscale": [
             [
              0,
              "#0d0887"
             ],
             [
              0.1111111111111111,
              "#46039f"
             ],
             [
              0.2222222222222222,
              "#7201a8"
             ],
             [
              0.3333333333333333,
              "#9c179e"
             ],
             [
              0.4444444444444444,
              "#bd3786"
             ],
             [
              0.5555555555555556,
              "#d8576b"
             ],
             [
              0.6666666666666666,
              "#ed7953"
             ],
             [
              0.7777777777777778,
              "#fb9f3a"
             ],
             [
              0.8888888888888888,
              "#fdca26"
             ],
             [
              1,
              "#f0f921"
             ]
            ],
            "type": "histogram2d"
           }
          ],
          "histogram2dcontour": [
           {
            "colorbar": {
             "outlinewidth": 0,
             "ticks": ""
            },
            "colorscale": [
             [
              0,
              "#0d0887"
             ],
             [
              0.1111111111111111,
              "#46039f"
             ],
             [
              0.2222222222222222,
              "#7201a8"
             ],
             [
              0.3333333333333333,
              "#9c179e"
             ],
             [
              0.4444444444444444,
              "#bd3786"
             ],
             [
              0.5555555555555556,
              "#d8576b"
             ],
             [
              0.6666666666666666,
              "#ed7953"
             ],
             [
              0.7777777777777778,
              "#fb9f3a"
             ],
             [
              0.8888888888888888,
              "#fdca26"
             ],
             [
              1,
              "#f0f921"
             ]
            ],
            "type": "histogram2dcontour"
           }
          ],
          "mesh3d": [
           {
            "colorbar": {
             "outlinewidth": 0,
             "ticks": ""
            },
            "type": "mesh3d"
           }
          ],
          "parcoords": [
           {
            "line": {
             "colorbar": {
              "outlinewidth": 0,
              "ticks": ""
             }
            },
            "type": "parcoords"
           }
          ],
          "pie": [
           {
            "automargin": true,
            "type": "pie"
           }
          ],
          "scatter": [
           {
            "fillpattern": {
             "fillmode": "overlay",
             "size": 10,
             "solidity": 0.2
            },
            "type": "scatter"
           }
          ],
          "scatter3d": [
           {
            "line": {
             "colorbar": {
              "outlinewidth": 0,
              "ticks": ""
             }
            },
            "marker": {
             "colorbar": {
              "outlinewidth": 0,
              "ticks": ""
             }
            },
            "type": "scatter3d"
           }
          ],
          "scattercarpet": [
           {
            "marker": {
             "colorbar": {
              "outlinewidth": 0,
              "ticks": ""
             }
            },
            "type": "scattercarpet"
           }
          ],
          "scattergeo": [
           {
            "marker": {
             "colorbar": {
              "outlinewidth": 0,
              "ticks": ""
             }
            },
            "type": "scattergeo"
           }
          ],
          "scattergl": [
           {
            "marker": {
             "colorbar": {
              "outlinewidth": 0,
              "ticks": ""
             }
            },
            "type": "scattergl"
           }
          ],
          "scattermapbox": [
           {
            "marker": {
             "colorbar": {
              "outlinewidth": 0,
              "ticks": ""
             }
            },
            "type": "scattermapbox"
           }
          ],
          "scatterpolar": [
           {
            "marker": {
             "colorbar": {
              "outlinewidth": 0,
              "ticks": ""
             }
            },
            "type": "scatterpolar"
           }
          ],
          "scatterpolargl": [
           {
            "marker": {
             "colorbar": {
              "outlinewidth": 0,
              "ticks": ""
             }
            },
            "type": "scatterpolargl"
           }
          ],
          "scatterternary": [
           {
            "marker": {
             "colorbar": {
              "outlinewidth": 0,
              "ticks": ""
             }
            },
            "type": "scatterternary"
           }
          ],
          "surface": [
           {
            "colorbar": {
             "outlinewidth": 0,
             "ticks": ""
            },
            "colorscale": [
             [
              0,
              "#0d0887"
             ],
             [
              0.1111111111111111,
              "#46039f"
             ],
             [
              0.2222222222222222,
              "#7201a8"
             ],
             [
              0.3333333333333333,
              "#9c179e"
             ],
             [
              0.4444444444444444,
              "#bd3786"
             ],
             [
              0.5555555555555556,
              "#d8576b"
             ],
             [
              0.6666666666666666,
              "#ed7953"
             ],
             [
              0.7777777777777778,
              "#fb9f3a"
             ],
             [
              0.8888888888888888,
              "#fdca26"
             ],
             [
              1,
              "#f0f921"
             ]
            ],
            "type": "surface"
           }
          ],
          "table": [
           {
            "cells": {
             "fill": {
              "color": "#EBF0F8"
             },
             "line": {
              "color": "white"
             }
            },
            "header": {
             "fill": {
              "color": "#C8D4E3"
             },
             "line": {
              "color": "white"
             }
            },
            "type": "table"
           }
          ]
         },
         "layout": {
          "annotationdefaults": {
           "arrowcolor": "#2a3f5f",
           "arrowhead": 0,
           "arrowwidth": 1
          },
          "autotypenumbers": "strict",
          "coloraxis": {
           "colorbar": {
            "outlinewidth": 0,
            "ticks": ""
           }
          },
          "colorscale": {
           "diverging": [
            [
             0,
             "#8e0152"
            ],
            [
             0.1,
             "#c51b7d"
            ],
            [
             0.2,
             "#de77ae"
            ],
            [
             0.3,
             "#f1b6da"
            ],
            [
             0.4,
             "#fde0ef"
            ],
            [
             0.5,
             "#f7f7f7"
            ],
            [
             0.6,
             "#e6f5d0"
            ],
            [
             0.7,
             "#b8e186"
            ],
            [
             0.8,
             "#7fbc41"
            ],
            [
             0.9,
             "#4d9221"
            ],
            [
             1,
             "#276419"
            ]
           ],
           "sequential": [
            [
             0,
             "#0d0887"
            ],
            [
             0.1111111111111111,
             "#46039f"
            ],
            [
             0.2222222222222222,
             "#7201a8"
            ],
            [
             0.3333333333333333,
             "#9c179e"
            ],
            [
             0.4444444444444444,
             "#bd3786"
            ],
            [
             0.5555555555555556,
             "#d8576b"
            ],
            [
             0.6666666666666666,
             "#ed7953"
            ],
            [
             0.7777777777777778,
             "#fb9f3a"
            ],
            [
             0.8888888888888888,
             "#fdca26"
            ],
            [
             1,
             "#f0f921"
            ]
           ],
           "sequentialminus": [
            [
             0,
             "#0d0887"
            ],
            [
             0.1111111111111111,
             "#46039f"
            ],
            [
             0.2222222222222222,
             "#7201a8"
            ],
            [
             0.3333333333333333,
             "#9c179e"
            ],
            [
             0.4444444444444444,
             "#bd3786"
            ],
            [
             0.5555555555555556,
             "#d8576b"
            ],
            [
             0.6666666666666666,
             "#ed7953"
            ],
            [
             0.7777777777777778,
             "#fb9f3a"
            ],
            [
             0.8888888888888888,
             "#fdca26"
            ],
            [
             1,
             "#f0f921"
            ]
           ]
          },
          "colorway": [
           "#636efa",
           "#EF553B",
           "#00cc96",
           "#ab63fa",
           "#FFA15A",
           "#19d3f3",
           "#FF6692",
           "#B6E880",
           "#FF97FF",
           "#FECB52"
          ],
          "font": {
           "color": "#2a3f5f"
          },
          "geo": {
           "bgcolor": "white",
           "lakecolor": "white",
           "landcolor": "#E5ECF6",
           "showlakes": true,
           "showland": true,
           "subunitcolor": "white"
          },
          "hoverlabel": {
           "align": "left"
          },
          "hovermode": "closest",
          "mapbox": {
           "style": "light"
          },
          "paper_bgcolor": "white",
          "plot_bgcolor": "#E5ECF6",
          "polar": {
           "angularaxis": {
            "gridcolor": "white",
            "linecolor": "white",
            "ticks": ""
           },
           "bgcolor": "#E5ECF6",
           "radialaxis": {
            "gridcolor": "white",
            "linecolor": "white",
            "ticks": ""
           }
          },
          "scene": {
           "xaxis": {
            "backgroundcolor": "#E5ECF6",
            "gridcolor": "white",
            "gridwidth": 2,
            "linecolor": "white",
            "showbackground": true,
            "ticks": "",
            "zerolinecolor": "white"
           },
           "yaxis": {
            "backgroundcolor": "#E5ECF6",
            "gridcolor": "white",
            "gridwidth": 2,
            "linecolor": "white",
            "showbackground": true,
            "ticks": "",
            "zerolinecolor": "white"
           },
           "zaxis": {
            "backgroundcolor": "#E5ECF6",
            "gridcolor": "white",
            "gridwidth": 2,
            "linecolor": "white",
            "showbackground": true,
            "ticks": "",
            "zerolinecolor": "white"
           }
          },
          "shapedefaults": {
           "line": {
            "color": "#2a3f5f"
           }
          },
          "ternary": {
           "aaxis": {
            "gridcolor": "white",
            "linecolor": "white",
            "ticks": ""
           },
           "baxis": {
            "gridcolor": "white",
            "linecolor": "white",
            "ticks": ""
           },
           "bgcolor": "#E5ECF6",
           "caxis": {
            "gridcolor": "white",
            "linecolor": "white",
            "ticks": ""
           }
          },
          "title": {
           "x": 0.05
          },
          "xaxis": {
           "automargin": true,
           "gridcolor": "white",
           "linecolor": "white",
           "ticks": "",
           "title": {
            "standoff": 15
           },
           "zerolinecolor": "white",
           "zerolinewidth": 2
          },
          "yaxis": {
           "automargin": true,
           "gridcolor": "white",
           "linecolor": "white",
           "ticks": "",
           "title": {
            "standoff": 15
           },
           "zerolinecolor": "white",
           "zerolinewidth": 2
          }
         }
        },
        "title": {
         "text": "Maize Percentage Change vs Stability"
        },
        "xaxis": {
         "anchor": "y",
         "domain": [
          0,
          1
         ],
         "title": {
          "text": "Stability"
         }
        },
        "yaxis": {
         "anchor": "x",
         "domain": [
          0,
          1
         ],
         "title": {
          "text": "Percentage Change"
         }
        }
       }
      }
     },
     "metadata": {},
     "output_type": "display_data"
    },
    {
     "data": {
      "application/vnd.jupyter.widget-view+json": {
       "model_id": "ffb1c7bea28d4a6bbb71bdd70708b7d5",
       "version_major": 2,
       "version_minor": 0
      },
      "text/plain": [
       "interactive(children=(FloatSlider(value=0.5, description='αMS:', max=1.0), FloatSlider(value=0.5, description=…"
      ]
     },
     "metadata": {},
     "output_type": "display_data"
    },
    {
     "data": {
      "application/vnd.jupyter.widget-view+json": {
       "model_id": "52d36347136a46878de35151fa713de8",
       "version_major": 2,
       "version_minor": 0
      },
      "text/plain": [
       "HBox(children=(Button(description='Update Plot', style=ButtonStyle()), FloatSlider(value=0.5, description='αMS…"
      ]
     },
     "execution_count": 298,
     "metadata": {},
     "output_type": "execute_result"
    }
   ],
   "source": [
    "import pandas as pd\n",
    "import plotly.express as px\n",
    "import ipywidgets as widgets\n",
    "from ipywidgets import interact\n",
    "from IPython.display import clear_output\n",
    "import plotly.graph_objects as go\n",
    "\n",
    "def update_plot(alpha1, alpha2, alpha3, alpha4, alpha5):\n",
    "    \n",
    "    tolerance = 1e-5 \n",
    "    filtered_df = viz_df[\n",
    "        (viz_df['Sensitivity_SowingSeedsDistributed_Maize'].between(alpha1 - tolerance, alpha1 + tolerance)) &\n",
    "        (viz_df['Sensitivity_LivestockCensus_2012_Cattle'].between(alpha2 - tolerance, alpha2 + tolerance)) &\n",
    "        (viz_df['Sensitivity_AreaUnderCereals_Maize'].between(alpha3 - tolerance, alpha3 + tolerance)) & \n",
    "        (viz_df['Sensitivity_TotalNPK'].between(alpha4 - tolerance, alpha4 + tolerance)) &\n",
    "        (viz_df['Sensitivity_NetAreaIrrigatedUnderDifferentSources_TubeWells_NetIrrigatedArea'].between(alpha5 - tolerance, alpha5 + tolerance))\n",
    "    ]\n",
    "\n",
    "    # Create a scatter plot with filtered data\n",
    "    fig = px.scatter(filtered_df, x='Stability_Values', y='Percentage Change', title='Maize Percentage Change vs Stability',\n",
    "                     labels={'Percentage Change': 'Percentage Change', 'Stability_Values': 'Stability'},\n",
    "                     text='Abbreviation', opacity=1, color_discrete_sequence=['darkblue'])\n",
    "\n",
    "    fig.update_traces(textposition='top center', textfont=dict(size=11))\n",
    "\n",
    "    # Update layout to add annotations and legends\n",
    "    fig.update_layout(\n",
    "        annotations=[\n",
    "            dict(\n",
    "                x=0.5,\n",
    "                y=-0.25,\n",
    "                showarrow=False,\n",
    "                text=f'α<sub>MS</sub>: {alpha1:.2f}, α<sub>LV</sub>: {alpha2:.2f}, α<sub>AM</sub>: {alpha3:.2f}, α<sub>NPK</sub>: {alpha4:.2f}, α<sub>TBW</sub>: {alpha5:.2f}',\n",
    "                xref=\"paper\",\n",
    "                yref=\"paper\",\n",
    "                font=dict(size=13)\n",
    "            )\n",
    "        ],\n",
    "        legend_title_text='Districts',\n",
    "        legend_title=dict(font=dict(size=12)),\n",
    "    )\n",
    "\n",
    "    # Adding custom legends with abbreviations and full forms\n",
    "    legend_labels = [{'Abbreviation': abb, 'Full Form': full_form} \n",
    "                     for abb, full_form in zip(filtered_df['Abbreviation'].unique(), filtered_df['District'].unique())]\n",
    "\n",
    "    for label in legend_labels:\n",
    "        fig.add_trace(go.Scatter(\n",
    "            x=[None],\n",
    "            y=[None],\n",
    "            mode='markers',\n",
    "            marker=dict(color='darkblue'),\n",
    "            name=f\"{label['Abbreviation']}: {label['Full Form']}\"\n",
    "        ))\n",
    "\n",
    "    # Adding average lines for stability and percentage change\n",
    "    avg_stability = filtered_df['Stability_Values'].mean()\n",
    "    avg_precent = filtered_df['Percentage Change'].mean()\n",
    "\n",
    "    fig.add_shape(\n",
    "        type='line',\n",
    "        x0=avg_stability, y0=0, x1=avg_stability, y1=1,\n",
    "        line=dict(color='red', width=1.5, dash='dash'),\n",
    "        yref='paper'\n",
    "    )\n",
    "\n",
    "    fig.add_shape(\n",
    "        type='line',\n",
    "        x0=0, y0=avg_precent, x1=1, y1=avg_precent,\n",
    "        line=dict(color='red', width=1.5, dash='dash'),\n",
    "        xref='paper'\n",
    "    )\n",
    "\n",
    "    # Add annotations for average values\n",
    "    fig.add_trace(go.Scatter(\n",
    "        x=[avg_stability],\n",
    "        y=[-0.07],\n",
    "        text=[f'Avg Stability: {avg_stability:.2f}'],\n",
    "        mode=\"text\",\n",
    "        showlegend=False,\n",
    "        textfont=dict(size=10.7)\n",
    "    ))\n",
    "\n",
    "    fig.add_trace(go.Scatter(\n",
    "        x=[0.3],\n",
    "        y=[avg_precent-0.04],\n",
    "        text=[f'Avg Impact: {avg_precent:.2f}'],\n",
    "        mode=\"text\",\n",
    "        showlegend=False,\n",
    "        textfont=dict(size=10.7)\n",
    "    ))\n",
    "\n",
    "    clear_output()\n",
    "\n",
    "    display(fig)\n",
    "\n",
    "# Creating sliders for interaction\n",
    "alpha1_slider = widgets.FloatSlider(value=0.5, min=0, max=1, step=0.1, description='αMS:')\n",
    "alpha2_slider = widgets.FloatSlider(value=0.5, min=0, max=1, step=0.1, description='αLV:')\n",
    "alpha3_slider = widgets.FloatSlider(value=0.5, min=0, max=1, step=0.1, description='αAM:')\n",
    "alpha4_slider = widgets.FloatSlider(value=0.5, min=0, max=1, step=0.1, description='αNPK:')\n",
    "alpha5_slider = widgets.FloatSlider(value=0.5, min=0, max=1, step=0.1, description='αTBW:')\n",
    "\n",
    "# Creating interactive plot\n",
    "interactive_plot = interact(update_plot, alpha1=alpha1_slider, alpha2=alpha2_slider, alpha3=alpha3_slider, alpha4=alpha4_slider, alpha5=alpha5_slider)\n",
    "\n",
    "# Create update button to trigger plot update\n",
    "update_button = widgets.Button(description=\"Update Plot\")\n",
    "update_button.on_click(lambda _: update_plot(alpha1_slider.value, alpha2_slider.value, alpha3_slider.value, alpha4_slider.value, alpha5_slider.value))\n",
    "\n",
    "# Display the button and sliders\n",
    "widgets.HBox([update_button, alpha1_slider, alpha2_slider, alpha3_slider, alpha4_slider, alpha5_slider])"
   ]
  },
  {
   "cell_type": "code",
   "execution_count": 306,
   "metadata": {},
   "outputs": [
    {
     "data": {
      "text/plain": [
       "0             869.190806\n",
       "1           63638.830492\n",
       "2            2646.038150\n",
       "3          272944.196181\n",
       "4          529793.095498\n",
       "               ...      \n",
       "4992576      7108.272766\n",
       "4992577      -971.159207\n",
       "4992578      -786.554654\n",
       "4992579    144564.602005\n",
       "4992580    142601.214860\n",
       "Name: New_Production, Length: 4992581, dtype: float64"
      ]
     },
     "execution_count": 306,
     "metadata": {},
     "output_type": "execute_result"
    }
   ],
   "source": [
    "y_new = result_df['New_Production']*std_y + mean_y\n",
    "y_new"
   ]
  },
  {
   "cell_type": "code",
   "execution_count": 299,
   "metadata": {},
   "outputs": [
    {
     "data": {
      "text/html": [
       "<div>\n",
       "<style scoped>\n",
       "    .dataframe tbody tr th:only-of-type {\n",
       "        vertical-align: middle;\n",
       "    }\n",
       "\n",
       "    .dataframe tbody tr th {\n",
       "        vertical-align: top;\n",
       "    }\n",
       "\n",
       "    .dataframe thead th {\n",
       "        text-align: right;\n",
       "    }\n",
       "</style>\n",
       "<table border=\"1\" class=\"dataframe\">\n",
       "  <thead>\n",
       "    <tr style=\"text-align: right;\">\n",
       "      <th></th>\n",
       "      <th>Sensitivity_SowingSeedsDistributed_Maize</th>\n",
       "      <th>Sensitivity_LivestockCensus_2012_Cattle</th>\n",
       "      <th>Sensitivity_AreaUnderCereals_Maize</th>\n",
       "      <th>Sensitivity_TotalNPK</th>\n",
       "      <th>Sensitivity_NetAreaIrrigatedUnderDifferentSources_TubeWells_NetIrrigatedArea</th>\n",
       "      <th>SowingSeedsDistributed_Maize</th>\n",
       "      <th>LivestockCensus_2012_Cattle</th>\n",
       "      <th>AreaUnderCereals_Maize</th>\n",
       "      <th>TotalNPK</th>\n",
       "      <th>NetAreaIrrigatedUnderDifferentSources_TubeWells_NetIrrigatedArea</th>\n",
       "      <th>...</th>\n",
       "      <th>Beta_5</th>\n",
       "      <th>New_F1</th>\n",
       "      <th>New_F2</th>\n",
       "      <th>New_F3</th>\n",
       "      <th>New_F4</th>\n",
       "      <th>New_F5</th>\n",
       "      <th>District</th>\n",
       "      <th>New_Production</th>\n",
       "      <th>Stress_Values</th>\n",
       "      <th>Stability_Values</th>\n",
       "    </tr>\n",
       "  </thead>\n",
       "  <tbody>\n",
       "    <tr>\n",
       "      <th>0</th>\n",
       "      <td>0.0</td>\n",
       "      <td>0.0</td>\n",
       "      <td>0.0</td>\n",
       "      <td>0.0</td>\n",
       "      <td>0.0</td>\n",
       "      <td>-0.954112</td>\n",
       "      <td>-0.923517</td>\n",
       "      <td>-0.969564</td>\n",
       "      <td>-0.894300</td>\n",
       "      <td>-0.824518</td>\n",
       "      <td>...</td>\n",
       "      <td>0.003291</td>\n",
       "      <td>-0.954112</td>\n",
       "      <td>-0.923517</td>\n",
       "      <td>-0.969564</td>\n",
       "      <td>-0.894300</td>\n",
       "      <td>-0.824518</td>\n",
       "      <td>BENGALURU</td>\n",
       "      <td>-0.909488</td>\n",
       "      <td>0.053135</td>\n",
       "      <td>0.946865</td>\n",
       "    </tr>\n",
       "    <tr>\n",
       "      <th>1</th>\n",
       "      <td>0.0</td>\n",
       "      <td>0.0</td>\n",
       "      <td>0.0</td>\n",
       "      <td>0.0</td>\n",
       "      <td>0.0</td>\n",
       "      <td>-0.898299</td>\n",
       "      <td>-0.411298</td>\n",
       "      <td>-0.440831</td>\n",
       "      <td>-0.486547</td>\n",
       "      <td>-0.493762</td>\n",
       "      <td>...</td>\n",
       "      <td>0.003291</td>\n",
       "      <td>-0.898299</td>\n",
       "      <td>-0.411298</td>\n",
       "      <td>-0.440831</td>\n",
       "      <td>-0.486547</td>\n",
       "      <td>-0.493762</td>\n",
       "      <td>BENGALURU(R)</td>\n",
       "      <td>-0.354850</td>\n",
       "      <td>0.016219</td>\n",
       "      <td>0.983781</td>\n",
       "    </tr>\n",
       "    <tr>\n",
       "      <th>2</th>\n",
       "      <td>0.0</td>\n",
       "      <td>0.0</td>\n",
       "      <td>0.0</td>\n",
       "      <td>0.0</td>\n",
       "      <td>0.0</td>\n",
       "      <td>-0.844569</td>\n",
       "      <td>-0.805840</td>\n",
       "      <td>-0.936542</td>\n",
       "      <td>-0.928196</td>\n",
       "      <td>-0.766046</td>\n",
       "      <td>...</td>\n",
       "      <td>0.003291</td>\n",
       "      <td>-0.844569</td>\n",
       "      <td>-0.805840</td>\n",
       "      <td>-0.936542</td>\n",
       "      <td>-0.928196</td>\n",
       "      <td>-0.766046</td>\n",
       "      <td>RAMANAGARA</td>\n",
       "      <td>-0.893787</td>\n",
       "      <td>0.100643</td>\n",
       "      <td>0.899357</td>\n",
       "    </tr>\n",
       "    <tr>\n",
       "      <th>3</th>\n",
       "      <td>0.0</td>\n",
       "      <td>0.0</td>\n",
       "      <td>0.0</td>\n",
       "      <td>0.0</td>\n",
       "      <td>0.0</td>\n",
       "      <td>1.187731</td>\n",
       "      <td>0.928753</td>\n",
       "      <td>2.535248</td>\n",
       "      <td>0.748113</td>\n",
       "      <td>2.232911</td>\n",
       "      <td>...</td>\n",
       "      <td>0.003291</td>\n",
       "      <td>1.187731</td>\n",
       "      <td>0.928753</td>\n",
       "      <td>2.535248</td>\n",
       "      <td>0.748113</td>\n",
       "      <td>2.232911</td>\n",
       "      <td>CHITRADURGA</td>\n",
       "      <td>1.494587</td>\n",
       "      <td>0.121529</td>\n",
       "      <td>0.878471</td>\n",
       "    </tr>\n",
       "    <tr>\n",
       "      <th>4</th>\n",
       "      <td>0.0</td>\n",
       "      <td>0.0</td>\n",
       "      <td>0.0</td>\n",
       "      <td>0.0</td>\n",
       "      <td>0.0</td>\n",
       "      <td>1.667804</td>\n",
       "      <td>0.970607</td>\n",
       "      <td>5.660616</td>\n",
       "      <td>3.071116</td>\n",
       "      <td>1.369011</td>\n",
       "      <td>...</td>\n",
       "      <td>0.003291</td>\n",
       "      <td>1.667804</td>\n",
       "      <td>0.970607</td>\n",
       "      <td>5.660616</td>\n",
       "      <td>3.071116</td>\n",
       "      <td>1.369011</td>\n",
       "      <td>DAVANAGERE</td>\n",
       "      <td>3.764124</td>\n",
       "      <td>0.511824</td>\n",
       "      <td>0.488176</td>\n",
       "    </tr>\n",
       "    <tr>\n",
       "      <th>...</th>\n",
       "      <td>...</td>\n",
       "      <td>...</td>\n",
       "      <td>...</td>\n",
       "      <td>...</td>\n",
       "      <td>...</td>\n",
       "      <td>...</td>\n",
       "      <td>...</td>\n",
       "      <td>...</td>\n",
       "      <td>...</td>\n",
       "      <td>...</td>\n",
       "      <td>...</td>\n",
       "      <td>...</td>\n",
       "      <td>...</td>\n",
       "      <td>...</td>\n",
       "      <td>...</td>\n",
       "      <td>...</td>\n",
       "      <td>...</td>\n",
       "      <td>...</td>\n",
       "      <td>...</td>\n",
       "      <td>...</td>\n",
       "      <td>...</td>\n",
       "    </tr>\n",
       "    <tr>\n",
       "      <th>4992576</th>\n",
       "      <td>1.0</td>\n",
       "      <td>1.0</td>\n",
       "      <td>1.0</td>\n",
       "      <td>1.0</td>\n",
       "      <td>1.0</td>\n",
       "      <td>-0.885332</td>\n",
       "      <td>-0.840216</td>\n",
       "      <td>-0.911641</td>\n",
       "      <td>-0.851621</td>\n",
       "      <td>-0.773501</td>\n",
       "      <td>...</td>\n",
       "      <td>0.003291</td>\n",
       "      <td>-0.885332</td>\n",
       "      <td>-0.840216</td>\n",
       "      <td>-0.911641</td>\n",
       "      <td>-0.851621</td>\n",
       "      <td>-0.773501</td>\n",
       "      <td>KALABURAGI</td>\n",
       "      <td>-0.854359</td>\n",
       "      <td>0.075183</td>\n",
       "      <td>0.924817</td>\n",
       "    </tr>\n",
       "    <tr>\n",
       "      <th>4992577</th>\n",
       "      <td>1.0</td>\n",
       "      <td>1.0</td>\n",
       "      <td>1.0</td>\n",
       "      <td>1.0</td>\n",
       "      <td>1.0</td>\n",
       "      <td>-0.956019</td>\n",
       "      <td>-0.953474</td>\n",
       "      <td>-0.976030</td>\n",
       "      <td>-0.905219</td>\n",
       "      <td>-0.834024</td>\n",
       "      <td>...</td>\n",
       "      <td>0.003291</td>\n",
       "      <td>-0.956019</td>\n",
       "      <td>-0.953474</td>\n",
       "      <td>-0.976030</td>\n",
       "      <td>-0.905219</td>\n",
       "      <td>-0.834024</td>\n",
       "      <td>YADGIRI</td>\n",
       "      <td>-0.925749</td>\n",
       "      <td>0.092647</td>\n",
       "      <td>0.907353</td>\n",
       "    </tr>\n",
       "    <tr>\n",
       "      <th>4992578</th>\n",
       "      <td>1.0</td>\n",
       "      <td>1.0</td>\n",
       "      <td>1.0</td>\n",
       "      <td>1.0</td>\n",
       "      <td>1.0</td>\n",
       "      <td>-0.949871</td>\n",
       "      <td>-0.977746</td>\n",
       "      <td>-0.912950</td>\n",
       "      <td>-0.953415</td>\n",
       "      <td>-0.842227</td>\n",
       "      <td>...</td>\n",
       "      <td>0.003291</td>\n",
       "      <td>-0.949871</td>\n",
       "      <td>-0.977746</td>\n",
       "      <td>-0.912950</td>\n",
       "      <td>-0.953415</td>\n",
       "      <td>-0.842227</td>\n",
       "      <td>RAICHUR</td>\n",
       "      <td>-0.924118</td>\n",
       "      <td>0.229010</td>\n",
       "      <td>0.770990</td>\n",
       "    </tr>\n",
       "    <tr>\n",
       "      <th>4992579</th>\n",
       "      <td>1.0</td>\n",
       "      <td>1.0</td>\n",
       "      <td>1.0</td>\n",
       "      <td>1.0</td>\n",
       "      <td>1.0</td>\n",
       "      <td>1.311112</td>\n",
       "      <td>-0.094450</td>\n",
       "      <td>0.842439</td>\n",
       "      <td>0.763047</td>\n",
       "      <td>0.507441</td>\n",
       "      <td>...</td>\n",
       "      <td>0.003291</td>\n",
       "      <td>1.311112</td>\n",
       "      <td>-0.094450</td>\n",
       "      <td>0.842439</td>\n",
       "      <td>0.763047</td>\n",
       "      <td>0.507441</td>\n",
       "      <td>KOPPAL</td>\n",
       "      <td>0.360216</td>\n",
       "      <td>0.034791</td>\n",
       "      <td>0.965209</td>\n",
       "    </tr>\n",
       "    <tr>\n",
       "      <th>4992580</th>\n",
       "      <td>1.0</td>\n",
       "      <td>1.0</td>\n",
       "      <td>1.0</td>\n",
       "      <td>1.0</td>\n",
       "      <td>1.0</td>\n",
       "      <td>0.268799</td>\n",
       "      <td>-0.447550</td>\n",
       "      <td>0.906308</td>\n",
       "      <td>0.356000</td>\n",
       "      <td>0.278146</td>\n",
       "      <td>...</td>\n",
       "      <td>0.003291</td>\n",
       "      <td>0.268799</td>\n",
       "      <td>-0.447550</td>\n",
       "      <td>0.906308</td>\n",
       "      <td>0.356000</td>\n",
       "      <td>0.278146</td>\n",
       "      <td>VIJAYANAGARA</td>\n",
       "      <td>0.342867</td>\n",
       "      <td>0.211783</td>\n",
       "      <td>0.788217</td>\n",
       "    </tr>\n",
       "  </tbody>\n",
       "</table>\n",
       "<p>4992581 rows × 25 columns</p>\n",
       "</div>"
      ],
      "text/plain": [
       "         Sensitivity_SowingSeedsDistributed_Maize  \\\n",
       "0                                             0.0   \n",
       "1                                             0.0   \n",
       "2                                             0.0   \n",
       "3                                             0.0   \n",
       "4                                             0.0   \n",
       "...                                           ...   \n",
       "4992576                                       1.0   \n",
       "4992577                                       1.0   \n",
       "4992578                                       1.0   \n",
       "4992579                                       1.0   \n",
       "4992580                                       1.0   \n",
       "\n",
       "         Sensitivity_LivestockCensus_2012_Cattle  \\\n",
       "0                                            0.0   \n",
       "1                                            0.0   \n",
       "2                                            0.0   \n",
       "3                                            0.0   \n",
       "4                                            0.0   \n",
       "...                                          ...   \n",
       "4992576                                      1.0   \n",
       "4992577                                      1.0   \n",
       "4992578                                      1.0   \n",
       "4992579                                      1.0   \n",
       "4992580                                      1.0   \n",
       "\n",
       "         Sensitivity_AreaUnderCereals_Maize  Sensitivity_TotalNPK  \\\n",
       "0                                       0.0                   0.0   \n",
       "1                                       0.0                   0.0   \n",
       "2                                       0.0                   0.0   \n",
       "3                                       0.0                   0.0   \n",
       "4                                       0.0                   0.0   \n",
       "...                                     ...                   ...   \n",
       "4992576                                 1.0                   1.0   \n",
       "4992577                                 1.0                   1.0   \n",
       "4992578                                 1.0                   1.0   \n",
       "4992579                                 1.0                   1.0   \n",
       "4992580                                 1.0                   1.0   \n",
       "\n",
       "         Sensitivity_NetAreaIrrigatedUnderDifferentSources_TubeWells_NetIrrigatedArea  \\\n",
       "0                                                      0.0                              \n",
       "1                                                      0.0                              \n",
       "2                                                      0.0                              \n",
       "3                                                      0.0                              \n",
       "4                                                      0.0                              \n",
       "...                                                    ...                              \n",
       "4992576                                                1.0                              \n",
       "4992577                                                1.0                              \n",
       "4992578                                                1.0                              \n",
       "4992579                                                1.0                              \n",
       "4992580                                                1.0                              \n",
       "\n",
       "         SowingSeedsDistributed_Maize  LivestockCensus_2012_Cattle  \\\n",
       "0                           -0.954112                    -0.923517   \n",
       "1                           -0.898299                    -0.411298   \n",
       "2                           -0.844569                    -0.805840   \n",
       "3                            1.187731                     0.928753   \n",
       "4                            1.667804                     0.970607   \n",
       "...                               ...                          ...   \n",
       "4992576                     -0.885332                    -0.840216   \n",
       "4992577                     -0.956019                    -0.953474   \n",
       "4992578                     -0.949871                    -0.977746   \n",
       "4992579                      1.311112                    -0.094450   \n",
       "4992580                      0.268799                    -0.447550   \n",
       "\n",
       "         AreaUnderCereals_Maize  TotalNPK  \\\n",
       "0                     -0.969564 -0.894300   \n",
       "1                     -0.440831 -0.486547   \n",
       "2                     -0.936542 -0.928196   \n",
       "3                      2.535248  0.748113   \n",
       "4                      5.660616  3.071116   \n",
       "...                         ...       ...   \n",
       "4992576               -0.911641 -0.851621   \n",
       "4992577               -0.976030 -0.905219   \n",
       "4992578               -0.912950 -0.953415   \n",
       "4992579                0.842439  0.763047   \n",
       "4992580                0.906308  0.356000   \n",
       "\n",
       "         NetAreaIrrigatedUnderDifferentSources_TubeWells_NetIrrigatedArea  \\\n",
       "0                                                -0.824518                  \n",
       "1                                                -0.493762                  \n",
       "2                                                -0.766046                  \n",
       "3                                                 2.232911                  \n",
       "4                                                 1.369011                  \n",
       "...                                                    ...                  \n",
       "4992576                                          -0.773501                  \n",
       "4992577                                          -0.834024                  \n",
       "4992578                                          -0.842227                  \n",
       "4992579                                           0.507441                  \n",
       "4992580                                           0.278146                  \n",
       "\n",
       "         ...    Beta_5    New_F1    New_F2    New_F3    New_F4    New_F5  \\\n",
       "0        ...  0.003291 -0.954112 -0.923517 -0.969564 -0.894300 -0.824518   \n",
       "1        ...  0.003291 -0.898299 -0.411298 -0.440831 -0.486547 -0.493762   \n",
       "2        ...  0.003291 -0.844569 -0.805840 -0.936542 -0.928196 -0.766046   \n",
       "3        ...  0.003291  1.187731  0.928753  2.535248  0.748113  2.232911   \n",
       "4        ...  0.003291  1.667804  0.970607  5.660616  3.071116  1.369011   \n",
       "...      ...       ...       ...       ...       ...       ...       ...   \n",
       "4992576  ...  0.003291 -0.885332 -0.840216 -0.911641 -0.851621 -0.773501   \n",
       "4992577  ...  0.003291 -0.956019 -0.953474 -0.976030 -0.905219 -0.834024   \n",
       "4992578  ...  0.003291 -0.949871 -0.977746 -0.912950 -0.953415 -0.842227   \n",
       "4992579  ...  0.003291  1.311112 -0.094450  0.842439  0.763047  0.507441   \n",
       "4992580  ...  0.003291  0.268799 -0.447550  0.906308  0.356000  0.278146   \n",
       "\n",
       "             District  New_Production  Stress_Values  Stability_Values  \n",
       "0           BENGALURU       -0.909488       0.053135          0.946865  \n",
       "1        BENGALURU(R)       -0.354850       0.016219          0.983781  \n",
       "2          RAMANAGARA       -0.893787       0.100643          0.899357  \n",
       "3         CHITRADURGA        1.494587       0.121529          0.878471  \n",
       "4          DAVANAGERE        3.764124       0.511824          0.488176  \n",
       "...               ...             ...            ...               ...  \n",
       "4992576    KALABURAGI       -0.854359       0.075183          0.924817  \n",
       "4992577       YADGIRI       -0.925749       0.092647          0.907353  \n",
       "4992578       RAICHUR       -0.924118       0.229010          0.770990  \n",
       "4992579        KOPPAL        0.360216       0.034791          0.965209  \n",
       "4992580  VIJAYANAGARA        0.342867       0.211783          0.788217  \n",
       "\n",
       "[4992581 rows x 25 columns]"
      ]
     },
     "execution_count": 299,
     "metadata": {},
     "output_type": "execute_result"
    }
   ],
   "source": [
    "result_df"
   ]
  },
  {
   "cell_type": "code",
   "execution_count": 300,
   "metadata": {},
   "outputs": [],
   "source": [
    "# result_df.to_csv('Maize_Prescriptive_5000.csv',index=False)"
   ]
  },
  {
   "cell_type": "code",
   "execution_count": 301,
   "metadata": {},
   "outputs": [
    {
     "data": {
      "text/plain": [
       "Index(['District', 'Sensitivity_LivestockCensus_2012_Cattle',\n",
       "       'Sensitivity_AreaUnderCereals_Maize', 'Sensitivity_TotalNPK', 'New_F1',\n",
       "       'New_F2', 'New_F3'],\n",
       "      dtype='object')"
      ]
     },
     "execution_count": 301,
     "metadata": {},
     "output_type": "execute_result"
    }
   ],
   "source": [
    "# viz_df2 = result_df[['District','Sensitivity_SowingSeedsDistributed_Maize','Sensitivity_LivestockCensus_2012_Cattle','Sensitivity_AreaUnderCereals_Maize',\n",
    "#                     'Sensitivity_TotalNPK',\t'Sensitivity_NetAreaIrrigatedUnderDifferentSources_TubeWells_NetIrrigatedArea','New_F1','New_F2','New_F3','New_F4','New_F5']].copy()\n",
    "\n",
    "viz_df2 = result_df[['District','Sensitivity_LivestockCensus_2012_Cattle','Sensitivity_AreaUnderCereals_Maize',\n",
    "                    'Sensitivity_TotalNPK',\t'New_F1','New_F2','New_F3']].copy()\n",
    "\n",
    "\n",
    "viz_df2.columns"
   ]
  },
  {
   "cell_type": "code",
   "execution_count": 302,
   "metadata": {},
   "outputs": [
    {
     "data": {
      "application/vnd.plotly.v1+json": {
       "config": {
        "plotlyServerURL": "https://plot.ly"
       },
       "data": [
        {
         "marker": {
          "color": "blue"
         },
         "name": "Original Values (Sensitivity=0)",
         "orientation": "h",
         "type": "bar",
         "x": [
          0.2590626173344366,
          -1.4793107643499153e-16,
          0.49200672407723606
         ],
         "y": [
          "Cattle",
          "Area_Maize",
          "TotalNPK"
         ]
        },
        {
         "marker": {
          "color": "orange"
         },
         "name": "Chosen Sensitivity [0.0, 0.0, 0.0]",
         "orientation": "h",
         "type": "bar",
         "x": [
          0.2590626173344366,
          -1.4793107643499153e-16,
          0.49200672407723606
         ],
         "y": [
          "Cattle",
          "Area_Maize",
          "TotalNPK"
         ]
        }
       ],
       "layout": {
        "barmode": "group",
        "template": {
         "data": {
          "bar": [
           {
            "error_x": {
             "color": "#2a3f5f"
            },
            "error_y": {
             "color": "#2a3f5f"
            },
            "marker": {
             "line": {
              "color": "#E5ECF6",
              "width": 0.5
             },
             "pattern": {
              "fillmode": "overlay",
              "size": 10,
              "solidity": 0.2
             }
            },
            "type": "bar"
           }
          ],
          "barpolar": [
           {
            "marker": {
             "line": {
              "color": "#E5ECF6",
              "width": 0.5
             },
             "pattern": {
              "fillmode": "overlay",
              "size": 10,
              "solidity": 0.2
             }
            },
            "type": "barpolar"
           }
          ],
          "carpet": [
           {
            "aaxis": {
             "endlinecolor": "#2a3f5f",
             "gridcolor": "white",
             "linecolor": "white",
             "minorgridcolor": "white",
             "startlinecolor": "#2a3f5f"
            },
            "baxis": {
             "endlinecolor": "#2a3f5f",
             "gridcolor": "white",
             "linecolor": "white",
             "minorgridcolor": "white",
             "startlinecolor": "#2a3f5f"
            },
            "type": "carpet"
           }
          ],
          "choropleth": [
           {
            "colorbar": {
             "outlinewidth": 0,
             "ticks": ""
            },
            "type": "choropleth"
           }
          ],
          "contour": [
           {
            "colorbar": {
             "outlinewidth": 0,
             "ticks": ""
            },
            "colorscale": [
             [
              0,
              "#0d0887"
             ],
             [
              0.1111111111111111,
              "#46039f"
             ],
             [
              0.2222222222222222,
              "#7201a8"
             ],
             [
              0.3333333333333333,
              "#9c179e"
             ],
             [
              0.4444444444444444,
              "#bd3786"
             ],
             [
              0.5555555555555556,
              "#d8576b"
             ],
             [
              0.6666666666666666,
              "#ed7953"
             ],
             [
              0.7777777777777778,
              "#fb9f3a"
             ],
             [
              0.8888888888888888,
              "#fdca26"
             ],
             [
              1,
              "#f0f921"
             ]
            ],
            "type": "contour"
           }
          ],
          "contourcarpet": [
           {
            "colorbar": {
             "outlinewidth": 0,
             "ticks": ""
            },
            "type": "contourcarpet"
           }
          ],
          "heatmap": [
           {
            "colorbar": {
             "outlinewidth": 0,
             "ticks": ""
            },
            "colorscale": [
             [
              0,
              "#0d0887"
             ],
             [
              0.1111111111111111,
              "#46039f"
             ],
             [
              0.2222222222222222,
              "#7201a8"
             ],
             [
              0.3333333333333333,
              "#9c179e"
             ],
             [
              0.4444444444444444,
              "#bd3786"
             ],
             [
              0.5555555555555556,
              "#d8576b"
             ],
             [
              0.6666666666666666,
              "#ed7953"
             ],
             [
              0.7777777777777778,
              "#fb9f3a"
             ],
             [
              0.8888888888888888,
              "#fdca26"
             ],
             [
              1,
              "#f0f921"
             ]
            ],
            "type": "heatmap"
           }
          ],
          "heatmapgl": [
           {
            "colorbar": {
             "outlinewidth": 0,
             "ticks": ""
            },
            "colorscale": [
             [
              0,
              "#0d0887"
             ],
             [
              0.1111111111111111,
              "#46039f"
             ],
             [
              0.2222222222222222,
              "#7201a8"
             ],
             [
              0.3333333333333333,
              "#9c179e"
             ],
             [
              0.4444444444444444,
              "#bd3786"
             ],
             [
              0.5555555555555556,
              "#d8576b"
             ],
             [
              0.6666666666666666,
              "#ed7953"
             ],
             [
              0.7777777777777778,
              "#fb9f3a"
             ],
             [
              0.8888888888888888,
              "#fdca26"
             ],
             [
              1,
              "#f0f921"
             ]
            ],
            "type": "heatmapgl"
           }
          ],
          "histogram": [
           {
            "marker": {
             "pattern": {
              "fillmode": "overlay",
              "size": 10,
              "solidity": 0.2
             }
            },
            "type": "histogram"
           }
          ],
          "histogram2d": [
           {
            "colorbar": {
             "outlinewidth": 0,
             "ticks": ""
            },
            "colorscale": [
             [
              0,
              "#0d0887"
             ],
             [
              0.1111111111111111,
              "#46039f"
             ],
             [
              0.2222222222222222,
              "#7201a8"
             ],
             [
              0.3333333333333333,
              "#9c179e"
             ],
             [
              0.4444444444444444,
              "#bd3786"
             ],
             [
              0.5555555555555556,
              "#d8576b"
             ],
             [
              0.6666666666666666,
              "#ed7953"
             ],
             [
              0.7777777777777778,
              "#fb9f3a"
             ],
             [
              0.8888888888888888,
              "#fdca26"
             ],
             [
              1,
              "#f0f921"
             ]
            ],
            "type": "histogram2d"
           }
          ],
          "histogram2dcontour": [
           {
            "colorbar": {
             "outlinewidth": 0,
             "ticks": ""
            },
            "colorscale": [
             [
              0,
              "#0d0887"
             ],
             [
              0.1111111111111111,
              "#46039f"
             ],
             [
              0.2222222222222222,
              "#7201a8"
             ],
             [
              0.3333333333333333,
              "#9c179e"
             ],
             [
              0.4444444444444444,
              "#bd3786"
             ],
             [
              0.5555555555555556,
              "#d8576b"
             ],
             [
              0.6666666666666666,
              "#ed7953"
             ],
             [
              0.7777777777777778,
              "#fb9f3a"
             ],
             [
              0.8888888888888888,
              "#fdca26"
             ],
             [
              1,
              "#f0f921"
             ]
            ],
            "type": "histogram2dcontour"
           }
          ],
          "mesh3d": [
           {
            "colorbar": {
             "outlinewidth": 0,
             "ticks": ""
            },
            "type": "mesh3d"
           }
          ],
          "parcoords": [
           {
            "line": {
             "colorbar": {
              "outlinewidth": 0,
              "ticks": ""
             }
            },
            "type": "parcoords"
           }
          ],
          "pie": [
           {
            "automargin": true,
            "type": "pie"
           }
          ],
          "scatter": [
           {
            "fillpattern": {
             "fillmode": "overlay",
             "size": 10,
             "solidity": 0.2
            },
            "type": "scatter"
           }
          ],
          "scatter3d": [
           {
            "line": {
             "colorbar": {
              "outlinewidth": 0,
              "ticks": ""
             }
            },
            "marker": {
             "colorbar": {
              "outlinewidth": 0,
              "ticks": ""
             }
            },
            "type": "scatter3d"
           }
          ],
          "scattercarpet": [
           {
            "marker": {
             "colorbar": {
              "outlinewidth": 0,
              "ticks": ""
             }
            },
            "type": "scattercarpet"
           }
          ],
          "scattergeo": [
           {
            "marker": {
             "colorbar": {
              "outlinewidth": 0,
              "ticks": ""
             }
            },
            "type": "scattergeo"
           }
          ],
          "scattergl": [
           {
            "marker": {
             "colorbar": {
              "outlinewidth": 0,
              "ticks": ""
             }
            },
            "type": "scattergl"
           }
          ],
          "scattermapbox": [
           {
            "marker": {
             "colorbar": {
              "outlinewidth": 0,
              "ticks": ""
             }
            },
            "type": "scattermapbox"
           }
          ],
          "scatterpolar": [
           {
            "marker": {
             "colorbar": {
              "outlinewidth": 0,
              "ticks": ""
             }
            },
            "type": "scatterpolar"
           }
          ],
          "scatterpolargl": [
           {
            "marker": {
             "colorbar": {
              "outlinewidth": 0,
              "ticks": ""
             }
            },
            "type": "scatterpolargl"
           }
          ],
          "scatterternary": [
           {
            "marker": {
             "colorbar": {
              "outlinewidth": 0,
              "ticks": ""
             }
            },
            "type": "scatterternary"
           }
          ],
          "surface": [
           {
            "colorbar": {
             "outlinewidth": 0,
             "ticks": ""
            },
            "colorscale": [
             [
              0,
              "#0d0887"
             ],
             [
              0.1111111111111111,
              "#46039f"
             ],
             [
              0.2222222222222222,
              "#7201a8"
             ],
             [
              0.3333333333333333,
              "#9c179e"
             ],
             [
              0.4444444444444444,
              "#bd3786"
             ],
             [
              0.5555555555555556,
              "#d8576b"
             ],
             [
              0.6666666666666666,
              "#ed7953"
             ],
             [
              0.7777777777777778,
              "#fb9f3a"
             ],
             [
              0.8888888888888888,
              "#fdca26"
             ],
             [
              1,
              "#f0f921"
             ]
            ],
            "type": "surface"
           }
          ],
          "table": [
           {
            "cells": {
             "fill": {
              "color": "#EBF0F8"
             },
             "line": {
              "color": "white"
             }
            },
            "header": {
             "fill": {
              "color": "#C8D4E3"
             },
             "line": {
              "color": "white"
             }
            },
            "type": "table"
           }
          ]
         },
         "layout": {
          "annotationdefaults": {
           "arrowcolor": "#2a3f5f",
           "arrowhead": 0,
           "arrowwidth": 1
          },
          "autotypenumbers": "strict",
          "coloraxis": {
           "colorbar": {
            "outlinewidth": 0,
            "ticks": ""
           }
          },
          "colorscale": {
           "diverging": [
            [
             0,
             "#8e0152"
            ],
            [
             0.1,
             "#c51b7d"
            ],
            [
             0.2,
             "#de77ae"
            ],
            [
             0.3,
             "#f1b6da"
            ],
            [
             0.4,
             "#fde0ef"
            ],
            [
             0.5,
             "#f7f7f7"
            ],
            [
             0.6,
             "#e6f5d0"
            ],
            [
             0.7,
             "#b8e186"
            ],
            [
             0.8,
             "#7fbc41"
            ],
            [
             0.9,
             "#4d9221"
            ],
            [
             1,
             "#276419"
            ]
           ],
           "sequential": [
            [
             0,
             "#0d0887"
            ],
            [
             0.1111111111111111,
             "#46039f"
            ],
            [
             0.2222222222222222,
             "#7201a8"
            ],
            [
             0.3333333333333333,
             "#9c179e"
            ],
            [
             0.4444444444444444,
             "#bd3786"
            ],
            [
             0.5555555555555556,
             "#d8576b"
            ],
            [
             0.6666666666666666,
             "#ed7953"
            ],
            [
             0.7777777777777778,
             "#fb9f3a"
            ],
            [
             0.8888888888888888,
             "#fdca26"
            ],
            [
             1,
             "#f0f921"
            ]
           ],
           "sequentialminus": [
            [
             0,
             "#0d0887"
            ],
            [
             0.1111111111111111,
             "#46039f"
            ],
            [
             0.2222222222222222,
             "#7201a8"
            ],
            [
             0.3333333333333333,
             "#9c179e"
            ],
            [
             0.4444444444444444,
             "#bd3786"
            ],
            [
             0.5555555555555556,
             "#d8576b"
            ],
            [
             0.6666666666666666,
             "#ed7953"
            ],
            [
             0.7777777777777778,
             "#fb9f3a"
            ],
            [
             0.8888888888888888,
             "#fdca26"
            ],
            [
             1,
             "#f0f921"
            ]
           ]
          },
          "colorway": [
           "#636efa",
           "#EF553B",
           "#00cc96",
           "#ab63fa",
           "#FFA15A",
           "#19d3f3",
           "#FF6692",
           "#B6E880",
           "#FF97FF",
           "#FECB52"
          ],
          "font": {
           "color": "#2a3f5f"
          },
          "geo": {
           "bgcolor": "white",
           "lakecolor": "white",
           "landcolor": "#E5ECF6",
           "showlakes": true,
           "showland": true,
           "subunitcolor": "white"
          },
          "hoverlabel": {
           "align": "left"
          },
          "hovermode": "closest",
          "mapbox": {
           "style": "light"
          },
          "paper_bgcolor": "white",
          "plot_bgcolor": "#E5ECF6",
          "polar": {
           "angularaxis": {
            "gridcolor": "white",
            "linecolor": "white",
            "ticks": ""
           },
           "bgcolor": "#E5ECF6",
           "radialaxis": {
            "gridcolor": "white",
            "linecolor": "white",
            "ticks": ""
           }
          },
          "scene": {
           "xaxis": {
            "backgroundcolor": "#E5ECF6",
            "gridcolor": "white",
            "gridwidth": 2,
            "linecolor": "white",
            "showbackground": true,
            "ticks": "",
            "zerolinecolor": "white"
           },
           "yaxis": {
            "backgroundcolor": "#E5ECF6",
            "gridcolor": "white",
            "gridwidth": 2,
            "linecolor": "white",
            "showbackground": true,
            "ticks": "",
            "zerolinecolor": "white"
           },
           "zaxis": {
            "backgroundcolor": "#E5ECF6",
            "gridcolor": "white",
            "gridwidth": 2,
            "linecolor": "white",
            "showbackground": true,
            "ticks": "",
            "zerolinecolor": "white"
           }
          },
          "shapedefaults": {
           "line": {
            "color": "#2a3f5f"
           }
          },
          "ternary": {
           "aaxis": {
            "gridcolor": "white",
            "linecolor": "white",
            "ticks": ""
           },
           "baxis": {
            "gridcolor": "white",
            "linecolor": "white",
            "ticks": ""
           },
           "bgcolor": "#E5ECF6",
           "caxis": {
            "gridcolor": "white",
            "linecolor": "white",
            "ticks": ""
           }
          },
          "title": {
           "x": 0.05
          },
          "xaxis": {
           "automargin": true,
           "gridcolor": "white",
           "linecolor": "white",
           "ticks": "",
           "title": {
            "standoff": 15
           },
           "zerolinecolor": "white",
           "zerolinewidth": 2
          },
          "yaxis": {
           "automargin": true,
           "gridcolor": "white",
           "linecolor": "white",
           "ticks": "",
           "title": {
            "standoff": 15
           },
           "zerolinecolor": "white",
           "zerolinewidth": 2
          }
         }
        },
        "title": {
         "text": "Comparison of Factor Values for Original and Chosen Sensitivity"
        },
        "xaxis": {
         "title": {
          "text": "Values"
         }
        },
        "yaxis": {
         "title": {
          "text": "Factors"
         }
        }
       }
      }
     },
     "metadata": {},
     "output_type": "display_data"
    },
    {
     "data": {
      "application/vnd.jupyter.widget-view+json": {
       "model_id": "a5f294a444ee4fd3a74e44d30f404c77",
       "version_major": 2,
       "version_minor": 0
      },
      "text/plain": [
       "interactive(children=(FloatSlider(value=0.0, description='αCT:', max=1.0), FloatSlider(value=0.0, description=…"
      ]
     },
     "metadata": {},
     "output_type": "display_data"
    },
    {
     "data": {
      "application/vnd.jupyter.widget-view+json": {
       "model_id": "8b09b88d9db6423a9903cc3745a15ba5",
       "version_major": 2,
       "version_minor": 0
      },
      "text/plain": [
       "VBox(children=(FloatSlider(value=0.0, description='αCT:', max=1.0), FloatSlider(value=0.0, description='αAM:',…"
      ]
     },
     "execution_count": 302,
     "metadata": {},
     "output_type": "execute_result"
    }
   ],
   "source": [
    "import pandas as pd\n",
    "import plotly.graph_objects as go\n",
    "import ipywidgets as widgets\n",
    "from ipywidgets import interact\n",
    "from IPython.display import clear_output\n",
    "\n",
    "# Function to update the bar plot based on sensitivity sliders\n",
    "def update_bar_plot(alpha1, alpha2, alpha3):\n",
    "    tolerance = 1e-5\n",
    "    \n",
    "    # Filter the dataframe based on slider sensitivity values\n",
    "    filtered_df = viz_df2[\n",
    "        # (viz_df2['Sensitivity_SowingSeedsDistributed_Maize'].between(alpha1 - tolerance, alpha1 + tolerance)) &\n",
    "        (viz_df2['Sensitivity_LivestockCensus_2012_Cattle'].between(alpha1 - tolerance, alpha1 + tolerance)) &\n",
    "        (viz_df2['Sensitivity_AreaUnderCereals_Maize'].between(alpha2 - tolerance, alpha2 + tolerance)) & \n",
    "        (viz_df2['Sensitivity_TotalNPK'].between(alpha3 - tolerance, alpha3 + tolerance)) \n",
    "        # (viz_df2['Sensitivity_NetAreaIrrigatedUnderDifferentSources_TubeWells_NetIrrigatedArea'].between(alpha5 - tolerance, alpha5 + tolerance))\n",
    "    ]\n",
    "    \n",
    "    # Define the factors and their display names\n",
    "    factors = ['New_F1', 'New_F2', 'New_F3']\n",
    "    # display_names = ['Seeds_Maize', 'Cattle', 'Area_Maize', 'TotalNPK', 'TubeWells']\n",
    "    display_names = ['Cattle', 'Area_Maize', 'TotalNPK']\n",
    "\n",
    "    # Calculate mean values for the selected sensitivity group\n",
    "    user_values = filtered_df[factors].mean()\n",
    "    \n",
    "    # Get the mean values for the original case where all sensitivities are zero\n",
    "    # original_values = viz_df2[viz_df2[['Sensitivity_SowingSeedsDistributed_Maize_320', 'Sensitivity_LivestockCensus_2012_Cattle_354',\n",
    "    #                                    'Sensitivity_AreaUnderCereals_Maize_193', 'Sensitivity_TotalNPK_315',\n",
    "    #                                    'Sensitivity_NetAreaIrrigatedUnderDifferentSources_TubeWells_NetIrrigatedArea_182']].eq(0).all(axis=1)][factors].mean()\n",
    "\n",
    "    original_values = viz_df2[viz_df2[['Sensitivity_LivestockCensus_2012_Cattle',\n",
    "                                       'Sensitivity_AreaUnderCereals_Maize', 'Sensitivity_TotalNPK']].eq(0).all(axis=1)][factors].mean()\n",
    "\n",
    "\n",
    "    # Create the bar plot with interchanged axes\n",
    "    fig = go.Figure(data=[\n",
    "        go.Bar(name='Original Values (Sensitivity=0)', y=display_names, x=original_values, marker_color='blue', orientation='h'),\n",
    "        go.Bar(name=f'Chosen Sensitivity [{alpha1}, {alpha2}, {alpha3}]', y=display_names, x=user_values, marker_color='orange', orientation='h')\n",
    "    ])\n",
    "    \n",
    "    # Customize the layout\n",
    "    fig.update_layout(\n",
    "        title=\"Comparison of Factor Values for Original and Chosen Sensitivity\",\n",
    "        yaxis_title=\"Factors\",\n",
    "        xaxis_title=\"Values\",\n",
    "        barmode='group'\n",
    "    )\n",
    "\n",
    "    # Clear previous output and display updated plot\n",
    "    clear_output()\n",
    "    display(fig)\n",
    "\n",
    "# Creating sliders for interaction\n",
    "# alpha1_slider = widgets.FloatSlider(value=0, min=0, max=1, step=0.1, description='αMS:')\n",
    "alpha1_slider = widgets.FloatSlider(value=0, min=0, max=1, step=0.1, description='αCT:')\n",
    "alpha2_slider = widgets.FloatSlider(value=0, min=0, max=1, step=0.1, description='αAM:')\n",
    "alpha3_slider = widgets.FloatSlider(value=0, min=0, max=1, step=0.1, description='αNPK:')\n",
    "# alpha5_slider = widgets.FloatSlider(value=0, min=0, max=1, step=0.1, description='αTBW:')\n",
    "\n",
    "# Creating interactive plot\n",
    "interactive_plot = interact(update_bar_plot, \n",
    "                            alpha1=alpha1_slider, \n",
    "                            alpha2=alpha2_slider, \n",
    "                            alpha3=alpha3_slider)\n",
    "\n",
    "widgets.VBox([alpha1_slider, alpha2_slider, alpha3_slider])"
   ]
  },
  {
   "cell_type": "code",
   "execution_count": 303,
   "metadata": {},
   "outputs": [
    {
     "data": {
      "text/html": [
       "<div>\n",
       "<style scoped>\n",
       "    .dataframe tbody tr th:only-of-type {\n",
       "        vertical-align: middle;\n",
       "    }\n",
       "\n",
       "    .dataframe tbody tr th {\n",
       "        vertical-align: top;\n",
       "    }\n",
       "\n",
       "    .dataframe thead th {\n",
       "        text-align: right;\n",
       "    }\n",
       "</style>\n",
       "<table border=\"1\" class=\"dataframe\">\n",
       "  <thead>\n",
       "    <tr style=\"text-align: right;\">\n",
       "      <th></th>\n",
       "      <th>Sensitivity_SowingSeedsDistributed_Maize</th>\n",
       "      <th>Sensitivity_LivestockCensus_2012_Cattle</th>\n",
       "      <th>Sensitivity_AreaUnderCereals_Maize</th>\n",
       "      <th>Sensitivity_TotalNPK</th>\n",
       "      <th>Sensitivity_NetAreaIrrigatedUnderDifferentSources_TubeWells_NetIrrigatedArea</th>\n",
       "      <th>SowingSeedsDistributed_Maize</th>\n",
       "      <th>LivestockCensus_2012_Cattle</th>\n",
       "      <th>AreaUnderCereals_Maize</th>\n",
       "      <th>TotalNPK</th>\n",
       "      <th>NetAreaIrrigatedUnderDifferentSources_TubeWells_NetIrrigatedArea</th>\n",
       "      <th>...</th>\n",
       "      <th>Beta_5</th>\n",
       "      <th>New_F1</th>\n",
       "      <th>New_F2</th>\n",
       "      <th>New_F3</th>\n",
       "      <th>New_F4</th>\n",
       "      <th>New_F5</th>\n",
       "      <th>District</th>\n",
       "      <th>New_Production</th>\n",
       "      <th>Stress_Values</th>\n",
       "      <th>Stability_Values</th>\n",
       "    </tr>\n",
       "  </thead>\n",
       "  <tbody>\n",
       "    <tr>\n",
       "      <th>300</th>\n",
       "      <td>0.0</td>\n",
       "      <td>0.0</td>\n",
       "      <td>0.0</td>\n",
       "      <td>0.0</td>\n",
       "      <td>0.9</td>\n",
       "      <td>0.805163</td>\n",
       "      <td>-0.201008</td>\n",
       "      <td>0.301813</td>\n",
       "      <td>-0.085501</td>\n",
       "      <td>0.251653</td>\n",
       "      <td>...</td>\n",
       "      <td>0.003291</td>\n",
       "      <td>0.805163</td>\n",
       "      <td>-0.201008</td>\n",
       "      <td>0.301813</td>\n",
       "      <td>-0.085501</td>\n",
       "      <td>0.251653</td>\n",
       "      <td>GADAG</td>\n",
       "      <td>-0.148655</td>\n",
       "      <td>0.287064</td>\n",
       "      <td>0.712936</td>\n",
       "    </tr>\n",
       "    <tr>\n",
       "      <th>301</th>\n",
       "      <td>0.0</td>\n",
       "      <td>0.0</td>\n",
       "      <td>0.0</td>\n",
       "      <td>0.0</td>\n",
       "      <td>0.9</td>\n",
       "      <td>3.895949</td>\n",
       "      <td>1.187010</td>\n",
       "      <td>5.556548</td>\n",
       "      <td>2.447743</td>\n",
       "      <td>1.462477</td>\n",
       "      <td>...</td>\n",
       "      <td>0.003291</td>\n",
       "      <td>3.895949</td>\n",
       "      <td>1.187010</td>\n",
       "      <td>5.556548</td>\n",
       "      <td>2.447743</td>\n",
       "      <td>1.462477</td>\n",
       "      <td>HAVERI</td>\n",
       "      <td>3.063770</td>\n",
       "      <td>0.455501</td>\n",
       "      <td>0.544499</td>\n",
       "    </tr>\n",
       "    <tr>\n",
       "      <th>302</th>\n",
       "      <td>0.0</td>\n",
       "      <td>0.0</td>\n",
       "      <td>0.0</td>\n",
       "      <td>0.0</td>\n",
       "      <td>0.9</td>\n",
       "      <td>-0.326603</td>\n",
       "      <td>-0.467681</td>\n",
       "      <td>-0.836899</td>\n",
       "      <td>-0.802099</td>\n",
       "      <td>-0.781738</td>\n",
       "      <td>...</td>\n",
       "      <td>0.003291</td>\n",
       "      <td>-0.326603</td>\n",
       "      <td>-0.467681</td>\n",
       "      <td>-0.836899</td>\n",
       "      <td>-0.802099</td>\n",
       "      <td>-0.781738</td>\n",
       "      <td>UTTARA KANNADA</td>\n",
       "      <td>-0.803286</td>\n",
       "      <td>0.422407</td>\n",
       "      <td>0.577593</td>\n",
       "    </tr>\n",
       "    <tr>\n",
       "      <th>303</th>\n",
       "      <td>0.0</td>\n",
       "      <td>0.0</td>\n",
       "      <td>0.0</td>\n",
       "      <td>0.0</td>\n",
       "      <td>0.9</td>\n",
       "      <td>0.268799</td>\n",
       "      <td>-0.447550</td>\n",
       "      <td>0.906308</td>\n",
       "      <td>0.356000</td>\n",
       "      <td>0.278146</td>\n",
       "      <td>...</td>\n",
       "      <td>0.003291</td>\n",
       "      <td>0.268799</td>\n",
       "      <td>-0.447550</td>\n",
       "      <td>0.906308</td>\n",
       "      <td>0.356000</td>\n",
       "      <td>0.278146</td>\n",
       "      <td>BALLARI</td>\n",
       "      <td>0.342867</td>\n",
       "      <td>0.147803</td>\n",
       "      <td>0.852197</td>\n",
       "    </tr>\n",
       "    <tr>\n",
       "      <th>304</th>\n",
       "      <td>0.0</td>\n",
       "      <td>0.0</td>\n",
       "      <td>0.0</td>\n",
       "      <td>0.0</td>\n",
       "      <td>0.9</td>\n",
       "      <td>-0.945501</td>\n",
       "      <td>-0.927976</td>\n",
       "      <td>-0.959827</td>\n",
       "      <td>-0.923933</td>\n",
       "      <td>-0.821713</td>\n",
       "      <td>...</td>\n",
       "      <td>0.003291</td>\n",
       "      <td>-0.945501</td>\n",
       "      <td>-0.927976</td>\n",
       "      <td>-0.959827</td>\n",
       "      <td>-0.923933</td>\n",
       "      <td>-0.821713</td>\n",
       "      <td>BIDAR</td>\n",
       "      <td>-0.919746</td>\n",
       "      <td>0.012183</td>\n",
       "      <td>0.987817</td>\n",
       "    </tr>\n",
       "    <tr>\n",
       "      <th>305</th>\n",
       "      <td>0.0</td>\n",
       "      <td>0.0</td>\n",
       "      <td>0.0</td>\n",
       "      <td>0.0</td>\n",
       "      <td>0.9</td>\n",
       "      <td>-0.885332</td>\n",
       "      <td>-0.840216</td>\n",
       "      <td>-0.911641</td>\n",
       "      <td>-0.851621</td>\n",
       "      <td>-0.773501</td>\n",
       "      <td>...</td>\n",
       "      <td>0.003291</td>\n",
       "      <td>-0.885332</td>\n",
       "      <td>-0.840216</td>\n",
       "      <td>-0.911641</td>\n",
       "      <td>-0.851621</td>\n",
       "      <td>-0.773501</td>\n",
       "      <td>KALABURAGI</td>\n",
       "      <td>-0.854359</td>\n",
       "      <td>0.075183</td>\n",
       "      <td>0.924817</td>\n",
       "    </tr>\n",
       "    <tr>\n",
       "      <th>306</th>\n",
       "      <td>0.0</td>\n",
       "      <td>0.0</td>\n",
       "      <td>0.0</td>\n",
       "      <td>0.0</td>\n",
       "      <td>0.9</td>\n",
       "      <td>-0.956019</td>\n",
       "      <td>-0.953474</td>\n",
       "      <td>-0.976030</td>\n",
       "      <td>-0.905219</td>\n",
       "      <td>-0.834024</td>\n",
       "      <td>...</td>\n",
       "      <td>0.003291</td>\n",
       "      <td>-0.956019</td>\n",
       "      <td>-0.953474</td>\n",
       "      <td>-0.976030</td>\n",
       "      <td>-0.905219</td>\n",
       "      <td>-0.834024</td>\n",
       "      <td>YADGIRI</td>\n",
       "      <td>-0.925749</td>\n",
       "      <td>0.092647</td>\n",
       "      <td>0.907353</td>\n",
       "    </tr>\n",
       "    <tr>\n",
       "      <th>307</th>\n",
       "      <td>0.0</td>\n",
       "      <td>0.0</td>\n",
       "      <td>0.0</td>\n",
       "      <td>0.0</td>\n",
       "      <td>0.9</td>\n",
       "      <td>-0.949871</td>\n",
       "      <td>-0.977746</td>\n",
       "      <td>-0.912950</td>\n",
       "      <td>-0.953415</td>\n",
       "      <td>-0.842227</td>\n",
       "      <td>...</td>\n",
       "      <td>0.003291</td>\n",
       "      <td>-0.949871</td>\n",
       "      <td>-0.977746</td>\n",
       "      <td>-0.912950</td>\n",
       "      <td>-0.953415</td>\n",
       "      <td>-0.842227</td>\n",
       "      <td>RAICHUR</td>\n",
       "      <td>-0.924118</td>\n",
       "      <td>0.229010</td>\n",
       "      <td>0.770990</td>\n",
       "    </tr>\n",
       "    <tr>\n",
       "      <th>308</th>\n",
       "      <td>0.0</td>\n",
       "      <td>0.0</td>\n",
       "      <td>0.0</td>\n",
       "      <td>0.0</td>\n",
       "      <td>0.9</td>\n",
       "      <td>1.311112</td>\n",
       "      <td>-0.094450</td>\n",
       "      <td>0.842439</td>\n",
       "      <td>0.763047</td>\n",
       "      <td>0.507441</td>\n",
       "      <td>...</td>\n",
       "      <td>0.003291</td>\n",
       "      <td>1.311112</td>\n",
       "      <td>-0.094450</td>\n",
       "      <td>0.842439</td>\n",
       "      <td>0.763047</td>\n",
       "      <td>0.507441</td>\n",
       "      <td>KOPPAL</td>\n",
       "      <td>0.360216</td>\n",
       "      <td>0.034791</td>\n",
       "      <td>0.965209</td>\n",
       "    </tr>\n",
       "    <tr>\n",
       "      <th>309</th>\n",
       "      <td>0.0</td>\n",
       "      <td>0.0</td>\n",
       "      <td>0.0</td>\n",
       "      <td>0.0</td>\n",
       "      <td>0.9</td>\n",
       "      <td>0.268799</td>\n",
       "      <td>-0.447550</td>\n",
       "      <td>0.906308</td>\n",
       "      <td>0.356000</td>\n",
       "      <td>0.278146</td>\n",
       "      <td>...</td>\n",
       "      <td>0.003291</td>\n",
       "      <td>0.268799</td>\n",
       "      <td>-0.447550</td>\n",
       "      <td>0.906308</td>\n",
       "      <td>0.356000</td>\n",
       "      <td>0.278146</td>\n",
       "      <td>VIJAYANAGARA</td>\n",
       "      <td>0.342867</td>\n",
       "      <td>0.211783</td>\n",
       "      <td>0.788217</td>\n",
       "    </tr>\n",
       "    <tr>\n",
       "      <th>310</th>\n",
       "      <td>0.0</td>\n",
       "      <td>0.0</td>\n",
       "      <td>0.0</td>\n",
       "      <td>0.0</td>\n",
       "      <td>1.0</td>\n",
       "      <td>-0.954112</td>\n",
       "      <td>-0.923517</td>\n",
       "      <td>-0.969564</td>\n",
       "      <td>-0.894300</td>\n",
       "      <td>-0.824518</td>\n",
       "      <td>...</td>\n",
       "      <td>0.003291</td>\n",
       "      <td>-0.954112</td>\n",
       "      <td>-0.923517</td>\n",
       "      <td>-0.969564</td>\n",
       "      <td>-0.894300</td>\n",
       "      <td>-0.824518</td>\n",
       "      <td>BENGALURU</td>\n",
       "      <td>-0.909488</td>\n",
       "      <td>0.053135</td>\n",
       "      <td>0.946865</td>\n",
       "    </tr>\n",
       "    <tr>\n",
       "      <th>311</th>\n",
       "      <td>0.0</td>\n",
       "      <td>0.0</td>\n",
       "      <td>0.0</td>\n",
       "      <td>0.0</td>\n",
       "      <td>1.0</td>\n",
       "      <td>-0.898299</td>\n",
       "      <td>-0.411298</td>\n",
       "      <td>-0.440831</td>\n",
       "      <td>-0.486547</td>\n",
       "      <td>-0.493762</td>\n",
       "      <td>...</td>\n",
       "      <td>0.003291</td>\n",
       "      <td>-0.898299</td>\n",
       "      <td>-0.411298</td>\n",
       "      <td>-0.440831</td>\n",
       "      <td>-0.486547</td>\n",
       "      <td>-0.493762</td>\n",
       "      <td>BENGALURU(R)</td>\n",
       "      <td>-0.354850</td>\n",
       "      <td>0.016219</td>\n",
       "      <td>0.983781</td>\n",
       "    </tr>\n",
       "    <tr>\n",
       "      <th>312</th>\n",
       "      <td>0.0</td>\n",
       "      <td>0.0</td>\n",
       "      <td>0.0</td>\n",
       "      <td>0.0</td>\n",
       "      <td>1.0</td>\n",
       "      <td>-0.844569</td>\n",
       "      <td>-0.805840</td>\n",
       "      <td>-0.936542</td>\n",
       "      <td>-0.928196</td>\n",
       "      <td>-0.766046</td>\n",
       "      <td>...</td>\n",
       "      <td>0.003291</td>\n",
       "      <td>-0.844569</td>\n",
       "      <td>-0.805840</td>\n",
       "      <td>-0.936542</td>\n",
       "      <td>-0.928196</td>\n",
       "      <td>-0.766046</td>\n",
       "      <td>RAMANAGARA</td>\n",
       "      <td>-0.893787</td>\n",
       "      <td>0.100643</td>\n",
       "      <td>0.899357</td>\n",
       "    </tr>\n",
       "    <tr>\n",
       "      <th>313</th>\n",
       "      <td>0.0</td>\n",
       "      <td>0.0</td>\n",
       "      <td>0.0</td>\n",
       "      <td>0.0</td>\n",
       "      <td>1.0</td>\n",
       "      <td>1.187731</td>\n",
       "      <td>0.928753</td>\n",
       "      <td>2.535248</td>\n",
       "      <td>0.748113</td>\n",
       "      <td>2.232911</td>\n",
       "      <td>...</td>\n",
       "      <td>0.003291</td>\n",
       "      <td>1.187731</td>\n",
       "      <td>0.928753</td>\n",
       "      <td>2.535248</td>\n",
       "      <td>0.748113</td>\n",
       "      <td>2.232911</td>\n",
       "      <td>CHITRADURGA</td>\n",
       "      <td>1.494587</td>\n",
       "      <td>0.121529</td>\n",
       "      <td>0.878471</td>\n",
       "    </tr>\n",
       "    <tr>\n",
       "      <th>314</th>\n",
       "      <td>0.0</td>\n",
       "      <td>0.0</td>\n",
       "      <td>0.0</td>\n",
       "      <td>0.0</td>\n",
       "      <td>1.0</td>\n",
       "      <td>1.667804</td>\n",
       "      <td>0.970607</td>\n",
       "      <td>5.660616</td>\n",
       "      <td>3.071116</td>\n",
       "      <td>1.369011</td>\n",
       "      <td>...</td>\n",
       "      <td>0.003291</td>\n",
       "      <td>1.667804</td>\n",
       "      <td>0.970607</td>\n",
       "      <td>5.660616</td>\n",
       "      <td>3.071116</td>\n",
       "      <td>1.369011</td>\n",
       "      <td>DAVANAGERE</td>\n",
       "      <td>3.764124</td>\n",
       "      <td>0.511824</td>\n",
       "      <td>0.488176</td>\n",
       "    </tr>\n",
       "    <tr>\n",
       "      <th>315</th>\n",
       "      <td>0.0</td>\n",
       "      <td>0.0</td>\n",
       "      <td>0.0</td>\n",
       "      <td>0.0</td>\n",
       "      <td>1.0</td>\n",
       "      <td>-0.933956</td>\n",
       "      <td>-0.930096</td>\n",
       "      <td>-0.988384</td>\n",
       "      <td>-0.928422</td>\n",
       "      <td>-0.821818</td>\n",
       "      <td>...</td>\n",
       "      <td>0.003291</td>\n",
       "      <td>-0.933956</td>\n",
       "      <td>-0.930096</td>\n",
       "      <td>-0.988384</td>\n",
       "      <td>-0.928422</td>\n",
       "      <td>-0.821818</td>\n",
       "      <td>KOLAR</td>\n",
       "      <td>-0.937928</td>\n",
       "      <td>0.214395</td>\n",
       "      <td>0.785605</td>\n",
       "    </tr>\n",
       "    <tr>\n",
       "      <th>316</th>\n",
       "      <td>0.0</td>\n",
       "      <td>0.0</td>\n",
       "      <td>0.0</td>\n",
       "      <td>0.0</td>\n",
       "      <td>1.0</td>\n",
       "      <td>0.559750</td>\n",
       "      <td>0.641189</td>\n",
       "      <td>1.272222</td>\n",
       "      <td>0.323470</td>\n",
       "      <td>0.750105</td>\n",
       "      <td>...</td>\n",
       "      <td>0.003291</td>\n",
       "      <td>0.559750</td>\n",
       "      <td>0.641189</td>\n",
       "      <td>1.272222</td>\n",
       "      <td>0.323470</td>\n",
       "      <td>0.750105</td>\n",
       "      <td>CHIKKABALLAPURA</td>\n",
       "      <td>0.780262</td>\n",
       "      <td>0.241114</td>\n",
       "      <td>0.758886</td>\n",
       "    </tr>\n",
       "    <tr>\n",
       "      <th>317</th>\n",
       "      <td>0.0</td>\n",
       "      <td>0.0</td>\n",
       "      <td>0.0</td>\n",
       "      <td>0.0</td>\n",
       "      <td>1.0</td>\n",
       "      <td>0.677935</td>\n",
       "      <td>1.405199</td>\n",
       "      <td>0.673751</td>\n",
       "      <td>0.673691</td>\n",
       "      <td>-0.191452</td>\n",
       "      <td>...</td>\n",
       "      <td>0.003291</td>\n",
       "      <td>0.677935</td>\n",
       "      <td>1.405199</td>\n",
       "      <td>0.673751</td>\n",
       "      <td>0.673691</td>\n",
       "      <td>-0.191452</td>\n",
       "      <td>SHIVAMOGGA</td>\n",
       "      <td>0.848764</td>\n",
       "      <td>0.030471</td>\n",
       "      <td>0.969529</td>\n",
       "    </tr>\n",
       "    <tr>\n",
       "      <th>318</th>\n",
       "      <td>0.0</td>\n",
       "      <td>0.0</td>\n",
       "      <td>0.0</td>\n",
       "      <td>0.0</td>\n",
       "      <td>1.0</td>\n",
       "      <td>-0.253495</td>\n",
       "      <td>-0.117071</td>\n",
       "      <td>-0.081363</td>\n",
       "      <td>-0.532027</td>\n",
       "      <td>0.296653</td>\n",
       "      <td>...</td>\n",
       "      <td>0.003291</td>\n",
       "      <td>-0.253495</td>\n",
       "      <td>-0.117071</td>\n",
       "      <td>-0.081363</td>\n",
       "      <td>-0.532027</td>\n",
       "      <td>0.296653</td>\n",
       "      <td>TUMAKURU</td>\n",
       "      <td>-0.248541</td>\n",
       "      <td>0.098884</td>\n",
       "      <td>0.901116</td>\n",
       "    </tr>\n",
       "    <tr>\n",
       "      <th>319</th>\n",
       "      <td>0.0</td>\n",
       "      <td>0.0</td>\n",
       "      <td>0.0</td>\n",
       "      <td>0.0</td>\n",
       "      <td>1.0</td>\n",
       "      <td>0.296554</td>\n",
       "      <td>-0.057155</td>\n",
       "      <td>-0.018860</td>\n",
       "      <td>0.317096</td>\n",
       "      <td>-0.499389</td>\n",
       "      <td>...</td>\n",
       "      <td>0.003291</td>\n",
       "      <td>0.296554</td>\n",
       "      <td>-0.057155</td>\n",
       "      <td>-0.018860</td>\n",
       "      <td>0.317096</td>\n",
       "      <td>-0.499389</td>\n",
       "      <td>CHIKKAMAGALURU</td>\n",
       "      <td>0.010445</td>\n",
       "      <td>0.148646</td>\n",
       "      <td>0.851354</td>\n",
       "    </tr>\n",
       "    <tr>\n",
       "      <th>320</th>\n",
       "      <td>0.0</td>\n",
       "      <td>0.0</td>\n",
       "      <td>0.0</td>\n",
       "      <td>0.0</td>\n",
       "      <td>1.0</td>\n",
       "      <td>-0.956019</td>\n",
       "      <td>-0.982044</td>\n",
       "      <td>-1.013016</td>\n",
       "      <td>-0.963075</td>\n",
       "      <td>-0.843754</td>\n",
       "      <td>...</td>\n",
       "      <td>0.003291</td>\n",
       "      <td>-0.956019</td>\n",
       "      <td>-0.982044</td>\n",
       "      <td>-1.013016</td>\n",
       "      <td>-0.963075</td>\n",
       "      <td>-0.843754</td>\n",
       "      <td>DAKSHINA KANNADA</td>\n",
       "      <td>-0.974517</td>\n",
       "      <td>0.187073</td>\n",
       "      <td>0.812927</td>\n",
       "    </tr>\n",
       "    <tr>\n",
       "      <th>321</th>\n",
       "      <td>0.0</td>\n",
       "      <td>0.0</td>\n",
       "      <td>0.0</td>\n",
       "      <td>0.0</td>\n",
       "      <td>1.0</td>\n",
       "      <td>-0.956019</td>\n",
       "      <td>-0.979890</td>\n",
       "      <td>-1.012708</td>\n",
       "      <td>-0.962713</td>\n",
       "      <td>-0.843725</td>\n",
       "      <td>...</td>\n",
       "      <td>0.003291</td>\n",
       "      <td>-0.956019</td>\n",
       "      <td>-0.979890</td>\n",
       "      <td>-1.012708</td>\n",
       "      <td>-0.962713</td>\n",
       "      <td>-0.843725</td>\n",
       "      <td>UDUPI</td>\n",
       "      <td>-0.973559</td>\n",
       "      <td>0.138611</td>\n",
       "      <td>0.861389</td>\n",
       "    </tr>\n",
       "    <tr>\n",
       "      <th>322</th>\n",
       "      <td>0.0</td>\n",
       "      <td>0.0</td>\n",
       "      <td>0.0</td>\n",
       "      <td>0.0</td>\n",
       "      <td>1.0</td>\n",
       "      <td>2.867656</td>\n",
       "      <td>2.460338</td>\n",
       "      <td>2.029683</td>\n",
       "      <td>1.711326</td>\n",
       "      <td>-0.206118</td>\n",
       "      <td>...</td>\n",
       "      <td>0.003291</td>\n",
       "      <td>2.867656</td>\n",
       "      <td>2.460338</td>\n",
       "      <td>2.029683</td>\n",
       "      <td>1.711326</td>\n",
       "      <td>-0.206118</td>\n",
       "      <td>HASSAN</td>\n",
       "      <td>1.746624</td>\n",
       "      <td>0.395999</td>\n",
       "      <td>0.604001</td>\n",
       "    </tr>\n",
       "    <tr>\n",
       "      <th>323</th>\n",
       "      <td>0.0</td>\n",
       "      <td>0.0</td>\n",
       "      <td>0.0</td>\n",
       "      <td>0.0</td>\n",
       "      <td>1.0</td>\n",
       "      <td>-0.850455</td>\n",
       "      <td>-0.808804</td>\n",
       "      <td>-0.880313</td>\n",
       "      <td>-0.410746</td>\n",
       "      <td>-0.842756</td>\n",
       "      <td>...</td>\n",
       "      <td>0.003291</td>\n",
       "      <td>-0.850455</td>\n",
       "      <td>-0.808804</td>\n",
       "      <td>-0.880313</td>\n",
       "      <td>-0.410746</td>\n",
       "      <td>-0.842756</td>\n",
       "      <td>KODAGU</td>\n",
       "      <td>-0.665563</td>\n",
       "      <td>0.197704</td>\n",
       "      <td>0.802296</td>\n",
       "    </tr>\n",
       "    <tr>\n",
       "      <th>324</th>\n",
       "      <td>0.0</td>\n",
       "      <td>0.0</td>\n",
       "      <td>0.0</td>\n",
       "      <td>0.0</td>\n",
       "      <td>1.0</td>\n",
       "      <td>-0.615851</td>\n",
       "      <td>-0.782029</td>\n",
       "      <td>-0.824738</td>\n",
       "      <td>-0.735674</td>\n",
       "      <td>-0.801784</td>\n",
       "      <td>...</td>\n",
       "      <td>0.003291</td>\n",
       "      <td>-0.615851</td>\n",
       "      <td>-0.782029</td>\n",
       "      <td>-0.824738</td>\n",
       "      <td>-0.735674</td>\n",
       "      <td>-0.801784</td>\n",
       "      <td>MANDYA</td>\n",
       "      <td>-0.808176</td>\n",
       "      <td>0.209148</td>\n",
       "      <td>0.790852</td>\n",
       "    </tr>\n",
       "    <tr>\n",
       "      <th>325</th>\n",
       "      <td>0.0</td>\n",
       "      <td>0.0</td>\n",
       "      <td>0.0</td>\n",
       "      <td>0.0</td>\n",
       "      <td>1.0</td>\n",
       "      <td>-0.281950</td>\n",
       "      <td>0.420998</td>\n",
       "      <td>0.421892</td>\n",
       "      <td>0.127030</td>\n",
       "      <td>-0.600490</td>\n",
       "      <td>...</td>\n",
       "      <td>0.003291</td>\n",
       "      <td>-0.281950</td>\n",
       "      <td>0.420998</td>\n",
       "      <td>0.421892</td>\n",
       "      <td>0.127030</td>\n",
       "      <td>-0.600490</td>\n",
       "      <td>MYSURU</td>\n",
       "      <td>0.414381</td>\n",
       "      <td>0.038747</td>\n",
       "      <td>0.961253</td>\n",
       "    </tr>\n",
       "    <tr>\n",
       "      <th>326</th>\n",
       "      <td>0.0</td>\n",
       "      <td>0.0</td>\n",
       "      <td>0.0</td>\n",
       "      <td>0.0</td>\n",
       "      <td>1.0</td>\n",
       "      <td>-0.075813</td>\n",
       "      <td>0.850684</td>\n",
       "      <td>0.471386</td>\n",
       "      <td>0.181078</td>\n",
       "      <td>0.633683</td>\n",
       "      <td>...</td>\n",
       "      <td>0.003291</td>\n",
       "      <td>-0.075813</td>\n",
       "      <td>0.850684</td>\n",
       "      <td>0.471386</td>\n",
       "      <td>0.181078</td>\n",
       "      <td>0.633683</td>\n",
       "      <td>CHAMARAJANAGAR</td>\n",
       "      <td>0.552831</td>\n",
       "      <td>0.182978</td>\n",
       "      <td>0.817022</td>\n",
       "    </tr>\n",
       "    <tr>\n",
       "      <th>327</th>\n",
       "      <td>0.0</td>\n",
       "      <td>0.0</td>\n",
       "      <td>0.0</td>\n",
       "      <td>0.0</td>\n",
       "      <td>1.0</td>\n",
       "      <td>4.134992</td>\n",
       "      <td>2.643594</td>\n",
       "      <td>4.035044</td>\n",
       "      <td>6.616101</td>\n",
       "      <td>3.259264</td>\n",
       "      <td>...</td>\n",
       "      <td>0.003291</td>\n",
       "      <td>4.134992</td>\n",
       "      <td>2.643594</td>\n",
       "      <td>4.035044</td>\n",
       "      <td>6.616101</td>\n",
       "      <td>3.259264</td>\n",
       "      <td>BELAGAVI</td>\n",
       "      <td>4.392382</td>\n",
       "      <td>0.789249</td>\n",
       "      <td>0.210751</td>\n",
       "    </tr>\n",
       "    <tr>\n",
       "      <th>328</th>\n",
       "      <td>0.0</td>\n",
       "      <td>0.0</td>\n",
       "      <td>0.0</td>\n",
       "      <td>0.0</td>\n",
       "      <td>1.0</td>\n",
       "      <td>0.193295</td>\n",
       "      <td>0.126286</td>\n",
       "      <td>0.534428</td>\n",
       "      <td>0.672408</td>\n",
       "      <td>1.543998</td>\n",
       "      <td>...</td>\n",
       "      <td>0.003291</td>\n",
       "      <td>0.193295</td>\n",
       "      <td>0.126286</td>\n",
       "      <td>0.534428</td>\n",
       "      <td>0.672408</td>\n",
       "      <td>1.543998</td>\n",
       "      <td>VIJAYAPURA</td>\n",
       "      <td>0.492917</td>\n",
       "      <td>0.017817</td>\n",
       "      <td>0.982183</td>\n",
       "    </tr>\n",
       "    <tr>\n",
       "      <th>329</th>\n",
       "      <td>0.0</td>\n",
       "      <td>0.0</td>\n",
       "      <td>0.0</td>\n",
       "      <td>0.0</td>\n",
       "      <td>1.0</td>\n",
       "      <td>1.476541</td>\n",
       "      <td>0.740833</td>\n",
       "      <td>0.691955</td>\n",
       "      <td>2.637557</td>\n",
       "      <td>2.635303</td>\n",
       "      <td>...</td>\n",
       "      <td>0.003291</td>\n",
       "      <td>1.476541</td>\n",
       "      <td>0.740833</td>\n",
       "      <td>0.691955</td>\n",
       "      <td>2.637557</td>\n",
       "      <td>2.635303</td>\n",
       "      <td>BAGALKOT</td>\n",
       "      <td>1.254530</td>\n",
       "      <td>0.078254</td>\n",
       "      <td>0.921746</td>\n",
       "    </tr>\n",
       "  </tbody>\n",
       "</table>\n",
       "<p>30 rows × 25 columns</p>\n",
       "</div>"
      ],
      "text/plain": [
       "     Sensitivity_SowingSeedsDistributed_Maize  \\\n",
       "300                                       0.0   \n",
       "301                                       0.0   \n",
       "302                                       0.0   \n",
       "303                                       0.0   \n",
       "304                                       0.0   \n",
       "305                                       0.0   \n",
       "306                                       0.0   \n",
       "307                                       0.0   \n",
       "308                                       0.0   \n",
       "309                                       0.0   \n",
       "310                                       0.0   \n",
       "311                                       0.0   \n",
       "312                                       0.0   \n",
       "313                                       0.0   \n",
       "314                                       0.0   \n",
       "315                                       0.0   \n",
       "316                                       0.0   \n",
       "317                                       0.0   \n",
       "318                                       0.0   \n",
       "319                                       0.0   \n",
       "320                                       0.0   \n",
       "321                                       0.0   \n",
       "322                                       0.0   \n",
       "323                                       0.0   \n",
       "324                                       0.0   \n",
       "325                                       0.0   \n",
       "326                                       0.0   \n",
       "327                                       0.0   \n",
       "328                                       0.0   \n",
       "329                                       0.0   \n",
       "\n",
       "     Sensitivity_LivestockCensus_2012_Cattle  \\\n",
       "300                                      0.0   \n",
       "301                                      0.0   \n",
       "302                                      0.0   \n",
       "303                                      0.0   \n",
       "304                                      0.0   \n",
       "305                                      0.0   \n",
       "306                                      0.0   \n",
       "307                                      0.0   \n",
       "308                                      0.0   \n",
       "309                                      0.0   \n",
       "310                                      0.0   \n",
       "311                                      0.0   \n",
       "312                                      0.0   \n",
       "313                                      0.0   \n",
       "314                                      0.0   \n",
       "315                                      0.0   \n",
       "316                                      0.0   \n",
       "317                                      0.0   \n",
       "318                                      0.0   \n",
       "319                                      0.0   \n",
       "320                                      0.0   \n",
       "321                                      0.0   \n",
       "322                                      0.0   \n",
       "323                                      0.0   \n",
       "324                                      0.0   \n",
       "325                                      0.0   \n",
       "326                                      0.0   \n",
       "327                                      0.0   \n",
       "328                                      0.0   \n",
       "329                                      0.0   \n",
       "\n",
       "     Sensitivity_AreaUnderCereals_Maize  Sensitivity_TotalNPK  \\\n",
       "300                                 0.0                   0.0   \n",
       "301                                 0.0                   0.0   \n",
       "302                                 0.0                   0.0   \n",
       "303                                 0.0                   0.0   \n",
       "304                                 0.0                   0.0   \n",
       "305                                 0.0                   0.0   \n",
       "306                                 0.0                   0.0   \n",
       "307                                 0.0                   0.0   \n",
       "308                                 0.0                   0.0   \n",
       "309                                 0.0                   0.0   \n",
       "310                                 0.0                   0.0   \n",
       "311                                 0.0                   0.0   \n",
       "312                                 0.0                   0.0   \n",
       "313                                 0.0                   0.0   \n",
       "314                                 0.0                   0.0   \n",
       "315                                 0.0                   0.0   \n",
       "316                                 0.0                   0.0   \n",
       "317                                 0.0                   0.0   \n",
       "318                                 0.0                   0.0   \n",
       "319                                 0.0                   0.0   \n",
       "320                                 0.0                   0.0   \n",
       "321                                 0.0                   0.0   \n",
       "322                                 0.0                   0.0   \n",
       "323                                 0.0                   0.0   \n",
       "324                                 0.0                   0.0   \n",
       "325                                 0.0                   0.0   \n",
       "326                                 0.0                   0.0   \n",
       "327                                 0.0                   0.0   \n",
       "328                                 0.0                   0.0   \n",
       "329                                 0.0                   0.0   \n",
       "\n",
       "     Sensitivity_NetAreaIrrigatedUnderDifferentSources_TubeWells_NetIrrigatedArea  \\\n",
       "300                                                0.9                              \n",
       "301                                                0.9                              \n",
       "302                                                0.9                              \n",
       "303                                                0.9                              \n",
       "304                                                0.9                              \n",
       "305                                                0.9                              \n",
       "306                                                0.9                              \n",
       "307                                                0.9                              \n",
       "308                                                0.9                              \n",
       "309                                                0.9                              \n",
       "310                                                1.0                              \n",
       "311                                                1.0                              \n",
       "312                                                1.0                              \n",
       "313                                                1.0                              \n",
       "314                                                1.0                              \n",
       "315                                                1.0                              \n",
       "316                                                1.0                              \n",
       "317                                                1.0                              \n",
       "318                                                1.0                              \n",
       "319                                                1.0                              \n",
       "320                                                1.0                              \n",
       "321                                                1.0                              \n",
       "322                                                1.0                              \n",
       "323                                                1.0                              \n",
       "324                                                1.0                              \n",
       "325                                                1.0                              \n",
       "326                                                1.0                              \n",
       "327                                                1.0                              \n",
       "328                                                1.0                              \n",
       "329                                                1.0                              \n",
       "\n",
       "     SowingSeedsDistributed_Maize  LivestockCensus_2012_Cattle  \\\n",
       "300                      0.805163                    -0.201008   \n",
       "301                      3.895949                     1.187010   \n",
       "302                     -0.326603                    -0.467681   \n",
       "303                      0.268799                    -0.447550   \n",
       "304                     -0.945501                    -0.927976   \n",
       "305                     -0.885332                    -0.840216   \n",
       "306                     -0.956019                    -0.953474   \n",
       "307                     -0.949871                    -0.977746   \n",
       "308                      1.311112                    -0.094450   \n",
       "309                      0.268799                    -0.447550   \n",
       "310                     -0.954112                    -0.923517   \n",
       "311                     -0.898299                    -0.411298   \n",
       "312                     -0.844569                    -0.805840   \n",
       "313                      1.187731                     0.928753   \n",
       "314                      1.667804                     0.970607   \n",
       "315                     -0.933956                    -0.930096   \n",
       "316                      0.559750                     0.641189   \n",
       "317                      0.677935                     1.405199   \n",
       "318                     -0.253495                    -0.117071   \n",
       "319                      0.296554                    -0.057155   \n",
       "320                     -0.956019                    -0.982044   \n",
       "321                     -0.956019                    -0.979890   \n",
       "322                      2.867656                     2.460338   \n",
       "323                     -0.850455                    -0.808804   \n",
       "324                     -0.615851                    -0.782029   \n",
       "325                     -0.281950                     0.420998   \n",
       "326                     -0.075813                     0.850684   \n",
       "327                      4.134992                     2.643594   \n",
       "328                      0.193295                     0.126286   \n",
       "329                      1.476541                     0.740833   \n",
       "\n",
       "     AreaUnderCereals_Maize  TotalNPK  \\\n",
       "300                0.301813 -0.085501   \n",
       "301                5.556548  2.447743   \n",
       "302               -0.836899 -0.802099   \n",
       "303                0.906308  0.356000   \n",
       "304               -0.959827 -0.923933   \n",
       "305               -0.911641 -0.851621   \n",
       "306               -0.976030 -0.905219   \n",
       "307               -0.912950 -0.953415   \n",
       "308                0.842439  0.763047   \n",
       "309                0.906308  0.356000   \n",
       "310               -0.969564 -0.894300   \n",
       "311               -0.440831 -0.486547   \n",
       "312               -0.936542 -0.928196   \n",
       "313                2.535248  0.748113   \n",
       "314                5.660616  3.071116   \n",
       "315               -0.988384 -0.928422   \n",
       "316                1.272222  0.323470   \n",
       "317                0.673751  0.673691   \n",
       "318               -0.081363 -0.532027   \n",
       "319               -0.018860  0.317096   \n",
       "320               -1.013016 -0.963075   \n",
       "321               -1.012708 -0.962713   \n",
       "322                2.029683  1.711326   \n",
       "323               -0.880313 -0.410746   \n",
       "324               -0.824738 -0.735674   \n",
       "325                0.421892  0.127030   \n",
       "326                0.471386  0.181078   \n",
       "327                4.035044  6.616101   \n",
       "328                0.534428  0.672408   \n",
       "329                0.691955  2.637557   \n",
       "\n",
       "     NetAreaIrrigatedUnderDifferentSources_TubeWells_NetIrrigatedArea  ...  \\\n",
       "300                                           0.251653                 ...   \n",
       "301                                           1.462477                 ...   \n",
       "302                                          -0.781738                 ...   \n",
       "303                                           0.278146                 ...   \n",
       "304                                          -0.821713                 ...   \n",
       "305                                          -0.773501                 ...   \n",
       "306                                          -0.834024                 ...   \n",
       "307                                          -0.842227                 ...   \n",
       "308                                           0.507441                 ...   \n",
       "309                                           0.278146                 ...   \n",
       "310                                          -0.824518                 ...   \n",
       "311                                          -0.493762                 ...   \n",
       "312                                          -0.766046                 ...   \n",
       "313                                           2.232911                 ...   \n",
       "314                                           1.369011                 ...   \n",
       "315                                          -0.821818                 ...   \n",
       "316                                           0.750105                 ...   \n",
       "317                                          -0.191452                 ...   \n",
       "318                                           0.296653                 ...   \n",
       "319                                          -0.499389                 ...   \n",
       "320                                          -0.843754                 ...   \n",
       "321                                          -0.843725                 ...   \n",
       "322                                          -0.206118                 ...   \n",
       "323                                          -0.842756                 ...   \n",
       "324                                          -0.801784                 ...   \n",
       "325                                          -0.600490                 ...   \n",
       "326                                           0.633683                 ...   \n",
       "327                                           3.259264                 ...   \n",
       "328                                           1.543998                 ...   \n",
       "329                                           2.635303                 ...   \n",
       "\n",
       "       Beta_5    New_F1    New_F2    New_F3    New_F4    New_F5  \\\n",
       "300  0.003291  0.805163 -0.201008  0.301813 -0.085501  0.251653   \n",
       "301  0.003291  3.895949  1.187010  5.556548  2.447743  1.462477   \n",
       "302  0.003291 -0.326603 -0.467681 -0.836899 -0.802099 -0.781738   \n",
       "303  0.003291  0.268799 -0.447550  0.906308  0.356000  0.278146   \n",
       "304  0.003291 -0.945501 -0.927976 -0.959827 -0.923933 -0.821713   \n",
       "305  0.003291 -0.885332 -0.840216 -0.911641 -0.851621 -0.773501   \n",
       "306  0.003291 -0.956019 -0.953474 -0.976030 -0.905219 -0.834024   \n",
       "307  0.003291 -0.949871 -0.977746 -0.912950 -0.953415 -0.842227   \n",
       "308  0.003291  1.311112 -0.094450  0.842439  0.763047  0.507441   \n",
       "309  0.003291  0.268799 -0.447550  0.906308  0.356000  0.278146   \n",
       "310  0.003291 -0.954112 -0.923517 -0.969564 -0.894300 -0.824518   \n",
       "311  0.003291 -0.898299 -0.411298 -0.440831 -0.486547 -0.493762   \n",
       "312  0.003291 -0.844569 -0.805840 -0.936542 -0.928196 -0.766046   \n",
       "313  0.003291  1.187731  0.928753  2.535248  0.748113  2.232911   \n",
       "314  0.003291  1.667804  0.970607  5.660616  3.071116  1.369011   \n",
       "315  0.003291 -0.933956 -0.930096 -0.988384 -0.928422 -0.821818   \n",
       "316  0.003291  0.559750  0.641189  1.272222  0.323470  0.750105   \n",
       "317  0.003291  0.677935  1.405199  0.673751  0.673691 -0.191452   \n",
       "318  0.003291 -0.253495 -0.117071 -0.081363 -0.532027  0.296653   \n",
       "319  0.003291  0.296554 -0.057155 -0.018860  0.317096 -0.499389   \n",
       "320  0.003291 -0.956019 -0.982044 -1.013016 -0.963075 -0.843754   \n",
       "321  0.003291 -0.956019 -0.979890 -1.012708 -0.962713 -0.843725   \n",
       "322  0.003291  2.867656  2.460338  2.029683  1.711326 -0.206118   \n",
       "323  0.003291 -0.850455 -0.808804 -0.880313 -0.410746 -0.842756   \n",
       "324  0.003291 -0.615851 -0.782029 -0.824738 -0.735674 -0.801784   \n",
       "325  0.003291 -0.281950  0.420998  0.421892  0.127030 -0.600490   \n",
       "326  0.003291 -0.075813  0.850684  0.471386  0.181078  0.633683   \n",
       "327  0.003291  4.134992  2.643594  4.035044  6.616101  3.259264   \n",
       "328  0.003291  0.193295  0.126286  0.534428  0.672408  1.543998   \n",
       "329  0.003291  1.476541  0.740833  0.691955  2.637557  2.635303   \n",
       "\n",
       "             District  New_Production  Stress_Values  Stability_Values  \n",
       "300             GADAG       -0.148655       0.287064          0.712936  \n",
       "301            HAVERI        3.063770       0.455501          0.544499  \n",
       "302    UTTARA KANNADA       -0.803286       0.422407          0.577593  \n",
       "303           BALLARI        0.342867       0.147803          0.852197  \n",
       "304             BIDAR       -0.919746       0.012183          0.987817  \n",
       "305        KALABURAGI       -0.854359       0.075183          0.924817  \n",
       "306           YADGIRI       -0.925749       0.092647          0.907353  \n",
       "307           RAICHUR       -0.924118       0.229010          0.770990  \n",
       "308            KOPPAL        0.360216       0.034791          0.965209  \n",
       "309      VIJAYANAGARA        0.342867       0.211783          0.788217  \n",
       "310         BENGALURU       -0.909488       0.053135          0.946865  \n",
       "311      BENGALURU(R)       -0.354850       0.016219          0.983781  \n",
       "312        RAMANAGARA       -0.893787       0.100643          0.899357  \n",
       "313       CHITRADURGA        1.494587       0.121529          0.878471  \n",
       "314        DAVANAGERE        3.764124       0.511824          0.488176  \n",
       "315             KOLAR       -0.937928       0.214395          0.785605  \n",
       "316   CHIKKABALLAPURA        0.780262       0.241114          0.758886  \n",
       "317        SHIVAMOGGA        0.848764       0.030471          0.969529  \n",
       "318          TUMAKURU       -0.248541       0.098884          0.901116  \n",
       "319    CHIKKAMAGALURU        0.010445       0.148646          0.851354  \n",
       "320  DAKSHINA KANNADA       -0.974517       0.187073          0.812927  \n",
       "321             UDUPI       -0.973559       0.138611          0.861389  \n",
       "322            HASSAN        1.746624       0.395999          0.604001  \n",
       "323            KODAGU       -0.665563       0.197704          0.802296  \n",
       "324            MANDYA       -0.808176       0.209148          0.790852  \n",
       "325            MYSURU        0.414381       0.038747          0.961253  \n",
       "326    CHAMARAJANAGAR        0.552831       0.182978          0.817022  \n",
       "327          BELAGAVI        4.392382       0.789249          0.210751  \n",
       "328        VIJAYAPURA        0.492917       0.017817          0.982183  \n",
       "329          BAGALKOT        1.254530       0.078254          0.921746  \n",
       "\n",
       "[30 rows x 25 columns]"
      ]
     },
     "execution_count": 303,
     "metadata": {},
     "output_type": "execute_result"
    }
   ],
   "source": [
    "result_df[300:330]"
   ]
  }
 ],
 "metadata": {
  "kernelspec": {
   "display_name": "Python 3",
   "language": "python",
   "name": "python3"
  },
  "language_info": {
   "codemirror_mode": {
    "name": "ipython",
    "version": 3
   },
   "file_extension": ".py",
   "mimetype": "text/x-python",
   "name": "python",
   "nbconvert_exporter": "python",
   "pygments_lexer": "ipython3",
   "version": "3.9.13"
  }
 },
 "nbformat": 4,
 "nbformat_minor": 2
}
