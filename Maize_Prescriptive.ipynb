{
 "cells": [
  {
   "cell_type": "code",
   "execution_count": 29,
   "metadata": {},
   "outputs": [],
   "source": [
    "import pandas as pd\n",
    "import statsmodels.api as sm\n",
    "import re\n",
    "import numpy as np\n",
    "import pandas as pd\n",
    "from itertools import product"
   ]
  },
  {
   "cell_type": "code",
   "execution_count": 30,
   "metadata": {},
   "outputs": [
    {
     "data": {
      "text/html": [
       "<div>\n",
       "<style scoped>\n",
       "    .dataframe tbody tr th:only-of-type {\n",
       "        vertical-align: middle;\n",
       "    }\n",
       "\n",
       "    .dataframe tbody tr th {\n",
       "        vertical-align: top;\n",
       "    }\n",
       "\n",
       "    .dataframe thead th {\n",
       "        text-align: right;\n",
       "    }\n",
       "</style>\n",
       "<table border=\"1\" class=\"dataframe\">\n",
       "  <thead>\n",
       "    <tr style=\"text-align: right;\">\n",
       "      <th></th>\n",
       "      <th>District</th>\n",
       "      <th>Rice_Production</th>\n",
       "      <th>Maize_Production</th>\n",
       "      <th>Groundnut_Production</th>\n",
       "      <th>TotalNPK</th>\n",
       "      <th>SowingSeedsDistributed_Maize</th>\n",
       "      <th>LivestockCensus_2012_Cattle</th>\n",
       "      <th>AreaUnderCereals_Maize</th>\n",
       "      <th>AreaUnderCereals_Paddy</th>\n",
       "      <th>NetAreaIrrigated_Canals_NetAreaIrrigated</th>\n",
       "      <th>AreaUnderOilSeeds_GroundNut</th>\n",
       "      <th>MotorVehicles_Tractors</th>\n",
       "      <th>LivestockCensus_2012_Sheep</th>\n",
       "      <th>NetAreaIrrigatedUnderDifferentSources_TubeWells_NetIrrigatedArea</th>\n",
       "      <th>Rice_Ratio</th>\n",
       "      <th>Maize_Ratio</th>\n",
       "      <th>Groundnut_Ratio</th>\n",
       "      <th>Admin_Zone</th>\n",
       "    </tr>\n",
       "  </thead>\n",
       "  <tbody>\n",
       "    <tr>\n",
       "      <th>24</th>\n",
       "      <td>BALLARI</td>\n",
       "      <td>206115.5</td>\n",
       "      <td>104045</td>\n",
       "      <td>22938.5</td>\n",
       "      <td>61664.5</td>\n",
       "      <td>2859.005</td>\n",
       "      <td>172038.5</td>\n",
       "      <td>49869.5</td>\n",
       "      <td>46832.5</td>\n",
       "      <td>77607</td>\n",
       "      <td>49762</td>\n",
       "      <td>24001</td>\n",
       "      <td>756270</td>\n",
       "      <td>75198</td>\n",
       "      <td>0.269990</td>\n",
       "      <td>0.136288</td>\n",
       "      <td>0.030047</td>\n",
       "      <td>Kalaburagi Division</td>\n",
       "    </tr>\n",
       "    <tr>\n",
       "      <th>25</th>\n",
       "      <td>BIDAR</td>\n",
       "      <td>2036.0</td>\n",
       "      <td>2791</td>\n",
       "      <td>261.0</td>\n",
       "      <td>24658.0</td>\n",
       "      <td>24.550</td>\n",
       "      <td>234519.0</td>\n",
       "      <td>1382.0</td>\n",
       "      <td>1548.0</td>\n",
       "      <td>0</td>\n",
       "      <td>299</td>\n",
       "      <td>5256</td>\n",
       "      <td>88402</td>\n",
       "      <td>19908</td>\n",
       "      <td>0.007378</td>\n",
       "      <td>0.010114</td>\n",
       "      <td>0.000946</td>\n",
       "      <td>Kalaburagi Division</td>\n",
       "    </tr>\n",
       "    <tr>\n",
       "      <th>26</th>\n",
       "      <td>KALABURAGI</td>\n",
       "      <td>7888.0</td>\n",
       "      <td>14621</td>\n",
       "      <td>3114.0</td>\n",
       "      <td>53999.0</td>\n",
       "      <td>165.000</td>\n",
       "      <td>473117.0</td>\n",
       "      <td>2634.0</td>\n",
       "      <td>4199.0</td>\n",
       "      <td>20864</td>\n",
       "      <td>3817</td>\n",
       "      <td>16351</td>\n",
       "      <td>100061</td>\n",
       "      <td>48802</td>\n",
       "      <td>0.007095</td>\n",
       "      <td>0.013150</td>\n",
       "      <td>0.002801</td>\n",
       "      <td>Kalaburagi Division</td>\n",
       "    </tr>\n",
       "    <tr>\n",
       "      <th>27</th>\n",
       "      <td>YADGIRI</td>\n",
       "      <td>224659.0</td>\n",
       "      <td>2673</td>\n",
       "      <td>31435.0</td>\n",
       "      <td>91389.0</td>\n",
       "      <td>0.000</td>\n",
       "      <td>310727.0</td>\n",
       "      <td>961.0</td>\n",
       "      <td>49358.0</td>\n",
       "      <td>91141</td>\n",
       "      <td>38840</td>\n",
       "      <td>9902</td>\n",
       "      <td>463482</td>\n",
       "      <td>22035</td>\n",
       "      <td>0.339006</td>\n",
       "      <td>0.004033</td>\n",
       "      <td>0.047435</td>\n",
       "      <td>Kalaburagi Division</td>\n",
       "    </tr>\n",
       "    <tr>\n",
       "      <th>28</th>\n",
       "      <td>RAICHUR</td>\n",
       "      <td>492342.0</td>\n",
       "      <td>723</td>\n",
       "      <td>26958.0</td>\n",
       "      <td>117235.0</td>\n",
       "      <td>14.350</td>\n",
       "      <td>359124.0</td>\n",
       "      <td>2600.0</td>\n",
       "      <td>115246.0</td>\n",
       "      <td>111512</td>\n",
       "      <td>35960</td>\n",
       "      <td>25612</td>\n",
       "      <td>647549</td>\n",
       "      <td>26571</td>\n",
       "      <td>0.357505</td>\n",
       "      <td>0.000525</td>\n",
       "      <td>0.019575</td>\n",
       "      <td>Kalaburagi Division</td>\n",
       "    </tr>\n",
       "    <tr>\n",
       "      <th>29</th>\n",
       "      <td>KOPPAL</td>\n",
       "      <td>243505.0</td>\n",
       "      <td>190252</td>\n",
       "      <td>29982.0</td>\n",
       "      <td>73552.0</td>\n",
       "      <td>5292.000</td>\n",
       "      <td>260408.0</td>\n",
       "      <td>48210.0</td>\n",
       "      <td>50753.0</td>\n",
       "      <td>37736</td>\n",
       "      <td>22274</td>\n",
       "      <td>16317</td>\n",
       "      <td>547061</td>\n",
       "      <td>82552</td>\n",
       "      <td>0.191373</td>\n",
       "      <td>0.149521</td>\n",
       "      <td>0.023563</td>\n",
       "      <td>Kalaburagi Division</td>\n",
       "    </tr>\n",
       "    <tr>\n",
       "      <th>30</th>\n",
       "      <td>VIJAYANAGARA</td>\n",
       "      <td>206115.5</td>\n",
       "      <td>104045</td>\n",
       "      <td>22938.5</td>\n",
       "      <td>61664.5</td>\n",
       "      <td>2859.005</td>\n",
       "      <td>172038.5</td>\n",
       "      <td>49869.5</td>\n",
       "      <td>46832.5</td>\n",
       "      <td>77607</td>\n",
       "      <td>49762</td>\n",
       "      <td>24001</td>\n",
       "      <td>756270</td>\n",
       "      <td>75198</td>\n",
       "      <td>0.269990</td>\n",
       "      <td>0.136288</td>\n",
       "      <td>0.030047</td>\n",
       "      <td>Kalaburagi Division</td>\n",
       "    </tr>\n",
       "  </tbody>\n",
       "</table>\n",
       "</div>"
      ],
      "text/plain": [
       "        District  Rice_Production  Maize_Production  Groundnut_Production  \\\n",
       "24       BALLARI         206115.5            104045               22938.5   \n",
       "25         BIDAR           2036.0              2791                 261.0   \n",
       "26    KALABURAGI           7888.0             14621                3114.0   \n",
       "27       YADGIRI         224659.0              2673               31435.0   \n",
       "28       RAICHUR         492342.0               723               26958.0   \n",
       "29        KOPPAL         243505.0            190252               29982.0   \n",
       "30  VIJAYANAGARA         206115.5            104045               22938.5   \n",
       "\n",
       "    TotalNPK  SowingSeedsDistributed_Maize  LivestockCensus_2012_Cattle  \\\n",
       "24   61664.5                      2859.005                     172038.5   \n",
       "25   24658.0                        24.550                     234519.0   \n",
       "26   53999.0                       165.000                     473117.0   \n",
       "27   91389.0                         0.000                     310727.0   \n",
       "28  117235.0                        14.350                     359124.0   \n",
       "29   73552.0                      5292.000                     260408.0   \n",
       "30   61664.5                      2859.005                     172038.5   \n",
       "\n",
       "    AreaUnderCereals_Maize  AreaUnderCereals_Paddy  \\\n",
       "24                 49869.5                 46832.5   \n",
       "25                  1382.0                  1548.0   \n",
       "26                  2634.0                  4199.0   \n",
       "27                   961.0                 49358.0   \n",
       "28                  2600.0                115246.0   \n",
       "29                 48210.0                 50753.0   \n",
       "30                 49869.5                 46832.5   \n",
       "\n",
       "    NetAreaIrrigated_Canals_NetAreaIrrigated  AreaUnderOilSeeds_GroundNut  \\\n",
       "24                                     77607                        49762   \n",
       "25                                         0                          299   \n",
       "26                                     20864                         3817   \n",
       "27                                     91141                        38840   \n",
       "28                                    111512                        35960   \n",
       "29                                     37736                        22274   \n",
       "30                                     77607                        49762   \n",
       "\n",
       "    MotorVehicles_Tractors  LivestockCensus_2012_Sheep  \\\n",
       "24                   24001                      756270   \n",
       "25                    5256                       88402   \n",
       "26                   16351                      100061   \n",
       "27                    9902                      463482   \n",
       "28                   25612                      647549   \n",
       "29                   16317                      547061   \n",
       "30                   24001                      756270   \n",
       "\n",
       "    NetAreaIrrigatedUnderDifferentSources_TubeWells_NetIrrigatedArea  \\\n",
       "24                                              75198                  \n",
       "25                                              19908                  \n",
       "26                                              48802                  \n",
       "27                                              22035                  \n",
       "28                                              26571                  \n",
       "29                                              82552                  \n",
       "30                                              75198                  \n",
       "\n",
       "    Rice_Ratio  Maize_Ratio  Groundnut_Ratio           Admin_Zone  \n",
       "24    0.269990     0.136288         0.030047  Kalaburagi Division  \n",
       "25    0.007378     0.010114         0.000946  Kalaburagi Division  \n",
       "26    0.007095     0.013150         0.002801  Kalaburagi Division  \n",
       "27    0.339006     0.004033         0.047435  Kalaburagi Division  \n",
       "28    0.357505     0.000525         0.019575  Kalaburagi Division  \n",
       "29    0.191373     0.149521         0.023563  Kalaburagi Division  \n",
       "30    0.269990     0.136288         0.030047  Kalaburagi Division  "
      ]
     },
     "execution_count": 30,
     "metadata": {},
     "output_type": "execute_result"
    }
   ],
   "source": [
    "def remove_pattern(col_name):\n",
    "    return re.sub(r'_[0-9]{3}$', '', col_name)\n",
    "\n",
    "Zones = pd.read_excel('Zones.xlsx')\n",
    "Dataset = pd.read_csv('KAG 2016-17\\Agriculture\\Agriculture_KAG_2016_17.csv')\n",
    "Dataset.columns = map(remove_pattern, Dataset.columns)\n",
    "\n",
    "Working_Directory = pd.read_csv('Working_Directory.csv')\n",
    "Working_Directory[24:]"
   ]
  },
  {
   "cell_type": "code",
   "execution_count": 31,
   "metadata": {},
   "outputs": [
    {
     "data": {
      "text/html": [
       "<div>\n",
       "<style scoped>\n",
       "    .dataframe tbody tr th:only-of-type {\n",
       "        vertical-align: middle;\n",
       "    }\n",
       "\n",
       "    .dataframe tbody tr th {\n",
       "        vertical-align: top;\n",
       "    }\n",
       "\n",
       "    .dataframe thead th {\n",
       "        text-align: right;\n",
       "    }\n",
       "</style>\n",
       "<table border=\"1\" class=\"dataframe\">\n",
       "  <thead>\n",
       "    <tr style=\"text-align: right;\">\n",
       "      <th></th>\n",
       "      <th>SowingSeedsDistributed_Maize_320</th>\n",
       "      <th>LivestockCensus_2012_Cattle_354</th>\n",
       "      <th>AreaUnderCereals_Maize_193</th>\n",
       "      <th>TotalNPK_315</th>\n",
       "      <th>NetAreaIrrigatedUnderDifferentSources_TubeWells_NetIrrigatedArea_182</th>\n",
       "    </tr>\n",
       "  </thead>\n",
       "  <tbody>\n",
       "    <tr>\n",
       "      <th>0</th>\n",
       "      <td>4.45</td>\n",
       "      <td>2567.461578</td>\n",
       "      <td>1129</td>\n",
       "      <td>438.180210</td>\n",
       "      <td>175.723235</td>\n",
       "    </tr>\n",
       "    <tr>\n",
       "      <th>1</th>\n",
       "      <td>134.73</td>\n",
       "      <td>25037.139270</td>\n",
       "      <td>14867</td>\n",
       "      <td>3036.080250</td>\n",
       "      <td>3197.193185</td>\n",
       "    </tr>\n",
       "    <tr>\n",
       "      <th>2</th>\n",
       "      <td>260.15</td>\n",
       "      <td>7729.614277</td>\n",
       "      <td>1987</td>\n",
       "      <td>222.225258</td>\n",
       "      <td>709.859804</td>\n",
       "    </tr>\n",
       "    <tr>\n",
       "      <th>3</th>\n",
       "      <td>5004.00</td>\n",
       "      <td>83821.593090</td>\n",
       "      <td>92194</td>\n",
       "      <td>10902.406570</td>\n",
       "      <td>28105.507250</td>\n",
       "    </tr>\n",
       "    <tr>\n",
       "      <th>4</th>\n",
       "      <td>6124.60</td>\n",
       "      <td>85657.632090</td>\n",
       "      <td>173400</td>\n",
       "      <td>25702.835480</td>\n",
       "      <td>20213.730880</td>\n",
       "    </tr>\n",
       "  </tbody>\n",
       "</table>\n",
       "</div>"
      ],
      "text/plain": [
       "   SowingSeedsDistributed_Maize_320  LivestockCensus_2012_Cattle_354  \\\n",
       "0                              4.45                      2567.461578   \n",
       "1                            134.73                     25037.139270   \n",
       "2                            260.15                      7729.614277   \n",
       "3                           5004.00                     83821.593090   \n",
       "4                           6124.60                     85657.632090   \n",
       "\n",
       "   AreaUnderCereals_Maize_193  TotalNPK_315  \\\n",
       "0                        1129    438.180210   \n",
       "1                       14867   3036.080250   \n",
       "2                        1987    222.225258   \n",
       "3                       92194  10902.406570   \n",
       "4                      173400  25702.835480   \n",
       "\n",
       "   NetAreaIrrigatedUnderDifferentSources_TubeWells_NetIrrigatedArea_182  \n",
       "0                                         175.723235                     \n",
       "1                                        3197.193185                     \n",
       "2                                         709.859804                     \n",
       "3                                       28105.507250                     \n",
       "4                                       20213.730880                     "
      ]
     },
     "execution_count": 31,
     "metadata": {},
     "output_type": "execute_result"
    }
   ],
   "source": [
    "Case_file = pd.read_csv('Params/5_Param_Maize_Multicollinearity.csv')\n",
    "y = Working_Directory['Maize_Production']\n",
    "Case_file[:5]"
   ]
  },
  {
   "cell_type": "code",
   "execution_count": 32,
   "metadata": {},
   "outputs": [
    {
     "data": {
      "text/html": [
       "<div>\n",
       "<style scoped>\n",
       "    .dataframe tbody tr th:only-of-type {\n",
       "        vertical-align: middle;\n",
       "    }\n",
       "\n",
       "    .dataframe tbody tr th {\n",
       "        vertical-align: top;\n",
       "    }\n",
       "\n",
       "    .dataframe thead th {\n",
       "        text-align: right;\n",
       "    }\n",
       "</style>\n",
       "<table border=\"1\" class=\"dataframe\">\n",
       "  <thead>\n",
       "    <tr style=\"text-align: right;\">\n",
       "      <th></th>\n",
       "      <th>SowingSeedsDistributed_Maize_320</th>\n",
       "      <th>LivestockCensus_2012_Cattle_354</th>\n",
       "      <th>AreaUnderCereals_Maize_193</th>\n",
       "      <th>TotalNPK_315</th>\n",
       "      <th>NetAreaIrrigatedUnderDifferentSources_TubeWells_NetIrrigatedArea_182</th>\n",
       "    </tr>\n",
       "  </thead>\n",
       "  <tbody>\n",
       "    <tr>\n",
       "      <th>24</th>\n",
       "      <td>2859.005</td>\n",
       "      <td>23446.847905</td>\n",
       "      <td>49869.5</td>\n",
       "      <td>8404.154610</td>\n",
       "      <td>5124.306675</td>\n",
       "    </tr>\n",
       "    <tr>\n",
       "      <th>25</th>\n",
       "      <td>24.550</td>\n",
       "      <td>2371.831678</td>\n",
       "      <td>1382.0</td>\n",
       "      <td>249.381182</td>\n",
       "      <td>201.341576</td>\n",
       "    </tr>\n",
       "    <tr>\n",
       "      <th>26</th>\n",
       "      <td>165.000</td>\n",
       "      <td>6221.617910</td>\n",
       "      <td>2634.0</td>\n",
       "      <td>710.101614</td>\n",
       "      <td>641.759644</td>\n",
       "    </tr>\n",
       "    <tr>\n",
       "      <th>27</th>\n",
       "      <td>0.000</td>\n",
       "      <td>1253.317144</td>\n",
       "      <td>961.0</td>\n",
       "      <td>368.617469</td>\n",
       "      <td>88.878158</td>\n",
       "    </tr>\n",
       "    <tr>\n",
       "      <th>28</th>\n",
       "      <td>14.350</td>\n",
       "      <td>188.537479</td>\n",
       "      <td>2600.0</td>\n",
       "      <td>61.547519</td>\n",
       "      <td>13.949581</td>\n",
       "    </tr>\n",
       "    <tr>\n",
       "      <th>29</th>\n",
       "      <td>5292.000</td>\n",
       "      <td>38936.400170</td>\n",
       "      <td>48210.0</td>\n",
       "      <td>10997.550400</td>\n",
       "      <td>12343.237180</td>\n",
       "    </tr>\n",
       "    <tr>\n",
       "      <th>30</th>\n",
       "      <td>2859.005</td>\n",
       "      <td>23446.847905</td>\n",
       "      <td>49869.5</td>\n",
       "      <td>8404.154610</td>\n",
       "      <td>5124.306675</td>\n",
       "    </tr>\n",
       "  </tbody>\n",
       "</table>\n",
       "</div>"
      ],
      "text/plain": [
       "    SowingSeedsDistributed_Maize_320  LivestockCensus_2012_Cattle_354  \\\n",
       "24                          2859.005                     23446.847905   \n",
       "25                            24.550                      2371.831678   \n",
       "26                           165.000                      6221.617910   \n",
       "27                             0.000                      1253.317144   \n",
       "28                            14.350                       188.537479   \n",
       "29                          5292.000                     38936.400170   \n",
       "30                          2859.005                     23446.847905   \n",
       "\n",
       "    AreaUnderCereals_Maize_193  TotalNPK_315  \\\n",
       "24                     49869.5   8404.154610   \n",
       "25                      1382.0    249.381182   \n",
       "26                      2634.0    710.101614   \n",
       "27                       961.0    368.617469   \n",
       "28                      2600.0     61.547519   \n",
       "29                     48210.0  10997.550400   \n",
       "30                     49869.5   8404.154610   \n",
       "\n",
       "    NetAreaIrrigatedUnderDifferentSources_TubeWells_NetIrrigatedArea_182  \n",
       "24                                        5124.306675                     \n",
       "25                                         201.341576                     \n",
       "26                                         641.759644                     \n",
       "27                                          88.878158                     \n",
       "28                                          13.949581                     \n",
       "29                                       12343.237180                     \n",
       "30                                        5124.306675                     "
      ]
     },
     "execution_count": 32,
     "metadata": {},
     "output_type": "execute_result"
    }
   ],
   "source": [
    "if(len(Case_file) < 31):\n",
    "    row_24 = Case_file.iloc[24]\n",
    "    halved_row_24 = row_24 / 2\n",
    "    Case_file.iloc[24] = halved_row_24\n",
    "    Case_file.loc[len(Case_file)] = halved_row_24\n",
    "\n",
    "Case_file[24:]"
   ]
  },
  {
   "cell_type": "code",
   "execution_count": 34,
   "metadata": {},
   "outputs": [
    {
     "data": {
      "text/plain": [
       "28"
      ]
     },
     "execution_count": 34,
     "metadata": {},
     "output_type": "execute_result"
    }
   ],
   "source": [
    "# Ensure that the index of y and Case_file are aligned\n",
    "y = y.loc[Case_file.index]\n",
    "\n",
    "# Identify rows in Case_file that have any zeros\n",
    "rows_to_remove = (Case_file == 0).any(axis=1)\n",
    "\n",
    "# Apply the mask to both DataFrames\n",
    "Case_file = Case_file[~rows_to_remove].reset_index(drop=True)\n",
    "y = y[~rows_to_remove].reset_index(drop=True)\n",
    "\n",
    "# Correct way to get the length of Case_file\n",
    "case_file_length = len(Case_file)\n",
    "case_file_length"
   ]
  },
  {
   "cell_type": "code",
   "execution_count": 35,
   "metadata": {},
   "outputs": [
    {
     "data": {
      "text/html": [
       "<div>\n",
       "<style scoped>\n",
       "    .dataframe tbody tr th:only-of-type {\n",
       "        vertical-align: middle;\n",
       "    }\n",
       "\n",
       "    .dataframe tbody tr th {\n",
       "        vertical-align: top;\n",
       "    }\n",
       "\n",
       "    .dataframe thead th {\n",
       "        text-align: right;\n",
       "    }\n",
       "</style>\n",
       "<table border=\"1\" class=\"dataframe\">\n",
       "  <thead>\n",
       "    <tr style=\"text-align: right;\">\n",
       "      <th></th>\n",
       "      <th>const</th>\n",
       "      <th>SowingSeedsDistributed_Maize_320</th>\n",
       "      <th>LivestockCensus_2012_Cattle_354</th>\n",
       "      <th>AreaUnderCereals_Maize_193</th>\n",
       "      <th>TotalNPK_315</th>\n",
       "      <th>NetAreaIrrigatedUnderDifferentSources_TubeWells_NetIrrigatedArea_182</th>\n",
       "    </tr>\n",
       "  </thead>\n",
       "  <tbody>\n",
       "    <tr>\n",
       "      <th>0</th>\n",
       "      <td>1.0</td>\n",
       "      <td>4.45</td>\n",
       "      <td>2567.461578</td>\n",
       "      <td>1129.0</td>\n",
       "      <td>438.180210</td>\n",
       "      <td>175.723235</td>\n",
       "    </tr>\n",
       "    <tr>\n",
       "      <th>1</th>\n",
       "      <td>1.0</td>\n",
       "      <td>134.73</td>\n",
       "      <td>25037.139270</td>\n",
       "      <td>14867.0</td>\n",
       "      <td>3036.080250</td>\n",
       "      <td>3197.193185</td>\n",
       "    </tr>\n",
       "    <tr>\n",
       "      <th>2</th>\n",
       "      <td>1.0</td>\n",
       "      <td>260.15</td>\n",
       "      <td>7729.614277</td>\n",
       "      <td>1987.0</td>\n",
       "      <td>222.225258</td>\n",
       "      <td>709.859804</td>\n",
       "    </tr>\n",
       "    <tr>\n",
       "      <th>3</th>\n",
       "      <td>1.0</td>\n",
       "      <td>5004.00</td>\n",
       "      <td>83821.593090</td>\n",
       "      <td>92194.0</td>\n",
       "      <td>10902.406570</td>\n",
       "      <td>28105.507250</td>\n",
       "    </tr>\n",
       "    <tr>\n",
       "      <th>4</th>\n",
       "      <td>1.0</td>\n",
       "      <td>6124.60</td>\n",
       "      <td>85657.632090</td>\n",
       "      <td>173400.0</td>\n",
       "      <td>25702.835480</td>\n",
       "      <td>20213.730880</td>\n",
       "    </tr>\n",
       "  </tbody>\n",
       "</table>\n",
       "</div>"
      ],
      "text/plain": [
       "   const  SowingSeedsDistributed_Maize_320  LivestockCensus_2012_Cattle_354  \\\n",
       "0    1.0                              4.45                      2567.461578   \n",
       "1    1.0                            134.73                     25037.139270   \n",
       "2    1.0                            260.15                      7729.614277   \n",
       "3    1.0                           5004.00                     83821.593090   \n",
       "4    1.0                           6124.60                     85657.632090   \n",
       "\n",
       "   AreaUnderCereals_Maize_193  TotalNPK_315  \\\n",
       "0                      1129.0    438.180210   \n",
       "1                     14867.0   3036.080250   \n",
       "2                      1987.0    222.225258   \n",
       "3                     92194.0  10902.406570   \n",
       "4                    173400.0  25702.835480   \n",
       "\n",
       "   NetAreaIrrigatedUnderDifferentSources_TubeWells_NetIrrigatedArea_182  \n",
       "0                                         175.723235                     \n",
       "1                                        3197.193185                     \n",
       "2                                         709.859804                     \n",
       "3                                       28105.507250                     \n",
       "4                                       20213.730880                     "
      ]
     },
     "execution_count": 35,
     "metadata": {},
     "output_type": "execute_result"
    }
   ],
   "source": [
    "Case_file =sm.add_constant(Case_file)\n",
    "Case_file.head()"
   ]
  },
  {
   "cell_type": "code",
   "execution_count": 36,
   "metadata": {},
   "outputs": [
    {
     "name": "stdout",
     "output_type": "stream",
     "text": [
      "                            OLS Regression Results                            \n",
      "==============================================================================\n",
      "Dep. Variable:       Maize_Production   R-squared:                       0.958\n",
      "Model:                            OLS   Adj. R-squared:                  0.948\n",
      "Method:                 Least Squares   F-statistic:                     100.3\n",
      "Date:                Mon, 16 Sep 2024   Prob (F-statistic):           2.18e-14\n",
      "Time:                        19:56:25   Log-Likelihood:                -331.18\n",
      "No. Observations:                  28   AIC:                             674.4\n",
      "Df Residuals:                      22   BIC:                             682.4\n",
      "Df Model:                           5                                         \n",
      "Covariance Type:            nonrobust                                         \n",
      "========================================================================================================================================\n",
      "                                                                           coef    std err          t      P>|t|      [0.025      0.975]\n",
      "----------------------------------------------------------------------------------------------------------------------------------------\n",
      "const                                                                -8388.2944   1.08e+04     -0.778      0.445   -3.07e+04     1.4e+04\n",
      "SowingSeedsDistributed_Maize_320                                       -10.2648      6.418     -1.599      0.124     -23.575       3.046\n",
      "LivestockCensus_2012_Cattle_354                                          0.8168      0.335      2.441      0.023       0.123       1.511\n",
      "AreaUnderCereals_Maize_193                                               2.0183      0.313      6.449      0.000       1.369       2.667\n",
      "TotalNPK_315                                                             6.5873      1.818      3.624      0.002       2.817      10.357\n",
      "NetAreaIrrigatedUnderDifferentSources_TubeWells_NetIrrigatedArea_182     0.4783      1.213      0.394      0.697      -2.036       2.993\n",
      "==============================================================================\n",
      "Omnibus:                        1.273   Durbin-Watson:                   2.666\n",
      "Prob(Omnibus):                  0.529   Jarque-Bera (JB):                0.336\n",
      "Skew:                          -0.116   Prob(JB):                        0.845\n",
      "Kurtosis:                       3.484   Cond. No.                     1.36e+05\n",
      "==============================================================================\n",
      "\n",
      "Notes:\n",
      "[1] Standard Errors assume that the covariance matrix of the errors is correctly specified.\n",
      "[2] The condition number is large, 1.36e+05. This might indicate that there are\n",
      "strong multicollinearity or other numerical problems.\n"
     ]
    },
    {
     "data": {
      "text/plain": [
       "array([-10.26475263,   0.81677644,   2.0182737 ,   6.5872575 ,\n",
       "         0.47825543])"
      ]
     },
     "execution_count": 36,
     "metadata": {},
     "output_type": "execute_result"
    }
   ],
   "source": [
    "model=sm.OLS(y,Case_file).fit()\n",
    "print(model.summary())\n",
    "model.params.values\n",
    "coef=model.params.values[1:]\n",
    "coef"
   ]
  },
  {
   "cell_type": "code",
   "execution_count": 37,
   "metadata": {},
   "outputs": [
    {
     "data": {
      "text/html": [
       "<div>\n",
       "<style scoped>\n",
       "    .dataframe tbody tr th:only-of-type {\n",
       "        vertical-align: middle;\n",
       "    }\n",
       "\n",
       "    .dataframe tbody tr th {\n",
       "        vertical-align: top;\n",
       "    }\n",
       "\n",
       "    .dataframe thead th {\n",
       "        text-align: right;\n",
       "    }\n",
       "</style>\n",
       "<table border=\"1\" class=\"dataframe\">\n",
       "  <thead>\n",
       "    <tr style=\"text-align: right;\">\n",
       "      <th></th>\n",
       "      <th>SowingSeedsDistributed_Maize_320</th>\n",
       "      <th>LivestockCensus_2012_Cattle_354</th>\n",
       "      <th>AreaUnderCereals_Maize_193</th>\n",
       "      <th>TotalNPK_315</th>\n",
       "      <th>NetAreaIrrigatedUnderDifferentSources_TubeWells_NetIrrigatedArea_182</th>\n",
       "    </tr>\n",
       "  </thead>\n",
       "  <tbody>\n",
       "    <tr>\n",
       "      <th>0</th>\n",
       "      <td>4.45</td>\n",
       "      <td>2567.461578</td>\n",
       "      <td>1129.0</td>\n",
       "      <td>438.180210</td>\n",
       "      <td>175.723235</td>\n",
       "    </tr>\n",
       "    <tr>\n",
       "      <th>1</th>\n",
       "      <td>134.73</td>\n",
       "      <td>25037.139270</td>\n",
       "      <td>14867.0</td>\n",
       "      <td>3036.080250</td>\n",
       "      <td>3197.193185</td>\n",
       "    </tr>\n",
       "    <tr>\n",
       "      <th>2</th>\n",
       "      <td>260.15</td>\n",
       "      <td>7729.614277</td>\n",
       "      <td>1987.0</td>\n",
       "      <td>222.225258</td>\n",
       "      <td>709.859804</td>\n",
       "    </tr>\n",
       "    <tr>\n",
       "      <th>3</th>\n",
       "      <td>5004.00</td>\n",
       "      <td>83821.593090</td>\n",
       "      <td>92194.0</td>\n",
       "      <td>10902.406570</td>\n",
       "      <td>28105.507250</td>\n",
       "    </tr>\n",
       "    <tr>\n",
       "      <th>4</th>\n",
       "      <td>6124.60</td>\n",
       "      <td>85657.632090</td>\n",
       "      <td>173400.0</td>\n",
       "      <td>25702.835480</td>\n",
       "      <td>20213.730880</td>\n",
       "    </tr>\n",
       "  </tbody>\n",
       "</table>\n",
       "</div>"
      ],
      "text/plain": [
       "   SowingSeedsDistributed_Maize_320  LivestockCensus_2012_Cattle_354  \\\n",
       "0                              4.45                      2567.461578   \n",
       "1                            134.73                     25037.139270   \n",
       "2                            260.15                      7729.614277   \n",
       "3                           5004.00                     83821.593090   \n",
       "4                           6124.60                     85657.632090   \n",
       "\n",
       "   AreaUnderCereals_Maize_193  TotalNPK_315  \\\n",
       "0                      1129.0    438.180210   \n",
       "1                     14867.0   3036.080250   \n",
       "2                      1987.0    222.225258   \n",
       "3                     92194.0  10902.406570   \n",
       "4                    173400.0  25702.835480   \n",
       "\n",
       "   NetAreaIrrigatedUnderDifferentSources_TubeWells_NetIrrigatedArea_182  \n",
       "0                                         175.723235                     \n",
       "1                                        3197.193185                     \n",
       "2                                         709.859804                     \n",
       "3                                       28105.507250                     \n",
       "4                                       20213.730880                     "
      ]
     },
     "execution_count": 37,
     "metadata": {},
     "output_type": "execute_result"
    }
   ],
   "source": [
    "Case_file.drop('const',axis=1,inplace=True)\n",
    "Case_file[:5]"
   ]
  },
  {
   "cell_type": "code",
   "execution_count": 38,
   "metadata": {},
   "outputs": [
    {
     "data": {
      "text/plain": [
       "<itertools.product at 0x1f8a111dd40>"
      ]
     },
     "execution_count": 38,
     "metadata": {},
     "output_type": "execute_result"
    }
   ],
   "source": [
    "Case_file.loc[:,'Beta_0'] = model.params.values[0]\n",
    "Case_file.loc[:,'Beta_1'] = coef[0]\n",
    "Case_file.loc[:,'Beta_2'] = coef[1]\n",
    "Case_file.loc[:,'Beta_3'] = coef[2]\n",
    "Case_file.loc[:,'Beta_4'] = coef[3]\n",
    "Case_file.loc[:,'Beta_5'] = coef[4]\n",
    "\n",
    "intervals = np.arange(0, 1.1, 0.1)\n",
    "columns=['Sensitivity_SowingSeedsDistributed_Maize_320', 'Sensitivity_LivestockCensus_2012_Cattle_354' , 'Sensitivity_AreaUnderCereals_Maize_193', 'Sensitivity_TotalNPK_315','Sensitivity_NetAreaIrrigatedUnderDifferentSources_TubeWells_NetIrrigatedArea_182']\n",
    "# Generate all possible combinations of elements in arr\n",
    "combinations = product(intervals, repeat=len(columns))\n",
    "combinations"
   ]
  },
  {
   "cell_type": "code",
   "execution_count": 39,
   "metadata": {},
   "outputs": [
    {
     "data": {
      "text/html": [
       "<div>\n",
       "<style scoped>\n",
       "    .dataframe tbody tr th:only-of-type {\n",
       "        vertical-align: middle;\n",
       "    }\n",
       "\n",
       "    .dataframe tbody tr th {\n",
       "        vertical-align: top;\n",
       "    }\n",
       "\n",
       "    .dataframe thead th {\n",
       "        text-align: right;\n",
       "    }\n",
       "</style>\n",
       "<table border=\"1\" class=\"dataframe\">\n",
       "  <thead>\n",
       "    <tr style=\"text-align: right;\">\n",
       "      <th></th>\n",
       "      <th>Sensitivity_SowingSeedsDistributed_Maize_320</th>\n",
       "      <th>Sensitivity_LivestockCensus_2012_Cattle_354</th>\n",
       "      <th>Sensitivity_AreaUnderCereals_Maize_193</th>\n",
       "      <th>Sensitivity_TotalNPK_315</th>\n",
       "      <th>Sensitivity_NetAreaIrrigatedUnderDifferentSources_TubeWells_NetIrrigatedArea_182</th>\n",
       "    </tr>\n",
       "  </thead>\n",
       "  <tbody>\n",
       "    <tr>\n",
       "      <th>0</th>\n",
       "      <td>0.0</td>\n",
       "      <td>0.0</td>\n",
       "      <td>0.0</td>\n",
       "      <td>0.0</td>\n",
       "      <td>0.0</td>\n",
       "    </tr>\n",
       "    <tr>\n",
       "      <th>1</th>\n",
       "      <td>0.0</td>\n",
       "      <td>0.0</td>\n",
       "      <td>0.0</td>\n",
       "      <td>0.0</td>\n",
       "      <td>0.1</td>\n",
       "    </tr>\n",
       "    <tr>\n",
       "      <th>2</th>\n",
       "      <td>0.0</td>\n",
       "      <td>0.0</td>\n",
       "      <td>0.0</td>\n",
       "      <td>0.0</td>\n",
       "      <td>0.2</td>\n",
       "    </tr>\n",
       "    <tr>\n",
       "      <th>3</th>\n",
       "      <td>0.0</td>\n",
       "      <td>0.0</td>\n",
       "      <td>0.0</td>\n",
       "      <td>0.0</td>\n",
       "      <td>0.3</td>\n",
       "    </tr>\n",
       "    <tr>\n",
       "      <th>4</th>\n",
       "      <td>0.0</td>\n",
       "      <td>0.0</td>\n",
       "      <td>0.0</td>\n",
       "      <td>0.0</td>\n",
       "      <td>0.4</td>\n",
       "    </tr>\n",
       "    <tr>\n",
       "      <th>...</th>\n",
       "      <td>...</td>\n",
       "      <td>...</td>\n",
       "      <td>...</td>\n",
       "      <td>...</td>\n",
       "      <td>...</td>\n",
       "    </tr>\n",
       "    <tr>\n",
       "      <th>161046</th>\n",
       "      <td>1.0</td>\n",
       "      <td>1.0</td>\n",
       "      <td>1.0</td>\n",
       "      <td>1.0</td>\n",
       "      <td>0.6</td>\n",
       "    </tr>\n",
       "    <tr>\n",
       "      <th>161047</th>\n",
       "      <td>1.0</td>\n",
       "      <td>1.0</td>\n",
       "      <td>1.0</td>\n",
       "      <td>1.0</td>\n",
       "      <td>0.7</td>\n",
       "    </tr>\n",
       "    <tr>\n",
       "      <th>161048</th>\n",
       "      <td>1.0</td>\n",
       "      <td>1.0</td>\n",
       "      <td>1.0</td>\n",
       "      <td>1.0</td>\n",
       "      <td>0.8</td>\n",
       "    </tr>\n",
       "    <tr>\n",
       "      <th>161049</th>\n",
       "      <td>1.0</td>\n",
       "      <td>1.0</td>\n",
       "      <td>1.0</td>\n",
       "      <td>1.0</td>\n",
       "      <td>0.9</td>\n",
       "    </tr>\n",
       "    <tr>\n",
       "      <th>161050</th>\n",
       "      <td>1.0</td>\n",
       "      <td>1.0</td>\n",
       "      <td>1.0</td>\n",
       "      <td>1.0</td>\n",
       "      <td>1.0</td>\n",
       "    </tr>\n",
       "  </tbody>\n",
       "</table>\n",
       "<p>161051 rows × 5 columns</p>\n",
       "</div>"
      ],
      "text/plain": [
       "        Sensitivity_SowingSeedsDistributed_Maize_320  \\\n",
       "0                                                0.0   \n",
       "1                                                0.0   \n",
       "2                                                0.0   \n",
       "3                                                0.0   \n",
       "4                                                0.0   \n",
       "...                                              ...   \n",
       "161046                                           1.0   \n",
       "161047                                           1.0   \n",
       "161048                                           1.0   \n",
       "161049                                           1.0   \n",
       "161050                                           1.0   \n",
       "\n",
       "        Sensitivity_LivestockCensus_2012_Cattle_354  \\\n",
       "0                                               0.0   \n",
       "1                                               0.0   \n",
       "2                                               0.0   \n",
       "3                                               0.0   \n",
       "4                                               0.0   \n",
       "...                                             ...   \n",
       "161046                                          1.0   \n",
       "161047                                          1.0   \n",
       "161048                                          1.0   \n",
       "161049                                          1.0   \n",
       "161050                                          1.0   \n",
       "\n",
       "        Sensitivity_AreaUnderCereals_Maize_193  Sensitivity_TotalNPK_315  \\\n",
       "0                                          0.0                       0.0   \n",
       "1                                          0.0                       0.0   \n",
       "2                                          0.0                       0.0   \n",
       "3                                          0.0                       0.0   \n",
       "4                                          0.0                       0.0   \n",
       "...                                        ...                       ...   \n",
       "161046                                     1.0                       1.0   \n",
       "161047                                     1.0                       1.0   \n",
       "161048                                     1.0                       1.0   \n",
       "161049                                     1.0                       1.0   \n",
       "161050                                     1.0                       1.0   \n",
       "\n",
       "        Sensitivity_NetAreaIrrigatedUnderDifferentSources_TubeWells_NetIrrigatedArea_182  \n",
       "0                                                     0.0                                 \n",
       "1                                                     0.1                                 \n",
       "2                                                     0.2                                 \n",
       "3                                                     0.3                                 \n",
       "4                                                     0.4                                 \n",
       "...                                                   ...                                 \n",
       "161046                                                0.6                                 \n",
       "161047                                                0.7                                 \n",
       "161048                                                0.8                                 \n",
       "161049                                                0.9                                 \n",
       "161050                                                1.0                                 \n",
       "\n",
       "[161051 rows x 5 columns]"
      ]
     },
     "execution_count": 39,
     "metadata": {},
     "output_type": "execute_result"
    }
   ],
   "source": [
    "alpha_df = pd.DataFrame(combinations, columns=columns)\n",
    "alpha_df"
   ]
  },
  {
   "cell_type": "code",
   "execution_count": 40,
   "metadata": {},
   "outputs": [
    {
     "name": "stdout",
     "output_type": "stream",
     "text": [
      "         Sensitivity_SowingSeedsDistributed_Maize_320  \\\n",
      "0                                                 0.0   \n",
      "1                                                 0.0   \n",
      "2                                                 0.0   \n",
      "3                                                 0.0   \n",
      "4                                                 0.0   \n",
      "...                                               ...   \n",
      "4509423                                           1.0   \n",
      "4509424                                           1.0   \n",
      "4509425                                           1.0   \n",
      "4509426                                           1.0   \n",
      "4509427                                           1.0   \n",
      "\n",
      "         Sensitivity_LivestockCensus_2012_Cattle_354  \\\n",
      "0                                                0.0   \n",
      "1                                                0.0   \n",
      "2                                                0.0   \n",
      "3                                                0.0   \n",
      "4                                                0.0   \n",
      "...                                              ...   \n",
      "4509423                                          1.0   \n",
      "4509424                                          1.0   \n",
      "4509425                                          1.0   \n",
      "4509426                                          1.0   \n",
      "4509427                                          1.0   \n",
      "\n",
      "         Sensitivity_AreaUnderCereals_Maize_193  Sensitivity_TotalNPK_315  \\\n",
      "0                                           0.0                       0.0   \n",
      "1                                           0.0                       0.0   \n",
      "2                                           0.0                       0.0   \n",
      "3                                           0.0                       0.0   \n",
      "4                                           0.0                       0.0   \n",
      "...                                         ...                       ...   \n",
      "4509423                                     1.0                       1.0   \n",
      "4509424                                     1.0                       1.0   \n",
      "4509425                                     1.0                       1.0   \n",
      "4509426                                     1.0                       1.0   \n",
      "4509427                                     1.0                       1.0   \n",
      "\n",
      "         Sensitivity_NetAreaIrrigatedUnderDifferentSources_TubeWells_NetIrrigatedArea_182  \\\n",
      "0                                                      0.0                                  \n",
      "1                                                      0.0                                  \n",
      "2                                                      0.0                                  \n",
      "3                                                      0.0                                  \n",
      "4                                                      0.0                                  \n",
      "...                                                    ...                                  \n",
      "4509423                                                1.0                                  \n",
      "4509424                                                1.0                                  \n",
      "4509425                                                1.0                                  \n",
      "4509426                                                1.0                                  \n",
      "4509427                                                1.0                                  \n",
      "\n",
      "         SowingSeedsDistributed_Maize_320  LivestockCensus_2012_Cattle_354  \\\n",
      "0                                   4.450                      2567.461578   \n",
      "1                                 134.730                     25037.139270   \n",
      "2                                 260.150                      7729.614277   \n",
      "3                                5004.000                     83821.593090   \n",
      "4                                6124.600                     85657.632090   \n",
      "...                                   ...                              ...   \n",
      "4509423                            24.550                      2371.831678   \n",
      "4509424                           165.000                      6221.617910   \n",
      "4509425                            14.350                       188.537479   \n",
      "4509426                          5292.000                     38936.400170   \n",
      "4509427                          2859.005                     23446.847905   \n",
      "\n",
      "         AreaUnderCereals_Maize_193  TotalNPK_315  \\\n",
      "0                            1129.0    438.180210   \n",
      "1                           14867.0   3036.080250   \n",
      "2                            1987.0    222.225258   \n",
      "3                           92194.0  10902.406570   \n",
      "4                          173400.0  25702.835480   \n",
      "...                             ...           ...   \n",
      "4509423                      1382.0    249.381182   \n",
      "4509424                      2634.0    710.101614   \n",
      "4509425                      2600.0     61.547519   \n",
      "4509426                     48210.0  10997.550400   \n",
      "4509427                     49869.5   8404.154610   \n",
      "\n",
      "         NetAreaIrrigatedUnderDifferentSources_TubeWells_NetIrrigatedArea_182  \\\n",
      "0                                               175.723235                      \n",
      "1                                              3197.193185                      \n",
      "2                                               709.859804                      \n",
      "3                                             28105.507250                      \n",
      "4                                             20213.730880                      \n",
      "...                                                    ...                      \n",
      "4509423                                         201.341576                      \n",
      "4509424                                         641.759644                      \n",
      "4509425                                          13.949581                      \n",
      "4509426                                       12343.237180                      \n",
      "4509427                                        5124.306675                      \n",
      "\n",
      "              Beta_0     Beta_1    Beta_2    Beta_3    Beta_4    Beta_5  \n",
      "0       -8388.294407 -10.264753  0.816776  2.018274  6.587258  0.478255  \n",
      "1       -8388.294407 -10.264753  0.816776  2.018274  6.587258  0.478255  \n",
      "2       -8388.294407 -10.264753  0.816776  2.018274  6.587258  0.478255  \n",
      "3       -8388.294407 -10.264753  0.816776  2.018274  6.587258  0.478255  \n",
      "4       -8388.294407 -10.264753  0.816776  2.018274  6.587258  0.478255  \n",
      "...              ...        ...       ...       ...       ...       ...  \n",
      "4509423 -8388.294407 -10.264753  0.816776  2.018274  6.587258  0.478255  \n",
      "4509424 -8388.294407 -10.264753  0.816776  2.018274  6.587258  0.478255  \n",
      "4509425 -8388.294407 -10.264753  0.816776  2.018274  6.587258  0.478255  \n",
      "4509426 -8388.294407 -10.264753  0.816776  2.018274  6.587258  0.478255  \n",
      "4509427 -8388.294407 -10.264753  0.816776  2.018274  6.587258  0.478255  \n",
      "\n",
      "[4509428 rows x 16 columns]\n"
     ]
    }
   ],
   "source": [
    "Case_file['key'] = 1\n",
    "alpha_df['key'] = 1\n",
    "\n",
    "# Performing the Cartesian product\n",
    "result_df = pd.merge( alpha_df, Case_file, on='key').drop('key', axis=1)\n",
    "\n",
    "print(result_df)"
   ]
  },
  {
   "cell_type": "code",
   "execution_count": 41,
   "metadata": {},
   "outputs": [
    {
     "data": {
      "text/html": [
       "<div>\n",
       "<style scoped>\n",
       "    .dataframe tbody tr th:only-of-type {\n",
       "        vertical-align: middle;\n",
       "    }\n",
       "\n",
       "    .dataframe tbody tr th {\n",
       "        vertical-align: top;\n",
       "    }\n",
       "\n",
       "    .dataframe thead th {\n",
       "        text-align: right;\n",
       "    }\n",
       "</style>\n",
       "<table border=\"1\" class=\"dataframe\">\n",
       "  <thead>\n",
       "    <tr style=\"text-align: right;\">\n",
       "      <th></th>\n",
       "      <th>Sensitivity_SowingSeedsDistributed_Maize_320</th>\n",
       "      <th>Sensitivity_LivestockCensus_2012_Cattle_354</th>\n",
       "      <th>Sensitivity_AreaUnderCereals_Maize_193</th>\n",
       "      <th>Sensitivity_TotalNPK_315</th>\n",
       "      <th>Sensitivity_NetAreaIrrigatedUnderDifferentSources_TubeWells_NetIrrigatedArea_182</th>\n",
       "      <th>SowingSeedsDistributed_Maize_320</th>\n",
       "      <th>LivestockCensus_2012_Cattle_354</th>\n",
       "      <th>AreaUnderCereals_Maize_193</th>\n",
       "      <th>TotalNPK_315</th>\n",
       "      <th>NetAreaIrrigatedUnderDifferentSources_TubeWells_NetIrrigatedArea_182</th>\n",
       "      <th>Beta_0</th>\n",
       "      <th>Beta_1</th>\n",
       "      <th>Beta_2</th>\n",
       "      <th>Beta_3</th>\n",
       "      <th>Beta_4</th>\n",
       "      <th>Beta_5</th>\n",
       "    </tr>\n",
       "  </thead>\n",
       "  <tbody>\n",
       "    <tr>\n",
       "      <th>0</th>\n",
       "      <td>0.0</td>\n",
       "      <td>0.0</td>\n",
       "      <td>0.0</td>\n",
       "      <td>0.0</td>\n",
       "      <td>0.0</td>\n",
       "      <td>4.45</td>\n",
       "      <td>2567.461578</td>\n",
       "      <td>1129.0</td>\n",
       "      <td>438.180210</td>\n",
       "      <td>175.723235</td>\n",
       "      <td>-8388.294407</td>\n",
       "      <td>-10.264753</td>\n",
       "      <td>0.816776</td>\n",
       "      <td>2.018274</td>\n",
       "      <td>6.587258</td>\n",
       "      <td>0.478255</td>\n",
       "    </tr>\n",
       "    <tr>\n",
       "      <th>1</th>\n",
       "      <td>0.0</td>\n",
       "      <td>0.0</td>\n",
       "      <td>0.0</td>\n",
       "      <td>0.0</td>\n",
       "      <td>0.0</td>\n",
       "      <td>134.73</td>\n",
       "      <td>25037.139270</td>\n",
       "      <td>14867.0</td>\n",
       "      <td>3036.080250</td>\n",
       "      <td>3197.193185</td>\n",
       "      <td>-8388.294407</td>\n",
       "      <td>-10.264753</td>\n",
       "      <td>0.816776</td>\n",
       "      <td>2.018274</td>\n",
       "      <td>6.587258</td>\n",
       "      <td>0.478255</td>\n",
       "    </tr>\n",
       "    <tr>\n",
       "      <th>2</th>\n",
       "      <td>0.0</td>\n",
       "      <td>0.0</td>\n",
       "      <td>0.0</td>\n",
       "      <td>0.0</td>\n",
       "      <td>0.0</td>\n",
       "      <td>260.15</td>\n",
       "      <td>7729.614277</td>\n",
       "      <td>1987.0</td>\n",
       "      <td>222.225258</td>\n",
       "      <td>709.859804</td>\n",
       "      <td>-8388.294407</td>\n",
       "      <td>-10.264753</td>\n",
       "      <td>0.816776</td>\n",
       "      <td>2.018274</td>\n",
       "      <td>6.587258</td>\n",
       "      <td>0.478255</td>\n",
       "    </tr>\n",
       "    <tr>\n",
       "      <th>3</th>\n",
       "      <td>0.0</td>\n",
       "      <td>0.0</td>\n",
       "      <td>0.0</td>\n",
       "      <td>0.0</td>\n",
       "      <td>0.0</td>\n",
       "      <td>5004.00</td>\n",
       "      <td>83821.593090</td>\n",
       "      <td>92194.0</td>\n",
       "      <td>10902.406570</td>\n",
       "      <td>28105.507250</td>\n",
       "      <td>-8388.294407</td>\n",
       "      <td>-10.264753</td>\n",
       "      <td>0.816776</td>\n",
       "      <td>2.018274</td>\n",
       "      <td>6.587258</td>\n",
       "      <td>0.478255</td>\n",
       "    </tr>\n",
       "    <tr>\n",
       "      <th>4</th>\n",
       "      <td>0.0</td>\n",
       "      <td>0.0</td>\n",
       "      <td>0.0</td>\n",
       "      <td>0.0</td>\n",
       "      <td>0.0</td>\n",
       "      <td>6124.60</td>\n",
       "      <td>85657.632090</td>\n",
       "      <td>173400.0</td>\n",
       "      <td>25702.835480</td>\n",
       "      <td>20213.730880</td>\n",
       "      <td>-8388.294407</td>\n",
       "      <td>-10.264753</td>\n",
       "      <td>0.816776</td>\n",
       "      <td>2.018274</td>\n",
       "      <td>6.587258</td>\n",
       "      <td>0.478255</td>\n",
       "    </tr>\n",
       "  </tbody>\n",
       "</table>\n",
       "</div>"
      ],
      "text/plain": [
       "   Sensitivity_SowingSeedsDistributed_Maize_320  \\\n",
       "0                                           0.0   \n",
       "1                                           0.0   \n",
       "2                                           0.0   \n",
       "3                                           0.0   \n",
       "4                                           0.0   \n",
       "\n",
       "   Sensitivity_LivestockCensus_2012_Cattle_354  \\\n",
       "0                                          0.0   \n",
       "1                                          0.0   \n",
       "2                                          0.0   \n",
       "3                                          0.0   \n",
       "4                                          0.0   \n",
       "\n",
       "   Sensitivity_AreaUnderCereals_Maize_193  Sensitivity_TotalNPK_315  \\\n",
       "0                                     0.0                       0.0   \n",
       "1                                     0.0                       0.0   \n",
       "2                                     0.0                       0.0   \n",
       "3                                     0.0                       0.0   \n",
       "4                                     0.0                       0.0   \n",
       "\n",
       "   Sensitivity_NetAreaIrrigatedUnderDifferentSources_TubeWells_NetIrrigatedArea_182  \\\n",
       "0                                                0.0                                  \n",
       "1                                                0.0                                  \n",
       "2                                                0.0                                  \n",
       "3                                                0.0                                  \n",
       "4                                                0.0                                  \n",
       "\n",
       "   SowingSeedsDistributed_Maize_320  LivestockCensus_2012_Cattle_354  \\\n",
       "0                              4.45                      2567.461578   \n",
       "1                            134.73                     25037.139270   \n",
       "2                            260.15                      7729.614277   \n",
       "3                           5004.00                     83821.593090   \n",
       "4                           6124.60                     85657.632090   \n",
       "\n",
       "   AreaUnderCereals_Maize_193  TotalNPK_315  \\\n",
       "0                      1129.0    438.180210   \n",
       "1                     14867.0   3036.080250   \n",
       "2                      1987.0    222.225258   \n",
       "3                     92194.0  10902.406570   \n",
       "4                    173400.0  25702.835480   \n",
       "\n",
       "   NetAreaIrrigatedUnderDifferentSources_TubeWells_NetIrrigatedArea_182  \\\n",
       "0                                         175.723235                      \n",
       "1                                        3197.193185                      \n",
       "2                                         709.859804                      \n",
       "3                                       28105.507250                      \n",
       "4                                       20213.730880                      \n",
       "\n",
       "        Beta_0     Beta_1    Beta_2    Beta_3    Beta_4    Beta_5  \n",
       "0 -8388.294407 -10.264753  0.816776  2.018274  6.587258  0.478255  \n",
       "1 -8388.294407 -10.264753  0.816776  2.018274  6.587258  0.478255  \n",
       "2 -8388.294407 -10.264753  0.816776  2.018274  6.587258  0.478255  \n",
       "3 -8388.294407 -10.264753  0.816776  2.018274  6.587258  0.478255  \n",
       "4 -8388.294407 -10.264753  0.816776  2.018274  6.587258  0.478255  "
      ]
     },
     "execution_count": 41,
     "metadata": {},
     "output_type": "execute_result"
    }
   ],
   "source": [
    "result_df.head()"
   ]
  },
  {
   "cell_type": "code",
   "execution_count": 42,
   "metadata": {},
   "outputs": [
    {
     "data": {
      "text/plain": [
       "134853.12903225806"
      ]
     },
     "execution_count": 42,
     "metadata": {},
     "output_type": "execute_result"
    }
   ],
   "source": [
    "Working_Directory['Maize_Production'].mean()"
   ]
  },
  {
   "cell_type": "code",
   "execution_count": 48,
   "metadata": {},
   "outputs": [
    {
     "data": {
      "text/html": [
       "<div>\n",
       "<style scoped>\n",
       "    .dataframe tbody tr th:only-of-type {\n",
       "        vertical-align: middle;\n",
       "    }\n",
       "\n",
       "    .dataframe tbody tr th {\n",
       "        vertical-align: top;\n",
       "    }\n",
       "\n",
       "    .dataframe thead th {\n",
       "        text-align: right;\n",
       "    }\n",
       "</style>\n",
       "<table border=\"1\" class=\"dataframe\">\n",
       "  <thead>\n",
       "    <tr style=\"text-align: right;\">\n",
       "      <th></th>\n",
       "      <th>Sensitivity_SowingSeedsDistributed_Maize_320</th>\n",
       "      <th>Sensitivity_LivestockCensus_2012_Cattle_354</th>\n",
       "      <th>Sensitivity_AreaUnderCereals_Maize_193</th>\n",
       "      <th>Sensitivity_TotalNPK_315</th>\n",
       "      <th>Sensitivity_NetAreaIrrigatedUnderDifferentSources_TubeWells_NetIrrigatedArea_182</th>\n",
       "      <th>SowingSeedsDistributed_Maize_320</th>\n",
       "      <th>LivestockCensus_2012_Cattle_354</th>\n",
       "      <th>AreaUnderCereals_Maize_193</th>\n",
       "      <th>TotalNPK_315</th>\n",
       "      <th>NetAreaIrrigatedUnderDifferentSources_TubeWells_NetIrrigatedArea_182</th>\n",
       "      <th>...</th>\n",
       "      <th>Beta_2</th>\n",
       "      <th>Beta_3</th>\n",
       "      <th>Beta_4</th>\n",
       "      <th>Beta_5</th>\n",
       "      <th>New_F1</th>\n",
       "      <th>New_F2</th>\n",
       "      <th>New_F3</th>\n",
       "      <th>New_F4</th>\n",
       "      <th>New_F5</th>\n",
       "      <th>District</th>\n",
       "    </tr>\n",
       "  </thead>\n",
       "  <tbody>\n",
       "    <tr>\n",
       "      <th>0</th>\n",
       "      <td>0.0</td>\n",
       "      <td>0.0</td>\n",
       "      <td>0.0</td>\n",
       "      <td>0.0</td>\n",
       "      <td>0.0</td>\n",
       "      <td>4.450</td>\n",
       "      <td>2567.461578</td>\n",
       "      <td>1129.0</td>\n",
       "      <td>438.180210</td>\n",
       "      <td>175.723235</td>\n",
       "      <td>...</td>\n",
       "      <td>0.816776</td>\n",
       "      <td>2.018274</td>\n",
       "      <td>6.587258</td>\n",
       "      <td>0.478255</td>\n",
       "      <td>4.450000</td>\n",
       "      <td>2567.461578</td>\n",
       "      <td>1129.000000</td>\n",
       "      <td>438.180210</td>\n",
       "      <td>175.723235</td>\n",
       "      <td>BENGALURU</td>\n",
       "    </tr>\n",
       "    <tr>\n",
       "      <th>1</th>\n",
       "      <td>0.0</td>\n",
       "      <td>0.0</td>\n",
       "      <td>0.0</td>\n",
       "      <td>0.0</td>\n",
       "      <td>0.0</td>\n",
       "      <td>134.730</td>\n",
       "      <td>25037.139270</td>\n",
       "      <td>14867.0</td>\n",
       "      <td>3036.080250</td>\n",
       "      <td>3197.193185</td>\n",
       "      <td>...</td>\n",
       "      <td>0.816776</td>\n",
       "      <td>2.018274</td>\n",
       "      <td>6.587258</td>\n",
       "      <td>0.478255</td>\n",
       "      <td>134.730000</td>\n",
       "      <td>25037.139270</td>\n",
       "      <td>14867.000000</td>\n",
       "      <td>3036.080250</td>\n",
       "      <td>3197.193185</td>\n",
       "      <td>BENGALURU(R)</td>\n",
       "    </tr>\n",
       "    <tr>\n",
       "      <th>2</th>\n",
       "      <td>0.0</td>\n",
       "      <td>0.0</td>\n",
       "      <td>0.0</td>\n",
       "      <td>0.0</td>\n",
       "      <td>0.0</td>\n",
       "      <td>260.150</td>\n",
       "      <td>7729.614277</td>\n",
       "      <td>1987.0</td>\n",
       "      <td>222.225258</td>\n",
       "      <td>709.859804</td>\n",
       "      <td>...</td>\n",
       "      <td>0.816776</td>\n",
       "      <td>2.018274</td>\n",
       "      <td>6.587258</td>\n",
       "      <td>0.478255</td>\n",
       "      <td>260.150000</td>\n",
       "      <td>7729.614277</td>\n",
       "      <td>1987.000000</td>\n",
       "      <td>222.225258</td>\n",
       "      <td>709.859804</td>\n",
       "      <td>RAMANAGARA</td>\n",
       "    </tr>\n",
       "    <tr>\n",
       "      <th>3</th>\n",
       "      <td>0.0</td>\n",
       "      <td>0.0</td>\n",
       "      <td>0.0</td>\n",
       "      <td>0.0</td>\n",
       "      <td>0.0</td>\n",
       "      <td>5004.000</td>\n",
       "      <td>83821.593090</td>\n",
       "      <td>92194.0</td>\n",
       "      <td>10902.406570</td>\n",
       "      <td>28105.507250</td>\n",
       "      <td>...</td>\n",
       "      <td>0.816776</td>\n",
       "      <td>2.018274</td>\n",
       "      <td>6.587258</td>\n",
       "      <td>0.478255</td>\n",
       "      <td>5004.000000</td>\n",
       "      <td>83821.593090</td>\n",
       "      <td>92194.000000</td>\n",
       "      <td>10902.406570</td>\n",
       "      <td>28105.507250</td>\n",
       "      <td>CHITRADURGA</td>\n",
       "    </tr>\n",
       "    <tr>\n",
       "      <th>4</th>\n",
       "      <td>0.0</td>\n",
       "      <td>0.0</td>\n",
       "      <td>0.0</td>\n",
       "      <td>0.0</td>\n",
       "      <td>0.0</td>\n",
       "      <td>6124.600</td>\n",
       "      <td>85657.632090</td>\n",
       "      <td>173400.0</td>\n",
       "      <td>25702.835480</td>\n",
       "      <td>20213.730880</td>\n",
       "      <td>...</td>\n",
       "      <td>0.816776</td>\n",
       "      <td>2.018274</td>\n",
       "      <td>6.587258</td>\n",
       "      <td>0.478255</td>\n",
       "      <td>6124.600000</td>\n",
       "      <td>85657.632090</td>\n",
       "      <td>173400.000000</td>\n",
       "      <td>25702.835480</td>\n",
       "      <td>20213.730880</td>\n",
       "      <td>DAVANAGERE</td>\n",
       "    </tr>\n",
       "    <tr>\n",
       "      <th>...</th>\n",
       "      <td>...</td>\n",
       "      <td>...</td>\n",
       "      <td>...</td>\n",
       "      <td>...</td>\n",
       "      <td>...</td>\n",
       "      <td>...</td>\n",
       "      <td>...</td>\n",
       "      <td>...</td>\n",
       "      <td>...</td>\n",
       "      <td>...</td>\n",
       "      <td>...</td>\n",
       "      <td>...</td>\n",
       "      <td>...</td>\n",
       "      <td>...</td>\n",
       "      <td>...</td>\n",
       "      <td>...</td>\n",
       "      <td>...</td>\n",
       "      <td>...</td>\n",
       "      <td>...</td>\n",
       "      <td>...</td>\n",
       "      <td>...</td>\n",
       "    </tr>\n",
       "    <tr>\n",
       "      <th>4509423</th>\n",
       "      <td>1.0</td>\n",
       "      <td>1.0</td>\n",
       "      <td>1.0</td>\n",
       "      <td>1.0</td>\n",
       "      <td>1.0</td>\n",
       "      <td>24.550</td>\n",
       "      <td>2371.831678</td>\n",
       "      <td>1382.0</td>\n",
       "      <td>249.381182</td>\n",
       "      <td>201.341576</td>\n",
       "      <td>...</td>\n",
       "      <td>0.816776</td>\n",
       "      <td>2.018274</td>\n",
       "      <td>6.587258</td>\n",
       "      <td>0.478255</td>\n",
       "      <td>0.000000</td>\n",
       "      <td>8493.457838</td>\n",
       "      <td>3859.364688</td>\n",
       "      <td>1008.422407</td>\n",
       "      <td>10656.005959</td>\n",
       "      <td>BIDAR</td>\n",
       "    </tr>\n",
       "    <tr>\n",
       "      <th>4509424</th>\n",
       "      <td>1.0</td>\n",
       "      <td>1.0</td>\n",
       "      <td>1.0</td>\n",
       "      <td>1.0</td>\n",
       "      <td>1.0</td>\n",
       "      <td>165.000</td>\n",
       "      <td>6221.617910</td>\n",
       "      <td>2634.0</td>\n",
       "      <td>710.101614</td>\n",
       "      <td>641.759644</td>\n",
       "      <td>...</td>\n",
       "      <td>0.816776</td>\n",
       "      <td>2.018274</td>\n",
       "      <td>6.587258</td>\n",
       "      <td>0.478255</td>\n",
       "      <td>0.000000</td>\n",
       "      <td>12343.244070</td>\n",
       "      <td>5111.364688</td>\n",
       "      <td>1469.142839</td>\n",
       "      <td>11096.424027</td>\n",
       "      <td>KALABURAGI</td>\n",
       "    </tr>\n",
       "    <tr>\n",
       "      <th>4509425</th>\n",
       "      <td>1.0</td>\n",
       "      <td>1.0</td>\n",
       "      <td>1.0</td>\n",
       "      <td>1.0</td>\n",
       "      <td>1.0</td>\n",
       "      <td>14.350</td>\n",
       "      <td>188.537479</td>\n",
       "      <td>2600.0</td>\n",
       "      <td>61.547519</td>\n",
       "      <td>13.949581</td>\n",
       "      <td>...</td>\n",
       "      <td>0.816776</td>\n",
       "      <td>2.018274</td>\n",
       "      <td>6.587258</td>\n",
       "      <td>0.478255</td>\n",
       "      <td>0.000000</td>\n",
       "      <td>6310.163639</td>\n",
       "      <td>5077.364688</td>\n",
       "      <td>820.588744</td>\n",
       "      <td>10468.613965</td>\n",
       "      <td>RAICHUR</td>\n",
       "    </tr>\n",
       "    <tr>\n",
       "      <th>4509426</th>\n",
       "      <td>1.0</td>\n",
       "      <td>1.0</td>\n",
       "      <td>1.0</td>\n",
       "      <td>1.0</td>\n",
       "      <td>1.0</td>\n",
       "      <td>5292.000</td>\n",
       "      <td>38936.400170</td>\n",
       "      <td>48210.0</td>\n",
       "      <td>10997.550400</td>\n",
       "      <td>12343.237180</td>\n",
       "      <td>...</td>\n",
       "      <td>0.816776</td>\n",
       "      <td>2.018274</td>\n",
       "      <td>6.587258</td>\n",
       "      <td>0.478255</td>\n",
       "      <td>4804.896201</td>\n",
       "      <td>45058.026330</td>\n",
       "      <td>50687.364688</td>\n",
       "      <td>11756.591624</td>\n",
       "      <td>22797.901563</td>\n",
       "      <td>KOPPAL</td>\n",
       "    </tr>\n",
       "    <tr>\n",
       "      <th>4509427</th>\n",
       "      <td>1.0</td>\n",
       "      <td>1.0</td>\n",
       "      <td>1.0</td>\n",
       "      <td>1.0</td>\n",
       "      <td>1.0</td>\n",
       "      <td>2859.005</td>\n",
       "      <td>23446.847905</td>\n",
       "      <td>49869.5</td>\n",
       "      <td>8404.154610</td>\n",
       "      <td>5124.306675</td>\n",
       "      <td>...</td>\n",
       "      <td>0.816776</td>\n",
       "      <td>2.018274</td>\n",
       "      <td>6.587258</td>\n",
       "      <td>0.478255</td>\n",
       "      <td>2371.901201</td>\n",
       "      <td>29568.474065</td>\n",
       "      <td>52346.864688</td>\n",
       "      <td>9163.195834</td>\n",
       "      <td>15578.971058</td>\n",
       "      <td>VIJAYANAGARA</td>\n",
       "    </tr>\n",
       "  </tbody>\n",
       "</table>\n",
       "<p>4509428 rows × 22 columns</p>\n",
       "</div>"
      ],
      "text/plain": [
       "         Sensitivity_SowingSeedsDistributed_Maize_320  \\\n",
       "0                                                 0.0   \n",
       "1                                                 0.0   \n",
       "2                                                 0.0   \n",
       "3                                                 0.0   \n",
       "4                                                 0.0   \n",
       "...                                               ...   \n",
       "4509423                                           1.0   \n",
       "4509424                                           1.0   \n",
       "4509425                                           1.0   \n",
       "4509426                                           1.0   \n",
       "4509427                                           1.0   \n",
       "\n",
       "         Sensitivity_LivestockCensus_2012_Cattle_354  \\\n",
       "0                                                0.0   \n",
       "1                                                0.0   \n",
       "2                                                0.0   \n",
       "3                                                0.0   \n",
       "4                                                0.0   \n",
       "...                                              ...   \n",
       "4509423                                          1.0   \n",
       "4509424                                          1.0   \n",
       "4509425                                          1.0   \n",
       "4509426                                          1.0   \n",
       "4509427                                          1.0   \n",
       "\n",
       "         Sensitivity_AreaUnderCereals_Maize_193  Sensitivity_TotalNPK_315  \\\n",
       "0                                           0.0                       0.0   \n",
       "1                                           0.0                       0.0   \n",
       "2                                           0.0                       0.0   \n",
       "3                                           0.0                       0.0   \n",
       "4                                           0.0                       0.0   \n",
       "...                                         ...                       ...   \n",
       "4509423                                     1.0                       1.0   \n",
       "4509424                                     1.0                       1.0   \n",
       "4509425                                     1.0                       1.0   \n",
       "4509426                                     1.0                       1.0   \n",
       "4509427                                     1.0                       1.0   \n",
       "\n",
       "         Sensitivity_NetAreaIrrigatedUnderDifferentSources_TubeWells_NetIrrigatedArea_182  \\\n",
       "0                                                      0.0                                  \n",
       "1                                                      0.0                                  \n",
       "2                                                      0.0                                  \n",
       "3                                                      0.0                                  \n",
       "4                                                      0.0                                  \n",
       "...                                                    ...                                  \n",
       "4509423                                                1.0                                  \n",
       "4509424                                                1.0                                  \n",
       "4509425                                                1.0                                  \n",
       "4509426                                                1.0                                  \n",
       "4509427                                                1.0                                  \n",
       "\n",
       "         SowingSeedsDistributed_Maize_320  LivestockCensus_2012_Cattle_354  \\\n",
       "0                                   4.450                      2567.461578   \n",
       "1                                 134.730                     25037.139270   \n",
       "2                                 260.150                      7729.614277   \n",
       "3                                5004.000                     83821.593090   \n",
       "4                                6124.600                     85657.632090   \n",
       "...                                   ...                              ...   \n",
       "4509423                            24.550                      2371.831678   \n",
       "4509424                           165.000                      6221.617910   \n",
       "4509425                            14.350                       188.537479   \n",
       "4509426                          5292.000                     38936.400170   \n",
       "4509427                          2859.005                     23446.847905   \n",
       "\n",
       "         AreaUnderCereals_Maize_193  TotalNPK_315  \\\n",
       "0                            1129.0    438.180210   \n",
       "1                           14867.0   3036.080250   \n",
       "2                            1987.0    222.225258   \n",
       "3                           92194.0  10902.406570   \n",
       "4                          173400.0  25702.835480   \n",
       "...                             ...           ...   \n",
       "4509423                      1382.0    249.381182   \n",
       "4509424                      2634.0    710.101614   \n",
       "4509425                      2600.0     61.547519   \n",
       "4509426                     48210.0  10997.550400   \n",
       "4509427                     49869.5   8404.154610   \n",
       "\n",
       "         NetAreaIrrigatedUnderDifferentSources_TubeWells_NetIrrigatedArea_182  \\\n",
       "0                                               175.723235                      \n",
       "1                                              3197.193185                      \n",
       "2                                               709.859804                      \n",
       "3                                             28105.507250                      \n",
       "4                                             20213.730880                      \n",
       "...                                                    ...                      \n",
       "4509423                                         201.341576                      \n",
       "4509424                                         641.759644                      \n",
       "4509425                                          13.949581                      \n",
       "4509426                                       12343.237180                      \n",
       "4509427                                        5124.306675                      \n",
       "\n",
       "         ...    Beta_2    Beta_3    Beta_4    Beta_5       New_F1  \\\n",
       "0        ...  0.816776  2.018274  6.587258  0.478255     4.450000   \n",
       "1        ...  0.816776  2.018274  6.587258  0.478255   134.730000   \n",
       "2        ...  0.816776  2.018274  6.587258  0.478255   260.150000   \n",
       "3        ...  0.816776  2.018274  6.587258  0.478255  5004.000000   \n",
       "4        ...  0.816776  2.018274  6.587258  0.478255  6124.600000   \n",
       "...      ...       ...       ...       ...       ...          ...   \n",
       "4509423  ...  0.816776  2.018274  6.587258  0.478255     0.000000   \n",
       "4509424  ...  0.816776  2.018274  6.587258  0.478255     0.000000   \n",
       "4509425  ...  0.816776  2.018274  6.587258  0.478255     0.000000   \n",
       "4509426  ...  0.816776  2.018274  6.587258  0.478255  4804.896201   \n",
       "4509427  ...  0.816776  2.018274  6.587258  0.478255  2371.901201   \n",
       "\n",
       "               New_F2         New_F3        New_F4        New_F5      District  \n",
       "0         2567.461578    1129.000000    438.180210    175.723235     BENGALURU  \n",
       "1        25037.139270   14867.000000   3036.080250   3197.193185  BENGALURU(R)  \n",
       "2         7729.614277    1987.000000    222.225258    709.859804    RAMANAGARA  \n",
       "3        83821.593090   92194.000000  10902.406570  28105.507250   CHITRADURGA  \n",
       "4        85657.632090  173400.000000  25702.835480  20213.730880    DAVANAGERE  \n",
       "...               ...            ...           ...           ...           ...  \n",
       "4509423   8493.457838    3859.364688   1008.422407  10656.005959         BIDAR  \n",
       "4509424  12343.244070    5111.364688   1469.142839  11096.424027    KALABURAGI  \n",
       "4509425   6310.163639    5077.364688    820.588744  10468.613965       RAICHUR  \n",
       "4509426  45058.026330   50687.364688  11756.591624  22797.901563        KOPPAL  \n",
       "4509427  29568.474065   52346.864688   9163.195834  15578.971058  VIJAYANAGARA  \n",
       "\n",
       "[4509428 rows x 22 columns]"
      ]
     },
     "execution_count": 48,
     "metadata": {},
     "output_type": "execute_result"
    }
   ],
   "source": [
    "delta_O = 5000\n",
    "\n",
    "result_df['New_F1'] = result_df['SowingSeedsDistributed_Maize_320'] + (result_df['Sensitivity_SowingSeedsDistributed_Maize_320']*delta_O)/result_df['Beta_1']\n",
    "result_df['New_F2'] = result_df['LivestockCensus_2012_Cattle_354'] + (result_df['Sensitivity_LivestockCensus_2012_Cattle_354']*delta_O)/result_df['Beta_2']\n",
    "result_df['New_F3'] = result_df['AreaUnderCereals_Maize_193'] + (result_df['Sensitivity_AreaUnderCereals_Maize_193']*delta_O)/result_df['Beta_3']\n",
    "result_df['New_F4'] = result_df['TotalNPK_315'] + (result_df['Sensitivity_TotalNPK_315']*delta_O)/result_df['Beta_4']\n",
    "result_df['New_F5'] = result_df['NetAreaIrrigatedUnderDifferentSources_TubeWells_NetIrrigatedArea_182'] + (result_df['Sensitivity_NetAreaIrrigatedUnderDifferentSources_TubeWells_NetIrrigatedArea_182']*delta_O)/result_df['Beta_5']\n",
    "result_df['District'] = np.tile(Working_Directory[~rows_to_remove]['District'],11**5)\n",
    "\n",
    "result_df['New_F1'] = result_df['New_F1'].apply(lambda x: max(0, x))\n",
    "result_df['New_F2'] = result_df['New_F2'].apply(lambda x: max(0, x))\n",
    "result_df['New_F3'] = result_df['New_F3'].apply(lambda x: max(0, x))\n",
    "result_df['New_F4'] = result_df['New_F4'].apply(lambda x: max(0, x))\n",
    "result_df['New_F5'] = result_df['New_F5'].apply(lambda x: max(0, x))\n",
    "\n",
    "result_df"
   ]
  },
  {
   "cell_type": "code",
   "execution_count": 49,
   "metadata": {},
   "outputs": [
    {
     "data": {
      "text/html": [
       "<div>\n",
       "<style scoped>\n",
       "    .dataframe tbody tr th:only-of-type {\n",
       "        vertical-align: middle;\n",
       "    }\n",
       "\n",
       "    .dataframe tbody tr th {\n",
       "        vertical-align: top;\n",
       "    }\n",
       "\n",
       "    .dataframe thead th {\n",
       "        text-align: right;\n",
       "    }\n",
       "</style>\n",
       "<table border=\"1\" class=\"dataframe\">\n",
       "  <thead>\n",
       "    <tr style=\"text-align: right;\">\n",
       "      <th></th>\n",
       "      <th>Sensitivity_SowingSeedsDistributed_Maize_320</th>\n",
       "      <th>Sensitivity_LivestockCensus_2012_Cattle_354</th>\n",
       "      <th>Sensitivity_AreaUnderCereals_Maize_193</th>\n",
       "      <th>Sensitivity_TotalNPK_315</th>\n",
       "      <th>Sensitivity_NetAreaIrrigatedUnderDifferentSources_TubeWells_NetIrrigatedArea_182</th>\n",
       "      <th>SowingSeedsDistributed_Maize_320</th>\n",
       "      <th>LivestockCensus_2012_Cattle_354</th>\n",
       "      <th>AreaUnderCereals_Maize_193</th>\n",
       "      <th>TotalNPK_315</th>\n",
       "      <th>NetAreaIrrigatedUnderDifferentSources_TubeWells_NetIrrigatedArea_182</th>\n",
       "      <th>...</th>\n",
       "      <th>Beta_3</th>\n",
       "      <th>Beta_4</th>\n",
       "      <th>Beta_5</th>\n",
       "      <th>New_F1</th>\n",
       "      <th>New_F2</th>\n",
       "      <th>New_F3</th>\n",
       "      <th>New_F4</th>\n",
       "      <th>New_F5</th>\n",
       "      <th>District</th>\n",
       "      <th>New_Production</th>\n",
       "    </tr>\n",
       "  </thead>\n",
       "  <tbody>\n",
       "    <tr>\n",
       "      <th>0</th>\n",
       "      <td>0.0</td>\n",
       "      <td>0.0</td>\n",
       "      <td>0.0</td>\n",
       "      <td>0.0</td>\n",
       "      <td>0.0</td>\n",
       "      <td>4.450</td>\n",
       "      <td>2567.461578</td>\n",
       "      <td>1129.0</td>\n",
       "      <td>438.180210</td>\n",
       "      <td>175.723235</td>\n",
       "      <td>...</td>\n",
       "      <td>2.018274</td>\n",
       "      <td>6.587258</td>\n",
       "      <td>0.478255</td>\n",
       "      <td>4.450000</td>\n",
       "      <td>2567.461578</td>\n",
       "      <td>1129.000000</td>\n",
       "      <td>438.180210</td>\n",
       "      <td>175.723235</td>\n",
       "      <td>BENGALURU</td>\n",
       "      <td>-4058.299429</td>\n",
       "    </tr>\n",
       "    <tr>\n",
       "      <th>1</th>\n",
       "      <td>0.0</td>\n",
       "      <td>0.0</td>\n",
       "      <td>0.0</td>\n",
       "      <td>0.0</td>\n",
       "      <td>0.0</td>\n",
       "      <td>134.730</td>\n",
       "      <td>25037.139270</td>\n",
       "      <td>14867.0</td>\n",
       "      <td>3036.080250</td>\n",
       "      <td>3197.193185</td>\n",
       "      <td>...</td>\n",
       "      <td>2.018274</td>\n",
       "      <td>6.587258</td>\n",
       "      <td>0.478255</td>\n",
       "      <td>134.730000</td>\n",
       "      <td>25037.139270</td>\n",
       "      <td>14867.000000</td>\n",
       "      <td>3036.080250</td>\n",
       "      <td>3197.193185</td>\n",
       "      <td>BENGALURU(R)</td>\n",
       "      <td>40684.155987</td>\n",
       "    </tr>\n",
       "    <tr>\n",
       "      <th>2</th>\n",
       "      <td>0.0</td>\n",
       "      <td>0.0</td>\n",
       "      <td>0.0</td>\n",
       "      <td>0.0</td>\n",
       "      <td>0.0</td>\n",
       "      <td>260.150</td>\n",
       "      <td>7729.614277</td>\n",
       "      <td>1987.0</td>\n",
       "      <td>222.225258</td>\n",
       "      <td>709.859804</td>\n",
       "      <td>...</td>\n",
       "      <td>2.018274</td>\n",
       "      <td>6.587258</td>\n",
       "      <td>0.478255</td>\n",
       "      <td>260.150000</td>\n",
       "      <td>7729.614277</td>\n",
       "      <td>1987.000000</td>\n",
       "      <td>222.225258</td>\n",
       "      <td>709.859804</td>\n",
       "      <td>RAMANAGARA</td>\n",
       "      <td>-734.993155</td>\n",
       "    </tr>\n",
       "    <tr>\n",
       "      <th>3</th>\n",
       "      <td>0.0</td>\n",
       "      <td>0.0</td>\n",
       "      <td>0.0</td>\n",
       "      <td>0.0</td>\n",
       "      <td>0.0</td>\n",
       "      <td>5004.000</td>\n",
       "      <td>83821.593090</td>\n",
       "      <td>92194.0</td>\n",
       "      <td>10902.406570</td>\n",
       "      <td>28105.507250</td>\n",
       "      <td>...</td>\n",
       "      <td>2.018274</td>\n",
       "      <td>6.587258</td>\n",
       "      <td>0.478255</td>\n",
       "      <td>5004.000000</td>\n",
       "      <td>83821.593090</td>\n",
       "      <td>92194.000000</td>\n",
       "      <td>10902.406570</td>\n",
       "      <td>28105.507250</td>\n",
       "      <td>CHITRADURGA</td>\n",
       "      <td>194783.111197</td>\n",
       "    </tr>\n",
       "    <tr>\n",
       "      <th>4</th>\n",
       "      <td>0.0</td>\n",
       "      <td>0.0</td>\n",
       "      <td>0.0</td>\n",
       "      <td>0.0</td>\n",
       "      <td>0.0</td>\n",
       "      <td>6124.600</td>\n",
       "      <td>85657.632090</td>\n",
       "      <td>173400.0</td>\n",
       "      <td>25702.835480</td>\n",
       "      <td>20213.730880</td>\n",
       "      <td>...</td>\n",
       "      <td>2.018274</td>\n",
       "      <td>6.587258</td>\n",
       "      <td>0.478255</td>\n",
       "      <td>6124.600000</td>\n",
       "      <td>85657.632090</td>\n",
       "      <td>173400.000000</td>\n",
       "      <td>25702.835480</td>\n",
       "      <td>20213.730880</td>\n",
       "      <td>DAVANAGERE</td>\n",
       "      <td>348675.997024</td>\n",
       "    </tr>\n",
       "    <tr>\n",
       "      <th>...</th>\n",
       "      <td>...</td>\n",
       "      <td>...</td>\n",
       "      <td>...</td>\n",
       "      <td>...</td>\n",
       "      <td>...</td>\n",
       "      <td>...</td>\n",
       "      <td>...</td>\n",
       "      <td>...</td>\n",
       "      <td>...</td>\n",
       "      <td>...</td>\n",
       "      <td>...</td>\n",
       "      <td>...</td>\n",
       "      <td>...</td>\n",
       "      <td>...</td>\n",
       "      <td>...</td>\n",
       "      <td>...</td>\n",
       "      <td>...</td>\n",
       "      <td>...</td>\n",
       "      <td>...</td>\n",
       "      <td>...</td>\n",
       "      <td>...</td>\n",
       "    </tr>\n",
       "    <tr>\n",
       "      <th>4509423</th>\n",
       "      <td>1.0</td>\n",
       "      <td>1.0</td>\n",
       "      <td>1.0</td>\n",
       "      <td>1.0</td>\n",
       "      <td>1.0</td>\n",
       "      <td>24.550</td>\n",
       "      <td>2371.831678</td>\n",
       "      <td>1382.0</td>\n",
       "      <td>249.381182</td>\n",
       "      <td>201.341576</td>\n",
       "      <td>...</td>\n",
       "      <td>2.018274</td>\n",
       "      <td>6.587258</td>\n",
       "      <td>0.478255</td>\n",
       "      <td>0.000000</td>\n",
       "      <td>8493.457838</td>\n",
       "      <td>3859.364688</td>\n",
       "      <td>1008.422407</td>\n",
       "      <td>10656.005959</td>\n",
       "      <td>BIDAR</td>\n",
       "      <td>6338.216074</td>\n",
       "    </tr>\n",
       "    <tr>\n",
       "      <th>4509424</th>\n",
       "      <td>1.0</td>\n",
       "      <td>1.0</td>\n",
       "      <td>1.0</td>\n",
       "      <td>1.0</td>\n",
       "      <td>1.0</td>\n",
       "      <td>165.000</td>\n",
       "      <td>6221.617910</td>\n",
       "      <td>2634.0</td>\n",
       "      <td>710.101614</td>\n",
       "      <td>641.759644</td>\n",
       "      <td>...</td>\n",
       "      <td>2.018274</td>\n",
       "      <td>6.587258</td>\n",
       "      <td>0.478255</td>\n",
       "      <td>0.000000</td>\n",
       "      <td>12343.244070</td>\n",
       "      <td>5111.364688</td>\n",
       "      <td>1469.142839</td>\n",
       "      <td>11096.424027</td>\n",
       "      <td>KALABURAGI</td>\n",
       "      <td>12009.509428</td>\n",
       "    </tr>\n",
       "    <tr>\n",
       "      <th>4509425</th>\n",
       "      <td>1.0</td>\n",
       "      <td>1.0</td>\n",
       "      <td>1.0</td>\n",
       "      <td>1.0</td>\n",
       "      <td>1.0</td>\n",
       "      <td>14.350</td>\n",
       "      <td>188.537479</td>\n",
       "      <td>2600.0</td>\n",
       "      <td>61.547519</td>\n",
       "      <td>13.949581</td>\n",
       "      <td>...</td>\n",
       "      <td>2.018274</td>\n",
       "      <td>6.587258</td>\n",
       "      <td>0.478255</td>\n",
       "      <td>0.000000</td>\n",
       "      <td>6310.163639</td>\n",
       "      <td>5077.364688</td>\n",
       "      <td>820.588744</td>\n",
       "      <td>10468.613965</td>\n",
       "      <td>RAICHUR</td>\n",
       "      <td>7013.210188</td>\n",
       "    </tr>\n",
       "    <tr>\n",
       "      <th>4509426</th>\n",
       "      <td>1.0</td>\n",
       "      <td>1.0</td>\n",
       "      <td>1.0</td>\n",
       "      <td>1.0</td>\n",
       "      <td>1.0</td>\n",
       "      <td>5292.000</td>\n",
       "      <td>38936.400170</td>\n",
       "      <td>48210.0</td>\n",
       "      <td>10997.550400</td>\n",
       "      <td>12343.237180</td>\n",
       "      <td>...</td>\n",
       "      <td>2.018274</td>\n",
       "      <td>6.587258</td>\n",
       "      <td>0.478255</td>\n",
       "      <td>4804.896201</td>\n",
       "      <td>45058.026330</td>\n",
       "      <td>50687.364688</td>\n",
       "      <td>11756.591624</td>\n",
       "      <td>22797.901563</td>\n",
       "      <td>KOPPAL</td>\n",
       "      <td>81393.944018</td>\n",
       "    </tr>\n",
       "    <tr>\n",
       "      <th>4509427</th>\n",
       "      <td>1.0</td>\n",
       "      <td>1.0</td>\n",
       "      <td>1.0</td>\n",
       "      <td>1.0</td>\n",
       "      <td>1.0</td>\n",
       "      <td>2859.005</td>\n",
       "      <td>23446.847905</td>\n",
       "      <td>49869.5</td>\n",
       "      <td>8404.154610</td>\n",
       "      <td>5124.306675</td>\n",
       "      <td>...</td>\n",
       "      <td>2.018274</td>\n",
       "      <td>6.587258</td>\n",
       "      <td>0.478255</td>\n",
       "      <td>2371.901201</td>\n",
       "      <td>29568.474065</td>\n",
       "      <td>52346.864688</td>\n",
       "      <td>9163.195834</td>\n",
       "      <td>15578.971058</td>\n",
       "      <td>VIJAYANAGARA</td>\n",
       "      <td>97065.859751</td>\n",
       "    </tr>\n",
       "  </tbody>\n",
       "</table>\n",
       "<p>4509428 rows × 23 columns</p>\n",
       "</div>"
      ],
      "text/plain": [
       "         Sensitivity_SowingSeedsDistributed_Maize_320  \\\n",
       "0                                                 0.0   \n",
       "1                                                 0.0   \n",
       "2                                                 0.0   \n",
       "3                                                 0.0   \n",
       "4                                                 0.0   \n",
       "...                                               ...   \n",
       "4509423                                           1.0   \n",
       "4509424                                           1.0   \n",
       "4509425                                           1.0   \n",
       "4509426                                           1.0   \n",
       "4509427                                           1.0   \n",
       "\n",
       "         Sensitivity_LivestockCensus_2012_Cattle_354  \\\n",
       "0                                                0.0   \n",
       "1                                                0.0   \n",
       "2                                                0.0   \n",
       "3                                                0.0   \n",
       "4                                                0.0   \n",
       "...                                              ...   \n",
       "4509423                                          1.0   \n",
       "4509424                                          1.0   \n",
       "4509425                                          1.0   \n",
       "4509426                                          1.0   \n",
       "4509427                                          1.0   \n",
       "\n",
       "         Sensitivity_AreaUnderCereals_Maize_193  Sensitivity_TotalNPK_315  \\\n",
       "0                                           0.0                       0.0   \n",
       "1                                           0.0                       0.0   \n",
       "2                                           0.0                       0.0   \n",
       "3                                           0.0                       0.0   \n",
       "4                                           0.0                       0.0   \n",
       "...                                         ...                       ...   \n",
       "4509423                                     1.0                       1.0   \n",
       "4509424                                     1.0                       1.0   \n",
       "4509425                                     1.0                       1.0   \n",
       "4509426                                     1.0                       1.0   \n",
       "4509427                                     1.0                       1.0   \n",
       "\n",
       "         Sensitivity_NetAreaIrrigatedUnderDifferentSources_TubeWells_NetIrrigatedArea_182  \\\n",
       "0                                                      0.0                                  \n",
       "1                                                      0.0                                  \n",
       "2                                                      0.0                                  \n",
       "3                                                      0.0                                  \n",
       "4                                                      0.0                                  \n",
       "...                                                    ...                                  \n",
       "4509423                                                1.0                                  \n",
       "4509424                                                1.0                                  \n",
       "4509425                                                1.0                                  \n",
       "4509426                                                1.0                                  \n",
       "4509427                                                1.0                                  \n",
       "\n",
       "         SowingSeedsDistributed_Maize_320  LivestockCensus_2012_Cattle_354  \\\n",
       "0                                   4.450                      2567.461578   \n",
       "1                                 134.730                     25037.139270   \n",
       "2                                 260.150                      7729.614277   \n",
       "3                                5004.000                     83821.593090   \n",
       "4                                6124.600                     85657.632090   \n",
       "...                                   ...                              ...   \n",
       "4509423                            24.550                      2371.831678   \n",
       "4509424                           165.000                      6221.617910   \n",
       "4509425                            14.350                       188.537479   \n",
       "4509426                          5292.000                     38936.400170   \n",
       "4509427                          2859.005                     23446.847905   \n",
       "\n",
       "         AreaUnderCereals_Maize_193  TotalNPK_315  \\\n",
       "0                            1129.0    438.180210   \n",
       "1                           14867.0   3036.080250   \n",
       "2                            1987.0    222.225258   \n",
       "3                           92194.0  10902.406570   \n",
       "4                          173400.0  25702.835480   \n",
       "...                             ...           ...   \n",
       "4509423                      1382.0    249.381182   \n",
       "4509424                      2634.0    710.101614   \n",
       "4509425                      2600.0     61.547519   \n",
       "4509426                     48210.0  10997.550400   \n",
       "4509427                     49869.5   8404.154610   \n",
       "\n",
       "         NetAreaIrrigatedUnderDifferentSources_TubeWells_NetIrrigatedArea_182  \\\n",
       "0                                               175.723235                      \n",
       "1                                              3197.193185                      \n",
       "2                                               709.859804                      \n",
       "3                                             28105.507250                      \n",
       "4                                             20213.730880                      \n",
       "...                                                    ...                      \n",
       "4509423                                         201.341576                      \n",
       "4509424                                         641.759644                      \n",
       "4509425                                          13.949581                      \n",
       "4509426                                       12343.237180                      \n",
       "4509427                                        5124.306675                      \n",
       "\n",
       "         ...    Beta_3    Beta_4    Beta_5       New_F1        New_F2  \\\n",
       "0        ...  2.018274  6.587258  0.478255     4.450000   2567.461578   \n",
       "1        ...  2.018274  6.587258  0.478255   134.730000  25037.139270   \n",
       "2        ...  2.018274  6.587258  0.478255   260.150000   7729.614277   \n",
       "3        ...  2.018274  6.587258  0.478255  5004.000000  83821.593090   \n",
       "4        ...  2.018274  6.587258  0.478255  6124.600000  85657.632090   \n",
       "...      ...       ...       ...       ...          ...           ...   \n",
       "4509423  ...  2.018274  6.587258  0.478255     0.000000   8493.457838   \n",
       "4509424  ...  2.018274  6.587258  0.478255     0.000000  12343.244070   \n",
       "4509425  ...  2.018274  6.587258  0.478255     0.000000   6310.163639   \n",
       "4509426  ...  2.018274  6.587258  0.478255  4804.896201  45058.026330   \n",
       "4509427  ...  2.018274  6.587258  0.478255  2371.901201  29568.474065   \n",
       "\n",
       "                New_F3        New_F4        New_F5      District  \\\n",
       "0          1129.000000    438.180210    175.723235     BENGALURU   \n",
       "1         14867.000000   3036.080250   3197.193185  BENGALURU(R)   \n",
       "2          1987.000000    222.225258    709.859804    RAMANAGARA   \n",
       "3         92194.000000  10902.406570  28105.507250   CHITRADURGA   \n",
       "4        173400.000000  25702.835480  20213.730880    DAVANAGERE   \n",
       "...                ...           ...           ...           ...   \n",
       "4509423    3859.364688   1008.422407  10656.005959         BIDAR   \n",
       "4509424    5111.364688   1469.142839  11096.424027    KALABURAGI   \n",
       "4509425    5077.364688    820.588744  10468.613965       RAICHUR   \n",
       "4509426   50687.364688  11756.591624  22797.901563        KOPPAL   \n",
       "4509427   52346.864688   9163.195834  15578.971058  VIJAYANAGARA   \n",
       "\n",
       "         New_Production  \n",
       "0          -4058.299429  \n",
       "1          40684.155987  \n",
       "2           -734.993155  \n",
       "3         194783.111197  \n",
       "4         348675.997024  \n",
       "...                 ...  \n",
       "4509423     6338.216074  \n",
       "4509424    12009.509428  \n",
       "4509425     7013.210188  \n",
       "4509426    81393.944018  \n",
       "4509427    97065.859751  \n",
       "\n",
       "[4509428 rows x 23 columns]"
      ]
     },
     "execution_count": 49,
     "metadata": {},
     "output_type": "execute_result"
    }
   ],
   "source": [
    "result_df['New_Production'] = result_df['Beta_1'] * result_df['New_F1'] + result_df['Beta_2'] * result_df['New_F2'] + result_df['Beta_3'] * result_df['New_F3'] + result_df['Beta_0']\n",
    "result_df"
   ]
  },
  {
   "cell_type": "code",
   "execution_count": 50,
   "metadata": {},
   "outputs": [],
   "source": [
    "def normalize_list(lst):\n",
    "    min_val = min(lst)\n",
    "    max_val = max(lst)\n",
    "    normalized_lst = [(x - min_val) / (max_val - min_val) for x in lst]\n",
    "    return normalized_lst"
   ]
  },
  {
   "cell_type": "code",
   "execution_count": 51,
   "metadata": {},
   "outputs": [
    {
     "name": "stdout",
     "output_type": "stream",
     "text": [
      "    1   2   3   4   5   6   7   8   9   10  ...  22  23  24  25  26  27  28  \\\n",
      "1    0   1   1   0   0   0   0   0   0   0  ...   0   0   0   0   0   0   0   \n",
      "2    1   0   1   0   0   1   1   0   1   0  ...   0   0   0   0   0   0   0   \n",
      "3    1   1   0   0   0   0   0   0   1   0  ...   0   0   0   0   0   0   0   \n",
      "4    0   0   0   0   1   0   0   0   1   1  ...   0   0   0   1   0   0   0   \n",
      "5    0   0   0   1   0   0   0   1   0   1  ...   0   1   0   1   0   0   0   \n",
      "6    0   1   0   0   0   0   1   0   0   0  ...   0   0   0   0   0   0   0   \n",
      "7    0   1   0   0   0   1   0   0   1   0  ...   0   0   0   0   0   0   0   \n",
      "8    0   0   0   0   1   0   0   0   0   1  ...   0   1   1   0   0   0   0   \n",
      "9    0   1   1   1   0   0   1   0   0   1  ...   0   0   0   0   0   0   0   \n",
      "10   0   0   0   1   1   0   0   1   1   0  ...   0   0   0   0   0   0   0   \n",
      "11   0   0   0   0   0   0   0   0   0   1  ...   0   0   0   0   0   0   0   \n",
      "12   0   0   0   0   0   0   0   1   0   1  ...   0   0   1   0   0   0   0   \n",
      "13   0   0   0   0   0   0   0   0   1   1  ...   0   0   0   0   0   0   0   \n",
      "14   0   0   0   0   0   0   0   0   0   0  ...   0   0   0   0   0   0   0   \n",
      "15   0   0   1   0   0   0   0   0   1   0  ...   0   0   0   0   0   0   0   \n",
      "16   0   0   0   0   0   0   0   0   0   0  ...   0   0   0   0   0   0   0   \n",
      "17   0   0   1   0   0   0   0   0   0   0  ...   0   0   0   0   0   0   0   \n",
      "18   0   0   0   0   0   0   0   0   0   0  ...   1   0   1   0   0   0   0   \n",
      "19   0   0   0   0   0   0   0   0   0   0  ...   0   0   0   0   0   1   1   \n",
      "20   0   0   0   0   0   0   0   0   0   0  ...   1   0   0   0   0   0   0   \n",
      "21   0   0   0   0   0   0   0   0   0   0  ...   1   1   1   0   0   0   0   \n",
      "22   0   0   0   0   0   0   0   0   0   0  ...   0   1   0   1   0   0   0   \n",
      "23   0   0   0   0   1   0   0   1   0   0  ...   1   0   1   1   0   0   0   \n",
      "24   0   0   0   0   0   0   0   1   0   0  ...   0   1   0   0   0   0   0   \n",
      "25   0   0   0   1   1   0   0   0   0   0  ...   1   1   0   0   0   0   0   \n",
      "26   0   0   0   0   0   0   0   0   0   0  ...   0   0   0   0   0   1   0   \n",
      "27   0   0   0   0   0   0   0   0   0   0  ...   0   0   0   0   1   0   1   \n",
      "28   0   0   0   0   0   0   0   0   0   0  ...   0   0   0   0   0   1   0   \n",
      "29   0   0   0   0   0   0   0   0   0   0  ...   0   0   0   1   0   0   1   \n",
      "30   0   0   0   0   0   0   0   0   0   0  ...   1   0   0   1   0   0   0   \n",
      "31   0   0   0   1   1   0   0   0   0   0  ...   1   1   0   1   0   0   0   \n",
      "\n",
      "    29  30  31  \n",
      "1    0   0   0  \n",
      "2    0   0   0  \n",
      "3    0   0   0  \n",
      "4    0   0   1  \n",
      "5    0   0   1  \n",
      "6    0   0   0  \n",
      "7    0   0   0  \n",
      "8    0   0   0  \n",
      "9    0   0   0  \n",
      "10   0   0   0  \n",
      "11   0   0   0  \n",
      "12   0   0   0  \n",
      "13   0   0   0  \n",
      "14   0   0   0  \n",
      "15   0   0   0  \n",
      "16   0   0   0  \n",
      "17   0   0   0  \n",
      "18   0   0   0  \n",
      "19   1   0   0  \n",
      "20   1   1   0  \n",
      "21   0   0   0  \n",
      "22   0   1   1  \n",
      "23   0   0   1  \n",
      "24   0   0   0  \n",
      "25   1   1   1  \n",
      "26   0   0   0  \n",
      "27   0   0   0  \n",
      "28   1   0   0  \n",
      "29   0   1   0  \n",
      "30   1   0   1  \n",
      "31   0   1   0  \n",
      "\n",
      "[31 rows x 31 columns]\n"
     ]
    }
   ],
   "source": [
    "import pandas as pd\n",
    "import numpy as np\n",
    "\n",
    "adjacency_excel = pd.read_excel('Karnataka_District_Adjacency_File.xlsx')\n",
    "\n",
    "district_codes = sorted(set(adjacency_excel['District_Code']))\n",
    "\n",
    "n = len(district_codes)\n",
    "adj_matrix = np.zeros((n, n), dtype=int)\n",
    "\n",
    "code_to_index = {code: idx for idx, code in enumerate(district_codes)}\n",
    "\n",
    "for i in range(len(adjacency_excel)):\n",
    "    district_code = adjacency_excel['District_Code'][i]\n",
    "    neighbors = [int(num) for num in str(adjacency_excel['District_Neighbors'][i]).split(',') if num.strip().isdigit()]\n",
    "    \n",
    "    for neighbor in neighbors:\n",
    "        adj_matrix[code_to_index[district_code]][code_to_index[neighbor]] = 1\n",
    "        adj_matrix[code_to_index[neighbor]][code_to_index[district_code]] = 1  # Assuming adjacency is bidirectional\n",
    "\n",
    "adj_matrix_df = pd.DataFrame(adj_matrix, index=district_codes, columns=district_codes)\n",
    "\n",
    "print(adj_matrix_df)\n",
    "\n",
    "adj_matrix_np = adj_matrix_df.to_numpy()"
   ]
  },
  {
   "cell_type": "code",
   "execution_count": 52,
   "metadata": {},
   "outputs": [],
   "source": [
    "def calculate_avg_capability(capability, neighbors):\n",
    "    num_neighbors = len(neighbors)\n",
    "    if num_neighbors == 0:\n",
    "        return 0\n",
    "    sum_capabilities = sum(capability[n] for n in neighbors)\n",
    "    return sum_capabilities / num_neighbors\n",
    "\n",
    "def calculate_stress_stability(capability, adjacency_matrix):\n",
    "    n = len(capability)\n",
    "    stress = np.zeros(n)\n",
    "    stability = np.zeros(n)\n",
    "    \n",
    "    for i in range(n):\n",
    "        neighbors = [j for j in range(n) if adjacency_matrix[i][j] == 1 and i != j]\n",
    "        if len(neighbors) > 0:\n",
    "            avg_capability = calculate_avg_capability(capability, neighbors)\n",
    "            stress[i] = abs(avg_capability - capability[i])\n",
    "            stability[i] = 1 - stress[i]\n",
    "        else:\n",
    "            stress[i] = 0  # If no neighbors, stress is zero\n",
    "            stability[i] = 1\n",
    "        \n",
    "    return stress, stability"
   ]
  },
  {
   "cell_type": "code",
   "execution_count": 41,
   "metadata": {},
   "outputs": [
    {
     "data": {
      "text/html": [
       "<div>\n",
       "<style scoped>\n",
       "    .dataframe tbody tr th:only-of-type {\n",
       "        vertical-align: middle;\n",
       "    }\n",
       "\n",
       "    .dataframe tbody tr th {\n",
       "        vertical-align: top;\n",
       "    }\n",
       "\n",
       "    .dataframe thead th {\n",
       "        text-align: right;\n",
       "    }\n",
       "</style>\n",
       "<table border=\"1\" class=\"dataframe\">\n",
       "  <thead>\n",
       "    <tr style=\"text-align: right;\">\n",
       "      <th></th>\n",
       "      <th>Sensitivity_AreaUnderCereals_Paddy_190</th>\n",
       "      <th>Sensitivity_TotalNPK_315</th>\n",
       "      <th>Sensitivity_NetAreaIrrigated_Canals_NetAreaIrrigated_173</th>\n",
       "      <th>AreaUnderCereals_Paddy_190</th>\n",
       "      <th>TotalNPK_315</th>\n",
       "      <th>NetAreaIrrigated_Canals_NetAreaIrrigated_173</th>\n",
       "      <th>Beta_1</th>\n",
       "      <th>Beta_2</th>\n",
       "      <th>Beta_3</th>\n",
       "      <th>New_F1</th>\n",
       "      <th>New_F2</th>\n",
       "      <th>New_F3</th>\n",
       "      <th>District</th>\n",
       "      <th>New_Production</th>\n",
       "      <th>Normalized_New_Prouction</th>\n",
       "    </tr>\n",
       "  </thead>\n",
       "  <tbody>\n",
       "    <tr>\n",
       "      <th>0</th>\n",
       "      <td>0.0</td>\n",
       "      <td>0.0</td>\n",
       "      <td>0.0</td>\n",
       "      <td>782.0</td>\n",
       "      <td>513.822990</td>\n",
       "      <td>0.000000</td>\n",
       "      <td>3.159514</td>\n",
       "      <td>0.987727</td>\n",
       "      <td>2.646305</td>\n",
       "      <td>782.000000</td>\n",
       "      <td>513.822990</td>\n",
       "      <td>0.000000</td>\n",
       "      <td>BENGALURU</td>\n",
       "      <td>2978.256785</td>\n",
       "      <td>0.005455</td>\n",
       "    </tr>\n",
       "    <tr>\n",
       "      <th>1</th>\n",
       "      <td>0.0</td>\n",
       "      <td>0.0</td>\n",
       "      <td>0.0</td>\n",
       "      <td>736.0</td>\n",
       "      <td>167.835355</td>\n",
       "      <td>0.000000</td>\n",
       "      <td>3.159514</td>\n",
       "      <td>0.987727</td>\n",
       "      <td>2.646305</td>\n",
       "      <td>736.000000</td>\n",
       "      <td>167.835355</td>\n",
       "      <td>0.000000</td>\n",
       "      <td>BENGALURU(R)</td>\n",
       "      <td>2491.177898</td>\n",
       "      <td>0.004529</td>\n",
       "    </tr>\n",
       "    <tr>\n",
       "      <th>2</th>\n",
       "      <td>0.0</td>\n",
       "      <td>0.0</td>\n",
       "      <td>0.0</td>\n",
       "      <td>4468.0</td>\n",
       "      <td>257.908893</td>\n",
       "      <td>272.509463</td>\n",
       "      <td>3.159514</td>\n",
       "      <td>0.987727</td>\n",
       "      <td>2.646305</td>\n",
       "      <td>4468.000000</td>\n",
       "      <td>257.908893</td>\n",
       "      <td>272.509463</td>\n",
       "      <td>RAMANAGARA</td>\n",
       "      <td>15092.595963</td>\n",
       "      <td>0.028490</td>\n",
       "    </tr>\n",
       "    <tr>\n",
       "      <th>3</th>\n",
       "      <td>0.0</td>\n",
       "      <td>0.0</td>\n",
       "      <td>0.0</td>\n",
       "      <td>1297.0</td>\n",
       "      <td>183.032957</td>\n",
       "      <td>9.283245</td>\n",
       "      <td>3.159514</td>\n",
       "      <td>0.987727</td>\n",
       "      <td>2.646305</td>\n",
       "      <td>1297.000000</td>\n",
       "      <td>183.032957</td>\n",
       "      <td>9.283245</td>\n",
       "      <td>CHITRADURGA</td>\n",
       "      <td>4303.242726</td>\n",
       "      <td>0.007975</td>\n",
       "    </tr>\n",
       "    <tr>\n",
       "      <th>4</th>\n",
       "      <td>0.0</td>\n",
       "      <td>0.0</td>\n",
       "      <td>0.0</td>\n",
       "      <td>98259.0</td>\n",
       "      <td>21197.529550</td>\n",
       "      <td>18037.386430</td>\n",
       "      <td>3.159514</td>\n",
       "      <td>0.987727</td>\n",
       "      <td>2.646305</td>\n",
       "      <td>98259.000000</td>\n",
       "      <td>21197.529550</td>\n",
       "      <td>18037.386430</td>\n",
       "      <td>DAVANAGERE</td>\n",
       "      <td>379120.493608</td>\n",
       "      <td>0.720680</td>\n",
       "    </tr>\n",
       "    <tr>\n",
       "      <th>...</th>\n",
       "      <td>...</td>\n",
       "      <td>...</td>\n",
       "      <td>...</td>\n",
       "      <td>...</td>\n",
       "      <td>...</td>\n",
       "      <td>...</td>\n",
       "      <td>...</td>\n",
       "      <td>...</td>\n",
       "      <td>...</td>\n",
       "      <td>...</td>\n",
       "      <td>...</td>\n",
       "      <td>...</td>\n",
       "      <td>...</td>\n",
       "      <td>...</td>\n",
       "      <td>...</td>\n",
       "    </tr>\n",
       "    <tr>\n",
       "      <th>41256</th>\n",
       "      <td>1.0</td>\n",
       "      <td>1.0</td>\n",
       "      <td>1.0</td>\n",
       "      <td>4199.0</td>\n",
       "      <td>383.098388</td>\n",
       "      <td>148.020607</td>\n",
       "      <td>3.159514</td>\n",
       "      <td>0.987727</td>\n",
       "      <td>2.646305</td>\n",
       "      <td>5781.521781</td>\n",
       "      <td>5445.227279</td>\n",
       "      <td>2037.447645</td>\n",
       "      <td>KALABURAGI</td>\n",
       "      <td>29036.904194</td>\n",
       "      <td>0.055005</td>\n",
       "    </tr>\n",
       "    <tr>\n",
       "      <th>41257</th>\n",
       "      <td>1.0</td>\n",
       "      <td>1.0</td>\n",
       "      <td>1.0</td>\n",
       "      <td>49358.0</td>\n",
       "      <td>30981.381240</td>\n",
       "      <td>30897.307860</td>\n",
       "      <td>3.159514</td>\n",
       "      <td>0.987727</td>\n",
       "      <td>2.646305</td>\n",
       "      <td>50940.521781</td>\n",
       "      <td>36043.510131</td>\n",
       "      <td>32786.734898</td>\n",
       "      <td>YADGIRI</td>\n",
       "      <td>283312.135642</td>\n",
       "      <td>0.538503</td>\n",
       "    </tr>\n",
       "    <tr>\n",
       "      <th>41258</th>\n",
       "      <td>1.0</td>\n",
       "      <td>1.0</td>\n",
       "      <td>1.0</td>\n",
       "      <td>115246.0</td>\n",
       "      <td>41912.073070</td>\n",
       "      <td>39866.073200</td>\n",
       "      <td>3.159514</td>\n",
       "      <td>0.987727</td>\n",
       "      <td>2.646305</td>\n",
       "      <td>116828.521781</td>\n",
       "      <td>46974.201961</td>\n",
       "      <td>41755.500238</td>\n",
       "      <td>RAICHUR</td>\n",
       "      <td>526016.829590</td>\n",
       "      <td>1.000000</td>\n",
       "    </tr>\n",
       "    <tr>\n",
       "      <th>41259</th>\n",
       "      <td>1.0</td>\n",
       "      <td>1.0</td>\n",
       "      <td>1.0</td>\n",
       "      <td>50753.0</td>\n",
       "      <td>14075.849460</td>\n",
       "      <td>7221.642581</td>\n",
       "      <td>3.159514</td>\n",
       "      <td>0.987727</td>\n",
       "      <td>2.646305</td>\n",
       "      <td>52335.521781</td>\n",
       "      <td>19137.978351</td>\n",
       "      <td>9111.069619</td>\n",
       "      <td>KOPPAL</td>\n",
       "      <td>208368.583671</td>\n",
       "      <td>0.396000</td>\n",
       "    </tr>\n",
       "    <tr>\n",
       "      <th>41260</th>\n",
       "      <td>1.0</td>\n",
       "      <td>1.0</td>\n",
       "      <td>1.0</td>\n",
       "      <td>46832.5</td>\n",
       "      <td>16648.820500</td>\n",
       "      <td>10476.570900</td>\n",
       "      <td>3.159514</td>\n",
       "      <td>0.987727</td>\n",
       "      <td>2.646305</td>\n",
       "      <td>48415.021781</td>\n",
       "      <td>21710.949391</td>\n",
       "      <td>12365.997938</td>\n",
       "      <td>VIJAYANAGARA</td>\n",
       "      <td>207136.633321</td>\n",
       "      <td>0.393657</td>\n",
       "    </tr>\n",
       "  </tbody>\n",
       "</table>\n",
       "<p>41261 rows × 15 columns</p>\n",
       "</div>"
      ],
      "text/plain": [
       "       Sensitivity_AreaUnderCereals_Paddy_190  Sensitivity_TotalNPK_315  \\\n",
       "0                                         0.0                       0.0   \n",
       "1                                         0.0                       0.0   \n",
       "2                                         0.0                       0.0   \n",
       "3                                         0.0                       0.0   \n",
       "4                                         0.0                       0.0   \n",
       "...                                       ...                       ...   \n",
       "41256                                     1.0                       1.0   \n",
       "41257                                     1.0                       1.0   \n",
       "41258                                     1.0                       1.0   \n",
       "41259                                     1.0                       1.0   \n",
       "41260                                     1.0                       1.0   \n",
       "\n",
       "       Sensitivity_NetAreaIrrigated_Canals_NetAreaIrrigated_173  \\\n",
       "0                                                    0.0          \n",
       "1                                                    0.0          \n",
       "2                                                    0.0          \n",
       "3                                                    0.0          \n",
       "4                                                    0.0          \n",
       "...                                                  ...          \n",
       "41256                                                1.0          \n",
       "41257                                                1.0          \n",
       "41258                                                1.0          \n",
       "41259                                                1.0          \n",
       "41260                                                1.0          \n",
       "\n",
       "       AreaUnderCereals_Paddy_190  TotalNPK_315  \\\n",
       "0                           782.0    513.822990   \n",
       "1                           736.0    167.835355   \n",
       "2                          4468.0    257.908893   \n",
       "3                          1297.0    183.032957   \n",
       "4                         98259.0  21197.529550   \n",
       "...                           ...           ...   \n",
       "41256                      4199.0    383.098388   \n",
       "41257                     49358.0  30981.381240   \n",
       "41258                    115246.0  41912.073070   \n",
       "41259                     50753.0  14075.849460   \n",
       "41260                     46832.5  16648.820500   \n",
       "\n",
       "       NetAreaIrrigated_Canals_NetAreaIrrigated_173    Beta_1    Beta_2  \\\n",
       "0                                          0.000000  3.159514  0.987727   \n",
       "1                                          0.000000  3.159514  0.987727   \n",
       "2                                        272.509463  3.159514  0.987727   \n",
       "3                                          9.283245  3.159514  0.987727   \n",
       "4                                      18037.386430  3.159514  0.987727   \n",
       "...                                             ...       ...       ...   \n",
       "41256                                    148.020607  3.159514  0.987727   \n",
       "41257                                  30897.307860  3.159514  0.987727   \n",
       "41258                                  39866.073200  3.159514  0.987727   \n",
       "41259                                   7221.642581  3.159514  0.987727   \n",
       "41260                                  10476.570900  3.159514  0.987727   \n",
       "\n",
       "         Beta_3         New_F1        New_F2        New_F3      District  \\\n",
       "0      2.646305     782.000000    513.822990      0.000000     BENGALURU   \n",
       "1      2.646305     736.000000    167.835355      0.000000  BENGALURU(R)   \n",
       "2      2.646305    4468.000000    257.908893    272.509463    RAMANAGARA   \n",
       "3      2.646305    1297.000000    183.032957      9.283245   CHITRADURGA   \n",
       "4      2.646305   98259.000000  21197.529550  18037.386430    DAVANAGERE   \n",
       "...         ...            ...           ...           ...           ...   \n",
       "41256  2.646305    5781.521781   5445.227279   2037.447645    KALABURAGI   \n",
       "41257  2.646305   50940.521781  36043.510131  32786.734898       YADGIRI   \n",
       "41258  2.646305  116828.521781  46974.201961  41755.500238       RAICHUR   \n",
       "41259  2.646305   52335.521781  19137.978351   9111.069619        KOPPAL   \n",
       "41260  2.646305   48415.021781  21710.949391  12365.997938  VIJAYANAGARA   \n",
       "\n",
       "       New_Production  Normalized_New_Prouction  \n",
       "0         2978.256785                  0.005455  \n",
       "1         2491.177898                  0.004529  \n",
       "2        15092.595963                  0.028490  \n",
       "3         4303.242726                  0.007975  \n",
       "4       379120.493608                  0.720680  \n",
       "...               ...                       ...  \n",
       "41256    29036.904194                  0.055005  \n",
       "41257   283312.135642                  0.538503  \n",
       "41258   526016.829590                  1.000000  \n",
       "41259   208368.583671                  0.396000  \n",
       "41260   207136.633321                  0.393657  \n",
       "\n",
       "[41261 rows x 15 columns]"
      ]
     },
     "execution_count": 41,
     "metadata": {},
     "output_type": "execute_result"
    }
   ],
   "source": [
    "result_df['Normalized_New_Prouction'] = normalize_list(result_df['New_Production'])\n",
    "result_df"
   ]
  },
  {
   "cell_type": "code",
   "execution_count": 54,
   "metadata": {},
   "outputs": [
    {
     "name": "stdout",
     "output_type": "stream",
     "text": [
      "161051\n",
      "28\n",
      "4509428 4509428\n"
     ]
    }
   ],
   "source": [
    "stress_values_list = []\n",
    "stability_values_list = []\n",
    "\n",
    "# Define batch size\n",
    "batch_size = case_file_length\n",
    "\n",
    "# Iterate over the New_Production column in batches of 31\n",
    "num_batches = len(result_df) // batch_size\n",
    "\n",
    "for i in range(num_batches):\n",
    "    # Get the batch of 31 production values\n",
    "    start_idx = i * batch_size\n",
    "    end_idx = start_idx + batch_size\n",
    "    batch = normalize_list(result_df['New_Production'][start_idx:end_idx].values)\n",
    "    \n",
    "    # Calculate the stress and stability values for the batch\n",
    "    stress_batch, stability_batch = calculate_stress_stability(batch, adj_matrix_np)\n",
    "    \n",
    "    stress_values_list.extend(stress_batch)\n",
    "    stability_values_list.extend(stability_batch)\n",
    "\n",
    "\n",
    "print(num_batches)\n",
    "print(len(stress_batch))\n",
    "print(len(stress_values_list), len(stability_values_list))\n",
    "\n",
    "result_df['Stress_Values'] = stress_values_list\n",
    "result_df['Stability_Values'] = stability_values_list"
   ]
  },
  {
   "cell_type": "code",
   "execution_count": 55,
   "metadata": {},
   "outputs": [
    {
     "data": {
      "text/plain": [
       "Index(['Sensitivity_SowingSeedsDistributed_Maize_320',\n",
       "       'Sensitivity_LivestockCensus_2012_Cattle_354',\n",
       "       'Sensitivity_AreaUnderCereals_Maize_193', 'Sensitivity_TotalNPK_315',\n",
       "       'Sensitivity_NetAreaIrrigatedUnderDifferentSources_TubeWells_NetIrrigatedArea_182',\n",
       "       'SowingSeedsDistributed_Maize_320', 'LivestockCensus_2012_Cattle_354',\n",
       "       'AreaUnderCereals_Maize_193', 'TotalNPK_315',\n",
       "       'NetAreaIrrigatedUnderDifferentSources_TubeWells_NetIrrigatedArea_182',\n",
       "       'Beta_0', 'Beta_1', 'Beta_2', 'Beta_3', 'Beta_4', 'Beta_5', 'New_F1',\n",
       "       'New_F2', 'New_F3', 'New_F4', 'New_F5', 'District', 'New_Production',\n",
       "       'Stress_Values', 'Stability_Values'],\n",
       "      dtype='object')"
      ]
     },
     "execution_count": 55,
     "metadata": {},
     "output_type": "execute_result"
    }
   ],
   "source": [
    "result_df.columns"
   ]
  },
  {
   "cell_type": "code",
   "execution_count": 56,
   "metadata": {},
   "outputs": [],
   "source": [
    "viz_df = result_df[['District','Sensitivity_SowingSeedsDistributed_Maize_320','Sensitivity_LivestockCensus_2012_Cattle_354','Sensitivity_AreaUnderCereals_Maize_193',\n",
    "                    'Sensitivity_TotalNPK_315',\t'Sensitivity_NetAreaIrrigatedUnderDifferentSources_TubeWells_NetIrrigatedArea_182','New_Production','Stability_Values']].copy()\n",
    "\n",
    "abbreviation_mapping = {\n",
    "    'BENGALURU': 'BLR',\n",
    "    'BENGALURU(R)': 'BLR(R)',\n",
    "    'RAMANAGARA': 'RGA',\n",
    "    'CHITRADURGA': 'CDA',\n",
    "    'DAVANAGERE': 'DVG',\n",
    "    'KOLAR': 'KLR',\n",
    "    'CHIKKABALLAPURA': 'CKA',\n",
    "    'SHIVAMOGGA': 'SMG',\n",
    "    'TUMAKURU': 'TKR',\n",
    "    'CHIKKAMAGALURU': 'CMG',\n",
    "    'DAKSHINA KANNADA': 'DKA',\n",
    "    'UDUPI': 'UPI',\n",
    "    'HASSAN': 'HSN',\n",
    "    'KODAGU': 'KDG',\n",
    "    'MANDYA': 'MDY',\n",
    "    'MYSURU': 'MYS',\n",
    "    'CHAMARAJANAGAR': 'CNR',\n",
    "    'BELAGAVI': 'BLG',\n",
    "    'VIJAYAPURA': 'VJP',\n",
    "    'BAGALKOT': 'BKT',\n",
    "    'DHARAWAD': 'DWD',\n",
    "    'GADAG': 'GDG',\n",
    "    'HAVERI': 'HVR',\n",
    "    'UTTARA KANNADA': 'UTK',\n",
    "    'BALLARI': 'BLL',\n",
    "    'BIDAR': 'BDR',\n",
    "    'KALABURAGI': 'KLB',\n",
    "    'YADGIRI': 'YDR',\n",
    "    'RAICHUR': 'RCR',\n",
    "    'KOPPAL': 'KPL',\n",
    "    'Vijayanagara' : 'VJN'\n",
    "}\n",
    "\n",
    "viz_df['Abbreviation'] = viz_df['District'].map(abbreviation_mapping)\n",
    "\n",
    "legend_labels = [{'Abbreviation': abb, 'Full Form': full_form} \n",
    "                    for abb, full_form in zip(viz_df['Abbreviation'].unique(), viz_df['District'].unique())]"
   ]
  },
  {
   "cell_type": "code",
   "execution_count": 59,
   "metadata": {},
   "outputs": [],
   "source": [
    "viz_df['New_Production'] = viz_df['New_Production'].apply(lambda x: max(0, x))\n",
    "\n",
    "viz_df['Percentage Change'] = viz_df['New_Production'] - np.tile(y.values, len(viz_df) // case_file_length + 1)[:len(viz_df)]\n",
    "for i in range(0, len(viz_df), case_file_length):\n",
    "    viz_df.loc[i:i+case_file_length-1, 'Percentage Change'] = viz_df.loc[i:i+case_file_length-1, 'Percentage Change'] * 100 / y.values + 1e-9\n",
    "    viz_df.loc[i:i+case_file_length-1, 'Normalized Percentage Change'] = normalize_list(viz_df.loc[i:i+case_file_length-1, 'Percentage Change'])\n",
    "\n",
    "\n",
    "viz_df['Percentage Change'] = viz_df['Percentage Change'].replace([np.inf, -np.inf], 0)\n",
    "\n",
    "# viz_df['Normalized Percentage Change'] = normalize_list(viz_df['Percentage Change'])\n"
   ]
  },
  {
   "cell_type": "code",
   "execution_count": 61,
   "metadata": {},
   "outputs": [
    {
     "data": {
      "application/vnd.plotly.v1+json": {
       "config": {
        "plotlyServerURL": "https://plot.ly"
       },
       "data": [
        {
         "hovertemplate": "Stability=%{x}<br>Percentage Change=%{y}<br>Abbreviation=%{text}<extra></extra>",
         "legendgroup": "",
         "marker": {
          "color": "darkblue",
          "opacity": 1,
          "symbol": "circle"
         },
         "mode": "markers+text",
         "name": "",
         "orientation": "v",
         "showlegend": false,
         "text": [
          "BLR",
          "BLR(R)",
          "RGA",
          "CDA",
          "DVG",
          "KLR",
          "CKA",
          "SMG",
          "TKR",
          "CMG",
          "HSN",
          "KDG",
          "MDY",
          "MYS",
          "CNR",
          "BLG",
          "VJP",
          "BKT",
          "DWD",
          "GDG",
          "HVR",
          "UTK",
          "BLL",
          "BDR",
          "KLB",
          "RCR",
          "KPL",
          null
         ],
         "textfont": {
          "size": 11
         },
         "textposition": "top center",
         "type": "scatter",
         "x": [
          0.9272506577979457,
          0.986028141247005,
          0.8370863055418152,
          0.7689135259732152,
          0.2740420684183553,
          0.7357962579199955,
          0.7068752458910392,
          0.911027283042823,
          0.9415115899248659,
          0.7666915274860663,
          0.5924771224614351,
          0.7607655164322258,
          0.6442980153226632,
          0.8646517868719676,
          0.9065300810331232,
          0.46930055405109194,
          0.8851955608010548,
          0.9862756370975581,
          0.9609731409038231,
          0.9948301108286134,
          0.2804841616599021,
          0.725600244802117,
          0.8700654645510294,
          0.6500523642581924,
          0.5569144166033987,
          0.7983208347353673,
          0.9376247495544224,
          0.9413195572249832
         ],
         "xaxis": "x",
         "y": [
          -65.70410835862486,
          10.530319866508389,
          -35.263092387246395,
          -25.62437312250246,
          -39.99164391687931,
          -99.999999999,
          33.46414737496424,
          -40.86880546743414,
          -7.0897227715171445,
          -11.377813552281125,
          -42.984462929680305,
          -45.60272461601301,
          -58.72963624384806,
          -20.907251865934036,
          -17.821255211744056,
          -52.881721210461755,
          -59.15916514973304,
          -63.461596024028616,
          -30.038363649878434,
          -61.11385988717406,
          -26.216477929798824,
          -51.445084594045554,
          -13.916228793435561,
          -52.05245165356119,
          -52.058618229924484,
          178.45230815788196,
          -61.15996466786802,
          -13.916228793435561
         ],
         "yaxis": "y"
        },
        {
         "marker": {
          "color": "darkblue"
         },
         "mode": "markers",
         "name": "BLR: BENGALURU",
         "type": "scatter",
         "x": [
          null
         ],
         "y": [
          null
         ]
        },
        {
         "marker": {
          "color": "darkblue"
         },
         "mode": "markers",
         "name": "BLR(R): BENGALURU(R)",
         "type": "scatter",
         "x": [
          null
         ],
         "y": [
          null
         ]
        },
        {
         "marker": {
          "color": "darkblue"
         },
         "mode": "markers",
         "name": "RGA: RAMANAGARA",
         "type": "scatter",
         "x": [
          null
         ],
         "y": [
          null
         ]
        },
        {
         "marker": {
          "color": "darkblue"
         },
         "mode": "markers",
         "name": "CDA: CHITRADURGA",
         "type": "scatter",
         "x": [
          null
         ],
         "y": [
          null
         ]
        },
        {
         "marker": {
          "color": "darkblue"
         },
         "mode": "markers",
         "name": "DVG: DAVANAGERE",
         "type": "scatter",
         "x": [
          null
         ],
         "y": [
          null
         ]
        },
        {
         "marker": {
          "color": "darkblue"
         },
         "mode": "markers",
         "name": "KLR: KOLAR",
         "type": "scatter",
         "x": [
          null
         ],
         "y": [
          null
         ]
        },
        {
         "marker": {
          "color": "darkblue"
         },
         "mode": "markers",
         "name": "CKA: CHIKKABALLAPURA",
         "type": "scatter",
         "x": [
          null
         ],
         "y": [
          null
         ]
        },
        {
         "marker": {
          "color": "darkblue"
         },
         "mode": "markers",
         "name": "SMG: SHIVAMOGGA",
         "type": "scatter",
         "x": [
          null
         ],
         "y": [
          null
         ]
        },
        {
         "marker": {
          "color": "darkblue"
         },
         "mode": "markers",
         "name": "TKR: TUMAKURU",
         "type": "scatter",
         "x": [
          null
         ],
         "y": [
          null
         ]
        },
        {
         "marker": {
          "color": "darkblue"
         },
         "mode": "markers",
         "name": "CMG: CHIKKAMAGALURU",
         "type": "scatter",
         "x": [
          null
         ],
         "y": [
          null
         ]
        },
        {
         "marker": {
          "color": "darkblue"
         },
         "mode": "markers",
         "name": "HSN: HASSAN",
         "type": "scatter",
         "x": [
          null
         ],
         "y": [
          null
         ]
        },
        {
         "marker": {
          "color": "darkblue"
         },
         "mode": "markers",
         "name": "KDG: KODAGU",
         "type": "scatter",
         "x": [
          null
         ],
         "y": [
          null
         ]
        },
        {
         "marker": {
          "color": "darkblue"
         },
         "mode": "markers",
         "name": "MDY: MANDYA",
         "type": "scatter",
         "x": [
          null
         ],
         "y": [
          null
         ]
        },
        {
         "marker": {
          "color": "darkblue"
         },
         "mode": "markers",
         "name": "MYS: MYSURU",
         "type": "scatter",
         "x": [
          null
         ],
         "y": [
          null
         ]
        },
        {
         "marker": {
          "color": "darkblue"
         },
         "mode": "markers",
         "name": "CNR: CHAMARAJANAGAR",
         "type": "scatter",
         "x": [
          null
         ],
         "y": [
          null
         ]
        },
        {
         "marker": {
          "color": "darkblue"
         },
         "mode": "markers",
         "name": "BLG: BELAGAVI",
         "type": "scatter",
         "x": [
          null
         ],
         "y": [
          null
         ]
        },
        {
         "marker": {
          "color": "darkblue"
         },
         "mode": "markers",
         "name": "VJP: VIJAYAPURA",
         "type": "scatter",
         "x": [
          null
         ],
         "y": [
          null
         ]
        },
        {
         "marker": {
          "color": "darkblue"
         },
         "mode": "markers",
         "name": "BKT: BAGALKOT",
         "type": "scatter",
         "x": [
          null
         ],
         "y": [
          null
         ]
        },
        {
         "marker": {
          "color": "darkblue"
         },
         "mode": "markers",
         "name": "DWD: DHARAWAD",
         "type": "scatter",
         "x": [
          null
         ],
         "y": [
          null
         ]
        },
        {
         "marker": {
          "color": "darkblue"
         },
         "mode": "markers",
         "name": "GDG: GADAG",
         "type": "scatter",
         "x": [
          null
         ],
         "y": [
          null
         ]
        },
        {
         "marker": {
          "color": "darkblue"
         },
         "mode": "markers",
         "name": "HVR: HAVERI",
         "type": "scatter",
         "x": [
          null
         ],
         "y": [
          null
         ]
        },
        {
         "marker": {
          "color": "darkblue"
         },
         "mode": "markers",
         "name": "UTK: UTTARA KANNADA",
         "type": "scatter",
         "x": [
          null
         ],
         "y": [
          null
         ]
        },
        {
         "marker": {
          "color": "darkblue"
         },
         "mode": "markers",
         "name": "BLL: BALLARI",
         "type": "scatter",
         "x": [
          null
         ],
         "y": [
          null
         ]
        },
        {
         "marker": {
          "color": "darkblue"
         },
         "mode": "markers",
         "name": "BDR: BIDAR",
         "type": "scatter",
         "x": [
          null
         ],
         "y": [
          null
         ]
        },
        {
         "marker": {
          "color": "darkblue"
         },
         "mode": "markers",
         "name": "KLB: KALABURAGI",
         "type": "scatter",
         "x": [
          null
         ],
         "y": [
          null
         ]
        },
        {
         "marker": {
          "color": "darkblue"
         },
         "mode": "markers",
         "name": "RCR: RAICHUR",
         "type": "scatter",
         "x": [
          null
         ],
         "y": [
          null
         ]
        },
        {
         "marker": {
          "color": "darkblue"
         },
         "mode": "markers",
         "name": "KPL: KOPPAL",
         "type": "scatter",
         "x": [
          null
         ],
         "y": [
          null
         ]
        },
        {
         "marker": {
          "color": "darkblue"
         },
         "mode": "markers",
         "name": "nan: VIJAYANAGARA",
         "type": "scatter",
         "x": [
          null
         ],
         "y": [
          null
         ]
        },
        {
         "mode": "text",
         "showlegend": false,
         "text": [
          "Avg Stability: 0.77"
         ],
         "textfont": {
          "size": 10.7
         },
         "type": "scatter",
         "x": [
          0.7743179258012891
         ],
         "y": [
          -0.07
         ]
        },
        {
         "mode": "text",
         "showlegend": false,
         "text": [
          "Avg Impact: -29.53"
         ],
         "textfont": {
          "size": 10.7
         },
         "type": "scatter",
         "x": [
          0.3
         ],
         "y": [
          -29.57349555809627
         ]
        }
       ],
       "layout": {
        "annotations": [
         {
          "font": {
           "size": 13
          },
          "showarrow": false,
          "text": "α<sub>MS</sub>: 0.50, α<sub>LV</sub>: 0.50, α<sub>AM</sub>: 0.50, α<sub>NPK</sub>: 0.50, α<sub>TBW</sub>: 0.50",
          "x": 0.5,
          "xref": "paper",
          "y": -0.25,
          "yref": "paper"
         }
        ],
        "legend": {
         "title": {
          "font": {
           "size": 12
          },
          "text": "Districts"
         },
         "tracegroupgap": 0
        },
        "shapes": [
         {
          "line": {
           "color": "red",
           "dash": "dash",
           "width": 1.5
          },
          "type": "line",
          "x0": 0.7743179258012891,
          "x1": 0.7743179258012891,
          "y0": 0,
          "y1": 1,
          "yref": "paper"
         },
         {
          "line": {
           "color": "red",
           "dash": "dash",
           "width": 1.5
          },
          "type": "line",
          "x0": 0,
          "x1": 1,
          "xref": "paper",
          "y0": -29.53349555809627,
          "y1": -29.53349555809627
         }
        ],
        "template": {
         "data": {
          "bar": [
           {
            "error_x": {
             "color": "#2a3f5f"
            },
            "error_y": {
             "color": "#2a3f5f"
            },
            "marker": {
             "line": {
              "color": "#E5ECF6",
              "width": 0.5
             },
             "pattern": {
              "fillmode": "overlay",
              "size": 10,
              "solidity": 0.2
             }
            },
            "type": "bar"
           }
          ],
          "barpolar": [
           {
            "marker": {
             "line": {
              "color": "#E5ECF6",
              "width": 0.5
             },
             "pattern": {
              "fillmode": "overlay",
              "size": 10,
              "solidity": 0.2
             }
            },
            "type": "barpolar"
           }
          ],
          "carpet": [
           {
            "aaxis": {
             "endlinecolor": "#2a3f5f",
             "gridcolor": "white",
             "linecolor": "white",
             "minorgridcolor": "white",
             "startlinecolor": "#2a3f5f"
            },
            "baxis": {
             "endlinecolor": "#2a3f5f",
             "gridcolor": "white",
             "linecolor": "white",
             "minorgridcolor": "white",
             "startlinecolor": "#2a3f5f"
            },
            "type": "carpet"
           }
          ],
          "choropleth": [
           {
            "colorbar": {
             "outlinewidth": 0,
             "ticks": ""
            },
            "type": "choropleth"
           }
          ],
          "contour": [
           {
            "colorbar": {
             "outlinewidth": 0,
             "ticks": ""
            },
            "colorscale": [
             [
              0,
              "#0d0887"
             ],
             [
              0.1111111111111111,
              "#46039f"
             ],
             [
              0.2222222222222222,
              "#7201a8"
             ],
             [
              0.3333333333333333,
              "#9c179e"
             ],
             [
              0.4444444444444444,
              "#bd3786"
             ],
             [
              0.5555555555555556,
              "#d8576b"
             ],
             [
              0.6666666666666666,
              "#ed7953"
             ],
             [
              0.7777777777777778,
              "#fb9f3a"
             ],
             [
              0.8888888888888888,
              "#fdca26"
             ],
             [
              1,
              "#f0f921"
             ]
            ],
            "type": "contour"
           }
          ],
          "contourcarpet": [
           {
            "colorbar": {
             "outlinewidth": 0,
             "ticks": ""
            },
            "type": "contourcarpet"
           }
          ],
          "heatmap": [
           {
            "colorbar": {
             "outlinewidth": 0,
             "ticks": ""
            },
            "colorscale": [
             [
              0,
              "#0d0887"
             ],
             [
              0.1111111111111111,
              "#46039f"
             ],
             [
              0.2222222222222222,
              "#7201a8"
             ],
             [
              0.3333333333333333,
              "#9c179e"
             ],
             [
              0.4444444444444444,
              "#bd3786"
             ],
             [
              0.5555555555555556,
              "#d8576b"
             ],
             [
              0.6666666666666666,
              "#ed7953"
             ],
             [
              0.7777777777777778,
              "#fb9f3a"
             ],
             [
              0.8888888888888888,
              "#fdca26"
             ],
             [
              1,
              "#f0f921"
             ]
            ],
            "type": "heatmap"
           }
          ],
          "heatmapgl": [
           {
            "colorbar": {
             "outlinewidth": 0,
             "ticks": ""
            },
            "colorscale": [
             [
              0,
              "#0d0887"
             ],
             [
              0.1111111111111111,
              "#46039f"
             ],
             [
              0.2222222222222222,
              "#7201a8"
             ],
             [
              0.3333333333333333,
              "#9c179e"
             ],
             [
              0.4444444444444444,
              "#bd3786"
             ],
             [
              0.5555555555555556,
              "#d8576b"
             ],
             [
              0.6666666666666666,
              "#ed7953"
             ],
             [
              0.7777777777777778,
              "#fb9f3a"
             ],
             [
              0.8888888888888888,
              "#fdca26"
             ],
             [
              1,
              "#f0f921"
             ]
            ],
            "type": "heatmapgl"
           }
          ],
          "histogram": [
           {
            "marker": {
             "pattern": {
              "fillmode": "overlay",
              "size": 10,
              "solidity": 0.2
             }
            },
            "type": "histogram"
           }
          ],
          "histogram2d": [
           {
            "colorbar": {
             "outlinewidth": 0,
             "ticks": ""
            },
            "colorscale": [
             [
              0,
              "#0d0887"
             ],
             [
              0.1111111111111111,
              "#46039f"
             ],
             [
              0.2222222222222222,
              "#7201a8"
             ],
             [
              0.3333333333333333,
              "#9c179e"
             ],
             [
              0.4444444444444444,
              "#bd3786"
             ],
             [
              0.5555555555555556,
              "#d8576b"
             ],
             [
              0.6666666666666666,
              "#ed7953"
             ],
             [
              0.7777777777777778,
              "#fb9f3a"
             ],
             [
              0.8888888888888888,
              "#fdca26"
             ],
             [
              1,
              "#f0f921"
             ]
            ],
            "type": "histogram2d"
           }
          ],
          "histogram2dcontour": [
           {
            "colorbar": {
             "outlinewidth": 0,
             "ticks": ""
            },
            "colorscale": [
             [
              0,
              "#0d0887"
             ],
             [
              0.1111111111111111,
              "#46039f"
             ],
             [
              0.2222222222222222,
              "#7201a8"
             ],
             [
              0.3333333333333333,
              "#9c179e"
             ],
             [
              0.4444444444444444,
              "#bd3786"
             ],
             [
              0.5555555555555556,
              "#d8576b"
             ],
             [
              0.6666666666666666,
              "#ed7953"
             ],
             [
              0.7777777777777778,
              "#fb9f3a"
             ],
             [
              0.8888888888888888,
              "#fdca26"
             ],
             [
              1,
              "#f0f921"
             ]
            ],
            "type": "histogram2dcontour"
           }
          ],
          "mesh3d": [
           {
            "colorbar": {
             "outlinewidth": 0,
             "ticks": ""
            },
            "type": "mesh3d"
           }
          ],
          "parcoords": [
           {
            "line": {
             "colorbar": {
              "outlinewidth": 0,
              "ticks": ""
             }
            },
            "type": "parcoords"
           }
          ],
          "pie": [
           {
            "automargin": true,
            "type": "pie"
           }
          ],
          "scatter": [
           {
            "fillpattern": {
             "fillmode": "overlay",
             "size": 10,
             "solidity": 0.2
            },
            "type": "scatter"
           }
          ],
          "scatter3d": [
           {
            "line": {
             "colorbar": {
              "outlinewidth": 0,
              "ticks": ""
             }
            },
            "marker": {
             "colorbar": {
              "outlinewidth": 0,
              "ticks": ""
             }
            },
            "type": "scatter3d"
           }
          ],
          "scattercarpet": [
           {
            "marker": {
             "colorbar": {
              "outlinewidth": 0,
              "ticks": ""
             }
            },
            "type": "scattercarpet"
           }
          ],
          "scattergeo": [
           {
            "marker": {
             "colorbar": {
              "outlinewidth": 0,
              "ticks": ""
             }
            },
            "type": "scattergeo"
           }
          ],
          "scattergl": [
           {
            "marker": {
             "colorbar": {
              "outlinewidth": 0,
              "ticks": ""
             }
            },
            "type": "scattergl"
           }
          ],
          "scattermapbox": [
           {
            "marker": {
             "colorbar": {
              "outlinewidth": 0,
              "ticks": ""
             }
            },
            "type": "scattermapbox"
           }
          ],
          "scatterpolar": [
           {
            "marker": {
             "colorbar": {
              "outlinewidth": 0,
              "ticks": ""
             }
            },
            "type": "scatterpolar"
           }
          ],
          "scatterpolargl": [
           {
            "marker": {
             "colorbar": {
              "outlinewidth": 0,
              "ticks": ""
             }
            },
            "type": "scatterpolargl"
           }
          ],
          "scatterternary": [
           {
            "marker": {
             "colorbar": {
              "outlinewidth": 0,
              "ticks": ""
             }
            },
            "type": "scatterternary"
           }
          ],
          "surface": [
           {
            "colorbar": {
             "outlinewidth": 0,
             "ticks": ""
            },
            "colorscale": [
             [
              0,
              "#0d0887"
             ],
             [
              0.1111111111111111,
              "#46039f"
             ],
             [
              0.2222222222222222,
              "#7201a8"
             ],
             [
              0.3333333333333333,
              "#9c179e"
             ],
             [
              0.4444444444444444,
              "#bd3786"
             ],
             [
              0.5555555555555556,
              "#d8576b"
             ],
             [
              0.6666666666666666,
              "#ed7953"
             ],
             [
              0.7777777777777778,
              "#fb9f3a"
             ],
             [
              0.8888888888888888,
              "#fdca26"
             ],
             [
              1,
              "#f0f921"
             ]
            ],
            "type": "surface"
           }
          ],
          "table": [
           {
            "cells": {
             "fill": {
              "color": "#EBF0F8"
             },
             "line": {
              "color": "white"
             }
            },
            "header": {
             "fill": {
              "color": "#C8D4E3"
             },
             "line": {
              "color": "white"
             }
            },
            "type": "table"
           }
          ]
         },
         "layout": {
          "annotationdefaults": {
           "arrowcolor": "#2a3f5f",
           "arrowhead": 0,
           "arrowwidth": 1
          },
          "autotypenumbers": "strict",
          "coloraxis": {
           "colorbar": {
            "outlinewidth": 0,
            "ticks": ""
           }
          },
          "colorscale": {
           "diverging": [
            [
             0,
             "#8e0152"
            ],
            [
             0.1,
             "#c51b7d"
            ],
            [
             0.2,
             "#de77ae"
            ],
            [
             0.3,
             "#f1b6da"
            ],
            [
             0.4,
             "#fde0ef"
            ],
            [
             0.5,
             "#f7f7f7"
            ],
            [
             0.6,
             "#e6f5d0"
            ],
            [
             0.7,
             "#b8e186"
            ],
            [
             0.8,
             "#7fbc41"
            ],
            [
             0.9,
             "#4d9221"
            ],
            [
             1,
             "#276419"
            ]
           ],
           "sequential": [
            [
             0,
             "#0d0887"
            ],
            [
             0.1111111111111111,
             "#46039f"
            ],
            [
             0.2222222222222222,
             "#7201a8"
            ],
            [
             0.3333333333333333,
             "#9c179e"
            ],
            [
             0.4444444444444444,
             "#bd3786"
            ],
            [
             0.5555555555555556,
             "#d8576b"
            ],
            [
             0.6666666666666666,
             "#ed7953"
            ],
            [
             0.7777777777777778,
             "#fb9f3a"
            ],
            [
             0.8888888888888888,
             "#fdca26"
            ],
            [
             1,
             "#f0f921"
            ]
           ],
           "sequentialminus": [
            [
             0,
             "#0d0887"
            ],
            [
             0.1111111111111111,
             "#46039f"
            ],
            [
             0.2222222222222222,
             "#7201a8"
            ],
            [
             0.3333333333333333,
             "#9c179e"
            ],
            [
             0.4444444444444444,
             "#bd3786"
            ],
            [
             0.5555555555555556,
             "#d8576b"
            ],
            [
             0.6666666666666666,
             "#ed7953"
            ],
            [
             0.7777777777777778,
             "#fb9f3a"
            ],
            [
             0.8888888888888888,
             "#fdca26"
            ],
            [
             1,
             "#f0f921"
            ]
           ]
          },
          "colorway": [
           "#636efa",
           "#EF553B",
           "#00cc96",
           "#ab63fa",
           "#FFA15A",
           "#19d3f3",
           "#FF6692",
           "#B6E880",
           "#FF97FF",
           "#FECB52"
          ],
          "font": {
           "color": "#2a3f5f"
          },
          "geo": {
           "bgcolor": "white",
           "lakecolor": "white",
           "landcolor": "#E5ECF6",
           "showlakes": true,
           "showland": true,
           "subunitcolor": "white"
          },
          "hoverlabel": {
           "align": "left"
          },
          "hovermode": "closest",
          "mapbox": {
           "style": "light"
          },
          "paper_bgcolor": "white",
          "plot_bgcolor": "#E5ECF6",
          "polar": {
           "angularaxis": {
            "gridcolor": "white",
            "linecolor": "white",
            "ticks": ""
           },
           "bgcolor": "#E5ECF6",
           "radialaxis": {
            "gridcolor": "white",
            "linecolor": "white",
            "ticks": ""
           }
          },
          "scene": {
           "xaxis": {
            "backgroundcolor": "#E5ECF6",
            "gridcolor": "white",
            "gridwidth": 2,
            "linecolor": "white",
            "showbackground": true,
            "ticks": "",
            "zerolinecolor": "white"
           },
           "yaxis": {
            "backgroundcolor": "#E5ECF6",
            "gridcolor": "white",
            "gridwidth": 2,
            "linecolor": "white",
            "showbackground": true,
            "ticks": "",
            "zerolinecolor": "white"
           },
           "zaxis": {
            "backgroundcolor": "#E5ECF6",
            "gridcolor": "white",
            "gridwidth": 2,
            "linecolor": "white",
            "showbackground": true,
            "ticks": "",
            "zerolinecolor": "white"
           }
          },
          "shapedefaults": {
           "line": {
            "color": "#2a3f5f"
           }
          },
          "ternary": {
           "aaxis": {
            "gridcolor": "white",
            "linecolor": "white",
            "ticks": ""
           },
           "baxis": {
            "gridcolor": "white",
            "linecolor": "white",
            "ticks": ""
           },
           "bgcolor": "#E5ECF6",
           "caxis": {
            "gridcolor": "white",
            "linecolor": "white",
            "ticks": ""
           }
          },
          "title": {
           "x": 0.05
          },
          "xaxis": {
           "automargin": true,
           "gridcolor": "white",
           "linecolor": "white",
           "ticks": "",
           "title": {
            "standoff": 15
           },
           "zerolinecolor": "white",
           "zerolinewidth": 2
          },
          "yaxis": {
           "automargin": true,
           "gridcolor": "white",
           "linecolor": "white",
           "ticks": "",
           "title": {
            "standoff": 15
           },
           "zerolinecolor": "white",
           "zerolinewidth": 2
          }
         }
        },
        "title": {
         "text": "Maize Percentage Change vs Stability"
        },
        "xaxis": {
         "anchor": "y",
         "domain": [
          0,
          1
         ],
         "title": {
          "text": "Stability"
         }
        },
        "yaxis": {
         "anchor": "x",
         "domain": [
          0,
          1
         ],
         "title": {
          "text": "Percentage Change"
         }
        }
       }
      }
     },
     "metadata": {},
     "output_type": "display_data"
    },
    {
     "data": {
      "application/vnd.jupyter.widget-view+json": {
       "model_id": "e08682c31c9b4fb6a061a8a94624dddd",
       "version_major": 2,
       "version_minor": 0
      },
      "text/plain": [
       "interactive(children=(FloatSlider(value=0.5, description='αMS:', max=1.0), FloatSlider(value=0.5, description=…"
      ]
     },
     "metadata": {},
     "output_type": "display_data"
    },
    {
     "data": {
      "application/vnd.jupyter.widget-view+json": {
       "model_id": "f39de3ad0a9f47c2b10eb0e982f94c1f",
       "version_major": 2,
       "version_minor": 0
      },
      "text/plain": [
       "HBox(children=(Button(description='Update Plot', style=ButtonStyle()), FloatSlider(value=0.5, description='αMS…"
      ]
     },
     "execution_count": 61,
     "metadata": {},
     "output_type": "execute_result"
    }
   ],
   "source": [
    "import pandas as pd\n",
    "import plotly.express as px\n",
    "import ipywidgets as widgets\n",
    "from ipywidgets import interact\n",
    "from IPython.display import clear_output\n",
    "import plotly.graph_objects as go\n",
    "\n",
    "def update_plot(alpha1, alpha2, alpha3, alpha4, alpha5):\n",
    "    \n",
    "    tolerance = 1e-5 \n",
    "    filtered_df = viz_df[\n",
    "        (viz_df['Sensitivity_SowingSeedsDistributed_Maize_320'].between(alpha1 - tolerance, alpha1 + tolerance)) &\n",
    "        (viz_df['Sensitivity_LivestockCensus_2012_Cattle_354'].between(alpha2 - tolerance, alpha2 + tolerance)) &\n",
    "        (viz_df['Sensitivity_AreaUnderCereals_Maize_193'].between(alpha3 - tolerance, alpha3 + tolerance)) & \n",
    "        (viz_df['Sensitivity_TotalNPK_315'].between(alpha4 - tolerance, alpha4 + tolerance)) &\n",
    "        (viz_df['Sensitivity_NetAreaIrrigatedUnderDifferentSources_TubeWells_NetIrrigatedArea_182'].between(alpha5 - tolerance, alpha5 + tolerance))\n",
    "    ]\n",
    "\n",
    "    # Create a scatter plot with filtered data\n",
    "    fig = px.scatter(filtered_df, x='Stability_Values', y='Percentage Change', title='Maize Percentage Change vs Stability',\n",
    "                     labels={'Percentage Change': 'Percentage Change', 'Stability_Values': 'Stability'},\n",
    "                     text='Abbreviation', opacity=1, color_discrete_sequence=['darkblue'])\n",
    "\n",
    "    fig.update_traces(textposition='top center', textfont=dict(size=11))\n",
    "\n",
    "    # Update layout to add annotations and legends\n",
    "    fig.update_layout(\n",
    "        annotations=[\n",
    "            dict(\n",
    "                x=0.5,\n",
    "                y=-0.25,\n",
    "                showarrow=False,\n",
    "                text=f'α<sub>MS</sub>: {alpha1:.2f}, α<sub>LV</sub>: {alpha2:.2f}, α<sub>AM</sub>: {alpha3:.2f}, α<sub>NPK</sub>: {alpha4:.2f}, α<sub>TBW</sub>: {alpha5:.2f}',\n",
    "                xref=\"paper\",\n",
    "                yref=\"paper\",\n",
    "                font=dict(size=13)\n",
    "            )\n",
    "        ],\n",
    "        legend_title_text='Districts',\n",
    "        legend_title=dict(font=dict(size=12)),\n",
    "    )\n",
    "\n",
    "    # Adding custom legends with abbreviations and full forms\n",
    "    legend_labels = [{'Abbreviation': abb, 'Full Form': full_form} \n",
    "                     for abb, full_form in zip(filtered_df['Abbreviation'].unique(), filtered_df['District'].unique())]\n",
    "\n",
    "    for label in legend_labels:\n",
    "        fig.add_trace(go.Scatter(\n",
    "            x=[None],\n",
    "            y=[None],\n",
    "            mode='markers',\n",
    "            marker=dict(color='darkblue'),\n",
    "            name=f\"{label['Abbreviation']}: {label['Full Form']}\"\n",
    "        ))\n",
    "\n",
    "    # Adding average lines for stability and percentage change\n",
    "    avg_stability = filtered_df['Stability_Values'].mean()\n",
    "    avg_precent = filtered_df['Percentage Change'].mean()\n",
    "\n",
    "    fig.add_shape(\n",
    "        type='line',\n",
    "        x0=avg_stability, y0=0, x1=avg_stability, y1=1,\n",
    "        line=dict(color='red', width=1.5, dash='dash'),\n",
    "        yref='paper'\n",
    "    )\n",
    "\n",
    "    fig.add_shape(\n",
    "        type='line',\n",
    "        x0=0, y0=avg_precent, x1=1, y1=avg_precent,\n",
    "        line=dict(color='red', width=1.5, dash='dash'),\n",
    "        xref='paper'\n",
    "    )\n",
    "\n",
    "    # Add annotations for average values\n",
    "    fig.add_trace(go.Scatter(\n",
    "        x=[avg_stability],\n",
    "        y=[-0.07],\n",
    "        text=[f'Avg Stability: {avg_stability:.2f}'],\n",
    "        mode=\"text\",\n",
    "        showlegend=False,\n",
    "        textfont=dict(size=10.7)\n",
    "    ))\n",
    "\n",
    "    fig.add_trace(go.Scatter(\n",
    "        x=[0.3],\n",
    "        y=[avg_precent-0.04],\n",
    "        text=[f'Avg Impact: {avg_precent:.2f}'],\n",
    "        mode=\"text\",\n",
    "        showlegend=False,\n",
    "        textfont=dict(size=10.7)\n",
    "    ))\n",
    "\n",
    "    clear_output()\n",
    "\n",
    "    display(fig)\n",
    "\n",
    "# Creating sliders for interaction\n",
    "alpha1_slider = widgets.FloatSlider(value=0.5, min=0, max=1, step=0.1, description='αMS:')\n",
    "alpha2_slider = widgets.FloatSlider(value=0.5, min=0, max=1, step=0.1, description='αLV:')\n",
    "alpha3_slider = widgets.FloatSlider(value=0.5, min=0, max=1, step=0.1, description='αAM:')\n",
    "alpha4_slider = widgets.FloatSlider(value=0.5, min=0, max=1, step=0.1, description='αNPK:')\n",
    "alpha5_slider = widgets.FloatSlider(value=0.5, min=0, max=1, step=0.1, description='αTBW:')\n",
    "\n",
    "# Creating interactive plot\n",
    "interactive_plot = interact(update_plot, alpha1=alpha1_slider, alpha2=alpha2_slider, alpha3=alpha3_slider, alpha4=alpha4_slider, alpha5=alpha5_slider)\n",
    "\n",
    "# Create update button to trigger plot update\n",
    "update_button = widgets.Button(description=\"Update Plot\")\n",
    "update_button.on_click(lambda _: update_plot(alpha1_slider.value, alpha2_slider.value, alpha3_slider.value, alpha4_slider.value, alpha5_slider.value))\n",
    "\n",
    "# Display the button and sliders\n",
    "widgets.HBox([update_button, alpha1_slider, alpha2_slider, alpha3_slider, alpha4_slider, alpha5_slider])\n"
   ]
  },
  {
   "cell_type": "code",
   "execution_count": 70,
   "metadata": {},
   "outputs": [],
   "source": [
    "result_df.to_csv('Rice_Prescriptive_5000.csv',index=False)"
   ]
  }
 ],
 "metadata": {
  "kernelspec": {
   "display_name": "Python 3",
   "language": "python",
   "name": "python3"
  },
  "language_info": {
   "codemirror_mode": {
    "name": "ipython",
    "version": 3
   },
   "file_extension": ".py",
   "mimetype": "text/x-python",
   "name": "python",
   "nbconvert_exporter": "python",
   "pygments_lexer": "ipython3",
   "version": "3.9.13"
  }
 },
 "nbformat": 4,
 "nbformat_minor": 2
}
