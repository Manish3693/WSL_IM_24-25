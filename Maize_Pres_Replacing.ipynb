{
 "cells": [
  {
   "cell_type": "code",
   "execution_count": 166,
   "metadata": {},
   "outputs": [],
   "source": [
    "import pandas as pd\n",
    "import statsmodels.api as sm\n",
    "import re\n",
    "import numpy as np\n",
    "import pandas as pd\n",
    "from itertools import product"
   ]
  },
  {
   "cell_type": "code",
   "execution_count": 167,
   "metadata": {},
   "outputs": [
    {
     "data": {
      "text/html": [
       "<div>\n",
       "<style scoped>\n",
       "    .dataframe tbody tr th:only-of-type {\n",
       "        vertical-align: middle;\n",
       "    }\n",
       "\n",
       "    .dataframe tbody tr th {\n",
       "        vertical-align: top;\n",
       "    }\n",
       "\n",
       "    .dataframe thead th {\n",
       "        text-align: right;\n",
       "    }\n",
       "</style>\n",
       "<table border=\"1\" class=\"dataframe\">\n",
       "  <thead>\n",
       "    <tr style=\"text-align: right;\">\n",
       "      <th></th>\n",
       "      <th>District</th>\n",
       "      <th>Maize_Production</th>\n",
       "      <th>TotalNPK</th>\n",
       "      <th>SowingSeedsDistributed_Maize</th>\n",
       "      <th>LivestockCensus_2012_Cattle</th>\n",
       "      <th>AreaUnderCereals_Maize</th>\n",
       "      <th>NetAreaIrrigatedUnderDifferentSources_TubeWells_NetIrrigatedArea</th>\n",
       "      <th>Maize_Ratio</th>\n",
       "    </tr>\n",
       "  </thead>\n",
       "  <tbody>\n",
       "    <tr>\n",
       "      <th>24</th>\n",
       "      <td>BALLARI</td>\n",
       "      <td>104045</td>\n",
       "      <td>8404.154608</td>\n",
       "      <td>2859.005</td>\n",
       "      <td>23446.847903</td>\n",
       "      <td>49869.5</td>\n",
       "      <td>10248.613355</td>\n",
       "      <td>0.136288</td>\n",
       "    </tr>\n",
       "    <tr>\n",
       "      <th>25</th>\n",
       "      <td>BIDAR</td>\n",
       "      <td>2791</td>\n",
       "      <td>249.381182</td>\n",
       "      <td>24.550</td>\n",
       "      <td>2371.831678</td>\n",
       "      <td>1382.0</td>\n",
       "      <td>201.341576</td>\n",
       "      <td>0.010114</td>\n",
       "    </tr>\n",
       "    <tr>\n",
       "      <th>26</th>\n",
       "      <td>KALABURAGI</td>\n",
       "      <td>14621</td>\n",
       "      <td>710.101614</td>\n",
       "      <td>165.000</td>\n",
       "      <td>6221.617910</td>\n",
       "      <td>2634.0</td>\n",
       "      <td>641.759643</td>\n",
       "      <td>0.013150</td>\n",
       "    </tr>\n",
       "    <tr>\n",
       "      <th>27</th>\n",
       "      <td>YADGIRI</td>\n",
       "      <td>2673</td>\n",
       "      <td>368.617469</td>\n",
       "      <td>0.000</td>\n",
       "      <td>1253.317144</td>\n",
       "      <td>961.0</td>\n",
       "      <td>88.878158</td>\n",
       "      <td>0.004033</td>\n",
       "    </tr>\n",
       "    <tr>\n",
       "      <th>28</th>\n",
       "      <td>RAICHUR</td>\n",
       "      <td>723</td>\n",
       "      <td>61.547519</td>\n",
       "      <td>14.350</td>\n",
       "      <td>188.537479</td>\n",
       "      <td>2600.0</td>\n",
       "      <td>13.949581</td>\n",
       "      <td>0.000525</td>\n",
       "    </tr>\n",
       "    <tr>\n",
       "      <th>29</th>\n",
       "      <td>KOPPAL</td>\n",
       "      <td>190252</td>\n",
       "      <td>10997.550403</td>\n",
       "      <td>5292.000</td>\n",
       "      <td>38936.400172</td>\n",
       "      <td>48210.0</td>\n",
       "      <td>12343.237178</td>\n",
       "      <td>0.149521</td>\n",
       "    </tr>\n",
       "    <tr>\n",
       "      <th>30</th>\n",
       "      <td>VIJAYANAGARA</td>\n",
       "      <td>104045</td>\n",
       "      <td>8404.154608</td>\n",
       "      <td>2859.005</td>\n",
       "      <td>23446.847903</td>\n",
       "      <td>49869.5</td>\n",
       "      <td>10248.613355</td>\n",
       "      <td>0.136288</td>\n",
       "    </tr>\n",
       "  </tbody>\n",
       "</table>\n",
       "</div>"
      ],
      "text/plain": [
       "        District  Maize_Production      TotalNPK  \\\n",
       "24       BALLARI            104045   8404.154608   \n",
       "25         BIDAR              2791    249.381182   \n",
       "26    KALABURAGI             14621    710.101614   \n",
       "27       YADGIRI              2673    368.617469   \n",
       "28       RAICHUR               723     61.547519   \n",
       "29        KOPPAL            190252  10997.550403   \n",
       "30  VIJAYANAGARA            104045   8404.154608   \n",
       "\n",
       "    SowingSeedsDistributed_Maize  LivestockCensus_2012_Cattle  \\\n",
       "24                      2859.005                 23446.847903   \n",
       "25                        24.550                  2371.831678   \n",
       "26                       165.000                  6221.617910   \n",
       "27                         0.000                  1253.317144   \n",
       "28                        14.350                   188.537479   \n",
       "29                      5292.000                 38936.400172   \n",
       "30                      2859.005                 23446.847903   \n",
       "\n",
       "    AreaUnderCereals_Maize  \\\n",
       "24                 49869.5   \n",
       "25                  1382.0   \n",
       "26                  2634.0   \n",
       "27                   961.0   \n",
       "28                  2600.0   \n",
       "29                 48210.0   \n",
       "30                 49869.5   \n",
       "\n",
       "    NetAreaIrrigatedUnderDifferentSources_TubeWells_NetIrrigatedArea  \\\n",
       "24                                       10248.613355                  \n",
       "25                                         201.341576                  \n",
       "26                                         641.759643                  \n",
       "27                                          88.878158                  \n",
       "28                                          13.949581                  \n",
       "29                                       12343.237178                  \n",
       "30                                       10248.613355                  \n",
       "\n",
       "    Maize_Ratio  \n",
       "24     0.136288  \n",
       "25     0.010114  \n",
       "26     0.013150  \n",
       "27     0.004033  \n",
       "28     0.000525  \n",
       "29     0.149521  \n",
       "30     0.136288  "
      ]
     },
     "execution_count": 167,
     "metadata": {},
     "output_type": "execute_result"
    }
   ],
   "source": [
    "def remove_pattern(col_name):\n",
    "    return re.sub(r'_[0-9]{3}$', '', col_name)\n",
    "\n",
    "Zones = pd.read_excel('Zones.xlsx')\n",
    "Dataset = pd.read_csv('KAG 2016-17\\Agriculture\\Agriculture_KAG_2016_17.csv')\n",
    "Dataset.columns = map(remove_pattern, Dataset.columns)\n",
    "\n",
    "param = pd.read_csv('Params/5_Param_Maize_Multicollinearity.csv')\n",
    "\n",
    "Working_Directory = pd.read_csv('Working_Directory.csv')\n",
    "Working_Directory = Working_Directory[['District','Maize_Production','TotalNPK', 'SowingSeedsDistributed_Maize',\n",
    "'LivestockCensus_2012_Cattle', 'AreaUnderCereals_Maize','NetAreaIrrigatedUnderDifferentSources_TubeWells_NetIrrigatedArea','Maize_Ratio']].copy()\n",
    "\n",
    "for x in param.columns:\n",
    "    if(x != 'SowingSeedsDistributed_Maize' and x != 'AreaUnderCereals_Maize'):\n",
    "        Working_Directory[x] = Working_Directory[x]*Working_Directory['Maize_Ratio']\n",
    "        \n",
    "Working_Directory[24:]"
   ]
  },
  {
   "cell_type": "code",
   "execution_count": 168,
   "metadata": {},
   "outputs": [
    {
     "data": {
      "text/html": [
       "<div>\n",
       "<style scoped>\n",
       "    .dataframe tbody tr th:only-of-type {\n",
       "        vertical-align: middle;\n",
       "    }\n",
       "\n",
       "    .dataframe tbody tr th {\n",
       "        vertical-align: top;\n",
       "    }\n",
       "\n",
       "    .dataframe thead th {\n",
       "        text-align: right;\n",
       "    }\n",
       "</style>\n",
       "<table border=\"1\" class=\"dataframe\">\n",
       "  <thead>\n",
       "    <tr style=\"text-align: right;\">\n",
       "      <th></th>\n",
       "      <th>SowingSeedsDistributed_Maize</th>\n",
       "      <th>LivestockCensus_2012_Cattle</th>\n",
       "      <th>AreaUnderCereals_Maize</th>\n",
       "      <th>TotalNPK</th>\n",
       "      <th>NetAreaIrrigatedUnderDifferentSources_TubeWells_NetIrrigatedArea</th>\n",
       "    </tr>\n",
       "  </thead>\n",
       "  <tbody>\n",
       "    <tr>\n",
       "      <th>0</th>\n",
       "      <td>4.45</td>\n",
       "      <td>2567.461578</td>\n",
       "      <td>1129.0</td>\n",
       "      <td>438.180210</td>\n",
       "      <td>175.723235</td>\n",
       "    </tr>\n",
       "    <tr>\n",
       "      <th>1</th>\n",
       "      <td>134.73</td>\n",
       "      <td>25037.139271</td>\n",
       "      <td>14867.0</td>\n",
       "      <td>3036.080250</td>\n",
       "      <td>3197.193185</td>\n",
       "    </tr>\n",
       "    <tr>\n",
       "      <th>2</th>\n",
       "      <td>260.15</td>\n",
       "      <td>7729.614277</td>\n",
       "      <td>1987.0</td>\n",
       "      <td>222.225258</td>\n",
       "      <td>709.859804</td>\n",
       "    </tr>\n",
       "    <tr>\n",
       "      <th>3</th>\n",
       "      <td>5004.00</td>\n",
       "      <td>83821.593093</td>\n",
       "      <td>92194.0</td>\n",
       "      <td>10902.406571</td>\n",
       "      <td>28105.507253</td>\n",
       "    </tr>\n",
       "    <tr>\n",
       "      <th>4</th>\n",
       "      <td>6124.60</td>\n",
       "      <td>85657.632091</td>\n",
       "      <td>173400.0</td>\n",
       "      <td>25702.835480</td>\n",
       "      <td>20213.730878</td>\n",
       "    </tr>\n",
       "  </tbody>\n",
       "</table>\n",
       "</div>"
      ],
      "text/plain": [
       "   SowingSeedsDistributed_Maize  LivestockCensus_2012_Cattle  \\\n",
       "0                          4.45                  2567.461578   \n",
       "1                        134.73                 25037.139271   \n",
       "2                        260.15                  7729.614277   \n",
       "3                       5004.00                 83821.593093   \n",
       "4                       6124.60                 85657.632091   \n",
       "\n",
       "   AreaUnderCereals_Maize      TotalNPK  \\\n",
       "0                  1129.0    438.180210   \n",
       "1                 14867.0   3036.080250   \n",
       "2                  1987.0    222.225258   \n",
       "3                 92194.0  10902.406571   \n",
       "4                173400.0  25702.835480   \n",
       "\n",
       "   NetAreaIrrigatedUnderDifferentSources_TubeWells_NetIrrigatedArea  \n",
       "0                                         175.723235                 \n",
       "1                                        3197.193185                 \n",
       "2                                         709.859804                 \n",
       "3                                       28105.507253                 \n",
       "4                                       20213.730878                 "
      ]
     },
     "execution_count": 168,
     "metadata": {},
     "output_type": "execute_result"
    }
   ],
   "source": [
    "Case_file = pd.read_csv('Params/5_Param_Maize_Multicollinearity.csv')\n",
    "for x in Case_file.columns:\n",
    "    Working_Directory[x] = Case_file[x]\n",
    "y = Working_Directory['Maize_Production']\n",
    "Case_file[:5]"
   ]
  },
  {
   "cell_type": "code",
   "execution_count": 169,
   "metadata": {},
   "outputs": [
    {
     "data": {
      "text/html": [
       "<div>\n",
       "<style scoped>\n",
       "    .dataframe tbody tr th:only-of-type {\n",
       "        vertical-align: middle;\n",
       "    }\n",
       "\n",
       "    .dataframe tbody tr th {\n",
       "        vertical-align: top;\n",
       "    }\n",
       "\n",
       "    .dataframe thead th {\n",
       "        text-align: right;\n",
       "    }\n",
       "</style>\n",
       "<table border=\"1\" class=\"dataframe\">\n",
       "  <thead>\n",
       "    <tr style=\"text-align: right;\">\n",
       "      <th></th>\n",
       "      <th>SowingSeedsDistributed_Maize</th>\n",
       "      <th>LivestockCensus_2012_Cattle</th>\n",
       "      <th>AreaUnderCereals_Maize</th>\n",
       "      <th>TotalNPK</th>\n",
       "      <th>NetAreaIrrigatedUnderDifferentSources_TubeWells_NetIrrigatedArea</th>\n",
       "    </tr>\n",
       "  </thead>\n",
       "  <tbody>\n",
       "    <tr>\n",
       "      <th>24</th>\n",
       "      <td>2859.005</td>\n",
       "      <td>23446.847903</td>\n",
       "      <td>49869.5</td>\n",
       "      <td>8404.154608</td>\n",
       "      <td>10248.613355</td>\n",
       "    </tr>\n",
       "    <tr>\n",
       "      <th>25</th>\n",
       "      <td>24.550</td>\n",
       "      <td>2371.831678</td>\n",
       "      <td>1382.0</td>\n",
       "      <td>249.381182</td>\n",
       "      <td>201.341576</td>\n",
       "    </tr>\n",
       "    <tr>\n",
       "      <th>26</th>\n",
       "      <td>165.000</td>\n",
       "      <td>6221.617910</td>\n",
       "      <td>2634.0</td>\n",
       "      <td>710.101614</td>\n",
       "      <td>641.759643</td>\n",
       "    </tr>\n",
       "    <tr>\n",
       "      <th>27</th>\n",
       "      <td>0.000</td>\n",
       "      <td>1253.317144</td>\n",
       "      <td>961.0</td>\n",
       "      <td>368.617469</td>\n",
       "      <td>88.878158</td>\n",
       "    </tr>\n",
       "    <tr>\n",
       "      <th>28</th>\n",
       "      <td>14.350</td>\n",
       "      <td>188.537479</td>\n",
       "      <td>2600.0</td>\n",
       "      <td>61.547519</td>\n",
       "      <td>13.949581</td>\n",
       "    </tr>\n",
       "    <tr>\n",
       "      <th>29</th>\n",
       "      <td>5292.000</td>\n",
       "      <td>38936.400172</td>\n",
       "      <td>48210.0</td>\n",
       "      <td>10997.550403</td>\n",
       "      <td>12343.237178</td>\n",
       "    </tr>\n",
       "    <tr>\n",
       "      <th>30</th>\n",
       "      <td>2859.005</td>\n",
       "      <td>23446.847903</td>\n",
       "      <td>49869.5</td>\n",
       "      <td>8404.154608</td>\n",
       "      <td>10248.613355</td>\n",
       "    </tr>\n",
       "  </tbody>\n",
       "</table>\n",
       "</div>"
      ],
      "text/plain": [
       "    SowingSeedsDistributed_Maize  LivestockCensus_2012_Cattle  \\\n",
       "24                      2859.005                 23446.847903   \n",
       "25                        24.550                  2371.831678   \n",
       "26                       165.000                  6221.617910   \n",
       "27                         0.000                  1253.317144   \n",
       "28                        14.350                   188.537479   \n",
       "29                      5292.000                 38936.400172   \n",
       "30                      2859.005                 23446.847903   \n",
       "\n",
       "    AreaUnderCereals_Maize      TotalNPK  \\\n",
       "24                 49869.5   8404.154608   \n",
       "25                  1382.0    249.381182   \n",
       "26                  2634.0    710.101614   \n",
       "27                   961.0    368.617469   \n",
       "28                  2600.0     61.547519   \n",
       "29                 48210.0  10997.550403   \n",
       "30                 49869.5   8404.154608   \n",
       "\n",
       "    NetAreaIrrigatedUnderDifferentSources_TubeWells_NetIrrigatedArea  \n",
       "24                                       10248.613355                 \n",
       "25                                         201.341576                 \n",
       "26                                         641.759643                 \n",
       "27                                          88.878158                 \n",
       "28                                          13.949581                 \n",
       "29                                       12343.237178                 \n",
       "30                                       10248.613355                 "
      ]
     },
     "execution_count": 169,
     "metadata": {},
     "output_type": "execute_result"
    }
   ],
   "source": [
    "if(len(Case_file) < 31):\n",
    "    row_24 = Case_file.iloc[24]\n",
    "    halved_row_24 = row_24 / 2\n",
    "    Case_file.iloc[24] = halved_row_24\n",
    "    Case_file.loc[len(Case_file)] = halved_row_24\n",
    "\n",
    "Case_file[24:]\n"
   ]
  },
  {
   "cell_type": "code",
   "execution_count": 170,
   "metadata": {},
   "outputs": [],
   "source": [
    "Case_file = Case_file.iloc[:,1:4]"
   ]
  },
  {
   "cell_type": "code",
   "execution_count": 171,
   "metadata": {},
   "outputs": [
    {
     "data": {
      "text/html": [
       "<div>\n",
       "<style scoped>\n",
       "    .dataframe tbody tr th:only-of-type {\n",
       "        vertical-align: middle;\n",
       "    }\n",
       "\n",
       "    .dataframe tbody tr th {\n",
       "        vertical-align: top;\n",
       "    }\n",
       "\n",
       "    .dataframe thead th {\n",
       "        text-align: right;\n",
       "    }\n",
       "</style>\n",
       "<table border=\"1\" class=\"dataframe\">\n",
       "  <thead>\n",
       "    <tr style=\"text-align: right;\">\n",
       "      <th></th>\n",
       "      <th>LivestockCensus_2012_Cattle</th>\n",
       "      <th>AreaUnderCereals_Maize</th>\n",
       "      <th>TotalNPK</th>\n",
       "    </tr>\n",
       "  </thead>\n",
       "  <tbody>\n",
       "    <tr>\n",
       "      <th>0</th>\n",
       "      <td>2567.461578</td>\n",
       "      <td>1129.0</td>\n",
       "      <td>438.180210</td>\n",
       "    </tr>\n",
       "    <tr>\n",
       "      <th>1</th>\n",
       "      <td>25037.139271</td>\n",
       "      <td>14867.0</td>\n",
       "      <td>3036.080250</td>\n",
       "    </tr>\n",
       "    <tr>\n",
       "      <th>2</th>\n",
       "      <td>7729.614277</td>\n",
       "      <td>1987.0</td>\n",
       "      <td>222.225258</td>\n",
       "    </tr>\n",
       "    <tr>\n",
       "      <th>3</th>\n",
       "      <td>83821.593093</td>\n",
       "      <td>92194.0</td>\n",
       "      <td>10902.406571</td>\n",
       "    </tr>\n",
       "    <tr>\n",
       "      <th>4</th>\n",
       "      <td>85657.632091</td>\n",
       "      <td>173400.0</td>\n",
       "      <td>25702.835480</td>\n",
       "    </tr>\n",
       "    <tr>\n",
       "      <th>5</th>\n",
       "      <td>2278.829821</td>\n",
       "      <td>640.0</td>\n",
       "      <td>220.782906</td>\n",
       "    </tr>\n",
       "    <tr>\n",
       "      <th>6</th>\n",
       "      <td>71206.945309</td>\n",
       "      <td>59377.0</td>\n",
       "      <td>8196.896749</td>\n",
       "    </tr>\n",
       "    <tr>\n",
       "      <th>7</th>\n",
       "      <td>104722.000363</td>\n",
       "      <td>43827.0</td>\n",
       "      <td>10428.246256</td>\n",
       "    </tr>\n",
       "    <tr>\n",
       "      <th>8</th>\n",
       "      <td>37944.093756</td>\n",
       "      <td>24207.0</td>\n",
       "      <td>2746.313635</td>\n",
       "    </tr>\n",
       "    <tr>\n",
       "      <th>9</th>\n",
       "      <td>40572.445630</td>\n",
       "      <td>25831.0</td>\n",
       "      <td>8156.290370</td>\n",
       "    </tr>\n",
       "    <tr>\n",
       "      <th>10</th>\n",
       "      <td>0.000000</td>\n",
       "      <td>0.0</td>\n",
       "      <td>0.000000</td>\n",
       "    </tr>\n",
       "    <tr>\n",
       "      <th>11</th>\n",
       "      <td>94.499008</td>\n",
       "      <td>8.0</td>\n",
       "      <td>2.304863</td>\n",
       "    </tr>\n",
       "    <tr>\n",
       "      <th>12</th>\n",
       "      <td>151008.140250</td>\n",
       "      <td>79058.0</td>\n",
       "      <td>17039.273894</td>\n",
       "    </tr>\n",
       "    <tr>\n",
       "      <th>13</th>\n",
       "      <td>7599.582730</td>\n",
       "      <td>3448.0</td>\n",
       "      <td>3519.022414</td>\n",
       "    </tr>\n",
       "    <tr>\n",
       "      <th>14</th>\n",
       "      <td>8774.134623</td>\n",
       "      <td>4892.0</td>\n",
       "      <td>1448.830355</td>\n",
       "    </tr>\n",
       "    <tr>\n",
       "      <th>15</th>\n",
       "      <td>61547.727444</td>\n",
       "      <td>37283.0</td>\n",
       "      <td>6945.331415</td>\n",
       "    </tr>\n",
       "    <tr>\n",
       "      <th>16</th>\n",
       "      <td>80396.926683</td>\n",
       "      <td>38569.0</td>\n",
       "      <td>7289.684770</td>\n",
       "    </tr>\n",
       "    <tr>\n",
       "      <th>17</th>\n",
       "      <td>159047.086192</td>\n",
       "      <td>131163.0</td>\n",
       "      <td>48288.815127</td>\n",
       "    </tr>\n",
       "    <tr>\n",
       "      <th>18</th>\n",
       "      <td>48619.507080</td>\n",
       "      <td>40207.0</td>\n",
       "      <td>10420.071653</td>\n",
       "    </tr>\n",
       "    <tr>\n",
       "      <th>19</th>\n",
       "      <td>75578.051999</td>\n",
       "      <td>44300.0</td>\n",
       "      <td>22940.521254</td>\n",
       "    </tr>\n",
       "    <tr>\n",
       "      <th>20</th>\n",
       "      <td>33424.645600</td>\n",
       "      <td>30900.0</td>\n",
       "      <td>6447.725408</td>\n",
       "    </tr>\n",
       "    <tr>\n",
       "      <th>21</th>\n",
       "      <td>34261.981768</td>\n",
       "      <td>34163.0</td>\n",
       "      <td>5591.244159</td>\n",
       "    </tr>\n",
       "    <tr>\n",
       "      <th>22</th>\n",
       "      <td>95150.640269</td>\n",
       "      <td>170696.0</td>\n",
       "      <td>21731.170722</td>\n",
       "    </tr>\n",
       "    <tr>\n",
       "      <th>23</th>\n",
       "      <td>22563.771076</td>\n",
       "      <td>4576.0</td>\n",
       "      <td>1025.616827</td>\n",
       "    </tr>\n",
       "    <tr>\n",
       "      <th>24</th>\n",
       "      <td>23446.847903</td>\n",
       "      <td>49869.5</td>\n",
       "      <td>8404.154608</td>\n",
       "    </tr>\n",
       "    <tr>\n",
       "      <th>25</th>\n",
       "      <td>2371.831678</td>\n",
       "      <td>1382.0</td>\n",
       "      <td>249.381182</td>\n",
       "    </tr>\n",
       "    <tr>\n",
       "      <th>26</th>\n",
       "      <td>6221.617910</td>\n",
       "      <td>2634.0</td>\n",
       "      <td>710.101614</td>\n",
       "    </tr>\n",
       "    <tr>\n",
       "      <th>27</th>\n",
       "      <td>1253.317144</td>\n",
       "      <td>961.0</td>\n",
       "      <td>368.617469</td>\n",
       "    </tr>\n",
       "    <tr>\n",
       "      <th>28</th>\n",
       "      <td>188.537479</td>\n",
       "      <td>2600.0</td>\n",
       "      <td>61.547519</td>\n",
       "    </tr>\n",
       "    <tr>\n",
       "      <th>29</th>\n",
       "      <td>38936.400172</td>\n",
       "      <td>48210.0</td>\n",
       "      <td>10997.550403</td>\n",
       "    </tr>\n",
       "    <tr>\n",
       "      <th>30</th>\n",
       "      <td>23446.847903</td>\n",
       "      <td>49869.5</td>\n",
       "      <td>8404.154608</td>\n",
       "    </tr>\n",
       "  </tbody>\n",
       "</table>\n",
       "</div>"
      ],
      "text/plain": [
       "    LivestockCensus_2012_Cattle  AreaUnderCereals_Maize      TotalNPK\n",
       "0                   2567.461578                  1129.0    438.180210\n",
       "1                  25037.139271                 14867.0   3036.080250\n",
       "2                   7729.614277                  1987.0    222.225258\n",
       "3                  83821.593093                 92194.0  10902.406571\n",
       "4                  85657.632091                173400.0  25702.835480\n",
       "5                   2278.829821                   640.0    220.782906\n",
       "6                  71206.945309                 59377.0   8196.896749\n",
       "7                 104722.000363                 43827.0  10428.246256\n",
       "8                  37944.093756                 24207.0   2746.313635\n",
       "9                  40572.445630                 25831.0   8156.290370\n",
       "10                     0.000000                     0.0      0.000000\n",
       "11                    94.499008                     8.0      2.304863\n",
       "12                151008.140250                 79058.0  17039.273894\n",
       "13                  7599.582730                  3448.0   3519.022414\n",
       "14                  8774.134623                  4892.0   1448.830355\n",
       "15                 61547.727444                 37283.0   6945.331415\n",
       "16                 80396.926683                 38569.0   7289.684770\n",
       "17                159047.086192                131163.0  48288.815127\n",
       "18                 48619.507080                 40207.0  10420.071653\n",
       "19                 75578.051999                 44300.0  22940.521254\n",
       "20                 33424.645600                 30900.0   6447.725408\n",
       "21                 34261.981768                 34163.0   5591.244159\n",
       "22                 95150.640269                170696.0  21731.170722\n",
       "23                 22563.771076                  4576.0   1025.616827\n",
       "24                 23446.847903                 49869.5   8404.154608\n",
       "25                  2371.831678                  1382.0    249.381182\n",
       "26                  6221.617910                  2634.0    710.101614\n",
       "27                  1253.317144                   961.0    368.617469\n",
       "28                   188.537479                  2600.0     61.547519\n",
       "29                 38936.400172                 48210.0  10997.550403\n",
       "30                 23446.847903                 49869.5   8404.154608"
      ]
     },
     "execution_count": 171,
     "metadata": {},
     "output_type": "execute_result"
    }
   ],
   "source": [
    "Case_file"
   ]
  },
  {
   "cell_type": "code",
   "execution_count": 172,
   "metadata": {},
   "outputs": [
    {
     "data": {
      "application/vnd.plotly.v1+json": {
       "config": {
        "plotlyServerURL": "https://plot.ly"
       },
       "data": [
        {
         "alignmentgroup": "True",
         "bingroup": "x",
         "hovertemplate": "Maize_Production=%{x}<br>count=%{y}<extra></extra>",
         "legendgroup": "",
         "marker": {
          "color": "#636efa",
          "pattern": {
           "shape": ""
          }
         },
         "name": "",
         "nbinsx": 10,
         "offsetgroup": "",
         "orientation": "v",
         "showlegend": false,
         "type": "histogram",
         "x": [
          2879,
          42583,
          10450,
          271975,
          593544,
          1759,
          105491,
          226532,
          66868,
          61353,
          0,
          109,
          333937,
          17921,
          19387,
          137154,
          147886,
          576758,
          226327,
          251699,
          90634,
          138476,
          413487,
          24088,
          104045,
          2791,
          14621,
          2673,
          723,
          190252,
          104045
         ],
         "xaxis": "x",
         "yaxis": "y"
        }
       ],
       "layout": {
        "barmode": "relative",
        "legend": {
         "tracegroupgap": 0
        },
        "template": {
         "data": {
          "bar": [
           {
            "error_x": {
             "color": "#2a3f5f"
            },
            "error_y": {
             "color": "#2a3f5f"
            },
            "marker": {
             "line": {
              "color": "#E5ECF6",
              "width": 0.5
             },
             "pattern": {
              "fillmode": "overlay",
              "size": 10,
              "solidity": 0.2
             }
            },
            "type": "bar"
           }
          ],
          "barpolar": [
           {
            "marker": {
             "line": {
              "color": "#E5ECF6",
              "width": 0.5
             },
             "pattern": {
              "fillmode": "overlay",
              "size": 10,
              "solidity": 0.2
             }
            },
            "type": "barpolar"
           }
          ],
          "carpet": [
           {
            "aaxis": {
             "endlinecolor": "#2a3f5f",
             "gridcolor": "white",
             "linecolor": "white",
             "minorgridcolor": "white",
             "startlinecolor": "#2a3f5f"
            },
            "baxis": {
             "endlinecolor": "#2a3f5f",
             "gridcolor": "white",
             "linecolor": "white",
             "minorgridcolor": "white",
             "startlinecolor": "#2a3f5f"
            },
            "type": "carpet"
           }
          ],
          "choropleth": [
           {
            "colorbar": {
             "outlinewidth": 0,
             "ticks": ""
            },
            "type": "choropleth"
           }
          ],
          "contour": [
           {
            "colorbar": {
             "outlinewidth": 0,
             "ticks": ""
            },
            "colorscale": [
             [
              0,
              "#0d0887"
             ],
             [
              0.1111111111111111,
              "#46039f"
             ],
             [
              0.2222222222222222,
              "#7201a8"
             ],
             [
              0.3333333333333333,
              "#9c179e"
             ],
             [
              0.4444444444444444,
              "#bd3786"
             ],
             [
              0.5555555555555556,
              "#d8576b"
             ],
             [
              0.6666666666666666,
              "#ed7953"
             ],
             [
              0.7777777777777778,
              "#fb9f3a"
             ],
             [
              0.8888888888888888,
              "#fdca26"
             ],
             [
              1,
              "#f0f921"
             ]
            ],
            "type": "contour"
           }
          ],
          "contourcarpet": [
           {
            "colorbar": {
             "outlinewidth": 0,
             "ticks": ""
            },
            "type": "contourcarpet"
           }
          ],
          "heatmap": [
           {
            "colorbar": {
             "outlinewidth": 0,
             "ticks": ""
            },
            "colorscale": [
             [
              0,
              "#0d0887"
             ],
             [
              0.1111111111111111,
              "#46039f"
             ],
             [
              0.2222222222222222,
              "#7201a8"
             ],
             [
              0.3333333333333333,
              "#9c179e"
             ],
             [
              0.4444444444444444,
              "#bd3786"
             ],
             [
              0.5555555555555556,
              "#d8576b"
             ],
             [
              0.6666666666666666,
              "#ed7953"
             ],
             [
              0.7777777777777778,
              "#fb9f3a"
             ],
             [
              0.8888888888888888,
              "#fdca26"
             ],
             [
              1,
              "#f0f921"
             ]
            ],
            "type": "heatmap"
           }
          ],
          "heatmapgl": [
           {
            "colorbar": {
             "outlinewidth": 0,
             "ticks": ""
            },
            "colorscale": [
             [
              0,
              "#0d0887"
             ],
             [
              0.1111111111111111,
              "#46039f"
             ],
             [
              0.2222222222222222,
              "#7201a8"
             ],
             [
              0.3333333333333333,
              "#9c179e"
             ],
             [
              0.4444444444444444,
              "#bd3786"
             ],
             [
              0.5555555555555556,
              "#d8576b"
             ],
             [
              0.6666666666666666,
              "#ed7953"
             ],
             [
              0.7777777777777778,
              "#fb9f3a"
             ],
             [
              0.8888888888888888,
              "#fdca26"
             ],
             [
              1,
              "#f0f921"
             ]
            ],
            "type": "heatmapgl"
           }
          ],
          "histogram": [
           {
            "marker": {
             "pattern": {
              "fillmode": "overlay",
              "size": 10,
              "solidity": 0.2
             }
            },
            "type": "histogram"
           }
          ],
          "histogram2d": [
           {
            "colorbar": {
             "outlinewidth": 0,
             "ticks": ""
            },
            "colorscale": [
             [
              0,
              "#0d0887"
             ],
             [
              0.1111111111111111,
              "#46039f"
             ],
             [
              0.2222222222222222,
              "#7201a8"
             ],
             [
              0.3333333333333333,
              "#9c179e"
             ],
             [
              0.4444444444444444,
              "#bd3786"
             ],
             [
              0.5555555555555556,
              "#d8576b"
             ],
             [
              0.6666666666666666,
              "#ed7953"
             ],
             [
              0.7777777777777778,
              "#fb9f3a"
             ],
             [
              0.8888888888888888,
              "#fdca26"
             ],
             [
              1,
              "#f0f921"
             ]
            ],
            "type": "histogram2d"
           }
          ],
          "histogram2dcontour": [
           {
            "colorbar": {
             "outlinewidth": 0,
             "ticks": ""
            },
            "colorscale": [
             [
              0,
              "#0d0887"
             ],
             [
              0.1111111111111111,
              "#46039f"
             ],
             [
              0.2222222222222222,
              "#7201a8"
             ],
             [
              0.3333333333333333,
              "#9c179e"
             ],
             [
              0.4444444444444444,
              "#bd3786"
             ],
             [
              0.5555555555555556,
              "#d8576b"
             ],
             [
              0.6666666666666666,
              "#ed7953"
             ],
             [
              0.7777777777777778,
              "#fb9f3a"
             ],
             [
              0.8888888888888888,
              "#fdca26"
             ],
             [
              1,
              "#f0f921"
             ]
            ],
            "type": "histogram2dcontour"
           }
          ],
          "mesh3d": [
           {
            "colorbar": {
             "outlinewidth": 0,
             "ticks": ""
            },
            "type": "mesh3d"
           }
          ],
          "parcoords": [
           {
            "line": {
             "colorbar": {
              "outlinewidth": 0,
              "ticks": ""
             }
            },
            "type": "parcoords"
           }
          ],
          "pie": [
           {
            "automargin": true,
            "type": "pie"
           }
          ],
          "scatter": [
           {
            "fillpattern": {
             "fillmode": "overlay",
             "size": 10,
             "solidity": 0.2
            },
            "type": "scatter"
           }
          ],
          "scatter3d": [
           {
            "line": {
             "colorbar": {
              "outlinewidth": 0,
              "ticks": ""
             }
            },
            "marker": {
             "colorbar": {
              "outlinewidth": 0,
              "ticks": ""
             }
            },
            "type": "scatter3d"
           }
          ],
          "scattercarpet": [
           {
            "marker": {
             "colorbar": {
              "outlinewidth": 0,
              "ticks": ""
             }
            },
            "type": "scattercarpet"
           }
          ],
          "scattergeo": [
           {
            "marker": {
             "colorbar": {
              "outlinewidth": 0,
              "ticks": ""
             }
            },
            "type": "scattergeo"
           }
          ],
          "scattergl": [
           {
            "marker": {
             "colorbar": {
              "outlinewidth": 0,
              "ticks": ""
             }
            },
            "type": "scattergl"
           }
          ],
          "scattermapbox": [
           {
            "marker": {
             "colorbar": {
              "outlinewidth": 0,
              "ticks": ""
             }
            },
            "type": "scattermapbox"
           }
          ],
          "scatterpolar": [
           {
            "marker": {
             "colorbar": {
              "outlinewidth": 0,
              "ticks": ""
             }
            },
            "type": "scatterpolar"
           }
          ],
          "scatterpolargl": [
           {
            "marker": {
             "colorbar": {
              "outlinewidth": 0,
              "ticks": ""
             }
            },
            "type": "scatterpolargl"
           }
          ],
          "scatterternary": [
           {
            "marker": {
             "colorbar": {
              "outlinewidth": 0,
              "ticks": ""
             }
            },
            "type": "scatterternary"
           }
          ],
          "surface": [
           {
            "colorbar": {
             "outlinewidth": 0,
             "ticks": ""
            },
            "colorscale": [
             [
              0,
              "#0d0887"
             ],
             [
              0.1111111111111111,
              "#46039f"
             ],
             [
              0.2222222222222222,
              "#7201a8"
             ],
             [
              0.3333333333333333,
              "#9c179e"
             ],
             [
              0.4444444444444444,
              "#bd3786"
             ],
             [
              0.5555555555555556,
              "#d8576b"
             ],
             [
              0.6666666666666666,
              "#ed7953"
             ],
             [
              0.7777777777777778,
              "#fb9f3a"
             ],
             [
              0.8888888888888888,
              "#fdca26"
             ],
             [
              1,
              "#f0f921"
             ]
            ],
            "type": "surface"
           }
          ],
          "table": [
           {
            "cells": {
             "fill": {
              "color": "#EBF0F8"
             },
             "line": {
              "color": "white"
             }
            },
            "header": {
             "fill": {
              "color": "#C8D4E3"
             },
             "line": {
              "color": "white"
             }
            },
            "type": "table"
           }
          ]
         },
         "layout": {
          "annotationdefaults": {
           "arrowcolor": "#2a3f5f",
           "arrowhead": 0,
           "arrowwidth": 1
          },
          "autotypenumbers": "strict",
          "coloraxis": {
           "colorbar": {
            "outlinewidth": 0,
            "ticks": ""
           }
          },
          "colorscale": {
           "diverging": [
            [
             0,
             "#8e0152"
            ],
            [
             0.1,
             "#c51b7d"
            ],
            [
             0.2,
             "#de77ae"
            ],
            [
             0.3,
             "#f1b6da"
            ],
            [
             0.4,
             "#fde0ef"
            ],
            [
             0.5,
             "#f7f7f7"
            ],
            [
             0.6,
             "#e6f5d0"
            ],
            [
             0.7,
             "#b8e186"
            ],
            [
             0.8,
             "#7fbc41"
            ],
            [
             0.9,
             "#4d9221"
            ],
            [
             1,
             "#276419"
            ]
           ],
           "sequential": [
            [
             0,
             "#0d0887"
            ],
            [
             0.1111111111111111,
             "#46039f"
            ],
            [
             0.2222222222222222,
             "#7201a8"
            ],
            [
             0.3333333333333333,
             "#9c179e"
            ],
            [
             0.4444444444444444,
             "#bd3786"
            ],
            [
             0.5555555555555556,
             "#d8576b"
            ],
            [
             0.6666666666666666,
             "#ed7953"
            ],
            [
             0.7777777777777778,
             "#fb9f3a"
            ],
            [
             0.8888888888888888,
             "#fdca26"
            ],
            [
             1,
             "#f0f921"
            ]
           ],
           "sequentialminus": [
            [
             0,
             "#0d0887"
            ],
            [
             0.1111111111111111,
             "#46039f"
            ],
            [
             0.2222222222222222,
             "#7201a8"
            ],
            [
             0.3333333333333333,
             "#9c179e"
            ],
            [
             0.4444444444444444,
             "#bd3786"
            ],
            [
             0.5555555555555556,
             "#d8576b"
            ],
            [
             0.6666666666666666,
             "#ed7953"
            ],
            [
             0.7777777777777778,
             "#fb9f3a"
            ],
            [
             0.8888888888888888,
             "#fdca26"
            ],
            [
             1,
             "#f0f921"
            ]
           ]
          },
          "colorway": [
           "#636efa",
           "#EF553B",
           "#00cc96",
           "#ab63fa",
           "#FFA15A",
           "#19d3f3",
           "#FF6692",
           "#B6E880",
           "#FF97FF",
           "#FECB52"
          ],
          "font": {
           "color": "#2a3f5f"
          },
          "geo": {
           "bgcolor": "white",
           "lakecolor": "white",
           "landcolor": "#E5ECF6",
           "showlakes": true,
           "showland": true,
           "subunitcolor": "white"
          },
          "hoverlabel": {
           "align": "left"
          },
          "hovermode": "closest",
          "mapbox": {
           "style": "light"
          },
          "paper_bgcolor": "white",
          "plot_bgcolor": "#E5ECF6",
          "polar": {
           "angularaxis": {
            "gridcolor": "white",
            "linecolor": "white",
            "ticks": ""
           },
           "bgcolor": "#E5ECF6",
           "radialaxis": {
            "gridcolor": "white",
            "linecolor": "white",
            "ticks": ""
           }
          },
          "scene": {
           "xaxis": {
            "backgroundcolor": "#E5ECF6",
            "gridcolor": "white",
            "gridwidth": 2,
            "linecolor": "white",
            "showbackground": true,
            "ticks": "",
            "zerolinecolor": "white"
           },
           "yaxis": {
            "backgroundcolor": "#E5ECF6",
            "gridcolor": "white",
            "gridwidth": 2,
            "linecolor": "white",
            "showbackground": true,
            "ticks": "",
            "zerolinecolor": "white"
           },
           "zaxis": {
            "backgroundcolor": "#E5ECF6",
            "gridcolor": "white",
            "gridwidth": 2,
            "linecolor": "white",
            "showbackground": true,
            "ticks": "",
            "zerolinecolor": "white"
           }
          },
          "shapedefaults": {
           "line": {
            "color": "#2a3f5f"
           }
          },
          "ternary": {
           "aaxis": {
            "gridcolor": "white",
            "linecolor": "white",
            "ticks": ""
           },
           "baxis": {
            "gridcolor": "white",
            "linecolor": "white",
            "ticks": ""
           },
           "bgcolor": "#E5ECF6",
           "caxis": {
            "gridcolor": "white",
            "linecolor": "white",
            "ticks": ""
           }
          },
          "title": {
           "x": 0.05
          },
          "xaxis": {
           "automargin": true,
           "gridcolor": "white",
           "linecolor": "white",
           "ticks": "",
           "title": {
            "standoff": 15
           },
           "zerolinecolor": "white",
           "zerolinewidth": 2
          },
          "yaxis": {
           "automargin": true,
           "gridcolor": "white",
           "linecolor": "white",
           "ticks": "",
           "title": {
            "standoff": 15
           },
           "zerolinecolor": "white",
           "zerolinewidth": 2
          }
         }
        },
        "title": {
         "text": "Frequency Distribution of Maize Production"
        },
        "xaxis": {
         "anchor": "y",
         "domain": [
          0,
          1
         ],
         "title": {
          "text": "Maize_Production"
         }
        },
        "yaxis": {
         "anchor": "x",
         "domain": [
          0,
          1
         ],
         "title": {
          "text": "count"
         }
        }
       }
      }
     },
     "metadata": {},
     "output_type": "display_data"
    }
   ],
   "source": [
    "import plotly.express as px\n",
    "\n",
    "# Create a histogram for Maize_Production\n",
    "fig = px.histogram(Working_Directory, x='Maize_Production', nbins=10, title='Frequency Distribution of Maize Production')\n",
    "\n",
    "# Show the histogram\n",
    "fig.show()"
   ]
  },
  {
   "cell_type": "code",
   "execution_count": 173,
   "metadata": {},
   "outputs": [
    {
     "name": "stdout",
     "output_type": "stream",
     "text": [
      "10th percentile: 1759.0\n",
      "15th percentile: 2732.0\n",
      "20th percentile: 2879.0\n",
      "25th percentile: 12535.5\n",
      "75th percentile: 208289.5\n",
      "90th percentile: 333937.0\n",
      "95th percentile: 495122.5\n",
      "99th percentile: 588508.2\n"
     ]
    }
   ],
   "source": [
    "# List of desired percentiles\n",
    "percentiles = [0.1, 0.15, 0.20, 0.25, 0.75, 0.90, 0.95, 0.99]\n",
    "\n",
    "# Calculate quantiles for the given percentiles\n",
    "quantile_values = Working_Directory['Maize_Production'].quantile(percentiles)\n",
    "\n",
    "# Print each quantile with its corresponding percentile\n",
    "for p, q in zip(percentiles, quantile_values):\n",
    "    print(f\"{int(p*100)}th percentile: {q}\")"
   ]
  },
  {
   "cell_type": "code",
   "execution_count": 174,
   "metadata": {},
   "outputs": [
    {
     "name": "stdout",
     "output_type": "stream",
     "text": [
      "30\n"
     ]
    }
   ],
   "source": [
    "# Ensure that the index of y and Case_file are aligned\n",
    "y = y.loc[Case_file.index]\n",
    "\n",
    "# Identify rows in Case_file that have any zeros\n",
    "rows_to_remove = (Case_file == 0).any(axis=1)\n",
    "\n",
    "rows_to_remove |= Working_Directory['Maize_Production']  < 1000\n",
    "\n",
    "rows_to_remove |= Working_Directory['Maize_Production'] > 500000\n",
    "\n",
    "delta_O = 0.05*(Working_Directory[~rows_to_remove]['Maize_Production'].mean())\n",
    "\n",
    "rows_to_remove = (Case_file == 0).any(axis=1)\n",
    "\n",
    "# Calculate Q1 and Q3 for 'Maize_Production'\n",
    "Q1 = Working_Directory['Maize_Production'].quantile(0.10)\n",
    "Q3 = Working_Directory['Maize_Production'].quantile(0.95)\n",
    "\n",
    "rows_below_Q1 = (Working_Directory['Maize_Production'] < Q1 ) & (Working_Directory['Maize_Production'] != 0)\n",
    "rows_above_Q3 = Working_Directory['Maize_Production'] > Q3\n",
    "\n",
    "Working_Directory.loc[rows_below_Q1, 'Maize_Production'] = Q1\n",
    "\n",
    "Working_Directory.loc[rows_above_Q3, 'Maize_Production'] = Q3\n",
    "\n",
    "# Update Case_file and y\n",
    "Case_file = Case_file[~rows_to_remove].reset_index(drop=True)\n",
    "y = Working_Directory['Maize_Production'][~rows_to_remove].reset_index(drop=True)\n",
    "\n",
    "# Verify the length of Case_file\n",
    "case_file_length = len(Case_file)\n",
    "print(case_file_length)\n"
   ]
  },
  {
   "cell_type": "code",
   "execution_count": 175,
   "metadata": {},
   "outputs": [
    {
     "data": {
      "text/plain": [
       "1759.0"
      ]
     },
     "execution_count": 175,
     "metadata": {},
     "output_type": "execute_result"
    }
   ],
   "source": [
    "Q1"
   ]
  },
  {
   "cell_type": "code",
   "execution_count": 176,
   "metadata": {},
   "outputs": [
    {
     "data": {
      "text/plain": [
       "495122.5"
      ]
     },
     "execution_count": 176,
     "metadata": {},
     "output_type": "execute_result"
    }
   ],
   "source": [
    "Q3"
   ]
  },
  {
   "cell_type": "code",
   "execution_count": 177,
   "metadata": {},
   "outputs": [
    {
     "data": {
      "text/html": [
       "<div>\n",
       "<style scoped>\n",
       "    .dataframe tbody tr th:only-of-type {\n",
       "        vertical-align: middle;\n",
       "    }\n",
       "\n",
       "    .dataframe tbody tr th {\n",
       "        vertical-align: top;\n",
       "    }\n",
       "\n",
       "    .dataframe thead th {\n",
       "        text-align: right;\n",
       "    }\n",
       "</style>\n",
       "<table border=\"1\" class=\"dataframe\">\n",
       "  <thead>\n",
       "    <tr style=\"text-align: right;\">\n",
       "      <th></th>\n",
       "      <th>District</th>\n",
       "      <th>Maize_Production</th>\n",
       "      <th>TotalNPK</th>\n",
       "      <th>SowingSeedsDistributed_Maize</th>\n",
       "      <th>LivestockCensus_2012_Cattle</th>\n",
       "      <th>AreaUnderCereals_Maize</th>\n",
       "      <th>NetAreaIrrigatedUnderDifferentSources_TubeWells_NetIrrigatedArea</th>\n",
       "      <th>Maize_Ratio</th>\n",
       "    </tr>\n",
       "  </thead>\n",
       "  <tbody>\n",
       "    <tr>\n",
       "      <th>11</th>\n",
       "      <td>UDUPI</td>\n",
       "      <td>1759.0</td>\n",
       "      <td>2.304863</td>\n",
       "      <td>0.00</td>\n",
       "      <td>94.499008</td>\n",
       "      <td>8.0</td>\n",
       "      <td>0.262053</td>\n",
       "      <td>0.000375</td>\n",
       "    </tr>\n",
       "    <tr>\n",
       "      <th>28</th>\n",
       "      <td>RAICHUR</td>\n",
       "      <td>1759.0</td>\n",
       "      <td>61.547519</td>\n",
       "      <td>14.35</td>\n",
       "      <td>188.537479</td>\n",
       "      <td>2600.0</td>\n",
       "      <td>13.949581</td>\n",
       "      <td>0.000525</td>\n",
       "    </tr>\n",
       "  </tbody>\n",
       "</table>\n",
       "</div>"
      ],
      "text/plain": [
       "   District  Maize_Production   TotalNPK  SowingSeedsDistributed_Maize  \\\n",
       "11    UDUPI            1759.0   2.304863                          0.00   \n",
       "28  RAICHUR            1759.0  61.547519                         14.35   \n",
       "\n",
       "    LivestockCensus_2012_Cattle  AreaUnderCereals_Maize  \\\n",
       "11                    94.499008                     8.0   \n",
       "28                   188.537479                  2600.0   \n",
       "\n",
       "    NetAreaIrrigatedUnderDifferentSources_TubeWells_NetIrrigatedArea  \\\n",
       "11                                           0.262053                  \n",
       "28                                          13.949581                  \n",
       "\n",
       "    Maize_Ratio  \n",
       "11     0.000375  \n",
       "28     0.000525  "
      ]
     },
     "execution_count": 177,
     "metadata": {},
     "output_type": "execute_result"
    }
   ],
   "source": [
    "Working_Directory.loc[rows_below_Q1]"
   ]
  },
  {
   "cell_type": "code",
   "execution_count": 178,
   "metadata": {},
   "outputs": [
    {
     "data": {
      "text/html": [
       "<div>\n",
       "<style scoped>\n",
       "    .dataframe tbody tr th:only-of-type {\n",
       "        vertical-align: middle;\n",
       "    }\n",
       "\n",
       "    .dataframe tbody tr th {\n",
       "        vertical-align: top;\n",
       "    }\n",
       "\n",
       "    .dataframe thead th {\n",
       "        text-align: right;\n",
       "    }\n",
       "</style>\n",
       "<table border=\"1\" class=\"dataframe\">\n",
       "  <thead>\n",
       "    <tr style=\"text-align: right;\">\n",
       "      <th></th>\n",
       "      <th>District</th>\n",
       "      <th>Maize_Production</th>\n",
       "      <th>TotalNPK</th>\n",
       "      <th>SowingSeedsDistributed_Maize</th>\n",
       "      <th>LivestockCensus_2012_Cattle</th>\n",
       "      <th>AreaUnderCereals_Maize</th>\n",
       "      <th>NetAreaIrrigatedUnderDifferentSources_TubeWells_NetIrrigatedArea</th>\n",
       "      <th>Maize_Ratio</th>\n",
       "    </tr>\n",
       "  </thead>\n",
       "  <tbody>\n",
       "    <tr>\n",
       "      <th>4</th>\n",
       "      <td>DAVANAGERE</td>\n",
       "      <td>495122.5</td>\n",
       "      <td>25702.835480</td>\n",
       "      <td>6124.60</td>\n",
       "      <td>85657.632091</td>\n",
       "      <td>173400.0</td>\n",
       "      <td>20213.730878</td>\n",
       "      <td>0.257947</td>\n",
       "    </tr>\n",
       "    <tr>\n",
       "      <th>17</th>\n",
       "      <td>BELAGAVI</td>\n",
       "      <td>495122.5</td>\n",
       "      <td>48288.815127</td>\n",
       "      <td>11883.58</td>\n",
       "      <td>159047.086192</td>\n",
       "      <td>131163.0</td>\n",
       "      <td>37481.297967</td>\n",
       "      <td>0.268283</td>\n",
       "    </tr>\n",
       "  </tbody>\n",
       "</table>\n",
       "</div>"
      ],
      "text/plain": [
       "      District  Maize_Production      TotalNPK  SowingSeedsDistributed_Maize  \\\n",
       "4   DAVANAGERE          495122.5  25702.835480                       6124.60   \n",
       "17    BELAGAVI          495122.5  48288.815127                      11883.58   \n",
       "\n",
       "    LivestockCensus_2012_Cattle  AreaUnderCereals_Maize  \\\n",
       "4                  85657.632091                173400.0   \n",
       "17                159047.086192                131163.0   \n",
       "\n",
       "    NetAreaIrrigatedUnderDifferentSources_TubeWells_NetIrrigatedArea  \\\n",
       "4                                        20213.730878                  \n",
       "17                                       37481.297967                  \n",
       "\n",
       "    Maize_Ratio  \n",
       "4      0.257947  \n",
       "17     0.268283  "
      ]
     },
     "execution_count": 178,
     "metadata": {},
     "output_type": "execute_result"
    }
   ],
   "source": [
    "Working_Directory.loc[rows_above_Q3]"
   ]
  },
  {
   "cell_type": "code",
   "execution_count": 179,
   "metadata": {},
   "outputs": [
    {
     "data": {
      "text/plain": [
       "Index(['LivestockCensus_2012_Cattle', 'AreaUnderCereals_Maize', 'TotalNPK'], dtype='object')"
      ]
     },
     "execution_count": 179,
     "metadata": {},
     "output_type": "execute_result"
    }
   ],
   "source": [
    "Case_file.columns"
   ]
  },
  {
   "cell_type": "code",
   "execution_count": 180,
   "metadata": {},
   "outputs": [
    {
     "data": {
      "application/vnd.plotly.v1+json": {
       "config": {
        "plotlyServerURL": "https://plot.ly"
       },
       "data": [
        {
         "alignmentgroup": "True",
         "boxpoints": "all",
         "hovertemplate": "Columns=%{x}<br>Values=%{y}<extra></extra>",
         "legendgroup": "",
         "marker": {
          "color": "#636efa"
         },
         "name": "",
         "notched": false,
         "offsetgroup": "",
         "orientation": "v",
         "showlegend": false,
         "type": "box",
         "x": [
          "LivestockCensus_2012_Cattle",
          "LivestockCensus_2012_Cattle",
          "LivestockCensus_2012_Cattle",
          "LivestockCensus_2012_Cattle",
          "LivestockCensus_2012_Cattle",
          "LivestockCensus_2012_Cattle",
          "LivestockCensus_2012_Cattle",
          "LivestockCensus_2012_Cattle",
          "LivestockCensus_2012_Cattle",
          "LivestockCensus_2012_Cattle",
          "LivestockCensus_2012_Cattle",
          "LivestockCensus_2012_Cattle",
          "LivestockCensus_2012_Cattle",
          "LivestockCensus_2012_Cattle",
          "LivestockCensus_2012_Cattle",
          "LivestockCensus_2012_Cattle",
          "LivestockCensus_2012_Cattle",
          "LivestockCensus_2012_Cattle",
          "LivestockCensus_2012_Cattle",
          "LivestockCensus_2012_Cattle",
          "LivestockCensus_2012_Cattle",
          "LivestockCensus_2012_Cattle",
          "LivestockCensus_2012_Cattle",
          "LivestockCensus_2012_Cattle",
          "LivestockCensus_2012_Cattle",
          "LivestockCensus_2012_Cattle",
          "LivestockCensus_2012_Cattle",
          "LivestockCensus_2012_Cattle",
          "LivestockCensus_2012_Cattle",
          "LivestockCensus_2012_Cattle",
          "AreaUnderCereals_Maize",
          "AreaUnderCereals_Maize",
          "AreaUnderCereals_Maize",
          "AreaUnderCereals_Maize",
          "AreaUnderCereals_Maize",
          "AreaUnderCereals_Maize",
          "AreaUnderCereals_Maize",
          "AreaUnderCereals_Maize",
          "AreaUnderCereals_Maize",
          "AreaUnderCereals_Maize",
          "AreaUnderCereals_Maize",
          "AreaUnderCereals_Maize",
          "AreaUnderCereals_Maize",
          "AreaUnderCereals_Maize",
          "AreaUnderCereals_Maize",
          "AreaUnderCereals_Maize",
          "AreaUnderCereals_Maize",
          "AreaUnderCereals_Maize",
          "AreaUnderCereals_Maize",
          "AreaUnderCereals_Maize",
          "AreaUnderCereals_Maize",
          "AreaUnderCereals_Maize",
          "AreaUnderCereals_Maize",
          "AreaUnderCereals_Maize",
          "AreaUnderCereals_Maize",
          "AreaUnderCereals_Maize",
          "AreaUnderCereals_Maize",
          "AreaUnderCereals_Maize",
          "AreaUnderCereals_Maize",
          "AreaUnderCereals_Maize",
          "TotalNPK",
          "TotalNPK",
          "TotalNPK",
          "TotalNPK",
          "TotalNPK",
          "TotalNPK",
          "TotalNPK",
          "TotalNPK",
          "TotalNPK",
          "TotalNPK",
          "TotalNPK",
          "TotalNPK",
          "TotalNPK",
          "TotalNPK",
          "TotalNPK",
          "TotalNPK",
          "TotalNPK",
          "TotalNPK",
          "TotalNPK",
          "TotalNPK",
          "TotalNPK",
          "TotalNPK",
          "TotalNPK",
          "TotalNPK",
          "TotalNPK",
          "TotalNPK",
          "TotalNPK",
          "TotalNPK",
          "TotalNPK",
          "TotalNPK"
         ],
         "x0": " ",
         "xaxis": "x",
         "y": [
          2567.4615781397915,
          25037.139271434902,
          7729.6142768509,
          83821.5930925161,
          85657.63209061667,
          2278.829820691199,
          71206.94530941734,
          104722.00036268622,
          37944.09375585408,
          40572.44563026344,
          94.49900772835473,
          151008.14025035864,
          7599.582730293919,
          8774.134623334778,
          61547.7274444302,
          80396.92668339919,
          159047.08619222807,
          48619.50707986088,
          75578.05199878349,
          33424.64560047958,
          34261.98176791555,
          95150.64026866147,
          22563.771075595512,
          23446.847903114674,
          2371.831677930168,
          6221.617909951043,
          1253.3171435038448,
          188.5374792507721,
          38936.40017227124,
          23446.847903114674,
          1129,
          14867,
          1987,
          92194,
          173400,
          640,
          59377,
          43827,
          24207,
          25831,
          8,
          79058,
          3448,
          4892,
          37283,
          38569,
          131163,
          40207,
          44300,
          30900,
          34163,
          170696,
          4576,
          49869.5,
          1382,
          2634,
          961,
          2600,
          48210,
          49869.5,
          438.18020959159,
          3036.080249518731,
          222.2252579930893,
          10902.40657123643,
          25702.835480049405,
          220.78290627297764,
          8196.896748542242,
          10428.246255833676,
          2746.313634885738,
          8156.290369595493,
          2.304862990847373,
          17039.273893533446,
          3519.022414363608,
          1448.8303553468602,
          6945.331414932335,
          7289.68477009352,
          48288.81512653903,
          10420.071652709004,
          22940.52125376528,
          6447.725407503971,
          5591.244159385049,
          21731.17072230065,
          1025.6168265608787,
          8404.154607960514,
          249.38118239631788,
          710.1016144409234,
          368.61746944318605,
          61.54751946392963,
          10997.55040348566,
          8404.154607960514
         ],
         "y0": " ",
         "yaxis": "y"
        }
       ],
       "layout": {
        "boxmode": "group",
        "legend": {
         "tracegroupgap": 0
        },
        "template": {
         "data": {
          "bar": [
           {
            "error_x": {
             "color": "#2a3f5f"
            },
            "error_y": {
             "color": "#2a3f5f"
            },
            "marker": {
             "line": {
              "color": "#E5ECF6",
              "width": 0.5
             },
             "pattern": {
              "fillmode": "overlay",
              "size": 10,
              "solidity": 0.2
             }
            },
            "type": "bar"
           }
          ],
          "barpolar": [
           {
            "marker": {
             "line": {
              "color": "#E5ECF6",
              "width": 0.5
             },
             "pattern": {
              "fillmode": "overlay",
              "size": 10,
              "solidity": 0.2
             }
            },
            "type": "barpolar"
           }
          ],
          "carpet": [
           {
            "aaxis": {
             "endlinecolor": "#2a3f5f",
             "gridcolor": "white",
             "linecolor": "white",
             "minorgridcolor": "white",
             "startlinecolor": "#2a3f5f"
            },
            "baxis": {
             "endlinecolor": "#2a3f5f",
             "gridcolor": "white",
             "linecolor": "white",
             "minorgridcolor": "white",
             "startlinecolor": "#2a3f5f"
            },
            "type": "carpet"
           }
          ],
          "choropleth": [
           {
            "colorbar": {
             "outlinewidth": 0,
             "ticks": ""
            },
            "type": "choropleth"
           }
          ],
          "contour": [
           {
            "colorbar": {
             "outlinewidth": 0,
             "ticks": ""
            },
            "colorscale": [
             [
              0,
              "#0d0887"
             ],
             [
              0.1111111111111111,
              "#46039f"
             ],
             [
              0.2222222222222222,
              "#7201a8"
             ],
             [
              0.3333333333333333,
              "#9c179e"
             ],
             [
              0.4444444444444444,
              "#bd3786"
             ],
             [
              0.5555555555555556,
              "#d8576b"
             ],
             [
              0.6666666666666666,
              "#ed7953"
             ],
             [
              0.7777777777777778,
              "#fb9f3a"
             ],
             [
              0.8888888888888888,
              "#fdca26"
             ],
             [
              1,
              "#f0f921"
             ]
            ],
            "type": "contour"
           }
          ],
          "contourcarpet": [
           {
            "colorbar": {
             "outlinewidth": 0,
             "ticks": ""
            },
            "type": "contourcarpet"
           }
          ],
          "heatmap": [
           {
            "colorbar": {
             "outlinewidth": 0,
             "ticks": ""
            },
            "colorscale": [
             [
              0,
              "#0d0887"
             ],
             [
              0.1111111111111111,
              "#46039f"
             ],
             [
              0.2222222222222222,
              "#7201a8"
             ],
             [
              0.3333333333333333,
              "#9c179e"
             ],
             [
              0.4444444444444444,
              "#bd3786"
             ],
             [
              0.5555555555555556,
              "#d8576b"
             ],
             [
              0.6666666666666666,
              "#ed7953"
             ],
             [
              0.7777777777777778,
              "#fb9f3a"
             ],
             [
              0.8888888888888888,
              "#fdca26"
             ],
             [
              1,
              "#f0f921"
             ]
            ],
            "type": "heatmap"
           }
          ],
          "heatmapgl": [
           {
            "colorbar": {
             "outlinewidth": 0,
             "ticks": ""
            },
            "colorscale": [
             [
              0,
              "#0d0887"
             ],
             [
              0.1111111111111111,
              "#46039f"
             ],
             [
              0.2222222222222222,
              "#7201a8"
             ],
             [
              0.3333333333333333,
              "#9c179e"
             ],
             [
              0.4444444444444444,
              "#bd3786"
             ],
             [
              0.5555555555555556,
              "#d8576b"
             ],
             [
              0.6666666666666666,
              "#ed7953"
             ],
             [
              0.7777777777777778,
              "#fb9f3a"
             ],
             [
              0.8888888888888888,
              "#fdca26"
             ],
             [
              1,
              "#f0f921"
             ]
            ],
            "type": "heatmapgl"
           }
          ],
          "histogram": [
           {
            "marker": {
             "pattern": {
              "fillmode": "overlay",
              "size": 10,
              "solidity": 0.2
             }
            },
            "type": "histogram"
           }
          ],
          "histogram2d": [
           {
            "colorbar": {
             "outlinewidth": 0,
             "ticks": ""
            },
            "colorscale": [
             [
              0,
              "#0d0887"
             ],
             [
              0.1111111111111111,
              "#46039f"
             ],
             [
              0.2222222222222222,
              "#7201a8"
             ],
             [
              0.3333333333333333,
              "#9c179e"
             ],
             [
              0.4444444444444444,
              "#bd3786"
             ],
             [
              0.5555555555555556,
              "#d8576b"
             ],
             [
              0.6666666666666666,
              "#ed7953"
             ],
             [
              0.7777777777777778,
              "#fb9f3a"
             ],
             [
              0.8888888888888888,
              "#fdca26"
             ],
             [
              1,
              "#f0f921"
             ]
            ],
            "type": "histogram2d"
           }
          ],
          "histogram2dcontour": [
           {
            "colorbar": {
             "outlinewidth": 0,
             "ticks": ""
            },
            "colorscale": [
             [
              0,
              "#0d0887"
             ],
             [
              0.1111111111111111,
              "#46039f"
             ],
             [
              0.2222222222222222,
              "#7201a8"
             ],
             [
              0.3333333333333333,
              "#9c179e"
             ],
             [
              0.4444444444444444,
              "#bd3786"
             ],
             [
              0.5555555555555556,
              "#d8576b"
             ],
             [
              0.6666666666666666,
              "#ed7953"
             ],
             [
              0.7777777777777778,
              "#fb9f3a"
             ],
             [
              0.8888888888888888,
              "#fdca26"
             ],
             [
              1,
              "#f0f921"
             ]
            ],
            "type": "histogram2dcontour"
           }
          ],
          "mesh3d": [
           {
            "colorbar": {
             "outlinewidth": 0,
             "ticks": ""
            },
            "type": "mesh3d"
           }
          ],
          "parcoords": [
           {
            "line": {
             "colorbar": {
              "outlinewidth": 0,
              "ticks": ""
             }
            },
            "type": "parcoords"
           }
          ],
          "pie": [
           {
            "automargin": true,
            "type": "pie"
           }
          ],
          "scatter": [
           {
            "fillpattern": {
             "fillmode": "overlay",
             "size": 10,
             "solidity": 0.2
            },
            "type": "scatter"
           }
          ],
          "scatter3d": [
           {
            "line": {
             "colorbar": {
              "outlinewidth": 0,
              "ticks": ""
             }
            },
            "marker": {
             "colorbar": {
              "outlinewidth": 0,
              "ticks": ""
             }
            },
            "type": "scatter3d"
           }
          ],
          "scattercarpet": [
           {
            "marker": {
             "colorbar": {
              "outlinewidth": 0,
              "ticks": ""
             }
            },
            "type": "scattercarpet"
           }
          ],
          "scattergeo": [
           {
            "marker": {
             "colorbar": {
              "outlinewidth": 0,
              "ticks": ""
             }
            },
            "type": "scattergeo"
           }
          ],
          "scattergl": [
           {
            "marker": {
             "colorbar": {
              "outlinewidth": 0,
              "ticks": ""
             }
            },
            "type": "scattergl"
           }
          ],
          "scattermapbox": [
           {
            "marker": {
             "colorbar": {
              "outlinewidth": 0,
              "ticks": ""
             }
            },
            "type": "scattermapbox"
           }
          ],
          "scatterpolar": [
           {
            "marker": {
             "colorbar": {
              "outlinewidth": 0,
              "ticks": ""
             }
            },
            "type": "scatterpolar"
           }
          ],
          "scatterpolargl": [
           {
            "marker": {
             "colorbar": {
              "outlinewidth": 0,
              "ticks": ""
             }
            },
            "type": "scatterpolargl"
           }
          ],
          "scatterternary": [
           {
            "marker": {
             "colorbar": {
              "outlinewidth": 0,
              "ticks": ""
             }
            },
            "type": "scatterternary"
           }
          ],
          "surface": [
           {
            "colorbar": {
             "outlinewidth": 0,
             "ticks": ""
            },
            "colorscale": [
             [
              0,
              "#0d0887"
             ],
             [
              0.1111111111111111,
              "#46039f"
             ],
             [
              0.2222222222222222,
              "#7201a8"
             ],
             [
              0.3333333333333333,
              "#9c179e"
             ],
             [
              0.4444444444444444,
              "#bd3786"
             ],
             [
              0.5555555555555556,
              "#d8576b"
             ],
             [
              0.6666666666666666,
              "#ed7953"
             ],
             [
              0.7777777777777778,
              "#fb9f3a"
             ],
             [
              0.8888888888888888,
              "#fdca26"
             ],
             [
              1,
              "#f0f921"
             ]
            ],
            "type": "surface"
           }
          ],
          "table": [
           {
            "cells": {
             "fill": {
              "color": "#EBF0F8"
             },
             "line": {
              "color": "white"
             }
            },
            "header": {
             "fill": {
              "color": "#C8D4E3"
             },
             "line": {
              "color": "white"
             }
            },
            "type": "table"
           }
          ]
         },
         "layout": {
          "annotationdefaults": {
           "arrowcolor": "#2a3f5f",
           "arrowhead": 0,
           "arrowwidth": 1
          },
          "autotypenumbers": "strict",
          "coloraxis": {
           "colorbar": {
            "outlinewidth": 0,
            "ticks": ""
           }
          },
          "colorscale": {
           "diverging": [
            [
             0,
             "#8e0152"
            ],
            [
             0.1,
             "#c51b7d"
            ],
            [
             0.2,
             "#de77ae"
            ],
            [
             0.3,
             "#f1b6da"
            ],
            [
             0.4,
             "#fde0ef"
            ],
            [
             0.5,
             "#f7f7f7"
            ],
            [
             0.6,
             "#e6f5d0"
            ],
            [
             0.7,
             "#b8e186"
            ],
            [
             0.8,
             "#7fbc41"
            ],
            [
             0.9,
             "#4d9221"
            ],
            [
             1,
             "#276419"
            ]
           ],
           "sequential": [
            [
             0,
             "#0d0887"
            ],
            [
             0.1111111111111111,
             "#46039f"
            ],
            [
             0.2222222222222222,
             "#7201a8"
            ],
            [
             0.3333333333333333,
             "#9c179e"
            ],
            [
             0.4444444444444444,
             "#bd3786"
            ],
            [
             0.5555555555555556,
             "#d8576b"
            ],
            [
             0.6666666666666666,
             "#ed7953"
            ],
            [
             0.7777777777777778,
             "#fb9f3a"
            ],
            [
             0.8888888888888888,
             "#fdca26"
            ],
            [
             1,
             "#f0f921"
            ]
           ],
           "sequentialminus": [
            [
             0,
             "#0d0887"
            ],
            [
             0.1111111111111111,
             "#46039f"
            ],
            [
             0.2222222222222222,
             "#7201a8"
            ],
            [
             0.3333333333333333,
             "#9c179e"
            ],
            [
             0.4444444444444444,
             "#bd3786"
            ],
            [
             0.5555555555555556,
             "#d8576b"
            ],
            [
             0.6666666666666666,
             "#ed7953"
            ],
            [
             0.7777777777777778,
             "#fb9f3a"
            ],
            [
             0.8888888888888888,
             "#fdca26"
            ],
            [
             1,
             "#f0f921"
            ]
           ]
          },
          "colorway": [
           "#636efa",
           "#EF553B",
           "#00cc96",
           "#ab63fa",
           "#FFA15A",
           "#19d3f3",
           "#FF6692",
           "#B6E880",
           "#FF97FF",
           "#FECB52"
          ],
          "font": {
           "color": "#2a3f5f"
          },
          "geo": {
           "bgcolor": "white",
           "lakecolor": "white",
           "landcolor": "#E5ECF6",
           "showlakes": true,
           "showland": true,
           "subunitcolor": "white"
          },
          "hoverlabel": {
           "align": "left"
          },
          "hovermode": "closest",
          "mapbox": {
           "style": "light"
          },
          "paper_bgcolor": "white",
          "plot_bgcolor": "#E5ECF6",
          "polar": {
           "angularaxis": {
            "gridcolor": "white",
            "linecolor": "white",
            "ticks": ""
           },
           "bgcolor": "#E5ECF6",
           "radialaxis": {
            "gridcolor": "white",
            "linecolor": "white",
            "ticks": ""
           }
          },
          "scene": {
           "xaxis": {
            "backgroundcolor": "#E5ECF6",
            "gridcolor": "white",
            "gridwidth": 2,
            "linecolor": "white",
            "showbackground": true,
            "ticks": "",
            "zerolinecolor": "white"
           },
           "yaxis": {
            "backgroundcolor": "#E5ECF6",
            "gridcolor": "white",
            "gridwidth": 2,
            "linecolor": "white",
            "showbackground": true,
            "ticks": "",
            "zerolinecolor": "white"
           },
           "zaxis": {
            "backgroundcolor": "#E5ECF6",
            "gridcolor": "white",
            "gridwidth": 2,
            "linecolor": "white",
            "showbackground": true,
            "ticks": "",
            "zerolinecolor": "white"
           }
          },
          "shapedefaults": {
           "line": {
            "color": "#2a3f5f"
           }
          },
          "ternary": {
           "aaxis": {
            "gridcolor": "white",
            "linecolor": "white",
            "ticks": ""
           },
           "baxis": {
            "gridcolor": "white",
            "linecolor": "white",
            "ticks": ""
           },
           "bgcolor": "#E5ECF6",
           "caxis": {
            "gridcolor": "white",
            "linecolor": "white",
            "ticks": ""
           }
          },
          "title": {
           "x": 0.05
          },
          "xaxis": {
           "automargin": true,
           "gridcolor": "white",
           "linecolor": "white",
           "ticks": "",
           "title": {
            "standoff": 15
           },
           "zerolinecolor": "white",
           "zerolinewidth": 2
          },
          "yaxis": {
           "automargin": true,
           "gridcolor": "white",
           "linecolor": "white",
           "ticks": "",
           "title": {
            "standoff": 15
           },
           "zerolinecolor": "white",
           "zerolinewidth": 2
          }
         }
        },
        "title": {
         "text": "Box Plots of Case_file Columns and Maize Production"
        },
        "xaxis": {
         "anchor": "y",
         "domain": [
          0,
          1
         ],
         "title": {
          "text": "Columns"
         }
        },
        "yaxis": {
         "anchor": "x",
         "domain": [
          0,
          1
         ],
         "title": {
          "text": "Values"
         }
        }
       }
      }
     },
     "metadata": {},
     "output_type": "display_data"
    }
   ],
   "source": [
    "import plotly.express as px\n",
    "import pandas as pd\n",
    "\n",
    "# df['Maize_Production'] = y  # Add the y column to the Case_file DataFrame\n",
    "\n",
    "# Melt the DataFrame to a long format for easier plotting\n",
    "Case_file_melt = Case_file.melt(var_name='Columns', value_name='Values')\n",
    "\n",
    "# Create box plots for each column\n",
    "fig = px.box(Case_file_melt, x='Columns', y='Values', title='Box Plots of Case_file Columns and Maize Production',points = \"all\")\n",
    "\n",
    "# Show the figure\n",
    "fig.show()\n"
   ]
  },
  {
   "cell_type": "code",
   "execution_count": 181,
   "metadata": {},
   "outputs": [
    {
     "data": {
      "text/html": [
       "<div>\n",
       "<style scoped>\n",
       "    .dataframe tbody tr th:only-of-type {\n",
       "        vertical-align: middle;\n",
       "    }\n",
       "\n",
       "    .dataframe tbody tr th {\n",
       "        vertical-align: top;\n",
       "    }\n",
       "\n",
       "    .dataframe thead th {\n",
       "        text-align: right;\n",
       "    }\n",
       "</style>\n",
       "<table border=\"1\" class=\"dataframe\">\n",
       "  <thead>\n",
       "    <tr style=\"text-align: right;\">\n",
       "      <th></th>\n",
       "      <th>District</th>\n",
       "      <th>Maize_Production</th>\n",
       "      <th>TotalNPK</th>\n",
       "      <th>SowingSeedsDistributed_Maize</th>\n",
       "      <th>LivestockCensus_2012_Cattle</th>\n",
       "      <th>AreaUnderCereals_Maize</th>\n",
       "      <th>NetAreaIrrigatedUnderDifferentSources_TubeWells_NetIrrigatedArea</th>\n",
       "      <th>Maize_Ratio</th>\n",
       "    </tr>\n",
       "  </thead>\n",
       "  <tbody>\n",
       "    <tr>\n",
       "      <th>0</th>\n",
       "      <td>BENGALURU</td>\n",
       "      <td>2879.0</td>\n",
       "      <td>438.180210</td>\n",
       "      <td>4.450</td>\n",
       "      <td>2567.461578</td>\n",
       "      <td>1129.0</td>\n",
       "      <td>175.723235</td>\n",
       "      <td>0.018798</td>\n",
       "    </tr>\n",
       "    <tr>\n",
       "      <th>1</th>\n",
       "      <td>BENGALURU(R)</td>\n",
       "      <td>42583.0</td>\n",
       "      <td>3036.080250</td>\n",
       "      <td>134.730</td>\n",
       "      <td>25037.139271</td>\n",
       "      <td>14867.0</td>\n",
       "      <td>3197.193185</td>\n",
       "      <td>0.157645</td>\n",
       "    </tr>\n",
       "    <tr>\n",
       "      <th>2</th>\n",
       "      <td>RAMANAGARA</td>\n",
       "      <td>10450.0</td>\n",
       "      <td>222.225258</td>\n",
       "      <td>260.150</td>\n",
       "      <td>7729.614277</td>\n",
       "      <td>1987.0</td>\n",
       "      <td>709.859804</td>\n",
       "      <td>0.029741</td>\n",
       "    </tr>\n",
       "    <tr>\n",
       "      <th>3</th>\n",
       "      <td>CHITRADURGA</td>\n",
       "      <td>271975.0</td>\n",
       "      <td>10902.406571</td>\n",
       "      <td>5004.000</td>\n",
       "      <td>83821.593093</td>\n",
       "      <td>92194.0</td>\n",
       "      <td>28105.507253</td>\n",
       "      <td>0.303824</td>\n",
       "    </tr>\n",
       "    <tr>\n",
       "      <th>4</th>\n",
       "      <td>DAVANAGERE</td>\n",
       "      <td>495122.5</td>\n",
       "      <td>25702.835480</td>\n",
       "      <td>6124.600</td>\n",
       "      <td>85657.632091</td>\n",
       "      <td>173400.0</td>\n",
       "      <td>20213.730878</td>\n",
       "      <td>0.257947</td>\n",
       "    </tr>\n",
       "    <tr>\n",
       "      <th>5</th>\n",
       "      <td>KOLAR</td>\n",
       "      <td>1759.0</td>\n",
       "      <td>220.782906</td>\n",
       "      <td>51.500</td>\n",
       "      <td>2278.829821</td>\n",
       "      <td>640.0</td>\n",
       "      <td>200.386108</td>\n",
       "      <td>0.009950</td>\n",
       "    </tr>\n",
       "    <tr>\n",
       "      <th>6</th>\n",
       "      <td>CHIKKABALLAPURA</td>\n",
       "      <td>105491.0</td>\n",
       "      <td>8196.896749</td>\n",
       "      <td>3538.150</td>\n",
       "      <td>71206.945309</td>\n",
       "      <td>59377.0</td>\n",
       "      <td>14559.991862</td>\n",
       "      <td>0.289061</td>\n",
       "    </tr>\n",
       "    <tr>\n",
       "      <th>7</th>\n",
       "      <td>SHIVAMOGGA</td>\n",
       "      <td>226532.0</td>\n",
       "      <td>10428.246256</td>\n",
       "      <td>3814.020</td>\n",
       "      <td>104722.000363</td>\n",
       "      <td>43827.0</td>\n",
       "      <td>5958.813645</td>\n",
       "      <td>0.184215</td>\n",
       "    </tr>\n",
       "    <tr>\n",
       "      <th>8</th>\n",
       "      <td>TUMAKURU</td>\n",
       "      <td>66868.0</td>\n",
       "      <td>2746.313635</td>\n",
       "      <td>1639.850</td>\n",
       "      <td>37944.093756</td>\n",
       "      <td>24207.0</td>\n",
       "      <td>10417.677296</td>\n",
       "      <td>0.071991</td>\n",
       "    </tr>\n",
       "    <tr>\n",
       "      <th>9</th>\n",
       "      <td>CHIKKAMAGALURU</td>\n",
       "      <td>61353.0</td>\n",
       "      <td>8156.290370</td>\n",
       "      <td>2923.790</td>\n",
       "      <td>40572.445630</td>\n",
       "      <td>25831.0</td>\n",
       "      <td>3145.789961</td>\n",
       "      <td>0.120188</td>\n",
       "    </tr>\n",
       "    <tr>\n",
       "      <th>10</th>\n",
       "      <td>DAKSHINA KANNADA</td>\n",
       "      <td>0.0</td>\n",
       "      <td>0.000000</td>\n",
       "      <td>0.000</td>\n",
       "      <td>0.000000</td>\n",
       "      <td>0.0</td>\n",
       "      <td>0.000000</td>\n",
       "      <td>0.000000</td>\n",
       "    </tr>\n",
       "    <tr>\n",
       "      <th>11</th>\n",
       "      <td>UDUPI</td>\n",
       "      <td>1759.0</td>\n",
       "      <td>2.304863</td>\n",
       "      <td>0.000</td>\n",
       "      <td>94.499008</td>\n",
       "      <td>8.0</td>\n",
       "      <td>0.262053</td>\n",
       "      <td>0.000375</td>\n",
       "    </tr>\n",
       "    <tr>\n",
       "      <th>12</th>\n",
       "      <td>HASSAN</td>\n",
       "      <td>333937.0</td>\n",
       "      <td>17039.273894</td>\n",
       "      <td>8925.330</td>\n",
       "      <td>151008.140250</td>\n",
       "      <td>79058.0</td>\n",
       "      <td>5824.841580</td>\n",
       "      <td>0.248999</td>\n",
       "    </tr>\n",
       "    <tr>\n",
       "      <th>13</th>\n",
       "      <td>KODAGU</td>\n",
       "      <td>17921.0</td>\n",
       "      <td>3519.022414</td>\n",
       "      <td>246.410</td>\n",
       "      <td>7599.582730</td>\n",
       "      <td>3448.0</td>\n",
       "      <td>9.109736</td>\n",
       "      <td>0.085941</td>\n",
       "    </tr>\n",
       "    <tr>\n",
       "      <th>14</th>\n",
       "      <td>MANDYA</td>\n",
       "      <td>19387.0</td>\n",
       "      <td>1448.830355</td>\n",
       "      <td>794.030</td>\n",
       "      <td>8774.134623</td>\n",
       "      <td>4892.0</td>\n",
       "      <td>383.392887</td>\n",
       "      <td>0.023925</td>\n",
       "    </tr>\n",
       "    <tr>\n",
       "      <th>15</th>\n",
       "      <td>MYSURU</td>\n",
       "      <td>137154.0</td>\n",
       "      <td>6945.331415</td>\n",
       "      <td>1573.430</td>\n",
       "      <td>61547.727444</td>\n",
       "      <td>37283.0</td>\n",
       "      <td>2222.228302</td>\n",
       "      <td>0.111996</td>\n",
       "    </tr>\n",
       "    <tr>\n",
       "      <th>16</th>\n",
       "      <td>CHAMARAJANAGAR</td>\n",
       "      <td>147886.0</td>\n",
       "      <td>7289.684770</td>\n",
       "      <td>2054.600</td>\n",
       "      <td>80396.926683</td>\n",
       "      <td>38569.0</td>\n",
       "      <td>13496.467160</td>\n",
       "      <td>0.306251</td>\n",
       "    </tr>\n",
       "    <tr>\n",
       "      <th>17</th>\n",
       "      <td>BELAGAVI</td>\n",
       "      <td>495122.5</td>\n",
       "      <td>48288.815127</td>\n",
       "      <td>11883.580</td>\n",
       "      <td>159047.086192</td>\n",
       "      <td>131163.0</td>\n",
       "      <td>37481.297967</td>\n",
       "      <td>0.268283</td>\n",
       "    </tr>\n",
       "    <tr>\n",
       "      <th>18</th>\n",
       "      <td>VIJAYAPURA</td>\n",
       "      <td>226327.0</td>\n",
       "      <td>10420.071653</td>\n",
       "      <td>2682.760</td>\n",
       "      <td>48619.507080</td>\n",
       "      <td>40207.0</td>\n",
       "      <td>21812.245218</td>\n",
       "      <td>0.192153</td>\n",
       "    </tr>\n",
       "    <tr>\n",
       "      <th>19</th>\n",
       "      <td>BAGALKOT</td>\n",
       "      <td>251699.0</td>\n",
       "      <td>22940.521254</td>\n",
       "      <td>5678.150</td>\n",
       "      <td>75578.051999</td>\n",
       "      <td>44300.0</td>\n",
       "      <td>31781.380297</td>\n",
       "      <td>0.270487</td>\n",
       "    </tr>\n",
       "    <tr>\n",
       "      <th>20</th>\n",
       "      <td>DHARAWAD</td>\n",
       "      <td>90634.0</td>\n",
       "      <td>6447.725408</td>\n",
       "      <td>2471.350</td>\n",
       "      <td>33424.645600</td>\n",
       "      <td>30900.0</td>\n",
       "      <td>3590.483189</td>\n",
       "      <td>0.172487</td>\n",
       "    </tr>\n",
       "    <tr>\n",
       "      <th>21</th>\n",
       "      <td>GADAG</td>\n",
       "      <td>138476.0</td>\n",
       "      <td>5591.244159</td>\n",
       "      <td>4111.000</td>\n",
       "      <td>34261.981768</td>\n",
       "      <td>34163.0</td>\n",
       "      <td>10006.597795</td>\n",
       "      <td>0.240174</td>\n",
       "    </tr>\n",
       "    <tr>\n",
       "      <th>22</th>\n",
       "      <td>HAVERI</td>\n",
       "      <td>413487.0</td>\n",
       "      <td>21731.170722</td>\n",
       "      <td>11325.600</td>\n",
       "      <td>95150.640269</td>\n",
       "      <td>170696.0</td>\n",
       "      <td>21067.544411</td>\n",
       "      <td>0.334321</td>\n",
       "    </tr>\n",
       "    <tr>\n",
       "      <th>23</th>\n",
       "      <td>UTTARA KANNADA</td>\n",
       "      <td>24088.0</td>\n",
       "      <td>1025.616827</td>\n",
       "      <td>1469.200</td>\n",
       "      <td>22563.771076</td>\n",
       "      <td>4576.0</td>\n",
       "      <td>566.513342</td>\n",
       "      <td>0.066964</td>\n",
       "    </tr>\n",
       "    <tr>\n",
       "      <th>24</th>\n",
       "      <td>BALLARI</td>\n",
       "      <td>104045.0</td>\n",
       "      <td>8404.154608</td>\n",
       "      <td>2859.005</td>\n",
       "      <td>23446.847903</td>\n",
       "      <td>49869.5</td>\n",
       "      <td>10248.613355</td>\n",
       "      <td>0.136288</td>\n",
       "    </tr>\n",
       "    <tr>\n",
       "      <th>25</th>\n",
       "      <td>BIDAR</td>\n",
       "      <td>2791.0</td>\n",
       "      <td>249.381182</td>\n",
       "      <td>24.550</td>\n",
       "      <td>2371.831678</td>\n",
       "      <td>1382.0</td>\n",
       "      <td>201.341576</td>\n",
       "      <td>0.010114</td>\n",
       "    </tr>\n",
       "    <tr>\n",
       "      <th>26</th>\n",
       "      <td>KALABURAGI</td>\n",
       "      <td>14621.0</td>\n",
       "      <td>710.101614</td>\n",
       "      <td>165.000</td>\n",
       "      <td>6221.617910</td>\n",
       "      <td>2634.0</td>\n",
       "      <td>641.759643</td>\n",
       "      <td>0.013150</td>\n",
       "    </tr>\n",
       "    <tr>\n",
       "      <th>27</th>\n",
       "      <td>YADGIRI</td>\n",
       "      <td>2673.0</td>\n",
       "      <td>368.617469</td>\n",
       "      <td>0.000</td>\n",
       "      <td>1253.317144</td>\n",
       "      <td>961.0</td>\n",
       "      <td>88.878158</td>\n",
       "      <td>0.004033</td>\n",
       "    </tr>\n",
       "    <tr>\n",
       "      <th>28</th>\n",
       "      <td>RAICHUR</td>\n",
       "      <td>1759.0</td>\n",
       "      <td>61.547519</td>\n",
       "      <td>14.350</td>\n",
       "      <td>188.537479</td>\n",
       "      <td>2600.0</td>\n",
       "      <td>13.949581</td>\n",
       "      <td>0.000525</td>\n",
       "    </tr>\n",
       "    <tr>\n",
       "      <th>29</th>\n",
       "      <td>KOPPAL</td>\n",
       "      <td>190252.0</td>\n",
       "      <td>10997.550403</td>\n",
       "      <td>5292.000</td>\n",
       "      <td>38936.400172</td>\n",
       "      <td>48210.0</td>\n",
       "      <td>12343.237178</td>\n",
       "      <td>0.149521</td>\n",
       "    </tr>\n",
       "    <tr>\n",
       "      <th>30</th>\n",
       "      <td>VIJAYANAGARA</td>\n",
       "      <td>104045.0</td>\n",
       "      <td>8404.154608</td>\n",
       "      <td>2859.005</td>\n",
       "      <td>23446.847903</td>\n",
       "      <td>49869.5</td>\n",
       "      <td>10248.613355</td>\n",
       "      <td>0.136288</td>\n",
       "    </tr>\n",
       "  </tbody>\n",
       "</table>\n",
       "</div>"
      ],
      "text/plain": [
       "            District  Maize_Production      TotalNPK  \\\n",
       "0          BENGALURU            2879.0    438.180210   \n",
       "1       BENGALURU(R)           42583.0   3036.080250   \n",
       "2         RAMANAGARA           10450.0    222.225258   \n",
       "3        CHITRADURGA          271975.0  10902.406571   \n",
       "4         DAVANAGERE          495122.5  25702.835480   \n",
       "5              KOLAR            1759.0    220.782906   \n",
       "6    CHIKKABALLAPURA          105491.0   8196.896749   \n",
       "7         SHIVAMOGGA          226532.0  10428.246256   \n",
       "8           TUMAKURU           66868.0   2746.313635   \n",
       "9     CHIKKAMAGALURU           61353.0   8156.290370   \n",
       "10  DAKSHINA KANNADA               0.0      0.000000   \n",
       "11             UDUPI            1759.0      2.304863   \n",
       "12            HASSAN          333937.0  17039.273894   \n",
       "13            KODAGU           17921.0   3519.022414   \n",
       "14            MANDYA           19387.0   1448.830355   \n",
       "15            MYSURU          137154.0   6945.331415   \n",
       "16    CHAMARAJANAGAR          147886.0   7289.684770   \n",
       "17          BELAGAVI          495122.5  48288.815127   \n",
       "18        VIJAYAPURA          226327.0  10420.071653   \n",
       "19          BAGALKOT          251699.0  22940.521254   \n",
       "20          DHARAWAD           90634.0   6447.725408   \n",
       "21             GADAG          138476.0   5591.244159   \n",
       "22            HAVERI          413487.0  21731.170722   \n",
       "23    UTTARA KANNADA           24088.0   1025.616827   \n",
       "24           BALLARI          104045.0   8404.154608   \n",
       "25             BIDAR            2791.0    249.381182   \n",
       "26        KALABURAGI           14621.0    710.101614   \n",
       "27           YADGIRI            2673.0    368.617469   \n",
       "28           RAICHUR            1759.0     61.547519   \n",
       "29            KOPPAL          190252.0  10997.550403   \n",
       "30      VIJAYANAGARA          104045.0   8404.154608   \n",
       "\n",
       "    SowingSeedsDistributed_Maize  LivestockCensus_2012_Cattle  \\\n",
       "0                          4.450                  2567.461578   \n",
       "1                        134.730                 25037.139271   \n",
       "2                        260.150                  7729.614277   \n",
       "3                       5004.000                 83821.593093   \n",
       "4                       6124.600                 85657.632091   \n",
       "5                         51.500                  2278.829821   \n",
       "6                       3538.150                 71206.945309   \n",
       "7                       3814.020                104722.000363   \n",
       "8                       1639.850                 37944.093756   \n",
       "9                       2923.790                 40572.445630   \n",
       "10                         0.000                     0.000000   \n",
       "11                         0.000                    94.499008   \n",
       "12                      8925.330                151008.140250   \n",
       "13                       246.410                  7599.582730   \n",
       "14                       794.030                  8774.134623   \n",
       "15                      1573.430                 61547.727444   \n",
       "16                      2054.600                 80396.926683   \n",
       "17                     11883.580                159047.086192   \n",
       "18                      2682.760                 48619.507080   \n",
       "19                      5678.150                 75578.051999   \n",
       "20                      2471.350                 33424.645600   \n",
       "21                      4111.000                 34261.981768   \n",
       "22                     11325.600                 95150.640269   \n",
       "23                      1469.200                 22563.771076   \n",
       "24                      2859.005                 23446.847903   \n",
       "25                        24.550                  2371.831678   \n",
       "26                       165.000                  6221.617910   \n",
       "27                         0.000                  1253.317144   \n",
       "28                        14.350                   188.537479   \n",
       "29                      5292.000                 38936.400172   \n",
       "30                      2859.005                 23446.847903   \n",
       "\n",
       "    AreaUnderCereals_Maize  \\\n",
       "0                   1129.0   \n",
       "1                  14867.0   \n",
       "2                   1987.0   \n",
       "3                  92194.0   \n",
       "4                 173400.0   \n",
       "5                    640.0   \n",
       "6                  59377.0   \n",
       "7                  43827.0   \n",
       "8                  24207.0   \n",
       "9                  25831.0   \n",
       "10                     0.0   \n",
       "11                     8.0   \n",
       "12                 79058.0   \n",
       "13                  3448.0   \n",
       "14                  4892.0   \n",
       "15                 37283.0   \n",
       "16                 38569.0   \n",
       "17                131163.0   \n",
       "18                 40207.0   \n",
       "19                 44300.0   \n",
       "20                 30900.0   \n",
       "21                 34163.0   \n",
       "22                170696.0   \n",
       "23                  4576.0   \n",
       "24                 49869.5   \n",
       "25                  1382.0   \n",
       "26                  2634.0   \n",
       "27                   961.0   \n",
       "28                  2600.0   \n",
       "29                 48210.0   \n",
       "30                 49869.5   \n",
       "\n",
       "    NetAreaIrrigatedUnderDifferentSources_TubeWells_NetIrrigatedArea  \\\n",
       "0                                          175.723235                  \n",
       "1                                         3197.193185                  \n",
       "2                                          709.859804                  \n",
       "3                                        28105.507253                  \n",
       "4                                        20213.730878                  \n",
       "5                                          200.386108                  \n",
       "6                                        14559.991862                  \n",
       "7                                         5958.813645                  \n",
       "8                                        10417.677296                  \n",
       "9                                         3145.789961                  \n",
       "10                                           0.000000                  \n",
       "11                                           0.262053                  \n",
       "12                                        5824.841580                  \n",
       "13                                           9.109736                  \n",
       "14                                         383.392887                  \n",
       "15                                        2222.228302                  \n",
       "16                                       13496.467160                  \n",
       "17                                       37481.297967                  \n",
       "18                                       21812.245218                  \n",
       "19                                       31781.380297                  \n",
       "20                                        3590.483189                  \n",
       "21                                       10006.597795                  \n",
       "22                                       21067.544411                  \n",
       "23                                         566.513342                  \n",
       "24                                       10248.613355                  \n",
       "25                                         201.341576                  \n",
       "26                                         641.759643                  \n",
       "27                                          88.878158                  \n",
       "28                                          13.949581                  \n",
       "29                                       12343.237178                  \n",
       "30                                       10248.613355                  \n",
       "\n",
       "    Maize_Ratio  \n",
       "0      0.018798  \n",
       "1      0.157645  \n",
       "2      0.029741  \n",
       "3      0.303824  \n",
       "4      0.257947  \n",
       "5      0.009950  \n",
       "6      0.289061  \n",
       "7      0.184215  \n",
       "8      0.071991  \n",
       "9      0.120188  \n",
       "10     0.000000  \n",
       "11     0.000375  \n",
       "12     0.248999  \n",
       "13     0.085941  \n",
       "14     0.023925  \n",
       "15     0.111996  \n",
       "16     0.306251  \n",
       "17     0.268283  \n",
       "18     0.192153  \n",
       "19     0.270487  \n",
       "20     0.172487  \n",
       "21     0.240174  \n",
       "22     0.334321  \n",
       "23     0.066964  \n",
       "24     0.136288  \n",
       "25     0.010114  \n",
       "26     0.013150  \n",
       "27     0.004033  \n",
       "28     0.000525  \n",
       "29     0.149521  \n",
       "30     0.136288  "
      ]
     },
     "execution_count": 181,
     "metadata": {},
     "output_type": "execute_result"
    }
   ],
   "source": [
    "Working_Directory"
   ]
  },
  {
   "cell_type": "code",
   "execution_count": 182,
   "metadata": {},
   "outputs": [
    {
     "data": {
      "application/vnd.plotly.v1+json": {
       "config": {
        "plotlyServerURL": "https://plot.ly"
       },
       "data": [
        {
         "alignmentgroup": "True",
         "boxpoints": "all",
         "hovertemplate": "TotalNPK=%{y}<extra></extra>",
         "legendgroup": "",
         "marker": {
          "color": "#636efa"
         },
         "name": "",
         "notched": false,
         "offsetgroup": "",
         "orientation": "v",
         "showlegend": false,
         "type": "box",
         "x0": " ",
         "xaxis": "x",
         "y": [
          438.18020959159,
          3036.080249518731,
          222.2252579930893,
          10902.40657123643,
          25702.835480049405,
          220.78290627297764,
          8196.896748542242,
          10428.246255833676,
          2746.313634885738,
          8156.290369595493,
          2.304862990847373,
          17039.273893533446,
          3519.022414363608,
          1448.8303553468602,
          6945.331414932335,
          7289.68477009352,
          48288.81512653903,
          10420.071652709004,
          22940.52125376528,
          6447.725407503971,
          5591.244159385049,
          21731.17072230065,
          1025.6168265608787,
          8404.154607960514,
          249.38118239631788,
          710.1016144409234,
          368.61746944318605,
          61.54751946392963,
          10997.55040348566,
          8404.154607960514
         ],
         "y0": " ",
         "yaxis": "y"
        }
       ],
       "layout": {
        "boxmode": "group",
        "legend": {
         "tracegroupgap": 0
        },
        "template": {
         "data": {
          "bar": [
           {
            "error_x": {
             "color": "#2a3f5f"
            },
            "error_y": {
             "color": "#2a3f5f"
            },
            "marker": {
             "line": {
              "color": "#E5ECF6",
              "width": 0.5
             },
             "pattern": {
              "fillmode": "overlay",
              "size": 10,
              "solidity": 0.2
             }
            },
            "type": "bar"
           }
          ],
          "barpolar": [
           {
            "marker": {
             "line": {
              "color": "#E5ECF6",
              "width": 0.5
             },
             "pattern": {
              "fillmode": "overlay",
              "size": 10,
              "solidity": 0.2
             }
            },
            "type": "barpolar"
           }
          ],
          "carpet": [
           {
            "aaxis": {
             "endlinecolor": "#2a3f5f",
             "gridcolor": "white",
             "linecolor": "white",
             "minorgridcolor": "white",
             "startlinecolor": "#2a3f5f"
            },
            "baxis": {
             "endlinecolor": "#2a3f5f",
             "gridcolor": "white",
             "linecolor": "white",
             "minorgridcolor": "white",
             "startlinecolor": "#2a3f5f"
            },
            "type": "carpet"
           }
          ],
          "choropleth": [
           {
            "colorbar": {
             "outlinewidth": 0,
             "ticks": ""
            },
            "type": "choropleth"
           }
          ],
          "contour": [
           {
            "colorbar": {
             "outlinewidth": 0,
             "ticks": ""
            },
            "colorscale": [
             [
              0,
              "#0d0887"
             ],
             [
              0.1111111111111111,
              "#46039f"
             ],
             [
              0.2222222222222222,
              "#7201a8"
             ],
             [
              0.3333333333333333,
              "#9c179e"
             ],
             [
              0.4444444444444444,
              "#bd3786"
             ],
             [
              0.5555555555555556,
              "#d8576b"
             ],
             [
              0.6666666666666666,
              "#ed7953"
             ],
             [
              0.7777777777777778,
              "#fb9f3a"
             ],
             [
              0.8888888888888888,
              "#fdca26"
             ],
             [
              1,
              "#f0f921"
             ]
            ],
            "type": "contour"
           }
          ],
          "contourcarpet": [
           {
            "colorbar": {
             "outlinewidth": 0,
             "ticks": ""
            },
            "type": "contourcarpet"
           }
          ],
          "heatmap": [
           {
            "colorbar": {
             "outlinewidth": 0,
             "ticks": ""
            },
            "colorscale": [
             [
              0,
              "#0d0887"
             ],
             [
              0.1111111111111111,
              "#46039f"
             ],
             [
              0.2222222222222222,
              "#7201a8"
             ],
             [
              0.3333333333333333,
              "#9c179e"
             ],
             [
              0.4444444444444444,
              "#bd3786"
             ],
             [
              0.5555555555555556,
              "#d8576b"
             ],
             [
              0.6666666666666666,
              "#ed7953"
             ],
             [
              0.7777777777777778,
              "#fb9f3a"
             ],
             [
              0.8888888888888888,
              "#fdca26"
             ],
             [
              1,
              "#f0f921"
             ]
            ],
            "type": "heatmap"
           }
          ],
          "heatmapgl": [
           {
            "colorbar": {
             "outlinewidth": 0,
             "ticks": ""
            },
            "colorscale": [
             [
              0,
              "#0d0887"
             ],
             [
              0.1111111111111111,
              "#46039f"
             ],
             [
              0.2222222222222222,
              "#7201a8"
             ],
             [
              0.3333333333333333,
              "#9c179e"
             ],
             [
              0.4444444444444444,
              "#bd3786"
             ],
             [
              0.5555555555555556,
              "#d8576b"
             ],
             [
              0.6666666666666666,
              "#ed7953"
             ],
             [
              0.7777777777777778,
              "#fb9f3a"
             ],
             [
              0.8888888888888888,
              "#fdca26"
             ],
             [
              1,
              "#f0f921"
             ]
            ],
            "type": "heatmapgl"
           }
          ],
          "histogram": [
           {
            "marker": {
             "pattern": {
              "fillmode": "overlay",
              "size": 10,
              "solidity": 0.2
             }
            },
            "type": "histogram"
           }
          ],
          "histogram2d": [
           {
            "colorbar": {
             "outlinewidth": 0,
             "ticks": ""
            },
            "colorscale": [
             [
              0,
              "#0d0887"
             ],
             [
              0.1111111111111111,
              "#46039f"
             ],
             [
              0.2222222222222222,
              "#7201a8"
             ],
             [
              0.3333333333333333,
              "#9c179e"
             ],
             [
              0.4444444444444444,
              "#bd3786"
             ],
             [
              0.5555555555555556,
              "#d8576b"
             ],
             [
              0.6666666666666666,
              "#ed7953"
             ],
             [
              0.7777777777777778,
              "#fb9f3a"
             ],
             [
              0.8888888888888888,
              "#fdca26"
             ],
             [
              1,
              "#f0f921"
             ]
            ],
            "type": "histogram2d"
           }
          ],
          "histogram2dcontour": [
           {
            "colorbar": {
             "outlinewidth": 0,
             "ticks": ""
            },
            "colorscale": [
             [
              0,
              "#0d0887"
             ],
             [
              0.1111111111111111,
              "#46039f"
             ],
             [
              0.2222222222222222,
              "#7201a8"
             ],
             [
              0.3333333333333333,
              "#9c179e"
             ],
             [
              0.4444444444444444,
              "#bd3786"
             ],
             [
              0.5555555555555556,
              "#d8576b"
             ],
             [
              0.6666666666666666,
              "#ed7953"
             ],
             [
              0.7777777777777778,
              "#fb9f3a"
             ],
             [
              0.8888888888888888,
              "#fdca26"
             ],
             [
              1,
              "#f0f921"
             ]
            ],
            "type": "histogram2dcontour"
           }
          ],
          "mesh3d": [
           {
            "colorbar": {
             "outlinewidth": 0,
             "ticks": ""
            },
            "type": "mesh3d"
           }
          ],
          "parcoords": [
           {
            "line": {
             "colorbar": {
              "outlinewidth": 0,
              "ticks": ""
             }
            },
            "type": "parcoords"
           }
          ],
          "pie": [
           {
            "automargin": true,
            "type": "pie"
           }
          ],
          "scatter": [
           {
            "fillpattern": {
             "fillmode": "overlay",
             "size": 10,
             "solidity": 0.2
            },
            "type": "scatter"
           }
          ],
          "scatter3d": [
           {
            "line": {
             "colorbar": {
              "outlinewidth": 0,
              "ticks": ""
             }
            },
            "marker": {
             "colorbar": {
              "outlinewidth": 0,
              "ticks": ""
             }
            },
            "type": "scatter3d"
           }
          ],
          "scattercarpet": [
           {
            "marker": {
             "colorbar": {
              "outlinewidth": 0,
              "ticks": ""
             }
            },
            "type": "scattercarpet"
           }
          ],
          "scattergeo": [
           {
            "marker": {
             "colorbar": {
              "outlinewidth": 0,
              "ticks": ""
             }
            },
            "type": "scattergeo"
           }
          ],
          "scattergl": [
           {
            "marker": {
             "colorbar": {
              "outlinewidth": 0,
              "ticks": ""
             }
            },
            "type": "scattergl"
           }
          ],
          "scattermapbox": [
           {
            "marker": {
             "colorbar": {
              "outlinewidth": 0,
              "ticks": ""
             }
            },
            "type": "scattermapbox"
           }
          ],
          "scatterpolar": [
           {
            "marker": {
             "colorbar": {
              "outlinewidth": 0,
              "ticks": ""
             }
            },
            "type": "scatterpolar"
           }
          ],
          "scatterpolargl": [
           {
            "marker": {
             "colorbar": {
              "outlinewidth": 0,
              "ticks": ""
             }
            },
            "type": "scatterpolargl"
           }
          ],
          "scatterternary": [
           {
            "marker": {
             "colorbar": {
              "outlinewidth": 0,
              "ticks": ""
             }
            },
            "type": "scatterternary"
           }
          ],
          "surface": [
           {
            "colorbar": {
             "outlinewidth": 0,
             "ticks": ""
            },
            "colorscale": [
             [
              0,
              "#0d0887"
             ],
             [
              0.1111111111111111,
              "#46039f"
             ],
             [
              0.2222222222222222,
              "#7201a8"
             ],
             [
              0.3333333333333333,
              "#9c179e"
             ],
             [
              0.4444444444444444,
              "#bd3786"
             ],
             [
              0.5555555555555556,
              "#d8576b"
             ],
             [
              0.6666666666666666,
              "#ed7953"
             ],
             [
              0.7777777777777778,
              "#fb9f3a"
             ],
             [
              0.8888888888888888,
              "#fdca26"
             ],
             [
              1,
              "#f0f921"
             ]
            ],
            "type": "surface"
           }
          ],
          "table": [
           {
            "cells": {
             "fill": {
              "color": "#EBF0F8"
             },
             "line": {
              "color": "white"
             }
            },
            "header": {
             "fill": {
              "color": "#C8D4E3"
             },
             "line": {
              "color": "white"
             }
            },
            "type": "table"
           }
          ]
         },
         "layout": {
          "annotationdefaults": {
           "arrowcolor": "#2a3f5f",
           "arrowhead": 0,
           "arrowwidth": 1
          },
          "autotypenumbers": "strict",
          "coloraxis": {
           "colorbar": {
            "outlinewidth": 0,
            "ticks": ""
           }
          },
          "colorscale": {
           "diverging": [
            [
             0,
             "#8e0152"
            ],
            [
             0.1,
             "#c51b7d"
            ],
            [
             0.2,
             "#de77ae"
            ],
            [
             0.3,
             "#f1b6da"
            ],
            [
             0.4,
             "#fde0ef"
            ],
            [
             0.5,
             "#f7f7f7"
            ],
            [
             0.6,
             "#e6f5d0"
            ],
            [
             0.7,
             "#b8e186"
            ],
            [
             0.8,
             "#7fbc41"
            ],
            [
             0.9,
             "#4d9221"
            ],
            [
             1,
             "#276419"
            ]
           ],
           "sequential": [
            [
             0,
             "#0d0887"
            ],
            [
             0.1111111111111111,
             "#46039f"
            ],
            [
             0.2222222222222222,
             "#7201a8"
            ],
            [
             0.3333333333333333,
             "#9c179e"
            ],
            [
             0.4444444444444444,
             "#bd3786"
            ],
            [
             0.5555555555555556,
             "#d8576b"
            ],
            [
             0.6666666666666666,
             "#ed7953"
            ],
            [
             0.7777777777777778,
             "#fb9f3a"
            ],
            [
             0.8888888888888888,
             "#fdca26"
            ],
            [
             1,
             "#f0f921"
            ]
           ],
           "sequentialminus": [
            [
             0,
             "#0d0887"
            ],
            [
             0.1111111111111111,
             "#46039f"
            ],
            [
             0.2222222222222222,
             "#7201a8"
            ],
            [
             0.3333333333333333,
             "#9c179e"
            ],
            [
             0.4444444444444444,
             "#bd3786"
            ],
            [
             0.5555555555555556,
             "#d8576b"
            ],
            [
             0.6666666666666666,
             "#ed7953"
            ],
            [
             0.7777777777777778,
             "#fb9f3a"
            ],
            [
             0.8888888888888888,
             "#fdca26"
            ],
            [
             1,
             "#f0f921"
            ]
           ]
          },
          "colorway": [
           "#636efa",
           "#EF553B",
           "#00cc96",
           "#ab63fa",
           "#FFA15A",
           "#19d3f3",
           "#FF6692",
           "#B6E880",
           "#FF97FF",
           "#FECB52"
          ],
          "font": {
           "color": "#2a3f5f"
          },
          "geo": {
           "bgcolor": "white",
           "lakecolor": "white",
           "landcolor": "#E5ECF6",
           "showlakes": true,
           "showland": true,
           "subunitcolor": "white"
          },
          "hoverlabel": {
           "align": "left"
          },
          "hovermode": "closest",
          "mapbox": {
           "style": "light"
          },
          "paper_bgcolor": "white",
          "plot_bgcolor": "#E5ECF6",
          "polar": {
           "angularaxis": {
            "gridcolor": "white",
            "linecolor": "white",
            "ticks": ""
           },
           "bgcolor": "#E5ECF6",
           "radialaxis": {
            "gridcolor": "white",
            "linecolor": "white",
            "ticks": ""
           }
          },
          "scene": {
           "xaxis": {
            "backgroundcolor": "#E5ECF6",
            "gridcolor": "white",
            "gridwidth": 2,
            "linecolor": "white",
            "showbackground": true,
            "ticks": "",
            "zerolinecolor": "white"
           },
           "yaxis": {
            "backgroundcolor": "#E5ECF6",
            "gridcolor": "white",
            "gridwidth": 2,
            "linecolor": "white",
            "showbackground": true,
            "ticks": "",
            "zerolinecolor": "white"
           },
           "zaxis": {
            "backgroundcolor": "#E5ECF6",
            "gridcolor": "white",
            "gridwidth": 2,
            "linecolor": "white",
            "showbackground": true,
            "ticks": "",
            "zerolinecolor": "white"
           }
          },
          "shapedefaults": {
           "line": {
            "color": "#2a3f5f"
           }
          },
          "ternary": {
           "aaxis": {
            "gridcolor": "white",
            "linecolor": "white",
            "ticks": ""
           },
           "baxis": {
            "gridcolor": "white",
            "linecolor": "white",
            "ticks": ""
           },
           "bgcolor": "#E5ECF6",
           "caxis": {
            "gridcolor": "white",
            "linecolor": "white",
            "ticks": ""
           }
          },
          "title": {
           "x": 0.05
          },
          "xaxis": {
           "automargin": true,
           "gridcolor": "white",
           "linecolor": "white",
           "ticks": "",
           "title": {
            "standoff": 15
           },
           "zerolinecolor": "white",
           "zerolinewidth": 2
          },
          "yaxis": {
           "automargin": true,
           "gridcolor": "white",
           "linecolor": "white",
           "ticks": "",
           "title": {
            "standoff": 15
           },
           "zerolinecolor": "white",
           "zerolinewidth": 2
          }
         }
        },
        "title": {
         "text": "Box Plot of TotalNPK"
        },
        "xaxis": {
         "anchor": "y",
         "domain": [
          0,
          1
         ]
        },
        "yaxis": {
         "anchor": "x",
         "domain": [
          0,
          1
         ],
         "title": {
          "text": "TotalNPK"
         }
        }
       }
      }
     },
     "metadata": {},
     "output_type": "display_data"
    }
   ],
   "source": [
    "TotalNPK_data = Case_file[['TotalNPK']]\n",
    "\n",
    "fig = px.box(TotalNPK_data, y='TotalNPK', title='Box Plot of TotalNPK', points='all')\n",
    "\n",
    "fig.show()"
   ]
  },
  {
   "cell_type": "code",
   "execution_count": 183,
   "metadata": {},
   "outputs": [
    {
     "data": {
      "text/html": [
       "<div>\n",
       "<style scoped>\n",
       "    .dataframe tbody tr th:only-of-type {\n",
       "        vertical-align: middle;\n",
       "    }\n",
       "\n",
       "    .dataframe tbody tr th {\n",
       "        vertical-align: top;\n",
       "    }\n",
       "\n",
       "    .dataframe thead th {\n",
       "        text-align: right;\n",
       "    }\n",
       "</style>\n",
       "<table border=\"1\" class=\"dataframe\">\n",
       "  <thead>\n",
       "    <tr style=\"text-align: right;\">\n",
       "      <th></th>\n",
       "      <th>LivestockCensus_2012_Cattle</th>\n",
       "      <th>AreaUnderCereals_Maize</th>\n",
       "      <th>TotalNPK</th>\n",
       "    </tr>\n",
       "  </thead>\n",
       "  <tbody>\n",
       "    <tr>\n",
       "      <th>0</th>\n",
       "      <td>2567.461578</td>\n",
       "      <td>1129.0</td>\n",
       "      <td>438.180210</td>\n",
       "    </tr>\n",
       "    <tr>\n",
       "      <th>1</th>\n",
       "      <td>25037.139271</td>\n",
       "      <td>14867.0</td>\n",
       "      <td>3036.080250</td>\n",
       "    </tr>\n",
       "    <tr>\n",
       "      <th>2</th>\n",
       "      <td>7729.614277</td>\n",
       "      <td>1987.0</td>\n",
       "      <td>222.225258</td>\n",
       "    </tr>\n",
       "    <tr>\n",
       "      <th>3</th>\n",
       "      <td>83821.593093</td>\n",
       "      <td>92194.0</td>\n",
       "      <td>10902.406571</td>\n",
       "    </tr>\n",
       "    <tr>\n",
       "      <th>4</th>\n",
       "      <td>85657.632091</td>\n",
       "      <td>173400.0</td>\n",
       "      <td>25702.835480</td>\n",
       "    </tr>\n",
       "    <tr>\n",
       "      <th>5</th>\n",
       "      <td>2278.829821</td>\n",
       "      <td>640.0</td>\n",
       "      <td>220.782906</td>\n",
       "    </tr>\n",
       "    <tr>\n",
       "      <th>6</th>\n",
       "      <td>71206.945309</td>\n",
       "      <td>59377.0</td>\n",
       "      <td>8196.896749</td>\n",
       "    </tr>\n",
       "    <tr>\n",
       "      <th>7</th>\n",
       "      <td>104722.000363</td>\n",
       "      <td>43827.0</td>\n",
       "      <td>10428.246256</td>\n",
       "    </tr>\n",
       "    <tr>\n",
       "      <th>8</th>\n",
       "      <td>37944.093756</td>\n",
       "      <td>24207.0</td>\n",
       "      <td>2746.313635</td>\n",
       "    </tr>\n",
       "    <tr>\n",
       "      <th>9</th>\n",
       "      <td>40572.445630</td>\n",
       "      <td>25831.0</td>\n",
       "      <td>8156.290370</td>\n",
       "    </tr>\n",
       "    <tr>\n",
       "      <th>10</th>\n",
       "      <td>94.499008</td>\n",
       "      <td>8.0</td>\n",
       "      <td>2.304863</td>\n",
       "    </tr>\n",
       "    <tr>\n",
       "      <th>11</th>\n",
       "      <td>151008.140250</td>\n",
       "      <td>79058.0</td>\n",
       "      <td>17039.273894</td>\n",
       "    </tr>\n",
       "    <tr>\n",
       "      <th>12</th>\n",
       "      <td>7599.582730</td>\n",
       "      <td>3448.0</td>\n",
       "      <td>3519.022414</td>\n",
       "    </tr>\n",
       "    <tr>\n",
       "      <th>13</th>\n",
       "      <td>8774.134623</td>\n",
       "      <td>4892.0</td>\n",
       "      <td>1448.830355</td>\n",
       "    </tr>\n",
       "    <tr>\n",
       "      <th>14</th>\n",
       "      <td>61547.727444</td>\n",
       "      <td>37283.0</td>\n",
       "      <td>6945.331415</td>\n",
       "    </tr>\n",
       "    <tr>\n",
       "      <th>15</th>\n",
       "      <td>80396.926683</td>\n",
       "      <td>38569.0</td>\n",
       "      <td>7289.684770</td>\n",
       "    </tr>\n",
       "    <tr>\n",
       "      <th>16</th>\n",
       "      <td>159047.086192</td>\n",
       "      <td>131163.0</td>\n",
       "      <td>48288.815127</td>\n",
       "    </tr>\n",
       "    <tr>\n",
       "      <th>17</th>\n",
       "      <td>48619.507080</td>\n",
       "      <td>40207.0</td>\n",
       "      <td>10420.071653</td>\n",
       "    </tr>\n",
       "    <tr>\n",
       "      <th>18</th>\n",
       "      <td>75578.051999</td>\n",
       "      <td>44300.0</td>\n",
       "      <td>22940.521254</td>\n",
       "    </tr>\n",
       "    <tr>\n",
       "      <th>19</th>\n",
       "      <td>33424.645600</td>\n",
       "      <td>30900.0</td>\n",
       "      <td>6447.725408</td>\n",
       "    </tr>\n",
       "    <tr>\n",
       "      <th>20</th>\n",
       "      <td>34261.981768</td>\n",
       "      <td>34163.0</td>\n",
       "      <td>5591.244159</td>\n",
       "    </tr>\n",
       "    <tr>\n",
       "      <th>21</th>\n",
       "      <td>95150.640269</td>\n",
       "      <td>170696.0</td>\n",
       "      <td>21731.170722</td>\n",
       "    </tr>\n",
       "    <tr>\n",
       "      <th>22</th>\n",
       "      <td>22563.771076</td>\n",
       "      <td>4576.0</td>\n",
       "      <td>1025.616827</td>\n",
       "    </tr>\n",
       "    <tr>\n",
       "      <th>23</th>\n",
       "      <td>23446.847903</td>\n",
       "      <td>49869.5</td>\n",
       "      <td>8404.154608</td>\n",
       "    </tr>\n",
       "    <tr>\n",
       "      <th>24</th>\n",
       "      <td>2371.831678</td>\n",
       "      <td>1382.0</td>\n",
       "      <td>249.381182</td>\n",
       "    </tr>\n",
       "    <tr>\n",
       "      <th>25</th>\n",
       "      <td>6221.617910</td>\n",
       "      <td>2634.0</td>\n",
       "      <td>710.101614</td>\n",
       "    </tr>\n",
       "    <tr>\n",
       "      <th>26</th>\n",
       "      <td>1253.317144</td>\n",
       "      <td>961.0</td>\n",
       "      <td>368.617469</td>\n",
       "    </tr>\n",
       "    <tr>\n",
       "      <th>27</th>\n",
       "      <td>188.537479</td>\n",
       "      <td>2600.0</td>\n",
       "      <td>61.547519</td>\n",
       "    </tr>\n",
       "    <tr>\n",
       "      <th>28</th>\n",
       "      <td>38936.400172</td>\n",
       "      <td>48210.0</td>\n",
       "      <td>10997.550403</td>\n",
       "    </tr>\n",
       "    <tr>\n",
       "      <th>29</th>\n",
       "      <td>23446.847903</td>\n",
       "      <td>49869.5</td>\n",
       "      <td>8404.154608</td>\n",
       "    </tr>\n",
       "  </tbody>\n",
       "</table>\n",
       "</div>"
      ],
      "text/plain": [
       "    LivestockCensus_2012_Cattle  AreaUnderCereals_Maize      TotalNPK\n",
       "0                   2567.461578                  1129.0    438.180210\n",
       "1                  25037.139271                 14867.0   3036.080250\n",
       "2                   7729.614277                  1987.0    222.225258\n",
       "3                  83821.593093                 92194.0  10902.406571\n",
       "4                  85657.632091                173400.0  25702.835480\n",
       "5                   2278.829821                   640.0    220.782906\n",
       "6                  71206.945309                 59377.0   8196.896749\n",
       "7                 104722.000363                 43827.0  10428.246256\n",
       "8                  37944.093756                 24207.0   2746.313635\n",
       "9                  40572.445630                 25831.0   8156.290370\n",
       "10                    94.499008                     8.0      2.304863\n",
       "11                151008.140250                 79058.0  17039.273894\n",
       "12                  7599.582730                  3448.0   3519.022414\n",
       "13                  8774.134623                  4892.0   1448.830355\n",
       "14                 61547.727444                 37283.0   6945.331415\n",
       "15                 80396.926683                 38569.0   7289.684770\n",
       "16                159047.086192                131163.0  48288.815127\n",
       "17                 48619.507080                 40207.0  10420.071653\n",
       "18                 75578.051999                 44300.0  22940.521254\n",
       "19                 33424.645600                 30900.0   6447.725408\n",
       "20                 34261.981768                 34163.0   5591.244159\n",
       "21                 95150.640269                170696.0  21731.170722\n",
       "22                 22563.771076                  4576.0   1025.616827\n",
       "23                 23446.847903                 49869.5   8404.154608\n",
       "24                  2371.831678                  1382.0    249.381182\n",
       "25                  6221.617910                  2634.0    710.101614\n",
       "26                  1253.317144                   961.0    368.617469\n",
       "27                   188.537479                  2600.0     61.547519\n",
       "28                 38936.400172                 48210.0  10997.550403\n",
       "29                 23446.847903                 49869.5   8404.154608"
      ]
     },
     "execution_count": 183,
     "metadata": {},
     "output_type": "execute_result"
    }
   ],
   "source": [
    "Case_file"
   ]
  },
  {
   "cell_type": "code",
   "execution_count": 184,
   "metadata": {},
   "outputs": [
    {
     "data": {
      "text/html": [
       "<div>\n",
       "<style scoped>\n",
       "    .dataframe tbody tr th:only-of-type {\n",
       "        vertical-align: middle;\n",
       "    }\n",
       "\n",
       "    .dataframe tbody tr th {\n",
       "        vertical-align: top;\n",
       "    }\n",
       "\n",
       "    .dataframe thead th {\n",
       "        text-align: right;\n",
       "    }\n",
       "</style>\n",
       "<table border=\"1\" class=\"dataframe\">\n",
       "  <thead>\n",
       "    <tr style=\"text-align: right;\">\n",
       "      <th></th>\n",
       "      <th>const</th>\n",
       "      <th>LivestockCensus_2012_Cattle</th>\n",
       "      <th>AreaUnderCereals_Maize</th>\n",
       "      <th>TotalNPK</th>\n",
       "    </tr>\n",
       "  </thead>\n",
       "  <tbody>\n",
       "    <tr>\n",
       "      <th>0</th>\n",
       "      <td>1.0</td>\n",
       "      <td>2567.461578</td>\n",
       "      <td>1129.0</td>\n",
       "      <td>438.180210</td>\n",
       "    </tr>\n",
       "    <tr>\n",
       "      <th>1</th>\n",
       "      <td>1.0</td>\n",
       "      <td>25037.139271</td>\n",
       "      <td>14867.0</td>\n",
       "      <td>3036.080250</td>\n",
       "    </tr>\n",
       "    <tr>\n",
       "      <th>2</th>\n",
       "      <td>1.0</td>\n",
       "      <td>7729.614277</td>\n",
       "      <td>1987.0</td>\n",
       "      <td>222.225258</td>\n",
       "    </tr>\n",
       "    <tr>\n",
       "      <th>3</th>\n",
       "      <td>1.0</td>\n",
       "      <td>83821.593093</td>\n",
       "      <td>92194.0</td>\n",
       "      <td>10902.406571</td>\n",
       "    </tr>\n",
       "    <tr>\n",
       "      <th>4</th>\n",
       "      <td>1.0</td>\n",
       "      <td>85657.632091</td>\n",
       "      <td>173400.0</td>\n",
       "      <td>25702.835480</td>\n",
       "    </tr>\n",
       "  </tbody>\n",
       "</table>\n",
       "</div>"
      ],
      "text/plain": [
       "   const  LivestockCensus_2012_Cattle  AreaUnderCereals_Maize      TotalNPK\n",
       "0    1.0                  2567.461578                  1129.0    438.180210\n",
       "1    1.0                 25037.139271                 14867.0   3036.080250\n",
       "2    1.0                  7729.614277                  1987.0    222.225258\n",
       "3    1.0                 83821.593093                 92194.0  10902.406571\n",
       "4    1.0                 85657.632091                173400.0  25702.835480"
      ]
     },
     "execution_count": 184,
     "metadata": {},
     "output_type": "execute_result"
    }
   ],
   "source": [
    "Case_file =sm.add_constant(Case_file)\n",
    "Case_file.head()"
   ]
  },
  {
   "cell_type": "code",
   "execution_count": 185,
   "metadata": {},
   "outputs": [],
   "source": [
    "# Case_file_1 = Case_file[['const','NetAreaIrrigatedUnderDifferentSources_TubeWells_NetIrrigatedArea','AreaUnderCereals_Maize','TotalNPK']].copy()"
   ]
  },
  {
   "cell_type": "code",
   "execution_count": 186,
   "metadata": {},
   "outputs": [
    {
     "data": {
      "text/html": [
       "<div>\n",
       "<style scoped>\n",
       "    .dataframe tbody tr th:only-of-type {\n",
       "        vertical-align: middle;\n",
       "    }\n",
       "\n",
       "    .dataframe tbody tr th {\n",
       "        vertical-align: top;\n",
       "    }\n",
       "\n",
       "    .dataframe thead th {\n",
       "        text-align: right;\n",
       "    }\n",
       "</style>\n",
       "<table border=\"1\" class=\"dataframe\">\n",
       "  <thead>\n",
       "    <tr style=\"text-align: right;\">\n",
       "      <th></th>\n",
       "      <th>Maize_Production</th>\n",
       "    </tr>\n",
       "  </thead>\n",
       "  <tbody>\n",
       "    <tr>\n",
       "      <th>0</th>\n",
       "      <td>2879.0</td>\n",
       "    </tr>\n",
       "    <tr>\n",
       "      <th>1</th>\n",
       "      <td>42583.0</td>\n",
       "    </tr>\n",
       "    <tr>\n",
       "      <th>2</th>\n",
       "      <td>10450.0</td>\n",
       "    </tr>\n",
       "    <tr>\n",
       "      <th>3</th>\n",
       "      <td>271975.0</td>\n",
       "    </tr>\n",
       "    <tr>\n",
       "      <th>4</th>\n",
       "      <td>495122.5</td>\n",
       "    </tr>\n",
       "  </tbody>\n",
       "</table>\n",
       "</div>"
      ],
      "text/plain": [
       "   Maize_Production\n",
       "0            2879.0\n",
       "1           42583.0\n",
       "2           10450.0\n",
       "3          271975.0\n",
       "4          495122.5"
      ]
     },
     "execution_count": 186,
     "metadata": {},
     "output_type": "execute_result"
    }
   ],
   "source": [
    "from sklearn.preprocessing import MinMaxScaler\n",
    "from sklearn.preprocessing import StandardScaler\n",
    "\n",
    "columns_to_standardize = ['LivestockCensus_2012_Cattle','AreaUnderCereals_Maize','TotalNPK']\n",
    "\n",
    "Case_file_1 = Case_file[['const'] + columns_to_standardize].copy()\n",
    "scaler = StandardScaler()\n",
    "\n",
    "X_st = pd.DataFrame()\n",
    "X_st['const'] = Case_file['const']\n",
    "# X_st[columns_to_standardize] = scaler.fit_transform(Case_file_1[columns_to_standardize])\n",
    "X_st[columns_to_standardize] = Case_file_1[columns_to_standardize]\n",
    "\n",
    "Target = 0.05\n",
    "y_st = pd.DataFrame()\n",
    "y_st['Maize_Production'] = Working_Directory[~rows_to_remove]['Maize_Production'].reset_index(drop=True)\n",
    "# y_st['Target_Production'] = (1+Target)*y_st['Maize_Production']\n",
    "# columns_to_standardize = ['Maize_Production','Target_Production']\n",
    "\n",
    "columns_to_standardize = ['Maize_Production']\n",
    "# y_st[columns_to_standardize] = scaler.fit_transform(y_st[columns_to_standardize])\n",
    "# columns_to_standardize = ['GroundNut Production','Target Production']\n",
    "y_st.head()"
   ]
  },
  {
   "cell_type": "code",
   "execution_count": 187,
   "metadata": {},
   "outputs": [
    {
     "name": "stdout",
     "output_type": "stream",
     "text": [
      "Row with maximum Maize_Production:\n",
      "       District  Maize_Production      TotalNPK  SowingSeedsDistributed_Maize  \\\n",
      "4   DAVANAGERE          495122.5  25702.835480                       6124.60   \n",
      "17    BELAGAVI          495122.5  48288.815127                      11883.58   \n",
      "\n",
      "    LivestockCensus_2012_Cattle  AreaUnderCereals_Maize  \\\n",
      "4                  85657.632091                173400.0   \n",
      "17                159047.086192                131163.0   \n",
      "\n",
      "    NetAreaIrrigatedUnderDifferentSources_TubeWells_NetIrrigatedArea  \\\n",
      "4                                        20213.730878                  \n",
      "17                                       37481.297967                  \n",
      "\n",
      "    Maize_Ratio  \n",
      "4      0.257947  \n",
      "17     0.268283  \n",
      "\n",
      "Row with minimum Maize_Production:\n",
      "    District  Maize_Production    TotalNPK  SowingSeedsDistributed_Maize  \\\n",
      "5     KOLAR            1759.0  220.782906                         51.50   \n",
      "11    UDUPI            1759.0    2.304863                          0.00   \n",
      "28  RAICHUR            1759.0   61.547519                         14.35   \n",
      "\n",
      "    LivestockCensus_2012_Cattle  AreaUnderCereals_Maize  \\\n",
      "5                   2278.829821                   640.0   \n",
      "11                    94.499008                     8.0   \n",
      "28                   188.537479                  2600.0   \n",
      "\n",
      "    NetAreaIrrigatedUnderDifferentSources_TubeWells_NetIrrigatedArea  \\\n",
      "5                                          200.386108                  \n",
      "11                                           0.262053                  \n",
      "28                                          13.949581                  \n",
      "\n",
      "    Maize_Ratio  \n",
      "5      0.009950  \n",
      "11     0.000375  \n",
      "28     0.000525  \n"
     ]
    }
   ],
   "source": [
    "# Get the row with the maximum value in 'Groundnut_Production'\n",
    "max_row = Working_Directory[~rows_to_remove][Working_Directory[~rows_to_remove]['Maize_Production'] == Working_Directory[~rows_to_remove]['Maize_Production'].max()]\n",
    "\n",
    "# Get the row with the minimum value in 'Groundnut_Production'\n",
    "min_row = Working_Directory[~rows_to_remove][Working_Directory[~rows_to_remove]['Maize_Production'] == Working_Directory[~rows_to_remove]['Maize_Production'].min()]\n",
    "\n",
    "# Print the rows\n",
    "print(\"Row with maximum Maize_Production:\\n\", max_row)\n",
    "print(\"\\nRow with minimum Maize_Production:\\n\", min_row)\n"
   ]
  },
  {
   "cell_type": "code",
   "execution_count": 188,
   "metadata": {},
   "outputs": [
    {
     "name": "stdout",
     "output_type": "stream",
     "text": [
      "                            OLS Regression Results                            \n",
      "==============================================================================\n",
      "Dep. Variable:       Maize_Production   R-squared:                       0.959\n",
      "Model:                            OLS   Adj. R-squared:                  0.954\n",
      "Method:                 Least Squares   F-statistic:                     201.3\n",
      "Date:                Mon, 23 Sep 2024   Prob (F-statistic):           4.14e-18\n",
      "Time:                        12:38:23   Log-Likelihood:                -351.21\n",
      "No. Observations:                  30   AIC:                             710.4\n",
      "Df Residuals:                      26   BIC:                             716.0\n",
      "Df Model:                           3                                         \n",
      "Covariance Type:            nonrobust                                         \n",
      "===============================================================================================\n",
      "                                  coef    std err          t      P>|t|      [0.025      0.975]\n",
      "-----------------------------------------------------------------------------------------------\n",
      "const                       -2150.3387   8350.386     -0.258      0.799   -1.93e+04     1.5e+04\n",
      "LivestockCensus_2012_Cattle     0.8506      0.250      3.409      0.002       0.338       1.364\n",
      "AreaUnderCereals_Maize          1.6242      0.225      7.206      0.000       1.161       2.087\n",
      "TotalNPK                        3.8215      1.198      3.189      0.004       1.358       6.285\n",
      "==============================================================================\n",
      "Omnibus:                        4.123   Durbin-Watson:                   2.307\n",
      "Prob(Omnibus):                  0.127   Jarque-Bera (JB):                3.428\n",
      "Skew:                           0.101   Prob(JB):                        0.180\n",
      "Kurtosis:                       4.644   Cond. No.                     1.24e+05\n",
      "==============================================================================\n",
      "\n",
      "Notes:\n",
      "[1] Standard Errors assume that the covariance matrix of the errors is correctly specified.\n",
      "[2] The condition number is large, 1.24e+05. This might indicate that there are\n",
      "strong multicollinearity or other numerical problems.\n"
     ]
    },
    {
     "data": {
      "text/plain": [
       "array([0.85059071, 1.62415519, 3.82149196])"
      ]
     },
     "execution_count": 188,
     "metadata": {},
     "output_type": "execute_result"
    }
   ],
   "source": [
    "# model=sm.OLS(y,Case_file_1).fit()\n",
    "# print(model.summary())\n",
    "# model.params.values\n",
    "# coef=model.params.values[1:]\n",
    "# coef\n",
    "\n",
    "model=sm.OLS(y_st['Maize_Production'],X_st).fit()\n",
    "Case_file = X_st\n",
    "print(model.summary())\n",
    "model.params.values\n",
    "coef=model.params.values[1:]\n",
    "coef"
   ]
  },
  {
   "cell_type": "code",
   "execution_count": 189,
   "metadata": {},
   "outputs": [
    {
     "data": {
      "text/html": [
       "<div>\n",
       "<style scoped>\n",
       "    .dataframe tbody tr th:only-of-type {\n",
       "        vertical-align: middle;\n",
       "    }\n",
       "\n",
       "    .dataframe tbody tr th {\n",
       "        vertical-align: top;\n",
       "    }\n",
       "\n",
       "    .dataframe thead th {\n",
       "        text-align: right;\n",
       "    }\n",
       "</style>\n",
       "<table border=\"1\" class=\"dataframe\">\n",
       "  <thead>\n",
       "    <tr style=\"text-align: right;\">\n",
       "      <th></th>\n",
       "      <th>LivestockCensus_2012_Cattle</th>\n",
       "      <th>AreaUnderCereals_Maize</th>\n",
       "      <th>TotalNPK</th>\n",
       "    </tr>\n",
       "  </thead>\n",
       "  <tbody>\n",
       "    <tr>\n",
       "      <th>0</th>\n",
       "      <td>2567.461578</td>\n",
       "      <td>1129.0</td>\n",
       "      <td>438.180210</td>\n",
       "    </tr>\n",
       "    <tr>\n",
       "      <th>1</th>\n",
       "      <td>25037.139271</td>\n",
       "      <td>14867.0</td>\n",
       "      <td>3036.080250</td>\n",
       "    </tr>\n",
       "    <tr>\n",
       "      <th>2</th>\n",
       "      <td>7729.614277</td>\n",
       "      <td>1987.0</td>\n",
       "      <td>222.225258</td>\n",
       "    </tr>\n",
       "    <tr>\n",
       "      <th>3</th>\n",
       "      <td>83821.593093</td>\n",
       "      <td>92194.0</td>\n",
       "      <td>10902.406571</td>\n",
       "    </tr>\n",
       "    <tr>\n",
       "      <th>4</th>\n",
       "      <td>85657.632091</td>\n",
       "      <td>173400.0</td>\n",
       "      <td>25702.835480</td>\n",
       "    </tr>\n",
       "  </tbody>\n",
       "</table>\n",
       "</div>"
      ],
      "text/plain": [
       "   LivestockCensus_2012_Cattle  AreaUnderCereals_Maize      TotalNPK\n",
       "0                  2567.461578                  1129.0    438.180210\n",
       "1                 25037.139271                 14867.0   3036.080250\n",
       "2                  7729.614277                  1987.0    222.225258\n",
       "3                 83821.593093                 92194.0  10902.406571\n",
       "4                 85657.632091                173400.0  25702.835480"
      ]
     },
     "execution_count": 189,
     "metadata": {},
     "output_type": "execute_result"
    }
   ],
   "source": [
    "Case_file.drop('const',axis=1,inplace=True)\n",
    "Case_file[:5]"
   ]
  },
  {
   "cell_type": "code",
   "execution_count": 190,
   "metadata": {},
   "outputs": [
    {
     "data": {
      "text/plain": [
       "<itertools.product at 0x2b2ec5fd0c0>"
      ]
     },
     "execution_count": 190,
     "metadata": {},
     "output_type": "execute_result"
    }
   ],
   "source": [
    "Case_file.loc[:,'Beta_0'] = model.params.values[0]\n",
    "Case_file.loc[:,'Beta_1'] = coef[0]\n",
    "Case_file.loc[:,'Beta_2'] = coef[1]\n",
    "Case_file.loc[:,'Beta_3'] = coef[2]\n",
    "# Case_file.loc[:,'Beta_4'] = coef[3]\n",
    "# Case_file.loc[:,'Beta_5'] = coef[4]\n",
    "\n",
    "intervals = np.arange(0, 1.1, 0.1)\n",
    "# columns=['Sensitivity_SowingSeedsDistributed_Maize', 'Sensitivity_LivestockCensus_2012_Cattle' , 'Sensitivity_AreaUnderCereals_Maize', 'Sensitivity_TotalNPK','Sensitivity_NetAreaIrrigatedUnderDifferentSources_TubeWells_NetIrrigatedArea']\n",
    "\n",
    "columns=['Sensitivity_LivestockCensus_2012_Cattle' , 'Sensitivity_AreaUnderCereals_Maize', 'Sensitivity_TotalNPK']\n",
    "# Generate all possible combinations of elements in arr\n",
    "\n",
    "num = len(columns)\n",
    "combinations = product(intervals, repeat=len(columns))\n",
    "combinations"
   ]
  },
  {
   "cell_type": "code",
   "execution_count": 191,
   "metadata": {},
   "outputs": [
    {
     "data": {
      "text/html": [
       "<div>\n",
       "<style scoped>\n",
       "    .dataframe tbody tr th:only-of-type {\n",
       "        vertical-align: middle;\n",
       "    }\n",
       "\n",
       "    .dataframe tbody tr th {\n",
       "        vertical-align: top;\n",
       "    }\n",
       "\n",
       "    .dataframe thead th {\n",
       "        text-align: right;\n",
       "    }\n",
       "</style>\n",
       "<table border=\"1\" class=\"dataframe\">\n",
       "  <thead>\n",
       "    <tr style=\"text-align: right;\">\n",
       "      <th></th>\n",
       "      <th>Sensitivity_LivestockCensus_2012_Cattle</th>\n",
       "      <th>Sensitivity_AreaUnderCereals_Maize</th>\n",
       "      <th>Sensitivity_TotalNPK</th>\n",
       "    </tr>\n",
       "  </thead>\n",
       "  <tbody>\n",
       "    <tr>\n",
       "      <th>0</th>\n",
       "      <td>0.0</td>\n",
       "      <td>0.0</td>\n",
       "      <td>0.0</td>\n",
       "    </tr>\n",
       "    <tr>\n",
       "      <th>1</th>\n",
       "      <td>0.0</td>\n",
       "      <td>0.0</td>\n",
       "      <td>0.1</td>\n",
       "    </tr>\n",
       "    <tr>\n",
       "      <th>2</th>\n",
       "      <td>0.0</td>\n",
       "      <td>0.0</td>\n",
       "      <td>0.2</td>\n",
       "    </tr>\n",
       "    <tr>\n",
       "      <th>3</th>\n",
       "      <td>0.0</td>\n",
       "      <td>0.0</td>\n",
       "      <td>0.3</td>\n",
       "    </tr>\n",
       "    <tr>\n",
       "      <th>4</th>\n",
       "      <td>0.0</td>\n",
       "      <td>0.0</td>\n",
       "      <td>0.4</td>\n",
       "    </tr>\n",
       "    <tr>\n",
       "      <th>...</th>\n",
       "      <td>...</td>\n",
       "      <td>...</td>\n",
       "      <td>...</td>\n",
       "    </tr>\n",
       "    <tr>\n",
       "      <th>1326</th>\n",
       "      <td>1.0</td>\n",
       "      <td>1.0</td>\n",
       "      <td>0.6</td>\n",
       "    </tr>\n",
       "    <tr>\n",
       "      <th>1327</th>\n",
       "      <td>1.0</td>\n",
       "      <td>1.0</td>\n",
       "      <td>0.7</td>\n",
       "    </tr>\n",
       "    <tr>\n",
       "      <th>1328</th>\n",
       "      <td>1.0</td>\n",
       "      <td>1.0</td>\n",
       "      <td>0.8</td>\n",
       "    </tr>\n",
       "    <tr>\n",
       "      <th>1329</th>\n",
       "      <td>1.0</td>\n",
       "      <td>1.0</td>\n",
       "      <td>0.9</td>\n",
       "    </tr>\n",
       "    <tr>\n",
       "      <th>1330</th>\n",
       "      <td>1.0</td>\n",
       "      <td>1.0</td>\n",
       "      <td>1.0</td>\n",
       "    </tr>\n",
       "  </tbody>\n",
       "</table>\n",
       "<p>1331 rows × 3 columns</p>\n",
       "</div>"
      ],
      "text/plain": [
       "      Sensitivity_LivestockCensus_2012_Cattle  \\\n",
       "0                                         0.0   \n",
       "1                                         0.0   \n",
       "2                                         0.0   \n",
       "3                                         0.0   \n",
       "4                                         0.0   \n",
       "...                                       ...   \n",
       "1326                                      1.0   \n",
       "1327                                      1.0   \n",
       "1328                                      1.0   \n",
       "1329                                      1.0   \n",
       "1330                                      1.0   \n",
       "\n",
       "      Sensitivity_AreaUnderCereals_Maize  Sensitivity_TotalNPK  \n",
       "0                                    0.0                   0.0  \n",
       "1                                    0.0                   0.1  \n",
       "2                                    0.0                   0.2  \n",
       "3                                    0.0                   0.3  \n",
       "4                                    0.0                   0.4  \n",
       "...                                  ...                   ...  \n",
       "1326                                 1.0                   0.6  \n",
       "1327                                 1.0                   0.7  \n",
       "1328                                 1.0                   0.8  \n",
       "1329                                 1.0                   0.9  \n",
       "1330                                 1.0                   1.0  \n",
       "\n",
       "[1331 rows x 3 columns]"
      ]
     },
     "execution_count": 191,
     "metadata": {},
     "output_type": "execute_result"
    }
   ],
   "source": [
    "alpha_df = pd.DataFrame(combinations, columns=columns)\n",
    "alpha_df"
   ]
  },
  {
   "cell_type": "code",
   "execution_count": 192,
   "metadata": {},
   "outputs": [
    {
     "name": "stdout",
     "output_type": "stream",
     "text": [
      "       Sensitivity_LivestockCensus_2012_Cattle  \\\n",
      "0                                          0.0   \n",
      "1                                          0.0   \n",
      "2                                          0.0   \n",
      "3                                          0.0   \n",
      "4                                          0.0   \n",
      "...                                        ...   \n",
      "39925                                      1.0   \n",
      "39926                                      1.0   \n",
      "39927                                      1.0   \n",
      "39928                                      1.0   \n",
      "39929                                      1.0   \n",
      "\n",
      "       Sensitivity_AreaUnderCereals_Maize  Sensitivity_TotalNPK  \\\n",
      "0                                     0.0                   0.0   \n",
      "1                                     0.0                   0.0   \n",
      "2                                     0.0                   0.0   \n",
      "3                                     0.0                   0.0   \n",
      "4                                     0.0                   0.0   \n",
      "...                                   ...                   ...   \n",
      "39925                                 1.0                   1.0   \n",
      "39926                                 1.0                   1.0   \n",
      "39927                                 1.0                   1.0   \n",
      "39928                                 1.0                   1.0   \n",
      "39929                                 1.0                   1.0   \n",
      "\n",
      "       LivestockCensus_2012_Cattle  AreaUnderCereals_Maize      TotalNPK  \\\n",
      "0                      2567.461578                  1129.0    438.180210   \n",
      "1                     25037.139271                 14867.0   3036.080250   \n",
      "2                      7729.614277                  1987.0    222.225258   \n",
      "3                     83821.593093                 92194.0  10902.406571   \n",
      "4                     85657.632091                173400.0  25702.835480   \n",
      "...                            ...                     ...           ...   \n",
      "39925                  6221.617910                  2634.0    710.101614   \n",
      "39926                  1253.317144                   961.0    368.617469   \n",
      "39927                   188.537479                  2600.0     61.547519   \n",
      "39928                 38936.400172                 48210.0  10997.550403   \n",
      "39929                 23446.847903                 49869.5   8404.154608   \n",
      "\n",
      "            Beta_0    Beta_1    Beta_2    Beta_3  \n",
      "0     -2150.338663  0.850591  1.624155  3.821492  \n",
      "1     -2150.338663  0.850591  1.624155  3.821492  \n",
      "2     -2150.338663  0.850591  1.624155  3.821492  \n",
      "3     -2150.338663  0.850591  1.624155  3.821492  \n",
      "4     -2150.338663  0.850591  1.624155  3.821492  \n",
      "...            ...       ...       ...       ...  \n",
      "39925 -2150.338663  0.850591  1.624155  3.821492  \n",
      "39926 -2150.338663  0.850591  1.624155  3.821492  \n",
      "39927 -2150.338663  0.850591  1.624155  3.821492  \n",
      "39928 -2150.338663  0.850591  1.624155  3.821492  \n",
      "39929 -2150.338663  0.850591  1.624155  3.821492  \n",
      "\n",
      "[39930 rows x 10 columns]\n"
     ]
    }
   ],
   "source": [
    "Case_file['key'] = 1\n",
    "alpha_df['key'] = 1\n",
    "\n",
    "# Performing the Cartesian product\n",
    "result_df = pd.merge( alpha_df, Case_file, on='key').drop('key', axis=1)\n",
    "\n",
    "print(result_df)"
   ]
  },
  {
   "cell_type": "code",
   "execution_count": 193,
   "metadata": {},
   "outputs": [
    {
     "data": {
      "text/html": [
       "<div>\n",
       "<style scoped>\n",
       "    .dataframe tbody tr th:only-of-type {\n",
       "        vertical-align: middle;\n",
       "    }\n",
       "\n",
       "    .dataframe tbody tr th {\n",
       "        vertical-align: top;\n",
       "    }\n",
       "\n",
       "    .dataframe thead th {\n",
       "        text-align: right;\n",
       "    }\n",
       "</style>\n",
       "<table border=\"1\" class=\"dataframe\">\n",
       "  <thead>\n",
       "    <tr style=\"text-align: right;\">\n",
       "      <th></th>\n",
       "      <th>Sensitivity_LivestockCensus_2012_Cattle</th>\n",
       "      <th>Sensitivity_AreaUnderCereals_Maize</th>\n",
       "      <th>Sensitivity_TotalNPK</th>\n",
       "      <th>LivestockCensus_2012_Cattle</th>\n",
       "      <th>AreaUnderCereals_Maize</th>\n",
       "      <th>TotalNPK</th>\n",
       "      <th>Beta_0</th>\n",
       "      <th>Beta_1</th>\n",
       "      <th>Beta_2</th>\n",
       "      <th>Beta_3</th>\n",
       "    </tr>\n",
       "  </thead>\n",
       "  <tbody>\n",
       "    <tr>\n",
       "      <th>0</th>\n",
       "      <td>0.0</td>\n",
       "      <td>0.0</td>\n",
       "      <td>0.0</td>\n",
       "      <td>2567.461578</td>\n",
       "      <td>1129.0</td>\n",
       "      <td>438.180210</td>\n",
       "      <td>-2150.338663</td>\n",
       "      <td>0.850591</td>\n",
       "      <td>1.624155</td>\n",
       "      <td>3.821492</td>\n",
       "    </tr>\n",
       "    <tr>\n",
       "      <th>1</th>\n",
       "      <td>0.0</td>\n",
       "      <td>0.0</td>\n",
       "      <td>0.0</td>\n",
       "      <td>25037.139271</td>\n",
       "      <td>14867.0</td>\n",
       "      <td>3036.080250</td>\n",
       "      <td>-2150.338663</td>\n",
       "      <td>0.850591</td>\n",
       "      <td>1.624155</td>\n",
       "      <td>3.821492</td>\n",
       "    </tr>\n",
       "    <tr>\n",
       "      <th>2</th>\n",
       "      <td>0.0</td>\n",
       "      <td>0.0</td>\n",
       "      <td>0.0</td>\n",
       "      <td>7729.614277</td>\n",
       "      <td>1987.0</td>\n",
       "      <td>222.225258</td>\n",
       "      <td>-2150.338663</td>\n",
       "      <td>0.850591</td>\n",
       "      <td>1.624155</td>\n",
       "      <td>3.821492</td>\n",
       "    </tr>\n",
       "    <tr>\n",
       "      <th>3</th>\n",
       "      <td>0.0</td>\n",
       "      <td>0.0</td>\n",
       "      <td>0.0</td>\n",
       "      <td>83821.593093</td>\n",
       "      <td>92194.0</td>\n",
       "      <td>10902.406571</td>\n",
       "      <td>-2150.338663</td>\n",
       "      <td>0.850591</td>\n",
       "      <td>1.624155</td>\n",
       "      <td>3.821492</td>\n",
       "    </tr>\n",
       "    <tr>\n",
       "      <th>4</th>\n",
       "      <td>0.0</td>\n",
       "      <td>0.0</td>\n",
       "      <td>0.0</td>\n",
       "      <td>85657.632091</td>\n",
       "      <td>173400.0</td>\n",
       "      <td>25702.835480</td>\n",
       "      <td>-2150.338663</td>\n",
       "      <td>0.850591</td>\n",
       "      <td>1.624155</td>\n",
       "      <td>3.821492</td>\n",
       "    </tr>\n",
       "  </tbody>\n",
       "</table>\n",
       "</div>"
      ],
      "text/plain": [
       "   Sensitivity_LivestockCensus_2012_Cattle  \\\n",
       "0                                      0.0   \n",
       "1                                      0.0   \n",
       "2                                      0.0   \n",
       "3                                      0.0   \n",
       "4                                      0.0   \n",
       "\n",
       "   Sensitivity_AreaUnderCereals_Maize  Sensitivity_TotalNPK  \\\n",
       "0                                 0.0                   0.0   \n",
       "1                                 0.0                   0.0   \n",
       "2                                 0.0                   0.0   \n",
       "3                                 0.0                   0.0   \n",
       "4                                 0.0                   0.0   \n",
       "\n",
       "   LivestockCensus_2012_Cattle  AreaUnderCereals_Maize      TotalNPK  \\\n",
       "0                  2567.461578                  1129.0    438.180210   \n",
       "1                 25037.139271                 14867.0   3036.080250   \n",
       "2                  7729.614277                  1987.0    222.225258   \n",
       "3                 83821.593093                 92194.0  10902.406571   \n",
       "4                 85657.632091                173400.0  25702.835480   \n",
       "\n",
       "        Beta_0    Beta_1    Beta_2    Beta_3  \n",
       "0 -2150.338663  0.850591  1.624155  3.821492  \n",
       "1 -2150.338663  0.850591  1.624155  3.821492  \n",
       "2 -2150.338663  0.850591  1.624155  3.821492  \n",
       "3 -2150.338663  0.850591  1.624155  3.821492  \n",
       "4 -2150.338663  0.850591  1.624155  3.821492  "
      ]
     },
     "execution_count": 193,
     "metadata": {},
     "output_type": "execute_result"
    }
   ],
   "source": [
    "result_df.head()"
   ]
  },
  {
   "cell_type": "code",
   "execution_count": 194,
   "metadata": {},
   "outputs": [
    {
     "data": {
      "text/plain": [
       "129131.48387096774"
      ]
     },
     "execution_count": 194,
     "metadata": {},
     "output_type": "execute_result"
    }
   ],
   "source": [
    "Working_Directory['Maize_Production'].mean()"
   ]
  },
  {
   "cell_type": "code",
   "execution_count": 195,
   "metadata": {},
   "outputs": [
    {
     "data": {
      "text/plain": [
       "Index(['District', 'Maize_Production', 'TotalNPK',\n",
       "       'SowingSeedsDistributed_Maize', 'LivestockCensus_2012_Cattle',\n",
       "       'AreaUnderCereals_Maize',\n",
       "       'NetAreaIrrigatedUnderDifferentSources_TubeWells_NetIrrigatedArea',\n",
       "       'Maize_Ratio'],\n",
       "      dtype='object')"
      ]
     },
     "execution_count": 195,
     "metadata": {},
     "output_type": "execute_result"
    }
   ],
   "source": [
    "Working_Directory.columns"
   ]
  },
  {
   "cell_type": "code",
   "execution_count": 196,
   "metadata": {},
   "outputs": [
    {
     "data": {
      "image/png": "[encoded data removed]",
      "text/plain": [
       "<Figure size 576x432 with 1 Axes>"
      ]
     },
     "metadata": {
      "needs_background": "light"
     },
     "output_type": "display_data"
    }
   ],
   "source": [
    "import matplotlib.pyplot as plt\n",
    "\n",
    "plt.figure(figsize=(8, 6))\n",
    "plt.scatter(range(len(y_st)), y_st, color='blue', label='y_st')\n",
    "\n",
    "# Adding labels and title\n",
    "plt.title('Scatter Plot of y_st')\n",
    "plt.xlabel('Index')\n",
    "plt.ylabel('Standardized Values')\n",
    "\n",
    "# Show legend and plot\n",
    "plt.legend()\n",
    "plt.show()\n"
   ]
  },
  {
   "cell_type": "code",
   "execution_count": 197,
   "metadata": {},
   "outputs": [
    {
     "data": {
      "text/html": [
       "<div>\n",
       "<style scoped>\n",
       "    .dataframe tbody tr th:only-of-type {\n",
       "        vertical-align: middle;\n",
       "    }\n",
       "\n",
       "    .dataframe tbody tr th {\n",
       "        vertical-align: top;\n",
       "    }\n",
       "\n",
       "    .dataframe thead th {\n",
       "        text-align: right;\n",
       "    }\n",
       "</style>\n",
       "<table border=\"1\" class=\"dataframe\">\n",
       "  <thead>\n",
       "    <tr style=\"text-align: right;\">\n",
       "      <th></th>\n",
       "      <th>Maize_Production</th>\n",
       "    </tr>\n",
       "  </thead>\n",
       "  <tbody>\n",
       "    <tr>\n",
       "      <th>0</th>\n",
       "      <td>2879.0</td>\n",
       "    </tr>\n",
       "    <tr>\n",
       "      <th>1</th>\n",
       "      <td>42583.0</td>\n",
       "    </tr>\n",
       "    <tr>\n",
       "      <th>2</th>\n",
       "      <td>10450.0</td>\n",
       "    </tr>\n",
       "    <tr>\n",
       "      <th>3</th>\n",
       "      <td>271975.0</td>\n",
       "    </tr>\n",
       "    <tr>\n",
       "      <th>4</th>\n",
       "      <td>495122.5</td>\n",
       "    </tr>\n",
       "    <tr>\n",
       "      <th>5</th>\n",
       "      <td>1759.0</td>\n",
       "    </tr>\n",
       "    <tr>\n",
       "      <th>6</th>\n",
       "      <td>105491.0</td>\n",
       "    </tr>\n",
       "    <tr>\n",
       "      <th>7</th>\n",
       "      <td>226532.0</td>\n",
       "    </tr>\n",
       "    <tr>\n",
       "      <th>8</th>\n",
       "      <td>66868.0</td>\n",
       "    </tr>\n",
       "    <tr>\n",
       "      <th>9</th>\n",
       "      <td>61353.0</td>\n",
       "    </tr>\n",
       "    <tr>\n",
       "      <th>10</th>\n",
       "      <td>1759.0</td>\n",
       "    </tr>\n",
       "    <tr>\n",
       "      <th>11</th>\n",
       "      <td>333937.0</td>\n",
       "    </tr>\n",
       "    <tr>\n",
       "      <th>12</th>\n",
       "      <td>17921.0</td>\n",
       "    </tr>\n",
       "    <tr>\n",
       "      <th>13</th>\n",
       "      <td>19387.0</td>\n",
       "    </tr>\n",
       "    <tr>\n",
       "      <th>14</th>\n",
       "      <td>137154.0</td>\n",
       "    </tr>\n",
       "    <tr>\n",
       "      <th>15</th>\n",
       "      <td>147886.0</td>\n",
       "    </tr>\n",
       "    <tr>\n",
       "      <th>16</th>\n",
       "      <td>495122.5</td>\n",
       "    </tr>\n",
       "    <tr>\n",
       "      <th>17</th>\n",
       "      <td>226327.0</td>\n",
       "    </tr>\n",
       "    <tr>\n",
       "      <th>18</th>\n",
       "      <td>251699.0</td>\n",
       "    </tr>\n",
       "    <tr>\n",
       "      <th>19</th>\n",
       "      <td>90634.0</td>\n",
       "    </tr>\n",
       "    <tr>\n",
       "      <th>20</th>\n",
       "      <td>138476.0</td>\n",
       "    </tr>\n",
       "    <tr>\n",
       "      <th>21</th>\n",
       "      <td>413487.0</td>\n",
       "    </tr>\n",
       "    <tr>\n",
       "      <th>22</th>\n",
       "      <td>24088.0</td>\n",
       "    </tr>\n",
       "    <tr>\n",
       "      <th>23</th>\n",
       "      <td>104045.0</td>\n",
       "    </tr>\n",
       "    <tr>\n",
       "      <th>24</th>\n",
       "      <td>2791.0</td>\n",
       "    </tr>\n",
       "    <tr>\n",
       "      <th>25</th>\n",
       "      <td>14621.0</td>\n",
       "    </tr>\n",
       "    <tr>\n",
       "      <th>26</th>\n",
       "      <td>2673.0</td>\n",
       "    </tr>\n",
       "    <tr>\n",
       "      <th>27</th>\n",
       "      <td>1759.0</td>\n",
       "    </tr>\n",
       "    <tr>\n",
       "      <th>28</th>\n",
       "      <td>190252.0</td>\n",
       "    </tr>\n",
       "    <tr>\n",
       "      <th>29</th>\n",
       "      <td>104045.0</td>\n",
       "    </tr>\n",
       "  </tbody>\n",
       "</table>\n",
       "</div>"
      ],
      "text/plain": [
       "    Maize_Production\n",
       "0             2879.0\n",
       "1            42583.0\n",
       "2            10450.0\n",
       "3           271975.0\n",
       "4           495122.5\n",
       "5             1759.0\n",
       "6           105491.0\n",
       "7           226532.0\n",
       "8            66868.0\n",
       "9            61353.0\n",
       "10            1759.0\n",
       "11          333937.0\n",
       "12           17921.0\n",
       "13           19387.0\n",
       "14          137154.0\n",
       "15          147886.0\n",
       "16          495122.5\n",
       "17          226327.0\n",
       "18          251699.0\n",
       "19           90634.0\n",
       "20          138476.0\n",
       "21          413487.0\n",
       "22           24088.0\n",
       "23          104045.0\n",
       "24            2791.0\n",
       "25           14621.0\n",
       "26            2673.0\n",
       "27            1759.0\n",
       "28          190252.0\n",
       "29          104045.0"
      ]
     },
     "execution_count": 197,
     "metadata": {},
     "output_type": "execute_result"
    }
   ],
   "source": [
    "y_st"
   ]
  },
  {
   "cell_type": "code",
   "execution_count": 198,
   "metadata": {},
   "outputs": [],
   "source": [
    "# delta_O = 0.05*(Working_Directory.drop([10])['Maize_Production'].mean())\n",
    "# delta_O"
   ]
  },
  {
   "cell_type": "code",
   "execution_count": 199,
   "metadata": {},
   "outputs": [],
   "source": [
    "# delta_O = 5000\n",
    "\n",
    "# result_df['New_F1'] = result_df['SowingSeedsDistributed_Maize'] + (result_df['Sensitivity_SowingSeedsDistributed_Maize']*delta_O)/result_df['Beta_1']\n",
    "result_df['New_F1'] = result_df['LivestockCensus_2012_Cattle'] + (result_df['Sensitivity_LivestockCensus_2012_Cattle']*delta_O)/result_df['Beta_1']\n",
    "result_df['New_F2'] = result_df['AreaUnderCereals_Maize'] + (result_df['Sensitivity_AreaUnderCereals_Maize']*delta_O)/result_df['Beta_2']\n",
    "result_df['New_F3'] = result_df['TotalNPK'] + (result_df['Sensitivity_TotalNPK']*delta_O)/result_df['Beta_3']\n",
    "# result_df['New_F4'] = result_df['NetAreaIrrigatedUnderDifferentSources_TubeWells_NetIrrigatedArea'] + (result_df['Sensitivity_NetAreaIrrigatedUnderDifferentSources_TubeWells_NetIrrigatedArea']*delta_O)/result_df['Beta_4']\n",
    "result_df['District'] = np.tile(Working_Directory[~rows_to_remove]['District'],11**num)\n",
    "\n",
    "result_df['New_F1'] = result_df['New_F1'].apply(lambda x: max(0, x))\n",
    "result_df['New_F2'] = result_df['New_F2'].apply(lambda x: max(0, x))\n",
    "result_df['New_F3'] = result_df['New_F3'].apply(lambda x: max(0, x))\n",
    "# result_df['New_F4'] = result_df['New_F4'].apply(lambda x: max(0, x))\n",
    "# result_df['New_F5'] = result_df['New_F5'].apply(lambda x: max(0, x))"
   ]
  },
  {
   "cell_type": "code",
   "execution_count": 200,
   "metadata": {},
   "outputs": [
    {
     "data": {
      "text/html": [
       "<div>\n",
       "<style scoped>\n",
       "    .dataframe tbody tr th:only-of-type {\n",
       "        vertical-align: middle;\n",
       "    }\n",
       "\n",
       "    .dataframe tbody tr th {\n",
       "        vertical-align: top;\n",
       "    }\n",
       "\n",
       "    .dataframe thead th {\n",
       "        text-align: right;\n",
       "    }\n",
       "</style>\n",
       "<table border=\"1\" class=\"dataframe\">\n",
       "  <thead>\n",
       "    <tr style=\"text-align: right;\">\n",
       "      <th></th>\n",
       "      <th>Sensitivity_LivestockCensus_2012_Cattle</th>\n",
       "      <th>Sensitivity_AreaUnderCereals_Maize</th>\n",
       "      <th>Sensitivity_TotalNPK</th>\n",
       "      <th>LivestockCensus_2012_Cattle</th>\n",
       "      <th>AreaUnderCereals_Maize</th>\n",
       "      <th>TotalNPK</th>\n",
       "      <th>Beta_0</th>\n",
       "      <th>Beta_1</th>\n",
       "      <th>Beta_2</th>\n",
       "      <th>Beta_3</th>\n",
       "      <th>New_F1</th>\n",
       "      <th>New_F2</th>\n",
       "      <th>New_F3</th>\n",
       "      <th>District</th>\n",
       "      <th>New_Production</th>\n",
       "    </tr>\n",
       "  </thead>\n",
       "  <tbody>\n",
       "    <tr>\n",
       "      <th>0</th>\n",
       "      <td>0.0</td>\n",
       "      <td>0.0</td>\n",
       "      <td>0.0</td>\n",
       "      <td>2567.461578</td>\n",
       "      <td>1129.0</td>\n",
       "      <td>438.180210</td>\n",
       "      <td>-2150.338663</td>\n",
       "      <td>0.850591</td>\n",
       "      <td>1.624155</td>\n",
       "      <td>3.821492</td>\n",
       "      <td>2567.461578</td>\n",
       "      <td>1129.000000</td>\n",
       "      <td>438.180210</td>\n",
       "      <td>BENGALURU</td>\n",
       "      <td>3541.693676</td>\n",
       "    </tr>\n",
       "    <tr>\n",
       "      <th>1</th>\n",
       "      <td>0.0</td>\n",
       "      <td>0.0</td>\n",
       "      <td>0.0</td>\n",
       "      <td>25037.139271</td>\n",
       "      <td>14867.0</td>\n",
       "      <td>3036.080250</td>\n",
       "      <td>-2150.338663</td>\n",
       "      <td>0.850591</td>\n",
       "      <td>1.624155</td>\n",
       "      <td>3.821492</td>\n",
       "      <td>25037.139271</td>\n",
       "      <td>14867.000000</td>\n",
       "      <td>3036.080250</td>\n",
       "      <td>BENGALURU(R)</td>\n",
       "      <td>54894.691036</td>\n",
       "    </tr>\n",
       "    <tr>\n",
       "      <th>2</th>\n",
       "      <td>0.0</td>\n",
       "      <td>0.0</td>\n",
       "      <td>0.0</td>\n",
       "      <td>7729.614277</td>\n",
       "      <td>1987.0</td>\n",
       "      <td>222.225258</td>\n",
       "      <td>-2150.338663</td>\n",
       "      <td>0.850591</td>\n",
       "      <td>1.624155</td>\n",
       "      <td>3.821492</td>\n",
       "      <td>7729.614277</td>\n",
       "      <td>1987.000000</td>\n",
       "      <td>222.225258</td>\n",
       "      <td>RAMANAGARA</td>\n",
       "      <td>8500.827870</td>\n",
       "    </tr>\n",
       "    <tr>\n",
       "      <th>3</th>\n",
       "      <td>0.0</td>\n",
       "      <td>0.0</td>\n",
       "      <td>0.0</td>\n",
       "      <td>83821.593093</td>\n",
       "      <td>92194.0</td>\n",
       "      <td>10902.406571</td>\n",
       "      <td>-2150.338663</td>\n",
       "      <td>0.850591</td>\n",
       "      <td>1.624155</td>\n",
       "      <td>3.821492</td>\n",
       "      <td>83821.593093</td>\n",
       "      <td>92194.000000</td>\n",
       "      <td>10902.406571</td>\n",
       "      <td>CHITRADURGA</td>\n",
       "      <td>260548.353015</td>\n",
       "    </tr>\n",
       "    <tr>\n",
       "      <th>4</th>\n",
       "      <td>0.0</td>\n",
       "      <td>0.0</td>\n",
       "      <td>0.0</td>\n",
       "      <td>85657.632091</td>\n",
       "      <td>173400.0</td>\n",
       "      <td>25702.835480</td>\n",
       "      <td>-2150.338663</td>\n",
       "      <td>0.850591</td>\n",
       "      <td>1.624155</td>\n",
       "      <td>3.821492</td>\n",
       "      <td>85657.632091</td>\n",
       "      <td>173400.000000</td>\n",
       "      <td>25702.835480</td>\n",
       "      <td>DAVANAGERE</td>\n",
       "      <td>450560.937462</td>\n",
       "    </tr>\n",
       "    <tr>\n",
       "      <th>...</th>\n",
       "      <td>...</td>\n",
       "      <td>...</td>\n",
       "      <td>...</td>\n",
       "      <td>...</td>\n",
       "      <td>...</td>\n",
       "      <td>...</td>\n",
       "      <td>...</td>\n",
       "      <td>...</td>\n",
       "      <td>...</td>\n",
       "      <td>...</td>\n",
       "      <td>...</td>\n",
       "      <td>...</td>\n",
       "      <td>...</td>\n",
       "      <td>...</td>\n",
       "      <td>...</td>\n",
       "    </tr>\n",
       "    <tr>\n",
       "      <th>39925</th>\n",
       "      <td>1.0</td>\n",
       "      <td>1.0</td>\n",
       "      <td>1.0</td>\n",
       "      <td>6221.617910</td>\n",
       "      <td>2634.0</td>\n",
       "      <td>710.101614</td>\n",
       "      <td>-2150.338663</td>\n",
       "      <td>0.850591</td>\n",
       "      <td>1.624155</td>\n",
       "      <td>3.821492</td>\n",
       "      <td>13025.290097</td>\n",
       "      <td>6197.169585</td>\n",
       "      <td>2224.468370</td>\n",
       "      <td>KALABURAGI</td>\n",
       "      <td>27494.805302</td>\n",
       "    </tr>\n",
       "    <tr>\n",
       "      <th>39926</th>\n",
       "      <td>1.0</td>\n",
       "      <td>1.0</td>\n",
       "      <td>1.0</td>\n",
       "      <td>1253.317144</td>\n",
       "      <td>961.0</td>\n",
       "      <td>368.617469</td>\n",
       "      <td>-2150.338663</td>\n",
       "      <td>0.850591</td>\n",
       "      <td>1.624155</td>\n",
       "      <td>3.821492</td>\n",
       "      <td>8056.989331</td>\n",
       "      <td>4524.169585</td>\n",
       "      <td>1882.984225</td>\n",
       "      <td>YADGIRI</td>\n",
       "      <td>19246.624252</td>\n",
       "    </tr>\n",
       "    <tr>\n",
       "      <th>39927</th>\n",
       "      <td>1.0</td>\n",
       "      <td>1.0</td>\n",
       "      <td>1.0</td>\n",
       "      <td>188.537479</td>\n",
       "      <td>2600.0</td>\n",
       "      <td>61.547519</td>\n",
       "      <td>-2150.338663</td>\n",
       "      <td>0.850591</td>\n",
       "      <td>1.624155</td>\n",
       "      <td>3.821492</td>\n",
       "      <td>6992.209667</td>\n",
       "      <td>6163.169585</td>\n",
       "      <td>1575.914275</td>\n",
       "      <td>RAICHUR</td>\n",
       "      <td>19829.457572</td>\n",
       "    </tr>\n",
       "    <tr>\n",
       "      <th>39928</th>\n",
       "      <td>1.0</td>\n",
       "      <td>1.0</td>\n",
       "      <td>1.0</td>\n",
       "      <td>38936.400172</td>\n",
       "      <td>48210.0</td>\n",
       "      <td>10997.550403</td>\n",
       "      <td>-2150.338663</td>\n",
       "      <td>0.850591</td>\n",
       "      <td>1.624155</td>\n",
       "      <td>3.821492</td>\n",
       "      <td>45740.072360</td>\n",
       "      <td>51773.169585</td>\n",
       "      <td>12511.917159</td>\n",
       "      <td>KOPPAL</td>\n",
       "      <td>168657.595252</td>\n",
       "    </tr>\n",
       "    <tr>\n",
       "      <th>39929</th>\n",
       "      <td>1.0</td>\n",
       "      <td>1.0</td>\n",
       "      <td>1.0</td>\n",
       "      <td>23446.847903</td>\n",
       "      <td>49869.5</td>\n",
       "      <td>8404.154608</td>\n",
       "      <td>-2150.338663</td>\n",
       "      <td>0.850591</td>\n",
       "      <td>1.624155</td>\n",
       "      <td>3.821492</td>\n",
       "      <td>30250.520091</td>\n",
       "      <td>53432.669585</td>\n",
       "      <td>9918.521363</td>\n",
       "      <td>VIJAYANAGARA</td>\n",
       "      <td>148266.970279</td>\n",
       "    </tr>\n",
       "  </tbody>\n",
       "</table>\n",
       "<p>39930 rows × 15 columns</p>\n",
       "</div>"
      ],
      "text/plain": [
       "       Sensitivity_LivestockCensus_2012_Cattle  \\\n",
       "0                                          0.0   \n",
       "1                                          0.0   \n",
       "2                                          0.0   \n",
       "3                                          0.0   \n",
       "4                                          0.0   \n",
       "...                                        ...   \n",
       "39925                                      1.0   \n",
       "39926                                      1.0   \n",
       "39927                                      1.0   \n",
       "39928                                      1.0   \n",
       "39929                                      1.0   \n",
       "\n",
       "       Sensitivity_AreaUnderCereals_Maize  Sensitivity_TotalNPK  \\\n",
       "0                                     0.0                   0.0   \n",
       "1                                     0.0                   0.0   \n",
       "2                                     0.0                   0.0   \n",
       "3                                     0.0                   0.0   \n",
       "4                                     0.0                   0.0   \n",
       "...                                   ...                   ...   \n",
       "39925                                 1.0                   1.0   \n",
       "39926                                 1.0                   1.0   \n",
       "39927                                 1.0                   1.0   \n",
       "39928                                 1.0                   1.0   \n",
       "39929                                 1.0                   1.0   \n",
       "\n",
       "       LivestockCensus_2012_Cattle  AreaUnderCereals_Maize      TotalNPK  \\\n",
       "0                      2567.461578                  1129.0    438.180210   \n",
       "1                     25037.139271                 14867.0   3036.080250   \n",
       "2                      7729.614277                  1987.0    222.225258   \n",
       "3                     83821.593093                 92194.0  10902.406571   \n",
       "4                     85657.632091                173400.0  25702.835480   \n",
       "...                            ...                     ...           ...   \n",
       "39925                  6221.617910                  2634.0    710.101614   \n",
       "39926                  1253.317144                   961.0    368.617469   \n",
       "39927                   188.537479                  2600.0     61.547519   \n",
       "39928                 38936.400172                 48210.0  10997.550403   \n",
       "39929                 23446.847903                 49869.5   8404.154608   \n",
       "\n",
       "            Beta_0    Beta_1    Beta_2    Beta_3        New_F1         New_F2  \\\n",
       "0     -2150.338663  0.850591  1.624155  3.821492   2567.461578    1129.000000   \n",
       "1     -2150.338663  0.850591  1.624155  3.821492  25037.139271   14867.000000   \n",
       "2     -2150.338663  0.850591  1.624155  3.821492   7729.614277    1987.000000   \n",
       "3     -2150.338663  0.850591  1.624155  3.821492  83821.593093   92194.000000   \n",
       "4     -2150.338663  0.850591  1.624155  3.821492  85657.632091  173400.000000   \n",
       "...            ...       ...       ...       ...           ...            ...   \n",
       "39925 -2150.338663  0.850591  1.624155  3.821492  13025.290097    6197.169585   \n",
       "39926 -2150.338663  0.850591  1.624155  3.821492   8056.989331    4524.169585   \n",
       "39927 -2150.338663  0.850591  1.624155  3.821492   6992.209667    6163.169585   \n",
       "39928 -2150.338663  0.850591  1.624155  3.821492  45740.072360   51773.169585   \n",
       "39929 -2150.338663  0.850591  1.624155  3.821492  30250.520091   53432.669585   \n",
       "\n",
       "             New_F3      District  New_Production  \n",
       "0        438.180210     BENGALURU     3541.693676  \n",
       "1       3036.080250  BENGALURU(R)    54894.691036  \n",
       "2        222.225258    RAMANAGARA     8500.827870  \n",
       "3      10902.406571   CHITRADURGA   260548.353015  \n",
       "4      25702.835480    DAVANAGERE   450560.937462  \n",
       "...             ...           ...             ...  \n",
       "39925   2224.468370    KALABURAGI    27494.805302  \n",
       "39926   1882.984225       YADGIRI    19246.624252  \n",
       "39927   1575.914275       RAICHUR    19829.457572  \n",
       "39928  12511.917159        KOPPAL   168657.595252  \n",
       "39929   9918.521363  VIJAYANAGARA   148266.970279  \n",
       "\n",
       "[39930 rows x 15 columns]"
      ]
     },
     "execution_count": 200,
     "metadata": {},
     "output_type": "execute_result"
    }
   ],
   "source": [
    "result_df['New_Production'] = result_df['Beta_1'] * result_df['New_F1'] + result_df['Beta_2'] * result_df['New_F2'] + result_df['Beta_3'] * result_df['New_F3']+ result_df['Beta_0']\n",
    "# + result_df['Beta_4'] * result_df['New_F4']  + result_df['Beta_5'] * result_df['New_F5'] + result_df['Beta_0']\n",
    "result_df"
   ]
  },
  {
   "cell_type": "code",
   "execution_count": 201,
   "metadata": {},
   "outputs": [],
   "source": [
    "def normalize_list(lst):\n",
    "    min_val = min(lst)\n",
    "    max_val = max(lst)\n",
    "    normalized_lst = [(x - min_val) / (max_val - min_val) for x in lst]\n",
    "    return normalized_lst"
   ]
  },
  {
   "cell_type": "code",
   "execution_count": 202,
   "metadata": {},
   "outputs": [
    {
     "name": "stdout",
     "output_type": "stream",
     "text": [
      "    1   2   3   4   5   6   7   8   9   10  ...  22  23  24  25  26  27  28  \\\n",
      "1    0   1   1   0   0   0   0   0   0   0  ...   0   0   0   0   0   0   0   \n",
      "2    1   0   1   0   0   1   1   0   1   0  ...   0   0   0   0   0   0   0   \n",
      "3    1   1   0   0   0   0   0   0   1   0  ...   0   0   0   0   0   0   0   \n",
      "4    0   0   0   0   1   0   0   0   1   1  ...   0   0   0   1   0   0   0   \n",
      "5    0   0   0   1   0   0   0   1   0   1  ...   0   1   0   1   0   0   0   \n",
      "6    0   1   0   0   0   0   1   0   0   0  ...   0   0   0   0   0   0   0   \n",
      "7    0   1   0   0   0   1   0   0   1   0  ...   0   0   0   0   0   0   0   \n",
      "8    0   0   0   0   1   0   0   0   0   1  ...   0   1   1   0   0   0   0   \n",
      "9    0   1   1   1   0   0   1   0   0   1  ...   0   0   0   0   0   0   0   \n",
      "10   0   0   0   1   1   0   0   1   1   0  ...   0   0   0   0   0   0   0   \n",
      "11   0   0   0   0   0   0   0   0   0   1  ...   0   0   0   0   0   0   0   \n",
      "12   0   0   0   0   0   0   0   1   0   1  ...   0   0   1   0   0   0   0   \n",
      "13   0   0   0   0   0   0   0   0   1   1  ...   0   0   0   0   0   0   0   \n",
      "14   0   0   0   0   0   0   0   0   0   0  ...   0   0   0   0   0   0   0   \n",
      "15   0   0   1   0   0   0   0   0   1   0  ...   0   0   0   0   0   0   0   \n",
      "16   0   0   0   0   0   0   0   0   0   0  ...   0   0   0   0   0   0   0   \n",
      "17   0   0   1   0   0   0   0   0   0   0  ...   0   0   0   0   0   0   0   \n",
      "18   0   0   0   0   0   0   0   0   0   0  ...   1   0   1   0   0   0   0   \n",
      "19   0   0   0   0   0   0   0   0   0   0  ...   0   0   0   0   0   1   1   \n",
      "20   0   0   0   0   0   0   0   0   0   0  ...   1   0   0   0   0   0   0   \n",
      "21   0   0   0   0   0   0   0   0   0   0  ...   1   1   1   0   0   0   0   \n",
      "22   0   0   0   0   0   0   0   0   0   0  ...   0   1   0   1   0   0   0   \n",
      "23   0   0   0   0   1   0   0   1   0   0  ...   1   0   1   1   0   0   0   \n",
      "24   0   0   0   0   0   0   0   1   0   0  ...   0   1   0   0   0   0   0   \n",
      "25   0   0   0   1   1   0   0   0   0   0  ...   1   1   0   0   0   0   0   \n",
      "26   0   0   0   0   0   0   0   0   0   0  ...   0   0   0   0   0   1   0   \n",
      "27   0   0   0   0   0   0   0   0   0   0  ...   0   0   0   0   1   0   1   \n",
      "28   0   0   0   0   0   0   0   0   0   0  ...   0   0   0   0   0   1   0   \n",
      "29   0   0   0   0   0   0   0   0   0   0  ...   0   0   0   1   0   0   1   \n",
      "30   0   0   0   0   0   0   0   0   0   0  ...   1   0   0   1   0   0   0   \n",
      "31   0   0   0   1   1   0   0   0   0   0  ...   1   1   0   1   0   0   0   \n",
      "\n",
      "    29  30  31  \n",
      "1    0   0   0  \n",
      "2    0   0   0  \n",
      "3    0   0   0  \n",
      "4    0   0   1  \n",
      "5    0   0   1  \n",
      "6    0   0   0  \n",
      "7    0   0   0  \n",
      "8    0   0   0  \n",
      "9    0   0   0  \n",
      "10   0   0   0  \n",
      "11   0   0   0  \n",
      "12   0   0   0  \n",
      "13   0   0   0  \n",
      "14   0   0   0  \n",
      "15   0   0   0  \n",
      "16   0   0   0  \n",
      "17   0   0   0  \n",
      "18   0   0   0  \n",
      "19   1   0   0  \n",
      "20   1   1   0  \n",
      "21   0   0   0  \n",
      "22   0   1   1  \n",
      "23   0   0   1  \n",
      "24   0   0   0  \n",
      "25   1   1   1  \n",
      "26   0   0   0  \n",
      "27   0   0   0  \n",
      "28   1   0   0  \n",
      "29   0   1   0  \n",
      "30   1   0   1  \n",
      "31   0   1   0  \n",
      "\n",
      "[31 rows x 31 columns]\n"
     ]
    }
   ],
   "source": [
    "import pandas as pd\n",
    "import numpy as np\n",
    "\n",
    "adjacency_excel = pd.read_excel('Karnataka_District_Adjacency_File.xlsx')\n",
    "\n",
    "district_codes = sorted(set(adjacency_excel['District_Code']))\n",
    "\n",
    "n = len(district_codes)\n",
    "adj_matrix = np.zeros((n, n), dtype=int)\n",
    "\n",
    "code_to_index = {code: idx for idx, code in enumerate(district_codes)}\n",
    "\n",
    "for i in range(len(adjacency_excel)):\n",
    "    district_code = adjacency_excel['District_Code'][i]\n",
    "    neighbors = [int(num) for num in str(adjacency_excel['District_Neighbors'][i]).split(',') if num.strip().isdigit()]\n",
    "    \n",
    "    for neighbor in neighbors:\n",
    "        adj_matrix[code_to_index[district_code]][code_to_index[neighbor]] = 1\n",
    "        adj_matrix[code_to_index[neighbor]][code_to_index[district_code]] = 1  # Assuming adjacency is bidirectional\n",
    "\n",
    "adj_matrix_df = pd.DataFrame(adj_matrix, index=district_codes, columns=district_codes)\n",
    "\n",
    "print(adj_matrix_df)\n",
    "\n",
    "adj_matrix_np = adj_matrix_df.to_numpy()"
   ]
  },
  {
   "cell_type": "code",
   "execution_count": 203,
   "metadata": {},
   "outputs": [
    {
     "data": {
      "text/html": [
       "<div>\n",
       "<style scoped>\n",
       "    .dataframe tbody tr th:only-of-type {\n",
       "        vertical-align: middle;\n",
       "    }\n",
       "\n",
       "    .dataframe tbody tr th {\n",
       "        vertical-align: top;\n",
       "    }\n",
       "\n",
       "    .dataframe thead th {\n",
       "        text-align: right;\n",
       "    }\n",
       "</style>\n",
       "<table border=\"1\" class=\"dataframe\">\n",
       "  <thead>\n",
       "    <tr style=\"text-align: right;\">\n",
       "      <th></th>\n",
       "      <th>Maize_Production</th>\n",
       "      <th>District</th>\n",
       "    </tr>\n",
       "  </thead>\n",
       "  <tbody>\n",
       "    <tr>\n",
       "      <th>0</th>\n",
       "      <td>2879.0</td>\n",
       "      <td>BENGALURU</td>\n",
       "    </tr>\n",
       "    <tr>\n",
       "      <th>1</th>\n",
       "      <td>42583.0</td>\n",
       "      <td>BENGALURU(R)</td>\n",
       "    </tr>\n",
       "    <tr>\n",
       "      <th>2</th>\n",
       "      <td>10450.0</td>\n",
       "      <td>RAMANAGARA</td>\n",
       "    </tr>\n",
       "    <tr>\n",
       "      <th>3</th>\n",
       "      <td>271975.0</td>\n",
       "      <td>CHITRADURGA</td>\n",
       "    </tr>\n",
       "    <tr>\n",
       "      <th>4</th>\n",
       "      <td>495122.5</td>\n",
       "      <td>DAVANAGERE</td>\n",
       "    </tr>\n",
       "    <tr>\n",
       "      <th>5</th>\n",
       "      <td>1759.0</td>\n",
       "      <td>KOLAR</td>\n",
       "    </tr>\n",
       "    <tr>\n",
       "      <th>6</th>\n",
       "      <td>105491.0</td>\n",
       "      <td>CHIKKABALLAPURA</td>\n",
       "    </tr>\n",
       "    <tr>\n",
       "      <th>7</th>\n",
       "      <td>226532.0</td>\n",
       "      <td>SHIVAMOGGA</td>\n",
       "    </tr>\n",
       "    <tr>\n",
       "      <th>8</th>\n",
       "      <td>66868.0</td>\n",
       "      <td>TUMAKURU</td>\n",
       "    </tr>\n",
       "    <tr>\n",
       "      <th>9</th>\n",
       "      <td>61353.0</td>\n",
       "      <td>CHIKKAMAGALURU</td>\n",
       "    </tr>\n",
       "    <tr>\n",
       "      <th>10</th>\n",
       "      <td>1759.0</td>\n",
       "      <td>UDUPI</td>\n",
       "    </tr>\n",
       "    <tr>\n",
       "      <th>11</th>\n",
       "      <td>333937.0</td>\n",
       "      <td>HASSAN</td>\n",
       "    </tr>\n",
       "    <tr>\n",
       "      <th>12</th>\n",
       "      <td>17921.0</td>\n",
       "      <td>KODAGU</td>\n",
       "    </tr>\n",
       "    <tr>\n",
       "      <th>13</th>\n",
       "      <td>19387.0</td>\n",
       "      <td>MANDYA</td>\n",
       "    </tr>\n",
       "    <tr>\n",
       "      <th>14</th>\n",
       "      <td>137154.0</td>\n",
       "      <td>MYSURU</td>\n",
       "    </tr>\n",
       "    <tr>\n",
       "      <th>15</th>\n",
       "      <td>147886.0</td>\n",
       "      <td>CHAMARAJANAGAR</td>\n",
       "    </tr>\n",
       "    <tr>\n",
       "      <th>16</th>\n",
       "      <td>495122.5</td>\n",
       "      <td>BELAGAVI</td>\n",
       "    </tr>\n",
       "    <tr>\n",
       "      <th>17</th>\n",
       "      <td>226327.0</td>\n",
       "      <td>VIJAYAPURA</td>\n",
       "    </tr>\n",
       "    <tr>\n",
       "      <th>18</th>\n",
       "      <td>251699.0</td>\n",
       "      <td>BAGALKOT</td>\n",
       "    </tr>\n",
       "    <tr>\n",
       "      <th>19</th>\n",
       "      <td>90634.0</td>\n",
       "      <td>DHARAWAD</td>\n",
       "    </tr>\n",
       "    <tr>\n",
       "      <th>20</th>\n",
       "      <td>138476.0</td>\n",
       "      <td>GADAG</td>\n",
       "    </tr>\n",
       "    <tr>\n",
       "      <th>21</th>\n",
       "      <td>413487.0</td>\n",
       "      <td>HAVERI</td>\n",
       "    </tr>\n",
       "    <tr>\n",
       "      <th>22</th>\n",
       "      <td>24088.0</td>\n",
       "      <td>UTTARA KANNADA</td>\n",
       "    </tr>\n",
       "    <tr>\n",
       "      <th>23</th>\n",
       "      <td>104045.0</td>\n",
       "      <td>BALLARI</td>\n",
       "    </tr>\n",
       "    <tr>\n",
       "      <th>24</th>\n",
       "      <td>2791.0</td>\n",
       "      <td>BIDAR</td>\n",
       "    </tr>\n",
       "    <tr>\n",
       "      <th>25</th>\n",
       "      <td>14621.0</td>\n",
       "      <td>KALABURAGI</td>\n",
       "    </tr>\n",
       "    <tr>\n",
       "      <th>26</th>\n",
       "      <td>2673.0</td>\n",
       "      <td>YADGIRI</td>\n",
       "    </tr>\n",
       "    <tr>\n",
       "      <th>27</th>\n",
       "      <td>1759.0</td>\n",
       "      <td>RAICHUR</td>\n",
       "    </tr>\n",
       "    <tr>\n",
       "      <th>28</th>\n",
       "      <td>190252.0</td>\n",
       "      <td>KOPPAL</td>\n",
       "    </tr>\n",
       "    <tr>\n",
       "      <th>29</th>\n",
       "      <td>104045.0</td>\n",
       "      <td>VIJAYANAGARA</td>\n",
       "    </tr>\n",
       "  </tbody>\n",
       "</table>\n",
       "</div>"
      ],
      "text/plain": [
       "    Maize_Production         District\n",
       "0             2879.0        BENGALURU\n",
       "1            42583.0     BENGALURU(R)\n",
       "2            10450.0       RAMANAGARA\n",
       "3           271975.0      CHITRADURGA\n",
       "4           495122.5       DAVANAGERE\n",
       "5             1759.0            KOLAR\n",
       "6           105491.0  CHIKKABALLAPURA\n",
       "7           226532.0       SHIVAMOGGA\n",
       "8            66868.0         TUMAKURU\n",
       "9            61353.0   CHIKKAMAGALURU\n",
       "10            1759.0            UDUPI\n",
       "11          333937.0           HASSAN\n",
       "12           17921.0           KODAGU\n",
       "13           19387.0           MANDYA\n",
       "14          137154.0           MYSURU\n",
       "15          147886.0   CHAMARAJANAGAR\n",
       "16          495122.5         BELAGAVI\n",
       "17          226327.0       VIJAYAPURA\n",
       "18          251699.0         BAGALKOT\n",
       "19           90634.0         DHARAWAD\n",
       "20          138476.0            GADAG\n",
       "21          413487.0           HAVERI\n",
       "22           24088.0   UTTARA KANNADA\n",
       "23          104045.0          BALLARI\n",
       "24            2791.0            BIDAR\n",
       "25           14621.0       KALABURAGI\n",
       "26            2673.0          YADGIRI\n",
       "27            1759.0          RAICHUR\n",
       "28          190252.0           KOPPAL\n",
       "29          104045.0     VIJAYANAGARA"
      ]
     },
     "execution_count": 203,
     "metadata": {},
     "output_type": "execute_result"
    }
   ],
   "source": [
    "tre = pd.DataFrame()\n",
    "tre['Maize_Production'] =  y_st['Maize_Production']\n",
    "tre['District'] = result_df['District']\n",
    "tre"
   ]
  },
  {
   "cell_type": "code",
   "execution_count": 204,
   "metadata": {},
   "outputs": [],
   "source": [
    "def calculate_avg_capability(capability, neighbors):\n",
    "    num_neighbors = len(neighbors)\n",
    "    if num_neighbors == 0:\n",
    "        return 0\n",
    "    sum_capabilities = sum(capability[n] for n in neighbors)\n",
    "    return sum_capabilities / num_neighbors\n",
    "\n",
    "def calculate_stress_stability(capability, adjacency_matrix):\n",
    "    n = len(capability)\n",
    "    stress = np.zeros(n)\n",
    "    stability = np.zeros(n)\n",
    "    \n",
    "    for i in range(n):\n",
    "        neighbors = [j for j in range(n) if adjacency_matrix[i][j] == 1 and i != j]\n",
    "        if len(neighbors) > 0:\n",
    "            avg_capability = calculate_avg_capability(capability, neighbors)\n",
    "            stress[i] = abs(avg_capability - capability[i])\n",
    "            stability[i] = 1 - stress[i]\n",
    "        else:\n",
    "            stress[i] = 0  # If no neighbors, stress is zero\n",
    "            stability[i] = 1\n",
    "        \n",
    "    return stress, stability"
   ]
  },
  {
   "cell_type": "code",
   "execution_count": 205,
   "metadata": {},
   "outputs": [
    {
     "name": "stdout",
     "output_type": "stream",
     "text": [
      "1331\n",
      "30\n",
      "39930 39930\n"
     ]
    }
   ],
   "source": [
    "stress_values_list = []\n",
    "stability_values_list = []\n",
    "\n",
    "# Define batch size\n",
    "batch_size = case_file_length\n",
    "\n",
    "# Iterate over the New_Production column in batches of 31\n",
    "num_batches = len(result_df) // batch_size\n",
    "\n",
    "for i in range(num_batches):\n",
    "    # Get the batch of 31 production values\n",
    "    start_idx = i * batch_size\n",
    "    end_idx = start_idx + batch_size\n",
    "    batch = normalize_list(result_df['New_Production'][start_idx:end_idx].values)\n",
    "    \n",
    "    # Calculate the stress and stability values for the batch\n",
    "    stress_batch, stability_batch = calculate_stress_stability(batch, adj_matrix_np)\n",
    "    \n",
    "    stress_values_list.extend(stress_batch)\n",
    "    stability_values_list.extend(stability_batch)\n",
    "\n",
    "\n",
    "print(num_batches)\n",
    "print(len(stress_batch))\n",
    "print(len(stress_values_list), len(stability_values_list))\n",
    "\n",
    "result_df['Stress_Values'] = stress_values_list\n",
    "result_df['Stability_Values'] = stability_values_list"
   ]
  },
  {
   "cell_type": "code",
   "execution_count": 206,
   "metadata": {},
   "outputs": [
    {
     "data": {
      "text/plain": [
       "Index(['Sensitivity_LivestockCensus_2012_Cattle',\n",
       "       'Sensitivity_AreaUnderCereals_Maize', 'Sensitivity_TotalNPK',\n",
       "       'LivestockCensus_2012_Cattle', 'AreaUnderCereals_Maize', 'TotalNPK',\n",
       "       'Beta_0', 'Beta_1', 'Beta_2', 'Beta_3', 'New_F1', 'New_F2', 'New_F3',\n",
       "       'District', 'New_Production', 'Stress_Values', 'Stability_Values'],\n",
       "      dtype='object')"
      ]
     },
     "execution_count": 206,
     "metadata": {},
     "output_type": "execute_result"
    }
   ],
   "source": [
    "result_df.columns"
   ]
  },
  {
   "cell_type": "code",
   "execution_count": 207,
   "metadata": {},
   "outputs": [],
   "source": [
    "viz_df = result_df[['District','Sensitivity_LivestockCensus_2012_Cattle','Sensitivity_AreaUnderCereals_Maize',\n",
    "                    'Sensitivity_TotalNPK',\t'New_Production','Stability_Values']].copy()\n",
    "\n",
    "# viz_df = result_df[['District','Sensitivity_SowingSeedsDistributed_Maize','Sensitivity_LivestockCensus_2012_Cattle','Sensitivity_AreaUnderCereals_Maize',\n",
    "#                     'Sensitivity_TotalNPK',\t'Sensitivity_NetAreaIrrigatedUnderDifferentSources_TubeWells_NetIrrigatedArea','New_Production','Stability_Values']].copy()\n",
    "\n",
    "abbreviation_mapping = {\n",
    "    'BENGALURU': 'BLR',\n",
    "    'BENGALURU(R)': 'BLR(R)',\n",
    "    'RAMANAGARA': 'RGA',\n",
    "    'CHITRADURGA': 'CDA',\n",
    "    'DAVANAGERE': 'DVG',\n",
    "    'KOLAR': 'KLR',\n",
    "    'CHIKKABALLAPURA': 'CKA',\n",
    "    'SHIVAMOGGA': 'SMG',\n",
    "    'TUMAKURU': 'TKR',\n",
    "    'CHIKKAMAGALURU': 'CMG',\n",
    "    'DAKSHINA KANNADA': 'DKA',\n",
    "    'UDUPI': 'UPI',\n",
    "    'HASSAN': 'HSN',\n",
    "    'KODAGU': 'KDG',\n",
    "    'MANDYA': 'MDY',\n",
    "    'MYSURU': 'MYS',\n",
    "    'CHAMARAJANAGAR': 'CNR',\n",
    "    'BELAGAVI': 'BLG',\n",
    "    'VIJAYAPURA': 'VJP',\n",
    "    'BAGALKOT': 'BKT',\n",
    "    'DHARAWAD': 'DWD',\n",
    "    'GADAG': 'GDG',\n",
    "    'HAVERI': 'HVR',\n",
    "    'UTTARA KANNADA': 'UTK',\n",
    "    'BALLARI': 'BLL',\n",
    "    'BIDAR': 'BDR',\n",
    "    'KALABURAGI': 'KLB',\n",
    "    'YADGIRI': 'YDR',\n",
    "    'RAICHUR': 'RCR',\n",
    "    'KOPPAL': 'KPL',\n",
    "    'VIJAYANAGARA' : 'VJN'\n",
    "}\n",
    "\n",
    "viz_df['Abbreviation'] = viz_df['District'].map(abbreviation_mapping)\n",
    "\n",
    "legend_labels = [{'Abbreviation': abb, 'Full Form': full_form} \n",
    "                    for abb, full_form in zip(viz_df['Abbreviation'].unique(), viz_df['District'].unique())]"
   ]
  },
  {
   "cell_type": "code",
   "execution_count": 208,
   "metadata": {},
   "outputs": [
    {
     "data": {
      "text/html": [
       "<div>\n",
       "<style scoped>\n",
       "    .dataframe tbody tr th:only-of-type {\n",
       "        vertical-align: middle;\n",
       "    }\n",
       "\n",
       "    .dataframe tbody tr th {\n",
       "        vertical-align: top;\n",
       "    }\n",
       "\n",
       "    .dataframe thead th {\n",
       "        text-align: right;\n",
       "    }\n",
       "</style>\n",
       "<table border=\"1\" class=\"dataframe\">\n",
       "  <thead>\n",
       "    <tr style=\"text-align: right;\">\n",
       "      <th></th>\n",
       "      <th>District</th>\n",
       "      <th>Maize_Production</th>\n",
       "      <th>TotalNPK</th>\n",
       "      <th>SowingSeedsDistributed_Maize</th>\n",
       "      <th>LivestockCensus_2012_Cattle</th>\n",
       "      <th>AreaUnderCereals_Maize</th>\n",
       "      <th>NetAreaIrrigatedUnderDifferentSources_TubeWells_NetIrrigatedArea</th>\n",
       "      <th>Maize_Ratio</th>\n",
       "    </tr>\n",
       "  </thead>\n",
       "  <tbody>\n",
       "    <tr>\n",
       "      <th>0</th>\n",
       "      <td>BENGALURU</td>\n",
       "      <td>2879.0</td>\n",
       "      <td>438.180210</td>\n",
       "      <td>4.450</td>\n",
       "      <td>2567.461578</td>\n",
       "      <td>1129.0</td>\n",
       "      <td>175.723235</td>\n",
       "      <td>0.018798</td>\n",
       "    </tr>\n",
       "    <tr>\n",
       "      <th>1</th>\n",
       "      <td>BENGALURU(R)</td>\n",
       "      <td>42583.0</td>\n",
       "      <td>3036.080250</td>\n",
       "      <td>134.730</td>\n",
       "      <td>25037.139271</td>\n",
       "      <td>14867.0</td>\n",
       "      <td>3197.193185</td>\n",
       "      <td>0.157645</td>\n",
       "    </tr>\n",
       "    <tr>\n",
       "      <th>2</th>\n",
       "      <td>RAMANAGARA</td>\n",
       "      <td>10450.0</td>\n",
       "      <td>222.225258</td>\n",
       "      <td>260.150</td>\n",
       "      <td>7729.614277</td>\n",
       "      <td>1987.0</td>\n",
       "      <td>709.859804</td>\n",
       "      <td>0.029741</td>\n",
       "    </tr>\n",
       "    <tr>\n",
       "      <th>3</th>\n",
       "      <td>CHITRADURGA</td>\n",
       "      <td>271975.0</td>\n",
       "      <td>10902.406571</td>\n",
       "      <td>5004.000</td>\n",
       "      <td>83821.593093</td>\n",
       "      <td>92194.0</td>\n",
       "      <td>28105.507253</td>\n",
       "      <td>0.303824</td>\n",
       "    </tr>\n",
       "    <tr>\n",
       "      <th>4</th>\n",
       "      <td>DAVANAGERE</td>\n",
       "      <td>495122.5</td>\n",
       "      <td>25702.835480</td>\n",
       "      <td>6124.600</td>\n",
       "      <td>85657.632091</td>\n",
       "      <td>173400.0</td>\n",
       "      <td>20213.730878</td>\n",
       "      <td>0.257947</td>\n",
       "    </tr>\n",
       "    <tr>\n",
       "      <th>5</th>\n",
       "      <td>KOLAR</td>\n",
       "      <td>1759.0</td>\n",
       "      <td>220.782906</td>\n",
       "      <td>51.500</td>\n",
       "      <td>2278.829821</td>\n",
       "      <td>640.0</td>\n",
       "      <td>200.386108</td>\n",
       "      <td>0.009950</td>\n",
       "    </tr>\n",
       "    <tr>\n",
       "      <th>6</th>\n",
       "      <td>CHIKKABALLAPURA</td>\n",
       "      <td>105491.0</td>\n",
       "      <td>8196.896749</td>\n",
       "      <td>3538.150</td>\n",
       "      <td>71206.945309</td>\n",
       "      <td>59377.0</td>\n",
       "      <td>14559.991862</td>\n",
       "      <td>0.289061</td>\n",
       "    </tr>\n",
       "    <tr>\n",
       "      <th>7</th>\n",
       "      <td>SHIVAMOGGA</td>\n",
       "      <td>226532.0</td>\n",
       "      <td>10428.246256</td>\n",
       "      <td>3814.020</td>\n",
       "      <td>104722.000363</td>\n",
       "      <td>43827.0</td>\n",
       "      <td>5958.813645</td>\n",
       "      <td>0.184215</td>\n",
       "    </tr>\n",
       "    <tr>\n",
       "      <th>8</th>\n",
       "      <td>TUMAKURU</td>\n",
       "      <td>66868.0</td>\n",
       "      <td>2746.313635</td>\n",
       "      <td>1639.850</td>\n",
       "      <td>37944.093756</td>\n",
       "      <td>24207.0</td>\n",
       "      <td>10417.677296</td>\n",
       "      <td>0.071991</td>\n",
       "    </tr>\n",
       "    <tr>\n",
       "      <th>9</th>\n",
       "      <td>CHIKKAMAGALURU</td>\n",
       "      <td>61353.0</td>\n",
       "      <td>8156.290370</td>\n",
       "      <td>2923.790</td>\n",
       "      <td>40572.445630</td>\n",
       "      <td>25831.0</td>\n",
       "      <td>3145.789961</td>\n",
       "      <td>0.120188</td>\n",
       "    </tr>\n",
       "    <tr>\n",
       "      <th>10</th>\n",
       "      <td>DAKSHINA KANNADA</td>\n",
       "      <td>0.0</td>\n",
       "      <td>0.000000</td>\n",
       "      <td>0.000</td>\n",
       "      <td>0.000000</td>\n",
       "      <td>0.0</td>\n",
       "      <td>0.000000</td>\n",
       "      <td>0.000000</td>\n",
       "    </tr>\n",
       "    <tr>\n",
       "      <th>11</th>\n",
       "      <td>UDUPI</td>\n",
       "      <td>1759.0</td>\n",
       "      <td>2.304863</td>\n",
       "      <td>0.000</td>\n",
       "      <td>94.499008</td>\n",
       "      <td>8.0</td>\n",
       "      <td>0.262053</td>\n",
       "      <td>0.000375</td>\n",
       "    </tr>\n",
       "    <tr>\n",
       "      <th>12</th>\n",
       "      <td>HASSAN</td>\n",
       "      <td>333937.0</td>\n",
       "      <td>17039.273894</td>\n",
       "      <td>8925.330</td>\n",
       "      <td>151008.140250</td>\n",
       "      <td>79058.0</td>\n",
       "      <td>5824.841580</td>\n",
       "      <td>0.248999</td>\n",
       "    </tr>\n",
       "    <tr>\n",
       "      <th>13</th>\n",
       "      <td>KODAGU</td>\n",
       "      <td>17921.0</td>\n",
       "      <td>3519.022414</td>\n",
       "      <td>246.410</td>\n",
       "      <td>7599.582730</td>\n",
       "      <td>3448.0</td>\n",
       "      <td>9.109736</td>\n",
       "      <td>0.085941</td>\n",
       "    </tr>\n",
       "    <tr>\n",
       "      <th>14</th>\n",
       "      <td>MANDYA</td>\n",
       "      <td>19387.0</td>\n",
       "      <td>1448.830355</td>\n",
       "      <td>794.030</td>\n",
       "      <td>8774.134623</td>\n",
       "      <td>4892.0</td>\n",
       "      <td>383.392887</td>\n",
       "      <td>0.023925</td>\n",
       "    </tr>\n",
       "    <tr>\n",
       "      <th>15</th>\n",
       "      <td>MYSURU</td>\n",
       "      <td>137154.0</td>\n",
       "      <td>6945.331415</td>\n",
       "      <td>1573.430</td>\n",
       "      <td>61547.727444</td>\n",
       "      <td>37283.0</td>\n",
       "      <td>2222.228302</td>\n",
       "      <td>0.111996</td>\n",
       "    </tr>\n",
       "    <tr>\n",
       "      <th>16</th>\n",
       "      <td>CHAMARAJANAGAR</td>\n",
       "      <td>147886.0</td>\n",
       "      <td>7289.684770</td>\n",
       "      <td>2054.600</td>\n",
       "      <td>80396.926683</td>\n",
       "      <td>38569.0</td>\n",
       "      <td>13496.467160</td>\n",
       "      <td>0.306251</td>\n",
       "    </tr>\n",
       "    <tr>\n",
       "      <th>17</th>\n",
       "      <td>BELAGAVI</td>\n",
       "      <td>495122.5</td>\n",
       "      <td>48288.815127</td>\n",
       "      <td>11883.580</td>\n",
       "      <td>159047.086192</td>\n",
       "      <td>131163.0</td>\n",
       "      <td>37481.297967</td>\n",
       "      <td>0.268283</td>\n",
       "    </tr>\n",
       "    <tr>\n",
       "      <th>18</th>\n",
       "      <td>VIJAYAPURA</td>\n",
       "      <td>226327.0</td>\n",
       "      <td>10420.071653</td>\n",
       "      <td>2682.760</td>\n",
       "      <td>48619.507080</td>\n",
       "      <td>40207.0</td>\n",
       "      <td>21812.245218</td>\n",
       "      <td>0.192153</td>\n",
       "    </tr>\n",
       "    <tr>\n",
       "      <th>19</th>\n",
       "      <td>BAGALKOT</td>\n",
       "      <td>251699.0</td>\n",
       "      <td>22940.521254</td>\n",
       "      <td>5678.150</td>\n",
       "      <td>75578.051999</td>\n",
       "      <td>44300.0</td>\n",
       "      <td>31781.380297</td>\n",
       "      <td>0.270487</td>\n",
       "    </tr>\n",
       "    <tr>\n",
       "      <th>20</th>\n",
       "      <td>DHARAWAD</td>\n",
       "      <td>90634.0</td>\n",
       "      <td>6447.725408</td>\n",
       "      <td>2471.350</td>\n",
       "      <td>33424.645600</td>\n",
       "      <td>30900.0</td>\n",
       "      <td>3590.483189</td>\n",
       "      <td>0.172487</td>\n",
       "    </tr>\n",
       "    <tr>\n",
       "      <th>21</th>\n",
       "      <td>GADAG</td>\n",
       "      <td>138476.0</td>\n",
       "      <td>5591.244159</td>\n",
       "      <td>4111.000</td>\n",
       "      <td>34261.981768</td>\n",
       "      <td>34163.0</td>\n",
       "      <td>10006.597795</td>\n",
       "      <td>0.240174</td>\n",
       "    </tr>\n",
       "    <tr>\n",
       "      <th>22</th>\n",
       "      <td>HAVERI</td>\n",
       "      <td>413487.0</td>\n",
       "      <td>21731.170722</td>\n",
       "      <td>11325.600</td>\n",
       "      <td>95150.640269</td>\n",
       "      <td>170696.0</td>\n",
       "      <td>21067.544411</td>\n",
       "      <td>0.334321</td>\n",
       "    </tr>\n",
       "    <tr>\n",
       "      <th>23</th>\n",
       "      <td>UTTARA KANNADA</td>\n",
       "      <td>24088.0</td>\n",
       "      <td>1025.616827</td>\n",
       "      <td>1469.200</td>\n",
       "      <td>22563.771076</td>\n",
       "      <td>4576.0</td>\n",
       "      <td>566.513342</td>\n",
       "      <td>0.066964</td>\n",
       "    </tr>\n",
       "    <tr>\n",
       "      <th>24</th>\n",
       "      <td>BALLARI</td>\n",
       "      <td>104045.0</td>\n",
       "      <td>8404.154608</td>\n",
       "      <td>2859.005</td>\n",
       "      <td>23446.847903</td>\n",
       "      <td>49869.5</td>\n",
       "      <td>10248.613355</td>\n",
       "      <td>0.136288</td>\n",
       "    </tr>\n",
       "    <tr>\n",
       "      <th>25</th>\n",
       "      <td>BIDAR</td>\n",
       "      <td>2791.0</td>\n",
       "      <td>249.381182</td>\n",
       "      <td>24.550</td>\n",
       "      <td>2371.831678</td>\n",
       "      <td>1382.0</td>\n",
       "      <td>201.341576</td>\n",
       "      <td>0.010114</td>\n",
       "    </tr>\n",
       "    <tr>\n",
       "      <th>26</th>\n",
       "      <td>KALABURAGI</td>\n",
       "      <td>14621.0</td>\n",
       "      <td>710.101614</td>\n",
       "      <td>165.000</td>\n",
       "      <td>6221.617910</td>\n",
       "      <td>2634.0</td>\n",
       "      <td>641.759643</td>\n",
       "      <td>0.013150</td>\n",
       "    </tr>\n",
       "    <tr>\n",
       "      <th>27</th>\n",
       "      <td>YADGIRI</td>\n",
       "      <td>2673.0</td>\n",
       "      <td>368.617469</td>\n",
       "      <td>0.000</td>\n",
       "      <td>1253.317144</td>\n",
       "      <td>961.0</td>\n",
       "      <td>88.878158</td>\n",
       "      <td>0.004033</td>\n",
       "    </tr>\n",
       "    <tr>\n",
       "      <th>28</th>\n",
       "      <td>RAICHUR</td>\n",
       "      <td>1759.0</td>\n",
       "      <td>61.547519</td>\n",
       "      <td>14.350</td>\n",
       "      <td>188.537479</td>\n",
       "      <td>2600.0</td>\n",
       "      <td>13.949581</td>\n",
       "      <td>0.000525</td>\n",
       "    </tr>\n",
       "    <tr>\n",
       "      <th>29</th>\n",
       "      <td>KOPPAL</td>\n",
       "      <td>190252.0</td>\n",
       "      <td>10997.550403</td>\n",
       "      <td>5292.000</td>\n",
       "      <td>38936.400172</td>\n",
       "      <td>48210.0</td>\n",
       "      <td>12343.237178</td>\n",
       "      <td>0.149521</td>\n",
       "    </tr>\n",
       "    <tr>\n",
       "      <th>30</th>\n",
       "      <td>VIJAYANAGARA</td>\n",
       "      <td>104045.0</td>\n",
       "      <td>8404.154608</td>\n",
       "      <td>2859.005</td>\n",
       "      <td>23446.847903</td>\n",
       "      <td>49869.5</td>\n",
       "      <td>10248.613355</td>\n",
       "      <td>0.136288</td>\n",
       "    </tr>\n",
       "  </tbody>\n",
       "</table>\n",
       "</div>"
      ],
      "text/plain": [
       "            District  Maize_Production      TotalNPK  \\\n",
       "0          BENGALURU            2879.0    438.180210   \n",
       "1       BENGALURU(R)           42583.0   3036.080250   \n",
       "2         RAMANAGARA           10450.0    222.225258   \n",
       "3        CHITRADURGA          271975.0  10902.406571   \n",
       "4         DAVANAGERE          495122.5  25702.835480   \n",
       "5              KOLAR            1759.0    220.782906   \n",
       "6    CHIKKABALLAPURA          105491.0   8196.896749   \n",
       "7         SHIVAMOGGA          226532.0  10428.246256   \n",
       "8           TUMAKURU           66868.0   2746.313635   \n",
       "9     CHIKKAMAGALURU           61353.0   8156.290370   \n",
       "10  DAKSHINA KANNADA               0.0      0.000000   \n",
       "11             UDUPI            1759.0      2.304863   \n",
       "12            HASSAN          333937.0  17039.273894   \n",
       "13            KODAGU           17921.0   3519.022414   \n",
       "14            MANDYA           19387.0   1448.830355   \n",
       "15            MYSURU          137154.0   6945.331415   \n",
       "16    CHAMARAJANAGAR          147886.0   7289.684770   \n",
       "17          BELAGAVI          495122.5  48288.815127   \n",
       "18        VIJAYAPURA          226327.0  10420.071653   \n",
       "19          BAGALKOT          251699.0  22940.521254   \n",
       "20          DHARAWAD           90634.0   6447.725408   \n",
       "21             GADAG          138476.0   5591.244159   \n",
       "22            HAVERI          413487.0  21731.170722   \n",
       "23    UTTARA KANNADA           24088.0   1025.616827   \n",
       "24           BALLARI          104045.0   8404.154608   \n",
       "25             BIDAR            2791.0    249.381182   \n",
       "26        KALABURAGI           14621.0    710.101614   \n",
       "27           YADGIRI            2673.0    368.617469   \n",
       "28           RAICHUR            1759.0     61.547519   \n",
       "29            KOPPAL          190252.0  10997.550403   \n",
       "30      VIJAYANAGARA          104045.0   8404.154608   \n",
       "\n",
       "    SowingSeedsDistributed_Maize  LivestockCensus_2012_Cattle  \\\n",
       "0                          4.450                  2567.461578   \n",
       "1                        134.730                 25037.139271   \n",
       "2                        260.150                  7729.614277   \n",
       "3                       5004.000                 83821.593093   \n",
       "4                       6124.600                 85657.632091   \n",
       "5                         51.500                  2278.829821   \n",
       "6                       3538.150                 71206.945309   \n",
       "7                       3814.020                104722.000363   \n",
       "8                       1639.850                 37944.093756   \n",
       "9                       2923.790                 40572.445630   \n",
       "10                         0.000                     0.000000   \n",
       "11                         0.000                    94.499008   \n",
       "12                      8925.330                151008.140250   \n",
       "13                       246.410                  7599.582730   \n",
       "14                       794.030                  8774.134623   \n",
       "15                      1573.430                 61547.727444   \n",
       "16                      2054.600                 80396.926683   \n",
       "17                     11883.580                159047.086192   \n",
       "18                      2682.760                 48619.507080   \n",
       "19                      5678.150                 75578.051999   \n",
       "20                      2471.350                 33424.645600   \n",
       "21                      4111.000                 34261.981768   \n",
       "22                     11325.600                 95150.640269   \n",
       "23                      1469.200                 22563.771076   \n",
       "24                      2859.005                 23446.847903   \n",
       "25                        24.550                  2371.831678   \n",
       "26                       165.000                  6221.617910   \n",
       "27                         0.000                  1253.317144   \n",
       "28                        14.350                   188.537479   \n",
       "29                      5292.000                 38936.400172   \n",
       "30                      2859.005                 23446.847903   \n",
       "\n",
       "    AreaUnderCereals_Maize  \\\n",
       "0                   1129.0   \n",
       "1                  14867.0   \n",
       "2                   1987.0   \n",
       "3                  92194.0   \n",
       "4                 173400.0   \n",
       "5                    640.0   \n",
       "6                  59377.0   \n",
       "7                  43827.0   \n",
       "8                  24207.0   \n",
       "9                  25831.0   \n",
       "10                     0.0   \n",
       "11                     8.0   \n",
       "12                 79058.0   \n",
       "13                  3448.0   \n",
       "14                  4892.0   \n",
       "15                 37283.0   \n",
       "16                 38569.0   \n",
       "17                131163.0   \n",
       "18                 40207.0   \n",
       "19                 44300.0   \n",
       "20                 30900.0   \n",
       "21                 34163.0   \n",
       "22                170696.0   \n",
       "23                  4576.0   \n",
       "24                 49869.5   \n",
       "25                  1382.0   \n",
       "26                  2634.0   \n",
       "27                   961.0   \n",
       "28                  2600.0   \n",
       "29                 48210.0   \n",
       "30                 49869.5   \n",
       "\n",
       "    NetAreaIrrigatedUnderDifferentSources_TubeWells_NetIrrigatedArea  \\\n",
       "0                                          175.723235                  \n",
       "1                                         3197.193185                  \n",
       "2                                          709.859804                  \n",
       "3                                        28105.507253                  \n",
       "4                                        20213.730878                  \n",
       "5                                          200.386108                  \n",
       "6                                        14559.991862                  \n",
       "7                                         5958.813645                  \n",
       "8                                        10417.677296                  \n",
       "9                                         3145.789961                  \n",
       "10                                           0.000000                  \n",
       "11                                           0.262053                  \n",
       "12                                        5824.841580                  \n",
       "13                                           9.109736                  \n",
       "14                                         383.392887                  \n",
       "15                                        2222.228302                  \n",
       "16                                       13496.467160                  \n",
       "17                                       37481.297967                  \n",
       "18                                       21812.245218                  \n",
       "19                                       31781.380297                  \n",
       "20                                        3590.483189                  \n",
       "21                                       10006.597795                  \n",
       "22                                       21067.544411                  \n",
       "23                                         566.513342                  \n",
       "24                                       10248.613355                  \n",
       "25                                         201.341576                  \n",
       "26                                         641.759643                  \n",
       "27                                          88.878158                  \n",
       "28                                          13.949581                  \n",
       "29                                       12343.237178                  \n",
       "30                                       10248.613355                  \n",
       "\n",
       "    Maize_Ratio  \n",
       "0      0.018798  \n",
       "1      0.157645  \n",
       "2      0.029741  \n",
       "3      0.303824  \n",
       "4      0.257947  \n",
       "5      0.009950  \n",
       "6      0.289061  \n",
       "7      0.184215  \n",
       "8      0.071991  \n",
       "9      0.120188  \n",
       "10     0.000000  \n",
       "11     0.000375  \n",
       "12     0.248999  \n",
       "13     0.085941  \n",
       "14     0.023925  \n",
       "15     0.111996  \n",
       "16     0.306251  \n",
       "17     0.268283  \n",
       "18     0.192153  \n",
       "19     0.270487  \n",
       "20     0.172487  \n",
       "21     0.240174  \n",
       "22     0.334321  \n",
       "23     0.066964  \n",
       "24     0.136288  \n",
       "25     0.010114  \n",
       "26     0.013150  \n",
       "27     0.004033  \n",
       "28     0.000525  \n",
       "29     0.149521  \n",
       "30     0.136288  "
      ]
     },
     "execution_count": 208,
     "metadata": {},
     "output_type": "execute_result"
    }
   ],
   "source": [
    "Working_Directory"
   ]
  },
  {
   "cell_type": "code",
   "execution_count": 209,
   "metadata": {},
   "outputs": [],
   "source": [
    "viz_df['New_Production'] = viz_df['New_Production'].apply(lambda x: max(0, x))\n",
    "y = y_st['Maize_Production']\n",
    "\n",
    "viz_df['Percentage Change'] = viz_df['New_Production'] - np.tile(y.values, len(viz_df) // case_file_length + 1)[:len(viz_df)]\n",
    "for i in range(0, len(viz_df), case_file_length):\n",
    "    viz_df.loc[i:i+case_file_length-1, 'Percentage Change'] = viz_df.loc[i:i+case_file_length-1, 'Percentage Change'] * 100 / y.values + 1e-9\n",
    "    # viz_df.loc[i:i+case_file_length-1, 'Normalized Percentage Change'] = normalize_list(viz_df.loc[i:i+case_file_length-1, 'Percentage Change'])\n",
    "\n",
    "viz_df['Percentage Change'] = viz_df['Percentage Change'].replace([np.inf, -np.inf], 0)"
   ]
  },
  {
   "cell_type": "code",
   "execution_count": 210,
   "metadata": {},
   "outputs": [
    {
     "data": {
      "text/plain": [
       "5787.140384615384"
      ]
     },
     "execution_count": 210,
     "metadata": {},
     "output_type": "execute_result"
    }
   ],
   "source": [
    "delta_O"
   ]
  },
  {
   "cell_type": "code",
   "execution_count": 211,
   "metadata": {},
   "outputs": [
    {
     "data": {
      "text/plain": [
       "1759.0"
      ]
     },
     "execution_count": 211,
     "metadata": {},
     "output_type": "execute_result"
    }
   ],
   "source": [
    "Working_Directory['Maize_Production'].quantile(0.08)"
   ]
  },
  {
   "cell_type": "code",
   "execution_count": 212,
   "metadata": {},
   "outputs": [
    {
     "data": {
      "text/plain": [
       "0       2879.0\n",
       "1      42583.0\n",
       "2      10450.0\n",
       "3     271975.0\n",
       "4     495122.5\n",
       "5       1759.0\n",
       "6     105491.0\n",
       "7     226532.0\n",
       "8      66868.0\n",
       "9      61353.0\n",
       "10         0.0\n",
       "11      1759.0\n",
       "12    333937.0\n",
       "13     17921.0\n",
       "14     19387.0\n",
       "15    137154.0\n",
       "16    147886.0\n",
       "17    495122.5\n",
       "18    226327.0\n",
       "19    251699.0\n",
       "20     90634.0\n",
       "21    138476.0\n",
       "22    413487.0\n",
       "23     24088.0\n",
       "24    104045.0\n",
       "25      2791.0\n",
       "26     14621.0\n",
       "27      2673.0\n",
       "28      1759.0\n",
       "29    190252.0\n",
       "30    104045.0\n",
       "Name: Maize_Production, dtype: float64"
      ]
     },
     "execution_count": 212,
     "metadata": {},
     "output_type": "execute_result"
    }
   ],
   "source": [
    "Working_Directory['Maize_Production']"
   ]
  },
  {
   "cell_type": "code",
   "execution_count": null,
   "metadata": {},
   "outputs": [],
   "source": []
  },
  {
   "cell_type": "code",
   "execution_count": 213,
   "metadata": {},
   "outputs": [
    {
     "data": {
      "application/vnd.plotly.v1+json": {
       "config": {
        "plotlyServerURL": "https://plot.ly"
       },
       "data": [
        {
         "hovertemplate": "color=darkblue<br>Stability=%{x}<br>Percentage Change=%{y}<br>Abbreviation=%{text}<extra></extra>",
         "legendgroup": "darkblue",
         "marker": {
          "color": "darkblue",
          "opacity": 1,
          "symbol": "circle"
         },
         "mode": "markers+text",
         "name": "darkblue",
         "orientation": "v",
         "showlegend": true,
         "text": [
          "BLR",
          "BLR(R)",
          "RGA",
          "KLR",
          "CKA",
          "TKR",
          "CMG",
          "UPI",
          "KDG",
          "MDY",
          "MYS",
          "CNR",
          "BLG",
          "DWD",
          "HVR",
          "UTK",
          "BLL",
          "BDR",
          "KLB",
          "YDR",
          "RCR",
          "VJN"
         ],
         "textfont": {
          "size": 11
         },
         "textposition": "top center",
         "type": "scatter",
         "x": [
          0.9471491925413384,
          0.997989579302583,
          0.7132359517294744,
          0.7768808287506339,
          0.735936152154417,
          0.9418870621328123,
          0.841320857979556,
          0.7767952092225132,
          0.8886195769548277,
          0.9238768595628047,
          0.9576730016284696,
          0.9609499697551629,
          0.1931350293072539,
          0.7815789670917284,
          0.3359084340902214,
          0.6386524610042771,
          0.9475129870054372,
          0.5487586378590632,
          0.9845176157765584,
          0.8569058692997878,
          0.7700405777767402,
          0.919796905016837
         ],
         "xaxis": "x",
         "y": [
          324.5364450555186,
          49.297610814948804,
          64.41663585961354,
          488.51067786623196,
          84.71734680274757,
          32.52408619821311,
          86.07674979580547,
          277.06385156945424,
          78.79866857421143,
          41.721927641180855,
          6.43306327002653,
          11.85288979101989,
          8.938441098855158,
          21.132677993695395,
          8.285608025106106,
          53.91243228796202,
          34.15950761953246,
          320.8319804865839,
          28.67857688062849,
          295.28296577597655,
          533.811654092544,
          34.15950761953246
         ],
         "yaxis": "y"
        },
        {
         "hovertemplate": "color=red<br>Stability=%{x}<br>Percentage Change=%{y}<br>Abbreviation=%{text}<extra></extra>",
         "legendgroup": "red",
         "marker": {
          "color": "red",
          "opacity": 1,
          "symbol": "circle"
         },
         "mode": "markers+text",
         "name": "red",
         "orientation": "v",
         "showlegend": true,
         "text": [
          "CDA",
          "DVG",
          "SMG",
          "HSN",
          "VJP",
          "BKT",
          "GDG",
          "KPL"
         ],
         "textfont": {
          "size": 11
         },
         "textposition": "top center",
         "type": "scatter",
         "x": [
          0.8108154845957068,
          0.37780636191995587,
          0.9829696773906074,
          0.6025518708650143,
          0.8967468089587394,
          0.734327506097817,
          0.8464038334904491,
          0.8884334934075853
         ],
         "xaxis": "x",
         "y": [
          -1.0096282399206142,
          -7.246863545159175,
          -8.781434019361482,
          -1.6298274051480333,
          -32.39502972138109,
          -8.448800437641063,
          -18.73956214048575,
          -15.913165340308863
         ],
         "yaxis": "y"
        },
        {
         "marker": {
          "color": "darkblue"
         },
         "mode": "markers",
         "name": "BLR: BENGALURU",
         "type": "scatter",
         "x": [
          null
         ],
         "y": [
          null
         ]
        },
        {
         "marker": {
          "color": "darkblue"
         },
         "mode": "markers",
         "name": "BLR(R): BENGALURU(R)",
         "type": "scatter",
         "x": [
          null
         ],
         "y": [
          null
         ]
        },
        {
         "marker": {
          "color": "darkblue"
         },
         "mode": "markers",
         "name": "RGA: RAMANAGARA",
         "type": "scatter",
         "x": [
          null
         ],
         "y": [
          null
         ]
        },
        {
         "marker": {
          "color": "darkblue"
         },
         "mode": "markers",
         "name": "CDA: CHITRADURGA",
         "type": "scatter",
         "x": [
          null
         ],
         "y": [
          null
         ]
        },
        {
         "marker": {
          "color": "darkblue"
         },
         "mode": "markers",
         "name": "DVG: DAVANAGERE",
         "type": "scatter",
         "x": [
          null
         ],
         "y": [
          null
         ]
        },
        {
         "marker": {
          "color": "darkblue"
         },
         "mode": "markers",
         "name": "KLR: KOLAR",
         "type": "scatter",
         "x": [
          null
         ],
         "y": [
          null
         ]
        },
        {
         "marker": {
          "color": "darkblue"
         },
         "mode": "markers",
         "name": "CKA: CHIKKABALLAPURA",
         "type": "scatter",
         "x": [
          null
         ],
         "y": [
          null
         ]
        },
        {
         "marker": {
          "color": "darkblue"
         },
         "mode": "markers",
         "name": "SMG: SHIVAMOGGA",
         "type": "scatter",
         "x": [
          null
         ],
         "y": [
          null
         ]
        },
        {
         "marker": {
          "color": "darkblue"
         },
         "mode": "markers",
         "name": "TKR: TUMAKURU",
         "type": "scatter",
         "x": [
          null
         ],
         "y": [
          null
         ]
        },
        {
         "marker": {
          "color": "darkblue"
         },
         "mode": "markers",
         "name": "CMG: CHIKKAMAGALURU",
         "type": "scatter",
         "x": [
          null
         ],
         "y": [
          null
         ]
        },
        {
         "marker": {
          "color": "darkblue"
         },
         "mode": "markers",
         "name": "UPI: UDUPI",
         "type": "scatter",
         "x": [
          null
         ],
         "y": [
          null
         ]
        },
        {
         "marker": {
          "color": "darkblue"
         },
         "mode": "markers",
         "name": "HSN: HASSAN",
         "type": "scatter",
         "x": [
          null
         ],
         "y": [
          null
         ]
        },
        {
         "marker": {
          "color": "darkblue"
         },
         "mode": "markers",
         "name": "KDG: KODAGU",
         "type": "scatter",
         "x": [
          null
         ],
         "y": [
          null
         ]
        },
        {
         "marker": {
          "color": "darkblue"
         },
         "mode": "markers",
         "name": "MDY: MANDYA",
         "type": "scatter",
         "x": [
          null
         ],
         "y": [
          null
         ]
        },
        {
         "marker": {
          "color": "darkblue"
         },
         "mode": "markers",
         "name": "MYS: MYSURU",
         "type": "scatter",
         "x": [
          null
         ],
         "y": [
          null
         ]
        },
        {
         "marker": {
          "color": "darkblue"
         },
         "mode": "markers",
         "name": "CNR: CHAMARAJANAGAR",
         "type": "scatter",
         "x": [
          null
         ],
         "y": [
          null
         ]
        },
        {
         "marker": {
          "color": "darkblue"
         },
         "mode": "markers",
         "name": "BLG: BELAGAVI",
         "type": "scatter",
         "x": [
          null
         ],
         "y": [
          null
         ]
        },
        {
         "marker": {
          "color": "darkblue"
         },
         "mode": "markers",
         "name": "VJP: VIJAYAPURA",
         "type": "scatter",
         "x": [
          null
         ],
         "y": [
          null
         ]
        },
        {
         "marker": {
          "color": "darkblue"
         },
         "mode": "markers",
         "name": "BKT: BAGALKOT",
         "type": "scatter",
         "x": [
          null
         ],
         "y": [
          null
         ]
        },
        {
         "marker": {
          "color": "darkblue"
         },
         "mode": "markers",
         "name": "DWD: DHARAWAD",
         "type": "scatter",
         "x": [
          null
         ],
         "y": [
          null
         ]
        },
        {
         "marker": {
          "color": "darkblue"
         },
         "mode": "markers",
         "name": "GDG: GADAG",
         "type": "scatter",
         "x": [
          null
         ],
         "y": [
          null
         ]
        },
        {
         "marker": {
          "color": "darkblue"
         },
         "mode": "markers",
         "name": "HVR: HAVERI",
         "type": "scatter",
         "x": [
          null
         ],
         "y": [
          null
         ]
        },
        {
         "marker": {
          "color": "darkblue"
         },
         "mode": "markers",
         "name": "UTK: UTTARA KANNADA",
         "type": "scatter",
         "x": [
          null
         ],
         "y": [
          null
         ]
        },
        {
         "marker": {
          "color": "darkblue"
         },
         "mode": "markers",
         "name": "BLL: BALLARI",
         "type": "scatter",
         "x": [
          null
         ],
         "y": [
          null
         ]
        },
        {
         "marker": {
          "color": "darkblue"
         },
         "mode": "markers",
         "name": "BDR: BIDAR",
         "type": "scatter",
         "x": [
          null
         ],
         "y": [
          null
         ]
        },
        {
         "marker": {
          "color": "darkblue"
         },
         "mode": "markers",
         "name": "KLB: KALABURAGI",
         "type": "scatter",
         "x": [
          null
         ],
         "y": [
          null
         ]
        },
        {
         "marker": {
          "color": "darkblue"
         },
         "mode": "markers",
         "name": "YDR: YADGIRI",
         "type": "scatter",
         "x": [
          null
         ],
         "y": [
          null
         ]
        },
        {
         "marker": {
          "color": "darkblue"
         },
         "mode": "markers",
         "name": "RCR: RAICHUR",
         "type": "scatter",
         "x": [
          null
         ],
         "y": [
          null
         ]
        },
        {
         "marker": {
          "color": "darkblue"
         },
         "mode": "markers",
         "name": "KPL: KOPPAL",
         "type": "scatter",
         "x": [
          null
         ],
         "y": [
          null
         ]
        },
        {
         "marker": {
          "color": "darkblue"
         },
         "mode": "markers",
         "name": "VJN: VIJAYANAGARA",
         "type": "scatter",
         "x": [
          null
         ],
         "y": [
          null
         ]
        },
        {
         "mode": "text",
         "showlegend": false,
         "text": [
          "Avg Stability: 0.79"
         ],
         "textfont": {
          "size": 10.7
         },
         "type": "scatter",
         "x": [
          0.7859725587556123
         ],
         "y": [
          -0.07
         ]
        },
        {
         "mode": "text",
         "showlegend": false,
         "text": [
          "Avg Impact: 93.03"
         ],
         "textfont": {
          "size": 10.7
         },
         "type": "scatter",
         "x": [
          0.3
         ],
         "y": [
          92.99263314233275
         ]
        }
       ],
       "layout": {
        "annotations": [
         {
          "font": {
           "size": 13
          },
          "showarrow": false,
          "text": " α<sub>LV</sub>: 0.50, α<sub>AM</sub>: 0.50, α<sub>NPK</sub>: 0.50",
          "x": 0.5,
          "xref": "paper",
          "y": -0.25,
          "yref": "paper"
         }
        ],
        "legend": {
         "title": {
          "font": {
           "size": 12
          },
          "text": "Districts"
         },
         "tracegroupgap": 0
        },
        "shapes": [
         {
          "line": {
           "color": "red",
           "dash": "dash",
           "width": 1.5
          },
          "type": "line",
          "x0": 0.7859725587556123,
          "x1": 0.7859725587556123,
          "y0": 0,
          "y1": 1,
          "yref": "paper"
         },
         {
          "line": {
           "color": "red",
           "dash": "dash",
           "width": 1.5
          },
          "type": "line",
          "x0": 0,
          "x1": 1,
          "xref": "paper",
          "y0": 93.03263314233276,
          "y1": 93.03263314233276
         }
        ],
        "template": {
         "data": {
          "bar": [
           {
            "error_x": {
             "color": "#2a3f5f"
            },
            "error_y": {
             "color": "#2a3f5f"
            },
            "marker": {
             "line": {
              "color": "#E5ECF6",
              "width": 0.5
             },
             "pattern": {
              "fillmode": "overlay",
              "size": 10,
              "solidity": 0.2
             }
            },
            "type": "bar"
           }
          ],
          "barpolar": [
           {
            "marker": {
             "line": {
              "color": "#E5ECF6",
              "width": 0.5
             },
             "pattern": {
              "fillmode": "overlay",
              "size": 10,
              "solidity": 0.2
             }
            },
            "type": "barpolar"
           }
          ],
          "carpet": [
           {
            "aaxis": {
             "endlinecolor": "#2a3f5f",
             "gridcolor": "white",
             "linecolor": "white",
             "minorgridcolor": "white",
             "startlinecolor": "#2a3f5f"
            },
            "baxis": {
             "endlinecolor": "#2a3f5f",
             "gridcolor": "white",
             "linecolor": "white",
             "minorgridcolor": "white",
             "startlinecolor": "#2a3f5f"
            },
            "type": "carpet"
           }
          ],
          "choropleth": [
           {
            "colorbar": {
             "outlinewidth": 0,
             "ticks": ""
            },
            "type": "choropleth"
           }
          ],
          "contour": [
           {
            "colorbar": {
             "outlinewidth": 0,
             "ticks": ""
            },
            "colorscale": [
             [
              0,
              "#0d0887"
             ],
             [
              0.1111111111111111,
              "#46039f"
             ],
             [
              0.2222222222222222,
              "#7201a8"
             ],
             [
              0.3333333333333333,
              "#9c179e"
             ],
             [
              0.4444444444444444,
              "#bd3786"
             ],
             [
              0.5555555555555556,
              "#d8576b"
             ],
             [
              0.6666666666666666,
              "#ed7953"
             ],
             [
              0.7777777777777778,
              "#fb9f3a"
             ],
             [
              0.8888888888888888,
              "#fdca26"
             ],
             [
              1,
              "#f0f921"
             ]
            ],
            "type": "contour"
           }
          ],
          "contourcarpet": [
           {
            "colorbar": {
             "outlinewidth": 0,
             "ticks": ""
            },
            "type": "contourcarpet"
           }
          ],
          "heatmap": [
           {
            "colorbar": {
             "outlinewidth": 0,
             "ticks": ""
            },
            "colorscale": [
             [
              0,
              "#0d0887"
             ],
             [
              0.1111111111111111,
              "#46039f"
             ],
             [
              0.2222222222222222,
              "#7201a8"
             ],
             [
              0.3333333333333333,
              "#9c179e"
             ],
             [
              0.4444444444444444,
              "#bd3786"
             ],
             [
              0.5555555555555556,
              "#d8576b"
             ],
             [
              0.6666666666666666,
              "#ed7953"
             ],
             [
              0.7777777777777778,
              "#fb9f3a"
             ],
             [
              0.8888888888888888,
              "#fdca26"
             ],
             [
              1,
              "#f0f921"
             ]
            ],
            "type": "heatmap"
           }
          ],
          "heatmapgl": [
           {
            "colorbar": {
             "outlinewidth": 0,
             "ticks": ""
            },
            "colorscale": [
             [
              0,
              "#0d0887"
             ],
             [
              0.1111111111111111,
              "#46039f"
             ],
             [
              0.2222222222222222,
              "#7201a8"
             ],
             [
              0.3333333333333333,
              "#9c179e"
             ],
             [
              0.4444444444444444,
              "#bd3786"
             ],
             [
              0.5555555555555556,
              "#d8576b"
             ],
             [
              0.6666666666666666,
              "#ed7953"
             ],
             [
              0.7777777777777778,
              "#fb9f3a"
             ],
             [
              0.8888888888888888,
              "#fdca26"
             ],
             [
              1,
              "#f0f921"
             ]
            ],
            "type": "heatmapgl"
           }
          ],
          "histogram": [
           {
            "marker": {
             "pattern": {
              "fillmode": "overlay",
              "size": 10,
              "solidity": 0.2
             }
            },
            "type": "histogram"
           }
          ],
          "histogram2d": [
           {
            "colorbar": {
             "outlinewidth": 0,
             "ticks": ""
            },
            "colorscale": [
             [
              0,
              "#0d0887"
             ],
             [
              0.1111111111111111,
              "#46039f"
             ],
             [
              0.2222222222222222,
              "#7201a8"
             ],
             [
              0.3333333333333333,
              "#9c179e"
             ],
             [
              0.4444444444444444,
              "#bd3786"
             ],
             [
              0.5555555555555556,
              "#d8576b"
             ],
             [
              0.6666666666666666,
              "#ed7953"
             ],
             [
              0.7777777777777778,
              "#fb9f3a"
             ],
             [
              0.8888888888888888,
              "#fdca26"
             ],
             [
              1,
              "#f0f921"
             ]
            ],
            "type": "histogram2d"
           }
          ],
          "histogram2dcontour": [
           {
            "colorbar": {
             "outlinewidth": 0,
             "ticks": ""
            },
            "colorscale": [
             [
              0,
              "#0d0887"
             ],
             [
              0.1111111111111111,
              "#46039f"
             ],
             [
              0.2222222222222222,
              "#7201a8"
             ],
             [
              0.3333333333333333,
              "#9c179e"
             ],
             [
              0.4444444444444444,
              "#bd3786"
             ],
             [
              0.5555555555555556,
              "#d8576b"
             ],
             [
              0.6666666666666666,
              "#ed7953"
             ],
             [
              0.7777777777777778,
              "#fb9f3a"
             ],
             [
              0.8888888888888888,
              "#fdca26"
             ],
             [
              1,
              "#f0f921"
             ]
            ],
            "type": "histogram2dcontour"
           }
          ],
          "mesh3d": [
           {
            "colorbar": {
             "outlinewidth": 0,
             "ticks": ""
            },
            "type": "mesh3d"
           }
          ],
          "parcoords": [
           {
            "line": {
             "colorbar": {
              "outlinewidth": 0,
              "ticks": ""
             }
            },
            "type": "parcoords"
           }
          ],
          "pie": [
           {
            "automargin": true,
            "type": "pie"
           }
          ],
          "scatter": [
           {
            "fillpattern": {
             "fillmode": "overlay",
             "size": 10,
             "solidity": 0.2
            },
            "type": "scatter"
           }
          ],
          "scatter3d": [
           {
            "line": {
             "colorbar": {
              "outlinewidth": 0,
              "ticks": ""
             }
            },
            "marker": {
             "colorbar": {
              "outlinewidth": 0,
              "ticks": ""
             }
            },
            "type": "scatter3d"
           }
          ],
          "scattercarpet": [
           {
            "marker": {
             "colorbar": {
              "outlinewidth": 0,
              "ticks": ""
             }
            },
            "type": "scattercarpet"
           }
          ],
          "scattergeo": [
           {
            "marker": {
             "colorbar": {
              "outlinewidth": 0,
              "ticks": ""
             }
            },
            "type": "scattergeo"
           }
          ],
          "scattergl": [
           {
            "marker": {
             "colorbar": {
              "outlinewidth": 0,
              "ticks": ""
             }
            },
            "type": "scattergl"
           }
          ],
          "scattermapbox": [
           {
            "marker": {
             "colorbar": {
              "outlinewidth": 0,
              "ticks": ""
             }
            },
            "type": "scattermapbox"
           }
          ],
          "scatterpolar": [
           {
            "marker": {
             "colorbar": {
              "outlinewidth": 0,
              "ticks": ""
             }
            },
            "type": "scatterpolar"
           }
          ],
          "scatterpolargl": [
           {
            "marker": {
             "colorbar": {
              "outlinewidth": 0,
              "ticks": ""
             }
            },
            "type": "scatterpolargl"
           }
          ],
          "scatterternary": [
           {
            "marker": {
             "colorbar": {
              "outlinewidth": 0,
              "ticks": ""
             }
            },
            "type": "scatterternary"
           }
          ],
          "surface": [
           {
            "colorbar": {
             "outlinewidth": 0,
             "ticks": ""
            },
            "colorscale": [
             [
              0,
              "#0d0887"
             ],
             [
              0.1111111111111111,
              "#46039f"
             ],
             [
              0.2222222222222222,
              "#7201a8"
             ],
             [
              0.3333333333333333,
              "#9c179e"
             ],
             [
              0.4444444444444444,
              "#bd3786"
             ],
             [
              0.5555555555555556,
              "#d8576b"
             ],
             [
              0.6666666666666666,
              "#ed7953"
             ],
             [
              0.7777777777777778,
              "#fb9f3a"
             ],
             [
              0.8888888888888888,
              "#fdca26"
             ],
             [
              1,
              "#f0f921"
             ]
            ],
            "type": "surface"
           }
          ],
          "table": [
           {
            "cells": {
             "fill": {
              "color": "#EBF0F8"
             },
             "line": {
              "color": "white"
             }
            },
            "header": {
             "fill": {
              "color": "#C8D4E3"
             },
             "line": {
              "color": "white"
             }
            },
            "type": "table"
           }
          ]
         },
         "layout": {
          "annotationdefaults": {
           "arrowcolor": "#2a3f5f",
           "arrowhead": 0,
           "arrowwidth": 1
          },
          "autotypenumbers": "strict",
          "coloraxis": {
           "colorbar": {
            "outlinewidth": 0,
            "ticks": ""
           }
          },
          "colorscale": {
           "diverging": [
            [
             0,
             "#8e0152"
            ],
            [
             0.1,
             "#c51b7d"
            ],
            [
             0.2,
             "#de77ae"
            ],
            [
             0.3,
             "#f1b6da"
            ],
            [
             0.4,
             "#fde0ef"
            ],
            [
             0.5,
             "#f7f7f7"
            ],
            [
             0.6,
             "#e6f5d0"
            ],
            [
             0.7,
             "#b8e186"
            ],
            [
             0.8,
             "#7fbc41"
            ],
            [
             0.9,
             "#4d9221"
            ],
            [
             1,
             "#276419"
            ]
           ],
           "sequential": [
            [
             0,
             "#0d0887"
            ],
            [
             0.1111111111111111,
             "#46039f"
            ],
            [
             0.2222222222222222,
             "#7201a8"
            ],
            [
             0.3333333333333333,
             "#9c179e"
            ],
            [
             0.4444444444444444,
             "#bd3786"
            ],
            [
             0.5555555555555556,
             "#d8576b"
            ],
            [
             0.6666666666666666,
             "#ed7953"
            ],
            [
             0.7777777777777778,
             "#fb9f3a"
            ],
            [
             0.8888888888888888,
             "#fdca26"
            ],
            [
             1,
             "#f0f921"
            ]
           ],
           "sequentialminus": [
            [
             0,
             "#0d0887"
            ],
            [
             0.1111111111111111,
             "#46039f"
            ],
            [
             0.2222222222222222,
             "#7201a8"
            ],
            [
             0.3333333333333333,
             "#9c179e"
            ],
            [
             0.4444444444444444,
             "#bd3786"
            ],
            [
             0.5555555555555556,
             "#d8576b"
            ],
            [
             0.6666666666666666,
             "#ed7953"
            ],
            [
             0.7777777777777778,
             "#fb9f3a"
            ],
            [
             0.8888888888888888,
             "#fdca26"
            ],
            [
             1,
             "#f0f921"
            ]
           ]
          },
          "colorway": [
           "#636efa",
           "#EF553B",
           "#00cc96",
           "#ab63fa",
           "#FFA15A",
           "#19d3f3",
           "#FF6692",
           "#B6E880",
           "#FF97FF",
           "#FECB52"
          ],
          "font": {
           "color": "#2a3f5f"
          },
          "geo": {
           "bgcolor": "white",
           "lakecolor": "white",
           "landcolor": "#E5ECF6",
           "showlakes": true,
           "showland": true,
           "subunitcolor": "white"
          },
          "hoverlabel": {
           "align": "left"
          },
          "hovermode": "closest",
          "mapbox": {
           "style": "light"
          },
          "paper_bgcolor": "white",
          "plot_bgcolor": "#E5ECF6",
          "polar": {
           "angularaxis": {
            "gridcolor": "white",
            "linecolor": "white",
            "ticks": ""
           },
           "bgcolor": "#E5ECF6",
           "radialaxis": {
            "gridcolor": "white",
            "linecolor": "white",
            "ticks": ""
           }
          },
          "scene": {
           "xaxis": {
            "backgroundcolor": "#E5ECF6",
            "gridcolor": "white",
            "gridwidth": 2,
            "linecolor": "white",
            "showbackground": true,
            "ticks": "",
            "zerolinecolor": "white"
           },
           "yaxis": {
            "backgroundcolor": "#E5ECF6",
            "gridcolor": "white",
            "gridwidth": 2,
            "linecolor": "white",
            "showbackground": true,
            "ticks": "",
            "zerolinecolor": "white"
           },
           "zaxis": {
            "backgroundcolor": "#E5ECF6",
            "gridcolor": "white",
            "gridwidth": 2,
            "linecolor": "white",
            "showbackground": true,
            "ticks": "",
            "zerolinecolor": "white"
           }
          },
          "shapedefaults": {
           "line": {
            "color": "#2a3f5f"
           }
          },
          "ternary": {
           "aaxis": {
            "gridcolor": "white",
            "linecolor": "white",
            "ticks": ""
           },
           "baxis": {
            "gridcolor": "white",
            "linecolor": "white",
            "ticks": ""
           },
           "bgcolor": "#E5ECF6",
           "caxis": {
            "gridcolor": "white",
            "linecolor": "white",
            "ticks": ""
           }
          },
          "title": {
           "x": 0.05
          },
          "xaxis": {
           "automargin": true,
           "gridcolor": "white",
           "linecolor": "white",
           "ticks": "",
           "title": {
            "standoff": 15
           },
           "zerolinecolor": "white",
           "zerolinewidth": 2
          },
          "yaxis": {
           "automargin": true,
           "gridcolor": "white",
           "linecolor": "white",
           "ticks": "",
           "title": {
            "standoff": 15
           },
           "zerolinecolor": "white",
           "zerolinewidth": 2
          }
         }
        },
        "title": {
         "text": "Maize Percentage Change vs Stability"
        },
        "xaxis": {
         "anchor": "y",
         "domain": [
          0,
          1
         ],
         "title": {
          "text": "Stability"
         }
        },
        "yaxis": {
         "anchor": "x",
         "domain": [
          0,
          1
         ],
         "title": {
          "text": "Percentage Change"
         }
        }
       }
      }
     },
     "metadata": {},
     "output_type": "display_data"
    },
    {
     "data": {
      "application/vnd.jupyter.widget-view+json": {
       "model_id": "52e5cfcc5f7f4117a1ea5920e2b7c586",
       "version_major": 2,
       "version_minor": 0
      },
      "text/plain": [
       "interactive(children=(FloatSlider(value=0.5, description='αLV:', max=1.0), FloatSlider(value=0.5, description=…"
      ]
     },
     "metadata": {},
     "output_type": "display_data"
    },
    {
     "data": {
      "application/vnd.jupyter.widget-view+json": {
       "model_id": "67d5d7ec57b640a18d05a5a4fc89ae99",
       "version_major": 2,
       "version_minor": 0
      },
      "text/plain": [
       "HBox(children=(Button(description='Update Plot', style=ButtonStyle()), FloatSlider(value=0.5, description='αLV…"
      ]
     },
     "execution_count": 213,
     "metadata": {},
     "output_type": "execute_result"
    }
   ],
   "source": [
    "import pandas as pd\n",
    "import plotly.express as px\n",
    "import ipywidgets as widgets\n",
    "from ipywidgets import interact\n",
    "from IPython.display import clear_output\n",
    "import plotly.graph_objects as go\n",
    "\n",
    "def update_plot(alpha1, alpha2, alpha3):\n",
    "    \n",
    "    tolerance = 1e-5 \n",
    "    filtered_df = viz_df[\n",
    "        (viz_df['Sensitivity_LivestockCensus_2012_Cattle'].between(alpha1 - tolerance, alpha1 + tolerance)) &\n",
    "        (viz_df['Sensitivity_AreaUnderCereals_Maize'].between(alpha2 - tolerance, alpha2 + tolerance)) & \n",
    "        (viz_df['Sensitivity_TotalNPK'].between(alpha3 - tolerance, alpha3 + tolerance)) \n",
    "    ]\n",
    "\n",
    "    # Create a scatter plot with filtered data\n",
    "    fig = px.scatter(\n",
    "        filtered_df, \n",
    "        x='Stability_Values', \n",
    "        y='Percentage Change', \n",
    "        title='Maize Percentage Change vs Stability',\n",
    "        labels={'Percentage Change': 'Percentage Change', 'Stability_Values': 'Stability'},\n",
    "        text='Abbreviation',\n",
    "        opacity=1,\n",
    "        color=filtered_df['Percentage Change'].apply(lambda val: 'red' if val < 0 else 'darkblue'),  # Conditional coloring\n",
    "        color_discrete_map={'red': 'red', 'darkblue': 'darkblue'}\n",
    "    )\n",
    "\n",
    "    fig.update_traces(textposition='top center', textfont=dict(size=11))\n",
    "\n",
    "    # Update layout to add annotations and legends\n",
    "    fig.update_layout(\n",
    "        annotations=[\n",
    "            dict(\n",
    "                x=0.5,\n",
    "                y=-0.25,\n",
    "                showarrow=False,\n",
    "                text=f' α<sub>LV</sub>: {alpha1:.2f}, α<sub>AM</sub>: {alpha2:.2f}, α<sub>NPK</sub>: {alpha3:.2f}',\n",
    "                xref=\"paper\",\n",
    "                yref=\"paper\",\n",
    "                font=dict(size=13)\n",
    "            )\n",
    "        ],\n",
    "        legend_title_text='Districts',\n",
    "        legend_title=dict(font=dict(size=12)),\n",
    "    )\n",
    "\n",
    "    # Adding custom legends with abbreviations and full forms\n",
    "    legend_labels = [{'Abbreviation': abb, 'Full Form': full_form} \n",
    "                     for abb, full_form in zip(filtered_df['Abbreviation'].unique(), filtered_df['District'].unique())]\n",
    "\n",
    "    for label in legend_labels:\n",
    "        fig.add_trace(go.Scatter(\n",
    "            x=[None],\n",
    "            y=[None],\n",
    "            mode='markers',\n",
    "            marker=dict(color='darkblue'),\n",
    "            name=f\"{label['Abbreviation']}: {label['Full Form']}\"\n",
    "        ))\n",
    "\n",
    "    # Adding average lines for stability and percentage change\n",
    "    avg_stability = filtered_df['Stability_Values'].mean()\n",
    "    avg_precent = filtered_df['Percentage Change'].mean()\n",
    "\n",
    "    fig.add_shape(\n",
    "        type='line',\n",
    "        x0=avg_stability, y0=0, x1=avg_stability, y1=1,\n",
    "        line=dict(color='red', width=1.5, dash='dash'),\n",
    "        yref='paper'\n",
    "    )\n",
    "\n",
    "    fig.add_shape(\n",
    "        type='line',\n",
    "        x0=0, y0=avg_precent, x1=1, y1=avg_precent,\n",
    "        line=dict(color='red', width=1.5, dash='dash'),\n",
    "        xref='paper'\n",
    "    )\n",
    "\n",
    "    # Add annotations for average values\n",
    "    fig.add_trace(go.Scatter(\n",
    "        x=[avg_stability],\n",
    "        y=[-0.07],\n",
    "        text=[f'Avg Stability: {avg_stability:.2f}'],\n",
    "        mode=\"text\",\n",
    "        showlegend=False,\n",
    "        textfont=dict(size=10.7)\n",
    "    ))\n",
    "\n",
    "    fig.add_trace(go.Scatter(\n",
    "        x=[0.3],\n",
    "        y=[avg_precent-0.04],\n",
    "        text=[f'Avg Impact: {avg_precent:.2f}'],\n",
    "        mode=\"text\",\n",
    "        showlegend=False,\n",
    "        textfont=dict(size=10.7)\n",
    "    ))\n",
    "\n",
    "    clear_output()\n",
    "\n",
    "    display(fig)\n",
    "\n",
    "\n",
    "# Creating sliders for interaction\n",
    "alpha1_slider = widgets.FloatSlider(value=0.5, min=0, max=1, step=0.1, description='αLV:')\n",
    "alpha2_slider = widgets.FloatSlider(value=0.5, min=0, max=1, step=0.1, description='αAM:')\n",
    "alpha3_slider = widgets.FloatSlider(value=0.5, min=0, max=1, step=0.1, description='αNPK:')\n",
    "\n",
    "# Creating interactive plot\n",
    "interactive_plot = interact(update_plot, alpha1=alpha1_slider, alpha2=alpha2_slider, alpha3=alpha3_slider)\n",
    "\n",
    "# Create update button to trigger plot update\n",
    "update_button = widgets.Button(description=\"Update Plot\")\n",
    "update_button.on_click(lambda _: update_plot(alpha1_slider.value, alpha2_slider.value, alpha3_slider.value))\n",
    "\n",
    "# Display the button and sliders\n",
    "widgets.HBox([update_button, alpha1_slider, alpha2_slider, alpha3_slider])"
   ]
  },
  {
   "cell_type": "code",
   "execution_count": 214,
   "metadata": {},
   "outputs": [],
   "source": [
    "viz_df['New_Production'] = viz_df['New_Production'].apply(lambda x: max(0, x))\n",
    "y = y_st['Maize_Production']\n",
    "\n",
    "viz_df['Impact'] = viz_df['New_Production'] - np.tile(y.values, len(viz_df) // case_file_length + 1)[:len(viz_df)]\n",
    "for i in range(0, len(viz_df), case_file_length):\n",
    "    viz_df.loc[i:i+case_file_length-1, 'Impact'] = viz_df.loc[i:i+case_file_length-1, 'Impact']\n",
    "    # viz_df.loc[i:i+case_file_length-1, 'Normalized Percentage Change'] = normalize_list(viz_df.loc[i:i+case_file_length-1, 'Percentage Change'])\n",
    "\n",
    "viz_df['Impact'] = viz_df['Impact'].replace([np.inf, -np.inf], 0)"
   ]
  },
  {
   "cell_type": "code",
   "execution_count": 215,
   "metadata": {},
   "outputs": [
    {
     "data": {
      "application/vnd.plotly.v1+json": {
       "config": {
        "plotlyServerURL": "https://plot.ly"
       },
       "data": [
        {
         "hovertemplate": "color=darkblue<br>Stability=%{x}<br>Impact=%{y}<br>Abbreviation=%{text}<extra></extra>",
         "legendgroup": "darkblue",
         "marker": {
          "color": "darkblue",
          "opacity": 1,
          "symbol": "circle"
         },
         "mode": "markers+text",
         "name": "darkblue",
         "orientation": "v",
         "showlegend": true,
         "text": [
          "BLR",
          "BLR(R)",
          "RGA",
          "KLR",
          "CKA",
          "TKR",
          "CMG",
          "UPI",
          "KDG",
          "MDY",
          "MYS",
          "CNR",
          "BLG",
          "DWD",
          "HVR",
          "UTK",
          "BLL",
          "BDR",
          "KLB",
          "YDR",
          "RCR",
          "VJN"
         ],
         "textfont": {
          "size": 11
         },
         "textposition": "top center",
         "type": "scatter",
         "x": [
          0.9471491925413384,
          0.997989579302583,
          0.7132359517294744,
          0.7768808287506339,
          0.735936152154417,
          0.9418870621328123,
          0.841320857979556,
          0.7767952092225132,
          0.8886195769548277,
          0.9238768595628047,
          0.9576730016284696,
          0.9609499697551629,
          0.1931350293072539,
          0.7815789670917284,
          0.3359084340902214,
          0.6386524610042771,
          0.9475129870054372,
          0.5487586378590632,
          0.9845176157765584,
          0.8569058692997878,
          0.7700405777767402,
          0.919796905016837
         ],
         "xaxis": "x",
         "y": [
          9343.40425311959,
          20992.40161290382,
          6731.5384472251135,
          8592.90282364943,
          89369.17631463154,
          21748.205958352468,
          52810.668301607,
          4873.55314908911,
          14121.509395005221,
          8088.630111601862,
          8823.203596000647,
          17528.764594868815,
          44256.2330247279,
          19153.391371899546,
          34259.91205063561,
          12986.426689283413,
          35541.2597017021,
          8954.420575352648,
          4193.094725570481,
          7892.913675165124,
          9389.74699547026,
          35541.2597017021
         ],
         "yaxis": "y"
        },
        {
         "hovertemplate": "color=red<br>Stability=%{x}<br>Impact=%{y}<br>Abbreviation=%{text}<extra></extra>",
         "legendgroup": "red",
         "marker": {
          "color": "red",
          "opacity": 1,
          "symbol": "circle"
         },
         "mode": "markers+text",
         "name": "red",
         "orientation": "v",
         "showlegend": true,
         "text": [
          "CDA",
          "DVG",
          "SMG",
          "HSN",
          "VJP",
          "BKT",
          "GDG",
          "KPL"
         ],
         "textfont": {
          "size": 11
         },
         "textposition": "top center",
         "type": "scatter",
         "x": [
          0.8108154845957068,
          0.37780636191995587,
          0.9829696773906074,
          0.6025518708650143,
          0.8967468089587394,
          0.734327506097817,
          0.8464038334904491,
          0.8884334934075853
         ],
         "xaxis": "x",
         "y": [
          -2745.9364082438406,
          -35880.851961331966,
          -19892.758115005272,
          -5442.596745268558,
          -73318.69891977345,
          -21265.54621605517,
          -25949.796071043806,
          -30275.115325146937
         ],
         "yaxis": "y"
        },
        {
         "marker": {
          "color": "darkblue"
         },
         "mode": "markers",
         "name": "BLR: BENGALURU",
         "type": "scatter",
         "x": [
          null
         ],
         "y": [
          null
         ]
        },
        {
         "marker": {
          "color": "darkblue"
         },
         "mode": "markers",
         "name": "BLR(R): BENGALURU(R)",
         "type": "scatter",
         "x": [
          null
         ],
         "y": [
          null
         ]
        },
        {
         "marker": {
          "color": "darkblue"
         },
         "mode": "markers",
         "name": "RGA: RAMANAGARA",
         "type": "scatter",
         "x": [
          null
         ],
         "y": [
          null
         ]
        },
        {
         "marker": {
          "color": "darkblue"
         },
         "mode": "markers",
         "name": "CDA: CHITRADURGA",
         "type": "scatter",
         "x": [
          null
         ],
         "y": [
          null
         ]
        },
        {
         "marker": {
          "color": "darkblue"
         },
         "mode": "markers",
         "name": "DVG: DAVANAGERE",
         "type": "scatter",
         "x": [
          null
         ],
         "y": [
          null
         ]
        },
        {
         "marker": {
          "color": "darkblue"
         },
         "mode": "markers",
         "name": "KLR: KOLAR",
         "type": "scatter",
         "x": [
          null
         ],
         "y": [
          null
         ]
        },
        {
         "marker": {
          "color": "darkblue"
         },
         "mode": "markers",
         "name": "CKA: CHIKKABALLAPURA",
         "type": "scatter",
         "x": [
          null
         ],
         "y": [
          null
         ]
        },
        {
         "marker": {
          "color": "darkblue"
         },
         "mode": "markers",
         "name": "SMG: SHIVAMOGGA",
         "type": "scatter",
         "x": [
          null
         ],
         "y": [
          null
         ]
        },
        {
         "marker": {
          "color": "darkblue"
         },
         "mode": "markers",
         "name": "TKR: TUMAKURU",
         "type": "scatter",
         "x": [
          null
         ],
         "y": [
          null
         ]
        },
        {
         "marker": {
          "color": "darkblue"
         },
         "mode": "markers",
         "name": "CMG: CHIKKAMAGALURU",
         "type": "scatter",
         "x": [
          null
         ],
         "y": [
          null
         ]
        },
        {
         "marker": {
          "color": "darkblue"
         },
         "mode": "markers",
         "name": "UPI: UDUPI",
         "type": "scatter",
         "x": [
          null
         ],
         "y": [
          null
         ]
        },
        {
         "marker": {
          "color": "darkblue"
         },
         "mode": "markers",
         "name": "HSN: HASSAN",
         "type": "scatter",
         "x": [
          null
         ],
         "y": [
          null
         ]
        },
        {
         "marker": {
          "color": "darkblue"
         },
         "mode": "markers",
         "name": "KDG: KODAGU",
         "type": "scatter",
         "x": [
          null
         ],
         "y": [
          null
         ]
        },
        {
         "marker": {
          "color": "darkblue"
         },
         "mode": "markers",
         "name": "MDY: MANDYA",
         "type": "scatter",
         "x": [
          null
         ],
         "y": [
          null
         ]
        },
        {
         "marker": {
          "color": "darkblue"
         },
         "mode": "markers",
         "name": "MYS: MYSURU",
         "type": "scatter",
         "x": [
          null
         ],
         "y": [
          null
         ]
        },
        {
         "marker": {
          "color": "darkblue"
         },
         "mode": "markers",
         "name": "CNR: CHAMARAJANAGAR",
         "type": "scatter",
         "x": [
          null
         ],
         "y": [
          null
         ]
        },
        {
         "marker": {
          "color": "darkblue"
         },
         "mode": "markers",
         "name": "BLG: BELAGAVI",
         "type": "scatter",
         "x": [
          null
         ],
         "y": [
          null
         ]
        },
        {
         "marker": {
          "color": "darkblue"
         },
         "mode": "markers",
         "name": "VJP: VIJAYAPURA",
         "type": "scatter",
         "x": [
          null
         ],
         "y": [
          null
         ]
        },
        {
         "marker": {
          "color": "darkblue"
         },
         "mode": "markers",
         "name": "BKT: BAGALKOT",
         "type": "scatter",
         "x": [
          null
         ],
         "y": [
          null
         ]
        },
        {
         "marker": {
          "color": "darkblue"
         },
         "mode": "markers",
         "name": "DWD: DHARAWAD",
         "type": "scatter",
         "x": [
          null
         ],
         "y": [
          null
         ]
        },
        {
         "marker": {
          "color": "darkblue"
         },
         "mode": "markers",
         "name": "GDG: GADAG",
         "type": "scatter",
         "x": [
          null
         ],
         "y": [
          null
         ]
        },
        {
         "marker": {
          "color": "darkblue"
         },
         "mode": "markers",
         "name": "HVR: HAVERI",
         "type": "scatter",
         "x": [
          null
         ],
         "y": [
          null
         ]
        },
        {
         "marker": {
          "color": "darkblue"
         },
         "mode": "markers",
         "name": "UTK: UTTARA KANNADA",
         "type": "scatter",
         "x": [
          null
         ],
         "y": [
          null
         ]
        },
        {
         "marker": {
          "color": "darkblue"
         },
         "mode": "markers",
         "name": "BLL: BALLARI",
         "type": "scatter",
         "x": [
          null
         ],
         "y": [
          null
         ]
        },
        {
         "marker": {
          "color": "darkblue"
         },
         "mode": "markers",
         "name": "BDR: BIDAR",
         "type": "scatter",
         "x": [
          null
         ],
         "y": [
          null
         ]
        },
        {
         "marker": {
          "color": "darkblue"
         },
         "mode": "markers",
         "name": "KLB: KALABURAGI",
         "type": "scatter",
         "x": [
          null
         ],
         "y": [
          null
         ]
        },
        {
         "marker": {
          "color": "darkblue"
         },
         "mode": "markers",
         "name": "YDR: YADGIRI",
         "type": "scatter",
         "x": [
          null
         ],
         "y": [
          null
         ]
        },
        {
         "marker": {
          "color": "darkblue"
         },
         "mode": "markers",
         "name": "RCR: RAICHUR",
         "type": "scatter",
         "x": [
          null
         ],
         "y": [
          null
         ]
        },
        {
         "marker": {
          "color": "darkblue"
         },
         "mode": "markers",
         "name": "KPL: KOPPAL",
         "type": "scatter",
         "x": [
          null
         ],
         "y": [
          null
         ]
        },
        {
         "marker": {
          "color": "darkblue"
         },
         "mode": "markers",
         "name": "VJN: VIJAYANAGARA",
         "type": "scatter",
         "x": [
          null
         ],
         "y": [
          null
         ]
        },
        {
         "mode": "text",
         "showlegend": false,
         "text": [
          "Avg Stability: 0.79"
         ],
         "textfont": {
          "size": 10.7
         },
         "type": "scatter",
         "x": [
          0.7859725587556123
         ],
         "y": [
          -0.07
         ]
        },
        {
         "mode": "text",
         "showlegend": false,
         "text": [
          "Avg Impact: 8680.71"
         ],
         "textfont": {
          "size": 10.7
         },
         "type": "scatter",
         "x": [
          0.3
         ],
         "y": [
          8680.670576923161
         ]
        }
       ],
       "layout": {
        "annotations": [
         {
          "font": {
           "size": 13
          },
          "showarrow": false,
          "text": " α<sub>LV</sub>: 0.50, α<sub>AM</sub>: 0.50, α<sub>NPK</sub>: 0.50",
          "x": 0.5,
          "xref": "paper",
          "y": -0.25,
          "yref": "paper"
         }
        ],
        "legend": {
         "title": {
          "font": {
           "size": 12
          },
          "text": "Districts"
         },
         "tracegroupgap": 0
        },
        "shapes": [
         {
          "line": {
           "color": "red",
           "dash": "dash",
           "width": 1.5
          },
          "type": "line",
          "x0": 0.7859725587556123,
          "x1": 0.7859725587556123,
          "y0": 0,
          "y1": 1,
          "yref": "paper"
         },
         {
          "line": {
           "color": "red",
           "dash": "dash",
           "width": 1.5
          },
          "type": "line",
          "x0": 0,
          "x1": 1,
          "xref": "paper",
          "y0": 8680.710576923162,
          "y1": 8680.710576923162
         }
        ],
        "template": {
         "data": {
          "bar": [
           {
            "error_x": {
             "color": "#2a3f5f"
            },
            "error_y": {
             "color": "#2a3f5f"
            },
            "marker": {
             "line": {
              "color": "#E5ECF6",
              "width": 0.5
             },
             "pattern": {
              "fillmode": "overlay",
              "size": 10,
              "solidity": 0.2
             }
            },
            "type": "bar"
           }
          ],
          "barpolar": [
           {
            "marker": {
             "line": {
              "color": "#E5ECF6",
              "width": 0.5
             },
             "pattern": {
              "fillmode": "overlay",
              "size": 10,
              "solidity": 0.2
             }
            },
            "type": "barpolar"
           }
          ],
          "carpet": [
           {
            "aaxis": {
             "endlinecolor": "#2a3f5f",
             "gridcolor": "white",
             "linecolor": "white",
             "minorgridcolor": "white",
             "startlinecolor": "#2a3f5f"
            },
            "baxis": {
             "endlinecolor": "#2a3f5f",
             "gridcolor": "white",
             "linecolor": "white",
             "minorgridcolor": "white",
             "startlinecolor": "#2a3f5f"
            },
            "type": "carpet"
           }
          ],
          "choropleth": [
           {
            "colorbar": {
             "outlinewidth": 0,
             "ticks": ""
            },
            "type": "choropleth"
           }
          ],
          "contour": [
           {
            "colorbar": {
             "outlinewidth": 0,
             "ticks": ""
            },
            "colorscale": [
             [
              0,
              "#0d0887"
             ],
             [
              0.1111111111111111,
              "#46039f"
             ],
             [
              0.2222222222222222,
              "#7201a8"
             ],
             [
              0.3333333333333333,
              "#9c179e"
             ],
             [
              0.4444444444444444,
              "#bd3786"
             ],
             [
              0.5555555555555556,
              "#d8576b"
             ],
             [
              0.6666666666666666,
              "#ed7953"
             ],
             [
              0.7777777777777778,
              "#fb9f3a"
             ],
             [
              0.8888888888888888,
              "#fdca26"
             ],
             [
              1,
              "#f0f921"
             ]
            ],
            "type": "contour"
           }
          ],
          "contourcarpet": [
           {
            "colorbar": {
             "outlinewidth": 0,
             "ticks": ""
            },
            "type": "contourcarpet"
           }
          ],
          "heatmap": [
           {
            "colorbar": {
             "outlinewidth": 0,
             "ticks": ""
            },
            "colorscale": [
             [
              0,
              "#0d0887"
             ],
             [
              0.1111111111111111,
              "#46039f"
             ],
             [
              0.2222222222222222,
              "#7201a8"
             ],
             [
              0.3333333333333333,
              "#9c179e"
             ],
             [
              0.4444444444444444,
              "#bd3786"
             ],
             [
              0.5555555555555556,
              "#d8576b"
             ],
             [
              0.6666666666666666,
              "#ed7953"
             ],
             [
              0.7777777777777778,
              "#fb9f3a"
             ],
             [
              0.8888888888888888,
              "#fdca26"
             ],
             [
              1,
              "#f0f921"
             ]
            ],
            "type": "heatmap"
           }
          ],
          "heatmapgl": [
           {
            "colorbar": {
             "outlinewidth": 0,
             "ticks": ""
            },
            "colorscale": [
             [
              0,
              "#0d0887"
             ],
             [
              0.1111111111111111,
              "#46039f"
             ],
             [
              0.2222222222222222,
              "#7201a8"
             ],
             [
              0.3333333333333333,
              "#9c179e"
             ],
             [
              0.4444444444444444,
              "#bd3786"
             ],
             [
              0.5555555555555556,
              "#d8576b"
             ],
             [
              0.6666666666666666,
              "#ed7953"
             ],
             [
              0.7777777777777778,
              "#fb9f3a"
             ],
             [
              0.8888888888888888,
              "#fdca26"
             ],
             [
              1,
              "#f0f921"
             ]
            ],
            "type": "heatmapgl"
           }
          ],
          "histogram": [
           {
            "marker": {
             "pattern": {
              "fillmode": "overlay",
              "size": 10,
              "solidity": 0.2
             }
            },
            "type": "histogram"
           }
          ],
          "histogram2d": [
           {
            "colorbar": {
             "outlinewidth": 0,
             "ticks": ""
            },
            "colorscale": [
             [
              0,
              "#0d0887"
             ],
             [
              0.1111111111111111,
              "#46039f"
             ],
             [
              0.2222222222222222,
              "#7201a8"
             ],
             [
              0.3333333333333333,
              "#9c179e"
             ],
             [
              0.4444444444444444,
              "#bd3786"
             ],
             [
              0.5555555555555556,
              "#d8576b"
             ],
             [
              0.6666666666666666,
              "#ed7953"
             ],
             [
              0.7777777777777778,
              "#fb9f3a"
             ],
             [
              0.8888888888888888,
              "#fdca26"
             ],
             [
              1,
              "#f0f921"
             ]
            ],
            "type": "histogram2d"
           }
          ],
          "histogram2dcontour": [
           {
            "colorbar": {
             "outlinewidth": 0,
             "ticks": ""
            },
            "colorscale": [
             [
              0,
              "#0d0887"
             ],
             [
              0.1111111111111111,
              "#46039f"
             ],
             [
              0.2222222222222222,
              "#7201a8"
             ],
             [
              0.3333333333333333,
              "#9c179e"
             ],
             [
              0.4444444444444444,
              "#bd3786"
             ],
             [
              0.5555555555555556,
              "#d8576b"
             ],
             [
              0.6666666666666666,
              "#ed7953"
             ],
             [
              0.7777777777777778,
              "#fb9f3a"
             ],
             [
              0.8888888888888888,
              "#fdca26"
             ],
             [
              1,
              "#f0f921"
             ]
            ],
            "type": "histogram2dcontour"
           }
          ],
          "mesh3d": [
           {
            "colorbar": {
             "outlinewidth": 0,
             "ticks": ""
            },
            "type": "mesh3d"
           }
          ],
          "parcoords": [
           {
            "line": {
             "colorbar": {
              "outlinewidth": 0,
              "ticks": ""
             }
            },
            "type": "parcoords"
           }
          ],
          "pie": [
           {
            "automargin": true,
            "type": "pie"
           }
          ],
          "scatter": [
           {
            "fillpattern": {
             "fillmode": "overlay",
             "size": 10,
             "solidity": 0.2
            },
            "type": "scatter"
           }
          ],
          "scatter3d": [
           {
            "line": {
             "colorbar": {
              "outlinewidth": 0,
              "ticks": ""
             }
            },
            "marker": {
             "colorbar": {
              "outlinewidth": 0,
              "ticks": ""
             }
            },
            "type": "scatter3d"
           }
          ],
          "scattercarpet": [
           {
            "marker": {
             "colorbar": {
              "outlinewidth": 0,
              "ticks": ""
             }
            },
            "type": "scattercarpet"
           }
          ],
          "scattergeo": [
           {
            "marker": {
             "colorbar": {
              "outlinewidth": 0,
              "ticks": ""
             }
            },
            "type": "scattergeo"
           }
          ],
          "scattergl": [
           {
            "marker": {
             "colorbar": {
              "outlinewidth": 0,
              "ticks": ""
             }
            },
            "type": "scattergl"
           }
          ],
          "scattermapbox": [
           {
            "marker": {
             "colorbar": {
              "outlinewidth": 0,
              "ticks": ""
             }
            },
            "type": "scattermapbox"
           }
          ],
          "scatterpolar": [
           {
            "marker": {
             "colorbar": {
              "outlinewidth": 0,
              "ticks": ""
             }
            },
            "type": "scatterpolar"
           }
          ],
          "scatterpolargl": [
           {
            "marker": {
             "colorbar": {
              "outlinewidth": 0,
              "ticks": ""
             }
            },
            "type": "scatterpolargl"
           }
          ],
          "scatterternary": [
           {
            "marker": {
             "colorbar": {
              "outlinewidth": 0,
              "ticks": ""
             }
            },
            "type": "scatterternary"
           }
          ],
          "surface": [
           {
            "colorbar": {
             "outlinewidth": 0,
             "ticks": ""
            },
            "colorscale": [
             [
              0,
              "#0d0887"
             ],
             [
              0.1111111111111111,
              "#46039f"
             ],
             [
              0.2222222222222222,
              "#7201a8"
             ],
             [
              0.3333333333333333,
              "#9c179e"
             ],
             [
              0.4444444444444444,
              "#bd3786"
             ],
             [
              0.5555555555555556,
              "#d8576b"
             ],
             [
              0.6666666666666666,
              "#ed7953"
             ],
             [
              0.7777777777777778,
              "#fb9f3a"
             ],
             [
              0.8888888888888888,
              "#fdca26"
             ],
             [
              1,
              "#f0f921"
             ]
            ],
            "type": "surface"
           }
          ],
          "table": [
           {
            "cells": {
             "fill": {
              "color": "#EBF0F8"
             },
             "line": {
              "color": "white"
             }
            },
            "header": {
             "fill": {
              "color": "#C8D4E3"
             },
             "line": {
              "color": "white"
             }
            },
            "type": "table"
           }
          ]
         },
         "layout": {
          "annotationdefaults": {
           "arrowcolor": "#2a3f5f",
           "arrowhead": 0,
           "arrowwidth": 1
          },
          "autotypenumbers": "strict",
          "coloraxis": {
           "colorbar": {
            "outlinewidth": 0,
            "ticks": ""
           }
          },
          "colorscale": {
           "diverging": [
            [
             0,
             "#8e0152"
            ],
            [
             0.1,
             "#c51b7d"
            ],
            [
             0.2,
             "#de77ae"
            ],
            [
             0.3,
             "#f1b6da"
            ],
            [
             0.4,
             "#fde0ef"
            ],
            [
             0.5,
             "#f7f7f7"
            ],
            [
             0.6,
             "#e6f5d0"
            ],
            [
             0.7,
             "#b8e186"
            ],
            [
             0.8,
             "#7fbc41"
            ],
            [
             0.9,
             "#4d9221"
            ],
            [
             1,
             "#276419"
            ]
           ],
           "sequential": [
            [
             0,
             "#0d0887"
            ],
            [
             0.1111111111111111,
             "#46039f"
            ],
            [
             0.2222222222222222,
             "#7201a8"
            ],
            [
             0.3333333333333333,
             "#9c179e"
            ],
            [
             0.4444444444444444,
             "#bd3786"
            ],
            [
             0.5555555555555556,
             "#d8576b"
            ],
            [
             0.6666666666666666,
             "#ed7953"
            ],
            [
             0.7777777777777778,
             "#fb9f3a"
            ],
            [
             0.8888888888888888,
             "#fdca26"
            ],
            [
             1,
             "#f0f921"
            ]
           ],
           "sequentialminus": [
            [
             0,
             "#0d0887"
            ],
            [
             0.1111111111111111,
             "#46039f"
            ],
            [
             0.2222222222222222,
             "#7201a8"
            ],
            [
             0.3333333333333333,
             "#9c179e"
            ],
            [
             0.4444444444444444,
             "#bd3786"
            ],
            [
             0.5555555555555556,
             "#d8576b"
            ],
            [
             0.6666666666666666,
             "#ed7953"
            ],
            [
             0.7777777777777778,
             "#fb9f3a"
            ],
            [
             0.8888888888888888,
             "#fdca26"
            ],
            [
             1,
             "#f0f921"
            ]
           ]
          },
          "colorway": [
           "#636efa",
           "#EF553B",
           "#00cc96",
           "#ab63fa",
           "#FFA15A",
           "#19d3f3",
           "#FF6692",
           "#B6E880",
           "#FF97FF",
           "#FECB52"
          ],
          "font": {
           "color": "#2a3f5f"
          },
          "geo": {
           "bgcolor": "white",
           "lakecolor": "white",
           "landcolor": "#E5ECF6",
           "showlakes": true,
           "showland": true,
           "subunitcolor": "white"
          },
          "hoverlabel": {
           "align": "left"
          },
          "hovermode": "closest",
          "mapbox": {
           "style": "light"
          },
          "paper_bgcolor": "white",
          "plot_bgcolor": "#E5ECF6",
          "polar": {
           "angularaxis": {
            "gridcolor": "white",
            "linecolor": "white",
            "ticks": ""
           },
           "bgcolor": "#E5ECF6",
           "radialaxis": {
            "gridcolor": "white",
            "linecolor": "white",
            "ticks": ""
           }
          },
          "scene": {
           "xaxis": {
            "backgroundcolor": "#E5ECF6",
            "gridcolor": "white",
            "gridwidth": 2,
            "linecolor": "white",
            "showbackground": true,
            "ticks": "",
            "zerolinecolor": "white"
           },
           "yaxis": {
            "backgroundcolor": "#E5ECF6",
            "gridcolor": "white",
            "gridwidth": 2,
            "linecolor": "white",
            "showbackground": true,
            "ticks": "",
            "zerolinecolor": "white"
           },
           "zaxis": {
            "backgroundcolor": "#E5ECF6",
            "gridcolor": "white",
            "gridwidth": 2,
            "linecolor": "white",
            "showbackground": true,
            "ticks": "",
            "zerolinecolor": "white"
           }
          },
          "shapedefaults": {
           "line": {
            "color": "#2a3f5f"
           }
          },
          "ternary": {
           "aaxis": {
            "gridcolor": "white",
            "linecolor": "white",
            "ticks": ""
           },
           "baxis": {
            "gridcolor": "white",
            "linecolor": "white",
            "ticks": ""
           },
           "bgcolor": "#E5ECF6",
           "caxis": {
            "gridcolor": "white",
            "linecolor": "white",
            "ticks": ""
           }
          },
          "title": {
           "x": 0.05
          },
          "xaxis": {
           "automargin": true,
           "gridcolor": "white",
           "linecolor": "white",
           "ticks": "",
           "title": {
            "standoff": 15
           },
           "zerolinecolor": "white",
           "zerolinewidth": 2
          },
          "yaxis": {
           "automargin": true,
           "gridcolor": "white",
           "linecolor": "white",
           "ticks": "",
           "title": {
            "standoff": 15
           },
           "zerolinecolor": "white",
           "zerolinewidth": 2
          }
         }
        },
        "title": {
         "text": "Maize Impact vs Stability"
        },
        "xaxis": {
         "anchor": "y",
         "domain": [
          0,
          1
         ],
         "title": {
          "text": "Stability"
         }
        },
        "yaxis": {
         "anchor": "x",
         "domain": [
          0,
          1
         ],
         "title": {
          "text": "Impact"
         }
        }
       }
      }
     },
     "metadata": {},
     "output_type": "display_data"
    },
    {
     "data": {
      "application/vnd.jupyter.widget-view+json": {
       "model_id": "91785b8e7be44bff81375ddf294e00bd",
       "version_major": 2,
       "version_minor": 0
      },
      "text/plain": [
       "interactive(children=(FloatSlider(value=0.5, description='αLV:', max=1.0), FloatSlider(value=0.5, description=…"
      ]
     },
     "metadata": {},
     "output_type": "display_data"
    },
    {
     "data": {
      "application/vnd.jupyter.widget-view+json": {
       "model_id": "b9f19239eab347cb820ef6960e6329de",
       "version_major": 2,
       "version_minor": 0
      },
      "text/plain": [
       "HBox(children=(Button(description='Update Plot', style=ButtonStyle()), FloatSlider(value=0.5, description='αLV…"
      ]
     },
     "execution_count": 215,
     "metadata": {},
     "output_type": "execute_result"
    }
   ],
   "source": [
    "import pandas as pd\n",
    "import plotly.express as px\n",
    "import ipywidgets as widgets\n",
    "from ipywidgets import interact\n",
    "from IPython.display import clear_output\n",
    "import plotly.graph_objects as go\n",
    "\n",
    "def update_plot(alpha1, alpha2, alpha3):\n",
    "    \n",
    "    tolerance = 1e-5 \n",
    "    filtered_df = viz_df[\n",
    "        (viz_df['Sensitivity_LivestockCensus_2012_Cattle'].between(alpha1 - tolerance, alpha1 + tolerance)) &\n",
    "        (viz_df['Sensitivity_AreaUnderCereals_Maize'].between(alpha2 - tolerance, alpha2 + tolerance)) & \n",
    "        (viz_df['Sensitivity_TotalNPK'].between(alpha3 - tolerance, alpha3 + tolerance)) \n",
    "    ]\n",
    "\n",
    "    # Create a scatter plot with filtered data\n",
    "    fig = px.scatter(\n",
    "        filtered_df, \n",
    "        x='Stability_Values', \n",
    "        y='Impact', \n",
    "        title='Maize Impact vs Stability',\n",
    "        labels={'Impact': 'Impact', 'Stability_Values': 'Stability'},\n",
    "        text='Abbreviation',\n",
    "        opacity=1,\n",
    "        color=filtered_df['Impact'].apply(lambda val: 'red' if val < 0 else 'darkblue'),  # Conditional coloring\n",
    "        color_discrete_map={'red': 'red', 'darkblue': 'darkblue'}\n",
    "    )\n",
    "\n",
    "    fig.update_traces(textposition='top center', textfont=dict(size=11))\n",
    "\n",
    "    # Update layout to add annotations and legends\n",
    "    fig.update_layout(\n",
    "        annotations=[\n",
    "            dict(\n",
    "                x=0.5,\n",
    "                y=-0.25,\n",
    "                showarrow=False,\n",
    "                text=f' α<sub>LV</sub>: {alpha1:.2f}, α<sub>AM</sub>: {alpha2:.2f}, α<sub>NPK</sub>: {alpha3:.2f}',\n",
    "                xref=\"paper\",\n",
    "                yref=\"paper\",\n",
    "                font=dict(size=13)\n",
    "            )\n",
    "        ],\n",
    "        legend_title_text='Districts',\n",
    "        legend_title=dict(font=dict(size=12)),\n",
    "    )\n",
    "\n",
    "    # Adding custom legends with abbreviations and full forms\n",
    "    legend_labels = [{'Abbreviation': abb, 'Full Form': full_form} \n",
    "                     for abb, full_form in zip(filtered_df['Abbreviation'].unique(), filtered_df['District'].unique())]\n",
    "\n",
    "    for label in legend_labels:\n",
    "        fig.add_trace(go.Scatter(\n",
    "            x=[None],\n",
    "            y=[None],\n",
    "            mode='markers',\n",
    "            marker=dict(color='darkblue'),\n",
    "            name=f\"{label['Abbreviation']}: {label['Full Form']}\"\n",
    "        ))\n",
    "\n",
    "    # Adding average lines for stability and percentage change\n",
    "    avg_stability = filtered_df['Stability_Values'].mean()\n",
    "    avg_precent = filtered_df['Impact'].mean()\n",
    "\n",
    "    fig.add_shape(\n",
    "        type='line',\n",
    "        x0=avg_stability, y0=0, x1=avg_stability, y1=1,\n",
    "        line=dict(color='red', width=1.5, dash='dash'),\n",
    "        yref='paper'\n",
    "    )\n",
    "\n",
    "    fig.add_shape(\n",
    "        type='line',\n",
    "        x0=0, y0=avg_precent, x1=1, y1=avg_precent,\n",
    "        line=dict(color='red', width=1.5, dash='dash'),\n",
    "        xref='paper'\n",
    "    )\n",
    "\n",
    "    # Add annotations for average values\n",
    "    fig.add_trace(go.Scatter(\n",
    "        x=[avg_stability],\n",
    "        y=[-0.07],\n",
    "        text=[f'Avg Stability: {avg_stability:.2f}'],\n",
    "        mode=\"text\",\n",
    "        showlegend=False,\n",
    "        textfont=dict(size=10.7)\n",
    "    ))\n",
    "\n",
    "    fig.add_trace(go.Scatter(\n",
    "        x=[0.3],\n",
    "        y=[avg_precent-0.04],\n",
    "        text=[f'Avg Impact: {avg_precent:.2f}'],\n",
    "        mode=\"text\",\n",
    "        showlegend=False,\n",
    "        textfont=dict(size=10.7)\n",
    "    ))\n",
    "\n",
    "    clear_output()\n",
    "\n",
    "    display(fig)\n",
    "\n",
    "\n",
    "# Creating sliders for interaction\n",
    "alpha1_slider = widgets.FloatSlider(value=0.5, min=0, max=1, step=0.1, description='αLV:')\n",
    "alpha2_slider = widgets.FloatSlider(value=0.5, min=0, max=1, step=0.1, description='αAM:')\n",
    "alpha3_slider = widgets.FloatSlider(value=0.5, min=0, max=1, step=0.1, description='αNPK:')\n",
    "\n",
    "# Creating interactive plot\n",
    "interactive_plot = interact(update_plot, alpha1=alpha1_slider, alpha2=alpha2_slider, alpha3=alpha3_slider)\n",
    "\n",
    "# Create update button to trigger plot update\n",
    "update_button = widgets.Button(description=\"Update Plot\")\n",
    "update_button.on_click(lambda _: update_plot(alpha1_slider.value, alpha2_slider.value, alpha3_slider.value))\n",
    "\n",
    "# Display the button and sliders\n",
    "widgets.HBox([update_button, alpha1_slider, alpha2_slider, alpha3_slider])"
   ]
  },
  {
   "cell_type": "code",
   "execution_count": 216,
   "metadata": {},
   "outputs": [
    {
     "data": {
      "text/html": [
       "<div>\n",
       "<style scoped>\n",
       "    .dataframe tbody tr th:only-of-type {\n",
       "        vertical-align: middle;\n",
       "    }\n",
       "\n",
       "    .dataframe tbody tr th {\n",
       "        vertical-align: top;\n",
       "    }\n",
       "\n",
       "    .dataframe thead th {\n",
       "        text-align: right;\n",
       "    }\n",
       "</style>\n",
       "<table border=\"1\" class=\"dataframe\">\n",
       "  <thead>\n",
       "    <tr style=\"text-align: right;\">\n",
       "      <th></th>\n",
       "      <th>Sensitivity_LivestockCensus_2012_Cattle</th>\n",
       "      <th>Sensitivity_AreaUnderCereals_Maize</th>\n",
       "      <th>Sensitivity_TotalNPK</th>\n",
       "      <th>LivestockCensus_2012_Cattle</th>\n",
       "      <th>AreaUnderCereals_Maize</th>\n",
       "      <th>TotalNPK</th>\n",
       "      <th>Beta_0</th>\n",
       "      <th>Beta_1</th>\n",
       "      <th>Beta_2</th>\n",
       "      <th>Beta_3</th>\n",
       "      <th>New_F1</th>\n",
       "      <th>New_F2</th>\n",
       "      <th>New_F3</th>\n",
       "      <th>District</th>\n",
       "      <th>New_Production</th>\n",
       "      <th>Stress_Values</th>\n",
       "      <th>Stability_Values</th>\n",
       "    </tr>\n",
       "  </thead>\n",
       "  <tbody>\n",
       "    <tr>\n",
       "      <th>0</th>\n",
       "      <td>0.0</td>\n",
       "      <td>0.0</td>\n",
       "      <td>0.0</td>\n",
       "      <td>2567.461578</td>\n",
       "      <td>1129.0</td>\n",
       "      <td>438.180210</td>\n",
       "      <td>-2150.338663</td>\n",
       "      <td>0.850591</td>\n",
       "      <td>1.624155</td>\n",
       "      <td>3.821492</td>\n",
       "      <td>2567.461578</td>\n",
       "      <td>1129.000000</td>\n",
       "      <td>438.180210</td>\n",
       "      <td>BENGALURU</td>\n",
       "      <td>3541.693676</td>\n",
       "      <td>0.052851</td>\n",
       "      <td>0.947149</td>\n",
       "    </tr>\n",
       "    <tr>\n",
       "      <th>1</th>\n",
       "      <td>0.0</td>\n",
       "      <td>0.0</td>\n",
       "      <td>0.0</td>\n",
       "      <td>25037.139271</td>\n",
       "      <td>14867.0</td>\n",
       "      <td>3036.080250</td>\n",
       "      <td>-2150.338663</td>\n",
       "      <td>0.850591</td>\n",
       "      <td>1.624155</td>\n",
       "      <td>3.821492</td>\n",
       "      <td>25037.139271</td>\n",
       "      <td>14867.000000</td>\n",
       "      <td>3036.080250</td>\n",
       "      <td>BENGALURU(R)</td>\n",
       "      <td>54894.691036</td>\n",
       "      <td>0.002010</td>\n",
       "      <td>0.997990</td>\n",
       "    </tr>\n",
       "    <tr>\n",
       "      <th>2</th>\n",
       "      <td>0.0</td>\n",
       "      <td>0.0</td>\n",
       "      <td>0.0</td>\n",
       "      <td>7729.614277</td>\n",
       "      <td>1987.0</td>\n",
       "      <td>222.225258</td>\n",
       "      <td>-2150.338663</td>\n",
       "      <td>0.850591</td>\n",
       "      <td>1.624155</td>\n",
       "      <td>3.821492</td>\n",
       "      <td>7729.614277</td>\n",
       "      <td>1987.000000</td>\n",
       "      <td>222.225258</td>\n",
       "      <td>RAMANAGARA</td>\n",
       "      <td>8500.827870</td>\n",
       "      <td>0.286764</td>\n",
       "      <td>0.713236</td>\n",
       "    </tr>\n",
       "    <tr>\n",
       "      <th>3</th>\n",
       "      <td>0.0</td>\n",
       "      <td>0.0</td>\n",
       "      <td>0.0</td>\n",
       "      <td>83821.593093</td>\n",
       "      <td>92194.0</td>\n",
       "      <td>10902.406571</td>\n",
       "      <td>-2150.338663</td>\n",
       "      <td>0.850591</td>\n",
       "      <td>1.624155</td>\n",
       "      <td>3.821492</td>\n",
       "      <td>83821.593093</td>\n",
       "      <td>92194.000000</td>\n",
       "      <td>10902.406571</td>\n",
       "      <td>CHITRADURGA</td>\n",
       "      <td>260548.353015</td>\n",
       "      <td>0.189185</td>\n",
       "      <td>0.810815</td>\n",
       "    </tr>\n",
       "    <tr>\n",
       "      <th>4</th>\n",
       "      <td>0.0</td>\n",
       "      <td>0.0</td>\n",
       "      <td>0.0</td>\n",
       "      <td>85657.632091</td>\n",
       "      <td>173400.0</td>\n",
       "      <td>25702.835480</td>\n",
       "      <td>-2150.338663</td>\n",
       "      <td>0.850591</td>\n",
       "      <td>1.624155</td>\n",
       "      <td>3.821492</td>\n",
       "      <td>85657.632091</td>\n",
       "      <td>173400.000000</td>\n",
       "      <td>25702.835480</td>\n",
       "      <td>DAVANAGERE</td>\n",
       "      <td>450560.937462</td>\n",
       "      <td>0.622194</td>\n",
       "      <td>0.377806</td>\n",
       "    </tr>\n",
       "    <tr>\n",
       "      <th>...</th>\n",
       "      <td>...</td>\n",
       "      <td>...</td>\n",
       "      <td>...</td>\n",
       "      <td>...</td>\n",
       "      <td>...</td>\n",
       "      <td>...</td>\n",
       "      <td>...</td>\n",
       "      <td>...</td>\n",
       "      <td>...</td>\n",
       "      <td>...</td>\n",
       "      <td>...</td>\n",
       "      <td>...</td>\n",
       "      <td>...</td>\n",
       "      <td>...</td>\n",
       "      <td>...</td>\n",
       "      <td>...</td>\n",
       "      <td>...</td>\n",
       "    </tr>\n",
       "    <tr>\n",
       "      <th>39925</th>\n",
       "      <td>1.0</td>\n",
       "      <td>1.0</td>\n",
       "      <td>1.0</td>\n",
       "      <td>6221.617910</td>\n",
       "      <td>2634.0</td>\n",
       "      <td>710.101614</td>\n",
       "      <td>-2150.338663</td>\n",
       "      <td>0.850591</td>\n",
       "      <td>1.624155</td>\n",
       "      <td>3.821492</td>\n",
       "      <td>13025.290097</td>\n",
       "      <td>6197.169585</td>\n",
       "      <td>2224.468370</td>\n",
       "      <td>KALABURAGI</td>\n",
       "      <td>27494.805302</td>\n",
       "      <td>0.015482</td>\n",
       "      <td>0.984518</td>\n",
       "    </tr>\n",
       "    <tr>\n",
       "      <th>39926</th>\n",
       "      <td>1.0</td>\n",
       "      <td>1.0</td>\n",
       "      <td>1.0</td>\n",
       "      <td>1253.317144</td>\n",
       "      <td>961.0</td>\n",
       "      <td>368.617469</td>\n",
       "      <td>-2150.338663</td>\n",
       "      <td>0.850591</td>\n",
       "      <td>1.624155</td>\n",
       "      <td>3.821492</td>\n",
       "      <td>8056.989331</td>\n",
       "      <td>4524.169585</td>\n",
       "      <td>1882.984225</td>\n",
       "      <td>YADGIRI</td>\n",
       "      <td>19246.624252</td>\n",
       "      <td>0.143094</td>\n",
       "      <td>0.856906</td>\n",
       "    </tr>\n",
       "    <tr>\n",
       "      <th>39927</th>\n",
       "      <td>1.0</td>\n",
       "      <td>1.0</td>\n",
       "      <td>1.0</td>\n",
       "      <td>188.537479</td>\n",
       "      <td>2600.0</td>\n",
       "      <td>61.547519</td>\n",
       "      <td>-2150.338663</td>\n",
       "      <td>0.850591</td>\n",
       "      <td>1.624155</td>\n",
       "      <td>3.821492</td>\n",
       "      <td>6992.209667</td>\n",
       "      <td>6163.169585</td>\n",
       "      <td>1575.914275</td>\n",
       "      <td>RAICHUR</td>\n",
       "      <td>19829.457572</td>\n",
       "      <td>0.229959</td>\n",
       "      <td>0.770041</td>\n",
       "    </tr>\n",
       "    <tr>\n",
       "      <th>39928</th>\n",
       "      <td>1.0</td>\n",
       "      <td>1.0</td>\n",
       "      <td>1.0</td>\n",
       "      <td>38936.400172</td>\n",
       "      <td>48210.0</td>\n",
       "      <td>10997.550403</td>\n",
       "      <td>-2150.338663</td>\n",
       "      <td>0.850591</td>\n",
       "      <td>1.624155</td>\n",
       "      <td>3.821492</td>\n",
       "      <td>45740.072360</td>\n",
       "      <td>51773.169585</td>\n",
       "      <td>12511.917159</td>\n",
       "      <td>KOPPAL</td>\n",
       "      <td>168657.595252</td>\n",
       "      <td>0.111567</td>\n",
       "      <td>0.888433</td>\n",
       "    </tr>\n",
       "    <tr>\n",
       "      <th>39929</th>\n",
       "      <td>1.0</td>\n",
       "      <td>1.0</td>\n",
       "      <td>1.0</td>\n",
       "      <td>23446.847903</td>\n",
       "      <td>49869.5</td>\n",
       "      <td>8404.154608</td>\n",
       "      <td>-2150.338663</td>\n",
       "      <td>0.850591</td>\n",
       "      <td>1.624155</td>\n",
       "      <td>3.821492</td>\n",
       "      <td>30250.520091</td>\n",
       "      <td>53432.669585</td>\n",
       "      <td>9918.521363</td>\n",
       "      <td>VIJAYANAGARA</td>\n",
       "      <td>148266.970279</td>\n",
       "      <td>0.080203</td>\n",
       "      <td>0.919797</td>\n",
       "    </tr>\n",
       "  </tbody>\n",
       "</table>\n",
       "<p>39930 rows × 17 columns</p>\n",
       "</div>"
      ],
      "text/plain": [
       "       Sensitivity_LivestockCensus_2012_Cattle  \\\n",
       "0                                          0.0   \n",
       "1                                          0.0   \n",
       "2                                          0.0   \n",
       "3                                          0.0   \n",
       "4                                          0.0   \n",
       "...                                        ...   \n",
       "39925                                      1.0   \n",
       "39926                                      1.0   \n",
       "39927                                      1.0   \n",
       "39928                                      1.0   \n",
       "39929                                      1.0   \n",
       "\n",
       "       Sensitivity_AreaUnderCereals_Maize  Sensitivity_TotalNPK  \\\n",
       "0                                     0.0                   0.0   \n",
       "1                                     0.0                   0.0   \n",
       "2                                     0.0                   0.0   \n",
       "3                                     0.0                   0.0   \n",
       "4                                     0.0                   0.0   \n",
       "...                                   ...                   ...   \n",
       "39925                                 1.0                   1.0   \n",
       "39926                                 1.0                   1.0   \n",
       "39927                                 1.0                   1.0   \n",
       "39928                                 1.0                   1.0   \n",
       "39929                                 1.0                   1.0   \n",
       "\n",
       "       LivestockCensus_2012_Cattle  AreaUnderCereals_Maize      TotalNPK  \\\n",
       "0                      2567.461578                  1129.0    438.180210   \n",
       "1                     25037.139271                 14867.0   3036.080250   \n",
       "2                      7729.614277                  1987.0    222.225258   \n",
       "3                     83821.593093                 92194.0  10902.406571   \n",
       "4                     85657.632091                173400.0  25702.835480   \n",
       "...                            ...                     ...           ...   \n",
       "39925                  6221.617910                  2634.0    710.101614   \n",
       "39926                  1253.317144                   961.0    368.617469   \n",
       "39927                   188.537479                  2600.0     61.547519   \n",
       "39928                 38936.400172                 48210.0  10997.550403   \n",
       "39929                 23446.847903                 49869.5   8404.154608   \n",
       "\n",
       "            Beta_0    Beta_1    Beta_2    Beta_3        New_F1         New_F2  \\\n",
       "0     -2150.338663  0.850591  1.624155  3.821492   2567.461578    1129.000000   \n",
       "1     -2150.338663  0.850591  1.624155  3.821492  25037.139271   14867.000000   \n",
       "2     -2150.338663  0.850591  1.624155  3.821492   7729.614277    1987.000000   \n",
       "3     -2150.338663  0.850591  1.624155  3.821492  83821.593093   92194.000000   \n",
       "4     -2150.338663  0.850591  1.624155  3.821492  85657.632091  173400.000000   \n",
       "...            ...       ...       ...       ...           ...            ...   \n",
       "39925 -2150.338663  0.850591  1.624155  3.821492  13025.290097    6197.169585   \n",
       "39926 -2150.338663  0.850591  1.624155  3.821492   8056.989331    4524.169585   \n",
       "39927 -2150.338663  0.850591  1.624155  3.821492   6992.209667    6163.169585   \n",
       "39928 -2150.338663  0.850591  1.624155  3.821492  45740.072360   51773.169585   \n",
       "39929 -2150.338663  0.850591  1.624155  3.821492  30250.520091   53432.669585   \n",
       "\n",
       "             New_F3      District  New_Production  Stress_Values  \\\n",
       "0        438.180210     BENGALURU     3541.693676       0.052851   \n",
       "1       3036.080250  BENGALURU(R)    54894.691036       0.002010   \n",
       "2        222.225258    RAMANAGARA     8500.827870       0.286764   \n",
       "3      10902.406571   CHITRADURGA   260548.353015       0.189185   \n",
       "4      25702.835480    DAVANAGERE   450560.937462       0.622194   \n",
       "...             ...           ...             ...            ...   \n",
       "39925   2224.468370    KALABURAGI    27494.805302       0.015482   \n",
       "39926   1882.984225       YADGIRI    19246.624252       0.143094   \n",
       "39927   1575.914275       RAICHUR    19829.457572       0.229959   \n",
       "39928  12511.917159        KOPPAL   168657.595252       0.111567   \n",
       "39929   9918.521363  VIJAYANAGARA   148266.970279       0.080203   \n",
       "\n",
       "       Stability_Values  \n",
       "0              0.947149  \n",
       "1              0.997990  \n",
       "2              0.713236  \n",
       "3              0.810815  \n",
       "4              0.377806  \n",
       "...                 ...  \n",
       "39925          0.984518  \n",
       "39926          0.856906  \n",
       "39927          0.770041  \n",
       "39928          0.888433  \n",
       "39929          0.919797  \n",
       "\n",
       "[39930 rows x 17 columns]"
      ]
     },
     "execution_count": 216,
     "metadata": {},
     "output_type": "execute_result"
    }
   ],
   "source": [
    "result_df"
   ]
  },
  {
   "cell_type": "code",
   "execution_count": 217,
   "metadata": {},
   "outputs": [],
   "source": [
    "# result_df.to_csv('Maize_Prescriptive_5000.csv',index=False)"
   ]
  },
  {
   "cell_type": "code",
   "execution_count": 218,
   "metadata": {},
   "outputs": [
    {
     "data": {
      "text/plain": [
       "Index(['District', 'Sensitivity_LivestockCensus_2012_Cattle',\n",
       "       'Sensitivity_AreaUnderCereals_Maize', 'Sensitivity_TotalNPK', 'New_F1',\n",
       "       'New_F2', 'New_F3'],\n",
       "      dtype='object')"
      ]
     },
     "execution_count": 218,
     "metadata": {},
     "output_type": "execute_result"
    }
   ],
   "source": [
    "# viz_df2 = result_df[['District','Sensitivity_SowingSeedsDistributed_Maize','Sensitivity_LivestockCensus_2012_Cattle','Sensitivity_AreaUnderCereals_Maize',\n",
    "#                     'Sensitivity_TotalNPK',\t'Sensitivity_NetAreaIrrigatedUnderDifferentSources_TubeWells_NetIrrigatedArea','New_F1','New_F2','New_F3','New_F4','New_F5']].copy()\n",
    "\n",
    "viz_df2 = result_df[['District','Sensitivity_LivestockCensus_2012_Cattle','Sensitivity_AreaUnderCereals_Maize',\n",
    "                    'Sensitivity_TotalNPK',\t'New_F1','New_F2','New_F3']].copy()\n",
    "\n",
    "\n",
    "viz_df2.columns"
   ]
  },
  {
   "cell_type": "code",
   "execution_count": 219,
   "metadata": {},
   "outputs": [
    {
     "data": {
      "application/vnd.plotly.v1+json": {
       "config": {
        "plotlyServerURL": "https://plot.ly"
       },
       "data": [
        {
         "marker": {
          "color": "#BAC1CC"
         },
         "name": "Original Values ",
         "orientation": "h",
         "text": [
          44516,
          40408,
          8398
         ],
         "type": "bar",
         "x": [
          44516,
          40408,
          8398
         ],
         "y": [
          "LiveStock (Count)",
          "Area Sown Under Maize (Ha)",
          "NPK Distributed (Tonnes)"
         ]
        },
        {
         "marker": {
          "color": "#00CC96"
         },
         "name": "Prescribed Values",
         "orientation": "h",
         "text": [
          44516,
          40408,
          8398
         ],
         "type": "bar",
         "x": [
          44516,
          40408,
          8398
         ],
         "y": [
          "LiveStock (Count)",
          "Area Sown Under Maize (Ha)",
          "NPK Distributed (Tonnes)"
         ]
        }
       ],
       "layout": {
        "annotations": [
         {
          "font": {
           "size": 13
          },
          "showarrow": false,
          "text": " α<sub>LV</sub>: 0.00, α<sub>AM</sub>: 0.00, α<sub>NPK</sub>: 0.00",
          "x": 0.5,
          "xref": "paper",
          "y": -0.25,
          "yref": "paper"
         }
        ],
        "barmode": "group",
        "template": {
         "data": {
          "bar": [
           {
            "error_x": {
             "color": "#2a3f5f"
            },
            "error_y": {
             "color": "#2a3f5f"
            },
            "marker": {
             "line": {
              "color": "#E5ECF6",
              "width": 0.5
             },
             "pattern": {
              "fillmode": "overlay",
              "size": 10,
              "solidity": 0.2
             }
            },
            "type": "bar"
           }
          ],
          "barpolar": [
           {
            "marker": {
             "line": {
              "color": "#E5ECF6",
              "width": 0.5
             },
             "pattern": {
              "fillmode": "overlay",
              "size": 10,
              "solidity": 0.2
             }
            },
            "type": "barpolar"
           }
          ],
          "carpet": [
           {
            "aaxis": {
             "endlinecolor": "#2a3f5f",
             "gridcolor": "white",
             "linecolor": "white",
             "minorgridcolor": "white",
             "startlinecolor": "#2a3f5f"
            },
            "baxis": {
             "endlinecolor": "#2a3f5f",
             "gridcolor": "white",
             "linecolor": "white",
             "minorgridcolor": "white",
             "startlinecolor": "#2a3f5f"
            },
            "type": "carpet"
           }
          ],
          "choropleth": [
           {
            "colorbar": {
             "outlinewidth": 0,
             "ticks": ""
            },
            "type": "choropleth"
           }
          ],
          "contour": [
           {
            "colorbar": {
             "outlinewidth": 0,
             "ticks": ""
            },
            "colorscale": [
             [
              0,
              "#0d0887"
             ],
             [
              0.1111111111111111,
              "#46039f"
             ],
             [
              0.2222222222222222,
              "#7201a8"
             ],
             [
              0.3333333333333333,
              "#9c179e"
             ],
             [
              0.4444444444444444,
              "#bd3786"
             ],
             [
              0.5555555555555556,
              "#d8576b"
             ],
             [
              0.6666666666666666,
              "#ed7953"
             ],
             [
              0.7777777777777778,
              "#fb9f3a"
             ],
             [
              0.8888888888888888,
              "#fdca26"
             ],
             [
              1,
              "#f0f921"
             ]
            ],
            "type": "contour"
           }
          ],
          "contourcarpet": [
           {
            "colorbar": {
             "outlinewidth": 0,
             "ticks": ""
            },
            "type": "contourcarpet"
           }
          ],
          "heatmap": [
           {
            "colorbar": {
             "outlinewidth": 0,
             "ticks": ""
            },
            "colorscale": [
             [
              0,
              "#0d0887"
             ],
             [
              0.1111111111111111,
              "#46039f"
             ],
             [
              0.2222222222222222,
              "#7201a8"
             ],
             [
              0.3333333333333333,
              "#9c179e"
             ],
             [
              0.4444444444444444,
              "#bd3786"
             ],
             [
              0.5555555555555556,
              "#d8576b"
             ],
             [
              0.6666666666666666,
              "#ed7953"
             ],
             [
              0.7777777777777778,
              "#fb9f3a"
             ],
             [
              0.8888888888888888,
              "#fdca26"
             ],
             [
              1,
              "#f0f921"
             ]
            ],
            "type": "heatmap"
           }
          ],
          "heatmapgl": [
           {
            "colorbar": {
             "outlinewidth": 0,
             "ticks": ""
            },
            "colorscale": [
             [
              0,
              "#0d0887"
             ],
             [
              0.1111111111111111,
              "#46039f"
             ],
             [
              0.2222222222222222,
              "#7201a8"
             ],
             [
              0.3333333333333333,
              "#9c179e"
             ],
             [
              0.4444444444444444,
              "#bd3786"
             ],
             [
              0.5555555555555556,
              "#d8576b"
             ],
             [
              0.6666666666666666,
              "#ed7953"
             ],
             [
              0.7777777777777778,
              "#fb9f3a"
             ],
             [
              0.8888888888888888,
              "#fdca26"
             ],
             [
              1,
              "#f0f921"
             ]
            ],
            "type": "heatmapgl"
           }
          ],
          "histogram": [
           {
            "marker": {
             "pattern": {
              "fillmode": "overlay",
              "size": 10,
              "solidity": 0.2
             }
            },
            "type": "histogram"
           }
          ],
          "histogram2d": [
           {
            "colorbar": {
             "outlinewidth": 0,
             "ticks": ""
            },
            "colorscale": [
             [
              0,
              "#0d0887"
             ],
             [
              0.1111111111111111,
              "#46039f"
             ],
             [
              0.2222222222222222,
              "#7201a8"
             ],
             [
              0.3333333333333333,
              "#9c179e"
             ],
             [
              0.4444444444444444,
              "#bd3786"
             ],
             [
              0.5555555555555556,
              "#d8576b"
             ],
             [
              0.6666666666666666,
              "#ed7953"
             ],
             [
              0.7777777777777778,
              "#fb9f3a"
             ],
             [
              0.8888888888888888,
              "#fdca26"
             ],
             [
              1,
              "#f0f921"
             ]
            ],
            "type": "histogram2d"
           }
          ],
          "histogram2dcontour": [
           {
            "colorbar": {
             "outlinewidth": 0,
             "ticks": ""
            },
            "colorscale": [
             [
              0,
              "#0d0887"
             ],
             [
              0.1111111111111111,
              "#46039f"
             ],
             [
              0.2222222222222222,
              "#7201a8"
             ],
             [
              0.3333333333333333,
              "#9c179e"
             ],
             [
              0.4444444444444444,
              "#bd3786"
             ],
             [
              0.5555555555555556,
              "#d8576b"
             ],
             [
              0.6666666666666666,
              "#ed7953"
             ],
             [
              0.7777777777777778,
              "#fb9f3a"
             ],
             [
              0.8888888888888888,
              "#fdca26"
             ],
             [
              1,
              "#f0f921"
             ]
            ],
            "type": "histogram2dcontour"
           }
          ],
          "mesh3d": [
           {
            "colorbar": {
             "outlinewidth": 0,
             "ticks": ""
            },
            "type": "mesh3d"
           }
          ],
          "parcoords": [
           {
            "line": {
             "colorbar": {
              "outlinewidth": 0,
              "ticks": ""
             }
            },
            "type": "parcoords"
           }
          ],
          "pie": [
           {
            "automargin": true,
            "type": "pie"
           }
          ],
          "scatter": [
           {
            "fillpattern": {
             "fillmode": "overlay",
             "size": 10,
             "solidity": 0.2
            },
            "type": "scatter"
           }
          ],
          "scatter3d": [
           {
            "line": {
             "colorbar": {
              "outlinewidth": 0,
              "ticks": ""
             }
            },
            "marker": {
             "colorbar": {
              "outlinewidth": 0,
              "ticks": ""
             }
            },
            "type": "scatter3d"
           }
          ],
          "scattercarpet": [
           {
            "marker": {
             "colorbar": {
              "outlinewidth": 0,
              "ticks": ""
             }
            },
            "type": "scattercarpet"
           }
          ],
          "scattergeo": [
           {
            "marker": {
             "colorbar": {
              "outlinewidth": 0,
              "ticks": ""
             }
            },
            "type": "scattergeo"
           }
          ],
          "scattergl": [
           {
            "marker": {
             "colorbar": {
              "outlinewidth": 0,
              "ticks": ""
             }
            },
            "type": "scattergl"
           }
          ],
          "scattermapbox": [
           {
            "marker": {
             "colorbar": {
              "outlinewidth": 0,
              "ticks": ""
             }
            },
            "type": "scattermapbox"
           }
          ],
          "scatterpolar": [
           {
            "marker": {
             "colorbar": {
              "outlinewidth": 0,
              "ticks": ""
             }
            },
            "type": "scatterpolar"
           }
          ],
          "scatterpolargl": [
           {
            "marker": {
             "colorbar": {
              "outlinewidth": 0,
              "ticks": ""
             }
            },
            "type": "scatterpolargl"
           }
          ],
          "scatterternary": [
           {
            "marker": {
             "colorbar": {
              "outlinewidth": 0,
              "ticks": ""
             }
            },
            "type": "scatterternary"
           }
          ],
          "surface": [
           {
            "colorbar": {
             "outlinewidth": 0,
             "ticks": ""
            },
            "colorscale": [
             [
              0,
              "#0d0887"
             ],
             [
              0.1111111111111111,
              "#46039f"
             ],
             [
              0.2222222222222222,
              "#7201a8"
             ],
             [
              0.3333333333333333,
              "#9c179e"
             ],
             [
              0.4444444444444444,
              "#bd3786"
             ],
             [
              0.5555555555555556,
              "#d8576b"
             ],
             [
              0.6666666666666666,
              "#ed7953"
             ],
             [
              0.7777777777777778,
              "#fb9f3a"
             ],
             [
              0.8888888888888888,
              "#fdca26"
             ],
             [
              1,
              "#f0f921"
             ]
            ],
            "type": "surface"
           }
          ],
          "table": [
           {
            "cells": {
             "fill": {
              "color": "#EBF0F8"
             },
             "line": {
              "color": "white"
             }
            },
            "header": {
             "fill": {
              "color": "#C8D4E3"
             },
             "line": {
              "color": "white"
             }
            },
            "type": "table"
           }
          ]
         },
         "layout": {
          "annotationdefaults": {
           "arrowcolor": "#2a3f5f",
           "arrowhead": 0,
           "arrowwidth": 1
          },
          "autotypenumbers": "strict",
          "coloraxis": {
           "colorbar": {
            "outlinewidth": 0,
            "ticks": ""
           }
          },
          "colorscale": {
           "diverging": [
            [
             0,
             "#8e0152"
            ],
            [
             0.1,
             "#c51b7d"
            ],
            [
             0.2,
             "#de77ae"
            ],
            [
             0.3,
             "#f1b6da"
            ],
            [
             0.4,
             "#fde0ef"
            ],
            [
             0.5,
             "#f7f7f7"
            ],
            [
             0.6,
             "#e6f5d0"
            ],
            [
             0.7,
             "#b8e186"
            ],
            [
             0.8,
             "#7fbc41"
            ],
            [
             0.9,
             "#4d9221"
            ],
            [
             1,
             "#276419"
            ]
           ],
           "sequential": [
            [
             0,
             "#0d0887"
            ],
            [
             0.1111111111111111,
             "#46039f"
            ],
            [
             0.2222222222222222,
             "#7201a8"
            ],
            [
             0.3333333333333333,
             "#9c179e"
            ],
            [
             0.4444444444444444,
             "#bd3786"
            ],
            [
             0.5555555555555556,
             "#d8576b"
            ],
            [
             0.6666666666666666,
             "#ed7953"
            ],
            [
             0.7777777777777778,
             "#fb9f3a"
            ],
            [
             0.8888888888888888,
             "#fdca26"
            ],
            [
             1,
             "#f0f921"
            ]
           ],
           "sequentialminus": [
            [
             0,
             "#0d0887"
            ],
            [
             0.1111111111111111,
             "#46039f"
            ],
            [
             0.2222222222222222,
             "#7201a8"
            ],
            [
             0.3333333333333333,
             "#9c179e"
            ],
            [
             0.4444444444444444,
             "#bd3786"
            ],
            [
             0.5555555555555556,
             "#d8576b"
            ],
            [
             0.6666666666666666,
             "#ed7953"
            ],
            [
             0.7777777777777778,
             "#fb9f3a"
            ],
            [
             0.8888888888888888,
             "#fdca26"
            ],
            [
             1,
             "#f0f921"
            ]
           ]
          },
          "colorway": [
           "#636efa",
           "#EF553B",
           "#00cc96",
           "#ab63fa",
           "#FFA15A",
           "#19d3f3",
           "#FF6692",
           "#B6E880",
           "#FF97FF",
           "#FECB52"
          ],
          "font": {
           "color": "#2a3f5f"
          },
          "geo": {
           "bgcolor": "white",
           "lakecolor": "white",
           "landcolor": "#E5ECF6",
           "showlakes": true,
           "showland": true,
           "subunitcolor": "white"
          },
          "hoverlabel": {
           "align": "left"
          },
          "hovermode": "closest",
          "mapbox": {
           "style": "light"
          },
          "paper_bgcolor": "white",
          "plot_bgcolor": "#E5ECF6",
          "polar": {
           "angularaxis": {
            "gridcolor": "white",
            "linecolor": "white",
            "ticks": ""
           },
           "bgcolor": "#E5ECF6",
           "radialaxis": {
            "gridcolor": "white",
            "linecolor": "white",
            "ticks": ""
           }
          },
          "scene": {
           "xaxis": {
            "backgroundcolor": "#E5ECF6",
            "gridcolor": "white",
            "gridwidth": 2,
            "linecolor": "white",
            "showbackground": true,
            "ticks": "",
            "zerolinecolor": "white"
           },
           "yaxis": {
            "backgroundcolor": "#E5ECF6",
            "gridcolor": "white",
            "gridwidth": 2,
            "linecolor": "white",
            "showbackground": true,
            "ticks": "",
            "zerolinecolor": "white"
           },
           "zaxis": {
            "backgroundcolor": "#E5ECF6",
            "gridcolor": "white",
            "gridwidth": 2,
            "linecolor": "white",
            "showbackground": true,
            "ticks": "",
            "zerolinecolor": "white"
           }
          },
          "shapedefaults": {
           "line": {
            "color": "#2a3f5f"
           }
          },
          "ternary": {
           "aaxis": {
            "gridcolor": "white",
            "linecolor": "white",
            "ticks": ""
           },
           "baxis": {
            "gridcolor": "white",
            "linecolor": "white",
            "ticks": ""
           },
           "bgcolor": "#E5ECF6",
           "caxis": {
            "gridcolor": "white",
            "linecolor": "white",
            "ticks": ""
           }
          },
          "title": {
           "x": 0.05
          },
          "xaxis": {
           "automargin": true,
           "gridcolor": "white",
           "linecolor": "white",
           "ticks": "",
           "title": {
            "standoff": 15
           },
           "zerolinecolor": "white",
           "zerolinewidth": 2
          },
          "yaxis": {
           "automargin": true,
           "gridcolor": "white",
           "linecolor": "white",
           "ticks": "",
           "title": {
            "standoff": 15
           },
           "zerolinecolor": "white",
           "zerolinewidth": 2
          }
         }
        },
        "title": {
         "text": "Original vs Prescribed Values"
        },
        "xaxis": {
         "title": {
          "text": "Values"
         }
        },
        "yaxis": {
         "title": {
          "text": "Factors"
         }
        }
       }
      }
     },
     "metadata": {},
     "output_type": "display_data"
    },
    {
     "data": {
      "application/vnd.jupyter.widget-view+json": {
       "model_id": "3ae5bccf4de44714b4bf1214478087bb",
       "version_major": 2,
       "version_minor": 0
      },
      "text/plain": [
       "interactive(children=(FloatSlider(value=0.0, description='αLV:', max=1.0), FloatSlider(value=0.0, description=…"
      ]
     },
     "metadata": {},
     "output_type": "display_data"
    },
    {
     "data": {
      "application/vnd.jupyter.widget-view+json": {
       "model_id": "aa68927f8ad745628d65cec3900cb0ba",
       "version_major": 2,
       "version_minor": 0
      },
      "text/plain": [
       "VBox(children=(FloatSlider(value=0.0, description='αLV:', max=1.0), FloatSlider(value=0.0, description='αAM:',…"
      ]
     },
     "execution_count": 219,
     "metadata": {},
     "output_type": "execute_result"
    }
   ],
   "source": [
    "import pandas as pd\n",
    "import plotly.graph_objects as go\n",
    "import ipywidgets as widgets\n",
    "from ipywidgets import interact\n",
    "from IPython.display import clear_output\n",
    "\n",
    "# Function to update the bar plot based on sensitivity sliders\n",
    "def update_bar_plot(alpha1, alpha2, alpha3):\n",
    "    tolerance = 1e-5\n",
    "    \n",
    "    # Filter the dataframe based on slider sensitivity values\n",
    "    filtered_df = viz_df2[\n",
    "        # (viz_df2['Sensitivity_SowingSeedsDistributed_Maize'].between(alpha1 - tolerance, alpha1 + tolerance)) &\n",
    "        (viz_df2['Sensitivity_LivestockCensus_2012_Cattle'].between(alpha1 - tolerance, alpha1 + tolerance)) &\n",
    "        (viz_df2['Sensitivity_AreaUnderCereals_Maize'].between(alpha2 - tolerance, alpha2 + tolerance)) & \n",
    "        (viz_df2['Sensitivity_TotalNPK'].between(alpha3 - tolerance, alpha3 + tolerance)) \n",
    "        # (viz_df2['Sensitivity_NetAreaIrrigatedUnderDifferentSources_TubeWells_NetIrrigatedArea'].between(alpha5 - tolerance, alpha5 + tolerance))\n",
    "    ]\n",
    "    \n",
    "    # Define the factors and their display names\n",
    "    factors = ['New_F1', 'New_F2', 'New_F3']\n",
    "    # display_names = ['Seeds_Maize', 'Cattle', 'Area_Maize', 'TotalNPK', 'TubeWells']\n",
    "    display_names = ['LiveStock (Count)', 'Area Sown Under Maize (Ha)', 'NPK Distributed (Tonnes)']\n",
    "\n",
    "    # Calculate mean values for the selected sensitivity group\n",
    "    user_values = filtered_df[factors].mean().round()\n",
    "    \n",
    "    # Get the mean values for the original case where all sensitivities are zero\n",
    "    # original_values = viz_df2[viz_df2[['Sensitivity_SowingSeedsDistributed_Maize_320', 'Sensitivity_LivestockCensus_2012_Cattle_354',\n",
    "    #                                    'Sensitivity_AreaUnderCereals_Maize_193', 'Sensitivity_TotalNPK_315',\n",
    "    #                                    'Sensitivity_NetAreaIrrigatedUnderDifferentSources_TubeWells_NetIrrigatedArea_182']].eq(0).all(axis=1)][factors].mean()\n",
    "\n",
    "    original_values = viz_df2[viz_df2[['Sensitivity_LivestockCensus_2012_Cattle',\n",
    "                                       'Sensitivity_AreaUnderCereals_Maize', 'Sensitivity_TotalNPK']].eq(0).all(axis=1)][factors].mean().round()\n",
    "\n",
    "\n",
    "    # Create the bar plot with interchanged axes\n",
    "    fig = go.Figure(data=[\n",
    "        go.Bar(name='Original Values ', y=display_names, x=original_values, marker_color='#BAC1CC', orientation='h',text=original_values),\n",
    "        go.Bar(name='Prescribed Values', y=display_names, x=user_values, marker_color='#00CC96', orientation='h',text=user_values)\n",
    "    ])\n",
    "\n",
    "    # Customize the layout\n",
    "    fig.update_layout(\n",
    "        title=\"Original vs Prescribed Values\",\n",
    "        yaxis_title=\"Factors\",\n",
    "        xaxis_title=\"Values\",\n",
    "        barmode='group'\n",
    "    )\n",
    "    \n",
    "    fig.update_layout(\n",
    "        annotations=[\n",
    "            dict(\n",
    "                x=0.5,\n",
    "                y=-0.25,\n",
    "                showarrow=False,\n",
    "                text=f' α<sub>LV</sub>: {alpha1:.2f}, α<sub>AM</sub>: {alpha2:.2f}, α<sub>NPK</sub>: {alpha3:.2f}',\n",
    "                xref=\"paper\",\n",
    "                yref=\"paper\",\n",
    "                font=dict(size=13)\n",
    "            )\n",
    "        ],\n",
    "    )\n",
    "\n",
    "    # Clear previous output and display updated plot\n",
    "    clear_output()\n",
    "    display(fig)\n",
    "\n",
    "# Creating sliders for interaction\n",
    "# alpha1_slider = widgets.FloatSlider(value=0, min=0, max=1, step=0.1, description='αMS:')\n",
    "alpha1_slider = widgets.FloatSlider(value=0, min=0, max=1, step=0.1, description='αLV:')\n",
    "alpha2_slider = widgets.FloatSlider(value=0, min=0, max=1, step=0.1, description='αAM:')\n",
    "alpha3_slider = widgets.FloatSlider(value=0, min=0, max=1, step=0.1, description='αNPK:')\n",
    "# alpha5_slider = widgets.FloatSlider(value=0, min=0, max=1, step=0.1, description='αTBW:')\n",
    "\n",
    "# Creating interactive plot\n",
    "interactive_plot = interact(update_bar_plot, \n",
    "                            alpha1=alpha1_slider, \n",
    "                            alpha2=alpha2_slider, \n",
    "                            alpha3=alpha3_slider)\n",
    "\n",
    "widgets.VBox([alpha1_slider, alpha2_slider, alpha3_slider])"
   ]
  },
  {
   "cell_type": "code",
   "execution_count": 220,
   "metadata": {},
   "outputs": [
    {
     "data": {
      "text/html": [
       "<div>\n",
       "<style scoped>\n",
       "    .dataframe tbody tr th:only-of-type {\n",
       "        vertical-align: middle;\n",
       "    }\n",
       "\n",
       "    .dataframe tbody tr th {\n",
       "        vertical-align: top;\n",
       "    }\n",
       "\n",
       "    .dataframe thead th {\n",
       "        text-align: right;\n",
       "    }\n",
       "</style>\n",
       "<table border=\"1\" class=\"dataframe\">\n",
       "  <thead>\n",
       "    <tr style=\"text-align: right;\">\n",
       "      <th></th>\n",
       "      <th>Sensitivity_LivestockCensus_2012_Cattle</th>\n",
       "      <th>Sensitivity_AreaUnderCereals_Maize</th>\n",
       "      <th>Sensitivity_TotalNPK</th>\n",
       "      <th>LivestockCensus_2012_Cattle</th>\n",
       "      <th>AreaUnderCereals_Maize</th>\n",
       "      <th>TotalNPK</th>\n",
       "      <th>Beta_0</th>\n",
       "      <th>Beta_1</th>\n",
       "      <th>Beta_2</th>\n",
       "      <th>Beta_3</th>\n",
       "      <th>New_F1</th>\n",
       "      <th>New_F2</th>\n",
       "      <th>New_F3</th>\n",
       "      <th>District</th>\n",
       "      <th>New_Production</th>\n",
       "      <th>Stress_Values</th>\n",
       "      <th>Stability_Values</th>\n",
       "    </tr>\n",
       "  </thead>\n",
       "  <tbody>\n",
       "    <tr>\n",
       "      <th>300</th>\n",
       "      <td>0.0</td>\n",
       "      <td>0.0</td>\n",
       "      <td>1.0</td>\n",
       "      <td>2567.461578</td>\n",
       "      <td>1129.0</td>\n",
       "      <td>438.180210</td>\n",
       "      <td>-2150.338663</td>\n",
       "      <td>0.850591</td>\n",
       "      <td>1.624155</td>\n",
       "      <td>3.821492</td>\n",
       "      <td>2567.461578</td>\n",
       "      <td>1129.0</td>\n",
       "      <td>1952.546965</td>\n",
       "      <td>BENGALURU</td>\n",
       "      <td>9328.834061</td>\n",
       "      <td>0.052851</td>\n",
       "      <td>0.947149</td>\n",
       "    </tr>\n",
       "    <tr>\n",
       "      <th>301</th>\n",
       "      <td>0.0</td>\n",
       "      <td>0.0</td>\n",
       "      <td>1.0</td>\n",
       "      <td>25037.139271</td>\n",
       "      <td>14867.0</td>\n",
       "      <td>3036.080250</td>\n",
       "      <td>-2150.338663</td>\n",
       "      <td>0.850591</td>\n",
       "      <td>1.624155</td>\n",
       "      <td>3.821492</td>\n",
       "      <td>25037.139271</td>\n",
       "      <td>14867.0</td>\n",
       "      <td>4550.447005</td>\n",
       "      <td>BENGALURU(R)</td>\n",
       "      <td>60681.831421</td>\n",
       "      <td>0.002010</td>\n",
       "      <td>0.997990</td>\n",
       "    </tr>\n",
       "    <tr>\n",
       "      <th>302</th>\n",
       "      <td>0.0</td>\n",
       "      <td>0.0</td>\n",
       "      <td>1.0</td>\n",
       "      <td>7729.614277</td>\n",
       "      <td>1987.0</td>\n",
       "      <td>222.225258</td>\n",
       "      <td>-2150.338663</td>\n",
       "      <td>0.850591</td>\n",
       "      <td>1.624155</td>\n",
       "      <td>3.821492</td>\n",
       "      <td>7729.614277</td>\n",
       "      <td>1987.0</td>\n",
       "      <td>1736.592013</td>\n",
       "      <td>RAMANAGARA</td>\n",
       "      <td>14287.968255</td>\n",
       "      <td>0.286764</td>\n",
       "      <td>0.713236</td>\n",
       "    </tr>\n",
       "    <tr>\n",
       "      <th>303</th>\n",
       "      <td>0.0</td>\n",
       "      <td>0.0</td>\n",
       "      <td>1.0</td>\n",
       "      <td>83821.593093</td>\n",
       "      <td>92194.0</td>\n",
       "      <td>10902.406571</td>\n",
       "      <td>-2150.338663</td>\n",
       "      <td>0.850591</td>\n",
       "      <td>1.624155</td>\n",
       "      <td>3.821492</td>\n",
       "      <td>83821.593093</td>\n",
       "      <td>92194.0</td>\n",
       "      <td>12416.773327</td>\n",
       "      <td>CHITRADURGA</td>\n",
       "      <td>266335.493399</td>\n",
       "      <td>0.189185</td>\n",
       "      <td>0.810815</td>\n",
       "    </tr>\n",
       "    <tr>\n",
       "      <th>304</th>\n",
       "      <td>0.0</td>\n",
       "      <td>0.0</td>\n",
       "      <td>1.0</td>\n",
       "      <td>85657.632091</td>\n",
       "      <td>173400.0</td>\n",
       "      <td>25702.835480</td>\n",
       "      <td>-2150.338663</td>\n",
       "      <td>0.850591</td>\n",
       "      <td>1.624155</td>\n",
       "      <td>3.821492</td>\n",
       "      <td>85657.632091</td>\n",
       "      <td>173400.0</td>\n",
       "      <td>27217.202235</td>\n",
       "      <td>DAVANAGERE</td>\n",
       "      <td>456348.077846</td>\n",
       "      <td>0.622194</td>\n",
       "      <td>0.377806</td>\n",
       "    </tr>\n",
       "    <tr>\n",
       "      <th>305</th>\n",
       "      <td>0.0</td>\n",
       "      <td>0.0</td>\n",
       "      <td>1.0</td>\n",
       "      <td>2278.829821</td>\n",
       "      <td>640.0</td>\n",
       "      <td>220.782906</td>\n",
       "      <td>-2150.338663</td>\n",
       "      <td>0.850591</td>\n",
       "      <td>1.624155</td>\n",
       "      <td>3.821492</td>\n",
       "      <td>2278.829821</td>\n",
       "      <td>640.0</td>\n",
       "      <td>1735.149662</td>\n",
       "      <td>KOLAR</td>\n",
       "      <td>7458.332631</td>\n",
       "      <td>0.223119</td>\n",
       "      <td>0.776881</td>\n",
       "    </tr>\n",
       "    <tr>\n",
       "      <th>306</th>\n",
       "      <td>0.0</td>\n",
       "      <td>0.0</td>\n",
       "      <td>1.0</td>\n",
       "      <td>71206.945309</td>\n",
       "      <td>59377.0</td>\n",
       "      <td>8196.896749</td>\n",
       "      <td>-2150.338663</td>\n",
       "      <td>0.850591</td>\n",
       "      <td>1.624155</td>\n",
       "      <td>3.821492</td>\n",
       "      <td>71206.945309</td>\n",
       "      <td>59377.0</td>\n",
       "      <td>9711.263504</td>\n",
       "      <td>CHIKKABALLAPURA</td>\n",
       "      <td>191966.606122</td>\n",
       "      <td>0.264064</td>\n",
       "      <td>0.735936</td>\n",
       "    </tr>\n",
       "    <tr>\n",
       "      <th>307</th>\n",
       "      <td>0.0</td>\n",
       "      <td>0.0</td>\n",
       "      <td>1.0</td>\n",
       "      <td>104722.000363</td>\n",
       "      <td>43827.0</td>\n",
       "      <td>10428.246256</td>\n",
       "      <td>-2150.338663</td>\n",
       "      <td>0.850591</td>\n",
       "      <td>1.624155</td>\n",
       "      <td>3.821492</td>\n",
       "      <td>104722.000363</td>\n",
       "      <td>43827.0</td>\n",
       "      <td>11942.613011</td>\n",
       "      <td>SHIVAMOGGA</td>\n",
       "      <td>203745.671693</td>\n",
       "      <td>0.017030</td>\n",
       "      <td>0.982970</td>\n",
       "    </tr>\n",
       "    <tr>\n",
       "      <th>308</th>\n",
       "      <td>0.0</td>\n",
       "      <td>0.0</td>\n",
       "      <td>1.0</td>\n",
       "      <td>37944.093756</td>\n",
       "      <td>24207.0</td>\n",
       "      <td>2746.313635</td>\n",
       "      <td>-2150.338663</td>\n",
       "      <td>0.850591</td>\n",
       "      <td>1.624155</td>\n",
       "      <td>3.821492</td>\n",
       "      <td>37944.093756</td>\n",
       "      <td>24207.0</td>\n",
       "      <td>4260.680390</td>\n",
       "      <td>TUMAKURU</td>\n",
       "      <td>85722.635766</td>\n",
       "      <td>0.058113</td>\n",
       "      <td>0.941887</td>\n",
       "    </tr>\n",
       "    <tr>\n",
       "      <th>309</th>\n",
       "      <td>0.0</td>\n",
       "      <td>0.0</td>\n",
       "      <td>1.0</td>\n",
       "      <td>40572.445630</td>\n",
       "      <td>25831.0</td>\n",
       "      <td>8156.290370</td>\n",
       "      <td>-2150.338663</td>\n",
       "      <td>0.850591</td>\n",
       "      <td>1.624155</td>\n",
       "      <td>3.821492</td>\n",
       "      <td>40572.445630</td>\n",
       "      <td>25831.0</td>\n",
       "      <td>9670.657125</td>\n",
       "      <td>CHIKKAMAGALURU</td>\n",
       "      <td>111270.098109</td>\n",
       "      <td>0.158679</td>\n",
       "      <td>0.841321</td>\n",
       "    </tr>\n",
       "    <tr>\n",
       "      <th>310</th>\n",
       "      <td>0.0</td>\n",
       "      <td>0.0</td>\n",
       "      <td>1.0</td>\n",
       "      <td>94.499008</td>\n",
       "      <td>8.0</td>\n",
       "      <td>2.304863</td>\n",
       "      <td>-2150.338663</td>\n",
       "      <td>0.850591</td>\n",
       "      <td>1.624155</td>\n",
       "      <td>3.821492</td>\n",
       "      <td>94.499008</td>\n",
       "      <td>8.0</td>\n",
       "      <td>1516.671618</td>\n",
       "      <td>UDUPI</td>\n",
       "      <td>3738.982957</td>\n",
       "      <td>0.223205</td>\n",
       "      <td>0.776795</td>\n",
       "    </tr>\n",
       "    <tr>\n",
       "      <th>311</th>\n",
       "      <td>0.0</td>\n",
       "      <td>0.0</td>\n",
       "      <td>1.0</td>\n",
       "      <td>151008.140250</td>\n",
       "      <td>79058.0</td>\n",
       "      <td>17039.273894</td>\n",
       "      <td>-2150.338663</td>\n",
       "      <td>0.850591</td>\n",
       "      <td>1.624155</td>\n",
       "      <td>3.821492</td>\n",
       "      <td>151008.140250</td>\n",
       "      <td>79058.0</td>\n",
       "      <td>18553.640649</td>\n",
       "      <td>HASSAN</td>\n",
       "      <td>325600.833062</td>\n",
       "      <td>0.397448</td>\n",
       "      <td>0.602552</td>\n",
       "    </tr>\n",
       "    <tr>\n",
       "      <th>312</th>\n",
       "      <td>0.0</td>\n",
       "      <td>0.0</td>\n",
       "      <td>1.0</td>\n",
       "      <td>7599.582730</td>\n",
       "      <td>3448.0</td>\n",
       "      <td>3519.022414</td>\n",
       "      <td>-2150.338663</td>\n",
       "      <td>0.850591</td>\n",
       "      <td>1.624155</td>\n",
       "      <td>3.821492</td>\n",
       "      <td>7599.582730</td>\n",
       "      <td>3448.0</td>\n",
       "      <td>5033.389170</td>\n",
       "      <td>KODAGU</td>\n",
       "      <td>29148.939203</td>\n",
       "      <td>0.111380</td>\n",
       "      <td>0.888620</td>\n",
       "    </tr>\n",
       "    <tr>\n",
       "      <th>313</th>\n",
       "      <td>0.0</td>\n",
       "      <td>0.0</td>\n",
       "      <td>1.0</td>\n",
       "      <td>8774.134623</td>\n",
       "      <td>4892.0</td>\n",
       "      <td>1448.830355</td>\n",
       "      <td>-2150.338663</td>\n",
       "      <td>0.850591</td>\n",
       "      <td>1.624155</td>\n",
       "      <td>3.821492</td>\n",
       "      <td>8774.134623</td>\n",
       "      <td>4892.0</td>\n",
       "      <td>2963.197111</td>\n",
       "      <td>MANDYA</td>\n",
       "      <td>24582.059919</td>\n",
       "      <td>0.076123</td>\n",
       "      <td>0.923877</td>\n",
       "    </tr>\n",
       "    <tr>\n",
       "      <th>314</th>\n",
       "      <td>0.0</td>\n",
       "      <td>0.0</td>\n",
       "      <td>1.0</td>\n",
       "      <td>61547.727444</td>\n",
       "      <td>37283.0</td>\n",
       "      <td>6945.331415</td>\n",
       "      <td>-2150.338663</td>\n",
       "      <td>0.850591</td>\n",
       "      <td>1.624155</td>\n",
       "      <td>3.821492</td>\n",
       "      <td>61547.727444</td>\n",
       "      <td>37283.0</td>\n",
       "      <td>8459.698170</td>\n",
       "      <td>MYSURU</td>\n",
       "      <td>143083.633404</td>\n",
       "      <td>0.042327</td>\n",
       "      <td>0.957673</td>\n",
       "    </tr>\n",
       "    <tr>\n",
       "      <th>315</th>\n",
       "      <td>0.0</td>\n",
       "      <td>0.0</td>\n",
       "      <td>1.0</td>\n",
       "      <td>80396.926683</td>\n",
       "      <td>38569.0</td>\n",
       "      <td>7289.684770</td>\n",
       "      <td>-2150.338663</td>\n",
       "      <td>0.850591</td>\n",
       "      <td>1.624155</td>\n",
       "      <td>3.821492</td>\n",
       "      <td>80396.926683</td>\n",
       "      <td>38569.0</td>\n",
       "      <td>8804.051525</td>\n",
       "      <td>CHAMARAJANAGAR</td>\n",
       "      <td>162521.194403</td>\n",
       "      <td>0.039050</td>\n",
       "      <td>0.960950</td>\n",
       "    </tr>\n",
       "    <tr>\n",
       "      <th>316</th>\n",
       "      <td>0.0</td>\n",
       "      <td>0.0</td>\n",
       "      <td>1.0</td>\n",
       "      <td>159047.086192</td>\n",
       "      <td>131163.0</td>\n",
       "      <td>48288.815127</td>\n",
       "      <td>-2150.338663</td>\n",
       "      <td>0.850591</td>\n",
       "      <td>1.624155</td>\n",
       "      <td>3.821492</td>\n",
       "      <td>159047.086192</td>\n",
       "      <td>131163.0</td>\n",
       "      <td>49803.181882</td>\n",
       "      <td>BELAGAVI</td>\n",
       "      <td>536485.162832</td>\n",
       "      <td>0.806865</td>\n",
       "      <td>0.193135</td>\n",
       "    </tr>\n",
       "    <tr>\n",
       "      <th>317</th>\n",
       "      <td>0.0</td>\n",
       "      <td>0.0</td>\n",
       "      <td>1.0</td>\n",
       "      <td>48619.507080</td>\n",
       "      <td>40207.0</td>\n",
       "      <td>10420.071653</td>\n",
       "      <td>-2150.338663</td>\n",
       "      <td>0.850591</td>\n",
       "      <td>1.624155</td>\n",
       "      <td>3.821492</td>\n",
       "      <td>48619.507080</td>\n",
       "      <td>40207.0</td>\n",
       "      <td>11934.438408</td>\n",
       "      <td>VIJAYAPURA</td>\n",
       "      <td>150114.730888</td>\n",
       "      <td>0.103253</td>\n",
       "      <td>0.896747</td>\n",
       "    </tr>\n",
       "    <tr>\n",
       "      <th>318</th>\n",
       "      <td>0.0</td>\n",
       "      <td>0.0</td>\n",
       "      <td>1.0</td>\n",
       "      <td>75578.051999</td>\n",
       "      <td>44300.0</td>\n",
       "      <td>22940.521254</td>\n",
       "      <td>-2150.338663</td>\n",
       "      <td>0.850591</td>\n",
       "      <td>1.624155</td>\n",
       "      <td>3.821492</td>\n",
       "      <td>75578.051999</td>\n",
       "      <td>44300.0</td>\n",
       "      <td>24454.888009</td>\n",
       "      <td>BAGALKOT</td>\n",
       "      <td>227539.883592</td>\n",
       "      <td>0.265672</td>\n",
       "      <td>0.734328</td>\n",
       "    </tr>\n",
       "    <tr>\n",
       "      <th>319</th>\n",
       "      <td>0.0</td>\n",
       "      <td>0.0</td>\n",
       "      <td>1.0</td>\n",
       "      <td>33424.645600</td>\n",
       "      <td>30900.0</td>\n",
       "      <td>6447.725408</td>\n",
       "      <td>-2150.338663</td>\n",
       "      <td>0.850591</td>\n",
       "      <td>1.624155</td>\n",
       "      <td>3.821492</td>\n",
       "      <td>33424.645600</td>\n",
       "      <td>30900.0</td>\n",
       "      <td>7962.092163</td>\n",
       "      <td>DHARAWAD</td>\n",
       "      <td>106893.821180</td>\n",
       "      <td>0.218421</td>\n",
       "      <td>0.781579</td>\n",
       "    </tr>\n",
       "    <tr>\n",
       "      <th>320</th>\n",
       "      <td>0.0</td>\n",
       "      <td>0.0</td>\n",
       "      <td>1.0</td>\n",
       "      <td>34261.981768</td>\n",
       "      <td>34163.0</td>\n",
       "      <td>5591.244159</td>\n",
       "      <td>-2150.338663</td>\n",
       "      <td>0.850591</td>\n",
       "      <td>1.624155</td>\n",
       "      <td>3.821492</td>\n",
       "      <td>34261.981768</td>\n",
       "      <td>34163.0</td>\n",
       "      <td>7105.610915</td>\n",
       "      <td>GADAG</td>\n",
       "      <td>109632.633737</td>\n",
       "      <td>0.153596</td>\n",
       "      <td>0.846404</td>\n",
       "    </tr>\n",
       "    <tr>\n",
       "      <th>321</th>\n",
       "      <td>0.0</td>\n",
       "      <td>0.0</td>\n",
       "      <td>1.0</td>\n",
       "      <td>95150.640269</td>\n",
       "      <td>170696.0</td>\n",
       "      <td>21731.170722</td>\n",
       "      <td>-2150.338663</td>\n",
       "      <td>0.850591</td>\n",
       "      <td>1.624155</td>\n",
       "      <td>3.821492</td>\n",
       "      <td>95150.640269</td>\n",
       "      <td>170696.0</td>\n",
       "      <td>23245.537478</td>\n",
       "      <td>HAVERI</td>\n",
       "      <td>444853.341858</td>\n",
       "      <td>0.664092</td>\n",
       "      <td>0.335908</td>\n",
       "    </tr>\n",
       "    <tr>\n",
       "      <th>322</th>\n",
       "      <td>0.0</td>\n",
       "      <td>0.0</td>\n",
       "      <td>1.0</td>\n",
       "      <td>22563.771076</td>\n",
       "      <td>4576.0</td>\n",
       "      <td>1025.616827</td>\n",
       "      <td>-2150.338663</td>\n",
       "      <td>0.850591</td>\n",
       "      <td>1.624155</td>\n",
       "      <td>3.821492</td>\n",
       "      <td>22563.771076</td>\n",
       "      <td>4576.0</td>\n",
       "      <td>2539.983582</td>\n",
       "      <td>UTTARA KANNADA</td>\n",
       "      <td>34180.856497</td>\n",
       "      <td>0.361348</td>\n",
       "      <td>0.638652</td>\n",
       "    </tr>\n",
       "    <tr>\n",
       "      <th>323</th>\n",
       "      <td>0.0</td>\n",
       "      <td>0.0</td>\n",
       "      <td>1.0</td>\n",
       "      <td>23446.847903</td>\n",
       "      <td>49869.5</td>\n",
       "      <td>8404.154608</td>\n",
       "      <td>-2150.338663</td>\n",
       "      <td>0.850591</td>\n",
       "      <td>1.624155</td>\n",
       "      <td>3.821492</td>\n",
       "      <td>23446.847903</td>\n",
       "      <td>49869.5</td>\n",
       "      <td>9918.521363</td>\n",
       "      <td>BALLARI</td>\n",
       "      <td>136692.689509</td>\n",
       "      <td>0.052487</td>\n",
       "      <td>0.947513</td>\n",
       "    </tr>\n",
       "    <tr>\n",
       "      <th>324</th>\n",
       "      <td>0.0</td>\n",
       "      <td>0.0</td>\n",
       "      <td>1.0</td>\n",
       "      <td>2371.831678</td>\n",
       "      <td>1382.0</td>\n",
       "      <td>249.381182</td>\n",
       "      <td>-2150.338663</td>\n",
       "      <td>0.850591</td>\n",
       "      <td>1.624155</td>\n",
       "      <td>3.821492</td>\n",
       "      <td>2371.831678</td>\n",
       "      <td>1382.0</td>\n",
       "      <td>1763.747938</td>\n",
       "      <td>BIDAR</td>\n",
       "      <td>8851.850383</td>\n",
       "      <td>0.451241</td>\n",
       "      <td>0.548759</td>\n",
       "    </tr>\n",
       "    <tr>\n",
       "      <th>325</th>\n",
       "      <td>0.0</td>\n",
       "      <td>0.0</td>\n",
       "      <td>1.0</td>\n",
       "      <td>6221.617910</td>\n",
       "      <td>2634.0</td>\n",
       "      <td>710.101614</td>\n",
       "      <td>-2150.338663</td>\n",
       "      <td>0.850591</td>\n",
       "      <td>1.624155</td>\n",
       "      <td>3.821492</td>\n",
       "      <td>6221.617910</td>\n",
       "      <td>2634.0</td>\n",
       "      <td>2224.468370</td>\n",
       "      <td>KALABURAGI</td>\n",
       "      <td>15920.524533</td>\n",
       "      <td>0.015482</td>\n",
       "      <td>0.984518</td>\n",
       "    </tr>\n",
       "    <tr>\n",
       "      <th>326</th>\n",
       "      <td>0.0</td>\n",
       "      <td>0.0</td>\n",
       "      <td>1.0</td>\n",
       "      <td>1253.317144</td>\n",
       "      <td>961.0</td>\n",
       "      <td>368.617469</td>\n",
       "      <td>-2150.338663</td>\n",
       "      <td>0.850591</td>\n",
       "      <td>1.624155</td>\n",
       "      <td>3.821492</td>\n",
       "      <td>1253.317144</td>\n",
       "      <td>961.0</td>\n",
       "      <td>1882.984225</td>\n",
       "      <td>YADGIRI</td>\n",
       "      <td>7672.343483</td>\n",
       "      <td>0.143094</td>\n",
       "      <td>0.856906</td>\n",
       "    </tr>\n",
       "    <tr>\n",
       "      <th>327</th>\n",
       "      <td>0.0</td>\n",
       "      <td>0.0</td>\n",
       "      <td>1.0</td>\n",
       "      <td>188.537479</td>\n",
       "      <td>2600.0</td>\n",
       "      <td>61.547519</td>\n",
       "      <td>-2150.338663</td>\n",
       "      <td>0.850591</td>\n",
       "      <td>1.624155</td>\n",
       "      <td>3.821492</td>\n",
       "      <td>188.537479</td>\n",
       "      <td>2600.0</td>\n",
       "      <td>1575.914275</td>\n",
       "      <td>RAICHUR</td>\n",
       "      <td>8255.176803</td>\n",
       "      <td>0.229959</td>\n",
       "      <td>0.770041</td>\n",
       "    </tr>\n",
       "    <tr>\n",
       "      <th>328</th>\n",
       "      <td>0.0</td>\n",
       "      <td>0.0</td>\n",
       "      <td>1.0</td>\n",
       "      <td>38936.400172</td>\n",
       "      <td>48210.0</td>\n",
       "      <td>10997.550403</td>\n",
       "      <td>-2150.338663</td>\n",
       "      <td>0.850591</td>\n",
       "      <td>1.624155</td>\n",
       "      <td>3.821492</td>\n",
       "      <td>38936.400172</td>\n",
       "      <td>48210.0</td>\n",
       "      <td>12511.917159</td>\n",
       "      <td>KOPPAL</td>\n",
       "      <td>157083.314483</td>\n",
       "      <td>0.111567</td>\n",
       "      <td>0.888433</td>\n",
       "    </tr>\n",
       "    <tr>\n",
       "      <th>329</th>\n",
       "      <td>0.0</td>\n",
       "      <td>0.0</td>\n",
       "      <td>1.0</td>\n",
       "      <td>23446.847903</td>\n",
       "      <td>49869.5</td>\n",
       "      <td>8404.154608</td>\n",
       "      <td>-2150.338663</td>\n",
       "      <td>0.850591</td>\n",
       "      <td>1.624155</td>\n",
       "      <td>3.821492</td>\n",
       "      <td>23446.847903</td>\n",
       "      <td>49869.5</td>\n",
       "      <td>9918.521363</td>\n",
       "      <td>VIJAYANAGARA</td>\n",
       "      <td>136692.689509</td>\n",
       "      <td>0.080203</td>\n",
       "      <td>0.919797</td>\n",
       "    </tr>\n",
       "  </tbody>\n",
       "</table>\n",
       "</div>"
      ],
      "text/plain": [
       "     Sensitivity_LivestockCensus_2012_Cattle  \\\n",
       "300                                      0.0   \n",
       "301                                      0.0   \n",
       "302                                      0.0   \n",
       "303                                      0.0   \n",
       "304                                      0.0   \n",
       "305                                      0.0   \n",
       "306                                      0.0   \n",
       "307                                      0.0   \n",
       "308                                      0.0   \n",
       "309                                      0.0   \n",
       "310                                      0.0   \n",
       "311                                      0.0   \n",
       "312                                      0.0   \n",
       "313                                      0.0   \n",
       "314                                      0.0   \n",
       "315                                      0.0   \n",
       "316                                      0.0   \n",
       "317                                      0.0   \n",
       "318                                      0.0   \n",
       "319                                      0.0   \n",
       "320                                      0.0   \n",
       "321                                      0.0   \n",
       "322                                      0.0   \n",
       "323                                      0.0   \n",
       "324                                      0.0   \n",
       "325                                      0.0   \n",
       "326                                      0.0   \n",
       "327                                      0.0   \n",
       "328                                      0.0   \n",
       "329                                      0.0   \n",
       "\n",
       "     Sensitivity_AreaUnderCereals_Maize  Sensitivity_TotalNPK  \\\n",
       "300                                 0.0                   1.0   \n",
       "301                                 0.0                   1.0   \n",
       "302                                 0.0                   1.0   \n",
       "303                                 0.0                   1.0   \n",
       "304                                 0.0                   1.0   \n",
       "305                                 0.0                   1.0   \n",
       "306                                 0.0                   1.0   \n",
       "307                                 0.0                   1.0   \n",
       "308                                 0.0                   1.0   \n",
       "309                                 0.0                   1.0   \n",
       "310                                 0.0                   1.0   \n",
       "311                                 0.0                   1.0   \n",
       "312                                 0.0                   1.0   \n",
       "313                                 0.0                   1.0   \n",
       "314                                 0.0                   1.0   \n",
       "315                                 0.0                   1.0   \n",
       "316                                 0.0                   1.0   \n",
       "317                                 0.0                   1.0   \n",
       "318                                 0.0                   1.0   \n",
       "319                                 0.0                   1.0   \n",
       "320                                 0.0                   1.0   \n",
       "321                                 0.0                   1.0   \n",
       "322                                 0.0                   1.0   \n",
       "323                                 0.0                   1.0   \n",
       "324                                 0.0                   1.0   \n",
       "325                                 0.0                   1.0   \n",
       "326                                 0.0                   1.0   \n",
       "327                                 0.0                   1.0   \n",
       "328                                 0.0                   1.0   \n",
       "329                                 0.0                   1.0   \n",
       "\n",
       "     LivestockCensus_2012_Cattle  AreaUnderCereals_Maize      TotalNPK  \\\n",
       "300                  2567.461578                  1129.0    438.180210   \n",
       "301                 25037.139271                 14867.0   3036.080250   \n",
       "302                  7729.614277                  1987.0    222.225258   \n",
       "303                 83821.593093                 92194.0  10902.406571   \n",
       "304                 85657.632091                173400.0  25702.835480   \n",
       "305                  2278.829821                   640.0    220.782906   \n",
       "306                 71206.945309                 59377.0   8196.896749   \n",
       "307                104722.000363                 43827.0  10428.246256   \n",
       "308                 37944.093756                 24207.0   2746.313635   \n",
       "309                 40572.445630                 25831.0   8156.290370   \n",
       "310                    94.499008                     8.0      2.304863   \n",
       "311                151008.140250                 79058.0  17039.273894   \n",
       "312                  7599.582730                  3448.0   3519.022414   \n",
       "313                  8774.134623                  4892.0   1448.830355   \n",
       "314                 61547.727444                 37283.0   6945.331415   \n",
       "315                 80396.926683                 38569.0   7289.684770   \n",
       "316                159047.086192                131163.0  48288.815127   \n",
       "317                 48619.507080                 40207.0  10420.071653   \n",
       "318                 75578.051999                 44300.0  22940.521254   \n",
       "319                 33424.645600                 30900.0   6447.725408   \n",
       "320                 34261.981768                 34163.0   5591.244159   \n",
       "321                 95150.640269                170696.0  21731.170722   \n",
       "322                 22563.771076                  4576.0   1025.616827   \n",
       "323                 23446.847903                 49869.5   8404.154608   \n",
       "324                  2371.831678                  1382.0    249.381182   \n",
       "325                  6221.617910                  2634.0    710.101614   \n",
       "326                  1253.317144                   961.0    368.617469   \n",
       "327                   188.537479                  2600.0     61.547519   \n",
       "328                 38936.400172                 48210.0  10997.550403   \n",
       "329                 23446.847903                 49869.5   8404.154608   \n",
       "\n",
       "          Beta_0    Beta_1    Beta_2    Beta_3         New_F1    New_F2  \\\n",
       "300 -2150.338663  0.850591  1.624155  3.821492    2567.461578    1129.0   \n",
       "301 -2150.338663  0.850591  1.624155  3.821492   25037.139271   14867.0   \n",
       "302 -2150.338663  0.850591  1.624155  3.821492    7729.614277    1987.0   \n",
       "303 -2150.338663  0.850591  1.624155  3.821492   83821.593093   92194.0   \n",
       "304 -2150.338663  0.850591  1.624155  3.821492   85657.632091  173400.0   \n",
       "305 -2150.338663  0.850591  1.624155  3.821492    2278.829821     640.0   \n",
       "306 -2150.338663  0.850591  1.624155  3.821492   71206.945309   59377.0   \n",
       "307 -2150.338663  0.850591  1.624155  3.821492  104722.000363   43827.0   \n",
       "308 -2150.338663  0.850591  1.624155  3.821492   37944.093756   24207.0   \n",
       "309 -2150.338663  0.850591  1.624155  3.821492   40572.445630   25831.0   \n",
       "310 -2150.338663  0.850591  1.624155  3.821492      94.499008       8.0   \n",
       "311 -2150.338663  0.850591  1.624155  3.821492  151008.140250   79058.0   \n",
       "312 -2150.338663  0.850591  1.624155  3.821492    7599.582730    3448.0   \n",
       "313 -2150.338663  0.850591  1.624155  3.821492    8774.134623    4892.0   \n",
       "314 -2150.338663  0.850591  1.624155  3.821492   61547.727444   37283.0   \n",
       "315 -2150.338663  0.850591  1.624155  3.821492   80396.926683   38569.0   \n",
       "316 -2150.338663  0.850591  1.624155  3.821492  159047.086192  131163.0   \n",
       "317 -2150.338663  0.850591  1.624155  3.821492   48619.507080   40207.0   \n",
       "318 -2150.338663  0.850591  1.624155  3.821492   75578.051999   44300.0   \n",
       "319 -2150.338663  0.850591  1.624155  3.821492   33424.645600   30900.0   \n",
       "320 -2150.338663  0.850591  1.624155  3.821492   34261.981768   34163.0   \n",
       "321 -2150.338663  0.850591  1.624155  3.821492   95150.640269  170696.0   \n",
       "322 -2150.338663  0.850591  1.624155  3.821492   22563.771076    4576.0   \n",
       "323 -2150.338663  0.850591  1.624155  3.821492   23446.847903   49869.5   \n",
       "324 -2150.338663  0.850591  1.624155  3.821492    2371.831678    1382.0   \n",
       "325 -2150.338663  0.850591  1.624155  3.821492    6221.617910    2634.0   \n",
       "326 -2150.338663  0.850591  1.624155  3.821492    1253.317144     961.0   \n",
       "327 -2150.338663  0.850591  1.624155  3.821492     188.537479    2600.0   \n",
       "328 -2150.338663  0.850591  1.624155  3.821492   38936.400172   48210.0   \n",
       "329 -2150.338663  0.850591  1.624155  3.821492   23446.847903   49869.5   \n",
       "\n",
       "           New_F3         District  New_Production  Stress_Values  \\\n",
       "300   1952.546965        BENGALURU     9328.834061       0.052851   \n",
       "301   4550.447005     BENGALURU(R)    60681.831421       0.002010   \n",
       "302   1736.592013       RAMANAGARA    14287.968255       0.286764   \n",
       "303  12416.773327      CHITRADURGA   266335.493399       0.189185   \n",
       "304  27217.202235       DAVANAGERE   456348.077846       0.622194   \n",
       "305   1735.149662            KOLAR     7458.332631       0.223119   \n",
       "306   9711.263504  CHIKKABALLAPURA   191966.606122       0.264064   \n",
       "307  11942.613011       SHIVAMOGGA   203745.671693       0.017030   \n",
       "308   4260.680390         TUMAKURU    85722.635766       0.058113   \n",
       "309   9670.657125   CHIKKAMAGALURU   111270.098109       0.158679   \n",
       "310   1516.671618            UDUPI     3738.982957       0.223205   \n",
       "311  18553.640649           HASSAN   325600.833062       0.397448   \n",
       "312   5033.389170           KODAGU    29148.939203       0.111380   \n",
       "313   2963.197111           MANDYA    24582.059919       0.076123   \n",
       "314   8459.698170           MYSURU   143083.633404       0.042327   \n",
       "315   8804.051525   CHAMARAJANAGAR   162521.194403       0.039050   \n",
       "316  49803.181882         BELAGAVI   536485.162832       0.806865   \n",
       "317  11934.438408       VIJAYAPURA   150114.730888       0.103253   \n",
       "318  24454.888009         BAGALKOT   227539.883592       0.265672   \n",
       "319   7962.092163         DHARAWAD   106893.821180       0.218421   \n",
       "320   7105.610915            GADAG   109632.633737       0.153596   \n",
       "321  23245.537478           HAVERI   444853.341858       0.664092   \n",
       "322   2539.983582   UTTARA KANNADA    34180.856497       0.361348   \n",
       "323   9918.521363          BALLARI   136692.689509       0.052487   \n",
       "324   1763.747938            BIDAR     8851.850383       0.451241   \n",
       "325   2224.468370       KALABURAGI    15920.524533       0.015482   \n",
       "326   1882.984225          YADGIRI     7672.343483       0.143094   \n",
       "327   1575.914275          RAICHUR     8255.176803       0.229959   \n",
       "328  12511.917159           KOPPAL   157083.314483       0.111567   \n",
       "329   9918.521363     VIJAYANAGARA   136692.689509       0.080203   \n",
       "\n",
       "     Stability_Values  \n",
       "300          0.947149  \n",
       "301          0.997990  \n",
       "302          0.713236  \n",
       "303          0.810815  \n",
       "304          0.377806  \n",
       "305          0.776881  \n",
       "306          0.735936  \n",
       "307          0.982970  \n",
       "308          0.941887  \n",
       "309          0.841321  \n",
       "310          0.776795  \n",
       "311          0.602552  \n",
       "312          0.888620  \n",
       "313          0.923877  \n",
       "314          0.957673  \n",
       "315          0.960950  \n",
       "316          0.193135  \n",
       "317          0.896747  \n",
       "318          0.734328  \n",
       "319          0.781579  \n",
       "320          0.846404  \n",
       "321          0.335908  \n",
       "322          0.638652  \n",
       "323          0.947513  \n",
       "324          0.548759  \n",
       "325          0.984518  \n",
       "326          0.856906  \n",
       "327          0.770041  \n",
       "328          0.888433  \n",
       "329          0.919797  "
      ]
     },
     "execution_count": 220,
     "metadata": {},
     "output_type": "execute_result"
    }
   ],
   "source": [
    "result_df[300:330]"
   ]
  }
 ],
 "metadata": {
  "kernelspec": {
   "display_name": "Python 3",
   "language": "python",
   "name": "python3"
  },
  "language_info": {
   "codemirror_mode": {
    "name": "ipython",
    "version": 3
   },
   "file_extension": ".py",
   "mimetype": "text/x-python",
   "name": "python",
   "nbconvert_exporter": "python",
   "pygments_lexer": "ipython3",
   "version": "3.9.13"
  }
 },
 "nbformat": 4,
 "nbformat_minor": 2
}
