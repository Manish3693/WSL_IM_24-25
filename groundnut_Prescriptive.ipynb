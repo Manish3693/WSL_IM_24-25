{
 "cells": [
  {
   "cell_type": "code",
   "execution_count": 4,
   "metadata": {},
   "outputs": [],
   "source": [
    "import pandas as pd\n",
    "import statsmodels.api as sm\n",
    "import re\n",
    "import numpy as np\n",
    "import pandas as pd\n",
    "from itertools import product"
   ]
  },
  {
   "cell_type": "code",
   "execution_count": 5,
   "metadata": {},
   "outputs": [
    {
     "data": {
      "text/html": [
       "<div>\n",
       "<style scoped>\n",
       "    .dataframe tbody tr th:only-of-type {\n",
       "        vertical-align: middle;\n",
       "    }\n",
       "\n",
       "    .dataframe tbody tr th {\n",
       "        vertical-align: top;\n",
       "    }\n",
       "\n",
       "    .dataframe thead th {\n",
       "        text-align: right;\n",
       "    }\n",
       "</style>\n",
       "<table border=\"1\" class=\"dataframe\">\n",
       "  <thead>\n",
       "    <tr style=\"text-align: right;\">\n",
       "      <th></th>\n",
       "      <th>District</th>\n",
       "      <th>Rice_Production</th>\n",
       "      <th>Maize_Production</th>\n",
       "      <th>Groundnut_Production</th>\n",
       "      <th>TotalNPK</th>\n",
       "      <th>SowingSeedsDistributed_Maize</th>\n",
       "      <th>LivestockCensus_2012_Cattle</th>\n",
       "      <th>AreaUnderCereals_Maize</th>\n",
       "      <th>AreaUnderCereals_Paddy</th>\n",
       "      <th>NetAreaIrrigated_Canals_NetAreaIrrigated</th>\n",
       "      <th>AreaUnderOilSeeds_GroundNut</th>\n",
       "      <th>MotorVehicles_Tractors</th>\n",
       "      <th>LivestockCensus_2012_Sheep</th>\n",
       "      <th>NetAreaIrrigatedUnderDifferentSources_TubeWells_NetIrrigatedArea</th>\n",
       "      <th>Rice_Ratio</th>\n",
       "      <th>Maize_Ratio</th>\n",
       "      <th>Groundnut_Ratio</th>\n",
       "      <th>Admin_Zone</th>\n",
       "    </tr>\n",
       "  </thead>\n",
       "  <tbody>\n",
       "    <tr>\n",
       "      <th>24</th>\n",
       "      <td>BALLARI</td>\n",
       "      <td>206115.5</td>\n",
       "      <td>104045</td>\n",
       "      <td>22938.5</td>\n",
       "      <td>61664.5</td>\n",
       "      <td>2859.005</td>\n",
       "      <td>172038.5</td>\n",
       "      <td>49869.5</td>\n",
       "      <td>46832.5</td>\n",
       "      <td>77607</td>\n",
       "      <td>49762</td>\n",
       "      <td>24001</td>\n",
       "      <td>756270</td>\n",
       "      <td>75198</td>\n",
       "      <td>0.269990</td>\n",
       "      <td>0.136288</td>\n",
       "      <td>0.030047</td>\n",
       "      <td>Kalaburagi Division</td>\n",
       "    </tr>\n",
       "    <tr>\n",
       "      <th>25</th>\n",
       "      <td>BIDAR</td>\n",
       "      <td>2036.0</td>\n",
       "      <td>2791</td>\n",
       "      <td>261.0</td>\n",
       "      <td>24658.0</td>\n",
       "      <td>24.550</td>\n",
       "      <td>234519.0</td>\n",
       "      <td>1382.0</td>\n",
       "      <td>1548.0</td>\n",
       "      <td>0</td>\n",
       "      <td>299</td>\n",
       "      <td>5256</td>\n",
       "      <td>88402</td>\n",
       "      <td>19908</td>\n",
       "      <td>0.007378</td>\n",
       "      <td>0.010114</td>\n",
       "      <td>0.000946</td>\n",
       "      <td>Kalaburagi Division</td>\n",
       "    </tr>\n",
       "    <tr>\n",
       "      <th>26</th>\n",
       "      <td>KALABURAGI</td>\n",
       "      <td>7888.0</td>\n",
       "      <td>14621</td>\n",
       "      <td>3114.0</td>\n",
       "      <td>53999.0</td>\n",
       "      <td>165.000</td>\n",
       "      <td>473117.0</td>\n",
       "      <td>2634.0</td>\n",
       "      <td>4199.0</td>\n",
       "      <td>20864</td>\n",
       "      <td>3817</td>\n",
       "      <td>16351</td>\n",
       "      <td>100061</td>\n",
       "      <td>48802</td>\n",
       "      <td>0.007095</td>\n",
       "      <td>0.013150</td>\n",
       "      <td>0.002801</td>\n",
       "      <td>Kalaburagi Division</td>\n",
       "    </tr>\n",
       "    <tr>\n",
       "      <th>27</th>\n",
       "      <td>YADGIRI</td>\n",
       "      <td>224659.0</td>\n",
       "      <td>2673</td>\n",
       "      <td>31435.0</td>\n",
       "      <td>91389.0</td>\n",
       "      <td>0.000</td>\n",
       "      <td>310727.0</td>\n",
       "      <td>961.0</td>\n",
       "      <td>49358.0</td>\n",
       "      <td>91141</td>\n",
       "      <td>38840</td>\n",
       "      <td>9902</td>\n",
       "      <td>463482</td>\n",
       "      <td>22035</td>\n",
       "      <td>0.339006</td>\n",
       "      <td>0.004033</td>\n",
       "      <td>0.047435</td>\n",
       "      <td>Kalaburagi Division</td>\n",
       "    </tr>\n",
       "    <tr>\n",
       "      <th>28</th>\n",
       "      <td>RAICHUR</td>\n",
       "      <td>492342.0</td>\n",
       "      <td>723</td>\n",
       "      <td>26958.0</td>\n",
       "      <td>117235.0</td>\n",
       "      <td>14.350</td>\n",
       "      <td>359124.0</td>\n",
       "      <td>2600.0</td>\n",
       "      <td>115246.0</td>\n",
       "      <td>111512</td>\n",
       "      <td>35960</td>\n",
       "      <td>25612</td>\n",
       "      <td>647549</td>\n",
       "      <td>26571</td>\n",
       "      <td>0.357505</td>\n",
       "      <td>0.000525</td>\n",
       "      <td>0.019575</td>\n",
       "      <td>Kalaburagi Division</td>\n",
       "    </tr>\n",
       "    <tr>\n",
       "      <th>29</th>\n",
       "      <td>KOPPAL</td>\n",
       "      <td>243505.0</td>\n",
       "      <td>190252</td>\n",
       "      <td>29982.0</td>\n",
       "      <td>73552.0</td>\n",
       "      <td>5292.000</td>\n",
       "      <td>260408.0</td>\n",
       "      <td>48210.0</td>\n",
       "      <td>50753.0</td>\n",
       "      <td>37736</td>\n",
       "      <td>22274</td>\n",
       "      <td>16317</td>\n",
       "      <td>547061</td>\n",
       "      <td>82552</td>\n",
       "      <td>0.191373</td>\n",
       "      <td>0.149521</td>\n",
       "      <td>0.023563</td>\n",
       "      <td>Kalaburagi Division</td>\n",
       "    </tr>\n",
       "    <tr>\n",
       "      <th>30</th>\n",
       "      <td>VIJAYANAGARA</td>\n",
       "      <td>206115.5</td>\n",
       "      <td>104045</td>\n",
       "      <td>22938.5</td>\n",
       "      <td>61664.5</td>\n",
       "      <td>2859.005</td>\n",
       "      <td>172038.5</td>\n",
       "      <td>49869.5</td>\n",
       "      <td>46832.5</td>\n",
       "      <td>77607</td>\n",
       "      <td>49762</td>\n",
       "      <td>24001</td>\n",
       "      <td>756270</td>\n",
       "      <td>75198</td>\n",
       "      <td>0.269990</td>\n",
       "      <td>0.136288</td>\n",
       "      <td>0.030047</td>\n",
       "      <td>Kalaburagi Division</td>\n",
       "    </tr>\n",
       "  </tbody>\n",
       "</table>\n",
       "</div>"
      ],
      "text/plain": [
       "        District  Rice_Production  Maize_Production  Groundnut_Production  \\\n",
       "24       BALLARI         206115.5            104045               22938.5   \n",
       "25         BIDAR           2036.0              2791                 261.0   \n",
       "26    KALABURAGI           7888.0             14621                3114.0   \n",
       "27       YADGIRI         224659.0              2673               31435.0   \n",
       "28       RAICHUR         492342.0               723               26958.0   \n",
       "29        KOPPAL         243505.0            190252               29982.0   \n",
       "30  VIJAYANAGARA         206115.5            104045               22938.5   \n",
       "\n",
       "    TotalNPK  SowingSeedsDistributed_Maize  LivestockCensus_2012_Cattle  \\\n",
       "24   61664.5                      2859.005                     172038.5   \n",
       "25   24658.0                        24.550                     234519.0   \n",
       "26   53999.0                       165.000                     473117.0   \n",
       "27   91389.0                         0.000                     310727.0   \n",
       "28  117235.0                        14.350                     359124.0   \n",
       "29   73552.0                      5292.000                     260408.0   \n",
       "30   61664.5                      2859.005                     172038.5   \n",
       "\n",
       "    AreaUnderCereals_Maize  AreaUnderCereals_Paddy  \\\n",
       "24                 49869.5                 46832.5   \n",
       "25                  1382.0                  1548.0   \n",
       "26                  2634.0                  4199.0   \n",
       "27                   961.0                 49358.0   \n",
       "28                  2600.0                115246.0   \n",
       "29                 48210.0                 50753.0   \n",
       "30                 49869.5                 46832.5   \n",
       "\n",
       "    NetAreaIrrigated_Canals_NetAreaIrrigated  AreaUnderOilSeeds_GroundNut  \\\n",
       "24                                     77607                        49762   \n",
       "25                                         0                          299   \n",
       "26                                     20864                         3817   \n",
       "27                                     91141                        38840   \n",
       "28                                    111512                        35960   \n",
       "29                                     37736                        22274   \n",
       "30                                     77607                        49762   \n",
       "\n",
       "    MotorVehicles_Tractors  LivestockCensus_2012_Sheep  \\\n",
       "24                   24001                      756270   \n",
       "25                    5256                       88402   \n",
       "26                   16351                      100061   \n",
       "27                    9902                      463482   \n",
       "28                   25612                      647549   \n",
       "29                   16317                      547061   \n",
       "30                   24001                      756270   \n",
       "\n",
       "    NetAreaIrrigatedUnderDifferentSources_TubeWells_NetIrrigatedArea  \\\n",
       "24                                              75198                  \n",
       "25                                              19908                  \n",
       "26                                              48802                  \n",
       "27                                              22035                  \n",
       "28                                              26571                  \n",
       "29                                              82552                  \n",
       "30                                              75198                  \n",
       "\n",
       "    Rice_Ratio  Maize_Ratio  Groundnut_Ratio           Admin_Zone  \n",
       "24    0.269990     0.136288         0.030047  Kalaburagi Division  \n",
       "25    0.007378     0.010114         0.000946  Kalaburagi Division  \n",
       "26    0.007095     0.013150         0.002801  Kalaburagi Division  \n",
       "27    0.339006     0.004033         0.047435  Kalaburagi Division  \n",
       "28    0.357505     0.000525         0.019575  Kalaburagi Division  \n",
       "29    0.191373     0.149521         0.023563  Kalaburagi Division  \n",
       "30    0.269990     0.136288         0.030047  Kalaburagi Division  "
      ]
     },
     "execution_count": 5,
     "metadata": {},
     "output_type": "execute_result"
    }
   ],
   "source": [
    "def remove_pattern(col_name):\n",
    "    return re.sub(r'_[0-9]{3}$', '', col_name)\n",
    "\n",
    "Zones = pd.read_excel('Zones.xlsx')\n",
    "Dataset = pd.read_csv('KAG 2016-17\\Agriculture\\Agriculture_KAG_2016_17.csv')\n",
    "Dataset.columns = map(remove_pattern, Dataset.columns)\n",
    "\n",
    "Working_Directory = pd.read_csv('Working_Directory.csv')\n",
    "Working_Directory[24:]"
   ]
  },
  {
   "cell_type": "code",
   "execution_count": 6,
   "metadata": {},
   "outputs": [
    {
     "data": {
      "text/html": [
       "<div>\n",
       "<style scoped>\n",
       "    .dataframe tbody tr th:only-of-type {\n",
       "        vertical-align: middle;\n",
       "    }\n",
       "\n",
       "    .dataframe tbody tr th {\n",
       "        vertical-align: top;\n",
       "    }\n",
       "\n",
       "    .dataframe thead th {\n",
       "        text-align: right;\n",
       "    }\n",
       "</style>\n",
       "<table border=\"1\" class=\"dataframe\">\n",
       "  <thead>\n",
       "    <tr style=\"text-align: right;\">\n",
       "      <th></th>\n",
       "      <th>AreaUnderOilSeeds_GroundNut_210</th>\n",
       "      <th>MotorVehicles_Tractors_514</th>\n",
       "      <th>LivestockCensus_2012_Sheep_359</th>\n",
       "      <th>TotalNPK_315</th>\n",
       "    </tr>\n",
       "  </thead>\n",
       "  <tbody>\n",
       "    <tr>\n",
       "      <th>0</th>\n",
       "      <td>72</td>\n",
       "      <td>6.785923</td>\n",
       "      <td>35.835866</td>\n",
       "      <td>10.806111</td>\n",
       "    </tr>\n",
       "    <tr>\n",
       "      <th>1</th>\n",
       "      <td>175</td>\n",
       "      <td>0.748134</td>\n",
       "      <td>95.228861</td>\n",
       "      <td>14.687376</td>\n",
       "    </tr>\n",
       "    <tr>\n",
       "      <th>2</th>\n",
       "      <td>3307</td>\n",
       "      <td>156.804614</td>\n",
       "      <td>2102.339270</td>\n",
       "      <td>102.712727</td>\n",
       "    </tr>\n",
       "    <tr>\n",
       "      <th>3</th>\n",
       "      <td>96711</td>\n",
       "      <td>1423.861199</td>\n",
       "      <td>72011.816530</td>\n",
       "      <td>2748.901666</td>\n",
       "    </tr>\n",
       "    <tr>\n",
       "      <th>4</th>\n",
       "      <td>15279</td>\n",
       "      <td>233.171480</td>\n",
       "      <td>2474.543782</td>\n",
       "      <td>718.500139</td>\n",
       "    </tr>\n",
       "  </tbody>\n",
       "</table>\n",
       "</div>"
      ],
      "text/plain": [
       "   AreaUnderOilSeeds_GroundNut_210  MotorVehicles_Tractors_514  \\\n",
       "0                               72                    6.785923   \n",
       "1                              175                    0.748134   \n",
       "2                             3307                  156.804614   \n",
       "3                            96711                 1423.861199   \n",
       "4                            15279                  233.171480   \n",
       "\n",
       "   LivestockCensus_2012_Sheep_359  TotalNPK_315  \n",
       "0                       35.835866     10.806111  \n",
       "1                       95.228861     14.687376  \n",
       "2                     2102.339270    102.712727  \n",
       "3                    72011.816530   2748.901666  \n",
       "4                     2474.543782    718.500139  "
      ]
     },
     "execution_count": 6,
     "metadata": {},
     "output_type": "execute_result"
    }
   ],
   "source": [
    "Case_file = pd.read_csv('Params/4_parameters_multicollinearity_groundnut.csv')\n",
    "y = Working_Directory['Groundnut_Production']\n",
    "Case_file[:5]"
   ]
  },
  {
   "cell_type": "code",
   "execution_count": 7,
   "metadata": {},
   "outputs": [
    {
     "data": {
      "text/html": [
       "<div>\n",
       "<style scoped>\n",
       "    .dataframe tbody tr th:only-of-type {\n",
       "        vertical-align: middle;\n",
       "    }\n",
       "\n",
       "    .dataframe tbody tr th {\n",
       "        vertical-align: top;\n",
       "    }\n",
       "\n",
       "    .dataframe thead th {\n",
       "        text-align: right;\n",
       "    }\n",
       "</style>\n",
       "<table border=\"1\" class=\"dataframe\">\n",
       "  <thead>\n",
       "    <tr style=\"text-align: right;\">\n",
       "      <th></th>\n",
       "      <th>const</th>\n",
       "      <th>AreaUnderOilSeeds_GroundNut_210</th>\n",
       "      <th>MotorVehicles_Tractors_514</th>\n",
       "      <th>LivestockCensus_2012_Sheep_359</th>\n",
       "      <th>TotalNPK_315</th>\n",
       "    </tr>\n",
       "  </thead>\n",
       "  <tbody>\n",
       "    <tr>\n",
       "      <th>24</th>\n",
       "      <td>1.0</td>\n",
       "      <td>24881.0</td>\n",
       "      <td>360.580271</td>\n",
       "      <td>11361.861650</td>\n",
       "      <td>1852.839641</td>\n",
       "    </tr>\n",
       "    <tr>\n",
       "      <th>25</th>\n",
       "      <td>1.0</td>\n",
       "      <td>299.0</td>\n",
       "      <td>4.970978</td>\n",
       "      <td>83.608146</td>\n",
       "      <td>23.320849</td>\n",
       "    </tr>\n",
       "    <tr>\n",
       "      <th>26</th>\n",
       "      <td>1.0</td>\n",
       "      <td>3817.0</td>\n",
       "      <td>45.795271</td>\n",
       "      <td>280.247117</td>\n",
       "      <td>151.238385</td>\n",
       "    </tr>\n",
       "    <tr>\n",
       "      <th>27</th>\n",
       "      <td>1.0</td>\n",
       "      <td>38840.0</td>\n",
       "      <td>469.698763</td>\n",
       "      <td>21985.146630</td>\n",
       "      <td>4335.013151</td>\n",
       "    </tr>\n",
       "    <tr>\n",
       "      <th>28</th>\n",
       "      <td>1.0</td>\n",
       "      <td>35960.0</td>\n",
       "      <td>501.355902</td>\n",
       "      <td>12675.797000</td>\n",
       "      <td>2294.879709</td>\n",
       "    </tr>\n",
       "    <tr>\n",
       "      <th>29</th>\n",
       "      <td>1.0</td>\n",
       "      <td>22274.0</td>\n",
       "      <td>384.479472</td>\n",
       "      <td>12890.465430</td>\n",
       "      <td>1733.114796</td>\n",
       "    </tr>\n",
       "    <tr>\n",
       "      <th>30</th>\n",
       "      <td>1.0</td>\n",
       "      <td>24881.0</td>\n",
       "      <td>360.580271</td>\n",
       "      <td>11361.861650</td>\n",
       "      <td>1852.839641</td>\n",
       "    </tr>\n",
       "  </tbody>\n",
       "</table>\n",
       "</div>"
      ],
      "text/plain": [
       "    const  AreaUnderOilSeeds_GroundNut_210  MotorVehicles_Tractors_514  \\\n",
       "24    1.0                          24881.0                  360.580271   \n",
       "25    1.0                            299.0                    4.970978   \n",
       "26    1.0                           3817.0                   45.795271   \n",
       "27    1.0                          38840.0                  469.698763   \n",
       "28    1.0                          35960.0                  501.355902   \n",
       "29    1.0                          22274.0                  384.479472   \n",
       "30    1.0                          24881.0                  360.580271   \n",
       "\n",
       "    LivestockCensus_2012_Sheep_359  TotalNPK_315  \n",
       "24                    11361.861650   1852.839641  \n",
       "25                       83.608146     23.320849  \n",
       "26                      280.247117    151.238385  \n",
       "27                    21985.146630   4335.013151  \n",
       "28                    12675.797000   2294.879709  \n",
       "29                    12890.465430   1733.114796  \n",
       "30                    11361.861650   1852.839641  "
      ]
     },
     "execution_count": 7,
     "metadata": {},
     "output_type": "execute_result"
    }
   ],
   "source": [
    "if(len(Case_file) < 31):\n",
    "    row_24 = Case_file.iloc[24]\n",
    "    halved_row_24 = row_24 / 2\n",
    "    Case_file.iloc[24] = halved_row_24\n",
    "    Case_file.loc[len(Case_file)] = halved_row_24\n",
    "Case_file =sm.add_constant(Case_file)\n",
    "\n",
    "Case_file[24:]"
   ]
  },
  {
   "cell_type": "code",
   "execution_count": 8,
   "metadata": {},
   "outputs": [
    {
     "name": "stdout",
     "output_type": "stream",
     "text": [
      "                             OLS Regression Results                             \n",
      "================================================================================\n",
      "Dep. Variable:     Groundnut_Production   R-squared:                       0.951\n",
      "Model:                              OLS   Adj. R-squared:                  0.943\n",
      "Method:                   Least Squares   F-statistic:                     125.3\n",
      "Date:                  Mon, 16 Sep 2024   Prob (F-statistic):           1.36e-16\n",
      "Time:                          19:59:45   Log-Likelihood:                -297.80\n",
      "No. Observations:                    31   AIC:                             605.6\n",
      "Df Residuals:                        26   BIC:                             612.8\n",
      "Df Model:                             4                                         \n",
      "Covariance Type:              nonrobust                                         \n",
      "===================================================================================================\n",
      "                                      coef    std err          t      P>|t|      [0.025      0.975]\n",
      "---------------------------------------------------------------------------------------------------\n",
      "const                             684.0204   1003.640      0.682      0.502   -1378.991    2747.031\n",
      "AreaUnderOilSeeds_GroundNut_210     0.4940      0.128      3.870      0.001       0.232       0.756\n",
      "MotorVehicles_Tractors_514          4.8309      3.813      1.267      0.216      -3.006      12.668\n",
      "LivestockCensus_2012_Sheep_359     -0.0062      0.126     -0.050      0.961      -0.265       0.253\n",
      "TotalNPK_315                        3.7529      1.006      3.732      0.001       1.686       5.820\n",
      "==============================================================================\n",
      "Omnibus:                        3.219   Durbin-Watson:                   1.544\n",
      "Prob(Omnibus):                  0.200   Jarque-Bera (JB):                1.821\n",
      "Skew:                           0.464   Prob(JB):                        0.402\n",
      "Kurtosis:                       3.741   Cond. No.                     4.69e+04\n",
      "==============================================================================\n",
      "\n",
      "Notes:\n",
      "[1] Standard Errors assume that the covariance matrix of the errors is correctly specified.\n",
      "[2] The condition number is large, 4.69e+04. This might indicate that there are\n",
      "strong multicollinearity or other numerical problems.\n"
     ]
    },
    {
     "data": {
      "text/plain": [
       "array([ 0.4940275 ,  4.83090582, -0.00624362,  3.7529162 ])"
      ]
     },
     "execution_count": 8,
     "metadata": {},
     "output_type": "execute_result"
    }
   ],
   "source": [
    "model=sm.OLS(y,Case_file).fit()\n",
    "print(model.summary())\n",
    "model.params.values\n",
    "coef=model.params.values[1:]\n",
    "coef"
   ]
  },
  {
   "cell_type": "code",
   "execution_count": 9,
   "metadata": {},
   "outputs": [
    {
     "data": {
      "text/html": [
       "<div>\n",
       "<style scoped>\n",
       "    .dataframe tbody tr th:only-of-type {\n",
       "        vertical-align: middle;\n",
       "    }\n",
       "\n",
       "    .dataframe tbody tr th {\n",
       "        vertical-align: top;\n",
       "    }\n",
       "\n",
       "    .dataframe thead th {\n",
       "        text-align: right;\n",
       "    }\n",
       "</style>\n",
       "<table border=\"1\" class=\"dataframe\">\n",
       "  <thead>\n",
       "    <tr style=\"text-align: right;\">\n",
       "      <th></th>\n",
       "      <th>AreaUnderOilSeeds_GroundNut_210</th>\n",
       "      <th>MotorVehicles_Tractors_514</th>\n",
       "      <th>LivestockCensus_2012_Sheep_359</th>\n",
       "      <th>TotalNPK_315</th>\n",
       "    </tr>\n",
       "  </thead>\n",
       "  <tbody>\n",
       "    <tr>\n",
       "      <th>0</th>\n",
       "      <td>72.0</td>\n",
       "      <td>6.785923</td>\n",
       "      <td>35.835866</td>\n",
       "      <td>10.806111</td>\n",
       "    </tr>\n",
       "    <tr>\n",
       "      <th>1</th>\n",
       "      <td>175.0</td>\n",
       "      <td>0.748134</td>\n",
       "      <td>95.228861</td>\n",
       "      <td>14.687376</td>\n",
       "    </tr>\n",
       "    <tr>\n",
       "      <th>2</th>\n",
       "      <td>3307.0</td>\n",
       "      <td>156.804614</td>\n",
       "      <td>2102.339270</td>\n",
       "      <td>102.712727</td>\n",
       "    </tr>\n",
       "    <tr>\n",
       "      <th>3</th>\n",
       "      <td>96711.0</td>\n",
       "      <td>1423.861199</td>\n",
       "      <td>72011.816530</td>\n",
       "      <td>2748.901666</td>\n",
       "    </tr>\n",
       "    <tr>\n",
       "      <th>4</th>\n",
       "      <td>15279.0</td>\n",
       "      <td>233.171480</td>\n",
       "      <td>2474.543782</td>\n",
       "      <td>718.500139</td>\n",
       "    </tr>\n",
       "  </tbody>\n",
       "</table>\n",
       "</div>"
      ],
      "text/plain": [
       "   AreaUnderOilSeeds_GroundNut_210  MotorVehicles_Tractors_514  \\\n",
       "0                             72.0                    6.785923   \n",
       "1                            175.0                    0.748134   \n",
       "2                           3307.0                  156.804614   \n",
       "3                          96711.0                 1423.861199   \n",
       "4                          15279.0                  233.171480   \n",
       "\n",
       "   LivestockCensus_2012_Sheep_359  TotalNPK_315  \n",
       "0                       35.835866     10.806111  \n",
       "1                       95.228861     14.687376  \n",
       "2                     2102.339270    102.712727  \n",
       "3                    72011.816530   2748.901666  \n",
       "4                     2474.543782    718.500139  "
      ]
     },
     "execution_count": 9,
     "metadata": {},
     "output_type": "execute_result"
    }
   ],
   "source": [
    "Case_file.drop('const',axis=1,inplace=True)\n",
    "Case_file[:5]"
   ]
  },
  {
   "cell_type": "code",
   "execution_count": 10,
   "metadata": {},
   "outputs": [
    {
     "data": {
      "text/plain": [
       "<itertools.product at 0x24e03c6ff00>"
      ]
     },
     "execution_count": 10,
     "metadata": {},
     "output_type": "execute_result"
    }
   ],
   "source": [
    "Case_file.loc[:,'Beta_0'] = model.params.values[0]\n",
    "Case_file.loc[:,'Beta_1'] = coef[0]\n",
    "Case_file.loc[:,'Beta_2'] = coef[1]\n",
    "Case_file.loc[:,'Beta_3'] = coef[2]\n",
    "Case_file.loc[:,'Beta_4'] = coef[3]\n",
    "\n",
    "intervals = np.arange(0, 1.1, 0.1)\n",
    "columns=['Sensitivity_AreaUnderOilSeeds_GroundNut_210', 'Sensitivity_MotorVehicles_Tractors_514','Sensitivity_LivestockCensus_2012_Sheep_359','Sensitivity_TotalNPK_315']\n",
    "# Generate all possible combinations of elements in arr\n",
    "combinations = product(intervals, repeat=len(columns))\n",
    "combinations"
   ]
  },
  {
   "cell_type": "code",
   "execution_count": 11,
   "metadata": {},
   "outputs": [
    {
     "data": {
      "text/html": [
       "<div>\n",
       "<style scoped>\n",
       "    .dataframe tbody tr th:only-of-type {\n",
       "        vertical-align: middle;\n",
       "    }\n",
       "\n",
       "    .dataframe tbody tr th {\n",
       "        vertical-align: top;\n",
       "    }\n",
       "\n",
       "    .dataframe thead th {\n",
       "        text-align: right;\n",
       "    }\n",
       "</style>\n",
       "<table border=\"1\" class=\"dataframe\">\n",
       "  <thead>\n",
       "    <tr style=\"text-align: right;\">\n",
       "      <th></th>\n",
       "      <th>Sensitivity_AreaUnderOilSeeds_GroundNut_210</th>\n",
       "      <th>Sensitivity_MotorVehicles_Tractors_514</th>\n",
       "      <th>Sensitivity_LivestockCensus_2012_Sheep_359</th>\n",
       "      <th>Sensitivity_TotalNPK_315</th>\n",
       "    </tr>\n",
       "  </thead>\n",
       "  <tbody>\n",
       "    <tr>\n",
       "      <th>0</th>\n",
       "      <td>0.0</td>\n",
       "      <td>0.0</td>\n",
       "      <td>0.0</td>\n",
       "      <td>0.0</td>\n",
       "    </tr>\n",
       "    <tr>\n",
       "      <th>1</th>\n",
       "      <td>0.0</td>\n",
       "      <td>0.0</td>\n",
       "      <td>0.0</td>\n",
       "      <td>0.1</td>\n",
       "    </tr>\n",
       "    <tr>\n",
       "      <th>2</th>\n",
       "      <td>0.0</td>\n",
       "      <td>0.0</td>\n",
       "      <td>0.0</td>\n",
       "      <td>0.2</td>\n",
       "    </tr>\n",
       "    <tr>\n",
       "      <th>3</th>\n",
       "      <td>0.0</td>\n",
       "      <td>0.0</td>\n",
       "      <td>0.0</td>\n",
       "      <td>0.3</td>\n",
       "    </tr>\n",
       "    <tr>\n",
       "      <th>4</th>\n",
       "      <td>0.0</td>\n",
       "      <td>0.0</td>\n",
       "      <td>0.0</td>\n",
       "      <td>0.4</td>\n",
       "    </tr>\n",
       "    <tr>\n",
       "      <th>...</th>\n",
       "      <td>...</td>\n",
       "      <td>...</td>\n",
       "      <td>...</td>\n",
       "      <td>...</td>\n",
       "    </tr>\n",
       "    <tr>\n",
       "      <th>14636</th>\n",
       "      <td>1.0</td>\n",
       "      <td>1.0</td>\n",
       "      <td>1.0</td>\n",
       "      <td>0.6</td>\n",
       "    </tr>\n",
       "    <tr>\n",
       "      <th>14637</th>\n",
       "      <td>1.0</td>\n",
       "      <td>1.0</td>\n",
       "      <td>1.0</td>\n",
       "      <td>0.7</td>\n",
       "    </tr>\n",
       "    <tr>\n",
       "      <th>14638</th>\n",
       "      <td>1.0</td>\n",
       "      <td>1.0</td>\n",
       "      <td>1.0</td>\n",
       "      <td>0.8</td>\n",
       "    </tr>\n",
       "    <tr>\n",
       "      <th>14639</th>\n",
       "      <td>1.0</td>\n",
       "      <td>1.0</td>\n",
       "      <td>1.0</td>\n",
       "      <td>0.9</td>\n",
       "    </tr>\n",
       "    <tr>\n",
       "      <th>14640</th>\n",
       "      <td>1.0</td>\n",
       "      <td>1.0</td>\n",
       "      <td>1.0</td>\n",
       "      <td>1.0</td>\n",
       "    </tr>\n",
       "  </tbody>\n",
       "</table>\n",
       "<p>14641 rows × 4 columns</p>\n",
       "</div>"
      ],
      "text/plain": [
       "       Sensitivity_AreaUnderOilSeeds_GroundNut_210  \\\n",
       "0                                              0.0   \n",
       "1                                              0.0   \n",
       "2                                              0.0   \n",
       "3                                              0.0   \n",
       "4                                              0.0   \n",
       "...                                            ...   \n",
       "14636                                          1.0   \n",
       "14637                                          1.0   \n",
       "14638                                          1.0   \n",
       "14639                                          1.0   \n",
       "14640                                          1.0   \n",
       "\n",
       "       Sensitivity_MotorVehicles_Tractors_514  \\\n",
       "0                                         0.0   \n",
       "1                                         0.0   \n",
       "2                                         0.0   \n",
       "3                                         0.0   \n",
       "4                                         0.0   \n",
       "...                                       ...   \n",
       "14636                                     1.0   \n",
       "14637                                     1.0   \n",
       "14638                                     1.0   \n",
       "14639                                     1.0   \n",
       "14640                                     1.0   \n",
       "\n",
       "       Sensitivity_LivestockCensus_2012_Sheep_359  Sensitivity_TotalNPK_315  \n",
       "0                                             0.0                       0.0  \n",
       "1                                             0.0                       0.1  \n",
       "2                                             0.0                       0.2  \n",
       "3                                             0.0                       0.3  \n",
       "4                                             0.0                       0.4  \n",
       "...                                           ...                       ...  \n",
       "14636                                         1.0                       0.6  \n",
       "14637                                         1.0                       0.7  \n",
       "14638                                         1.0                       0.8  \n",
       "14639                                         1.0                       0.9  \n",
       "14640                                         1.0                       1.0  \n",
       "\n",
       "[14641 rows x 4 columns]"
      ]
     },
     "execution_count": 11,
     "metadata": {},
     "output_type": "execute_result"
    }
   ],
   "source": [
    "alpha_df = pd.DataFrame(combinations, columns=columns)\n",
    "alpha_df"
   ]
  },
  {
   "cell_type": "code",
   "execution_count": 12,
   "metadata": {},
   "outputs": [
    {
     "name": "stdout",
     "output_type": "stream",
     "text": [
      "        Sensitivity_AreaUnderOilSeeds_GroundNut_210  \\\n",
      "0                                               0.0   \n",
      "1                                               0.0   \n",
      "2                                               0.0   \n",
      "3                                               0.0   \n",
      "4                                               0.0   \n",
      "...                                             ...   \n",
      "453866                                          1.0   \n",
      "453867                                          1.0   \n",
      "453868                                          1.0   \n",
      "453869                                          1.0   \n",
      "453870                                          1.0   \n",
      "\n",
      "        Sensitivity_MotorVehicles_Tractors_514  \\\n",
      "0                                          0.0   \n",
      "1                                          0.0   \n",
      "2                                          0.0   \n",
      "3                                          0.0   \n",
      "4                                          0.0   \n",
      "...                                        ...   \n",
      "453866                                     1.0   \n",
      "453867                                     1.0   \n",
      "453868                                     1.0   \n",
      "453869                                     1.0   \n",
      "453870                                     1.0   \n",
      "\n",
      "        Sensitivity_LivestockCensus_2012_Sheep_359  Sensitivity_TotalNPK_315  \\\n",
      "0                                              0.0                       0.0   \n",
      "1                                              0.0                       0.0   \n",
      "2                                              0.0                       0.0   \n",
      "3                                              0.0                       0.0   \n",
      "4                                              0.0                       0.0   \n",
      "...                                            ...                       ...   \n",
      "453866                                         1.0                       1.0   \n",
      "453867                                         1.0                       1.0   \n",
      "453868                                         1.0                       1.0   \n",
      "453869                                         1.0                       1.0   \n",
      "453870                                         1.0                       1.0   \n",
      "\n",
      "        AreaUnderOilSeeds_GroundNut_210  MotorVehicles_Tractors_514  \\\n",
      "0                                  72.0                    6.785923   \n",
      "1                                 175.0                    0.748134   \n",
      "2                                3307.0                  156.804614   \n",
      "3                               96711.0                 1423.861199   \n",
      "4                               15279.0                  233.171480   \n",
      "...                                 ...                         ...   \n",
      "453866                           3817.0                   45.795271   \n",
      "453867                          38840.0                  469.698763   \n",
      "453868                          35960.0                  501.355902   \n",
      "453869                          22274.0                  384.479472   \n",
      "453870                          24881.0                  360.580271   \n",
      "\n",
      "        LivestockCensus_2012_Sheep_359  TotalNPK_315      Beta_0    Beta_1  \\\n",
      "0                            35.835866     10.806111  684.020375  0.494028   \n",
      "1                            95.228861     14.687376  684.020375  0.494028   \n",
      "2                          2102.339270    102.712727  684.020375  0.494028   \n",
      "3                         72011.816530   2748.901666  684.020375  0.494028   \n",
      "4                          2474.543782    718.500139  684.020375  0.494028   \n",
      "...                                ...           ...         ...       ...   \n",
      "453866                      280.247117    151.238385  684.020375  0.494028   \n",
      "453867                    21985.146630   4335.013151  684.020375  0.494028   \n",
      "453868                    12675.797000   2294.879709  684.020375  0.494028   \n",
      "453869                    12890.465430   1733.114796  684.020375  0.494028   \n",
      "453870                    11361.861650   1852.839641  684.020375  0.494028   \n",
      "\n",
      "          Beta_2    Beta_3    Beta_4  \n",
      "0       4.830906 -0.006244  3.752916  \n",
      "1       4.830906 -0.006244  3.752916  \n",
      "2       4.830906 -0.006244  3.752916  \n",
      "3       4.830906 -0.006244  3.752916  \n",
      "4       4.830906 -0.006244  3.752916  \n",
      "...          ...       ...       ...  \n",
      "453866  4.830906 -0.006244  3.752916  \n",
      "453867  4.830906 -0.006244  3.752916  \n",
      "453868  4.830906 -0.006244  3.752916  \n",
      "453869  4.830906 -0.006244  3.752916  \n",
      "453870  4.830906 -0.006244  3.752916  \n",
      "\n",
      "[453871 rows x 13 columns]\n"
     ]
    }
   ],
   "source": [
    "Case_file['key'] = 1\n",
    "alpha_df['key'] = 1\n",
    "\n",
    "# Performing the Cartesian product\n",
    "result_df = pd.merge( alpha_df, Case_file, on='key').drop('key', axis=1)\n",
    "\n",
    "print(result_df)"
   ]
  },
  {
   "cell_type": "code",
   "execution_count": 13,
   "metadata": {},
   "outputs": [
    {
     "data": {
      "text/plain": [
       "15097.387096774193"
      ]
     },
     "execution_count": 13,
     "metadata": {},
     "output_type": "execute_result"
    }
   ],
   "source": [
    "Working_Directory['Groundnut_Production'].mean()"
   ]
  },
  {
   "cell_type": "code",
   "execution_count": 14,
   "metadata": {},
   "outputs": [
    {
     "data": {
      "text/html": [
       "<div>\n",
       "<style scoped>\n",
       "    .dataframe tbody tr th:only-of-type {\n",
       "        vertical-align: middle;\n",
       "    }\n",
       "\n",
       "    .dataframe tbody tr th {\n",
       "        vertical-align: top;\n",
       "    }\n",
       "\n",
       "    .dataframe thead th {\n",
       "        text-align: right;\n",
       "    }\n",
       "</style>\n",
       "<table border=\"1\" class=\"dataframe\">\n",
       "  <thead>\n",
       "    <tr style=\"text-align: right;\">\n",
       "      <th></th>\n",
       "      <th>Sensitivity_AreaUnderOilSeeds_GroundNut_210</th>\n",
       "      <th>Sensitivity_MotorVehicles_Tractors_514</th>\n",
       "      <th>Sensitivity_LivestockCensus_2012_Sheep_359</th>\n",
       "      <th>Sensitivity_TotalNPK_315</th>\n",
       "      <th>AreaUnderOilSeeds_GroundNut_210</th>\n",
       "      <th>MotorVehicles_Tractors_514</th>\n",
       "      <th>LivestockCensus_2012_Sheep_359</th>\n",
       "      <th>TotalNPK_315</th>\n",
       "      <th>Beta_0</th>\n",
       "      <th>Beta_1</th>\n",
       "      <th>Beta_2</th>\n",
       "      <th>Beta_3</th>\n",
       "      <th>Beta_4</th>\n",
       "      <th>New_F1</th>\n",
       "      <th>New_F2</th>\n",
       "      <th>New_F3</th>\n",
       "      <th>New_F4</th>\n",
       "      <th>District</th>\n",
       "    </tr>\n",
       "  </thead>\n",
       "  <tbody>\n",
       "    <tr>\n",
       "      <th>0</th>\n",
       "      <td>0.0</td>\n",
       "      <td>0.0</td>\n",
       "      <td>0.0</td>\n",
       "      <td>0.0</td>\n",
       "      <td>72.0</td>\n",
       "      <td>6.785923</td>\n",
       "      <td>35.835866</td>\n",
       "      <td>10.806111</td>\n",
       "      <td>684.020375</td>\n",
       "      <td>0.494028</td>\n",
       "      <td>4.830906</td>\n",
       "      <td>-0.006244</td>\n",
       "      <td>3.752916</td>\n",
       "      <td>72.000000</td>\n",
       "      <td>6.785923</td>\n",
       "      <td>35.835866</td>\n",
       "      <td>10.806111</td>\n",
       "      <td>BENGALURU</td>\n",
       "    </tr>\n",
       "    <tr>\n",
       "      <th>1</th>\n",
       "      <td>0.0</td>\n",
       "      <td>0.0</td>\n",
       "      <td>0.0</td>\n",
       "      <td>0.0</td>\n",
       "      <td>175.0</td>\n",
       "      <td>0.748134</td>\n",
       "      <td>95.228861</td>\n",
       "      <td>14.687376</td>\n",
       "      <td>684.020375</td>\n",
       "      <td>0.494028</td>\n",
       "      <td>4.830906</td>\n",
       "      <td>-0.006244</td>\n",
       "      <td>3.752916</td>\n",
       "      <td>175.000000</td>\n",
       "      <td>0.748134</td>\n",
       "      <td>95.228861</td>\n",
       "      <td>14.687376</td>\n",
       "      <td>BENGALURU(R)</td>\n",
       "    </tr>\n",
       "    <tr>\n",
       "      <th>2</th>\n",
       "      <td>0.0</td>\n",
       "      <td>0.0</td>\n",
       "      <td>0.0</td>\n",
       "      <td>0.0</td>\n",
       "      <td>3307.0</td>\n",
       "      <td>156.804614</td>\n",
       "      <td>2102.339270</td>\n",
       "      <td>102.712727</td>\n",
       "      <td>684.020375</td>\n",
       "      <td>0.494028</td>\n",
       "      <td>4.830906</td>\n",
       "      <td>-0.006244</td>\n",
       "      <td>3.752916</td>\n",
       "      <td>3307.000000</td>\n",
       "      <td>156.804614</td>\n",
       "      <td>2102.339270</td>\n",
       "      <td>102.712727</td>\n",
       "      <td>RAMANAGARA</td>\n",
       "    </tr>\n",
       "    <tr>\n",
       "      <th>3</th>\n",
       "      <td>0.0</td>\n",
       "      <td>0.0</td>\n",
       "      <td>0.0</td>\n",
       "      <td>0.0</td>\n",
       "      <td>96711.0</td>\n",
       "      <td>1423.861199</td>\n",
       "      <td>72011.816530</td>\n",
       "      <td>2748.901666</td>\n",
       "      <td>684.020375</td>\n",
       "      <td>0.494028</td>\n",
       "      <td>4.830906</td>\n",
       "      <td>-0.006244</td>\n",
       "      <td>3.752916</td>\n",
       "      <td>96711.000000</td>\n",
       "      <td>1423.861199</td>\n",
       "      <td>72011.816530</td>\n",
       "      <td>2748.901666</td>\n",
       "      <td>CHITRADURGA</td>\n",
       "    </tr>\n",
       "    <tr>\n",
       "      <th>4</th>\n",
       "      <td>0.0</td>\n",
       "      <td>0.0</td>\n",
       "      <td>0.0</td>\n",
       "      <td>0.0</td>\n",
       "      <td>15279.0</td>\n",
       "      <td>233.171480</td>\n",
       "      <td>2474.543782</td>\n",
       "      <td>718.500139</td>\n",
       "      <td>684.020375</td>\n",
       "      <td>0.494028</td>\n",
       "      <td>4.830906</td>\n",
       "      <td>-0.006244</td>\n",
       "      <td>3.752916</td>\n",
       "      <td>15279.000000</td>\n",
       "      <td>233.171480</td>\n",
       "      <td>2474.543782</td>\n",
       "      <td>718.500139</td>\n",
       "      <td>DAVANAGERE</td>\n",
       "    </tr>\n",
       "    <tr>\n",
       "      <th>...</th>\n",
       "      <td>...</td>\n",
       "      <td>...</td>\n",
       "      <td>...</td>\n",
       "      <td>...</td>\n",
       "      <td>...</td>\n",
       "      <td>...</td>\n",
       "      <td>...</td>\n",
       "      <td>...</td>\n",
       "      <td>...</td>\n",
       "      <td>...</td>\n",
       "      <td>...</td>\n",
       "      <td>...</td>\n",
       "      <td>...</td>\n",
       "      <td>...</td>\n",
       "      <td>...</td>\n",
       "      <td>...</td>\n",
       "      <td>...</td>\n",
       "      <td>...</td>\n",
       "    </tr>\n",
       "    <tr>\n",
       "      <th>453866</th>\n",
       "      <td>1.0</td>\n",
       "      <td>1.0</td>\n",
       "      <td>1.0</td>\n",
       "      <td>1.0</td>\n",
       "      <td>3817.0</td>\n",
       "      <td>45.795271</td>\n",
       "      <td>280.247117</td>\n",
       "      <td>151.238385</td>\n",
       "      <td>684.020375</td>\n",
       "      <td>0.494028</td>\n",
       "      <td>4.830906</td>\n",
       "      <td>-0.006244</td>\n",
       "      <td>3.752916</td>\n",
       "      <td>13937.894063</td>\n",
       "      <td>1080.797854</td>\n",
       "      <td>0.000000</td>\n",
       "      <td>1483.535652</td>\n",
       "      <td>KALABURAGI</td>\n",
       "    </tr>\n",
       "    <tr>\n",
       "      <th>453867</th>\n",
       "      <td>1.0</td>\n",
       "      <td>1.0</td>\n",
       "      <td>1.0</td>\n",
       "      <td>1.0</td>\n",
       "      <td>38840.0</td>\n",
       "      <td>469.698763</td>\n",
       "      <td>21985.146630</td>\n",
       "      <td>4335.013151</td>\n",
       "      <td>684.020375</td>\n",
       "      <td>0.494028</td>\n",
       "      <td>4.830906</td>\n",
       "      <td>-0.006244</td>\n",
       "      <td>3.752916</td>\n",
       "      <td>48960.894063</td>\n",
       "      <td>1504.701346</td>\n",
       "      <td>0.000000</td>\n",
       "      <td>5667.310418</td>\n",
       "      <td>YADGIRI</td>\n",
       "    </tr>\n",
       "    <tr>\n",
       "      <th>453868</th>\n",
       "      <td>1.0</td>\n",
       "      <td>1.0</td>\n",
       "      <td>1.0</td>\n",
       "      <td>1.0</td>\n",
       "      <td>35960.0</td>\n",
       "      <td>501.355902</td>\n",
       "      <td>12675.797000</td>\n",
       "      <td>2294.879709</td>\n",
       "      <td>684.020375</td>\n",
       "      <td>0.494028</td>\n",
       "      <td>4.830906</td>\n",
       "      <td>-0.006244</td>\n",
       "      <td>3.752916</td>\n",
       "      <td>46080.894063</td>\n",
       "      <td>1536.358485</td>\n",
       "      <td>0.000000</td>\n",
       "      <td>3627.176976</td>\n",
       "      <td>RAICHUR</td>\n",
       "    </tr>\n",
       "    <tr>\n",
       "      <th>453869</th>\n",
       "      <td>1.0</td>\n",
       "      <td>1.0</td>\n",
       "      <td>1.0</td>\n",
       "      <td>1.0</td>\n",
       "      <td>22274.0</td>\n",
       "      <td>384.479472</td>\n",
       "      <td>12890.465430</td>\n",
       "      <td>1733.114796</td>\n",
       "      <td>684.020375</td>\n",
       "      <td>0.494028</td>\n",
       "      <td>4.830906</td>\n",
       "      <td>-0.006244</td>\n",
       "      <td>3.752916</td>\n",
       "      <td>32394.894063</td>\n",
       "      <td>1419.482055</td>\n",
       "      <td>0.000000</td>\n",
       "      <td>3065.412063</td>\n",
       "      <td>KOPPAL</td>\n",
       "    </tr>\n",
       "    <tr>\n",
       "      <th>453870</th>\n",
       "      <td>1.0</td>\n",
       "      <td>1.0</td>\n",
       "      <td>1.0</td>\n",
       "      <td>1.0</td>\n",
       "      <td>24881.0</td>\n",
       "      <td>360.580271</td>\n",
       "      <td>11361.861650</td>\n",
       "      <td>1852.839641</td>\n",
       "      <td>684.020375</td>\n",
       "      <td>0.494028</td>\n",
       "      <td>4.830906</td>\n",
       "      <td>-0.006244</td>\n",
       "      <td>3.752916</td>\n",
       "      <td>35001.894063</td>\n",
       "      <td>1395.582854</td>\n",
       "      <td>0.000000</td>\n",
       "      <td>3185.136908</td>\n",
       "      <td>VIJAYANAGARA</td>\n",
       "    </tr>\n",
       "  </tbody>\n",
       "</table>\n",
       "<p>453871 rows × 18 columns</p>\n",
       "</div>"
      ],
      "text/plain": [
       "        Sensitivity_AreaUnderOilSeeds_GroundNut_210  \\\n",
       "0                                               0.0   \n",
       "1                                               0.0   \n",
       "2                                               0.0   \n",
       "3                                               0.0   \n",
       "4                                               0.0   \n",
       "...                                             ...   \n",
       "453866                                          1.0   \n",
       "453867                                          1.0   \n",
       "453868                                          1.0   \n",
       "453869                                          1.0   \n",
       "453870                                          1.0   \n",
       "\n",
       "        Sensitivity_MotorVehicles_Tractors_514  \\\n",
       "0                                          0.0   \n",
       "1                                          0.0   \n",
       "2                                          0.0   \n",
       "3                                          0.0   \n",
       "4                                          0.0   \n",
       "...                                        ...   \n",
       "453866                                     1.0   \n",
       "453867                                     1.0   \n",
       "453868                                     1.0   \n",
       "453869                                     1.0   \n",
       "453870                                     1.0   \n",
       "\n",
       "        Sensitivity_LivestockCensus_2012_Sheep_359  Sensitivity_TotalNPK_315  \\\n",
       "0                                              0.0                       0.0   \n",
       "1                                              0.0                       0.0   \n",
       "2                                              0.0                       0.0   \n",
       "3                                              0.0                       0.0   \n",
       "4                                              0.0                       0.0   \n",
       "...                                            ...                       ...   \n",
       "453866                                         1.0                       1.0   \n",
       "453867                                         1.0                       1.0   \n",
       "453868                                         1.0                       1.0   \n",
       "453869                                         1.0                       1.0   \n",
       "453870                                         1.0                       1.0   \n",
       "\n",
       "        AreaUnderOilSeeds_GroundNut_210  MotorVehicles_Tractors_514  \\\n",
       "0                                  72.0                    6.785923   \n",
       "1                                 175.0                    0.748134   \n",
       "2                                3307.0                  156.804614   \n",
       "3                               96711.0                 1423.861199   \n",
       "4                               15279.0                  233.171480   \n",
       "...                                 ...                         ...   \n",
       "453866                           3817.0                   45.795271   \n",
       "453867                          38840.0                  469.698763   \n",
       "453868                          35960.0                  501.355902   \n",
       "453869                          22274.0                  384.479472   \n",
       "453870                          24881.0                  360.580271   \n",
       "\n",
       "        LivestockCensus_2012_Sheep_359  TotalNPK_315      Beta_0    Beta_1  \\\n",
       "0                            35.835866     10.806111  684.020375  0.494028   \n",
       "1                            95.228861     14.687376  684.020375  0.494028   \n",
       "2                          2102.339270    102.712727  684.020375  0.494028   \n",
       "3                         72011.816530   2748.901666  684.020375  0.494028   \n",
       "4                          2474.543782    718.500139  684.020375  0.494028   \n",
       "...                                ...           ...         ...       ...   \n",
       "453866                      280.247117    151.238385  684.020375  0.494028   \n",
       "453867                    21985.146630   4335.013151  684.020375  0.494028   \n",
       "453868                    12675.797000   2294.879709  684.020375  0.494028   \n",
       "453869                    12890.465430   1733.114796  684.020375  0.494028   \n",
       "453870                    11361.861650   1852.839641  684.020375  0.494028   \n",
       "\n",
       "          Beta_2    Beta_3    Beta_4        New_F1       New_F2        New_F3  \\\n",
       "0       4.830906 -0.006244  3.752916     72.000000     6.785923     35.835866   \n",
       "1       4.830906 -0.006244  3.752916    175.000000     0.748134     95.228861   \n",
       "2       4.830906 -0.006244  3.752916   3307.000000   156.804614   2102.339270   \n",
       "3       4.830906 -0.006244  3.752916  96711.000000  1423.861199  72011.816530   \n",
       "4       4.830906 -0.006244  3.752916  15279.000000   233.171480   2474.543782   \n",
       "...          ...       ...       ...           ...          ...           ...   \n",
       "453866  4.830906 -0.006244  3.752916  13937.894063  1080.797854      0.000000   \n",
       "453867  4.830906 -0.006244  3.752916  48960.894063  1504.701346      0.000000   \n",
       "453868  4.830906 -0.006244  3.752916  46080.894063  1536.358485      0.000000   \n",
       "453869  4.830906 -0.006244  3.752916  32394.894063  1419.482055      0.000000   \n",
       "453870  4.830906 -0.006244  3.752916  35001.894063  1395.582854      0.000000   \n",
       "\n",
       "             New_F4      District  \n",
       "0         10.806111     BENGALURU  \n",
       "1         14.687376  BENGALURU(R)  \n",
       "2        102.712727    RAMANAGARA  \n",
       "3       2748.901666   CHITRADURGA  \n",
       "4        718.500139    DAVANAGERE  \n",
       "...             ...           ...  \n",
       "453866  1483.535652    KALABURAGI  \n",
       "453867  5667.310418       YADGIRI  \n",
       "453868  3627.176976       RAICHUR  \n",
       "453869  3065.412063        KOPPAL  \n",
       "453870  3185.136908  VIJAYANAGARA  \n",
       "\n",
       "[453871 rows x 18 columns]"
      ]
     },
     "execution_count": 14,
     "metadata": {},
     "output_type": "execute_result"
    }
   ],
   "source": [
    "delta_O = 5000\n",
    "\n",
    "result_df['New_F1'] = result_df['AreaUnderOilSeeds_GroundNut_210'] + (result_df['Sensitivity_AreaUnderOilSeeds_GroundNut_210']*delta_O)/result_df['Beta_1']\n",
    "result_df['New_F2'] = result_df['MotorVehicles_Tractors_514'] + (result_df['Sensitivity_MotorVehicles_Tractors_514']*delta_O)/result_df['Beta_2']\n",
    "result_df['New_F3'] = result_df['LivestockCensus_2012_Sheep_359'] + (result_df['Sensitivity_LivestockCensus_2012_Sheep_359']*delta_O)/result_df['Beta_3']\n",
    "result_df['New_F4'] = result_df['TotalNPK_315'] + (result_df['Sensitivity_TotalNPK_315']*delta_O)/result_df['Beta_4']\n",
    "\n",
    "result_df['District'] = np.tile(Working_Directory['District'],11**4)\n",
    "\n",
    "result_df['New_F1'] = result_df['New_F1'].apply(lambda x: max(0, x))\n",
    "result_df['New_F2'] = result_df['New_F2'].apply(lambda x: max(0, x))\n",
    "result_df['New_F3'] = result_df['New_F3'].apply(lambda x: max(0, x))\n",
    "result_df['New_F4'] = result_df['New_F4'].apply(lambda x: max(0, x))\n",
    "\n",
    "result_df"
   ]
  },
  {
   "cell_type": "code",
   "execution_count": 15,
   "metadata": {},
   "outputs": [],
   "source": [
    "def normalize_list(lst):\n",
    "    min_val = min(lst)\n",
    "    max_val = max(lst)\n",
    "    normalized_lst = [(x - min_val) / (max_val - min_val) for x in lst]\n",
    "    return normalized_lst"
   ]
  },
  {
   "cell_type": "code",
   "execution_count": 16,
   "metadata": {},
   "outputs": [
    {
     "name": "stdout",
     "output_type": "stream",
     "text": [
      "    1   2   3   4   5   6   7   8   9   10  ...  22  23  24  25  26  27  28  \\\n",
      "1    0   1   1   0   0   0   0   0   0   0  ...   0   0   0   0   0   0   0   \n",
      "2    1   0   1   0   0   1   1   0   1   0  ...   0   0   0   0   0   0   0   \n",
      "3    1   1   0   0   0   0   0   0   1   0  ...   0   0   0   0   0   0   0   \n",
      "4    0   0   0   0   1   0   0   0   1   1  ...   0   0   0   1   0   0   0   \n",
      "5    0   0   0   1   0   0   0   1   0   1  ...   0   1   0   1   0   0   0   \n",
      "6    0   1   0   0   0   0   1   0   0   0  ...   0   0   0   0   0   0   0   \n",
      "7    0   1   0   0   0   1   0   0   1   0  ...   0   0   0   0   0   0   0   \n",
      "8    0   0   0   0   1   0   0   0   0   1  ...   0   1   1   0   0   0   0   \n",
      "9    0   1   1   1   0   0   1   0   0   1  ...   0   0   0   0   0   0   0   \n",
      "10   0   0   0   1   1   0   0   1   1   0  ...   0   0   0   0   0   0   0   \n",
      "11   0   0   0   0   0   0   0   0   0   1  ...   0   0   0   0   0   0   0   \n",
      "12   0   0   0   0   0   0   0   1   0   1  ...   0   0   1   0   0   0   0   \n",
      "13   0   0   0   0   0   0   0   0   1   1  ...   0   0   0   0   0   0   0   \n",
      "14   0   0   0   0   0   0   0   0   0   0  ...   0   0   0   0   0   0   0   \n",
      "15   0   0   1   0   0   0   0   0   1   0  ...   0   0   0   0   0   0   0   \n",
      "16   0   0   0   0   0   0   0   0   0   0  ...   0   0   0   0   0   0   0   \n",
      "17   0   0   1   0   0   0   0   0   0   0  ...   0   0   0   0   0   0   0   \n",
      "18   0   0   0   0   0   0   0   0   0   0  ...   1   0   1   0   0   0   0   \n",
      "19   0   0   0   0   0   0   0   0   0   0  ...   0   0   0   0   0   1   1   \n",
      "20   0   0   0   0   0   0   0   0   0   0  ...   1   0   0   0   0   0   0   \n",
      "21   0   0   0   0   0   0   0   0   0   0  ...   1   1   1   0   0   0   0   \n",
      "22   0   0   0   0   0   0   0   0   0   0  ...   0   1   0   1   0   0   0   \n",
      "23   0   0   0   0   1   0   0   1   0   0  ...   1   0   1   1   0   0   0   \n",
      "24   0   0   0   0   0   0   0   1   0   0  ...   0   1   0   0   0   0   0   \n",
      "25   0   0   0   1   1   0   0   0   0   0  ...   1   1   0   0   0   0   0   \n",
      "26   0   0   0   0   0   0   0   0   0   0  ...   0   0   0   0   0   1   0   \n",
      "27   0   0   0   0   0   0   0   0   0   0  ...   0   0   0   0   1   0   1   \n",
      "28   0   0   0   0   0   0   0   0   0   0  ...   0   0   0   0   0   1   0   \n",
      "29   0   0   0   0   0   0   0   0   0   0  ...   0   0   0   1   0   0   1   \n",
      "30   0   0   0   0   0   0   0   0   0   0  ...   1   0   0   1   0   0   0   \n",
      "31   0   0   0   1   1   0   0   0   0   0  ...   1   1   0   1   0   0   0   \n",
      "\n",
      "    29  30  31  \n",
      "1    0   0   0  \n",
      "2    0   0   0  \n",
      "3    0   0   0  \n",
      "4    0   0   1  \n",
      "5    0   0   1  \n",
      "6    0   0   0  \n",
      "7    0   0   0  \n",
      "8    0   0   0  \n",
      "9    0   0   0  \n",
      "10   0   0   0  \n",
      "11   0   0   0  \n",
      "12   0   0   0  \n",
      "13   0   0   0  \n",
      "14   0   0   0  \n",
      "15   0   0   0  \n",
      "16   0   0   0  \n",
      "17   0   0   0  \n",
      "18   0   0   0  \n",
      "19   1   0   0  \n",
      "20   1   1   0  \n",
      "21   0   0   0  \n",
      "22   0   1   1  \n",
      "23   0   0   1  \n",
      "24   0   0   0  \n",
      "25   1   1   1  \n",
      "26   0   0   0  \n",
      "27   0   0   0  \n",
      "28   1   0   0  \n",
      "29   0   1   0  \n",
      "30   1   0   1  \n",
      "31   0   1   0  \n",
      "\n",
      "[31 rows x 31 columns]\n"
     ]
    }
   ],
   "source": [
    "import pandas as pd\n",
    "import numpy as np\n",
    "\n",
    "adjacency_excel = pd.read_excel('Karnataka_District_Adjacency_File.xlsx')\n",
    "\n",
    "district_codes = sorted(set(adjacency_excel['District_Code']))\n",
    "\n",
    "n = len(district_codes)\n",
    "adj_matrix = np.zeros((n, n), dtype=int)\n",
    "\n",
    "code_to_index = {code: idx for idx, code in enumerate(district_codes)}\n",
    "\n",
    "for i in range(len(adjacency_excel)):\n",
    "    district_code = adjacency_excel['District_Code'][i]\n",
    "    neighbors = [int(num) for num in str(adjacency_excel['District_Neighbors'][i]).split(',') if num.strip().isdigit()]\n",
    "    \n",
    "    for neighbor in neighbors:\n",
    "        adj_matrix[code_to_index[district_code]][code_to_index[neighbor]] = 1\n",
    "        adj_matrix[code_to_index[neighbor]][code_to_index[district_code]] = 1  # Assuming adjacency is bidirectional\n",
    "\n",
    "adj_matrix_df = pd.DataFrame(adj_matrix, index=district_codes, columns=district_codes)\n",
    "\n",
    "print(adj_matrix_df)\n",
    "\n",
    "adj_matrix_np = adj_matrix_df.to_numpy()"
   ]
  },
  {
   "cell_type": "code",
   "execution_count": 17,
   "metadata": {},
   "outputs": [
    {
     "data": {
      "text/html": [
       "<div>\n",
       "<style scoped>\n",
       "    .dataframe tbody tr th:only-of-type {\n",
       "        vertical-align: middle;\n",
       "    }\n",
       "\n",
       "    .dataframe tbody tr th {\n",
       "        vertical-align: top;\n",
       "    }\n",
       "\n",
       "    .dataframe thead th {\n",
       "        text-align: right;\n",
       "    }\n",
       "</style>\n",
       "<table border=\"1\" class=\"dataframe\">\n",
       "  <thead>\n",
       "    <tr style=\"text-align: right;\">\n",
       "      <th></th>\n",
       "      <th>Sensitivity_AreaUnderOilSeeds_GroundNut_210</th>\n",
       "      <th>Sensitivity_MotorVehicles_Tractors_514</th>\n",
       "      <th>Sensitivity_LivestockCensus_2012_Sheep_359</th>\n",
       "      <th>Sensitivity_TotalNPK_315</th>\n",
       "      <th>AreaUnderOilSeeds_GroundNut_210</th>\n",
       "      <th>MotorVehicles_Tractors_514</th>\n",
       "      <th>LivestockCensus_2012_Sheep_359</th>\n",
       "      <th>TotalNPK_315</th>\n",
       "      <th>Beta_0</th>\n",
       "      <th>Beta_1</th>\n",
       "      <th>Beta_2</th>\n",
       "      <th>Beta_3</th>\n",
       "      <th>Beta_4</th>\n",
       "      <th>New_F1</th>\n",
       "      <th>New_F2</th>\n",
       "      <th>New_F3</th>\n",
       "      <th>New_F4</th>\n",
       "      <th>District</th>\n",
       "      <th>New_Production</th>\n",
       "    </tr>\n",
       "  </thead>\n",
       "  <tbody>\n",
       "    <tr>\n",
       "      <th>0</th>\n",
       "      <td>0.0</td>\n",
       "      <td>0.0</td>\n",
       "      <td>0.0</td>\n",
       "      <td>0.0</td>\n",
       "      <td>72.0</td>\n",
       "      <td>6.785923</td>\n",
       "      <td>35.835866</td>\n",
       "      <td>10.806111</td>\n",
       "      <td>684.020375</td>\n",
       "      <td>0.494028</td>\n",
       "      <td>4.830906</td>\n",
       "      <td>-0.006244</td>\n",
       "      <td>3.752916</td>\n",
       "      <td>72.000000</td>\n",
       "      <td>6.785923</td>\n",
       "      <td>35.835866</td>\n",
       "      <td>10.806111</td>\n",
       "      <td>BENGALURU</td>\n",
       "      <td>792.703194</td>\n",
       "    </tr>\n",
       "    <tr>\n",
       "      <th>1</th>\n",
       "      <td>0.0</td>\n",
       "      <td>0.0</td>\n",
       "      <td>0.0</td>\n",
       "      <td>0.0</td>\n",
       "      <td>175.0</td>\n",
       "      <td>0.748134</td>\n",
       "      <td>95.228861</td>\n",
       "      <td>14.687376</td>\n",
       "      <td>684.020375</td>\n",
       "      <td>0.494028</td>\n",
       "      <td>4.830906</td>\n",
       "      <td>-0.006244</td>\n",
       "      <td>3.752916</td>\n",
       "      <td>175.000000</td>\n",
       "      <td>0.748134</td>\n",
       "      <td>95.228861</td>\n",
       "      <td>14.687376</td>\n",
       "      <td>BENGALURU(R)</td>\n",
       "      <td>828.615271</td>\n",
       "    </tr>\n",
       "    <tr>\n",
       "      <th>2</th>\n",
       "      <td>0.0</td>\n",
       "      <td>0.0</td>\n",
       "      <td>0.0</td>\n",
       "      <td>0.0</td>\n",
       "      <td>3307.0</td>\n",
       "      <td>156.804614</td>\n",
       "      <td>2102.339270</td>\n",
       "      <td>102.712727</td>\n",
       "      <td>684.020375</td>\n",
       "      <td>0.494028</td>\n",
       "      <td>4.830906</td>\n",
       "      <td>-0.006244</td>\n",
       "      <td>3.752916</td>\n",
       "      <td>3307.000000</td>\n",
       "      <td>156.804614</td>\n",
       "      <td>2102.339270</td>\n",
       "      <td>102.712727</td>\n",
       "      <td>RAMANAGARA</td>\n",
       "      <td>3447.623683</td>\n",
       "    </tr>\n",
       "    <tr>\n",
       "      <th>3</th>\n",
       "      <td>0.0</td>\n",
       "      <td>0.0</td>\n",
       "      <td>0.0</td>\n",
       "      <td>0.0</td>\n",
       "      <td>96711.0</td>\n",
       "      <td>1423.861199</td>\n",
       "      <td>72011.816530</td>\n",
       "      <td>2748.901666</td>\n",
       "      <td>684.020375</td>\n",
       "      <td>0.494028</td>\n",
       "      <td>4.830906</td>\n",
       "      <td>-0.006244</td>\n",
       "      <td>3.752916</td>\n",
       "      <td>96711.000000</td>\n",
       "      <td>1423.861199</td>\n",
       "      <td>72011.816530</td>\n",
       "      <td>2748.901666</td>\n",
       "      <td>CHITRADURGA</td>\n",
       "      <td>65207.236233</td>\n",
       "    </tr>\n",
       "    <tr>\n",
       "      <th>4</th>\n",
       "      <td>0.0</td>\n",
       "      <td>0.0</td>\n",
       "      <td>0.0</td>\n",
       "      <td>0.0</td>\n",
       "      <td>15279.0</td>\n",
       "      <td>233.171480</td>\n",
       "      <td>2474.543782</td>\n",
       "      <td>718.500139</td>\n",
       "      <td>684.020375</td>\n",
       "      <td>0.494028</td>\n",
       "      <td>4.830906</td>\n",
       "      <td>-0.006244</td>\n",
       "      <td>3.752916</td>\n",
       "      <td>15279.000000</td>\n",
       "      <td>233.171480</td>\n",
       "      <td>2474.543782</td>\n",
       "      <td>718.500139</td>\n",
       "      <td>DAVANAGERE</td>\n",
       "      <td>12039.716711</td>\n",
       "    </tr>\n",
       "    <tr>\n",
       "      <th>...</th>\n",
       "      <td>...</td>\n",
       "      <td>...</td>\n",
       "      <td>...</td>\n",
       "      <td>...</td>\n",
       "      <td>...</td>\n",
       "      <td>...</td>\n",
       "      <td>...</td>\n",
       "      <td>...</td>\n",
       "      <td>...</td>\n",
       "      <td>...</td>\n",
       "      <td>...</td>\n",
       "      <td>...</td>\n",
       "      <td>...</td>\n",
       "      <td>...</td>\n",
       "      <td>...</td>\n",
       "      <td>...</td>\n",
       "      <td>...</td>\n",
       "      <td>...</td>\n",
       "      <td>...</td>\n",
       "    </tr>\n",
       "    <tr>\n",
       "      <th>453866</th>\n",
       "      <td>1.0</td>\n",
       "      <td>1.0</td>\n",
       "      <td>1.0</td>\n",
       "      <td>1.0</td>\n",
       "      <td>3817.0</td>\n",
       "      <td>45.795271</td>\n",
       "      <td>280.247117</td>\n",
       "      <td>151.238385</td>\n",
       "      <td>684.020375</td>\n",
       "      <td>0.494028</td>\n",
       "      <td>4.830906</td>\n",
       "      <td>-0.006244</td>\n",
       "      <td>3.752916</td>\n",
       "      <td>13937.894063</td>\n",
       "      <td>1080.797854</td>\n",
       "      <td>0.000000</td>\n",
       "      <td>1483.535652</td>\n",
       "      <td>KALABURAGI</td>\n",
       "      <td>18358.540972</td>\n",
       "    </tr>\n",
       "    <tr>\n",
       "      <th>453867</th>\n",
       "      <td>1.0</td>\n",
       "      <td>1.0</td>\n",
       "      <td>1.0</td>\n",
       "      <td>1.0</td>\n",
       "      <td>38840.0</td>\n",
       "      <td>469.698763</td>\n",
       "      <td>21985.146630</td>\n",
       "      <td>4335.013151</td>\n",
       "      <td>684.020375</td>\n",
       "      <td>0.494028</td>\n",
       "      <td>4.830906</td>\n",
       "      <td>-0.006244</td>\n",
       "      <td>3.752916</td>\n",
       "      <td>48960.894063</td>\n",
       "      <td>1504.701346</td>\n",
       "      <td>0.000000</td>\n",
       "      <td>5667.310418</td>\n",
       "      <td>YADGIRI</td>\n",
       "      <td>53410.060085</td>\n",
       "    </tr>\n",
       "    <tr>\n",
       "      <th>453868</th>\n",
       "      <td>1.0</td>\n",
       "      <td>1.0</td>\n",
       "      <td>1.0</td>\n",
       "      <td>1.0</td>\n",
       "      <td>35960.0</td>\n",
       "      <td>501.355902</td>\n",
       "      <td>12675.797000</td>\n",
       "      <td>2294.879709</td>\n",
       "      <td>684.020375</td>\n",
       "      <td>0.494028</td>\n",
       "      <td>4.830906</td>\n",
       "      <td>-0.006244</td>\n",
       "      <td>3.752916</td>\n",
       "      <td>46080.894063</td>\n",
       "      <td>1536.358485</td>\n",
       "      <td>0.000000</td>\n",
       "      <td>3627.176976</td>\n",
       "      <td>RAICHUR</td>\n",
       "      <td>44483.743689</td>\n",
       "    </tr>\n",
       "    <tr>\n",
       "      <th>453869</th>\n",
       "      <td>1.0</td>\n",
       "      <td>1.0</td>\n",
       "      <td>1.0</td>\n",
       "      <td>1.0</td>\n",
       "      <td>22274.0</td>\n",
       "      <td>384.479472</td>\n",
       "      <td>12890.465430</td>\n",
       "      <td>1733.114796</td>\n",
       "      <td>684.020375</td>\n",
       "      <td>0.494028</td>\n",
       "      <td>4.830906</td>\n",
       "      <td>-0.006244</td>\n",
       "      <td>3.752916</td>\n",
       "      <td>32394.894063</td>\n",
       "      <td>1419.482055</td>\n",
       "      <td>0.000000</td>\n",
       "      <td>3065.412063</td>\n",
       "      <td>KOPPAL</td>\n",
       "      <td>35049.607646</td>\n",
       "    </tr>\n",
       "    <tr>\n",
       "      <th>453870</th>\n",
       "      <td>1.0</td>\n",
       "      <td>1.0</td>\n",
       "      <td>1.0</td>\n",
       "      <td>1.0</td>\n",
       "      <td>24881.0</td>\n",
       "      <td>360.580271</td>\n",
       "      <td>11361.861650</td>\n",
       "      <td>1852.839641</td>\n",
       "      <td>684.020375</td>\n",
       "      <td>0.494028</td>\n",
       "      <td>4.830906</td>\n",
       "      <td>-0.006244</td>\n",
       "      <td>3.752916</td>\n",
       "      <td>35001.894063</td>\n",
       "      <td>1395.582854</td>\n",
       "      <td>0.000000</td>\n",
       "      <td>3185.136908</td>\n",
       "      <td>VIJAYANAGARA</td>\n",
       "      <td>36671.399863</td>\n",
       "    </tr>\n",
       "  </tbody>\n",
       "</table>\n",
       "<p>453871 rows × 19 columns</p>\n",
       "</div>"
      ],
      "text/plain": [
       "        Sensitivity_AreaUnderOilSeeds_GroundNut_210  \\\n",
       "0                                               0.0   \n",
       "1                                               0.0   \n",
       "2                                               0.0   \n",
       "3                                               0.0   \n",
       "4                                               0.0   \n",
       "...                                             ...   \n",
       "453866                                          1.0   \n",
       "453867                                          1.0   \n",
       "453868                                          1.0   \n",
       "453869                                          1.0   \n",
       "453870                                          1.0   \n",
       "\n",
       "        Sensitivity_MotorVehicles_Tractors_514  \\\n",
       "0                                          0.0   \n",
       "1                                          0.0   \n",
       "2                                          0.0   \n",
       "3                                          0.0   \n",
       "4                                          0.0   \n",
       "...                                        ...   \n",
       "453866                                     1.0   \n",
       "453867                                     1.0   \n",
       "453868                                     1.0   \n",
       "453869                                     1.0   \n",
       "453870                                     1.0   \n",
       "\n",
       "        Sensitivity_LivestockCensus_2012_Sheep_359  Sensitivity_TotalNPK_315  \\\n",
       "0                                              0.0                       0.0   \n",
       "1                                              0.0                       0.0   \n",
       "2                                              0.0                       0.0   \n",
       "3                                              0.0                       0.0   \n",
       "4                                              0.0                       0.0   \n",
       "...                                            ...                       ...   \n",
       "453866                                         1.0                       1.0   \n",
       "453867                                         1.0                       1.0   \n",
       "453868                                         1.0                       1.0   \n",
       "453869                                         1.0                       1.0   \n",
       "453870                                         1.0                       1.0   \n",
       "\n",
       "        AreaUnderOilSeeds_GroundNut_210  MotorVehicles_Tractors_514  \\\n",
       "0                                  72.0                    6.785923   \n",
       "1                                 175.0                    0.748134   \n",
       "2                                3307.0                  156.804614   \n",
       "3                               96711.0                 1423.861199   \n",
       "4                               15279.0                  233.171480   \n",
       "...                                 ...                         ...   \n",
       "453866                           3817.0                   45.795271   \n",
       "453867                          38840.0                  469.698763   \n",
       "453868                          35960.0                  501.355902   \n",
       "453869                          22274.0                  384.479472   \n",
       "453870                          24881.0                  360.580271   \n",
       "\n",
       "        LivestockCensus_2012_Sheep_359  TotalNPK_315      Beta_0    Beta_1  \\\n",
       "0                            35.835866     10.806111  684.020375  0.494028   \n",
       "1                            95.228861     14.687376  684.020375  0.494028   \n",
       "2                          2102.339270    102.712727  684.020375  0.494028   \n",
       "3                         72011.816530   2748.901666  684.020375  0.494028   \n",
       "4                          2474.543782    718.500139  684.020375  0.494028   \n",
       "...                                ...           ...         ...       ...   \n",
       "453866                      280.247117    151.238385  684.020375  0.494028   \n",
       "453867                    21985.146630   4335.013151  684.020375  0.494028   \n",
       "453868                    12675.797000   2294.879709  684.020375  0.494028   \n",
       "453869                    12890.465430   1733.114796  684.020375  0.494028   \n",
       "453870                    11361.861650   1852.839641  684.020375  0.494028   \n",
       "\n",
       "          Beta_2    Beta_3    Beta_4        New_F1       New_F2        New_F3  \\\n",
       "0       4.830906 -0.006244  3.752916     72.000000     6.785923     35.835866   \n",
       "1       4.830906 -0.006244  3.752916    175.000000     0.748134     95.228861   \n",
       "2       4.830906 -0.006244  3.752916   3307.000000   156.804614   2102.339270   \n",
       "3       4.830906 -0.006244  3.752916  96711.000000  1423.861199  72011.816530   \n",
       "4       4.830906 -0.006244  3.752916  15279.000000   233.171480   2474.543782   \n",
       "...          ...       ...       ...           ...          ...           ...   \n",
       "453866  4.830906 -0.006244  3.752916  13937.894063  1080.797854      0.000000   \n",
       "453867  4.830906 -0.006244  3.752916  48960.894063  1504.701346      0.000000   \n",
       "453868  4.830906 -0.006244  3.752916  46080.894063  1536.358485      0.000000   \n",
       "453869  4.830906 -0.006244  3.752916  32394.894063  1419.482055      0.000000   \n",
       "453870  4.830906 -0.006244  3.752916  35001.894063  1395.582854      0.000000   \n",
       "\n",
       "             New_F4      District  New_Production  \n",
       "0         10.806111     BENGALURU      792.703194  \n",
       "1         14.687376  BENGALURU(R)      828.615271  \n",
       "2        102.712727    RAMANAGARA     3447.623683  \n",
       "3       2748.901666   CHITRADURGA    65207.236233  \n",
       "4        718.500139    DAVANAGERE    12039.716711  \n",
       "...             ...           ...             ...  \n",
       "453866  1483.535652    KALABURAGI    18358.540972  \n",
       "453867  5667.310418       YADGIRI    53410.060085  \n",
       "453868  3627.176976       RAICHUR    44483.743689  \n",
       "453869  3065.412063        KOPPAL    35049.607646  \n",
       "453870  3185.136908  VIJAYANAGARA    36671.399863  \n",
       "\n",
       "[453871 rows x 19 columns]"
      ]
     },
     "execution_count": 17,
     "metadata": {},
     "output_type": "execute_result"
    }
   ],
   "source": [
    "result_df['New_Production'] = result_df['Beta_1'] * result_df['New_F1'] + result_df['Beta_2'] * result_df['New_F2'] + result_df['Beta_3'] * result_df['New_F3'] + result_df['Beta_4'] * result_df['New_F4'] + result_df['Beta_0']\n",
    "result_df"
   ]
  },
  {
   "cell_type": "code",
   "execution_count": 18,
   "metadata": {},
   "outputs": [
    {
     "data": {
      "text/html": [
       "<div>\n",
       "<style scoped>\n",
       "    .dataframe tbody tr th:only-of-type {\n",
       "        vertical-align: middle;\n",
       "    }\n",
       "\n",
       "    .dataframe tbody tr th {\n",
       "        vertical-align: top;\n",
       "    }\n",
       "\n",
       "    .dataframe thead th {\n",
       "        text-align: right;\n",
       "    }\n",
       "</style>\n",
       "<table border=\"1\" class=\"dataframe\">\n",
       "  <thead>\n",
       "    <tr style=\"text-align: right;\">\n",
       "      <th></th>\n",
       "      <th>Sensitivity_AreaUnderOilSeeds_GroundNut_210</th>\n",
       "      <th>Sensitivity_MotorVehicles_Tractors_514</th>\n",
       "      <th>Sensitivity_LivestockCensus_2012_Sheep_359</th>\n",
       "      <th>Sensitivity_TotalNPK_315</th>\n",
       "      <th>AreaUnderOilSeeds_GroundNut_210</th>\n",
       "      <th>MotorVehicles_Tractors_514</th>\n",
       "      <th>LivestockCensus_2012_Sheep_359</th>\n",
       "      <th>TotalNPK_315</th>\n",
       "      <th>Beta_0</th>\n",
       "      <th>Beta_1</th>\n",
       "      <th>Beta_2</th>\n",
       "      <th>Beta_3</th>\n",
       "      <th>Beta_4</th>\n",
       "      <th>New_F1</th>\n",
       "      <th>New_F2</th>\n",
       "      <th>New_F3</th>\n",
       "      <th>New_F4</th>\n",
       "      <th>District</th>\n",
       "      <th>New_Production</th>\n",
       "      <th>Normalized_New_Prouction</th>\n",
       "    </tr>\n",
       "  </thead>\n",
       "  <tbody>\n",
       "    <tr>\n",
       "      <th>0</th>\n",
       "      <td>0.0</td>\n",
       "      <td>0.0</td>\n",
       "      <td>0.0</td>\n",
       "      <td>0.0</td>\n",
       "      <td>72.0</td>\n",
       "      <td>6.785923</td>\n",
       "      <td>35.835866</td>\n",
       "      <td>10.806111</td>\n",
       "      <td>684.020375</td>\n",
       "      <td>0.494028</td>\n",
       "      <td>4.830906</td>\n",
       "      <td>-0.006244</td>\n",
       "      <td>3.752916</td>\n",
       "      <td>72.000000</td>\n",
       "      <td>6.785923</td>\n",
       "      <td>35.835866</td>\n",
       "      <td>10.806111</td>\n",
       "      <td>BENGALURU</td>\n",
       "      <td>792.703194</td>\n",
       "      <td>0.001359</td>\n",
       "    </tr>\n",
       "    <tr>\n",
       "      <th>1</th>\n",
       "      <td>0.0</td>\n",
       "      <td>0.0</td>\n",
       "      <td>0.0</td>\n",
       "      <td>0.0</td>\n",
       "      <td>175.0</td>\n",
       "      <td>0.748134</td>\n",
       "      <td>95.228861</td>\n",
       "      <td>14.687376</td>\n",
       "      <td>684.020375</td>\n",
       "      <td>0.494028</td>\n",
       "      <td>4.830906</td>\n",
       "      <td>-0.006244</td>\n",
       "      <td>3.752916</td>\n",
       "      <td>175.000000</td>\n",
       "      <td>0.748134</td>\n",
       "      <td>95.228861</td>\n",
       "      <td>14.687376</td>\n",
       "      <td>BENGALURU(R)</td>\n",
       "      <td>828.615271</td>\n",
       "      <td>0.001808</td>\n",
       "    </tr>\n",
       "    <tr>\n",
       "      <th>2</th>\n",
       "      <td>0.0</td>\n",
       "      <td>0.0</td>\n",
       "      <td>0.0</td>\n",
       "      <td>0.0</td>\n",
       "      <td>3307.0</td>\n",
       "      <td>156.804614</td>\n",
       "      <td>2102.339270</td>\n",
       "      <td>102.712727</td>\n",
       "      <td>684.020375</td>\n",
       "      <td>0.494028</td>\n",
       "      <td>4.830906</td>\n",
       "      <td>-0.006244</td>\n",
       "      <td>3.752916</td>\n",
       "      <td>3307.000000</td>\n",
       "      <td>156.804614</td>\n",
       "      <td>2102.339270</td>\n",
       "      <td>102.712727</td>\n",
       "      <td>RAMANAGARA</td>\n",
       "      <td>3447.623683</td>\n",
       "      <td>0.034557</td>\n",
       "    </tr>\n",
       "    <tr>\n",
       "      <th>3</th>\n",
       "      <td>0.0</td>\n",
       "      <td>0.0</td>\n",
       "      <td>0.0</td>\n",
       "      <td>0.0</td>\n",
       "      <td>96711.0</td>\n",
       "      <td>1423.861199</td>\n",
       "      <td>72011.816530</td>\n",
       "      <td>2748.901666</td>\n",
       "      <td>684.020375</td>\n",
       "      <td>0.494028</td>\n",
       "      <td>4.830906</td>\n",
       "      <td>-0.006244</td>\n",
       "      <td>3.752916</td>\n",
       "      <td>96711.000000</td>\n",
       "      <td>1423.861199</td>\n",
       "      <td>72011.816530</td>\n",
       "      <td>2748.901666</td>\n",
       "      <td>CHITRADURGA</td>\n",
       "      <td>65207.236233</td>\n",
       "      <td>0.806814</td>\n",
       "    </tr>\n",
       "    <tr>\n",
       "      <th>4</th>\n",
       "      <td>0.0</td>\n",
       "      <td>0.0</td>\n",
       "      <td>0.0</td>\n",
       "      <td>0.0</td>\n",
       "      <td>15279.0</td>\n",
       "      <td>233.171480</td>\n",
       "      <td>2474.543782</td>\n",
       "      <td>718.500139</td>\n",
       "      <td>684.020375</td>\n",
       "      <td>0.494028</td>\n",
       "      <td>4.830906</td>\n",
       "      <td>-0.006244</td>\n",
       "      <td>3.752916</td>\n",
       "      <td>15279.000000</td>\n",
       "      <td>233.171480</td>\n",
       "      <td>2474.543782</td>\n",
       "      <td>718.500139</td>\n",
       "      <td>DAVANAGERE</td>\n",
       "      <td>12039.716711</td>\n",
       "      <td>0.141994</td>\n",
       "    </tr>\n",
       "    <tr>\n",
       "      <th>...</th>\n",
       "      <td>...</td>\n",
       "      <td>...</td>\n",
       "      <td>...</td>\n",
       "      <td>...</td>\n",
       "      <td>...</td>\n",
       "      <td>...</td>\n",
       "      <td>...</td>\n",
       "      <td>...</td>\n",
       "      <td>...</td>\n",
       "      <td>...</td>\n",
       "      <td>...</td>\n",
       "      <td>...</td>\n",
       "      <td>...</td>\n",
       "      <td>...</td>\n",
       "      <td>...</td>\n",
       "      <td>...</td>\n",
       "      <td>...</td>\n",
       "      <td>...</td>\n",
       "      <td>...</td>\n",
       "      <td>...</td>\n",
       "    </tr>\n",
       "    <tr>\n",
       "      <th>453866</th>\n",
       "      <td>1.0</td>\n",
       "      <td>1.0</td>\n",
       "      <td>1.0</td>\n",
       "      <td>1.0</td>\n",
       "      <td>3817.0</td>\n",
       "      <td>45.795271</td>\n",
       "      <td>280.247117</td>\n",
       "      <td>151.238385</td>\n",
       "      <td>684.020375</td>\n",
       "      <td>0.494028</td>\n",
       "      <td>4.830906</td>\n",
       "      <td>-0.006244</td>\n",
       "      <td>3.752916</td>\n",
       "      <td>13937.894063</td>\n",
       "      <td>1080.797854</td>\n",
       "      <td>0.000000</td>\n",
       "      <td>1483.535652</td>\n",
       "      <td>KALABURAGI</td>\n",
       "      <td>18358.540972</td>\n",
       "      <td>0.221007</td>\n",
       "    </tr>\n",
       "    <tr>\n",
       "      <th>453867</th>\n",
       "      <td>1.0</td>\n",
       "      <td>1.0</td>\n",
       "      <td>1.0</td>\n",
       "      <td>1.0</td>\n",
       "      <td>38840.0</td>\n",
       "      <td>469.698763</td>\n",
       "      <td>21985.146630</td>\n",
       "      <td>4335.013151</td>\n",
       "      <td>684.020375</td>\n",
       "      <td>0.494028</td>\n",
       "      <td>4.830906</td>\n",
       "      <td>-0.006244</td>\n",
       "      <td>3.752916</td>\n",
       "      <td>48960.894063</td>\n",
       "      <td>1504.701346</td>\n",
       "      <td>0.000000</td>\n",
       "      <td>5667.310418</td>\n",
       "      <td>YADGIRI</td>\n",
       "      <td>53410.060085</td>\n",
       "      <td>0.659299</td>\n",
       "    </tr>\n",
       "    <tr>\n",
       "      <th>453868</th>\n",
       "      <td>1.0</td>\n",
       "      <td>1.0</td>\n",
       "      <td>1.0</td>\n",
       "      <td>1.0</td>\n",
       "      <td>35960.0</td>\n",
       "      <td>501.355902</td>\n",
       "      <td>12675.797000</td>\n",
       "      <td>2294.879709</td>\n",
       "      <td>684.020375</td>\n",
       "      <td>0.494028</td>\n",
       "      <td>4.830906</td>\n",
       "      <td>-0.006244</td>\n",
       "      <td>3.752916</td>\n",
       "      <td>46080.894063</td>\n",
       "      <td>1536.358485</td>\n",
       "      <td>0.000000</td>\n",
       "      <td>3627.176976</td>\n",
       "      <td>RAICHUR</td>\n",
       "      <td>44483.743689</td>\n",
       "      <td>0.547683</td>\n",
       "    </tr>\n",
       "    <tr>\n",
       "      <th>453869</th>\n",
       "      <td>1.0</td>\n",
       "      <td>1.0</td>\n",
       "      <td>1.0</td>\n",
       "      <td>1.0</td>\n",
       "      <td>22274.0</td>\n",
       "      <td>384.479472</td>\n",
       "      <td>12890.465430</td>\n",
       "      <td>1733.114796</td>\n",
       "      <td>684.020375</td>\n",
       "      <td>0.494028</td>\n",
       "      <td>4.830906</td>\n",
       "      <td>-0.006244</td>\n",
       "      <td>3.752916</td>\n",
       "      <td>32394.894063</td>\n",
       "      <td>1419.482055</td>\n",
       "      <td>0.000000</td>\n",
       "      <td>3065.412063</td>\n",
       "      <td>KOPPAL</td>\n",
       "      <td>35049.607646</td>\n",
       "      <td>0.429716</td>\n",
       "    </tr>\n",
       "    <tr>\n",
       "      <th>453870</th>\n",
       "      <td>1.0</td>\n",
       "      <td>1.0</td>\n",
       "      <td>1.0</td>\n",
       "      <td>1.0</td>\n",
       "      <td>24881.0</td>\n",
       "      <td>360.580271</td>\n",
       "      <td>11361.861650</td>\n",
       "      <td>1852.839641</td>\n",
       "      <td>684.020375</td>\n",
       "      <td>0.494028</td>\n",
       "      <td>4.830906</td>\n",
       "      <td>-0.006244</td>\n",
       "      <td>3.752916</td>\n",
       "      <td>35001.894063</td>\n",
       "      <td>1395.582854</td>\n",
       "      <td>0.000000</td>\n",
       "      <td>3185.136908</td>\n",
       "      <td>VIJAYANAGARA</td>\n",
       "      <td>36671.399863</td>\n",
       "      <td>0.449995</td>\n",
       "    </tr>\n",
       "  </tbody>\n",
       "</table>\n",
       "<p>453871 rows × 20 columns</p>\n",
       "</div>"
      ],
      "text/plain": [
       "        Sensitivity_AreaUnderOilSeeds_GroundNut_210  \\\n",
       "0                                               0.0   \n",
       "1                                               0.0   \n",
       "2                                               0.0   \n",
       "3                                               0.0   \n",
       "4                                               0.0   \n",
       "...                                             ...   \n",
       "453866                                          1.0   \n",
       "453867                                          1.0   \n",
       "453868                                          1.0   \n",
       "453869                                          1.0   \n",
       "453870                                          1.0   \n",
       "\n",
       "        Sensitivity_MotorVehicles_Tractors_514  \\\n",
       "0                                          0.0   \n",
       "1                                          0.0   \n",
       "2                                          0.0   \n",
       "3                                          0.0   \n",
       "4                                          0.0   \n",
       "...                                        ...   \n",
       "453866                                     1.0   \n",
       "453867                                     1.0   \n",
       "453868                                     1.0   \n",
       "453869                                     1.0   \n",
       "453870                                     1.0   \n",
       "\n",
       "        Sensitivity_LivestockCensus_2012_Sheep_359  Sensitivity_TotalNPK_315  \\\n",
       "0                                              0.0                       0.0   \n",
       "1                                              0.0                       0.0   \n",
       "2                                              0.0                       0.0   \n",
       "3                                              0.0                       0.0   \n",
       "4                                              0.0                       0.0   \n",
       "...                                            ...                       ...   \n",
       "453866                                         1.0                       1.0   \n",
       "453867                                         1.0                       1.0   \n",
       "453868                                         1.0                       1.0   \n",
       "453869                                         1.0                       1.0   \n",
       "453870                                         1.0                       1.0   \n",
       "\n",
       "        AreaUnderOilSeeds_GroundNut_210  MotorVehicles_Tractors_514  \\\n",
       "0                                  72.0                    6.785923   \n",
       "1                                 175.0                    0.748134   \n",
       "2                                3307.0                  156.804614   \n",
       "3                               96711.0                 1423.861199   \n",
       "4                               15279.0                  233.171480   \n",
       "...                                 ...                         ...   \n",
       "453866                           3817.0                   45.795271   \n",
       "453867                          38840.0                  469.698763   \n",
       "453868                          35960.0                  501.355902   \n",
       "453869                          22274.0                  384.479472   \n",
       "453870                          24881.0                  360.580271   \n",
       "\n",
       "        LivestockCensus_2012_Sheep_359  TotalNPK_315      Beta_0    Beta_1  \\\n",
       "0                            35.835866     10.806111  684.020375  0.494028   \n",
       "1                            95.228861     14.687376  684.020375  0.494028   \n",
       "2                          2102.339270    102.712727  684.020375  0.494028   \n",
       "3                         72011.816530   2748.901666  684.020375  0.494028   \n",
       "4                          2474.543782    718.500139  684.020375  0.494028   \n",
       "...                                ...           ...         ...       ...   \n",
       "453866                      280.247117    151.238385  684.020375  0.494028   \n",
       "453867                    21985.146630   4335.013151  684.020375  0.494028   \n",
       "453868                    12675.797000   2294.879709  684.020375  0.494028   \n",
       "453869                    12890.465430   1733.114796  684.020375  0.494028   \n",
       "453870                    11361.861650   1852.839641  684.020375  0.494028   \n",
       "\n",
       "          Beta_2    Beta_3    Beta_4        New_F1       New_F2        New_F3  \\\n",
       "0       4.830906 -0.006244  3.752916     72.000000     6.785923     35.835866   \n",
       "1       4.830906 -0.006244  3.752916    175.000000     0.748134     95.228861   \n",
       "2       4.830906 -0.006244  3.752916   3307.000000   156.804614   2102.339270   \n",
       "3       4.830906 -0.006244  3.752916  96711.000000  1423.861199  72011.816530   \n",
       "4       4.830906 -0.006244  3.752916  15279.000000   233.171480   2474.543782   \n",
       "...          ...       ...       ...           ...          ...           ...   \n",
       "453866  4.830906 -0.006244  3.752916  13937.894063  1080.797854      0.000000   \n",
       "453867  4.830906 -0.006244  3.752916  48960.894063  1504.701346      0.000000   \n",
       "453868  4.830906 -0.006244  3.752916  46080.894063  1536.358485      0.000000   \n",
       "453869  4.830906 -0.006244  3.752916  32394.894063  1419.482055      0.000000   \n",
       "453870  4.830906 -0.006244  3.752916  35001.894063  1395.582854      0.000000   \n",
       "\n",
       "             New_F4      District  New_Production  Normalized_New_Prouction  \n",
       "0         10.806111     BENGALURU      792.703194                  0.001359  \n",
       "1         14.687376  BENGALURU(R)      828.615271                  0.001808  \n",
       "2        102.712727    RAMANAGARA     3447.623683                  0.034557  \n",
       "3       2748.901666   CHITRADURGA    65207.236233                  0.806814  \n",
       "4        718.500139    DAVANAGERE    12039.716711                  0.141994  \n",
       "...             ...           ...             ...                       ...  \n",
       "453866  1483.535652    KALABURAGI    18358.540972                  0.221007  \n",
       "453867  5667.310418       YADGIRI    53410.060085                  0.659299  \n",
       "453868  3627.176976       RAICHUR    44483.743689                  0.547683  \n",
       "453869  3065.412063        KOPPAL    35049.607646                  0.429716  \n",
       "453870  3185.136908  VIJAYANAGARA    36671.399863                  0.449995  \n",
       "\n",
       "[453871 rows x 20 columns]"
      ]
     },
     "execution_count": 18,
     "metadata": {},
     "output_type": "execute_result"
    }
   ],
   "source": [
    "result_df['Normalized_New_Prouction'] = normalize_list(result_df['New_Production'])\n",
    "result_df"
   ]
  },
  {
   "cell_type": "code",
   "execution_count": 19,
   "metadata": {},
   "outputs": [
    {
     "data": {
      "text/html": [
       "<div>\n",
       "<style scoped>\n",
       "    .dataframe tbody tr th:only-of-type {\n",
       "        vertical-align: middle;\n",
       "    }\n",
       "\n",
       "    .dataframe tbody tr th {\n",
       "        vertical-align: top;\n",
       "    }\n",
       "\n",
       "    .dataframe thead th {\n",
       "        text-align: right;\n",
       "    }\n",
       "</style>\n",
       "<table border=\"1\" class=\"dataframe\">\n",
       "  <thead>\n",
       "    <tr style=\"text-align: right;\">\n",
       "      <th></th>\n",
       "      <th>Sensitivity_AreaUnderOilSeeds_GroundNut_210</th>\n",
       "      <th>Sensitivity_MotorVehicles_Tractors_514</th>\n",
       "      <th>Sensitivity_LivestockCensus_2012_Sheep_359</th>\n",
       "      <th>Sensitivity_TotalNPK_315</th>\n",
       "      <th>AreaUnderOilSeeds_GroundNut_210</th>\n",
       "      <th>MotorVehicles_Tractors_514</th>\n",
       "      <th>LivestockCensus_2012_Sheep_359</th>\n",
       "      <th>TotalNPK_315</th>\n",
       "      <th>Beta_0</th>\n",
       "      <th>Beta_1</th>\n",
       "      <th>Beta_2</th>\n",
       "      <th>Beta_3</th>\n",
       "      <th>Beta_4</th>\n",
       "      <th>New_F1</th>\n",
       "      <th>New_F2</th>\n",
       "      <th>New_F3</th>\n",
       "      <th>New_F4</th>\n",
       "      <th>District</th>\n",
       "      <th>New_Production</th>\n",
       "      <th>Normalized_New_Prouction</th>\n",
       "    </tr>\n",
       "  </thead>\n",
       "  <tbody>\n",
       "    <tr>\n",
       "      <th>0</th>\n",
       "      <td>0.0</td>\n",
       "      <td>0.0</td>\n",
       "      <td>0.0</td>\n",
       "      <td>0.0</td>\n",
       "      <td>72.0</td>\n",
       "      <td>6.785923</td>\n",
       "      <td>35.835866</td>\n",
       "      <td>10.806111</td>\n",
       "      <td>684.020375</td>\n",
       "      <td>0.494028</td>\n",
       "      <td>4.830906</td>\n",
       "      <td>-0.006244</td>\n",
       "      <td>3.752916</td>\n",
       "      <td>72.000000</td>\n",
       "      <td>6.785923</td>\n",
       "      <td>35.835866</td>\n",
       "      <td>10.806111</td>\n",
       "      <td>BENGALURU</td>\n",
       "      <td>792.703194</td>\n",
       "      <td>0.001359</td>\n",
       "    </tr>\n",
       "    <tr>\n",
       "      <th>1</th>\n",
       "      <td>0.0</td>\n",
       "      <td>0.0</td>\n",
       "      <td>0.0</td>\n",
       "      <td>0.0</td>\n",
       "      <td>175.0</td>\n",
       "      <td>0.748134</td>\n",
       "      <td>95.228861</td>\n",
       "      <td>14.687376</td>\n",
       "      <td>684.020375</td>\n",
       "      <td>0.494028</td>\n",
       "      <td>4.830906</td>\n",
       "      <td>-0.006244</td>\n",
       "      <td>3.752916</td>\n",
       "      <td>175.000000</td>\n",
       "      <td>0.748134</td>\n",
       "      <td>95.228861</td>\n",
       "      <td>14.687376</td>\n",
       "      <td>BENGALURU(R)</td>\n",
       "      <td>828.615271</td>\n",
       "      <td>0.001808</td>\n",
       "    </tr>\n",
       "    <tr>\n",
       "      <th>2</th>\n",
       "      <td>0.0</td>\n",
       "      <td>0.0</td>\n",
       "      <td>0.0</td>\n",
       "      <td>0.0</td>\n",
       "      <td>3307.0</td>\n",
       "      <td>156.804614</td>\n",
       "      <td>2102.339270</td>\n",
       "      <td>102.712727</td>\n",
       "      <td>684.020375</td>\n",
       "      <td>0.494028</td>\n",
       "      <td>4.830906</td>\n",
       "      <td>-0.006244</td>\n",
       "      <td>3.752916</td>\n",
       "      <td>3307.000000</td>\n",
       "      <td>156.804614</td>\n",
       "      <td>2102.339270</td>\n",
       "      <td>102.712727</td>\n",
       "      <td>RAMANAGARA</td>\n",
       "      <td>3447.623683</td>\n",
       "      <td>0.034557</td>\n",
       "    </tr>\n",
       "    <tr>\n",
       "      <th>3</th>\n",
       "      <td>0.0</td>\n",
       "      <td>0.0</td>\n",
       "      <td>0.0</td>\n",
       "      <td>0.0</td>\n",
       "      <td>96711.0</td>\n",
       "      <td>1423.861199</td>\n",
       "      <td>72011.816530</td>\n",
       "      <td>2748.901666</td>\n",
       "      <td>684.020375</td>\n",
       "      <td>0.494028</td>\n",
       "      <td>4.830906</td>\n",
       "      <td>-0.006244</td>\n",
       "      <td>3.752916</td>\n",
       "      <td>96711.000000</td>\n",
       "      <td>1423.861199</td>\n",
       "      <td>72011.816530</td>\n",
       "      <td>2748.901666</td>\n",
       "      <td>CHITRADURGA</td>\n",
       "      <td>65207.236233</td>\n",
       "      <td>0.806814</td>\n",
       "    </tr>\n",
       "    <tr>\n",
       "      <th>4</th>\n",
       "      <td>0.0</td>\n",
       "      <td>0.0</td>\n",
       "      <td>0.0</td>\n",
       "      <td>0.0</td>\n",
       "      <td>15279.0</td>\n",
       "      <td>233.171480</td>\n",
       "      <td>2474.543782</td>\n",
       "      <td>718.500139</td>\n",
       "      <td>684.020375</td>\n",
       "      <td>0.494028</td>\n",
       "      <td>4.830906</td>\n",
       "      <td>-0.006244</td>\n",
       "      <td>3.752916</td>\n",
       "      <td>15279.000000</td>\n",
       "      <td>233.171480</td>\n",
       "      <td>2474.543782</td>\n",
       "      <td>718.500139</td>\n",
       "      <td>DAVANAGERE</td>\n",
       "      <td>12039.716711</td>\n",
       "      <td>0.141994</td>\n",
       "    </tr>\n",
       "    <tr>\n",
       "      <th>...</th>\n",
       "      <td>...</td>\n",
       "      <td>...</td>\n",
       "      <td>...</td>\n",
       "      <td>...</td>\n",
       "      <td>...</td>\n",
       "      <td>...</td>\n",
       "      <td>...</td>\n",
       "      <td>...</td>\n",
       "      <td>...</td>\n",
       "      <td>...</td>\n",
       "      <td>...</td>\n",
       "      <td>...</td>\n",
       "      <td>...</td>\n",
       "      <td>...</td>\n",
       "      <td>...</td>\n",
       "      <td>...</td>\n",
       "      <td>...</td>\n",
       "      <td>...</td>\n",
       "      <td>...</td>\n",
       "      <td>...</td>\n",
       "    </tr>\n",
       "    <tr>\n",
       "      <th>453866</th>\n",
       "      <td>1.0</td>\n",
       "      <td>1.0</td>\n",
       "      <td>1.0</td>\n",
       "      <td>1.0</td>\n",
       "      <td>3817.0</td>\n",
       "      <td>45.795271</td>\n",
       "      <td>280.247117</td>\n",
       "      <td>151.238385</td>\n",
       "      <td>684.020375</td>\n",
       "      <td>0.494028</td>\n",
       "      <td>4.830906</td>\n",
       "      <td>-0.006244</td>\n",
       "      <td>3.752916</td>\n",
       "      <td>13937.894063</td>\n",
       "      <td>1080.797854</td>\n",
       "      <td>0.000000</td>\n",
       "      <td>1483.535652</td>\n",
       "      <td>KALABURAGI</td>\n",
       "      <td>18358.540972</td>\n",
       "      <td>0.221007</td>\n",
       "    </tr>\n",
       "    <tr>\n",
       "      <th>453867</th>\n",
       "      <td>1.0</td>\n",
       "      <td>1.0</td>\n",
       "      <td>1.0</td>\n",
       "      <td>1.0</td>\n",
       "      <td>38840.0</td>\n",
       "      <td>469.698763</td>\n",
       "      <td>21985.146630</td>\n",
       "      <td>4335.013151</td>\n",
       "      <td>684.020375</td>\n",
       "      <td>0.494028</td>\n",
       "      <td>4.830906</td>\n",
       "      <td>-0.006244</td>\n",
       "      <td>3.752916</td>\n",
       "      <td>48960.894063</td>\n",
       "      <td>1504.701346</td>\n",
       "      <td>0.000000</td>\n",
       "      <td>5667.310418</td>\n",
       "      <td>YADGIRI</td>\n",
       "      <td>53410.060085</td>\n",
       "      <td>0.659299</td>\n",
       "    </tr>\n",
       "    <tr>\n",
       "      <th>453868</th>\n",
       "      <td>1.0</td>\n",
       "      <td>1.0</td>\n",
       "      <td>1.0</td>\n",
       "      <td>1.0</td>\n",
       "      <td>35960.0</td>\n",
       "      <td>501.355902</td>\n",
       "      <td>12675.797000</td>\n",
       "      <td>2294.879709</td>\n",
       "      <td>684.020375</td>\n",
       "      <td>0.494028</td>\n",
       "      <td>4.830906</td>\n",
       "      <td>-0.006244</td>\n",
       "      <td>3.752916</td>\n",
       "      <td>46080.894063</td>\n",
       "      <td>1536.358485</td>\n",
       "      <td>0.000000</td>\n",
       "      <td>3627.176976</td>\n",
       "      <td>RAICHUR</td>\n",
       "      <td>44483.743689</td>\n",
       "      <td>0.547683</td>\n",
       "    </tr>\n",
       "    <tr>\n",
       "      <th>453869</th>\n",
       "      <td>1.0</td>\n",
       "      <td>1.0</td>\n",
       "      <td>1.0</td>\n",
       "      <td>1.0</td>\n",
       "      <td>22274.0</td>\n",
       "      <td>384.479472</td>\n",
       "      <td>12890.465430</td>\n",
       "      <td>1733.114796</td>\n",
       "      <td>684.020375</td>\n",
       "      <td>0.494028</td>\n",
       "      <td>4.830906</td>\n",
       "      <td>-0.006244</td>\n",
       "      <td>3.752916</td>\n",
       "      <td>32394.894063</td>\n",
       "      <td>1419.482055</td>\n",
       "      <td>0.000000</td>\n",
       "      <td>3065.412063</td>\n",
       "      <td>KOPPAL</td>\n",
       "      <td>35049.607646</td>\n",
       "      <td>0.429716</td>\n",
       "    </tr>\n",
       "    <tr>\n",
       "      <th>453870</th>\n",
       "      <td>1.0</td>\n",
       "      <td>1.0</td>\n",
       "      <td>1.0</td>\n",
       "      <td>1.0</td>\n",
       "      <td>24881.0</td>\n",
       "      <td>360.580271</td>\n",
       "      <td>11361.861650</td>\n",
       "      <td>1852.839641</td>\n",
       "      <td>684.020375</td>\n",
       "      <td>0.494028</td>\n",
       "      <td>4.830906</td>\n",
       "      <td>-0.006244</td>\n",
       "      <td>3.752916</td>\n",
       "      <td>35001.894063</td>\n",
       "      <td>1395.582854</td>\n",
       "      <td>0.000000</td>\n",
       "      <td>3185.136908</td>\n",
       "      <td>VIJAYANAGARA</td>\n",
       "      <td>36671.399863</td>\n",
       "      <td>0.449995</td>\n",
       "    </tr>\n",
       "  </tbody>\n",
       "</table>\n",
       "<p>453871 rows × 20 columns</p>\n",
       "</div>"
      ],
      "text/plain": [
       "        Sensitivity_AreaUnderOilSeeds_GroundNut_210  \\\n",
       "0                                               0.0   \n",
       "1                                               0.0   \n",
       "2                                               0.0   \n",
       "3                                               0.0   \n",
       "4                                               0.0   \n",
       "...                                             ...   \n",
       "453866                                          1.0   \n",
       "453867                                          1.0   \n",
       "453868                                          1.0   \n",
       "453869                                          1.0   \n",
       "453870                                          1.0   \n",
       "\n",
       "        Sensitivity_MotorVehicles_Tractors_514  \\\n",
       "0                                          0.0   \n",
       "1                                          0.0   \n",
       "2                                          0.0   \n",
       "3                                          0.0   \n",
       "4                                          0.0   \n",
       "...                                        ...   \n",
       "453866                                     1.0   \n",
       "453867                                     1.0   \n",
       "453868                                     1.0   \n",
       "453869                                     1.0   \n",
       "453870                                     1.0   \n",
       "\n",
       "        Sensitivity_LivestockCensus_2012_Sheep_359  Sensitivity_TotalNPK_315  \\\n",
       "0                                              0.0                       0.0   \n",
       "1                                              0.0                       0.0   \n",
       "2                                              0.0                       0.0   \n",
       "3                                              0.0                       0.0   \n",
       "4                                              0.0                       0.0   \n",
       "...                                            ...                       ...   \n",
       "453866                                         1.0                       1.0   \n",
       "453867                                         1.0                       1.0   \n",
       "453868                                         1.0                       1.0   \n",
       "453869                                         1.0                       1.0   \n",
       "453870                                         1.0                       1.0   \n",
       "\n",
       "        AreaUnderOilSeeds_GroundNut_210  MotorVehicles_Tractors_514  \\\n",
       "0                                  72.0                    6.785923   \n",
       "1                                 175.0                    0.748134   \n",
       "2                                3307.0                  156.804614   \n",
       "3                               96711.0                 1423.861199   \n",
       "4                               15279.0                  233.171480   \n",
       "...                                 ...                         ...   \n",
       "453866                           3817.0                   45.795271   \n",
       "453867                          38840.0                  469.698763   \n",
       "453868                          35960.0                  501.355902   \n",
       "453869                          22274.0                  384.479472   \n",
       "453870                          24881.0                  360.580271   \n",
       "\n",
       "        LivestockCensus_2012_Sheep_359  TotalNPK_315      Beta_0    Beta_1  \\\n",
       "0                            35.835866     10.806111  684.020375  0.494028   \n",
       "1                            95.228861     14.687376  684.020375  0.494028   \n",
       "2                          2102.339270    102.712727  684.020375  0.494028   \n",
       "3                         72011.816530   2748.901666  684.020375  0.494028   \n",
       "4                          2474.543782    718.500139  684.020375  0.494028   \n",
       "...                                ...           ...         ...       ...   \n",
       "453866                      280.247117    151.238385  684.020375  0.494028   \n",
       "453867                    21985.146630   4335.013151  684.020375  0.494028   \n",
       "453868                    12675.797000   2294.879709  684.020375  0.494028   \n",
       "453869                    12890.465430   1733.114796  684.020375  0.494028   \n",
       "453870                    11361.861650   1852.839641  684.020375  0.494028   \n",
       "\n",
       "          Beta_2    Beta_3    Beta_4        New_F1       New_F2        New_F3  \\\n",
       "0       4.830906 -0.006244  3.752916     72.000000     6.785923     35.835866   \n",
       "1       4.830906 -0.006244  3.752916    175.000000     0.748134     95.228861   \n",
       "2       4.830906 -0.006244  3.752916   3307.000000   156.804614   2102.339270   \n",
       "3       4.830906 -0.006244  3.752916  96711.000000  1423.861199  72011.816530   \n",
       "4       4.830906 -0.006244  3.752916  15279.000000   233.171480   2474.543782   \n",
       "...          ...       ...       ...           ...          ...           ...   \n",
       "453866  4.830906 -0.006244  3.752916  13937.894063  1080.797854      0.000000   \n",
       "453867  4.830906 -0.006244  3.752916  48960.894063  1504.701346      0.000000   \n",
       "453868  4.830906 -0.006244  3.752916  46080.894063  1536.358485      0.000000   \n",
       "453869  4.830906 -0.006244  3.752916  32394.894063  1419.482055      0.000000   \n",
       "453870  4.830906 -0.006244  3.752916  35001.894063  1395.582854      0.000000   \n",
       "\n",
       "             New_F4      District  New_Production  Normalized_New_Prouction  \n",
       "0         10.806111     BENGALURU      792.703194                  0.001359  \n",
       "1         14.687376  BENGALURU(R)      828.615271                  0.001808  \n",
       "2        102.712727    RAMANAGARA     3447.623683                  0.034557  \n",
       "3       2748.901666   CHITRADURGA    65207.236233                  0.806814  \n",
       "4        718.500139    DAVANAGERE    12039.716711                  0.141994  \n",
       "...             ...           ...             ...                       ...  \n",
       "453866  1483.535652    KALABURAGI    18358.540972                  0.221007  \n",
       "453867  5667.310418       YADGIRI    53410.060085                  0.659299  \n",
       "453868  3627.176976       RAICHUR    44483.743689                  0.547683  \n",
       "453869  3065.412063        KOPPAL    35049.607646                  0.429716  \n",
       "453870  3185.136908  VIJAYANAGARA    36671.399863                  0.449995  \n",
       "\n",
       "[453871 rows x 20 columns]"
      ]
     },
     "execution_count": 19,
     "metadata": {},
     "output_type": "execute_result"
    }
   ],
   "source": [
    "def calculate_avg_capability(capability, neighbors):\n",
    "    num_neighbors = len(neighbors)\n",
    "    if num_neighbors == 0:\n",
    "        return 0\n",
    "    sum_capabilities = sum(capability[n] for n in neighbors)\n",
    "    return sum_capabilities / num_neighbors\n",
    "\n",
    "def calculate_stress_stability(capability, adjacency_matrix):\n",
    "    n = len(capability)\n",
    "    stress = np.zeros(n)\n",
    "    stability = np.zeros(n)\n",
    "    \n",
    "    for i in range(n):\n",
    "        neighbors = [j for j in range(n) if adjacency_matrix[i][j] == 1 and i != j]\n",
    "        if len(neighbors) > 0:\n",
    "            avg_capability = calculate_avg_capability(capability, neighbors)\n",
    "            stress[i] = abs(avg_capability - capability[i])\n",
    "            stability[i] = 1 - stress[i]\n",
    "        else:\n",
    "            stress[i] = 0  # If no neighbors, stress is zero\n",
    "            stability[i] = 1\n",
    "        \n",
    "    return stress, stability\n",
    "\n",
    "result_df['Normalized_New_Prouction'] = normalize_list(result_df['New_Production'])\n",
    "result_df"
   ]
  },
  {
   "cell_type": "code",
   "execution_count": 20,
   "metadata": {},
   "outputs": [
    {
     "name": "stdout",
     "output_type": "stream",
     "text": [
      "14641\n",
      "31\n",
      "453871 453871\n"
     ]
    }
   ],
   "source": [
    "stress_values_list = []\n",
    "stability_values_list = []\n",
    "\n",
    "# Define batch size\n",
    "batch_size = 31\n",
    "\n",
    "# Iterate over the New_Production column in batches of 31\n",
    "num_batches = len(result_df) // batch_size\n",
    "\n",
    "for i in range(num_batches):\n",
    "    # Get the batch of 31 production values\n",
    "    start_idx = i * batch_size\n",
    "    end_idx = start_idx + batch_size\n",
    "    batch = normalize_list(result_df['New_Production'][start_idx:end_idx].values)\n",
    "    \n",
    "    # Calculate the stress and stability values for the batch\n",
    "    stress_batch, stability_batch = calculate_stress_stability(batch, adj_matrix_np)\n",
    "    \n",
    "    stress_values_list.extend(stress_batch)\n",
    "    stability_values_list.extend(stability_batch)\n",
    "\n",
    "\n",
    "print(num_batches)\n",
    "print(len(stress_batch))\n",
    "print(len(stress_values_list), len(stability_values_list))\n",
    "\n",
    "result_df['Stress_Values'] = stress_values_list\n",
    "result_df['Stability_Values'] = stability_values_list"
   ]
  },
  {
   "cell_type": "code",
   "execution_count": 21,
   "metadata": {},
   "outputs": [
    {
     "data": {
      "text/plain": [
       "Index(['Sensitivity_AreaUnderOilSeeds_GroundNut_210',\n",
       "       'Sensitivity_MotorVehicles_Tractors_514',\n",
       "       'Sensitivity_LivestockCensus_2012_Sheep_359',\n",
       "       'Sensitivity_TotalNPK_315', 'AreaUnderOilSeeds_GroundNut_210',\n",
       "       'MotorVehicles_Tractors_514', 'LivestockCensus_2012_Sheep_359',\n",
       "       'TotalNPK_315', 'Beta_0', 'Beta_1', 'Beta_2', 'Beta_3', 'Beta_4',\n",
       "       'New_F1', 'New_F2', 'New_F3', 'New_F4', 'District', 'New_Production',\n",
       "       'Normalized_New_Prouction', 'Stress_Values', 'Stability_Values'],\n",
       "      dtype='object')"
      ]
     },
     "execution_count": 21,
     "metadata": {},
     "output_type": "execute_result"
    }
   ],
   "source": [
    "result_df.columns"
   ]
  },
  {
   "cell_type": "code",
   "execution_count": 22,
   "metadata": {},
   "outputs": [],
   "source": [
    "viz_df = result_df[['District','Sensitivity_AreaUnderOilSeeds_GroundNut_210','Sensitivity_MotorVehicles_Tractors_514','Sensitivity_LivestockCensus_2012_Sheep_359',\n",
    "                    'Sensitivity_TotalNPK_315', 'New_Production','Stability_Values']].copy()\n",
    "\n",
    "abbreviation_mapping = {\n",
    "    'BENGALURU': 'BLR',\n",
    "    'BENGALURU(R)': 'BLR(R)',\n",
    "    'RAMANAGARA': 'RGA',\n",
    "    'CHITRADURGA': 'CDA',\n",
    "    'DAVANAGERE': 'DVG',\n",
    "    'KOLAR': 'KLR',\n",
    "    'CHIKKABALLAPURA': 'CKA',\n",
    "    'SHIVAMOGGA': 'SMG',\n",
    "    'TUMAKURU': 'TKR',\n",
    "    'CHIKKAMAGALURU': 'CMG',\n",
    "    'DAKSHINA KANNADA': 'DKA',\n",
    "    'UDUPI': 'UPI',\n",
    "    'HASSAN': 'HSN',\n",
    "    'KODAGU': 'KDG',\n",
    "    'MANDYA': 'MDY',\n",
    "    'MYSURU': 'MYS',\n",
    "    'CHAMARAJANAGAR': 'CNR',\n",
    "    'BELAGAVI': 'BLG',\n",
    "    'VIJAYAPURA': 'VJP',\n",
    "    'BAGALKOT': 'BKT',\n",
    "    'DHARAWAD': 'DWD',\n",
    "    'GADAG': 'GDG',\n",
    "    'HAVERI': 'HVR',\n",
    "    'UTTARA KANNADA': 'UTK',\n",
    "    'BALLARI': 'BLL',\n",
    "    'BIDAR': 'BDR',\n",
    "    'KALABURAGI': 'KLB',\n",
    "    'YADGIRI': 'YDR',\n",
    "    'RAICHUR': 'RCR',\n",
    "    'KOPPAL': 'KPL',\n",
    "    'Vijayanagara' : 'VJN'\n",
    "}\n",
    "\n",
    "viz_df['Abbreviation'] = viz_df['District'].map(abbreviation_mapping)\n",
    "\n",
    "legend_labels = [{'Abbreviation': abb, 'Full Form': full_form} \n",
    "                    for abb, full_form in zip(viz_df['Abbreviation'].unique(), viz_df['District'].unique())]"
   ]
  },
  {
   "cell_type": "code",
   "execution_count": 23,
   "metadata": {},
   "outputs": [],
   "source": [
    "viz_df['New_Production'] = viz_df['New_Production'].apply(lambda x: max(0, x))\n",
    "\n",
    "viz_df['Percentage Change'] = viz_df['New_Production'] - np.tile(y.values, len(viz_df) // 31 + 1)[:len(viz_df)]\n",
    "for i in range(0, len(viz_df), 31):\n",
    "    viz_df.loc[i:i+30, 'Percentage Change'] = viz_df.loc[i:i+30, 'Percentage Change'] * 100 / y.values + 1e-9\n",
    "\n",
    "viz_df['Percentage Change'] = viz_df['Percentage Change'].replace([np.inf, -np.inf], 0)"
   ]
  },
  {
   "cell_type": "code",
   "execution_count": 24,
   "metadata": {},
   "outputs": [
    {
     "data": {
      "application/vnd.plotly.v1+json": {
       "config": {
        "plotlyServerURL": "https://plot.ly"
       },
       "data": [
        {
         "hovertemplate": "Stability=%{x}<br>Percentage Change=%{y}<br>Abbreviation=%{text}<extra></extra>",
         "legendgroup": "",
         "marker": {
          "color": "darkblue",
          "opacity": 1,
          "symbol": "circle"
         },
         "mode": "markers+text",
         "name": "",
         "orientation": "v",
         "showlegend": false,
         "text": [
          "BLR",
          "BLR(R)",
          "RGA",
          "CDA",
          "DVG",
          "KLR",
          "CKA",
          "SMG",
          "TKR",
          "CMG",
          "DKA",
          "UPI",
          "HSN",
          "KDG",
          "MDY",
          "MYS",
          "CNR",
          "BLG",
          "VJP",
          "BKT",
          "DWD",
          "GDG",
          "HVR",
          "UTK",
          "BLL",
          "BDR",
          "KLB",
          "YDR",
          "RCR",
          "KPL",
          null
         ],
         "textfont": {
          "size": 11
         },
         "textposition": "top center",
         "type": "scatter",
         "x": [
          0.979190487466803,
          0.7900419014823172,
          0.8800772136686307,
          0.31505223850611586,
          0.8513550591280731,
          0.9509211317096122,
          0.9232408147316125,
          0.9008909784114633,
          0.5222279824853852,
          0.8148391920031997,
          0.971082596550641,
          0.9933391211043494,
          0.8757069788986834,
          0.9891312395623503,
          0.8414042751541858,
          0.9900020234182192,
          0.9056934874108867,
          0.7847425501314126,
          0.9072534367989002,
          0.9663516564012874,
          0.9138222106994174,
          0.8551537980030115,
          0.9571135855336436,
          0.7921903753941735,
          0.9020902267497596,
          0.9628264486244061,
          0.7447044478626634,
          0.6824119746043429,
          0.934675866878322,
          0.9037494285290353,
          0.905811958595526
         ],
         "xaxis": "x",
         "y": [
          11580.17878798915,
          3943.3057497633763,
          126.9306397339245,
          6.6815179855064315,
          17.8590093570307,
          207.21781576218078,
          194.33418897558323,
          3311.5842310741523,
          30.61869165082113,
          248.2310347827849,
          0,
          165.82128066178993,
          1580.0337615636824,
          18245.403721648672,
          802.3785217184336,
          358.4249374790639,
          82.33878029152069,
          9.325088255956182,
          1.6569190901560022,
          30.019120390329878,
          62.81429670595983,
          29.604845497531908,
          18.551344310959927,
          161.3548810432928,
          27.172220777381444,
          3134.9693930902677,
          248.70073769069575,
          46.047590536923344,
          37.19023551082129,
          -8.112842218556418,
          27.172220777381444
         ],
         "yaxis": "y"
        },
        {
         "marker": {
          "color": "darkblue"
         },
         "mode": "markers",
         "name": "BLR: BENGALURU",
         "type": "scatter",
         "x": [
          null
         ],
         "y": [
          null
         ]
        },
        {
         "marker": {
          "color": "darkblue"
         },
         "mode": "markers",
         "name": "BLR(R): BENGALURU(R)",
         "type": "scatter",
         "x": [
          null
         ],
         "y": [
          null
         ]
        },
        {
         "marker": {
          "color": "darkblue"
         },
         "mode": "markers",
         "name": "RGA: RAMANAGARA",
         "type": "scatter",
         "x": [
          null
         ],
         "y": [
          null
         ]
        },
        {
         "marker": {
          "color": "darkblue"
         },
         "mode": "markers",
         "name": "CDA: CHITRADURGA",
         "type": "scatter",
         "x": [
          null
         ],
         "y": [
          null
         ]
        },
        {
         "marker": {
          "color": "darkblue"
         },
         "mode": "markers",
         "name": "DVG: DAVANAGERE",
         "type": "scatter",
         "x": [
          null
         ],
         "y": [
          null
         ]
        },
        {
         "marker": {
          "color": "darkblue"
         },
         "mode": "markers",
         "name": "KLR: KOLAR",
         "type": "scatter",
         "x": [
          null
         ],
         "y": [
          null
         ]
        },
        {
         "marker": {
          "color": "darkblue"
         },
         "mode": "markers",
         "name": "CKA: CHIKKABALLAPURA",
         "type": "scatter",
         "x": [
          null
         ],
         "y": [
          null
         ]
        },
        {
         "marker": {
          "color": "darkblue"
         },
         "mode": "markers",
         "name": "SMG: SHIVAMOGGA",
         "type": "scatter",
         "x": [
          null
         ],
         "y": [
          null
         ]
        },
        {
         "marker": {
          "color": "darkblue"
         },
         "mode": "markers",
         "name": "TKR: TUMAKURU",
         "type": "scatter",
         "x": [
          null
         ],
         "y": [
          null
         ]
        },
        {
         "marker": {
          "color": "darkblue"
         },
         "mode": "markers",
         "name": "CMG: CHIKKAMAGALURU",
         "type": "scatter",
         "x": [
          null
         ],
         "y": [
          null
         ]
        },
        {
         "marker": {
          "color": "darkblue"
         },
         "mode": "markers",
         "name": "DKA: DAKSHINA KANNADA",
         "type": "scatter",
         "x": [
          null
         ],
         "y": [
          null
         ]
        },
        {
         "marker": {
          "color": "darkblue"
         },
         "mode": "markers",
         "name": "UPI: UDUPI",
         "type": "scatter",
         "x": [
          null
         ],
         "y": [
          null
         ]
        },
        {
         "marker": {
          "color": "darkblue"
         },
         "mode": "markers",
         "name": "HSN: HASSAN",
         "type": "scatter",
         "x": [
          null
         ],
         "y": [
          null
         ]
        },
        {
         "marker": {
          "color": "darkblue"
         },
         "mode": "markers",
         "name": "KDG: KODAGU",
         "type": "scatter",
         "x": [
          null
         ],
         "y": [
          null
         ]
        },
        {
         "marker": {
          "color": "darkblue"
         },
         "mode": "markers",
         "name": "MDY: MANDYA",
         "type": "scatter",
         "x": [
          null
         ],
         "y": [
          null
         ]
        },
        {
         "marker": {
          "color": "darkblue"
         },
         "mode": "markers",
         "name": "MYS: MYSURU",
         "type": "scatter",
         "x": [
          null
         ],
         "y": [
          null
         ]
        },
        {
         "marker": {
          "color": "darkblue"
         },
         "mode": "markers",
         "name": "CNR: CHAMARAJANAGAR",
         "type": "scatter",
         "x": [
          null
         ],
         "y": [
          null
         ]
        },
        {
         "marker": {
          "color": "darkblue"
         },
         "mode": "markers",
         "name": "BLG: BELAGAVI",
         "type": "scatter",
         "x": [
          null
         ],
         "y": [
          null
         ]
        },
        {
         "marker": {
          "color": "darkblue"
         },
         "mode": "markers",
         "name": "VJP: VIJAYAPURA",
         "type": "scatter",
         "x": [
          null
         ],
         "y": [
          null
         ]
        },
        {
         "marker": {
          "color": "darkblue"
         },
         "mode": "markers",
         "name": "BKT: BAGALKOT",
         "type": "scatter",
         "x": [
          null
         ],
         "y": [
          null
         ]
        },
        {
         "marker": {
          "color": "darkblue"
         },
         "mode": "markers",
         "name": "DWD: DHARAWAD",
         "type": "scatter",
         "x": [
          null
         ],
         "y": [
          null
         ]
        },
        {
         "marker": {
          "color": "darkblue"
         },
         "mode": "markers",
         "name": "GDG: GADAG",
         "type": "scatter",
         "x": [
          null
         ],
         "y": [
          null
         ]
        },
        {
         "marker": {
          "color": "darkblue"
         },
         "mode": "markers",
         "name": "HVR: HAVERI",
         "type": "scatter",
         "x": [
          null
         ],
         "y": [
          null
         ]
        },
        {
         "marker": {
          "color": "darkblue"
         },
         "mode": "markers",
         "name": "UTK: UTTARA KANNADA",
         "type": "scatter",
         "x": [
          null
         ],
         "y": [
          null
         ]
        },
        {
         "marker": {
          "color": "darkblue"
         },
         "mode": "markers",
         "name": "BLL: BALLARI",
         "type": "scatter",
         "x": [
          null
         ],
         "y": [
          null
         ]
        },
        {
         "marker": {
          "color": "darkblue"
         },
         "mode": "markers",
         "name": "BDR: BIDAR",
         "type": "scatter",
         "x": [
          null
         ],
         "y": [
          null
         ]
        },
        {
         "marker": {
          "color": "darkblue"
         },
         "mode": "markers",
         "name": "KLB: KALABURAGI",
         "type": "scatter",
         "x": [
          null
         ],
         "y": [
          null
         ]
        },
        {
         "marker": {
          "color": "darkblue"
         },
         "mode": "markers",
         "name": "YDR: YADGIRI",
         "type": "scatter",
         "x": [
          null
         ],
         "y": [
          null
         ]
        },
        {
         "marker": {
          "color": "darkblue"
         },
         "mode": "markers",
         "name": "RCR: RAICHUR",
         "type": "scatter",
         "x": [
          null
         ],
         "y": [
          null
         ]
        },
        {
         "marker": {
          "color": "darkblue"
         },
         "mode": "markers",
         "name": "KPL: KOPPAL",
         "type": "scatter",
         "x": [
          null
         ],
         "y": [
          null
         ]
        },
        {
         "marker": {
          "color": "darkblue"
         },
         "mode": "markers",
         "name": "nan: VIJAYANAGARA",
         "type": "scatter",
         "x": [
          null
         ],
         "y": [
          null
         ]
        },
        {
         "mode": "text",
         "showlegend": false,
         "text": [
          "Avg Stability: 0.86"
         ],
         "textfont": {
          "size": 10.7
         },
         "type": "scatter",
         "x": [
          0.8615191834354332
         ],
         "y": [
          -0.07
         ]
        },
        {
         "mode": "text",
         "showlegend": false,
         "text": [
          "Avg Percentage Change: 82.34"
         ],
         "textfont": {
          "size": 10.7
         },
         "type": "scatter",
         "x": [
          0.3
         ],
         "y": [
          82.29878029152069
         ]
        }
       ],
       "layout": {
        "annotations": [
         {
          "font": {
           "size": 13
          },
          "showarrow": false,
          "text": "α<sub>AG</sub>: 0.50, α<sub>MT</sub>: 0.50, α<sub>SHP</sub>: 0.50, α<sub>NPK</sub>: 0.50",
          "x": 0.5,
          "xref": "paper",
          "y": -0.25,
          "yref": "paper"
         }
        ],
        "legend": {
         "title": {
          "font": {
           "size": 12
          },
          "text": "Districts"
         },
         "tracegroupgap": 0
        },
        "shapes": [
         {
          "line": {
           "color": "red",
           "dash": "dash",
           "width": 1.5
          },
          "type": "line",
          "x0": 0.8615191834354332,
          "x1": 0.8615191834354332,
          "y0": 0,
          "y1": 1,
          "yref": "paper"
         },
         {
          "line": {
           "color": "red",
           "dash": "dash",
           "width": 1.5
          },
          "type": "line",
          "x0": 0,
          "x1": 1,
          "xref": "paper",
          "y0": 82.33878029152069,
          "y1": 82.33878029152069
         }
        ],
        "template": {
         "data": {
          "bar": [
           {
            "error_x": {
             "color": "#2a3f5f"
            },
            "error_y": {
             "color": "#2a3f5f"
            },
            "marker": {
             "line": {
              "color": "#E5ECF6",
              "width": 0.5
             },
             "pattern": {
              "fillmode": "overlay",
              "size": 10,
              "solidity": 0.2
             }
            },
            "type": "bar"
           }
          ],
          "barpolar": [
           {
            "marker": {
             "line": {
              "color": "#E5ECF6",
              "width": 0.5
             },
             "pattern": {
              "fillmode": "overlay",
              "size": 10,
              "solidity": 0.2
             }
            },
            "type": "barpolar"
           }
          ],
          "carpet": [
           {
            "aaxis": {
             "endlinecolor": "#2a3f5f",
             "gridcolor": "white",
             "linecolor": "white",
             "minorgridcolor": "white",
             "startlinecolor": "#2a3f5f"
            },
            "baxis": {
             "endlinecolor": "#2a3f5f",
             "gridcolor": "white",
             "linecolor": "white",
             "minorgridcolor": "white",
             "startlinecolor": "#2a3f5f"
            },
            "type": "carpet"
           }
          ],
          "choropleth": [
           {
            "colorbar": {
             "outlinewidth": 0,
             "ticks": ""
            },
            "type": "choropleth"
           }
          ],
          "contour": [
           {
            "colorbar": {
             "outlinewidth": 0,
             "ticks": ""
            },
            "colorscale": [
             [
              0,
              "#0d0887"
             ],
             [
              0.1111111111111111,
              "#46039f"
             ],
             [
              0.2222222222222222,
              "#7201a8"
             ],
             [
              0.3333333333333333,
              "#9c179e"
             ],
             [
              0.4444444444444444,
              "#bd3786"
             ],
             [
              0.5555555555555556,
              "#d8576b"
             ],
             [
              0.6666666666666666,
              "#ed7953"
             ],
             [
              0.7777777777777778,
              "#fb9f3a"
             ],
             [
              0.8888888888888888,
              "#fdca26"
             ],
             [
              1,
              "#f0f921"
             ]
            ],
            "type": "contour"
           }
          ],
          "contourcarpet": [
           {
            "colorbar": {
             "outlinewidth": 0,
             "ticks": ""
            },
            "type": "contourcarpet"
           }
          ],
          "heatmap": [
           {
            "colorbar": {
             "outlinewidth": 0,
             "ticks": ""
            },
            "colorscale": [
             [
              0,
              "#0d0887"
             ],
             [
              0.1111111111111111,
              "#46039f"
             ],
             [
              0.2222222222222222,
              "#7201a8"
             ],
             [
              0.3333333333333333,
              "#9c179e"
             ],
             [
              0.4444444444444444,
              "#bd3786"
             ],
             [
              0.5555555555555556,
              "#d8576b"
             ],
             [
              0.6666666666666666,
              "#ed7953"
             ],
             [
              0.7777777777777778,
              "#fb9f3a"
             ],
             [
              0.8888888888888888,
              "#fdca26"
             ],
             [
              1,
              "#f0f921"
             ]
            ],
            "type": "heatmap"
           }
          ],
          "heatmapgl": [
           {
            "colorbar": {
             "outlinewidth": 0,
             "ticks": ""
            },
            "colorscale": [
             [
              0,
              "#0d0887"
             ],
             [
              0.1111111111111111,
              "#46039f"
             ],
             [
              0.2222222222222222,
              "#7201a8"
             ],
             [
              0.3333333333333333,
              "#9c179e"
             ],
             [
              0.4444444444444444,
              "#bd3786"
             ],
             [
              0.5555555555555556,
              "#d8576b"
             ],
             [
              0.6666666666666666,
              "#ed7953"
             ],
             [
              0.7777777777777778,
              "#fb9f3a"
             ],
             [
              0.8888888888888888,
              "#fdca26"
             ],
             [
              1,
              "#f0f921"
             ]
            ],
            "type": "heatmapgl"
           }
          ],
          "histogram": [
           {
            "marker": {
             "pattern": {
              "fillmode": "overlay",
              "size": 10,
              "solidity": 0.2
             }
            },
            "type": "histogram"
           }
          ],
          "histogram2d": [
           {
            "colorbar": {
             "outlinewidth": 0,
             "ticks": ""
            },
            "colorscale": [
             [
              0,
              "#0d0887"
             ],
             [
              0.1111111111111111,
              "#46039f"
             ],
             [
              0.2222222222222222,
              "#7201a8"
             ],
             [
              0.3333333333333333,
              "#9c179e"
             ],
             [
              0.4444444444444444,
              "#bd3786"
             ],
             [
              0.5555555555555556,
              "#d8576b"
             ],
             [
              0.6666666666666666,
              "#ed7953"
             ],
             [
              0.7777777777777778,
              "#fb9f3a"
             ],
             [
              0.8888888888888888,
              "#fdca26"
             ],
             [
              1,
              "#f0f921"
             ]
            ],
            "type": "histogram2d"
           }
          ],
          "histogram2dcontour": [
           {
            "colorbar": {
             "outlinewidth": 0,
             "ticks": ""
            },
            "colorscale": [
             [
              0,
              "#0d0887"
             ],
             [
              0.1111111111111111,
              "#46039f"
             ],
             [
              0.2222222222222222,
              "#7201a8"
             ],
             [
              0.3333333333333333,
              "#9c179e"
             ],
             [
              0.4444444444444444,
              "#bd3786"
             ],
             [
              0.5555555555555556,
              "#d8576b"
             ],
             [
              0.6666666666666666,
              "#ed7953"
             ],
             [
              0.7777777777777778,
              "#fb9f3a"
             ],
             [
              0.8888888888888888,
              "#fdca26"
             ],
             [
              1,
              "#f0f921"
             ]
            ],
            "type": "histogram2dcontour"
           }
          ],
          "mesh3d": [
           {
            "colorbar": {
             "outlinewidth": 0,
             "ticks": ""
            },
            "type": "mesh3d"
           }
          ],
          "parcoords": [
           {
            "line": {
             "colorbar": {
              "outlinewidth": 0,
              "ticks": ""
             }
            },
            "type": "parcoords"
           }
          ],
          "pie": [
           {
            "automargin": true,
            "type": "pie"
           }
          ],
          "scatter": [
           {
            "fillpattern": {
             "fillmode": "overlay",
             "size": 10,
             "solidity": 0.2
            },
            "type": "scatter"
           }
          ],
          "scatter3d": [
           {
            "line": {
             "colorbar": {
              "outlinewidth": 0,
              "ticks": ""
             }
            },
            "marker": {
             "colorbar": {
              "outlinewidth": 0,
              "ticks": ""
             }
            },
            "type": "scatter3d"
           }
          ],
          "scattercarpet": [
           {
            "marker": {
             "colorbar": {
              "outlinewidth": 0,
              "ticks": ""
             }
            },
            "type": "scattercarpet"
           }
          ],
          "scattergeo": [
           {
            "marker": {
             "colorbar": {
              "outlinewidth": 0,
              "ticks": ""
             }
            },
            "type": "scattergeo"
           }
          ],
          "scattergl": [
           {
            "marker": {
             "colorbar": {
              "outlinewidth": 0,
              "ticks": ""
             }
            },
            "type": "scattergl"
           }
          ],
          "scattermapbox": [
           {
            "marker": {
             "colorbar": {
              "outlinewidth": 0,
              "ticks": ""
             }
            },
            "type": "scattermapbox"
           }
          ],
          "scatterpolar": [
           {
            "marker": {
             "colorbar": {
              "outlinewidth": 0,
              "ticks": ""
             }
            },
            "type": "scatterpolar"
           }
          ],
          "scatterpolargl": [
           {
            "marker": {
             "colorbar": {
              "outlinewidth": 0,
              "ticks": ""
             }
            },
            "type": "scatterpolargl"
           }
          ],
          "scatterternary": [
           {
            "marker": {
             "colorbar": {
              "outlinewidth": 0,
              "ticks": ""
             }
            },
            "type": "scatterternary"
           }
          ],
          "surface": [
           {
            "colorbar": {
             "outlinewidth": 0,
             "ticks": ""
            },
            "colorscale": [
             [
              0,
              "#0d0887"
             ],
             [
              0.1111111111111111,
              "#46039f"
             ],
             [
              0.2222222222222222,
              "#7201a8"
             ],
             [
              0.3333333333333333,
              "#9c179e"
             ],
             [
              0.4444444444444444,
              "#bd3786"
             ],
             [
              0.5555555555555556,
              "#d8576b"
             ],
             [
              0.6666666666666666,
              "#ed7953"
             ],
             [
              0.7777777777777778,
              "#fb9f3a"
             ],
             [
              0.8888888888888888,
              "#fdca26"
             ],
             [
              1,
              "#f0f921"
             ]
            ],
            "type": "surface"
           }
          ],
          "table": [
           {
            "cells": {
             "fill": {
              "color": "#EBF0F8"
             },
             "line": {
              "color": "white"
             }
            },
            "header": {
             "fill": {
              "color": "#C8D4E3"
             },
             "line": {
              "color": "white"
             }
            },
            "type": "table"
           }
          ]
         },
         "layout": {
          "annotationdefaults": {
           "arrowcolor": "#2a3f5f",
           "arrowhead": 0,
           "arrowwidth": 1
          },
          "autotypenumbers": "strict",
          "coloraxis": {
           "colorbar": {
            "outlinewidth": 0,
            "ticks": ""
           }
          },
          "colorscale": {
           "diverging": [
            [
             0,
             "#8e0152"
            ],
            [
             0.1,
             "#c51b7d"
            ],
            [
             0.2,
             "#de77ae"
            ],
            [
             0.3,
             "#f1b6da"
            ],
            [
             0.4,
             "#fde0ef"
            ],
            [
             0.5,
             "#f7f7f7"
            ],
            [
             0.6,
             "#e6f5d0"
            ],
            [
             0.7,
             "#b8e186"
            ],
            [
             0.8,
             "#7fbc41"
            ],
            [
             0.9,
             "#4d9221"
            ],
            [
             1,
             "#276419"
            ]
           ],
           "sequential": [
            [
             0,
             "#0d0887"
            ],
            [
             0.1111111111111111,
             "#46039f"
            ],
            [
             0.2222222222222222,
             "#7201a8"
            ],
            [
             0.3333333333333333,
             "#9c179e"
            ],
            [
             0.4444444444444444,
             "#bd3786"
            ],
            [
             0.5555555555555556,
             "#d8576b"
            ],
            [
             0.6666666666666666,
             "#ed7953"
            ],
            [
             0.7777777777777778,
             "#fb9f3a"
            ],
            [
             0.8888888888888888,
             "#fdca26"
            ],
            [
             1,
             "#f0f921"
            ]
           ],
           "sequentialminus": [
            [
             0,
             "#0d0887"
            ],
            [
             0.1111111111111111,
             "#46039f"
            ],
            [
             0.2222222222222222,
             "#7201a8"
            ],
            [
             0.3333333333333333,
             "#9c179e"
            ],
            [
             0.4444444444444444,
             "#bd3786"
            ],
            [
             0.5555555555555556,
             "#d8576b"
            ],
            [
             0.6666666666666666,
             "#ed7953"
            ],
            [
             0.7777777777777778,
             "#fb9f3a"
            ],
            [
             0.8888888888888888,
             "#fdca26"
            ],
            [
             1,
             "#f0f921"
            ]
           ]
          },
          "colorway": [
           "#636efa",
           "#EF553B",
           "#00cc96",
           "#ab63fa",
           "#FFA15A",
           "#19d3f3",
           "#FF6692",
           "#B6E880",
           "#FF97FF",
           "#FECB52"
          ],
          "font": {
           "color": "#2a3f5f"
          },
          "geo": {
           "bgcolor": "white",
           "lakecolor": "white",
           "landcolor": "#E5ECF6",
           "showlakes": true,
           "showland": true,
           "subunitcolor": "white"
          },
          "hoverlabel": {
           "align": "left"
          },
          "hovermode": "closest",
          "mapbox": {
           "style": "light"
          },
          "paper_bgcolor": "white",
          "plot_bgcolor": "#E5ECF6",
          "polar": {
           "angularaxis": {
            "gridcolor": "white",
            "linecolor": "white",
            "ticks": ""
           },
           "bgcolor": "#E5ECF6",
           "radialaxis": {
            "gridcolor": "white",
            "linecolor": "white",
            "ticks": ""
           }
          },
          "scene": {
           "xaxis": {
            "backgroundcolor": "#E5ECF6",
            "gridcolor": "white",
            "gridwidth": 2,
            "linecolor": "white",
            "showbackground": true,
            "ticks": "",
            "zerolinecolor": "white"
           },
           "yaxis": {
            "backgroundcolor": "#E5ECF6",
            "gridcolor": "white",
            "gridwidth": 2,
            "linecolor": "white",
            "showbackground": true,
            "ticks": "",
            "zerolinecolor": "white"
           },
           "zaxis": {
            "backgroundcolor": "#E5ECF6",
            "gridcolor": "white",
            "gridwidth": 2,
            "linecolor": "white",
            "showbackground": true,
            "ticks": "",
            "zerolinecolor": "white"
           }
          },
          "shapedefaults": {
           "line": {
            "color": "#2a3f5f"
           }
          },
          "ternary": {
           "aaxis": {
            "gridcolor": "white",
            "linecolor": "white",
            "ticks": ""
           },
           "baxis": {
            "gridcolor": "white",
            "linecolor": "white",
            "ticks": ""
           },
           "bgcolor": "#E5ECF6",
           "caxis": {
            "gridcolor": "white",
            "linecolor": "white",
            "ticks": ""
           }
          },
          "title": {
           "x": 0.05
          },
          "xaxis": {
           "automargin": true,
           "gridcolor": "white",
           "linecolor": "white",
           "ticks": "",
           "title": {
            "standoff": 15
           },
           "zerolinecolor": "white",
           "zerolinewidth": 2
          },
          "yaxis": {
           "automargin": true,
           "gridcolor": "white",
           "linecolor": "white",
           "ticks": "",
           "title": {
            "standoff": 15
           },
           "zerolinecolor": "white",
           "zerolinewidth": 2
          }
         }
        },
        "title": {
         "text": "GroundNut Percentage Change vs Stability"
        },
        "xaxis": {
         "anchor": "y",
         "domain": [
          0,
          1
         ],
         "title": {
          "text": "Stability"
         }
        },
        "yaxis": {
         "anchor": "x",
         "domain": [
          0,
          1
         ],
         "title": {
          "text": "Percentage Change"
         }
        }
       }
      }
     },
     "metadata": {},
     "output_type": "display_data"
    },
    {
     "data": {
      "application/vnd.jupyter.widget-view+json": {
       "model_id": "c486355aa8b449439ed51c3435f85c07",
       "version_major": 2,
       "version_minor": 0
      },
      "text/plain": [
       "interactive(children=(FloatSlider(value=0.5, description='αAG:', max=1.0), FloatSlider(value=0.5, description=…"
      ]
     },
     "metadata": {},
     "output_type": "display_data"
    },
    {
     "data": {
      "application/vnd.jupyter.widget-view+json": {
       "model_id": "737bf9bbe0a64e18935f1facb0331647",
       "version_major": 2,
       "version_minor": 0
      },
      "text/plain": [
       "HBox(children=(Button(description='Update Plot', style=ButtonStyle()), FloatSlider(value=0.5, description='αAG…"
      ]
     },
     "execution_count": 24,
     "metadata": {},
     "output_type": "execute_result"
    }
   ],
   "source": [
    "import pandas as pd\n",
    "import plotly.express as px\n",
    "import ipywidgets as widgets\n",
    "from ipywidgets import interact\n",
    "from IPython.display import clear_output\n",
    "import plotly.graph_objects as go\n",
    "\n",
    "def update_plot(alpha1, alpha2, alpha3, alpha4):\n",
    "    \n",
    "    tolerance = 1e-5 \n",
    "    filtered_df = viz_df[\n",
    "        (viz_df['Sensitivity_AreaUnderOilSeeds_GroundNut_210'].between(alpha1 - tolerance, alpha1 + tolerance)) &\n",
    "        (viz_df['Sensitivity_MotorVehicles_Tractors_514'].between(alpha2 - tolerance, alpha2 + tolerance)) &\n",
    "        (viz_df['Sensitivity_LivestockCensus_2012_Sheep_359'].between(alpha3 - tolerance, alpha3 + tolerance)) &\n",
    "        (viz_df['Sensitivity_TotalNPK_315'].between(alpha4 - tolerance, alpha4 + tolerance))\n",
    "    ]\n",
    "\n",
    "    # Create a scatter plot with filtered data\n",
    "    fig = px.scatter(filtered_df, x='Stability_Values', y='Percentage Change', title='GroundNut Percentage Change vs Stability',\n",
    "                     labels={'Percentage Change': 'Percentage Change', 'Stability_Values': 'Stability'},\n",
    "                     text='Abbreviation', opacity=1, color_discrete_sequence=['darkblue'])\n",
    "\n",
    "    fig.update_traces(textposition='top center', textfont=dict(size=11))\n",
    "\n",
    "    # Update layout to add annotations and legends\n",
    "    fig.update_layout(\n",
    "        annotations=[\n",
    "            dict(\n",
    "                x=0.5,\n",
    "                y=-0.25,\n",
    "                showarrow=False,\n",
    "                text=f'α<sub>AG</sub>: {alpha1:.2f}, α<sub>MT</sub>: {alpha2:.2f}, α<sub>SHP</sub>: {alpha3:.2f}, α<sub>NPK</sub>: {alpha4:.2f}',\n",
    "                xref=\"paper\",\n",
    "                yref=\"paper\",\n",
    "                font=dict(size=13)\n",
    "            )\n",
    "        ],\n",
    "        legend_title_text='Districts',\n",
    "        legend_title=dict(font=dict(size=12)),\n",
    "    )\n",
    "\n",
    "    # Adding custom legends with abbreviations and full forms\n",
    "    legend_labels = [{'Abbreviation': abb, 'Full Form': full_form} \n",
    "                     for abb, full_form in zip(filtered_df['Abbreviation'].unique(), filtered_df['District'].unique())]\n",
    "\n",
    "    for label in legend_labels:\n",
    "        fig.add_trace(go.Scatter(\n",
    "            x=[None],\n",
    "            y=[None],\n",
    "            mode='markers',\n",
    "            marker=dict(color='darkblue'),\n",
    "            name=f\"{label['Abbreviation']}: {label['Full Form']}\"\n",
    "        ))\n",
    "\n",
    "    # Adding average lines for stability and percentage change\n",
    "    avg_stability = filtered_df['Stability_Values'].mean()\n",
    "    avg_precent = filtered_df['Percentage Change'].median()\n",
    "\n",
    "    fig.add_shape(\n",
    "        type='line',\n",
    "        x0=avg_stability, y0=0, x1=avg_stability, y1=1,\n",
    "        line=dict(color='red', width=1.5, dash='dash'),\n",
    "        yref='paper'\n",
    "    )\n",
    "\n",
    "    fig.add_shape(\n",
    "        type='line',\n",
    "        x0=0, y0=avg_precent, x1=1, y1=avg_precent,\n",
    "        line=dict(color='red', width=1.5, dash='dash'),\n",
    "        xref='paper'\n",
    "    )\n",
    "\n",
    "    # Add annotations for average values\n",
    "    fig.add_trace(go.Scatter(\n",
    "        x=[avg_stability],\n",
    "        y=[-0.07],\n",
    "        text=[f'Avg Stability: {avg_stability:.2f}'],\n",
    "        mode=\"text\",\n",
    "        showlegend=False,\n",
    "        textfont=dict(size=10.7)\n",
    "    ))\n",
    "\n",
    "    fig.add_trace(go.Scatter(\n",
    "        x=[0.3],\n",
    "        y=[avg_precent-0.04],\n",
    "        text=[f'Avg Percentage Change: {avg_precent:.2f}'],\n",
    "        mode=\"text\",\n",
    "        showlegend=False,\n",
    "        textfont=dict(size=10.7)\n",
    "    ))\n",
    "\n",
    "    clear_output()\n",
    "\n",
    "    display(fig)\n",
    "\n",
    "# Creating sliders for interaction\n",
    "alpha1_slider = widgets.FloatSlider(value=0.5, min=0, max=1, step=0.1, description='αAG:')\n",
    "alpha2_slider = widgets.FloatSlider(value=0.5, min=0, max=1, step=0.1, description='αMT:')\n",
    "alpha3_slider = widgets.FloatSlider(value=0.5, min=0, max=1, step=0.1, description='αSHP:')\n",
    "alpha4_slider = widgets.FloatSlider(value=0.5, min=0, max=1, step=0.1, description='αNPK:')\n",
    "\n",
    "# Creating interactive plot\n",
    "interactive_plot = interact(update_plot, alpha1=alpha1_slider, alpha2=alpha2_slider, alpha3=alpha3_slider, alpha4=alpha4_slider)\n",
    "\n",
    "# Create update button to trigger plot update\n",
    "update_button = widgets.Button(description=\"Update Plot\")\n",
    "update_button.on_click(lambda _: update_plot(alpha1_slider.value, alpha2_slider.value, alpha3=alpha3_slider, alpha4=alpha4_slider))\n",
    "\n",
    "# Display the button and sliders\n",
    "widgets.HBox([update_button, alpha1_slider, alpha2_slider, alpha3_slider, alpha4_slider])\n"
   ]
  },
  {
   "cell_type": "code",
   "execution_count": 25,
   "metadata": {},
   "outputs": [],
   "source": [
    "result_df.to_csv('GroundNut_Prescriptive_5000.csv',index=False)"
   ]
  }
 ],
 "metadata": {
  "kernelspec": {
   "display_name": "Python 3",
   "language": "python",
   "name": "python3"
  },
  "language_info": {
   "codemirror_mode": {
    "name": "ipython",
    "version": 3
   },
   "file_extension": ".py",
   "mimetype": "text/x-python",
   "name": "python",
   "nbconvert_exporter": "python",
   "pygments_lexer": "ipython3",
   "version": "3.9.13"
  }
 },
 "nbformat": 4,
 "nbformat_minor": 2
}
