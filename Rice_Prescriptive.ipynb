{
 "cells": [
  {
   "cell_type": "code",
   "execution_count": 275,
   "metadata": {},
   "outputs": [],
   "source": [
    "import pandas as pd\n",
    "import statsmodels.api as sm\n",
    "import re\n",
    "import numpy as np\n",
    "import pandas as pd\n",
    "from itertools import product"
   ]
  },
  {
   "cell_type": "code",
   "execution_count": 276,
   "metadata": {},
   "outputs": [
    {
     "data": {
      "text/html": [
       "<div>\n",
       "<style scoped>\n",
       "    .dataframe tbody tr th:only-of-type {\n",
       "        vertical-align: middle;\n",
       "    }\n",
       "\n",
       "    .dataframe tbody tr th {\n",
       "        vertical-align: top;\n",
       "    }\n",
       "\n",
       "    .dataframe thead th {\n",
       "        text-align: right;\n",
       "    }\n",
       "</style>\n",
       "<table border=\"1\" class=\"dataframe\">\n",
       "  <thead>\n",
       "    <tr style=\"text-align: right;\">\n",
       "      <th></th>\n",
       "      <th>District</th>\n",
       "      <th>Rice_Production</th>\n",
       "      <th>TotalNPK</th>\n",
       "      <th>AreaUnderCereals_Paddy</th>\n",
       "      <th>NetAreaIrrigated_Canals_NetAreaIrrigated</th>\n",
       "      <th>Rice_Ratio</th>\n",
       "    </tr>\n",
       "  </thead>\n",
       "  <tbody>\n",
       "    <tr>\n",
       "      <th>0</th>\n",
       "      <td>BENGALURU</td>\n",
       "      <td>3376.0</td>\n",
       "      <td>513.822990</td>\n",
       "      <td>782.0</td>\n",
       "      <td>0.000000</td>\n",
       "      <td>0.022043</td>\n",
       "    </tr>\n",
       "    <tr>\n",
       "      <th>1</th>\n",
       "      <td>BENGALURU(R)</td>\n",
       "      <td>2354.0</td>\n",
       "      <td>167.835355</td>\n",
       "      <td>736.0</td>\n",
       "      <td>0.000000</td>\n",
       "      <td>0.008715</td>\n",
       "    </tr>\n",
       "    <tr>\n",
       "      <th>2</th>\n",
       "      <td>RAMANAGARA</td>\n",
       "      <td>12128.0</td>\n",
       "      <td>257.908893</td>\n",
       "      <td>4468.0</td>\n",
       "      <td>272.509463</td>\n",
       "      <td>0.034517</td>\n",
       "    </tr>\n",
       "    <tr>\n",
       "      <th>3</th>\n",
       "      <td>CHITRADURGA</td>\n",
       "      <td>4566.0</td>\n",
       "      <td>183.032957</td>\n",
       "      <td>1297.0</td>\n",
       "      <td>9.283245</td>\n",
       "      <td>0.005101</td>\n",
       "    </tr>\n",
       "    <tr>\n",
       "      <th>4</th>\n",
       "      <td>DAVANAGERE</td>\n",
       "      <td>489505.0</td>\n",
       "      <td>21197.529554</td>\n",
       "      <td>98259.0</td>\n",
       "      <td>18037.386429</td>\n",
       "      <td>0.212733</td>\n",
       "    </tr>\n",
       "    <tr>\n",
       "      <th>5</th>\n",
       "      <td>KOLAR</td>\n",
       "      <td>864.0</td>\n",
       "      <td>108.445953</td>\n",
       "      <td>395.0</td>\n",
       "      <td>0.000000</td>\n",
       "      <td>0.004887</td>\n",
       "    </tr>\n",
       "    <tr>\n",
       "      <th>6</th>\n",
       "      <td>CHIKKABALLAPURA</td>\n",
       "      <td>2698.0</td>\n",
       "      <td>209.640893</td>\n",
       "      <td>1333.0</td>\n",
       "      <td>0.000000</td>\n",
       "      <td>0.007393</td>\n",
       "    </tr>\n",
       "    <tr>\n",
       "      <th>7</th>\n",
       "      <td>SHIVAMOGGA</td>\n",
       "      <td>384974.0</td>\n",
       "      <td>17722.015760</td>\n",
       "      <td>109617.0</td>\n",
       "      <td>13305.677787</td>\n",
       "      <td>0.313060</td>\n",
       "    </tr>\n",
       "    <tr>\n",
       "      <th>8</th>\n",
       "      <td>TUMAKURU</td>\n",
       "      <td>26042.0</td>\n",
       "      <td>1069.562417</td>\n",
       "      <td>10379.0</td>\n",
       "      <td>114.924409</td>\n",
       "      <td>0.028037</td>\n",
       "    </tr>\n",
       "    <tr>\n",
       "      <th>9</th>\n",
       "      <td>CHIKKAMAGALURU</td>\n",
       "      <td>110533.0</td>\n",
       "      <td>14694.297645</td>\n",
       "      <td>33036.0</td>\n",
       "      <td>1344.644186</td>\n",
       "      <td>0.216529</td>\n",
       "    </tr>\n",
       "    <tr>\n",
       "      <th>10</th>\n",
       "      <td>DAKSHINA KANNADA</td>\n",
       "      <td>132588.0</td>\n",
       "      <td>8898.497787</td>\n",
       "      <td>48689.0</td>\n",
       "      <td>0.000000</td>\n",
       "      <td>0.478723</td>\n",
       "    </tr>\n",
       "    <tr>\n",
       "      <th>11</th>\n",
       "      <td>UDUPI</td>\n",
       "      <td>138156.0</td>\n",
       "      <td>2921.382123</td>\n",
       "      <td>49608.0</td>\n",
       "      <td>0.000000</td>\n",
       "      <td>0.475176</td>\n",
       "    </tr>\n",
       "    <tr>\n",
       "      <th>12</th>\n",
       "      <td>HASSAN</td>\n",
       "      <td>143705.0</td>\n",
       "      <td>7332.607213</td>\n",
       "      <td>42818.0</td>\n",
       "      <td>3867.912533</td>\n",
       "      <td>0.107153</td>\n",
       "    </tr>\n",
       "    <tr>\n",
       "      <th>13</th>\n",
       "      <td>KODAGU</td>\n",
       "      <td>86303.0</td>\n",
       "      <td>16946.721245</td>\n",
       "      <td>28336.0</td>\n",
       "      <td>507.404211</td>\n",
       "      <td>0.413870</td>\n",
       "    </tr>\n",
       "    <tr>\n",
       "      <th>14</th>\n",
       "      <td>MANDYA</td>\n",
       "      <td>246543.0</td>\n",
       "      <td>18424.665100</td>\n",
       "      <td>58487.0</td>\n",
       "      <td>27586.796690</td>\n",
       "      <td>0.304248</td>\n",
       "    </tr>\n",
       "    <tr>\n",
       "      <th>15</th>\n",
       "      <td>MYSURU</td>\n",
       "      <td>354227.0</td>\n",
       "      <td>17937.675249</td>\n",
       "      <td>93521.0</td>\n",
       "      <td>26552.468392</td>\n",
       "      <td>0.289252</td>\n",
       "    </tr>\n",
       "    <tr>\n",
       "      <th>16</th>\n",
       "      <td>CHAMARAJANAGAR</td>\n",
       "      <td>45856.0</td>\n",
       "      <td>2260.361257</td>\n",
       "      <td>13881.0</td>\n",
       "      <td>1997.983483</td>\n",
       "      <td>0.094961</td>\n",
       "    </tr>\n",
       "    <tr>\n",
       "      <th>17</th>\n",
       "      <td>BELAGAVI</td>\n",
       "      <td>177552.0</td>\n",
       "      <td>14865.464724</td>\n",
       "      <td>61230.0</td>\n",
       "      <td>4947.776905</td>\n",
       "      <td>0.082590</td>\n",
       "    </tr>\n",
       "    <tr>\n",
       "      <th>18</th>\n",
       "      <td>VIJAYAPURA</td>\n",
       "      <td>170.0</td>\n",
       "      <td>7.826782</td>\n",
       "      <td>51.0</td>\n",
       "      <td>12.617706</td>\n",
       "      <td>0.000144</td>\n",
       "    </tr>\n",
       "    <tr>\n",
       "      <th>19</th>\n",
       "      <td>BAGALKOT</td>\n",
       "      <td>85.0</td>\n",
       "      <td>7.747128</td>\n",
       "      <td>32.0</td>\n",
       "      <td>0.185064</td>\n",
       "      <td>0.000091</td>\n",
       "    </tr>\n",
       "    <tr>\n",
       "      <th>20</th>\n",
       "      <td>DHARAWAD</td>\n",
       "      <td>33989.0</td>\n",
       "      <td>2417.985953</td>\n",
       "      <td>23909.0</td>\n",
       "      <td>1020.662913</td>\n",
       "      <td>0.064685</td>\n",
       "    </tr>\n",
       "    <tr>\n",
       "      <th>21</th>\n",
       "      <td>GADAG</td>\n",
       "      <td>7258.0</td>\n",
       "      <td>293.056198</td>\n",
       "      <td>1706.0</td>\n",
       "      <td>384.409670</td>\n",
       "      <td>0.012588</td>\n",
       "    </tr>\n",
       "    <tr>\n",
       "      <th>22</th>\n",
       "      <td>HAVERI</td>\n",
       "      <td>125422.0</td>\n",
       "      <td>6591.662844</td>\n",
       "      <td>44968.0</td>\n",
       "      <td>520.631945</td>\n",
       "      <td>0.101409</td>\n",
       "    </tr>\n",
       "    <tr>\n",
       "      <th>23</th>\n",
       "      <td>UTTARA KANNADA</td>\n",
       "      <td>152981.0</td>\n",
       "      <td>6513.612078</td>\n",
       "      <td>66147.0</td>\n",
       "      <td>0.000000</td>\n",
       "      <td>0.425282</td>\n",
       "    </tr>\n",
       "    <tr>\n",
       "      <th>24</th>\n",
       "      <td>BALLARI</td>\n",
       "      <td>206115.5</td>\n",
       "      <td>16648.820502</td>\n",
       "      <td>46832.5</td>\n",
       "      <td>20953.141802</td>\n",
       "      <td>0.269990</td>\n",
       "    </tr>\n",
       "    <tr>\n",
       "      <th>25</th>\n",
       "      <td>BIDAR</td>\n",
       "      <td>2036.0</td>\n",
       "      <td>181.920490</td>\n",
       "      <td>1548.0</td>\n",
       "      <td>0.000000</td>\n",
       "      <td>0.007378</td>\n",
       "    </tr>\n",
       "    <tr>\n",
       "      <th>26</th>\n",
       "      <td>KALABURAGI</td>\n",
       "      <td>7888.0</td>\n",
       "      <td>383.098388</td>\n",
       "      <td>4199.0</td>\n",
       "      <td>148.020607</td>\n",
       "      <td>0.007095</td>\n",
       "    </tr>\n",
       "    <tr>\n",
       "      <th>27</th>\n",
       "      <td>YADGIRI</td>\n",
       "      <td>224659.0</td>\n",
       "      <td>30981.381245</td>\n",
       "      <td>49358.0</td>\n",
       "      <td>30897.307860</td>\n",
       "      <td>0.339006</td>\n",
       "    </tr>\n",
       "    <tr>\n",
       "      <th>28</th>\n",
       "      <td>RAICHUR</td>\n",
       "      <td>492342.0</td>\n",
       "      <td>41912.073068</td>\n",
       "      <td>115246.0</td>\n",
       "      <td>39866.073203</td>\n",
       "      <td>0.357505</td>\n",
       "    </tr>\n",
       "    <tr>\n",
       "      <th>29</th>\n",
       "      <td>KOPPAL</td>\n",
       "      <td>243505.0</td>\n",
       "      <td>14075.849458</td>\n",
       "      <td>50753.0</td>\n",
       "      <td>7221.642581</td>\n",
       "      <td>0.191373</td>\n",
       "    </tr>\n",
       "    <tr>\n",
       "      <th>30</th>\n",
       "      <td>VIJAYANAGARA</td>\n",
       "      <td>206115.5</td>\n",
       "      <td>16648.820502</td>\n",
       "      <td>46832.5</td>\n",
       "      <td>20953.141802</td>\n",
       "      <td>0.269990</td>\n",
       "    </tr>\n",
       "  </tbody>\n",
       "</table>\n",
       "</div>"
      ],
      "text/plain": [
       "            District  Rice_Production      TotalNPK  AreaUnderCereals_Paddy  \\\n",
       "0          BENGALURU           3376.0    513.822990                   782.0   \n",
       "1       BENGALURU(R)           2354.0    167.835355                   736.0   \n",
       "2         RAMANAGARA          12128.0    257.908893                  4468.0   \n",
       "3        CHITRADURGA           4566.0    183.032957                  1297.0   \n",
       "4         DAVANAGERE         489505.0  21197.529554                 98259.0   \n",
       "5              KOLAR            864.0    108.445953                   395.0   \n",
       "6    CHIKKABALLAPURA           2698.0    209.640893                  1333.0   \n",
       "7         SHIVAMOGGA         384974.0  17722.015760                109617.0   \n",
       "8           TUMAKURU          26042.0   1069.562417                 10379.0   \n",
       "9     CHIKKAMAGALURU         110533.0  14694.297645                 33036.0   \n",
       "10  DAKSHINA KANNADA         132588.0   8898.497787                 48689.0   \n",
       "11             UDUPI         138156.0   2921.382123                 49608.0   \n",
       "12            HASSAN         143705.0   7332.607213                 42818.0   \n",
       "13            KODAGU          86303.0  16946.721245                 28336.0   \n",
       "14            MANDYA         246543.0  18424.665100                 58487.0   \n",
       "15            MYSURU         354227.0  17937.675249                 93521.0   \n",
       "16    CHAMARAJANAGAR          45856.0   2260.361257                 13881.0   \n",
       "17          BELAGAVI         177552.0  14865.464724                 61230.0   \n",
       "18        VIJAYAPURA            170.0      7.826782                    51.0   \n",
       "19          BAGALKOT             85.0      7.747128                    32.0   \n",
       "20          DHARAWAD          33989.0   2417.985953                 23909.0   \n",
       "21             GADAG           7258.0    293.056198                  1706.0   \n",
       "22            HAVERI         125422.0   6591.662844                 44968.0   \n",
       "23    UTTARA KANNADA         152981.0   6513.612078                 66147.0   \n",
       "24           BALLARI         206115.5  16648.820502                 46832.5   \n",
       "25             BIDAR           2036.0    181.920490                  1548.0   \n",
       "26        KALABURAGI           7888.0    383.098388                  4199.0   \n",
       "27           YADGIRI         224659.0  30981.381245                 49358.0   \n",
       "28           RAICHUR         492342.0  41912.073068                115246.0   \n",
       "29            KOPPAL         243505.0  14075.849458                 50753.0   \n",
       "30      VIJAYANAGARA         206115.5  16648.820502                 46832.5   \n",
       "\n",
       "    NetAreaIrrigated_Canals_NetAreaIrrigated  Rice_Ratio  \n",
       "0                                   0.000000    0.022043  \n",
       "1                                   0.000000    0.008715  \n",
       "2                                 272.509463    0.034517  \n",
       "3                                   9.283245    0.005101  \n",
       "4                               18037.386429    0.212733  \n",
       "5                                   0.000000    0.004887  \n",
       "6                                   0.000000    0.007393  \n",
       "7                               13305.677787    0.313060  \n",
       "8                                 114.924409    0.028037  \n",
       "9                                1344.644186    0.216529  \n",
       "10                                  0.000000    0.478723  \n",
       "11                                  0.000000    0.475176  \n",
       "12                               3867.912533    0.107153  \n",
       "13                                507.404211    0.413870  \n",
       "14                              27586.796690    0.304248  \n",
       "15                              26552.468392    0.289252  \n",
       "16                               1997.983483    0.094961  \n",
       "17                               4947.776905    0.082590  \n",
       "18                                 12.617706    0.000144  \n",
       "19                                  0.185064    0.000091  \n",
       "20                               1020.662913    0.064685  \n",
       "21                                384.409670    0.012588  \n",
       "22                                520.631945    0.101409  \n",
       "23                                  0.000000    0.425282  \n",
       "24                              20953.141802    0.269990  \n",
       "25                                  0.000000    0.007378  \n",
       "26                                148.020607    0.007095  \n",
       "27                              30897.307860    0.339006  \n",
       "28                              39866.073203    0.357505  \n",
       "29                               7221.642581    0.191373  \n",
       "30                              20953.141802    0.269990  "
      ]
     },
     "execution_count": 276,
     "metadata": {},
     "output_type": "execute_result"
    }
   ],
   "source": [
    "def remove_pattern(col_name):\n",
    "    return re.sub(r'_[0-9]{3}$', '', col_name)\n",
    "\n",
    "Zones = pd.read_excel('Zones.xlsx')\n",
    "Dataset = pd.read_csv('KAG 2016-17\\Agriculture\\Agriculture_KAG_2016_17.csv')\n",
    "Dataset.columns = map(remove_pattern, Dataset.columns)\n",
    "\n",
    "param = pd.read_csv('Params/3_parameters_multicollinearity_rice.csv')\n",
    "param.columns = map(remove_pattern, param.columns)\n",
    "\n",
    "Working_Directory = pd.read_csv('Working_Directory.csv')\n",
    "Working_Directory = Working_Directory[['District','Rice_Production', 'TotalNPK','AreaUnderCereals_Paddy','NetAreaIrrigated_Canals_NetAreaIrrigated','Rice_Ratio']].copy()\n",
    "\n",
    "for x in param.columns:\n",
    "    if(x != 'AreaUnderCereals_Paddy'):\n",
    "        Working_Directory[x] = Working_Directory[x]*Working_Directory['Rice_Ratio']\n",
    "\n",
    "Working_Directory"
   ]
  },
  {
   "cell_type": "code",
   "execution_count": 277,
   "metadata": {},
   "outputs": [
    {
     "data": {
      "text/html": [
       "<div>\n",
       "<style scoped>\n",
       "    .dataframe tbody tr th:only-of-type {\n",
       "        vertical-align: middle;\n",
       "    }\n",
       "\n",
       "    .dataframe tbody tr th {\n",
       "        vertical-align: top;\n",
       "    }\n",
       "\n",
       "    .dataframe thead th {\n",
       "        text-align: right;\n",
       "    }\n",
       "</style>\n",
       "<table border=\"1\" class=\"dataframe\">\n",
       "  <thead>\n",
       "    <tr style=\"text-align: right;\">\n",
       "      <th></th>\n",
       "      <th>AreaUnderCereals_Paddy</th>\n",
       "      <th>TotalNPK</th>\n",
       "      <th>NetAreaIrrigated_Canals_NetAreaIrrigated</th>\n",
       "    </tr>\n",
       "  </thead>\n",
       "  <tbody>\n",
       "    <tr>\n",
       "      <th>0</th>\n",
       "      <td>782.0</td>\n",
       "      <td>513.822990</td>\n",
       "      <td>0.000000</td>\n",
       "    </tr>\n",
       "    <tr>\n",
       "      <th>1</th>\n",
       "      <td>736.0</td>\n",
       "      <td>167.835355</td>\n",
       "      <td>0.000000</td>\n",
       "    </tr>\n",
       "    <tr>\n",
       "      <th>2</th>\n",
       "      <td>4468.0</td>\n",
       "      <td>257.908893</td>\n",
       "      <td>272.509463</td>\n",
       "    </tr>\n",
       "    <tr>\n",
       "      <th>3</th>\n",
       "      <td>1297.0</td>\n",
       "      <td>183.032957</td>\n",
       "      <td>9.283245</td>\n",
       "    </tr>\n",
       "    <tr>\n",
       "      <th>4</th>\n",
       "      <td>98259.0</td>\n",
       "      <td>21197.529554</td>\n",
       "      <td>18037.386429</td>\n",
       "    </tr>\n",
       "  </tbody>\n",
       "</table>\n",
       "</div>"
      ],
      "text/plain": [
       "   AreaUnderCereals_Paddy      TotalNPK  \\\n",
       "0                   782.0    513.822990   \n",
       "1                   736.0    167.835355   \n",
       "2                  4468.0    257.908893   \n",
       "3                  1297.0    183.032957   \n",
       "4                 98259.0  21197.529554   \n",
       "\n",
       "   NetAreaIrrigated_Canals_NetAreaIrrigated  \n",
       "0                                  0.000000  \n",
       "1                                  0.000000  \n",
       "2                                272.509463  \n",
       "3                                  9.283245  \n",
       "4                              18037.386429  "
      ]
     },
     "execution_count": 277,
     "metadata": {},
     "output_type": "execute_result"
    }
   ],
   "source": [
    "Case_file = pd.read_csv('Params/3_parameters_multicollinearity_rice.csv')\n",
    "y = Working_Directory['Rice_Production']\n",
    "Case_file[:5]"
   ]
  },
  {
   "cell_type": "code",
   "execution_count": 278,
   "metadata": {},
   "outputs": [
    {
     "data": {
      "text/html": [
       "<div>\n",
       "<style scoped>\n",
       "    .dataframe tbody tr th:only-of-type {\n",
       "        vertical-align: middle;\n",
       "    }\n",
       "\n",
       "    .dataframe tbody tr th {\n",
       "        vertical-align: top;\n",
       "    }\n",
       "\n",
       "    .dataframe thead th {\n",
       "        text-align: right;\n",
       "    }\n",
       "</style>\n",
       "<table border=\"1\" class=\"dataframe\">\n",
       "  <thead>\n",
       "    <tr style=\"text-align: right;\">\n",
       "      <th></th>\n",
       "      <th>AreaUnderCereals_Paddy</th>\n",
       "      <th>TotalNPK</th>\n",
       "      <th>NetAreaIrrigated_Canals_NetAreaIrrigated</th>\n",
       "    </tr>\n",
       "  </thead>\n",
       "  <tbody>\n",
       "    <tr>\n",
       "      <th>24</th>\n",
       "      <td>46832.5</td>\n",
       "      <td>16648.820502</td>\n",
       "      <td>20953.141802</td>\n",
       "    </tr>\n",
       "    <tr>\n",
       "      <th>25</th>\n",
       "      <td>1548.0</td>\n",
       "      <td>181.920490</td>\n",
       "      <td>0.000000</td>\n",
       "    </tr>\n",
       "    <tr>\n",
       "      <th>26</th>\n",
       "      <td>4199.0</td>\n",
       "      <td>383.098388</td>\n",
       "      <td>148.020607</td>\n",
       "    </tr>\n",
       "    <tr>\n",
       "      <th>27</th>\n",
       "      <td>49358.0</td>\n",
       "      <td>30981.381245</td>\n",
       "      <td>30897.307860</td>\n",
       "    </tr>\n",
       "    <tr>\n",
       "      <th>28</th>\n",
       "      <td>115246.0</td>\n",
       "      <td>41912.073068</td>\n",
       "      <td>39866.073203</td>\n",
       "    </tr>\n",
       "    <tr>\n",
       "      <th>29</th>\n",
       "      <td>50753.0</td>\n",
       "      <td>14075.849458</td>\n",
       "      <td>7221.642581</td>\n",
       "    </tr>\n",
       "    <tr>\n",
       "      <th>30</th>\n",
       "      <td>46832.5</td>\n",
       "      <td>16648.820502</td>\n",
       "      <td>20953.141802</td>\n",
       "    </tr>\n",
       "  </tbody>\n",
       "</table>\n",
       "</div>"
      ],
      "text/plain": [
       "    AreaUnderCereals_Paddy      TotalNPK  \\\n",
       "24                 46832.5  16648.820502   \n",
       "25                  1548.0    181.920490   \n",
       "26                  4199.0    383.098388   \n",
       "27                 49358.0  30981.381245   \n",
       "28                115246.0  41912.073068   \n",
       "29                 50753.0  14075.849458   \n",
       "30                 46832.5  16648.820502   \n",
       "\n",
       "    NetAreaIrrigated_Canals_NetAreaIrrigated  \n",
       "24                              20953.141802  \n",
       "25                                  0.000000  \n",
       "26                                148.020607  \n",
       "27                              30897.307860  \n",
       "28                              39866.073203  \n",
       "29                               7221.642581  \n",
       "30                              20953.141802  "
      ]
     },
     "execution_count": 278,
     "metadata": {},
     "output_type": "execute_result"
    }
   ],
   "source": [
    "if(len(Case_file) < 31):\n",
    "    row_24 = Case_file.iloc[24]\n",
    "    halved_row_24 = row_24 / 2\n",
    "    Case_file.iloc[24] = halved_row_24\n",
    "    Case_file.loc[len(Case_file)] = halved_row_24\n",
    "\n",
    "Case_file[24:]"
   ]
  },
  {
   "cell_type": "code",
   "execution_count": 279,
   "metadata": {},
   "outputs": [
    {
     "data": {
      "text/plain": [
       "29"
      ]
     },
     "execution_count": 279,
     "metadata": {},
     "output_type": "execute_result"
    }
   ],
   "source": [
    "# Ensure that the index of y and Case_file are aligned\n",
    "y = y.loc[Case_file.index]\n",
    "\n",
    "# Identify rows in Case_file that have any zeros\n",
    "rows_to_remove = (Case_file == 0).any(axis=1)\n",
    "\n",
    "# Apply the mask to both DataFrames\n",
    "# Case_file = Case_file[~rows_to_remove].reset_index(drop=True)\n",
    "# y = y[~rows_to_remove].reset_index(drop=True)\n",
    "\n",
    "mean_value = Working_Directory[~rows_to_remove]['NetAreaIrrigated_Canals_NetAreaIrrigated'].mean()\n",
    "Working_Directory.loc[rows_to_remove, 'NetAreaIrrigated_Canals_NetAreaIrrigated'] = mean_value\n",
    "Case_file['NetAreaIrrigated_Canals_NetAreaIrrigated'] = Working_Directory['NetAreaIrrigated_Canals_NetAreaIrrigated']*Working_Directory['Rice_Ratio']\n",
    "\n",
    "\n",
    "# Identify rows where 'Rice_Production' is less than 500\n",
    "rows_to_remove = Working_Directory['Rice_Production'] < 500\n",
    "\n",
    "# Apply the mask to both DataFrames\n",
    "Case_file = Case_file[~rows_to_remove].reset_index(drop=True)\n",
    "y = y[~rows_to_remove].reset_index(drop=True)\n",
    "\n",
    "# Correct way to get the length of Case_file\n",
    "case_file_length = len(Case_file)\n",
    "case_file_length"
   ]
  },
  {
   "cell_type": "code",
   "execution_count": 280,
   "metadata": {},
   "outputs": [
    {
     "data": {
      "text/plain": [
       "Index(['AreaUnderCereals_Paddy', 'TotalNPK',\n",
       "       'NetAreaIrrigated_Canals_NetAreaIrrigated'],\n",
       "      dtype='object')"
      ]
     },
     "execution_count": 280,
     "metadata": {},
     "output_type": "execute_result"
    }
   ],
   "source": [
    "Case_file.columns"
   ]
  },
  {
   "cell_type": "code",
   "execution_count": 281,
   "metadata": {},
   "outputs": [
    {
     "data": {
      "text/html": [
       "<div>\n",
       "<style scoped>\n",
       "    .dataframe tbody tr th:only-of-type {\n",
       "        vertical-align: middle;\n",
       "    }\n",
       "\n",
       "    .dataframe tbody tr th {\n",
       "        vertical-align: top;\n",
       "    }\n",
       "\n",
       "    .dataframe thead th {\n",
       "        text-align: right;\n",
       "    }\n",
       "</style>\n",
       "<table border=\"1\" class=\"dataframe\">\n",
       "  <thead>\n",
       "    <tr style=\"text-align: right;\">\n",
       "      <th></th>\n",
       "      <th>const</th>\n",
       "      <th>AreaUnderCereals_Paddy</th>\n",
       "      <th>TotalNPK</th>\n",
       "      <th>NetAreaIrrigated_Canals_NetAreaIrrigated</th>\n",
       "    </tr>\n",
       "  </thead>\n",
       "  <tbody>\n",
       "    <tr>\n",
       "      <th>0</th>\n",
       "      <td>1.0</td>\n",
       "      <td>782.0</td>\n",
       "      <td>513.822990</td>\n",
       "      <td>211.347216</td>\n",
       "    </tr>\n",
       "    <tr>\n",
       "      <th>1</th>\n",
       "      <td>1.0</td>\n",
       "      <td>736.0</td>\n",
       "      <td>167.835355</td>\n",
       "      <td>83.555490</td>\n",
       "    </tr>\n",
       "    <tr>\n",
       "      <th>2</th>\n",
       "      <td>1.0</td>\n",
       "      <td>4468.0</td>\n",
       "      <td>257.908893</td>\n",
       "      <td>9.406131</td>\n",
       "    </tr>\n",
       "    <tr>\n",
       "      <th>3</th>\n",
       "      <td>1.0</td>\n",
       "      <td>1297.0</td>\n",
       "      <td>183.032957</td>\n",
       "      <td>0.047351</td>\n",
       "    </tr>\n",
       "    <tr>\n",
       "      <th>4</th>\n",
       "      <td>1.0</td>\n",
       "      <td>98259.0</td>\n",
       "      <td>21197.529554</td>\n",
       "      <td>3837.140539</td>\n",
       "    </tr>\n",
       "  </tbody>\n",
       "</table>\n",
       "</div>"
      ],
      "text/plain": [
       "   const  AreaUnderCereals_Paddy      TotalNPK  \\\n",
       "0    1.0                   782.0    513.822990   \n",
       "1    1.0                   736.0    167.835355   \n",
       "2    1.0                  4468.0    257.908893   \n",
       "3    1.0                  1297.0    183.032957   \n",
       "4    1.0                 98259.0  21197.529554   \n",
       "\n",
       "   NetAreaIrrigated_Canals_NetAreaIrrigated  \n",
       "0                                211.347216  \n",
       "1                                 83.555490  \n",
       "2                                  9.406131  \n",
       "3                                  0.047351  \n",
       "4                               3837.140539  "
      ]
     },
     "execution_count": 281,
     "metadata": {},
     "output_type": "execute_result"
    }
   ],
   "source": [
    "Case_file =sm.add_constant(Case_file)\n",
    "Case_file.head()"
   ]
  },
  {
   "cell_type": "code",
   "execution_count": 282,
   "metadata": {},
   "outputs": [
    {
     "data": {
      "text/html": [
       "<div>\n",
       "<style scoped>\n",
       "    .dataframe tbody tr th:only-of-type {\n",
       "        vertical-align: middle;\n",
       "    }\n",
       "\n",
       "    .dataframe tbody tr th {\n",
       "        vertical-align: top;\n",
       "    }\n",
       "\n",
       "    .dataframe thead th {\n",
       "        text-align: right;\n",
       "    }\n",
       "</style>\n",
       "<table border=\"1\" class=\"dataframe\">\n",
       "  <thead>\n",
       "    <tr style=\"text-align: right;\">\n",
       "      <th></th>\n",
       "      <th>Rice_Production</th>\n",
       "    </tr>\n",
       "  </thead>\n",
       "  <tbody>\n",
       "    <tr>\n",
       "      <th>0</th>\n",
       "      <td>0.005111</td>\n",
       "    </tr>\n",
       "    <tr>\n",
       "      <th>1</th>\n",
       "      <td>0.003032</td>\n",
       "    </tr>\n",
       "    <tr>\n",
       "      <th>2</th>\n",
       "      <td>0.022919</td>\n",
       "    </tr>\n",
       "    <tr>\n",
       "      <th>3</th>\n",
       "      <td>0.007532</td>\n",
       "    </tr>\n",
       "    <tr>\n",
       "      <th>4</th>\n",
       "      <td>0.994228</td>\n",
       "    </tr>\n",
       "  </tbody>\n",
       "</table>\n",
       "</div>"
      ],
      "text/plain": [
       "   Rice_Production\n",
       "0         0.005111\n",
       "1         0.003032\n",
       "2         0.022919\n",
       "3         0.007532\n",
       "4         0.994228"
      ]
     },
     "execution_count": 282,
     "metadata": {},
     "output_type": "execute_result"
    }
   ],
   "source": [
    "from sklearn.preprocessing import MinMaxScaler\n",
    "from sklearn.preprocessing import StandardScaler\n",
    "\n",
    "columns_to_standardize = ['AreaUnderCereals_Paddy', 'TotalNPK', 'NetAreaIrrigated_Canals_NetAreaIrrigated']\n",
    "\n",
    "Case_file_1 = Case_file[['const'] + columns_to_standardize].copy()\n",
    "scaler = MinMaxScaler()\n",
    "\n",
    "X_st = pd.DataFrame()\n",
    "X_st['const'] = Case_file['const']\n",
    "X_st[columns_to_standardize] = scaler.fit_transform(Case_file_1[columns_to_standardize])\n",
    "\n",
    "Target = 0.05\n",
    "y_st = pd.DataFrame()\n",
    "y_st['Rice_Production'] = Working_Directory[~rows_to_remove]['Rice_Production'].reset_index(drop=True)\n",
    "columns_to_standardize = ['Rice_Production']\n",
    "y_st[columns_to_standardize] = scaler.fit_transform(y_st[columns_to_standardize])\n",
    "# y_st['Target_Production'] = (1+Target)*y_st['Maize_Production']\n",
    "# columns_to_standardize = ['GroundNut Production','Target Production']\n",
    "y_st.head()"
   ]
  },
  {
   "cell_type": "code",
   "execution_count": 283,
   "metadata": {},
   "outputs": [
    {
     "name": "stdout",
     "output_type": "stream",
     "text": [
      "                            OLS Regression Results                            \n",
      "==============================================================================\n",
      "Dep. Variable:        Rice_Production   R-squared:                       0.944\n",
      "Model:                            OLS   Adj. R-squared:                  0.937\n",
      "Method:                 Least Squares   F-statistic:                     140.2\n",
      "Date:                Thu, 19 Sep 2024   Prob (F-statistic):           9.23e-16\n",
      "Time:                        16:34:28   Log-Likelihood:                 36.408\n",
      "No. Observations:                  29   AIC:                            -64.82\n",
      "Df Residuals:                      25   BIC:                            -59.35\n",
      "Df Model:                           3                                         \n",
      "Covariance Type:            nonrobust                                         \n",
      "============================================================================================================\n",
      "                                               coef    std err          t      P>|t|      [0.025      0.975]\n",
      "------------------------------------------------------------------------------------------------------------\n",
      "const                                       -0.0295      0.021     -1.417      0.169      -0.072       0.013\n",
      "AreaUnderCereals_Paddy                       0.7508      0.079      9.526      0.000       0.588       0.913\n",
      "TotalNPK                                     0.2879      0.119      2.421      0.023       0.043       0.533\n",
      "NetAreaIrrigated_Canals_NetAreaIrrigated    -0.0037      0.098     -0.037      0.970      -0.206       0.199\n",
      "==============================================================================\n",
      "Omnibus:                       12.609   Durbin-Watson:                   1.543\n",
      "Prob(Omnibus):                  0.002   Jarque-Bera (JB):               16.537\n",
      "Skew:                           0.951   Prob(JB):                     0.000257\n",
      "Kurtosis:                       6.173   Cond. No.                         11.5\n",
      "==============================================================================\n",
      "\n",
      "Notes:\n",
      "[1] Standard Errors assume that the covariance matrix of the errors is correctly specified.\n"
     ]
    },
    {
     "data": {
      "text/plain": [
       "array([ 0.75076178,  0.28794102, -0.00368225])"
      ]
     },
     "execution_count": 283,
     "metadata": {},
     "output_type": "execute_result"
    }
   ],
   "source": [
    "# model=sm.OLS(y,Case_file).fit()\n",
    "# print(model.summary())\n",
    "# model.params.values\n",
    "# coef=model.params.values[1:]\n",
    "# coef\n",
    "\n",
    "model=sm.OLS(y_st['Rice_Production'],X_st).fit()\n",
    "Case_file = X_st\n",
    "print(model.summary())\n",
    "model.params.values\n",
    "coef=model.params.values[1:]\n",
    "coef"
   ]
  },
  {
   "cell_type": "code",
   "execution_count": 284,
   "metadata": {},
   "outputs": [
    {
     "data": {
      "text/html": [
       "<div>\n",
       "<style scoped>\n",
       "    .dataframe tbody tr th:only-of-type {\n",
       "        vertical-align: middle;\n",
       "    }\n",
       "\n",
       "    .dataframe tbody tr th {\n",
       "        vertical-align: top;\n",
       "    }\n",
       "\n",
       "    .dataframe thead th {\n",
       "        text-align: right;\n",
       "    }\n",
       "</style>\n",
       "<table border=\"1\" class=\"dataframe\">\n",
       "  <thead>\n",
       "    <tr style=\"text-align: right;\">\n",
       "      <th></th>\n",
       "      <th>AreaUnderCereals_Paddy</th>\n",
       "      <th>TotalNPK</th>\n",
       "      <th>NetAreaIrrigated_Canals_NetAreaIrrigated</th>\n",
       "    </tr>\n",
       "  </thead>\n",
       "  <tbody>\n",
       "    <tr>\n",
       "      <th>0</th>\n",
       "      <td>0.003370</td>\n",
       "      <td>0.009697</td>\n",
       "      <td>0.014826</td>\n",
       "    </tr>\n",
       "    <tr>\n",
       "      <th>1</th>\n",
       "      <td>0.002969</td>\n",
       "      <td>0.001421</td>\n",
       "      <td>0.005859</td>\n",
       "    </tr>\n",
       "    <tr>\n",
       "      <th>2</th>\n",
       "      <td>0.035463</td>\n",
       "      <td>0.003575</td>\n",
       "      <td>0.000657</td>\n",
       "    </tr>\n",
       "    <tr>\n",
       "      <th>3</th>\n",
       "      <td>0.007854</td>\n",
       "      <td>0.001784</td>\n",
       "      <td>0.000000</td>\n",
       "    </tr>\n",
       "    <tr>\n",
       "      <th>4</th>\n",
       "      <td>0.852095</td>\n",
       "      <td>0.504480</td>\n",
       "      <td>0.269227</td>\n",
       "    </tr>\n",
       "  </tbody>\n",
       "</table>\n",
       "</div>"
      ],
      "text/plain": [
       "   AreaUnderCereals_Paddy  TotalNPK  NetAreaIrrigated_Canals_NetAreaIrrigated\n",
       "0                0.003370  0.009697                                  0.014826\n",
       "1                0.002969  0.001421                                  0.005859\n",
       "2                0.035463  0.003575                                  0.000657\n",
       "3                0.007854  0.001784                                  0.000000\n",
       "4                0.852095  0.504480                                  0.269227"
      ]
     },
     "execution_count": 284,
     "metadata": {},
     "output_type": "execute_result"
    }
   ],
   "source": [
    "Case_file.drop('const',axis=1,inplace=True)\n",
    "Case_file[:5]"
   ]
  },
  {
   "cell_type": "code",
   "execution_count": 285,
   "metadata": {},
   "outputs": [
    {
     "data": {
      "text/plain": [
       "<itertools.product at 0x2a8f9596d00>"
      ]
     },
     "execution_count": 285,
     "metadata": {},
     "output_type": "execute_result"
    }
   ],
   "source": [
    "Case_file.loc[:,'Beta_0'] = model.params.values[0]\n",
    "Case_file.loc[:,'Beta_1'] = coef[0]\n",
    "Case_file.loc[:,'Beta_2'] = coef[1]\n",
    "Case_file.loc[:,'Beta_3'] = coef[2]\n",
    "\n",
    "intervals = np.arange(0, 1.1, 0.1)\n",
    "columns=['Sensitivity_AreaUnderCereals_Paddy', 'Sensitivity_TotalNPK','Sensitivity_NetAreaIrrigated_Canals_NetAreaIrrigated']\n",
    "# Generate all possible combinations of elements in arr\n",
    "num = len(columns)\n",
    "combinations = product(intervals, repeat=len(columns))\n",
    "combinations"
   ]
  },
  {
   "cell_type": "code",
   "execution_count": 286,
   "metadata": {},
   "outputs": [
    {
     "data": {
      "text/html": [
       "<div>\n",
       "<style scoped>\n",
       "    .dataframe tbody tr th:only-of-type {\n",
       "        vertical-align: middle;\n",
       "    }\n",
       "\n",
       "    .dataframe tbody tr th {\n",
       "        vertical-align: top;\n",
       "    }\n",
       "\n",
       "    .dataframe thead th {\n",
       "        text-align: right;\n",
       "    }\n",
       "</style>\n",
       "<table border=\"1\" class=\"dataframe\">\n",
       "  <thead>\n",
       "    <tr style=\"text-align: right;\">\n",
       "      <th></th>\n",
       "      <th>Sensitivity_AreaUnderCereals_Paddy</th>\n",
       "      <th>Sensitivity_TotalNPK</th>\n",
       "      <th>Sensitivity_NetAreaIrrigated_Canals_NetAreaIrrigated</th>\n",
       "    </tr>\n",
       "  </thead>\n",
       "  <tbody>\n",
       "    <tr>\n",
       "      <th>0</th>\n",
       "      <td>0.0</td>\n",
       "      <td>0.0</td>\n",
       "      <td>0.0</td>\n",
       "    </tr>\n",
       "    <tr>\n",
       "      <th>1</th>\n",
       "      <td>0.0</td>\n",
       "      <td>0.0</td>\n",
       "      <td>0.1</td>\n",
       "    </tr>\n",
       "    <tr>\n",
       "      <th>2</th>\n",
       "      <td>0.0</td>\n",
       "      <td>0.0</td>\n",
       "      <td>0.2</td>\n",
       "    </tr>\n",
       "    <tr>\n",
       "      <th>3</th>\n",
       "      <td>0.0</td>\n",
       "      <td>0.0</td>\n",
       "      <td>0.3</td>\n",
       "    </tr>\n",
       "    <tr>\n",
       "      <th>4</th>\n",
       "      <td>0.0</td>\n",
       "      <td>0.0</td>\n",
       "      <td>0.4</td>\n",
       "    </tr>\n",
       "    <tr>\n",
       "      <th>...</th>\n",
       "      <td>...</td>\n",
       "      <td>...</td>\n",
       "      <td>...</td>\n",
       "    </tr>\n",
       "    <tr>\n",
       "      <th>1326</th>\n",
       "      <td>1.0</td>\n",
       "      <td>1.0</td>\n",
       "      <td>0.6</td>\n",
       "    </tr>\n",
       "    <tr>\n",
       "      <th>1327</th>\n",
       "      <td>1.0</td>\n",
       "      <td>1.0</td>\n",
       "      <td>0.7</td>\n",
       "    </tr>\n",
       "    <tr>\n",
       "      <th>1328</th>\n",
       "      <td>1.0</td>\n",
       "      <td>1.0</td>\n",
       "      <td>0.8</td>\n",
       "    </tr>\n",
       "    <tr>\n",
       "      <th>1329</th>\n",
       "      <td>1.0</td>\n",
       "      <td>1.0</td>\n",
       "      <td>0.9</td>\n",
       "    </tr>\n",
       "    <tr>\n",
       "      <th>1330</th>\n",
       "      <td>1.0</td>\n",
       "      <td>1.0</td>\n",
       "      <td>1.0</td>\n",
       "    </tr>\n",
       "  </tbody>\n",
       "</table>\n",
       "<p>1331 rows × 3 columns</p>\n",
       "</div>"
      ],
      "text/plain": [
       "      Sensitivity_AreaUnderCereals_Paddy  Sensitivity_TotalNPK  \\\n",
       "0                                    0.0                   0.0   \n",
       "1                                    0.0                   0.0   \n",
       "2                                    0.0                   0.0   \n",
       "3                                    0.0                   0.0   \n",
       "4                                    0.0                   0.0   \n",
       "...                                  ...                   ...   \n",
       "1326                                 1.0                   1.0   \n",
       "1327                                 1.0                   1.0   \n",
       "1328                                 1.0                   1.0   \n",
       "1329                                 1.0                   1.0   \n",
       "1330                                 1.0                   1.0   \n",
       "\n",
       "      Sensitivity_NetAreaIrrigated_Canals_NetAreaIrrigated  \n",
       "0                                                   0.0     \n",
       "1                                                   0.1     \n",
       "2                                                   0.2     \n",
       "3                                                   0.3     \n",
       "4                                                   0.4     \n",
       "...                                                 ...     \n",
       "1326                                                0.6     \n",
       "1327                                                0.7     \n",
       "1328                                                0.8     \n",
       "1329                                                0.9     \n",
       "1330                                                1.0     \n",
       "\n",
       "[1331 rows x 3 columns]"
      ]
     },
     "execution_count": 286,
     "metadata": {},
     "output_type": "execute_result"
    }
   ],
   "source": [
    "alpha_df = pd.DataFrame(combinations, columns=columns)\n",
    "alpha_df"
   ]
  },
  {
   "cell_type": "code",
   "execution_count": 287,
   "metadata": {},
   "outputs": [
    {
     "name": "stdout",
     "output_type": "stream",
     "text": [
      "       Sensitivity_AreaUnderCereals_Paddy  Sensitivity_TotalNPK  \\\n",
      "0                                     0.0                   0.0   \n",
      "1                                     0.0                   0.0   \n",
      "2                                     0.0                   0.0   \n",
      "3                                     0.0                   0.0   \n",
      "4                                     0.0                   0.0   \n",
      "...                                   ...                   ...   \n",
      "38594                                 1.0                   1.0   \n",
      "38595                                 1.0                   1.0   \n",
      "38596                                 1.0                   1.0   \n",
      "38597                                 1.0                   1.0   \n",
      "38598                                 1.0                   1.0   \n",
      "\n",
      "       Sensitivity_NetAreaIrrigated_Canals_NetAreaIrrigated  \\\n",
      "0                                                    0.0      \n",
      "1                                                    0.0      \n",
      "2                                                    0.0      \n",
      "3                                                    0.0      \n",
      "4                                                    0.0      \n",
      "...                                                  ...      \n",
      "38594                                                1.0      \n",
      "38595                                                1.0      \n",
      "38596                                                1.0      \n",
      "38597                                                1.0      \n",
      "38598                                                1.0      \n",
      "\n",
      "       AreaUnderCereals_Paddy  TotalNPK  \\\n",
      "0                    0.003370  0.009697   \n",
      "1                    0.002969  0.001421   \n",
      "2                    0.035463  0.003575   \n",
      "3                    0.007854  0.001784   \n",
      "4                    0.852095  0.504480   \n",
      "...                       ...       ...   \n",
      "38594                0.033121  0.006570   \n",
      "38595                0.426318  0.738523   \n",
      "38596                1.000000  1.000000   \n",
      "38597                0.438464  0.334119   \n",
      "38598                0.404328  0.395668   \n",
      "\n",
      "       NetAreaIrrigated_Canals_NetAreaIrrigated    Beta_0    Beta_1    Beta_2  \\\n",
      "0                                      0.014826 -0.029489  0.750762  0.287941   \n",
      "1                                      0.005859 -0.029489  0.750762  0.287941   \n",
      "2                                      0.000657 -0.029489  0.750762  0.287941   \n",
      "3                                      0.000000 -0.029489  0.750762  0.287941   \n",
      "4                                      0.269227 -0.029489  0.750762  0.287941   \n",
      "...                                         ...       ...       ...       ...   \n",
      "38594                                  0.000070 -0.029489  0.750762  0.287941   \n",
      "38595                                  0.734923 -0.029489  0.750762  0.287941   \n",
      "38596                                  1.000000 -0.029489  0.750762  0.287941   \n",
      "38597                                  0.096966 -0.029489  0.750762  0.287941   \n",
      "38598                                  0.396926 -0.029489  0.750762  0.287941   \n",
      "\n",
      "         Beta_3  \n",
      "0     -0.003682  \n",
      "1     -0.003682  \n",
      "2     -0.003682  \n",
      "3     -0.003682  \n",
      "4     -0.003682  \n",
      "...         ...  \n",
      "38594 -0.003682  \n",
      "38595 -0.003682  \n",
      "38596 -0.003682  \n",
      "38597 -0.003682  \n",
      "38598 -0.003682  \n",
      "\n",
      "[38599 rows x 10 columns]\n"
     ]
    }
   ],
   "source": [
    "Case_file['key'] = 1\n",
    "alpha_df['key'] = 1\n",
    "\n",
    "# Performing the Cartesian product\n",
    "result_df = pd.merge( alpha_df, Case_file, on='key').drop('key', axis=1)\n",
    "\n",
    "print(result_df)"
   ]
  },
  {
   "cell_type": "code",
   "execution_count": 288,
   "metadata": {},
   "outputs": [
    {
     "data": {
      "text/html": [
       "<div>\n",
       "<style scoped>\n",
       "    .dataframe tbody tr th:only-of-type {\n",
       "        vertical-align: middle;\n",
       "    }\n",
       "\n",
       "    .dataframe tbody tr th {\n",
       "        vertical-align: top;\n",
       "    }\n",
       "\n",
       "    .dataframe thead th {\n",
       "        text-align: right;\n",
       "    }\n",
       "</style>\n",
       "<table border=\"1\" class=\"dataframe\">\n",
       "  <thead>\n",
       "    <tr style=\"text-align: right;\">\n",
       "      <th></th>\n",
       "      <th>Sensitivity_AreaUnderCereals_Paddy</th>\n",
       "      <th>Sensitivity_TotalNPK</th>\n",
       "      <th>Sensitivity_NetAreaIrrigated_Canals_NetAreaIrrigated</th>\n",
       "      <th>AreaUnderCereals_Paddy</th>\n",
       "      <th>TotalNPK</th>\n",
       "      <th>NetAreaIrrigated_Canals_NetAreaIrrigated</th>\n",
       "      <th>Beta_0</th>\n",
       "      <th>Beta_1</th>\n",
       "      <th>Beta_2</th>\n",
       "      <th>Beta_3</th>\n",
       "    </tr>\n",
       "  </thead>\n",
       "  <tbody>\n",
       "    <tr>\n",
       "      <th>0</th>\n",
       "      <td>0.0</td>\n",
       "      <td>0.0</td>\n",
       "      <td>0.0</td>\n",
       "      <td>0.003370</td>\n",
       "      <td>0.009697</td>\n",
       "      <td>0.014826</td>\n",
       "      <td>-0.029489</td>\n",
       "      <td>0.750762</td>\n",
       "      <td>0.287941</td>\n",
       "      <td>-0.003682</td>\n",
       "    </tr>\n",
       "    <tr>\n",
       "      <th>1</th>\n",
       "      <td>0.0</td>\n",
       "      <td>0.0</td>\n",
       "      <td>0.0</td>\n",
       "      <td>0.002969</td>\n",
       "      <td>0.001421</td>\n",
       "      <td>0.005859</td>\n",
       "      <td>-0.029489</td>\n",
       "      <td>0.750762</td>\n",
       "      <td>0.287941</td>\n",
       "      <td>-0.003682</td>\n",
       "    </tr>\n",
       "    <tr>\n",
       "      <th>2</th>\n",
       "      <td>0.0</td>\n",
       "      <td>0.0</td>\n",
       "      <td>0.0</td>\n",
       "      <td>0.035463</td>\n",
       "      <td>0.003575</td>\n",
       "      <td>0.000657</td>\n",
       "      <td>-0.029489</td>\n",
       "      <td>0.750762</td>\n",
       "      <td>0.287941</td>\n",
       "      <td>-0.003682</td>\n",
       "    </tr>\n",
       "    <tr>\n",
       "      <th>3</th>\n",
       "      <td>0.0</td>\n",
       "      <td>0.0</td>\n",
       "      <td>0.0</td>\n",
       "      <td>0.007854</td>\n",
       "      <td>0.001784</td>\n",
       "      <td>0.000000</td>\n",
       "      <td>-0.029489</td>\n",
       "      <td>0.750762</td>\n",
       "      <td>0.287941</td>\n",
       "      <td>-0.003682</td>\n",
       "    </tr>\n",
       "    <tr>\n",
       "      <th>4</th>\n",
       "      <td>0.0</td>\n",
       "      <td>0.0</td>\n",
       "      <td>0.0</td>\n",
       "      <td>0.852095</td>\n",
       "      <td>0.504480</td>\n",
       "      <td>0.269227</td>\n",
       "      <td>-0.029489</td>\n",
       "      <td>0.750762</td>\n",
       "      <td>0.287941</td>\n",
       "      <td>-0.003682</td>\n",
       "    </tr>\n",
       "  </tbody>\n",
       "</table>\n",
       "</div>"
      ],
      "text/plain": [
       "   Sensitivity_AreaUnderCereals_Paddy  Sensitivity_TotalNPK  \\\n",
       "0                                 0.0                   0.0   \n",
       "1                                 0.0                   0.0   \n",
       "2                                 0.0                   0.0   \n",
       "3                                 0.0                   0.0   \n",
       "4                                 0.0                   0.0   \n",
       "\n",
       "   Sensitivity_NetAreaIrrigated_Canals_NetAreaIrrigated  \\\n",
       "0                                                0.0      \n",
       "1                                                0.0      \n",
       "2                                                0.0      \n",
       "3                                                0.0      \n",
       "4                                                0.0      \n",
       "\n",
       "   AreaUnderCereals_Paddy  TotalNPK  NetAreaIrrigated_Canals_NetAreaIrrigated  \\\n",
       "0                0.003370  0.009697                                  0.014826   \n",
       "1                0.002969  0.001421                                  0.005859   \n",
       "2                0.035463  0.003575                                  0.000657   \n",
       "3                0.007854  0.001784                                  0.000000   \n",
       "4                0.852095  0.504480                                  0.269227   \n",
       "\n",
       "     Beta_0    Beta_1    Beta_2    Beta_3  \n",
       "0 -0.029489  0.750762  0.287941 -0.003682  \n",
       "1 -0.029489  0.750762  0.287941 -0.003682  \n",
       "2 -0.029489  0.750762  0.287941 -0.003682  \n",
       "3 -0.029489  0.750762  0.287941 -0.003682  \n",
       "4 -0.029489  0.750762  0.287941 -0.003682  "
      ]
     },
     "execution_count": 288,
     "metadata": {},
     "output_type": "execute_result"
    }
   ],
   "source": [
    "result_df.head()"
   ]
  },
  {
   "cell_type": "code",
   "execution_count": 289,
   "metadata": {},
   "outputs": [
    {
     "data": {
      "text/plain": [
       "131114.06451612903"
      ]
     },
     "execution_count": 289,
     "metadata": {},
     "output_type": "execute_result"
    }
   ],
   "source": [
    "Working_Directory['Rice_Production'].mean()"
   ]
  },
  {
   "cell_type": "code",
   "execution_count": 290,
   "metadata": {},
   "outputs": [
    {
     "data": {
      "text/plain": [
       "0.012671777780490685"
      ]
     },
     "execution_count": 290,
     "metadata": {},
     "output_type": "execute_result"
    }
   ],
   "source": [
    "delta_O = 0.05*y_st['Rice_Production'].median()\n",
    "delta_O"
   ]
  },
  {
   "cell_type": "code",
   "execution_count": 291,
   "metadata": {},
   "outputs": [
    {
     "data": {
      "text/html": [
       "<div>\n",
       "<style scoped>\n",
       "    .dataframe tbody tr th:only-of-type {\n",
       "        vertical-align: middle;\n",
       "    }\n",
       "\n",
       "    .dataframe tbody tr th {\n",
       "        vertical-align: top;\n",
       "    }\n",
       "\n",
       "    .dataframe thead th {\n",
       "        text-align: right;\n",
       "    }\n",
       "</style>\n",
       "<table border=\"1\" class=\"dataframe\">\n",
       "  <thead>\n",
       "    <tr style=\"text-align: right;\">\n",
       "      <th></th>\n",
       "      <th>Sensitivity_AreaUnderCereals_Paddy</th>\n",
       "      <th>Sensitivity_TotalNPK</th>\n",
       "      <th>Sensitivity_NetAreaIrrigated_Canals_NetAreaIrrigated</th>\n",
       "      <th>AreaUnderCereals_Paddy</th>\n",
       "      <th>TotalNPK</th>\n",
       "      <th>NetAreaIrrigated_Canals_NetAreaIrrigated</th>\n",
       "      <th>Beta_0</th>\n",
       "      <th>Beta_1</th>\n",
       "      <th>Beta_2</th>\n",
       "      <th>Beta_3</th>\n",
       "      <th>New_F1</th>\n",
       "      <th>New_F2</th>\n",
       "      <th>New_F3</th>\n",
       "      <th>District</th>\n",
       "    </tr>\n",
       "  </thead>\n",
       "  <tbody>\n",
       "    <tr>\n",
       "      <th>0</th>\n",
       "      <td>0.0</td>\n",
       "      <td>0.0</td>\n",
       "      <td>0.0</td>\n",
       "      <td>0.003370</td>\n",
       "      <td>0.009697</td>\n",
       "      <td>0.014826</td>\n",
       "      <td>-0.029489</td>\n",
       "      <td>0.750762</td>\n",
       "      <td>0.287941</td>\n",
       "      <td>-0.003682</td>\n",
       "      <td>0.003370</td>\n",
       "      <td>0.009697</td>\n",
       "      <td>0.014826</td>\n",
       "      <td>BENGALURU</td>\n",
       "    </tr>\n",
       "    <tr>\n",
       "      <th>1</th>\n",
       "      <td>0.0</td>\n",
       "      <td>0.0</td>\n",
       "      <td>0.0</td>\n",
       "      <td>0.002969</td>\n",
       "      <td>0.001421</td>\n",
       "      <td>0.005859</td>\n",
       "      <td>-0.029489</td>\n",
       "      <td>0.750762</td>\n",
       "      <td>0.287941</td>\n",
       "      <td>-0.003682</td>\n",
       "      <td>0.002969</td>\n",
       "      <td>0.001421</td>\n",
       "      <td>0.005859</td>\n",
       "      <td>BENGALURU(R)</td>\n",
       "    </tr>\n",
       "    <tr>\n",
       "      <th>2</th>\n",
       "      <td>0.0</td>\n",
       "      <td>0.0</td>\n",
       "      <td>0.0</td>\n",
       "      <td>0.035463</td>\n",
       "      <td>0.003575</td>\n",
       "      <td>0.000657</td>\n",
       "      <td>-0.029489</td>\n",
       "      <td>0.750762</td>\n",
       "      <td>0.287941</td>\n",
       "      <td>-0.003682</td>\n",
       "      <td>0.035463</td>\n",
       "      <td>0.003575</td>\n",
       "      <td>0.000657</td>\n",
       "      <td>RAMANAGARA</td>\n",
       "    </tr>\n",
       "    <tr>\n",
       "      <th>3</th>\n",
       "      <td>0.0</td>\n",
       "      <td>0.0</td>\n",
       "      <td>0.0</td>\n",
       "      <td>0.007854</td>\n",
       "      <td>0.001784</td>\n",
       "      <td>0.000000</td>\n",
       "      <td>-0.029489</td>\n",
       "      <td>0.750762</td>\n",
       "      <td>0.287941</td>\n",
       "      <td>-0.003682</td>\n",
       "      <td>0.007854</td>\n",
       "      <td>0.001784</td>\n",
       "      <td>0.000000</td>\n",
       "      <td>CHITRADURGA</td>\n",
       "    </tr>\n",
       "    <tr>\n",
       "      <th>4</th>\n",
       "      <td>0.0</td>\n",
       "      <td>0.0</td>\n",
       "      <td>0.0</td>\n",
       "      <td>0.852095</td>\n",
       "      <td>0.504480</td>\n",
       "      <td>0.269227</td>\n",
       "      <td>-0.029489</td>\n",
       "      <td>0.750762</td>\n",
       "      <td>0.287941</td>\n",
       "      <td>-0.003682</td>\n",
       "      <td>0.852095</td>\n",
       "      <td>0.504480</td>\n",
       "      <td>0.269227</td>\n",
       "      <td>DAVANAGERE</td>\n",
       "    </tr>\n",
       "    <tr>\n",
       "      <th>...</th>\n",
       "      <td>...</td>\n",
       "      <td>...</td>\n",
       "      <td>...</td>\n",
       "      <td>...</td>\n",
       "      <td>...</td>\n",
       "      <td>...</td>\n",
       "      <td>...</td>\n",
       "      <td>...</td>\n",
       "      <td>...</td>\n",
       "      <td>...</td>\n",
       "      <td>...</td>\n",
       "      <td>...</td>\n",
       "      <td>...</td>\n",
       "      <td>...</td>\n",
       "    </tr>\n",
       "    <tr>\n",
       "      <th>38594</th>\n",
       "      <td>1.0</td>\n",
       "      <td>1.0</td>\n",
       "      <td>1.0</td>\n",
       "      <td>0.033121</td>\n",
       "      <td>0.006570</td>\n",
       "      <td>0.000070</td>\n",
       "      <td>-0.029489</td>\n",
       "      <td>0.750762</td>\n",
       "      <td>0.287941</td>\n",
       "      <td>-0.003682</td>\n",
       "      <td>0.050000</td>\n",
       "      <td>0.050578</td>\n",
       "      <td>-3.441242</td>\n",
       "      <td>KALABURAGI</td>\n",
       "    </tr>\n",
       "    <tr>\n",
       "      <th>38595</th>\n",
       "      <td>1.0</td>\n",
       "      <td>1.0</td>\n",
       "      <td>1.0</td>\n",
       "      <td>0.426318</td>\n",
       "      <td>0.738523</td>\n",
       "      <td>0.734923</td>\n",
       "      <td>-0.029489</td>\n",
       "      <td>0.750762</td>\n",
       "      <td>0.287941</td>\n",
       "      <td>-0.003682</td>\n",
       "      <td>0.443196</td>\n",
       "      <td>0.782531</td>\n",
       "      <td>-2.706390</td>\n",
       "      <td>YADGIRI</td>\n",
       "    </tr>\n",
       "    <tr>\n",
       "      <th>38596</th>\n",
       "      <td>1.0</td>\n",
       "      <td>1.0</td>\n",
       "      <td>1.0</td>\n",
       "      <td>1.000000</td>\n",
       "      <td>1.000000</td>\n",
       "      <td>1.000000</td>\n",
       "      <td>-0.029489</td>\n",
       "      <td>0.750762</td>\n",
       "      <td>0.287941</td>\n",
       "      <td>-0.003682</td>\n",
       "      <td>1.016879</td>\n",
       "      <td>1.044008</td>\n",
       "      <td>-2.441312</td>\n",
       "      <td>RAICHUR</td>\n",
       "    </tr>\n",
       "    <tr>\n",
       "      <th>38597</th>\n",
       "      <td>1.0</td>\n",
       "      <td>1.0</td>\n",
       "      <td>1.0</td>\n",
       "      <td>0.438464</td>\n",
       "      <td>0.334119</td>\n",
       "      <td>0.096966</td>\n",
       "      <td>-0.029489</td>\n",
       "      <td>0.750762</td>\n",
       "      <td>0.287941</td>\n",
       "      <td>-0.003682</td>\n",
       "      <td>0.455342</td>\n",
       "      <td>0.378128</td>\n",
       "      <td>-3.344347</td>\n",
       "      <td>KOPPAL</td>\n",
       "    </tr>\n",
       "    <tr>\n",
       "      <th>38598</th>\n",
       "      <td>1.0</td>\n",
       "      <td>1.0</td>\n",
       "      <td>1.0</td>\n",
       "      <td>0.404328</td>\n",
       "      <td>0.395668</td>\n",
       "      <td>0.396926</td>\n",
       "      <td>-0.029489</td>\n",
       "      <td>0.750762</td>\n",
       "      <td>0.287941</td>\n",
       "      <td>-0.003682</td>\n",
       "      <td>0.421207</td>\n",
       "      <td>0.439677</td>\n",
       "      <td>-3.044386</td>\n",
       "      <td>VIJAYANAGARA</td>\n",
       "    </tr>\n",
       "  </tbody>\n",
       "</table>\n",
       "<p>38599 rows × 14 columns</p>\n",
       "</div>"
      ],
      "text/plain": [
       "       Sensitivity_AreaUnderCereals_Paddy  Sensitivity_TotalNPK  \\\n",
       "0                                     0.0                   0.0   \n",
       "1                                     0.0                   0.0   \n",
       "2                                     0.0                   0.0   \n",
       "3                                     0.0                   0.0   \n",
       "4                                     0.0                   0.0   \n",
       "...                                   ...                   ...   \n",
       "38594                                 1.0                   1.0   \n",
       "38595                                 1.0                   1.0   \n",
       "38596                                 1.0                   1.0   \n",
       "38597                                 1.0                   1.0   \n",
       "38598                                 1.0                   1.0   \n",
       "\n",
       "       Sensitivity_NetAreaIrrigated_Canals_NetAreaIrrigated  \\\n",
       "0                                                    0.0      \n",
       "1                                                    0.0      \n",
       "2                                                    0.0      \n",
       "3                                                    0.0      \n",
       "4                                                    0.0      \n",
       "...                                                  ...      \n",
       "38594                                                1.0      \n",
       "38595                                                1.0      \n",
       "38596                                                1.0      \n",
       "38597                                                1.0      \n",
       "38598                                                1.0      \n",
       "\n",
       "       AreaUnderCereals_Paddy  TotalNPK  \\\n",
       "0                    0.003370  0.009697   \n",
       "1                    0.002969  0.001421   \n",
       "2                    0.035463  0.003575   \n",
       "3                    0.007854  0.001784   \n",
       "4                    0.852095  0.504480   \n",
       "...                       ...       ...   \n",
       "38594                0.033121  0.006570   \n",
       "38595                0.426318  0.738523   \n",
       "38596                1.000000  1.000000   \n",
       "38597                0.438464  0.334119   \n",
       "38598                0.404328  0.395668   \n",
       "\n",
       "       NetAreaIrrigated_Canals_NetAreaIrrigated    Beta_0    Beta_1    Beta_2  \\\n",
       "0                                      0.014826 -0.029489  0.750762  0.287941   \n",
       "1                                      0.005859 -0.029489  0.750762  0.287941   \n",
       "2                                      0.000657 -0.029489  0.750762  0.287941   \n",
       "3                                      0.000000 -0.029489  0.750762  0.287941   \n",
       "4                                      0.269227 -0.029489  0.750762  0.287941   \n",
       "...                                         ...       ...       ...       ...   \n",
       "38594                                  0.000070 -0.029489  0.750762  0.287941   \n",
       "38595                                  0.734923 -0.029489  0.750762  0.287941   \n",
       "38596                                  1.000000 -0.029489  0.750762  0.287941   \n",
       "38597                                  0.096966 -0.029489  0.750762  0.287941   \n",
       "38598                                  0.396926 -0.029489  0.750762  0.287941   \n",
       "\n",
       "         Beta_3    New_F1    New_F2    New_F3      District  \n",
       "0     -0.003682  0.003370  0.009697  0.014826     BENGALURU  \n",
       "1     -0.003682  0.002969  0.001421  0.005859  BENGALURU(R)  \n",
       "2     -0.003682  0.035463  0.003575  0.000657    RAMANAGARA  \n",
       "3     -0.003682  0.007854  0.001784  0.000000   CHITRADURGA  \n",
       "4     -0.003682  0.852095  0.504480  0.269227    DAVANAGERE  \n",
       "...         ...       ...       ...       ...           ...  \n",
       "38594 -0.003682  0.050000  0.050578 -3.441242    KALABURAGI  \n",
       "38595 -0.003682  0.443196  0.782531 -2.706390       YADGIRI  \n",
       "38596 -0.003682  1.016879  1.044008 -2.441312       RAICHUR  \n",
       "38597 -0.003682  0.455342  0.378128 -3.344347        KOPPAL  \n",
       "38598 -0.003682  0.421207  0.439677 -3.044386  VIJAYANAGARA  \n",
       "\n",
       "[38599 rows x 14 columns]"
      ]
     },
     "execution_count": 291,
     "metadata": {},
     "output_type": "execute_result"
    }
   ],
   "source": [
    "# delta_O = 5000\n",
    "\n",
    "result_df['New_F1'] = result_df['AreaUnderCereals_Paddy'] + (result_df['Sensitivity_AreaUnderCereals_Paddy']*delta_O)/result_df['Beta_1']\n",
    "result_df['New_F2'] = result_df['TotalNPK'] + (result_df['Sensitivity_TotalNPK']*delta_O)/result_df['Beta_2']\n",
    "result_df['New_F3'] = result_df['NetAreaIrrigated_Canals_NetAreaIrrigated'] + (result_df['Sensitivity_NetAreaIrrigated_Canals_NetAreaIrrigated']*delta_O)/result_df['Beta_3']\n",
    "# result_df['District'] = np.tile(Working_Directory[~rows_to_remove]['District'],11**num)\n",
    "result_df['District'] = np.tile(Working_Directory[~rows_to_remove]['District'],11**num)\n",
    "\n",
    "# result_df['New_F1'] = result_df['New_F1'].apply(lambda x: max(0, x))\n",
    "# result_df['New_F2'] = result_df['New_F2'].apply(lambda x: max(0, x))\n",
    "# result_df['New_F3'] = result_df['New_F3'].apply(lambda x: max(0, x))\n",
    "\n",
    "result_df"
   ]
  },
  {
   "cell_type": "code",
   "execution_count": 292,
   "metadata": {},
   "outputs": [
    {
     "data": {
      "text/html": [
       "<div>\n",
       "<style scoped>\n",
       "    .dataframe tbody tr th:only-of-type {\n",
       "        vertical-align: middle;\n",
       "    }\n",
       "\n",
       "    .dataframe tbody tr th {\n",
       "        vertical-align: top;\n",
       "    }\n",
       "\n",
       "    .dataframe thead th {\n",
       "        text-align: right;\n",
       "    }\n",
       "</style>\n",
       "<table border=\"1\" class=\"dataframe\">\n",
       "  <thead>\n",
       "    <tr style=\"text-align: right;\">\n",
       "      <th></th>\n",
       "      <th>Sensitivity_AreaUnderCereals_Paddy</th>\n",
       "      <th>Sensitivity_TotalNPK</th>\n",
       "      <th>Sensitivity_NetAreaIrrigated_Canals_NetAreaIrrigated</th>\n",
       "      <th>AreaUnderCereals_Paddy</th>\n",
       "      <th>TotalNPK</th>\n",
       "      <th>NetAreaIrrigated_Canals_NetAreaIrrigated</th>\n",
       "      <th>Beta_0</th>\n",
       "      <th>Beta_1</th>\n",
       "      <th>Beta_2</th>\n",
       "      <th>Beta_3</th>\n",
       "      <th>New_F1</th>\n",
       "      <th>New_F2</th>\n",
       "      <th>New_F3</th>\n",
       "      <th>District</th>\n",
       "      <th>New_Production</th>\n",
       "    </tr>\n",
       "  </thead>\n",
       "  <tbody>\n",
       "    <tr>\n",
       "      <th>0</th>\n",
       "      <td>0.0</td>\n",
       "      <td>0.0</td>\n",
       "      <td>0.0</td>\n",
       "      <td>0.003370</td>\n",
       "      <td>0.009697</td>\n",
       "      <td>0.014826</td>\n",
       "      <td>-0.029489</td>\n",
       "      <td>0.750762</td>\n",
       "      <td>0.287941</td>\n",
       "      <td>-0.003682</td>\n",
       "      <td>0.003370</td>\n",
       "      <td>0.009697</td>\n",
       "      <td>0.014826</td>\n",
       "      <td>BENGALURU</td>\n",
       "      <td>-0.024222</td>\n",
       "    </tr>\n",
       "    <tr>\n",
       "      <th>1</th>\n",
       "      <td>0.0</td>\n",
       "      <td>0.0</td>\n",
       "      <td>0.0</td>\n",
       "      <td>0.002969</td>\n",
       "      <td>0.001421</td>\n",
       "      <td>0.005859</td>\n",
       "      <td>-0.029489</td>\n",
       "      <td>0.750762</td>\n",
       "      <td>0.287941</td>\n",
       "      <td>-0.003682</td>\n",
       "      <td>0.002969</td>\n",
       "      <td>0.001421</td>\n",
       "      <td>0.005859</td>\n",
       "      <td>BENGALURU(R)</td>\n",
       "      <td>-0.026873</td>\n",
       "    </tr>\n",
       "    <tr>\n",
       "      <th>2</th>\n",
       "      <td>0.0</td>\n",
       "      <td>0.0</td>\n",
       "      <td>0.0</td>\n",
       "      <td>0.035463</td>\n",
       "      <td>0.003575</td>\n",
       "      <td>0.000657</td>\n",
       "      <td>-0.029489</td>\n",
       "      <td>0.750762</td>\n",
       "      <td>0.287941</td>\n",
       "      <td>-0.003682</td>\n",
       "      <td>0.035463</td>\n",
       "      <td>0.003575</td>\n",
       "      <td>0.000657</td>\n",
       "      <td>RAMANAGARA</td>\n",
       "      <td>-0.001838</td>\n",
       "    </tr>\n",
       "    <tr>\n",
       "      <th>3</th>\n",
       "      <td>0.0</td>\n",
       "      <td>0.0</td>\n",
       "      <td>0.0</td>\n",
       "      <td>0.007854</td>\n",
       "      <td>0.001784</td>\n",
       "      <td>0.000000</td>\n",
       "      <td>-0.029489</td>\n",
       "      <td>0.750762</td>\n",
       "      <td>0.287941</td>\n",
       "      <td>-0.003682</td>\n",
       "      <td>0.007854</td>\n",
       "      <td>0.001784</td>\n",
       "      <td>0.000000</td>\n",
       "      <td>CHITRADURGA</td>\n",
       "      <td>-0.023079</td>\n",
       "    </tr>\n",
       "    <tr>\n",
       "      <th>4</th>\n",
       "      <td>0.0</td>\n",
       "      <td>0.0</td>\n",
       "      <td>0.0</td>\n",
       "      <td>0.852095</td>\n",
       "      <td>0.504480</td>\n",
       "      <td>0.269227</td>\n",
       "      <td>-0.029489</td>\n",
       "      <td>0.750762</td>\n",
       "      <td>0.287941</td>\n",
       "      <td>-0.003682</td>\n",
       "      <td>0.852095</td>\n",
       "      <td>0.504480</td>\n",
       "      <td>0.269227</td>\n",
       "      <td>DAVANAGERE</td>\n",
       "      <td>0.754500</td>\n",
       "    </tr>\n",
       "    <tr>\n",
       "      <th>...</th>\n",
       "      <td>...</td>\n",
       "      <td>...</td>\n",
       "      <td>...</td>\n",
       "      <td>...</td>\n",
       "      <td>...</td>\n",
       "      <td>...</td>\n",
       "      <td>...</td>\n",
       "      <td>...</td>\n",
       "      <td>...</td>\n",
       "      <td>...</td>\n",
       "      <td>...</td>\n",
       "      <td>...</td>\n",
       "      <td>...</td>\n",
       "      <td>...</td>\n",
       "      <td>...</td>\n",
       "    </tr>\n",
       "    <tr>\n",
       "      <th>38594</th>\n",
       "      <td>1.0</td>\n",
       "      <td>1.0</td>\n",
       "      <td>1.0</td>\n",
       "      <td>0.033121</td>\n",
       "      <td>0.006570</td>\n",
       "      <td>0.000070</td>\n",
       "      <td>-0.029489</td>\n",
       "      <td>0.750762</td>\n",
       "      <td>0.287941</td>\n",
       "      <td>-0.003682</td>\n",
       "      <td>0.050000</td>\n",
       "      <td>0.050578</td>\n",
       "      <td>-3.441242</td>\n",
       "      <td>KALABURAGI</td>\n",
       "      <td>0.035284</td>\n",
       "    </tr>\n",
       "    <tr>\n",
       "      <th>38595</th>\n",
       "      <td>1.0</td>\n",
       "      <td>1.0</td>\n",
       "      <td>1.0</td>\n",
       "      <td>0.426318</td>\n",
       "      <td>0.738523</td>\n",
       "      <td>0.734923</td>\n",
       "      <td>-0.029489</td>\n",
       "      <td>0.750762</td>\n",
       "      <td>0.287941</td>\n",
       "      <td>-0.003682</td>\n",
       "      <td>0.443196</td>\n",
       "      <td>0.782531</td>\n",
       "      <td>-2.706390</td>\n",
       "      <td>YADGIRI</td>\n",
       "      <td>0.538534</td>\n",
       "    </tr>\n",
       "    <tr>\n",
       "      <th>38596</th>\n",
       "      <td>1.0</td>\n",
       "      <td>1.0</td>\n",
       "      <td>1.0</td>\n",
       "      <td>1.000000</td>\n",
       "      <td>1.000000</td>\n",
       "      <td>1.000000</td>\n",
       "      <td>-0.029489</td>\n",
       "      <td>0.750762</td>\n",
       "      <td>0.287941</td>\n",
       "      <td>-0.003682</td>\n",
       "      <td>1.016879</td>\n",
       "      <td>1.044008</td>\n",
       "      <td>-2.441312</td>\n",
       "      <td>RAICHUR</td>\n",
       "      <td>1.043547</td>\n",
       "    </tr>\n",
       "    <tr>\n",
       "      <th>38597</th>\n",
       "      <td>1.0</td>\n",
       "      <td>1.0</td>\n",
       "      <td>1.0</td>\n",
       "      <td>0.438464</td>\n",
       "      <td>0.334119</td>\n",
       "      <td>0.096966</td>\n",
       "      <td>-0.029489</td>\n",
       "      <td>0.750762</td>\n",
       "      <td>0.287941</td>\n",
       "      <td>-0.003682</td>\n",
       "      <td>0.455342</td>\n",
       "      <td>0.378128</td>\n",
       "      <td>-3.344347</td>\n",
       "      <td>KOPPAL</td>\n",
       "      <td>0.433558</td>\n",
       "    </tr>\n",
       "    <tr>\n",
       "      <th>38598</th>\n",
       "      <td>1.0</td>\n",
       "      <td>1.0</td>\n",
       "      <td>1.0</td>\n",
       "      <td>0.404328</td>\n",
       "      <td>0.395668</td>\n",
       "      <td>0.396926</td>\n",
       "      <td>-0.029489</td>\n",
       "      <td>0.750762</td>\n",
       "      <td>0.287941</td>\n",
       "      <td>-0.003682</td>\n",
       "      <td>0.421207</td>\n",
       "      <td>0.439677</td>\n",
       "      <td>-3.044386</td>\n",
       "      <td>VIJAYANAGARA</td>\n",
       "      <td>0.424548</td>\n",
       "    </tr>\n",
       "  </tbody>\n",
       "</table>\n",
       "<p>38599 rows × 15 columns</p>\n",
       "</div>"
      ],
      "text/plain": [
       "       Sensitivity_AreaUnderCereals_Paddy  Sensitivity_TotalNPK  \\\n",
       "0                                     0.0                   0.0   \n",
       "1                                     0.0                   0.0   \n",
       "2                                     0.0                   0.0   \n",
       "3                                     0.0                   0.0   \n",
       "4                                     0.0                   0.0   \n",
       "...                                   ...                   ...   \n",
       "38594                                 1.0                   1.0   \n",
       "38595                                 1.0                   1.0   \n",
       "38596                                 1.0                   1.0   \n",
       "38597                                 1.0                   1.0   \n",
       "38598                                 1.0                   1.0   \n",
       "\n",
       "       Sensitivity_NetAreaIrrigated_Canals_NetAreaIrrigated  \\\n",
       "0                                                    0.0      \n",
       "1                                                    0.0      \n",
       "2                                                    0.0      \n",
       "3                                                    0.0      \n",
       "4                                                    0.0      \n",
       "...                                                  ...      \n",
       "38594                                                1.0      \n",
       "38595                                                1.0      \n",
       "38596                                                1.0      \n",
       "38597                                                1.0      \n",
       "38598                                                1.0      \n",
       "\n",
       "       AreaUnderCereals_Paddy  TotalNPK  \\\n",
       "0                    0.003370  0.009697   \n",
       "1                    0.002969  0.001421   \n",
       "2                    0.035463  0.003575   \n",
       "3                    0.007854  0.001784   \n",
       "4                    0.852095  0.504480   \n",
       "...                       ...       ...   \n",
       "38594                0.033121  0.006570   \n",
       "38595                0.426318  0.738523   \n",
       "38596                1.000000  1.000000   \n",
       "38597                0.438464  0.334119   \n",
       "38598                0.404328  0.395668   \n",
       "\n",
       "       NetAreaIrrigated_Canals_NetAreaIrrigated    Beta_0    Beta_1    Beta_2  \\\n",
       "0                                      0.014826 -0.029489  0.750762  0.287941   \n",
       "1                                      0.005859 -0.029489  0.750762  0.287941   \n",
       "2                                      0.000657 -0.029489  0.750762  0.287941   \n",
       "3                                      0.000000 -0.029489  0.750762  0.287941   \n",
       "4                                      0.269227 -0.029489  0.750762  0.287941   \n",
       "...                                         ...       ...       ...       ...   \n",
       "38594                                  0.000070 -0.029489  0.750762  0.287941   \n",
       "38595                                  0.734923 -0.029489  0.750762  0.287941   \n",
       "38596                                  1.000000 -0.029489  0.750762  0.287941   \n",
       "38597                                  0.096966 -0.029489  0.750762  0.287941   \n",
       "38598                                  0.396926 -0.029489  0.750762  0.287941   \n",
       "\n",
       "         Beta_3    New_F1    New_F2    New_F3      District  New_Production  \n",
       "0     -0.003682  0.003370  0.009697  0.014826     BENGALURU       -0.024222  \n",
       "1     -0.003682  0.002969  0.001421  0.005859  BENGALURU(R)       -0.026873  \n",
       "2     -0.003682  0.035463  0.003575  0.000657    RAMANAGARA       -0.001838  \n",
       "3     -0.003682  0.007854  0.001784  0.000000   CHITRADURGA       -0.023079  \n",
       "4     -0.003682  0.852095  0.504480  0.269227    DAVANAGERE        0.754500  \n",
       "...         ...       ...       ...       ...           ...             ...  \n",
       "38594 -0.003682  0.050000  0.050578 -3.441242    KALABURAGI        0.035284  \n",
       "38595 -0.003682  0.443196  0.782531 -2.706390       YADGIRI        0.538534  \n",
       "38596 -0.003682  1.016879  1.044008 -2.441312       RAICHUR        1.043547  \n",
       "38597 -0.003682  0.455342  0.378128 -3.344347        KOPPAL        0.433558  \n",
       "38598 -0.003682  0.421207  0.439677 -3.044386  VIJAYANAGARA        0.424548  \n",
       "\n",
       "[38599 rows x 15 columns]"
      ]
     },
     "execution_count": 292,
     "metadata": {},
     "output_type": "execute_result"
    }
   ],
   "source": [
    "result_df['New_Production'] = result_df['Beta_1'] * result_df['New_F1'] + result_df['Beta_2'] * result_df['New_F2'] + result_df['Beta_3'] * result_df['New_F3'] + result_df['Beta_0']\n",
    "result_df"
   ]
  },
  {
   "cell_type": "code",
   "execution_count": 293,
   "metadata": {},
   "outputs": [],
   "source": [
    "def normalize_list(lst):\n",
    "    min_val = min(lst)\n",
    "    max_val = max(lst)\n",
    "    normalized_lst = [(x - min_val) / (max_val - min_val) for x in lst]\n",
    "    return normalized_lst"
   ]
  },
  {
   "cell_type": "code",
   "execution_count": 294,
   "metadata": {},
   "outputs": [
    {
     "name": "stdout",
     "output_type": "stream",
     "text": [
      "    1   2   3   4   5   6   7   8   9   10  ...  22  23  24  25  26  27  28  \\\n",
      "1    0   1   1   0   0   0   0   0   0   0  ...   0   0   0   0   0   0   0   \n",
      "2    1   0   1   0   0   1   1   0   1   0  ...   0   0   0   0   0   0   0   \n",
      "3    1   1   0   0   0   0   0   0   1   0  ...   0   0   0   0   0   0   0   \n",
      "4    0   0   0   0   1   0   0   0   1   1  ...   0   0   0   1   0   0   0   \n",
      "5    0   0   0   1   0   0   0   1   0   1  ...   0   1   0   1   0   0   0   \n",
      "6    0   1   0   0   0   0   1   0   0   0  ...   0   0   0   0   0   0   0   \n",
      "7    0   1   0   0   0   1   0   0   1   0  ...   0   0   0   0   0   0   0   \n",
      "8    0   0   0   0   1   0   0   0   0   1  ...   0   1   1   0   0   0   0   \n",
      "9    0   1   1   1   0   0   1   0   0   1  ...   0   0   0   0   0   0   0   \n",
      "10   0   0   0   1   1   0   0   1   1   0  ...   0   0   0   0   0   0   0   \n",
      "11   0   0   0   0   0   0   0   0   0   1  ...   0   0   0   0   0   0   0   \n",
      "12   0   0   0   0   0   0   0   1   0   1  ...   0   0   1   0   0   0   0   \n",
      "13   0   0   0   0   0   0   0   0   1   1  ...   0   0   0   0   0   0   0   \n",
      "14   0   0   0   0   0   0   0   0   0   0  ...   0   0   0   0   0   0   0   \n",
      "15   0   0   1   0   0   0   0   0   1   0  ...   0   0   0   0   0   0   0   \n",
      "16   0   0   0   0   0   0   0   0   0   0  ...   0   0   0   0   0   0   0   \n",
      "17   0   0   1   0   0   0   0   0   0   0  ...   0   0   0   0   0   0   0   \n",
      "18   0   0   0   0   0   0   0   0   0   0  ...   1   0   1   0   0   0   0   \n",
      "19   0   0   0   0   0   0   0   0   0   0  ...   0   0   0   0   0   1   1   \n",
      "20   0   0   0   0   0   0   0   0   0   0  ...   1   0   0   0   0   0   0   \n",
      "21   0   0   0   0   0   0   0   0   0   0  ...   1   1   1   0   0   0   0   \n",
      "22   0   0   0   0   0   0   0   0   0   0  ...   0   1   0   1   0   0   0   \n",
      "23   0   0   0   0   1   0   0   1   0   0  ...   1   0   1   1   0   0   0   \n",
      "24   0   0   0   0   0   0   0   1   0   0  ...   0   1   0   0   0   0   0   \n",
      "25   0   0   0   1   1   0   0   0   0   0  ...   1   1   0   0   0   0   0   \n",
      "26   0   0   0   0   0   0   0   0   0   0  ...   0   0   0   0   0   1   0   \n",
      "27   0   0   0   0   0   0   0   0   0   0  ...   0   0   0   0   1   0   1   \n",
      "28   0   0   0   0   0   0   0   0   0   0  ...   0   0   0   0   0   1   0   \n",
      "29   0   0   0   0   0   0   0   0   0   0  ...   0   0   0   1   0   0   1   \n",
      "30   0   0   0   0   0   0   0   0   0   0  ...   1   0   0   1   0   0   0   \n",
      "31   0   0   0   1   1   0   0   0   0   0  ...   1   1   0   1   0   0   0   \n",
      "\n",
      "    29  30  31  \n",
      "1    0   0   0  \n",
      "2    0   0   0  \n",
      "3    0   0   0  \n",
      "4    0   0   1  \n",
      "5    0   0   1  \n",
      "6    0   0   0  \n",
      "7    0   0   0  \n",
      "8    0   0   0  \n",
      "9    0   0   0  \n",
      "10   0   0   0  \n",
      "11   0   0   0  \n",
      "12   0   0   0  \n",
      "13   0   0   0  \n",
      "14   0   0   0  \n",
      "15   0   0   0  \n",
      "16   0   0   0  \n",
      "17   0   0   0  \n",
      "18   0   0   0  \n",
      "19   1   0   0  \n",
      "20   1   1   0  \n",
      "21   0   0   0  \n",
      "22   0   1   1  \n",
      "23   0   0   1  \n",
      "24   0   0   0  \n",
      "25   1   1   1  \n",
      "26   0   0   0  \n",
      "27   0   0   0  \n",
      "28   1   0   0  \n",
      "29   0   1   0  \n",
      "30   1   0   1  \n",
      "31   0   1   0  \n",
      "\n",
      "[31 rows x 31 columns]\n"
     ]
    }
   ],
   "source": [
    "import pandas as pd\n",
    "import numpy as np\n",
    "\n",
    "adjacency_excel = pd.read_excel('Karnataka_District_Adjacency_File.xlsx')\n",
    "\n",
    "district_codes = sorted(set(adjacency_excel['District_Code']))\n",
    "\n",
    "n = len(district_codes)\n",
    "adj_matrix = np.zeros((n, n), dtype=int)\n",
    "\n",
    "code_to_index = {code: idx for idx, code in enumerate(district_codes)}\n",
    "\n",
    "for i in range(len(adjacency_excel)):\n",
    "    district_code = adjacency_excel['District_Code'][i]\n",
    "    neighbors = [int(num) for num in str(adjacency_excel['District_Neighbors'][i]).split(',') if num.strip().isdigit()]\n",
    "    \n",
    "    for neighbor in neighbors:\n",
    "        adj_matrix[code_to_index[district_code]][code_to_index[neighbor]] = 1\n",
    "        adj_matrix[code_to_index[neighbor]][code_to_index[district_code]] = 1  # Assuming adjacency is bidirectional\n",
    "\n",
    "adj_matrix_df = pd.DataFrame(adj_matrix, index=district_codes, columns=district_codes)\n",
    "\n",
    "print(adj_matrix_df)\n",
    "\n",
    "adj_matrix_np = adj_matrix_df.to_numpy()"
   ]
  },
  {
   "cell_type": "code",
   "execution_count": 295,
   "metadata": {},
   "outputs": [],
   "source": [
    "def calculate_avg_capability(capability, neighbors):\n",
    "    num_neighbors = len(neighbors)\n",
    "    if num_neighbors == 0:\n",
    "        return 0\n",
    "    sum_capabilities = sum(capability[n] for n in neighbors)\n",
    "    return sum_capabilities / num_neighbors\n",
    "\n",
    "def calculate_stress_stability(capability, adjacency_matrix):\n",
    "    n = len(capability)\n",
    "    stress = np.zeros(n)\n",
    "    stability = np.zeros(n)\n",
    "    \n",
    "    for i in range(n):\n",
    "        neighbors = [j for j in range(n) if adjacency_matrix[i][j] == 1 and i != j]\n",
    "        if len(neighbors) > 0:\n",
    "            avg_capability = calculate_avg_capability(capability, neighbors)\n",
    "            stress[i] = abs(avg_capability - capability[i])\n",
    "            stability[i] = 1 - stress[i]\n",
    "        else:\n",
    "            stress[i] = 0  # If no neighbors, stress is zero\n",
    "            stability[i] = 1\n",
    "        \n",
    "    return stress, stability"
   ]
  },
  {
   "cell_type": "code",
   "execution_count": 296,
   "metadata": {},
   "outputs": [
    {
     "data": {
      "text/html": [
       "<div>\n",
       "<style scoped>\n",
       "    .dataframe tbody tr th:only-of-type {\n",
       "        vertical-align: middle;\n",
       "    }\n",
       "\n",
       "    .dataframe tbody tr th {\n",
       "        vertical-align: top;\n",
       "    }\n",
       "\n",
       "    .dataframe thead th {\n",
       "        text-align: right;\n",
       "    }\n",
       "</style>\n",
       "<table border=\"1\" class=\"dataframe\">\n",
       "  <thead>\n",
       "    <tr style=\"text-align: right;\">\n",
       "      <th></th>\n",
       "      <th>Sensitivity_AreaUnderCereals_Paddy</th>\n",
       "      <th>Sensitivity_TotalNPK</th>\n",
       "      <th>Sensitivity_NetAreaIrrigated_Canals_NetAreaIrrigated</th>\n",
       "      <th>AreaUnderCereals_Paddy</th>\n",
       "      <th>TotalNPK</th>\n",
       "      <th>NetAreaIrrigated_Canals_NetAreaIrrigated</th>\n",
       "      <th>Beta_0</th>\n",
       "      <th>Beta_1</th>\n",
       "      <th>Beta_2</th>\n",
       "      <th>Beta_3</th>\n",
       "      <th>New_F1</th>\n",
       "      <th>New_F2</th>\n",
       "      <th>New_F3</th>\n",
       "      <th>District</th>\n",
       "      <th>New_Production</th>\n",
       "      <th>Normalized_New_Prouction</th>\n",
       "    </tr>\n",
       "  </thead>\n",
       "  <tbody>\n",
       "    <tr>\n",
       "      <th>0</th>\n",
       "      <td>0.0</td>\n",
       "      <td>0.0</td>\n",
       "      <td>0.0</td>\n",
       "      <td>0.003370</td>\n",
       "      <td>0.009697</td>\n",
       "      <td>0.014826</td>\n",
       "      <td>-0.029489</td>\n",
       "      <td>0.750762</td>\n",
       "      <td>0.287941</td>\n",
       "      <td>-0.003682</td>\n",
       "      <td>0.003370</td>\n",
       "      <td>0.009697</td>\n",
       "      <td>0.014826</td>\n",
       "      <td>BENGALURU</td>\n",
       "      <td>-0.024222</td>\n",
       "      <td>0.004920</td>\n",
       "    </tr>\n",
       "    <tr>\n",
       "      <th>1</th>\n",
       "      <td>0.0</td>\n",
       "      <td>0.0</td>\n",
       "      <td>0.0</td>\n",
       "      <td>0.002969</td>\n",
       "      <td>0.001421</td>\n",
       "      <td>0.005859</td>\n",
       "      <td>-0.029489</td>\n",
       "      <td>0.750762</td>\n",
       "      <td>0.287941</td>\n",
       "      <td>-0.003682</td>\n",
       "      <td>0.002969</td>\n",
       "      <td>0.001421</td>\n",
       "      <td>0.005859</td>\n",
       "      <td>BENGALURU(R)</td>\n",
       "      <td>-0.026873</td>\n",
       "      <td>0.002450</td>\n",
       "    </tr>\n",
       "    <tr>\n",
       "      <th>2</th>\n",
       "      <td>0.0</td>\n",
       "      <td>0.0</td>\n",
       "      <td>0.0</td>\n",
       "      <td>0.035463</td>\n",
       "      <td>0.003575</td>\n",
       "      <td>0.000657</td>\n",
       "      <td>-0.029489</td>\n",
       "      <td>0.750762</td>\n",
       "      <td>0.287941</td>\n",
       "      <td>-0.003682</td>\n",
       "      <td>0.035463</td>\n",
       "      <td>0.003575</td>\n",
       "      <td>0.000657</td>\n",
       "      <td>RAMANAGARA</td>\n",
       "      <td>-0.001838</td>\n",
       "      <td>0.025780</td>\n",
       "    </tr>\n",
       "    <tr>\n",
       "      <th>3</th>\n",
       "      <td>0.0</td>\n",
       "      <td>0.0</td>\n",
       "      <td>0.0</td>\n",
       "      <td>0.007854</td>\n",
       "      <td>0.001784</td>\n",
       "      <td>0.000000</td>\n",
       "      <td>-0.029489</td>\n",
       "      <td>0.750762</td>\n",
       "      <td>0.287941</td>\n",
       "      <td>-0.003682</td>\n",
       "      <td>0.007854</td>\n",
       "      <td>0.001784</td>\n",
       "      <td>0.000000</td>\n",
       "      <td>CHITRADURGA</td>\n",
       "      <td>-0.023079</td>\n",
       "      <td>0.005985</td>\n",
       "    </tr>\n",
       "    <tr>\n",
       "      <th>4</th>\n",
       "      <td>0.0</td>\n",
       "      <td>0.0</td>\n",
       "      <td>0.0</td>\n",
       "      <td>0.852095</td>\n",
       "      <td>0.504480</td>\n",
       "      <td>0.269227</td>\n",
       "      <td>-0.029489</td>\n",
       "      <td>0.750762</td>\n",
       "      <td>0.287941</td>\n",
       "      <td>-0.003682</td>\n",
       "      <td>0.852095</td>\n",
       "      <td>0.504480</td>\n",
       "      <td>0.269227</td>\n",
       "      <td>DAVANAGERE</td>\n",
       "      <td>0.754500</td>\n",
       "      <td>0.730631</td>\n",
       "    </tr>\n",
       "    <tr>\n",
       "      <th>...</th>\n",
       "      <td>...</td>\n",
       "      <td>...</td>\n",
       "      <td>...</td>\n",
       "      <td>...</td>\n",
       "      <td>...</td>\n",
       "      <td>...</td>\n",
       "      <td>...</td>\n",
       "      <td>...</td>\n",
       "      <td>...</td>\n",
       "      <td>...</td>\n",
       "      <td>...</td>\n",
       "      <td>...</td>\n",
       "      <td>...</td>\n",
       "      <td>...</td>\n",
       "      <td>...</td>\n",
       "      <td>...</td>\n",
       "    </tr>\n",
       "    <tr>\n",
       "      <th>38594</th>\n",
       "      <td>1.0</td>\n",
       "      <td>1.0</td>\n",
       "      <td>1.0</td>\n",
       "      <td>0.033121</td>\n",
       "      <td>0.006570</td>\n",
       "      <td>0.000070</td>\n",
       "      <td>-0.029489</td>\n",
       "      <td>0.750762</td>\n",
       "      <td>0.287941</td>\n",
       "      <td>-0.003682</td>\n",
       "      <td>0.050000</td>\n",
       "      <td>0.050578</td>\n",
       "      <td>-3.441242</td>\n",
       "      <td>KALABURAGI</td>\n",
       "      <td>0.035284</td>\n",
       "      <td>0.060375</td>\n",
       "    </tr>\n",
       "    <tr>\n",
       "      <th>38595</th>\n",
       "      <td>1.0</td>\n",
       "      <td>1.0</td>\n",
       "      <td>1.0</td>\n",
       "      <td>0.426318</td>\n",
       "      <td>0.738523</td>\n",
       "      <td>0.734923</td>\n",
       "      <td>-0.029489</td>\n",
       "      <td>0.750762</td>\n",
       "      <td>0.287941</td>\n",
       "      <td>-0.003682</td>\n",
       "      <td>0.443196</td>\n",
       "      <td>0.782531</td>\n",
       "      <td>-2.706390</td>\n",
       "      <td>YADGIRI</td>\n",
       "      <td>0.538534</td>\n",
       "      <td>0.529366</td>\n",
       "    </tr>\n",
       "    <tr>\n",
       "      <th>38596</th>\n",
       "      <td>1.0</td>\n",
       "      <td>1.0</td>\n",
       "      <td>1.0</td>\n",
       "      <td>1.000000</td>\n",
       "      <td>1.000000</td>\n",
       "      <td>1.000000</td>\n",
       "      <td>-0.029489</td>\n",
       "      <td>0.750762</td>\n",
       "      <td>0.287941</td>\n",
       "      <td>-0.003682</td>\n",
       "      <td>1.016879</td>\n",
       "      <td>1.044008</td>\n",
       "      <td>-2.441312</td>\n",
       "      <td>RAICHUR</td>\n",
       "      <td>1.043547</td>\n",
       "      <td>1.000000</td>\n",
       "    </tr>\n",
       "    <tr>\n",
       "      <th>38597</th>\n",
       "      <td>1.0</td>\n",
       "      <td>1.0</td>\n",
       "      <td>1.0</td>\n",
       "      <td>0.438464</td>\n",
       "      <td>0.334119</td>\n",
       "      <td>0.096966</td>\n",
       "      <td>-0.029489</td>\n",
       "      <td>0.750762</td>\n",
       "      <td>0.287941</td>\n",
       "      <td>-0.003682</td>\n",
       "      <td>0.455342</td>\n",
       "      <td>0.378128</td>\n",
       "      <td>-3.344347</td>\n",
       "      <td>KOPPAL</td>\n",
       "      <td>0.433558</td>\n",
       "      <td>0.431536</td>\n",
       "    </tr>\n",
       "    <tr>\n",
       "      <th>38598</th>\n",
       "      <td>1.0</td>\n",
       "      <td>1.0</td>\n",
       "      <td>1.0</td>\n",
       "      <td>0.404328</td>\n",
       "      <td>0.395668</td>\n",
       "      <td>0.396926</td>\n",
       "      <td>-0.029489</td>\n",
       "      <td>0.750762</td>\n",
       "      <td>0.287941</td>\n",
       "      <td>-0.003682</td>\n",
       "      <td>0.421207</td>\n",
       "      <td>0.439677</td>\n",
       "      <td>-3.044386</td>\n",
       "      <td>VIJAYANAGARA</td>\n",
       "      <td>0.424548</td>\n",
       "      <td>0.423140</td>\n",
       "    </tr>\n",
       "  </tbody>\n",
       "</table>\n",
       "<p>38599 rows × 16 columns</p>\n",
       "</div>"
      ],
      "text/plain": [
       "       Sensitivity_AreaUnderCereals_Paddy  Sensitivity_TotalNPK  \\\n",
       "0                                     0.0                   0.0   \n",
       "1                                     0.0                   0.0   \n",
       "2                                     0.0                   0.0   \n",
       "3                                     0.0                   0.0   \n",
       "4                                     0.0                   0.0   \n",
       "...                                   ...                   ...   \n",
       "38594                                 1.0                   1.0   \n",
       "38595                                 1.0                   1.0   \n",
       "38596                                 1.0                   1.0   \n",
       "38597                                 1.0                   1.0   \n",
       "38598                                 1.0                   1.0   \n",
       "\n",
       "       Sensitivity_NetAreaIrrigated_Canals_NetAreaIrrigated  \\\n",
       "0                                                    0.0      \n",
       "1                                                    0.0      \n",
       "2                                                    0.0      \n",
       "3                                                    0.0      \n",
       "4                                                    0.0      \n",
       "...                                                  ...      \n",
       "38594                                                1.0      \n",
       "38595                                                1.0      \n",
       "38596                                                1.0      \n",
       "38597                                                1.0      \n",
       "38598                                                1.0      \n",
       "\n",
       "       AreaUnderCereals_Paddy  TotalNPK  \\\n",
       "0                    0.003370  0.009697   \n",
       "1                    0.002969  0.001421   \n",
       "2                    0.035463  0.003575   \n",
       "3                    0.007854  0.001784   \n",
       "4                    0.852095  0.504480   \n",
       "...                       ...       ...   \n",
       "38594                0.033121  0.006570   \n",
       "38595                0.426318  0.738523   \n",
       "38596                1.000000  1.000000   \n",
       "38597                0.438464  0.334119   \n",
       "38598                0.404328  0.395668   \n",
       "\n",
       "       NetAreaIrrigated_Canals_NetAreaIrrigated    Beta_0    Beta_1    Beta_2  \\\n",
       "0                                      0.014826 -0.029489  0.750762  0.287941   \n",
       "1                                      0.005859 -0.029489  0.750762  0.287941   \n",
       "2                                      0.000657 -0.029489  0.750762  0.287941   \n",
       "3                                      0.000000 -0.029489  0.750762  0.287941   \n",
       "4                                      0.269227 -0.029489  0.750762  0.287941   \n",
       "...                                         ...       ...       ...       ...   \n",
       "38594                                  0.000070 -0.029489  0.750762  0.287941   \n",
       "38595                                  0.734923 -0.029489  0.750762  0.287941   \n",
       "38596                                  1.000000 -0.029489  0.750762  0.287941   \n",
       "38597                                  0.096966 -0.029489  0.750762  0.287941   \n",
       "38598                                  0.396926 -0.029489  0.750762  0.287941   \n",
       "\n",
       "         Beta_3    New_F1    New_F2    New_F3      District  New_Production  \\\n",
       "0     -0.003682  0.003370  0.009697  0.014826     BENGALURU       -0.024222   \n",
       "1     -0.003682  0.002969  0.001421  0.005859  BENGALURU(R)       -0.026873   \n",
       "2     -0.003682  0.035463  0.003575  0.000657    RAMANAGARA       -0.001838   \n",
       "3     -0.003682  0.007854  0.001784  0.000000   CHITRADURGA       -0.023079   \n",
       "4     -0.003682  0.852095  0.504480  0.269227    DAVANAGERE        0.754500   \n",
       "...         ...       ...       ...       ...           ...             ...   \n",
       "38594 -0.003682  0.050000  0.050578 -3.441242    KALABURAGI        0.035284   \n",
       "38595 -0.003682  0.443196  0.782531 -2.706390       YADGIRI        0.538534   \n",
       "38596 -0.003682  1.016879  1.044008 -2.441312       RAICHUR        1.043547   \n",
       "38597 -0.003682  0.455342  0.378128 -3.344347        KOPPAL        0.433558   \n",
       "38598 -0.003682  0.421207  0.439677 -3.044386  VIJAYANAGARA        0.424548   \n",
       "\n",
       "       Normalized_New_Prouction  \n",
       "0                      0.004920  \n",
       "1                      0.002450  \n",
       "2                      0.025780  \n",
       "3                      0.005985  \n",
       "4                      0.730631  \n",
       "...                         ...  \n",
       "38594                  0.060375  \n",
       "38595                  0.529366  \n",
       "38596                  1.000000  \n",
       "38597                  0.431536  \n",
       "38598                  0.423140  \n",
       "\n",
       "[38599 rows x 16 columns]"
      ]
     },
     "execution_count": 296,
     "metadata": {},
     "output_type": "execute_result"
    }
   ],
   "source": [
    "result_df['Normalized_New_Prouction'] = normalize_list(result_df['New_Production'])\n",
    "result_df"
   ]
  },
  {
   "cell_type": "code",
   "execution_count": 297,
   "metadata": {},
   "outputs": [
    {
     "name": "stdout",
     "output_type": "stream",
     "text": [
      "1331\n",
      "29\n",
      "38599 38599\n"
     ]
    }
   ],
   "source": [
    "stress_values_list = []\n",
    "stability_values_list = []\n",
    "\n",
    "# Define batch size\n",
    "batch_size = case_file_length\n",
    "\n",
    "# Iterate over the New_Production column in batches of 31\n",
    "num_batches = len(result_df) // batch_size\n",
    "\n",
    "for i in range(num_batches):\n",
    "    # Get the batch of 31 production values\n",
    "    start_idx = i * batch_size\n",
    "    end_idx = start_idx + batch_size\n",
    "    batch = normalize_list(result_df['New_Production'][start_idx:end_idx].values)\n",
    "    \n",
    "    # Calculate the stress and stability values for the batch\n",
    "    stress_batch, stability_batch = calculate_stress_stability(batch, adj_matrix_np)\n",
    "    \n",
    "    stress_values_list.extend(stress_batch)\n",
    "    stability_values_list.extend(stability_batch)\n",
    "\n",
    "\n",
    "print(num_batches)\n",
    "print(len(stress_batch))\n",
    "print(len(stress_values_list), len(stability_values_list))\n",
    "\n",
    "result_df['Stress_Values'] = stress_values_list\n",
    "result_df['Stability_Values'] = stability_values_list"
   ]
  },
  {
   "cell_type": "code",
   "execution_count": 298,
   "metadata": {},
   "outputs": [
    {
     "data": {
      "text/plain": [
       "Index(['Sensitivity_AreaUnderCereals_Paddy', 'Sensitivity_TotalNPK',\n",
       "       'Sensitivity_NetAreaIrrigated_Canals_NetAreaIrrigated',\n",
       "       'AreaUnderCereals_Paddy', 'TotalNPK',\n",
       "       'NetAreaIrrigated_Canals_NetAreaIrrigated', 'Beta_0', 'Beta_1',\n",
       "       'Beta_2', 'Beta_3', 'New_F1', 'New_F2', 'New_F3', 'District',\n",
       "       'New_Production', 'Normalized_New_Prouction', 'Stress_Values',\n",
       "       'Stability_Values'],\n",
       "      dtype='object')"
      ]
     },
     "execution_count": 298,
     "metadata": {},
     "output_type": "execute_result"
    }
   ],
   "source": [
    "result_df.columns"
   ]
  },
  {
   "cell_type": "code",
   "execution_count": 299,
   "metadata": {},
   "outputs": [],
   "source": [
    "viz_df = result_df[['District','Sensitivity_AreaUnderCereals_Paddy','Sensitivity_TotalNPK','Sensitivity_NetAreaIrrigated_Canals_NetAreaIrrigated',\n",
    "                    'New_Production','Stability_Values','Normalized_New_Prouction']].copy()\n",
    "\n",
    "abbreviation_mapping = {\n",
    "    'BENGALURU': 'BLR',\n",
    "    'BENGALURU(R)': 'BLR(R)',\n",
    "    'RAMANAGARA': 'RGA',\n",
    "    'CHITRADURGA': 'CDA',\n",
    "    'DAVANAGERE': 'DVG',\n",
    "    'KOLAR': 'KLR',\n",
    "    'CHIKKABALLAPURA': 'CKA',\n",
    "    'SHIVAMOGGA': 'SMG',\n",
    "    'TUMAKURU': 'TKR',\n",
    "    'CHIKKAMAGALURU': 'CMG',\n",
    "    'DAKSHINA KANNADA': 'DKA',\n",
    "    'UDUPI': 'UPI',\n",
    "    'HASSAN': 'HSN',\n",
    "    'KODAGU': 'KDG',\n",
    "    'MANDYA': 'MDY',\n",
    "    'MYSURU': 'MYS',\n",
    "    'CHAMARAJANAGAR': 'CNR',\n",
    "    'BELAGAVI': 'BLG',\n",
    "    'VIJAYAPURA': 'VJP',\n",
    "    'BAGALKOT': 'BKT',\n",
    "    'DHARAWAD': 'DWD',\n",
    "    'GADAG': 'GDG',\n",
    "    'HAVERI': 'HVR',\n",
    "    'UTTARA KANNADA': 'UTK',\n",
    "    'BALLARI': 'BLL',\n",
    "    'BIDAR': 'BDR',\n",
    "    'KALABURAGI': 'KLB',\n",
    "    'YADGIRI': 'YDR',\n",
    "    'RAICHUR': 'RCR',\n",
    "    'KOPPAL': 'KPL',\n",
    "    'VIJAYANAGARA' : 'VJN'\n",
    "}\n",
    "\n",
    "viz_df['Abbreviation'] = viz_df['District'].map(abbreviation_mapping)\n",
    "\n",
    "legend_labels = [{'Abbreviation': abb, 'Full Form': full_form} \n",
    "                    for abb, full_form in zip(viz_df['Abbreviation'].unique(), viz_df['District'].unique())]"
   ]
  },
  {
   "cell_type": "code",
   "execution_count": 300,
   "metadata": {},
   "outputs": [],
   "source": [
    "viz_df['New_Production'] = viz_df['New_Production'].apply(lambda x: max(0, x))\n",
    "y = y_st['Rice_Production']\n",
    "\n",
    "viz_df['Percentage Change'] = viz_df['New_Production'] - np.tile(y.values, len(viz_df) // case_file_length + 1)[:len(viz_df)]\n",
    "viz_df['Impact'] = viz_df['New_Production'] - np.tile(y.values, len(viz_df) // case_file_length + 1)[:len(viz_df)]\n",
    "\n",
    "for i in range(0, len(viz_df), case_file_length):\n",
    "    viz_df.loc[i:i+case_file_length-1, 'Percentage Change'] = viz_df.loc[i:i+case_file_length-1, 'Percentage Change'] * 100 / y.values + 1e-7\n",
    "    viz_df.loc[i:i+case_file_length-1, 'Impact'] = viz_df.loc[i:i+case_file_length-1, 'Impact']\n",
    "    # viz_df.loc[i:i+case_file_length-1, 'Normalized Percentage Change'] = normalize_list(viz_df.loc[i:i+case_file_length-1, 'Percentage Change'])\n",
    "\n",
    "viz_df['Percentage Change'] = viz_df['Percentage Change'].replace([np.inf, -np.inf], 0)\n",
    "\n",
    "# viz_df['Normalized Percentage Change'] = normalize_list(viz_df['Percentage Change'])"
   ]
  },
  {
   "cell_type": "code",
   "execution_count": 301,
   "metadata": {},
   "outputs": [
    {
     "data": {
      "text/html": [
       "<div>\n",
       "<style scoped>\n",
       "    .dataframe tbody tr th:only-of-type {\n",
       "        vertical-align: middle;\n",
       "    }\n",
       "\n",
       "    .dataframe tbody tr th {\n",
       "        vertical-align: top;\n",
       "    }\n",
       "\n",
       "    .dataframe thead th {\n",
       "        text-align: right;\n",
       "    }\n",
       "</style>\n",
       "<table border=\"1\" class=\"dataframe\">\n",
       "  <thead>\n",
       "    <tr style=\"text-align: right;\">\n",
       "      <th></th>\n",
       "      <th>District</th>\n",
       "      <th>Rice_Production</th>\n",
       "      <th>TotalNPK</th>\n",
       "      <th>AreaUnderCereals_Paddy</th>\n",
       "      <th>NetAreaIrrigated_Canals_NetAreaIrrigated</th>\n",
       "      <th>Rice_Ratio</th>\n",
       "    </tr>\n",
       "  </thead>\n",
       "  <tbody>\n",
       "    <tr>\n",
       "      <th>0</th>\n",
       "      <td>BENGALURU</td>\n",
       "      <td>3376.0</td>\n",
       "      <td>513.822990</td>\n",
       "      <td>782.0</td>\n",
       "      <td>9587.939256</td>\n",
       "      <td>0.022043</td>\n",
       "    </tr>\n",
       "    <tr>\n",
       "      <th>1</th>\n",
       "      <td>BENGALURU(R)</td>\n",
       "      <td>2354.0</td>\n",
       "      <td>167.835355</td>\n",
       "      <td>736.0</td>\n",
       "      <td>9587.939256</td>\n",
       "      <td>0.008715</td>\n",
       "    </tr>\n",
       "    <tr>\n",
       "      <th>2</th>\n",
       "      <td>RAMANAGARA</td>\n",
       "      <td>12128.0</td>\n",
       "      <td>257.908893</td>\n",
       "      <td>4468.0</td>\n",
       "      <td>272.509463</td>\n",
       "      <td>0.034517</td>\n",
       "    </tr>\n",
       "    <tr>\n",
       "      <th>3</th>\n",
       "      <td>CHITRADURGA</td>\n",
       "      <td>4566.0</td>\n",
       "      <td>183.032957</td>\n",
       "      <td>1297.0</td>\n",
       "      <td>9.283245</td>\n",
       "      <td>0.005101</td>\n",
       "    </tr>\n",
       "    <tr>\n",
       "      <th>4</th>\n",
       "      <td>DAVANAGERE</td>\n",
       "      <td>489505.0</td>\n",
       "      <td>21197.529554</td>\n",
       "      <td>98259.0</td>\n",
       "      <td>18037.386429</td>\n",
       "      <td>0.212733</td>\n",
       "    </tr>\n",
       "    <tr>\n",
       "      <th>5</th>\n",
       "      <td>KOLAR</td>\n",
       "      <td>864.0</td>\n",
       "      <td>108.445953</td>\n",
       "      <td>395.0</td>\n",
       "      <td>9587.939256</td>\n",
       "      <td>0.004887</td>\n",
       "    </tr>\n",
       "    <tr>\n",
       "      <th>6</th>\n",
       "      <td>CHIKKABALLAPURA</td>\n",
       "      <td>2698.0</td>\n",
       "      <td>209.640893</td>\n",
       "      <td>1333.0</td>\n",
       "      <td>9587.939256</td>\n",
       "      <td>0.007393</td>\n",
       "    </tr>\n",
       "    <tr>\n",
       "      <th>7</th>\n",
       "      <td>SHIVAMOGGA</td>\n",
       "      <td>384974.0</td>\n",
       "      <td>17722.015760</td>\n",
       "      <td>109617.0</td>\n",
       "      <td>13305.677787</td>\n",
       "      <td>0.313060</td>\n",
       "    </tr>\n",
       "    <tr>\n",
       "      <th>8</th>\n",
       "      <td>TUMAKURU</td>\n",
       "      <td>26042.0</td>\n",
       "      <td>1069.562417</td>\n",
       "      <td>10379.0</td>\n",
       "      <td>114.924409</td>\n",
       "      <td>0.028037</td>\n",
       "    </tr>\n",
       "    <tr>\n",
       "      <th>9</th>\n",
       "      <td>CHIKKAMAGALURU</td>\n",
       "      <td>110533.0</td>\n",
       "      <td>14694.297645</td>\n",
       "      <td>33036.0</td>\n",
       "      <td>1344.644186</td>\n",
       "      <td>0.216529</td>\n",
       "    </tr>\n",
       "    <tr>\n",
       "      <th>10</th>\n",
       "      <td>DAKSHINA KANNADA</td>\n",
       "      <td>132588.0</td>\n",
       "      <td>8898.497787</td>\n",
       "      <td>48689.0</td>\n",
       "      <td>9587.939256</td>\n",
       "      <td>0.478723</td>\n",
       "    </tr>\n",
       "    <tr>\n",
       "      <th>11</th>\n",
       "      <td>UDUPI</td>\n",
       "      <td>138156.0</td>\n",
       "      <td>2921.382123</td>\n",
       "      <td>49608.0</td>\n",
       "      <td>9587.939256</td>\n",
       "      <td>0.475176</td>\n",
       "    </tr>\n",
       "    <tr>\n",
       "      <th>12</th>\n",
       "      <td>HASSAN</td>\n",
       "      <td>143705.0</td>\n",
       "      <td>7332.607213</td>\n",
       "      <td>42818.0</td>\n",
       "      <td>3867.912533</td>\n",
       "      <td>0.107153</td>\n",
       "    </tr>\n",
       "    <tr>\n",
       "      <th>13</th>\n",
       "      <td>KODAGU</td>\n",
       "      <td>86303.0</td>\n",
       "      <td>16946.721245</td>\n",
       "      <td>28336.0</td>\n",
       "      <td>507.404211</td>\n",
       "      <td>0.413870</td>\n",
       "    </tr>\n",
       "    <tr>\n",
       "      <th>14</th>\n",
       "      <td>MANDYA</td>\n",
       "      <td>246543.0</td>\n",
       "      <td>18424.665100</td>\n",
       "      <td>58487.0</td>\n",
       "      <td>27586.796690</td>\n",
       "      <td>0.304248</td>\n",
       "    </tr>\n",
       "    <tr>\n",
       "      <th>15</th>\n",
       "      <td>MYSURU</td>\n",
       "      <td>354227.0</td>\n",
       "      <td>17937.675249</td>\n",
       "      <td>93521.0</td>\n",
       "      <td>26552.468392</td>\n",
       "      <td>0.289252</td>\n",
       "    </tr>\n",
       "    <tr>\n",
       "      <th>16</th>\n",
       "      <td>CHAMARAJANAGAR</td>\n",
       "      <td>45856.0</td>\n",
       "      <td>2260.361257</td>\n",
       "      <td>13881.0</td>\n",
       "      <td>1997.983483</td>\n",
       "      <td>0.094961</td>\n",
       "    </tr>\n",
       "    <tr>\n",
       "      <th>17</th>\n",
       "      <td>BELAGAVI</td>\n",
       "      <td>177552.0</td>\n",
       "      <td>14865.464724</td>\n",
       "      <td>61230.0</td>\n",
       "      <td>4947.776905</td>\n",
       "      <td>0.082590</td>\n",
       "    </tr>\n",
       "    <tr>\n",
       "      <th>18</th>\n",
       "      <td>VIJAYAPURA</td>\n",
       "      <td>170.0</td>\n",
       "      <td>7.826782</td>\n",
       "      <td>51.0</td>\n",
       "      <td>12.617706</td>\n",
       "      <td>0.000144</td>\n",
       "    </tr>\n",
       "    <tr>\n",
       "      <th>19</th>\n",
       "      <td>BAGALKOT</td>\n",
       "      <td>85.0</td>\n",
       "      <td>7.747128</td>\n",
       "      <td>32.0</td>\n",
       "      <td>0.185064</td>\n",
       "      <td>0.000091</td>\n",
       "    </tr>\n",
       "    <tr>\n",
       "      <th>20</th>\n",
       "      <td>DHARAWAD</td>\n",
       "      <td>33989.0</td>\n",
       "      <td>2417.985953</td>\n",
       "      <td>23909.0</td>\n",
       "      <td>1020.662913</td>\n",
       "      <td>0.064685</td>\n",
       "    </tr>\n",
       "    <tr>\n",
       "      <th>21</th>\n",
       "      <td>GADAG</td>\n",
       "      <td>7258.0</td>\n",
       "      <td>293.056198</td>\n",
       "      <td>1706.0</td>\n",
       "      <td>384.409670</td>\n",
       "      <td>0.012588</td>\n",
       "    </tr>\n",
       "    <tr>\n",
       "      <th>22</th>\n",
       "      <td>HAVERI</td>\n",
       "      <td>125422.0</td>\n",
       "      <td>6591.662844</td>\n",
       "      <td>44968.0</td>\n",
       "      <td>520.631945</td>\n",
       "      <td>0.101409</td>\n",
       "    </tr>\n",
       "    <tr>\n",
       "      <th>23</th>\n",
       "      <td>UTTARA KANNADA</td>\n",
       "      <td>152981.0</td>\n",
       "      <td>6513.612078</td>\n",
       "      <td>66147.0</td>\n",
       "      <td>9587.939256</td>\n",
       "      <td>0.425282</td>\n",
       "    </tr>\n",
       "    <tr>\n",
       "      <th>24</th>\n",
       "      <td>BALLARI</td>\n",
       "      <td>206115.5</td>\n",
       "      <td>16648.820502</td>\n",
       "      <td>46832.5</td>\n",
       "      <td>20953.141802</td>\n",
       "      <td>0.269990</td>\n",
       "    </tr>\n",
       "    <tr>\n",
       "      <th>25</th>\n",
       "      <td>BIDAR</td>\n",
       "      <td>2036.0</td>\n",
       "      <td>181.920490</td>\n",
       "      <td>1548.0</td>\n",
       "      <td>9587.939256</td>\n",
       "      <td>0.007378</td>\n",
       "    </tr>\n",
       "    <tr>\n",
       "      <th>26</th>\n",
       "      <td>KALABURAGI</td>\n",
       "      <td>7888.0</td>\n",
       "      <td>383.098388</td>\n",
       "      <td>4199.0</td>\n",
       "      <td>148.020607</td>\n",
       "      <td>0.007095</td>\n",
       "    </tr>\n",
       "    <tr>\n",
       "      <th>27</th>\n",
       "      <td>YADGIRI</td>\n",
       "      <td>224659.0</td>\n",
       "      <td>30981.381245</td>\n",
       "      <td>49358.0</td>\n",
       "      <td>30897.307860</td>\n",
       "      <td>0.339006</td>\n",
       "    </tr>\n",
       "    <tr>\n",
       "      <th>28</th>\n",
       "      <td>RAICHUR</td>\n",
       "      <td>492342.0</td>\n",
       "      <td>41912.073068</td>\n",
       "      <td>115246.0</td>\n",
       "      <td>39866.073203</td>\n",
       "      <td>0.357505</td>\n",
       "    </tr>\n",
       "    <tr>\n",
       "      <th>29</th>\n",
       "      <td>KOPPAL</td>\n",
       "      <td>243505.0</td>\n",
       "      <td>14075.849458</td>\n",
       "      <td>50753.0</td>\n",
       "      <td>7221.642581</td>\n",
       "      <td>0.191373</td>\n",
       "    </tr>\n",
       "    <tr>\n",
       "      <th>30</th>\n",
       "      <td>VIJAYANAGARA</td>\n",
       "      <td>206115.5</td>\n",
       "      <td>16648.820502</td>\n",
       "      <td>46832.5</td>\n",
       "      <td>20953.141802</td>\n",
       "      <td>0.269990</td>\n",
       "    </tr>\n",
       "  </tbody>\n",
       "</table>\n",
       "</div>"
      ],
      "text/plain": [
       "            District  Rice_Production      TotalNPK  AreaUnderCereals_Paddy  \\\n",
       "0          BENGALURU           3376.0    513.822990                   782.0   \n",
       "1       BENGALURU(R)           2354.0    167.835355                   736.0   \n",
       "2         RAMANAGARA          12128.0    257.908893                  4468.0   \n",
       "3        CHITRADURGA           4566.0    183.032957                  1297.0   \n",
       "4         DAVANAGERE         489505.0  21197.529554                 98259.0   \n",
       "5              KOLAR            864.0    108.445953                   395.0   \n",
       "6    CHIKKABALLAPURA           2698.0    209.640893                  1333.0   \n",
       "7         SHIVAMOGGA         384974.0  17722.015760                109617.0   \n",
       "8           TUMAKURU          26042.0   1069.562417                 10379.0   \n",
       "9     CHIKKAMAGALURU         110533.0  14694.297645                 33036.0   \n",
       "10  DAKSHINA KANNADA         132588.0   8898.497787                 48689.0   \n",
       "11             UDUPI         138156.0   2921.382123                 49608.0   \n",
       "12            HASSAN         143705.0   7332.607213                 42818.0   \n",
       "13            KODAGU          86303.0  16946.721245                 28336.0   \n",
       "14            MANDYA         246543.0  18424.665100                 58487.0   \n",
       "15            MYSURU         354227.0  17937.675249                 93521.0   \n",
       "16    CHAMARAJANAGAR          45856.0   2260.361257                 13881.0   \n",
       "17          BELAGAVI         177552.0  14865.464724                 61230.0   \n",
       "18        VIJAYAPURA            170.0      7.826782                    51.0   \n",
       "19          BAGALKOT             85.0      7.747128                    32.0   \n",
       "20          DHARAWAD          33989.0   2417.985953                 23909.0   \n",
       "21             GADAG           7258.0    293.056198                  1706.0   \n",
       "22            HAVERI         125422.0   6591.662844                 44968.0   \n",
       "23    UTTARA KANNADA         152981.0   6513.612078                 66147.0   \n",
       "24           BALLARI         206115.5  16648.820502                 46832.5   \n",
       "25             BIDAR           2036.0    181.920490                  1548.0   \n",
       "26        KALABURAGI           7888.0    383.098388                  4199.0   \n",
       "27           YADGIRI         224659.0  30981.381245                 49358.0   \n",
       "28           RAICHUR         492342.0  41912.073068                115246.0   \n",
       "29            KOPPAL         243505.0  14075.849458                 50753.0   \n",
       "30      VIJAYANAGARA         206115.5  16648.820502                 46832.5   \n",
       "\n",
       "    NetAreaIrrigated_Canals_NetAreaIrrigated  Rice_Ratio  \n",
       "0                                9587.939256    0.022043  \n",
       "1                                9587.939256    0.008715  \n",
       "2                                 272.509463    0.034517  \n",
       "3                                   9.283245    0.005101  \n",
       "4                               18037.386429    0.212733  \n",
       "5                                9587.939256    0.004887  \n",
       "6                                9587.939256    0.007393  \n",
       "7                               13305.677787    0.313060  \n",
       "8                                 114.924409    0.028037  \n",
       "9                                1344.644186    0.216529  \n",
       "10                               9587.939256    0.478723  \n",
       "11                               9587.939256    0.475176  \n",
       "12                               3867.912533    0.107153  \n",
       "13                                507.404211    0.413870  \n",
       "14                              27586.796690    0.304248  \n",
       "15                              26552.468392    0.289252  \n",
       "16                               1997.983483    0.094961  \n",
       "17                               4947.776905    0.082590  \n",
       "18                                 12.617706    0.000144  \n",
       "19                                  0.185064    0.000091  \n",
       "20                               1020.662913    0.064685  \n",
       "21                                384.409670    0.012588  \n",
       "22                                520.631945    0.101409  \n",
       "23                               9587.939256    0.425282  \n",
       "24                              20953.141802    0.269990  \n",
       "25                               9587.939256    0.007378  \n",
       "26                                148.020607    0.007095  \n",
       "27                              30897.307860    0.339006  \n",
       "28                              39866.073203    0.357505  \n",
       "29                               7221.642581    0.191373  \n",
       "30                              20953.141802    0.269990  "
      ]
     },
     "execution_count": 301,
     "metadata": {},
     "output_type": "execute_result"
    }
   ],
   "source": [
    "Working_Directory"
   ]
  },
  {
   "cell_type": "code",
   "execution_count": 311,
   "metadata": {},
   "outputs": [
    {
     "data": {
      "application/vnd.plotly.v1+json": {
       "config": {
        "plotlyServerURL": "https://plot.ly"
       },
       "data": [
        {
         "hovertemplate": "Stability=%{x}<br>Impact=%{y}<br>Abbreviation=%{text}<extra></extra>",
         "legendgroup": "",
         "marker": {
          "color": "darkblue",
          "opacity": 1,
          "symbol": "circle"
         },
         "mode": "markers+text",
         "name": "",
         "orientation": "v",
         "showlegend": false,
         "text": [
          "BLR",
          "BLR(R)",
          "RGA",
          "CDA",
          "DVG",
          "KLR",
          "CKA",
          "SMG",
          "TKR",
          "CMG",
          "DKA",
          "UPI",
          "HSN",
          "KDG",
          "MDY",
          "MYS",
          "CNR",
          "BLG",
          "DWD",
          "GDG",
          "HVR",
          "UTK",
          "BLL",
          "BDR",
          "KLB",
          "YDR",
          "RCR",
          "KPL",
          "VJN"
         ],
         "textfont": {
          "size": 11
         },
         "textposition": "top center",
         "type": "scatter",
         "x": [
          0.9904672587883462,
          0.9809634204886589,
          0.8940771047351835,
          0.7172189416385273,
          0.5511662703405877,
          0.9954344355630711,
          0.9825909914334654,
          0.5537602658722351,
          0.9054878508434019,
          0.9251807522264689,
          0.9466189069646775,
          0.958584993000501,
          0.9467361254766224,
          0.8274231695657686,
          0.756596719901304,
          0.5927448107338706,
          0.6933538209902601,
          0.710213105915379,
          0.7029790375011277,
          0.6332622492971485,
          0.9874170908648758,
          0.7919799914918146,
          0.9944826242822613,
          0.5391022552342644,
          0.6209724004258887,
          0.5120803715852841,
          0.3622022859789791,
          0.8887165699115741,
          0.7505248348596705
         ],
         "xaxis": "x",
         "y": [
          -99.9999999,
          -99.9999999,
          -25.082840210312032,
          -99.9999999,
          -22.200104132495174,
          null,
          -99.9999999,
          5.398164492026669,
          19.856416460387138,
          35.913239790747824,
          36.024573169900385,
          17.923579046999507,
          8.893404699668139,
          65.72095820658791,
          -1.3261721205062396,
          0.015243805236338387,
          0.9865160075382011,
          35.94491551273538,
          136.08215940325613,
          -99.9999999,
          28.445686863775396,
          49.39557435114247,
          -2.892763497933177,
          -99.9999999,
          13.885416340462617,
          14.093566421530237,
          2.453894441785423,
          -16.031449257167754,
          -2.892763497933177
         ],
         "yaxis": "y"
        },
        {
         "marker": {
          "color": "darkblue"
         },
         "mode": "markers",
         "name": "BLR: BENGALURU",
         "type": "scatter",
         "x": [
          null
         ],
         "y": [
          null
         ]
        },
        {
         "marker": {
          "color": "darkblue"
         },
         "mode": "markers",
         "name": "BLR(R): BENGALURU(R)",
         "type": "scatter",
         "x": [
          null
         ],
         "y": [
          null
         ]
        },
        {
         "marker": {
          "color": "darkblue"
         },
         "mode": "markers",
         "name": "RGA: RAMANAGARA",
         "type": "scatter",
         "x": [
          null
         ],
         "y": [
          null
         ]
        },
        {
         "marker": {
          "color": "darkblue"
         },
         "mode": "markers",
         "name": "CDA: CHITRADURGA",
         "type": "scatter",
         "x": [
          null
         ],
         "y": [
          null
         ]
        },
        {
         "marker": {
          "color": "darkblue"
         },
         "mode": "markers",
         "name": "DVG: DAVANAGERE",
         "type": "scatter",
         "x": [
          null
         ],
         "y": [
          null
         ]
        },
        {
         "marker": {
          "color": "darkblue"
         },
         "mode": "markers",
         "name": "KLR: KOLAR",
         "type": "scatter",
         "x": [
          null
         ],
         "y": [
          null
         ]
        },
        {
         "marker": {
          "color": "darkblue"
         },
         "mode": "markers",
         "name": "CKA: CHIKKABALLAPURA",
         "type": "scatter",
         "x": [
          null
         ],
         "y": [
          null
         ]
        },
        {
         "marker": {
          "color": "darkblue"
         },
         "mode": "markers",
         "name": "SMG: SHIVAMOGGA",
         "type": "scatter",
         "x": [
          null
         ],
         "y": [
          null
         ]
        },
        {
         "marker": {
          "color": "darkblue"
         },
         "mode": "markers",
         "name": "TKR: TUMAKURU",
         "type": "scatter",
         "x": [
          null
         ],
         "y": [
          null
         ]
        },
        {
         "marker": {
          "color": "darkblue"
         },
         "mode": "markers",
         "name": "CMG: CHIKKAMAGALURU",
         "type": "scatter",
         "x": [
          null
         ],
         "y": [
          null
         ]
        },
        {
         "marker": {
          "color": "darkblue"
         },
         "mode": "markers",
         "name": "DKA: DAKSHINA KANNADA",
         "type": "scatter",
         "x": [
          null
         ],
         "y": [
          null
         ]
        },
        {
         "marker": {
          "color": "darkblue"
         },
         "mode": "markers",
         "name": "UPI: UDUPI",
         "type": "scatter",
         "x": [
          null
         ],
         "y": [
          null
         ]
        },
        {
         "marker": {
          "color": "darkblue"
         },
         "mode": "markers",
         "name": "HSN: HASSAN",
         "type": "scatter",
         "x": [
          null
         ],
         "y": [
          null
         ]
        },
        {
         "marker": {
          "color": "darkblue"
         },
         "mode": "markers",
         "name": "KDG: KODAGU",
         "type": "scatter",
         "x": [
          null
         ],
         "y": [
          null
         ]
        },
        {
         "marker": {
          "color": "darkblue"
         },
         "mode": "markers",
         "name": "MDY: MANDYA",
         "type": "scatter",
         "x": [
          null
         ],
         "y": [
          null
         ]
        },
        {
         "marker": {
          "color": "darkblue"
         },
         "mode": "markers",
         "name": "MYS: MYSURU",
         "type": "scatter",
         "x": [
          null
         ],
         "y": [
          null
         ]
        },
        {
         "marker": {
          "color": "darkblue"
         },
         "mode": "markers",
         "name": "CNR: CHAMARAJANAGAR",
         "type": "scatter",
         "x": [
          null
         ],
         "y": [
          null
         ]
        },
        {
         "marker": {
          "color": "darkblue"
         },
         "mode": "markers",
         "name": "BLG: BELAGAVI",
         "type": "scatter",
         "x": [
          null
         ],
         "y": [
          null
         ]
        },
        {
         "marker": {
          "color": "darkblue"
         },
         "mode": "markers",
         "name": "DWD: DHARAWAD",
         "type": "scatter",
         "x": [
          null
         ],
         "y": [
          null
         ]
        },
        {
         "marker": {
          "color": "darkblue"
         },
         "mode": "markers",
         "name": "GDG: GADAG",
         "type": "scatter",
         "x": [
          null
         ],
         "y": [
          null
         ]
        },
        {
         "marker": {
          "color": "darkblue"
         },
         "mode": "markers",
         "name": "HVR: HAVERI",
         "type": "scatter",
         "x": [
          null
         ],
         "y": [
          null
         ]
        },
        {
         "marker": {
          "color": "darkblue"
         },
         "mode": "markers",
         "name": "UTK: UTTARA KANNADA",
         "type": "scatter",
         "x": [
          null
         ],
         "y": [
          null
         ]
        },
        {
         "marker": {
          "color": "darkblue"
         },
         "mode": "markers",
         "name": "BLL: BALLARI",
         "type": "scatter",
         "x": [
          null
         ],
         "y": [
          null
         ]
        },
        {
         "marker": {
          "color": "darkblue"
         },
         "mode": "markers",
         "name": "BDR: BIDAR",
         "type": "scatter",
         "x": [
          null
         ],
         "y": [
          null
         ]
        },
        {
         "marker": {
          "color": "darkblue"
         },
         "mode": "markers",
         "name": "KLB: KALABURAGI",
         "type": "scatter",
         "x": [
          null
         ],
         "y": [
          null
         ]
        },
        {
         "marker": {
          "color": "darkblue"
         },
         "mode": "markers",
         "name": "YDR: YADGIRI",
         "type": "scatter",
         "x": [
          null
         ],
         "y": [
          null
         ]
        },
        {
         "marker": {
          "color": "darkblue"
         },
         "mode": "markers",
         "name": "RCR: RAICHUR",
         "type": "scatter",
         "x": [
          null
         ],
         "y": [
          null
         ]
        },
        {
         "marker": {
          "color": "darkblue"
         },
         "mode": "markers",
         "name": "KPL: KOPPAL",
         "type": "scatter",
         "x": [
          null
         ],
         "y": [
          null
         ]
        },
        {
         "marker": {
          "color": "darkblue"
         },
         "mode": "markers",
         "name": "VJN: VIJAYANAGARA",
         "type": "scatter",
         "x": [
          null
         ],
         "y": [
          null
         ]
        },
        {
         "mode": "text",
         "showlegend": false,
         "text": [
          "Avg Stability: 0.78"
         ],
         "textfont": {
          "size": 10.7
         },
         "type": "scatter",
         "x": [
          0.7831840915831453
         ],
         "y": [
          -0.07
         ]
        },
        {
         "mode": "text",
         "showlegend": false,
         "text": [
          "Avg Impact: -7.12"
         ],
         "textfont": {
          "size": 10.7
         },
         "type": "scatter",
         "x": [
          0.3
         ],
         "y": [
          -7.161170825091708
         ]
        }
       ],
       "layout": {
        "annotations": [
         {
          "font": {
           "size": 13
          },
          "showarrow": false,
          "text": "α<sub>AP</sub>: 0.50, α<sub>NPK</sub>: 0.50, α<sub>CN</sub>: 0.50",
          "x": 0.5,
          "xref": "paper",
          "y": -0.25,
          "yref": "paper"
         }
        ],
        "legend": {
         "title": {
          "font": {
           "size": 12
          },
          "text": "Districts"
         },
         "tracegroupgap": 0
        },
        "shapes": [
         {
          "line": {
           "color": "red",
           "dash": "dash",
           "width": 1.5
          },
          "type": "line",
          "x0": 0.7831840915831453,
          "x1": 0.7831840915831453,
          "y0": 0,
          "y1": 1,
          "yref": "paper"
         },
         {
          "line": {
           "color": "red",
           "dash": "dash",
           "width": 1.5
          },
          "type": "line",
          "x0": 0,
          "x1": 1,
          "xref": "paper",
          "y0": -7.121170825091708,
          "y1": -7.121170825091708
         }
        ],
        "template": {
         "data": {
          "bar": [
           {
            "error_x": {
             "color": "#2a3f5f"
            },
            "error_y": {
             "color": "#2a3f5f"
            },
            "marker": {
             "line": {
              "color": "#E5ECF6",
              "width": 0.5
             },
             "pattern": {
              "fillmode": "overlay",
              "size": 10,
              "solidity": 0.2
             }
            },
            "type": "bar"
           }
          ],
          "barpolar": [
           {
            "marker": {
             "line": {
              "color": "#E5ECF6",
              "width": 0.5
             },
             "pattern": {
              "fillmode": "overlay",
              "size": 10,
              "solidity": 0.2
             }
            },
            "type": "barpolar"
           }
          ],
          "carpet": [
           {
            "aaxis": {
             "endlinecolor": "#2a3f5f",
             "gridcolor": "white",
             "linecolor": "white",
             "minorgridcolor": "white",
             "startlinecolor": "#2a3f5f"
            },
            "baxis": {
             "endlinecolor": "#2a3f5f",
             "gridcolor": "white",
             "linecolor": "white",
             "minorgridcolor": "white",
             "startlinecolor": "#2a3f5f"
            },
            "type": "carpet"
           }
          ],
          "choropleth": [
           {
            "colorbar": {
             "outlinewidth": 0,
             "ticks": ""
            },
            "type": "choropleth"
           }
          ],
          "contour": [
           {
            "colorbar": {
             "outlinewidth": 0,
             "ticks": ""
            },
            "colorscale": [
             [
              0,
              "#0d0887"
             ],
             [
              0.1111111111111111,
              "#46039f"
             ],
             [
              0.2222222222222222,
              "#7201a8"
             ],
             [
              0.3333333333333333,
              "#9c179e"
             ],
             [
              0.4444444444444444,
              "#bd3786"
             ],
             [
              0.5555555555555556,
              "#d8576b"
             ],
             [
              0.6666666666666666,
              "#ed7953"
             ],
             [
              0.7777777777777778,
              "#fb9f3a"
             ],
             [
              0.8888888888888888,
              "#fdca26"
             ],
             [
              1,
              "#f0f921"
             ]
            ],
            "type": "contour"
           }
          ],
          "contourcarpet": [
           {
            "colorbar": {
             "outlinewidth": 0,
             "ticks": ""
            },
            "type": "contourcarpet"
           }
          ],
          "heatmap": [
           {
            "colorbar": {
             "outlinewidth": 0,
             "ticks": ""
            },
            "colorscale": [
             [
              0,
              "#0d0887"
             ],
             [
              0.1111111111111111,
              "#46039f"
             ],
             [
              0.2222222222222222,
              "#7201a8"
             ],
             [
              0.3333333333333333,
              "#9c179e"
             ],
             [
              0.4444444444444444,
              "#bd3786"
             ],
             [
              0.5555555555555556,
              "#d8576b"
             ],
             [
              0.6666666666666666,
              "#ed7953"
             ],
             [
              0.7777777777777778,
              "#fb9f3a"
             ],
             [
              0.8888888888888888,
              "#fdca26"
             ],
             [
              1,
              "#f0f921"
             ]
            ],
            "type": "heatmap"
           }
          ],
          "heatmapgl": [
           {
            "colorbar": {
             "outlinewidth": 0,
             "ticks": ""
            },
            "colorscale": [
             [
              0,
              "#0d0887"
             ],
             [
              0.1111111111111111,
              "#46039f"
             ],
             [
              0.2222222222222222,
              "#7201a8"
             ],
             [
              0.3333333333333333,
              "#9c179e"
             ],
             [
              0.4444444444444444,
              "#bd3786"
             ],
             [
              0.5555555555555556,
              "#d8576b"
             ],
             [
              0.6666666666666666,
              "#ed7953"
             ],
             [
              0.7777777777777778,
              "#fb9f3a"
             ],
             [
              0.8888888888888888,
              "#fdca26"
             ],
             [
              1,
              "#f0f921"
             ]
            ],
            "type": "heatmapgl"
           }
          ],
          "histogram": [
           {
            "marker": {
             "pattern": {
              "fillmode": "overlay",
              "size": 10,
              "solidity": 0.2
             }
            },
            "type": "histogram"
           }
          ],
          "histogram2d": [
           {
            "colorbar": {
             "outlinewidth": 0,
             "ticks": ""
            },
            "colorscale": [
             [
              0,
              "#0d0887"
             ],
             [
              0.1111111111111111,
              "#46039f"
             ],
             [
              0.2222222222222222,
              "#7201a8"
             ],
             [
              0.3333333333333333,
              "#9c179e"
             ],
             [
              0.4444444444444444,
              "#bd3786"
             ],
             [
              0.5555555555555556,
              "#d8576b"
             ],
             [
              0.6666666666666666,
              "#ed7953"
             ],
             [
              0.7777777777777778,
              "#fb9f3a"
             ],
             [
              0.8888888888888888,
              "#fdca26"
             ],
             [
              1,
              "#f0f921"
             ]
            ],
            "type": "histogram2d"
           }
          ],
          "histogram2dcontour": [
           {
            "colorbar": {
             "outlinewidth": 0,
             "ticks": ""
            },
            "colorscale": [
             [
              0,
              "#0d0887"
             ],
             [
              0.1111111111111111,
              "#46039f"
             ],
             [
              0.2222222222222222,
              "#7201a8"
             ],
             [
              0.3333333333333333,
              "#9c179e"
             ],
             [
              0.4444444444444444,
              "#bd3786"
             ],
             [
              0.5555555555555556,
              "#d8576b"
             ],
             [
              0.6666666666666666,
              "#ed7953"
             ],
             [
              0.7777777777777778,
              "#fb9f3a"
             ],
             [
              0.8888888888888888,
              "#fdca26"
             ],
             [
              1,
              "#f0f921"
             ]
            ],
            "type": "histogram2dcontour"
           }
          ],
          "mesh3d": [
           {
            "colorbar": {
             "outlinewidth": 0,
             "ticks": ""
            },
            "type": "mesh3d"
           }
          ],
          "parcoords": [
           {
            "line": {
             "colorbar": {
              "outlinewidth": 0,
              "ticks": ""
             }
            },
            "type": "parcoords"
           }
          ],
          "pie": [
           {
            "automargin": true,
            "type": "pie"
           }
          ],
          "scatter": [
           {
            "fillpattern": {
             "fillmode": "overlay",
             "size": 10,
             "solidity": 0.2
            },
            "type": "scatter"
           }
          ],
          "scatter3d": [
           {
            "line": {
             "colorbar": {
              "outlinewidth": 0,
              "ticks": ""
             }
            },
            "marker": {
             "colorbar": {
              "outlinewidth": 0,
              "ticks": ""
             }
            },
            "type": "scatter3d"
           }
          ],
          "scattercarpet": [
           {
            "marker": {
             "colorbar": {
              "outlinewidth": 0,
              "ticks": ""
             }
            },
            "type": "scattercarpet"
           }
          ],
          "scattergeo": [
           {
            "marker": {
             "colorbar": {
              "outlinewidth": 0,
              "ticks": ""
             }
            },
            "type": "scattergeo"
           }
          ],
          "scattergl": [
           {
            "marker": {
             "colorbar": {
              "outlinewidth": 0,
              "ticks": ""
             }
            },
            "type": "scattergl"
           }
          ],
          "scattermapbox": [
           {
            "marker": {
             "colorbar": {
              "outlinewidth": 0,
              "ticks": ""
             }
            },
            "type": "scattermapbox"
           }
          ],
          "scatterpolar": [
           {
            "marker": {
             "colorbar": {
              "outlinewidth": 0,
              "ticks": ""
             }
            },
            "type": "scatterpolar"
           }
          ],
          "scatterpolargl": [
           {
            "marker": {
             "colorbar": {
              "outlinewidth": 0,
              "ticks": ""
             }
            },
            "type": "scatterpolargl"
           }
          ],
          "scatterternary": [
           {
            "marker": {
             "colorbar": {
              "outlinewidth": 0,
              "ticks": ""
             }
            },
            "type": "scatterternary"
           }
          ],
          "surface": [
           {
            "colorbar": {
             "outlinewidth": 0,
             "ticks": ""
            },
            "colorscale": [
             [
              0,
              "#0d0887"
             ],
             [
              0.1111111111111111,
              "#46039f"
             ],
             [
              0.2222222222222222,
              "#7201a8"
             ],
             [
              0.3333333333333333,
              "#9c179e"
             ],
             [
              0.4444444444444444,
              "#bd3786"
             ],
             [
              0.5555555555555556,
              "#d8576b"
             ],
             [
              0.6666666666666666,
              "#ed7953"
             ],
             [
              0.7777777777777778,
              "#fb9f3a"
             ],
             [
              0.8888888888888888,
              "#fdca26"
             ],
             [
              1,
              "#f0f921"
             ]
            ],
            "type": "surface"
           }
          ],
          "table": [
           {
            "cells": {
             "fill": {
              "color": "#EBF0F8"
             },
             "line": {
              "color": "white"
             }
            },
            "header": {
             "fill": {
              "color": "#C8D4E3"
             },
             "line": {
              "color": "white"
             }
            },
            "type": "table"
           }
          ]
         },
         "layout": {
          "annotationdefaults": {
           "arrowcolor": "#2a3f5f",
           "arrowhead": 0,
           "arrowwidth": 1
          },
          "autotypenumbers": "strict",
          "coloraxis": {
           "colorbar": {
            "outlinewidth": 0,
            "ticks": ""
           }
          },
          "colorscale": {
           "diverging": [
            [
             0,
             "#8e0152"
            ],
            [
             0.1,
             "#c51b7d"
            ],
            [
             0.2,
             "#de77ae"
            ],
            [
             0.3,
             "#f1b6da"
            ],
            [
             0.4,
             "#fde0ef"
            ],
            [
             0.5,
             "#f7f7f7"
            ],
            [
             0.6,
             "#e6f5d0"
            ],
            [
             0.7,
             "#b8e186"
            ],
            [
             0.8,
             "#7fbc41"
            ],
            [
             0.9,
             "#4d9221"
            ],
            [
             1,
             "#276419"
            ]
           ],
           "sequential": [
            [
             0,
             "#0d0887"
            ],
            [
             0.1111111111111111,
             "#46039f"
            ],
            [
             0.2222222222222222,
             "#7201a8"
            ],
            [
             0.3333333333333333,
             "#9c179e"
            ],
            [
             0.4444444444444444,
             "#bd3786"
            ],
            [
             0.5555555555555556,
             "#d8576b"
            ],
            [
             0.6666666666666666,
             "#ed7953"
            ],
            [
             0.7777777777777778,
             "#fb9f3a"
            ],
            [
             0.8888888888888888,
             "#fdca26"
            ],
            [
             1,
             "#f0f921"
            ]
           ],
           "sequentialminus": [
            [
             0,
             "#0d0887"
            ],
            [
             0.1111111111111111,
             "#46039f"
            ],
            [
             0.2222222222222222,
             "#7201a8"
            ],
            [
             0.3333333333333333,
             "#9c179e"
            ],
            [
             0.4444444444444444,
             "#bd3786"
            ],
            [
             0.5555555555555556,
             "#d8576b"
            ],
            [
             0.6666666666666666,
             "#ed7953"
            ],
            [
             0.7777777777777778,
             "#fb9f3a"
            ],
            [
             0.8888888888888888,
             "#fdca26"
            ],
            [
             1,
             "#f0f921"
            ]
           ]
          },
          "colorway": [
           "#636efa",
           "#EF553B",
           "#00cc96",
           "#ab63fa",
           "#FFA15A",
           "#19d3f3",
           "#FF6692",
           "#B6E880",
           "#FF97FF",
           "#FECB52"
          ],
          "font": {
           "color": "#2a3f5f"
          },
          "geo": {
           "bgcolor": "white",
           "lakecolor": "white",
           "landcolor": "#E5ECF6",
           "showlakes": true,
           "showland": true,
           "subunitcolor": "white"
          },
          "hoverlabel": {
           "align": "left"
          },
          "hovermode": "closest",
          "mapbox": {
           "style": "light"
          },
          "paper_bgcolor": "white",
          "plot_bgcolor": "#E5ECF6",
          "polar": {
           "angularaxis": {
            "gridcolor": "white",
            "linecolor": "white",
            "ticks": ""
           },
           "bgcolor": "#E5ECF6",
           "radialaxis": {
            "gridcolor": "white",
            "linecolor": "white",
            "ticks": ""
           }
          },
          "scene": {
           "xaxis": {
            "backgroundcolor": "#E5ECF6",
            "gridcolor": "white",
            "gridwidth": 2,
            "linecolor": "white",
            "showbackground": true,
            "ticks": "",
            "zerolinecolor": "white"
           },
           "yaxis": {
            "backgroundcolor": "#E5ECF6",
            "gridcolor": "white",
            "gridwidth": 2,
            "linecolor": "white",
            "showbackground": true,
            "ticks": "",
            "zerolinecolor": "white"
           },
           "zaxis": {
            "backgroundcolor": "#E5ECF6",
            "gridcolor": "white",
            "gridwidth": 2,
            "linecolor": "white",
            "showbackground": true,
            "ticks": "",
            "zerolinecolor": "white"
           }
          },
          "shapedefaults": {
           "line": {
            "color": "#2a3f5f"
           }
          },
          "ternary": {
           "aaxis": {
            "gridcolor": "white",
            "linecolor": "white",
            "ticks": ""
           },
           "baxis": {
            "gridcolor": "white",
            "linecolor": "white",
            "ticks": ""
           },
           "bgcolor": "#E5ECF6",
           "caxis": {
            "gridcolor": "white",
            "linecolor": "white",
            "ticks": ""
           }
          },
          "title": {
           "x": 0.05
          },
          "xaxis": {
           "automargin": true,
           "gridcolor": "white",
           "linecolor": "white",
           "ticks": "",
           "title": {
            "standoff": 15
           },
           "zerolinecolor": "white",
           "zerolinewidth": 2
          },
          "yaxis": {
           "automargin": true,
           "gridcolor": "white",
           "linecolor": "white",
           "ticks": "",
           "title": {
            "standoff": 15
           },
           "zerolinecolor": "white",
           "zerolinewidth": 2
          }
         }
        },
        "title": {
         "text": "Rice Impact vs Stability"
        },
        "xaxis": {
         "anchor": "y",
         "domain": [
          0,
          1
         ],
         "title": {
          "text": "Stability"
         }
        },
        "yaxis": {
         "anchor": "x",
         "domain": [
          0,
          1
         ],
         "title": {
          "text": "Impact"
         }
        }
       }
      }
     },
     "metadata": {},
     "output_type": "display_data"
    },
    {
     "data": {
      "application/vnd.jupyter.widget-view+json": {
       "model_id": "a1b1606250114915bc5ff049c1bde889",
       "version_major": 2,
       "version_minor": 0
      },
      "text/plain": [
       "interactive(children=(FloatSlider(value=0.5, description='αAP:', max=1.0), FloatSlider(value=0.5, description=…"
      ]
     },
     "metadata": {},
     "output_type": "display_data"
    },
    {
     "data": {
      "application/vnd.jupyter.widget-view+json": {
       "model_id": "d631bbe5d1a64060862044fbe7b7713a",
       "version_major": 2,
       "version_minor": 0
      },
      "text/plain": [
       "HBox(children=(Button(description='Update Plot', style=ButtonStyle()), FloatSlider(value=0.5, description='αAP…"
      ]
     },
     "execution_count": 311,
     "metadata": {},
     "output_type": "execute_result"
    }
   ],
   "source": [
    "import pandas as pd\n",
    "import plotly.express as px\n",
    "import ipywidgets as widgets\n",
    "from ipywidgets import interact\n",
    "from IPython.display import clear_output\n",
    "import plotly.graph_objects as go\n",
    "\n",
    "def update_plot(alpha1, alpha2, alpha3):\n",
    "    \n",
    "    tolerance = 1e-5 \n",
    "    filtered_df = viz_df[\n",
    "        (viz_df['Sensitivity_AreaUnderCereals_Paddy'].between(alpha1 - tolerance, alpha1 + tolerance)) &\n",
    "        (viz_df['Sensitivity_TotalNPK'].between(alpha2 - tolerance, alpha2 + tolerance)) &\n",
    "        (viz_df['Sensitivity_NetAreaIrrigated_Canals_NetAreaIrrigated'].between(alpha3 - tolerance, alpha3 + tolerance)) \n",
    "    ]\n",
    "\n",
    "    # Create a scatter plot with filtered data\n",
    "    fig = px.scatter(filtered_df, x='Stability_Values', y='Percentage Change', title='Rice Impact vs Stability',\n",
    "                     labels={'Percentage Change': 'Impact', 'Stability_Values': 'Stability'},\n",
    "                     text='Abbreviation', opacity=1, color_discrete_sequence=['darkblue'])\n",
    "\n",
    "    fig.update_traces(textposition='top center', textfont=dict(size=11))\n",
    "\n",
    "    # Update layout to add annotations and legends\n",
    "    fig.update_layout(\n",
    "        annotations=[\n",
    "            dict(\n",
    "                x=0.5,\n",
    "                y=-0.25,\n",
    "                showarrow=False,\n",
    "                text=f'α<sub>AP</sub>: {alpha1:.2f}, α<sub>NPK</sub>: {alpha2:.2f}, α<sub>CN</sub>: {alpha3:.2f}',\n",
    "                xref=\"paper\",\n",
    "                yref=\"paper\",\n",
    "                font=dict(size=13)\n",
    "            )\n",
    "        ],\n",
    "        legend_title_text='Districts',\n",
    "        legend_title=dict(font=dict(size=12)),\n",
    "    )\n",
    "\n",
    "    # Adding custom legends with abbreviations and full forms\n",
    "    legend_labels = [{'Abbreviation': abb, 'Full Form': full_form} \n",
    "                     for abb, full_form in zip(filtered_df['Abbreviation'].unique(), filtered_df['District'].unique())]\n",
    "\n",
    "    for label in legend_labels:\n",
    "        fig.add_trace(go.Scatter(\n",
    "            x=[None],\n",
    "            y=[None],\n",
    "            mode='markers',\n",
    "            marker=dict(color='darkblue'),\n",
    "            name=f\"{label['Abbreviation']}: {label['Full Form']}\"\n",
    "        ))\n",
    "\n",
    "    # Adding average lines for stability and percentage change\n",
    "    avg_stability = filtered_df['Stability_Values'].mean()\n",
    "    avg_precent = filtered_df['Percentage Change'].mean()\n",
    "\n",
    "    fig.add_shape(\n",
    "        type='line',\n",
    "        x0=avg_stability, y0=0, x1=avg_stability, y1=1,\n",
    "        line=dict(color='red', width=1.5, dash='dash'),\n",
    "        yref='paper'\n",
    "    )\n",
    "\n",
    "    fig.add_shape(\n",
    "        type='line',\n",
    "        x0=0, y0=avg_precent, x1=1, y1=avg_precent,\n",
    "        line=dict(color='red', width=1.5, dash='dash'),\n",
    "        xref='paper'\n",
    "    )\n",
    "\n",
    "    # Add annotations for average values\n",
    "    fig.add_trace(go.Scatter(\n",
    "        x=[avg_stability],\n",
    "        y=[-0.07],\n",
    "        text=[f'Avg Stability: {avg_stability:.2f}'],\n",
    "        mode=\"text\",\n",
    "        showlegend=False,\n",
    "        textfont=dict(size=10.7)\n",
    "    ))\n",
    "\n",
    "    fig.add_trace(go.Scatter(\n",
    "        x=[0.3],\n",
    "        y=[avg_precent-0.04],\n",
    "        text=[f'Avg Impact: {avg_precent:.2f}'],\n",
    "        mode=\"text\",\n",
    "        showlegend=False,\n",
    "        textfont=dict(size=10.7)\n",
    "    ))\n",
    "\n",
    "    clear_output()\n",
    "\n",
    "    display(fig)\n",
    "\n",
    "# Creating sliders for interaction\n",
    "alpha1_slider = widgets.FloatSlider(value=0.5, min=0, max=1, step=0.1, description='αAP:')\n",
    "alpha2_slider = widgets.FloatSlider(value=0.5, min=0, max=1, step=0.1, description='αNPK:')\n",
    "alpha3_slider = widgets.FloatSlider(value=0.5, min=0, max=1, step=0.1, description='αCN:')\n",
    "\n",
    "# Creating interactive plot\n",
    "interactive_plot = interact(update_plot, alpha1=alpha1_slider, alpha2=alpha2_slider, alpha3=alpha3_slider)\n",
    "\n",
    "# Create update button to trigger plot update\n",
    "update_button = widgets.Button(description=\"Update Plot\")\n",
    "update_button.on_click(lambda _: update_plot(alpha1_slider.value, alpha2_slider.value, alpha3_slider.value))\n",
    "\n",
    "# Display the button and sliders\n",
    "widgets.HBox([update_button, alpha1_slider, alpha2_slider, alpha3_slider])\n"
   ]
  },
  {
   "cell_type": "code",
   "execution_count": 303,
   "metadata": {},
   "outputs": [
    {
     "data": {
      "text/html": [
       "<div>\n",
       "<style scoped>\n",
       "    .dataframe tbody tr th:only-of-type {\n",
       "        vertical-align: middle;\n",
       "    }\n",
       "\n",
       "    .dataframe tbody tr th {\n",
       "        vertical-align: top;\n",
       "    }\n",
       "\n",
       "    .dataframe thead th {\n",
       "        text-align: right;\n",
       "    }\n",
       "</style>\n",
       "<table border=\"1\" class=\"dataframe\">\n",
       "  <thead>\n",
       "    <tr style=\"text-align: right;\">\n",
       "      <th></th>\n",
       "      <th>District</th>\n",
       "      <th>Rice_Production</th>\n",
       "      <th>TotalNPK</th>\n",
       "      <th>AreaUnderCereals_Paddy</th>\n",
       "      <th>NetAreaIrrigated_Canals_NetAreaIrrigated</th>\n",
       "      <th>Rice_Ratio</th>\n",
       "    </tr>\n",
       "  </thead>\n",
       "  <tbody>\n",
       "    <tr>\n",
       "      <th>18</th>\n",
       "      <td>VIJAYAPURA</td>\n",
       "      <td>170.0</td>\n",
       "      <td>7.826782</td>\n",
       "      <td>51.0</td>\n",
       "      <td>12.617706</td>\n",
       "      <td>0.000144</td>\n",
       "    </tr>\n",
       "    <tr>\n",
       "      <th>19</th>\n",
       "      <td>BAGALKOT</td>\n",
       "      <td>85.0</td>\n",
       "      <td>7.747128</td>\n",
       "      <td>32.0</td>\n",
       "      <td>0.185064</td>\n",
       "      <td>0.000091</td>\n",
       "    </tr>\n",
       "  </tbody>\n",
       "</table>\n",
       "</div>"
      ],
      "text/plain": [
       "      District  Rice_Production  TotalNPK  AreaUnderCereals_Paddy  \\\n",
       "18  VIJAYAPURA            170.0  7.826782                    51.0   \n",
       "19    BAGALKOT             85.0  7.747128                    32.0   \n",
       "\n",
       "    NetAreaIrrigated_Canals_NetAreaIrrigated  Rice_Ratio  \n",
       "18                                 12.617706    0.000144  \n",
       "19                                  0.185064    0.000091  "
      ]
     },
     "execution_count": 303,
     "metadata": {},
     "output_type": "execute_result"
    }
   ],
   "source": [
    "Working_Directory[rows_to_remove]"
   ]
  },
  {
   "cell_type": "code",
   "execution_count": 304,
   "metadata": {},
   "outputs": [
    {
     "data": {
      "text/plain": [
       "Index(['Sensitivity_AreaUnderCereals_Paddy', 'Sensitivity_TotalNPK',\n",
       "       'Sensitivity_NetAreaIrrigated_Canals_NetAreaIrrigated',\n",
       "       'AreaUnderCereals_Paddy', 'TotalNPK',\n",
       "       'NetAreaIrrigated_Canals_NetAreaIrrigated', 'Beta_0', 'Beta_1',\n",
       "       'Beta_2', 'Beta_3', 'New_F1', 'New_F2', 'New_F3', 'District',\n",
       "       'New_Production', 'Normalized_New_Prouction', 'Stress_Values',\n",
       "       'Stability_Values'],\n",
       "      dtype='object')"
      ]
     },
     "execution_count": 304,
     "metadata": {},
     "output_type": "execute_result"
    }
   ],
   "source": [
    "result_df.columns"
   ]
  },
  {
   "cell_type": "code",
   "execution_count": 305,
   "metadata": {},
   "outputs": [
    {
     "data": {
      "text/plain": [
       "Index(['District', 'Sensitivity_AreaUnderCereals_Paddy',\n",
       "       'Sensitivity_TotalNPK',\n",
       "       'Sensitivity_NetAreaIrrigated_Canals_NetAreaIrrigated',\n",
       "       'AreaUnderCereals_Paddy', 'TotalNPK',\n",
       "       'NetAreaIrrigated_Canals_NetAreaIrrigated', 'New_F1', 'New_F2',\n",
       "       'New_F3'],\n",
       "      dtype='object')"
      ]
     },
     "execution_count": 305,
     "metadata": {},
     "output_type": "execute_result"
    }
   ],
   "source": [
    "# viz_df2 = result_df[['District','Sensitivity_SowingSeedsDistributed_Maize','Sensitivity_LivestockCensus_2012_Cattle','Sensitivity_AreaUnderCereals_Maize',\n",
    "#                     'Sensitivity_TotalNPK',\t'Sensitivity_NetAreaIrrigatedUnderDifferentSources_TubeWells_NetIrrigatedArea','New_F1','New_F2','New_F3','New_F4','New_F5']].copy()\n",
    "\n",
    "viz_df2 = result_df[['District','Sensitivity_AreaUnderCereals_Paddy', 'Sensitivity_TotalNPK',\n",
    "       'Sensitivity_NetAreaIrrigated_Canals_NetAreaIrrigated','AreaUnderCereals_Paddy', 'TotalNPK',\n",
    "       'NetAreaIrrigated_Canals_NetAreaIrrigated','New_F1','New_F2','New_F3']].copy()\n",
    "\n",
    "\n",
    "viz_df2.columns"
   ]
  },
  {
   "cell_type": "code",
   "execution_count": 306,
   "metadata": {},
   "outputs": [
    {
     "data": {
      "application/vnd.plotly.v1+json": {
       "config": {
        "plotlyServerURL": "https://plot.ly"
       },
       "data": [
        {
         "hovertemplate": "Stability=%{x}<br>Impact=%{y}<br>Abbreviation=%{text}<extra></extra>",
         "legendgroup": "",
         "marker": {
          "color": "darkblue",
          "opacity": 1,
          "symbol": "circle"
         },
         "mode": "markers+text",
         "name": "",
         "orientation": "v",
         "showlegend": false,
         "text": [
          "BLR",
          "BLR(R)",
          "RGA",
          "CDA",
          "DVG",
          "KLR",
          "CKA",
          "SMG",
          "TKR",
          "CMG",
          "DKA",
          "UPI",
          "HSN",
          "KDG",
          "MDY",
          "MYS",
          "CNR",
          "BLG",
          "DWD",
          "GDG",
          "HVR",
          "UTK",
          "BLL",
          "BDR",
          "KLB",
          "YDR",
          "RCR",
          "KPL",
          "VJN"
         ],
         "textfont": {
          "size": 11
         },
         "textposition": "top center",
         "type": "scatter",
         "x": [
          0.9904672587883462,
          0.9809634204886589,
          0.8940771047351835,
          0.7172189416385273,
          0.5511662703405877,
          0.9954344355630711,
          0.9825909914334654,
          0.5537602658722351,
          0.9054878508434019,
          0.9251807522264689,
          0.9466189069646775,
          0.958584993000501,
          0.9467361254766224,
          0.8274231695657686,
          0.756596719901304,
          0.5927448107338706,
          0.6933538209902601,
          0.710213105915379,
          0.7029790375011277,
          0.6332622492971485,
          0.9874170908648758,
          0.7919799914918146,
          0.9944826242822613,
          0.5391022552342644,
          0.6209724004258887,
          0.5120803715852841,
          0.3622022859789791,
          0.8887165699115741,
          0.7505248348596705
         ],
         "xaxis": "x",
         "y": [
          -0.005111113824016538,
          -0.0030316718144047135,
          -0.005748642121424657,
          -0.007532381917400168,
          -0.22071956694441408,
          0,
          -0.003731601414508889,
          0.04218884516949617,
          0.010172273247669832,
          0.08013724080517587,
          0.09655164347253709,
          0.05006865008792777,
          0.02584739920039547,
          0.11424993468006228,
          -0.006629242101614974,
          0.00010959923767550617,
          0.0009030988917501648,
          0.1292231842411133,
          0.0917176664453009,
          -0.013009737974029358,
          0.0720914842968014,
          0.1528838842910779,
          -0.012080786273672095,
          -0.0023846438701223653,
          0.0019844461740507087,
          0.06417519553117046,
          0.02453894341785423,
          -0.07914671467436063,
          -0.012080786273672095
         ],
         "yaxis": "y"
        },
        {
         "marker": {
          "color": "darkblue"
         },
         "mode": "markers",
         "name": "BLR: BENGALURU",
         "type": "scatter",
         "x": [
          null
         ],
         "y": [
          null
         ]
        },
        {
         "marker": {
          "color": "darkblue"
         },
         "mode": "markers",
         "name": "BLR(R): BENGALURU(R)",
         "type": "scatter",
         "x": [
          null
         ],
         "y": [
          null
         ]
        },
        {
         "marker": {
          "color": "darkblue"
         },
         "mode": "markers",
         "name": "RGA: RAMANAGARA",
         "type": "scatter",
         "x": [
          null
         ],
         "y": [
          null
         ]
        },
        {
         "marker": {
          "color": "darkblue"
         },
         "mode": "markers",
         "name": "CDA: CHITRADURGA",
         "type": "scatter",
         "x": [
          null
         ],
         "y": [
          null
         ]
        },
        {
         "marker": {
          "color": "darkblue"
         },
         "mode": "markers",
         "name": "DVG: DAVANAGERE",
         "type": "scatter",
         "x": [
          null
         ],
         "y": [
          null
         ]
        },
        {
         "marker": {
          "color": "darkblue"
         },
         "mode": "markers",
         "name": "KLR: KOLAR",
         "type": "scatter",
         "x": [
          null
         ],
         "y": [
          null
         ]
        },
        {
         "marker": {
          "color": "darkblue"
         },
         "mode": "markers",
         "name": "CKA: CHIKKABALLAPURA",
         "type": "scatter",
         "x": [
          null
         ],
         "y": [
          null
         ]
        },
        {
         "marker": {
          "color": "darkblue"
         },
         "mode": "markers",
         "name": "SMG: SHIVAMOGGA",
         "type": "scatter",
         "x": [
          null
         ],
         "y": [
          null
         ]
        },
        {
         "marker": {
          "color": "darkblue"
         },
         "mode": "markers",
         "name": "TKR: TUMAKURU",
         "type": "scatter",
         "x": [
          null
         ],
         "y": [
          null
         ]
        },
        {
         "marker": {
          "color": "darkblue"
         },
         "mode": "markers",
         "name": "CMG: CHIKKAMAGALURU",
         "type": "scatter",
         "x": [
          null
         ],
         "y": [
          null
         ]
        },
        {
         "marker": {
          "color": "darkblue"
         },
         "mode": "markers",
         "name": "DKA: DAKSHINA KANNADA",
         "type": "scatter",
         "x": [
          null
         ],
         "y": [
          null
         ]
        },
        {
         "marker": {
          "color": "darkblue"
         },
         "mode": "markers",
         "name": "UPI: UDUPI",
         "type": "scatter",
         "x": [
          null
         ],
         "y": [
          null
         ]
        },
        {
         "marker": {
          "color": "darkblue"
         },
         "mode": "markers",
         "name": "HSN: HASSAN",
         "type": "scatter",
         "x": [
          null
         ],
         "y": [
          null
         ]
        },
        {
         "marker": {
          "color": "darkblue"
         },
         "mode": "markers",
         "name": "KDG: KODAGU",
         "type": "scatter",
         "x": [
          null
         ],
         "y": [
          null
         ]
        },
        {
         "marker": {
          "color": "darkblue"
         },
         "mode": "markers",
         "name": "MDY: MANDYA",
         "type": "scatter",
         "x": [
          null
         ],
         "y": [
          null
         ]
        },
        {
         "marker": {
          "color": "darkblue"
         },
         "mode": "markers",
         "name": "MYS: MYSURU",
         "type": "scatter",
         "x": [
          null
         ],
         "y": [
          null
         ]
        },
        {
         "marker": {
          "color": "darkblue"
         },
         "mode": "markers",
         "name": "CNR: CHAMARAJANAGAR",
         "type": "scatter",
         "x": [
          null
         ],
         "y": [
          null
         ]
        },
        {
         "marker": {
          "color": "darkblue"
         },
         "mode": "markers",
         "name": "BLG: BELAGAVI",
         "type": "scatter",
         "x": [
          null
         ],
         "y": [
          null
         ]
        },
        {
         "marker": {
          "color": "darkblue"
         },
         "mode": "markers",
         "name": "DWD: DHARAWAD",
         "type": "scatter",
         "x": [
          null
         ],
         "y": [
          null
         ]
        },
        {
         "marker": {
          "color": "darkblue"
         },
         "mode": "markers",
         "name": "GDG: GADAG",
         "type": "scatter",
         "x": [
          null
         ],
         "y": [
          null
         ]
        },
        {
         "marker": {
          "color": "darkblue"
         },
         "mode": "markers",
         "name": "HVR: HAVERI",
         "type": "scatter",
         "x": [
          null
         ],
         "y": [
          null
         ]
        },
        {
         "marker": {
          "color": "darkblue"
         },
         "mode": "markers",
         "name": "UTK: UTTARA KANNADA",
         "type": "scatter",
         "x": [
          null
         ],
         "y": [
          null
         ]
        },
        {
         "marker": {
          "color": "darkblue"
         },
         "mode": "markers",
         "name": "BLL: BALLARI",
         "type": "scatter",
         "x": [
          null
         ],
         "y": [
          null
         ]
        },
        {
         "marker": {
          "color": "darkblue"
         },
         "mode": "markers",
         "name": "BDR: BIDAR",
         "type": "scatter",
         "x": [
          null
         ],
         "y": [
          null
         ]
        },
        {
         "marker": {
          "color": "darkblue"
         },
         "mode": "markers",
         "name": "KLB: KALABURAGI",
         "type": "scatter",
         "x": [
          null
         ],
         "y": [
          null
         ]
        },
        {
         "marker": {
          "color": "darkblue"
         },
         "mode": "markers",
         "name": "YDR: YADGIRI",
         "type": "scatter",
         "x": [
          null
         ],
         "y": [
          null
         ]
        },
        {
         "marker": {
          "color": "darkblue"
         },
         "mode": "markers",
         "name": "RCR: RAICHUR",
         "type": "scatter",
         "x": [
          null
         ],
         "y": [
          null
         ]
        },
        {
         "marker": {
          "color": "darkblue"
         },
         "mode": "markers",
         "name": "KPL: KOPPAL",
         "type": "scatter",
         "x": [
          null
         ],
         "y": [
          null
         ]
        },
        {
         "marker": {
          "color": "darkblue"
         },
         "mode": "markers",
         "name": "VJN: VIJAYANAGARA",
         "type": "scatter",
         "x": [
          null
         ],
         "y": [
          null
         ]
        },
        {
         "mode": "text",
         "showlegend": false,
         "text": [
          "Avg Stability: 0.78"
         ],
         "textfont": {
          "size": 10.7
         },
         "type": "scatter",
         "x": [
          0.7831840915831453
         ],
         "y": [
          -0.07
         ]
        },
        {
         "mode": "text",
         "showlegend": false,
         "text": [
          "Avg Impact: 0.02"
         ],
         "textfont": {
          "size": 10.7
         },
         "type": "scatter",
         "x": [
          0.3
         ],
         "y": [
          -0.019805634483226954
         ]
        }
       ],
       "layout": {
        "annotations": [
         {
          "font": {
           "size": 13
          },
          "showarrow": false,
          "text": "α<sub>AP</sub>: 0.50, α<sub>NPK</sub>: 0.50, α<sub>CN</sub>: 0.50",
          "x": 0.5,
          "xref": "paper",
          "y": -0.25,
          "yref": "paper"
         }
        ],
        "legend": {
         "title": {
          "font": {
           "size": 12
          },
          "text": "Districts"
         },
         "tracegroupgap": 0
        },
        "shapes": [
         {
          "line": {
           "color": "red",
           "dash": "dash",
           "width": 1.5
          },
          "type": "line",
          "x0": 0.7831840915831453,
          "x1": 0.7831840915831453,
          "y0": 0,
          "y1": 1,
          "yref": "paper"
         },
         {
          "line": {
           "color": "red",
           "dash": "dash",
           "width": 1.5
          },
          "type": "line",
          "x0": 0,
          "x1": 1,
          "xref": "paper",
          "y0": 0.020194365516773047,
          "y1": 0.020194365516773047
         }
        ],
        "template": {
         "data": {
          "bar": [
           {
            "error_x": {
             "color": "#2a3f5f"
            },
            "error_y": {
             "color": "#2a3f5f"
            },
            "marker": {
             "line": {
              "color": "#E5ECF6",
              "width": 0.5
             },
             "pattern": {
              "fillmode": "overlay",
              "size": 10,
              "solidity": 0.2
             }
            },
            "type": "bar"
           }
          ],
          "barpolar": [
           {
            "marker": {
             "line": {
              "color": "#E5ECF6",
              "width": 0.5
             },
             "pattern": {
              "fillmode": "overlay",
              "size": 10,
              "solidity": 0.2
             }
            },
            "type": "barpolar"
           }
          ],
          "carpet": [
           {
            "aaxis": {
             "endlinecolor": "#2a3f5f",
             "gridcolor": "white",
             "linecolor": "white",
             "minorgridcolor": "white",
             "startlinecolor": "#2a3f5f"
            },
            "baxis": {
             "endlinecolor": "#2a3f5f",
             "gridcolor": "white",
             "linecolor": "white",
             "minorgridcolor": "white",
             "startlinecolor": "#2a3f5f"
            },
            "type": "carpet"
           }
          ],
          "choropleth": [
           {
            "colorbar": {
             "outlinewidth": 0,
             "ticks": ""
            },
            "type": "choropleth"
           }
          ],
          "contour": [
           {
            "colorbar": {
             "outlinewidth": 0,
             "ticks": ""
            },
            "colorscale": [
             [
              0,
              "#0d0887"
             ],
             [
              0.1111111111111111,
              "#46039f"
             ],
             [
              0.2222222222222222,
              "#7201a8"
             ],
             [
              0.3333333333333333,
              "#9c179e"
             ],
             [
              0.4444444444444444,
              "#bd3786"
             ],
             [
              0.5555555555555556,
              "#d8576b"
             ],
             [
              0.6666666666666666,
              "#ed7953"
             ],
             [
              0.7777777777777778,
              "#fb9f3a"
             ],
             [
              0.8888888888888888,
              "#fdca26"
             ],
             [
              1,
              "#f0f921"
             ]
            ],
            "type": "contour"
           }
          ],
          "contourcarpet": [
           {
            "colorbar": {
             "outlinewidth": 0,
             "ticks": ""
            },
            "type": "contourcarpet"
           }
          ],
          "heatmap": [
           {
            "colorbar": {
             "outlinewidth": 0,
             "ticks": ""
            },
            "colorscale": [
             [
              0,
              "#0d0887"
             ],
             [
              0.1111111111111111,
              "#46039f"
             ],
             [
              0.2222222222222222,
              "#7201a8"
             ],
             [
              0.3333333333333333,
              "#9c179e"
             ],
             [
              0.4444444444444444,
              "#bd3786"
             ],
             [
              0.5555555555555556,
              "#d8576b"
             ],
             [
              0.6666666666666666,
              "#ed7953"
             ],
             [
              0.7777777777777778,
              "#fb9f3a"
             ],
             [
              0.8888888888888888,
              "#fdca26"
             ],
             [
              1,
              "#f0f921"
             ]
            ],
            "type": "heatmap"
           }
          ],
          "heatmapgl": [
           {
            "colorbar": {
             "outlinewidth": 0,
             "ticks": ""
            },
            "colorscale": [
             [
              0,
              "#0d0887"
             ],
             [
              0.1111111111111111,
              "#46039f"
             ],
             [
              0.2222222222222222,
              "#7201a8"
             ],
             [
              0.3333333333333333,
              "#9c179e"
             ],
             [
              0.4444444444444444,
              "#bd3786"
             ],
             [
              0.5555555555555556,
              "#d8576b"
             ],
             [
              0.6666666666666666,
              "#ed7953"
             ],
             [
              0.7777777777777778,
              "#fb9f3a"
             ],
             [
              0.8888888888888888,
              "#fdca26"
             ],
             [
              1,
              "#f0f921"
             ]
            ],
            "type": "heatmapgl"
           }
          ],
          "histogram": [
           {
            "marker": {
             "pattern": {
              "fillmode": "overlay",
              "size": 10,
              "solidity": 0.2
             }
            },
            "type": "histogram"
           }
          ],
          "histogram2d": [
           {
            "colorbar": {
             "outlinewidth": 0,
             "ticks": ""
            },
            "colorscale": [
             [
              0,
              "#0d0887"
             ],
             [
              0.1111111111111111,
              "#46039f"
             ],
             [
              0.2222222222222222,
              "#7201a8"
             ],
             [
              0.3333333333333333,
              "#9c179e"
             ],
             [
              0.4444444444444444,
              "#bd3786"
             ],
             [
              0.5555555555555556,
              "#d8576b"
             ],
             [
              0.6666666666666666,
              "#ed7953"
             ],
             [
              0.7777777777777778,
              "#fb9f3a"
             ],
             [
              0.8888888888888888,
              "#fdca26"
             ],
             [
              1,
              "#f0f921"
             ]
            ],
            "type": "histogram2d"
           }
          ],
          "histogram2dcontour": [
           {
            "colorbar": {
             "outlinewidth": 0,
             "ticks": ""
            },
            "colorscale": [
             [
              0,
              "#0d0887"
             ],
             [
              0.1111111111111111,
              "#46039f"
             ],
             [
              0.2222222222222222,
              "#7201a8"
             ],
             [
              0.3333333333333333,
              "#9c179e"
             ],
             [
              0.4444444444444444,
              "#bd3786"
             ],
             [
              0.5555555555555556,
              "#d8576b"
             ],
             [
              0.6666666666666666,
              "#ed7953"
             ],
             [
              0.7777777777777778,
              "#fb9f3a"
             ],
             [
              0.8888888888888888,
              "#fdca26"
             ],
             [
              1,
              "#f0f921"
             ]
            ],
            "type": "histogram2dcontour"
           }
          ],
          "mesh3d": [
           {
            "colorbar": {
             "outlinewidth": 0,
             "ticks": ""
            },
            "type": "mesh3d"
           }
          ],
          "parcoords": [
           {
            "line": {
             "colorbar": {
              "outlinewidth": 0,
              "ticks": ""
             }
            },
            "type": "parcoords"
           }
          ],
          "pie": [
           {
            "automargin": true,
            "type": "pie"
           }
          ],
          "scatter": [
           {
            "fillpattern": {
             "fillmode": "overlay",
             "size": 10,
             "solidity": 0.2
            },
            "type": "scatter"
           }
          ],
          "scatter3d": [
           {
            "line": {
             "colorbar": {
              "outlinewidth": 0,
              "ticks": ""
             }
            },
            "marker": {
             "colorbar": {
              "outlinewidth": 0,
              "ticks": ""
             }
            },
            "type": "scatter3d"
           }
          ],
          "scattercarpet": [
           {
            "marker": {
             "colorbar": {
              "outlinewidth": 0,
              "ticks": ""
             }
            },
            "type": "scattercarpet"
           }
          ],
          "scattergeo": [
           {
            "marker": {
             "colorbar": {
              "outlinewidth": 0,
              "ticks": ""
             }
            },
            "type": "scattergeo"
           }
          ],
          "scattergl": [
           {
            "marker": {
             "colorbar": {
              "outlinewidth": 0,
              "ticks": ""
             }
            },
            "type": "scattergl"
           }
          ],
          "scattermapbox": [
           {
            "marker": {
             "colorbar": {
              "outlinewidth": 0,
              "ticks": ""
             }
            },
            "type": "scattermapbox"
           }
          ],
          "scatterpolar": [
           {
            "marker": {
             "colorbar": {
              "outlinewidth": 0,
              "ticks": ""
             }
            },
            "type": "scatterpolar"
           }
          ],
          "scatterpolargl": [
           {
            "marker": {
             "colorbar": {
              "outlinewidth": 0,
              "ticks": ""
             }
            },
            "type": "scatterpolargl"
           }
          ],
          "scatterternary": [
           {
            "marker": {
             "colorbar": {
              "outlinewidth": 0,
              "ticks": ""
             }
            },
            "type": "scatterternary"
           }
          ],
          "surface": [
           {
            "colorbar": {
             "outlinewidth": 0,
             "ticks": ""
            },
            "colorscale": [
             [
              0,
              "#0d0887"
             ],
             [
              0.1111111111111111,
              "#46039f"
             ],
             [
              0.2222222222222222,
              "#7201a8"
             ],
             [
              0.3333333333333333,
              "#9c179e"
             ],
             [
              0.4444444444444444,
              "#bd3786"
             ],
             [
              0.5555555555555556,
              "#d8576b"
             ],
             [
              0.6666666666666666,
              "#ed7953"
             ],
             [
              0.7777777777777778,
              "#fb9f3a"
             ],
             [
              0.8888888888888888,
              "#fdca26"
             ],
             [
              1,
              "#f0f921"
             ]
            ],
            "type": "surface"
           }
          ],
          "table": [
           {
            "cells": {
             "fill": {
              "color": "#EBF0F8"
             },
             "line": {
              "color": "white"
             }
            },
            "header": {
             "fill": {
              "color": "#C8D4E3"
             },
             "line": {
              "color": "white"
             }
            },
            "type": "table"
           }
          ]
         },
         "layout": {
          "annotationdefaults": {
           "arrowcolor": "#2a3f5f",
           "arrowhead": 0,
           "arrowwidth": 1
          },
          "autotypenumbers": "strict",
          "coloraxis": {
           "colorbar": {
            "outlinewidth": 0,
            "ticks": ""
           }
          },
          "colorscale": {
           "diverging": [
            [
             0,
             "#8e0152"
            ],
            [
             0.1,
             "#c51b7d"
            ],
            [
             0.2,
             "#de77ae"
            ],
            [
             0.3,
             "#f1b6da"
            ],
            [
             0.4,
             "#fde0ef"
            ],
            [
             0.5,
             "#f7f7f7"
            ],
            [
             0.6,
             "#e6f5d0"
            ],
            [
             0.7,
             "#b8e186"
            ],
            [
             0.8,
             "#7fbc41"
            ],
            [
             0.9,
             "#4d9221"
            ],
            [
             1,
             "#276419"
            ]
           ],
           "sequential": [
            [
             0,
             "#0d0887"
            ],
            [
             0.1111111111111111,
             "#46039f"
            ],
            [
             0.2222222222222222,
             "#7201a8"
            ],
            [
             0.3333333333333333,
             "#9c179e"
            ],
            [
             0.4444444444444444,
             "#bd3786"
            ],
            [
             0.5555555555555556,
             "#d8576b"
            ],
            [
             0.6666666666666666,
             "#ed7953"
            ],
            [
             0.7777777777777778,
             "#fb9f3a"
            ],
            [
             0.8888888888888888,
             "#fdca26"
            ],
            [
             1,
             "#f0f921"
            ]
           ],
           "sequentialminus": [
            [
             0,
             "#0d0887"
            ],
            [
             0.1111111111111111,
             "#46039f"
            ],
            [
             0.2222222222222222,
             "#7201a8"
            ],
            [
             0.3333333333333333,
             "#9c179e"
            ],
            [
             0.4444444444444444,
             "#bd3786"
            ],
            [
             0.5555555555555556,
             "#d8576b"
            ],
            [
             0.6666666666666666,
             "#ed7953"
            ],
            [
             0.7777777777777778,
             "#fb9f3a"
            ],
            [
             0.8888888888888888,
             "#fdca26"
            ],
            [
             1,
             "#f0f921"
            ]
           ]
          },
          "colorway": [
           "#636efa",
           "#EF553B",
           "#00cc96",
           "#ab63fa",
           "#FFA15A",
           "#19d3f3",
           "#FF6692",
           "#B6E880",
           "#FF97FF",
           "#FECB52"
          ],
          "font": {
           "color": "#2a3f5f"
          },
          "geo": {
           "bgcolor": "white",
           "lakecolor": "white",
           "landcolor": "#E5ECF6",
           "showlakes": true,
           "showland": true,
           "subunitcolor": "white"
          },
          "hoverlabel": {
           "align": "left"
          },
          "hovermode": "closest",
          "mapbox": {
           "style": "light"
          },
          "paper_bgcolor": "white",
          "plot_bgcolor": "#E5ECF6",
          "polar": {
           "angularaxis": {
            "gridcolor": "white",
            "linecolor": "white",
            "ticks": ""
           },
           "bgcolor": "#E5ECF6",
           "radialaxis": {
            "gridcolor": "white",
            "linecolor": "white",
            "ticks": ""
           }
          },
          "scene": {
           "xaxis": {
            "backgroundcolor": "#E5ECF6",
            "gridcolor": "white",
            "gridwidth": 2,
            "linecolor": "white",
            "showbackground": true,
            "ticks": "",
            "zerolinecolor": "white"
           },
           "yaxis": {
            "backgroundcolor": "#E5ECF6",
            "gridcolor": "white",
            "gridwidth": 2,
            "linecolor": "white",
            "showbackground": true,
            "ticks": "",
            "zerolinecolor": "white"
           },
           "zaxis": {
            "backgroundcolor": "#E5ECF6",
            "gridcolor": "white",
            "gridwidth": 2,
            "linecolor": "white",
            "showbackground": true,
            "ticks": "",
            "zerolinecolor": "white"
           }
          },
          "shapedefaults": {
           "line": {
            "color": "#2a3f5f"
           }
          },
          "ternary": {
           "aaxis": {
            "gridcolor": "white",
            "linecolor": "white",
            "ticks": ""
           },
           "baxis": {
            "gridcolor": "white",
            "linecolor": "white",
            "ticks": ""
           },
           "bgcolor": "#E5ECF6",
           "caxis": {
            "gridcolor": "white",
            "linecolor": "white",
            "ticks": ""
           }
          },
          "title": {
           "x": 0.05
          },
          "xaxis": {
           "automargin": true,
           "gridcolor": "white",
           "linecolor": "white",
           "ticks": "",
           "title": {
            "standoff": 15
           },
           "zerolinecolor": "white",
           "zerolinewidth": 2
          },
          "yaxis": {
           "automargin": true,
           "gridcolor": "white",
           "linecolor": "white",
           "ticks": "",
           "title": {
            "standoff": 15
           },
           "zerolinecolor": "white",
           "zerolinewidth": 2
          }
         }
        },
        "title": {
         "text": "Rice Impact vs Stability"
        },
        "xaxis": {
         "anchor": "y",
         "domain": [
          0,
          1
         ],
         "title": {
          "text": "Stability"
         }
        },
        "yaxis": {
         "anchor": "x",
         "domain": [
          0,
          1
         ],
         "title": {
          "text": "Impact"
         }
        }
       }
      }
     },
     "metadata": {},
     "output_type": "display_data"
    },
    {
     "data": {
      "application/vnd.jupyter.widget-view+json": {
       "model_id": "3ff81661449a4ebd9789ac15907f2f3c",
       "version_major": 2,
       "version_minor": 0
      },
      "text/plain": [
       "interactive(children=(FloatSlider(value=0.5, description='αAP:', max=1.0), FloatSlider(value=0.5, description=…"
      ]
     },
     "metadata": {},
     "output_type": "display_data"
    },
    {
     "data": {
      "application/vnd.jupyter.widget-view+json": {
       "model_id": "7701f1d7bb3249059941e31b99e6e4e0",
       "version_major": 2,
       "version_minor": 0
      },
      "text/plain": [
       "HBox(children=(Button(description='Update Plot', style=ButtonStyle()), FloatSlider(value=0.5, description='αAP…"
      ]
     },
     "execution_count": 306,
     "metadata": {},
     "output_type": "execute_result"
    }
   ],
   "source": [
    "import pandas as pd\n",
    "import plotly.express as px\n",
    "import ipywidgets as widgets\n",
    "from ipywidgets import interact\n",
    "from IPython.display import clear_output\n",
    "import plotly.graph_objects as go\n",
    "\n",
    "def update_plot(alpha1, alpha2, alpha3):\n",
    "    \n",
    "    tolerance = 1e-5 \n",
    "    filtered_df = viz_df[\n",
    "        (viz_df['Sensitivity_AreaUnderCereals_Paddy'].between(alpha1 - tolerance, alpha1 + tolerance)) &\n",
    "        (viz_df['Sensitivity_TotalNPK'].between(alpha2 - tolerance, alpha2 + tolerance)) &\n",
    "        (viz_df['Sensitivity_NetAreaIrrigated_Canals_NetAreaIrrigated'].between(alpha3 - tolerance, alpha3 + tolerance)) \n",
    "    ]\n",
    "\n",
    "    # Create a scatter plot with filtered data\n",
    "    fig = px.scatter(filtered_df, x='Stability_Values', y='Impact', title='Rice Impact vs Stability',\n",
    "                     labels={'Impact': 'Impact', 'Stability_Values': 'Stability'},\n",
    "                     text='Abbreviation', opacity=1, color_discrete_sequence=['darkblue'])\n",
    "\n",
    "    fig.update_traces(textposition='top center', textfont=dict(size=11))\n",
    "\n",
    "    # Update layout to add annotations and legends\n",
    "    fig.update_layout(\n",
    "        annotations=[\n",
    "            dict(\n",
    "                x=0.5,\n",
    "                y=-0.25,\n",
    "                showarrow=False,\n",
    "                text=f'α<sub>AP</sub>: {alpha1:.2f}, α<sub>NPK</sub>: {alpha2:.2f}, α<sub>CN</sub>: {alpha3:.2f}',\n",
    "                xref=\"paper\",\n",
    "                yref=\"paper\",\n",
    "                font=dict(size=13)\n",
    "            )\n",
    "        ],\n",
    "        legend_title_text='Districts',\n",
    "        legend_title=dict(font=dict(size=12)),\n",
    "    )\n",
    "\n",
    "    # Adding custom legends with abbreviations and full forms\n",
    "    legend_labels = [{'Abbreviation': abb, 'Full Form': full_form} \n",
    "                     for abb, full_form in zip(filtered_df['Abbreviation'].unique(), filtered_df['District'].unique())]\n",
    "\n",
    "    for label in legend_labels:\n",
    "        fig.add_trace(go.Scatter(\n",
    "            x=[None],\n",
    "            y=[None],\n",
    "            mode='markers',\n",
    "            marker=dict(color='darkblue'),\n",
    "            name=f\"{label['Abbreviation']}: {label['Full Form']}\"\n",
    "        ))\n",
    "\n",
    "    # Adding average lines for stability and percentage change\n",
    "    avg_stability = filtered_df['Stability_Values'].mean()\n",
    "    avg_precent = filtered_df['Impact'].mean()\n",
    "\n",
    "    fig.add_shape(\n",
    "        type='line',\n",
    "        x0=avg_stability, y0=0, x1=avg_stability, y1=1,\n",
    "        line=dict(color='red', width=1.5, dash='dash'),\n",
    "        yref='paper'\n",
    "    )\n",
    "\n",
    "    fig.add_shape(\n",
    "        type='line',\n",
    "        x0=0, y0=avg_precent, x1=1, y1=avg_precent,\n",
    "        line=dict(color='red', width=1.5, dash='dash'),\n",
    "        xref='paper'\n",
    "    )\n",
    "\n",
    "    # Add annotations for average values\n",
    "    fig.add_trace(go.Scatter(\n",
    "        x=[avg_stability],\n",
    "        y=[-0.07],\n",
    "        text=[f'Avg Stability: {avg_stability:.2f}'],\n",
    "        mode=\"text\",\n",
    "        showlegend=False,\n",
    "        textfont=dict(size=10.7)\n",
    "    ))\n",
    "\n",
    "    fig.add_trace(go.Scatter(\n",
    "        x=[0.3],\n",
    "        y=[avg_precent-0.04],\n",
    "        text=[f'Avg Impact: {avg_precent:.2f}'],\n",
    "        mode=\"text\",\n",
    "        showlegend=False,\n",
    "        textfont=dict(size=10.7)\n",
    "    ))\n",
    "\n",
    "    clear_output()\n",
    "\n",
    "    display(fig)\n",
    "\n",
    "# Creating sliders for interaction\n",
    "alpha1_slider = widgets.FloatSlider(value=0.5, min=0, max=1, step=0.1, description='αAP:')\n",
    "alpha2_slider = widgets.FloatSlider(value=0.5, min=0, max=1, step=0.1, description='αNPK:')\n",
    "alpha3_slider = widgets.FloatSlider(value=0.5, min=0, max=1, step=0.1, description='αCN:')\n",
    "\n",
    "# Creating interactive plot\n",
    "interactive_plot = interact(update_plot, alpha1=alpha1_slider, alpha2=alpha2_slider, alpha3=alpha3_slider)\n",
    "\n",
    "# Create update button to trigger plot update\n",
    "update_button = widgets.Button(description=\"Update Plot\")\n",
    "update_button.on_click(lambda _: update_plot(alpha1_slider.value, alpha2_slider.value, alpha3_slider.value))\n",
    "\n",
    "# Display the button and sliders\n",
    "widgets.HBox([update_button, alpha1_slider, alpha2_slider, alpha3_slider])\n"
   ]
  },
  {
   "cell_type": "code",
   "execution_count": 307,
   "metadata": {},
   "outputs": [
    {
     "data": {
      "application/vnd.plotly.v1+json": {
       "config": {
        "plotlyServerURL": "https://plot.ly"
       },
       "data": [
        {
         "marker": {
          "color": "blue"
         },
         "name": "Original Values (Sensitivity=0)",
         "orientation": "h",
         "text": [
          "0.33",
          "0.23",
          "0.19"
         ],
         "textposition": "auto",
         "type": "bar",
         "x": [
          0.329337051093786,
          0.23031726528457314,
          0.18595003238082197
         ],
         "y": [
          "Area_Paddy(Ha)",
          "TotalNPK(Tonnes)",
          "Area_Canals(Ha)"
         ]
        },
        {
         "marker": {
          "color": "orange"
         },
         "name": "Chosen Sensitivity [0.5, 0.5, 0.5]",
         "orientation": "h",
         "text": [
          "0.34",
          "0.25",
          "-1.53"
         ],
         "textposition": "auto",
         "type": "bar",
         "x": [
          0.3377763310946158,
          0.25232138539438115,
          -1.5347061091816256
         ],
         "y": [
          "Area_Paddy(Ha)",
          "TotalNPK(Tonnes)",
          "Area_Canals(Ha)"
         ]
        }
       ],
       "layout": {
        "barmode": "group",
        "template": {
         "data": {
          "bar": [
           {
            "error_x": {
             "color": "#2a3f5f"
            },
            "error_y": {
             "color": "#2a3f5f"
            },
            "marker": {
             "line": {
              "color": "#E5ECF6",
              "width": 0.5
             },
             "pattern": {
              "fillmode": "overlay",
              "size": 10,
              "solidity": 0.2
             }
            },
            "type": "bar"
           }
          ],
          "barpolar": [
           {
            "marker": {
             "line": {
              "color": "#E5ECF6",
              "width": 0.5
             },
             "pattern": {
              "fillmode": "overlay",
              "size": 10,
              "solidity": 0.2
             }
            },
            "type": "barpolar"
           }
          ],
          "carpet": [
           {
            "aaxis": {
             "endlinecolor": "#2a3f5f",
             "gridcolor": "white",
             "linecolor": "white",
             "minorgridcolor": "white",
             "startlinecolor": "#2a3f5f"
            },
            "baxis": {
             "endlinecolor": "#2a3f5f",
             "gridcolor": "white",
             "linecolor": "white",
             "minorgridcolor": "white",
             "startlinecolor": "#2a3f5f"
            },
            "type": "carpet"
           }
          ],
          "choropleth": [
           {
            "colorbar": {
             "outlinewidth": 0,
             "ticks": ""
            },
            "type": "choropleth"
           }
          ],
          "contour": [
           {
            "colorbar": {
             "outlinewidth": 0,
             "ticks": ""
            },
            "colorscale": [
             [
              0,
              "#0d0887"
             ],
             [
              0.1111111111111111,
              "#46039f"
             ],
             [
              0.2222222222222222,
              "#7201a8"
             ],
             [
              0.3333333333333333,
              "#9c179e"
             ],
             [
              0.4444444444444444,
              "#bd3786"
             ],
             [
              0.5555555555555556,
              "#d8576b"
             ],
             [
              0.6666666666666666,
              "#ed7953"
             ],
             [
              0.7777777777777778,
              "#fb9f3a"
             ],
             [
              0.8888888888888888,
              "#fdca26"
             ],
             [
              1,
              "#f0f921"
             ]
            ],
            "type": "contour"
           }
          ],
          "contourcarpet": [
           {
            "colorbar": {
             "outlinewidth": 0,
             "ticks": ""
            },
            "type": "contourcarpet"
           }
          ],
          "heatmap": [
           {
            "colorbar": {
             "outlinewidth": 0,
             "ticks": ""
            },
            "colorscale": [
             [
              0,
              "#0d0887"
             ],
             [
              0.1111111111111111,
              "#46039f"
             ],
             [
              0.2222222222222222,
              "#7201a8"
             ],
             [
              0.3333333333333333,
              "#9c179e"
             ],
             [
              0.4444444444444444,
              "#bd3786"
             ],
             [
              0.5555555555555556,
              "#d8576b"
             ],
             [
              0.6666666666666666,
              "#ed7953"
             ],
             [
              0.7777777777777778,
              "#fb9f3a"
             ],
             [
              0.8888888888888888,
              "#fdca26"
             ],
             [
              1,
              "#f0f921"
             ]
            ],
            "type": "heatmap"
           }
          ],
          "heatmapgl": [
           {
            "colorbar": {
             "outlinewidth": 0,
             "ticks": ""
            },
            "colorscale": [
             [
              0,
              "#0d0887"
             ],
             [
              0.1111111111111111,
              "#46039f"
             ],
             [
              0.2222222222222222,
              "#7201a8"
             ],
             [
              0.3333333333333333,
              "#9c179e"
             ],
             [
              0.4444444444444444,
              "#bd3786"
             ],
             [
              0.5555555555555556,
              "#d8576b"
             ],
             [
              0.6666666666666666,
              "#ed7953"
             ],
             [
              0.7777777777777778,
              "#fb9f3a"
             ],
             [
              0.8888888888888888,
              "#fdca26"
             ],
             [
              1,
              "#f0f921"
             ]
            ],
            "type": "heatmapgl"
           }
          ],
          "histogram": [
           {
            "marker": {
             "pattern": {
              "fillmode": "overlay",
              "size": 10,
              "solidity": 0.2
             }
            },
            "type": "histogram"
           }
          ],
          "histogram2d": [
           {
            "colorbar": {
             "outlinewidth": 0,
             "ticks": ""
            },
            "colorscale": [
             [
              0,
              "#0d0887"
             ],
             [
              0.1111111111111111,
              "#46039f"
             ],
             [
              0.2222222222222222,
              "#7201a8"
             ],
             [
              0.3333333333333333,
              "#9c179e"
             ],
             [
              0.4444444444444444,
              "#bd3786"
             ],
             [
              0.5555555555555556,
              "#d8576b"
             ],
             [
              0.6666666666666666,
              "#ed7953"
             ],
             [
              0.7777777777777778,
              "#fb9f3a"
             ],
             [
              0.8888888888888888,
              "#fdca26"
             ],
             [
              1,
              "#f0f921"
             ]
            ],
            "type": "histogram2d"
           }
          ],
          "histogram2dcontour": [
           {
            "colorbar": {
             "outlinewidth": 0,
             "ticks": ""
            },
            "colorscale": [
             [
              0,
              "#0d0887"
             ],
             [
              0.1111111111111111,
              "#46039f"
             ],
             [
              0.2222222222222222,
              "#7201a8"
             ],
             [
              0.3333333333333333,
              "#9c179e"
             ],
             [
              0.4444444444444444,
              "#bd3786"
             ],
             [
              0.5555555555555556,
              "#d8576b"
             ],
             [
              0.6666666666666666,
              "#ed7953"
             ],
             [
              0.7777777777777778,
              "#fb9f3a"
             ],
             [
              0.8888888888888888,
              "#fdca26"
             ],
             [
              1,
              "#f0f921"
             ]
            ],
            "type": "histogram2dcontour"
           }
          ],
          "mesh3d": [
           {
            "colorbar": {
             "outlinewidth": 0,
             "ticks": ""
            },
            "type": "mesh3d"
           }
          ],
          "parcoords": [
           {
            "line": {
             "colorbar": {
              "outlinewidth": 0,
              "ticks": ""
             }
            },
            "type": "parcoords"
           }
          ],
          "pie": [
           {
            "automargin": true,
            "type": "pie"
           }
          ],
          "scatter": [
           {
            "fillpattern": {
             "fillmode": "overlay",
             "size": 10,
             "solidity": 0.2
            },
            "type": "scatter"
           }
          ],
          "scatter3d": [
           {
            "line": {
             "colorbar": {
              "outlinewidth": 0,
              "ticks": ""
             }
            },
            "marker": {
             "colorbar": {
              "outlinewidth": 0,
              "ticks": ""
             }
            },
            "type": "scatter3d"
           }
          ],
          "scattercarpet": [
           {
            "marker": {
             "colorbar": {
              "outlinewidth": 0,
              "ticks": ""
             }
            },
            "type": "scattercarpet"
           }
          ],
          "scattergeo": [
           {
            "marker": {
             "colorbar": {
              "outlinewidth": 0,
              "ticks": ""
             }
            },
            "type": "scattergeo"
           }
          ],
          "scattergl": [
           {
            "marker": {
             "colorbar": {
              "outlinewidth": 0,
              "ticks": ""
             }
            },
            "type": "scattergl"
           }
          ],
          "scattermapbox": [
           {
            "marker": {
             "colorbar": {
              "outlinewidth": 0,
              "ticks": ""
             }
            },
            "type": "scattermapbox"
           }
          ],
          "scatterpolar": [
           {
            "marker": {
             "colorbar": {
              "outlinewidth": 0,
              "ticks": ""
             }
            },
            "type": "scatterpolar"
           }
          ],
          "scatterpolargl": [
           {
            "marker": {
             "colorbar": {
              "outlinewidth": 0,
              "ticks": ""
             }
            },
            "type": "scatterpolargl"
           }
          ],
          "scatterternary": [
           {
            "marker": {
             "colorbar": {
              "outlinewidth": 0,
              "ticks": ""
             }
            },
            "type": "scatterternary"
           }
          ],
          "surface": [
           {
            "colorbar": {
             "outlinewidth": 0,
             "ticks": ""
            },
            "colorscale": [
             [
              0,
              "#0d0887"
             ],
             [
              0.1111111111111111,
              "#46039f"
             ],
             [
              0.2222222222222222,
              "#7201a8"
             ],
             [
              0.3333333333333333,
              "#9c179e"
             ],
             [
              0.4444444444444444,
              "#bd3786"
             ],
             [
              0.5555555555555556,
              "#d8576b"
             ],
             [
              0.6666666666666666,
              "#ed7953"
             ],
             [
              0.7777777777777778,
              "#fb9f3a"
             ],
             [
              0.8888888888888888,
              "#fdca26"
             ],
             [
              1,
              "#f0f921"
             ]
            ],
            "type": "surface"
           }
          ],
          "table": [
           {
            "cells": {
             "fill": {
              "color": "#EBF0F8"
             },
             "line": {
              "color": "white"
             }
            },
            "header": {
             "fill": {
              "color": "#C8D4E3"
             },
             "line": {
              "color": "white"
             }
            },
            "type": "table"
           }
          ]
         },
         "layout": {
          "annotationdefaults": {
           "arrowcolor": "#2a3f5f",
           "arrowhead": 0,
           "arrowwidth": 1
          },
          "autotypenumbers": "strict",
          "coloraxis": {
           "colorbar": {
            "outlinewidth": 0,
            "ticks": ""
           }
          },
          "colorscale": {
           "diverging": [
            [
             0,
             "#8e0152"
            ],
            [
             0.1,
             "#c51b7d"
            ],
            [
             0.2,
             "#de77ae"
            ],
            [
             0.3,
             "#f1b6da"
            ],
            [
             0.4,
             "#fde0ef"
            ],
            [
             0.5,
             "#f7f7f7"
            ],
            [
             0.6,
             "#e6f5d0"
            ],
            [
             0.7,
             "#b8e186"
            ],
            [
             0.8,
             "#7fbc41"
            ],
            [
             0.9,
             "#4d9221"
            ],
            [
             1,
             "#276419"
            ]
           ],
           "sequential": [
            [
             0,
             "#0d0887"
            ],
            [
             0.1111111111111111,
             "#46039f"
            ],
            [
             0.2222222222222222,
             "#7201a8"
            ],
            [
             0.3333333333333333,
             "#9c179e"
            ],
            [
             0.4444444444444444,
             "#bd3786"
            ],
            [
             0.5555555555555556,
             "#d8576b"
            ],
            [
             0.6666666666666666,
             "#ed7953"
            ],
            [
             0.7777777777777778,
             "#fb9f3a"
            ],
            [
             0.8888888888888888,
             "#fdca26"
            ],
            [
             1,
             "#f0f921"
            ]
           ],
           "sequentialminus": [
            [
             0,
             "#0d0887"
            ],
            [
             0.1111111111111111,
             "#46039f"
            ],
            [
             0.2222222222222222,
             "#7201a8"
            ],
            [
             0.3333333333333333,
             "#9c179e"
            ],
            [
             0.4444444444444444,
             "#bd3786"
            ],
            [
             0.5555555555555556,
             "#d8576b"
            ],
            [
             0.6666666666666666,
             "#ed7953"
            ],
            [
             0.7777777777777778,
             "#fb9f3a"
            ],
            [
             0.8888888888888888,
             "#fdca26"
            ],
            [
             1,
             "#f0f921"
            ]
           ]
          },
          "colorway": [
           "#636efa",
           "#EF553B",
           "#00cc96",
           "#ab63fa",
           "#FFA15A",
           "#19d3f3",
           "#FF6692",
           "#B6E880",
           "#FF97FF",
           "#FECB52"
          ],
          "font": {
           "color": "#2a3f5f"
          },
          "geo": {
           "bgcolor": "white",
           "lakecolor": "white",
           "landcolor": "#E5ECF6",
           "showlakes": true,
           "showland": true,
           "subunitcolor": "white"
          },
          "hoverlabel": {
           "align": "left"
          },
          "hovermode": "closest",
          "mapbox": {
           "style": "light"
          },
          "paper_bgcolor": "white",
          "plot_bgcolor": "#E5ECF6",
          "polar": {
           "angularaxis": {
            "gridcolor": "white",
            "linecolor": "white",
            "ticks": ""
           },
           "bgcolor": "#E5ECF6",
           "radialaxis": {
            "gridcolor": "white",
            "linecolor": "white",
            "ticks": ""
           }
          },
          "scene": {
           "xaxis": {
            "backgroundcolor": "#E5ECF6",
            "gridcolor": "white",
            "gridwidth": 2,
            "linecolor": "white",
            "showbackground": true,
            "ticks": "",
            "zerolinecolor": "white"
           },
           "yaxis": {
            "backgroundcolor": "#E5ECF6",
            "gridcolor": "white",
            "gridwidth": 2,
            "linecolor": "white",
            "showbackground": true,
            "ticks": "",
            "zerolinecolor": "white"
           },
           "zaxis": {
            "backgroundcolor": "#E5ECF6",
            "gridcolor": "white",
            "gridwidth": 2,
            "linecolor": "white",
            "showbackground": true,
            "ticks": "",
            "zerolinecolor": "white"
           }
          },
          "shapedefaults": {
           "line": {
            "color": "#2a3f5f"
           }
          },
          "ternary": {
           "aaxis": {
            "gridcolor": "white",
            "linecolor": "white",
            "ticks": ""
           },
           "baxis": {
            "gridcolor": "white",
            "linecolor": "white",
            "ticks": ""
           },
           "bgcolor": "#E5ECF6",
           "caxis": {
            "gridcolor": "white",
            "linecolor": "white",
            "ticks": ""
           }
          },
          "title": {
           "x": 0.05
          },
          "xaxis": {
           "automargin": true,
           "gridcolor": "white",
           "linecolor": "white",
           "ticks": "",
           "title": {
            "standoff": 15
           },
           "zerolinecolor": "white",
           "zerolinewidth": 2
          },
          "yaxis": {
           "automargin": true,
           "gridcolor": "white",
           "linecolor": "white",
           "ticks": "",
           "title": {
            "standoff": 15
           },
           "zerolinecolor": "white",
           "zerolinewidth": 2
          }
         }
        },
        "title": {
         "text": "Comparison of Factor Values for Original and Chosen Sensitivity"
        },
        "xaxis": {
         "title": {
          "text": "Values"
         }
        },
        "yaxis": {
         "title": {
          "text": "Factors"
         }
        }
       }
      }
     },
     "metadata": {},
     "output_type": "display_data"
    },
    {
     "data": {
      "application/vnd.jupyter.widget-view+json": {
       "model_id": "5be41cf8b11a43c58ea863648a423c0f",
       "version_major": 2,
       "version_minor": 0
      },
      "text/plain": [
       "interactive(children=(FloatSlider(value=0.5, description='αAP:', max=1.0), FloatSlider(value=0.5, description=…"
      ]
     },
     "metadata": {},
     "output_type": "display_data"
    },
    {
     "data": {
      "application/vnd.jupyter.widget-view+json": {
       "model_id": "7c7ed4747f45433a9de6c6da4f69d6c7",
       "version_major": 2,
       "version_minor": 0
      },
      "text/plain": [
       "HBox(children=(Button(description='Update Plot', style=ButtonStyle()), FloatSlider(value=0.5, description='αAP…"
      ]
     },
     "execution_count": 307,
     "metadata": {},
     "output_type": "execute_result"
    }
   ],
   "source": [
    "import pandas as pd\n",
    "import plotly.graph_objects as go\n",
    "import ipywidgets as widgets\n",
    "from ipywidgets import interact\n",
    "from IPython.display import clear_output\n",
    "\n",
    "# Function to update the bar plot based on sensitivity sliders\n",
    "def update_bar_plot(alpha1, alpha2, alpha3):\n",
    "    tolerance = 1e-5\n",
    "    \n",
    "    # Filter the dataframe based on slider sensitivity values\n",
    "    filtered_df = viz_df2[\n",
    "        (viz_df2['Sensitivity_AreaUnderCereals_Paddy'].between(alpha1 - tolerance, alpha1 + tolerance)) &\n",
    "        (viz_df2['Sensitivity_TotalNPK'].between(alpha2 - tolerance, alpha2 + tolerance)) &\n",
    "        (viz_df2['Sensitivity_NetAreaIrrigated_Canals_NetAreaIrrigated'].between(alpha3 - tolerance, alpha3 + tolerance)) \n",
    "    ]\n",
    "    \n",
    "    # Define the factors and their display names\n",
    "    factors = ['New_F1', 'New_F2', 'New_F3']\n",
    "    display_names = ['Area_Paddy(Ha)', 'TotalNPK(Tonnes)', 'Area_Canals(Ha)']\n",
    "\n",
    "    # Calculate mean values for the selected sensitivity group\n",
    "    user_values = filtered_df[factors].mean()\n",
    "    \n",
    "    # Get the mean values for the original case where all sensitivities are zero\n",
    "    original_values = viz_df2[viz_df2[['Sensitivity_AreaUnderCereals_Paddy',\n",
    "                                       'Sensitivity_TotalNPK', 'Sensitivity_NetAreaIrrigated_Canals_NetAreaIrrigated']].eq(0).all(axis=1)][factors].mean()\n",
    "    \n",
    "    user_values_formatted = [f'{val:.2f}' for val in user_values]\n",
    "    original_values_formatted = [f'{val:.2f}' for val in original_values]\n",
    "    \n",
    "    # Create the bar plot with interchanged axes, adding text labels\n",
    "    fig = go.Figure(data=[\n",
    "        go.Bar(\n",
    "            name='Original Values (Sensitivity=0)', \n",
    "            y=display_names, \n",
    "            x=original_values, \n",
    "            marker_color='blue', \n",
    "            orientation='h',\n",
    "            text=original_values_formatted,  # Add labels with the values of the bars\n",
    "            textposition='auto'    # Automatically position the text inside or outside the bar\n",
    "        ),\n",
    "        go.Bar(\n",
    "            name=f'Chosen Sensitivity [{alpha1}, {alpha2}, {alpha3}]', \n",
    "            y=display_names, \n",
    "            x=user_values, \n",
    "            marker_color='orange', \n",
    "            orientation='h',\n",
    "            text=user_values_formatted,  # Add labels with the values of the bars\n",
    "            textposition='auto'    # Automatically position the text inside or outside the bar\n",
    "        )\n",
    "    ])\n",
    "    \n",
    "    # Customize the layout\n",
    "    fig.update_layout(\n",
    "        title=\"Comparison of Factor Values for Original and Chosen Sensitivity\",\n",
    "        yaxis_title=\"Factors\",\n",
    "        xaxis_title=\"Values\",\n",
    "        barmode='group'\n",
    "    )\n",
    "\n",
    "    # Clear previous output and display updated plot\n",
    "    clear_output()\n",
    "    display(fig)\n",
    "\n",
    "\n",
    "# Creating sliders for interaction\n",
    "alpha1_slider = widgets.FloatSlider(value=0.5, min=0, max=1, step=0.1, description='αAP:')\n",
    "alpha2_slider = widgets.FloatSlider(value=0.5, min=0, max=1, step=0.1, description='αNPK:')\n",
    "alpha3_slider = widgets.FloatSlider(value=0.5, min=0, max=1, step=0.1, description='αCN:')\n",
    "\n",
    "# Creating interactive plot\n",
    "interactive_plot = interact(update_bar_plot, alpha1=alpha1_slider, alpha2=alpha2_slider, alpha3=alpha3_slider)\n",
    "\n",
    "# Create update button to trigger plot update\n",
    "update_button = widgets.Button(description=\"Update Plot\")\n",
    "update_button.on_click(lambda _: update_bar_plot(alpha1_slider.value, alpha2_slider.value, alpha3_slider.value))\n",
    "\n",
    "# Display the button and sliders\n",
    "widgets.HBox([update_button, alpha1_slider, alpha2_slider, alpha3_slider])"
   ]
  },
  {
   "cell_type": "code",
   "execution_count": 308,
   "metadata": {},
   "outputs": [
    {
     "data": {
      "text/plain": [
       "0.3024051344915847"
      ]
     },
     "execution_count": 308,
     "metadata": {},
     "output_type": "execute_result"
    }
   ],
   "source": [
    "result_df['New_Production'].mean()"
   ]
  },
  {
   "cell_type": "code",
   "execution_count": 309,
   "metadata": {},
   "outputs": [
    {
     "data": {
      "text/html": [
       "<div>\n",
       "<style scoped>\n",
       "    .dataframe tbody tr th:only-of-type {\n",
       "        vertical-align: middle;\n",
       "    }\n",
       "\n",
       "    .dataframe tbody tr th {\n",
       "        vertical-align: top;\n",
       "    }\n",
       "\n",
       "    .dataframe thead th {\n",
       "        text-align: right;\n",
       "    }\n",
       "</style>\n",
       "<table border=\"1\" class=\"dataframe\">\n",
       "  <thead>\n",
       "    <tr style=\"text-align: right;\">\n",
       "      <th></th>\n",
       "      <th>Sensitivity_AreaUnderCereals_Paddy</th>\n",
       "      <th>Sensitivity_TotalNPK</th>\n",
       "      <th>Sensitivity_NetAreaIrrigated_Canals_NetAreaIrrigated</th>\n",
       "      <th>AreaUnderCereals_Paddy</th>\n",
       "      <th>TotalNPK</th>\n",
       "      <th>NetAreaIrrigated_Canals_NetAreaIrrigated</th>\n",
       "      <th>Beta_0</th>\n",
       "      <th>Beta_1</th>\n",
       "      <th>Beta_2</th>\n",
       "      <th>Beta_3</th>\n",
       "      <th>New_F1</th>\n",
       "      <th>New_F2</th>\n",
       "      <th>New_F3</th>\n",
       "      <th>District</th>\n",
       "      <th>New_Production</th>\n",
       "      <th>Normalized_New_Prouction</th>\n",
       "      <th>Stress_Values</th>\n",
       "      <th>Stability_Values</th>\n",
       "    </tr>\n",
       "  </thead>\n",
       "  <tbody>\n",
       "    <tr>\n",
       "      <th>0</th>\n",
       "      <td>0.0</td>\n",
       "      <td>0.0</td>\n",
       "      <td>0.0</td>\n",
       "      <td>0.003370</td>\n",
       "      <td>0.009697</td>\n",
       "      <td>0.014826</td>\n",
       "      <td>-0.029489</td>\n",
       "      <td>0.750762</td>\n",
       "      <td>0.287941</td>\n",
       "      <td>-0.003682</td>\n",
       "      <td>0.003370</td>\n",
       "      <td>0.009697</td>\n",
       "      <td>0.014826</td>\n",
       "      <td>BENGALURU</td>\n",
       "      <td>-0.024222</td>\n",
       "      <td>0.004920</td>\n",
       "      <td>0.009533</td>\n",
       "      <td>0.990467</td>\n",
       "    </tr>\n",
       "    <tr>\n",
       "      <th>1</th>\n",
       "      <td>0.0</td>\n",
       "      <td>0.0</td>\n",
       "      <td>0.0</td>\n",
       "      <td>0.002969</td>\n",
       "      <td>0.001421</td>\n",
       "      <td>0.005859</td>\n",
       "      <td>-0.029489</td>\n",
       "      <td>0.750762</td>\n",
       "      <td>0.287941</td>\n",
       "      <td>-0.003682</td>\n",
       "      <td>0.002969</td>\n",
       "      <td>0.001421</td>\n",
       "      <td>0.005859</td>\n",
       "      <td>BENGALURU(R)</td>\n",
       "      <td>-0.026873</td>\n",
       "      <td>0.002450</td>\n",
       "      <td>0.019037</td>\n",
       "      <td>0.980963</td>\n",
       "    </tr>\n",
       "    <tr>\n",
       "      <th>2</th>\n",
       "      <td>0.0</td>\n",
       "      <td>0.0</td>\n",
       "      <td>0.0</td>\n",
       "      <td>0.035463</td>\n",
       "      <td>0.003575</td>\n",
       "      <td>0.000657</td>\n",
       "      <td>-0.029489</td>\n",
       "      <td>0.750762</td>\n",
       "      <td>0.287941</td>\n",
       "      <td>-0.003682</td>\n",
       "      <td>0.035463</td>\n",
       "      <td>0.003575</td>\n",
       "      <td>0.000657</td>\n",
       "      <td>RAMANAGARA</td>\n",
       "      <td>-0.001838</td>\n",
       "      <td>0.025780</td>\n",
       "      <td>0.105923</td>\n",
       "      <td>0.894077</td>\n",
       "    </tr>\n",
       "    <tr>\n",
       "      <th>3</th>\n",
       "      <td>0.0</td>\n",
       "      <td>0.0</td>\n",
       "      <td>0.0</td>\n",
       "      <td>0.007854</td>\n",
       "      <td>0.001784</td>\n",
       "      <td>0.000000</td>\n",
       "      <td>-0.029489</td>\n",
       "      <td>0.750762</td>\n",
       "      <td>0.287941</td>\n",
       "      <td>-0.003682</td>\n",
       "      <td>0.007854</td>\n",
       "      <td>0.001784</td>\n",
       "      <td>0.000000</td>\n",
       "      <td>CHITRADURGA</td>\n",
       "      <td>-0.023079</td>\n",
       "      <td>0.005985</td>\n",
       "      <td>0.282781</td>\n",
       "      <td>0.717219</td>\n",
       "    </tr>\n",
       "    <tr>\n",
       "      <th>4</th>\n",
       "      <td>0.0</td>\n",
       "      <td>0.0</td>\n",
       "      <td>0.0</td>\n",
       "      <td>0.852095</td>\n",
       "      <td>0.504480</td>\n",
       "      <td>0.269227</td>\n",
       "      <td>-0.029489</td>\n",
       "      <td>0.750762</td>\n",
       "      <td>0.287941</td>\n",
       "      <td>-0.003682</td>\n",
       "      <td>0.852095</td>\n",
       "      <td>0.504480</td>\n",
       "      <td>0.269227</td>\n",
       "      <td>DAVANAGERE</td>\n",
       "      <td>0.754500</td>\n",
       "      <td>0.730631</td>\n",
       "      <td>0.448834</td>\n",
       "      <td>0.551166</td>\n",
       "    </tr>\n",
       "    <tr>\n",
       "      <th>...</th>\n",
       "      <td>...</td>\n",
       "      <td>...</td>\n",
       "      <td>...</td>\n",
       "      <td>...</td>\n",
       "      <td>...</td>\n",
       "      <td>...</td>\n",
       "      <td>...</td>\n",
       "      <td>...</td>\n",
       "      <td>...</td>\n",
       "      <td>...</td>\n",
       "      <td>...</td>\n",
       "      <td>...</td>\n",
       "      <td>...</td>\n",
       "      <td>...</td>\n",
       "      <td>...</td>\n",
       "      <td>...</td>\n",
       "      <td>...</td>\n",
       "      <td>...</td>\n",
       "    </tr>\n",
       "    <tr>\n",
       "      <th>38594</th>\n",
       "      <td>1.0</td>\n",
       "      <td>1.0</td>\n",
       "      <td>1.0</td>\n",
       "      <td>0.033121</td>\n",
       "      <td>0.006570</td>\n",
       "      <td>0.000070</td>\n",
       "      <td>-0.029489</td>\n",
       "      <td>0.750762</td>\n",
       "      <td>0.287941</td>\n",
       "      <td>-0.003682</td>\n",
       "      <td>0.050000</td>\n",
       "      <td>0.050578</td>\n",
       "      <td>-3.441242</td>\n",
       "      <td>KALABURAGI</td>\n",
       "      <td>0.035284</td>\n",
       "      <td>0.060375</td>\n",
       "      <td>0.379028</td>\n",
       "      <td>0.620972</td>\n",
       "    </tr>\n",
       "    <tr>\n",
       "      <th>38595</th>\n",
       "      <td>1.0</td>\n",
       "      <td>1.0</td>\n",
       "      <td>1.0</td>\n",
       "      <td>0.426318</td>\n",
       "      <td>0.738523</td>\n",
       "      <td>0.734923</td>\n",
       "      <td>-0.029489</td>\n",
       "      <td>0.750762</td>\n",
       "      <td>0.287941</td>\n",
       "      <td>-0.003682</td>\n",
       "      <td>0.443196</td>\n",
       "      <td>0.782531</td>\n",
       "      <td>-2.706390</td>\n",
       "      <td>YADGIRI</td>\n",
       "      <td>0.538534</td>\n",
       "      <td>0.529366</td>\n",
       "      <td>0.487920</td>\n",
       "      <td>0.512080</td>\n",
       "    </tr>\n",
       "    <tr>\n",
       "      <th>38596</th>\n",
       "      <td>1.0</td>\n",
       "      <td>1.0</td>\n",
       "      <td>1.0</td>\n",
       "      <td>1.000000</td>\n",
       "      <td>1.000000</td>\n",
       "      <td>1.000000</td>\n",
       "      <td>-0.029489</td>\n",
       "      <td>0.750762</td>\n",
       "      <td>0.287941</td>\n",
       "      <td>-0.003682</td>\n",
       "      <td>1.016879</td>\n",
       "      <td>1.044008</td>\n",
       "      <td>-2.441312</td>\n",
       "      <td>RAICHUR</td>\n",
       "      <td>1.043547</td>\n",
       "      <td>1.000000</td>\n",
       "      <td>0.637798</td>\n",
       "      <td>0.362202</td>\n",
       "    </tr>\n",
       "    <tr>\n",
       "      <th>38597</th>\n",
       "      <td>1.0</td>\n",
       "      <td>1.0</td>\n",
       "      <td>1.0</td>\n",
       "      <td>0.438464</td>\n",
       "      <td>0.334119</td>\n",
       "      <td>0.096966</td>\n",
       "      <td>-0.029489</td>\n",
       "      <td>0.750762</td>\n",
       "      <td>0.287941</td>\n",
       "      <td>-0.003682</td>\n",
       "      <td>0.455342</td>\n",
       "      <td>0.378128</td>\n",
       "      <td>-3.344347</td>\n",
       "      <td>KOPPAL</td>\n",
       "      <td>0.433558</td>\n",
       "      <td>0.431536</td>\n",
       "      <td>0.111283</td>\n",
       "      <td>0.888717</td>\n",
       "    </tr>\n",
       "    <tr>\n",
       "      <th>38598</th>\n",
       "      <td>1.0</td>\n",
       "      <td>1.0</td>\n",
       "      <td>1.0</td>\n",
       "      <td>0.404328</td>\n",
       "      <td>0.395668</td>\n",
       "      <td>0.396926</td>\n",
       "      <td>-0.029489</td>\n",
       "      <td>0.750762</td>\n",
       "      <td>0.287941</td>\n",
       "      <td>-0.003682</td>\n",
       "      <td>0.421207</td>\n",
       "      <td>0.439677</td>\n",
       "      <td>-3.044386</td>\n",
       "      <td>VIJAYANAGARA</td>\n",
       "      <td>0.424548</td>\n",
       "      <td>0.423140</td>\n",
       "      <td>0.249475</td>\n",
       "      <td>0.750525</td>\n",
       "    </tr>\n",
       "  </tbody>\n",
       "</table>\n",
       "<p>38599 rows × 18 columns</p>\n",
       "</div>"
      ],
      "text/plain": [
       "       Sensitivity_AreaUnderCereals_Paddy  Sensitivity_TotalNPK  \\\n",
       "0                                     0.0                   0.0   \n",
       "1                                     0.0                   0.0   \n",
       "2                                     0.0                   0.0   \n",
       "3                                     0.0                   0.0   \n",
       "4                                     0.0                   0.0   \n",
       "...                                   ...                   ...   \n",
       "38594                                 1.0                   1.0   \n",
       "38595                                 1.0                   1.0   \n",
       "38596                                 1.0                   1.0   \n",
       "38597                                 1.0                   1.0   \n",
       "38598                                 1.0                   1.0   \n",
       "\n",
       "       Sensitivity_NetAreaIrrigated_Canals_NetAreaIrrigated  \\\n",
       "0                                                    0.0      \n",
       "1                                                    0.0      \n",
       "2                                                    0.0      \n",
       "3                                                    0.0      \n",
       "4                                                    0.0      \n",
       "...                                                  ...      \n",
       "38594                                                1.0      \n",
       "38595                                                1.0      \n",
       "38596                                                1.0      \n",
       "38597                                                1.0      \n",
       "38598                                                1.0      \n",
       "\n",
       "       AreaUnderCereals_Paddy  TotalNPK  \\\n",
       "0                    0.003370  0.009697   \n",
       "1                    0.002969  0.001421   \n",
       "2                    0.035463  0.003575   \n",
       "3                    0.007854  0.001784   \n",
       "4                    0.852095  0.504480   \n",
       "...                       ...       ...   \n",
       "38594                0.033121  0.006570   \n",
       "38595                0.426318  0.738523   \n",
       "38596                1.000000  1.000000   \n",
       "38597                0.438464  0.334119   \n",
       "38598                0.404328  0.395668   \n",
       "\n",
       "       NetAreaIrrigated_Canals_NetAreaIrrigated    Beta_0    Beta_1    Beta_2  \\\n",
       "0                                      0.014826 -0.029489  0.750762  0.287941   \n",
       "1                                      0.005859 -0.029489  0.750762  0.287941   \n",
       "2                                      0.000657 -0.029489  0.750762  0.287941   \n",
       "3                                      0.000000 -0.029489  0.750762  0.287941   \n",
       "4                                      0.269227 -0.029489  0.750762  0.287941   \n",
       "...                                         ...       ...       ...       ...   \n",
       "38594                                  0.000070 -0.029489  0.750762  0.287941   \n",
       "38595                                  0.734923 -0.029489  0.750762  0.287941   \n",
       "38596                                  1.000000 -0.029489  0.750762  0.287941   \n",
       "38597                                  0.096966 -0.029489  0.750762  0.287941   \n",
       "38598                                  0.396926 -0.029489  0.750762  0.287941   \n",
       "\n",
       "         Beta_3    New_F1    New_F2    New_F3      District  New_Production  \\\n",
       "0     -0.003682  0.003370  0.009697  0.014826     BENGALURU       -0.024222   \n",
       "1     -0.003682  0.002969  0.001421  0.005859  BENGALURU(R)       -0.026873   \n",
       "2     -0.003682  0.035463  0.003575  0.000657    RAMANAGARA       -0.001838   \n",
       "3     -0.003682  0.007854  0.001784  0.000000   CHITRADURGA       -0.023079   \n",
       "4     -0.003682  0.852095  0.504480  0.269227    DAVANAGERE        0.754500   \n",
       "...         ...       ...       ...       ...           ...             ...   \n",
       "38594 -0.003682  0.050000  0.050578 -3.441242    KALABURAGI        0.035284   \n",
       "38595 -0.003682  0.443196  0.782531 -2.706390       YADGIRI        0.538534   \n",
       "38596 -0.003682  1.016879  1.044008 -2.441312       RAICHUR        1.043547   \n",
       "38597 -0.003682  0.455342  0.378128 -3.344347        KOPPAL        0.433558   \n",
       "38598 -0.003682  0.421207  0.439677 -3.044386  VIJAYANAGARA        0.424548   \n",
       "\n",
       "       Normalized_New_Prouction  Stress_Values  Stability_Values  \n",
       "0                      0.004920       0.009533          0.990467  \n",
       "1                      0.002450       0.019037          0.980963  \n",
       "2                      0.025780       0.105923          0.894077  \n",
       "3                      0.005985       0.282781          0.717219  \n",
       "4                      0.730631       0.448834          0.551166  \n",
       "...                         ...            ...               ...  \n",
       "38594                  0.060375       0.379028          0.620972  \n",
       "38595                  0.529366       0.487920          0.512080  \n",
       "38596                  1.000000       0.637798          0.362202  \n",
       "38597                  0.431536       0.111283          0.888717  \n",
       "38598                  0.423140       0.249475          0.750525  \n",
       "\n",
       "[38599 rows x 18 columns]"
      ]
     },
     "execution_count": 309,
     "metadata": {},
     "output_type": "execute_result"
    }
   ],
   "source": [
    "result_df"
   ]
  },
  {
   "cell_type": "code",
   "execution_count": 310,
   "metadata": {},
   "outputs": [],
   "source": [
    "result_df.to_csv('Rice_Prescriptive_5000.csv',index=False)"
   ]
  }
 ],
 "metadata": {
  "kernelspec": {
   "display_name": "Python 3",
   "language": "python",
   "name": "python3"
  },
  "language_info": {
   "codemirror_mode": {
    "name": "ipython",
    "version": 3
   },
   "file_extension": ".py",
   "mimetype": "text/x-python",
   "name": "python",
   "nbconvert_exporter": "python",
   "pygments_lexer": "ipython3",
   "version": "3.9.13"
  }
 },
 "nbformat": 4,
 "nbformat_minor": 2
}
