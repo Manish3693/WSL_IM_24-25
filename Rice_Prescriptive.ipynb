{
 "cells": [
  {
   "cell_type": "code",
   "execution_count": 26,
   "metadata": {},
   "outputs": [],
   "source": [
    "import pandas as pd\n",
    "import statsmodels.api as sm\n",
    "import re\n",
    "import numpy as np\n",
    "import pandas as pd\n",
    "from itertools import product"
   ]
  },
  {
   "cell_type": "code",
   "execution_count": 27,
   "metadata": {},
   "outputs": [
    {
     "data": {
      "text/html": [
       "<div>\n",
       "<style scoped>\n",
       "    .dataframe tbody tr th:only-of-type {\n",
       "        vertical-align: middle;\n",
       "    }\n",
       "\n",
       "    .dataframe tbody tr th {\n",
       "        vertical-align: top;\n",
       "    }\n",
       "\n",
       "    .dataframe thead th {\n",
       "        text-align: right;\n",
       "    }\n",
       "</style>\n",
       "<table border=\"1\" class=\"dataframe\">\n",
       "  <thead>\n",
       "    <tr style=\"text-align: right;\">\n",
       "      <th></th>\n",
       "      <th>District</th>\n",
       "      <th>Rice_Production</th>\n",
       "      <th>Maize_Production</th>\n",
       "      <th>Groundnut_Production</th>\n",
       "      <th>TotalNPK</th>\n",
       "      <th>SowingSeedsDistributed_Maize</th>\n",
       "      <th>LivestockCensus_2012_Cattle</th>\n",
       "      <th>AreaUnderCereals_Maize</th>\n",
       "      <th>AreaUnderCereals_Paddy</th>\n",
       "      <th>NetAreaIrrigated_Canals_NetAreaIrrigated</th>\n",
       "      <th>AreaUnderOilSeeds_GroundNut</th>\n",
       "      <th>MotorVehicles_Tractors</th>\n",
       "      <th>LivestockCensus_2012_Sheep</th>\n",
       "      <th>NetAreaIrrigatedUnderDifferentSources_TubeWells_NetIrrigatedArea</th>\n",
       "      <th>Rice_Ratio</th>\n",
       "      <th>Maize_Ratio</th>\n",
       "      <th>Groundnut_Ratio</th>\n",
       "      <th>Admin_Zone</th>\n",
       "    </tr>\n",
       "  </thead>\n",
       "  <tbody>\n",
       "    <tr>\n",
       "      <th>24</th>\n",
       "      <td>BALLARI</td>\n",
       "      <td>206115.5</td>\n",
       "      <td>104045</td>\n",
       "      <td>22938.5</td>\n",
       "      <td>61664.5</td>\n",
       "      <td>2859.005</td>\n",
       "      <td>172038.5</td>\n",
       "      <td>49869.5</td>\n",
       "      <td>46832.5</td>\n",
       "      <td>77607</td>\n",
       "      <td>49762</td>\n",
       "      <td>24001</td>\n",
       "      <td>756270</td>\n",
       "      <td>75198</td>\n",
       "      <td>0.269990</td>\n",
       "      <td>0.136288</td>\n",
       "      <td>0.030047</td>\n",
       "      <td>Kalaburagi Division</td>\n",
       "    </tr>\n",
       "    <tr>\n",
       "      <th>25</th>\n",
       "      <td>BIDAR</td>\n",
       "      <td>2036.0</td>\n",
       "      <td>2791</td>\n",
       "      <td>261.0</td>\n",
       "      <td>24658.0</td>\n",
       "      <td>24.550</td>\n",
       "      <td>234519.0</td>\n",
       "      <td>1382.0</td>\n",
       "      <td>1548.0</td>\n",
       "      <td>0</td>\n",
       "      <td>299</td>\n",
       "      <td>5256</td>\n",
       "      <td>88402</td>\n",
       "      <td>19908</td>\n",
       "      <td>0.007378</td>\n",
       "      <td>0.010114</td>\n",
       "      <td>0.000946</td>\n",
       "      <td>Kalaburagi Division</td>\n",
       "    </tr>\n",
       "    <tr>\n",
       "      <th>26</th>\n",
       "      <td>KALABURAGI</td>\n",
       "      <td>7888.0</td>\n",
       "      <td>14621</td>\n",
       "      <td>3114.0</td>\n",
       "      <td>53999.0</td>\n",
       "      <td>165.000</td>\n",
       "      <td>473117.0</td>\n",
       "      <td>2634.0</td>\n",
       "      <td>4199.0</td>\n",
       "      <td>20864</td>\n",
       "      <td>3817</td>\n",
       "      <td>16351</td>\n",
       "      <td>100061</td>\n",
       "      <td>48802</td>\n",
       "      <td>0.007095</td>\n",
       "      <td>0.013150</td>\n",
       "      <td>0.002801</td>\n",
       "      <td>Kalaburagi Division</td>\n",
       "    </tr>\n",
       "    <tr>\n",
       "      <th>27</th>\n",
       "      <td>YADGIRI</td>\n",
       "      <td>224659.0</td>\n",
       "      <td>2673</td>\n",
       "      <td>31435.0</td>\n",
       "      <td>91389.0</td>\n",
       "      <td>0.000</td>\n",
       "      <td>310727.0</td>\n",
       "      <td>961.0</td>\n",
       "      <td>49358.0</td>\n",
       "      <td>91141</td>\n",
       "      <td>38840</td>\n",
       "      <td>9902</td>\n",
       "      <td>463482</td>\n",
       "      <td>22035</td>\n",
       "      <td>0.339006</td>\n",
       "      <td>0.004033</td>\n",
       "      <td>0.047435</td>\n",
       "      <td>Kalaburagi Division</td>\n",
       "    </tr>\n",
       "    <tr>\n",
       "      <th>28</th>\n",
       "      <td>RAICHUR</td>\n",
       "      <td>492342.0</td>\n",
       "      <td>723</td>\n",
       "      <td>26958.0</td>\n",
       "      <td>117235.0</td>\n",
       "      <td>14.350</td>\n",
       "      <td>359124.0</td>\n",
       "      <td>2600.0</td>\n",
       "      <td>115246.0</td>\n",
       "      <td>111512</td>\n",
       "      <td>35960</td>\n",
       "      <td>25612</td>\n",
       "      <td>647549</td>\n",
       "      <td>26571</td>\n",
       "      <td>0.357505</td>\n",
       "      <td>0.000525</td>\n",
       "      <td>0.019575</td>\n",
       "      <td>Kalaburagi Division</td>\n",
       "    </tr>\n",
       "    <tr>\n",
       "      <th>29</th>\n",
       "      <td>KOPPAL</td>\n",
       "      <td>243505.0</td>\n",
       "      <td>190252</td>\n",
       "      <td>29982.0</td>\n",
       "      <td>73552.0</td>\n",
       "      <td>5292.000</td>\n",
       "      <td>260408.0</td>\n",
       "      <td>48210.0</td>\n",
       "      <td>50753.0</td>\n",
       "      <td>37736</td>\n",
       "      <td>22274</td>\n",
       "      <td>16317</td>\n",
       "      <td>547061</td>\n",
       "      <td>82552</td>\n",
       "      <td>0.191373</td>\n",
       "      <td>0.149521</td>\n",
       "      <td>0.023563</td>\n",
       "      <td>Kalaburagi Division</td>\n",
       "    </tr>\n",
       "    <tr>\n",
       "      <th>30</th>\n",
       "      <td>VIJAYANAGARA</td>\n",
       "      <td>206115.5</td>\n",
       "      <td>104045</td>\n",
       "      <td>22938.5</td>\n",
       "      <td>61664.5</td>\n",
       "      <td>2859.005</td>\n",
       "      <td>172038.5</td>\n",
       "      <td>49869.5</td>\n",
       "      <td>46832.5</td>\n",
       "      <td>77607</td>\n",
       "      <td>49762</td>\n",
       "      <td>24001</td>\n",
       "      <td>756270</td>\n",
       "      <td>75198</td>\n",
       "      <td>0.269990</td>\n",
       "      <td>0.136288</td>\n",
       "      <td>0.030047</td>\n",
       "      <td>Kalaburagi Division</td>\n",
       "    </tr>\n",
       "  </tbody>\n",
       "</table>\n",
       "</div>"
      ],
      "text/plain": [
       "        District  Rice_Production  Maize_Production  Groundnut_Production  \\\n",
       "24       BALLARI         206115.5            104045               22938.5   \n",
       "25         BIDAR           2036.0              2791                 261.0   \n",
       "26    KALABURAGI           7888.0             14621                3114.0   \n",
       "27       YADGIRI         224659.0              2673               31435.0   \n",
       "28       RAICHUR         492342.0               723               26958.0   \n",
       "29        KOPPAL         243505.0            190252               29982.0   \n",
       "30  VIJAYANAGARA         206115.5            104045               22938.5   \n",
       "\n",
       "    TotalNPK  SowingSeedsDistributed_Maize  LivestockCensus_2012_Cattle  \\\n",
       "24   61664.5                      2859.005                     172038.5   \n",
       "25   24658.0                        24.550                     234519.0   \n",
       "26   53999.0                       165.000                     473117.0   \n",
       "27   91389.0                         0.000                     310727.0   \n",
       "28  117235.0                        14.350                     359124.0   \n",
       "29   73552.0                      5292.000                     260408.0   \n",
       "30   61664.5                      2859.005                     172038.5   \n",
       "\n",
       "    AreaUnderCereals_Maize  AreaUnderCereals_Paddy  \\\n",
       "24                 49869.5                 46832.5   \n",
       "25                  1382.0                  1548.0   \n",
       "26                  2634.0                  4199.0   \n",
       "27                   961.0                 49358.0   \n",
       "28                  2600.0                115246.0   \n",
       "29                 48210.0                 50753.0   \n",
       "30                 49869.5                 46832.5   \n",
       "\n",
       "    NetAreaIrrigated_Canals_NetAreaIrrigated  AreaUnderOilSeeds_GroundNut  \\\n",
       "24                                     77607                        49762   \n",
       "25                                         0                          299   \n",
       "26                                     20864                         3817   \n",
       "27                                     91141                        38840   \n",
       "28                                    111512                        35960   \n",
       "29                                     37736                        22274   \n",
       "30                                     77607                        49762   \n",
       "\n",
       "    MotorVehicles_Tractors  LivestockCensus_2012_Sheep  \\\n",
       "24                   24001                      756270   \n",
       "25                    5256                       88402   \n",
       "26                   16351                      100061   \n",
       "27                    9902                      463482   \n",
       "28                   25612                      647549   \n",
       "29                   16317                      547061   \n",
       "30                   24001                      756270   \n",
       "\n",
       "    NetAreaIrrigatedUnderDifferentSources_TubeWells_NetIrrigatedArea  \\\n",
       "24                                              75198                  \n",
       "25                                              19908                  \n",
       "26                                              48802                  \n",
       "27                                              22035                  \n",
       "28                                              26571                  \n",
       "29                                              82552                  \n",
       "30                                              75198                  \n",
       "\n",
       "    Rice_Ratio  Maize_Ratio  Groundnut_Ratio           Admin_Zone  \n",
       "24    0.269990     0.136288         0.030047  Kalaburagi Division  \n",
       "25    0.007378     0.010114         0.000946  Kalaburagi Division  \n",
       "26    0.007095     0.013150         0.002801  Kalaburagi Division  \n",
       "27    0.339006     0.004033         0.047435  Kalaburagi Division  \n",
       "28    0.357505     0.000525         0.019575  Kalaburagi Division  \n",
       "29    0.191373     0.149521         0.023563  Kalaburagi Division  \n",
       "30    0.269990     0.136288         0.030047  Kalaburagi Division  "
      ]
     },
     "execution_count": 27,
     "metadata": {},
     "output_type": "execute_result"
    }
   ],
   "source": [
    "def remove_pattern(col_name):\n",
    "    return re.sub(r'_[0-9]{3}$', '', col_name)\n",
    "\n",
    "Zones = pd.read_excel('Zones.xlsx')\n",
    "Dataset = pd.read_csv('KAG 2016-17\\Agriculture\\Agriculture_KAG_2016_17.csv')\n",
    "Dataset.columns = map(remove_pattern, Dataset.columns)\n",
    "\n",
    "Working_Directory = pd.read_csv('Working_Directory.csv')\n",
    "Working_Directory[24:]"
   ]
  },
  {
   "cell_type": "code",
   "execution_count": 28,
   "metadata": {},
   "outputs": [
    {
     "data": {
      "text/html": [
       "<div>\n",
       "<style scoped>\n",
       "    .dataframe tbody tr th:only-of-type {\n",
       "        vertical-align: middle;\n",
       "    }\n",
       "\n",
       "    .dataframe tbody tr th {\n",
       "        vertical-align: top;\n",
       "    }\n",
       "\n",
       "    .dataframe thead th {\n",
       "        text-align: right;\n",
       "    }\n",
       "</style>\n",
       "<table border=\"1\" class=\"dataframe\">\n",
       "  <thead>\n",
       "    <tr style=\"text-align: right;\">\n",
       "      <th></th>\n",
       "      <th>AreaUnderCereals_Paddy_190</th>\n",
       "      <th>TotalNPK_315</th>\n",
       "      <th>NetAreaIrrigated_Canals_NetAreaIrrigated_173</th>\n",
       "    </tr>\n",
       "  </thead>\n",
       "  <tbody>\n",
       "    <tr>\n",
       "      <th>0</th>\n",
       "      <td>782</td>\n",
       "      <td>513.822990</td>\n",
       "      <td>0.000000</td>\n",
       "    </tr>\n",
       "    <tr>\n",
       "      <th>1</th>\n",
       "      <td>736</td>\n",
       "      <td>167.835355</td>\n",
       "      <td>0.000000</td>\n",
       "    </tr>\n",
       "    <tr>\n",
       "      <th>2</th>\n",
       "      <td>4468</td>\n",
       "      <td>257.908893</td>\n",
       "      <td>272.509463</td>\n",
       "    </tr>\n",
       "    <tr>\n",
       "      <th>3</th>\n",
       "      <td>1297</td>\n",
       "      <td>183.032957</td>\n",
       "      <td>9.283245</td>\n",
       "    </tr>\n",
       "    <tr>\n",
       "      <th>4</th>\n",
       "      <td>98259</td>\n",
       "      <td>21197.529550</td>\n",
       "      <td>18037.386430</td>\n",
       "    </tr>\n",
       "  </tbody>\n",
       "</table>\n",
       "</div>"
      ],
      "text/plain": [
       "   AreaUnderCereals_Paddy_190  TotalNPK_315  \\\n",
       "0                         782    513.822990   \n",
       "1                         736    167.835355   \n",
       "2                        4468    257.908893   \n",
       "3                        1297    183.032957   \n",
       "4                       98259  21197.529550   \n",
       "\n",
       "   NetAreaIrrigated_Canals_NetAreaIrrigated_173  \n",
       "0                                      0.000000  \n",
       "1                                      0.000000  \n",
       "2                                    272.509463  \n",
       "3                                      9.283245  \n",
       "4                                  18037.386430  "
      ]
     },
     "execution_count": 28,
     "metadata": {},
     "output_type": "execute_result"
    }
   ],
   "source": [
    "Case_file = pd.read_csv('Params/3_parameters_multicollinearity_rice.csv')\n",
    "y = Working_Directory['Rice_Production']\n",
    "Case_file[:5]"
   ]
  },
  {
   "cell_type": "code",
   "execution_count": 29,
   "metadata": {},
   "outputs": [
    {
     "data": {
      "text/html": [
       "<div>\n",
       "<style scoped>\n",
       "    .dataframe tbody tr th:only-of-type {\n",
       "        vertical-align: middle;\n",
       "    }\n",
       "\n",
       "    .dataframe tbody tr th {\n",
       "        vertical-align: top;\n",
       "    }\n",
       "\n",
       "    .dataframe thead th {\n",
       "        text-align: right;\n",
       "    }\n",
       "</style>\n",
       "<table border=\"1\" class=\"dataframe\">\n",
       "  <thead>\n",
       "    <tr style=\"text-align: right;\">\n",
       "      <th></th>\n",
       "      <th>AreaUnderCereals_Paddy_190</th>\n",
       "      <th>TotalNPK_315</th>\n",
       "      <th>NetAreaIrrigated_Canals_NetAreaIrrigated_173</th>\n",
       "    </tr>\n",
       "  </thead>\n",
       "  <tbody>\n",
       "    <tr>\n",
       "      <th>24</th>\n",
       "      <td>46832.5</td>\n",
       "      <td>16648.820500</td>\n",
       "      <td>10476.570900</td>\n",
       "    </tr>\n",
       "    <tr>\n",
       "      <th>25</th>\n",
       "      <td>1548.0</td>\n",
       "      <td>181.920490</td>\n",
       "      <td>0.000000</td>\n",
       "    </tr>\n",
       "    <tr>\n",
       "      <th>26</th>\n",
       "      <td>4199.0</td>\n",
       "      <td>383.098388</td>\n",
       "      <td>148.020607</td>\n",
       "    </tr>\n",
       "    <tr>\n",
       "      <th>27</th>\n",
       "      <td>49358.0</td>\n",
       "      <td>30981.381240</td>\n",
       "      <td>30897.307860</td>\n",
       "    </tr>\n",
       "    <tr>\n",
       "      <th>28</th>\n",
       "      <td>115246.0</td>\n",
       "      <td>41912.073070</td>\n",
       "      <td>39866.073200</td>\n",
       "    </tr>\n",
       "    <tr>\n",
       "      <th>29</th>\n",
       "      <td>50753.0</td>\n",
       "      <td>14075.849460</td>\n",
       "      <td>7221.642581</td>\n",
       "    </tr>\n",
       "    <tr>\n",
       "      <th>30</th>\n",
       "      <td>46832.5</td>\n",
       "      <td>16648.820500</td>\n",
       "      <td>10476.570900</td>\n",
       "    </tr>\n",
       "  </tbody>\n",
       "</table>\n",
       "</div>"
      ],
      "text/plain": [
       "    AreaUnderCereals_Paddy_190  TotalNPK_315  \\\n",
       "24                     46832.5  16648.820500   \n",
       "25                      1548.0    181.920490   \n",
       "26                      4199.0    383.098388   \n",
       "27                     49358.0  30981.381240   \n",
       "28                    115246.0  41912.073070   \n",
       "29                     50753.0  14075.849460   \n",
       "30                     46832.5  16648.820500   \n",
       "\n",
       "    NetAreaIrrigated_Canals_NetAreaIrrigated_173  \n",
       "24                                  10476.570900  \n",
       "25                                      0.000000  \n",
       "26                                    148.020607  \n",
       "27                                  30897.307860  \n",
       "28                                  39866.073200  \n",
       "29                                   7221.642581  \n",
       "30                                  10476.570900  "
      ]
     },
     "execution_count": 29,
     "metadata": {},
     "output_type": "execute_result"
    }
   ],
   "source": [
    "if(len(Case_file) < 31):\n",
    "    row_24 = Case_file.iloc[24]\n",
    "    halved_row_24 = row_24 / 2\n",
    "    Case_file.iloc[24] = halved_row_24\n",
    "    Case_file.loc[len(Case_file)] = halved_row_24\n",
    "\n",
    "Case_file[24:]"
   ]
  },
  {
   "cell_type": "code",
   "execution_count": 30,
   "metadata": {},
   "outputs": [
    {
     "data": {
      "text/html": [
       "<div>\n",
       "<style scoped>\n",
       "    .dataframe tbody tr th:only-of-type {\n",
       "        vertical-align: middle;\n",
       "    }\n",
       "\n",
       "    .dataframe tbody tr th {\n",
       "        vertical-align: top;\n",
       "    }\n",
       "\n",
       "    .dataframe thead th {\n",
       "        text-align: right;\n",
       "    }\n",
       "</style>\n",
       "<table border=\"1\" class=\"dataframe\">\n",
       "  <thead>\n",
       "    <tr style=\"text-align: right;\">\n",
       "      <th></th>\n",
       "      <th>const</th>\n",
       "      <th>AreaUnderCereals_Paddy_190</th>\n",
       "      <th>TotalNPK_315</th>\n",
       "      <th>NetAreaIrrigated_Canals_NetAreaIrrigated_173</th>\n",
       "    </tr>\n",
       "  </thead>\n",
       "  <tbody>\n",
       "    <tr>\n",
       "      <th>0</th>\n",
       "      <td>1.0</td>\n",
       "      <td>782.0</td>\n",
       "      <td>513.822990</td>\n",
       "      <td>0.000000</td>\n",
       "    </tr>\n",
       "    <tr>\n",
       "      <th>1</th>\n",
       "      <td>1.0</td>\n",
       "      <td>736.0</td>\n",
       "      <td>167.835355</td>\n",
       "      <td>0.000000</td>\n",
       "    </tr>\n",
       "    <tr>\n",
       "      <th>2</th>\n",
       "      <td>1.0</td>\n",
       "      <td>4468.0</td>\n",
       "      <td>257.908893</td>\n",
       "      <td>272.509463</td>\n",
       "    </tr>\n",
       "    <tr>\n",
       "      <th>3</th>\n",
       "      <td>1.0</td>\n",
       "      <td>1297.0</td>\n",
       "      <td>183.032957</td>\n",
       "      <td>9.283245</td>\n",
       "    </tr>\n",
       "    <tr>\n",
       "      <th>4</th>\n",
       "      <td>1.0</td>\n",
       "      <td>98259.0</td>\n",
       "      <td>21197.529550</td>\n",
       "      <td>18037.386430</td>\n",
       "    </tr>\n",
       "  </tbody>\n",
       "</table>\n",
       "</div>"
      ],
      "text/plain": [
       "   const  AreaUnderCereals_Paddy_190  TotalNPK_315  \\\n",
       "0    1.0                       782.0    513.822990   \n",
       "1    1.0                       736.0    167.835355   \n",
       "2    1.0                      4468.0    257.908893   \n",
       "3    1.0                      1297.0    183.032957   \n",
       "4    1.0                     98259.0  21197.529550   \n",
       "\n",
       "   NetAreaIrrigated_Canals_NetAreaIrrigated_173  \n",
       "0                                      0.000000  \n",
       "1                                      0.000000  \n",
       "2                                    272.509463  \n",
       "3                                      9.283245  \n",
       "4                                  18037.386430  "
      ]
     },
     "execution_count": 30,
     "metadata": {},
     "output_type": "execute_result"
    }
   ],
   "source": [
    "Case_file =sm.add_constant(Case_file)\n",
    "Case_file.head()"
   ]
  },
  {
   "cell_type": "code",
   "execution_count": 31,
   "metadata": {},
   "outputs": [
    {
     "name": "stdout",
     "output_type": "stream",
     "text": [
      "                            OLS Regression Results                            \n",
      "==============================================================================\n",
      "Dep. Variable:        Rice_Production   R-squared:                       0.955\n",
      "Model:                            OLS   Adj. R-squared:                  0.950\n",
      "Method:                 Least Squares   F-statistic:                     192.7\n",
      "Date:                Mon, 16 Sep 2024   Prob (F-statistic):           2.44e-18\n",
      "Time:                        19:59:44   Log-Likelihood:                -363.68\n",
      "No. Observations:                  31   AIC:                             735.4\n",
      "Df Residuals:                      27   BIC:                             741.1\n",
      "Df Model:                           3                                         \n",
      "Covariance Type:            nonrobust                                         \n",
      "================================================================================================================\n",
      "                                                   coef    std err          t      P>|t|      [0.025      0.975]\n",
      "----------------------------------------------------------------------------------------------------------------\n",
      "const                                        -7892.6264   8681.188     -0.909      0.371   -2.57e+04    9919.700\n",
      "AreaUnderCereals_Paddy_190                       3.1595      0.291     10.856      0.000       2.562       3.757\n",
      "TotalNPK_315                                     0.9877      1.405      0.703      0.488      -1.895       3.870\n",
      "NetAreaIrrigated_Canals_NetAreaIrrigated_173     2.6463      1.142      2.317      0.028       0.302       4.990\n",
      "==============================================================================\n",
      "Omnibus:                       26.382   Durbin-Watson:                   1.779\n",
      "Prob(Omnibus):                  0.000   Jarque-Bera (JB):               59.172\n",
      "Skew:                           1.797   Prob(JB):                     1.42e-13\n",
      "Kurtosis:                       8.736   Cond. No.                     7.81e+04\n",
      "==============================================================================\n",
      "\n",
      "Notes:\n",
      "[1] Standard Errors assume that the covariance matrix of the errors is correctly specified.\n",
      "[2] The condition number is large, 7.81e+04. This might indicate that there are\n",
      "strong multicollinearity or other numerical problems.\n"
     ]
    },
    {
     "data": {
      "text/plain": [
       "array([3.15951417, 0.98772673, 2.64630488])"
      ]
     },
     "execution_count": 31,
     "metadata": {},
     "output_type": "execute_result"
    }
   ],
   "source": [
    "model=sm.OLS(y,Case_file).fit()\n",
    "print(model.summary())\n",
    "model.params.values\n",
    "coef=model.params.values[1:]\n",
    "coef"
   ]
  },
  {
   "cell_type": "code",
   "execution_count": 32,
   "metadata": {},
   "outputs": [
    {
     "data": {
      "text/html": [
       "<div>\n",
       "<style scoped>\n",
       "    .dataframe tbody tr th:only-of-type {\n",
       "        vertical-align: middle;\n",
       "    }\n",
       "\n",
       "    .dataframe tbody tr th {\n",
       "        vertical-align: top;\n",
       "    }\n",
       "\n",
       "    .dataframe thead th {\n",
       "        text-align: right;\n",
       "    }\n",
       "</style>\n",
       "<table border=\"1\" class=\"dataframe\">\n",
       "  <thead>\n",
       "    <tr style=\"text-align: right;\">\n",
       "      <th></th>\n",
       "      <th>AreaUnderCereals_Paddy_190</th>\n",
       "      <th>TotalNPK_315</th>\n",
       "      <th>NetAreaIrrigated_Canals_NetAreaIrrigated_173</th>\n",
       "    </tr>\n",
       "  </thead>\n",
       "  <tbody>\n",
       "    <tr>\n",
       "      <th>0</th>\n",
       "      <td>782.0</td>\n",
       "      <td>513.822990</td>\n",
       "      <td>0.000000</td>\n",
       "    </tr>\n",
       "    <tr>\n",
       "      <th>1</th>\n",
       "      <td>736.0</td>\n",
       "      <td>167.835355</td>\n",
       "      <td>0.000000</td>\n",
       "    </tr>\n",
       "    <tr>\n",
       "      <th>2</th>\n",
       "      <td>4468.0</td>\n",
       "      <td>257.908893</td>\n",
       "      <td>272.509463</td>\n",
       "    </tr>\n",
       "    <tr>\n",
       "      <th>3</th>\n",
       "      <td>1297.0</td>\n",
       "      <td>183.032957</td>\n",
       "      <td>9.283245</td>\n",
       "    </tr>\n",
       "    <tr>\n",
       "      <th>4</th>\n",
       "      <td>98259.0</td>\n",
       "      <td>21197.529550</td>\n",
       "      <td>18037.386430</td>\n",
       "    </tr>\n",
       "  </tbody>\n",
       "</table>\n",
       "</div>"
      ],
      "text/plain": [
       "   AreaUnderCereals_Paddy_190  TotalNPK_315  \\\n",
       "0                       782.0    513.822990   \n",
       "1                       736.0    167.835355   \n",
       "2                      4468.0    257.908893   \n",
       "3                      1297.0    183.032957   \n",
       "4                     98259.0  21197.529550   \n",
       "\n",
       "   NetAreaIrrigated_Canals_NetAreaIrrigated_173  \n",
       "0                                      0.000000  \n",
       "1                                      0.000000  \n",
       "2                                    272.509463  \n",
       "3                                      9.283245  \n",
       "4                                  18037.386430  "
      ]
     },
     "execution_count": 32,
     "metadata": {},
     "output_type": "execute_result"
    }
   ],
   "source": [
    "Case_file.drop('const',axis=1,inplace=True)\n",
    "Case_file[:5]"
   ]
  },
  {
   "cell_type": "code",
   "execution_count": 33,
   "metadata": {},
   "outputs": [
    {
     "data": {
      "text/plain": [
       "<itertools.product at 0x27559d78200>"
      ]
     },
     "execution_count": 33,
     "metadata": {},
     "output_type": "execute_result"
    }
   ],
   "source": [
    "Case_file.loc[:,'Beta_0'] = model.params.values[0]\n",
    "Case_file.loc[:,'Beta_1'] = coef[0]\n",
    "Case_file.loc[:,'Beta_2'] = coef[1]\n",
    "Case_file.loc[:,'Beta_3'] = coef[2]\n",
    "\n",
    "intervals = np.arange(0, 1.1, 0.1)\n",
    "columns=['Sensitivity_AreaUnderCereals_Paddy_190', 'Sensitivity_TotalNPK_315','Sensitivity_NetAreaIrrigated_Canals_NetAreaIrrigated_173']\n",
    "# Generate all possible combinations of elements in arr\n",
    "combinations = product(intervals, repeat=len(columns))\n",
    "combinations"
   ]
  },
  {
   "cell_type": "code",
   "execution_count": 34,
   "metadata": {},
   "outputs": [
    {
     "data": {
      "text/html": [
       "<div>\n",
       "<style scoped>\n",
       "    .dataframe tbody tr th:only-of-type {\n",
       "        vertical-align: middle;\n",
       "    }\n",
       "\n",
       "    .dataframe tbody tr th {\n",
       "        vertical-align: top;\n",
       "    }\n",
       "\n",
       "    .dataframe thead th {\n",
       "        text-align: right;\n",
       "    }\n",
       "</style>\n",
       "<table border=\"1\" class=\"dataframe\">\n",
       "  <thead>\n",
       "    <tr style=\"text-align: right;\">\n",
       "      <th></th>\n",
       "      <th>Sensitivity_AreaUnderCereals_Paddy_190</th>\n",
       "      <th>Sensitivity_TotalNPK_315</th>\n",
       "      <th>Sensitivity_NetAreaIrrigated_Canals_NetAreaIrrigated_173</th>\n",
       "    </tr>\n",
       "  </thead>\n",
       "  <tbody>\n",
       "    <tr>\n",
       "      <th>0</th>\n",
       "      <td>0.0</td>\n",
       "      <td>0.0</td>\n",
       "      <td>0.0</td>\n",
       "    </tr>\n",
       "    <tr>\n",
       "      <th>1</th>\n",
       "      <td>0.0</td>\n",
       "      <td>0.0</td>\n",
       "      <td>0.1</td>\n",
       "    </tr>\n",
       "    <tr>\n",
       "      <th>2</th>\n",
       "      <td>0.0</td>\n",
       "      <td>0.0</td>\n",
       "      <td>0.2</td>\n",
       "    </tr>\n",
       "    <tr>\n",
       "      <th>3</th>\n",
       "      <td>0.0</td>\n",
       "      <td>0.0</td>\n",
       "      <td>0.3</td>\n",
       "    </tr>\n",
       "    <tr>\n",
       "      <th>4</th>\n",
       "      <td>0.0</td>\n",
       "      <td>0.0</td>\n",
       "      <td>0.4</td>\n",
       "    </tr>\n",
       "    <tr>\n",
       "      <th>...</th>\n",
       "      <td>...</td>\n",
       "      <td>...</td>\n",
       "      <td>...</td>\n",
       "    </tr>\n",
       "    <tr>\n",
       "      <th>1326</th>\n",
       "      <td>1.0</td>\n",
       "      <td>1.0</td>\n",
       "      <td>0.6</td>\n",
       "    </tr>\n",
       "    <tr>\n",
       "      <th>1327</th>\n",
       "      <td>1.0</td>\n",
       "      <td>1.0</td>\n",
       "      <td>0.7</td>\n",
       "    </tr>\n",
       "    <tr>\n",
       "      <th>1328</th>\n",
       "      <td>1.0</td>\n",
       "      <td>1.0</td>\n",
       "      <td>0.8</td>\n",
       "    </tr>\n",
       "    <tr>\n",
       "      <th>1329</th>\n",
       "      <td>1.0</td>\n",
       "      <td>1.0</td>\n",
       "      <td>0.9</td>\n",
       "    </tr>\n",
       "    <tr>\n",
       "      <th>1330</th>\n",
       "      <td>1.0</td>\n",
       "      <td>1.0</td>\n",
       "      <td>1.0</td>\n",
       "    </tr>\n",
       "  </tbody>\n",
       "</table>\n",
       "<p>1331 rows × 3 columns</p>\n",
       "</div>"
      ],
      "text/plain": [
       "      Sensitivity_AreaUnderCereals_Paddy_190  Sensitivity_TotalNPK_315  \\\n",
       "0                                        0.0                       0.0   \n",
       "1                                        0.0                       0.0   \n",
       "2                                        0.0                       0.0   \n",
       "3                                        0.0                       0.0   \n",
       "4                                        0.0                       0.0   \n",
       "...                                      ...                       ...   \n",
       "1326                                     1.0                       1.0   \n",
       "1327                                     1.0                       1.0   \n",
       "1328                                     1.0                       1.0   \n",
       "1329                                     1.0                       1.0   \n",
       "1330                                     1.0                       1.0   \n",
       "\n",
       "      Sensitivity_NetAreaIrrigated_Canals_NetAreaIrrigated_173  \n",
       "0                                                   0.0         \n",
       "1                                                   0.1         \n",
       "2                                                   0.2         \n",
       "3                                                   0.3         \n",
       "4                                                   0.4         \n",
       "...                                                 ...         \n",
       "1326                                                0.6         \n",
       "1327                                                0.7         \n",
       "1328                                                0.8         \n",
       "1329                                                0.9         \n",
       "1330                                                1.0         \n",
       "\n",
       "[1331 rows x 3 columns]"
      ]
     },
     "execution_count": 34,
     "metadata": {},
     "output_type": "execute_result"
    }
   ],
   "source": [
    "alpha_df = pd.DataFrame(combinations, columns=columns)\n",
    "alpha_df"
   ]
  },
  {
   "cell_type": "code",
   "execution_count": 35,
   "metadata": {},
   "outputs": [
    {
     "name": "stdout",
     "output_type": "stream",
     "text": [
      "       Sensitivity_AreaUnderCereals_Paddy_190  Sensitivity_TotalNPK_315  \\\n",
      "0                                         0.0                       0.0   \n",
      "1                                         0.0                       0.0   \n",
      "2                                         0.0                       0.0   \n",
      "3                                         0.0                       0.0   \n",
      "4                                         0.0                       0.0   \n",
      "...                                       ...                       ...   \n",
      "41256                                     1.0                       1.0   \n",
      "41257                                     1.0                       1.0   \n",
      "41258                                     1.0                       1.0   \n",
      "41259                                     1.0                       1.0   \n",
      "41260                                     1.0                       1.0   \n",
      "\n",
      "       Sensitivity_NetAreaIrrigated_Canals_NetAreaIrrigated_173  \\\n",
      "0                                                    0.0          \n",
      "1                                                    0.0          \n",
      "2                                                    0.0          \n",
      "3                                                    0.0          \n",
      "4                                                    0.0          \n",
      "...                                                  ...          \n",
      "41256                                                1.0          \n",
      "41257                                                1.0          \n",
      "41258                                                1.0          \n",
      "41259                                                1.0          \n",
      "41260                                                1.0          \n",
      "\n",
      "       AreaUnderCereals_Paddy_190  TotalNPK_315  \\\n",
      "0                           782.0    513.822990   \n",
      "1                           736.0    167.835355   \n",
      "2                          4468.0    257.908893   \n",
      "3                          1297.0    183.032957   \n",
      "4                         98259.0  21197.529550   \n",
      "...                           ...           ...   \n",
      "41256                      4199.0    383.098388   \n",
      "41257                     49358.0  30981.381240   \n",
      "41258                    115246.0  41912.073070   \n",
      "41259                     50753.0  14075.849460   \n",
      "41260                     46832.5  16648.820500   \n",
      "\n",
      "       NetAreaIrrigated_Canals_NetAreaIrrigated_173       Beta_0    Beta_1  \\\n",
      "0                                          0.000000 -7892.626361  3.159514   \n",
      "1                                          0.000000 -7892.626361  3.159514   \n",
      "2                                        272.509463 -7892.626361  3.159514   \n",
      "3                                          9.283245 -7892.626361  3.159514   \n",
      "4                                      18037.386430 -7892.626361  3.159514   \n",
      "...                                             ...          ...       ...   \n",
      "41256                                    148.020607 -7892.626361  3.159514   \n",
      "41257                                  30897.307860 -7892.626361  3.159514   \n",
      "41258                                  39866.073200 -7892.626361  3.159514   \n",
      "41259                                   7221.642581 -7892.626361  3.159514   \n",
      "41260                                  10476.570900 -7892.626361  3.159514   \n",
      "\n",
      "         Beta_2    Beta_3  \n",
      "0      0.987727  2.646305  \n",
      "1      0.987727  2.646305  \n",
      "2      0.987727  2.646305  \n",
      "3      0.987727  2.646305  \n",
      "4      0.987727  2.646305  \n",
      "...         ...       ...  \n",
      "41256  0.987727  2.646305  \n",
      "41257  0.987727  2.646305  \n",
      "41258  0.987727  2.646305  \n",
      "41259  0.987727  2.646305  \n",
      "41260  0.987727  2.646305  \n",
      "\n",
      "[41261 rows x 10 columns]\n"
     ]
    }
   ],
   "source": [
    "Case_file['key'] = 1\n",
    "alpha_df['key'] = 1\n",
    "\n",
    "# Performing the Cartesian product\n",
    "result_df = pd.merge( alpha_df, Case_file, on='key').drop('key', axis=1)\n",
    "\n",
    "print(result_df)"
   ]
  },
  {
   "cell_type": "code",
   "execution_count": 36,
   "metadata": {},
   "outputs": [
    {
     "data": {
      "text/html": [
       "<div>\n",
       "<style scoped>\n",
       "    .dataframe tbody tr th:only-of-type {\n",
       "        vertical-align: middle;\n",
       "    }\n",
       "\n",
       "    .dataframe tbody tr th {\n",
       "        vertical-align: top;\n",
       "    }\n",
       "\n",
       "    .dataframe thead th {\n",
       "        text-align: right;\n",
       "    }\n",
       "</style>\n",
       "<table border=\"1\" class=\"dataframe\">\n",
       "  <thead>\n",
       "    <tr style=\"text-align: right;\">\n",
       "      <th></th>\n",
       "      <th>Sensitivity_AreaUnderCereals_Paddy_190</th>\n",
       "      <th>Sensitivity_TotalNPK_315</th>\n",
       "      <th>Sensitivity_NetAreaIrrigated_Canals_NetAreaIrrigated_173</th>\n",
       "      <th>AreaUnderCereals_Paddy_190</th>\n",
       "      <th>TotalNPK_315</th>\n",
       "      <th>NetAreaIrrigated_Canals_NetAreaIrrigated_173</th>\n",
       "      <th>Beta_0</th>\n",
       "      <th>Beta_1</th>\n",
       "      <th>Beta_2</th>\n",
       "      <th>Beta_3</th>\n",
       "    </tr>\n",
       "  </thead>\n",
       "  <tbody>\n",
       "    <tr>\n",
       "      <th>0</th>\n",
       "      <td>0.0</td>\n",
       "      <td>0.0</td>\n",
       "      <td>0.0</td>\n",
       "      <td>782.0</td>\n",
       "      <td>513.822990</td>\n",
       "      <td>0.000000</td>\n",
       "      <td>-7892.626361</td>\n",
       "      <td>3.159514</td>\n",
       "      <td>0.987727</td>\n",
       "      <td>2.646305</td>\n",
       "    </tr>\n",
       "    <tr>\n",
       "      <th>1</th>\n",
       "      <td>0.0</td>\n",
       "      <td>0.0</td>\n",
       "      <td>0.0</td>\n",
       "      <td>736.0</td>\n",
       "      <td>167.835355</td>\n",
       "      <td>0.000000</td>\n",
       "      <td>-7892.626361</td>\n",
       "      <td>3.159514</td>\n",
       "      <td>0.987727</td>\n",
       "      <td>2.646305</td>\n",
       "    </tr>\n",
       "    <tr>\n",
       "      <th>2</th>\n",
       "      <td>0.0</td>\n",
       "      <td>0.0</td>\n",
       "      <td>0.0</td>\n",
       "      <td>4468.0</td>\n",
       "      <td>257.908893</td>\n",
       "      <td>272.509463</td>\n",
       "      <td>-7892.626361</td>\n",
       "      <td>3.159514</td>\n",
       "      <td>0.987727</td>\n",
       "      <td>2.646305</td>\n",
       "    </tr>\n",
       "    <tr>\n",
       "      <th>3</th>\n",
       "      <td>0.0</td>\n",
       "      <td>0.0</td>\n",
       "      <td>0.0</td>\n",
       "      <td>1297.0</td>\n",
       "      <td>183.032957</td>\n",
       "      <td>9.283245</td>\n",
       "      <td>-7892.626361</td>\n",
       "      <td>3.159514</td>\n",
       "      <td>0.987727</td>\n",
       "      <td>2.646305</td>\n",
       "    </tr>\n",
       "    <tr>\n",
       "      <th>4</th>\n",
       "      <td>0.0</td>\n",
       "      <td>0.0</td>\n",
       "      <td>0.0</td>\n",
       "      <td>98259.0</td>\n",
       "      <td>21197.529550</td>\n",
       "      <td>18037.386430</td>\n",
       "      <td>-7892.626361</td>\n",
       "      <td>3.159514</td>\n",
       "      <td>0.987727</td>\n",
       "      <td>2.646305</td>\n",
       "    </tr>\n",
       "  </tbody>\n",
       "</table>\n",
       "</div>"
      ],
      "text/plain": [
       "   Sensitivity_AreaUnderCereals_Paddy_190  Sensitivity_TotalNPK_315  \\\n",
       "0                                     0.0                       0.0   \n",
       "1                                     0.0                       0.0   \n",
       "2                                     0.0                       0.0   \n",
       "3                                     0.0                       0.0   \n",
       "4                                     0.0                       0.0   \n",
       "\n",
       "   Sensitivity_NetAreaIrrigated_Canals_NetAreaIrrigated_173  \\\n",
       "0                                                0.0          \n",
       "1                                                0.0          \n",
       "2                                                0.0          \n",
       "3                                                0.0          \n",
       "4                                                0.0          \n",
       "\n",
       "   AreaUnderCereals_Paddy_190  TotalNPK_315  \\\n",
       "0                       782.0    513.822990   \n",
       "1                       736.0    167.835355   \n",
       "2                      4468.0    257.908893   \n",
       "3                      1297.0    183.032957   \n",
       "4                     98259.0  21197.529550   \n",
       "\n",
       "   NetAreaIrrigated_Canals_NetAreaIrrigated_173       Beta_0    Beta_1  \\\n",
       "0                                      0.000000 -7892.626361  3.159514   \n",
       "1                                      0.000000 -7892.626361  3.159514   \n",
       "2                                    272.509463 -7892.626361  3.159514   \n",
       "3                                      9.283245 -7892.626361  3.159514   \n",
       "4                                  18037.386430 -7892.626361  3.159514   \n",
       "\n",
       "     Beta_2    Beta_3  \n",
       "0  0.987727  2.646305  \n",
       "1  0.987727  2.646305  \n",
       "2  0.987727  2.646305  \n",
       "3  0.987727  2.646305  \n",
       "4  0.987727  2.646305  "
      ]
     },
     "execution_count": 36,
     "metadata": {},
     "output_type": "execute_result"
    }
   ],
   "source": [
    "result_df.head()"
   ]
  },
  {
   "cell_type": "code",
   "execution_count": 37,
   "metadata": {},
   "outputs": [
    {
     "data": {
      "text/plain": [
       "131114.06451612903"
      ]
     },
     "execution_count": 37,
     "metadata": {},
     "output_type": "execute_result"
    }
   ],
   "source": [
    "Working_Directory['Rice_Production'].mean()"
   ]
  },
  {
   "cell_type": "code",
   "execution_count": 38,
   "metadata": {},
   "outputs": [
    {
     "data": {
      "text/html": [
       "<div>\n",
       "<style scoped>\n",
       "    .dataframe tbody tr th:only-of-type {\n",
       "        vertical-align: middle;\n",
       "    }\n",
       "\n",
       "    .dataframe tbody tr th {\n",
       "        vertical-align: top;\n",
       "    }\n",
       "\n",
       "    .dataframe thead th {\n",
       "        text-align: right;\n",
       "    }\n",
       "</style>\n",
       "<table border=\"1\" class=\"dataframe\">\n",
       "  <thead>\n",
       "    <tr style=\"text-align: right;\">\n",
       "      <th></th>\n",
       "      <th>Sensitivity_AreaUnderCereals_Paddy_190</th>\n",
       "      <th>Sensitivity_TotalNPK_315</th>\n",
       "      <th>Sensitivity_NetAreaIrrigated_Canals_NetAreaIrrigated_173</th>\n",
       "      <th>AreaUnderCereals_Paddy_190</th>\n",
       "      <th>TotalNPK_315</th>\n",
       "      <th>NetAreaIrrigated_Canals_NetAreaIrrigated_173</th>\n",
       "      <th>Beta_0</th>\n",
       "      <th>Beta_1</th>\n",
       "      <th>Beta_2</th>\n",
       "      <th>Beta_3</th>\n",
       "      <th>New_F1</th>\n",
       "      <th>New_F2</th>\n",
       "      <th>New_F3</th>\n",
       "      <th>District</th>\n",
       "    </tr>\n",
       "  </thead>\n",
       "  <tbody>\n",
       "    <tr>\n",
       "      <th>0</th>\n",
       "      <td>0.0</td>\n",
       "      <td>0.0</td>\n",
       "      <td>0.0</td>\n",
       "      <td>782.0</td>\n",
       "      <td>513.822990</td>\n",
       "      <td>0.000000</td>\n",
       "      <td>-7892.626361</td>\n",
       "      <td>3.159514</td>\n",
       "      <td>0.987727</td>\n",
       "      <td>2.646305</td>\n",
       "      <td>782.000000</td>\n",
       "      <td>513.822990</td>\n",
       "      <td>0.000000</td>\n",
       "      <td>BENGALURU</td>\n",
       "    </tr>\n",
       "    <tr>\n",
       "      <th>1</th>\n",
       "      <td>0.0</td>\n",
       "      <td>0.0</td>\n",
       "      <td>0.0</td>\n",
       "      <td>736.0</td>\n",
       "      <td>167.835355</td>\n",
       "      <td>0.000000</td>\n",
       "      <td>-7892.626361</td>\n",
       "      <td>3.159514</td>\n",
       "      <td>0.987727</td>\n",
       "      <td>2.646305</td>\n",
       "      <td>736.000000</td>\n",
       "      <td>167.835355</td>\n",
       "      <td>0.000000</td>\n",
       "      <td>BENGALURU(R)</td>\n",
       "    </tr>\n",
       "    <tr>\n",
       "      <th>2</th>\n",
       "      <td>0.0</td>\n",
       "      <td>0.0</td>\n",
       "      <td>0.0</td>\n",
       "      <td>4468.0</td>\n",
       "      <td>257.908893</td>\n",
       "      <td>272.509463</td>\n",
       "      <td>-7892.626361</td>\n",
       "      <td>3.159514</td>\n",
       "      <td>0.987727</td>\n",
       "      <td>2.646305</td>\n",
       "      <td>4468.000000</td>\n",
       "      <td>257.908893</td>\n",
       "      <td>272.509463</td>\n",
       "      <td>RAMANAGARA</td>\n",
       "    </tr>\n",
       "    <tr>\n",
       "      <th>3</th>\n",
       "      <td>0.0</td>\n",
       "      <td>0.0</td>\n",
       "      <td>0.0</td>\n",
       "      <td>1297.0</td>\n",
       "      <td>183.032957</td>\n",
       "      <td>9.283245</td>\n",
       "      <td>-7892.626361</td>\n",
       "      <td>3.159514</td>\n",
       "      <td>0.987727</td>\n",
       "      <td>2.646305</td>\n",
       "      <td>1297.000000</td>\n",
       "      <td>183.032957</td>\n",
       "      <td>9.283245</td>\n",
       "      <td>CHITRADURGA</td>\n",
       "    </tr>\n",
       "    <tr>\n",
       "      <th>4</th>\n",
       "      <td>0.0</td>\n",
       "      <td>0.0</td>\n",
       "      <td>0.0</td>\n",
       "      <td>98259.0</td>\n",
       "      <td>21197.529550</td>\n",
       "      <td>18037.386430</td>\n",
       "      <td>-7892.626361</td>\n",
       "      <td>3.159514</td>\n",
       "      <td>0.987727</td>\n",
       "      <td>2.646305</td>\n",
       "      <td>98259.000000</td>\n",
       "      <td>21197.529550</td>\n",
       "      <td>18037.386430</td>\n",
       "      <td>DAVANAGERE</td>\n",
       "    </tr>\n",
       "    <tr>\n",
       "      <th>...</th>\n",
       "      <td>...</td>\n",
       "      <td>...</td>\n",
       "      <td>...</td>\n",
       "      <td>...</td>\n",
       "      <td>...</td>\n",
       "      <td>...</td>\n",
       "      <td>...</td>\n",
       "      <td>...</td>\n",
       "      <td>...</td>\n",
       "      <td>...</td>\n",
       "      <td>...</td>\n",
       "      <td>...</td>\n",
       "      <td>...</td>\n",
       "      <td>...</td>\n",
       "    </tr>\n",
       "    <tr>\n",
       "      <th>41256</th>\n",
       "      <td>1.0</td>\n",
       "      <td>1.0</td>\n",
       "      <td>1.0</td>\n",
       "      <td>4199.0</td>\n",
       "      <td>383.098388</td>\n",
       "      <td>148.020607</td>\n",
       "      <td>-7892.626361</td>\n",
       "      <td>3.159514</td>\n",
       "      <td>0.987727</td>\n",
       "      <td>2.646305</td>\n",
       "      <td>5781.521781</td>\n",
       "      <td>5445.227279</td>\n",
       "      <td>2037.447645</td>\n",
       "      <td>KALABURAGI</td>\n",
       "    </tr>\n",
       "    <tr>\n",
       "      <th>41257</th>\n",
       "      <td>1.0</td>\n",
       "      <td>1.0</td>\n",
       "      <td>1.0</td>\n",
       "      <td>49358.0</td>\n",
       "      <td>30981.381240</td>\n",
       "      <td>30897.307860</td>\n",
       "      <td>-7892.626361</td>\n",
       "      <td>3.159514</td>\n",
       "      <td>0.987727</td>\n",
       "      <td>2.646305</td>\n",
       "      <td>50940.521781</td>\n",
       "      <td>36043.510131</td>\n",
       "      <td>32786.734898</td>\n",
       "      <td>YADGIRI</td>\n",
       "    </tr>\n",
       "    <tr>\n",
       "      <th>41258</th>\n",
       "      <td>1.0</td>\n",
       "      <td>1.0</td>\n",
       "      <td>1.0</td>\n",
       "      <td>115246.0</td>\n",
       "      <td>41912.073070</td>\n",
       "      <td>39866.073200</td>\n",
       "      <td>-7892.626361</td>\n",
       "      <td>3.159514</td>\n",
       "      <td>0.987727</td>\n",
       "      <td>2.646305</td>\n",
       "      <td>116828.521781</td>\n",
       "      <td>46974.201961</td>\n",
       "      <td>41755.500238</td>\n",
       "      <td>RAICHUR</td>\n",
       "    </tr>\n",
       "    <tr>\n",
       "      <th>41259</th>\n",
       "      <td>1.0</td>\n",
       "      <td>1.0</td>\n",
       "      <td>1.0</td>\n",
       "      <td>50753.0</td>\n",
       "      <td>14075.849460</td>\n",
       "      <td>7221.642581</td>\n",
       "      <td>-7892.626361</td>\n",
       "      <td>3.159514</td>\n",
       "      <td>0.987727</td>\n",
       "      <td>2.646305</td>\n",
       "      <td>52335.521781</td>\n",
       "      <td>19137.978351</td>\n",
       "      <td>9111.069619</td>\n",
       "      <td>KOPPAL</td>\n",
       "    </tr>\n",
       "    <tr>\n",
       "      <th>41260</th>\n",
       "      <td>1.0</td>\n",
       "      <td>1.0</td>\n",
       "      <td>1.0</td>\n",
       "      <td>46832.5</td>\n",
       "      <td>16648.820500</td>\n",
       "      <td>10476.570900</td>\n",
       "      <td>-7892.626361</td>\n",
       "      <td>3.159514</td>\n",
       "      <td>0.987727</td>\n",
       "      <td>2.646305</td>\n",
       "      <td>48415.021781</td>\n",
       "      <td>21710.949391</td>\n",
       "      <td>12365.997938</td>\n",
       "      <td>VIJAYANAGARA</td>\n",
       "    </tr>\n",
       "  </tbody>\n",
       "</table>\n",
       "<p>41261 rows × 14 columns</p>\n",
       "</div>"
      ],
      "text/plain": [
       "       Sensitivity_AreaUnderCereals_Paddy_190  Sensitivity_TotalNPK_315  \\\n",
       "0                                         0.0                       0.0   \n",
       "1                                         0.0                       0.0   \n",
       "2                                         0.0                       0.0   \n",
       "3                                         0.0                       0.0   \n",
       "4                                         0.0                       0.0   \n",
       "...                                       ...                       ...   \n",
       "41256                                     1.0                       1.0   \n",
       "41257                                     1.0                       1.0   \n",
       "41258                                     1.0                       1.0   \n",
       "41259                                     1.0                       1.0   \n",
       "41260                                     1.0                       1.0   \n",
       "\n",
       "       Sensitivity_NetAreaIrrigated_Canals_NetAreaIrrigated_173  \\\n",
       "0                                                    0.0          \n",
       "1                                                    0.0          \n",
       "2                                                    0.0          \n",
       "3                                                    0.0          \n",
       "4                                                    0.0          \n",
       "...                                                  ...          \n",
       "41256                                                1.0          \n",
       "41257                                                1.0          \n",
       "41258                                                1.0          \n",
       "41259                                                1.0          \n",
       "41260                                                1.0          \n",
       "\n",
       "       AreaUnderCereals_Paddy_190  TotalNPK_315  \\\n",
       "0                           782.0    513.822990   \n",
       "1                           736.0    167.835355   \n",
       "2                          4468.0    257.908893   \n",
       "3                          1297.0    183.032957   \n",
       "4                         98259.0  21197.529550   \n",
       "...                           ...           ...   \n",
       "41256                      4199.0    383.098388   \n",
       "41257                     49358.0  30981.381240   \n",
       "41258                    115246.0  41912.073070   \n",
       "41259                     50753.0  14075.849460   \n",
       "41260                     46832.5  16648.820500   \n",
       "\n",
       "       NetAreaIrrigated_Canals_NetAreaIrrigated_173       Beta_0    Beta_1  \\\n",
       "0                                          0.000000 -7892.626361  3.159514   \n",
       "1                                          0.000000 -7892.626361  3.159514   \n",
       "2                                        272.509463 -7892.626361  3.159514   \n",
       "3                                          9.283245 -7892.626361  3.159514   \n",
       "4                                      18037.386430 -7892.626361  3.159514   \n",
       "...                                             ...          ...       ...   \n",
       "41256                                    148.020607 -7892.626361  3.159514   \n",
       "41257                                  30897.307860 -7892.626361  3.159514   \n",
       "41258                                  39866.073200 -7892.626361  3.159514   \n",
       "41259                                   7221.642581 -7892.626361  3.159514   \n",
       "41260                                  10476.570900 -7892.626361  3.159514   \n",
       "\n",
       "         Beta_2    Beta_3         New_F1        New_F2        New_F3  \\\n",
       "0      0.987727  2.646305     782.000000    513.822990      0.000000   \n",
       "1      0.987727  2.646305     736.000000    167.835355      0.000000   \n",
       "2      0.987727  2.646305    4468.000000    257.908893    272.509463   \n",
       "3      0.987727  2.646305    1297.000000    183.032957      9.283245   \n",
       "4      0.987727  2.646305   98259.000000  21197.529550  18037.386430   \n",
       "...         ...       ...            ...           ...           ...   \n",
       "41256  0.987727  2.646305    5781.521781   5445.227279   2037.447645   \n",
       "41257  0.987727  2.646305   50940.521781  36043.510131  32786.734898   \n",
       "41258  0.987727  2.646305  116828.521781  46974.201961  41755.500238   \n",
       "41259  0.987727  2.646305   52335.521781  19137.978351   9111.069619   \n",
       "41260  0.987727  2.646305   48415.021781  21710.949391  12365.997938   \n",
       "\n",
       "           District  \n",
       "0         BENGALURU  \n",
       "1      BENGALURU(R)  \n",
       "2        RAMANAGARA  \n",
       "3       CHITRADURGA  \n",
       "4        DAVANAGERE  \n",
       "...             ...  \n",
       "41256    KALABURAGI  \n",
       "41257       YADGIRI  \n",
       "41258       RAICHUR  \n",
       "41259        KOPPAL  \n",
       "41260  VIJAYANAGARA  \n",
       "\n",
       "[41261 rows x 14 columns]"
      ]
     },
     "execution_count": 38,
     "metadata": {},
     "output_type": "execute_result"
    }
   ],
   "source": [
    "delta_O = 5000\n",
    "\n",
    "result_df['New_F1'] = result_df['AreaUnderCereals_Paddy_190'] + (result_df['Sensitivity_AreaUnderCereals_Paddy_190']*delta_O)/result_df['Beta_1']\n",
    "result_df['New_F2'] = result_df['TotalNPK_315'] + (result_df['Sensitivity_TotalNPK_315']*delta_O)/result_df['Beta_2']\n",
    "result_df['New_F3'] = result_df['NetAreaIrrigated_Canals_NetAreaIrrigated_173'] + (result_df['Sensitivity_NetAreaIrrigated_Canals_NetAreaIrrigated_173']*delta_O)/result_df['Beta_3']\n",
    "result_df['District'] = np.tile(Working_Directory['District'],11**3)\n",
    "\n",
    "result_df['New_F1'] = result_df['New_F1'].apply(lambda x: max(0, x))\n",
    "result_df['New_F2'] = result_df['New_F2'].apply(lambda x: max(0, x))\n",
    "result_df['New_F3'] = result_df['New_F3'].apply(lambda x: max(0, x))\n",
    "\n",
    "result_df"
   ]
  },
  {
   "cell_type": "code",
   "execution_count": 39,
   "metadata": {},
   "outputs": [
    {
     "data": {
      "text/html": [
       "<div>\n",
       "<style scoped>\n",
       "    .dataframe tbody tr th:only-of-type {\n",
       "        vertical-align: middle;\n",
       "    }\n",
       "\n",
       "    .dataframe tbody tr th {\n",
       "        vertical-align: top;\n",
       "    }\n",
       "\n",
       "    .dataframe thead th {\n",
       "        text-align: right;\n",
       "    }\n",
       "</style>\n",
       "<table border=\"1\" class=\"dataframe\">\n",
       "  <thead>\n",
       "    <tr style=\"text-align: right;\">\n",
       "      <th></th>\n",
       "      <th>Sensitivity_AreaUnderCereals_Paddy_190</th>\n",
       "      <th>Sensitivity_TotalNPK_315</th>\n",
       "      <th>Sensitivity_NetAreaIrrigated_Canals_NetAreaIrrigated_173</th>\n",
       "      <th>AreaUnderCereals_Paddy_190</th>\n",
       "      <th>TotalNPK_315</th>\n",
       "      <th>NetAreaIrrigated_Canals_NetAreaIrrigated_173</th>\n",
       "      <th>Beta_0</th>\n",
       "      <th>Beta_1</th>\n",
       "      <th>Beta_2</th>\n",
       "      <th>Beta_3</th>\n",
       "      <th>New_F1</th>\n",
       "      <th>New_F2</th>\n",
       "      <th>New_F3</th>\n",
       "      <th>District</th>\n",
       "      <th>New_Production</th>\n",
       "    </tr>\n",
       "  </thead>\n",
       "  <tbody>\n",
       "    <tr>\n",
       "      <th>0</th>\n",
       "      <td>0.0</td>\n",
       "      <td>0.0</td>\n",
       "      <td>0.0</td>\n",
       "      <td>782.0</td>\n",
       "      <td>513.822990</td>\n",
       "      <td>0.000000</td>\n",
       "      <td>-7892.626361</td>\n",
       "      <td>3.159514</td>\n",
       "      <td>0.987727</td>\n",
       "      <td>2.646305</td>\n",
       "      <td>782.000000</td>\n",
       "      <td>513.822990</td>\n",
       "      <td>0.000000</td>\n",
       "      <td>BENGALURU</td>\n",
       "      <td>-4914.369577</td>\n",
       "    </tr>\n",
       "    <tr>\n",
       "      <th>1</th>\n",
       "      <td>0.0</td>\n",
       "      <td>0.0</td>\n",
       "      <td>0.0</td>\n",
       "      <td>736.0</td>\n",
       "      <td>167.835355</td>\n",
       "      <td>0.000000</td>\n",
       "      <td>-7892.626361</td>\n",
       "      <td>3.159514</td>\n",
       "      <td>0.987727</td>\n",
       "      <td>2.646305</td>\n",
       "      <td>736.000000</td>\n",
       "      <td>167.835355</td>\n",
       "      <td>0.000000</td>\n",
       "      <td>BENGALURU(R)</td>\n",
       "      <td>-5401.448463</td>\n",
       "    </tr>\n",
       "    <tr>\n",
       "      <th>2</th>\n",
       "      <td>0.0</td>\n",
       "      <td>0.0</td>\n",
       "      <td>0.0</td>\n",
       "      <td>4468.0</td>\n",
       "      <td>257.908893</td>\n",
       "      <td>272.509463</td>\n",
       "      <td>-7892.626361</td>\n",
       "      <td>3.159514</td>\n",
       "      <td>0.987727</td>\n",
       "      <td>2.646305</td>\n",
       "      <td>4468.000000</td>\n",
       "      <td>257.908893</td>\n",
       "      <td>272.509463</td>\n",
       "      <td>RAMANAGARA</td>\n",
       "      <td>7199.969602</td>\n",
       "    </tr>\n",
       "    <tr>\n",
       "      <th>3</th>\n",
       "      <td>0.0</td>\n",
       "      <td>0.0</td>\n",
       "      <td>0.0</td>\n",
       "      <td>1297.0</td>\n",
       "      <td>183.032957</td>\n",
       "      <td>9.283245</td>\n",
       "      <td>-7892.626361</td>\n",
       "      <td>3.159514</td>\n",
       "      <td>0.987727</td>\n",
       "      <td>2.646305</td>\n",
       "      <td>1297.000000</td>\n",
       "      <td>183.032957</td>\n",
       "      <td>9.283245</td>\n",
       "      <td>CHITRADURGA</td>\n",
       "      <td>-3589.383635</td>\n",
       "    </tr>\n",
       "    <tr>\n",
       "      <th>4</th>\n",
       "      <td>0.0</td>\n",
       "      <td>0.0</td>\n",
       "      <td>0.0</td>\n",
       "      <td>98259.0</td>\n",
       "      <td>21197.529550</td>\n",
       "      <td>18037.386430</td>\n",
       "      <td>-7892.626361</td>\n",
       "      <td>3.159514</td>\n",
       "      <td>0.987727</td>\n",
       "      <td>2.646305</td>\n",
       "      <td>98259.000000</td>\n",
       "      <td>21197.529550</td>\n",
       "      <td>18037.386430</td>\n",
       "      <td>DAVANAGERE</td>\n",
       "      <td>371227.867246</td>\n",
       "    </tr>\n",
       "    <tr>\n",
       "      <th>...</th>\n",
       "      <td>...</td>\n",
       "      <td>...</td>\n",
       "      <td>...</td>\n",
       "      <td>...</td>\n",
       "      <td>...</td>\n",
       "      <td>...</td>\n",
       "      <td>...</td>\n",
       "      <td>...</td>\n",
       "      <td>...</td>\n",
       "      <td>...</td>\n",
       "      <td>...</td>\n",
       "      <td>...</td>\n",
       "      <td>...</td>\n",
       "      <td>...</td>\n",
       "      <td>...</td>\n",
       "    </tr>\n",
       "    <tr>\n",
       "      <th>41256</th>\n",
       "      <td>1.0</td>\n",
       "      <td>1.0</td>\n",
       "      <td>1.0</td>\n",
       "      <td>4199.0</td>\n",
       "      <td>383.098388</td>\n",
       "      <td>148.020607</td>\n",
       "      <td>-7892.626361</td>\n",
       "      <td>3.159514</td>\n",
       "      <td>0.987727</td>\n",
       "      <td>2.646305</td>\n",
       "      <td>5781.521781</td>\n",
       "      <td>5445.227279</td>\n",
       "      <td>2037.447645</td>\n",
       "      <td>KALABURAGI</td>\n",
       "      <td>21144.277832</td>\n",
       "    </tr>\n",
       "    <tr>\n",
       "      <th>41257</th>\n",
       "      <td>1.0</td>\n",
       "      <td>1.0</td>\n",
       "      <td>1.0</td>\n",
       "      <td>49358.0</td>\n",
       "      <td>30981.381240</td>\n",
       "      <td>30897.307860</td>\n",
       "      <td>-7892.626361</td>\n",
       "      <td>3.159514</td>\n",
       "      <td>0.987727</td>\n",
       "      <td>2.646305</td>\n",
       "      <td>50940.521781</td>\n",
       "      <td>36043.510131</td>\n",
       "      <td>32786.734898</td>\n",
       "      <td>YADGIRI</td>\n",
       "      <td>275419.509281</td>\n",
       "    </tr>\n",
       "    <tr>\n",
       "      <th>41258</th>\n",
       "      <td>1.0</td>\n",
       "      <td>1.0</td>\n",
       "      <td>1.0</td>\n",
       "      <td>115246.0</td>\n",
       "      <td>41912.073070</td>\n",
       "      <td>39866.073200</td>\n",
       "      <td>-7892.626361</td>\n",
       "      <td>3.159514</td>\n",
       "      <td>0.987727</td>\n",
       "      <td>2.646305</td>\n",
       "      <td>116828.521781</td>\n",
       "      <td>46974.201961</td>\n",
       "      <td>41755.500238</td>\n",
       "      <td>RAICHUR</td>\n",
       "      <td>518124.203229</td>\n",
       "    </tr>\n",
       "    <tr>\n",
       "      <th>41259</th>\n",
       "      <td>1.0</td>\n",
       "      <td>1.0</td>\n",
       "      <td>1.0</td>\n",
       "      <td>50753.0</td>\n",
       "      <td>14075.849460</td>\n",
       "      <td>7221.642581</td>\n",
       "      <td>-7892.626361</td>\n",
       "      <td>3.159514</td>\n",
       "      <td>0.987727</td>\n",
       "      <td>2.646305</td>\n",
       "      <td>52335.521781</td>\n",
       "      <td>19137.978351</td>\n",
       "      <td>9111.069619</td>\n",
       "      <td>KOPPAL</td>\n",
       "      <td>200475.957309</td>\n",
       "    </tr>\n",
       "    <tr>\n",
       "      <th>41260</th>\n",
       "      <td>1.0</td>\n",
       "      <td>1.0</td>\n",
       "      <td>1.0</td>\n",
       "      <td>46832.5</td>\n",
       "      <td>16648.820500</td>\n",
       "      <td>10476.570900</td>\n",
       "      <td>-7892.626361</td>\n",
       "      <td>3.159514</td>\n",
       "      <td>0.987727</td>\n",
       "      <td>2.646305</td>\n",
       "      <td>48415.021781</td>\n",
       "      <td>21710.949391</td>\n",
       "      <td>12365.997938</td>\n",
       "      <td>VIJAYANAGARA</td>\n",
       "      <td>199244.006960</td>\n",
       "    </tr>\n",
       "  </tbody>\n",
       "</table>\n",
       "<p>41261 rows × 15 columns</p>\n",
       "</div>"
      ],
      "text/plain": [
       "       Sensitivity_AreaUnderCereals_Paddy_190  Sensitivity_TotalNPK_315  \\\n",
       "0                                         0.0                       0.0   \n",
       "1                                         0.0                       0.0   \n",
       "2                                         0.0                       0.0   \n",
       "3                                         0.0                       0.0   \n",
       "4                                         0.0                       0.0   \n",
       "...                                       ...                       ...   \n",
       "41256                                     1.0                       1.0   \n",
       "41257                                     1.0                       1.0   \n",
       "41258                                     1.0                       1.0   \n",
       "41259                                     1.0                       1.0   \n",
       "41260                                     1.0                       1.0   \n",
       "\n",
       "       Sensitivity_NetAreaIrrigated_Canals_NetAreaIrrigated_173  \\\n",
       "0                                                    0.0          \n",
       "1                                                    0.0          \n",
       "2                                                    0.0          \n",
       "3                                                    0.0          \n",
       "4                                                    0.0          \n",
       "...                                                  ...          \n",
       "41256                                                1.0          \n",
       "41257                                                1.0          \n",
       "41258                                                1.0          \n",
       "41259                                                1.0          \n",
       "41260                                                1.0          \n",
       "\n",
       "       AreaUnderCereals_Paddy_190  TotalNPK_315  \\\n",
       "0                           782.0    513.822990   \n",
       "1                           736.0    167.835355   \n",
       "2                          4468.0    257.908893   \n",
       "3                          1297.0    183.032957   \n",
       "4                         98259.0  21197.529550   \n",
       "...                           ...           ...   \n",
       "41256                      4199.0    383.098388   \n",
       "41257                     49358.0  30981.381240   \n",
       "41258                    115246.0  41912.073070   \n",
       "41259                     50753.0  14075.849460   \n",
       "41260                     46832.5  16648.820500   \n",
       "\n",
       "       NetAreaIrrigated_Canals_NetAreaIrrigated_173       Beta_0    Beta_1  \\\n",
       "0                                          0.000000 -7892.626361  3.159514   \n",
       "1                                          0.000000 -7892.626361  3.159514   \n",
       "2                                        272.509463 -7892.626361  3.159514   \n",
       "3                                          9.283245 -7892.626361  3.159514   \n",
       "4                                      18037.386430 -7892.626361  3.159514   \n",
       "...                                             ...          ...       ...   \n",
       "41256                                    148.020607 -7892.626361  3.159514   \n",
       "41257                                  30897.307860 -7892.626361  3.159514   \n",
       "41258                                  39866.073200 -7892.626361  3.159514   \n",
       "41259                                   7221.642581 -7892.626361  3.159514   \n",
       "41260                                  10476.570900 -7892.626361  3.159514   \n",
       "\n",
       "         Beta_2    Beta_3         New_F1        New_F2        New_F3  \\\n",
       "0      0.987727  2.646305     782.000000    513.822990      0.000000   \n",
       "1      0.987727  2.646305     736.000000    167.835355      0.000000   \n",
       "2      0.987727  2.646305    4468.000000    257.908893    272.509463   \n",
       "3      0.987727  2.646305    1297.000000    183.032957      9.283245   \n",
       "4      0.987727  2.646305   98259.000000  21197.529550  18037.386430   \n",
       "...         ...       ...            ...           ...           ...   \n",
       "41256  0.987727  2.646305    5781.521781   5445.227279   2037.447645   \n",
       "41257  0.987727  2.646305   50940.521781  36043.510131  32786.734898   \n",
       "41258  0.987727  2.646305  116828.521781  46974.201961  41755.500238   \n",
       "41259  0.987727  2.646305   52335.521781  19137.978351   9111.069619   \n",
       "41260  0.987727  2.646305   48415.021781  21710.949391  12365.997938   \n",
       "\n",
       "           District  New_Production  \n",
       "0         BENGALURU    -4914.369577  \n",
       "1      BENGALURU(R)    -5401.448463  \n",
       "2        RAMANAGARA     7199.969602  \n",
       "3       CHITRADURGA    -3589.383635  \n",
       "4        DAVANAGERE   371227.867246  \n",
       "...             ...             ...  \n",
       "41256    KALABURAGI    21144.277832  \n",
       "41257       YADGIRI   275419.509281  \n",
       "41258       RAICHUR   518124.203229  \n",
       "41259        KOPPAL   200475.957309  \n",
       "41260  VIJAYANAGARA   199244.006960  \n",
       "\n",
       "[41261 rows x 15 columns]"
      ]
     },
     "execution_count": 39,
     "metadata": {},
     "output_type": "execute_result"
    }
   ],
   "source": [
    "result_df['New_Production'] = result_df['Beta_1'] * result_df['New_F1'] + result_df['Beta_2'] * result_df['New_F2'] + result_df['Beta_3'] * result_df['New_F3'] + result_df['Beta_0']\n",
    "result_df"
   ]
  },
  {
   "cell_type": "code",
   "execution_count": 40,
   "metadata": {},
   "outputs": [],
   "source": [
    "def normalize_list(lst):\n",
    "    min_val = min(lst)\n",
    "    max_val = max(lst)\n",
    "    normalized_lst = [(x - min_val) / (max_val - min_val) for x in lst]\n",
    "    return normalized_lst"
   ]
  },
  {
   "cell_type": "code",
   "execution_count": 41,
   "metadata": {},
   "outputs": [
    {
     "name": "stdout",
     "output_type": "stream",
     "text": [
      "    1   2   3   4   5   6   7   8   9   10  ...  22  23  24  25  26  27  28  \\\n",
      "1    0   1   1   0   0   0   0   0   0   0  ...   0   0   0   0   0   0   0   \n",
      "2    1   0   1   0   0   1   1   0   1   0  ...   0   0   0   0   0   0   0   \n",
      "3    1   1   0   0   0   0   0   0   1   0  ...   0   0   0   0   0   0   0   \n",
      "4    0   0   0   0   1   0   0   0   1   1  ...   0   0   0   1   0   0   0   \n",
      "5    0   0   0   1   0   0   0   1   0   1  ...   0   1   0   1   0   0   0   \n",
      "6    0   1   0   0   0   0   1   0   0   0  ...   0   0   0   0   0   0   0   \n",
      "7    0   1   0   0   0   1   0   0   1   0  ...   0   0   0   0   0   0   0   \n",
      "8    0   0   0   0   1   0   0   0   0   1  ...   0   1   1   0   0   0   0   \n",
      "9    0   1   1   1   0   0   1   0   0   1  ...   0   0   0   0   0   0   0   \n",
      "10   0   0   0   1   1   0   0   1   1   0  ...   0   0   0   0   0   0   0   \n",
      "11   0   0   0   0   0   0   0   0   0   1  ...   0   0   0   0   0   0   0   \n",
      "12   0   0   0   0   0   0   0   1   0   1  ...   0   0   1   0   0   0   0   \n",
      "13   0   0   0   0   0   0   0   0   1   1  ...   0   0   0   0   0   0   0   \n",
      "14   0   0   0   0   0   0   0   0   0   0  ...   0   0   0   0   0   0   0   \n",
      "15   0   0   1   0   0   0   0   0   1   0  ...   0   0   0   0   0   0   0   \n",
      "16   0   0   0   0   0   0   0   0   0   0  ...   0   0   0   0   0   0   0   \n",
      "17   0   0   1   0   0   0   0   0   0   0  ...   0   0   0   0   0   0   0   \n",
      "18   0   0   0   0   0   0   0   0   0   0  ...   1   0   1   0   0   0   0   \n",
      "19   0   0   0   0   0   0   0   0   0   0  ...   0   0   0   0   0   1   1   \n",
      "20   0   0   0   0   0   0   0   0   0   0  ...   1   0   0   0   0   0   0   \n",
      "21   0   0   0   0   0   0   0   0   0   0  ...   1   1   1   0   0   0   0   \n",
      "22   0   0   0   0   0   0   0   0   0   0  ...   0   1   0   1   0   0   0   \n",
      "23   0   0   0   0   1   0   0   1   0   0  ...   1   0   1   1   0   0   0   \n",
      "24   0   0   0   0   0   0   0   1   0   0  ...   0   1   0   0   0   0   0   \n",
      "25   0   0   0   1   1   0   0   0   0   0  ...   1   1   0   0   0   0   0   \n",
      "26   0   0   0   0   0   0   0   0   0   0  ...   0   0   0   0   0   1   0   \n",
      "27   0   0   0   0   0   0   0   0   0   0  ...   0   0   0   0   1   0   1   \n",
      "28   0   0   0   0   0   0   0   0   0   0  ...   0   0   0   0   0   1   0   \n",
      "29   0   0   0   0   0   0   0   0   0   0  ...   0   0   0   1   0   0   1   \n",
      "30   0   0   0   0   0   0   0   0   0   0  ...   1   0   0   1   0   0   0   \n",
      "31   0   0   0   1   1   0   0   0   0   0  ...   1   1   0   1   0   0   0   \n",
      "\n",
      "    29  30  31  \n",
      "1    0   0   0  \n",
      "2    0   0   0  \n",
      "3    0   0   0  \n",
      "4    0   0   1  \n",
      "5    0   0   1  \n",
      "6    0   0   0  \n",
      "7    0   0   0  \n",
      "8    0   0   0  \n",
      "9    0   0   0  \n",
      "10   0   0   0  \n",
      "11   0   0   0  \n",
      "12   0   0   0  \n",
      "13   0   0   0  \n",
      "14   0   0   0  \n",
      "15   0   0   0  \n",
      "16   0   0   0  \n",
      "17   0   0   0  \n",
      "18   0   0   0  \n",
      "19   1   0   0  \n",
      "20   1   1   0  \n",
      "21   0   0   0  \n",
      "22   0   1   1  \n",
      "23   0   0   1  \n",
      "24   0   0   0  \n",
      "25   1   1   1  \n",
      "26   0   0   0  \n",
      "27   0   0   0  \n",
      "28   1   0   0  \n",
      "29   0   1   0  \n",
      "30   1   0   1  \n",
      "31   0   1   0  \n",
      "\n",
      "[31 rows x 31 columns]\n"
     ]
    }
   ],
   "source": [
    "import pandas as pd\n",
    "import numpy as np\n",
    "\n",
    "adjacency_excel = pd.read_excel('Karnataka_District_Adjacency_File.xlsx')\n",
    "\n",
    "district_codes = sorted(set(adjacency_excel['District_Code']))\n",
    "\n",
    "n = len(district_codes)\n",
    "adj_matrix = np.zeros((n, n), dtype=int)\n",
    "\n",
    "code_to_index = {code: idx for idx, code in enumerate(district_codes)}\n",
    "\n",
    "for i in range(len(adjacency_excel)):\n",
    "    district_code = adjacency_excel['District_Code'][i]\n",
    "    neighbors = [int(num) for num in str(adjacency_excel['District_Neighbors'][i]).split(',') if num.strip().isdigit()]\n",
    "    \n",
    "    for neighbor in neighbors:\n",
    "        adj_matrix[code_to_index[district_code]][code_to_index[neighbor]] = 1\n",
    "        adj_matrix[code_to_index[neighbor]][code_to_index[district_code]] = 1  # Assuming adjacency is bidirectional\n",
    "\n",
    "adj_matrix_df = pd.DataFrame(adj_matrix, index=district_codes, columns=district_codes)\n",
    "\n",
    "print(adj_matrix_df)\n",
    "\n",
    "adj_matrix_np = adj_matrix_df.to_numpy()"
   ]
  },
  {
   "cell_type": "code",
   "execution_count": 42,
   "metadata": {},
   "outputs": [],
   "source": [
    "def calculate_avg_capability(capability, neighbors):\n",
    "    num_neighbors = len(neighbors)\n",
    "    if num_neighbors == 0:\n",
    "        return 0\n",
    "    sum_capabilities = sum(capability[n] for n in neighbors)\n",
    "    return sum_capabilities / num_neighbors\n",
    "\n",
    "def calculate_stress_stability(capability, adjacency_matrix):\n",
    "    n = len(capability)\n",
    "    stress = np.zeros(n)\n",
    "    stability = np.zeros(n)\n",
    "    \n",
    "    for i in range(n):\n",
    "        neighbors = [j for j in range(n) if adjacency_matrix[i][j] == 1 and i != j]\n",
    "        if len(neighbors) > 0:\n",
    "            avg_capability = calculate_avg_capability(capability, neighbors)\n",
    "            stress[i] = abs(avg_capability - capability[i])\n",
    "            stability[i] = 1 - stress[i]\n",
    "        else:\n",
    "            stress[i] = 0  # If no neighbors, stress is zero\n",
    "            stability[i] = 1\n",
    "        \n",
    "    return stress, stability"
   ]
  },
  {
   "cell_type": "code",
   "execution_count": 43,
   "metadata": {},
   "outputs": [
    {
     "data": {
      "text/html": [
       "<div>\n",
       "<style scoped>\n",
       "    .dataframe tbody tr th:only-of-type {\n",
       "        vertical-align: middle;\n",
       "    }\n",
       "\n",
       "    .dataframe tbody tr th {\n",
       "        vertical-align: top;\n",
       "    }\n",
       "\n",
       "    .dataframe thead th {\n",
       "        text-align: right;\n",
       "    }\n",
       "</style>\n",
       "<table border=\"1\" class=\"dataframe\">\n",
       "  <thead>\n",
       "    <tr style=\"text-align: right;\">\n",
       "      <th></th>\n",
       "      <th>Sensitivity_AreaUnderCereals_Paddy_190</th>\n",
       "      <th>Sensitivity_TotalNPK_315</th>\n",
       "      <th>Sensitivity_NetAreaIrrigated_Canals_NetAreaIrrigated_173</th>\n",
       "      <th>AreaUnderCereals_Paddy_190</th>\n",
       "      <th>TotalNPK_315</th>\n",
       "      <th>NetAreaIrrigated_Canals_NetAreaIrrigated_173</th>\n",
       "      <th>Beta_0</th>\n",
       "      <th>Beta_1</th>\n",
       "      <th>Beta_2</th>\n",
       "      <th>Beta_3</th>\n",
       "      <th>New_F1</th>\n",
       "      <th>New_F2</th>\n",
       "      <th>New_F3</th>\n",
       "      <th>District</th>\n",
       "      <th>New_Production</th>\n",
       "      <th>Normalized_New_Prouction</th>\n",
       "    </tr>\n",
       "  </thead>\n",
       "  <tbody>\n",
       "    <tr>\n",
       "      <th>0</th>\n",
       "      <td>0.0</td>\n",
       "      <td>0.0</td>\n",
       "      <td>0.0</td>\n",
       "      <td>782.0</td>\n",
       "      <td>513.822990</td>\n",
       "      <td>0.000000</td>\n",
       "      <td>-7892.626361</td>\n",
       "      <td>3.159514</td>\n",
       "      <td>0.987727</td>\n",
       "      <td>2.646305</td>\n",
       "      <td>782.000000</td>\n",
       "      <td>513.822990</td>\n",
       "      <td>0.000000</td>\n",
       "      <td>BENGALURU</td>\n",
       "      <td>-4914.369577</td>\n",
       "      <td>0.005455</td>\n",
       "    </tr>\n",
       "    <tr>\n",
       "      <th>1</th>\n",
       "      <td>0.0</td>\n",
       "      <td>0.0</td>\n",
       "      <td>0.0</td>\n",
       "      <td>736.0</td>\n",
       "      <td>167.835355</td>\n",
       "      <td>0.000000</td>\n",
       "      <td>-7892.626361</td>\n",
       "      <td>3.159514</td>\n",
       "      <td>0.987727</td>\n",
       "      <td>2.646305</td>\n",
       "      <td>736.000000</td>\n",
       "      <td>167.835355</td>\n",
       "      <td>0.000000</td>\n",
       "      <td>BENGALURU(R)</td>\n",
       "      <td>-5401.448463</td>\n",
       "      <td>0.004529</td>\n",
       "    </tr>\n",
       "    <tr>\n",
       "      <th>2</th>\n",
       "      <td>0.0</td>\n",
       "      <td>0.0</td>\n",
       "      <td>0.0</td>\n",
       "      <td>4468.0</td>\n",
       "      <td>257.908893</td>\n",
       "      <td>272.509463</td>\n",
       "      <td>-7892.626361</td>\n",
       "      <td>3.159514</td>\n",
       "      <td>0.987727</td>\n",
       "      <td>2.646305</td>\n",
       "      <td>4468.000000</td>\n",
       "      <td>257.908893</td>\n",
       "      <td>272.509463</td>\n",
       "      <td>RAMANAGARA</td>\n",
       "      <td>7199.969602</td>\n",
       "      <td>0.028490</td>\n",
       "    </tr>\n",
       "    <tr>\n",
       "      <th>3</th>\n",
       "      <td>0.0</td>\n",
       "      <td>0.0</td>\n",
       "      <td>0.0</td>\n",
       "      <td>1297.0</td>\n",
       "      <td>183.032957</td>\n",
       "      <td>9.283245</td>\n",
       "      <td>-7892.626361</td>\n",
       "      <td>3.159514</td>\n",
       "      <td>0.987727</td>\n",
       "      <td>2.646305</td>\n",
       "      <td>1297.000000</td>\n",
       "      <td>183.032957</td>\n",
       "      <td>9.283245</td>\n",
       "      <td>CHITRADURGA</td>\n",
       "      <td>-3589.383635</td>\n",
       "      <td>0.007975</td>\n",
       "    </tr>\n",
       "    <tr>\n",
       "      <th>4</th>\n",
       "      <td>0.0</td>\n",
       "      <td>0.0</td>\n",
       "      <td>0.0</td>\n",
       "      <td>98259.0</td>\n",
       "      <td>21197.529550</td>\n",
       "      <td>18037.386430</td>\n",
       "      <td>-7892.626361</td>\n",
       "      <td>3.159514</td>\n",
       "      <td>0.987727</td>\n",
       "      <td>2.646305</td>\n",
       "      <td>98259.000000</td>\n",
       "      <td>21197.529550</td>\n",
       "      <td>18037.386430</td>\n",
       "      <td>DAVANAGERE</td>\n",
       "      <td>371227.867246</td>\n",
       "      <td>0.720680</td>\n",
       "    </tr>\n",
       "    <tr>\n",
       "      <th>...</th>\n",
       "      <td>...</td>\n",
       "      <td>...</td>\n",
       "      <td>...</td>\n",
       "      <td>...</td>\n",
       "      <td>...</td>\n",
       "      <td>...</td>\n",
       "      <td>...</td>\n",
       "      <td>...</td>\n",
       "      <td>...</td>\n",
       "      <td>...</td>\n",
       "      <td>...</td>\n",
       "      <td>...</td>\n",
       "      <td>...</td>\n",
       "      <td>...</td>\n",
       "      <td>...</td>\n",
       "      <td>...</td>\n",
       "    </tr>\n",
       "    <tr>\n",
       "      <th>41256</th>\n",
       "      <td>1.0</td>\n",
       "      <td>1.0</td>\n",
       "      <td>1.0</td>\n",
       "      <td>4199.0</td>\n",
       "      <td>383.098388</td>\n",
       "      <td>148.020607</td>\n",
       "      <td>-7892.626361</td>\n",
       "      <td>3.159514</td>\n",
       "      <td>0.987727</td>\n",
       "      <td>2.646305</td>\n",
       "      <td>5781.521781</td>\n",
       "      <td>5445.227279</td>\n",
       "      <td>2037.447645</td>\n",
       "      <td>KALABURAGI</td>\n",
       "      <td>21144.277832</td>\n",
       "      <td>0.055005</td>\n",
       "    </tr>\n",
       "    <tr>\n",
       "      <th>41257</th>\n",
       "      <td>1.0</td>\n",
       "      <td>1.0</td>\n",
       "      <td>1.0</td>\n",
       "      <td>49358.0</td>\n",
       "      <td>30981.381240</td>\n",
       "      <td>30897.307860</td>\n",
       "      <td>-7892.626361</td>\n",
       "      <td>3.159514</td>\n",
       "      <td>0.987727</td>\n",
       "      <td>2.646305</td>\n",
       "      <td>50940.521781</td>\n",
       "      <td>36043.510131</td>\n",
       "      <td>32786.734898</td>\n",
       "      <td>YADGIRI</td>\n",
       "      <td>275419.509281</td>\n",
       "      <td>0.538503</td>\n",
       "    </tr>\n",
       "    <tr>\n",
       "      <th>41258</th>\n",
       "      <td>1.0</td>\n",
       "      <td>1.0</td>\n",
       "      <td>1.0</td>\n",
       "      <td>115246.0</td>\n",
       "      <td>41912.073070</td>\n",
       "      <td>39866.073200</td>\n",
       "      <td>-7892.626361</td>\n",
       "      <td>3.159514</td>\n",
       "      <td>0.987727</td>\n",
       "      <td>2.646305</td>\n",
       "      <td>116828.521781</td>\n",
       "      <td>46974.201961</td>\n",
       "      <td>41755.500238</td>\n",
       "      <td>RAICHUR</td>\n",
       "      <td>518124.203229</td>\n",
       "      <td>1.000000</td>\n",
       "    </tr>\n",
       "    <tr>\n",
       "      <th>41259</th>\n",
       "      <td>1.0</td>\n",
       "      <td>1.0</td>\n",
       "      <td>1.0</td>\n",
       "      <td>50753.0</td>\n",
       "      <td>14075.849460</td>\n",
       "      <td>7221.642581</td>\n",
       "      <td>-7892.626361</td>\n",
       "      <td>3.159514</td>\n",
       "      <td>0.987727</td>\n",
       "      <td>2.646305</td>\n",
       "      <td>52335.521781</td>\n",
       "      <td>19137.978351</td>\n",
       "      <td>9111.069619</td>\n",
       "      <td>KOPPAL</td>\n",
       "      <td>200475.957309</td>\n",
       "      <td>0.396000</td>\n",
       "    </tr>\n",
       "    <tr>\n",
       "      <th>41260</th>\n",
       "      <td>1.0</td>\n",
       "      <td>1.0</td>\n",
       "      <td>1.0</td>\n",
       "      <td>46832.5</td>\n",
       "      <td>16648.820500</td>\n",
       "      <td>10476.570900</td>\n",
       "      <td>-7892.626361</td>\n",
       "      <td>3.159514</td>\n",
       "      <td>0.987727</td>\n",
       "      <td>2.646305</td>\n",
       "      <td>48415.021781</td>\n",
       "      <td>21710.949391</td>\n",
       "      <td>12365.997938</td>\n",
       "      <td>VIJAYANAGARA</td>\n",
       "      <td>199244.006960</td>\n",
       "      <td>0.393657</td>\n",
       "    </tr>\n",
       "  </tbody>\n",
       "</table>\n",
       "<p>41261 rows × 16 columns</p>\n",
       "</div>"
      ],
      "text/plain": [
       "       Sensitivity_AreaUnderCereals_Paddy_190  Sensitivity_TotalNPK_315  \\\n",
       "0                                         0.0                       0.0   \n",
       "1                                         0.0                       0.0   \n",
       "2                                         0.0                       0.0   \n",
       "3                                         0.0                       0.0   \n",
       "4                                         0.0                       0.0   \n",
       "...                                       ...                       ...   \n",
       "41256                                     1.0                       1.0   \n",
       "41257                                     1.0                       1.0   \n",
       "41258                                     1.0                       1.0   \n",
       "41259                                     1.0                       1.0   \n",
       "41260                                     1.0                       1.0   \n",
       "\n",
       "       Sensitivity_NetAreaIrrigated_Canals_NetAreaIrrigated_173  \\\n",
       "0                                                    0.0          \n",
       "1                                                    0.0          \n",
       "2                                                    0.0          \n",
       "3                                                    0.0          \n",
       "4                                                    0.0          \n",
       "...                                                  ...          \n",
       "41256                                                1.0          \n",
       "41257                                                1.0          \n",
       "41258                                                1.0          \n",
       "41259                                                1.0          \n",
       "41260                                                1.0          \n",
       "\n",
       "       AreaUnderCereals_Paddy_190  TotalNPK_315  \\\n",
       "0                           782.0    513.822990   \n",
       "1                           736.0    167.835355   \n",
       "2                          4468.0    257.908893   \n",
       "3                          1297.0    183.032957   \n",
       "4                         98259.0  21197.529550   \n",
       "...                           ...           ...   \n",
       "41256                      4199.0    383.098388   \n",
       "41257                     49358.0  30981.381240   \n",
       "41258                    115246.0  41912.073070   \n",
       "41259                     50753.0  14075.849460   \n",
       "41260                     46832.5  16648.820500   \n",
       "\n",
       "       NetAreaIrrigated_Canals_NetAreaIrrigated_173       Beta_0    Beta_1  \\\n",
       "0                                          0.000000 -7892.626361  3.159514   \n",
       "1                                          0.000000 -7892.626361  3.159514   \n",
       "2                                        272.509463 -7892.626361  3.159514   \n",
       "3                                          9.283245 -7892.626361  3.159514   \n",
       "4                                      18037.386430 -7892.626361  3.159514   \n",
       "...                                             ...          ...       ...   \n",
       "41256                                    148.020607 -7892.626361  3.159514   \n",
       "41257                                  30897.307860 -7892.626361  3.159514   \n",
       "41258                                  39866.073200 -7892.626361  3.159514   \n",
       "41259                                   7221.642581 -7892.626361  3.159514   \n",
       "41260                                  10476.570900 -7892.626361  3.159514   \n",
       "\n",
       "         Beta_2    Beta_3         New_F1        New_F2        New_F3  \\\n",
       "0      0.987727  2.646305     782.000000    513.822990      0.000000   \n",
       "1      0.987727  2.646305     736.000000    167.835355      0.000000   \n",
       "2      0.987727  2.646305    4468.000000    257.908893    272.509463   \n",
       "3      0.987727  2.646305    1297.000000    183.032957      9.283245   \n",
       "4      0.987727  2.646305   98259.000000  21197.529550  18037.386430   \n",
       "...         ...       ...            ...           ...           ...   \n",
       "41256  0.987727  2.646305    5781.521781   5445.227279   2037.447645   \n",
       "41257  0.987727  2.646305   50940.521781  36043.510131  32786.734898   \n",
       "41258  0.987727  2.646305  116828.521781  46974.201961  41755.500238   \n",
       "41259  0.987727  2.646305   52335.521781  19137.978351   9111.069619   \n",
       "41260  0.987727  2.646305   48415.021781  21710.949391  12365.997938   \n",
       "\n",
       "           District  New_Production  Normalized_New_Prouction  \n",
       "0         BENGALURU    -4914.369577                  0.005455  \n",
       "1      BENGALURU(R)    -5401.448463                  0.004529  \n",
       "2        RAMANAGARA     7199.969602                  0.028490  \n",
       "3       CHITRADURGA    -3589.383635                  0.007975  \n",
       "4        DAVANAGERE   371227.867246                  0.720680  \n",
       "...             ...             ...                       ...  \n",
       "41256    KALABURAGI    21144.277832                  0.055005  \n",
       "41257       YADGIRI   275419.509281                  0.538503  \n",
       "41258       RAICHUR   518124.203229                  1.000000  \n",
       "41259        KOPPAL   200475.957309                  0.396000  \n",
       "41260  VIJAYANAGARA   199244.006960                  0.393657  \n",
       "\n",
       "[41261 rows x 16 columns]"
      ]
     },
     "execution_count": 43,
     "metadata": {},
     "output_type": "execute_result"
    }
   ],
   "source": [
    "result_df['Normalized_New_Prouction'] = normalize_list(result_df['New_Production'])\n",
    "result_df"
   ]
  },
  {
   "cell_type": "code",
   "execution_count": 44,
   "metadata": {},
   "outputs": [
    {
     "name": "stdout",
     "output_type": "stream",
     "text": [
      "1331\n",
      "31\n",
      "41261 41261\n"
     ]
    }
   ],
   "source": [
    "stress_values_list = []\n",
    "stability_values_list = []\n",
    "\n",
    "# Define batch size\n",
    "batch_size = 31\n",
    "\n",
    "# Iterate over the New_Production column in batches of 31\n",
    "num_batches = len(result_df) // batch_size\n",
    "\n",
    "for i in range(num_batches):\n",
    "    # Get the batch of 31 production values\n",
    "    start_idx = i * batch_size\n",
    "    end_idx = start_idx + batch_size\n",
    "    batch = normalize_list(result_df['New_Production'][start_idx:end_idx].values)\n",
    "    \n",
    "    # Calculate the stress and stability values for the batch\n",
    "    stress_batch, stability_batch = calculate_stress_stability(batch, adj_matrix_np)\n",
    "    \n",
    "    stress_values_list.extend(stress_batch)\n",
    "    stability_values_list.extend(stability_batch)\n",
    "\n",
    "\n",
    "print(num_batches)\n",
    "print(len(stress_batch))\n",
    "print(len(stress_values_list), len(stability_values_list))\n",
    "\n",
    "result_df['Stress_Values'] = stress_values_list\n",
    "result_df['Stability_Values'] = stability_values_list"
   ]
  },
  {
   "cell_type": "code",
   "execution_count": 45,
   "metadata": {},
   "outputs": [
    {
     "data": {
      "text/plain": [
       "Index(['Sensitivity_AreaUnderCereals_Paddy_190', 'Sensitivity_TotalNPK_315',\n",
       "       'Sensitivity_NetAreaIrrigated_Canals_NetAreaIrrigated_173',\n",
       "       'AreaUnderCereals_Paddy_190', 'TotalNPK_315',\n",
       "       'NetAreaIrrigated_Canals_NetAreaIrrigated_173', 'Beta_0', 'Beta_1',\n",
       "       'Beta_2', 'Beta_3', 'New_F1', 'New_F2', 'New_F3', 'District',\n",
       "       'New_Production', 'Normalized_New_Prouction', 'Stress_Values',\n",
       "       'Stability_Values'],\n",
       "      dtype='object')"
      ]
     },
     "execution_count": 45,
     "metadata": {},
     "output_type": "execute_result"
    }
   ],
   "source": [
    "result_df.columns"
   ]
  },
  {
   "cell_type": "code",
   "execution_count": 46,
   "metadata": {},
   "outputs": [],
   "source": [
    "viz_df = result_df[['District','Sensitivity_AreaUnderCereals_Paddy_190','Sensitivity_TotalNPK_315','Sensitivity_NetAreaIrrigated_Canals_NetAreaIrrigated_173',\n",
    "                    'New_Production','Stability_Values','Normalized_New_Prouction']].copy()\n",
    "\n",
    "abbreviation_mapping = {\n",
    "    'BENGALURU': 'BLR',\n",
    "    'BENGALURU(R)': 'BLR(R)',\n",
    "    'RAMANAGARA': 'RGA',\n",
    "    'CHITRADURGA': 'CDA',\n",
    "    'DAVANAGERE': 'DVG',\n",
    "    'KOLAR': 'KLR',\n",
    "    'CHIKKABALLAPURA': 'CKA',\n",
    "    'SHIVAMOGGA': 'SMG',\n",
    "    'TUMAKURU': 'TKR',\n",
    "    'CHIKKAMAGALURU': 'CMG',\n",
    "    'DAKSHINA KANNADA': 'DKA',\n",
    "    'UDUPI': 'UPI',\n",
    "    'HASSAN': 'HSN',\n",
    "    'KODAGU': 'KDG',\n",
    "    'MANDYA': 'MDY',\n",
    "    'MYSURU': 'MYS',\n",
    "    'CHAMARAJANAGAR': 'CNR',\n",
    "    'BELAGAVI': 'BLG',\n",
    "    'VIJAYAPURA': 'VJP',\n",
    "    'BAGALKOT': 'BKT',\n",
    "    'DHARAWAD': 'DWD',\n",
    "    'GADAG': 'GDG',\n",
    "    'HAVERI': 'HVR',\n",
    "    'UTTARA KANNADA': 'UTK',\n",
    "    'BALLARI': 'BLL',\n",
    "    'BIDAR': 'BDR',\n",
    "    'KALABURAGI': 'KLB',\n",
    "    'YADGIRI': 'YDR',\n",
    "    'RAICHUR': 'RCR',\n",
    "    'KOPPAL': 'KPL',\n",
    "    'Vijayanagara' : 'VJN'\n",
    "}\n",
    "\n",
    "viz_df['Abbreviation'] = viz_df['District'].map(abbreviation_mapping)\n",
    "\n",
    "legend_labels = [{'Abbreviation': abb, 'Full Form': full_form} \n",
    "                    for abb, full_form in zip(viz_df['Abbreviation'].unique(), viz_df['District'].unique())]"
   ]
  },
  {
   "cell_type": "code",
   "execution_count": 47,
   "metadata": {},
   "outputs": [],
   "source": [
    "viz_df['New_Production'] = viz_df['New_Production'].apply(lambda x: max(0, x))\n",
    "\n",
    "viz_df['Percentage Change'] = viz_df['New_Production'] - np.tile(y.values, len(viz_df) // 31 + 1)[:len(viz_df)]\n",
    "for i in range(0, len(viz_df), 31):\n",
    "    viz_df.loc[i:i+30, 'Percentage Change'] = viz_df.loc[i:i+30, 'Percentage Change'] * 100 / y.values + 1e-9\n",
    "    viz_df.loc[i:i+30, 'Normalized Percentage Change'] = normalize_list(viz_df.loc[i:i+30, 'Percentage Change'])\n",
    "\n",
    "\n",
    "viz_df['Percentage Change'] = viz_df['Percentage Change'].replace([np.inf, -np.inf], 0)\n",
    "\n",
    "# viz_df['Normalized Percentage Change'] = normalize_list(viz_df['Percentage Change'])\n"
   ]
  },
  {
   "cell_type": "code",
   "execution_count": 48,
   "metadata": {},
   "outputs": [
    {
     "data": {
      "application/vnd.plotly.v1+json": {
       "config": {
        "plotlyServerURL": "https://plot.ly"
       },
       "data": [
        {
         "hovertemplate": "Stability=%{x}<br>Impact=%{y}<br>Abbreviation=%{text}<extra></extra>",
         "legendgroup": "",
         "marker": {
          "color": "darkblue",
          "opacity": 1,
          "symbol": "circle"
         },
         "mode": "markers+text",
         "name": "",
         "orientation": "v",
         "showlegend": false,
         "text": [
          "BLR",
          "BLR(R)",
          "RGA",
          "CDA",
          "DVG",
          "KLR",
          "CKA",
          "SMG",
          "TKR",
          "CMG",
          "DKA",
          "UPI",
          "HSN",
          "KDG",
          "MDY",
          "MYS",
          "CNR",
          "BLG",
          "VJP",
          "BKT",
          "DWD",
          "GDG",
          "HVR",
          "UTK",
          "BLL",
          "BDR",
          "KLB",
          "YDR",
          "RCR",
          "KPL",
          null
         ],
         "textfont": {
          "size": 11
         },
         "textposition": "top center",
         "type": "scatter",
         "x": [
          0.9886209750344205,
          0.9821721398764054,
          0.8858780547141601,
          0.6482805371442786,
          0.6037512155915774,
          0.9958900276557452,
          0.9838565989384859,
          0.620802468441502,
          0.9053678195403678,
          0.8785112416595585,
          0.9471299009976955,
          0.8722567647744335,
          0.9446351961387052,
          0.754671090624162,
          0.7091016086529869,
          0.5370413040878955,
          0.660461908800881,
          0.6856173305463389,
          0.6031778492209925,
          0.6351701480142132,
          0.8674900396728706,
          0.7252222742771903,
          0.8838370229637535,
          0.9739183189825701,
          0.9743728459750993,
          0.982450273174571,
          0.8489783654828617,
          0.8175270662043788,
          0.255851604175934,
          0.9746542340787688,
          0.925874250597015
         ],
         "xaxis": "x",
         "y": [
          0.32443302026847715,
          0.37763672192936615,
          0.5134383294907837,
          0.36280256139674266,
          0.32774129722024065,
          0.47189627237285253,
          0.6321219050975483,
          0.43866346006884027,
          0.5491563138236343,
          0.4677707904374254,
          0.5183088668486878,
          0.4882209382939887,
          0.4491463600901815,
          0.5262573339234955,
          0.4735292043518455,
          0.4580991642356692,
          0.47098045596630855,
          0.5268836494865214,
          0,
          0,
          1,
          0.36793922213109825,
          0.50517318194605,
          0.5954283629754785,
          0.39406892117564873,
          0.9732905123171097,
          0.7327312105071423,
          0.5051746578807182,
          0.439334743017479,
          0.3357038787834965,
          0.39406892117564873
         ],
         "yaxis": "y"
        },
        {
         "marker": {
          "color": "darkblue"
         },
         "mode": "markers",
         "name": "BLR: BENGALURU",
         "type": "scatter",
         "x": [
          null
         ],
         "y": [
          null
         ]
        },
        {
         "marker": {
          "color": "darkblue"
         },
         "mode": "markers",
         "name": "BLR(R): BENGALURU(R)",
         "type": "scatter",
         "x": [
          null
         ],
         "y": [
          null
         ]
        },
        {
         "marker": {
          "color": "darkblue"
         },
         "mode": "markers",
         "name": "RGA: RAMANAGARA",
         "type": "scatter",
         "x": [
          null
         ],
         "y": [
          null
         ]
        },
        {
         "marker": {
          "color": "darkblue"
         },
         "mode": "markers",
         "name": "CDA: CHITRADURGA",
         "type": "scatter",
         "x": [
          null
         ],
         "y": [
          null
         ]
        },
        {
         "marker": {
          "color": "darkblue"
         },
         "mode": "markers",
         "name": "DVG: DAVANAGERE",
         "type": "scatter",
         "x": [
          null
         ],
         "y": [
          null
         ]
        },
        {
         "marker": {
          "color": "darkblue"
         },
         "mode": "markers",
         "name": "KLR: KOLAR",
         "type": "scatter",
         "x": [
          null
         ],
         "y": [
          null
         ]
        },
        {
         "marker": {
          "color": "darkblue"
         },
         "mode": "markers",
         "name": "CKA: CHIKKABALLAPURA",
         "type": "scatter",
         "x": [
          null
         ],
         "y": [
          null
         ]
        },
        {
         "marker": {
          "color": "darkblue"
         },
         "mode": "markers",
         "name": "SMG: SHIVAMOGGA",
         "type": "scatter",
         "x": [
          null
         ],
         "y": [
          null
         ]
        },
        {
         "marker": {
          "color": "darkblue"
         },
         "mode": "markers",
         "name": "TKR: TUMAKURU",
         "type": "scatter",
         "x": [
          null
         ],
         "y": [
          null
         ]
        },
        {
         "marker": {
          "color": "darkblue"
         },
         "mode": "markers",
         "name": "CMG: CHIKKAMAGALURU",
         "type": "scatter",
         "x": [
          null
         ],
         "y": [
          null
         ]
        },
        {
         "marker": {
          "color": "darkblue"
         },
         "mode": "markers",
         "name": "DKA: DAKSHINA KANNADA",
         "type": "scatter",
         "x": [
          null
         ],
         "y": [
          null
         ]
        },
        {
         "marker": {
          "color": "darkblue"
         },
         "mode": "markers",
         "name": "UPI: UDUPI",
         "type": "scatter",
         "x": [
          null
         ],
         "y": [
          null
         ]
        },
        {
         "marker": {
          "color": "darkblue"
         },
         "mode": "markers",
         "name": "HSN: HASSAN",
         "type": "scatter",
         "x": [
          null
         ],
         "y": [
          null
         ]
        },
        {
         "marker": {
          "color": "darkblue"
         },
         "mode": "markers",
         "name": "KDG: KODAGU",
         "type": "scatter",
         "x": [
          null
         ],
         "y": [
          null
         ]
        },
        {
         "marker": {
          "color": "darkblue"
         },
         "mode": "markers",
         "name": "MDY: MANDYA",
         "type": "scatter",
         "x": [
          null
         ],
         "y": [
          null
         ]
        },
        {
         "marker": {
          "color": "darkblue"
         },
         "mode": "markers",
         "name": "MYS: MYSURU",
         "type": "scatter",
         "x": [
          null
         ],
         "y": [
          null
         ]
        },
        {
         "marker": {
          "color": "darkblue"
         },
         "mode": "markers",
         "name": "CNR: CHAMARAJANAGAR",
         "type": "scatter",
         "x": [
          null
         ],
         "y": [
          null
         ]
        },
        {
         "marker": {
          "color": "darkblue"
         },
         "mode": "markers",
         "name": "BLG: BELAGAVI",
         "type": "scatter",
         "x": [
          null
         ],
         "y": [
          null
         ]
        },
        {
         "marker": {
          "color": "darkblue"
         },
         "mode": "markers",
         "name": "VJP: VIJAYAPURA",
         "type": "scatter",
         "x": [
          null
         ],
         "y": [
          null
         ]
        },
        {
         "marker": {
          "color": "darkblue"
         },
         "mode": "markers",
         "name": "BKT: BAGALKOT",
         "type": "scatter",
         "x": [
          null
         ],
         "y": [
          null
         ]
        },
        {
         "marker": {
          "color": "darkblue"
         },
         "mode": "markers",
         "name": "DWD: DHARAWAD",
         "type": "scatter",
         "x": [
          null
         ],
         "y": [
          null
         ]
        },
        {
         "marker": {
          "color": "darkblue"
         },
         "mode": "markers",
         "name": "GDG: GADAG",
         "type": "scatter",
         "x": [
          null
         ],
         "y": [
          null
         ]
        },
        {
         "marker": {
          "color": "darkblue"
         },
         "mode": "markers",
         "name": "HVR: HAVERI",
         "type": "scatter",
         "x": [
          null
         ],
         "y": [
          null
         ]
        },
        {
         "marker": {
          "color": "darkblue"
         },
         "mode": "markers",
         "name": "UTK: UTTARA KANNADA",
         "type": "scatter",
         "x": [
          null
         ],
         "y": [
          null
         ]
        },
        {
         "marker": {
          "color": "darkblue"
         },
         "mode": "markers",
         "name": "BLL: BALLARI",
         "type": "scatter",
         "x": [
          null
         ],
         "y": [
          null
         ]
        },
        {
         "marker": {
          "color": "darkblue"
         },
         "mode": "markers",
         "name": "BDR: BIDAR",
         "type": "scatter",
         "x": [
          null
         ],
         "y": [
          null
         ]
        },
        {
         "marker": {
          "color": "darkblue"
         },
         "mode": "markers",
         "name": "KLB: KALABURAGI",
         "type": "scatter",
         "x": [
          null
         ],
         "y": [
          null
         ]
        },
        {
         "marker": {
          "color": "darkblue"
         },
         "mode": "markers",
         "name": "YDR: YADGIRI",
         "type": "scatter",
         "x": [
          null
         ],
         "y": [
          null
         ]
        },
        {
         "marker": {
          "color": "darkblue"
         },
         "mode": "markers",
         "name": "RCR: RAICHUR",
         "type": "scatter",
         "x": [
          null
         ],
         "y": [
          null
         ]
        },
        {
         "marker": {
          "color": "darkblue"
         },
         "mode": "markers",
         "name": "KPL: KOPPAL",
         "type": "scatter",
         "x": [
          null
         ],
         "y": [
          null
         ]
        },
        {
         "marker": {
          "color": "darkblue"
         },
         "mode": "markers",
         "name": "nan: VIJAYANAGARA",
         "type": "scatter",
         "x": [
          null
         ],
         "y": [
          null
         ]
        },
        {
         "mode": "text",
         "showlegend": false,
         "text": [
          "Avg Stability: 0.81"
         ],
         "textfont": {
          "size": 10.7
         },
         "type": "scatter",
         "x": [
          0.8087925960012846
         ],
         "y": [
          -0.07
         ]
        },
        {
         "mode": "text",
         "showlegend": false,
         "text": [
          "Avg Impact: 0.47"
         ],
         "textfont": {
          "size": 10.7
         },
         "type": "scatter",
         "x": [
          0.3
         ],
         "y": [
          0.4316129115229832
         ]
        }
       ],
       "layout": {
        "annotations": [
         {
          "font": {
           "size": 13
          },
          "showarrow": false,
          "text": "α<sub>AP</sub>: 0.50, α<sub>NPK</sub>: 0.50, α<sub>CN</sub>: 0.50",
          "x": 0.5,
          "xref": "paper",
          "y": -0.25,
          "yref": "paper"
         }
        ],
        "legend": {
         "title": {
          "font": {
           "size": 12
          },
          "text": "Districts"
         },
         "tracegroupgap": 0
        },
        "shapes": [
         {
          "line": {
           "color": "red",
           "dash": "dash",
           "width": 1.5
          },
          "type": "line",
          "x0": 0.8087925960012846,
          "x1": 0.8087925960012846,
          "y0": 0,
          "y1": 1,
          "yref": "paper"
         },
         {
          "line": {
           "color": "red",
           "dash": "dash",
           "width": 1.5
          },
          "type": "line",
          "x0": 0,
          "x1": 1,
          "xref": "paper",
          "y0": 0.4716129115229832,
          "y1": 0.4716129115229832
         }
        ],
        "template": {
         "data": {
          "bar": [
           {
            "error_x": {
             "color": "#2a3f5f"
            },
            "error_y": {
             "color": "#2a3f5f"
            },
            "marker": {
             "line": {
              "color": "#E5ECF6",
              "width": 0.5
             },
             "pattern": {
              "fillmode": "overlay",
              "size": 10,
              "solidity": 0.2
             }
            },
            "type": "bar"
           }
          ],
          "barpolar": [
           {
            "marker": {
             "line": {
              "color": "#E5ECF6",
              "width": 0.5
             },
             "pattern": {
              "fillmode": "overlay",
              "size": 10,
              "solidity": 0.2
             }
            },
            "type": "barpolar"
           }
          ],
          "carpet": [
           {
            "aaxis": {
             "endlinecolor": "#2a3f5f",
             "gridcolor": "white",
             "linecolor": "white",
             "minorgridcolor": "white",
             "startlinecolor": "#2a3f5f"
            },
            "baxis": {
             "endlinecolor": "#2a3f5f",
             "gridcolor": "white",
             "linecolor": "white",
             "minorgridcolor": "white",
             "startlinecolor": "#2a3f5f"
            },
            "type": "carpet"
           }
          ],
          "choropleth": [
           {
            "colorbar": {
             "outlinewidth": 0,
             "ticks": ""
            },
            "type": "choropleth"
           }
          ],
          "contour": [
           {
            "colorbar": {
             "outlinewidth": 0,
             "ticks": ""
            },
            "colorscale": [
             [
              0,
              "#0d0887"
             ],
             [
              0.1111111111111111,
              "#46039f"
             ],
             [
              0.2222222222222222,
              "#7201a8"
             ],
             [
              0.3333333333333333,
              "#9c179e"
             ],
             [
              0.4444444444444444,
              "#bd3786"
             ],
             [
              0.5555555555555556,
              "#d8576b"
             ],
             [
              0.6666666666666666,
              "#ed7953"
             ],
             [
              0.7777777777777778,
              "#fb9f3a"
             ],
             [
              0.8888888888888888,
              "#fdca26"
             ],
             [
              1,
              "#f0f921"
             ]
            ],
            "type": "contour"
           }
          ],
          "contourcarpet": [
           {
            "colorbar": {
             "outlinewidth": 0,
             "ticks": ""
            },
            "type": "contourcarpet"
           }
          ],
          "heatmap": [
           {
            "colorbar": {
             "outlinewidth": 0,
             "ticks": ""
            },
            "colorscale": [
             [
              0,
              "#0d0887"
             ],
             [
              0.1111111111111111,
              "#46039f"
             ],
             [
              0.2222222222222222,
              "#7201a8"
             ],
             [
              0.3333333333333333,
              "#9c179e"
             ],
             [
              0.4444444444444444,
              "#bd3786"
             ],
             [
              0.5555555555555556,
              "#d8576b"
             ],
             [
              0.6666666666666666,
              "#ed7953"
             ],
             [
              0.7777777777777778,
              "#fb9f3a"
             ],
             [
              0.8888888888888888,
              "#fdca26"
             ],
             [
              1,
              "#f0f921"
             ]
            ],
            "type": "heatmap"
           }
          ],
          "heatmapgl": [
           {
            "colorbar": {
             "outlinewidth": 0,
             "ticks": ""
            },
            "colorscale": [
             [
              0,
              "#0d0887"
             ],
             [
              0.1111111111111111,
              "#46039f"
             ],
             [
              0.2222222222222222,
              "#7201a8"
             ],
             [
              0.3333333333333333,
              "#9c179e"
             ],
             [
              0.4444444444444444,
              "#bd3786"
             ],
             [
              0.5555555555555556,
              "#d8576b"
             ],
             [
              0.6666666666666666,
              "#ed7953"
             ],
             [
              0.7777777777777778,
              "#fb9f3a"
             ],
             [
              0.8888888888888888,
              "#fdca26"
             ],
             [
              1,
              "#f0f921"
             ]
            ],
            "type": "heatmapgl"
           }
          ],
          "histogram": [
           {
            "marker": {
             "pattern": {
              "fillmode": "overlay",
              "size": 10,
              "solidity": 0.2
             }
            },
            "type": "histogram"
           }
          ],
          "histogram2d": [
           {
            "colorbar": {
             "outlinewidth": 0,
             "ticks": ""
            },
            "colorscale": [
             [
              0,
              "#0d0887"
             ],
             [
              0.1111111111111111,
              "#46039f"
             ],
             [
              0.2222222222222222,
              "#7201a8"
             ],
             [
              0.3333333333333333,
              "#9c179e"
             ],
             [
              0.4444444444444444,
              "#bd3786"
             ],
             [
              0.5555555555555556,
              "#d8576b"
             ],
             [
              0.6666666666666666,
              "#ed7953"
             ],
             [
              0.7777777777777778,
              "#fb9f3a"
             ],
             [
              0.8888888888888888,
              "#fdca26"
             ],
             [
              1,
              "#f0f921"
             ]
            ],
            "type": "histogram2d"
           }
          ],
          "histogram2dcontour": [
           {
            "colorbar": {
             "outlinewidth": 0,
             "ticks": ""
            },
            "colorscale": [
             [
              0,
              "#0d0887"
             ],
             [
              0.1111111111111111,
              "#46039f"
             ],
             [
              0.2222222222222222,
              "#7201a8"
             ],
             [
              0.3333333333333333,
              "#9c179e"
             ],
             [
              0.4444444444444444,
              "#bd3786"
             ],
             [
              0.5555555555555556,
              "#d8576b"
             ],
             [
              0.6666666666666666,
              "#ed7953"
             ],
             [
              0.7777777777777778,
              "#fb9f3a"
             ],
             [
              0.8888888888888888,
              "#fdca26"
             ],
             [
              1,
              "#f0f921"
             ]
            ],
            "type": "histogram2dcontour"
           }
          ],
          "mesh3d": [
           {
            "colorbar": {
             "outlinewidth": 0,
             "ticks": ""
            },
            "type": "mesh3d"
           }
          ],
          "parcoords": [
           {
            "line": {
             "colorbar": {
              "outlinewidth": 0,
              "ticks": ""
             }
            },
            "type": "parcoords"
           }
          ],
          "pie": [
           {
            "automargin": true,
            "type": "pie"
           }
          ],
          "scatter": [
           {
            "fillpattern": {
             "fillmode": "overlay",
             "size": 10,
             "solidity": 0.2
            },
            "type": "scatter"
           }
          ],
          "scatter3d": [
           {
            "line": {
             "colorbar": {
              "outlinewidth": 0,
              "ticks": ""
             }
            },
            "marker": {
             "colorbar": {
              "outlinewidth": 0,
              "ticks": ""
             }
            },
            "type": "scatter3d"
           }
          ],
          "scattercarpet": [
           {
            "marker": {
             "colorbar": {
              "outlinewidth": 0,
              "ticks": ""
             }
            },
            "type": "scattercarpet"
           }
          ],
          "scattergeo": [
           {
            "marker": {
             "colorbar": {
              "outlinewidth": 0,
              "ticks": ""
             }
            },
            "type": "scattergeo"
           }
          ],
          "scattergl": [
           {
            "marker": {
             "colorbar": {
              "outlinewidth": 0,
              "ticks": ""
             }
            },
            "type": "scattergl"
           }
          ],
          "scattermapbox": [
           {
            "marker": {
             "colorbar": {
              "outlinewidth": 0,
              "ticks": ""
             }
            },
            "type": "scattermapbox"
           }
          ],
          "scatterpolar": [
           {
            "marker": {
             "colorbar": {
              "outlinewidth": 0,
              "ticks": ""
             }
            },
            "type": "scatterpolar"
           }
          ],
          "scatterpolargl": [
           {
            "marker": {
             "colorbar": {
              "outlinewidth": 0,
              "ticks": ""
             }
            },
            "type": "scatterpolargl"
           }
          ],
          "scatterternary": [
           {
            "marker": {
             "colorbar": {
              "outlinewidth": 0,
              "ticks": ""
             }
            },
            "type": "scatterternary"
           }
          ],
          "surface": [
           {
            "colorbar": {
             "outlinewidth": 0,
             "ticks": ""
            },
            "colorscale": [
             [
              0,
              "#0d0887"
             ],
             [
              0.1111111111111111,
              "#46039f"
             ],
             [
              0.2222222222222222,
              "#7201a8"
             ],
             [
              0.3333333333333333,
              "#9c179e"
             ],
             [
              0.4444444444444444,
              "#bd3786"
             ],
             [
              0.5555555555555556,
              "#d8576b"
             ],
             [
              0.6666666666666666,
              "#ed7953"
             ],
             [
              0.7777777777777778,
              "#fb9f3a"
             ],
             [
              0.8888888888888888,
              "#fdca26"
             ],
             [
              1,
              "#f0f921"
             ]
            ],
            "type": "surface"
           }
          ],
          "table": [
           {
            "cells": {
             "fill": {
              "color": "#EBF0F8"
             },
             "line": {
              "color": "white"
             }
            },
            "header": {
             "fill": {
              "color": "#C8D4E3"
             },
             "line": {
              "color": "white"
             }
            },
            "type": "table"
           }
          ]
         },
         "layout": {
          "annotationdefaults": {
           "arrowcolor": "#2a3f5f",
           "arrowhead": 0,
           "arrowwidth": 1
          },
          "autotypenumbers": "strict",
          "coloraxis": {
           "colorbar": {
            "outlinewidth": 0,
            "ticks": ""
           }
          },
          "colorscale": {
           "diverging": [
            [
             0,
             "#8e0152"
            ],
            [
             0.1,
             "#c51b7d"
            ],
            [
             0.2,
             "#de77ae"
            ],
            [
             0.3,
             "#f1b6da"
            ],
            [
             0.4,
             "#fde0ef"
            ],
            [
             0.5,
             "#f7f7f7"
            ],
            [
             0.6,
             "#e6f5d0"
            ],
            [
             0.7,
             "#b8e186"
            ],
            [
             0.8,
             "#7fbc41"
            ],
            [
             0.9,
             "#4d9221"
            ],
            [
             1,
             "#276419"
            ]
           ],
           "sequential": [
            [
             0,
             "#0d0887"
            ],
            [
             0.1111111111111111,
             "#46039f"
            ],
            [
             0.2222222222222222,
             "#7201a8"
            ],
            [
             0.3333333333333333,
             "#9c179e"
            ],
            [
             0.4444444444444444,
             "#bd3786"
            ],
            [
             0.5555555555555556,
             "#d8576b"
            ],
            [
             0.6666666666666666,
             "#ed7953"
            ],
            [
             0.7777777777777778,
             "#fb9f3a"
            ],
            [
             0.8888888888888888,
             "#fdca26"
            ],
            [
             1,
             "#f0f921"
            ]
           ],
           "sequentialminus": [
            [
             0,
             "#0d0887"
            ],
            [
             0.1111111111111111,
             "#46039f"
            ],
            [
             0.2222222222222222,
             "#7201a8"
            ],
            [
             0.3333333333333333,
             "#9c179e"
            ],
            [
             0.4444444444444444,
             "#bd3786"
            ],
            [
             0.5555555555555556,
             "#d8576b"
            ],
            [
             0.6666666666666666,
             "#ed7953"
            ],
            [
             0.7777777777777778,
             "#fb9f3a"
            ],
            [
             0.8888888888888888,
             "#fdca26"
            ],
            [
             1,
             "#f0f921"
            ]
           ]
          },
          "colorway": [
           "#636efa",
           "#EF553B",
           "#00cc96",
           "#ab63fa",
           "#FFA15A",
           "#19d3f3",
           "#FF6692",
           "#B6E880",
           "#FF97FF",
           "#FECB52"
          ],
          "font": {
           "color": "#2a3f5f"
          },
          "geo": {
           "bgcolor": "white",
           "lakecolor": "white",
           "landcolor": "#E5ECF6",
           "showlakes": true,
           "showland": true,
           "subunitcolor": "white"
          },
          "hoverlabel": {
           "align": "left"
          },
          "hovermode": "closest",
          "mapbox": {
           "style": "light"
          },
          "paper_bgcolor": "white",
          "plot_bgcolor": "#E5ECF6",
          "polar": {
           "angularaxis": {
            "gridcolor": "white",
            "linecolor": "white",
            "ticks": ""
           },
           "bgcolor": "#E5ECF6",
           "radialaxis": {
            "gridcolor": "white",
            "linecolor": "white",
            "ticks": ""
           }
          },
          "scene": {
           "xaxis": {
            "backgroundcolor": "#E5ECF6",
            "gridcolor": "white",
            "gridwidth": 2,
            "linecolor": "white",
            "showbackground": true,
            "ticks": "",
            "zerolinecolor": "white"
           },
           "yaxis": {
            "backgroundcolor": "#E5ECF6",
            "gridcolor": "white",
            "gridwidth": 2,
            "linecolor": "white",
            "showbackground": true,
            "ticks": "",
            "zerolinecolor": "white"
           },
           "zaxis": {
            "backgroundcolor": "#E5ECF6",
            "gridcolor": "white",
            "gridwidth": 2,
            "linecolor": "white",
            "showbackground": true,
            "ticks": "",
            "zerolinecolor": "white"
           }
          },
          "shapedefaults": {
           "line": {
            "color": "#2a3f5f"
           }
          },
          "ternary": {
           "aaxis": {
            "gridcolor": "white",
            "linecolor": "white",
            "ticks": ""
           },
           "baxis": {
            "gridcolor": "white",
            "linecolor": "white",
            "ticks": ""
           },
           "bgcolor": "#E5ECF6",
           "caxis": {
            "gridcolor": "white",
            "linecolor": "white",
            "ticks": ""
           }
          },
          "title": {
           "x": 0.05
          },
          "xaxis": {
           "automargin": true,
           "gridcolor": "white",
           "linecolor": "white",
           "ticks": "",
           "title": {
            "standoff": 15
           },
           "zerolinecolor": "white",
           "zerolinewidth": 2
          },
          "yaxis": {
           "automargin": true,
           "gridcolor": "white",
           "linecolor": "white",
           "ticks": "",
           "title": {
            "standoff": 15
           },
           "zerolinecolor": "white",
           "zerolinewidth": 2
          }
         }
        },
        "title": {
         "text": "Rice Impact vs Stability"
        },
        "xaxis": {
         "anchor": "y",
         "domain": [
          0,
          1
         ],
         "title": {
          "text": "Stability"
         }
        },
        "yaxis": {
         "anchor": "x",
         "domain": [
          0,
          1
         ],
         "title": {
          "text": "Impact"
         }
        }
       }
      }
     },
     "metadata": {},
     "output_type": "display_data"
    },
    {
     "data": {
      "application/vnd.jupyter.widget-view+json": {
       "model_id": "d38bf3e6b24b419597b88eb835c860b3",
       "version_major": 2,
       "version_minor": 0
      },
      "text/plain": [
       "interactive(children=(FloatSlider(value=0.5, description='αPM:', max=1.0), FloatSlider(value=0.5, description=…"
      ]
     },
     "metadata": {},
     "output_type": "display_data"
    },
    {
     "data": {
      "application/vnd.jupyter.widget-view+json": {
       "model_id": "64c30b47b0ba41fe9e0b4d0b624bfa10",
       "version_major": 2,
       "version_minor": 0
      },
      "text/plain": [
       "HBox(children=(Button(description='Update Plot', style=ButtonStyle()), FloatSlider(value=0.5, description='αPM…"
      ]
     },
     "execution_count": 48,
     "metadata": {},
     "output_type": "execute_result"
    }
   ],
   "source": [
    "import pandas as pd\n",
    "import plotly.express as px\n",
    "import ipywidgets as widgets\n",
    "from ipywidgets import interact\n",
    "from IPython.display import clear_output\n",
    "import plotly.graph_objects as go\n",
    "\n",
    "def update_plot(alpha1, alpha2, alpha3):\n",
    "    \n",
    "    tolerance = 1e-5 \n",
    "    filtered_df = viz_df[\n",
    "        (viz_df['Sensitivity_AreaUnderCereals_Paddy_190'].between(alpha1 - tolerance, alpha1 + tolerance)) &\n",
    "        (viz_df['Sensitivity_TotalNPK_315'].between(alpha2 - tolerance, alpha2 + tolerance)) &\n",
    "        (viz_df['Sensitivity_NetAreaIrrigated_Canals_NetAreaIrrigated_173'].between(alpha3 - tolerance, alpha3 + tolerance)) \n",
    "    ]\n",
    "\n",
    "    # Create a scatter plot with filtered data\n",
    "    fig = px.scatter(filtered_df, x='Stability_Values', y='Normalized Percentage Change', title='Rice Impact vs Stability',\n",
    "                     labels={'Normalized Percentage Change': 'Impact', 'Stability_Values': 'Stability'},\n",
    "                     text='Abbreviation', opacity=1, color_discrete_sequence=['darkblue'])\n",
    "\n",
    "    fig.update_traces(textposition='top center', textfont=dict(size=11))\n",
    "\n",
    "    # Update layout to add annotations and legends\n",
    "    fig.update_layout(\n",
    "        annotations=[\n",
    "            dict(\n",
    "                x=0.5,\n",
    "                y=-0.25,\n",
    "                showarrow=False,\n",
    "                text=f'α<sub>AP</sub>: {alpha1:.2f}, α<sub>NPK</sub>: {alpha2:.2f}, α<sub>CN</sub>: {alpha3:.2f}',\n",
    "                xref=\"paper\",\n",
    "                yref=\"paper\",\n",
    "                font=dict(size=13)\n",
    "            )\n",
    "        ],\n",
    "        legend_title_text='Districts',\n",
    "        legend_title=dict(font=dict(size=12)),\n",
    "    )\n",
    "\n",
    "    # Adding custom legends with abbreviations and full forms\n",
    "    legend_labels = [{'Abbreviation': abb, 'Full Form': full_form} \n",
    "                     for abb, full_form in zip(filtered_df['Abbreviation'].unique(), filtered_df['District'].unique())]\n",
    "\n",
    "    for label in legend_labels:\n",
    "        fig.add_trace(go.Scatter(\n",
    "            x=[None],\n",
    "            y=[None],\n",
    "            mode='markers',\n",
    "            marker=dict(color='darkblue'),\n",
    "            name=f\"{label['Abbreviation']}: {label['Full Form']}\"\n",
    "        ))\n",
    "\n",
    "    # Adding average lines for stability and percentage change\n",
    "    avg_stability = filtered_df['Stability_Values'].mean()\n",
    "    avg_precent = filtered_df['Normalized Percentage Change'].mean()\n",
    "\n",
    "    fig.add_shape(\n",
    "        type='line',\n",
    "        x0=avg_stability, y0=0, x1=avg_stability, y1=1,\n",
    "        line=dict(color='red', width=1.5, dash='dash'),\n",
    "        yref='paper'\n",
    "    )\n",
    "\n",
    "    fig.add_shape(\n",
    "        type='line',\n",
    "        x0=0, y0=avg_precent, x1=1, y1=avg_precent,\n",
    "        line=dict(color='red', width=1.5, dash='dash'),\n",
    "        xref='paper'\n",
    "    )\n",
    "\n",
    "    # Add annotations for average values\n",
    "    fig.add_trace(go.Scatter(\n",
    "        x=[avg_stability],\n",
    "        y=[-0.07],\n",
    "        text=[f'Avg Stability: {avg_stability:.2f}'],\n",
    "        mode=\"text\",\n",
    "        showlegend=False,\n",
    "        textfont=dict(size=10.7)\n",
    "    ))\n",
    "\n",
    "    fig.add_trace(go.Scatter(\n",
    "        x=[0.3],\n",
    "        y=[avg_precent-0.04],\n",
    "        text=[f'Avg Impact: {avg_precent:.2f}'],\n",
    "        mode=\"text\",\n",
    "        showlegend=False,\n",
    "        textfont=dict(size=10.7)\n",
    "    ))\n",
    "\n",
    "    clear_output()\n",
    "\n",
    "    display(fig)\n",
    "\n",
    "# Creating sliders for interaction\n",
    "alpha1_slider = widgets.FloatSlider(value=0.5, min=0, max=1, step=0.1, description='αPM:')\n",
    "alpha2_slider = widgets.FloatSlider(value=0.5, min=0, max=1, step=0.1, description='αNPK:')\n",
    "alpha3_slider = widgets.FloatSlider(value=0.5, min=0, max=1, step=0.1, description='αCN:')\n",
    "\n",
    "# Creating interactive plot\n",
    "interactive_plot = interact(update_plot, alpha1=alpha1_slider, alpha2=alpha2_slider, alpha3=alpha3_slider)\n",
    "\n",
    "# Create update button to trigger plot update\n",
    "update_button = widgets.Button(description=\"Update Plot\")\n",
    "update_button.on_click(lambda _: update_plot(alpha1_slider.value, alpha2_slider.value, alpha3_slider.value))\n",
    "\n",
    "# Display the button and sliders\n",
    "widgets.HBox([update_button, alpha1_slider, alpha2_slider, alpha3_slider])\n"
   ]
  },
  {
   "cell_type": "code",
   "execution_count": 49,
   "metadata": {},
   "outputs": [],
   "source": [
    "result_df.to_csv('Rice_Prescriptive_5000.csv',index=False)"
   ]
  }
 ],
 "metadata": {
  "kernelspec": {
   "display_name": "Python 3",
   "language": "python",
   "name": "python3"
  },
  "language_info": {
   "codemirror_mode": {
    "name": "ipython",
    "version": 3
   },
   "file_extension": ".py",
   "mimetype": "text/x-python",
   "name": "python",
   "nbconvert_exporter": "python",
   "pygments_lexer": "ipython3",
   "version": "3.9.13"
  }
 },
 "nbformat": 4,
 "nbformat_minor": 2
}
