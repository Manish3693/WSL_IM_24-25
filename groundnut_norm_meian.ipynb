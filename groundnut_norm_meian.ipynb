{
 "cells": [
  {
   "cell_type": "code",
   "execution_count": 458,
   "metadata": {},
   "outputs": [],
   "source": [
    "import pandas as pd\n",
    "import statsmodels.api as sm\n",
    "import re\n",
    "import numpy as np\n",
    "import pandas as pd\n",
    "from itertools import product"
   ]
  },
  {
   "cell_type": "code",
   "execution_count": 459,
   "metadata": {},
   "outputs": [
    {
     "data": {
      "text/html": [
       "<div>\n",
       "<style scoped>\n",
       "    .dataframe tbody tr th:only-of-type {\n",
       "        vertical-align: middle;\n",
       "    }\n",
       "\n",
       "    .dataframe tbody tr th {\n",
       "        vertical-align: top;\n",
       "    }\n",
       "\n",
       "    .dataframe thead th {\n",
       "        text-align: right;\n",
       "    }\n",
       "</style>\n",
       "<table border=\"1\" class=\"dataframe\">\n",
       "  <thead>\n",
       "    <tr style=\"text-align: right;\">\n",
       "      <th></th>\n",
       "      <th>District</th>\n",
       "      <th>Groundnut_Production</th>\n",
       "      <th>TotalNPK</th>\n",
       "      <th>AreaUnderOilSeeds_GroundNut</th>\n",
       "      <th>MotorVehicles_Tractors</th>\n",
       "      <th>LivestockCensus_2012_Sheep</th>\n",
       "      <th>Groundnut_Ratio</th>\n",
       "    </tr>\n",
       "  </thead>\n",
       "  <tbody>\n",
       "    <tr>\n",
       "      <th>0</th>\n",
       "      <td>BENGALURU</td>\n",
       "      <td>71.0</td>\n",
       "      <td>10.806111</td>\n",
       "      <td>72</td>\n",
       "      <td>6.785923</td>\n",
       "      <td>35.835866</td>\n",
       "      <td>0.000464</td>\n",
       "    </tr>\n",
       "    <tr>\n",
       "      <th>1</th>\n",
       "      <td>BENGALURU(R)</td>\n",
       "      <td>206.0</td>\n",
       "      <td>14.687376</td>\n",
       "      <td>175</td>\n",
       "      <td>0.748134</td>\n",
       "      <td>95.228861</td>\n",
       "      <td>0.000763</td>\n",
       "    </tr>\n",
       "    <tr>\n",
       "      <th>2</th>\n",
       "      <td>RAMANAGARA</td>\n",
       "      <td>4830.0</td>\n",
       "      <td>102.712727</td>\n",
       "      <td>3307</td>\n",
       "      <td>156.804614</td>\n",
       "      <td>2102.339270</td>\n",
       "      <td>0.013746</td>\n",
       "    </tr>\n",
       "    <tr>\n",
       "      <th>3</th>\n",
       "      <td>CHITRADURGA</td>\n",
       "      <td>68575.0</td>\n",
       "      <td>2748.901666</td>\n",
       "      <td>96711</td>\n",
       "      <td>1423.861199</td>\n",
       "      <td>72011.816530</td>\n",
       "      <td>0.076605</td>\n",
       "    </tr>\n",
       "    <tr>\n",
       "      <th>4</th>\n",
       "      <td>DAVANAGERE</td>\n",
       "      <td>16592.0</td>\n",
       "      <td>718.500139</td>\n",
       "      <td>15279</td>\n",
       "      <td>233.171480</td>\n",
       "      <td>2474.543782</td>\n",
       "      <td>0.007211</td>\n",
       "    </tr>\n",
       "    <tr>\n",
       "      <th>5</th>\n",
       "      <td>KOLAR</td>\n",
       "      <td>5810.0</td>\n",
       "      <td>729.248826</td>\n",
       "      <td>8608</td>\n",
       "      <td>553.920188</td>\n",
       "      <td>14627.699531</td>\n",
       "      <td>0.032864</td>\n",
       "    </tr>\n",
       "    <tr>\n",
       "      <th>6</th>\n",
       "      <td>CHIKKABALLAPURA</td>\n",
       "      <td>7132.0</td>\n",
       "      <td>554.173035</td>\n",
       "      <td>19535</td>\n",
       "      <td>223.002028</td>\n",
       "      <td>8455.960947</td>\n",
       "      <td>0.019543</td>\n",
       "    </tr>\n",
       "    <tr>\n",
       "      <th>7</th>\n",
       "      <td>SHIVAMOGGA</td>\n",
       "      <td>248.0</td>\n",
       "      <td>11.416511</td>\n",
       "      <td>438</td>\n",
       "      <td>3.618217</td>\n",
       "      <td>7.419754</td>\n",
       "      <td>0.000202</td>\n",
       "    </tr>\n",
       "    <tr>\n",
       "      <th>8</th>\n",
       "      <td>TUMAKURU</td>\n",
       "      <td>39626.0</td>\n",
       "      <td>1627.466413</td>\n",
       "      <td>64771</td>\n",
       "      <td>1131.991030</td>\n",
       "      <td>45278.361329</td>\n",
       "      <td>0.042662</td>\n",
       "    </tr>\n",
       "    <tr>\n",
       "      <th>9</th>\n",
       "      <td>CHIKKAMAGALURU</td>\n",
       "      <td>3909.0</td>\n",
       "      <td>519.663897</td>\n",
       "      <td>5851</td>\n",
       "      <td>121.617111</td>\n",
       "      <td>699.225642</td>\n",
       "      <td>0.007658</td>\n",
       "    </tr>\n",
       "    <tr>\n",
       "      <th>10</th>\n",
       "      <td>DAKSHINA KANNADA</td>\n",
       "      <td>0.0</td>\n",
       "      <td>0.000000</td>\n",
       "      <td>0</td>\n",
       "      <td>0.000000</td>\n",
       "      <td>0.000000</td>\n",
       "      <td>0.000000</td>\n",
       "    </tr>\n",
       "    <tr>\n",
       "      <th>11</th>\n",
       "      <td>UDUPI</td>\n",
       "      <td>3623.0</td>\n",
       "      <td>76.610263</td>\n",
       "      <td>1819</td>\n",
       "      <td>53.931232</td>\n",
       "      <td>0.872270</td>\n",
       "      <td>0.012461</td>\n",
       "    </tr>\n",
       "    <tr>\n",
       "      <th>12</th>\n",
       "      <td>HASSAN</td>\n",
       "      <td>521.0</td>\n",
       "      <td>26.584241</td>\n",
       "      <td>862</td>\n",
       "      <td>8.970448</td>\n",
       "      <td>62.423299</td>\n",
       "      <td>0.000388</td>\n",
       "    </tr>\n",
       "    <tr>\n",
       "      <th>13</th>\n",
       "      <td>KODAGU</td>\n",
       "      <td>45.0</td>\n",
       "      <td>8.836338</td>\n",
       "      <td>63</td>\n",
       "      <td>1.474989</td>\n",
       "      <td>0.302335</td>\n",
       "      <td>0.000216</td>\n",
       "    </tr>\n",
       "    <tr>\n",
       "      <th>14</th>\n",
       "      <td>MANDYA</td>\n",
       "      <td>1021.0</td>\n",
       "      <td>76.301428</td>\n",
       "      <td>1361</td>\n",
       "      <td>14.601824</td>\n",
       "      <td>430.625919</td>\n",
       "      <td>0.001260</td>\n",
       "    </tr>\n",
       "    <tr>\n",
       "      <th>15</th>\n",
       "      <td>MYSURU</td>\n",
       "      <td>2170.0</td>\n",
       "      <td>109.886472</td>\n",
       "      <td>2387</td>\n",
       "      <td>35.637706</td>\n",
       "      <td>386.962906</td>\n",
       "      <td>0.001772</td>\n",
       "    </tr>\n",
       "    <tr>\n",
       "      <th>16</th>\n",
       "      <td>CHAMARAJANAGAR</td>\n",
       "      <td>8867.0</td>\n",
       "      <td>437.077444</td>\n",
       "      <td>12179</td>\n",
       "      <td>67.665016</td>\n",
       "      <td>2359.241323</td>\n",
       "      <td>0.018362</td>\n",
       "    </tr>\n",
       "    <tr>\n",
       "      <th>17</th>\n",
       "      <td>BELAGAVI</td>\n",
       "      <td>39530.0</td>\n",
       "      <td>3309.632223</td>\n",
       "      <td>37419</td>\n",
       "      <td>853.959841</td>\n",
       "      <td>14506.560516</td>\n",
       "      <td>0.018388</td>\n",
       "    </tr>\n",
       "    <tr>\n",
       "      <th>18</th>\n",
       "      <td>VIJAYAPURA</td>\n",
       "      <td>27528.0</td>\n",
       "      <td>1267.386271</td>\n",
       "      <td>24779</td>\n",
       "      <td>580.055688</td>\n",
       "      <td>7228.271206</td>\n",
       "      <td>0.023371</td>\n",
       "    </tr>\n",
       "    <tr>\n",
       "      <th>19</th>\n",
       "      <td>BAGALKOT</td>\n",
       "      <td>25444.0</td>\n",
       "      <td>2319.034334</td>\n",
       "      <td>26333</td>\n",
       "      <td>659.436766</td>\n",
       "      <td>20058.996218</td>\n",
       "      <td>0.027343</td>\n",
       "    </tr>\n",
       "    <tr>\n",
       "      <th>20</th>\n",
       "      <td>DHARAWAD</td>\n",
       "      <td>21178.0</td>\n",
       "      <td>1506.608212</td>\n",
       "      <td>36152</td>\n",
       "      <td>575.986142</td>\n",
       "      <td>2981.779212</td>\n",
       "      <td>0.040304</td>\n",
       "    </tr>\n",
       "    <tr>\n",
       "      <th>21</th>\n",
       "      <td>GADAG</td>\n",
       "      <td>31332.0</td>\n",
       "      <td>1265.091872</td>\n",
       "      <td>41174</td>\n",
       "      <td>1518.327616</td>\n",
       "      <td>14077.244590</td>\n",
       "      <td>0.054342</td>\n",
       "    </tr>\n",
       "    <tr>\n",
       "      <th>22</th>\n",
       "      <td>HAVERI</td>\n",
       "      <td>18309.0</td>\n",
       "      <td>962.245499</td>\n",
       "      <td>17789</td>\n",
       "      <td>232.267686</td>\n",
       "      <td>3770.582401</td>\n",
       "      <td>0.014804</td>\n",
       "    </tr>\n",
       "    <tr>\n",
       "      <th>23</th>\n",
       "      <td>UTTARA KANNADA</td>\n",
       "      <td>3825.0</td>\n",
       "      <td>162.860526</td>\n",
       "      <td>1950</td>\n",
       "      <td>49.317519</td>\n",
       "      <td>50.859356</td>\n",
       "      <td>0.010633</td>\n",
       "    </tr>\n",
       "    <tr>\n",
       "      <th>24</th>\n",
       "      <td>BALLARI</td>\n",
       "      <td>22938.5</td>\n",
       "      <td>1852.839641</td>\n",
       "      <td>49762</td>\n",
       "      <td>721.160542</td>\n",
       "      <td>22723.723301</td>\n",
       "      <td>0.030047</td>\n",
       "    </tr>\n",
       "    <tr>\n",
       "      <th>25</th>\n",
       "      <td>BIDAR</td>\n",
       "      <td>261.0</td>\n",
       "      <td>23.320849</td>\n",
       "      <td>299</td>\n",
       "      <td>4.970978</td>\n",
       "      <td>83.608146</td>\n",
       "      <td>0.000946</td>\n",
       "    </tr>\n",
       "    <tr>\n",
       "      <th>26</th>\n",
       "      <td>KALABURAGI</td>\n",
       "      <td>3114.0</td>\n",
       "      <td>151.238385</td>\n",
       "      <td>3817</td>\n",
       "      <td>45.795271</td>\n",
       "      <td>280.247116</td>\n",
       "      <td>0.002801</td>\n",
       "    </tr>\n",
       "    <tr>\n",
       "      <th>27</th>\n",
       "      <td>YADGIRI</td>\n",
       "      <td>31435.0</td>\n",
       "      <td>4335.013151</td>\n",
       "      <td>38840</td>\n",
       "      <td>469.698763</td>\n",
       "      <td>21985.146627</td>\n",
       "      <td>0.047435</td>\n",
       "    </tr>\n",
       "    <tr>\n",
       "      <th>28</th>\n",
       "      <td>RAICHUR</td>\n",
       "      <td>26958.0</td>\n",
       "      <td>2294.879709</td>\n",
       "      <td>35960</td>\n",
       "      <td>501.355901</td>\n",
       "      <td>12675.796996</td>\n",
       "      <td>0.019575</td>\n",
       "    </tr>\n",
       "    <tr>\n",
       "      <th>29</th>\n",
       "      <td>KOPPAL</td>\n",
       "      <td>29982.0</td>\n",
       "      <td>1733.114796</td>\n",
       "      <td>22274</td>\n",
       "      <td>384.479472</td>\n",
       "      <td>12890.465433</td>\n",
       "      <td>0.023563</td>\n",
       "    </tr>\n",
       "    <tr>\n",
       "      <th>30</th>\n",
       "      <td>VIJAYANAGARA</td>\n",
       "      <td>22938.5</td>\n",
       "      <td>1852.839641</td>\n",
       "      <td>49762</td>\n",
       "      <td>721.160542</td>\n",
       "      <td>22723.723301</td>\n",
       "      <td>0.030047</td>\n",
       "    </tr>\n",
       "  </tbody>\n",
       "</table>\n",
       "</div>"
      ],
      "text/plain": [
       "            District  Groundnut_Production     TotalNPK  \\\n",
       "0          BENGALURU                  71.0    10.806111   \n",
       "1       BENGALURU(R)                 206.0    14.687376   \n",
       "2         RAMANAGARA                4830.0   102.712727   \n",
       "3        CHITRADURGA               68575.0  2748.901666   \n",
       "4         DAVANAGERE               16592.0   718.500139   \n",
       "5              KOLAR                5810.0   729.248826   \n",
       "6    CHIKKABALLAPURA                7132.0   554.173035   \n",
       "7         SHIVAMOGGA                 248.0    11.416511   \n",
       "8           TUMAKURU               39626.0  1627.466413   \n",
       "9     CHIKKAMAGALURU                3909.0   519.663897   \n",
       "10  DAKSHINA KANNADA                   0.0     0.000000   \n",
       "11             UDUPI                3623.0    76.610263   \n",
       "12            HASSAN                 521.0    26.584241   \n",
       "13            KODAGU                  45.0     8.836338   \n",
       "14            MANDYA                1021.0    76.301428   \n",
       "15            MYSURU                2170.0   109.886472   \n",
       "16    CHAMARAJANAGAR                8867.0   437.077444   \n",
       "17          BELAGAVI               39530.0  3309.632223   \n",
       "18        VIJAYAPURA               27528.0  1267.386271   \n",
       "19          BAGALKOT               25444.0  2319.034334   \n",
       "20          DHARAWAD               21178.0  1506.608212   \n",
       "21             GADAG               31332.0  1265.091872   \n",
       "22            HAVERI               18309.0   962.245499   \n",
       "23    UTTARA KANNADA                3825.0   162.860526   \n",
       "24           BALLARI               22938.5  1852.839641   \n",
       "25             BIDAR                 261.0    23.320849   \n",
       "26        KALABURAGI                3114.0   151.238385   \n",
       "27           YADGIRI               31435.0  4335.013151   \n",
       "28           RAICHUR               26958.0  2294.879709   \n",
       "29            KOPPAL               29982.0  1733.114796   \n",
       "30      VIJAYANAGARA               22938.5  1852.839641   \n",
       "\n",
       "    AreaUnderOilSeeds_GroundNut  MotorVehicles_Tractors  \\\n",
       "0                            72                6.785923   \n",
       "1                           175                0.748134   \n",
       "2                          3307              156.804614   \n",
       "3                         96711             1423.861199   \n",
       "4                         15279              233.171480   \n",
       "5                          8608              553.920188   \n",
       "6                         19535              223.002028   \n",
       "7                           438                3.618217   \n",
       "8                         64771             1131.991030   \n",
       "9                          5851              121.617111   \n",
       "10                            0                0.000000   \n",
       "11                         1819               53.931232   \n",
       "12                          862                8.970448   \n",
       "13                           63                1.474989   \n",
       "14                         1361               14.601824   \n",
       "15                         2387               35.637706   \n",
       "16                        12179               67.665016   \n",
       "17                        37419              853.959841   \n",
       "18                        24779              580.055688   \n",
       "19                        26333              659.436766   \n",
       "20                        36152              575.986142   \n",
       "21                        41174             1518.327616   \n",
       "22                        17789              232.267686   \n",
       "23                         1950               49.317519   \n",
       "24                        49762              721.160542   \n",
       "25                          299                4.970978   \n",
       "26                         3817               45.795271   \n",
       "27                        38840              469.698763   \n",
       "28                        35960              501.355901   \n",
       "29                        22274              384.479472   \n",
       "30                        49762              721.160542   \n",
       "\n",
       "    LivestockCensus_2012_Sheep  Groundnut_Ratio  \n",
       "0                    35.835866         0.000464  \n",
       "1                    95.228861         0.000763  \n",
       "2                  2102.339270         0.013746  \n",
       "3                 72011.816530         0.076605  \n",
       "4                  2474.543782         0.007211  \n",
       "5                 14627.699531         0.032864  \n",
       "6                  8455.960947         0.019543  \n",
       "7                     7.419754         0.000202  \n",
       "8                 45278.361329         0.042662  \n",
       "9                   699.225642         0.007658  \n",
       "10                    0.000000         0.000000  \n",
       "11                    0.872270         0.012461  \n",
       "12                   62.423299         0.000388  \n",
       "13                    0.302335         0.000216  \n",
       "14                  430.625919         0.001260  \n",
       "15                  386.962906         0.001772  \n",
       "16                 2359.241323         0.018362  \n",
       "17                14506.560516         0.018388  \n",
       "18                 7228.271206         0.023371  \n",
       "19                20058.996218         0.027343  \n",
       "20                 2981.779212         0.040304  \n",
       "21                14077.244590         0.054342  \n",
       "22                 3770.582401         0.014804  \n",
       "23                   50.859356         0.010633  \n",
       "24                22723.723301         0.030047  \n",
       "25                   83.608146         0.000946  \n",
       "26                  280.247116         0.002801  \n",
       "27                21985.146627         0.047435  \n",
       "28                12675.796996         0.019575  \n",
       "29                12890.465433         0.023563  \n",
       "30                22723.723301         0.030047  "
      ]
     },
     "execution_count": 459,
     "metadata": {},
     "output_type": "execute_result"
    }
   ],
   "source": [
    "def remove_pattern(col_name):\n",
    "    return re.sub(r'_[0-9]{3}$', '', col_name)\n",
    "\n",
    "Zones = pd.read_excel('Zones.xlsx')\n",
    "Dataset = pd.read_csv('KAG 2016-17\\Agriculture\\Agriculture_KAG_2016_17.csv')\n",
    "Dataset.columns = map(remove_pattern, Dataset.columns)\n",
    "\n",
    "param = pd.read_csv('Params/4_parameters_multicollinearity_groundnut.csv')\n",
    "param.columns = map(remove_pattern, param.columns)\n",
    "\n",
    "Working_Directory = pd.read_csv('Working_Directory.csv')\n",
    "Working_Directory = Working_Directory[['District','Groundnut_Production', 'TotalNPK', 'AreaUnderOilSeeds_GroundNut', 'MotorVehicles_Tractors',\n",
    "       'LivestockCensus_2012_Sheep','Groundnut_Ratio']].copy()\n",
    "\n",
    "for x in param.columns:\n",
    "    if(x != 'AreaUnderOilSeeds_GroundNut'):\n",
    "        Working_Directory[x] = Working_Directory[x]*Working_Directory['Groundnut_Ratio']\n",
    "\n",
    "Working_Directory"
   ]
  },
  {
   "cell_type": "code",
   "execution_count": 460,
   "metadata": {},
   "outputs": [
    {
     "data": {
      "text/html": [
       "<div>\n",
       "<style scoped>\n",
       "    .dataframe tbody tr th:only-of-type {\n",
       "        vertical-align: middle;\n",
       "    }\n",
       "\n",
       "    .dataframe tbody tr th {\n",
       "        vertical-align: top;\n",
       "    }\n",
       "\n",
       "    .dataframe thead th {\n",
       "        text-align: right;\n",
       "    }\n",
       "</style>\n",
       "<table border=\"1\" class=\"dataframe\">\n",
       "  <thead>\n",
       "    <tr style=\"text-align: right;\">\n",
       "      <th></th>\n",
       "      <th>AreaUnderOilSeeds_GroundNut</th>\n",
       "      <th>MotorVehicles_Tractors</th>\n",
       "      <th>LivestockCensus_2012_Sheep</th>\n",
       "      <th>TotalNPK</th>\n",
       "    </tr>\n",
       "  </thead>\n",
       "  <tbody>\n",
       "    <tr>\n",
       "      <th>0</th>\n",
       "      <td>72</td>\n",
       "      <td>6.785923</td>\n",
       "      <td>35.835866</td>\n",
       "      <td>10.806111</td>\n",
       "    </tr>\n",
       "    <tr>\n",
       "      <th>1</th>\n",
       "      <td>175</td>\n",
       "      <td>0.748134</td>\n",
       "      <td>95.228861</td>\n",
       "      <td>14.687376</td>\n",
       "    </tr>\n",
       "    <tr>\n",
       "      <th>2</th>\n",
       "      <td>3307</td>\n",
       "      <td>156.804614</td>\n",
       "      <td>2102.339270</td>\n",
       "      <td>102.712727</td>\n",
       "    </tr>\n",
       "    <tr>\n",
       "      <th>3</th>\n",
       "      <td>96711</td>\n",
       "      <td>1423.861199</td>\n",
       "      <td>72011.816530</td>\n",
       "      <td>2748.901666</td>\n",
       "    </tr>\n",
       "    <tr>\n",
       "      <th>4</th>\n",
       "      <td>15279</td>\n",
       "      <td>233.171480</td>\n",
       "      <td>2474.543782</td>\n",
       "      <td>718.500139</td>\n",
       "    </tr>\n",
       "  </tbody>\n",
       "</table>\n",
       "</div>"
      ],
      "text/plain": [
       "   AreaUnderOilSeeds_GroundNut  MotorVehicles_Tractors  \\\n",
       "0                           72                6.785923   \n",
       "1                          175                0.748134   \n",
       "2                         3307              156.804614   \n",
       "3                        96711             1423.861199   \n",
       "4                        15279              233.171480   \n",
       "\n",
       "   LivestockCensus_2012_Sheep     TotalNPK  \n",
       "0                   35.835866    10.806111  \n",
       "1                   95.228861    14.687376  \n",
       "2                 2102.339270   102.712727  \n",
       "3                72011.816530  2748.901666  \n",
       "4                 2474.543782   718.500139  "
      ]
     },
     "execution_count": 460,
     "metadata": {},
     "output_type": "execute_result"
    }
   ],
   "source": [
    "Case_file = pd.read_csv('Params/4_parameters_multicollinearity_groundnut.csv')\n",
    "y = Working_Directory['Groundnut_Production']\n",
    "Case_file.head()"
   ]
  },
  {
   "cell_type": "code",
   "execution_count": 461,
   "metadata": {},
   "outputs": [
    {
     "data": {
      "text/html": [
       "<div>\n",
       "<style scoped>\n",
       "    .dataframe tbody tr th:only-of-type {\n",
       "        vertical-align: middle;\n",
       "    }\n",
       "\n",
       "    .dataframe tbody tr th {\n",
       "        vertical-align: top;\n",
       "    }\n",
       "\n",
       "    .dataframe thead th {\n",
       "        text-align: right;\n",
       "    }\n",
       "</style>\n",
       "<table border=\"1\" class=\"dataframe\">\n",
       "  <thead>\n",
       "    <tr style=\"text-align: right;\">\n",
       "      <th></th>\n",
       "      <th>AreaUnderOilSeeds_GroundNut</th>\n",
       "      <th>MotorVehicles_Tractors</th>\n",
       "      <th>LivestockCensus_2012_Sheep</th>\n",
       "      <th>TotalNPK</th>\n",
       "    </tr>\n",
       "  </thead>\n",
       "  <tbody>\n",
       "    <tr>\n",
       "      <th>0</th>\n",
       "      <td>72</td>\n",
       "      <td>6.785923</td>\n",
       "      <td>35.835866</td>\n",
       "      <td>10.806111</td>\n",
       "    </tr>\n",
       "    <tr>\n",
       "      <th>1</th>\n",
       "      <td>175</td>\n",
       "      <td>0.748134</td>\n",
       "      <td>95.228861</td>\n",
       "      <td>14.687376</td>\n",
       "    </tr>\n",
       "    <tr>\n",
       "      <th>2</th>\n",
       "      <td>3307</td>\n",
       "      <td>156.804614</td>\n",
       "      <td>2102.339270</td>\n",
       "      <td>102.712727</td>\n",
       "    </tr>\n",
       "    <tr>\n",
       "      <th>3</th>\n",
       "      <td>96711</td>\n",
       "      <td>1423.861199</td>\n",
       "      <td>72011.816530</td>\n",
       "      <td>2748.901666</td>\n",
       "    </tr>\n",
       "    <tr>\n",
       "      <th>4</th>\n",
       "      <td>15279</td>\n",
       "      <td>233.171480</td>\n",
       "      <td>2474.543782</td>\n",
       "      <td>718.500139</td>\n",
       "    </tr>\n",
       "    <tr>\n",
       "      <th>5</th>\n",
       "      <td>8608</td>\n",
       "      <td>553.920188</td>\n",
       "      <td>14627.699531</td>\n",
       "      <td>729.248826</td>\n",
       "    </tr>\n",
       "    <tr>\n",
       "      <th>6</th>\n",
       "      <td>19535</td>\n",
       "      <td>223.002028</td>\n",
       "      <td>8455.960947</td>\n",
       "      <td>554.173035</td>\n",
       "    </tr>\n",
       "    <tr>\n",
       "      <th>7</th>\n",
       "      <td>438</td>\n",
       "      <td>3.618217</td>\n",
       "      <td>7.419754</td>\n",
       "      <td>11.416511</td>\n",
       "    </tr>\n",
       "    <tr>\n",
       "      <th>8</th>\n",
       "      <td>64771</td>\n",
       "      <td>1131.991030</td>\n",
       "      <td>45278.361329</td>\n",
       "      <td>1627.466413</td>\n",
       "    </tr>\n",
       "    <tr>\n",
       "      <th>9</th>\n",
       "      <td>5851</td>\n",
       "      <td>121.617111</td>\n",
       "      <td>699.225642</td>\n",
       "      <td>519.663897</td>\n",
       "    </tr>\n",
       "    <tr>\n",
       "      <th>10</th>\n",
       "      <td>0</td>\n",
       "      <td>0.000000</td>\n",
       "      <td>0.000000</td>\n",
       "      <td>0.000000</td>\n",
       "    </tr>\n",
       "    <tr>\n",
       "      <th>11</th>\n",
       "      <td>1819</td>\n",
       "      <td>53.931232</td>\n",
       "      <td>0.872270</td>\n",
       "      <td>76.610263</td>\n",
       "    </tr>\n",
       "    <tr>\n",
       "      <th>12</th>\n",
       "      <td>862</td>\n",
       "      <td>8.970448</td>\n",
       "      <td>62.423299</td>\n",
       "      <td>26.584241</td>\n",
       "    </tr>\n",
       "    <tr>\n",
       "      <th>13</th>\n",
       "      <td>63</td>\n",
       "      <td>1.474989</td>\n",
       "      <td>0.302335</td>\n",
       "      <td>8.836338</td>\n",
       "    </tr>\n",
       "    <tr>\n",
       "      <th>14</th>\n",
       "      <td>1361</td>\n",
       "      <td>14.601824</td>\n",
       "      <td>430.625919</td>\n",
       "      <td>76.301428</td>\n",
       "    </tr>\n",
       "    <tr>\n",
       "      <th>15</th>\n",
       "      <td>2387</td>\n",
       "      <td>35.637706</td>\n",
       "      <td>386.962906</td>\n",
       "      <td>109.886472</td>\n",
       "    </tr>\n",
       "    <tr>\n",
       "      <th>16</th>\n",
       "      <td>12179</td>\n",
       "      <td>67.665016</td>\n",
       "      <td>2359.241323</td>\n",
       "      <td>437.077444</td>\n",
       "    </tr>\n",
       "    <tr>\n",
       "      <th>17</th>\n",
       "      <td>37419</td>\n",
       "      <td>853.959841</td>\n",
       "      <td>14506.560516</td>\n",
       "      <td>3309.632223</td>\n",
       "    </tr>\n",
       "    <tr>\n",
       "      <th>18</th>\n",
       "      <td>24779</td>\n",
       "      <td>580.055688</td>\n",
       "      <td>7228.271206</td>\n",
       "      <td>1267.386271</td>\n",
       "    </tr>\n",
       "    <tr>\n",
       "      <th>19</th>\n",
       "      <td>26333</td>\n",
       "      <td>659.436766</td>\n",
       "      <td>20058.996218</td>\n",
       "      <td>2319.034334</td>\n",
       "    </tr>\n",
       "    <tr>\n",
       "      <th>20</th>\n",
       "      <td>36152</td>\n",
       "      <td>575.986142</td>\n",
       "      <td>2981.779212</td>\n",
       "      <td>1506.608212</td>\n",
       "    </tr>\n",
       "    <tr>\n",
       "      <th>21</th>\n",
       "      <td>41174</td>\n",
       "      <td>1518.327616</td>\n",
       "      <td>14077.244590</td>\n",
       "      <td>1265.091872</td>\n",
       "    </tr>\n",
       "    <tr>\n",
       "      <th>22</th>\n",
       "      <td>17789</td>\n",
       "      <td>232.267686</td>\n",
       "      <td>3770.582401</td>\n",
       "      <td>962.245499</td>\n",
       "    </tr>\n",
       "    <tr>\n",
       "      <th>23</th>\n",
       "      <td>1950</td>\n",
       "      <td>49.317519</td>\n",
       "      <td>50.859356</td>\n",
       "      <td>162.860526</td>\n",
       "    </tr>\n",
       "    <tr>\n",
       "      <th>24</th>\n",
       "      <td>49762</td>\n",
       "      <td>721.160542</td>\n",
       "      <td>22723.723301</td>\n",
       "      <td>1852.839641</td>\n",
       "    </tr>\n",
       "    <tr>\n",
       "      <th>25</th>\n",
       "      <td>299</td>\n",
       "      <td>4.970978</td>\n",
       "      <td>83.608146</td>\n",
       "      <td>23.320849</td>\n",
       "    </tr>\n",
       "    <tr>\n",
       "      <th>26</th>\n",
       "      <td>3817</td>\n",
       "      <td>45.795271</td>\n",
       "      <td>280.247116</td>\n",
       "      <td>151.238385</td>\n",
       "    </tr>\n",
       "    <tr>\n",
       "      <th>27</th>\n",
       "      <td>38840</td>\n",
       "      <td>469.698763</td>\n",
       "      <td>21985.146627</td>\n",
       "      <td>4335.013151</td>\n",
       "    </tr>\n",
       "    <tr>\n",
       "      <th>28</th>\n",
       "      <td>35960</td>\n",
       "      <td>501.355901</td>\n",
       "      <td>12675.796996</td>\n",
       "      <td>2294.879709</td>\n",
       "    </tr>\n",
       "    <tr>\n",
       "      <th>29</th>\n",
       "      <td>22274</td>\n",
       "      <td>384.479472</td>\n",
       "      <td>12890.465433</td>\n",
       "      <td>1733.114796</td>\n",
       "    </tr>\n",
       "    <tr>\n",
       "      <th>30</th>\n",
       "      <td>49762</td>\n",
       "      <td>721.160542</td>\n",
       "      <td>22723.723301</td>\n",
       "      <td>1852.839641</td>\n",
       "    </tr>\n",
       "  </tbody>\n",
       "</table>\n",
       "</div>"
      ],
      "text/plain": [
       "    AreaUnderOilSeeds_GroundNut  MotorVehicles_Tractors  \\\n",
       "0                            72                6.785923   \n",
       "1                           175                0.748134   \n",
       "2                          3307              156.804614   \n",
       "3                         96711             1423.861199   \n",
       "4                         15279              233.171480   \n",
       "5                          8608              553.920188   \n",
       "6                         19535              223.002028   \n",
       "7                           438                3.618217   \n",
       "8                         64771             1131.991030   \n",
       "9                          5851              121.617111   \n",
       "10                            0                0.000000   \n",
       "11                         1819               53.931232   \n",
       "12                          862                8.970448   \n",
       "13                           63                1.474989   \n",
       "14                         1361               14.601824   \n",
       "15                         2387               35.637706   \n",
       "16                        12179               67.665016   \n",
       "17                        37419              853.959841   \n",
       "18                        24779              580.055688   \n",
       "19                        26333              659.436766   \n",
       "20                        36152              575.986142   \n",
       "21                        41174             1518.327616   \n",
       "22                        17789              232.267686   \n",
       "23                         1950               49.317519   \n",
       "24                        49762              721.160542   \n",
       "25                          299                4.970978   \n",
       "26                         3817               45.795271   \n",
       "27                        38840              469.698763   \n",
       "28                        35960              501.355901   \n",
       "29                        22274              384.479472   \n",
       "30                        49762              721.160542   \n",
       "\n",
       "    LivestockCensus_2012_Sheep     TotalNPK  \n",
       "0                    35.835866    10.806111  \n",
       "1                    95.228861    14.687376  \n",
       "2                  2102.339270   102.712727  \n",
       "3                 72011.816530  2748.901666  \n",
       "4                  2474.543782   718.500139  \n",
       "5                 14627.699531   729.248826  \n",
       "6                  8455.960947   554.173035  \n",
       "7                     7.419754    11.416511  \n",
       "8                 45278.361329  1627.466413  \n",
       "9                   699.225642   519.663897  \n",
       "10                    0.000000     0.000000  \n",
       "11                    0.872270    76.610263  \n",
       "12                   62.423299    26.584241  \n",
       "13                    0.302335     8.836338  \n",
       "14                  430.625919    76.301428  \n",
       "15                  386.962906   109.886472  \n",
       "16                 2359.241323   437.077444  \n",
       "17                14506.560516  3309.632223  \n",
       "18                 7228.271206  1267.386271  \n",
       "19                20058.996218  2319.034334  \n",
       "20                 2981.779212  1506.608212  \n",
       "21                14077.244590  1265.091872  \n",
       "22                 3770.582401   962.245499  \n",
       "23                   50.859356   162.860526  \n",
       "24                22723.723301  1852.839641  \n",
       "25                   83.608146    23.320849  \n",
       "26                  280.247116   151.238385  \n",
       "27                21985.146627  4335.013151  \n",
       "28                12675.796996  2294.879709  \n",
       "29                12890.465433  1733.114796  \n",
       "30                22723.723301  1852.839641  "
      ]
     },
     "execution_count": 461,
     "metadata": {},
     "output_type": "execute_result"
    }
   ],
   "source": [
    "Case_file"
   ]
  },
  {
   "cell_type": "code",
   "execution_count": 462,
   "metadata": {},
   "outputs": [
    {
     "data": {
      "text/html": [
       "<div>\n",
       "<style scoped>\n",
       "    .dataframe tbody tr th:only-of-type {\n",
       "        vertical-align: middle;\n",
       "    }\n",
       "\n",
       "    .dataframe tbody tr th {\n",
       "        vertical-align: top;\n",
       "    }\n",
       "\n",
       "    .dataframe thead th {\n",
       "        text-align: right;\n",
       "    }\n",
       "</style>\n",
       "<table border=\"1\" class=\"dataframe\">\n",
       "  <thead>\n",
       "    <tr style=\"text-align: right;\">\n",
       "      <th></th>\n",
       "      <th>const</th>\n",
       "      <th>AreaUnderOilSeeds_GroundNut</th>\n",
       "      <th>MotorVehicles_Tractors</th>\n",
       "      <th>LivestockCensus_2012_Sheep</th>\n",
       "      <th>TotalNPK</th>\n",
       "    </tr>\n",
       "  </thead>\n",
       "  <tbody>\n",
       "    <tr>\n",
       "      <th>24</th>\n",
       "      <td>1.0</td>\n",
       "      <td>49762</td>\n",
       "      <td>721.160542</td>\n",
       "      <td>22723.723301</td>\n",
       "      <td>1852.839641</td>\n",
       "    </tr>\n",
       "    <tr>\n",
       "      <th>25</th>\n",
       "      <td>1.0</td>\n",
       "      <td>299</td>\n",
       "      <td>4.970978</td>\n",
       "      <td>83.608146</td>\n",
       "      <td>23.320849</td>\n",
       "    </tr>\n",
       "    <tr>\n",
       "      <th>26</th>\n",
       "      <td>1.0</td>\n",
       "      <td>3817</td>\n",
       "      <td>45.795271</td>\n",
       "      <td>280.247116</td>\n",
       "      <td>151.238385</td>\n",
       "    </tr>\n",
       "    <tr>\n",
       "      <th>27</th>\n",
       "      <td>1.0</td>\n",
       "      <td>38840</td>\n",
       "      <td>469.698763</td>\n",
       "      <td>21985.146627</td>\n",
       "      <td>4335.013151</td>\n",
       "    </tr>\n",
       "    <tr>\n",
       "      <th>28</th>\n",
       "      <td>1.0</td>\n",
       "      <td>35960</td>\n",
       "      <td>501.355901</td>\n",
       "      <td>12675.796996</td>\n",
       "      <td>2294.879709</td>\n",
       "    </tr>\n",
       "    <tr>\n",
       "      <th>29</th>\n",
       "      <td>1.0</td>\n",
       "      <td>22274</td>\n",
       "      <td>384.479472</td>\n",
       "      <td>12890.465433</td>\n",
       "      <td>1733.114796</td>\n",
       "    </tr>\n",
       "    <tr>\n",
       "      <th>30</th>\n",
       "      <td>1.0</td>\n",
       "      <td>49762</td>\n",
       "      <td>721.160542</td>\n",
       "      <td>22723.723301</td>\n",
       "      <td>1852.839641</td>\n",
       "    </tr>\n",
       "  </tbody>\n",
       "</table>\n",
       "</div>"
      ],
      "text/plain": [
       "    const  AreaUnderOilSeeds_GroundNut  MotorVehicles_Tractors  \\\n",
       "24    1.0                        49762              721.160542   \n",
       "25    1.0                          299                4.970978   \n",
       "26    1.0                         3817               45.795271   \n",
       "27    1.0                        38840              469.698763   \n",
       "28    1.0                        35960              501.355901   \n",
       "29    1.0                        22274              384.479472   \n",
       "30    1.0                        49762              721.160542   \n",
       "\n",
       "    LivestockCensus_2012_Sheep     TotalNPK  \n",
       "24                22723.723301  1852.839641  \n",
       "25                   83.608146    23.320849  \n",
       "26                  280.247116   151.238385  \n",
       "27                21985.146627  4335.013151  \n",
       "28                12675.796996  2294.879709  \n",
       "29                12890.465433  1733.114796  \n",
       "30                22723.723301  1852.839641  "
      ]
     },
     "execution_count": 462,
     "metadata": {},
     "output_type": "execute_result"
    }
   ],
   "source": [
    "if(len(Case_file) < 31):\n",
    "    row_24 = Case_file.iloc[24]\n",
    "    halved_row_24 = row_24 / 2\n",
    "    Case_file.iloc[24] = halved_row_24\n",
    "    Case_file.loc[len(Case_file)] = halved_row_24\n",
    "Case_file =sm.add_constant(Case_file)\n",
    "\n",
    "Case_file[24:]"
   ]
  },
  {
   "cell_type": "code",
   "execution_count": 463,
   "metadata": {},
   "outputs": [
    {
     "data": {
      "text/plain": [
       "25"
      ]
     },
     "execution_count": 463,
     "metadata": {},
     "output_type": "execute_result"
    }
   ],
   "source": [
    "# Ensure that the index of y and Case_file are aligned\n",
    "y = y.loc[Case_file.index]\n",
    "\n",
    "# Identify rows in Case_file that have any zeros\n",
    "rows_to_remove = (Case_file == 0).any(axis=1)\n",
    "\n",
    "# Identify rows where 'Groundnut_Production' is less than 500\n",
    "rows_to_remove |= Working_Directory['Groundnut_Production'] < 500\n",
    "\n",
    "# Apply the mask to both DataFrames\n",
    "Case_file = Case_file[~rows_to_remove].reset_index(drop=True)\n",
    "y = y[~rows_to_remove].reset_index(drop=True)\n",
    "\n",
    "# Correct way to get the length of Case_file\n",
    "case_file_length = len(Case_file)\n",
    "case_file_length\n"
   ]
  },
  {
   "cell_type": "code",
   "execution_count": 464,
   "metadata": {},
   "outputs": [],
   "source": [
    "Case_file_1 = Case_file[['const', 'AreaUnderOilSeeds_GroundNut', 'MotorVehicles_Tractors','LivestockCensus_2012_Sheep', 'TotalNPK']].copy()"
   ]
  },
  {
   "cell_type": "code",
   "execution_count": 465,
   "metadata": {},
   "outputs": [
    {
     "data": {
      "text/plain": [
       "Index(['const', 'AreaUnderOilSeeds_GroundNut', 'MotorVehicles_Tractors',\n",
       "       'LivestockCensus_2012_Sheep', 'TotalNPK'],\n",
       "      dtype='object')"
      ]
     },
     "execution_count": 465,
     "metadata": {},
     "output_type": "execute_result"
    }
   ],
   "source": [
    "Case_file.columns"
   ]
  },
  {
   "cell_type": "code",
   "execution_count": 466,
   "metadata": {},
   "outputs": [
    {
     "data": {
      "text/html": [
       "<div>\n",
       "<style scoped>\n",
       "    .dataframe tbody tr th:only-of-type {\n",
       "        vertical-align: middle;\n",
       "    }\n",
       "\n",
       "    .dataframe tbody tr th {\n",
       "        vertical-align: top;\n",
       "    }\n",
       "\n",
       "    .dataframe thead th {\n",
       "        text-align: right;\n",
       "    }\n",
       "</style>\n",
       "<table border=\"1\" class=\"dataframe\">\n",
       "  <thead>\n",
       "    <tr style=\"text-align: right;\">\n",
       "      <th></th>\n",
       "      <th>Groundnut_Production</th>\n",
       "    </tr>\n",
       "  </thead>\n",
       "  <tbody>\n",
       "    <tr>\n",
       "      <th>0</th>\n",
       "      <td>0.063317</td>\n",
       "    </tr>\n",
       "    <tr>\n",
       "      <th>1</th>\n",
       "      <td>1.000000</td>\n",
       "    </tr>\n",
       "    <tr>\n",
       "      <th>2</th>\n",
       "      <td>0.236151</td>\n",
       "    </tr>\n",
       "    <tr>\n",
       "      <th>3</th>\n",
       "      <td>0.077718</td>\n",
       "    </tr>\n",
       "    <tr>\n",
       "      <th>4</th>\n",
       "      <td>0.097143</td>\n",
       "    </tr>\n",
       "  </tbody>\n",
       "</table>\n",
       "</div>"
      ],
      "text/plain": [
       "   Groundnut_Production\n",
       "0              0.063317\n",
       "1              1.000000\n",
       "2              0.236151\n",
       "3              0.077718\n",
       "4              0.097143"
      ]
     },
     "execution_count": 466,
     "metadata": {},
     "output_type": "execute_result"
    }
   ],
   "source": [
    "from sklearn.preprocessing import MinMaxScaler\n",
    "from sklearn.preprocessing import StandardScaler\n",
    "\n",
    "columns_to_standardize = ['AreaUnderOilSeeds_GroundNut', 'MotorVehicles_Tractors', 'LivestockCensus_2012_Sheep', 'TotalNPK']\n",
    "\n",
    "Case_file_1 = Case_file[['const'] + columns_to_standardize].copy()\n",
    "scaler = MinMaxScaler()\n",
    "\n",
    "X_st = pd.DataFrame()\n",
    "X_st['const'] = Case_file['const']\n",
    "X_st[columns_to_standardize] = scaler.fit_transform(Case_file_1[columns_to_standardize])\n",
    "\n",
    "Target = 0.05\n",
    "y_st = pd.DataFrame()\n",
    "y_st['Groundnut_Production'] = Working_Directory[~rows_to_remove]['Groundnut_Production'].reset_index(drop=True)\n",
    "columns_to_standardize = ['Groundnut_Production']\n",
    "y_st[columns_to_standardize] = scaler.fit_transform(y_st[columns_to_standardize])\n",
    "# y_st['Target_Production'] = (1+Target)*y_st['Groundnut_Production']\n",
    "# columns_to_standardize = ['GroundNut Production','Target Production']\n",
    "y_st.head()"
   ]
  },
  {
   "cell_type": "code",
   "execution_count": 467,
   "metadata": {},
   "outputs": [
    {
     "name": "stdout",
     "output_type": "stream",
     "text": [
      "Row with maximum Groundnut_Production:\n",
      "       District  Groundnut_Production     TotalNPK  \\\n",
      "3  CHITRADURGA               68575.0  2748.901666   \n",
      "\n",
      "   AreaUnderOilSeeds_GroundNut  MotorVehicles_Tractors  \\\n",
      "3                        96711             1423.861199   \n",
      "\n",
      "   LivestockCensus_2012_Sheep  Groundnut_Ratio  \n",
      "3                 72011.81653         0.076605  \n",
      "\n",
      "Row with minimum Groundnut_Production:\n",
      "    District  Groundnut_Production   TotalNPK  AreaUnderOilSeeds_GroundNut  \\\n",
      "12   HASSAN                 521.0  26.584241                          862   \n",
      "\n",
      "    MotorVehicles_Tractors  LivestockCensus_2012_Sheep  Groundnut_Ratio  \n",
      "12                8.970448                   62.423299         0.000388  \n"
     ]
    }
   ],
   "source": [
    "# Get the row with the maximum value in 'Groundnut_Production'\n",
    "max_row = Working_Directory[~rows_to_remove][Working_Directory[~rows_to_remove]['Groundnut_Production'] == Working_Directory[~rows_to_remove]['Groundnut_Production'].max()]\n",
    "\n",
    "# Get the row with the minimum value in 'Groundnut_Production'\n",
    "min_row = Working_Directory[~rows_to_remove][Working_Directory[~rows_to_remove]['Groundnut_Production'] == Working_Directory[~rows_to_remove]['Groundnut_Production'].min()]\n",
    "\n",
    "# Print the rows\n",
    "print(\"Row with maximum Groundnut_Production:\\n\", max_row)\n",
    "print(\"\\nRow with minimum Groundnut_Production:\\n\", min_row)\n"
   ]
  },
  {
   "cell_type": "code",
   "execution_count": 468,
   "metadata": {},
   "outputs": [
    {
     "data": {
      "text/html": [
       "<div>\n",
       "<style scoped>\n",
       "    .dataframe tbody tr th:only-of-type {\n",
       "        vertical-align: middle;\n",
       "    }\n",
       "\n",
       "    .dataframe tbody tr th {\n",
       "        vertical-align: top;\n",
       "    }\n",
       "\n",
       "    .dataframe thead th {\n",
       "        text-align: right;\n",
       "    }\n",
       "</style>\n",
       "<table border=\"1\" class=\"dataframe\">\n",
       "  <thead>\n",
       "    <tr style=\"text-align: right;\">\n",
       "      <th></th>\n",
       "      <th>Groundnut_Production</th>\n",
       "    </tr>\n",
       "  </thead>\n",
       "  <tbody>\n",
       "    <tr>\n",
       "      <th>0</th>\n",
       "      <td>0.063317</td>\n",
       "    </tr>\n",
       "    <tr>\n",
       "      <th>1</th>\n",
       "      <td>1.000000</td>\n",
       "    </tr>\n",
       "    <tr>\n",
       "      <th>2</th>\n",
       "      <td>0.236151</td>\n",
       "    </tr>\n",
       "    <tr>\n",
       "      <th>3</th>\n",
       "      <td>0.077718</td>\n",
       "    </tr>\n",
       "    <tr>\n",
       "      <th>4</th>\n",
       "      <td>0.097143</td>\n",
       "    </tr>\n",
       "  </tbody>\n",
       "</table>\n",
       "</div>"
      ],
      "text/plain": [
       "   Groundnut_Production\n",
       "0              0.063317\n",
       "1              1.000000\n",
       "2              0.236151\n",
       "3              0.077718\n",
       "4              0.097143"
      ]
     },
     "execution_count": 468,
     "metadata": {},
     "output_type": "execute_result"
    }
   ],
   "source": [
    "y_st.head()"
   ]
  },
  {
   "cell_type": "code",
   "execution_count": 469,
   "metadata": {},
   "outputs": [
    {
     "name": "stdout",
     "output_type": "stream",
     "text": [
      "                             OLS Regression Results                             \n",
      "================================================================================\n",
      "Dep. Variable:     Groundnut_Production   R-squared:                       0.905\n",
      "Model:                              OLS   Adj. R-squared:                  0.886\n",
      "Method:                   Least Squares   F-statistic:                     47.65\n",
      "Date:                  Thu, 19 Sep 2024   Prob (F-statistic):           5.99e-10\n",
      "Time:                          15:45:45   Log-Likelihood:                 30.027\n",
      "No. Observations:                    25   AIC:                            -50.05\n",
      "Df Residuals:                        20   BIC:                            -43.96\n",
      "Df Model:                             4                                         \n",
      "Covariance Type:              nonrobust                                         \n",
      "===============================================================================================\n",
      "                                  coef    std err          t      P>|t|      [0.025      0.975]\n",
      "-----------------------------------------------------------------------------------------------\n",
      "const                           0.0177      0.026      0.681      0.504      -0.037       0.072\n",
      "AreaUnderOilSeeds_GroundNut     0.3816      0.231      1.648      0.115      -0.101       0.864\n",
      "MotorVehicles_Tractors          0.1800      0.118      1.527      0.142      -0.066       0.426\n",
      "LivestockCensus_2012_Sheep      0.1621      0.183      0.887      0.385      -0.219       0.543\n",
      "TotalNPK                        0.2639      0.092      2.880      0.009       0.073       0.455\n",
      "==============================================================================\n",
      "Omnibus:                        0.098   Durbin-Watson:                   1.867\n",
      "Prob(Omnibus):                  0.952   Jarque-Bera (JB):                0.227\n",
      "Skew:                           0.128   Prob(JB):                        0.893\n",
      "Kurtosis:                       2.610   Cond. No.                         19.9\n",
      "==============================================================================\n",
      "\n",
      "Notes:\n",
      "[1] Standard Errors assume that the covariance matrix of the errors is correctly specified.\n"
     ]
    },
    {
     "data": {
      "text/plain": [
       "array([0.38157722, 0.18000319, 0.1620735 , 0.2638637 ])"
      ]
     },
     "execution_count": 469,
     "metadata": {},
     "output_type": "execute_result"
    }
   ],
   "source": [
    "# model=sm.OLS(y,Case_file_1).fit()\n",
    "# print(model.summary())\n",
    "# model.params.values\n",
    "# coef=model.params.values[1:]\n",
    "# coef\n",
    "\n",
    "model=sm.OLS(y_st['Groundnut_Production'],X_st).fit()\n",
    "Case_file = X_st\n",
    "print(model.summary())\n",
    "model.params.values\n",
    "coef=model.params.values[1:]\n",
    "coef"
   ]
  },
  {
   "cell_type": "code",
   "execution_count": 470,
   "metadata": {},
   "outputs": [
    {
     "data": {
      "text/html": [
       "<div>\n",
       "<style scoped>\n",
       "    .dataframe tbody tr th:only-of-type {\n",
       "        vertical-align: middle;\n",
       "    }\n",
       "\n",
       "    .dataframe tbody tr th {\n",
       "        vertical-align: top;\n",
       "    }\n",
       "\n",
       "    .dataframe thead th {\n",
       "        text-align: right;\n",
       "    }\n",
       "</style>\n",
       "<table border=\"1\" class=\"dataframe\">\n",
       "  <thead>\n",
       "    <tr style=\"text-align: right;\">\n",
       "      <th></th>\n",
       "      <th>AreaUnderOilSeeds_GroundNut</th>\n",
       "      <th>MotorVehicles_Tractors</th>\n",
       "      <th>LivestockCensus_2012_Sheep</th>\n",
       "      <th>TotalNPK</th>\n",
       "    </tr>\n",
       "  </thead>\n",
       "  <tbody>\n",
       "    <tr>\n",
       "      <th>0</th>\n",
       "      <td>0.025509</td>\n",
       "      <td>0.097945</td>\n",
       "      <td>0.029183</td>\n",
       "      <td>0.017670</td>\n",
       "    </tr>\n",
       "    <tr>\n",
       "      <th>1</th>\n",
       "      <td>1.000000</td>\n",
       "      <td>0.937413</td>\n",
       "      <td>1.000000</td>\n",
       "      <td>0.631858</td>\n",
       "    </tr>\n",
       "    <tr>\n",
       "      <th>2</th>\n",
       "      <td>0.150414</td>\n",
       "      <td>0.148541</td>\n",
       "      <td>0.034351</td>\n",
       "      <td>0.160596</td>\n",
       "    </tr>\n",
       "    <tr>\n",
       "      <th>3</th>\n",
       "      <td>0.080815</td>\n",
       "      <td>0.361048</td>\n",
       "      <td>0.203120</td>\n",
       "      <td>0.163091</td>\n",
       "    </tr>\n",
       "    <tr>\n",
       "      <th>4</th>\n",
       "      <td>0.194817</td>\n",
       "      <td>0.141803</td>\n",
       "      <td>0.117414</td>\n",
       "      <td>0.122455</td>\n",
       "    </tr>\n",
       "  </tbody>\n",
       "</table>\n",
       "</div>"
      ],
      "text/plain": [
       "   AreaUnderOilSeeds_GroundNut  MotorVehicles_Tractors  \\\n",
       "0                     0.025509                0.097945   \n",
       "1                     1.000000                0.937413   \n",
       "2                     0.150414                0.148541   \n",
       "3                     0.080815                0.361048   \n",
       "4                     0.194817                0.141803   \n",
       "\n",
       "   LivestockCensus_2012_Sheep  TotalNPK  \n",
       "0                    0.029183  0.017670  \n",
       "1                    1.000000  0.631858  \n",
       "2                    0.034351  0.160596  \n",
       "3                    0.203120  0.163091  \n",
       "4                    0.117414  0.122455  "
      ]
     },
     "execution_count": 470,
     "metadata": {},
     "output_type": "execute_result"
    }
   ],
   "source": [
    "Case_file.drop('const',axis=1,inplace=True)\n",
    "Case_file[:5]"
   ]
  },
  {
   "cell_type": "code",
   "execution_count": 471,
   "metadata": {},
   "outputs": [
    {
     "data": {
      "text/plain": [
       "<itertools.product at 0x15747126e40>"
      ]
     },
     "execution_count": 471,
     "metadata": {},
     "output_type": "execute_result"
    }
   ],
   "source": [
    "Case_file.loc[:,'Beta_0'] = model.params.values[0]\n",
    "Case_file.loc[:,'Beta_1'] = coef[0]\n",
    "Case_file.loc[:,'Beta_2'] = coef[1]\n",
    "Case_file.loc[:,'Beta_3'] = coef[2]\n",
    "Case_file.loc[:,'Beta_4'] = coef[3]\n",
    "\n",
    "intervals = np.arange(0, 1.1, 0.1)\n",
    "columns=['Sensitivity_AreaUnderOilSeeds_GroundNut', 'Sensitivity_MotorVehicles_Tractors','Sensitivity_LivestockCensus_2012_Sheep','Sensitivity_TotalNPK']\n",
    "# Generate all possible combinations of elements in arr\n",
    "\n",
    "num = len(columns)\n",
    "combinations = product(intervals, repeat=len(columns))\n",
    "combinations\n",
    "\n"
   ]
  },
  {
   "cell_type": "code",
   "execution_count": 472,
   "metadata": {},
   "outputs": [
    {
     "data": {
      "text/html": [
       "<div>\n",
       "<style scoped>\n",
       "    .dataframe tbody tr th:only-of-type {\n",
       "        vertical-align: middle;\n",
       "    }\n",
       "\n",
       "    .dataframe tbody tr th {\n",
       "        vertical-align: top;\n",
       "    }\n",
       "\n",
       "    .dataframe thead th {\n",
       "        text-align: right;\n",
       "    }\n",
       "</style>\n",
       "<table border=\"1\" class=\"dataframe\">\n",
       "  <thead>\n",
       "    <tr style=\"text-align: right;\">\n",
       "      <th></th>\n",
       "      <th>Sensitivity_AreaUnderOilSeeds_GroundNut</th>\n",
       "      <th>Sensitivity_MotorVehicles_Tractors</th>\n",
       "      <th>Sensitivity_LivestockCensus_2012_Sheep</th>\n",
       "      <th>Sensitivity_TotalNPK</th>\n",
       "    </tr>\n",
       "  </thead>\n",
       "  <tbody>\n",
       "    <tr>\n",
       "      <th>0</th>\n",
       "      <td>0.0</td>\n",
       "      <td>0.0</td>\n",
       "      <td>0.0</td>\n",
       "      <td>0.0</td>\n",
       "    </tr>\n",
       "    <tr>\n",
       "      <th>1</th>\n",
       "      <td>0.0</td>\n",
       "      <td>0.0</td>\n",
       "      <td>0.0</td>\n",
       "      <td>0.1</td>\n",
       "    </tr>\n",
       "    <tr>\n",
       "      <th>2</th>\n",
       "      <td>0.0</td>\n",
       "      <td>0.0</td>\n",
       "      <td>0.0</td>\n",
       "      <td>0.2</td>\n",
       "    </tr>\n",
       "    <tr>\n",
       "      <th>3</th>\n",
       "      <td>0.0</td>\n",
       "      <td>0.0</td>\n",
       "      <td>0.0</td>\n",
       "      <td>0.3</td>\n",
       "    </tr>\n",
       "    <tr>\n",
       "      <th>4</th>\n",
       "      <td>0.0</td>\n",
       "      <td>0.0</td>\n",
       "      <td>0.0</td>\n",
       "      <td>0.4</td>\n",
       "    </tr>\n",
       "    <tr>\n",
       "      <th>...</th>\n",
       "      <td>...</td>\n",
       "      <td>...</td>\n",
       "      <td>...</td>\n",
       "      <td>...</td>\n",
       "    </tr>\n",
       "    <tr>\n",
       "      <th>14636</th>\n",
       "      <td>1.0</td>\n",
       "      <td>1.0</td>\n",
       "      <td>1.0</td>\n",
       "      <td>0.6</td>\n",
       "    </tr>\n",
       "    <tr>\n",
       "      <th>14637</th>\n",
       "      <td>1.0</td>\n",
       "      <td>1.0</td>\n",
       "      <td>1.0</td>\n",
       "      <td>0.7</td>\n",
       "    </tr>\n",
       "    <tr>\n",
       "      <th>14638</th>\n",
       "      <td>1.0</td>\n",
       "      <td>1.0</td>\n",
       "      <td>1.0</td>\n",
       "      <td>0.8</td>\n",
       "    </tr>\n",
       "    <tr>\n",
       "      <th>14639</th>\n",
       "      <td>1.0</td>\n",
       "      <td>1.0</td>\n",
       "      <td>1.0</td>\n",
       "      <td>0.9</td>\n",
       "    </tr>\n",
       "    <tr>\n",
       "      <th>14640</th>\n",
       "      <td>1.0</td>\n",
       "      <td>1.0</td>\n",
       "      <td>1.0</td>\n",
       "      <td>1.0</td>\n",
       "    </tr>\n",
       "  </tbody>\n",
       "</table>\n",
       "<p>14641 rows × 4 columns</p>\n",
       "</div>"
      ],
      "text/plain": [
       "       Sensitivity_AreaUnderOilSeeds_GroundNut  \\\n",
       "0                                          0.0   \n",
       "1                                          0.0   \n",
       "2                                          0.0   \n",
       "3                                          0.0   \n",
       "4                                          0.0   \n",
       "...                                        ...   \n",
       "14636                                      1.0   \n",
       "14637                                      1.0   \n",
       "14638                                      1.0   \n",
       "14639                                      1.0   \n",
       "14640                                      1.0   \n",
       "\n",
       "       Sensitivity_MotorVehicles_Tractors  \\\n",
       "0                                     0.0   \n",
       "1                                     0.0   \n",
       "2                                     0.0   \n",
       "3                                     0.0   \n",
       "4                                     0.0   \n",
       "...                                   ...   \n",
       "14636                                 1.0   \n",
       "14637                                 1.0   \n",
       "14638                                 1.0   \n",
       "14639                                 1.0   \n",
       "14640                                 1.0   \n",
       "\n",
       "       Sensitivity_LivestockCensus_2012_Sheep  Sensitivity_TotalNPK  \n",
       "0                                         0.0                   0.0  \n",
       "1                                         0.0                   0.1  \n",
       "2                                         0.0                   0.2  \n",
       "3                                         0.0                   0.3  \n",
       "4                                         0.0                   0.4  \n",
       "...                                       ...                   ...  \n",
       "14636                                     1.0                   0.6  \n",
       "14637                                     1.0                   0.7  \n",
       "14638                                     1.0                   0.8  \n",
       "14639                                     1.0                   0.9  \n",
       "14640                                     1.0                   1.0  \n",
       "\n",
       "[14641 rows x 4 columns]"
      ]
     },
     "execution_count": 472,
     "metadata": {},
     "output_type": "execute_result"
    }
   ],
   "source": [
    "alpha_df = pd.DataFrame(combinations, columns=columns)\n",
    "\n",
    "# Round the selected sensitivity columns to 1 decimal place\n",
    "alpha_df[columns] = alpha_df[columns].round(1)\n",
    "alpha_df"
   ]
  },
  {
   "cell_type": "code",
   "execution_count": 473,
   "metadata": {},
   "outputs": [
    {
     "name": "stdout",
     "output_type": "stream",
     "text": [
      "        Sensitivity_AreaUnderOilSeeds_GroundNut  \\\n",
      "0                                           0.0   \n",
      "1                                           0.0   \n",
      "2                                           0.0   \n",
      "3                                           0.0   \n",
      "4                                           0.0   \n",
      "...                                         ...   \n",
      "366020                                      1.0   \n",
      "366021                                      1.0   \n",
      "366022                                      1.0   \n",
      "366023                                      1.0   \n",
      "366024                                      1.0   \n",
      "\n",
      "        Sensitivity_MotorVehicles_Tractors  \\\n",
      "0                                      0.0   \n",
      "1                                      0.0   \n",
      "2                                      0.0   \n",
      "3                                      0.0   \n",
      "4                                      0.0   \n",
      "...                                    ...   \n",
      "366020                                 1.0   \n",
      "366021                                 1.0   \n",
      "366022                                 1.0   \n",
      "366023                                 1.0   \n",
      "366024                                 1.0   \n",
      "\n",
      "        Sensitivity_LivestockCensus_2012_Sheep  Sensitivity_TotalNPK  \\\n",
      "0                                          0.0                   0.0   \n",
      "1                                          0.0                   0.0   \n",
      "2                                          0.0                   0.0   \n",
      "3                                          0.0                   0.0   \n",
      "4                                          0.0                   0.0   \n",
      "...                                        ...                   ...   \n",
      "366020                                     1.0                   1.0   \n",
      "366021                                     1.0                   1.0   \n",
      "366022                                     1.0                   1.0   \n",
      "366023                                     1.0                   1.0   \n",
      "366024                                     1.0                   1.0   \n",
      "\n",
      "        AreaUnderOilSeeds_GroundNut  MotorVehicles_Tractors  \\\n",
      "0                          0.025509                0.097945   \n",
      "1                          1.000000                0.937413   \n",
      "2                          0.150414                0.148541   \n",
      "3                          0.080815                0.361048   \n",
      "4                          0.194817                0.141803   \n",
      "...                             ...                     ...   \n",
      "366020                     0.030830                0.024398   \n",
      "366021                     0.396227                0.305248   \n",
      "366022                     0.366180                0.326222   \n",
      "366023                     0.223393                0.248787   \n",
      "366024                     0.510177                0.471850   \n",
      "\n",
      "        LivestockCensus_2012_Sheep  TotalNPK    Beta_0    Beta_1    Beta_2  \\\n",
      "0                         0.029183  0.017670  0.017719  0.381577  0.180003   \n",
      "1                         1.000000  0.631858  0.017719  0.381577  0.180003   \n",
      "2                         0.034351  0.160596  0.017719  0.381577  0.180003   \n",
      "3                         0.203120  0.163091  0.017719  0.381577  0.180003   \n",
      "4                         0.117414  0.122455  0.017719  0.381577  0.180003   \n",
      "...                            ...       ...       ...       ...       ...   \n",
      "366020                    0.003880  0.028933  0.017719  0.381577  0.180003   \n",
      "366021                    0.305291  1.000000  0.017719  0.381577  0.180003   \n",
      "366022                    0.176014  0.526479  0.017719  0.381577  0.180003   \n",
      "366023                    0.178995  0.396091  0.017719  0.381577  0.180003   \n",
      "366024                    0.315547  0.423880  0.017719  0.381577  0.180003   \n",
      "\n",
      "          Beta_3    Beta_4  \n",
      "0       0.162073  0.263864  \n",
      "1       0.162073  0.263864  \n",
      "2       0.162073  0.263864  \n",
      "3       0.162073  0.263864  \n",
      "4       0.162073  0.263864  \n",
      "...          ...       ...  \n",
      "366020  0.162073  0.263864  \n",
      "366021  0.162073  0.263864  \n",
      "366022  0.162073  0.263864  \n",
      "366023  0.162073  0.263864  \n",
      "366024  0.162073  0.263864  \n",
      "\n",
      "[366025 rows x 13 columns]\n"
     ]
    }
   ],
   "source": [
    "Case_file['key'] = 1\n",
    "alpha_df['key'] = 1\n",
    "\n",
    "# Performing the Cartesian product\n",
    "result_df = pd.merge( alpha_df, Case_file, on='key').drop('key', axis=1)\n",
    "\n",
    "print(result_df)"
   ]
  },
  {
   "cell_type": "code",
   "execution_count": 474,
   "metadata": {},
   "outputs": [
    {
     "data": {
      "text/plain": [
       "15097.387096774193"
      ]
     },
     "execution_count": 474,
     "metadata": {},
     "output_type": "execute_result"
    }
   ],
   "source": [
    "Working_Directory['Groundnut_Production'].mean()"
   ]
  },
  {
   "cell_type": "code",
   "execution_count": 475,
   "metadata": {},
   "outputs": [],
   "source": [
    "target = 0.05"
   ]
  },
  {
   "cell_type": "code",
   "execution_count": 476,
   "metadata": {},
   "outputs": [
    {
     "data": {
      "text/plain": [
       "0.2613806682928263"
      ]
     },
     "execution_count": 476,
     "metadata": {},
     "output_type": "execute_result"
    }
   ],
   "source": [
    "y_st['Groundnut_Production'].median()"
   ]
  },
  {
   "cell_type": "code",
   "execution_count": 477,
   "metadata": {},
   "outputs": [
    {
     "data": {
      "text/plain": [
       "0.013069033414641315"
      ]
     },
     "execution_count": 477,
     "metadata": {},
     "output_type": "execute_result"
    }
   ],
   "source": [
    "delta_O = 0.05*y_st['Groundnut_Production'].median()\n",
    "delta_O"
   ]
  },
  {
   "cell_type": "code",
   "execution_count": 478,
   "metadata": {},
   "outputs": [],
   "source": [
    "# delta_O =  y_st['Target_Production'].median()\n",
    "# delta_O"
   ]
  },
  {
   "cell_type": "code",
   "execution_count": 479,
   "metadata": {},
   "outputs": [],
   "source": [
    "# delta_O = 250\n",
    "# delta_O = target*Working_Directory[~rows_to_remove]['Groundnut_Production'].median()\n",
    "# # delta_O = delta_O.apply(lambda x: min(250, x))\n",
    "# delta_O = np.tile(delta_O,11**num)\n",
    "# result_df['Target'] = delta_O\n",
    "\n",
    "result_df['New_F1'] = result_df['AreaUnderOilSeeds_GroundNut'] + (result_df['Sensitivity_AreaUnderOilSeeds_GroundNut']*delta_O)/result_df['Beta_1']\n",
    "result_df['New_F2'] = result_df['MotorVehicles_Tractors'] + (result_df['Sensitivity_MotorVehicles_Tractors']*delta_O)/result_df['Beta_2']\n",
    "result_df['New_F3'] = result_df['LivestockCensus_2012_Sheep'] + (result_df['Sensitivity_LivestockCensus_2012_Sheep']*delta_O)/result_df['Beta_3']\n",
    "result_df['New_F4'] = result_df['TotalNPK'] + (result_df['Sensitivity_TotalNPK']*delta_O)/result_df['Beta_4']\n",
    "\n",
    "result_df['District'] = np.tile(Working_Directory[~rows_to_remove]['District'],11**num)\n",
    "# result_df['District'] = np.tile(Working_Directory['District'],11**num)\n",
    "\n",
    "# result_df['New_F1'] = result_df['New_F1'].apply(lambda x: max(0, x))\n",
    "# result_df['New_F2'] = result_df['New_F2'].apply(lambda x: max(0, x))\n",
    "# result_df['New_F3'] = result_df['New_F3'].apply(lambda x: max(0, x))\n",
    "# result_df['New_F4'] = result_df['New_F4'].apply(lambda x: max(0, x))\n"
   ]
  },
  {
   "cell_type": "code",
   "execution_count": 480,
   "metadata": {},
   "outputs": [],
   "source": [
    "# delta_O = y_st['Target_Production'].median() - y_st['Groundnut_Production'].median()\n",
    "# delta_O"
   ]
  },
  {
   "cell_type": "code",
   "execution_count": 481,
   "metadata": {},
   "outputs": [],
   "source": [
    "# # delta_O = 2.5\n",
    "\n",
    "# result_df['New_F1'] = result_df['AreaUnderOilSeeds_GroundNut'] + (result_df['Sensitivity_AreaUnderOilSeeds_GroundNut']*delta_O)/result_df['Beta_1']\n",
    "# result_df['New_F2'] = result_df['MotorVehicles_Tractors'] + (result_df['Sensitivity_MotorVehicles_Tractors']*delta_O)/result_df['Beta_2']\n",
    "# result_df['New_F3'] = result_df['LivestockCensus_2012_Sheep'] + (result_df['Sensitivity_LivestockCensus_2012_Sheep']*delta_O)/result_df['Beta_3']\n",
    "# result_df['New_F4'] = result_df['TotalNPK'] + (result_df['Sensitivity_TotalNPK']*delta_O)/result_df['Beta_4']\n",
    "\n",
    "# result_df['District'] = np.tile(Working_Directory['District'],11**num)\n",
    "# # result_df['District'] = np.tile(Working_Directory['District'],11**num)\n",
    "\n",
    "# # result_df['New_F1'] = result_df['New_F1'].apply(lambda x: max(0, x))\n",
    "# # result_df['New_F2'] = result_df['New_F2'].apply(lambda x: max(0, x))\n",
    "# # result_df['New_F3'] = result_df['New_F3'].apply(lambda x: max(0, x))\n",
    "# # result_df['New_F4'] = result_df['New_F4'].apply(lambda x: max(0, x))\n",
    "\n",
    "# result_df"
   ]
  },
  {
   "cell_type": "code",
   "execution_count": 482,
   "metadata": {},
   "outputs": [
    {
     "name": "stdout",
     "output_type": "stream",
     "text": [
      "15097.387096774193\n",
      "7132.0\n"
     ]
    }
   ],
   "source": [
    "print(Working_Directory['Groundnut_Production'].mean())\n",
    "print(Working_Directory['Groundnut_Production'].median())"
   ]
  },
  {
   "cell_type": "code",
   "execution_count": 483,
   "metadata": {},
   "outputs": [
    {
     "data": {
      "text/html": [
       "<div>\n",
       "<style scoped>\n",
       "    .dataframe tbody tr th:only-of-type {\n",
       "        vertical-align: middle;\n",
       "    }\n",
       "\n",
       "    .dataframe tbody tr th {\n",
       "        vertical-align: top;\n",
       "    }\n",
       "\n",
       "    .dataframe thead th {\n",
       "        text-align: right;\n",
       "    }\n",
       "</style>\n",
       "<table border=\"1\" class=\"dataframe\">\n",
       "  <thead>\n",
       "    <tr style=\"text-align: right;\">\n",
       "      <th></th>\n",
       "      <th>Sensitivity_AreaUnderOilSeeds_GroundNut</th>\n",
       "      <th>Sensitivity_MotorVehicles_Tractors</th>\n",
       "      <th>Sensitivity_LivestockCensus_2012_Sheep</th>\n",
       "      <th>Sensitivity_TotalNPK</th>\n",
       "      <th>AreaUnderOilSeeds_GroundNut</th>\n",
       "      <th>MotorVehicles_Tractors</th>\n",
       "      <th>LivestockCensus_2012_Sheep</th>\n",
       "      <th>TotalNPK</th>\n",
       "      <th>Beta_0</th>\n",
       "      <th>Beta_1</th>\n",
       "      <th>Beta_2</th>\n",
       "      <th>Beta_3</th>\n",
       "      <th>Beta_4</th>\n",
       "      <th>New_F1</th>\n",
       "      <th>New_F2</th>\n",
       "      <th>New_F3</th>\n",
       "      <th>New_F4</th>\n",
       "      <th>District</th>\n",
       "      <th>New_Production</th>\n",
       "    </tr>\n",
       "  </thead>\n",
       "  <tbody>\n",
       "    <tr>\n",
       "      <th>0</th>\n",
       "      <td>0.0</td>\n",
       "      <td>0.0</td>\n",
       "      <td>0.0</td>\n",
       "      <td>0.0</td>\n",
       "      <td>0.025509</td>\n",
       "      <td>0.097945</td>\n",
       "      <td>0.029183</td>\n",
       "      <td>0.017670</td>\n",
       "      <td>0.017719</td>\n",
       "      <td>0.381577</td>\n",
       "      <td>0.180003</td>\n",
       "      <td>0.162073</td>\n",
       "      <td>0.263864</td>\n",
       "      <td>0.025509</td>\n",
       "      <td>0.097945</td>\n",
       "      <td>0.029183</td>\n",
       "      <td>0.017670</td>\n",
       "      <td>RAMANAGARA</td>\n",
       "      <td>0.054475</td>\n",
       "    </tr>\n",
       "    <tr>\n",
       "      <th>1</th>\n",
       "      <td>0.0</td>\n",
       "      <td>0.0</td>\n",
       "      <td>0.0</td>\n",
       "      <td>0.0</td>\n",
       "      <td>1.000000</td>\n",
       "      <td>0.937413</td>\n",
       "      <td>1.000000</td>\n",
       "      <td>0.631858</td>\n",
       "      <td>0.017719</td>\n",
       "      <td>0.381577</td>\n",
       "      <td>0.180003</td>\n",
       "      <td>0.162073</td>\n",
       "      <td>0.263864</td>\n",
       "      <td>1.000000</td>\n",
       "      <td>0.937413</td>\n",
       "      <td>1.000000</td>\n",
       "      <td>0.631858</td>\n",
       "      <td>CHITRADURGA</td>\n",
       "      <td>0.896831</td>\n",
       "    </tr>\n",
       "    <tr>\n",
       "      <th>2</th>\n",
       "      <td>0.0</td>\n",
       "      <td>0.0</td>\n",
       "      <td>0.0</td>\n",
       "      <td>0.0</td>\n",
       "      <td>0.150414</td>\n",
       "      <td>0.148541</td>\n",
       "      <td>0.034351</td>\n",
       "      <td>0.160596</td>\n",
       "      <td>0.017719</td>\n",
       "      <td>0.381577</td>\n",
       "      <td>0.180003</td>\n",
       "      <td>0.162073</td>\n",
       "      <td>0.263864</td>\n",
       "      <td>0.150414</td>\n",
       "      <td>0.148541</td>\n",
       "      <td>0.034351</td>\n",
       "      <td>0.160596</td>\n",
       "      <td>DAVANAGERE</td>\n",
       "      <td>0.149794</td>\n",
       "    </tr>\n",
       "    <tr>\n",
       "      <th>3</th>\n",
       "      <td>0.0</td>\n",
       "      <td>0.0</td>\n",
       "      <td>0.0</td>\n",
       "      <td>0.0</td>\n",
       "      <td>0.080815</td>\n",
       "      <td>0.361048</td>\n",
       "      <td>0.203120</td>\n",
       "      <td>0.163091</td>\n",
       "      <td>0.017719</td>\n",
       "      <td>0.381577</td>\n",
       "      <td>0.180003</td>\n",
       "      <td>0.162073</td>\n",
       "      <td>0.263864</td>\n",
       "      <td>0.080815</td>\n",
       "      <td>0.361048</td>\n",
       "      <td>0.203120</td>\n",
       "      <td>0.163091</td>\n",
       "      <td>KOLAR</td>\n",
       "      <td>0.189500</td>\n",
       "    </tr>\n",
       "    <tr>\n",
       "      <th>4</th>\n",
       "      <td>0.0</td>\n",
       "      <td>0.0</td>\n",
       "      <td>0.0</td>\n",
       "      <td>0.0</td>\n",
       "      <td>0.194817</td>\n",
       "      <td>0.141803</td>\n",
       "      <td>0.117414</td>\n",
       "      <td>0.122455</td>\n",
       "      <td>0.017719</td>\n",
       "      <td>0.381577</td>\n",
       "      <td>0.180003</td>\n",
       "      <td>0.162073</td>\n",
       "      <td>0.263864</td>\n",
       "      <td>0.194817</td>\n",
       "      <td>0.141803</td>\n",
       "      <td>0.117414</td>\n",
       "      <td>0.122455</td>\n",
       "      <td>CHIKKABALLAPURA</td>\n",
       "      <td>0.168923</td>\n",
       "    </tr>\n",
       "    <tr>\n",
       "      <th>...</th>\n",
       "      <td>...</td>\n",
       "      <td>...</td>\n",
       "      <td>...</td>\n",
       "      <td>...</td>\n",
       "      <td>...</td>\n",
       "      <td>...</td>\n",
       "      <td>...</td>\n",
       "      <td>...</td>\n",
       "      <td>...</td>\n",
       "      <td>...</td>\n",
       "      <td>...</td>\n",
       "      <td>...</td>\n",
       "      <td>...</td>\n",
       "      <td>...</td>\n",
       "      <td>...</td>\n",
       "      <td>...</td>\n",
       "      <td>...</td>\n",
       "      <td>...</td>\n",
       "      <td>...</td>\n",
       "    </tr>\n",
       "    <tr>\n",
       "      <th>366020</th>\n",
       "      <td>1.0</td>\n",
       "      <td>1.0</td>\n",
       "      <td>1.0</td>\n",
       "      <td>1.0</td>\n",
       "      <td>0.030830</td>\n",
       "      <td>0.024398</td>\n",
       "      <td>0.003880</td>\n",
       "      <td>0.028933</td>\n",
       "      <td>0.017719</td>\n",
       "      <td>0.381577</td>\n",
       "      <td>0.180003</td>\n",
       "      <td>0.162073</td>\n",
       "      <td>0.263864</td>\n",
       "      <td>0.065080</td>\n",
       "      <td>0.097002</td>\n",
       "      <td>0.084516</td>\n",
       "      <td>0.078462</td>\n",
       "      <td>KALABURAGI</td>\n",
       "      <td>0.094414</td>\n",
       "    </tr>\n",
       "    <tr>\n",
       "      <th>366021</th>\n",
       "      <td>1.0</td>\n",
       "      <td>1.0</td>\n",
       "      <td>1.0</td>\n",
       "      <td>1.0</td>\n",
       "      <td>0.396227</td>\n",
       "      <td>0.305248</td>\n",
       "      <td>0.305291</td>\n",
       "      <td>1.000000</td>\n",
       "      <td>0.017719</td>\n",
       "      <td>0.381577</td>\n",
       "      <td>0.180003</td>\n",
       "      <td>0.162073</td>\n",
       "      <td>0.263864</td>\n",
       "      <td>0.430477</td>\n",
       "      <td>0.377852</td>\n",
       "      <td>0.385927</td>\n",
       "      <td>1.049529</td>\n",
       "      <td>YADGIRI</td>\n",
       "      <td>0.589475</td>\n",
       "    </tr>\n",
       "    <tr>\n",
       "      <th>366022</th>\n",
       "      <td>1.0</td>\n",
       "      <td>1.0</td>\n",
       "      <td>1.0</td>\n",
       "      <td>1.0</td>\n",
       "      <td>0.366180</td>\n",
       "      <td>0.326222</td>\n",
       "      <td>0.176014</td>\n",
       "      <td>0.526479</td>\n",
       "      <td>0.017719</td>\n",
       "      <td>0.381577</td>\n",
       "      <td>0.180003</td>\n",
       "      <td>0.162073</td>\n",
       "      <td>0.263864</td>\n",
       "      <td>0.400430</td>\n",
       "      <td>0.398826</td>\n",
       "      <td>0.256650</td>\n",
       "      <td>0.576008</td>\n",
       "      <td>RAICHUR</td>\n",
       "      <td>0.435888</td>\n",
       "    </tr>\n",
       "    <tr>\n",
       "      <th>366023</th>\n",
       "      <td>1.0</td>\n",
       "      <td>1.0</td>\n",
       "      <td>1.0</td>\n",
       "      <td>1.0</td>\n",
       "      <td>0.223393</td>\n",
       "      <td>0.248787</td>\n",
       "      <td>0.178995</td>\n",
       "      <td>0.396091</td>\n",
       "      <td>0.017719</td>\n",
       "      <td>0.381577</td>\n",
       "      <td>0.180003</td>\n",
       "      <td>0.162073</td>\n",
       "      <td>0.263864</td>\n",
       "      <td>0.257643</td>\n",
       "      <td>0.321392</td>\n",
       "      <td>0.259631</td>\n",
       "      <td>0.445621</td>\n",
       "      <td>KOPPAL</td>\n",
       "      <td>0.333544</td>\n",
       "    </tr>\n",
       "    <tr>\n",
       "      <th>366024</th>\n",
       "      <td>1.0</td>\n",
       "      <td>1.0</td>\n",
       "      <td>1.0</td>\n",
       "      <td>1.0</td>\n",
       "      <td>0.510177</td>\n",
       "      <td>0.471850</td>\n",
       "      <td>0.315547</td>\n",
       "      <td>0.423880</td>\n",
       "      <td>0.017719</td>\n",
       "      <td>0.381577</td>\n",
       "      <td>0.180003</td>\n",
       "      <td>0.162073</td>\n",
       "      <td>0.263864</td>\n",
       "      <td>0.544428</td>\n",
       "      <td>0.544454</td>\n",
       "      <td>0.396184</td>\n",
       "      <td>0.473409</td>\n",
       "      <td>VIJAYANAGARA</td>\n",
       "      <td>0.512590</td>\n",
       "    </tr>\n",
       "  </tbody>\n",
       "</table>\n",
       "<p>366025 rows × 19 columns</p>\n",
       "</div>"
      ],
      "text/plain": [
       "        Sensitivity_AreaUnderOilSeeds_GroundNut  \\\n",
       "0                                           0.0   \n",
       "1                                           0.0   \n",
       "2                                           0.0   \n",
       "3                                           0.0   \n",
       "4                                           0.0   \n",
       "...                                         ...   \n",
       "366020                                      1.0   \n",
       "366021                                      1.0   \n",
       "366022                                      1.0   \n",
       "366023                                      1.0   \n",
       "366024                                      1.0   \n",
       "\n",
       "        Sensitivity_MotorVehicles_Tractors  \\\n",
       "0                                      0.0   \n",
       "1                                      0.0   \n",
       "2                                      0.0   \n",
       "3                                      0.0   \n",
       "4                                      0.0   \n",
       "...                                    ...   \n",
       "366020                                 1.0   \n",
       "366021                                 1.0   \n",
       "366022                                 1.0   \n",
       "366023                                 1.0   \n",
       "366024                                 1.0   \n",
       "\n",
       "        Sensitivity_LivestockCensus_2012_Sheep  Sensitivity_TotalNPK  \\\n",
       "0                                          0.0                   0.0   \n",
       "1                                          0.0                   0.0   \n",
       "2                                          0.0                   0.0   \n",
       "3                                          0.0                   0.0   \n",
       "4                                          0.0                   0.0   \n",
       "...                                        ...                   ...   \n",
       "366020                                     1.0                   1.0   \n",
       "366021                                     1.0                   1.0   \n",
       "366022                                     1.0                   1.0   \n",
       "366023                                     1.0                   1.0   \n",
       "366024                                     1.0                   1.0   \n",
       "\n",
       "        AreaUnderOilSeeds_GroundNut  MotorVehicles_Tractors  \\\n",
       "0                          0.025509                0.097945   \n",
       "1                          1.000000                0.937413   \n",
       "2                          0.150414                0.148541   \n",
       "3                          0.080815                0.361048   \n",
       "4                          0.194817                0.141803   \n",
       "...                             ...                     ...   \n",
       "366020                     0.030830                0.024398   \n",
       "366021                     0.396227                0.305248   \n",
       "366022                     0.366180                0.326222   \n",
       "366023                     0.223393                0.248787   \n",
       "366024                     0.510177                0.471850   \n",
       "\n",
       "        LivestockCensus_2012_Sheep  TotalNPK    Beta_0    Beta_1    Beta_2  \\\n",
       "0                         0.029183  0.017670  0.017719  0.381577  0.180003   \n",
       "1                         1.000000  0.631858  0.017719  0.381577  0.180003   \n",
       "2                         0.034351  0.160596  0.017719  0.381577  0.180003   \n",
       "3                         0.203120  0.163091  0.017719  0.381577  0.180003   \n",
       "4                         0.117414  0.122455  0.017719  0.381577  0.180003   \n",
       "...                            ...       ...       ...       ...       ...   \n",
       "366020                    0.003880  0.028933  0.017719  0.381577  0.180003   \n",
       "366021                    0.305291  1.000000  0.017719  0.381577  0.180003   \n",
       "366022                    0.176014  0.526479  0.017719  0.381577  0.180003   \n",
       "366023                    0.178995  0.396091  0.017719  0.381577  0.180003   \n",
       "366024                    0.315547  0.423880  0.017719  0.381577  0.180003   \n",
       "\n",
       "          Beta_3    Beta_4    New_F1    New_F2    New_F3    New_F4  \\\n",
       "0       0.162073  0.263864  0.025509  0.097945  0.029183  0.017670   \n",
       "1       0.162073  0.263864  1.000000  0.937413  1.000000  0.631858   \n",
       "2       0.162073  0.263864  0.150414  0.148541  0.034351  0.160596   \n",
       "3       0.162073  0.263864  0.080815  0.361048  0.203120  0.163091   \n",
       "4       0.162073  0.263864  0.194817  0.141803  0.117414  0.122455   \n",
       "...          ...       ...       ...       ...       ...       ...   \n",
       "366020  0.162073  0.263864  0.065080  0.097002  0.084516  0.078462   \n",
       "366021  0.162073  0.263864  0.430477  0.377852  0.385927  1.049529   \n",
       "366022  0.162073  0.263864  0.400430  0.398826  0.256650  0.576008   \n",
       "366023  0.162073  0.263864  0.257643  0.321392  0.259631  0.445621   \n",
       "366024  0.162073  0.263864  0.544428  0.544454  0.396184  0.473409   \n",
       "\n",
       "               District  New_Production  \n",
       "0            RAMANAGARA        0.054475  \n",
       "1           CHITRADURGA        0.896831  \n",
       "2            DAVANAGERE        0.149794  \n",
       "3                 KOLAR        0.189500  \n",
       "4       CHIKKABALLAPURA        0.168923  \n",
       "...                 ...             ...  \n",
       "366020       KALABURAGI        0.094414  \n",
       "366021          YADGIRI        0.589475  \n",
       "366022          RAICHUR        0.435888  \n",
       "366023           KOPPAL        0.333544  \n",
       "366024     VIJAYANAGARA        0.512590  \n",
       "\n",
       "[366025 rows x 19 columns]"
      ]
     },
     "execution_count": 483,
     "metadata": {},
     "output_type": "execute_result"
    }
   ],
   "source": [
    "result_df['New_Production'] = result_df['Beta_1'] * result_df['New_F1'] + result_df['Beta_2'] * result_df['New_F2'] + result_df['Beta_3'] * result_df['New_F3'] + result_df['Beta_4'] * result_df['New_F4'] + result_df['Beta_0']\n",
    "\n",
    "result_df"
   ]
  },
  {
   "cell_type": "code",
   "execution_count": 484,
   "metadata": {},
   "outputs": [],
   "source": [
    "def normalize_list(lst):\n",
    "    min_val = min(lst)\n",
    "    max_val = max(lst)\n",
    "    normalized_lst = [(x - min_val) / (max_val - min_val) for x in lst]\n",
    "    return normalized_lst"
   ]
  },
  {
   "cell_type": "code",
   "execution_count": 485,
   "metadata": {},
   "outputs": [
    {
     "name": "stdout",
     "output_type": "stream",
     "text": [
      "    1   2   3   4   5   6   7   8   9   10  ...  22  23  24  25  26  27  28  \\\n",
      "1    0   1   1   0   0   0   0   0   0   0  ...   0   0   0   0   0   0   0   \n",
      "2    1   0   1   0   0   1   1   0   1   0  ...   0   0   0   0   0   0   0   \n",
      "3    1   1   0   0   0   0   0   0   1   0  ...   0   0   0   0   0   0   0   \n",
      "4    0   0   0   0   1   0   0   0   1   1  ...   0   0   0   1   0   0   0   \n",
      "5    0   0   0   1   0   0   0   1   0   1  ...   0   1   0   1   0   0   0   \n",
      "6    0   1   0   0   0   0   1   0   0   0  ...   0   0   0   0   0   0   0   \n",
      "7    0   1   0   0   0   1   0   0   1   0  ...   0   0   0   0   0   0   0   \n",
      "8    0   0   0   0   1   0   0   0   0   1  ...   0   1   1   0   0   0   0   \n",
      "9    0   1   1   1   0   0   1   0   0   1  ...   0   0   0   0   0   0   0   \n",
      "10   0   0   0   1   1   0   0   1   1   0  ...   0   0   0   0   0   0   0   \n",
      "11   0   0   0   0   0   0   0   0   0   1  ...   0   0   0   0   0   0   0   \n",
      "12   0   0   0   0   0   0   0   1   0   1  ...   0   0   1   0   0   0   0   \n",
      "13   0   0   0   0   0   0   0   0   1   1  ...   0   0   0   0   0   0   0   \n",
      "14   0   0   0   0   0   0   0   0   0   0  ...   0   0   0   0   0   0   0   \n",
      "15   0   0   1   0   0   0   0   0   1   0  ...   0   0   0   0   0   0   0   \n",
      "16   0   0   0   0   0   0   0   0   0   0  ...   0   0   0   0   0   0   0   \n",
      "17   0   0   1   0   0   0   0   0   0   0  ...   0   0   0   0   0   0   0   \n",
      "18   0   0   0   0   0   0   0   0   0   0  ...   1   0   1   0   0   0   0   \n",
      "19   0   0   0   0   0   0   0   0   0   0  ...   0   0   0   0   0   1   1   \n",
      "20   0   0   0   0   0   0   0   0   0   0  ...   1   0   0   0   0   0   0   \n",
      "21   0   0   0   0   0   0   0   0   0   0  ...   1   1   1   0   0   0   0   \n",
      "22   0   0   0   0   0   0   0   0   0   0  ...   0   1   0   1   0   0   0   \n",
      "23   0   0   0   0   1   0   0   1   0   0  ...   1   0   1   1   0   0   0   \n",
      "24   0   0   0   0   0   0   0   1   0   0  ...   0   1   0   0   0   0   0   \n",
      "25   0   0   0   1   1   0   0   0   0   0  ...   1   1   0   0   0   0   0   \n",
      "26   0   0   0   0   0   0   0   0   0   0  ...   0   0   0   0   0   1   0   \n",
      "27   0   0   0   0   0   0   0   0   0   0  ...   0   0   0   0   1   0   1   \n",
      "28   0   0   0   0   0   0   0   0   0   0  ...   0   0   0   0   0   1   0   \n",
      "29   0   0   0   0   0   0   0   0   0   0  ...   0   0   0   1   0   0   1   \n",
      "30   0   0   0   0   0   0   0   0   0   0  ...   1   0   0   1   0   0   0   \n",
      "31   0   0   0   1   1   0   0   0   0   0  ...   1   1   0   1   0   0   0   \n",
      "\n",
      "    29  30  31  \n",
      "1    0   0   0  \n",
      "2    0   0   0  \n",
      "3    0   0   0  \n",
      "4    0   0   1  \n",
      "5    0   0   1  \n",
      "6    0   0   0  \n",
      "7    0   0   0  \n",
      "8    0   0   0  \n",
      "9    0   0   0  \n",
      "10   0   0   0  \n",
      "11   0   0   0  \n",
      "12   0   0   0  \n",
      "13   0   0   0  \n",
      "14   0   0   0  \n",
      "15   0   0   0  \n",
      "16   0   0   0  \n",
      "17   0   0   0  \n",
      "18   0   0   0  \n",
      "19   1   0   0  \n",
      "20   1   1   0  \n",
      "21   0   0   0  \n",
      "22   0   1   1  \n",
      "23   0   0   1  \n",
      "24   0   0   0  \n",
      "25   1   1   1  \n",
      "26   0   0   0  \n",
      "27   0   0   0  \n",
      "28   1   0   0  \n",
      "29   0   1   0  \n",
      "30   1   0   1  \n",
      "31   0   1   0  \n",
      "\n",
      "[31 rows x 31 columns]\n"
     ]
    }
   ],
   "source": [
    "import pandas as pd\n",
    "import numpy as np\n",
    "\n",
    "adjacency_excel = pd.read_excel('Karnataka_District_Adjacency_File.xlsx')\n",
    "\n",
    "district_codes = sorted(set(adjacency_excel['District_Code']))\n",
    "\n",
    "n = len(district_codes)\n",
    "adj_matrix = np.zeros((n, n), dtype=int)\n",
    "\n",
    "code_to_index = {code: idx for idx, code in enumerate(district_codes)}\n",
    "\n",
    "for i in range(len(adjacency_excel)):\n",
    "    district_code = adjacency_excel['District_Code'][i]\n",
    "    neighbors = [int(num) for num in str(adjacency_excel['District_Neighbors'][i]).split(',') if num.strip().isdigit()]\n",
    "    \n",
    "    for neighbor in neighbors:\n",
    "        adj_matrix[code_to_index[district_code]][code_to_index[neighbor]] = 1\n",
    "        adj_matrix[code_to_index[neighbor]][code_to_index[district_code]] = 1  # Assuming adjacency is bidirectional\n",
    "\n",
    "adj_matrix_df = pd.DataFrame(adj_matrix, index=district_codes, columns=district_codes)\n",
    "\n",
    "print(adj_matrix_df)\n",
    "\n",
    "adj_matrix_np = adj_matrix_df.to_numpy()"
   ]
  },
  {
   "cell_type": "code",
   "execution_count": 486,
   "metadata": {},
   "outputs": [
    {
     "data": {
      "text/html": [
       "<div>\n",
       "<style scoped>\n",
       "    .dataframe tbody tr th:only-of-type {\n",
       "        vertical-align: middle;\n",
       "    }\n",
       "\n",
       "    .dataframe tbody tr th {\n",
       "        vertical-align: top;\n",
       "    }\n",
       "\n",
       "    .dataframe thead th {\n",
       "        text-align: right;\n",
       "    }\n",
       "</style>\n",
       "<table border=\"1\" class=\"dataframe\">\n",
       "  <thead>\n",
       "    <tr style=\"text-align: right;\">\n",
       "      <th></th>\n",
       "      <th>Sensitivity_AreaUnderOilSeeds_GroundNut</th>\n",
       "      <th>Sensitivity_MotorVehicles_Tractors</th>\n",
       "      <th>Sensitivity_LivestockCensus_2012_Sheep</th>\n",
       "      <th>Sensitivity_TotalNPK</th>\n",
       "      <th>AreaUnderOilSeeds_GroundNut</th>\n",
       "      <th>MotorVehicles_Tractors</th>\n",
       "      <th>LivestockCensus_2012_Sheep</th>\n",
       "      <th>TotalNPK</th>\n",
       "      <th>Beta_0</th>\n",
       "      <th>Beta_1</th>\n",
       "      <th>Beta_2</th>\n",
       "      <th>Beta_3</th>\n",
       "      <th>Beta_4</th>\n",
       "      <th>New_F1</th>\n",
       "      <th>New_F2</th>\n",
       "      <th>New_F3</th>\n",
       "      <th>New_F4</th>\n",
       "      <th>District</th>\n",
       "      <th>New_Production</th>\n",
       "    </tr>\n",
       "  </thead>\n",
       "  <tbody>\n",
       "    <tr>\n",
       "      <th>0</th>\n",
       "      <td>0.0</td>\n",
       "      <td>0.0</td>\n",
       "      <td>0.0</td>\n",
       "      <td>0.0</td>\n",
       "      <td>0.025509</td>\n",
       "      <td>0.097945</td>\n",
       "      <td>0.029183</td>\n",
       "      <td>0.017670</td>\n",
       "      <td>0.017719</td>\n",
       "      <td>0.381577</td>\n",
       "      <td>0.180003</td>\n",
       "      <td>0.162073</td>\n",
       "      <td>0.263864</td>\n",
       "      <td>0.025509</td>\n",
       "      <td>0.097945</td>\n",
       "      <td>0.029183</td>\n",
       "      <td>0.017670</td>\n",
       "      <td>RAMANAGARA</td>\n",
       "      <td>0.054475</td>\n",
       "    </tr>\n",
       "    <tr>\n",
       "      <th>1</th>\n",
       "      <td>0.0</td>\n",
       "      <td>0.0</td>\n",
       "      <td>0.0</td>\n",
       "      <td>0.0</td>\n",
       "      <td>1.000000</td>\n",
       "      <td>0.937413</td>\n",
       "      <td>1.000000</td>\n",
       "      <td>0.631858</td>\n",
       "      <td>0.017719</td>\n",
       "      <td>0.381577</td>\n",
       "      <td>0.180003</td>\n",
       "      <td>0.162073</td>\n",
       "      <td>0.263864</td>\n",
       "      <td>1.000000</td>\n",
       "      <td>0.937413</td>\n",
       "      <td>1.000000</td>\n",
       "      <td>0.631858</td>\n",
       "      <td>CHITRADURGA</td>\n",
       "      <td>0.896831</td>\n",
       "    </tr>\n",
       "    <tr>\n",
       "      <th>2</th>\n",
       "      <td>0.0</td>\n",
       "      <td>0.0</td>\n",
       "      <td>0.0</td>\n",
       "      <td>0.0</td>\n",
       "      <td>0.150414</td>\n",
       "      <td>0.148541</td>\n",
       "      <td>0.034351</td>\n",
       "      <td>0.160596</td>\n",
       "      <td>0.017719</td>\n",
       "      <td>0.381577</td>\n",
       "      <td>0.180003</td>\n",
       "      <td>0.162073</td>\n",
       "      <td>0.263864</td>\n",
       "      <td>0.150414</td>\n",
       "      <td>0.148541</td>\n",
       "      <td>0.034351</td>\n",
       "      <td>0.160596</td>\n",
       "      <td>DAVANAGERE</td>\n",
       "      <td>0.149794</td>\n",
       "    </tr>\n",
       "    <tr>\n",
       "      <th>3</th>\n",
       "      <td>0.0</td>\n",
       "      <td>0.0</td>\n",
       "      <td>0.0</td>\n",
       "      <td>0.0</td>\n",
       "      <td>0.080815</td>\n",
       "      <td>0.361048</td>\n",
       "      <td>0.203120</td>\n",
       "      <td>0.163091</td>\n",
       "      <td>0.017719</td>\n",
       "      <td>0.381577</td>\n",
       "      <td>0.180003</td>\n",
       "      <td>0.162073</td>\n",
       "      <td>0.263864</td>\n",
       "      <td>0.080815</td>\n",
       "      <td>0.361048</td>\n",
       "      <td>0.203120</td>\n",
       "      <td>0.163091</td>\n",
       "      <td>KOLAR</td>\n",
       "      <td>0.189500</td>\n",
       "    </tr>\n",
       "    <tr>\n",
       "      <th>4</th>\n",
       "      <td>0.0</td>\n",
       "      <td>0.0</td>\n",
       "      <td>0.0</td>\n",
       "      <td>0.0</td>\n",
       "      <td>0.194817</td>\n",
       "      <td>0.141803</td>\n",
       "      <td>0.117414</td>\n",
       "      <td>0.122455</td>\n",
       "      <td>0.017719</td>\n",
       "      <td>0.381577</td>\n",
       "      <td>0.180003</td>\n",
       "      <td>0.162073</td>\n",
       "      <td>0.263864</td>\n",
       "      <td>0.194817</td>\n",
       "      <td>0.141803</td>\n",
       "      <td>0.117414</td>\n",
       "      <td>0.122455</td>\n",
       "      <td>CHIKKABALLAPURA</td>\n",
       "      <td>0.168923</td>\n",
       "    </tr>\n",
       "    <tr>\n",
       "      <th>...</th>\n",
       "      <td>...</td>\n",
       "      <td>...</td>\n",
       "      <td>...</td>\n",
       "      <td>...</td>\n",
       "      <td>...</td>\n",
       "      <td>...</td>\n",
       "      <td>...</td>\n",
       "      <td>...</td>\n",
       "      <td>...</td>\n",
       "      <td>...</td>\n",
       "      <td>...</td>\n",
       "      <td>...</td>\n",
       "      <td>...</td>\n",
       "      <td>...</td>\n",
       "      <td>...</td>\n",
       "      <td>...</td>\n",
       "      <td>...</td>\n",
       "      <td>...</td>\n",
       "      <td>...</td>\n",
       "    </tr>\n",
       "    <tr>\n",
       "      <th>366020</th>\n",
       "      <td>1.0</td>\n",
       "      <td>1.0</td>\n",
       "      <td>1.0</td>\n",
       "      <td>1.0</td>\n",
       "      <td>0.030830</td>\n",
       "      <td>0.024398</td>\n",
       "      <td>0.003880</td>\n",
       "      <td>0.028933</td>\n",
       "      <td>0.017719</td>\n",
       "      <td>0.381577</td>\n",
       "      <td>0.180003</td>\n",
       "      <td>0.162073</td>\n",
       "      <td>0.263864</td>\n",
       "      <td>0.065080</td>\n",
       "      <td>0.097002</td>\n",
       "      <td>0.084516</td>\n",
       "      <td>0.078462</td>\n",
       "      <td>KALABURAGI</td>\n",
       "      <td>0.094414</td>\n",
       "    </tr>\n",
       "    <tr>\n",
       "      <th>366021</th>\n",
       "      <td>1.0</td>\n",
       "      <td>1.0</td>\n",
       "      <td>1.0</td>\n",
       "      <td>1.0</td>\n",
       "      <td>0.396227</td>\n",
       "      <td>0.305248</td>\n",
       "      <td>0.305291</td>\n",
       "      <td>1.000000</td>\n",
       "      <td>0.017719</td>\n",
       "      <td>0.381577</td>\n",
       "      <td>0.180003</td>\n",
       "      <td>0.162073</td>\n",
       "      <td>0.263864</td>\n",
       "      <td>0.430477</td>\n",
       "      <td>0.377852</td>\n",
       "      <td>0.385927</td>\n",
       "      <td>1.049529</td>\n",
       "      <td>YADGIRI</td>\n",
       "      <td>0.589475</td>\n",
       "    </tr>\n",
       "    <tr>\n",
       "      <th>366022</th>\n",
       "      <td>1.0</td>\n",
       "      <td>1.0</td>\n",
       "      <td>1.0</td>\n",
       "      <td>1.0</td>\n",
       "      <td>0.366180</td>\n",
       "      <td>0.326222</td>\n",
       "      <td>0.176014</td>\n",
       "      <td>0.526479</td>\n",
       "      <td>0.017719</td>\n",
       "      <td>0.381577</td>\n",
       "      <td>0.180003</td>\n",
       "      <td>0.162073</td>\n",
       "      <td>0.263864</td>\n",
       "      <td>0.400430</td>\n",
       "      <td>0.398826</td>\n",
       "      <td>0.256650</td>\n",
       "      <td>0.576008</td>\n",
       "      <td>RAICHUR</td>\n",
       "      <td>0.435888</td>\n",
       "    </tr>\n",
       "    <tr>\n",
       "      <th>366023</th>\n",
       "      <td>1.0</td>\n",
       "      <td>1.0</td>\n",
       "      <td>1.0</td>\n",
       "      <td>1.0</td>\n",
       "      <td>0.223393</td>\n",
       "      <td>0.248787</td>\n",
       "      <td>0.178995</td>\n",
       "      <td>0.396091</td>\n",
       "      <td>0.017719</td>\n",
       "      <td>0.381577</td>\n",
       "      <td>0.180003</td>\n",
       "      <td>0.162073</td>\n",
       "      <td>0.263864</td>\n",
       "      <td>0.257643</td>\n",
       "      <td>0.321392</td>\n",
       "      <td>0.259631</td>\n",
       "      <td>0.445621</td>\n",
       "      <td>KOPPAL</td>\n",
       "      <td>0.333544</td>\n",
       "    </tr>\n",
       "    <tr>\n",
       "      <th>366024</th>\n",
       "      <td>1.0</td>\n",
       "      <td>1.0</td>\n",
       "      <td>1.0</td>\n",
       "      <td>1.0</td>\n",
       "      <td>0.510177</td>\n",
       "      <td>0.471850</td>\n",
       "      <td>0.315547</td>\n",
       "      <td>0.423880</td>\n",
       "      <td>0.017719</td>\n",
       "      <td>0.381577</td>\n",
       "      <td>0.180003</td>\n",
       "      <td>0.162073</td>\n",
       "      <td>0.263864</td>\n",
       "      <td>0.544428</td>\n",
       "      <td>0.544454</td>\n",
       "      <td>0.396184</td>\n",
       "      <td>0.473409</td>\n",
       "      <td>VIJAYANAGARA</td>\n",
       "      <td>0.512590</td>\n",
       "    </tr>\n",
       "  </tbody>\n",
       "</table>\n",
       "<p>366025 rows × 19 columns</p>\n",
       "</div>"
      ],
      "text/plain": [
       "        Sensitivity_AreaUnderOilSeeds_GroundNut  \\\n",
       "0                                           0.0   \n",
       "1                                           0.0   \n",
       "2                                           0.0   \n",
       "3                                           0.0   \n",
       "4                                           0.0   \n",
       "...                                         ...   \n",
       "366020                                      1.0   \n",
       "366021                                      1.0   \n",
       "366022                                      1.0   \n",
       "366023                                      1.0   \n",
       "366024                                      1.0   \n",
       "\n",
       "        Sensitivity_MotorVehicles_Tractors  \\\n",
       "0                                      0.0   \n",
       "1                                      0.0   \n",
       "2                                      0.0   \n",
       "3                                      0.0   \n",
       "4                                      0.0   \n",
       "...                                    ...   \n",
       "366020                                 1.0   \n",
       "366021                                 1.0   \n",
       "366022                                 1.0   \n",
       "366023                                 1.0   \n",
       "366024                                 1.0   \n",
       "\n",
       "        Sensitivity_LivestockCensus_2012_Sheep  Sensitivity_TotalNPK  \\\n",
       "0                                          0.0                   0.0   \n",
       "1                                          0.0                   0.0   \n",
       "2                                          0.0                   0.0   \n",
       "3                                          0.0                   0.0   \n",
       "4                                          0.0                   0.0   \n",
       "...                                        ...                   ...   \n",
       "366020                                     1.0                   1.0   \n",
       "366021                                     1.0                   1.0   \n",
       "366022                                     1.0                   1.0   \n",
       "366023                                     1.0                   1.0   \n",
       "366024                                     1.0                   1.0   \n",
       "\n",
       "        AreaUnderOilSeeds_GroundNut  MotorVehicles_Tractors  \\\n",
       "0                          0.025509                0.097945   \n",
       "1                          1.000000                0.937413   \n",
       "2                          0.150414                0.148541   \n",
       "3                          0.080815                0.361048   \n",
       "4                          0.194817                0.141803   \n",
       "...                             ...                     ...   \n",
       "366020                     0.030830                0.024398   \n",
       "366021                     0.396227                0.305248   \n",
       "366022                     0.366180                0.326222   \n",
       "366023                     0.223393                0.248787   \n",
       "366024                     0.510177                0.471850   \n",
       "\n",
       "        LivestockCensus_2012_Sheep  TotalNPK    Beta_0    Beta_1    Beta_2  \\\n",
       "0                         0.029183  0.017670  0.017719  0.381577  0.180003   \n",
       "1                         1.000000  0.631858  0.017719  0.381577  0.180003   \n",
       "2                         0.034351  0.160596  0.017719  0.381577  0.180003   \n",
       "3                         0.203120  0.163091  0.017719  0.381577  0.180003   \n",
       "4                         0.117414  0.122455  0.017719  0.381577  0.180003   \n",
       "...                            ...       ...       ...       ...       ...   \n",
       "366020                    0.003880  0.028933  0.017719  0.381577  0.180003   \n",
       "366021                    0.305291  1.000000  0.017719  0.381577  0.180003   \n",
       "366022                    0.176014  0.526479  0.017719  0.381577  0.180003   \n",
       "366023                    0.178995  0.396091  0.017719  0.381577  0.180003   \n",
       "366024                    0.315547  0.423880  0.017719  0.381577  0.180003   \n",
       "\n",
       "          Beta_3    Beta_4    New_F1    New_F2    New_F3    New_F4  \\\n",
       "0       0.162073  0.263864  0.025509  0.097945  0.029183  0.017670   \n",
       "1       0.162073  0.263864  1.000000  0.937413  1.000000  0.631858   \n",
       "2       0.162073  0.263864  0.150414  0.148541  0.034351  0.160596   \n",
       "3       0.162073  0.263864  0.080815  0.361048  0.203120  0.163091   \n",
       "4       0.162073  0.263864  0.194817  0.141803  0.117414  0.122455   \n",
       "...          ...       ...       ...       ...       ...       ...   \n",
       "366020  0.162073  0.263864  0.065080  0.097002  0.084516  0.078462   \n",
       "366021  0.162073  0.263864  0.430477  0.377852  0.385927  1.049529   \n",
       "366022  0.162073  0.263864  0.400430  0.398826  0.256650  0.576008   \n",
       "366023  0.162073  0.263864  0.257643  0.321392  0.259631  0.445621   \n",
       "366024  0.162073  0.263864  0.544428  0.544454  0.396184  0.473409   \n",
       "\n",
       "               District  New_Production  \n",
       "0            RAMANAGARA        0.054475  \n",
       "1           CHITRADURGA        0.896831  \n",
       "2            DAVANAGERE        0.149794  \n",
       "3                 KOLAR        0.189500  \n",
       "4       CHIKKABALLAPURA        0.168923  \n",
       "...                 ...             ...  \n",
       "366020       KALABURAGI        0.094414  \n",
       "366021          YADGIRI        0.589475  \n",
       "366022          RAICHUR        0.435888  \n",
       "366023           KOPPAL        0.333544  \n",
       "366024     VIJAYANAGARA        0.512590  \n",
       "\n",
       "[366025 rows x 19 columns]"
      ]
     },
     "execution_count": 486,
     "metadata": {},
     "output_type": "execute_result"
    }
   ],
   "source": [
    "def calculate_avg_capability(capability, neighbors):\n",
    "    num_neighbors = len(neighbors)\n",
    "    if num_neighbors == 0:\n",
    "        return 0\n",
    "    sum_capabilities = sum(capability[n] for n in neighbors)\n",
    "    return sum_capabilities / num_neighbors\n",
    "\n",
    "def calculate_stress_stability(capability, adjacency_matrix):\n",
    "    n = len(capability)\n",
    "    stress = np.zeros(n)\n",
    "    stability = np.zeros(n)\n",
    "    \n",
    "    for i in range(n):\n",
    "        neighbors = [j for j in range(n) if adjacency_matrix[i][j] == 1 and i != j]\n",
    "        if len(neighbors) > 0:\n",
    "            avg_capability = calculate_avg_capability(capability, neighbors)\n",
    "            stress[i] = abs(avg_capability - capability[i])\n",
    "            stability[i] = 1 - stress[i]\n",
    "        else:\n",
    "            stress[i] = 0  # If no neighbors, stress is zero\n",
    "            stability[i] = 1\n",
    "        \n",
    "    return stress, stability\n",
    "\n",
    "result_df"
   ]
  },
  {
   "cell_type": "code",
   "execution_count": 487,
   "metadata": {},
   "outputs": [
    {
     "name": "stdout",
     "output_type": "stream",
     "text": [
      "14641\n",
      "25\n",
      "366025 366025\n"
     ]
    }
   ],
   "source": [
    "stress_values_list = []\n",
    "stability_values_list = []\n",
    "\n",
    "# Define batch size\n",
    "batch_size = case_file_length\n",
    "\n",
    "# Iterate over the New_Production column in batches of 31\n",
    "num_batches = len(result_df) // batch_size\n",
    "\n",
    "for i in range(num_batches):\n",
    "    # Get the batch of 31 production values\n",
    "    start_idx = i * batch_size\n",
    "    end_idx = start_idx + batch_size\n",
    "    batch = normalize_list(result_df['New_Production'][start_idx:end_idx].values)\n",
    "    \n",
    "    # Calculate the stress and stability values for the batch\n",
    "    stress_batch, stability_batch = calculate_stress_stability(batch, adj_matrix_np)\n",
    "    \n",
    "    stress_values_list.extend(stress_batch)\n",
    "    stability_values_list.extend(stability_batch)\n",
    "\n",
    "\n",
    "print(num_batches)\n",
    "print(len(stress_batch))\n",
    "print(len(stress_values_list), len(stability_values_list))\n",
    "\n",
    "result_df['Stress_Values'] = stress_values_list\n",
    "result_df['Stability_Values'] = stability_values_list"
   ]
  },
  {
   "cell_type": "code",
   "execution_count": 488,
   "metadata": {},
   "outputs": [
    {
     "data": {
      "text/plain": [
       "Index(['Sensitivity_AreaUnderOilSeeds_GroundNut',\n",
       "       'Sensitivity_MotorVehicles_Tractors',\n",
       "       'Sensitivity_LivestockCensus_2012_Sheep', 'Sensitivity_TotalNPK',\n",
       "       'AreaUnderOilSeeds_GroundNut', 'MotorVehicles_Tractors',\n",
       "       'LivestockCensus_2012_Sheep', 'TotalNPK', 'Beta_0', 'Beta_1', 'Beta_2',\n",
       "       'Beta_3', 'Beta_4', 'New_F1', 'New_F2', 'New_F3', 'New_F4', 'District',\n",
       "       'New_Production', 'Stress_Values', 'Stability_Values'],\n",
       "      dtype='object')"
      ]
     },
     "execution_count": 488,
     "metadata": {},
     "output_type": "execute_result"
    }
   ],
   "source": [
    "result_df.columns"
   ]
  },
  {
   "cell_type": "code",
   "execution_count": 489,
   "metadata": {},
   "outputs": [],
   "source": [
    "viz_df = result_df[['District','Sensitivity_AreaUnderOilSeeds_GroundNut','Sensitivity_MotorVehicles_Tractors','Sensitivity_LivestockCensus_2012_Sheep',\n",
    "                    'Sensitivity_TotalNPK', 'New_Production','Stability_Values']].copy()\n",
    "\n",
    "abbreviation_mapping = {\n",
    "    'BENGALURU': 'BLR',\n",
    "    'BENGALURU(R)': 'BLR(R)',\n",
    "    'RAMANAGARA': 'RGA',\n",
    "    'CHITRADURGA': 'CDA',\n",
    "    'DAVANAGERE': 'DVG',\n",
    "    'KOLAR': 'KLR',\n",
    "    'CHIKKABALLAPURA': 'CKA',\n",
    "    'SHIVAMOGGA': 'SMG',\n",
    "    'TUMAKURU': 'TKR',\n",
    "    'CHIKKAMAGALURU': 'CMG',\n",
    "    'DAKSHINA KANNADA': 'DKA',\n",
    "    'UDUPI': 'UPI',\n",
    "    'HASSAN': 'HSN',\n",
    "    'KODAGU': 'KDG',\n",
    "    'MANDYA': 'MDY',\n",
    "    'MYSURU': 'MYS',\n",
    "    'CHAMARAJANAGAR': 'CNR',\n",
    "    'BELAGAVI': 'BLG',\n",
    "    'VIJAYAPURA': 'VJP',\n",
    "    'BAGALKOT': 'BKT',\n",
    "    'DHARAWAD': 'DWD',\n",
    "    'GADAG': 'GDG',\n",
    "    'HAVERI': 'HVR',\n",
    "    'UTTARA KANNADA': 'UTK',\n",
    "    'BALLARI': 'BLL',\n",
    "    'BIDAR': 'BDR',\n",
    "    'KALABURAGI': 'KLB',\n",
    "    'YADGIRI': 'YDR',\n",
    "    'RAICHUR': 'RCR',\n",
    "    'KOPPAL': 'KPL',\n",
    "    'VIJAYANAGARA' : 'VJN'\n",
    "}\n",
    "\n",
    "viz_df['Abbreviation'] = viz_df['District'].map(abbreviation_mapping)\n",
    "\n",
    "legend_labels = [{'Abbreviation': abb, 'Full Form': full_form} \n",
    "                    for abb, full_form in zip(viz_df['Abbreviation'].unique(), viz_df['District'].unique())]"
   ]
  },
  {
   "cell_type": "code",
   "execution_count": 490,
   "metadata": {},
   "outputs": [
    {
     "data": {
      "text/html": [
       "<div>\n",
       "<style scoped>\n",
       "    .dataframe tbody tr th:only-of-type {\n",
       "        vertical-align: middle;\n",
       "    }\n",
       "\n",
       "    .dataframe tbody tr th {\n",
       "        vertical-align: top;\n",
       "    }\n",
       "\n",
       "    .dataframe thead th {\n",
       "        text-align: right;\n",
       "    }\n",
       "</style>\n",
       "<table border=\"1\" class=\"dataframe\">\n",
       "  <thead>\n",
       "    <tr style=\"text-align: right;\">\n",
       "      <th></th>\n",
       "      <th>District</th>\n",
       "      <th>Sensitivity_AreaUnderOilSeeds_GroundNut</th>\n",
       "      <th>Sensitivity_MotorVehicles_Tractors</th>\n",
       "      <th>Sensitivity_LivestockCensus_2012_Sheep</th>\n",
       "      <th>Sensitivity_TotalNPK</th>\n",
       "      <th>New_Production</th>\n",
       "      <th>Stability_Values</th>\n",
       "      <th>Abbreviation</th>\n",
       "    </tr>\n",
       "  </thead>\n",
       "  <tbody>\n",
       "    <tr>\n",
       "      <th>1200</th>\n",
       "      <td>RAMANAGARA</td>\n",
       "      <td>0.0</td>\n",
       "      <td>0.0</td>\n",
       "      <td>0.4</td>\n",
       "      <td>0.4</td>\n",
       "      <td>0.064930</td>\n",
       "      <td>0.466608</td>\n",
       "      <td>RGA</td>\n",
       "    </tr>\n",
       "    <tr>\n",
       "      <th>1201</th>\n",
       "      <td>CHITRADURGA</td>\n",
       "      <td>0.0</td>\n",
       "      <td>0.0</td>\n",
       "      <td>0.4</td>\n",
       "      <td>0.4</td>\n",
       "      <td>0.907287</td>\n",
       "      <td>0.186955</td>\n",
       "      <td>CDA</td>\n",
       "    </tr>\n",
       "    <tr>\n",
       "      <th>1202</th>\n",
       "      <td>DAVANAGERE</td>\n",
       "      <td>0.0</td>\n",
       "      <td>0.0</td>\n",
       "      <td>0.4</td>\n",
       "      <td>0.4</td>\n",
       "      <td>0.160249</td>\n",
       "      <td>0.756952</td>\n",
       "      <td>DVG</td>\n",
       "    </tr>\n",
       "    <tr>\n",
       "      <th>1203</th>\n",
       "      <td>KOLAR</td>\n",
       "      <td>0.0</td>\n",
       "      <td>0.0</td>\n",
       "      <td>0.4</td>\n",
       "      <td>0.4</td>\n",
       "      <td>0.199955</td>\n",
       "      <td>0.975393</td>\n",
       "      <td>KLR</td>\n",
       "    </tr>\n",
       "    <tr>\n",
       "      <th>1204</th>\n",
       "      <td>CHIKKABALLAPURA</td>\n",
       "      <td>0.0</td>\n",
       "      <td>0.0</td>\n",
       "      <td>0.4</td>\n",
       "      <td>0.4</td>\n",
       "      <td>0.179378</td>\n",
       "      <td>0.944673</td>\n",
       "      <td>CKA</td>\n",
       "    </tr>\n",
       "    <tr>\n",
       "      <th>1205</th>\n",
       "      <td>TUMAKURU</td>\n",
       "      <td>0.0</td>\n",
       "      <td>0.0</td>\n",
       "      <td>0.4</td>\n",
       "      <td>0.4</td>\n",
       "      <td>0.616476</td>\n",
       "      <td>0.867786</td>\n",
       "      <td>TKR</td>\n",
       "    </tr>\n",
       "    <tr>\n",
       "      <th>1206</th>\n",
       "      <td>CHIKKAMAGALURU</td>\n",
       "      <td>0.0</td>\n",
       "      <td>0.0</td>\n",
       "      <td>0.4</td>\n",
       "      <td>0.4</td>\n",
       "      <td>0.093239</td>\n",
       "      <td>0.517484</td>\n",
       "      <td>CMG</td>\n",
       "    </tr>\n",
       "    <tr>\n",
       "      <th>1207</th>\n",
       "      <td>UDUPI</td>\n",
       "      <td>0.0</td>\n",
       "      <td>0.0</td>\n",
       "      <td>0.4</td>\n",
       "      <td>0.4</td>\n",
       "      <td>0.040410</td>\n",
       "      <td>0.816004</td>\n",
       "      <td>UPI</td>\n",
       "    </tr>\n",
       "    <tr>\n",
       "      <th>1208</th>\n",
       "      <td>HASSAN</td>\n",
       "      <td>0.0</td>\n",
       "      <td>0.0</td>\n",
       "      <td>0.4</td>\n",
       "      <td>0.4</td>\n",
       "      <td>0.028313</td>\n",
       "      <td>0.658974</td>\n",
       "      <td>HSN</td>\n",
       "    </tr>\n",
       "    <tr>\n",
       "      <th>1209</th>\n",
       "      <td>MANDYA</td>\n",
       "      <td>0.0</td>\n",
       "      <td>0.0</td>\n",
       "      <td>0.4</td>\n",
       "      <td>0.4</td>\n",
       "      <td>0.034844</td>\n",
       "      <td>0.859185</td>\n",
       "      <td>MDY</td>\n",
       "    </tr>\n",
       "    <tr>\n",
       "      <th>1210</th>\n",
       "      <td>MYSURU</td>\n",
       "      <td>0.0</td>\n",
       "      <td>0.0</td>\n",
       "      <td>0.4</td>\n",
       "      <td>0.4</td>\n",
       "      <td>0.043396</td>\n",
       "      <td>0.782735</td>\n",
       "      <td>MYS</td>\n",
       "    </tr>\n",
       "    <tr>\n",
       "      <th>1211</th>\n",
       "      <td>CHAMARAJANAGAR</td>\n",
       "      <td>0.0</td>\n",
       "      <td>0.0</td>\n",
       "      <td>0.4</td>\n",
       "      <td>0.4</td>\n",
       "      <td>0.110675</td>\n",
       "      <td>0.990805</td>\n",
       "      <td>CNR</td>\n",
       "    </tr>\n",
       "    <tr>\n",
       "      <th>1212</th>\n",
       "      <td>BELAGAVI</td>\n",
       "      <td>0.0</td>\n",
       "      <td>0.0</td>\n",
       "      <td>0.4</td>\n",
       "      <td>0.4</td>\n",
       "      <td>0.508194</td>\n",
       "      <td>0.633564</td>\n",
       "      <td>BLG</td>\n",
       "    </tr>\n",
       "    <tr>\n",
       "      <th>1213</th>\n",
       "      <td>VIJAYAPURA</td>\n",
       "      <td>0.0</td>\n",
       "      <td>0.0</td>\n",
       "      <td>0.4</td>\n",
       "      <td>0.4</td>\n",
       "      <td>0.283753</td>\n",
       "      <td>0.987118</td>\n",
       "      <td>VJP</td>\n",
       "    </tr>\n",
       "    <tr>\n",
       "      <th>1214</th>\n",
       "      <td>BAGALKOT</td>\n",
       "      <td>0.0</td>\n",
       "      <td>0.0</td>\n",
       "      <td>0.4</td>\n",
       "      <td>0.4</td>\n",
       "      <td>0.392691</td>\n",
       "      <td>0.896045</td>\n",
       "      <td>BKT</td>\n",
       "    </tr>\n",
       "    <tr>\n",
       "      <th>1215</th>\n",
       "      <td>DHARAWAD</td>\n",
       "      <td>0.0</td>\n",
       "      <td>0.0</td>\n",
       "      <td>0.4</td>\n",
       "      <td>0.4</td>\n",
       "      <td>0.333637</td>\n",
       "      <td>0.907198</td>\n",
       "      <td>DWD</td>\n",
       "    </tr>\n",
       "    <tr>\n",
       "      <th>1216</th>\n",
       "      <td>GADAG</td>\n",
       "      <td>0.0</td>\n",
       "      <td>0.0</td>\n",
       "      <td>0.4</td>\n",
       "      <td>0.4</td>\n",
       "      <td>0.476192</td>\n",
       "      <td>0.794457</td>\n",
       "      <td>GDG</td>\n",
       "    </tr>\n",
       "    <tr>\n",
       "      <th>1217</th>\n",
       "      <td>HAVERI</td>\n",
       "      <td>0.0</td>\n",
       "      <td>0.0</td>\n",
       "      <td>0.4</td>\n",
       "      <td>0.4</td>\n",
       "      <td>0.187979</td>\n",
       "      <td>0.893371</td>\n",
       "      <td>HVR</td>\n",
       "    </tr>\n",
       "    <tr>\n",
       "      <th>1218</th>\n",
       "      <td>UTTARA KANNADA</td>\n",
       "      <td>0.0</td>\n",
       "      <td>0.0</td>\n",
       "      <td>0.4</td>\n",
       "      <td>0.4</td>\n",
       "      <td>0.045776</td>\n",
       "      <td>0.677353</td>\n",
       "      <td>UTK</td>\n",
       "    </tr>\n",
       "    <tr>\n",
       "      <th>1219</th>\n",
       "      <td>BALLARI</td>\n",
       "      <td>0.0</td>\n",
       "      <td>0.0</td>\n",
       "      <td>0.4</td>\n",
       "      <td>0.4</td>\n",
       "      <td>0.470769</td>\n",
       "      <td>0.760744</td>\n",
       "      <td>BLL</td>\n",
       "    </tr>\n",
       "    <tr>\n",
       "      <th>1220</th>\n",
       "      <td>KALABURAGI</td>\n",
       "      <td>0.0</td>\n",
       "      <td>0.0</td>\n",
       "      <td>0.4</td>\n",
       "      <td>0.4</td>\n",
       "      <td>0.052593</td>\n",
       "      <td>0.655550</td>\n",
       "      <td>KLB</td>\n",
       "    </tr>\n",
       "    <tr>\n",
       "      <th>1221</th>\n",
       "      <td>YADGIRI</td>\n",
       "      <td>0.0</td>\n",
       "      <td>0.0</td>\n",
       "      <td>0.4</td>\n",
       "      <td>0.4</td>\n",
       "      <td>0.547654</td>\n",
       "      <td>0.735579</td>\n",
       "      <td>YDR</td>\n",
       "    </tr>\n",
       "    <tr>\n",
       "      <th>1222</th>\n",
       "      <td>RAICHUR</td>\n",
       "      <td>0.0</td>\n",
       "      <td>0.0</td>\n",
       "      <td>0.4</td>\n",
       "      <td>0.4</td>\n",
       "      <td>0.394067</td>\n",
       "      <td>0.851745</td>\n",
       "      <td>RCR</td>\n",
       "    </tr>\n",
       "    <tr>\n",
       "      <th>1223</th>\n",
       "      <td>KOPPAL</td>\n",
       "      <td>0.0</td>\n",
       "      <td>0.0</td>\n",
       "      <td>0.4</td>\n",
       "      <td>0.4</td>\n",
       "      <td>0.291723</td>\n",
       "      <td>0.846892</td>\n",
       "      <td>KPL</td>\n",
       "    </tr>\n",
       "    <tr>\n",
       "      <th>1224</th>\n",
       "      <td>VIJAYANAGARA</td>\n",
       "      <td>0.0</td>\n",
       "      <td>0.0</td>\n",
       "      <td>0.4</td>\n",
       "      <td>0.4</td>\n",
       "      <td>0.470769</td>\n",
       "      <td>0.840148</td>\n",
       "      <td>VJN</td>\n",
       "    </tr>\n",
       "    <tr>\n",
       "      <th>1225</th>\n",
       "      <td>RAMANAGARA</td>\n",
       "      <td>0.0</td>\n",
       "      <td>0.0</td>\n",
       "      <td>0.4</td>\n",
       "      <td>0.5</td>\n",
       "      <td>0.066237</td>\n",
       "      <td>0.466608</td>\n",
       "      <td>RGA</td>\n",
       "    </tr>\n",
       "    <tr>\n",
       "      <th>1226</th>\n",
       "      <td>CHITRADURGA</td>\n",
       "      <td>0.0</td>\n",
       "      <td>0.0</td>\n",
       "      <td>0.4</td>\n",
       "      <td>0.5</td>\n",
       "      <td>0.908594</td>\n",
       "      <td>0.186955</td>\n",
       "      <td>CDA</td>\n",
       "    </tr>\n",
       "    <tr>\n",
       "      <th>1227</th>\n",
       "      <td>DAVANAGERE</td>\n",
       "      <td>0.0</td>\n",
       "      <td>0.0</td>\n",
       "      <td>0.4</td>\n",
       "      <td>0.5</td>\n",
       "      <td>0.161556</td>\n",
       "      <td>0.756952</td>\n",
       "      <td>DVG</td>\n",
       "    </tr>\n",
       "    <tr>\n",
       "      <th>1228</th>\n",
       "      <td>KOLAR</td>\n",
       "      <td>0.0</td>\n",
       "      <td>0.0</td>\n",
       "      <td>0.4</td>\n",
       "      <td>0.5</td>\n",
       "      <td>0.201262</td>\n",
       "      <td>0.975393</td>\n",
       "      <td>KLR</td>\n",
       "    </tr>\n",
       "    <tr>\n",
       "      <th>1229</th>\n",
       "      <td>CHIKKABALLAPURA</td>\n",
       "      <td>0.0</td>\n",
       "      <td>0.0</td>\n",
       "      <td>0.4</td>\n",
       "      <td>0.5</td>\n",
       "      <td>0.180685</td>\n",
       "      <td>0.944673</td>\n",
       "      <td>CKA</td>\n",
       "    </tr>\n",
       "  </tbody>\n",
       "</table>\n",
       "</div>"
      ],
      "text/plain": [
       "             District  Sensitivity_AreaUnderOilSeeds_GroundNut  \\\n",
       "1200       RAMANAGARA                                      0.0   \n",
       "1201      CHITRADURGA                                      0.0   \n",
       "1202       DAVANAGERE                                      0.0   \n",
       "1203            KOLAR                                      0.0   \n",
       "1204  CHIKKABALLAPURA                                      0.0   \n",
       "1205         TUMAKURU                                      0.0   \n",
       "1206   CHIKKAMAGALURU                                      0.0   \n",
       "1207            UDUPI                                      0.0   \n",
       "1208           HASSAN                                      0.0   \n",
       "1209           MANDYA                                      0.0   \n",
       "1210           MYSURU                                      0.0   \n",
       "1211   CHAMARAJANAGAR                                      0.0   \n",
       "1212         BELAGAVI                                      0.0   \n",
       "1213       VIJAYAPURA                                      0.0   \n",
       "1214         BAGALKOT                                      0.0   \n",
       "1215         DHARAWAD                                      0.0   \n",
       "1216            GADAG                                      0.0   \n",
       "1217           HAVERI                                      0.0   \n",
       "1218   UTTARA KANNADA                                      0.0   \n",
       "1219          BALLARI                                      0.0   \n",
       "1220       KALABURAGI                                      0.0   \n",
       "1221          YADGIRI                                      0.0   \n",
       "1222          RAICHUR                                      0.0   \n",
       "1223           KOPPAL                                      0.0   \n",
       "1224     VIJAYANAGARA                                      0.0   \n",
       "1225       RAMANAGARA                                      0.0   \n",
       "1226      CHITRADURGA                                      0.0   \n",
       "1227       DAVANAGERE                                      0.0   \n",
       "1228            KOLAR                                      0.0   \n",
       "1229  CHIKKABALLAPURA                                      0.0   \n",
       "\n",
       "      Sensitivity_MotorVehicles_Tractors  \\\n",
       "1200                                 0.0   \n",
       "1201                                 0.0   \n",
       "1202                                 0.0   \n",
       "1203                                 0.0   \n",
       "1204                                 0.0   \n",
       "1205                                 0.0   \n",
       "1206                                 0.0   \n",
       "1207                                 0.0   \n",
       "1208                                 0.0   \n",
       "1209                                 0.0   \n",
       "1210                                 0.0   \n",
       "1211                                 0.0   \n",
       "1212                                 0.0   \n",
       "1213                                 0.0   \n",
       "1214                                 0.0   \n",
       "1215                                 0.0   \n",
       "1216                                 0.0   \n",
       "1217                                 0.0   \n",
       "1218                                 0.0   \n",
       "1219                                 0.0   \n",
       "1220                                 0.0   \n",
       "1221                                 0.0   \n",
       "1222                                 0.0   \n",
       "1223                                 0.0   \n",
       "1224                                 0.0   \n",
       "1225                                 0.0   \n",
       "1226                                 0.0   \n",
       "1227                                 0.0   \n",
       "1228                                 0.0   \n",
       "1229                                 0.0   \n",
       "\n",
       "      Sensitivity_LivestockCensus_2012_Sheep  Sensitivity_TotalNPK  \\\n",
       "1200                                     0.4                   0.4   \n",
       "1201                                     0.4                   0.4   \n",
       "1202                                     0.4                   0.4   \n",
       "1203                                     0.4                   0.4   \n",
       "1204                                     0.4                   0.4   \n",
       "1205                                     0.4                   0.4   \n",
       "1206                                     0.4                   0.4   \n",
       "1207                                     0.4                   0.4   \n",
       "1208                                     0.4                   0.4   \n",
       "1209                                     0.4                   0.4   \n",
       "1210                                     0.4                   0.4   \n",
       "1211                                     0.4                   0.4   \n",
       "1212                                     0.4                   0.4   \n",
       "1213                                     0.4                   0.4   \n",
       "1214                                     0.4                   0.4   \n",
       "1215                                     0.4                   0.4   \n",
       "1216                                     0.4                   0.4   \n",
       "1217                                     0.4                   0.4   \n",
       "1218                                     0.4                   0.4   \n",
       "1219                                     0.4                   0.4   \n",
       "1220                                     0.4                   0.4   \n",
       "1221                                     0.4                   0.4   \n",
       "1222                                     0.4                   0.4   \n",
       "1223                                     0.4                   0.4   \n",
       "1224                                     0.4                   0.4   \n",
       "1225                                     0.4                   0.5   \n",
       "1226                                     0.4                   0.5   \n",
       "1227                                     0.4                   0.5   \n",
       "1228                                     0.4                   0.5   \n",
       "1229                                     0.4                   0.5   \n",
       "\n",
       "      New_Production  Stability_Values Abbreviation  \n",
       "1200        0.064930          0.466608          RGA  \n",
       "1201        0.907287          0.186955          CDA  \n",
       "1202        0.160249          0.756952          DVG  \n",
       "1203        0.199955          0.975393          KLR  \n",
       "1204        0.179378          0.944673          CKA  \n",
       "1205        0.616476          0.867786          TKR  \n",
       "1206        0.093239          0.517484          CMG  \n",
       "1207        0.040410          0.816004          UPI  \n",
       "1208        0.028313          0.658974          HSN  \n",
       "1209        0.034844          0.859185          MDY  \n",
       "1210        0.043396          0.782735          MYS  \n",
       "1211        0.110675          0.990805          CNR  \n",
       "1212        0.508194          0.633564          BLG  \n",
       "1213        0.283753          0.987118          VJP  \n",
       "1214        0.392691          0.896045          BKT  \n",
       "1215        0.333637          0.907198          DWD  \n",
       "1216        0.476192          0.794457          GDG  \n",
       "1217        0.187979          0.893371          HVR  \n",
       "1218        0.045776          0.677353          UTK  \n",
       "1219        0.470769          0.760744          BLL  \n",
       "1220        0.052593          0.655550          KLB  \n",
       "1221        0.547654          0.735579          YDR  \n",
       "1222        0.394067          0.851745          RCR  \n",
       "1223        0.291723          0.846892          KPL  \n",
       "1224        0.470769          0.840148          VJN  \n",
       "1225        0.066237          0.466608          RGA  \n",
       "1226        0.908594          0.186955          CDA  \n",
       "1227        0.161556          0.756952          DVG  \n",
       "1228        0.201262          0.975393          KLR  \n",
       "1229        0.180685          0.944673          CKA  "
      ]
     },
     "execution_count": 490,
     "metadata": {},
     "output_type": "execute_result"
    }
   ],
   "source": [
    "viz_df[1200:1230]"
   ]
  },
  {
   "cell_type": "code",
   "execution_count": 491,
   "metadata": {},
   "outputs": [],
   "source": [
    "# viz_df['New_Production'] = viz_df['New_Production'].apply(lambda x: max(0, x))\n",
    "y = y_st['Groundnut_Production']\n",
    "\n",
    "viz_df['Percentage Change'] = viz_df['New_Production'] - np.tile(y.values, len(viz_df) // case_file_length + 1)[:len(viz_df)]\n",
    "viz_df['Impact'] = viz_df['New_Production'] - np.tile(y.values, len(viz_df) // case_file_length + 1)[:len(viz_df)]\n",
    "for i in range(0, len(viz_df), case_file_length):\n",
    "    viz_df.loc[i:i+case_file_length-1, 'Percentage Change'] = viz_df.loc[i:i+case_file_length-1, 'Percentage Change'] * 100 / y.values + 1e-7\n",
    "    viz_df.loc[i:i+case_file_length-1, 'Impact'] = viz_df.loc[i:i+case_file_length-1, 'Impact']\n",
    "    # viz_df.loc[i:i+case_file_length-1, 'Normalized Percentage Change'] = normalize_list(viz_df.loc[i:i+case_file_length-1, 'Percentage Change'])\n",
    "\n",
    "# viz_df['Percentage Change'] = viz_df['Percentage Change'].replace([np.inf, -np.inf], 0)"
   ]
  },
  {
   "cell_type": "code",
   "execution_count": 492,
   "metadata": {},
   "outputs": [
    {
     "data": {
      "text/html": [
       "<div>\n",
       "<style scoped>\n",
       "    .dataframe tbody tr th:only-of-type {\n",
       "        vertical-align: middle;\n",
       "    }\n",
       "\n",
       "    .dataframe tbody tr th {\n",
       "        vertical-align: top;\n",
       "    }\n",
       "\n",
       "    .dataframe thead th {\n",
       "        text-align: right;\n",
       "    }\n",
       "</style>\n",
       "<table border=\"1\" class=\"dataframe\">\n",
       "  <thead>\n",
       "    <tr style=\"text-align: right;\">\n",
       "      <th></th>\n",
       "      <th>District</th>\n",
       "      <th>Groundnut_Production</th>\n",
       "      <th>TotalNPK</th>\n",
       "      <th>AreaUnderOilSeeds_GroundNut</th>\n",
       "      <th>MotorVehicles_Tractors</th>\n",
       "      <th>LivestockCensus_2012_Sheep</th>\n",
       "      <th>Groundnut_Ratio</th>\n",
       "    </tr>\n",
       "  </thead>\n",
       "  <tbody>\n",
       "    <tr>\n",
       "      <th>2</th>\n",
       "      <td>RAMANAGARA</td>\n",
       "      <td>4830.0</td>\n",
       "      <td>102.712727</td>\n",
       "      <td>3307</td>\n",
       "      <td>156.804614</td>\n",
       "      <td>2102.339270</td>\n",
       "      <td>0.013746</td>\n",
       "    </tr>\n",
       "    <tr>\n",
       "      <th>3</th>\n",
       "      <td>CHITRADURGA</td>\n",
       "      <td>68575.0</td>\n",
       "      <td>2748.901666</td>\n",
       "      <td>96711</td>\n",
       "      <td>1423.861199</td>\n",
       "      <td>72011.816530</td>\n",
       "      <td>0.076605</td>\n",
       "    </tr>\n",
       "    <tr>\n",
       "      <th>4</th>\n",
       "      <td>DAVANAGERE</td>\n",
       "      <td>16592.0</td>\n",
       "      <td>718.500139</td>\n",
       "      <td>15279</td>\n",
       "      <td>233.171480</td>\n",
       "      <td>2474.543782</td>\n",
       "      <td>0.007211</td>\n",
       "    </tr>\n",
       "    <tr>\n",
       "      <th>5</th>\n",
       "      <td>KOLAR</td>\n",
       "      <td>5810.0</td>\n",
       "      <td>729.248826</td>\n",
       "      <td>8608</td>\n",
       "      <td>553.920188</td>\n",
       "      <td>14627.699531</td>\n",
       "      <td>0.032864</td>\n",
       "    </tr>\n",
       "    <tr>\n",
       "      <th>6</th>\n",
       "      <td>CHIKKABALLAPURA</td>\n",
       "      <td>7132.0</td>\n",
       "      <td>554.173035</td>\n",
       "      <td>19535</td>\n",
       "      <td>223.002028</td>\n",
       "      <td>8455.960947</td>\n",
       "      <td>0.019543</td>\n",
       "    </tr>\n",
       "    <tr>\n",
       "      <th>8</th>\n",
       "      <td>TUMAKURU</td>\n",
       "      <td>39626.0</td>\n",
       "      <td>1627.466413</td>\n",
       "      <td>64771</td>\n",
       "      <td>1131.991030</td>\n",
       "      <td>45278.361329</td>\n",
       "      <td>0.042662</td>\n",
       "    </tr>\n",
       "    <tr>\n",
       "      <th>9</th>\n",
       "      <td>CHIKKAMAGALURU</td>\n",
       "      <td>3909.0</td>\n",
       "      <td>519.663897</td>\n",
       "      <td>5851</td>\n",
       "      <td>121.617111</td>\n",
       "      <td>699.225642</td>\n",
       "      <td>0.007658</td>\n",
       "    </tr>\n",
       "    <tr>\n",
       "      <th>11</th>\n",
       "      <td>UDUPI</td>\n",
       "      <td>3623.0</td>\n",
       "      <td>76.610263</td>\n",
       "      <td>1819</td>\n",
       "      <td>53.931232</td>\n",
       "      <td>0.872270</td>\n",
       "      <td>0.012461</td>\n",
       "    </tr>\n",
       "    <tr>\n",
       "      <th>12</th>\n",
       "      <td>HASSAN</td>\n",
       "      <td>521.0</td>\n",
       "      <td>26.584241</td>\n",
       "      <td>862</td>\n",
       "      <td>8.970448</td>\n",
       "      <td>62.423299</td>\n",
       "      <td>0.000388</td>\n",
       "    </tr>\n",
       "    <tr>\n",
       "      <th>14</th>\n",
       "      <td>MANDYA</td>\n",
       "      <td>1021.0</td>\n",
       "      <td>76.301428</td>\n",
       "      <td>1361</td>\n",
       "      <td>14.601824</td>\n",
       "      <td>430.625919</td>\n",
       "      <td>0.001260</td>\n",
       "    </tr>\n",
       "    <tr>\n",
       "      <th>15</th>\n",
       "      <td>MYSURU</td>\n",
       "      <td>2170.0</td>\n",
       "      <td>109.886472</td>\n",
       "      <td>2387</td>\n",
       "      <td>35.637706</td>\n",
       "      <td>386.962906</td>\n",
       "      <td>0.001772</td>\n",
       "    </tr>\n",
       "    <tr>\n",
       "      <th>16</th>\n",
       "      <td>CHAMARAJANAGAR</td>\n",
       "      <td>8867.0</td>\n",
       "      <td>437.077444</td>\n",
       "      <td>12179</td>\n",
       "      <td>67.665016</td>\n",
       "      <td>2359.241323</td>\n",
       "      <td>0.018362</td>\n",
       "    </tr>\n",
       "    <tr>\n",
       "      <th>17</th>\n",
       "      <td>BELAGAVI</td>\n",
       "      <td>39530.0</td>\n",
       "      <td>3309.632223</td>\n",
       "      <td>37419</td>\n",
       "      <td>853.959841</td>\n",
       "      <td>14506.560516</td>\n",
       "      <td>0.018388</td>\n",
       "    </tr>\n",
       "    <tr>\n",
       "      <th>18</th>\n",
       "      <td>VIJAYAPURA</td>\n",
       "      <td>27528.0</td>\n",
       "      <td>1267.386271</td>\n",
       "      <td>24779</td>\n",
       "      <td>580.055688</td>\n",
       "      <td>7228.271206</td>\n",
       "      <td>0.023371</td>\n",
       "    </tr>\n",
       "    <tr>\n",
       "      <th>19</th>\n",
       "      <td>BAGALKOT</td>\n",
       "      <td>25444.0</td>\n",
       "      <td>2319.034334</td>\n",
       "      <td>26333</td>\n",
       "      <td>659.436766</td>\n",
       "      <td>20058.996218</td>\n",
       "      <td>0.027343</td>\n",
       "    </tr>\n",
       "    <tr>\n",
       "      <th>20</th>\n",
       "      <td>DHARAWAD</td>\n",
       "      <td>21178.0</td>\n",
       "      <td>1506.608212</td>\n",
       "      <td>36152</td>\n",
       "      <td>575.986142</td>\n",
       "      <td>2981.779212</td>\n",
       "      <td>0.040304</td>\n",
       "    </tr>\n",
       "    <tr>\n",
       "      <th>21</th>\n",
       "      <td>GADAG</td>\n",
       "      <td>31332.0</td>\n",
       "      <td>1265.091872</td>\n",
       "      <td>41174</td>\n",
       "      <td>1518.327616</td>\n",
       "      <td>14077.244590</td>\n",
       "      <td>0.054342</td>\n",
       "    </tr>\n",
       "    <tr>\n",
       "      <th>22</th>\n",
       "      <td>HAVERI</td>\n",
       "      <td>18309.0</td>\n",
       "      <td>962.245499</td>\n",
       "      <td>17789</td>\n",
       "      <td>232.267686</td>\n",
       "      <td>3770.582401</td>\n",
       "      <td>0.014804</td>\n",
       "    </tr>\n",
       "    <tr>\n",
       "      <th>23</th>\n",
       "      <td>UTTARA KANNADA</td>\n",
       "      <td>3825.0</td>\n",
       "      <td>162.860526</td>\n",
       "      <td>1950</td>\n",
       "      <td>49.317519</td>\n",
       "      <td>50.859356</td>\n",
       "      <td>0.010633</td>\n",
       "    </tr>\n",
       "    <tr>\n",
       "      <th>24</th>\n",
       "      <td>BALLARI</td>\n",
       "      <td>22938.5</td>\n",
       "      <td>1852.839641</td>\n",
       "      <td>49762</td>\n",
       "      <td>721.160542</td>\n",
       "      <td>22723.723301</td>\n",
       "      <td>0.030047</td>\n",
       "    </tr>\n",
       "    <tr>\n",
       "      <th>26</th>\n",
       "      <td>KALABURAGI</td>\n",
       "      <td>3114.0</td>\n",
       "      <td>151.238385</td>\n",
       "      <td>3817</td>\n",
       "      <td>45.795271</td>\n",
       "      <td>280.247116</td>\n",
       "      <td>0.002801</td>\n",
       "    </tr>\n",
       "    <tr>\n",
       "      <th>27</th>\n",
       "      <td>YADGIRI</td>\n",
       "      <td>31435.0</td>\n",
       "      <td>4335.013151</td>\n",
       "      <td>38840</td>\n",
       "      <td>469.698763</td>\n",
       "      <td>21985.146627</td>\n",
       "      <td>0.047435</td>\n",
       "    </tr>\n",
       "    <tr>\n",
       "      <th>28</th>\n",
       "      <td>RAICHUR</td>\n",
       "      <td>26958.0</td>\n",
       "      <td>2294.879709</td>\n",
       "      <td>35960</td>\n",
       "      <td>501.355901</td>\n",
       "      <td>12675.796996</td>\n",
       "      <td>0.019575</td>\n",
       "    </tr>\n",
       "    <tr>\n",
       "      <th>29</th>\n",
       "      <td>KOPPAL</td>\n",
       "      <td>29982.0</td>\n",
       "      <td>1733.114796</td>\n",
       "      <td>22274</td>\n",
       "      <td>384.479472</td>\n",
       "      <td>12890.465433</td>\n",
       "      <td>0.023563</td>\n",
       "    </tr>\n",
       "    <tr>\n",
       "      <th>30</th>\n",
       "      <td>VIJAYANAGARA</td>\n",
       "      <td>22938.5</td>\n",
       "      <td>1852.839641</td>\n",
       "      <td>49762</td>\n",
       "      <td>721.160542</td>\n",
       "      <td>22723.723301</td>\n",
       "      <td>0.030047</td>\n",
       "    </tr>\n",
       "  </tbody>\n",
       "</table>\n",
       "</div>"
      ],
      "text/plain": [
       "           District  Groundnut_Production     TotalNPK  \\\n",
       "2        RAMANAGARA                4830.0   102.712727   \n",
       "3       CHITRADURGA               68575.0  2748.901666   \n",
       "4        DAVANAGERE               16592.0   718.500139   \n",
       "5             KOLAR                5810.0   729.248826   \n",
       "6   CHIKKABALLAPURA                7132.0   554.173035   \n",
       "8          TUMAKURU               39626.0  1627.466413   \n",
       "9    CHIKKAMAGALURU                3909.0   519.663897   \n",
       "11            UDUPI                3623.0    76.610263   \n",
       "12           HASSAN                 521.0    26.584241   \n",
       "14           MANDYA                1021.0    76.301428   \n",
       "15           MYSURU                2170.0   109.886472   \n",
       "16   CHAMARAJANAGAR                8867.0   437.077444   \n",
       "17         BELAGAVI               39530.0  3309.632223   \n",
       "18       VIJAYAPURA               27528.0  1267.386271   \n",
       "19         BAGALKOT               25444.0  2319.034334   \n",
       "20         DHARAWAD               21178.0  1506.608212   \n",
       "21            GADAG               31332.0  1265.091872   \n",
       "22           HAVERI               18309.0   962.245499   \n",
       "23   UTTARA KANNADA                3825.0   162.860526   \n",
       "24          BALLARI               22938.5  1852.839641   \n",
       "26       KALABURAGI                3114.0   151.238385   \n",
       "27          YADGIRI               31435.0  4335.013151   \n",
       "28          RAICHUR               26958.0  2294.879709   \n",
       "29           KOPPAL               29982.0  1733.114796   \n",
       "30     VIJAYANAGARA               22938.5  1852.839641   \n",
       "\n",
       "    AreaUnderOilSeeds_GroundNut  MotorVehicles_Tractors  \\\n",
       "2                          3307              156.804614   \n",
       "3                         96711             1423.861199   \n",
       "4                         15279              233.171480   \n",
       "5                          8608              553.920188   \n",
       "6                         19535              223.002028   \n",
       "8                         64771             1131.991030   \n",
       "9                          5851              121.617111   \n",
       "11                         1819               53.931232   \n",
       "12                          862                8.970448   \n",
       "14                         1361               14.601824   \n",
       "15                         2387               35.637706   \n",
       "16                        12179               67.665016   \n",
       "17                        37419              853.959841   \n",
       "18                        24779              580.055688   \n",
       "19                        26333              659.436766   \n",
       "20                        36152              575.986142   \n",
       "21                        41174             1518.327616   \n",
       "22                        17789              232.267686   \n",
       "23                         1950               49.317519   \n",
       "24                        49762              721.160542   \n",
       "26                         3817               45.795271   \n",
       "27                        38840              469.698763   \n",
       "28                        35960              501.355901   \n",
       "29                        22274              384.479472   \n",
       "30                        49762              721.160542   \n",
       "\n",
       "    LivestockCensus_2012_Sheep  Groundnut_Ratio  \n",
       "2                  2102.339270         0.013746  \n",
       "3                 72011.816530         0.076605  \n",
       "4                  2474.543782         0.007211  \n",
       "5                 14627.699531         0.032864  \n",
       "6                  8455.960947         0.019543  \n",
       "8                 45278.361329         0.042662  \n",
       "9                   699.225642         0.007658  \n",
       "11                    0.872270         0.012461  \n",
       "12                   62.423299         0.000388  \n",
       "14                  430.625919         0.001260  \n",
       "15                  386.962906         0.001772  \n",
       "16                 2359.241323         0.018362  \n",
       "17                14506.560516         0.018388  \n",
       "18                 7228.271206         0.023371  \n",
       "19                20058.996218         0.027343  \n",
       "20                 2981.779212         0.040304  \n",
       "21                14077.244590         0.054342  \n",
       "22                 3770.582401         0.014804  \n",
       "23                   50.859356         0.010633  \n",
       "24                22723.723301         0.030047  \n",
       "26                  280.247116         0.002801  \n",
       "27                21985.146627         0.047435  \n",
       "28                12675.796996         0.019575  \n",
       "29                12890.465433         0.023563  \n",
       "30                22723.723301         0.030047  "
      ]
     },
     "execution_count": 492,
     "metadata": {},
     "output_type": "execute_result"
    }
   ],
   "source": [
    "Working_Directory[~rows_to_remove]"
   ]
  },
  {
   "cell_type": "code",
   "execution_count": 493,
   "metadata": {},
   "outputs": [
    {
     "data": {
      "text/html": [
       "<div>\n",
       "<style scoped>\n",
       "    .dataframe tbody tr th:only-of-type {\n",
       "        vertical-align: middle;\n",
       "    }\n",
       "\n",
       "    .dataframe tbody tr th {\n",
       "        vertical-align: top;\n",
       "    }\n",
       "\n",
       "    .dataframe thead th {\n",
       "        text-align: right;\n",
       "    }\n",
       "</style>\n",
       "<table border=\"1\" class=\"dataframe\">\n",
       "  <thead>\n",
       "    <tr style=\"text-align: right;\">\n",
       "      <th></th>\n",
       "      <th>AreaUnderOilSeeds_GroundNut</th>\n",
       "      <th>MotorVehicles_Tractors</th>\n",
       "      <th>LivestockCensus_2012_Sheep</th>\n",
       "      <th>TotalNPK</th>\n",
       "      <th>Beta_0</th>\n",
       "      <th>Beta_1</th>\n",
       "      <th>Beta_2</th>\n",
       "      <th>Beta_3</th>\n",
       "      <th>Beta_4</th>\n",
       "      <th>New_F1</th>\n",
       "      <th>New_F2</th>\n",
       "      <th>New_F3</th>\n",
       "      <th>New_F4</th>\n",
       "      <th>District</th>\n",
       "      <th>New_Production</th>\n",
       "      <th>Stress_Values</th>\n",
       "      <th>Stability_Values</th>\n",
       "    </tr>\n",
       "  </thead>\n",
       "  <tbody>\n",
       "  </tbody>\n",
       "</table>\n",
       "</div>"
      ],
      "text/plain": [
       "Empty DataFrame\n",
       "Columns: [AreaUnderOilSeeds_GroundNut, MotorVehicles_Tractors, LivestockCensus_2012_Sheep, TotalNPK, Beta_0, Beta_1, Beta_2, Beta_3, Beta_4, New_F1, New_F2, New_F3, New_F4, District, New_Production, Stress_Values, Stability_Values]\n",
       "Index: []"
      ]
     },
     "execution_count": 493,
     "metadata": {},
     "output_type": "execute_result"
    }
   ],
   "source": [
    "condition = (\n",
    "    (result_df['Sensitivity_AreaUnderOilSeeds_GroundNut'] == 0.5) &\n",
    "    (result_df['Sensitivity_MotorVehicles_Tractors'] == 0.4) &\n",
    "    (result_df['Sensitivity_LivestockCensus_2012_Sheep'] == 0.1) &\n",
    "    (result_df['Sensitivity_TotalNPK'] == 0.7) &\n",
    "    (result_df['District'] == \"BENGALURU\")\n",
    ")\n",
    "\n",
    "matching_rows = result_df.loc[condition]\n",
    "\n",
    "matching_rows.iloc[:,4:]"
   ]
  },
  {
   "cell_type": "code",
   "execution_count": 494,
   "metadata": {},
   "outputs": [
    {
     "data": {
      "application/vnd.plotly.v1+json": {
       "config": {
        "plotlyServerURL": "https://plot.ly"
       },
       "data": [
        {
         "hovertemplate": "Stability=%{x}<br>Impact=%{y}<br>Abbreviation=%{text}<extra></extra>",
         "legendgroup": "",
         "marker": {
          "color": "darkblue",
          "opacity": 1,
          "symbol": "circle"
         },
         "mode": "markers+text",
         "name": "",
         "orientation": "v",
         "showlegend": false,
         "text": [
          "RGA",
          "CDA",
          "DVG",
          "KLR",
          "CKA",
          "TKR",
          "CMG",
          "UPI",
          "HSN",
          "MDY",
          "MYS",
          "CNR",
          "BLG",
          "VJP",
          "BKT",
          "DWD",
          "GDG",
          "HVR",
          "UTK",
          "BLL",
          "KLB",
          "YDR",
          "RCR",
          "KPL",
          "VJN"
         ],
         "textfont": {
          "size": 11
         },
         "textposition": "top center",
         "type": "scatter",
         "x": [
          0.4666080375115089,
          0.18695519598544286,
          0.7569515319434015,
          0.9753930536700597,
          0.944672975994259,
          0.8677859275663466,
          0.5174839125557145,
          0.8160039523556568,
          0.6589741661054223,
          0.8591848858910609,
          0.7827350050467639,
          0.9908052306358216,
          0.6335635164208133,
          0.987118012542844,
          0.8960451999386685,
          0.9071980458015835,
          0.7944570426967745,
          0.8933707900062584,
          0.6773532985514592,
          0.7607444114833177,
          0.6555496735008605,
          0.7355791235953612,
          0.8517447981128232,
          0.8468918034149304,
          0.8401482758803436
         ],
         "xaxis": "x",
         "y": [
          27.316066978036858,
          -7.703043462716405,
          -25.500061172484074,
          177.4628864827205,
          100.7967130025354,
          10.013861140656614,
          118.78947541819741,
          23.060119959355614,
          null,
          587.7162601715635,
          143.81852784113087,
          3.0334839141165237,
          -8.605973453328287,
          -24.546285235284575,
          11.509229287326232,
          15.082554751483288,
          8.643290352629014,
          -22.082406422112573,
          26.58921430323338,
          47.67480232267729,
          79.19138400225593,
          24.012915070075646,
          5.477596205125882,
          -28.99024192733423,
          47.67480232267729
         ],
         "yaxis": "y"
        },
        {
         "marker": {
          "color": "darkblue"
         },
         "mode": "markers",
         "name": "RGA: RAMANAGARA",
         "type": "scatter",
         "x": [
          null
         ],
         "y": [
          null
         ]
        },
        {
         "marker": {
          "color": "darkblue"
         },
         "mode": "markers",
         "name": "CDA: CHITRADURGA",
         "type": "scatter",
         "x": [
          null
         ],
         "y": [
          null
         ]
        },
        {
         "marker": {
          "color": "darkblue"
         },
         "mode": "markers",
         "name": "DVG: DAVANAGERE",
         "type": "scatter",
         "x": [
          null
         ],
         "y": [
          null
         ]
        },
        {
         "marker": {
          "color": "darkblue"
         },
         "mode": "markers",
         "name": "KLR: KOLAR",
         "type": "scatter",
         "x": [
          null
         ],
         "y": [
          null
         ]
        },
        {
         "marker": {
          "color": "darkblue"
         },
         "mode": "markers",
         "name": "CKA: CHIKKABALLAPURA",
         "type": "scatter",
         "x": [
          null
         ],
         "y": [
          null
         ]
        },
        {
         "marker": {
          "color": "darkblue"
         },
         "mode": "markers",
         "name": "TKR: TUMAKURU",
         "type": "scatter",
         "x": [
          null
         ],
         "y": [
          null
         ]
        },
        {
         "marker": {
          "color": "darkblue"
         },
         "mode": "markers",
         "name": "CMG: CHIKKAMAGALURU",
         "type": "scatter",
         "x": [
          null
         ],
         "y": [
          null
         ]
        },
        {
         "marker": {
          "color": "darkblue"
         },
         "mode": "markers",
         "name": "UPI: UDUPI",
         "type": "scatter",
         "x": [
          null
         ],
         "y": [
          null
         ]
        },
        {
         "marker": {
          "color": "darkblue"
         },
         "mode": "markers",
         "name": "HSN: HASSAN",
         "type": "scatter",
         "x": [
          null
         ],
         "y": [
          null
         ]
        },
        {
         "marker": {
          "color": "darkblue"
         },
         "mode": "markers",
         "name": "MDY: MANDYA",
         "type": "scatter",
         "x": [
          null
         ],
         "y": [
          null
         ]
        },
        {
         "marker": {
          "color": "darkblue"
         },
         "mode": "markers",
         "name": "MYS: MYSURU",
         "type": "scatter",
         "x": [
          null
         ],
         "y": [
          null
         ]
        },
        {
         "marker": {
          "color": "darkblue"
         },
         "mode": "markers",
         "name": "CNR: CHAMARAJANAGAR",
         "type": "scatter",
         "x": [
          null
         ],
         "y": [
          null
         ]
        },
        {
         "marker": {
          "color": "darkblue"
         },
         "mode": "markers",
         "name": "BLG: BELAGAVI",
         "type": "scatter",
         "x": [
          null
         ],
         "y": [
          null
         ]
        },
        {
         "marker": {
          "color": "darkblue"
         },
         "mode": "markers",
         "name": "VJP: VIJAYAPURA",
         "type": "scatter",
         "x": [
          null
         ],
         "y": [
          null
         ]
        },
        {
         "marker": {
          "color": "darkblue"
         },
         "mode": "markers",
         "name": "BKT: BAGALKOT",
         "type": "scatter",
         "x": [
          null
         ],
         "y": [
          null
         ]
        },
        {
         "marker": {
          "color": "darkblue"
         },
         "mode": "markers",
         "name": "DWD: DHARAWAD",
         "type": "scatter",
         "x": [
          null
         ],
         "y": [
          null
         ]
        },
        {
         "marker": {
          "color": "darkblue"
         },
         "mode": "markers",
         "name": "GDG: GADAG",
         "type": "scatter",
         "x": [
          null
         ],
         "y": [
          null
         ]
        },
        {
         "marker": {
          "color": "darkblue"
         },
         "mode": "markers",
         "name": "HVR: HAVERI",
         "type": "scatter",
         "x": [
          null
         ],
         "y": [
          null
         ]
        },
        {
         "marker": {
          "color": "darkblue"
         },
         "mode": "markers",
         "name": "UTK: UTTARA KANNADA",
         "type": "scatter",
         "x": [
          null
         ],
         "y": [
          null
         ]
        },
        {
         "marker": {
          "color": "darkblue"
         },
         "mode": "markers",
         "name": "BLL: BALLARI",
         "type": "scatter",
         "x": [
          null
         ],
         "y": [
          null
         ]
        },
        {
         "marker": {
          "color": "darkblue"
         },
         "mode": "markers",
         "name": "KLB: KALABURAGI",
         "type": "scatter",
         "x": [
          null
         ],
         "y": [
          null
         ]
        },
        {
         "marker": {
          "color": "darkblue"
         },
         "mode": "markers",
         "name": "YDR: YADGIRI",
         "type": "scatter",
         "x": [
          null
         ],
         "y": [
          null
         ]
        },
        {
         "marker": {
          "color": "darkblue"
         },
         "mode": "markers",
         "name": "RCR: RAICHUR",
         "type": "scatter",
         "x": [
          null
         ],
         "y": [
          null
         ]
        },
        {
         "marker": {
          "color": "darkblue"
         },
         "mode": "markers",
         "name": "KPL: KOPPAL",
         "type": "scatter",
         "x": [
          null
         ],
         "y": [
          null
         ]
        },
        {
         "marker": {
          "color": "darkblue"
         },
         "mode": "markers",
         "name": "VJN: VIJAYANAGARA",
         "type": "scatter",
         "x": [
          null
         ],
         "y": [
          null
         ]
        },
        {
         "mode": "text",
         "showlegend": false,
         "text": [
          "Avg Stability: 0.77"
         ],
         "textfont": {
          "size": 10.7
         },
         "type": "scatter",
         "x": [
          0.7721327146882999
         ],
         "y": [
          -0.07
         ]
        },
        {
         "mode": "text",
         "showlegend": false,
         "text": [
          "Mean Impact: inf"
         ],
         "textfont": {
          "size": 10.7
         },
         "type": "scatter",
         "x": [
          0.3
         ],
         "y": [
          null
         ]
        }
       ],
       "layout": {
        "annotations": [
         {
          "font": {
           "size": 13
          },
          "showarrow": false,
          "text": "α<sub>AG</sub>: 0.50, α<sub>MT</sub>: 0.50, α<sub>LV</sub>: 0.50, α<sub>NPK</sub>: 0.50",
          "x": 0.5,
          "xref": "paper",
          "y": -0.25,
          "yref": "paper"
         }
        ],
        "legend": {
         "title": {
          "font": {
           "size": 12
          },
          "text": "Districts"
         },
         "tracegroupgap": 0
        },
        "shapes": [
         {
          "line": {
           "color": "red",
           "dash": "dash",
           "width": 1.5
          },
          "type": "line",
          "x0": 0.7721327146882999,
          "x1": 0.7721327146882999,
          "y0": 0,
          "y1": 1,
          "yref": "paper"
         },
         {
          "line": {
           "color": "red",
           "dash": "dash",
           "width": 1.5
          },
          "type": "line",
          "x0": 0,
          "x1": 1,
          "xref": "paper",
          "y0": null,
          "y1": null
         }
        ],
        "template": {
         "data": {
          "bar": [
           {
            "error_x": {
             "color": "#2a3f5f"
            },
            "error_y": {
             "color": "#2a3f5f"
            },
            "marker": {
             "line": {
              "color": "#E5ECF6",
              "width": 0.5
             },
             "pattern": {
              "fillmode": "overlay",
              "size": 10,
              "solidity": 0.2
             }
            },
            "type": "bar"
           }
          ],
          "barpolar": [
           {
            "marker": {
             "line": {
              "color": "#E5ECF6",
              "width": 0.5
             },
             "pattern": {
              "fillmode": "overlay",
              "size": 10,
              "solidity": 0.2
             }
            },
            "type": "barpolar"
           }
          ],
          "carpet": [
           {
            "aaxis": {
             "endlinecolor": "#2a3f5f",
             "gridcolor": "white",
             "linecolor": "white",
             "minorgridcolor": "white",
             "startlinecolor": "#2a3f5f"
            },
            "baxis": {
             "endlinecolor": "#2a3f5f",
             "gridcolor": "white",
             "linecolor": "white",
             "minorgridcolor": "white",
             "startlinecolor": "#2a3f5f"
            },
            "type": "carpet"
           }
          ],
          "choropleth": [
           {
            "colorbar": {
             "outlinewidth": 0,
             "ticks": ""
            },
            "type": "choropleth"
           }
          ],
          "contour": [
           {
            "colorbar": {
             "outlinewidth": 0,
             "ticks": ""
            },
            "colorscale": [
             [
              0,
              "#0d0887"
             ],
             [
              0.1111111111111111,
              "#46039f"
             ],
             [
              0.2222222222222222,
              "#7201a8"
             ],
             [
              0.3333333333333333,
              "#9c179e"
             ],
             [
              0.4444444444444444,
              "#bd3786"
             ],
             [
              0.5555555555555556,
              "#d8576b"
             ],
             [
              0.6666666666666666,
              "#ed7953"
             ],
             [
              0.7777777777777778,
              "#fb9f3a"
             ],
             [
              0.8888888888888888,
              "#fdca26"
             ],
             [
              1,
              "#f0f921"
             ]
            ],
            "type": "contour"
           }
          ],
          "contourcarpet": [
           {
            "colorbar": {
             "outlinewidth": 0,
             "ticks": ""
            },
            "type": "contourcarpet"
           }
          ],
          "heatmap": [
           {
            "colorbar": {
             "outlinewidth": 0,
             "ticks": ""
            },
            "colorscale": [
             [
              0,
              "#0d0887"
             ],
             [
              0.1111111111111111,
              "#46039f"
             ],
             [
              0.2222222222222222,
              "#7201a8"
             ],
             [
              0.3333333333333333,
              "#9c179e"
             ],
             [
              0.4444444444444444,
              "#bd3786"
             ],
             [
              0.5555555555555556,
              "#d8576b"
             ],
             [
              0.6666666666666666,
              "#ed7953"
             ],
             [
              0.7777777777777778,
              "#fb9f3a"
             ],
             [
              0.8888888888888888,
              "#fdca26"
             ],
             [
              1,
              "#f0f921"
             ]
            ],
            "type": "heatmap"
           }
          ],
          "heatmapgl": [
           {
            "colorbar": {
             "outlinewidth": 0,
             "ticks": ""
            },
            "colorscale": [
             [
              0,
              "#0d0887"
             ],
             [
              0.1111111111111111,
              "#46039f"
             ],
             [
              0.2222222222222222,
              "#7201a8"
             ],
             [
              0.3333333333333333,
              "#9c179e"
             ],
             [
              0.4444444444444444,
              "#bd3786"
             ],
             [
              0.5555555555555556,
              "#d8576b"
             ],
             [
              0.6666666666666666,
              "#ed7953"
             ],
             [
              0.7777777777777778,
              "#fb9f3a"
             ],
             [
              0.8888888888888888,
              "#fdca26"
             ],
             [
              1,
              "#f0f921"
             ]
            ],
            "type": "heatmapgl"
           }
          ],
          "histogram": [
           {
            "marker": {
             "pattern": {
              "fillmode": "overlay",
              "size": 10,
              "solidity": 0.2
             }
            },
            "type": "histogram"
           }
          ],
          "histogram2d": [
           {
            "colorbar": {
             "outlinewidth": 0,
             "ticks": ""
            },
            "colorscale": [
             [
              0,
              "#0d0887"
             ],
             [
              0.1111111111111111,
              "#46039f"
             ],
             [
              0.2222222222222222,
              "#7201a8"
             ],
             [
              0.3333333333333333,
              "#9c179e"
             ],
             [
              0.4444444444444444,
              "#bd3786"
             ],
             [
              0.5555555555555556,
              "#d8576b"
             ],
             [
              0.6666666666666666,
              "#ed7953"
             ],
             [
              0.7777777777777778,
              "#fb9f3a"
             ],
             [
              0.8888888888888888,
              "#fdca26"
             ],
             [
              1,
              "#f0f921"
             ]
            ],
            "type": "histogram2d"
           }
          ],
          "histogram2dcontour": [
           {
            "colorbar": {
             "outlinewidth": 0,
             "ticks": ""
            },
            "colorscale": [
             [
              0,
              "#0d0887"
             ],
             [
              0.1111111111111111,
              "#46039f"
             ],
             [
              0.2222222222222222,
              "#7201a8"
             ],
             [
              0.3333333333333333,
              "#9c179e"
             ],
             [
              0.4444444444444444,
              "#bd3786"
             ],
             [
              0.5555555555555556,
              "#d8576b"
             ],
             [
              0.6666666666666666,
              "#ed7953"
             ],
             [
              0.7777777777777778,
              "#fb9f3a"
             ],
             [
              0.8888888888888888,
              "#fdca26"
             ],
             [
              1,
              "#f0f921"
             ]
            ],
            "type": "histogram2dcontour"
           }
          ],
          "mesh3d": [
           {
            "colorbar": {
             "outlinewidth": 0,
             "ticks": ""
            },
            "type": "mesh3d"
           }
          ],
          "parcoords": [
           {
            "line": {
             "colorbar": {
              "outlinewidth": 0,
              "ticks": ""
             }
            },
            "type": "parcoords"
           }
          ],
          "pie": [
           {
            "automargin": true,
            "type": "pie"
           }
          ],
          "scatter": [
           {
            "fillpattern": {
             "fillmode": "overlay",
             "size": 10,
             "solidity": 0.2
            },
            "type": "scatter"
           }
          ],
          "scatter3d": [
           {
            "line": {
             "colorbar": {
              "outlinewidth": 0,
              "ticks": ""
             }
            },
            "marker": {
             "colorbar": {
              "outlinewidth": 0,
              "ticks": ""
             }
            },
            "type": "scatter3d"
           }
          ],
          "scattercarpet": [
           {
            "marker": {
             "colorbar": {
              "outlinewidth": 0,
              "ticks": ""
             }
            },
            "type": "scattercarpet"
           }
          ],
          "scattergeo": [
           {
            "marker": {
             "colorbar": {
              "outlinewidth": 0,
              "ticks": ""
             }
            },
            "type": "scattergeo"
           }
          ],
          "scattergl": [
           {
            "marker": {
             "colorbar": {
              "outlinewidth": 0,
              "ticks": ""
             }
            },
            "type": "scattergl"
           }
          ],
          "scattermapbox": [
           {
            "marker": {
             "colorbar": {
              "outlinewidth": 0,
              "ticks": ""
             }
            },
            "type": "scattermapbox"
           }
          ],
          "scatterpolar": [
           {
            "marker": {
             "colorbar": {
              "outlinewidth": 0,
              "ticks": ""
             }
            },
            "type": "scatterpolar"
           }
          ],
          "scatterpolargl": [
           {
            "marker": {
             "colorbar": {
              "outlinewidth": 0,
              "ticks": ""
             }
            },
            "type": "scatterpolargl"
           }
          ],
          "scatterternary": [
           {
            "marker": {
             "colorbar": {
              "outlinewidth": 0,
              "ticks": ""
             }
            },
            "type": "scatterternary"
           }
          ],
          "surface": [
           {
            "colorbar": {
             "outlinewidth": 0,
             "ticks": ""
            },
            "colorscale": [
             [
              0,
              "#0d0887"
             ],
             [
              0.1111111111111111,
              "#46039f"
             ],
             [
              0.2222222222222222,
              "#7201a8"
             ],
             [
              0.3333333333333333,
              "#9c179e"
             ],
             [
              0.4444444444444444,
              "#bd3786"
             ],
             [
              0.5555555555555556,
              "#d8576b"
             ],
             [
              0.6666666666666666,
              "#ed7953"
             ],
             [
              0.7777777777777778,
              "#fb9f3a"
             ],
             [
              0.8888888888888888,
              "#fdca26"
             ],
             [
              1,
              "#f0f921"
             ]
            ],
            "type": "surface"
           }
          ],
          "table": [
           {
            "cells": {
             "fill": {
              "color": "#EBF0F8"
             },
             "line": {
              "color": "white"
             }
            },
            "header": {
             "fill": {
              "color": "#C8D4E3"
             },
             "line": {
              "color": "white"
             }
            },
            "type": "table"
           }
          ]
         },
         "layout": {
          "annotationdefaults": {
           "arrowcolor": "#2a3f5f",
           "arrowhead": 0,
           "arrowwidth": 1
          },
          "autotypenumbers": "strict",
          "coloraxis": {
           "colorbar": {
            "outlinewidth": 0,
            "ticks": ""
           }
          },
          "colorscale": {
           "diverging": [
            [
             0,
             "#8e0152"
            ],
            [
             0.1,
             "#c51b7d"
            ],
            [
             0.2,
             "#de77ae"
            ],
            [
             0.3,
             "#f1b6da"
            ],
            [
             0.4,
             "#fde0ef"
            ],
            [
             0.5,
             "#f7f7f7"
            ],
            [
             0.6,
             "#e6f5d0"
            ],
            [
             0.7,
             "#b8e186"
            ],
            [
             0.8,
             "#7fbc41"
            ],
            [
             0.9,
             "#4d9221"
            ],
            [
             1,
             "#276419"
            ]
           ],
           "sequential": [
            [
             0,
             "#0d0887"
            ],
            [
             0.1111111111111111,
             "#46039f"
            ],
            [
             0.2222222222222222,
             "#7201a8"
            ],
            [
             0.3333333333333333,
             "#9c179e"
            ],
            [
             0.4444444444444444,
             "#bd3786"
            ],
            [
             0.5555555555555556,
             "#d8576b"
            ],
            [
             0.6666666666666666,
             "#ed7953"
            ],
            [
             0.7777777777777778,
             "#fb9f3a"
            ],
            [
             0.8888888888888888,
             "#fdca26"
            ],
            [
             1,
             "#f0f921"
            ]
           ],
           "sequentialminus": [
            [
             0,
             "#0d0887"
            ],
            [
             0.1111111111111111,
             "#46039f"
            ],
            [
             0.2222222222222222,
             "#7201a8"
            ],
            [
             0.3333333333333333,
             "#9c179e"
            ],
            [
             0.4444444444444444,
             "#bd3786"
            ],
            [
             0.5555555555555556,
             "#d8576b"
            ],
            [
             0.6666666666666666,
             "#ed7953"
            ],
            [
             0.7777777777777778,
             "#fb9f3a"
            ],
            [
             0.8888888888888888,
             "#fdca26"
            ],
            [
             1,
             "#f0f921"
            ]
           ]
          },
          "colorway": [
           "#636efa",
           "#EF553B",
           "#00cc96",
           "#ab63fa",
           "#FFA15A",
           "#19d3f3",
           "#FF6692",
           "#B6E880",
           "#FF97FF",
           "#FECB52"
          ],
          "font": {
           "color": "#2a3f5f"
          },
          "geo": {
           "bgcolor": "white",
           "lakecolor": "white",
           "landcolor": "#E5ECF6",
           "showlakes": true,
           "showland": true,
           "subunitcolor": "white"
          },
          "hoverlabel": {
           "align": "left"
          },
          "hovermode": "closest",
          "mapbox": {
           "style": "light"
          },
          "paper_bgcolor": "white",
          "plot_bgcolor": "#E5ECF6",
          "polar": {
           "angularaxis": {
            "gridcolor": "white",
            "linecolor": "white",
            "ticks": ""
           },
           "bgcolor": "#E5ECF6",
           "radialaxis": {
            "gridcolor": "white",
            "linecolor": "white",
            "ticks": ""
           }
          },
          "scene": {
           "xaxis": {
            "backgroundcolor": "#E5ECF6",
            "gridcolor": "white",
            "gridwidth": 2,
            "linecolor": "white",
            "showbackground": true,
            "ticks": "",
            "zerolinecolor": "white"
           },
           "yaxis": {
            "backgroundcolor": "#E5ECF6",
            "gridcolor": "white",
            "gridwidth": 2,
            "linecolor": "white",
            "showbackground": true,
            "ticks": "",
            "zerolinecolor": "white"
           },
           "zaxis": {
            "backgroundcolor": "#E5ECF6",
            "gridcolor": "white",
            "gridwidth": 2,
            "linecolor": "white",
            "showbackground": true,
            "ticks": "",
            "zerolinecolor": "white"
           }
          },
          "shapedefaults": {
           "line": {
            "color": "#2a3f5f"
           }
          },
          "ternary": {
           "aaxis": {
            "gridcolor": "white",
            "linecolor": "white",
            "ticks": ""
           },
           "baxis": {
            "gridcolor": "white",
            "linecolor": "white",
            "ticks": ""
           },
           "bgcolor": "#E5ECF6",
           "caxis": {
            "gridcolor": "white",
            "linecolor": "white",
            "ticks": ""
           }
          },
          "title": {
           "x": 0.05
          },
          "xaxis": {
           "automargin": true,
           "gridcolor": "white",
           "linecolor": "white",
           "ticks": "",
           "title": {
            "standoff": 15
           },
           "zerolinecolor": "white",
           "zerolinewidth": 2
          },
          "yaxis": {
           "automargin": true,
           "gridcolor": "white",
           "linecolor": "white",
           "ticks": "",
           "title": {
            "standoff": 15
           },
           "zerolinecolor": "white",
           "zerolinewidth": 2
          }
         }
        },
        "title": {
         "text": "GroundNut Impact vs Stability"
        },
        "xaxis": {
         "anchor": "y",
         "domain": [
          0,
          1
         ],
         "title": {
          "text": "Stability"
         }
        },
        "yaxis": {
         "anchor": "x",
         "domain": [
          0,
          1
         ],
         "title": {
          "text": "Impact"
         }
        }
       }
      }
     },
     "metadata": {},
     "output_type": "display_data"
    },
    {
     "data": {
      "application/vnd.jupyter.widget-view+json": {
       "model_id": "023c1a2ddf10483a8554ecbe47d1647c",
       "version_major": 2,
       "version_minor": 0
      },
      "text/plain": [
       "interactive(children=(FloatSlider(value=0.5, description='αAG:', max=1.0), FloatSlider(value=0.5, description=…"
      ]
     },
     "metadata": {},
     "output_type": "display_data"
    },
    {
     "data": {
      "application/vnd.jupyter.widget-view+json": {
       "model_id": "f8c21a6c8a2e4fc4831d212108e65c81",
       "version_major": 2,
       "version_minor": 0
      },
      "text/plain": [
       "HBox(children=(Button(description='Update Plot', style=ButtonStyle()), FloatSlider(value=0.5, description='αAG…"
      ]
     },
     "execution_count": 494,
     "metadata": {},
     "output_type": "execute_result"
    }
   ],
   "source": [
    "import pandas as pd\n",
    "import plotly.express as px\n",
    "import ipywidgets as widgets\n",
    "from ipywidgets import interact\n",
    "from IPython.display import clear_output\n",
    "import plotly.graph_objects as go\n",
    "\n",
    "def update_plot(alpha1, alpha2, alpha3, alpha4):\n",
    "    \n",
    "    tolerance = 1e-5 \n",
    "    filtered_df = viz_df[\n",
    "        (viz_df['Sensitivity_AreaUnderOilSeeds_GroundNut'].between(alpha1 - tolerance, alpha1 + tolerance)) &\n",
    "        (viz_df['Sensitivity_MotorVehicles_Tractors'].between(alpha2 - tolerance, alpha2 + tolerance)) &\n",
    "        (viz_df['Sensitivity_LivestockCensus_2012_Sheep'].between(alpha3 - tolerance, alpha3 + tolerance)) &\n",
    "        (viz_df['Sensitivity_TotalNPK'].between(alpha4 - tolerance, alpha4 + tolerance))\n",
    "    ]\n",
    "\n",
    "    # Create a scatter plot with filtered data\n",
    "    fig = px.scatter(filtered_df, x='Stability_Values', y='Percentage Change', title='GroundNut Impact vs Stability',\n",
    "                     labels={'Percentage Change': 'Impact', 'Stability_Values': 'Stability'},\n",
    "                     text='Abbreviation', opacity=1, color_discrete_sequence=['darkblue'])\n",
    "\n",
    "    fig.update_traces(textposition='top center', textfont=dict(size=11))\n",
    "\n",
    "    # Update layout to add annotations and legends\n",
    "    fig.update_layout(\n",
    "        annotations=[\n",
    "            dict(\n",
    "                x=0.5,\n",
    "                y=-0.25,\n",
    "                showarrow=False,\n",
    "                text=f'α<sub>AG</sub>: {alpha1:.2f}, α<sub>MT</sub>: {alpha2:.2f}, α<sub>LV</sub>: {alpha3:.2f}, α<sub>NPK</sub>: {alpha4:.2f}',\n",
    "                xref=\"paper\",\n",
    "                yref=\"paper\",\n",
    "                font=dict(size=13)\n",
    "            )\n",
    "        ],\n",
    "        legend_title_text='Districts',\n",
    "        legend_title=dict(font=dict(size=12)),\n",
    "    )\n",
    "\n",
    "    # Adding custom legends with abbreviations and full forms\n",
    "    legend_labels = [{'Abbreviation': abb, 'Full Form': full_form} \n",
    "                     for abb, full_form in zip(filtered_df['Abbreviation'].unique(), filtered_df['District'].unique())]\n",
    "\n",
    "    for label in legend_labels:\n",
    "        fig.add_trace(go.Scatter(\n",
    "            x=[None],\n",
    "            y=[None],\n",
    "            mode='markers',\n",
    "            marker=dict(color='darkblue'),\n",
    "            name=f\"{label['Abbreviation']}: {label['Full Form']}\"\n",
    "        ))\n",
    "\n",
    "    # Adding average lines for stability and percentage change\n",
    "    avg_stability = filtered_df['Stability_Values'].mean()\n",
    "    avg_precent = filtered_df['Percentage Change'].mean()\n",
    "\n",
    "    fig.add_shape(\n",
    "        type='line',\n",
    "        x0=avg_stability, y0=0, x1=avg_stability, y1=1,\n",
    "        line=dict(color='red', width=1.5, dash='dash'),\n",
    "        yref='paper'\n",
    "    )\n",
    "\n",
    "    fig.add_shape(\n",
    "        type='line',\n",
    "        x0=0, y0=avg_precent, x1=1, y1=avg_precent,\n",
    "        line=dict(color='red', width=1.5, dash='dash'),\n",
    "        xref='paper'\n",
    "    )\n",
    "\n",
    "    # Add annotations for average values\n",
    "    fig.add_trace(go.Scatter(\n",
    "        x=[avg_stability],\n",
    "        y=[-0.07],\n",
    "        text=[f'Avg Stability: {avg_stability:.2f}'],\n",
    "        mode=\"text\",\n",
    "        showlegend=False,\n",
    "        textfont=dict(size=10.7)\n",
    "    ))\n",
    "\n",
    "    fig.add_trace(go.Scatter(\n",
    "        x=[0.3],\n",
    "        y=[avg_precent-0.04],\n",
    "        text=[f'Mean Impact: {avg_precent:.2f}'],\n",
    "        mode=\"text\",\n",
    "        showlegend=False,\n",
    "        textfont=dict(size=10.7)\n",
    "    ))\n",
    "\n",
    "    clear_output()\n",
    "\n",
    "    display(fig)\n",
    "\n",
    "# Creating sliders for interaction\n",
    "alpha1_slider = widgets.FloatSlider(value=0.5, min=0, max=1, step=0.1, description='αAG:')\n",
    "alpha2_slider = widgets.FloatSlider(value=0.5, min=0, max=1, step=0.1, description='αMT:')\n",
    "alpha3_slider = widgets.FloatSlider(value=0.5, min=0, max=1, step=0.1, description='αLV:')\n",
    "alpha4_slider = widgets.FloatSlider(value=0.5, min=0, max=1, step=0.1, description='αNPK:')\n",
    "\n",
    "# Creating interactive plot\n",
    "interactive_plot = interact(update_plot, alpha1=alpha1_slider, alpha2=alpha2_slider, alpha3=alpha3_slider, alpha4=alpha4_slider)\n",
    "\n",
    "# Create update button to trigger plot update\n",
    "update_button = widgets.Button(description=\"Update Plot\")\n",
    "update_button.on_click(lambda _: update_plot(alpha1_slider.value, alpha2_slider.value, alpha3=alpha3_slider, alpha4=alpha4_slider))\n",
    "\n",
    "# Display the button and sliders\n",
    "widgets.HBox([update_button, alpha1_slider, alpha2_slider, alpha3_slider, alpha4_slider])\n"
   ]
  },
  {
   "cell_type": "code",
   "execution_count": 495,
   "metadata": {},
   "outputs": [
    {
     "data": {
      "text/html": [
       "<div>\n",
       "<style scoped>\n",
       "    .dataframe tbody tr th:only-of-type {\n",
       "        vertical-align: middle;\n",
       "    }\n",
       "\n",
       "    .dataframe tbody tr th {\n",
       "        vertical-align: top;\n",
       "    }\n",
       "\n",
       "    .dataframe thead th {\n",
       "        text-align: right;\n",
       "    }\n",
       "</style>\n",
       "<table border=\"1\" class=\"dataframe\">\n",
       "  <thead>\n",
       "    <tr style=\"text-align: right;\">\n",
       "      <th></th>\n",
       "      <th>Groundnut_Production</th>\n",
       "      <th>District</th>\n",
       "    </tr>\n",
       "  </thead>\n",
       "  <tbody>\n",
       "    <tr>\n",
       "      <th>0</th>\n",
       "      <td>0.063317</td>\n",
       "      <td>RAMANAGARA</td>\n",
       "    </tr>\n",
       "    <tr>\n",
       "      <th>1</th>\n",
       "      <td>1.000000</td>\n",
       "      <td>CHITRADURGA</td>\n",
       "    </tr>\n",
       "    <tr>\n",
       "      <th>2</th>\n",
       "      <td>0.236151</td>\n",
       "      <td>DAVANAGERE</td>\n",
       "    </tr>\n",
       "    <tr>\n",
       "      <th>3</th>\n",
       "      <td>0.077718</td>\n",
       "      <td>KOLAR</td>\n",
       "    </tr>\n",
       "    <tr>\n",
       "      <th>4</th>\n",
       "      <td>0.097143</td>\n",
       "      <td>CHIKKABALLAPURA</td>\n",
       "    </tr>\n",
       "    <tr>\n",
       "      <th>5</th>\n",
       "      <td>0.574617</td>\n",
       "      <td>TUMAKURU</td>\n",
       "    </tr>\n",
       "    <tr>\n",
       "      <th>6</th>\n",
       "      <td>0.049784</td>\n",
       "      <td>CHIKKAMAGALURU</td>\n",
       "    </tr>\n",
       "    <tr>\n",
       "      <th>7</th>\n",
       "      <td>0.045581</td>\n",
       "      <td>UDUPI</td>\n",
       "    </tr>\n",
       "    <tr>\n",
       "      <th>8</th>\n",
       "      <td>0.000000</td>\n",
       "      <td>HASSAN</td>\n",
       "    </tr>\n",
       "    <tr>\n",
       "      <th>9</th>\n",
       "      <td>0.007347</td>\n",
       "      <td>MANDYA</td>\n",
       "    </tr>\n",
       "    <tr>\n",
       "      <th>10</th>\n",
       "      <td>0.024231</td>\n",
       "      <td>MYSURU</td>\n",
       "    </tr>\n",
       "    <tr>\n",
       "      <th>11</th>\n",
       "      <td>0.122638</td>\n",
       "      <td>CHAMARAJANAGAR</td>\n",
       "    </tr>\n",
       "    <tr>\n",
       "      <th>12</th>\n",
       "      <td>0.573207</td>\n",
       "      <td>BELAGAVI</td>\n",
       "    </tr>\n",
       "    <tr>\n",
       "      <th>13</th>\n",
       "      <td>0.396847</td>\n",
       "      <td>VIJAYAPURA</td>\n",
       "    </tr>\n",
       "    <tr>\n",
       "      <th>14</th>\n",
       "      <td>0.366224</td>\n",
       "      <td>BAGALKOT</td>\n",
       "    </tr>\n",
       "    <tr>\n",
       "      <th>15</th>\n",
       "      <td>0.303538</td>\n",
       "      <td>DHARAWAD</td>\n",
       "    </tr>\n",
       "    <tr>\n",
       "      <th>16</th>\n",
       "      <td>0.452743</td>\n",
       "      <td>GADAG</td>\n",
       "    </tr>\n",
       "    <tr>\n",
       "      <th>17</th>\n",
       "      <td>0.261381</td>\n",
       "      <td>HAVERI</td>\n",
       "    </tr>\n",
       "    <tr>\n",
       "      <th>18</th>\n",
       "      <td>0.048550</td>\n",
       "      <td>UTTARA KANNADA</td>\n",
       "    </tr>\n",
       "    <tr>\n",
       "      <th>19</th>\n",
       "      <td>0.329408</td>\n",
       "      <td>BALLARI</td>\n",
       "    </tr>\n",
       "    <tr>\n",
       "      <th>20</th>\n",
       "      <td>0.038102</td>\n",
       "      <td>KALABURAGI</td>\n",
       "    </tr>\n",
       "    <tr>\n",
       "      <th>21</th>\n",
       "      <td>0.454257</td>\n",
       "      <td>YADGIRI</td>\n",
       "    </tr>\n",
       "    <tr>\n",
       "      <th>22</th>\n",
       "      <td>0.388471</td>\n",
       "      <td>RAICHUR</td>\n",
       "    </tr>\n",
       "    <tr>\n",
       "      <th>23</th>\n",
       "      <td>0.432906</td>\n",
       "      <td>KOPPAL</td>\n",
       "    </tr>\n",
       "    <tr>\n",
       "      <th>24</th>\n",
       "      <td>0.329408</td>\n",
       "      <td>VIJAYANAGARA</td>\n",
       "    </tr>\n",
       "  </tbody>\n",
       "</table>\n",
       "</div>"
      ],
      "text/plain": [
       "    Groundnut_Production         District\n",
       "0               0.063317       RAMANAGARA\n",
       "1               1.000000      CHITRADURGA\n",
       "2               0.236151       DAVANAGERE\n",
       "3               0.077718            KOLAR\n",
       "4               0.097143  CHIKKABALLAPURA\n",
       "5               0.574617         TUMAKURU\n",
       "6               0.049784   CHIKKAMAGALURU\n",
       "7               0.045581            UDUPI\n",
       "8               0.000000           HASSAN\n",
       "9               0.007347           MANDYA\n",
       "10              0.024231           MYSURU\n",
       "11              0.122638   CHAMARAJANAGAR\n",
       "12              0.573207         BELAGAVI\n",
       "13              0.396847       VIJAYAPURA\n",
       "14              0.366224         BAGALKOT\n",
       "15              0.303538         DHARAWAD\n",
       "16              0.452743            GADAG\n",
       "17              0.261381           HAVERI\n",
       "18              0.048550   UTTARA KANNADA\n",
       "19              0.329408          BALLARI\n",
       "20              0.038102       KALABURAGI\n",
       "21              0.454257          YADGIRI\n",
       "22              0.388471          RAICHUR\n",
       "23              0.432906           KOPPAL\n",
       "24              0.329408     VIJAYANAGARA"
      ]
     },
     "execution_count": 495,
     "metadata": {},
     "output_type": "execute_result"
    }
   ],
   "source": [
    "tre = pd.DataFrame()\n",
    "tre['Groundnut_Production'] =  y_st['Groundnut_Production']\n",
    "tre['District'] = result_df['District']\n",
    "tre"
   ]
  },
  {
   "cell_type": "code",
   "execution_count": 496,
   "metadata": {},
   "outputs": [
    {
     "data": {
      "application/vnd.plotly.v1+json": {
       "config": {
        "plotlyServerURL": "https://plot.ly"
       },
       "data": [
        {
         "hovertemplate": "Stability=%{x}<br>Impact=%{y}<br>Abbreviation=%{text}<extra></extra>",
         "legendgroup": "",
         "marker": {
          "color": "darkblue",
          "opacity": 1,
          "symbol": "circle"
         },
         "mode": "markers+text",
         "name": "",
         "orientation": "v",
         "showlegend": false,
         "text": [
          "RGA",
          "CDA",
          "DVG",
          "KLR",
          "CKA",
          "TKR",
          "CMG",
          "UPI",
          "HSN",
          "MDY",
          "MYS",
          "CNR",
          "BLG",
          "VJP",
          "BKT",
          "DWD",
          "GDG",
          "HVR",
          "UTK",
          "BLL",
          "KLB",
          "YDR",
          "RCR",
          "KPL",
          "VJN"
         ],
         "textfont": {
          "size": 11
         },
         "textposition": "top center",
         "type": "scatter",
         "x": [
          0.4666080375115089,
          0.18695519598544286,
          0.7569515319434015,
          0.9753930536700597,
          0.944672975994259,
          0.8677859275663466,
          0.5174839125557145,
          0.8160039523556568,
          0.6589741661054223,
          0.8591848858910609,
          0.7827350050467639,
          0.9908052306358216,
          0.6335635164208133,
          0.987118012542844,
          0.8960451999386685,
          0.9071980458015835,
          0.7944570426967745,
          0.8933707900062584,
          0.6773532985514592,
          0.7607444114833177,
          0.6555496735008605,
          0.7355791235953612,
          0.8517447981128232,
          0.8468918034149304,
          0.8401482758803436
         ],
         "xaxis": "x",
         "y": [
          0.01729581393855774,
          -0.07703043562716405,
          -0.060218574177872214,
          0.13792006437214693,
          0.09791739927097035,
          0.05754136949993782,
          0.05913814652747125,
          0.010511137009392706,
          0.04399556319629368,
          0.0431801407758224,
          0.03484831931188832,
          0.0037202010039992517,
          -0.049330005927907705,
          -0.09741110413054788,
          0.04214954580711372,
          0.04578134002934292,
          0.03913192699529089,
          -0.05771914174263651,
          0.012908978712123181,
          0.15704438810751287,
          0.03017357663892639,
          0.10908032641504078,
          0.021278867991773143,
          -0.12550056137292354,
          0.15704438810751287
         ],
         "yaxis": "y"
        },
        {
         "marker": {
          "color": "darkblue"
         },
         "mode": "markers",
         "name": "RGA: RAMANAGARA",
         "type": "scatter",
         "x": [
          null
         ],
         "y": [
          null
         ]
        },
        {
         "marker": {
          "color": "darkblue"
         },
         "mode": "markers",
         "name": "CDA: CHITRADURGA",
         "type": "scatter",
         "x": [
          null
         ],
         "y": [
          null
         ]
        },
        {
         "marker": {
          "color": "darkblue"
         },
         "mode": "markers",
         "name": "DVG: DAVANAGERE",
         "type": "scatter",
         "x": [
          null
         ],
         "y": [
          null
         ]
        },
        {
         "marker": {
          "color": "darkblue"
         },
         "mode": "markers",
         "name": "KLR: KOLAR",
         "type": "scatter",
         "x": [
          null
         ],
         "y": [
          null
         ]
        },
        {
         "marker": {
          "color": "darkblue"
         },
         "mode": "markers",
         "name": "CKA: CHIKKABALLAPURA",
         "type": "scatter",
         "x": [
          null
         ],
         "y": [
          null
         ]
        },
        {
         "marker": {
          "color": "darkblue"
         },
         "mode": "markers",
         "name": "TKR: TUMAKURU",
         "type": "scatter",
         "x": [
          null
         ],
         "y": [
          null
         ]
        },
        {
         "marker": {
          "color": "darkblue"
         },
         "mode": "markers",
         "name": "CMG: CHIKKAMAGALURU",
         "type": "scatter",
         "x": [
          null
         ],
         "y": [
          null
         ]
        },
        {
         "marker": {
          "color": "darkblue"
         },
         "mode": "markers",
         "name": "UPI: UDUPI",
         "type": "scatter",
         "x": [
          null
         ],
         "y": [
          null
         ]
        },
        {
         "marker": {
          "color": "darkblue"
         },
         "mode": "markers",
         "name": "HSN: HASSAN",
         "type": "scatter",
         "x": [
          null
         ],
         "y": [
          null
         ]
        },
        {
         "marker": {
          "color": "darkblue"
         },
         "mode": "markers",
         "name": "MDY: MANDYA",
         "type": "scatter",
         "x": [
          null
         ],
         "y": [
          null
         ]
        },
        {
         "marker": {
          "color": "darkblue"
         },
         "mode": "markers",
         "name": "MYS: MYSURU",
         "type": "scatter",
         "x": [
          null
         ],
         "y": [
          null
         ]
        },
        {
         "marker": {
          "color": "darkblue"
         },
         "mode": "markers",
         "name": "CNR: CHAMARAJANAGAR",
         "type": "scatter",
         "x": [
          null
         ],
         "y": [
          null
         ]
        },
        {
         "marker": {
          "color": "darkblue"
         },
         "mode": "markers",
         "name": "BLG: BELAGAVI",
         "type": "scatter",
         "x": [
          null
         ],
         "y": [
          null
         ]
        },
        {
         "marker": {
          "color": "darkblue"
         },
         "mode": "markers",
         "name": "VJP: VIJAYAPURA",
         "type": "scatter",
         "x": [
          null
         ],
         "y": [
          null
         ]
        },
        {
         "marker": {
          "color": "darkblue"
         },
         "mode": "markers",
         "name": "BKT: BAGALKOT",
         "type": "scatter",
         "x": [
          null
         ],
         "y": [
          null
         ]
        },
        {
         "marker": {
          "color": "darkblue"
         },
         "mode": "markers",
         "name": "DWD: DHARAWAD",
         "type": "scatter",
         "x": [
          null
         ],
         "y": [
          null
         ]
        },
        {
         "marker": {
          "color": "darkblue"
         },
         "mode": "markers",
         "name": "GDG: GADAG",
         "type": "scatter",
         "x": [
          null
         ],
         "y": [
          null
         ]
        },
        {
         "marker": {
          "color": "darkblue"
         },
         "mode": "markers",
         "name": "HVR: HAVERI",
         "type": "scatter",
         "x": [
          null
         ],
         "y": [
          null
         ]
        },
        {
         "marker": {
          "color": "darkblue"
         },
         "mode": "markers",
         "name": "UTK: UTTARA KANNADA",
         "type": "scatter",
         "x": [
          null
         ],
         "y": [
          null
         ]
        },
        {
         "marker": {
          "color": "darkblue"
         },
         "mode": "markers",
         "name": "BLL: BALLARI",
         "type": "scatter",
         "x": [
          null
         ],
         "y": [
          null
         ]
        },
        {
         "marker": {
          "color": "darkblue"
         },
         "mode": "markers",
         "name": "KLB: KALABURAGI",
         "type": "scatter",
         "x": [
          null
         ],
         "y": [
          null
         ]
        },
        {
         "marker": {
          "color": "darkblue"
         },
         "mode": "markers",
         "name": "YDR: YADGIRI",
         "type": "scatter",
         "x": [
          null
         ],
         "y": [
          null
         ]
        },
        {
         "marker": {
          "color": "darkblue"
         },
         "mode": "markers",
         "name": "RCR: RAICHUR",
         "type": "scatter",
         "x": [
          null
         ],
         "y": [
          null
         ]
        },
        {
         "marker": {
          "color": "darkblue"
         },
         "mode": "markers",
         "name": "KPL: KOPPAL",
         "type": "scatter",
         "x": [
          null
         ],
         "y": [
          null
         ]
        },
        {
         "marker": {
          "color": "darkblue"
         },
         "mode": "markers",
         "name": "VJN: VIJAYANAGARA",
         "type": "scatter",
         "x": [
          null
         ],
         "y": [
          null
         ]
        },
        {
         "mode": "text",
         "showlegend": false,
         "text": [
          "Avg Stability: 0.77"
         ],
         "textfont": {
          "size": 10.7
         },
         "type": "scatter",
         "x": [
          0.7721327146882999
         ],
         "y": [
          -0.07
         ]
        },
        {
         "mode": "text",
         "showlegend": false,
         "text": [
          "Mean Impact: 0.03"
         ],
         "textfont": {
          "size": 10.7
         },
         "type": "scatter",
         "x": [
          0.3
         ],
         "y": [
          -0.013861933170717392
         ]
        }
       ],
       "layout": {
        "annotations": [
         {
          "font": {
           "size": 13
          },
          "showarrow": false,
          "text": "α<sub>AG</sub>: 0.50, α<sub>MT</sub>: 0.50, α<sub>LV</sub>: 0.50, α<sub>NPK</sub>: 0.50",
          "x": 0.5,
          "xref": "paper",
          "y": -0.25,
          "yref": "paper"
         }
        ],
        "legend": {
         "title": {
          "font": {
           "size": 12
          },
          "text": "Districts"
         },
         "tracegroupgap": 0
        },
        "shapes": [
         {
          "line": {
           "color": "red",
           "dash": "dash",
           "width": 1.5
          },
          "type": "line",
          "x0": 0.7721327146882999,
          "x1": 0.7721327146882999,
          "y0": 0,
          "y1": 1,
          "yref": "paper"
         },
         {
          "line": {
           "color": "red",
           "dash": "dash",
           "width": 1.5
          },
          "type": "line",
          "x0": 0,
          "x1": 1,
          "xref": "paper",
          "y0": 0.02613806682928261,
          "y1": 0.02613806682928261
         }
        ],
        "template": {
         "data": {
          "bar": [
           {
            "error_x": {
             "color": "#2a3f5f"
            },
            "error_y": {
             "color": "#2a3f5f"
            },
            "marker": {
             "line": {
              "color": "#E5ECF6",
              "width": 0.5
             },
             "pattern": {
              "fillmode": "overlay",
              "size": 10,
              "solidity": 0.2
             }
            },
            "type": "bar"
           }
          ],
          "barpolar": [
           {
            "marker": {
             "line": {
              "color": "#E5ECF6",
              "width": 0.5
             },
             "pattern": {
              "fillmode": "overlay",
              "size": 10,
              "solidity": 0.2
             }
            },
            "type": "barpolar"
           }
          ],
          "carpet": [
           {
            "aaxis": {
             "endlinecolor": "#2a3f5f",
             "gridcolor": "white",
             "linecolor": "white",
             "minorgridcolor": "white",
             "startlinecolor": "#2a3f5f"
            },
            "baxis": {
             "endlinecolor": "#2a3f5f",
             "gridcolor": "white",
             "linecolor": "white",
             "minorgridcolor": "white",
             "startlinecolor": "#2a3f5f"
            },
            "type": "carpet"
           }
          ],
          "choropleth": [
           {
            "colorbar": {
             "outlinewidth": 0,
             "ticks": ""
            },
            "type": "choropleth"
           }
          ],
          "contour": [
           {
            "colorbar": {
             "outlinewidth": 0,
             "ticks": ""
            },
            "colorscale": [
             [
              0,
              "#0d0887"
             ],
             [
              0.1111111111111111,
              "#46039f"
             ],
             [
              0.2222222222222222,
              "#7201a8"
             ],
             [
              0.3333333333333333,
              "#9c179e"
             ],
             [
              0.4444444444444444,
              "#bd3786"
             ],
             [
              0.5555555555555556,
              "#d8576b"
             ],
             [
              0.6666666666666666,
              "#ed7953"
             ],
             [
              0.7777777777777778,
              "#fb9f3a"
             ],
             [
              0.8888888888888888,
              "#fdca26"
             ],
             [
              1,
              "#f0f921"
             ]
            ],
            "type": "contour"
           }
          ],
          "contourcarpet": [
           {
            "colorbar": {
             "outlinewidth": 0,
             "ticks": ""
            },
            "type": "contourcarpet"
           }
          ],
          "heatmap": [
           {
            "colorbar": {
             "outlinewidth": 0,
             "ticks": ""
            },
            "colorscale": [
             [
              0,
              "#0d0887"
             ],
             [
              0.1111111111111111,
              "#46039f"
             ],
             [
              0.2222222222222222,
              "#7201a8"
             ],
             [
              0.3333333333333333,
              "#9c179e"
             ],
             [
              0.4444444444444444,
              "#bd3786"
             ],
             [
              0.5555555555555556,
              "#d8576b"
             ],
             [
              0.6666666666666666,
              "#ed7953"
             ],
             [
              0.7777777777777778,
              "#fb9f3a"
             ],
             [
              0.8888888888888888,
              "#fdca26"
             ],
             [
              1,
              "#f0f921"
             ]
            ],
            "type": "heatmap"
           }
          ],
          "heatmapgl": [
           {
            "colorbar": {
             "outlinewidth": 0,
             "ticks": ""
            },
            "colorscale": [
             [
              0,
              "#0d0887"
             ],
             [
              0.1111111111111111,
              "#46039f"
             ],
             [
              0.2222222222222222,
              "#7201a8"
             ],
             [
              0.3333333333333333,
              "#9c179e"
             ],
             [
              0.4444444444444444,
              "#bd3786"
             ],
             [
              0.5555555555555556,
              "#d8576b"
             ],
             [
              0.6666666666666666,
              "#ed7953"
             ],
             [
              0.7777777777777778,
              "#fb9f3a"
             ],
             [
              0.8888888888888888,
              "#fdca26"
             ],
             [
              1,
              "#f0f921"
             ]
            ],
            "type": "heatmapgl"
           }
          ],
          "histogram": [
           {
            "marker": {
             "pattern": {
              "fillmode": "overlay",
              "size": 10,
              "solidity": 0.2
             }
            },
            "type": "histogram"
           }
          ],
          "histogram2d": [
           {
            "colorbar": {
             "outlinewidth": 0,
             "ticks": ""
            },
            "colorscale": [
             [
              0,
              "#0d0887"
             ],
             [
              0.1111111111111111,
              "#46039f"
             ],
             [
              0.2222222222222222,
              "#7201a8"
             ],
             [
              0.3333333333333333,
              "#9c179e"
             ],
             [
              0.4444444444444444,
              "#bd3786"
             ],
             [
              0.5555555555555556,
              "#d8576b"
             ],
             [
              0.6666666666666666,
              "#ed7953"
             ],
             [
              0.7777777777777778,
              "#fb9f3a"
             ],
             [
              0.8888888888888888,
              "#fdca26"
             ],
             [
              1,
              "#f0f921"
             ]
            ],
            "type": "histogram2d"
           }
          ],
          "histogram2dcontour": [
           {
            "colorbar": {
             "outlinewidth": 0,
             "ticks": ""
            },
            "colorscale": [
             [
              0,
              "#0d0887"
             ],
             [
              0.1111111111111111,
              "#46039f"
             ],
             [
              0.2222222222222222,
              "#7201a8"
             ],
             [
              0.3333333333333333,
              "#9c179e"
             ],
             [
              0.4444444444444444,
              "#bd3786"
             ],
             [
              0.5555555555555556,
              "#d8576b"
             ],
             [
              0.6666666666666666,
              "#ed7953"
             ],
             [
              0.7777777777777778,
              "#fb9f3a"
             ],
             [
              0.8888888888888888,
              "#fdca26"
             ],
             [
              1,
              "#f0f921"
             ]
            ],
            "type": "histogram2dcontour"
           }
          ],
          "mesh3d": [
           {
            "colorbar": {
             "outlinewidth": 0,
             "ticks": ""
            },
            "type": "mesh3d"
           }
          ],
          "parcoords": [
           {
            "line": {
             "colorbar": {
              "outlinewidth": 0,
              "ticks": ""
             }
            },
            "type": "parcoords"
           }
          ],
          "pie": [
           {
            "automargin": true,
            "type": "pie"
           }
          ],
          "scatter": [
           {
            "fillpattern": {
             "fillmode": "overlay",
             "size": 10,
             "solidity": 0.2
            },
            "type": "scatter"
           }
          ],
          "scatter3d": [
           {
            "line": {
             "colorbar": {
              "outlinewidth": 0,
              "ticks": ""
             }
            },
            "marker": {
             "colorbar": {
              "outlinewidth": 0,
              "ticks": ""
             }
            },
            "type": "scatter3d"
           }
          ],
          "scattercarpet": [
           {
            "marker": {
             "colorbar": {
              "outlinewidth": 0,
              "ticks": ""
             }
            },
            "type": "scattercarpet"
           }
          ],
          "scattergeo": [
           {
            "marker": {
             "colorbar": {
              "outlinewidth": 0,
              "ticks": ""
             }
            },
            "type": "scattergeo"
           }
          ],
          "scattergl": [
           {
            "marker": {
             "colorbar": {
              "outlinewidth": 0,
              "ticks": ""
             }
            },
            "type": "scattergl"
           }
          ],
          "scattermapbox": [
           {
            "marker": {
             "colorbar": {
              "outlinewidth": 0,
              "ticks": ""
             }
            },
            "type": "scattermapbox"
           }
          ],
          "scatterpolar": [
           {
            "marker": {
             "colorbar": {
              "outlinewidth": 0,
              "ticks": ""
             }
            },
            "type": "scatterpolar"
           }
          ],
          "scatterpolargl": [
           {
            "marker": {
             "colorbar": {
              "outlinewidth": 0,
              "ticks": ""
             }
            },
            "type": "scatterpolargl"
           }
          ],
          "scatterternary": [
           {
            "marker": {
             "colorbar": {
              "outlinewidth": 0,
              "ticks": ""
             }
            },
            "type": "scatterternary"
           }
          ],
          "surface": [
           {
            "colorbar": {
             "outlinewidth": 0,
             "ticks": ""
            },
            "colorscale": [
             [
              0,
              "#0d0887"
             ],
             [
              0.1111111111111111,
              "#46039f"
             ],
             [
              0.2222222222222222,
              "#7201a8"
             ],
             [
              0.3333333333333333,
              "#9c179e"
             ],
             [
              0.4444444444444444,
              "#bd3786"
             ],
             [
              0.5555555555555556,
              "#d8576b"
             ],
             [
              0.6666666666666666,
              "#ed7953"
             ],
             [
              0.7777777777777778,
              "#fb9f3a"
             ],
             [
              0.8888888888888888,
              "#fdca26"
             ],
             [
              1,
              "#f0f921"
             ]
            ],
            "type": "surface"
           }
          ],
          "table": [
           {
            "cells": {
             "fill": {
              "color": "#EBF0F8"
             },
             "line": {
              "color": "white"
             }
            },
            "header": {
             "fill": {
              "color": "#C8D4E3"
             },
             "line": {
              "color": "white"
             }
            },
            "type": "table"
           }
          ]
         },
         "layout": {
          "annotationdefaults": {
           "arrowcolor": "#2a3f5f",
           "arrowhead": 0,
           "arrowwidth": 1
          },
          "autotypenumbers": "strict",
          "coloraxis": {
           "colorbar": {
            "outlinewidth": 0,
            "ticks": ""
           }
          },
          "colorscale": {
           "diverging": [
            [
             0,
             "#8e0152"
            ],
            [
             0.1,
             "#c51b7d"
            ],
            [
             0.2,
             "#de77ae"
            ],
            [
             0.3,
             "#f1b6da"
            ],
            [
             0.4,
             "#fde0ef"
            ],
            [
             0.5,
             "#f7f7f7"
            ],
            [
             0.6,
             "#e6f5d0"
            ],
            [
             0.7,
             "#b8e186"
            ],
            [
             0.8,
             "#7fbc41"
            ],
            [
             0.9,
             "#4d9221"
            ],
            [
             1,
             "#276419"
            ]
           ],
           "sequential": [
            [
             0,
             "#0d0887"
            ],
            [
             0.1111111111111111,
             "#46039f"
            ],
            [
             0.2222222222222222,
             "#7201a8"
            ],
            [
             0.3333333333333333,
             "#9c179e"
            ],
            [
             0.4444444444444444,
             "#bd3786"
            ],
            [
             0.5555555555555556,
             "#d8576b"
            ],
            [
             0.6666666666666666,
             "#ed7953"
            ],
            [
             0.7777777777777778,
             "#fb9f3a"
            ],
            [
             0.8888888888888888,
             "#fdca26"
            ],
            [
             1,
             "#f0f921"
            ]
           ],
           "sequentialminus": [
            [
             0,
             "#0d0887"
            ],
            [
             0.1111111111111111,
             "#46039f"
            ],
            [
             0.2222222222222222,
             "#7201a8"
            ],
            [
             0.3333333333333333,
             "#9c179e"
            ],
            [
             0.4444444444444444,
             "#bd3786"
            ],
            [
             0.5555555555555556,
             "#d8576b"
            ],
            [
             0.6666666666666666,
             "#ed7953"
            ],
            [
             0.7777777777777778,
             "#fb9f3a"
            ],
            [
             0.8888888888888888,
             "#fdca26"
            ],
            [
             1,
             "#f0f921"
            ]
           ]
          },
          "colorway": [
           "#636efa",
           "#EF553B",
           "#00cc96",
           "#ab63fa",
           "#FFA15A",
           "#19d3f3",
           "#FF6692",
           "#B6E880",
           "#FF97FF",
           "#FECB52"
          ],
          "font": {
           "color": "#2a3f5f"
          },
          "geo": {
           "bgcolor": "white",
           "lakecolor": "white",
           "landcolor": "#E5ECF6",
           "showlakes": true,
           "showland": true,
           "subunitcolor": "white"
          },
          "hoverlabel": {
           "align": "left"
          },
          "hovermode": "closest",
          "mapbox": {
           "style": "light"
          },
          "paper_bgcolor": "white",
          "plot_bgcolor": "#E5ECF6",
          "polar": {
           "angularaxis": {
            "gridcolor": "white",
            "linecolor": "white",
            "ticks": ""
           },
           "bgcolor": "#E5ECF6",
           "radialaxis": {
            "gridcolor": "white",
            "linecolor": "white",
            "ticks": ""
           }
          },
          "scene": {
           "xaxis": {
            "backgroundcolor": "#E5ECF6",
            "gridcolor": "white",
            "gridwidth": 2,
            "linecolor": "white",
            "showbackground": true,
            "ticks": "",
            "zerolinecolor": "white"
           },
           "yaxis": {
            "backgroundcolor": "#E5ECF6",
            "gridcolor": "white",
            "gridwidth": 2,
            "linecolor": "white",
            "showbackground": true,
            "ticks": "",
            "zerolinecolor": "white"
           },
           "zaxis": {
            "backgroundcolor": "#E5ECF6",
            "gridcolor": "white",
            "gridwidth": 2,
            "linecolor": "white",
            "showbackground": true,
            "ticks": "",
            "zerolinecolor": "white"
           }
          },
          "shapedefaults": {
           "line": {
            "color": "#2a3f5f"
           }
          },
          "ternary": {
           "aaxis": {
            "gridcolor": "white",
            "linecolor": "white",
            "ticks": ""
           },
           "baxis": {
            "gridcolor": "white",
            "linecolor": "white",
            "ticks": ""
           },
           "bgcolor": "#E5ECF6",
           "caxis": {
            "gridcolor": "white",
            "linecolor": "white",
            "ticks": ""
           }
          },
          "title": {
           "x": 0.05
          },
          "xaxis": {
           "automargin": true,
           "gridcolor": "white",
           "linecolor": "white",
           "ticks": "",
           "title": {
            "standoff": 15
           },
           "zerolinecolor": "white",
           "zerolinewidth": 2
          },
          "yaxis": {
           "automargin": true,
           "gridcolor": "white",
           "linecolor": "white",
           "ticks": "",
           "title": {
            "standoff": 15
           },
           "zerolinecolor": "white",
           "zerolinewidth": 2
          }
         }
        },
        "title": {
         "text": "GroundNut Impact vs Stability"
        },
        "xaxis": {
         "anchor": "y",
         "domain": [
          0,
          1
         ],
         "title": {
          "text": "Stability"
         }
        },
        "yaxis": {
         "anchor": "x",
         "domain": [
          0,
          1
         ],
         "title": {
          "text": "Impact"
         }
        }
       }
      }
     },
     "metadata": {},
     "output_type": "display_data"
    },
    {
     "data": {
      "application/vnd.jupyter.widget-view+json": {
       "model_id": "78e43a24e6a24fefb259658925b04fe9",
       "version_major": 2,
       "version_minor": 0
      },
      "text/plain": [
       "interactive(children=(FloatSlider(value=0.5, description='αAG:', max=1.0), FloatSlider(value=0.5, description=…"
      ]
     },
     "metadata": {},
     "output_type": "display_data"
    },
    {
     "data": {
      "application/vnd.jupyter.widget-view+json": {
       "model_id": "6b4b28afa0cb42d7bafb453867f5c378",
       "version_major": 2,
       "version_minor": 0
      },
      "text/plain": [
       "HBox(children=(Button(description='Update Plot', style=ButtonStyle()), FloatSlider(value=0.5, description='αAG…"
      ]
     },
     "execution_count": 496,
     "metadata": {},
     "output_type": "execute_result"
    }
   ],
   "source": [
    "import pandas as pd\n",
    "import plotly.express as px\n",
    "import ipywidgets as widgets\n",
    "from ipywidgets import interact\n",
    "from IPython.display import clear_output\n",
    "import plotly.graph_objects as go\n",
    "\n",
    "def update_plot(alpha1, alpha2, alpha3, alpha4):\n",
    "    \n",
    "    tolerance = 1e-5 \n",
    "    filtered_df = viz_df[\n",
    "        (viz_df['Sensitivity_AreaUnderOilSeeds_GroundNut'].between(alpha1 - tolerance, alpha1 + tolerance)) &\n",
    "        (viz_df['Sensitivity_MotorVehicles_Tractors'].between(alpha2 - tolerance, alpha2 + tolerance)) &\n",
    "        (viz_df['Sensitivity_LivestockCensus_2012_Sheep'].between(alpha3 - tolerance, alpha3 + tolerance)) &\n",
    "        (viz_df['Sensitivity_TotalNPK'].between(alpha4 - tolerance, alpha4 + tolerance))\n",
    "    ]\n",
    "\n",
    "    # Create a scatter plot with filtered data\n",
    "    fig = px.scatter(filtered_df, x='Stability_Values', y='Impact', title='GroundNut Impact vs Stability',\n",
    "                     labels={'Impact': 'Impact', 'Stability_Values': 'Stability'},\n",
    "                     text='Abbreviation', opacity=1, color_discrete_sequence=['darkblue'])\n",
    "\n",
    "    fig.update_traces(textposition='top center', textfont=dict(size=11))\n",
    "\n",
    "    # Update layout to add annotations and legends\n",
    "    fig.update_layout(\n",
    "        annotations=[\n",
    "            dict(\n",
    "                x=0.5,\n",
    "                y=-0.25,\n",
    "                showarrow=False,\n",
    "                text=f'α<sub>AG</sub>: {alpha1:.2f}, α<sub>MT</sub>: {alpha2:.2f}, α<sub>LV</sub>: {alpha3:.2f}, α<sub>NPK</sub>: {alpha4:.2f}',\n",
    "                xref=\"paper\",\n",
    "                yref=\"paper\",\n",
    "                font=dict(size=13)\n",
    "            )\n",
    "        ],\n",
    "        legend_title_text='Districts',\n",
    "        legend_title=dict(font=dict(size=12)),\n",
    "    )\n",
    "\n",
    "    # Adding custom legends with abbreviations and full forms\n",
    "    legend_labels = [{'Abbreviation': abb, 'Full Form': full_form} \n",
    "                     for abb, full_form in zip(filtered_df['Abbreviation'].unique(), filtered_df['District'].unique())]\n",
    "\n",
    "    for label in legend_labels:\n",
    "        fig.add_trace(go.Scatter(\n",
    "            x=[None],\n",
    "            y=[None],\n",
    "            mode='markers',\n",
    "            marker=dict(color='darkblue'),\n",
    "            name=f\"{label['Abbreviation']}: {label['Full Form']}\"\n",
    "        ))\n",
    "\n",
    "    # Adding average lines for stability and percentage change\n",
    "    avg_stability = filtered_df['Stability_Values'].mean()\n",
    "    avg_precent = filtered_df['Impact'].mean()\n",
    "\n",
    "    fig.add_shape(\n",
    "        type='line',\n",
    "        x0=avg_stability, y0=0, x1=avg_stability, y1=1,\n",
    "        line=dict(color='red', width=1.5, dash='dash'),\n",
    "        yref='paper'\n",
    "    )\n",
    "\n",
    "    fig.add_shape(\n",
    "        type='line',\n",
    "        x0=0, y0=avg_precent, x1=1, y1=avg_precent,\n",
    "        line=dict(color='red', width=1.5, dash='dash'),\n",
    "        xref='paper'\n",
    "    )\n",
    "\n",
    "    # Add annotations for average values\n",
    "    fig.add_trace(go.Scatter(\n",
    "        x=[avg_stability],\n",
    "        y=[-0.07],\n",
    "        text=[f'Avg Stability: {avg_stability:.2f}'],\n",
    "        mode=\"text\",\n",
    "        showlegend=False,\n",
    "        textfont=dict(size=10.7)\n",
    "    ))\n",
    "\n",
    "    fig.add_trace(go.Scatter(\n",
    "        x=[0.3],\n",
    "        y=[avg_precent-0.04],\n",
    "        text=[f'Mean Impact: {avg_precent:.2f}'],\n",
    "        mode=\"text\",\n",
    "        showlegend=False,\n",
    "        textfont=dict(size=10.7)\n",
    "    ))\n",
    "\n",
    "    clear_output()\n",
    "\n",
    "    display(fig)\n",
    "\n",
    "# Creating sliders for interaction\n",
    "alpha1_slider = widgets.FloatSlider(value=0.5, min=0, max=1, step=0.1, description='αAG:')\n",
    "alpha2_slider = widgets.FloatSlider(value=0.5, min=0, max=1, step=0.1, description='αMT:')\n",
    "alpha3_slider = widgets.FloatSlider(value=0.5, min=0, max=1, step=0.1, description='αLV:')\n",
    "alpha4_slider = widgets.FloatSlider(value=0.5, min=0, max=1, step=0.1, description='αNPK:')\n",
    "\n",
    "# Creating interactive plot\n",
    "interactive_plot = interact(update_plot, alpha1=alpha1_slider, alpha2=alpha2_slider, alpha3=alpha3_slider, alpha4=alpha4_slider)\n",
    "\n",
    "# Create update button to trigger plot update\n",
    "update_button = widgets.Button(description=\"Update Plot\")\n",
    "update_button.on_click(lambda _: update_plot(alpha1_slider.value, alpha2_slider.value, alpha3=alpha3_slider, alpha4=alpha4_slider))\n",
    "\n",
    "# Display the button and sliders\n",
    "widgets.HBox([update_button, alpha1_slider, alpha2_slider, alpha3_slider, alpha4_slider])\n"
   ]
  },
  {
   "cell_type": "code",
   "execution_count": 497,
   "metadata": {},
   "outputs": [],
   "source": [
    "# result_df.to_csv('GroundNut_Prescriptive_5000.csv',index=False)"
   ]
  }
 ],
 "metadata": {
  "kernelspec": {
   "display_name": "Python 3",
   "language": "python",
   "name": "python3"
  },
  "language_info": {
   "codemirror_mode": {
    "name": "ipython",
    "version": 3
   },
   "file_extension": ".py",
   "mimetype": "text/x-python",
   "name": "python",
   "nbconvert_exporter": "python",
   "pygments_lexer": "ipython3",
   "version": "3.9.13"
  }
 },
 "nbformat": 4,
 "nbformat_minor": 2
}
