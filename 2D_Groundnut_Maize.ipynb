{
 "cells": [
  {
   "cell_type": "code",
   "execution_count": 105,
   "metadata": {},
   "outputs": [],
   "source": [
    "import pandas as pd\n",
    "import statsmodels.api as sm\n",
    "import re\n",
    "import numpy as np\n",
    "import pandas as pd\n",
    "from itertools import product"
   ]
  },
  {
   "cell_type": "code",
   "execution_count": 106,
   "metadata": {},
   "outputs": [
    {
     "data": {
      "text/html": [
       "<div>\n",
       "<style scoped>\n",
       "    .dataframe tbody tr th:only-of-type {\n",
       "        vertical-align: middle;\n",
       "    }\n",
       "\n",
       "    .dataframe tbody tr th {\n",
       "        vertical-align: top;\n",
       "    }\n",
       "\n",
       "    .dataframe thead th {\n",
       "        text-align: right;\n",
       "    }\n",
       "</style>\n",
       "<table border=\"1\" class=\"dataframe\">\n",
       "  <thead>\n",
       "    <tr style=\"text-align: right;\">\n",
       "      <th></th>\n",
       "      <th>District</th>\n",
       "      <th>Maize_Production</th>\n",
       "      <th>TotalNPK</th>\n",
       "      <th>LivestockCensus_2012_Cattle</th>\n",
       "      <th>AreaUnderCereals_Maize</th>\n",
       "      <th>Maize_Ratio</th>\n",
       "    </tr>\n",
       "  </thead>\n",
       "  <tbody>\n",
       "    <tr>\n",
       "      <th>24</th>\n",
       "      <td>BALLARI</td>\n",
       "      <td>104045</td>\n",
       "      <td>8404.154608</td>\n",
       "      <td>23446.847903</td>\n",
       "      <td>49869.5</td>\n",
       "      <td>0.136288</td>\n",
       "    </tr>\n",
       "    <tr>\n",
       "      <th>25</th>\n",
       "      <td>BIDAR</td>\n",
       "      <td>2791</td>\n",
       "      <td>249.381182</td>\n",
       "      <td>2371.831678</td>\n",
       "      <td>1382.0</td>\n",
       "      <td>0.010114</td>\n",
       "    </tr>\n",
       "    <tr>\n",
       "      <th>26</th>\n",
       "      <td>KALABURAGI</td>\n",
       "      <td>14621</td>\n",
       "      <td>710.101614</td>\n",
       "      <td>6221.617910</td>\n",
       "      <td>2634.0</td>\n",
       "      <td>0.013150</td>\n",
       "    </tr>\n",
       "    <tr>\n",
       "      <th>27</th>\n",
       "      <td>YADGIRI</td>\n",
       "      <td>2673</td>\n",
       "      <td>368.617469</td>\n",
       "      <td>1253.317144</td>\n",
       "      <td>961.0</td>\n",
       "      <td>0.004033</td>\n",
       "    </tr>\n",
       "    <tr>\n",
       "      <th>28</th>\n",
       "      <td>RAICHUR</td>\n",
       "      <td>723</td>\n",
       "      <td>61.547519</td>\n",
       "      <td>188.537479</td>\n",
       "      <td>2600.0</td>\n",
       "      <td>0.000525</td>\n",
       "    </tr>\n",
       "    <tr>\n",
       "      <th>29</th>\n",
       "      <td>KOPPAL</td>\n",
       "      <td>190252</td>\n",
       "      <td>10997.550403</td>\n",
       "      <td>38936.400172</td>\n",
       "      <td>48210.0</td>\n",
       "      <td>0.149521</td>\n",
       "    </tr>\n",
       "    <tr>\n",
       "      <th>30</th>\n",
       "      <td>VIJAYANAGARA</td>\n",
       "      <td>104045</td>\n",
       "      <td>8404.154608</td>\n",
       "      <td>23446.847903</td>\n",
       "      <td>49869.5</td>\n",
       "      <td>0.136288</td>\n",
       "    </tr>\n",
       "  </tbody>\n",
       "</table>\n",
       "</div>"
      ],
      "text/plain": [
       "        District  Maize_Production      TotalNPK  LivestockCensus_2012_Cattle  \\\n",
       "24       BALLARI            104045   8404.154608                 23446.847903   \n",
       "25         BIDAR              2791    249.381182                  2371.831678   \n",
       "26    KALABURAGI             14621    710.101614                  6221.617910   \n",
       "27       YADGIRI              2673    368.617469                  1253.317144   \n",
       "28       RAICHUR               723     61.547519                   188.537479   \n",
       "29        KOPPAL            190252  10997.550403                 38936.400172   \n",
       "30  VIJAYANAGARA            104045   8404.154608                 23446.847903   \n",
       "\n",
       "    AreaUnderCereals_Maize  Maize_Ratio  \n",
       "24                 49869.5     0.136288  \n",
       "25                  1382.0     0.010114  \n",
       "26                  2634.0     0.013150  \n",
       "27                   961.0     0.004033  \n",
       "28                  2600.0     0.000525  \n",
       "29                 48210.0     0.149521  \n",
       "30                 49869.5     0.136288  "
      ]
     },
     "execution_count": 106,
     "metadata": {},
     "output_type": "execute_result"
    }
   ],
   "source": [
    "def remove_pattern(col_name):\n",
    "    return re.sub(r'_[0-9]{3}$', '', col_name)\n",
    "\n",
    "Zones = pd.read_excel('Zones.xlsx')\n",
    "Dataset = pd.read_csv('KAG 2016-17\\Agriculture\\Agriculture_KAG_2016_17.csv')\n",
    "Dataset.columns = map(remove_pattern, Dataset.columns)\n",
    "\n",
    "Maize_param = pd.read_csv('Params/3_Param_Maize_Multicollinearity.csv')\n",
    "Groundnut_param = pd.read_csv('Params/4_parameters_multicollinearity_groundnut.csv')\n",
    "Working_Directory = pd.read_csv('Working_Directory.csv')\n",
    "Maize_Directory = Working_Directory[['District','Maize_Production','TotalNPK',\n",
    "'LivestockCensus_2012_Cattle', 'AreaUnderCereals_Maize','Maize_Ratio']].copy()\n",
    "\n",
    "Groundnut_Directory = Working_Directory[['District','Groundnut_Production', 'TotalNPK', 'AreaUnderOilSeeds_GroundNut', 'MotorVehicles_Tractors',\n",
    "       'LivestockCensus_2012_Sheep','Groundnut_Ratio']].copy()\n",
    "\n",
    "for x in Maize_param.columns:\n",
    "    if(x != 'AreaUnderCereals_Maize'):\n",
    "        Maize_Directory[x] = Maize_Directory[x]*Maize_Directory['Maize_Ratio']\n",
    "        \n",
    "for x in Groundnut_param.columns:\n",
    "    if(x != 'AreaUnderOilSeeds_GroundNut'):\n",
    "        Groundnut_Directory[x] = Groundnut_Directory[x]*Groundnut_Directory['Groundnut_Ratio']\n",
    "\n",
    "Maize_Directory[24:]"
   ]
  },
  {
   "cell_type": "code",
   "execution_count": 107,
   "metadata": {},
   "outputs": [
    {
     "data": {
      "text/html": [
       "<div>\n",
       "<style scoped>\n",
       "    .dataframe tbody tr th:only-of-type {\n",
       "        vertical-align: middle;\n",
       "    }\n",
       "\n",
       "    .dataframe tbody tr th {\n",
       "        vertical-align: top;\n",
       "    }\n",
       "\n",
       "    .dataframe thead th {\n",
       "        text-align: right;\n",
       "    }\n",
       "</style>\n",
       "<table border=\"1\" class=\"dataframe\">\n",
       "  <thead>\n",
       "    <tr style=\"text-align: right;\">\n",
       "      <th></th>\n",
       "      <th>LivestockCensus_2012_Cattle</th>\n",
       "      <th>AreaUnderCereals_Maize</th>\n",
       "      <th>TotalNPK</th>\n",
       "    </tr>\n",
       "  </thead>\n",
       "  <tbody>\n",
       "    <tr>\n",
       "      <th>24</th>\n",
       "      <td>23446.847900</td>\n",
       "      <td>49869.5</td>\n",
       "      <td>8404.154608</td>\n",
       "    </tr>\n",
       "    <tr>\n",
       "      <th>25</th>\n",
       "      <td>2371.831678</td>\n",
       "      <td>1382.0</td>\n",
       "      <td>249.381182</td>\n",
       "    </tr>\n",
       "    <tr>\n",
       "      <th>26</th>\n",
       "      <td>6221.617910</td>\n",
       "      <td>2634.0</td>\n",
       "      <td>710.101614</td>\n",
       "    </tr>\n",
       "    <tr>\n",
       "      <th>27</th>\n",
       "      <td>1253.317144</td>\n",
       "      <td>961.0</td>\n",
       "      <td>368.617469</td>\n",
       "    </tr>\n",
       "    <tr>\n",
       "      <th>28</th>\n",
       "      <td>188.537479</td>\n",
       "      <td>2600.0</td>\n",
       "      <td>61.547519</td>\n",
       "    </tr>\n",
       "    <tr>\n",
       "      <th>29</th>\n",
       "      <td>38936.400170</td>\n",
       "      <td>48210.0</td>\n",
       "      <td>10997.550400</td>\n",
       "    </tr>\n",
       "    <tr>\n",
       "      <th>30</th>\n",
       "      <td>23446.847900</td>\n",
       "      <td>49869.5</td>\n",
       "      <td>8404.154608</td>\n",
       "    </tr>\n",
       "  </tbody>\n",
       "</table>\n",
       "</div>"
      ],
      "text/plain": [
       "    LivestockCensus_2012_Cattle  AreaUnderCereals_Maize      TotalNPK\n",
       "24                 23446.847900                 49869.5   8404.154608\n",
       "25                  2371.831678                  1382.0    249.381182\n",
       "26                  6221.617910                  2634.0    710.101614\n",
       "27                  1253.317144                   961.0    368.617469\n",
       "28                   188.537479                  2600.0     61.547519\n",
       "29                 38936.400170                 48210.0  10997.550400\n",
       "30                 23446.847900                 49869.5   8404.154608"
      ]
     },
     "execution_count": 107,
     "metadata": {},
     "output_type": "execute_result"
    }
   ],
   "source": [
    "Maize_Case_file = Maize_param\n",
    "for x in Maize_Case_file.columns:\n",
    "    Working_Directory[x] = Maize_Case_file[x]\n",
    "y_maize = Working_Directory['Maize_Production']\n",
    "\n",
    "if(len(Maize_Case_file) < 31):\n",
    "    row_24 = Maize_Case_file.iloc[24]\n",
    "    halved_row_24 = row_24 / 2\n",
    "    Maize_Case_file.iloc[24] = halved_row_24\n",
    "    Maize_Case_file.loc[len(Maize_Case_file)] = halved_row_24\n",
    "\n",
    "Maize_Case_file[24:]"
   ]
  },
  {
   "cell_type": "code",
   "execution_count": 108,
   "metadata": {},
   "outputs": [
    {
     "data": {
      "text/html": [
       "<div>\n",
       "<style scoped>\n",
       "    .dataframe tbody tr th:only-of-type {\n",
       "        vertical-align: middle;\n",
       "    }\n",
       "\n",
       "    .dataframe tbody tr th {\n",
       "        vertical-align: top;\n",
       "    }\n",
       "\n",
       "    .dataframe thead th {\n",
       "        text-align: right;\n",
       "    }\n",
       "</style>\n",
       "<table border=\"1\" class=\"dataframe\">\n",
       "  <thead>\n",
       "    <tr style=\"text-align: right;\">\n",
       "      <th></th>\n",
       "      <th>AreaUnderOilSeeds_GroundNut</th>\n",
       "      <th>MotorVehicles_Tractors</th>\n",
       "      <th>LivestockCensus_2012_Sheep</th>\n",
       "      <th>TotalNPK</th>\n",
       "    </tr>\n",
       "  </thead>\n",
       "  <tbody>\n",
       "    <tr>\n",
       "      <th>24</th>\n",
       "      <td>49762</td>\n",
       "      <td>721.160542</td>\n",
       "      <td>22723.723301</td>\n",
       "      <td>1852.839641</td>\n",
       "    </tr>\n",
       "    <tr>\n",
       "      <th>25</th>\n",
       "      <td>299</td>\n",
       "      <td>4.970978</td>\n",
       "      <td>83.608146</td>\n",
       "      <td>23.320849</td>\n",
       "    </tr>\n",
       "    <tr>\n",
       "      <th>26</th>\n",
       "      <td>3817</td>\n",
       "      <td>45.795271</td>\n",
       "      <td>280.247116</td>\n",
       "      <td>151.238385</td>\n",
       "    </tr>\n",
       "    <tr>\n",
       "      <th>27</th>\n",
       "      <td>38840</td>\n",
       "      <td>469.698763</td>\n",
       "      <td>21985.146627</td>\n",
       "      <td>4335.013151</td>\n",
       "    </tr>\n",
       "    <tr>\n",
       "      <th>28</th>\n",
       "      <td>35960</td>\n",
       "      <td>501.355901</td>\n",
       "      <td>12675.796996</td>\n",
       "      <td>2294.879709</td>\n",
       "    </tr>\n",
       "    <tr>\n",
       "      <th>29</th>\n",
       "      <td>22274</td>\n",
       "      <td>384.479472</td>\n",
       "      <td>12890.465433</td>\n",
       "      <td>1733.114796</td>\n",
       "    </tr>\n",
       "    <tr>\n",
       "      <th>30</th>\n",
       "      <td>49762</td>\n",
       "      <td>721.160542</td>\n",
       "      <td>22723.723301</td>\n",
       "      <td>1852.839641</td>\n",
       "    </tr>\n",
       "  </tbody>\n",
       "</table>\n",
       "</div>"
      ],
      "text/plain": [
       "    AreaUnderOilSeeds_GroundNut  MotorVehicles_Tractors  \\\n",
       "24                        49762              721.160542   \n",
       "25                          299                4.970978   \n",
       "26                         3817               45.795271   \n",
       "27                        38840              469.698763   \n",
       "28                        35960              501.355901   \n",
       "29                        22274              384.479472   \n",
       "30                        49762              721.160542   \n",
       "\n",
       "    LivestockCensus_2012_Sheep     TotalNPK  \n",
       "24                22723.723301  1852.839641  \n",
       "25                   83.608146    23.320849  \n",
       "26                  280.247116   151.238385  \n",
       "27                21985.146627  4335.013151  \n",
       "28                12675.796996  2294.879709  \n",
       "29                12890.465433  1733.114796  \n",
       "30                22723.723301  1852.839641  "
      ]
     },
     "execution_count": 108,
     "metadata": {},
     "output_type": "execute_result"
    }
   ],
   "source": [
    "Groundnut_Case_file = Groundnut_param\n",
    "for x in Groundnut_Case_file.columns:\n",
    "    Working_Directory[x] = Groundnut_Case_file[x]\n",
    "y_groundnut = Working_Directory['Groundnut_Production']\n",
    "\n",
    "if(len(Groundnut_Case_file) < 31):\n",
    "    row_24 = Groundnut_Case_file.iloc[24]\n",
    "    halved_row_24 = row_24 / 2\n",
    "    Groundnut_Case_file.iloc[24] = halved_row_24\n",
    "    Groundnut_Case_file.loc[len(Groundnut_Case_file)] = halved_row_24\n",
    "\n",
    "Groundnut_Case_file[24:]"
   ]
  },
  {
   "cell_type": "code",
   "execution_count": 109,
   "metadata": {},
   "outputs": [
    {
     "name": "stdout",
     "output_type": "stream",
     "text": [
      "            District      KDG_District\n",
      "0          BENGALURU   Bengaluru Urban\n",
      "1       BENGALURU(R)   Bengaluru Rural\n",
      "2         RAMANAGARA        Ramanagara\n",
      "3        CHITRADURGA       Chitradurga\n",
      "4         DAVANAGERE        Davanagere\n",
      "5              KOLAR             Kolar\n",
      "6    CHIKKABALLAPURA   Chikkaballapura\n",
      "7         SHIVAMOGGA        Shivamogga\n",
      "8           TUMAKURU          Tumakuru\n",
      "9     CHIKKAMAGALURU    Chikkamagaluru\n",
      "10  DAKSHINA KANNADA  Dakshina Kannada\n",
      "11             UDUPI             Udupi\n",
      "12            HASSAN            Hassan\n",
      "13            KODAGU            Kodagu\n",
      "14            MANDYA            Mandya\n",
      "15            MYSURU            Mysuru\n",
      "16    CHAMARAJANAGAR   Chamarajanagara\n",
      "17          BELAGAVI          Belagavi\n",
      "18        VIJAYAPURA        Vijayapura\n",
      "19          BAGALKOT         Bagalkote\n",
      "20          DHARAWAD           Dharwad\n",
      "21             GADAG             Gadag\n",
      "22            HAVERI            Haveri\n",
      "23    UTTARA KANNADA    Uttara Kannada\n",
      "24           BALLARI           Ballari\n",
      "25             BIDAR             Bidar\n",
      "26        KALABURAGI        Kalaburagi\n",
      "27           YADGIRI            Yadgir\n",
      "28           RAICHUR           Raichur\n",
      "29            KOPPAL            Koppal\n",
      "30      VIJAYANAGARA      Vijayanagara\n"
     ]
    }
   ],
   "source": [
    "abbreviation_mapping = {\n",
    "    'BENGALURU': 'BLR',\n",
    "    'BENGALURU(R)': 'BLR(R)',\n",
    "    'RAMANAGARA': 'RGA',\n",
    "    'CHITRADURGA': 'CDA',\n",
    "    'DAVANAGERE': 'DVG',\n",
    "    'KOLAR': 'KLR',\n",
    "    'CHIKKABALLAPURA': 'CKA',\n",
    "    'SHIVAMOGGA': 'SMG',\n",
    "    'TUMAKURU': 'TKR',\n",
    "    'CHIKKAMAGALURU': 'CMG',\n",
    "    'DAKSHINA KANNADA': 'DKA',\n",
    "    'UDUPI': 'UPI',\n",
    "    'HASSAN': 'HSN',\n",
    "    'KODAGU': 'KDG',\n",
    "    'MANDYA': 'MDY',\n",
    "    'MYSURU': 'MYS',\n",
    "    'CHAMARAJANAGAR': 'CNR',\n",
    "    'BELAGAVI': 'BLG',\n",
    "    'VIJAYAPURA': 'VJP',\n",
    "    'BAGALKOT': 'BKT',\n",
    "    'DHARAWAD': 'DWD',\n",
    "    'GADAG': 'GDG',\n",
    "    'HAVERI': 'HVR',\n",
    "    'UTTARA KANNADA': 'UTK',\n",
    "    'BALLARI': 'BLL',\n",
    "    'BIDAR': 'BDR',\n",
    "    'KALABURAGI': 'KLB',\n",
    "    'YADGIRI': 'YDR',\n",
    "    'RAICHUR': 'RCR',\n",
    "    'KOPPAL': 'KPL',\n",
    "    'VIJAYANAGARA': 'VNG',\n",
    "}\n",
    "district_mapping = {\n",
    "    'BENGALURU': 'Bengaluru Urban',\n",
    "    'BENGALURU(R)': 'Bengaluru Rural',\n",
    "    'RAMANAGARA': 'Ramanagara',\n",
    "    'CHITRADURGA': 'Chitradurga',\n",
    "    'DAVANAGERE': 'Davanagere',\n",
    "    'KOLAR': 'Kolar',\n",
    "    'CHIKKABALLAPURA': 'Chikkaballapura',\n",
    "    'SHIVAMOGGA': 'Shivamogga',\n",
    "    'TUMAKURU': 'Tumakuru',\n",
    "    'CHIKKAMAGALURU': 'Chikkamagaluru',\n",
    "    'DAKSHINA KANNADA': 'Dakshina Kannada',\n",
    "    'UDUPI': 'Udupi',\n",
    "    'HASSAN': 'Hassan',\n",
    "    'KODAGU': 'Kodagu',\n",
    "    'MANDYA': 'Mandya',\n",
    "    'MYSURU': 'Mysuru',\n",
    "    'CHAMARAJANAGAR': 'Chamarajanagara',\n",
    "    'BELAGAVI': 'Belagavi',\n",
    "    'VIJAYAPURA': 'Vijayapura',\n",
    "    'BAGALKOT': 'Bagalkote',\n",
    "    'DHARAWAD': 'Dharwad',\n",
    "    'GADAG': 'Gadag',\n",
    "    'HAVERI': 'Haveri',\n",
    "    'UTTARA KANNADA': 'Uttara Kannada',\n",
    "    'BALLARI': 'Ballari',\n",
    "    'BIDAR': 'Bidar',\n",
    "    'KALABURAGI': 'Kalaburagi',\n",
    "    'YADGIRI': 'Yadgir',\n",
    "    'RAICHUR': 'Raichur',\n",
    "    'KOPPAL': 'Koppal',\n",
    "    'VIJAYANAGARA': 'Vijayanagara'\n",
    "}\n",
    "\n",
    "Working_Directory['KDG_District'] = Working_Directory['District'].map(district_mapping)\n",
    "Working_Directory['Abbreviation'] = Working_Directory['District'].map(abbreviation_mapping)\n",
    "\n",
    "Maize_Directory['KDG_District'] = Maize_Directory['District'].map(district_mapping)\n",
    "Maize_Directory['Abbreviation'] = Maize_Directory['District'].map(abbreviation_mapping)\n",
    "\n",
    "Groundnut_Directory['KDG_District'] = Groundnut_Directory['District'].map(district_mapping)\n",
    "Groundnut_Directory['Abbreviation'] = Groundnut_Directory['District'].map(abbreviation_mapping)\n",
    "\n",
    "print(Working_Directory[['District', 'KDG_District']])"
   ]
  },
  {
   "cell_type": "code",
   "execution_count": 110,
   "metadata": {},
   "outputs": [
    {
     "data": {
      "text/html": [
       "<div>\n",
       "<style scoped>\n",
       "    .dataframe tbody tr th:only-of-type {\n",
       "        vertical-align: middle;\n",
       "    }\n",
       "\n",
       "    .dataframe tbody tr th {\n",
       "        vertical-align: top;\n",
       "    }\n",
       "\n",
       "    .dataframe thead th {\n",
       "        text-align: right;\n",
       "    }\n",
       "</style>\n",
       "<table border=\"1\" class=\"dataframe\">\n",
       "  <thead>\n",
       "    <tr style=\"text-align: right;\">\n",
       "      <th></th>\n",
       "      <th>District</th>\n",
       "      <th>Groundnut_Production</th>\n",
       "      <th>TotalNPK</th>\n",
       "      <th>AreaUnderOilSeeds_GroundNut</th>\n",
       "      <th>MotorVehicles_Tractors</th>\n",
       "      <th>LivestockCensus_2012_Sheep</th>\n",
       "      <th>Groundnut_Ratio</th>\n",
       "      <th>KDG_District</th>\n",
       "      <th>Abbreviation</th>\n",
       "    </tr>\n",
       "  </thead>\n",
       "  <tbody>\n",
       "    <tr>\n",
       "      <th>0</th>\n",
       "      <td>BENGALURU</td>\n",
       "      <td>71.0</td>\n",
       "      <td>10.806111</td>\n",
       "      <td>72</td>\n",
       "      <td>6.785923</td>\n",
       "      <td>35.835866</td>\n",
       "      <td>0.000464</td>\n",
       "      <td>Bengaluru Urban</td>\n",
       "      <td>BLR</td>\n",
       "    </tr>\n",
       "    <tr>\n",
       "      <th>1</th>\n",
       "      <td>BENGALURU(R)</td>\n",
       "      <td>206.0</td>\n",
       "      <td>14.687376</td>\n",
       "      <td>175</td>\n",
       "      <td>0.748134</td>\n",
       "      <td>95.228861</td>\n",
       "      <td>0.000763</td>\n",
       "      <td>Bengaluru Rural</td>\n",
       "      <td>BLR(R)</td>\n",
       "    </tr>\n",
       "    <tr>\n",
       "      <th>2</th>\n",
       "      <td>RAMANAGARA</td>\n",
       "      <td>4830.0</td>\n",
       "      <td>102.712727</td>\n",
       "      <td>3307</td>\n",
       "      <td>156.804614</td>\n",
       "      <td>2102.339270</td>\n",
       "      <td>0.013746</td>\n",
       "      <td>Ramanagara</td>\n",
       "      <td>RGA</td>\n",
       "    </tr>\n",
       "    <tr>\n",
       "      <th>3</th>\n",
       "      <td>CHITRADURGA</td>\n",
       "      <td>68575.0</td>\n",
       "      <td>2748.901666</td>\n",
       "      <td>96711</td>\n",
       "      <td>1423.861199</td>\n",
       "      <td>72011.816530</td>\n",
       "      <td>0.076605</td>\n",
       "      <td>Chitradurga</td>\n",
       "      <td>CDA</td>\n",
       "    </tr>\n",
       "    <tr>\n",
       "      <th>4</th>\n",
       "      <td>DAVANAGERE</td>\n",
       "      <td>16592.0</td>\n",
       "      <td>718.500139</td>\n",
       "      <td>15279</td>\n",
       "      <td>233.171480</td>\n",
       "      <td>2474.543782</td>\n",
       "      <td>0.007211</td>\n",
       "      <td>Davanagere</td>\n",
       "      <td>DVG</td>\n",
       "    </tr>\n",
       "    <tr>\n",
       "      <th>5</th>\n",
       "      <td>KOLAR</td>\n",
       "      <td>5810.0</td>\n",
       "      <td>729.248826</td>\n",
       "      <td>8608</td>\n",
       "      <td>553.920188</td>\n",
       "      <td>14627.699531</td>\n",
       "      <td>0.032864</td>\n",
       "      <td>Kolar</td>\n",
       "      <td>KLR</td>\n",
       "    </tr>\n",
       "    <tr>\n",
       "      <th>6</th>\n",
       "      <td>CHIKKABALLAPURA</td>\n",
       "      <td>7132.0</td>\n",
       "      <td>554.173035</td>\n",
       "      <td>19535</td>\n",
       "      <td>223.002028</td>\n",
       "      <td>8455.960947</td>\n",
       "      <td>0.019543</td>\n",
       "      <td>Chikkaballapura</td>\n",
       "      <td>CKA</td>\n",
       "    </tr>\n",
       "    <tr>\n",
       "      <th>7</th>\n",
       "      <td>SHIVAMOGGA</td>\n",
       "      <td>248.0</td>\n",
       "      <td>11.416511</td>\n",
       "      <td>438</td>\n",
       "      <td>3.618217</td>\n",
       "      <td>7.419754</td>\n",
       "      <td>0.000202</td>\n",
       "      <td>Shivamogga</td>\n",
       "      <td>SMG</td>\n",
       "    </tr>\n",
       "    <tr>\n",
       "      <th>8</th>\n",
       "      <td>TUMAKURU</td>\n",
       "      <td>39626.0</td>\n",
       "      <td>1627.466413</td>\n",
       "      <td>64771</td>\n",
       "      <td>1131.991030</td>\n",
       "      <td>45278.361329</td>\n",
       "      <td>0.042662</td>\n",
       "      <td>Tumakuru</td>\n",
       "      <td>TKR</td>\n",
       "    </tr>\n",
       "    <tr>\n",
       "      <th>9</th>\n",
       "      <td>CHIKKAMAGALURU</td>\n",
       "      <td>3909.0</td>\n",
       "      <td>519.663897</td>\n",
       "      <td>5851</td>\n",
       "      <td>121.617111</td>\n",
       "      <td>699.225642</td>\n",
       "      <td>0.007658</td>\n",
       "      <td>Chikkamagaluru</td>\n",
       "      <td>CMG</td>\n",
       "    </tr>\n",
       "    <tr>\n",
       "      <th>10</th>\n",
       "      <td>DAKSHINA KANNADA</td>\n",
       "      <td>0.0</td>\n",
       "      <td>0.000000</td>\n",
       "      <td>0</td>\n",
       "      <td>0.000000</td>\n",
       "      <td>0.000000</td>\n",
       "      <td>0.000000</td>\n",
       "      <td>Dakshina Kannada</td>\n",
       "      <td>DKA</td>\n",
       "    </tr>\n",
       "    <tr>\n",
       "      <th>11</th>\n",
       "      <td>UDUPI</td>\n",
       "      <td>3623.0</td>\n",
       "      <td>76.610263</td>\n",
       "      <td>1819</td>\n",
       "      <td>53.931232</td>\n",
       "      <td>0.872270</td>\n",
       "      <td>0.012461</td>\n",
       "      <td>Udupi</td>\n",
       "      <td>UPI</td>\n",
       "    </tr>\n",
       "    <tr>\n",
       "      <th>12</th>\n",
       "      <td>HASSAN</td>\n",
       "      <td>521.0</td>\n",
       "      <td>26.584241</td>\n",
       "      <td>862</td>\n",
       "      <td>8.970448</td>\n",
       "      <td>62.423299</td>\n",
       "      <td>0.000388</td>\n",
       "      <td>Hassan</td>\n",
       "      <td>HSN</td>\n",
       "    </tr>\n",
       "    <tr>\n",
       "      <th>13</th>\n",
       "      <td>KODAGU</td>\n",
       "      <td>45.0</td>\n",
       "      <td>8.836338</td>\n",
       "      <td>63</td>\n",
       "      <td>1.474989</td>\n",
       "      <td>0.302335</td>\n",
       "      <td>0.000216</td>\n",
       "      <td>Kodagu</td>\n",
       "      <td>KDG</td>\n",
       "    </tr>\n",
       "    <tr>\n",
       "      <th>14</th>\n",
       "      <td>MANDYA</td>\n",
       "      <td>1021.0</td>\n",
       "      <td>76.301428</td>\n",
       "      <td>1361</td>\n",
       "      <td>14.601824</td>\n",
       "      <td>430.625919</td>\n",
       "      <td>0.001260</td>\n",
       "      <td>Mandya</td>\n",
       "      <td>MDY</td>\n",
       "    </tr>\n",
       "    <tr>\n",
       "      <th>15</th>\n",
       "      <td>MYSURU</td>\n",
       "      <td>2170.0</td>\n",
       "      <td>109.886472</td>\n",
       "      <td>2387</td>\n",
       "      <td>35.637706</td>\n",
       "      <td>386.962906</td>\n",
       "      <td>0.001772</td>\n",
       "      <td>Mysuru</td>\n",
       "      <td>MYS</td>\n",
       "    </tr>\n",
       "    <tr>\n",
       "      <th>16</th>\n",
       "      <td>CHAMARAJANAGAR</td>\n",
       "      <td>8867.0</td>\n",
       "      <td>437.077444</td>\n",
       "      <td>12179</td>\n",
       "      <td>67.665016</td>\n",
       "      <td>2359.241323</td>\n",
       "      <td>0.018362</td>\n",
       "      <td>Chamarajanagara</td>\n",
       "      <td>CNR</td>\n",
       "    </tr>\n",
       "    <tr>\n",
       "      <th>17</th>\n",
       "      <td>BELAGAVI</td>\n",
       "      <td>39530.0</td>\n",
       "      <td>3309.632223</td>\n",
       "      <td>37419</td>\n",
       "      <td>853.959841</td>\n",
       "      <td>14506.560516</td>\n",
       "      <td>0.018388</td>\n",
       "      <td>Belagavi</td>\n",
       "      <td>BLG</td>\n",
       "    </tr>\n",
       "    <tr>\n",
       "      <th>18</th>\n",
       "      <td>VIJAYAPURA</td>\n",
       "      <td>27528.0</td>\n",
       "      <td>1267.386271</td>\n",
       "      <td>24779</td>\n",
       "      <td>580.055688</td>\n",
       "      <td>7228.271206</td>\n",
       "      <td>0.023371</td>\n",
       "      <td>Vijayapura</td>\n",
       "      <td>VJP</td>\n",
       "    </tr>\n",
       "    <tr>\n",
       "      <th>19</th>\n",
       "      <td>BAGALKOT</td>\n",
       "      <td>25444.0</td>\n",
       "      <td>2319.034334</td>\n",
       "      <td>26333</td>\n",
       "      <td>659.436766</td>\n",
       "      <td>20058.996218</td>\n",
       "      <td>0.027343</td>\n",
       "      <td>Bagalkote</td>\n",
       "      <td>BKT</td>\n",
       "    </tr>\n",
       "    <tr>\n",
       "      <th>20</th>\n",
       "      <td>DHARAWAD</td>\n",
       "      <td>21178.0</td>\n",
       "      <td>1506.608212</td>\n",
       "      <td>36152</td>\n",
       "      <td>575.986142</td>\n",
       "      <td>2981.779212</td>\n",
       "      <td>0.040304</td>\n",
       "      <td>Dharwad</td>\n",
       "      <td>DWD</td>\n",
       "    </tr>\n",
       "    <tr>\n",
       "      <th>21</th>\n",
       "      <td>GADAG</td>\n",
       "      <td>31332.0</td>\n",
       "      <td>1265.091872</td>\n",
       "      <td>41174</td>\n",
       "      <td>1518.327616</td>\n",
       "      <td>14077.244590</td>\n",
       "      <td>0.054342</td>\n",
       "      <td>Gadag</td>\n",
       "      <td>GDG</td>\n",
       "    </tr>\n",
       "    <tr>\n",
       "      <th>22</th>\n",
       "      <td>HAVERI</td>\n",
       "      <td>18309.0</td>\n",
       "      <td>962.245499</td>\n",
       "      <td>17789</td>\n",
       "      <td>232.267686</td>\n",
       "      <td>3770.582401</td>\n",
       "      <td>0.014804</td>\n",
       "      <td>Haveri</td>\n",
       "      <td>HVR</td>\n",
       "    </tr>\n",
       "    <tr>\n",
       "      <th>23</th>\n",
       "      <td>UTTARA KANNADA</td>\n",
       "      <td>3825.0</td>\n",
       "      <td>162.860526</td>\n",
       "      <td>1950</td>\n",
       "      <td>49.317519</td>\n",
       "      <td>50.859356</td>\n",
       "      <td>0.010633</td>\n",
       "      <td>Uttara Kannada</td>\n",
       "      <td>UTK</td>\n",
       "    </tr>\n",
       "    <tr>\n",
       "      <th>24</th>\n",
       "      <td>BALLARI</td>\n",
       "      <td>22938.5</td>\n",
       "      <td>1852.839641</td>\n",
       "      <td>49762</td>\n",
       "      <td>721.160542</td>\n",
       "      <td>22723.723301</td>\n",
       "      <td>0.030047</td>\n",
       "      <td>Ballari</td>\n",
       "      <td>BLL</td>\n",
       "    </tr>\n",
       "    <tr>\n",
       "      <th>25</th>\n",
       "      <td>BIDAR</td>\n",
       "      <td>261.0</td>\n",
       "      <td>23.320849</td>\n",
       "      <td>299</td>\n",
       "      <td>4.970978</td>\n",
       "      <td>83.608146</td>\n",
       "      <td>0.000946</td>\n",
       "      <td>Bidar</td>\n",
       "      <td>BDR</td>\n",
       "    </tr>\n",
       "    <tr>\n",
       "      <th>26</th>\n",
       "      <td>KALABURAGI</td>\n",
       "      <td>3114.0</td>\n",
       "      <td>151.238385</td>\n",
       "      <td>3817</td>\n",
       "      <td>45.795271</td>\n",
       "      <td>280.247116</td>\n",
       "      <td>0.002801</td>\n",
       "      <td>Kalaburagi</td>\n",
       "      <td>KLB</td>\n",
       "    </tr>\n",
       "    <tr>\n",
       "      <th>27</th>\n",
       "      <td>YADGIRI</td>\n",
       "      <td>31435.0</td>\n",
       "      <td>4335.013151</td>\n",
       "      <td>38840</td>\n",
       "      <td>469.698763</td>\n",
       "      <td>21985.146627</td>\n",
       "      <td>0.047435</td>\n",
       "      <td>Yadgir</td>\n",
       "      <td>YDR</td>\n",
       "    </tr>\n",
       "    <tr>\n",
       "      <th>28</th>\n",
       "      <td>RAICHUR</td>\n",
       "      <td>26958.0</td>\n",
       "      <td>2294.879709</td>\n",
       "      <td>35960</td>\n",
       "      <td>501.355901</td>\n",
       "      <td>12675.796996</td>\n",
       "      <td>0.019575</td>\n",
       "      <td>Raichur</td>\n",
       "      <td>RCR</td>\n",
       "    </tr>\n",
       "    <tr>\n",
       "      <th>29</th>\n",
       "      <td>KOPPAL</td>\n",
       "      <td>29982.0</td>\n",
       "      <td>1733.114796</td>\n",
       "      <td>22274</td>\n",
       "      <td>384.479472</td>\n",
       "      <td>12890.465433</td>\n",
       "      <td>0.023563</td>\n",
       "      <td>Koppal</td>\n",
       "      <td>KPL</td>\n",
       "    </tr>\n",
       "    <tr>\n",
       "      <th>30</th>\n",
       "      <td>VIJAYANAGARA</td>\n",
       "      <td>22938.5</td>\n",
       "      <td>1852.839641</td>\n",
       "      <td>49762</td>\n",
       "      <td>721.160542</td>\n",
       "      <td>22723.723301</td>\n",
       "      <td>0.030047</td>\n",
       "      <td>Vijayanagara</td>\n",
       "      <td>VNG</td>\n",
       "    </tr>\n",
       "  </tbody>\n",
       "</table>\n",
       "</div>"
      ],
      "text/plain": [
       "            District  Groundnut_Production     TotalNPK  \\\n",
       "0          BENGALURU                  71.0    10.806111   \n",
       "1       BENGALURU(R)                 206.0    14.687376   \n",
       "2         RAMANAGARA                4830.0   102.712727   \n",
       "3        CHITRADURGA               68575.0  2748.901666   \n",
       "4         DAVANAGERE               16592.0   718.500139   \n",
       "5              KOLAR                5810.0   729.248826   \n",
       "6    CHIKKABALLAPURA                7132.0   554.173035   \n",
       "7         SHIVAMOGGA                 248.0    11.416511   \n",
       "8           TUMAKURU               39626.0  1627.466413   \n",
       "9     CHIKKAMAGALURU                3909.0   519.663897   \n",
       "10  DAKSHINA KANNADA                   0.0     0.000000   \n",
       "11             UDUPI                3623.0    76.610263   \n",
       "12            HASSAN                 521.0    26.584241   \n",
       "13            KODAGU                  45.0     8.836338   \n",
       "14            MANDYA                1021.0    76.301428   \n",
       "15            MYSURU                2170.0   109.886472   \n",
       "16    CHAMARAJANAGAR                8867.0   437.077444   \n",
       "17          BELAGAVI               39530.0  3309.632223   \n",
       "18        VIJAYAPURA               27528.0  1267.386271   \n",
       "19          BAGALKOT               25444.0  2319.034334   \n",
       "20          DHARAWAD               21178.0  1506.608212   \n",
       "21             GADAG               31332.0  1265.091872   \n",
       "22            HAVERI               18309.0   962.245499   \n",
       "23    UTTARA KANNADA                3825.0   162.860526   \n",
       "24           BALLARI               22938.5  1852.839641   \n",
       "25             BIDAR                 261.0    23.320849   \n",
       "26        KALABURAGI                3114.0   151.238385   \n",
       "27           YADGIRI               31435.0  4335.013151   \n",
       "28           RAICHUR               26958.0  2294.879709   \n",
       "29            KOPPAL               29982.0  1733.114796   \n",
       "30      VIJAYANAGARA               22938.5  1852.839641   \n",
       "\n",
       "    AreaUnderOilSeeds_GroundNut  MotorVehicles_Tractors  \\\n",
       "0                            72                6.785923   \n",
       "1                           175                0.748134   \n",
       "2                          3307              156.804614   \n",
       "3                         96711             1423.861199   \n",
       "4                         15279              233.171480   \n",
       "5                          8608              553.920188   \n",
       "6                         19535              223.002028   \n",
       "7                           438                3.618217   \n",
       "8                         64771             1131.991030   \n",
       "9                          5851              121.617111   \n",
       "10                            0                0.000000   \n",
       "11                         1819               53.931232   \n",
       "12                          862                8.970448   \n",
       "13                           63                1.474989   \n",
       "14                         1361               14.601824   \n",
       "15                         2387               35.637706   \n",
       "16                        12179               67.665016   \n",
       "17                        37419              853.959841   \n",
       "18                        24779              580.055688   \n",
       "19                        26333              659.436766   \n",
       "20                        36152              575.986142   \n",
       "21                        41174             1518.327616   \n",
       "22                        17789              232.267686   \n",
       "23                         1950               49.317519   \n",
       "24                        49762              721.160542   \n",
       "25                          299                4.970978   \n",
       "26                         3817               45.795271   \n",
       "27                        38840              469.698763   \n",
       "28                        35960              501.355901   \n",
       "29                        22274              384.479472   \n",
       "30                        49762              721.160542   \n",
       "\n",
       "    LivestockCensus_2012_Sheep  Groundnut_Ratio      KDG_District Abbreviation  \n",
       "0                    35.835866         0.000464   Bengaluru Urban          BLR  \n",
       "1                    95.228861         0.000763   Bengaluru Rural       BLR(R)  \n",
       "2                  2102.339270         0.013746        Ramanagara          RGA  \n",
       "3                 72011.816530         0.076605       Chitradurga          CDA  \n",
       "4                  2474.543782         0.007211        Davanagere          DVG  \n",
       "5                 14627.699531         0.032864             Kolar          KLR  \n",
       "6                  8455.960947         0.019543   Chikkaballapura          CKA  \n",
       "7                     7.419754         0.000202        Shivamogga          SMG  \n",
       "8                 45278.361329         0.042662          Tumakuru          TKR  \n",
       "9                   699.225642         0.007658    Chikkamagaluru          CMG  \n",
       "10                    0.000000         0.000000  Dakshina Kannada          DKA  \n",
       "11                    0.872270         0.012461             Udupi          UPI  \n",
       "12                   62.423299         0.000388            Hassan          HSN  \n",
       "13                    0.302335         0.000216            Kodagu          KDG  \n",
       "14                  430.625919         0.001260            Mandya          MDY  \n",
       "15                  386.962906         0.001772            Mysuru          MYS  \n",
       "16                 2359.241323         0.018362   Chamarajanagara          CNR  \n",
       "17                14506.560516         0.018388          Belagavi          BLG  \n",
       "18                 7228.271206         0.023371        Vijayapura          VJP  \n",
       "19                20058.996218         0.027343         Bagalkote          BKT  \n",
       "20                 2981.779212         0.040304           Dharwad          DWD  \n",
       "21                14077.244590         0.054342             Gadag          GDG  \n",
       "22                 3770.582401         0.014804            Haveri          HVR  \n",
       "23                   50.859356         0.010633    Uttara Kannada          UTK  \n",
       "24                22723.723301         0.030047           Ballari          BLL  \n",
       "25                   83.608146         0.000946             Bidar          BDR  \n",
       "26                  280.247116         0.002801        Kalaburagi          KLB  \n",
       "27                21985.146627         0.047435            Yadgir          YDR  \n",
       "28                12675.796996         0.019575           Raichur          RCR  \n",
       "29                12890.465433         0.023563            Koppal          KPL  \n",
       "30                22723.723301         0.030047      Vijayanagara          VNG  "
      ]
     },
     "execution_count": 110,
     "metadata": {},
     "output_type": "execute_result"
    }
   ],
   "source": [
    "Groundnut_Directory"
   ]
  },
  {
   "cell_type": "code",
   "execution_count": 111,
   "metadata": {},
   "outputs": [
    {
     "name": "stdout",
     "output_type": "stream",
     "text": [
      "31\n"
     ]
    }
   ],
   "source": [
    "maize_rows_to_remove = (Maize_Case_file < 0).any(axis=1)\n",
    "\n",
    "# maize_rows_to_remove |= Working_Directory['Maize_Production']  < 1000\n",
    "# rows_to_remove |= Working_Directory['Maize_Production'] > 500000\n",
    "\n",
    "# Update Case_file and y\n",
    "Maize_Case_file = Maize_Case_file[~maize_rows_to_remove].reset_index(drop=True)\n",
    "y_maize = Maize_Directory['Maize_Production'][~maize_rows_to_remove].reset_index(drop=True)\n",
    "\n",
    "# Verify the length of Case_file\n",
    "case_file_length = len(Maize_Case_file)\n",
    "print(case_file_length)"
   ]
  },
  {
   "cell_type": "code",
   "execution_count": 112,
   "metadata": {},
   "outputs": [
    {
     "data": {
      "text/html": [
       "<div>\n",
       "<style scoped>\n",
       "    .dataframe tbody tr th:only-of-type {\n",
       "        vertical-align: middle;\n",
       "    }\n",
       "\n",
       "    .dataframe tbody tr th {\n",
       "        vertical-align: top;\n",
       "    }\n",
       "\n",
       "    .dataframe thead th {\n",
       "        text-align: right;\n",
       "    }\n",
       "</style>\n",
       "<table border=\"1\" class=\"dataframe\">\n",
       "  <thead>\n",
       "    <tr style=\"text-align: right;\">\n",
       "      <th></th>\n",
       "      <th>AreaUnderOilSeeds_GroundNut</th>\n",
       "      <th>MotorVehicles_Tractors</th>\n",
       "      <th>LivestockCensus_2012_Sheep</th>\n",
       "      <th>TotalNPK</th>\n",
       "    </tr>\n",
       "  </thead>\n",
       "  <tbody>\n",
       "    <tr>\n",
       "      <th>0</th>\n",
       "      <td>72</td>\n",
       "      <td>6.785923</td>\n",
       "      <td>35.835866</td>\n",
       "      <td>10.806111</td>\n",
       "    </tr>\n",
       "    <tr>\n",
       "      <th>1</th>\n",
       "      <td>175</td>\n",
       "      <td>0.748134</td>\n",
       "      <td>95.228861</td>\n",
       "      <td>14.687376</td>\n",
       "    </tr>\n",
       "    <tr>\n",
       "      <th>2</th>\n",
       "      <td>3307</td>\n",
       "      <td>156.804614</td>\n",
       "      <td>2102.339270</td>\n",
       "      <td>102.712727</td>\n",
       "    </tr>\n",
       "    <tr>\n",
       "      <th>3</th>\n",
       "      <td>96711</td>\n",
       "      <td>1423.861199</td>\n",
       "      <td>72011.816530</td>\n",
       "      <td>2748.901666</td>\n",
       "    </tr>\n",
       "    <tr>\n",
       "      <th>4</th>\n",
       "      <td>15279</td>\n",
       "      <td>233.171480</td>\n",
       "      <td>2474.543782</td>\n",
       "      <td>718.500139</td>\n",
       "    </tr>\n",
       "    <tr>\n",
       "      <th>5</th>\n",
       "      <td>8608</td>\n",
       "      <td>553.920188</td>\n",
       "      <td>14627.699531</td>\n",
       "      <td>729.248826</td>\n",
       "    </tr>\n",
       "    <tr>\n",
       "      <th>6</th>\n",
       "      <td>19535</td>\n",
       "      <td>223.002028</td>\n",
       "      <td>8455.960947</td>\n",
       "      <td>554.173035</td>\n",
       "    </tr>\n",
       "    <tr>\n",
       "      <th>7</th>\n",
       "      <td>438</td>\n",
       "      <td>3.618217</td>\n",
       "      <td>7.419754</td>\n",
       "      <td>11.416511</td>\n",
       "    </tr>\n",
       "    <tr>\n",
       "      <th>8</th>\n",
       "      <td>64771</td>\n",
       "      <td>1131.991030</td>\n",
       "      <td>45278.361329</td>\n",
       "      <td>1627.466413</td>\n",
       "    </tr>\n",
       "    <tr>\n",
       "      <th>9</th>\n",
       "      <td>5851</td>\n",
       "      <td>121.617111</td>\n",
       "      <td>699.225642</td>\n",
       "      <td>519.663897</td>\n",
       "    </tr>\n",
       "    <tr>\n",
       "      <th>10</th>\n",
       "      <td>0</td>\n",
       "      <td>0.000000</td>\n",
       "      <td>0.000000</td>\n",
       "      <td>0.000000</td>\n",
       "    </tr>\n",
       "    <tr>\n",
       "      <th>11</th>\n",
       "      <td>1819</td>\n",
       "      <td>53.931232</td>\n",
       "      <td>0.872270</td>\n",
       "      <td>76.610263</td>\n",
       "    </tr>\n",
       "    <tr>\n",
       "      <th>12</th>\n",
       "      <td>862</td>\n",
       "      <td>8.970448</td>\n",
       "      <td>62.423299</td>\n",
       "      <td>26.584241</td>\n",
       "    </tr>\n",
       "    <tr>\n",
       "      <th>13</th>\n",
       "      <td>63</td>\n",
       "      <td>1.474989</td>\n",
       "      <td>0.302335</td>\n",
       "      <td>8.836338</td>\n",
       "    </tr>\n",
       "    <tr>\n",
       "      <th>14</th>\n",
       "      <td>1361</td>\n",
       "      <td>14.601824</td>\n",
       "      <td>430.625919</td>\n",
       "      <td>76.301428</td>\n",
       "    </tr>\n",
       "    <tr>\n",
       "      <th>15</th>\n",
       "      <td>2387</td>\n",
       "      <td>35.637706</td>\n",
       "      <td>386.962906</td>\n",
       "      <td>109.886472</td>\n",
       "    </tr>\n",
       "    <tr>\n",
       "      <th>16</th>\n",
       "      <td>12179</td>\n",
       "      <td>67.665016</td>\n",
       "      <td>2359.241323</td>\n",
       "      <td>437.077444</td>\n",
       "    </tr>\n",
       "    <tr>\n",
       "      <th>17</th>\n",
       "      <td>37419</td>\n",
       "      <td>853.959841</td>\n",
       "      <td>14506.560516</td>\n",
       "      <td>3309.632223</td>\n",
       "    </tr>\n",
       "    <tr>\n",
       "      <th>18</th>\n",
       "      <td>24779</td>\n",
       "      <td>580.055688</td>\n",
       "      <td>7228.271206</td>\n",
       "      <td>1267.386271</td>\n",
       "    </tr>\n",
       "    <tr>\n",
       "      <th>19</th>\n",
       "      <td>26333</td>\n",
       "      <td>659.436766</td>\n",
       "      <td>20058.996218</td>\n",
       "      <td>2319.034334</td>\n",
       "    </tr>\n",
       "    <tr>\n",
       "      <th>20</th>\n",
       "      <td>36152</td>\n",
       "      <td>575.986142</td>\n",
       "      <td>2981.779212</td>\n",
       "      <td>1506.608212</td>\n",
       "    </tr>\n",
       "    <tr>\n",
       "      <th>21</th>\n",
       "      <td>41174</td>\n",
       "      <td>1518.327616</td>\n",
       "      <td>14077.244590</td>\n",
       "      <td>1265.091872</td>\n",
       "    </tr>\n",
       "    <tr>\n",
       "      <th>22</th>\n",
       "      <td>17789</td>\n",
       "      <td>232.267686</td>\n",
       "      <td>3770.582401</td>\n",
       "      <td>962.245499</td>\n",
       "    </tr>\n",
       "    <tr>\n",
       "      <th>23</th>\n",
       "      <td>1950</td>\n",
       "      <td>49.317519</td>\n",
       "      <td>50.859356</td>\n",
       "      <td>162.860526</td>\n",
       "    </tr>\n",
       "    <tr>\n",
       "      <th>24</th>\n",
       "      <td>49762</td>\n",
       "      <td>721.160542</td>\n",
       "      <td>22723.723301</td>\n",
       "      <td>1852.839641</td>\n",
       "    </tr>\n",
       "    <tr>\n",
       "      <th>25</th>\n",
       "      <td>299</td>\n",
       "      <td>4.970978</td>\n",
       "      <td>83.608146</td>\n",
       "      <td>23.320849</td>\n",
       "    </tr>\n",
       "    <tr>\n",
       "      <th>26</th>\n",
       "      <td>3817</td>\n",
       "      <td>45.795271</td>\n",
       "      <td>280.247116</td>\n",
       "      <td>151.238385</td>\n",
       "    </tr>\n",
       "    <tr>\n",
       "      <th>27</th>\n",
       "      <td>38840</td>\n",
       "      <td>469.698763</td>\n",
       "      <td>21985.146627</td>\n",
       "      <td>4335.013151</td>\n",
       "    </tr>\n",
       "    <tr>\n",
       "      <th>28</th>\n",
       "      <td>35960</td>\n",
       "      <td>501.355901</td>\n",
       "      <td>12675.796996</td>\n",
       "      <td>2294.879709</td>\n",
       "    </tr>\n",
       "    <tr>\n",
       "      <th>29</th>\n",
       "      <td>22274</td>\n",
       "      <td>384.479472</td>\n",
       "      <td>12890.465433</td>\n",
       "      <td>1733.114796</td>\n",
       "    </tr>\n",
       "    <tr>\n",
       "      <th>30</th>\n",
       "      <td>49762</td>\n",
       "      <td>721.160542</td>\n",
       "      <td>22723.723301</td>\n",
       "      <td>1852.839641</td>\n",
       "    </tr>\n",
       "  </tbody>\n",
       "</table>\n",
       "</div>"
      ],
      "text/plain": [
       "    AreaUnderOilSeeds_GroundNut  MotorVehicles_Tractors  \\\n",
       "0                            72                6.785923   \n",
       "1                           175                0.748134   \n",
       "2                          3307              156.804614   \n",
       "3                         96711             1423.861199   \n",
       "4                         15279              233.171480   \n",
       "5                          8608              553.920188   \n",
       "6                         19535              223.002028   \n",
       "7                           438                3.618217   \n",
       "8                         64771             1131.991030   \n",
       "9                          5851              121.617111   \n",
       "10                            0                0.000000   \n",
       "11                         1819               53.931232   \n",
       "12                          862                8.970448   \n",
       "13                           63                1.474989   \n",
       "14                         1361               14.601824   \n",
       "15                         2387               35.637706   \n",
       "16                        12179               67.665016   \n",
       "17                        37419              853.959841   \n",
       "18                        24779              580.055688   \n",
       "19                        26333              659.436766   \n",
       "20                        36152              575.986142   \n",
       "21                        41174             1518.327616   \n",
       "22                        17789              232.267686   \n",
       "23                         1950               49.317519   \n",
       "24                        49762              721.160542   \n",
       "25                          299                4.970978   \n",
       "26                         3817               45.795271   \n",
       "27                        38840              469.698763   \n",
       "28                        35960              501.355901   \n",
       "29                        22274              384.479472   \n",
       "30                        49762              721.160542   \n",
       "\n",
       "    LivestockCensus_2012_Sheep     TotalNPK  \n",
       "0                    35.835866    10.806111  \n",
       "1                    95.228861    14.687376  \n",
       "2                  2102.339270   102.712727  \n",
       "3                 72011.816530  2748.901666  \n",
       "4                  2474.543782   718.500139  \n",
       "5                 14627.699531   729.248826  \n",
       "6                  8455.960947   554.173035  \n",
       "7                     7.419754    11.416511  \n",
       "8                 45278.361329  1627.466413  \n",
       "9                   699.225642   519.663897  \n",
       "10                    0.000000     0.000000  \n",
       "11                    0.872270    76.610263  \n",
       "12                   62.423299    26.584241  \n",
       "13                    0.302335     8.836338  \n",
       "14                  430.625919    76.301428  \n",
       "15                  386.962906   109.886472  \n",
       "16                 2359.241323   437.077444  \n",
       "17                14506.560516  3309.632223  \n",
       "18                 7228.271206  1267.386271  \n",
       "19                20058.996218  2319.034334  \n",
       "20                 2981.779212  1506.608212  \n",
       "21                14077.244590  1265.091872  \n",
       "22                 3770.582401   962.245499  \n",
       "23                   50.859356   162.860526  \n",
       "24                22723.723301  1852.839641  \n",
       "25                   83.608146    23.320849  \n",
       "26                  280.247116   151.238385  \n",
       "27                21985.146627  4335.013151  \n",
       "28                12675.796996  2294.879709  \n",
       "29                12890.465433  1733.114796  \n",
       "30                22723.723301  1852.839641  "
      ]
     },
     "execution_count": 112,
     "metadata": {},
     "output_type": "execute_result"
    }
   ],
   "source": [
    "Groundnut_Case_file"
   ]
  },
  {
   "cell_type": "code",
   "execution_count": 113,
   "metadata": {},
   "outputs": [
    {
     "name": "stdout",
     "output_type": "stream",
     "text": [
      "31\n"
     ]
    }
   ],
   "source": [
    "groundnut_rows_to_remove = (Groundnut_Case_file < 0).any(axis=1)\n",
    "\n",
    "# rice_rows_to_remove |= Working_Directory['Groundnut_Production']  < 1000\n",
    "# rows_to_remove |= Working_Directory['Maize_Production'] > 500000\n",
    "\n",
    "# Update Case_file and y\n",
    "Groundnut_Case_file = Groundnut_Case_file[~groundnut_rows_to_remove].reset_index(drop=True)\n",
    "y_maize = Groundnut_Directory['Groundnut_Production'][~groundnut_rows_to_remove].reset_index(drop=True)\n",
    "\n",
    "# Verify the length of Case_file\n",
    "case_file_length = len(Groundnut_Case_file)\n",
    "print(case_file_length)"
   ]
  },
  {
   "cell_type": "code",
   "execution_count": 114,
   "metadata": {},
   "outputs": [],
   "source": [
    "y_maize_df = pd.DataFrame()\n",
    "y_maize_df['Maize_Production'] = Maize_Directory[~maize_rows_to_remove]['Maize_Production'].reset_index(drop=True)\n",
    "y_groundnut_df = pd.DataFrame()\n",
    "y_groundnut_df['Groundnut_Production'] = Groundnut_Directory[~groundnut_rows_to_remove]['Groundnut_Production'].reset_index(drop=True)\n",
    "Maize_Case_file =sm.add_constant(Maize_Case_file)\n",
    "Groundnut_Case_file =sm.add_constant(Groundnut_Case_file)"
   ]
  },
  {
   "cell_type": "code",
   "execution_count": 115,
   "metadata": {},
   "outputs": [
    {
     "name": "stdout",
     "output_type": "stream",
     "text": [
      "                            OLS Regression Results                            \n",
      "==============================================================================\n",
      "Dep. Variable:       Maize_Production   R-squared:                       0.956\n",
      "Model:                            OLS   Adj. R-squared:                  0.951\n",
      "Method:                 Least Squares   F-statistic:                     196.0\n",
      "Date:                Thu, 03 Oct 2024   Prob (F-statistic):           1.96e-18\n",
      "Time:                        15:05:50   Log-Likelihood:                -366.98\n",
      "No. Observations:                  31   AIC:                             742.0\n",
      "Df Residuals:                      27   BIC:                             747.7\n",
      "Df Model:                           3                                         \n",
      "Covariance Type:            nonrobust                                         \n",
      "===============================================================================================\n",
      "                                  coef    std err          t      P>|t|      [0.025      0.975]\n",
      "-----------------------------------------------------------------------------------------------\n",
      "const                       -6418.6174   9180.879     -0.699      0.490   -2.53e+04    1.24e+04\n",
      "LivestockCensus_2012_Cattle     0.5644      0.282      1.998      0.056      -0.015       1.144\n",
      "AreaUnderCereals_Maize          1.7749      0.256      6.927      0.000       1.249       2.301\n",
      "TotalNPK                        5.8512      1.362      4.295      0.000       3.056       8.646\n",
      "==============================================================================\n",
      "Omnibus:                        4.289   Durbin-Watson:                   2.417\n",
      "Prob(Omnibus):                  0.117   Jarque-Bera (JB):                3.579\n",
      "Skew:                           0.201   Prob(JB):                        0.167\n",
      "Kurtosis:                       4.615   Cond. No.                     1.20e+05\n",
      "==============================================================================\n",
      "\n",
      "Notes:\n",
      "[1] Standard Errors assume that the covariance matrix of the errors is correctly specified.\n",
      "[2] The condition number is large, 1.2e+05. This might indicate that there are\n",
      "strong multicollinearity or other numerical problems.\n"
     ]
    },
    {
     "data": {
      "text/plain": [
       "array([0.56435493, 1.77490279, 5.85119404])"
      ]
     },
     "execution_count": 115,
     "metadata": {},
     "output_type": "execute_result"
    }
   ],
   "source": [
    "model=sm.OLS(y_maize_df['Maize_Production'],Maize_Case_file).fit()\n",
    "print(model.summary())\n",
    "model.params.values\n",
    "maize_coef=model.params.values[1:]\n",
    "maize_coef"
   ]
  },
  {
   "cell_type": "code",
   "execution_count": 116,
   "metadata": {},
   "outputs": [
    {
     "name": "stdout",
     "output_type": "stream",
     "text": [
      "                             OLS Regression Results                             \n",
      "================================================================================\n",
      "Dep. Variable:     Groundnut_Production   R-squared:                       0.924\n",
      "Model:                              OLS   Adj. R-squared:                  0.912\n",
      "Method:                   Least Squares   F-statistic:                     78.73\n",
      "Date:                  Thu, 03 Oct 2024   Prob (F-statistic):           3.84e-14\n",
      "Time:                          15:05:50   Log-Likelihood:                -304.56\n",
      "No. Observations:                    31   AIC:                             619.1\n",
      "Df Residuals:                        26   BIC:                             626.3\n",
      "Df Model:                             4                                         \n",
      "Covariance Type:              nonrobust                                         \n",
      "===============================================================================================\n",
      "                                  coef    std err          t      P>|t|      [0.025      0.975]\n",
      "-----------------------------------------------------------------------------------------------\n",
      "const                         801.8414   1251.588      0.641      0.527   -1770.835    3374.518\n",
      "AreaUnderOilSeeds_GroundNut     0.2810      0.144      1.958      0.061      -0.014       0.576\n",
      "MotorVehicles_Tractors          8.3642      4.659      1.795      0.084      -1.213      17.941\n",
      "LivestockCensus_2012_Sheep      0.1394      0.150      0.931      0.360      -0.168       0.447\n",
      "TotalNPK                        4.2686      1.260      3.388      0.002       1.679       6.858\n",
      "==============================================================================\n",
      "Omnibus:                        0.934   Durbin-Watson:                   1.883\n",
      "Prob(Omnibus):                  0.627   Jarque-Bera (JB):                0.279\n",
      "Skew:                           0.200   Prob(JB):                        0.870\n",
      "Kurtosis:                       3.235   Cond. No.                     5.01e+04\n",
      "==============================================================================\n",
      "\n",
      "Notes:\n",
      "[1] Standard Errors assume that the covariance matrix of the errors is correctly specified.\n",
      "[2] The condition number is large, 5.01e+04. This might indicate that there are\n",
      "strong multicollinearity or other numerical problems.\n"
     ]
    },
    {
     "data": {
      "text/plain": [
       "array([0.28098192, 8.36421396, 0.13943503, 4.26857922])"
      ]
     },
     "execution_count": 116,
     "metadata": {},
     "output_type": "execute_result"
    }
   ],
   "source": [
    "model=sm.OLS(y_groundnut_df['Groundnut_Production'],Groundnut_Case_file).fit()\n",
    "print(model.summary())\n",
    "model.params.values\n",
    "groundnut_coef=model.params.values[1:]\n",
    "groundnut_coef"
   ]
  },
  {
   "cell_type": "code",
   "execution_count": 117,
   "metadata": {},
   "outputs": [
    {
     "name": "stdout",
     "output_type": "stream",
     "text": [
      "5.851194036365962\n",
      "4.26857922467183\n"
     ]
    }
   ],
   "source": [
    "labels_maize = [\"Cattle\", \"MArea\", \"NPK\"]\n",
    "maize_coef_dict = dict(zip(labels_maize, maize_coef))\n",
    "\n",
    "labels_groundnut = [\"GArea\", \"Tractors\", \"Sheep\",\"NPK\"]\n",
    "groundnut_coef_dict = dict(zip(labels_groundnut, groundnut_coef))\n",
    "\n",
    "def get_slope(label, crop_type):\n",
    "    if crop_type == \"Maize\":\n",
    "        return maize_coef_dict.get(label, \"Label not found\")\n",
    "    elif crop_type == \"Groundnut\":\n",
    "        return groundnut_coef_dict.get(label, \"Label not found\")\n",
    "    else:\n",
    "        return \"Crop type not found\"\n",
    "\n",
    "print(get_slope(\"NPK\", \"Maize\"))\n",
    "print(get_slope(\"NPK\", \"Groundnut\"))"
   ]
  },
  {
   "cell_type": "code",
   "execution_count": 118,
   "metadata": {},
   "outputs": [
    {
     "name": "stdout",
     "output_type": "stream",
     "text": [
      "5.851194036365962\n"
     ]
    },
    {
     "data": {
      "image/png": "[encoded data removed]",
      "text/plain": [
       "<Figure size 1008x648 with 1 Axes>"
      ]
     },
     "metadata": {
      "needs_background": "light"
     },
     "output_type": "display_data"
    }
   ],
   "source": [
    "import matplotlib.pyplot as plt\n",
    "import numpy as np\n",
    "\n",
    "def calculate_and_visualize(perturbation, crop, Working_Directory, what,plot = True):\n",
    "    # Mapping of factor names based on 'what'\n",
    "    factor_mapping = {\n",
    "        'NPK': 'TotalNPK',\n",
    "        'Cattle': 'LivestockCensus_2012_Cattle',\n",
    "        'MArea': 'AreaUnderCereals_Maize',\n",
    "    }\n",
    "    \n",
    "    # Dynamically select the correct factor and slope column based on 'what'\n",
    "    factor_name = factor_mapping[what]\n",
    "    production_col = f'{crop}_Production'\n",
    "    slope = get_slope(what,crop)\n",
    "    print(slope)\n",
    "    # Calculate the factor\n",
    "    factor = Working_Directory[factor_name]\n",
    "    \n",
    "    # Initialize an empty list for new values\n",
    "    New_values = []\n",
    "    \n",
    "    # Calculate new values based on the provided formula\n",
    "    for i in range(len(Working_Directory['District'])):\n",
    "        y_new = Working_Directory[production_col][i] + slope * (perturbation * factor[i] / 100)\n",
    "        New_values.append(int(y_new))\n",
    "    \n",
    "    # Add the new values to the DataFrame with a specific column name\n",
    "    Working_Directory[f'{crop[0].upper()} - {what} {perturbation}'] = New_values\n",
    "    Working_Directory['Change'] =  (New_values - Working_Directory[production_col])\n",
    "    Working_Directory['Percentage Change'] =  ((New_values - Working_Directory[production_col])/Working_Directory[production_col])*100\n",
    "    Working_Directory = Working_Directory.replace([np.inf, -np.inf], np.nan).dropna(subset=['Percentage Change'])\n",
    "    \n",
    "    # Visualization\n",
    "    if(plot == True):\n",
    "        plt.figure(figsize=(14, 9))\n",
    "        bars = plt.bar(Working_Directory['District'], \n",
    "                    Working_Directory['Percentage Change'])\n",
    "        \n",
    "        # Add value labels to the bars\n",
    "        for bar, value in zip(bars, Working_Directory['Percentage Change']):\n",
    "            plt.text(bar.get_x() + bar.get_width() / 2, \n",
    "                    bar.get_height(), \n",
    "                    f'{value:.1f}', \n",
    "                    ha='center', \n",
    "                    va='bottom', \n",
    "                    fontsize=10)\n",
    "        \n",
    "        plt.xlabel('District')\n",
    "        plt.ylabel(f'Percentage Change in {crop} Production')\n",
    "        plt.title(f'Percentage Change in {crop} Production Values when {what} increases by {perturbation}%')\n",
    "        plt.xticks(rotation=90)\n",
    "        plt.tight_layout()\n",
    "        plt.show()\n",
    "\n",
    "# Example usage:\n",
    "perturbation = 20\n",
    "what = 'NPK'  # Factor to be used\n",
    "crop = 'Maize'  # Or 'Maize'\n",
    "\n",
    "# Assuming Working_Directory is a DataFrame that has all necessary columns defined\n",
    "calculate_and_visualize(perturbation, crop, Maize_Directory, what,plot = True)\n"
   ]
  },
  {
   "cell_type": "code",
   "execution_count": 119,
   "metadata": {},
   "outputs": [
    {
     "data": {
      "text/html": [
       "<div>\n",
       "<style scoped>\n",
       "    .dataframe tbody tr th:only-of-type {\n",
       "        vertical-align: middle;\n",
       "    }\n",
       "\n",
       "    .dataframe tbody tr th {\n",
       "        vertical-align: top;\n",
       "    }\n",
       "\n",
       "    .dataframe thead th {\n",
       "        text-align: right;\n",
       "    }\n",
       "</style>\n",
       "<table border=\"1\" class=\"dataframe\">\n",
       "  <thead>\n",
       "    <tr style=\"text-align: right;\">\n",
       "      <th></th>\n",
       "      <th>District</th>\n",
       "      <th>Rice_Production</th>\n",
       "      <th>Maize_Production</th>\n",
       "      <th>Groundnut_Production</th>\n",
       "      <th>TotalNPK</th>\n",
       "      <th>SowingSeedsDistributed_Maize</th>\n",
       "      <th>LivestockCensus_2012_Cattle</th>\n",
       "      <th>AreaUnderCereals_Maize</th>\n",
       "      <th>AreaUnderCereals_Paddy</th>\n",
       "      <th>NetAreaIrrigated_Canals_NetAreaIrrigated</th>\n",
       "      <th>AreaUnderOilSeeds_GroundNut</th>\n",
       "      <th>MotorVehicles_Tractors</th>\n",
       "      <th>LivestockCensus_2012_Sheep</th>\n",
       "      <th>NetAreaIrrigatedUnderDifferentSources_TubeWells_NetIrrigatedArea</th>\n",
       "      <th>Rice_Ratio</th>\n",
       "      <th>Maize_Ratio</th>\n",
       "      <th>Groundnut_Ratio</th>\n",
       "      <th>Admin_Zone</th>\n",
       "      <th>KDG_District</th>\n",
       "      <th>Abbreviation</th>\n",
       "    </tr>\n",
       "  </thead>\n",
       "  <tbody>\n",
       "    <tr>\n",
       "      <th>0</th>\n",
       "      <td>BENGALURU</td>\n",
       "      <td>3376.0</td>\n",
       "      <td>2879</td>\n",
       "      <td>71.0</td>\n",
       "      <td>10.806111</td>\n",
       "      <td>4.450</td>\n",
       "      <td>2567.461578</td>\n",
       "      <td>1129.0</td>\n",
       "      <td>782.0</td>\n",
       "      <td>0</td>\n",
       "      <td>72</td>\n",
       "      <td>6.785923</td>\n",
       "      <td>35.835866</td>\n",
       "      <td>9348</td>\n",
       "      <td>0.022043</td>\n",
       "      <td>0.018798</td>\n",
       "      <td>0.000464</td>\n",
       "      <td>Bengaluru Division</td>\n",
       "      <td>Bengaluru Urban</td>\n",
       "      <td>BLR</td>\n",
       "    </tr>\n",
       "    <tr>\n",
       "      <th>1</th>\n",
       "      <td>BENGALURU(R)</td>\n",
       "      <td>2354.0</td>\n",
       "      <td>42583</td>\n",
       "      <td>206.0</td>\n",
       "      <td>14.687376</td>\n",
       "      <td>134.730</td>\n",
       "      <td>25037.139270</td>\n",
       "      <td>14867.0</td>\n",
       "      <td>736.0</td>\n",
       "      <td>0</td>\n",
       "      <td>175</td>\n",
       "      <td>0.748134</td>\n",
       "      <td>95.228861</td>\n",
       "      <td>20281</td>\n",
       "      <td>0.008715</td>\n",
       "      <td>0.157645</td>\n",
       "      <td>0.000763</td>\n",
       "      <td>Bengaluru Division</td>\n",
       "      <td>Bengaluru Rural</td>\n",
       "      <td>BLR(R)</td>\n",
       "    </tr>\n",
       "    <tr>\n",
       "      <th>2</th>\n",
       "      <td>RAMANAGARA</td>\n",
       "      <td>12128.0</td>\n",
       "      <td>10450</td>\n",
       "      <td>4830.0</td>\n",
       "      <td>102.712727</td>\n",
       "      <td>260.150</td>\n",
       "      <td>7729.614277</td>\n",
       "      <td>1987.0</td>\n",
       "      <td>4468.0</td>\n",
       "      <td>7895</td>\n",
       "      <td>3307</td>\n",
       "      <td>156.804614</td>\n",
       "      <td>2102.339270</td>\n",
       "      <td>23868</td>\n",
       "      <td>0.034517</td>\n",
       "      <td>0.029741</td>\n",
       "      <td>0.013746</td>\n",
       "      <td>Bengaluru Division</td>\n",
       "      <td>Ramanagara</td>\n",
       "      <td>RGA</td>\n",
       "    </tr>\n",
       "    <tr>\n",
       "      <th>3</th>\n",
       "      <td>CHITRADURGA</td>\n",
       "      <td>4566.0</td>\n",
       "      <td>271975</td>\n",
       "      <td>68575.0</td>\n",
       "      <td>2748.901666</td>\n",
       "      <td>5004.000</td>\n",
       "      <td>83821.593090</td>\n",
       "      <td>92194.0</td>\n",
       "      <td>1297.0</td>\n",
       "      <td>1820</td>\n",
       "      <td>96711</td>\n",
       "      <td>1423.861199</td>\n",
       "      <td>72011.816530</td>\n",
       "      <td>92506</td>\n",
       "      <td>0.005101</td>\n",
       "      <td>0.303824</td>\n",
       "      <td>0.076605</td>\n",
       "      <td>Bengaluru Division</td>\n",
       "      <td>Chitradurga</td>\n",
       "      <td>CDA</td>\n",
       "    </tr>\n",
       "    <tr>\n",
       "      <th>4</th>\n",
       "      <td>DAVANAGERE</td>\n",
       "      <td>489505.0</td>\n",
       "      <td>593544</td>\n",
       "      <td>16592.0</td>\n",
       "      <td>718.500139</td>\n",
       "      <td>6124.600</td>\n",
       "      <td>85657.632090</td>\n",
       "      <td>173400.0</td>\n",
       "      <td>98259.0</td>\n",
       "      <td>84789</td>\n",
       "      <td>15279</td>\n",
       "      <td>233.171480</td>\n",
       "      <td>2474.543782</td>\n",
       "      <td>78364</td>\n",
       "      <td>0.212733</td>\n",
       "      <td>0.257947</td>\n",
       "      <td>0.007211</td>\n",
       "      <td>Bengaluru Division</td>\n",
       "      <td>Davanagere</td>\n",
       "      <td>DVG</td>\n",
       "    </tr>\n",
       "    <tr>\n",
       "      <th>5</th>\n",
       "      <td>KOLAR</td>\n",
       "      <td>864.0</td>\n",
       "      <td>1759</td>\n",
       "      <td>5810.0</td>\n",
       "      <td>729.248826</td>\n",
       "      <td>51.500</td>\n",
       "      <td>2278.829821</td>\n",
       "      <td>640.0</td>\n",
       "      <td>395.0</td>\n",
       "      <td>0</td>\n",
       "      <td>8608</td>\n",
       "      <td>553.920188</td>\n",
       "      <td>14627.699531</td>\n",
       "      <td>20140</td>\n",
       "      <td>0.004887</td>\n",
       "      <td>0.009950</td>\n",
       "      <td>0.032864</td>\n",
       "      <td>Bengaluru Division</td>\n",
       "      <td>Kolar</td>\n",
       "      <td>KLR</td>\n",
       "    </tr>\n",
       "    <tr>\n",
       "      <th>6</th>\n",
       "      <td>CHIKKABALLAPURA</td>\n",
       "      <td>2698.0</td>\n",
       "      <td>105491</td>\n",
       "      <td>7132.0</td>\n",
       "      <td>554.173035</td>\n",
       "      <td>3538.150</td>\n",
       "      <td>71206.945310</td>\n",
       "      <td>59377.0</td>\n",
       "      <td>1333.0</td>\n",
       "      <td>0</td>\n",
       "      <td>19535</td>\n",
       "      <td>223.002028</td>\n",
       "      <td>8455.960947</td>\n",
       "      <td>50370</td>\n",
       "      <td>0.007393</td>\n",
       "      <td>0.289061</td>\n",
       "      <td>0.019543</td>\n",
       "      <td>Bengaluru Division</td>\n",
       "      <td>Chikkaballapura</td>\n",
       "      <td>CKA</td>\n",
       "    </tr>\n",
       "    <tr>\n",
       "      <th>7</th>\n",
       "      <td>SHIVAMOGGA</td>\n",
       "      <td>384974.0</td>\n",
       "      <td>226532</td>\n",
       "      <td>248.0</td>\n",
       "      <td>11.416511</td>\n",
       "      <td>3814.020</td>\n",
       "      <td>104722.000400</td>\n",
       "      <td>43827.0</td>\n",
       "      <td>109617.0</td>\n",
       "      <td>42502</td>\n",
       "      <td>438</td>\n",
       "      <td>3.618217</td>\n",
       "      <td>7.419754</td>\n",
       "      <td>32347</td>\n",
       "      <td>0.313060</td>\n",
       "      <td>0.184215</td>\n",
       "      <td>0.000202</td>\n",
       "      <td>Bengaluru Division</td>\n",
       "      <td>Shivamogga</td>\n",
       "      <td>SMG</td>\n",
       "    </tr>\n",
       "    <tr>\n",
       "      <th>8</th>\n",
       "      <td>TUMAKURU</td>\n",
       "      <td>26042.0</td>\n",
       "      <td>66868</td>\n",
       "      <td>39626.0</td>\n",
       "      <td>1627.466413</td>\n",
       "      <td>1639.850</td>\n",
       "      <td>37944.093760</td>\n",
       "      <td>24207.0</td>\n",
       "      <td>10379.0</td>\n",
       "      <td>4099</td>\n",
       "      <td>64771</td>\n",
       "      <td>1131.991030</td>\n",
       "      <td>45278.361329</td>\n",
       "      <td>144708</td>\n",
       "      <td>0.028037</td>\n",
       "      <td>0.071991</td>\n",
       "      <td>0.042662</td>\n",
       "      <td>Bengaluru Division</td>\n",
       "      <td>Tumakuru</td>\n",
       "      <td>TKR</td>\n",
       "    </tr>\n",
       "    <tr>\n",
       "      <th>9</th>\n",
       "      <td>CHIKKAMAGALURU</td>\n",
       "      <td>110533.0</td>\n",
       "      <td>61353</td>\n",
       "      <td>3909.0</td>\n",
       "      <td>519.663897</td>\n",
       "      <td>2923.790</td>\n",
       "      <td>40572.445630</td>\n",
       "      <td>25831.0</td>\n",
       "      <td>33036.0</td>\n",
       "      <td>6210</td>\n",
       "      <td>5851</td>\n",
       "      <td>121.617111</td>\n",
       "      <td>699.225642</td>\n",
       "      <td>26174</td>\n",
       "      <td>0.216529</td>\n",
       "      <td>0.120188</td>\n",
       "      <td>0.007658</td>\n",
       "      <td>Mysuru Division</td>\n",
       "      <td>Chikkamagaluru</td>\n",
       "      <td>CMG</td>\n",
       "    </tr>\n",
       "    <tr>\n",
       "      <th>10</th>\n",
       "      <td>DAKSHINA KANNADA</td>\n",
       "      <td>132588.0</td>\n",
       "      <td>0</td>\n",
       "      <td>0.0</td>\n",
       "      <td>0.000000</td>\n",
       "      <td>0.000</td>\n",
       "      <td>0.000000</td>\n",
       "      <td>0.0</td>\n",
       "      <td>48689.0</td>\n",
       "      <td>0</td>\n",
       "      <td>0</td>\n",
       "      <td>0.000000</td>\n",
       "      <td>0.000000</td>\n",
       "      <td>16589</td>\n",
       "      <td>0.478723</td>\n",
       "      <td>0.000000</td>\n",
       "      <td>0.000000</td>\n",
       "      <td>Mysuru Division</td>\n",
       "      <td>Dakshina Kannada</td>\n",
       "      <td>DKA</td>\n",
       "    </tr>\n",
       "    <tr>\n",
       "      <th>11</th>\n",
       "      <td>UDUPI</td>\n",
       "      <td>138156.0</td>\n",
       "      <td>109</td>\n",
       "      <td>3623.0</td>\n",
       "      <td>76.610263</td>\n",
       "      <td>0.000</td>\n",
       "      <td>94.499008</td>\n",
       "      <td>8.0</td>\n",
       "      <td>49608.0</td>\n",
       "      <td>0</td>\n",
       "      <td>1819</td>\n",
       "      <td>53.931232</td>\n",
       "      <td>0.872270</td>\n",
       "      <td>699</td>\n",
       "      <td>0.475176</td>\n",
       "      <td>0.000375</td>\n",
       "      <td>0.012461</td>\n",
       "      <td>Mysuru Division</td>\n",
       "      <td>Udupi</td>\n",
       "      <td>UPI</td>\n",
       "    </tr>\n",
       "    <tr>\n",
       "      <th>12</th>\n",
       "      <td>HASSAN</td>\n",
       "      <td>143705.0</td>\n",
       "      <td>333937</td>\n",
       "      <td>521.0</td>\n",
       "      <td>26.584241</td>\n",
       "      <td>8925.330</td>\n",
       "      <td>151008.140300</td>\n",
       "      <td>79058.0</td>\n",
       "      <td>42818.0</td>\n",
       "      <td>36097</td>\n",
       "      <td>862</td>\n",
       "      <td>8.970448</td>\n",
       "      <td>62.423299</td>\n",
       "      <td>23393</td>\n",
       "      <td>0.107153</td>\n",
       "      <td>0.248999</td>\n",
       "      <td>0.000388</td>\n",
       "      <td>Mysuru Division</td>\n",
       "      <td>Hassan</td>\n",
       "      <td>HSN</td>\n",
       "    </tr>\n",
       "    <tr>\n",
       "      <th>13</th>\n",
       "      <td>KODAGU</td>\n",
       "      <td>86303.0</td>\n",
       "      <td>17921</td>\n",
       "      <td>45.0</td>\n",
       "      <td>8.836338</td>\n",
       "      <td>246.410</td>\n",
       "      <td>7599.582730</td>\n",
       "      <td>3448.0</td>\n",
       "      <td>28336.0</td>\n",
       "      <td>1226</td>\n",
       "      <td>63</td>\n",
       "      <td>1.474989</td>\n",
       "      <td>0.302335</td>\n",
       "      <td>106</td>\n",
       "      <td>0.413870</td>\n",
       "      <td>0.085941</td>\n",
       "      <td>0.000216</td>\n",
       "      <td>Mysuru Division</td>\n",
       "      <td>Kodagu</td>\n",
       "      <td>KDG</td>\n",
       "    </tr>\n",
       "    <tr>\n",
       "      <th>14</th>\n",
       "      <td>MANDYA</td>\n",
       "      <td>246543.0</td>\n",
       "      <td>19387</td>\n",
       "      <td>1021.0</td>\n",
       "      <td>76.301428</td>\n",
       "      <td>794.030</td>\n",
       "      <td>8774.134623</td>\n",
       "      <td>4892.0</td>\n",
       "      <td>58487.0</td>\n",
       "      <td>90672</td>\n",
       "      <td>1361</td>\n",
       "      <td>14.601824</td>\n",
       "      <td>430.625919</td>\n",
       "      <td>16025</td>\n",
       "      <td>0.304248</td>\n",
       "      <td>0.023925</td>\n",
       "      <td>0.001260</td>\n",
       "      <td>Mysuru Division</td>\n",
       "      <td>Mandya</td>\n",
       "      <td>MDY</td>\n",
       "    </tr>\n",
       "    <tr>\n",
       "      <th>15</th>\n",
       "      <td>MYSURU</td>\n",
       "      <td>354227.0</td>\n",
       "      <td>137154</td>\n",
       "      <td>2170.0</td>\n",
       "      <td>109.886472</td>\n",
       "      <td>1573.430</td>\n",
       "      <td>61547.727440</td>\n",
       "      <td>37283.0</td>\n",
       "      <td>93521.0</td>\n",
       "      <td>91797</td>\n",
       "      <td>2387</td>\n",
       "      <td>35.637706</td>\n",
       "      <td>386.962906</td>\n",
       "      <td>19842</td>\n",
       "      <td>0.289252</td>\n",
       "      <td>0.111996</td>\n",
       "      <td>0.001772</td>\n",
       "      <td>Mysuru Division</td>\n",
       "      <td>Mysuru</td>\n",
       "      <td>MYS</td>\n",
       "    </tr>\n",
       "    <tr>\n",
       "      <th>16</th>\n",
       "      <td>CHAMARAJANAGAR</td>\n",
       "      <td>45856.0</td>\n",
       "      <td>147886</td>\n",
       "      <td>8867.0</td>\n",
       "      <td>437.077444</td>\n",
       "      <td>2054.600</td>\n",
       "      <td>80396.926680</td>\n",
       "      <td>38569.0</td>\n",
       "      <td>13881.0</td>\n",
       "      <td>21040</td>\n",
       "      <td>12179</td>\n",
       "      <td>67.665016</td>\n",
       "      <td>2359.241323</td>\n",
       "      <td>44070</td>\n",
       "      <td>0.094961</td>\n",
       "      <td>0.306251</td>\n",
       "      <td>0.018362</td>\n",
       "      <td>Mysuru Division</td>\n",
       "      <td>Chamarajanagara</td>\n",
       "      <td>CNR</td>\n",
       "    </tr>\n",
       "    <tr>\n",
       "      <th>17</th>\n",
       "      <td>BELAGAVI</td>\n",
       "      <td>177552.0</td>\n",
       "      <td>576758</td>\n",
       "      <td>39530.0</td>\n",
       "      <td>3309.632223</td>\n",
       "      <td>11883.580</td>\n",
       "      <td>159047.086200</td>\n",
       "      <td>131163.0</td>\n",
       "      <td>61230.0</td>\n",
       "      <td>59908</td>\n",
       "      <td>37419</td>\n",
       "      <td>853.959841</td>\n",
       "      <td>14506.560516</td>\n",
       "      <td>139708</td>\n",
       "      <td>0.082590</td>\n",
       "      <td>0.268283</td>\n",
       "      <td>0.018388</td>\n",
       "      <td>Belagavi Division</td>\n",
       "      <td>Belagavi</td>\n",
       "      <td>BLG</td>\n",
       "    </tr>\n",
       "    <tr>\n",
       "      <th>18</th>\n",
       "      <td>VIJAYAPURA</td>\n",
       "      <td>170.0</td>\n",
       "      <td>226327</td>\n",
       "      <td>27528.0</td>\n",
       "      <td>1267.386271</td>\n",
       "      <td>2682.760</td>\n",
       "      <td>48619.507080</td>\n",
       "      <td>40207.0</td>\n",
       "      <td>51.0</td>\n",
       "      <td>87422</td>\n",
       "      <td>24779</td>\n",
       "      <td>580.055688</td>\n",
       "      <td>7228.271206</td>\n",
       "      <td>113515</td>\n",
       "      <td>0.000144</td>\n",
       "      <td>0.192153</td>\n",
       "      <td>0.023371</td>\n",
       "      <td>Belagavi Division</td>\n",
       "      <td>Vijayapura</td>\n",
       "      <td>VJP</td>\n",
       "    </tr>\n",
       "    <tr>\n",
       "      <th>19</th>\n",
       "      <td>BAGALKOT</td>\n",
       "      <td>85.0</td>\n",
       "      <td>251699</td>\n",
       "      <td>25444.0</td>\n",
       "      <td>2319.034334</td>\n",
       "      <td>5678.150</td>\n",
       "      <td>75578.052000</td>\n",
       "      <td>44300.0</td>\n",
       "      <td>32.0</td>\n",
       "      <td>2026</td>\n",
       "      <td>26333</td>\n",
       "      <td>659.436766</td>\n",
       "      <td>20058.996218</td>\n",
       "      <td>117497</td>\n",
       "      <td>0.000091</td>\n",
       "      <td>0.270487</td>\n",
       "      <td>0.027343</td>\n",
       "      <td>Belagavi Division</td>\n",
       "      <td>Bagalkote</td>\n",
       "      <td>BKT</td>\n",
       "    </tr>\n",
       "    <tr>\n",
       "      <th>20</th>\n",
       "      <td>DHARAWAD</td>\n",
       "      <td>33989.0</td>\n",
       "      <td>90634</td>\n",
       "      <td>21178.0</td>\n",
       "      <td>1506.608212</td>\n",
       "      <td>2471.350</td>\n",
       "      <td>33424.645600</td>\n",
       "      <td>30900.0</td>\n",
       "      <td>23909.0</td>\n",
       "      <td>15779</td>\n",
       "      <td>36152</td>\n",
       "      <td>575.986142</td>\n",
       "      <td>2981.779212</td>\n",
       "      <td>20816</td>\n",
       "      <td>0.064685</td>\n",
       "      <td>0.172487</td>\n",
       "      <td>0.040304</td>\n",
       "      <td>Belagavi Division</td>\n",
       "      <td>Dharwad</td>\n",
       "      <td>DWD</td>\n",
       "    </tr>\n",
       "    <tr>\n",
       "      <th>21</th>\n",
       "      <td>GADAG</td>\n",
       "      <td>7258.0</td>\n",
       "      <td>138476</td>\n",
       "      <td>31332.0</td>\n",
       "      <td>1265.091872</td>\n",
       "      <td>4111.000</td>\n",
       "      <td>34261.981770</td>\n",
       "      <td>34163.0</td>\n",
       "      <td>1706.0</td>\n",
       "      <td>30537</td>\n",
       "      <td>41174</td>\n",
       "      <td>1518.327616</td>\n",
       "      <td>14077.244590</td>\n",
       "      <td>41664</td>\n",
       "      <td>0.012588</td>\n",
       "      <td>0.240174</td>\n",
       "      <td>0.054342</td>\n",
       "      <td>Belagavi Division</td>\n",
       "      <td>Gadag</td>\n",
       "      <td>GDG</td>\n",
       "    </tr>\n",
       "    <tr>\n",
       "      <th>22</th>\n",
       "      <td>HAVERI</td>\n",
       "      <td>125422.0</td>\n",
       "      <td>413487</td>\n",
       "      <td>18309.0</td>\n",
       "      <td>962.245499</td>\n",
       "      <td>11325.600</td>\n",
       "      <td>95150.640270</td>\n",
       "      <td>170696.0</td>\n",
       "      <td>44968.0</td>\n",
       "      <td>5134</td>\n",
       "      <td>17789</td>\n",
       "      <td>232.267686</td>\n",
       "      <td>3770.582401</td>\n",
       "      <td>63016</td>\n",
       "      <td>0.101409</td>\n",
       "      <td>0.334321</td>\n",
       "      <td>0.014804</td>\n",
       "      <td>Belagavi Division</td>\n",
       "      <td>Haveri</td>\n",
       "      <td>HVR</td>\n",
       "    </tr>\n",
       "    <tr>\n",
       "      <th>23</th>\n",
       "      <td>UTTARA KANNADA</td>\n",
       "      <td>152981.0</td>\n",
       "      <td>24088</td>\n",
       "      <td>3825.0</td>\n",
       "      <td>162.860526</td>\n",
       "      <td>1469.200</td>\n",
       "      <td>22563.771080</td>\n",
       "      <td>4576.0</td>\n",
       "      <td>66147.0</td>\n",
       "      <td>0</td>\n",
       "      <td>1950</td>\n",
       "      <td>49.317519</td>\n",
       "      <td>50.859356</td>\n",
       "      <td>8460</td>\n",
       "      <td>0.425282</td>\n",
       "      <td>0.066964</td>\n",
       "      <td>0.010633</td>\n",
       "      <td>Belagavi Division</td>\n",
       "      <td>Uttara Kannada</td>\n",
       "      <td>UTK</td>\n",
       "    </tr>\n",
       "    <tr>\n",
       "      <th>24</th>\n",
       "      <td>BALLARI</td>\n",
       "      <td>206115.5</td>\n",
       "      <td>104045</td>\n",
       "      <td>22938.5</td>\n",
       "      <td>1852.839641</td>\n",
       "      <td>2859.005</td>\n",
       "      <td>23446.847900</td>\n",
       "      <td>49869.5</td>\n",
       "      <td>46832.5</td>\n",
       "      <td>77607</td>\n",
       "      <td>49762</td>\n",
       "      <td>721.160542</td>\n",
       "      <td>22723.723301</td>\n",
       "      <td>75198</td>\n",
       "      <td>0.269990</td>\n",
       "      <td>0.136288</td>\n",
       "      <td>0.030047</td>\n",
       "      <td>Kalaburagi Division</td>\n",
       "      <td>Ballari</td>\n",
       "      <td>BLL</td>\n",
       "    </tr>\n",
       "    <tr>\n",
       "      <th>25</th>\n",
       "      <td>BIDAR</td>\n",
       "      <td>2036.0</td>\n",
       "      <td>2791</td>\n",
       "      <td>261.0</td>\n",
       "      <td>23.320849</td>\n",
       "      <td>24.550</td>\n",
       "      <td>2371.831678</td>\n",
       "      <td>1382.0</td>\n",
       "      <td>1548.0</td>\n",
       "      <td>0</td>\n",
       "      <td>299</td>\n",
       "      <td>4.970978</td>\n",
       "      <td>83.608146</td>\n",
       "      <td>19908</td>\n",
       "      <td>0.007378</td>\n",
       "      <td>0.010114</td>\n",
       "      <td>0.000946</td>\n",
       "      <td>Kalaburagi Division</td>\n",
       "      <td>Bidar</td>\n",
       "      <td>BDR</td>\n",
       "    </tr>\n",
       "    <tr>\n",
       "      <th>26</th>\n",
       "      <td>KALABURAGI</td>\n",
       "      <td>7888.0</td>\n",
       "      <td>14621</td>\n",
       "      <td>3114.0</td>\n",
       "      <td>151.238385</td>\n",
       "      <td>165.000</td>\n",
       "      <td>6221.617910</td>\n",
       "      <td>2634.0</td>\n",
       "      <td>4199.0</td>\n",
       "      <td>20864</td>\n",
       "      <td>3817</td>\n",
       "      <td>45.795271</td>\n",
       "      <td>280.247116</td>\n",
       "      <td>48802</td>\n",
       "      <td>0.007095</td>\n",
       "      <td>0.013150</td>\n",
       "      <td>0.002801</td>\n",
       "      <td>Kalaburagi Division</td>\n",
       "      <td>Kalaburagi</td>\n",
       "      <td>KLB</td>\n",
       "    </tr>\n",
       "    <tr>\n",
       "      <th>27</th>\n",
       "      <td>YADGIRI</td>\n",
       "      <td>224659.0</td>\n",
       "      <td>2673</td>\n",
       "      <td>31435.0</td>\n",
       "      <td>4335.013151</td>\n",
       "      <td>0.000</td>\n",
       "      <td>1253.317144</td>\n",
       "      <td>961.0</td>\n",
       "      <td>49358.0</td>\n",
       "      <td>91141</td>\n",
       "      <td>38840</td>\n",
       "      <td>469.698763</td>\n",
       "      <td>21985.146627</td>\n",
       "      <td>22035</td>\n",
       "      <td>0.339006</td>\n",
       "      <td>0.004033</td>\n",
       "      <td>0.047435</td>\n",
       "      <td>Kalaburagi Division</td>\n",
       "      <td>Yadgir</td>\n",
       "      <td>YDR</td>\n",
       "    </tr>\n",
       "    <tr>\n",
       "      <th>28</th>\n",
       "      <td>RAICHUR</td>\n",
       "      <td>492342.0</td>\n",
       "      <td>723</td>\n",
       "      <td>26958.0</td>\n",
       "      <td>2294.879709</td>\n",
       "      <td>14.350</td>\n",
       "      <td>188.537479</td>\n",
       "      <td>2600.0</td>\n",
       "      <td>115246.0</td>\n",
       "      <td>111512</td>\n",
       "      <td>35960</td>\n",
       "      <td>501.355901</td>\n",
       "      <td>12675.796996</td>\n",
       "      <td>26571</td>\n",
       "      <td>0.357505</td>\n",
       "      <td>0.000525</td>\n",
       "      <td>0.019575</td>\n",
       "      <td>Kalaburagi Division</td>\n",
       "      <td>Raichur</td>\n",
       "      <td>RCR</td>\n",
       "    </tr>\n",
       "    <tr>\n",
       "      <th>29</th>\n",
       "      <td>KOPPAL</td>\n",
       "      <td>243505.0</td>\n",
       "      <td>190252</td>\n",
       "      <td>29982.0</td>\n",
       "      <td>1733.114796</td>\n",
       "      <td>5292.000</td>\n",
       "      <td>38936.400170</td>\n",
       "      <td>48210.0</td>\n",
       "      <td>50753.0</td>\n",
       "      <td>37736</td>\n",
       "      <td>22274</td>\n",
       "      <td>384.479472</td>\n",
       "      <td>12890.465433</td>\n",
       "      <td>82552</td>\n",
       "      <td>0.191373</td>\n",
       "      <td>0.149521</td>\n",
       "      <td>0.023563</td>\n",
       "      <td>Kalaburagi Division</td>\n",
       "      <td>Koppal</td>\n",
       "      <td>KPL</td>\n",
       "    </tr>\n",
       "    <tr>\n",
       "      <th>30</th>\n",
       "      <td>VIJAYANAGARA</td>\n",
       "      <td>206115.5</td>\n",
       "      <td>104045</td>\n",
       "      <td>22938.5</td>\n",
       "      <td>1852.839641</td>\n",
       "      <td>2859.005</td>\n",
       "      <td>23446.847900</td>\n",
       "      <td>49869.5</td>\n",
       "      <td>46832.5</td>\n",
       "      <td>77607</td>\n",
       "      <td>49762</td>\n",
       "      <td>721.160542</td>\n",
       "      <td>22723.723301</td>\n",
       "      <td>75198</td>\n",
       "      <td>0.269990</td>\n",
       "      <td>0.136288</td>\n",
       "      <td>0.030047</td>\n",
       "      <td>Kalaburagi Division</td>\n",
       "      <td>Vijayanagara</td>\n",
       "      <td>VNG</td>\n",
       "    </tr>\n",
       "  </tbody>\n",
       "</table>\n",
       "</div>"
      ],
      "text/plain": [
       "            District  Rice_Production  Maize_Production  Groundnut_Production  \\\n",
       "0          BENGALURU           3376.0              2879                  71.0   \n",
       "1       BENGALURU(R)           2354.0             42583                 206.0   \n",
       "2         RAMANAGARA          12128.0             10450                4830.0   \n",
       "3        CHITRADURGA           4566.0            271975               68575.0   \n",
       "4         DAVANAGERE         489505.0            593544               16592.0   \n",
       "5              KOLAR            864.0              1759                5810.0   \n",
       "6    CHIKKABALLAPURA           2698.0            105491                7132.0   \n",
       "7         SHIVAMOGGA         384974.0            226532                 248.0   \n",
       "8           TUMAKURU          26042.0             66868               39626.0   \n",
       "9     CHIKKAMAGALURU         110533.0             61353                3909.0   \n",
       "10  DAKSHINA KANNADA         132588.0                 0                   0.0   \n",
       "11             UDUPI         138156.0               109                3623.0   \n",
       "12            HASSAN         143705.0            333937                 521.0   \n",
       "13            KODAGU          86303.0             17921                  45.0   \n",
       "14            MANDYA         246543.0             19387                1021.0   \n",
       "15            MYSURU         354227.0            137154                2170.0   \n",
       "16    CHAMARAJANAGAR          45856.0            147886                8867.0   \n",
       "17          BELAGAVI         177552.0            576758               39530.0   \n",
       "18        VIJAYAPURA            170.0            226327               27528.0   \n",
       "19          BAGALKOT             85.0            251699               25444.0   \n",
       "20          DHARAWAD          33989.0             90634               21178.0   \n",
       "21             GADAG           7258.0            138476               31332.0   \n",
       "22            HAVERI         125422.0            413487               18309.0   \n",
       "23    UTTARA KANNADA         152981.0             24088                3825.0   \n",
       "24           BALLARI         206115.5            104045               22938.5   \n",
       "25             BIDAR           2036.0              2791                 261.0   \n",
       "26        KALABURAGI           7888.0             14621                3114.0   \n",
       "27           YADGIRI         224659.0              2673               31435.0   \n",
       "28           RAICHUR         492342.0               723               26958.0   \n",
       "29            KOPPAL         243505.0            190252               29982.0   \n",
       "30      VIJAYANAGARA         206115.5            104045               22938.5   \n",
       "\n",
       "       TotalNPK  SowingSeedsDistributed_Maize  LivestockCensus_2012_Cattle  \\\n",
       "0     10.806111                         4.450                  2567.461578   \n",
       "1     14.687376                       134.730                 25037.139270   \n",
       "2    102.712727                       260.150                  7729.614277   \n",
       "3   2748.901666                      5004.000                 83821.593090   \n",
       "4    718.500139                      6124.600                 85657.632090   \n",
       "5    729.248826                        51.500                  2278.829821   \n",
       "6    554.173035                      3538.150                 71206.945310   \n",
       "7     11.416511                      3814.020                104722.000400   \n",
       "8   1627.466413                      1639.850                 37944.093760   \n",
       "9    519.663897                      2923.790                 40572.445630   \n",
       "10     0.000000                         0.000                     0.000000   \n",
       "11    76.610263                         0.000                    94.499008   \n",
       "12    26.584241                      8925.330                151008.140300   \n",
       "13     8.836338                       246.410                  7599.582730   \n",
       "14    76.301428                       794.030                  8774.134623   \n",
       "15   109.886472                      1573.430                 61547.727440   \n",
       "16   437.077444                      2054.600                 80396.926680   \n",
       "17  3309.632223                     11883.580                159047.086200   \n",
       "18  1267.386271                      2682.760                 48619.507080   \n",
       "19  2319.034334                      5678.150                 75578.052000   \n",
       "20  1506.608212                      2471.350                 33424.645600   \n",
       "21  1265.091872                      4111.000                 34261.981770   \n",
       "22   962.245499                     11325.600                 95150.640270   \n",
       "23   162.860526                      1469.200                 22563.771080   \n",
       "24  1852.839641                      2859.005                 23446.847900   \n",
       "25    23.320849                        24.550                  2371.831678   \n",
       "26   151.238385                       165.000                  6221.617910   \n",
       "27  4335.013151                         0.000                  1253.317144   \n",
       "28  2294.879709                        14.350                   188.537479   \n",
       "29  1733.114796                      5292.000                 38936.400170   \n",
       "30  1852.839641                      2859.005                 23446.847900   \n",
       "\n",
       "    AreaUnderCereals_Maize  AreaUnderCereals_Paddy  \\\n",
       "0                   1129.0                   782.0   \n",
       "1                  14867.0                   736.0   \n",
       "2                   1987.0                  4468.0   \n",
       "3                  92194.0                  1297.0   \n",
       "4                 173400.0                 98259.0   \n",
       "5                    640.0                   395.0   \n",
       "6                  59377.0                  1333.0   \n",
       "7                  43827.0                109617.0   \n",
       "8                  24207.0                 10379.0   \n",
       "9                  25831.0                 33036.0   \n",
       "10                     0.0                 48689.0   \n",
       "11                     8.0                 49608.0   \n",
       "12                 79058.0                 42818.0   \n",
       "13                  3448.0                 28336.0   \n",
       "14                  4892.0                 58487.0   \n",
       "15                 37283.0                 93521.0   \n",
       "16                 38569.0                 13881.0   \n",
       "17                131163.0                 61230.0   \n",
       "18                 40207.0                    51.0   \n",
       "19                 44300.0                    32.0   \n",
       "20                 30900.0                 23909.0   \n",
       "21                 34163.0                  1706.0   \n",
       "22                170696.0                 44968.0   \n",
       "23                  4576.0                 66147.0   \n",
       "24                 49869.5                 46832.5   \n",
       "25                  1382.0                  1548.0   \n",
       "26                  2634.0                  4199.0   \n",
       "27                   961.0                 49358.0   \n",
       "28                  2600.0                115246.0   \n",
       "29                 48210.0                 50753.0   \n",
       "30                 49869.5                 46832.5   \n",
       "\n",
       "    NetAreaIrrigated_Canals_NetAreaIrrigated  AreaUnderOilSeeds_GroundNut  \\\n",
       "0                                          0                           72   \n",
       "1                                          0                          175   \n",
       "2                                       7895                         3307   \n",
       "3                                       1820                        96711   \n",
       "4                                      84789                        15279   \n",
       "5                                          0                         8608   \n",
       "6                                          0                        19535   \n",
       "7                                      42502                          438   \n",
       "8                                       4099                        64771   \n",
       "9                                       6210                         5851   \n",
       "10                                         0                            0   \n",
       "11                                         0                         1819   \n",
       "12                                     36097                          862   \n",
       "13                                      1226                           63   \n",
       "14                                     90672                         1361   \n",
       "15                                     91797                         2387   \n",
       "16                                     21040                        12179   \n",
       "17                                     59908                        37419   \n",
       "18                                     87422                        24779   \n",
       "19                                      2026                        26333   \n",
       "20                                     15779                        36152   \n",
       "21                                     30537                        41174   \n",
       "22                                      5134                        17789   \n",
       "23                                         0                         1950   \n",
       "24                                     77607                        49762   \n",
       "25                                         0                          299   \n",
       "26                                     20864                         3817   \n",
       "27                                     91141                        38840   \n",
       "28                                    111512                        35960   \n",
       "29                                     37736                        22274   \n",
       "30                                     77607                        49762   \n",
       "\n",
       "    MotorVehicles_Tractors  LivestockCensus_2012_Sheep  \\\n",
       "0                 6.785923                   35.835866   \n",
       "1                 0.748134                   95.228861   \n",
       "2               156.804614                 2102.339270   \n",
       "3              1423.861199                72011.816530   \n",
       "4               233.171480                 2474.543782   \n",
       "5               553.920188                14627.699531   \n",
       "6               223.002028                 8455.960947   \n",
       "7                 3.618217                    7.419754   \n",
       "8              1131.991030                45278.361329   \n",
       "9               121.617111                  699.225642   \n",
       "10                0.000000                    0.000000   \n",
       "11               53.931232                    0.872270   \n",
       "12                8.970448                   62.423299   \n",
       "13                1.474989                    0.302335   \n",
       "14               14.601824                  430.625919   \n",
       "15               35.637706                  386.962906   \n",
       "16               67.665016                 2359.241323   \n",
       "17              853.959841                14506.560516   \n",
       "18              580.055688                 7228.271206   \n",
       "19              659.436766                20058.996218   \n",
       "20              575.986142                 2981.779212   \n",
       "21             1518.327616                14077.244590   \n",
       "22              232.267686                 3770.582401   \n",
       "23               49.317519                   50.859356   \n",
       "24              721.160542                22723.723301   \n",
       "25                4.970978                   83.608146   \n",
       "26               45.795271                  280.247116   \n",
       "27              469.698763                21985.146627   \n",
       "28              501.355901                12675.796996   \n",
       "29              384.479472                12890.465433   \n",
       "30              721.160542                22723.723301   \n",
       "\n",
       "    NetAreaIrrigatedUnderDifferentSources_TubeWells_NetIrrigatedArea  \\\n",
       "0                                                9348                  \n",
       "1                                               20281                  \n",
       "2                                               23868                  \n",
       "3                                               92506                  \n",
       "4                                               78364                  \n",
       "5                                               20140                  \n",
       "6                                               50370                  \n",
       "7                                               32347                  \n",
       "8                                              144708                  \n",
       "9                                               26174                  \n",
       "10                                              16589                  \n",
       "11                                                699                  \n",
       "12                                              23393                  \n",
       "13                                                106                  \n",
       "14                                              16025                  \n",
       "15                                              19842                  \n",
       "16                                              44070                  \n",
       "17                                             139708                  \n",
       "18                                             113515                  \n",
       "19                                             117497                  \n",
       "20                                              20816                  \n",
       "21                                              41664                  \n",
       "22                                              63016                  \n",
       "23                                               8460                  \n",
       "24                                              75198                  \n",
       "25                                              19908                  \n",
       "26                                              48802                  \n",
       "27                                              22035                  \n",
       "28                                              26571                  \n",
       "29                                              82552                  \n",
       "30                                              75198                  \n",
       "\n",
       "    Rice_Ratio  Maize_Ratio  Groundnut_Ratio           Admin_Zone  \\\n",
       "0     0.022043     0.018798         0.000464   Bengaluru Division   \n",
       "1     0.008715     0.157645         0.000763   Bengaluru Division   \n",
       "2     0.034517     0.029741         0.013746   Bengaluru Division   \n",
       "3     0.005101     0.303824         0.076605   Bengaluru Division   \n",
       "4     0.212733     0.257947         0.007211   Bengaluru Division   \n",
       "5     0.004887     0.009950         0.032864   Bengaluru Division   \n",
       "6     0.007393     0.289061         0.019543   Bengaluru Division   \n",
       "7     0.313060     0.184215         0.000202   Bengaluru Division   \n",
       "8     0.028037     0.071991         0.042662   Bengaluru Division   \n",
       "9     0.216529     0.120188         0.007658      Mysuru Division   \n",
       "10    0.478723     0.000000         0.000000      Mysuru Division   \n",
       "11    0.475176     0.000375         0.012461      Mysuru Division   \n",
       "12    0.107153     0.248999         0.000388      Mysuru Division   \n",
       "13    0.413870     0.085941         0.000216      Mysuru Division   \n",
       "14    0.304248     0.023925         0.001260      Mysuru Division   \n",
       "15    0.289252     0.111996         0.001772      Mysuru Division   \n",
       "16    0.094961     0.306251         0.018362      Mysuru Division   \n",
       "17    0.082590     0.268283         0.018388    Belagavi Division   \n",
       "18    0.000144     0.192153         0.023371    Belagavi Division   \n",
       "19    0.000091     0.270487         0.027343    Belagavi Division   \n",
       "20    0.064685     0.172487         0.040304    Belagavi Division   \n",
       "21    0.012588     0.240174         0.054342    Belagavi Division   \n",
       "22    0.101409     0.334321         0.014804    Belagavi Division   \n",
       "23    0.425282     0.066964         0.010633    Belagavi Division   \n",
       "24    0.269990     0.136288         0.030047  Kalaburagi Division   \n",
       "25    0.007378     0.010114         0.000946  Kalaburagi Division   \n",
       "26    0.007095     0.013150         0.002801  Kalaburagi Division   \n",
       "27    0.339006     0.004033         0.047435  Kalaburagi Division   \n",
       "28    0.357505     0.000525         0.019575  Kalaburagi Division   \n",
       "29    0.191373     0.149521         0.023563  Kalaburagi Division   \n",
       "30    0.269990     0.136288         0.030047  Kalaburagi Division   \n",
       "\n",
       "        KDG_District Abbreviation  \n",
       "0    Bengaluru Urban          BLR  \n",
       "1    Bengaluru Rural       BLR(R)  \n",
       "2         Ramanagara          RGA  \n",
       "3        Chitradurga          CDA  \n",
       "4         Davanagere          DVG  \n",
       "5              Kolar          KLR  \n",
       "6    Chikkaballapura          CKA  \n",
       "7         Shivamogga          SMG  \n",
       "8           Tumakuru          TKR  \n",
       "9     Chikkamagaluru          CMG  \n",
       "10  Dakshina Kannada          DKA  \n",
       "11             Udupi          UPI  \n",
       "12            Hassan          HSN  \n",
       "13            Kodagu          KDG  \n",
       "14            Mandya          MDY  \n",
       "15            Mysuru          MYS  \n",
       "16   Chamarajanagara          CNR  \n",
       "17          Belagavi          BLG  \n",
       "18        Vijayapura          VJP  \n",
       "19         Bagalkote          BKT  \n",
       "20           Dharwad          DWD  \n",
       "21             Gadag          GDG  \n",
       "22            Haveri          HVR  \n",
       "23    Uttara Kannada          UTK  \n",
       "24           Ballari          BLL  \n",
       "25             Bidar          BDR  \n",
       "26        Kalaburagi          KLB  \n",
       "27            Yadgir          YDR  \n",
       "28           Raichur          RCR  \n",
       "29            Koppal          KPL  \n",
       "30      Vijayanagara          VNG  "
      ]
     },
     "execution_count": 119,
     "metadata": {},
     "output_type": "execute_result"
    }
   ],
   "source": [
    "Working_Directory"
   ]
  },
  {
   "cell_type": "code",
   "execution_count": 120,
   "metadata": {},
   "outputs": [
    {
     "data": {
      "text/html": [
       "<div>\n",
       "<style scoped>\n",
       "    .dataframe tbody tr th:only-of-type {\n",
       "        vertical-align: middle;\n",
       "    }\n",
       "\n",
       "    .dataframe tbody tr th {\n",
       "        vertical-align: top;\n",
       "    }\n",
       "\n",
       "    .dataframe thead th {\n",
       "        text-align: right;\n",
       "    }\n",
       "</style>\n",
       "<table border=\"1\" class=\"dataframe\">\n",
       "  <thead>\n",
       "    <tr style=\"text-align: right;\">\n",
       "      <th></th>\n",
       "      <th>District</th>\n",
       "      <th>Groundnut_Production</th>\n",
       "      <th>TotalNPK</th>\n",
       "      <th>AreaUnderOilSeeds_GroundNut</th>\n",
       "      <th>MotorVehicles_Tractors</th>\n",
       "      <th>LivestockCensus_2012_Sheep</th>\n",
       "      <th>Groundnut_Ratio</th>\n",
       "      <th>KDG_District</th>\n",
       "      <th>Abbreviation</th>\n",
       "    </tr>\n",
       "  </thead>\n",
       "  <tbody>\n",
       "    <tr>\n",
       "      <th>0</th>\n",
       "      <td>BENGALURU</td>\n",
       "      <td>71.0</td>\n",
       "      <td>10.806111</td>\n",
       "      <td>72</td>\n",
       "      <td>6.785923</td>\n",
       "      <td>35.835866</td>\n",
       "      <td>0.000464</td>\n",
       "      <td>Bengaluru Urban</td>\n",
       "      <td>BLR</td>\n",
       "    </tr>\n",
       "    <tr>\n",
       "      <th>1</th>\n",
       "      <td>BENGALURU(R)</td>\n",
       "      <td>206.0</td>\n",
       "      <td>14.687376</td>\n",
       "      <td>175</td>\n",
       "      <td>0.748134</td>\n",
       "      <td>95.228861</td>\n",
       "      <td>0.000763</td>\n",
       "      <td>Bengaluru Rural</td>\n",
       "      <td>BLR(R)</td>\n",
       "    </tr>\n",
       "    <tr>\n",
       "      <th>2</th>\n",
       "      <td>RAMANAGARA</td>\n",
       "      <td>4830.0</td>\n",
       "      <td>102.712727</td>\n",
       "      <td>3307</td>\n",
       "      <td>156.804614</td>\n",
       "      <td>2102.339270</td>\n",
       "      <td>0.013746</td>\n",
       "      <td>Ramanagara</td>\n",
       "      <td>RGA</td>\n",
       "    </tr>\n",
       "    <tr>\n",
       "      <th>3</th>\n",
       "      <td>CHITRADURGA</td>\n",
       "      <td>68575.0</td>\n",
       "      <td>2748.901666</td>\n",
       "      <td>96711</td>\n",
       "      <td>1423.861199</td>\n",
       "      <td>72011.816530</td>\n",
       "      <td>0.076605</td>\n",
       "      <td>Chitradurga</td>\n",
       "      <td>CDA</td>\n",
       "    </tr>\n",
       "    <tr>\n",
       "      <th>4</th>\n",
       "      <td>DAVANAGERE</td>\n",
       "      <td>16592.0</td>\n",
       "      <td>718.500139</td>\n",
       "      <td>15279</td>\n",
       "      <td>233.171480</td>\n",
       "      <td>2474.543782</td>\n",
       "      <td>0.007211</td>\n",
       "      <td>Davanagere</td>\n",
       "      <td>DVG</td>\n",
       "    </tr>\n",
       "    <tr>\n",
       "      <th>5</th>\n",
       "      <td>KOLAR</td>\n",
       "      <td>5810.0</td>\n",
       "      <td>729.248826</td>\n",
       "      <td>8608</td>\n",
       "      <td>553.920188</td>\n",
       "      <td>14627.699531</td>\n",
       "      <td>0.032864</td>\n",
       "      <td>Kolar</td>\n",
       "      <td>KLR</td>\n",
       "    </tr>\n",
       "    <tr>\n",
       "      <th>6</th>\n",
       "      <td>CHIKKABALLAPURA</td>\n",
       "      <td>7132.0</td>\n",
       "      <td>554.173035</td>\n",
       "      <td>19535</td>\n",
       "      <td>223.002028</td>\n",
       "      <td>8455.960947</td>\n",
       "      <td>0.019543</td>\n",
       "      <td>Chikkaballapura</td>\n",
       "      <td>CKA</td>\n",
       "    </tr>\n",
       "    <tr>\n",
       "      <th>7</th>\n",
       "      <td>SHIVAMOGGA</td>\n",
       "      <td>248.0</td>\n",
       "      <td>11.416511</td>\n",
       "      <td>438</td>\n",
       "      <td>3.618217</td>\n",
       "      <td>7.419754</td>\n",
       "      <td>0.000202</td>\n",
       "      <td>Shivamogga</td>\n",
       "      <td>SMG</td>\n",
       "    </tr>\n",
       "    <tr>\n",
       "      <th>8</th>\n",
       "      <td>TUMAKURU</td>\n",
       "      <td>39626.0</td>\n",
       "      <td>1627.466413</td>\n",
       "      <td>64771</td>\n",
       "      <td>1131.991030</td>\n",
       "      <td>45278.361329</td>\n",
       "      <td>0.042662</td>\n",
       "      <td>Tumakuru</td>\n",
       "      <td>TKR</td>\n",
       "    </tr>\n",
       "    <tr>\n",
       "      <th>9</th>\n",
       "      <td>CHIKKAMAGALURU</td>\n",
       "      <td>3909.0</td>\n",
       "      <td>519.663897</td>\n",
       "      <td>5851</td>\n",
       "      <td>121.617111</td>\n",
       "      <td>699.225642</td>\n",
       "      <td>0.007658</td>\n",
       "      <td>Chikkamagaluru</td>\n",
       "      <td>CMG</td>\n",
       "    </tr>\n",
       "    <tr>\n",
       "      <th>10</th>\n",
       "      <td>DAKSHINA KANNADA</td>\n",
       "      <td>0.0</td>\n",
       "      <td>0.000000</td>\n",
       "      <td>0</td>\n",
       "      <td>0.000000</td>\n",
       "      <td>0.000000</td>\n",
       "      <td>0.000000</td>\n",
       "      <td>Dakshina Kannada</td>\n",
       "      <td>DKA</td>\n",
       "    </tr>\n",
       "    <tr>\n",
       "      <th>11</th>\n",
       "      <td>UDUPI</td>\n",
       "      <td>3623.0</td>\n",
       "      <td>76.610263</td>\n",
       "      <td>1819</td>\n",
       "      <td>53.931232</td>\n",
       "      <td>0.872270</td>\n",
       "      <td>0.012461</td>\n",
       "      <td>Udupi</td>\n",
       "      <td>UPI</td>\n",
       "    </tr>\n",
       "    <tr>\n",
       "      <th>12</th>\n",
       "      <td>HASSAN</td>\n",
       "      <td>521.0</td>\n",
       "      <td>26.584241</td>\n",
       "      <td>862</td>\n",
       "      <td>8.970448</td>\n",
       "      <td>62.423299</td>\n",
       "      <td>0.000388</td>\n",
       "      <td>Hassan</td>\n",
       "      <td>HSN</td>\n",
       "    </tr>\n",
       "    <tr>\n",
       "      <th>13</th>\n",
       "      <td>KODAGU</td>\n",
       "      <td>45.0</td>\n",
       "      <td>8.836338</td>\n",
       "      <td>63</td>\n",
       "      <td>1.474989</td>\n",
       "      <td>0.302335</td>\n",
       "      <td>0.000216</td>\n",
       "      <td>Kodagu</td>\n",
       "      <td>KDG</td>\n",
       "    </tr>\n",
       "    <tr>\n",
       "      <th>14</th>\n",
       "      <td>MANDYA</td>\n",
       "      <td>1021.0</td>\n",
       "      <td>76.301428</td>\n",
       "      <td>1361</td>\n",
       "      <td>14.601824</td>\n",
       "      <td>430.625919</td>\n",
       "      <td>0.001260</td>\n",
       "      <td>Mandya</td>\n",
       "      <td>MDY</td>\n",
       "    </tr>\n",
       "    <tr>\n",
       "      <th>15</th>\n",
       "      <td>MYSURU</td>\n",
       "      <td>2170.0</td>\n",
       "      <td>109.886472</td>\n",
       "      <td>2387</td>\n",
       "      <td>35.637706</td>\n",
       "      <td>386.962906</td>\n",
       "      <td>0.001772</td>\n",
       "      <td>Mysuru</td>\n",
       "      <td>MYS</td>\n",
       "    </tr>\n",
       "    <tr>\n",
       "      <th>16</th>\n",
       "      <td>CHAMARAJANAGAR</td>\n",
       "      <td>8867.0</td>\n",
       "      <td>437.077444</td>\n",
       "      <td>12179</td>\n",
       "      <td>67.665016</td>\n",
       "      <td>2359.241323</td>\n",
       "      <td>0.018362</td>\n",
       "      <td>Chamarajanagara</td>\n",
       "      <td>CNR</td>\n",
       "    </tr>\n",
       "    <tr>\n",
       "      <th>17</th>\n",
       "      <td>BELAGAVI</td>\n",
       "      <td>39530.0</td>\n",
       "      <td>3309.632223</td>\n",
       "      <td>37419</td>\n",
       "      <td>853.959841</td>\n",
       "      <td>14506.560516</td>\n",
       "      <td>0.018388</td>\n",
       "      <td>Belagavi</td>\n",
       "      <td>BLG</td>\n",
       "    </tr>\n",
       "    <tr>\n",
       "      <th>18</th>\n",
       "      <td>VIJAYAPURA</td>\n",
       "      <td>27528.0</td>\n",
       "      <td>1267.386271</td>\n",
       "      <td>24779</td>\n",
       "      <td>580.055688</td>\n",
       "      <td>7228.271206</td>\n",
       "      <td>0.023371</td>\n",
       "      <td>Vijayapura</td>\n",
       "      <td>VJP</td>\n",
       "    </tr>\n",
       "    <tr>\n",
       "      <th>19</th>\n",
       "      <td>BAGALKOT</td>\n",
       "      <td>25444.0</td>\n",
       "      <td>2319.034334</td>\n",
       "      <td>26333</td>\n",
       "      <td>659.436766</td>\n",
       "      <td>20058.996218</td>\n",
       "      <td>0.027343</td>\n",
       "      <td>Bagalkote</td>\n",
       "      <td>BKT</td>\n",
       "    </tr>\n",
       "    <tr>\n",
       "      <th>20</th>\n",
       "      <td>DHARAWAD</td>\n",
       "      <td>21178.0</td>\n",
       "      <td>1506.608212</td>\n",
       "      <td>36152</td>\n",
       "      <td>575.986142</td>\n",
       "      <td>2981.779212</td>\n",
       "      <td>0.040304</td>\n",
       "      <td>Dharwad</td>\n",
       "      <td>DWD</td>\n",
       "    </tr>\n",
       "    <tr>\n",
       "      <th>21</th>\n",
       "      <td>GADAG</td>\n",
       "      <td>31332.0</td>\n",
       "      <td>1265.091872</td>\n",
       "      <td>41174</td>\n",
       "      <td>1518.327616</td>\n",
       "      <td>14077.244590</td>\n",
       "      <td>0.054342</td>\n",
       "      <td>Gadag</td>\n",
       "      <td>GDG</td>\n",
       "    </tr>\n",
       "    <tr>\n",
       "      <th>22</th>\n",
       "      <td>HAVERI</td>\n",
       "      <td>18309.0</td>\n",
       "      <td>962.245499</td>\n",
       "      <td>17789</td>\n",
       "      <td>232.267686</td>\n",
       "      <td>3770.582401</td>\n",
       "      <td>0.014804</td>\n",
       "      <td>Haveri</td>\n",
       "      <td>HVR</td>\n",
       "    </tr>\n",
       "    <tr>\n",
       "      <th>23</th>\n",
       "      <td>UTTARA KANNADA</td>\n",
       "      <td>3825.0</td>\n",
       "      <td>162.860526</td>\n",
       "      <td>1950</td>\n",
       "      <td>49.317519</td>\n",
       "      <td>50.859356</td>\n",
       "      <td>0.010633</td>\n",
       "      <td>Uttara Kannada</td>\n",
       "      <td>UTK</td>\n",
       "    </tr>\n",
       "    <tr>\n",
       "      <th>24</th>\n",
       "      <td>BALLARI</td>\n",
       "      <td>22938.5</td>\n",
       "      <td>1852.839641</td>\n",
       "      <td>49762</td>\n",
       "      <td>721.160542</td>\n",
       "      <td>22723.723301</td>\n",
       "      <td>0.030047</td>\n",
       "      <td>Ballari</td>\n",
       "      <td>BLL</td>\n",
       "    </tr>\n",
       "    <tr>\n",
       "      <th>25</th>\n",
       "      <td>BIDAR</td>\n",
       "      <td>261.0</td>\n",
       "      <td>23.320849</td>\n",
       "      <td>299</td>\n",
       "      <td>4.970978</td>\n",
       "      <td>83.608146</td>\n",
       "      <td>0.000946</td>\n",
       "      <td>Bidar</td>\n",
       "      <td>BDR</td>\n",
       "    </tr>\n",
       "    <tr>\n",
       "      <th>26</th>\n",
       "      <td>KALABURAGI</td>\n",
       "      <td>3114.0</td>\n",
       "      <td>151.238385</td>\n",
       "      <td>3817</td>\n",
       "      <td>45.795271</td>\n",
       "      <td>280.247116</td>\n",
       "      <td>0.002801</td>\n",
       "      <td>Kalaburagi</td>\n",
       "      <td>KLB</td>\n",
       "    </tr>\n",
       "    <tr>\n",
       "      <th>27</th>\n",
       "      <td>YADGIRI</td>\n",
       "      <td>31435.0</td>\n",
       "      <td>4335.013151</td>\n",
       "      <td>38840</td>\n",
       "      <td>469.698763</td>\n",
       "      <td>21985.146627</td>\n",
       "      <td>0.047435</td>\n",
       "      <td>Yadgir</td>\n",
       "      <td>YDR</td>\n",
       "    </tr>\n",
       "    <tr>\n",
       "      <th>28</th>\n",
       "      <td>RAICHUR</td>\n",
       "      <td>26958.0</td>\n",
       "      <td>2294.879709</td>\n",
       "      <td>35960</td>\n",
       "      <td>501.355901</td>\n",
       "      <td>12675.796996</td>\n",
       "      <td>0.019575</td>\n",
       "      <td>Raichur</td>\n",
       "      <td>RCR</td>\n",
       "    </tr>\n",
       "    <tr>\n",
       "      <th>29</th>\n",
       "      <td>KOPPAL</td>\n",
       "      <td>29982.0</td>\n",
       "      <td>1733.114796</td>\n",
       "      <td>22274</td>\n",
       "      <td>384.479472</td>\n",
       "      <td>12890.465433</td>\n",
       "      <td>0.023563</td>\n",
       "      <td>Koppal</td>\n",
       "      <td>KPL</td>\n",
       "    </tr>\n",
       "    <tr>\n",
       "      <th>30</th>\n",
       "      <td>VIJAYANAGARA</td>\n",
       "      <td>22938.5</td>\n",
       "      <td>1852.839641</td>\n",
       "      <td>49762</td>\n",
       "      <td>721.160542</td>\n",
       "      <td>22723.723301</td>\n",
       "      <td>0.030047</td>\n",
       "      <td>Vijayanagara</td>\n",
       "      <td>VNG</td>\n",
       "    </tr>\n",
       "  </tbody>\n",
       "</table>\n",
       "</div>"
      ],
      "text/plain": [
       "            District  Groundnut_Production     TotalNPK  \\\n",
       "0          BENGALURU                  71.0    10.806111   \n",
       "1       BENGALURU(R)                 206.0    14.687376   \n",
       "2         RAMANAGARA                4830.0   102.712727   \n",
       "3        CHITRADURGA               68575.0  2748.901666   \n",
       "4         DAVANAGERE               16592.0   718.500139   \n",
       "5              KOLAR                5810.0   729.248826   \n",
       "6    CHIKKABALLAPURA                7132.0   554.173035   \n",
       "7         SHIVAMOGGA                 248.0    11.416511   \n",
       "8           TUMAKURU               39626.0  1627.466413   \n",
       "9     CHIKKAMAGALURU                3909.0   519.663897   \n",
       "10  DAKSHINA KANNADA                   0.0     0.000000   \n",
       "11             UDUPI                3623.0    76.610263   \n",
       "12            HASSAN                 521.0    26.584241   \n",
       "13            KODAGU                  45.0     8.836338   \n",
       "14            MANDYA                1021.0    76.301428   \n",
       "15            MYSURU                2170.0   109.886472   \n",
       "16    CHAMARAJANAGAR                8867.0   437.077444   \n",
       "17          BELAGAVI               39530.0  3309.632223   \n",
       "18        VIJAYAPURA               27528.0  1267.386271   \n",
       "19          BAGALKOT               25444.0  2319.034334   \n",
       "20          DHARAWAD               21178.0  1506.608212   \n",
       "21             GADAG               31332.0  1265.091872   \n",
       "22            HAVERI               18309.0   962.245499   \n",
       "23    UTTARA KANNADA                3825.0   162.860526   \n",
       "24           BALLARI               22938.5  1852.839641   \n",
       "25             BIDAR                 261.0    23.320849   \n",
       "26        KALABURAGI                3114.0   151.238385   \n",
       "27           YADGIRI               31435.0  4335.013151   \n",
       "28           RAICHUR               26958.0  2294.879709   \n",
       "29            KOPPAL               29982.0  1733.114796   \n",
       "30      VIJAYANAGARA               22938.5  1852.839641   \n",
       "\n",
       "    AreaUnderOilSeeds_GroundNut  MotorVehicles_Tractors  \\\n",
       "0                            72                6.785923   \n",
       "1                           175                0.748134   \n",
       "2                          3307              156.804614   \n",
       "3                         96711             1423.861199   \n",
       "4                         15279              233.171480   \n",
       "5                          8608              553.920188   \n",
       "6                         19535              223.002028   \n",
       "7                           438                3.618217   \n",
       "8                         64771             1131.991030   \n",
       "9                          5851              121.617111   \n",
       "10                            0                0.000000   \n",
       "11                         1819               53.931232   \n",
       "12                          862                8.970448   \n",
       "13                           63                1.474989   \n",
       "14                         1361               14.601824   \n",
       "15                         2387               35.637706   \n",
       "16                        12179               67.665016   \n",
       "17                        37419              853.959841   \n",
       "18                        24779              580.055688   \n",
       "19                        26333              659.436766   \n",
       "20                        36152              575.986142   \n",
       "21                        41174             1518.327616   \n",
       "22                        17789              232.267686   \n",
       "23                         1950               49.317519   \n",
       "24                        49762              721.160542   \n",
       "25                          299                4.970978   \n",
       "26                         3817               45.795271   \n",
       "27                        38840              469.698763   \n",
       "28                        35960              501.355901   \n",
       "29                        22274              384.479472   \n",
       "30                        49762              721.160542   \n",
       "\n",
       "    LivestockCensus_2012_Sheep  Groundnut_Ratio      KDG_District Abbreviation  \n",
       "0                    35.835866         0.000464   Bengaluru Urban          BLR  \n",
       "1                    95.228861         0.000763   Bengaluru Rural       BLR(R)  \n",
       "2                  2102.339270         0.013746        Ramanagara          RGA  \n",
       "3                 72011.816530         0.076605       Chitradurga          CDA  \n",
       "4                  2474.543782         0.007211        Davanagere          DVG  \n",
       "5                 14627.699531         0.032864             Kolar          KLR  \n",
       "6                  8455.960947         0.019543   Chikkaballapura          CKA  \n",
       "7                     7.419754         0.000202        Shivamogga          SMG  \n",
       "8                 45278.361329         0.042662          Tumakuru          TKR  \n",
       "9                   699.225642         0.007658    Chikkamagaluru          CMG  \n",
       "10                    0.000000         0.000000  Dakshina Kannada          DKA  \n",
       "11                    0.872270         0.012461             Udupi          UPI  \n",
       "12                   62.423299         0.000388            Hassan          HSN  \n",
       "13                    0.302335         0.000216            Kodagu          KDG  \n",
       "14                  430.625919         0.001260            Mandya          MDY  \n",
       "15                  386.962906         0.001772            Mysuru          MYS  \n",
       "16                 2359.241323         0.018362   Chamarajanagara          CNR  \n",
       "17                14506.560516         0.018388          Belagavi          BLG  \n",
       "18                 7228.271206         0.023371        Vijayapura          VJP  \n",
       "19                20058.996218         0.027343         Bagalkote          BKT  \n",
       "20                 2981.779212         0.040304           Dharwad          DWD  \n",
       "21                14077.244590         0.054342             Gadag          GDG  \n",
       "22                 3770.582401         0.014804            Haveri          HVR  \n",
       "23                   50.859356         0.010633    Uttara Kannada          UTK  \n",
       "24                22723.723301         0.030047           Ballari          BLL  \n",
       "25                   83.608146         0.000946             Bidar          BDR  \n",
       "26                  280.247116         0.002801        Kalaburagi          KLB  \n",
       "27                21985.146627         0.047435            Yadgir          YDR  \n",
       "28                12675.796996         0.019575           Raichur          RCR  \n",
       "29                12890.465433         0.023563            Koppal          KPL  \n",
       "30                22723.723301         0.030047      Vijayanagara          VNG  "
      ]
     },
     "execution_count": 120,
     "metadata": {},
     "output_type": "execute_result"
    }
   ],
   "source": [
    "Groundnut_Directory"
   ]
  },
  {
   "cell_type": "code",
   "execution_count": 121,
   "metadata": {},
   "outputs": [
    {
     "data": {
      "image/png": "[encoded data removed]",
      "text/plain": [
       "<Figure size 1008x648 with 1 Axes>"
      ]
     },
     "metadata": {
      "needs_background": "light"
     },
     "output_type": "display_data"
    }
   ],
   "source": [
    "import matplotlib.pyplot as plt\n",
    "import numpy as np\n",
    "\n",
    "def calculate_and_visualize(perturbation, crop, Working_Directory, what,plot = True):\n",
    "    # Mapping of factor names based on 'what'\n",
    "    factor_mapping = {\n",
    "        'NPK': 'TotalNPK',\n",
    "        'GArea': 'AreaUnderOilSeeds_GroundNut',\n",
    "        'Sheep': 'LivestockCensus_2012_Sheep',\n",
    "        'Tractors': 'MotorVehicles_Tractors'\n",
    "    }\n",
    "    \n",
    "    # Dynamically select the correct factor and slope column based on 'what'\n",
    "    factor_name = factor_mapping[what]\n",
    "    production_col = f'{crop}_Production'\n",
    "    slope = get_slope(what,crop)\n",
    "\n",
    "    # Calculate the factor\n",
    "    factor = Working_Directory[factor_name]\n",
    "    \n",
    "    # Initialize an empty list for new values\n",
    "    New_values = []\n",
    "    \n",
    "    # Calculate new values based on the provided formula\n",
    "    for i in range(len(Working_Directory['District'])):\n",
    "        y_new = Working_Directory[production_col][i] + slope * (perturbation * factor[i] / 100)\n",
    "        New_values.append(int(y_new))\n",
    "    \n",
    "    # Add the new values to the DataFrame with a specific column name\n",
    "    Working_Directory[f'{crop[0].upper()} - {what} {perturbation}'] = New_values\n",
    "    Working_Directory['Change'] =  (New_values - Working_Directory[production_col])\n",
    "    Working_Directory['Percentage Change'] =  ((New_values - Working_Directory[production_col])/Working_Directory[production_col])*100\n",
    "    Working_Directory = Working_Directory.replace([np.inf, -np.inf], np.nan).dropna(subset=['Percentage Change'])\n",
    "    \n",
    "    # Visualization\n",
    "    if(plot == True):\n",
    "        plt.figure(figsize=(14, 9))\n",
    "        bars = plt.bar(Working_Directory['District'], \n",
    "                    Working_Directory['Percentage Change'])\n",
    "        \n",
    "        # Add value labels to the bars\n",
    "        for bar, value in zip(bars, Working_Directory['Percentage Change']):\n",
    "            plt.text(bar.get_x() + bar.get_width() / 2, \n",
    "                    bar.get_height(), \n",
    "                    f'{value:.1f}', \n",
    "                    ha='center', \n",
    "                    va='bottom', \n",
    "                    fontsize=10)\n",
    "        \n",
    "        plt.xlabel('District')\n",
    "        plt.ylabel(f'Percentage Change in {crop} Production')\n",
    "        plt.title(f'Percentage Change in {crop} Production Values when {what} increases by {perturbation}%')\n",
    "        plt.xticks(rotation=90)\n",
    "        plt.tight_layout()\n",
    "        plt.show()\n",
    "\n",
    "# Example usage:\n",
    "perturbation = 10\n",
    "what = 'NPK'  # Factor to be used\n",
    "crop = 'Groundnut'  # Or 'Maize'\n",
    "\n",
    "# Assuming Working_Directory is a DataFrame that has all necessary columns defined\n",
    "calculate_and_visualize(perturbation, crop, Groundnut_Directory, what,plot = True)\n"
   ]
  },
  {
   "cell_type": "code",
   "execution_count": 122,
   "metadata": {},
   "outputs": [
    {
     "name": "stdout",
     "output_type": "stream",
     "text": [
      "    1   2   3   4   5   6   7   8   9   10  ...  22  23  24  25  26  27  28  \\\n",
      "1    0   1   1   0   0   0   0   0   0   0  ...   0   0   0   0   0   0   0   \n",
      "2    1   0   1   0   0   1   1   0   1   0  ...   0   0   0   0   0   0   0   \n",
      "3    1   1   0   0   0   0   0   0   1   0  ...   0   0   0   0   0   0   0   \n",
      "4    0   0   0   0   1   0   0   0   1   1  ...   0   0   0   1   0   0   0   \n",
      "5    0   0   0   1   0   0   0   1   0   1  ...   0   1   0   1   0   0   0   \n",
      "6    0   1   0   0   0   0   1   0   0   0  ...   0   0   0   0   0   0   0   \n",
      "7    0   1   0   0   0   1   0   0   1   0  ...   0   0   0   0   0   0   0   \n",
      "8    0   0   0   0   1   0   0   0   0   1  ...   0   1   1   0   0   0   0   \n",
      "9    0   1   1   1   0   0   1   0   0   1  ...   0   0   0   0   0   0   0   \n",
      "10   0   0   0   1   1   0   0   1   1   0  ...   0   0   0   0   0   0   0   \n",
      "11   0   0   0   0   0   0   0   0   0   1  ...   0   0   0   0   0   0   0   \n",
      "12   0   0   0   0   0   0   0   1   0   1  ...   0   0   1   0   0   0   0   \n",
      "13   0   0   0   0   0   0   0   0   1   1  ...   0   0   0   0   0   0   0   \n",
      "14   0   0   0   0   0   0   0   0   0   0  ...   0   0   0   0   0   0   0   \n",
      "15   0   0   1   0   0   0   0   0   1   0  ...   0   0   0   0   0   0   0   \n",
      "16   0   0   0   0   0   0   0   0   0   0  ...   0   0   0   0   0   0   0   \n",
      "17   0   0   1   0   0   0   0   0   0   0  ...   0   0   0   0   0   0   0   \n",
      "18   0   0   0   0   0   0   0   0   0   0  ...   1   0   1   0   0   0   0   \n",
      "19   0   0   0   0   0   0   0   0   0   0  ...   0   0   0   0   0   1   1   \n",
      "20   0   0   0   0   0   0   0   0   0   0  ...   1   0   0   0   0   0   0   \n",
      "21   0   0   0   0   0   0   0   0   0   0  ...   1   1   1   0   0   0   0   \n",
      "22   0   0   0   0   0   0   0   0   0   0  ...   0   1   0   1   0   0   0   \n",
      "23   0   0   0   0   1   0   0   1   0   0  ...   1   0   1   1   0   0   0   \n",
      "24   0   0   0   0   0   0   0   1   0   0  ...   0   1   0   0   0   0   0   \n",
      "25   0   0   0   1   1   0   0   0   0   0  ...   1   1   0   0   0   0   0   \n",
      "26   0   0   0   0   0   0   0   0   0   0  ...   0   0   0   0   0   1   0   \n",
      "27   0   0   0   0   0   0   0   0   0   0  ...   0   0   0   0   1   0   1   \n",
      "28   0   0   0   0   0   0   0   0   0   0  ...   0   0   0   0   0   1   0   \n",
      "29   0   0   0   0   0   0   0   0   0   0  ...   0   0   0   1   0   0   1   \n",
      "30   0   0   0   0   0   0   0   0   0   0  ...   1   0   0   1   0   0   0   \n",
      "31   0   0   0   1   1   0   0   0   0   0  ...   1   1   0   1   0   0   0   \n",
      "\n",
      "    29  30  31  \n",
      "1    0   0   0  \n",
      "2    0   0   0  \n",
      "3    0   0   0  \n",
      "4    0   0   1  \n",
      "5    0   0   1  \n",
      "6    0   0   0  \n",
      "7    0   0   0  \n",
      "8    0   0   0  \n",
      "9    0   0   0  \n",
      "10   0   0   0  \n",
      "11   0   0   0  \n",
      "12   0   0   0  \n",
      "13   0   0   0  \n",
      "14   0   0   0  \n",
      "15   0   0   0  \n",
      "16   0   0   0  \n",
      "17   0   0   0  \n",
      "18   0   0   0  \n",
      "19   1   0   0  \n",
      "20   1   1   0  \n",
      "21   0   0   0  \n",
      "22   0   1   1  \n",
      "23   0   0   1  \n",
      "24   0   0   0  \n",
      "25   1   1   1  \n",
      "26   0   0   0  \n",
      "27   0   0   0  \n",
      "28   1   0   0  \n",
      "29   0   1   0  \n",
      "30   1   0   1  \n",
      "31   0   1   0  \n",
      "\n",
      "[31 rows x 31 columns]\n"
     ]
    }
   ],
   "source": [
    "import pandas as pd\n",
    "import numpy as np\n",
    "\n",
    "adjacency_excel = pd.read_excel('Karnataka_District_Adjacency_File.xlsx')\n",
    "\n",
    "district_codes = sorted(set(adjacency_excel['District_Code']))\n",
    "\n",
    "n = len(district_codes)\n",
    "adj_matrix = np.zeros((n, n), dtype=int)\n",
    "\n",
    "code_to_index = {code: idx for idx, code in enumerate(district_codes)}\n",
    "\n",
    "for i in range(len(adjacency_excel)):\n",
    "    district_code = adjacency_excel['District_Code'][i]\n",
    "    neighbors = [int(num) for num in str(adjacency_excel['District_Neighbors'][i]).split(',') if num.strip().isdigit()]\n",
    "    \n",
    "    for neighbor in neighbors:\n",
    "        adj_matrix[code_to_index[district_code]][code_to_index[neighbor]] = 1\n",
    "        adj_matrix[code_to_index[neighbor]][code_to_index[district_code]] = 1  # Assuming adjacency is bidirectional\n",
    "\n",
    "adj_matrix_df = pd.DataFrame(adj_matrix, index=district_codes, columns=district_codes)\n",
    "\n",
    "print(adj_matrix_df)\n",
    "\n",
    "adj_matrix_np = adj_matrix_df.to_numpy()"
   ]
  },
  {
   "cell_type": "code",
   "execution_count": 123,
   "metadata": {},
   "outputs": [],
   "source": [
    "def normalize_list(lst):\n",
    "    min_val = min(lst)\n",
    "    max_val = max(lst)\n",
    "    normalized_lst = [(x - min_val) / (max_val - min_val) for x in lst]\n",
    "    return normalized_lst\n",
    "\n",
    "Name = 'M - NPK 20'\n",
    "Capability_list = normalize_list(Maize_Directory[f'{Name}'])\n",
    "\n",
    "# Name = 'G - NPK 10'\n",
    "# Capability_list = normalize_list(Groundnut_Directory[f'{Name}'])\n",
    "# Capability_list"
   ]
  },
  {
   "cell_type": "code",
   "execution_count": 124,
   "metadata": {},
   "outputs": [
    {
     "name": "stdout",
     "output_type": "stream",
     "text": [
      "Stress values: [0.03952756 0.00928297 0.07692016 0.13621648 0.65288207 0.12410563\n",
      " 0.11949462 0.01100326 0.09293079 0.24247953 0.17643585 0.13204383\n",
      " 0.47212366 0.22794019 0.19926982 0.0109393  0.15379242 0.75190559\n",
      " 0.08256833 0.05432085 0.33547264 0.19505494 0.38661598 0.40512738\n",
      " 0.22850506 0.01953205 0.10440725 0.12919985 0.26314114 0.11479802\n",
      " 0.2963513 ]\n",
      "Stability values: [0.96047244 0.99071703 0.92307984 0.86378352 0.34711793 0.87589437\n",
      " 0.88050538 0.98899674 0.90706921 0.75752047 0.82356415 0.86795617\n",
      " 0.52787634 0.77205981 0.80073018 0.9890607  0.84620758 0.24809441\n",
      " 0.91743167 0.94567915 0.66452736 0.80494506 0.61338402 0.59487262\n",
      " 0.77149494 0.98046795 0.89559275 0.87080015 0.73685886 0.88520198\n",
      " 0.7036487 ]\n"
     ]
    }
   ],
   "source": [
    "import numpy as np\n",
    "\n",
    "def calculate_avg_capability(capability, neighbors):\n",
    "    num_neighbors = len(neighbors)\n",
    "    if num_neighbors == 0:\n",
    "        return 0\n",
    "    sum_capabilities = sum(capability[n] for n in neighbors)\n",
    "    return sum_capabilities / num_neighbors\n",
    "\n",
    "def calculate_stress_stability(capability, adjacency_matrix):\n",
    "    n = len(capability)\n",
    "    stress = np.zeros(n)\n",
    "    stability = np.zeros(n)\n",
    "    \n",
    "    for i in range(n):\n",
    "        neighbors = [j for j in range(n) if adjacency_matrix[i][j] == 1 and i != j]\n",
    "        if len(neighbors) > 0:\n",
    "            avg_capability = calculate_avg_capability(capability, neighbors)\n",
    "            stress[i] = abs(avg_capability - capability[i])\n",
    "            stability[i] = 1 - stress[i]\n",
    "        else:\n",
    "            stress[i] = 0  # If no neighbors, stress is zero\n",
    "            stability[i] = 1\n",
    "        \n",
    "    return stress, stability\n",
    "\n",
    "Name = 'M - NPK 20'\n",
    "\n",
    "Capability_list = normalize_list(Maize_Directory[f'{Name}'])\n",
    "stress, stability = calculate_stress_stability(Capability_list, adj_matrix_np)\n",
    "\n",
    "print(\"Stress values:\", stress)\n",
    "print(\"Stability values:\", stability)"
   ]
  },
  {
   "cell_type": "code",
   "execution_count": 125,
   "metadata": {},
   "outputs": [],
   "source": [
    "# Combined calculation function\n",
    "def calculate_metrics(Working_Directory, crop, perturbation, what):\n",
    "    # Normalize the capability list\n",
    "    capability_name = f'{crop[0].upper()} - {what} {perturbation}'\n",
    "    Capability_list = normalize_list(Working_Directory[capability_name])\n",
    "    \n",
    "    def calculate_avg_capability(capability, neighbors):\n",
    "        num_neighbors = len(neighbors)\n",
    "        if num_neighbors == 0:\n",
    "            return 0\n",
    "        return sum(capability[n] for n in neighbors) / num_neighbors\n",
    "\n",
    "    def calculate_stress_stability(capability, adjacency_matrix):\n",
    "        n = len(capability)\n",
    "        stress = np.zeros(n)\n",
    "        stability = np.zeros(n)\n",
    "        for i in range(n):\n",
    "            neighbors = [j for j in range(n) if adjacency_matrix[i][j] == 1 and i != j]\n",
    "            if len(neighbors) > 0:\n",
    "                avg_capability = calculate_avg_capability(capability, neighbors)\n",
    "                stress[i] = abs(avg_capability - capability[i])\n",
    "                stability[i] = 1 - stress[i]\n",
    "            else:\n",
    "                stress[i] = 0\n",
    "                stability[i] = 1\n",
    "        return stress, stability\n",
    "\n",
    "    # Calculate stress and stability\n",
    "    stress, stability = calculate_stress_stability(Capability_list, adj_matrix_np)\n",
    "    \n",
    "    # Calculate the impact as percentage change\n",
    "    original_production = Working_Directory[f'{crop}_Production']\n",
    "    new_production = Working_Directory[capability_name]\n",
    "    impact = ((new_production - original_production) / original_production) * 100\n",
    "\n",
    "    # Column names\n",
    "    stability_column_name = f'Stability_{crop[0].upper()}_{what}_{perturbation}'\n",
    "    stress_column_name = f'Stress_{crop[0].upper()}_{what}_{perturbation}'\n",
    "    impact_column_name = f'Impact_{crop[0].upper()}_{what}_{perturbation}'\n",
    "\n",
    "    return stability, stress, impact, stability_column_name, stress_column_name, impact_column_name"
   ]
  },
  {
   "cell_type": "code",
   "execution_count": 126,
   "metadata": {},
   "outputs": [],
   "source": [
    "# Impact calculation function\n",
    "def calculate_impact(Working_Directory, crop, perturbation, what):\n",
    "    # Normalize the capability list\n",
    "    capability_name = f'{crop[0].upper()} - {what} {perturbation}'\n",
    "\n",
    "    # Calculate the impact as percentage change\n",
    "    original_production = Working_Directory[f'{crop}_Production']\n",
    "    new_production = Working_Directory[capability_name]\n",
    "    impact = ((new_production - original_production) / original_production) * 100\n",
    "\n",
    "    # Column names\n",
    "    impact_column_name = f'Impact_{crop[0].upper()}_{what}_{perturbation}'\n",
    "\n",
    "    return impact, impact_column_name\n"
   ]
  },
  {
   "cell_type": "code",
   "execution_count": 127,
   "metadata": {},
   "outputs": [],
   "source": [
    "# Combined calculation function\n",
    "def calculate_Change_Impact(Working_Directory, crop, perturbation, what):\n",
    "    # Normalize the capability list\n",
    "    capability_name = f'{crop[0].upper()} - {what} {perturbation}'\n",
    "    \n",
    "    # Calculate the impact as percentage change\n",
    "    original_production = Working_Directory[f'{crop}_Production']\n",
    "    new_production = Working_Directory[capability_name]\n",
    "    change = (new_production - original_production) \n",
    "    impact = ((new_production - original_production) / original_production) * 100\n",
    "\n",
    "    return change,impact,new_production"
   ]
  },
  {
   "cell_type": "code",
   "execution_count": 128,
   "metadata": {},
   "outputs": [
    {
     "data": {
      "application/vnd.plotly.v1+json": {
       "config": {
        "plotlyServerURL": "https://plot.ly"
       },
       "data": [
        {
         "hovertemplate": "<b>%{hovertext}</b><br><br>variable=Groundnut<br>Stability=%{x}<br>value=%{y}<extra></extra>",
         "hovertext": [
          "BENGALURU",
          "BENGALURU(R)",
          "RAMANAGARA",
          "CHITRADURGA",
          "DAVANAGERE",
          "KOLAR",
          "CHIKKABALLAPURA",
          "SHIVAMOGGA",
          "TUMAKURU",
          "CHIKKAMAGALURU",
          "DAKSHINA KANNADA",
          "UDUPI",
          "HASSAN",
          "KODAGU",
          "MANDYA",
          "MYSURU",
          "CHAMARAJANAGAR",
          "BELAGAVI",
          "VIJAYAPURA",
          "BAGALKOT",
          "DHARAWAD",
          "GADAG",
          "HAVERI",
          "UTTARA KANNADA",
          "BALLARI",
          "BIDAR",
          "KALABURAGI",
          "YADGIRI",
          "RAICHUR",
          "KOPPAL",
          "VIJAYANAGARA"
         ],
         "legendgroup": "Groundnut",
         "marker": {
          "color": "#636efa",
          "symbol": "circle"
         },
         "mode": "markers",
         "name": "Groundnut",
         "orientation": "v",
         "showlegend": true,
         "type": "scatter",
         "x": [
          0.9471546575318599,
          0.8334743679014446,
          0.8916607870269553,
          0.3013425757052479,
          0.3402272298793382,
          0.8709059777214214,
          0.8329059676605256,
          0.8668504512086758,
          0.5915356495933974,
          0.6806570225706106,
          0.8209577457620489,
          0.8661717628327409,
          0.5159142128972629,
          0.771719774534968,
          0.7516696316238347,
          0.9872299459861256,
          0.8210796776997652,
          0.19997583978306221,
          0.9157316311521891,
          0.9072949666057523,
          0.6633426872435775,
          0.7925875056589303,
          0.6129989949301812,
          0.5516907407508259,
          0.7478489288642841,
          0.9538808533800817,
          0.7242776138264263,
          0.7536154780697685,
          0.7367596158852259,
          0.8726948402165172,
          0.6824621347572125
         ],
         "xaxis": "x",
         "y": [
          12.676056338028168,
          5.825242718446602,
          1.8012422360248446,
          3.4210718191760843,
          3.694551591128255,
          10.705679862306368,
          6.6320807627593945,
          3.6290322580645165,
          3.5052743148437893,
          11.332821693527755,
          null,
          1.7940932928512283,
          4.222648752399232,
          15.555555555555555,
          6.366307541625857,
          4.285714285714286,
          4.206608774106237,
          7.146471034657223,
          3.9269107817494917,
          7.77786511554787,
          6.072339219945226,
          3.4469551895825354,
          4.484133486263586,
          3.633986928104575,
          6.894522309654075,
          7.2796934865900385,
          4.142581888246628,
          11.770319707332591,
          7.26685955931449,
          4.932959775865519,
          6.894522309654075
         ],
         "yaxis": "y"
        },
        {
         "hovertemplate": "<b>%{hovertext}</b><br><br>variable=Maize<br>Stability=%{x}<br>value=%{y}<extra></extra>",
         "hovertext": [
          "BENGALURU",
          "BENGALURU(R)",
          "RAMANAGARA",
          "CHITRADURGA",
          "DAVANAGERE",
          "KOLAR",
          "CHIKKABALLAPURA",
          "SHIVAMOGGA",
          "TUMAKURU",
          "CHIKKAMAGALURU",
          "DAKSHINA KANNADA",
          "UDUPI",
          "HASSAN",
          "KODAGU",
          "MANDYA",
          "MYSURU",
          "CHAMARAJANAGAR",
          "BELAGAVI",
          "VIJAYAPURA",
          "BAGALKOT",
          "DHARAWAD",
          "GADAG",
          "HAVERI",
          "UTTARA KANNADA",
          "BALLARI",
          "BIDAR",
          "KALABURAGI",
          "YADGIRI",
          "RAICHUR",
          "KOPPAL",
          "VIJAYANAGARA"
         ],
         "legendgroup": "Maize",
         "marker": {
          "color": "#EF553B",
          "symbol": "circle"
         },
         "mode": "markers",
         "name": "Maize",
         "orientation": "v",
         "showlegend": true,
         "type": "scatter",
         "x": [
          0.9471546575318599,
          0.8334743679014446,
          0.8916607870269553,
          0.3013425757052479,
          0.3402272298793382,
          0.8709059777214214,
          0.8329059676605256,
          0.8668504512086758,
          0.5915356495933974,
          0.6806570225706106,
          0.8209577457620489,
          0.8661717628327409,
          0.5159142128972629,
          0.771719774534968,
          0.7516696316238347,
          0.9872299459861256,
          0.8210796776997652,
          0.19997583978306221,
          0.9157316311521891,
          0.9072949666057523,
          0.6633426872435775,
          0.7925875056589303,
          0.6129989949301812,
          0.5516907407508259,
          0.7478489288642841,
          0.9538808533800817,
          0.7242776138264263,
          0.7536154780697685,
          0.7367596158852259,
          0.8726948402165172,
          0.6824621347572125
         ],
         "xaxis": "x",
         "y": [
          17.783952761375478,
          8.341356879505907,
          2.488038277511962,
          4.690872322823789,
          5.06752658606607,
          14.667424673109721,
          9.09271881013546,
          5.386876909222538,
          4.804988933421068,
          15.555881537985103,
          null,
          1.834862385321101,
          5.971186181824716,
          22.978628424753083,
          8.742972094702637,
          5.925456056695393,
          5.767956398847761,
          9.797696780972261,
          5.387337790011797,
          10.665517145479322,
          8.324690513493833,
          4.725006499321182,
          6.150132894141775,
          4.981733643307871,
          9.451679561728099,
          10.426370476531709,
          5.676766295055058,
          16.1242050130939,
          9.95850622406639,
          6.7641864474486475,
          9.451679561728099
         ],
         "yaxis": "y"
        }
       ],
       "layout": {
        "annotations": [
         {
          "font": {
           "color": "blue"
          },
          "showarrow": false,
          "text": "Avg Stability: 0.74",
          "x": 0.7356973957825889,
          "y": 22.978628424753083
         },
         {
          "font": {
           "color": "red"
          },
          "showarrow": false,
          "text": "Avg Impact: 7.37%",
          "x": 0.9872299459861256,
          "y": 7.371838511145798
         }
        ],
        "height": 600,
        "legend": {
         "title": {
          "text": "Legend"
         },
         "tracegroupgap": 0
        },
        "shapes": [
         {
          "line": {
           "color": "red",
           "dash": "dash",
           "width": 2
          },
          "type": "line",
          "x0": 0.19997583978306221,
          "x1": 0.9872299459861256,
          "y0": 7.371838511145798,
          "y1": 7.371838511145798
         },
         {
          "line": {
           "color": "blue",
           "dash": "dash",
           "width": 2
          },
          "type": "line",
          "x0": 0.7356973957825889,
          "x1": 0.7356973957825889,
          "y0": 1.7940932928512283,
          "y1": 22.978628424753083
         }
        ],
        "template": {
         "data": {
          "bar": [
           {
            "error_x": {
             "color": "#2a3f5f"
            },
            "error_y": {
             "color": "#2a3f5f"
            },
            "marker": {
             "line": {
              "color": "#E5ECF6",
              "width": 0.5
             },
             "pattern": {
              "fillmode": "overlay",
              "size": 10,
              "solidity": 0.2
             }
            },
            "type": "bar"
           }
          ],
          "barpolar": [
           {
            "marker": {
             "line": {
              "color": "#E5ECF6",
              "width": 0.5
             },
             "pattern": {
              "fillmode": "overlay",
              "size": 10,
              "solidity": 0.2
             }
            },
            "type": "barpolar"
           }
          ],
          "carpet": [
           {
            "aaxis": {
             "endlinecolor": "#2a3f5f",
             "gridcolor": "white",
             "linecolor": "white",
             "minorgridcolor": "white",
             "startlinecolor": "#2a3f5f"
            },
            "baxis": {
             "endlinecolor": "#2a3f5f",
             "gridcolor": "white",
             "linecolor": "white",
             "minorgridcolor": "white",
             "startlinecolor": "#2a3f5f"
            },
            "type": "carpet"
           }
          ],
          "choropleth": [
           {
            "colorbar": {
             "outlinewidth": 0,
             "ticks": ""
            },
            "type": "choropleth"
           }
          ],
          "contour": [
           {
            "colorbar": {
             "outlinewidth": 0,
             "ticks": ""
            },
            "colorscale": [
             [
              0,
              "#0d0887"
             ],
             [
              0.1111111111111111,
              "#46039f"
             ],
             [
              0.2222222222222222,
              "#7201a8"
             ],
             [
              0.3333333333333333,
              "#9c179e"
             ],
             [
              0.4444444444444444,
              "#bd3786"
             ],
             [
              0.5555555555555556,
              "#d8576b"
             ],
             [
              0.6666666666666666,
              "#ed7953"
             ],
             [
              0.7777777777777778,
              "#fb9f3a"
             ],
             [
              0.8888888888888888,
              "#fdca26"
             ],
             [
              1,
              "#f0f921"
             ]
            ],
            "type": "contour"
           }
          ],
          "contourcarpet": [
           {
            "colorbar": {
             "outlinewidth": 0,
             "ticks": ""
            },
            "type": "contourcarpet"
           }
          ],
          "heatmap": [
           {
            "colorbar": {
             "outlinewidth": 0,
             "ticks": ""
            },
            "colorscale": [
             [
              0,
              "#0d0887"
             ],
             [
              0.1111111111111111,
              "#46039f"
             ],
             [
              0.2222222222222222,
              "#7201a8"
             ],
             [
              0.3333333333333333,
              "#9c179e"
             ],
             [
              0.4444444444444444,
              "#bd3786"
             ],
             [
              0.5555555555555556,
              "#d8576b"
             ],
             [
              0.6666666666666666,
              "#ed7953"
             ],
             [
              0.7777777777777778,
              "#fb9f3a"
             ],
             [
              0.8888888888888888,
              "#fdca26"
             ],
             [
              1,
              "#f0f921"
             ]
            ],
            "type": "heatmap"
           }
          ],
          "heatmapgl": [
           {
            "colorbar": {
             "outlinewidth": 0,
             "ticks": ""
            },
            "colorscale": [
             [
              0,
              "#0d0887"
             ],
             [
              0.1111111111111111,
              "#46039f"
             ],
             [
              0.2222222222222222,
              "#7201a8"
             ],
             [
              0.3333333333333333,
              "#9c179e"
             ],
             [
              0.4444444444444444,
              "#bd3786"
             ],
             [
              0.5555555555555556,
              "#d8576b"
             ],
             [
              0.6666666666666666,
              "#ed7953"
             ],
             [
              0.7777777777777778,
              "#fb9f3a"
             ],
             [
              0.8888888888888888,
              "#fdca26"
             ],
             [
              1,
              "#f0f921"
             ]
            ],
            "type": "heatmapgl"
           }
          ],
          "histogram": [
           {
            "marker": {
             "pattern": {
              "fillmode": "overlay",
              "size": 10,
              "solidity": 0.2
             }
            },
            "type": "histogram"
           }
          ],
          "histogram2d": [
           {
            "colorbar": {
             "outlinewidth": 0,
             "ticks": ""
            },
            "colorscale": [
             [
              0,
              "#0d0887"
             ],
             [
              0.1111111111111111,
              "#46039f"
             ],
             [
              0.2222222222222222,
              "#7201a8"
             ],
             [
              0.3333333333333333,
              "#9c179e"
             ],
             [
              0.4444444444444444,
              "#bd3786"
             ],
             [
              0.5555555555555556,
              "#d8576b"
             ],
             [
              0.6666666666666666,
              "#ed7953"
             ],
             [
              0.7777777777777778,
              "#fb9f3a"
             ],
             [
              0.8888888888888888,
              "#fdca26"
             ],
             [
              1,
              "#f0f921"
             ]
            ],
            "type": "histogram2d"
           }
          ],
          "histogram2dcontour": [
           {
            "colorbar": {
             "outlinewidth": 0,
             "ticks": ""
            },
            "colorscale": [
             [
              0,
              "#0d0887"
             ],
             [
              0.1111111111111111,
              "#46039f"
             ],
             [
              0.2222222222222222,
              "#7201a8"
             ],
             [
              0.3333333333333333,
              "#9c179e"
             ],
             [
              0.4444444444444444,
              "#bd3786"
             ],
             [
              0.5555555555555556,
              "#d8576b"
             ],
             [
              0.6666666666666666,
              "#ed7953"
             ],
             [
              0.7777777777777778,
              "#fb9f3a"
             ],
             [
              0.8888888888888888,
              "#fdca26"
             ],
             [
              1,
              "#f0f921"
             ]
            ],
            "type": "histogram2dcontour"
           }
          ],
          "mesh3d": [
           {
            "colorbar": {
             "outlinewidth": 0,
             "ticks": ""
            },
            "type": "mesh3d"
           }
          ],
          "parcoords": [
           {
            "line": {
             "colorbar": {
              "outlinewidth": 0,
              "ticks": ""
             }
            },
            "type": "parcoords"
           }
          ],
          "pie": [
           {
            "automargin": true,
            "type": "pie"
           }
          ],
          "scatter": [
           {
            "fillpattern": {
             "fillmode": "overlay",
             "size": 10,
             "solidity": 0.2
            },
            "type": "scatter"
           }
          ],
          "scatter3d": [
           {
            "line": {
             "colorbar": {
              "outlinewidth": 0,
              "ticks": ""
             }
            },
            "marker": {
             "colorbar": {
              "outlinewidth": 0,
              "ticks": ""
             }
            },
            "type": "scatter3d"
           }
          ],
          "scattercarpet": [
           {
            "marker": {
             "colorbar": {
              "outlinewidth": 0,
              "ticks": ""
             }
            },
            "type": "scattercarpet"
           }
          ],
          "scattergeo": [
           {
            "marker": {
             "colorbar": {
              "outlinewidth": 0,
              "ticks": ""
             }
            },
            "type": "scattergeo"
           }
          ],
          "scattergl": [
           {
            "marker": {
             "colorbar": {
              "outlinewidth": 0,
              "ticks": ""
             }
            },
            "type": "scattergl"
           }
          ],
          "scattermapbox": [
           {
            "marker": {
             "colorbar": {
              "outlinewidth": 0,
              "ticks": ""
             }
            },
            "type": "scattermapbox"
           }
          ],
          "scatterpolar": [
           {
            "marker": {
             "colorbar": {
              "outlinewidth": 0,
              "ticks": ""
             }
            },
            "type": "scatterpolar"
           }
          ],
          "scatterpolargl": [
           {
            "marker": {
             "colorbar": {
              "outlinewidth": 0,
              "ticks": ""
             }
            },
            "type": "scatterpolargl"
           }
          ],
          "scatterternary": [
           {
            "marker": {
             "colorbar": {
              "outlinewidth": 0,
              "ticks": ""
             }
            },
            "type": "scatterternary"
           }
          ],
          "surface": [
           {
            "colorbar": {
             "outlinewidth": 0,
             "ticks": ""
            },
            "colorscale": [
             [
              0,
              "#0d0887"
             ],
             [
              0.1111111111111111,
              "#46039f"
             ],
             [
              0.2222222222222222,
              "#7201a8"
             ],
             [
              0.3333333333333333,
              "#9c179e"
             ],
             [
              0.4444444444444444,
              "#bd3786"
             ],
             [
              0.5555555555555556,
              "#d8576b"
             ],
             [
              0.6666666666666666,
              "#ed7953"
             ],
             [
              0.7777777777777778,
              "#fb9f3a"
             ],
             [
              0.8888888888888888,
              "#fdca26"
             ],
             [
              1,
              "#f0f921"
             ]
            ],
            "type": "surface"
           }
          ],
          "table": [
           {
            "cells": {
             "fill": {
              "color": "#EBF0F8"
             },
             "line": {
              "color": "white"
             }
            },
            "header": {
             "fill": {
              "color": "#C8D4E3"
             },
             "line": {
              "color": "white"
             }
            },
            "type": "table"
           }
          ]
         },
         "layout": {
          "annotationdefaults": {
           "arrowcolor": "#2a3f5f",
           "arrowhead": 0,
           "arrowwidth": 1
          },
          "autotypenumbers": "strict",
          "coloraxis": {
           "colorbar": {
            "outlinewidth": 0,
            "ticks": ""
           }
          },
          "colorscale": {
           "diverging": [
            [
             0,
             "#8e0152"
            ],
            [
             0.1,
             "#c51b7d"
            ],
            [
             0.2,
             "#de77ae"
            ],
            [
             0.3,
             "#f1b6da"
            ],
            [
             0.4,
             "#fde0ef"
            ],
            [
             0.5,
             "#f7f7f7"
            ],
            [
             0.6,
             "#e6f5d0"
            ],
            [
             0.7,
             "#b8e186"
            ],
            [
             0.8,
             "#7fbc41"
            ],
            [
             0.9,
             "#4d9221"
            ],
            [
             1,
             "#276419"
            ]
           ],
           "sequential": [
            [
             0,
             "#0d0887"
            ],
            [
             0.1111111111111111,
             "#46039f"
            ],
            [
             0.2222222222222222,
             "#7201a8"
            ],
            [
             0.3333333333333333,
             "#9c179e"
            ],
            [
             0.4444444444444444,
             "#bd3786"
            ],
            [
             0.5555555555555556,
             "#d8576b"
            ],
            [
             0.6666666666666666,
             "#ed7953"
            ],
            [
             0.7777777777777778,
             "#fb9f3a"
            ],
            [
             0.8888888888888888,
             "#fdca26"
            ],
            [
             1,
             "#f0f921"
            ]
           ],
           "sequentialminus": [
            [
             0,
             "#0d0887"
            ],
            [
             0.1111111111111111,
             "#46039f"
            ],
            [
             0.2222222222222222,
             "#7201a8"
            ],
            [
             0.3333333333333333,
             "#9c179e"
            ],
            [
             0.4444444444444444,
             "#bd3786"
            ],
            [
             0.5555555555555556,
             "#d8576b"
            ],
            [
             0.6666666666666666,
             "#ed7953"
            ],
            [
             0.7777777777777778,
             "#fb9f3a"
            ],
            [
             0.8888888888888888,
             "#fdca26"
            ],
            [
             1,
             "#f0f921"
            ]
           ]
          },
          "colorway": [
           "#636efa",
           "#EF553B",
           "#00cc96",
           "#ab63fa",
           "#FFA15A",
           "#19d3f3",
           "#FF6692",
           "#B6E880",
           "#FF97FF",
           "#FECB52"
          ],
          "font": {
           "color": "#2a3f5f"
          },
          "geo": {
           "bgcolor": "white",
           "lakecolor": "white",
           "landcolor": "#E5ECF6",
           "showlakes": true,
           "showland": true,
           "subunitcolor": "white"
          },
          "hoverlabel": {
           "align": "left"
          },
          "hovermode": "closest",
          "mapbox": {
           "style": "light"
          },
          "paper_bgcolor": "white",
          "plot_bgcolor": "#E5ECF6",
          "polar": {
           "angularaxis": {
            "gridcolor": "white",
            "linecolor": "white",
            "ticks": ""
           },
           "bgcolor": "#E5ECF6",
           "radialaxis": {
            "gridcolor": "white",
            "linecolor": "white",
            "ticks": ""
           }
          },
          "scene": {
           "xaxis": {
            "backgroundcolor": "#E5ECF6",
            "gridcolor": "white",
            "gridwidth": 2,
            "linecolor": "white",
            "showbackground": true,
            "ticks": "",
            "zerolinecolor": "white"
           },
           "yaxis": {
            "backgroundcolor": "#E5ECF6",
            "gridcolor": "white",
            "gridwidth": 2,
            "linecolor": "white",
            "showbackground": true,
            "ticks": "",
            "zerolinecolor": "white"
           },
           "zaxis": {
            "backgroundcolor": "#E5ECF6",
            "gridcolor": "white",
            "gridwidth": 2,
            "linecolor": "white",
            "showbackground": true,
            "ticks": "",
            "zerolinecolor": "white"
           }
          },
          "shapedefaults": {
           "line": {
            "color": "#2a3f5f"
           }
          },
          "ternary": {
           "aaxis": {
            "gridcolor": "white",
            "linecolor": "white",
            "ticks": ""
           },
           "baxis": {
            "gridcolor": "white",
            "linecolor": "white",
            "ticks": ""
           },
           "bgcolor": "#E5ECF6",
           "caxis": {
            "gridcolor": "white",
            "linecolor": "white",
            "ticks": ""
           }
          },
          "title": {
           "x": 0.05
          },
          "xaxis": {
           "automargin": true,
           "gridcolor": "white",
           "linecolor": "white",
           "ticks": "",
           "title": {
            "standoff": 15
           },
           "zerolinecolor": "white",
           "zerolinewidth": 2
          },
          "yaxis": {
           "automargin": true,
           "gridcolor": "white",
           "linecolor": "white",
           "ticks": "",
           "title": {
            "standoff": 15
           },
           "zerolinecolor": "white",
           "zerolinewidth": 2
          }
         }
        },
        "title": {
         "text": "Impact vs Stability for Groundnut and Maize (NPK +20%)"
        },
        "width": 900,
        "xaxis": {
         "anchor": "y",
         "domain": [
          0,
          1
         ],
         "title": {
          "text": "Stability"
         }
        },
        "yaxis": {
         "anchor": "x",
         "domain": [
          0,
          1
         ],
         "title": {
          "text": "Impact"
         }
        }
       }
      }
     },
     "metadata": {},
     "output_type": "display_data"
    }
   ],
   "source": [
    "import plotly.express as px\n",
    "import numpy as np\n",
    "import pandas as pd\n",
    "\n",
    "# Function to calculate stress and stability for a combined capability of two crops\n",
    "def calculate_stress_stability(adj_matrix, df):\n",
    "    df['stress'] = 0.0\n",
    "    df['stability'] = 0.0\n",
    "    capability_columns = df.columns.difference(['node', 'stress', 'stability'])\n",
    "    \n",
    "    for idx, row in df.iterrows():\n",
    "        node = row['node']\n",
    "        node_idx = df.index[df['node'] == node][0]\n",
    "        neighbors_idx = np.where(adj_matrix[node_idx] == 1)[0]\n",
    "        \n",
    "        if len(neighbors_idx) > 0:\n",
    "            neighbor_capabilities = df.iloc[neighbors_idx][capability_columns].values\n",
    "            centroid = np.mean(neighbor_capabilities, axis=0)\n",
    "            node_capabilities = row[capability_columns].values\n",
    "            stress = np.linalg.norm(node_capabilities - centroid)\n",
    "            stability = 1 - stress\n",
    "        else:\n",
    "            stress = 0\n",
    "            stability = 1\n",
    "        \n",
    "        df.at[idx, 'stress'] = stress\n",
    "        df.at[idx, 'stability'] = stability\n",
    "    \n",
    "    return df\n",
    "\n",
    "# Function to calculate impact for a specific crop\n",
    "def calculate_impact( crop, perturbation, what):\n",
    "    if(crop == 'Maize'):\n",
    "        Working_Directory = Maize_Directory\n",
    "    elif(crop == 'Rice'):\n",
    "        Working_Directory = Rice_Directory\n",
    "    else:\n",
    "        Working_Directory = Groundnut_Directory\n",
    "    capability_name = f'{crop[0].upper()} - {what} {perturbation}'\n",
    "    original_production = Working_Directory[f'{crop}_Production']\n",
    "    new_production = Working_Directory[capability_name]\n",
    "    impact = ((new_production - original_production) / original_production) * 100\n",
    "    impact_column_name = f'Impact_{crop[0].upper()}_{what}_{perturbation}'\n",
    "    return impact, impact_column_name\n",
    "\n",
    "# Function to calculate and visualize stability vs impact for two crops\n",
    "def Calculate_and_visualize_2D(Groundnut_Directory,Maize_Directory, adj_matrix_np, crop1, crop2, perturbation, what,visualize = True):\n",
    "    # Normalize capabilities for both crops\n",
    "    calculate_and_visualize(perturbation, crop1, Groundnut_Directory, what,False)\n",
    "    calculate_and_visualize(perturbation, crop2, Maize_Directory, what,False)\n",
    "    capability_1 = normalize_list(Groundnut_Directory[f'{crop1[0].upper()} - {what} {perturbation}'])\n",
    "    capability_2 = normalize_list(Maize_Directory[f'{crop2[0].upper()} - {what} {perturbation}'])\n",
    "    \n",
    "    # Combine capabilities into a single DataFrame\n",
    "    combined_df = pd.DataFrame({\n",
    "        'node': Working_Directory['District'],\n",
    "        'Capability_1': capability_1,\n",
    "        'Capability_2': capability_2\n",
    "    })\n",
    "    \n",
    "    # Calculate stress and stability for the combined capabilities\n",
    "    result_df = calculate_stress_stability(adj_matrix_np, combined_df)\n",
    "    \n",
    "    # Calculate impact for each crop\n",
    "    impact1, impact_column1 = calculate_impact(crop1, perturbation, what)\n",
    "    impact2, impact_column2 = calculate_impact(crop2, perturbation, what)\n",
    "    \n",
    "    # Naming conventions for stability and stress columns\n",
    "    stability_column_name = f'Stability_{crop1[0].upper()}_{crop2[0].upper()}_{what}_{perturbation}'\n",
    "    stress_column_name = f'Stress_{crop1[0].upper()}_{crop2[0].upper()}_{what}_{perturbation}'\n",
    "    \n",
    "    # Add impacts, stability, and stress to the Working_Directory DataFrame\n",
    "    Working_Directory[impact_column1] = impact1\n",
    "    Working_Directory[impact_column2] = impact2\n",
    "    Working_Directory[stability_column_name] = result_df['stability']\n",
    "    Working_Directory[stress_column_name] = result_df['stress']\n",
    "    \n",
    "    if visualize:\n",
    "        # Prepare data for plotting\n",
    "        plot_df = pd.DataFrame({\n",
    "            'District': Working_Directory['District'],\n",
    "            'Stability': result_df['stability'],\n",
    "            f'{crop1}': impact1,\n",
    "            f'{crop2}': impact2,\n",
    "            'Abbreviation': Working_Directory['Abbreviation']\n",
    "        })\n",
    "        \n",
    "        # Calculate average values\n",
    "        avg_stability = result_df['stability'].mean()\n",
    "        avg_impact = pd.concat([impact1, impact2]).mean()  # Combine impacts and calculate average\n",
    "        \n",
    "        # Calculate min and max values for impact columns\n",
    "        min_impact = plot_df[[f'{crop1}', f'{crop2}']].min().min()\n",
    "        max_impact = plot_df[[f'{crop1}', f'{crop2}']].max().max()\n",
    "        \n",
    "        # Plot using Plotly Express\n",
    "        fig = px.scatter(\n",
    "            plot_df,\n",
    "            x='Stability',\n",
    "            y=[f'{crop1}', f'{crop2}'],  # Plot both impacts\n",
    "            title=f'Impact vs Stability for {crop1} and {crop2} ({what} +{perturbation}%)',\n",
    "            labels={'Stability': 'Stability', 'Impact': 'Impact'},\n",
    "            hover_name='District',\n",
    "            # text='Abbreviation',\n",
    "            width=900,\n",
    "            height=600\n",
    "        )\n",
    "        \n",
    "        # Add average lines\n",
    "        fig.add_shape(\n",
    "            type='line',\n",
    "            x0=min(result_df['stability']),\n",
    "            x1=max(result_df['stability']),\n",
    "            y0=avg_impact,\n",
    "            y1=avg_impact,\n",
    "            line=dict(color='red', width=2, dash='dash')\n",
    "        )\n",
    "        fig.add_shape(\n",
    "            type='line',\n",
    "            x0=avg_stability,\n",
    "            x1=avg_stability,\n",
    "            y0=min_impact,\n",
    "            y1=max_impact,\n",
    "            line=dict(color='blue', width=2, dash='dash')\n",
    "        )\n",
    "        \n",
    "        fig.add_annotation(\n",
    "            x=avg_stability,\n",
    "            y=max_impact,\n",
    "            text=f'Avg Stability: {avg_stability:.2f}',\n",
    "            showarrow=False,\n",
    "            font=dict(color='blue')\n",
    "        )\n",
    "        fig.add_annotation(\n",
    "            x=max(result_df['stability']),\n",
    "            y=avg_impact,\n",
    "            text=f'Avg Impact: {avg_impact:.2f}%',\n",
    "            showarrow=False,\n",
    "            font=dict(color='red')\n",
    "        )\n",
    "        \n",
    "        # Update y-axis title and legend title\n",
    "        fig.update_layout(\n",
    "            yaxis_title='Impact',\n",
    "            legend_title='Legend'\n",
    "        )\n",
    "        \n",
    "        # Update hover labels to only show text for one crop\n",
    "        fig.update_traces(\n",
    "            hoverlabel=dict(bgcolor='grey', font=dict(color='white')),\n",
    "            textposition='top center',\n",
    "            selector=dict(mode='markers+text')\n",
    "        )\n",
    "        \n",
    "        # Show the plot\n",
    "        fig.show()\n",
    "\n",
    "# Example usage\n",
    "crop1 = 'Groundnut'\n",
    "crop2 = 'Maize'\n",
    "perturbation = 20\n",
    "what = 'NPK'\n",
    "Calculate_and_visualize_2D(Groundnut_Directory,Maize_Directory, adj_matrix_np, crop1, crop2, perturbation, what)\n"
   ]
  },
  {
   "cell_type": "code",
   "execution_count": 129,
   "metadata": {},
   "outputs": [],
   "source": [
    "def calculate_change_impact(crop, perturbation, what):\n",
    "    capability_name = f'{crop[0].upper()} - {what} {perturbation}'\n",
    "    if(crop == \"Maize\"): \n",
    "        Working_Directory = Maize_Directory\n",
    "    elif(crop == \"Rice\"):\n",
    "        Working_Directory = Rice_Directory\n",
    "    else:\n",
    "        Working_Directory = Groundnut_Directory\n",
    "    original_production = Working_Directory[f'{crop}_Production']\n",
    "    new_production = Working_Directory[capability_name]\n",
    "    impact = (new_production - original_production)/(original_production)\n",
    "    impact_column_name = f'Change_{crop[0].upper()}_{what}_{perturbation}'\n",
    "    return impact, impact_column_name\n",
    "\n",
    "def Calculate_SI_Score(Groundnut_Directory,Maize_Directory, adj_matrix_np, crop1, crop2, perturbation, what,visualize = True):\n",
    "    # Normalize capabilities for both crops\n",
    "    capability_1 = normalize_list(Groundnut_Directory[f'{crop1[0].upper()} - {what} {perturbation}'])\n",
    "    capability_2 = normalize_list(Maize_Directory[f'{crop2[0].upper()} - {what} {perturbation}'])\n",
    "    \n",
    "    # Combine capabilities into a single DataFrame\n",
    "    combined_df = pd.DataFrame({\n",
    "        'node': Working_Directory['District'],\n",
    "        'Capability_1': capability_1,\n",
    "        'Capability_2': capability_2\n",
    "    })\n",
    "    \n",
    "    # Calculate stress and stability for the combined capabilities\n",
    "    result_df = calculate_stress_stability(adj_matrix_np, combined_df)\n",
    "\n",
    "    # Calculate impact for each crop\n",
    "    impact1, impact_column1 = calculate_change_impact( crop1, perturbation, what)\n",
    "    impact2, impact_column2 = calculate_change_impact( crop2, perturbation, what)\n",
    "    \n",
    "    # Naming conventions for stability and stress columns\n",
    "    stability_column_name = f'Stability_{crop1[0].upper()}_{crop2[0].upper()}_{what}_{perturbation}'\n",
    "    stress_column_name = f'Stress_{crop1[0].upper()}_{crop2[0].upper()}_{what}_{perturbation}'\n",
    "    \n",
    "    # Add impacts, stability, and stress to the result_df DataFrame\n",
    "    result_df[impact_column1] = impact1\n",
    "    result_df[impact_column2] = impact2\n",
    "    result_df['Mean_Impact'] = (impact1 + impact2)/2\n",
    "    result_df['Dissonance'] = (impact1 - impact2).abs()\n",
    "    result_df[stability_column_name] = result_df['stability']\n",
    "    \n",
    "    result_df['SI_Score'] = result_df['stability']*result_df['Mean_Impact']/result_df['Dissonance']\n",
    "    \n",
    "    return result_df\n",
    "\n",
    "result_df = pd.DataFrame()\n",
    "crop1 = 'Groundnut'\n",
    "crop2 = 'Maize'\n",
    "perturbation = 20\n",
    "what = 'NPK'\n",
    "result_df = Calculate_SI_Score(Groundnut_Directory,Maize_Directory, adj_matrix_np, crop1, crop2, perturbation, what)"
   ]
  },
  {
   "cell_type": "markdown",
   "metadata": {},
   "source": [
    "'NaN in DAKSHINA KANNADA is due to it's FCR value being 0'"
   ]
  },
  {
   "cell_type": "code",
   "execution_count": 130,
   "metadata": {},
   "outputs": [
    {
     "data": {
      "text/html": [
       "<div>\n",
       "<style scoped>\n",
       "    .dataframe tbody tr th:only-of-type {\n",
       "        vertical-align: middle;\n",
       "    }\n",
       "\n",
       "    .dataframe tbody tr th {\n",
       "        vertical-align: top;\n",
       "    }\n",
       "\n",
       "    .dataframe thead th {\n",
       "        text-align: right;\n",
       "    }\n",
       "</style>\n",
       "<table border=\"1\" class=\"dataframe\">\n",
       "  <thead>\n",
       "    <tr style=\"text-align: right;\">\n",
       "      <th></th>\n",
       "      <th>node</th>\n",
       "      <th>Capability_1</th>\n",
       "      <th>Capability_2</th>\n",
       "      <th>stress</th>\n",
       "      <th>stability</th>\n",
       "      <th>Change_G_NPK_20</th>\n",
       "      <th>Change_M_NPK_20</th>\n",
       "      <th>Mean_Impact</th>\n",
       "      <th>Dissonance</th>\n",
       "      <th>Stability_G_M_NPK_20</th>\n",
       "      <th>SI_Score</th>\n",
       "    </tr>\n",
       "  </thead>\n",
       "  <tbody>\n",
       "    <tr>\n",
       "      <th>0</th>\n",
       "      <td>BENGALURU</td>\n",
       "      <td>0.001128</td>\n",
       "      <td>0.005355</td>\n",
       "      <td>0.052845</td>\n",
       "      <td>0.947155</td>\n",
       "      <td>0.126761</td>\n",
       "      <td>0.177840</td>\n",
       "      <td>0.152300</td>\n",
       "      <td>0.051079</td>\n",
       "      <td>0.947155</td>\n",
       "      <td>2.824092</td>\n",
       "    </tr>\n",
       "    <tr>\n",
       "      <th>1</th>\n",
       "      <td>BENGALURU(R)</td>\n",
       "      <td>0.003074</td>\n",
       "      <td>0.072852</td>\n",
       "      <td>0.166526</td>\n",
       "      <td>0.833474</td>\n",
       "      <td>0.058252</td>\n",
       "      <td>0.083414</td>\n",
       "      <td>0.070833</td>\n",
       "      <td>0.025161</td>\n",
       "      <td>0.833474</td>\n",
       "      <td>2.346376</td>\n",
       "    </tr>\n",
       "    <tr>\n",
       "      <th>2</th>\n",
       "      <td>RAMANAGARA</td>\n",
       "      <td>0.069331</td>\n",
       "      <td>0.016912</td>\n",
       "      <td>0.108339</td>\n",
       "      <td>0.891661</td>\n",
       "      <td>0.018012</td>\n",
       "      <td>0.024880</td>\n",
       "      <td>0.021446</td>\n",
       "      <td>0.006868</td>\n",
       "      <td>0.891661</td>\n",
       "      <td>2.784366</td>\n",
       "    </tr>\n",
       "    <tr>\n",
       "      <th>3</th>\n",
       "      <td>CHITRADURGA</td>\n",
       "      <td>1.000000</td>\n",
       "      <td>0.449626</td>\n",
       "      <td>0.698657</td>\n",
       "      <td>0.301343</td>\n",
       "      <td>0.034211</td>\n",
       "      <td>0.046909</td>\n",
       "      <td>0.040560</td>\n",
       "      <td>0.012698</td>\n",
       "      <td>0.301343</td>\n",
       "      <td>0.962543</td>\n",
       "    </tr>\n",
       "    <tr>\n",
       "      <th>4</th>\n",
       "      <td>DAVANAGERE</td>\n",
       "      <td>0.242594</td>\n",
       "      <td>0.984769</td>\n",
       "      <td>0.659773</td>\n",
       "      <td>0.340227</td>\n",
       "      <td>0.036946</td>\n",
       "      <td>0.050675</td>\n",
       "      <td>0.043810</td>\n",
       "      <td>0.013730</td>\n",
       "      <td>0.340227</td>\n",
       "      <td>1.085634</td>\n",
       "    </tr>\n",
       "    <tr>\n",
       "      <th>5</th>\n",
       "      <td>KOLAR</td>\n",
       "      <td>0.090692</td>\n",
       "      <td>0.003185</td>\n",
       "      <td>0.129094</td>\n",
       "      <td>0.870906</td>\n",
       "      <td>0.107057</td>\n",
       "      <td>0.146674</td>\n",
       "      <td>0.126866</td>\n",
       "      <td>0.039617</td>\n",
       "      <td>0.870906</td>\n",
       "      <td>2.788871</td>\n",
       "    </tr>\n",
       "    <tr>\n",
       "      <th>6</th>\n",
       "      <td>CHIKKABALLAPURA</td>\n",
       "      <td>0.107232</td>\n",
       "      <td>0.181729</td>\n",
       "      <td>0.167094</td>\n",
       "      <td>0.832906</td>\n",
       "      <td>0.066321</td>\n",
       "      <td>0.090927</td>\n",
       "      <td>0.078624</td>\n",
       "      <td>0.024606</td>\n",
       "      <td>0.832906</td>\n",
       "      <td>2.661358</td>\n",
       "    </tr>\n",
       "    <tr>\n",
       "      <th>7</th>\n",
       "      <td>SHIVAMOGGA</td>\n",
       "      <td>0.003624</td>\n",
       "      <td>0.376989</td>\n",
       "      <td>0.133150</td>\n",
       "      <td>0.866850</td>\n",
       "      <td>0.036290</td>\n",
       "      <td>0.053869</td>\n",
       "      <td>0.045080</td>\n",
       "      <td>0.017578</td>\n",
       "      <td>0.866850</td>\n",
       "      <td>2.223019</td>\n",
       "    </tr>\n",
       "    <tr>\n",
       "      <th>8</th>\n",
       "      <td>TUMAKURU</td>\n",
       "      <td>0.578320</td>\n",
       "      <td>0.110666</td>\n",
       "      <td>0.408464</td>\n",
       "      <td>0.591536</td>\n",
       "      <td>0.035053</td>\n",
       "      <td>0.048050</td>\n",
       "      <td>0.041551</td>\n",
       "      <td>0.012997</td>\n",
       "      <td>0.591536</td>\n",
       "      <td>1.891114</td>\n",
       "    </tr>\n",
       "    <tr>\n",
       "      <th>9</th>\n",
       "      <td>CHIKKAMAGALURU</td>\n",
       "      <td>0.061364</td>\n",
       "      <td>0.111954</td>\n",
       "      <td>0.319343</td>\n",
       "      <td>0.680657</td>\n",
       "      <td>0.113328</td>\n",
       "      <td>0.155559</td>\n",
       "      <td>0.134444</td>\n",
       "      <td>0.042231</td>\n",
       "      <td>0.680657</td>\n",
       "      <td>2.166910</td>\n",
       "    </tr>\n",
       "    <tr>\n",
       "      <th>10</th>\n",
       "      <td>DAKSHINA KANNADA</td>\n",
       "      <td>0.000000</td>\n",
       "      <td>0.000000</td>\n",
       "      <td>0.179042</td>\n",
       "      <td>0.820958</td>\n",
       "      <td>NaN</td>\n",
       "      <td>NaN</td>\n",
       "      <td>NaN</td>\n",
       "      <td>NaN</td>\n",
       "      <td>0.820958</td>\n",
       "      <td>NaN</td>\n",
       "    </tr>\n",
       "    <tr>\n",
       "      <th>11</th>\n",
       "      <td>UDUPI</td>\n",
       "      <td>0.052002</td>\n",
       "      <td>0.000175</td>\n",
       "      <td>0.133828</td>\n",
       "      <td>0.866172</td>\n",
       "      <td>0.017941</td>\n",
       "      <td>0.018349</td>\n",
       "      <td>0.018145</td>\n",
       "      <td>0.000408</td>\n",
       "      <td>0.866172</td>\n",
       "      <td>38.550023</td>\n",
       "    </tr>\n",
       "    <tr>\n",
       "      <th>12</th>\n",
       "      <td>HASSAN</td>\n",
       "      <td>0.007656</td>\n",
       "      <td>0.558812</td>\n",
       "      <td>0.484086</td>\n",
       "      <td>0.515914</td>\n",
       "      <td>0.042226</td>\n",
       "      <td>0.059712</td>\n",
       "      <td>0.050969</td>\n",
       "      <td>0.017485</td>\n",
       "      <td>0.515914</td>\n",
       "      <td>1.503870</td>\n",
       "    </tr>\n",
       "    <tr>\n",
       "      <th>13</th>\n",
       "      <td>KODAGU</td>\n",
       "      <td>0.000733</td>\n",
       "      <td>0.034802</td>\n",
       "      <td>0.228280</td>\n",
       "      <td>0.771720</td>\n",
       "      <td>0.155556</td>\n",
       "      <td>0.229786</td>\n",
       "      <td>0.192671</td>\n",
       "      <td>0.074231</td>\n",
       "      <td>0.771720</td>\n",
       "      <td>2.003051</td>\n",
       "    </tr>\n",
       "    <tr>\n",
       "      <th>14</th>\n",
       "      <td>MANDYA</td>\n",
       "      <td>0.015313</td>\n",
       "      <td>0.033291</td>\n",
       "      <td>0.248330</td>\n",
       "      <td>0.751670</td>\n",
       "      <td>0.063663</td>\n",
       "      <td>0.087430</td>\n",
       "      <td>0.075546</td>\n",
       "      <td>0.023767</td>\n",
       "      <td>0.751670</td>\n",
       "      <td>2.389312</td>\n",
       "    </tr>\n",
       "    <tr>\n",
       "      <th>15</th>\n",
       "      <td>MYSURU</td>\n",
       "      <td>0.031909</td>\n",
       "      <td>0.229415</td>\n",
       "      <td>0.012770</td>\n",
       "      <td>0.987230</td>\n",
       "      <td>0.042857</td>\n",
       "      <td>0.059255</td>\n",
       "      <td>0.051056</td>\n",
       "      <td>0.016397</td>\n",
       "      <td>0.987230</td>\n",
       "      <td>3.073890</td>\n",
       "    </tr>\n",
       "    <tr>\n",
       "      <th>16</th>\n",
       "      <td>CHAMARAJANAGAR</td>\n",
       "      <td>0.130286</td>\n",
       "      <td>0.246999</td>\n",
       "      <td>0.178920</td>\n",
       "      <td>0.821080</td>\n",
       "      <td>0.042066</td>\n",
       "      <td>0.057680</td>\n",
       "      <td>0.049873</td>\n",
       "      <td>0.015613</td>\n",
       "      <td>0.821080</td>\n",
       "      <td>2.622706</td>\n",
       "    </tr>\n",
       "    <tr>\n",
       "      <th>17</th>\n",
       "      <td>BELAGAVI</td>\n",
       "      <td>0.597214</td>\n",
       "      <td>1.000000</td>\n",
       "      <td>0.800024</td>\n",
       "      <td>0.199976</td>\n",
       "      <td>0.071465</td>\n",
       "      <td>0.097977</td>\n",
       "      <td>0.084721</td>\n",
       "      <td>0.026512</td>\n",
       "      <td>0.199976</td>\n",
       "      <td>0.639030</td>\n",
       "    </tr>\n",
       "    <tr>\n",
       "      <th>18</th>\n",
       "      <td>VIJAYAPURA</td>\n",
       "      <td>0.403393</td>\n",
       "      <td>0.376650</td>\n",
       "      <td>0.084268</td>\n",
       "      <td>0.915732</td>\n",
       "      <td>0.039269</td>\n",
       "      <td>0.053873</td>\n",
       "      <td>0.046571</td>\n",
       "      <td>0.014604</td>\n",
       "      <td>0.915732</td>\n",
       "      <td>2.920157</td>\n",
       "    </tr>\n",
       "    <tr>\n",
       "      <th>19</th>\n",
       "      <td>BAGALKOT</td>\n",
       "      <td>0.386670</td>\n",
       "      <td>0.439852</td>\n",
       "      <td>0.092705</td>\n",
       "      <td>0.907295</td>\n",
       "      <td>0.077779</td>\n",
       "      <td>0.106655</td>\n",
       "      <td>0.092217</td>\n",
       "      <td>0.028877</td>\n",
       "      <td>0.907295</td>\n",
       "      <td>2.897438</td>\n",
       "    </tr>\n",
       "    <tr>\n",
       "      <th>20</th>\n",
       "      <td>DHARAWAD</td>\n",
       "      <td>0.316747</td>\n",
       "      <td>0.155036</td>\n",
       "      <td>0.336657</td>\n",
       "      <td>0.663343</td>\n",
       "      <td>0.060723</td>\n",
       "      <td>0.083247</td>\n",
       "      <td>0.071985</td>\n",
       "      <td>0.022524</td>\n",
       "      <td>0.663343</td>\n",
       "      <td>2.120043</td>\n",
       "    </tr>\n",
       "    <tr>\n",
       "      <th>21</th>\n",
       "      <td>GADAG</td>\n",
       "      <td>0.457016</td>\n",
       "      <td>0.229001</td>\n",
       "      <td>0.207412</td>\n",
       "      <td>0.792588</td>\n",
       "      <td>0.034470</td>\n",
       "      <td>0.047250</td>\n",
       "      <td>0.040860</td>\n",
       "      <td>0.012781</td>\n",
       "      <td>0.792588</td>\n",
       "      <td>2.533934</td>\n",
       "    </tr>\n",
       "    <tr>\n",
       "      <th>22</th>\n",
       "      <td>HAVERI</td>\n",
       "      <td>0.269737</td>\n",
       "      <td>0.693099</td>\n",
       "      <td>0.387001</td>\n",
       "      <td>0.612999</td>\n",
       "      <td>0.044841</td>\n",
       "      <td>0.061501</td>\n",
       "      <td>0.053171</td>\n",
       "      <td>0.016660</td>\n",
       "      <td>0.612999</td>\n",
       "      <td>1.956422</td>\n",
       "    </tr>\n",
       "    <tr>\n",
       "      <th>23</th>\n",
       "      <td>UTTARA KANNADA</td>\n",
       "      <td>0.055893</td>\n",
       "      <td>0.039933</td>\n",
       "      <td>0.448309</td>\n",
       "      <td>0.551691</td>\n",
       "      <td>0.036340</td>\n",
       "      <td>0.049817</td>\n",
       "      <td>0.043079</td>\n",
       "      <td>0.013477</td>\n",
       "      <td>0.551691</td>\n",
       "      <td>1.763393</td>\n",
       "    </tr>\n",
       "    <tr>\n",
       "      <th>24</th>\n",
       "      <td>BALLARI</td>\n",
       "      <td>0.345737</td>\n",
       "      <td>0.179828</td>\n",
       "      <td>0.252151</td>\n",
       "      <td>0.747849</td>\n",
       "      <td>0.068945</td>\n",
       "      <td>0.094517</td>\n",
       "      <td>0.081731</td>\n",
       "      <td>0.025572</td>\n",
       "      <td>0.747849</td>\n",
       "      <td>2.390250</td>\n",
       "    </tr>\n",
       "    <tr>\n",
       "      <th>25</th>\n",
       "      <td>BIDAR</td>\n",
       "      <td>0.003948</td>\n",
       "      <td>0.004867</td>\n",
       "      <td>0.046119</td>\n",
       "      <td>0.953881</td>\n",
       "      <td>0.072797</td>\n",
       "      <td>0.104264</td>\n",
       "      <td>0.088530</td>\n",
       "      <td>0.031467</td>\n",
       "      <td>0.953881</td>\n",
       "      <td>2.683700</td>\n",
       "    </tr>\n",
       "    <tr>\n",
       "      <th>26</th>\n",
       "      <td>KALABURAGI</td>\n",
       "      <td>0.045727</td>\n",
       "      <td>0.024399</td>\n",
       "      <td>0.275722</td>\n",
       "      <td>0.724278</td>\n",
       "      <td>0.041426</td>\n",
       "      <td>0.056768</td>\n",
       "      <td>0.049097</td>\n",
       "      <td>0.015342</td>\n",
       "      <td>0.724278</td>\n",
       "      <td>2.317822</td>\n",
       "    </tr>\n",
       "    <tr>\n",
       "      <th>27</th>\n",
       "      <td>YADGIRI</td>\n",
       "      <td>0.495410</td>\n",
       "      <td>0.004902</td>\n",
       "      <td>0.246385</td>\n",
       "      <td>0.753615</td>\n",
       "      <td>0.117703</td>\n",
       "      <td>0.161242</td>\n",
       "      <td>0.139473</td>\n",
       "      <td>0.043539</td>\n",
       "      <td>0.753615</td>\n",
       "      <td>2.414136</td>\n",
       "    </tr>\n",
       "    <tr>\n",
       "      <th>28</th>\n",
       "      <td>RAICHUR</td>\n",
       "      <td>0.407735</td>\n",
       "      <td>0.001255</td>\n",
       "      <td>0.263240</td>\n",
       "      <td>0.736760</td>\n",
       "      <td>0.072669</td>\n",
       "      <td>0.099585</td>\n",
       "      <td>0.086127</td>\n",
       "      <td>0.026916</td>\n",
       "      <td>0.736760</td>\n",
       "      <td>2.357470</td>\n",
       "    </tr>\n",
       "    <tr>\n",
       "      <th>29</th>\n",
       "      <td>KOPPAL</td>\n",
       "      <td>0.443606</td>\n",
       "      <td>0.320751</td>\n",
       "      <td>0.127305</td>\n",
       "      <td>0.872695</td>\n",
       "      <td>0.049330</td>\n",
       "      <td>0.067642</td>\n",
       "      <td>0.058486</td>\n",
       "      <td>0.018312</td>\n",
       "      <td>0.872695</td>\n",
       "      <td>2.787213</td>\n",
       "    </tr>\n",
       "    <tr>\n",
       "      <th>30</th>\n",
       "      <td>VIJAYANAGARA</td>\n",
       "      <td>0.345737</td>\n",
       "      <td>0.179828</td>\n",
       "      <td>0.317538</td>\n",
       "      <td>0.682462</td>\n",
       "      <td>0.068945</td>\n",
       "      <td>0.094517</td>\n",
       "      <td>0.081731</td>\n",
       "      <td>0.025572</td>\n",
       "      <td>0.682462</td>\n",
       "      <td>2.181263</td>\n",
       "    </tr>\n",
       "  </tbody>\n",
       "</table>\n",
       "</div>"
      ],
      "text/plain": [
       "                node  Capability_1  Capability_2    stress  stability  \\\n",
       "0          BENGALURU      0.001128      0.005355  0.052845   0.947155   \n",
       "1       BENGALURU(R)      0.003074      0.072852  0.166526   0.833474   \n",
       "2         RAMANAGARA      0.069331      0.016912  0.108339   0.891661   \n",
       "3        CHITRADURGA      1.000000      0.449626  0.698657   0.301343   \n",
       "4         DAVANAGERE      0.242594      0.984769  0.659773   0.340227   \n",
       "5              KOLAR      0.090692      0.003185  0.129094   0.870906   \n",
       "6    CHIKKABALLAPURA      0.107232      0.181729  0.167094   0.832906   \n",
       "7         SHIVAMOGGA      0.003624      0.376989  0.133150   0.866850   \n",
       "8           TUMAKURU      0.578320      0.110666  0.408464   0.591536   \n",
       "9     CHIKKAMAGALURU      0.061364      0.111954  0.319343   0.680657   \n",
       "10  DAKSHINA KANNADA      0.000000      0.000000  0.179042   0.820958   \n",
       "11             UDUPI      0.052002      0.000175  0.133828   0.866172   \n",
       "12            HASSAN      0.007656      0.558812  0.484086   0.515914   \n",
       "13            KODAGU      0.000733      0.034802  0.228280   0.771720   \n",
       "14            MANDYA      0.015313      0.033291  0.248330   0.751670   \n",
       "15            MYSURU      0.031909      0.229415  0.012770   0.987230   \n",
       "16    CHAMARAJANAGAR      0.130286      0.246999  0.178920   0.821080   \n",
       "17          BELAGAVI      0.597214      1.000000  0.800024   0.199976   \n",
       "18        VIJAYAPURA      0.403393      0.376650  0.084268   0.915732   \n",
       "19          BAGALKOT      0.386670      0.439852  0.092705   0.907295   \n",
       "20          DHARAWAD      0.316747      0.155036  0.336657   0.663343   \n",
       "21             GADAG      0.457016      0.229001  0.207412   0.792588   \n",
       "22            HAVERI      0.269737      0.693099  0.387001   0.612999   \n",
       "23    UTTARA KANNADA      0.055893      0.039933  0.448309   0.551691   \n",
       "24           BALLARI      0.345737      0.179828  0.252151   0.747849   \n",
       "25             BIDAR      0.003948      0.004867  0.046119   0.953881   \n",
       "26        KALABURAGI      0.045727      0.024399  0.275722   0.724278   \n",
       "27           YADGIRI      0.495410      0.004902  0.246385   0.753615   \n",
       "28           RAICHUR      0.407735      0.001255  0.263240   0.736760   \n",
       "29            KOPPAL      0.443606      0.320751  0.127305   0.872695   \n",
       "30      VIJAYANAGARA      0.345737      0.179828  0.317538   0.682462   \n",
       "\n",
       "    Change_G_NPK_20  Change_M_NPK_20  Mean_Impact  Dissonance  \\\n",
       "0          0.126761         0.177840     0.152300    0.051079   \n",
       "1          0.058252         0.083414     0.070833    0.025161   \n",
       "2          0.018012         0.024880     0.021446    0.006868   \n",
       "3          0.034211         0.046909     0.040560    0.012698   \n",
       "4          0.036946         0.050675     0.043810    0.013730   \n",
       "5          0.107057         0.146674     0.126866    0.039617   \n",
       "6          0.066321         0.090927     0.078624    0.024606   \n",
       "7          0.036290         0.053869     0.045080    0.017578   \n",
       "8          0.035053         0.048050     0.041551    0.012997   \n",
       "9          0.113328         0.155559     0.134444    0.042231   \n",
       "10              NaN              NaN          NaN         NaN   \n",
       "11         0.017941         0.018349     0.018145    0.000408   \n",
       "12         0.042226         0.059712     0.050969    0.017485   \n",
       "13         0.155556         0.229786     0.192671    0.074231   \n",
       "14         0.063663         0.087430     0.075546    0.023767   \n",
       "15         0.042857         0.059255     0.051056    0.016397   \n",
       "16         0.042066         0.057680     0.049873    0.015613   \n",
       "17         0.071465         0.097977     0.084721    0.026512   \n",
       "18         0.039269         0.053873     0.046571    0.014604   \n",
       "19         0.077779         0.106655     0.092217    0.028877   \n",
       "20         0.060723         0.083247     0.071985    0.022524   \n",
       "21         0.034470         0.047250     0.040860    0.012781   \n",
       "22         0.044841         0.061501     0.053171    0.016660   \n",
       "23         0.036340         0.049817     0.043079    0.013477   \n",
       "24         0.068945         0.094517     0.081731    0.025572   \n",
       "25         0.072797         0.104264     0.088530    0.031467   \n",
       "26         0.041426         0.056768     0.049097    0.015342   \n",
       "27         0.117703         0.161242     0.139473    0.043539   \n",
       "28         0.072669         0.099585     0.086127    0.026916   \n",
       "29         0.049330         0.067642     0.058486    0.018312   \n",
       "30         0.068945         0.094517     0.081731    0.025572   \n",
       "\n",
       "    Stability_G_M_NPK_20   SI_Score  \n",
       "0               0.947155   2.824092  \n",
       "1               0.833474   2.346376  \n",
       "2               0.891661   2.784366  \n",
       "3               0.301343   0.962543  \n",
       "4               0.340227   1.085634  \n",
       "5               0.870906   2.788871  \n",
       "6               0.832906   2.661358  \n",
       "7               0.866850   2.223019  \n",
       "8               0.591536   1.891114  \n",
       "9               0.680657   2.166910  \n",
       "10              0.820958        NaN  \n",
       "11              0.866172  38.550023  \n",
       "12              0.515914   1.503870  \n",
       "13              0.771720   2.003051  \n",
       "14              0.751670   2.389312  \n",
       "15              0.987230   3.073890  \n",
       "16              0.821080   2.622706  \n",
       "17              0.199976   0.639030  \n",
       "18              0.915732   2.920157  \n",
       "19              0.907295   2.897438  \n",
       "20              0.663343   2.120043  \n",
       "21              0.792588   2.533934  \n",
       "22              0.612999   1.956422  \n",
       "23              0.551691   1.763393  \n",
       "24              0.747849   2.390250  \n",
       "25              0.953881   2.683700  \n",
       "26              0.724278   2.317822  \n",
       "27              0.753615   2.414136  \n",
       "28              0.736760   2.357470  \n",
       "29              0.872695   2.787213  \n",
       "30              0.682462   2.181263  "
      ]
     },
     "execution_count": 130,
     "metadata": {},
     "output_type": "execute_result"
    }
   ],
   "source": [
    "result_df.to_csv('Maize_Groundnut SI Score NPK+20%.csv',index=False)\n",
    "result_df"
   ]
  },
  {
   "cell_type": "code",
   "execution_count": 131,
   "metadata": {},
   "outputs": [
    {
     "data": {
      "application/vnd.plotly.v1+json": {
       "config": {
        "plotlyServerURL": "https://plot.ly"
       },
       "data": [
        {
         "alignmentgroup": "True",
         "hovertemplate": "SI Score=%{marker.color}<br>District=%{y}<extra></extra>",
         "legendgroup": "",
         "marker": {
          "color": [
           0.64,
           0.96,
           1.09,
           1.5,
           1.76,
           1.89,
           1.96,
           2,
           2.12,
           2.17,
           2.18,
           2.22,
           2.32,
           2.35,
           2.36,
           2.39,
           2.39,
           2.41,
           2.53,
           2.62,
           2.66,
           2.68,
           2.78,
           2.79,
           2.79,
           2.82,
           2.9,
           2.92,
           3.07,
           38.55
          ],
          "coloraxis": "coloraxis",
          "pattern": {
           "shape": ""
          }
         },
         "name": "",
         "offsetgroup": "",
         "orientation": "h",
         "showlegend": false,
         "text": [
          0.64,
          0.96,
          1.09,
          1.5,
          1.76,
          1.89,
          1.96,
          2,
          2.12,
          2.17,
          2.18,
          2.22,
          2.32,
          2.35,
          2.36,
          2.39,
          2.39,
          2.41,
          2.53,
          2.62,
          2.66,
          2.68,
          2.78,
          2.79,
          2.79,
          2.82,
          2.9,
          2.92,
          3.07,
          38.55
         ],
         "textposition": "auto",
         "type": "bar",
         "x": [
          0.64,
          0.96,
          1.09,
          1.5,
          1.76,
          1.89,
          1.96,
          2,
          2.12,
          2.17,
          2.18,
          2.22,
          2.32,
          2.35,
          2.36,
          2.39,
          2.39,
          2.41,
          2.53,
          2.62,
          2.66,
          2.68,
          2.78,
          2.79,
          2.79,
          2.82,
          2.9,
          2.92,
          3.07,
          38.55
         ],
         "xaxis": "x",
         "y": [
          "BELAGAVI",
          "CHITRADURGA",
          "DAVANAGERE",
          "HASSAN",
          "UTTARA KANNADA",
          "TUMAKURU",
          "HAVERI",
          "KODAGU",
          "DHARAWAD",
          "CHIKKAMAGALURU",
          "VIJAYANAGARA",
          "SHIVAMOGGA",
          "KALABURAGI",
          "BENGALURU(R)",
          "RAICHUR",
          "MANDYA",
          "BALLARI",
          "YADGIRI",
          "GADAG",
          "CHAMARAJANAGAR",
          "CHIKKABALLAPURA",
          "BIDAR",
          "RAMANAGARA",
          "KOPPAL",
          "KOLAR",
          "BENGALURU",
          "BAGALKOT",
          "VIJAYAPURA",
          "MYSURU",
          "UDUPI"
         ],
         "yaxis": "y"
        }
       ],
       "layout": {
        "barmode": "relative",
        "coloraxis": {
         "colorbar": {
          "title": {
           "text": "SI Score"
          }
         },
         "colorscale": [
          [
           0,
           "rgb(207, 89, 126)"
          ],
          [
           0.16666666666666666,
           "rgb(232, 132, 113)"
          ],
          [
           0.3333333333333333,
           "rgb(238, 180, 121)"
          ],
          [
           0.5,
           "rgb(233, 226, 156)"
          ],
          [
           0.6666666666666666,
           "rgb(156, 203, 134)"
          ],
          [
           0.8333333333333334,
           "rgb(57, 177, 133)"
          ],
          [
           1,
           "rgb(0, 147, 146)"
          ]
         ]
        },
        "height": 800,
        "legend": {
         "tracegroupgap": 0
        },
        "template": {
         "data": {
          "bar": [
           {
            "error_x": {
             "color": "#2a3f5f"
            },
            "error_y": {
             "color": "#2a3f5f"
            },
            "marker": {
             "line": {
              "color": "#E5ECF6",
              "width": 0.5
             },
             "pattern": {
              "fillmode": "overlay",
              "size": 10,
              "solidity": 0.2
             }
            },
            "type": "bar"
           }
          ],
          "barpolar": [
           {
            "marker": {
             "line": {
              "color": "#E5ECF6",
              "width": 0.5
             },
             "pattern": {
              "fillmode": "overlay",
              "size": 10,
              "solidity": 0.2
             }
            },
            "type": "barpolar"
           }
          ],
          "carpet": [
           {
            "aaxis": {
             "endlinecolor": "#2a3f5f",
             "gridcolor": "white",
             "linecolor": "white",
             "minorgridcolor": "white",
             "startlinecolor": "#2a3f5f"
            },
            "baxis": {
             "endlinecolor": "#2a3f5f",
             "gridcolor": "white",
             "linecolor": "white",
             "minorgridcolor": "white",
             "startlinecolor": "#2a3f5f"
            },
            "type": "carpet"
           }
          ],
          "choropleth": [
           {
            "colorbar": {
             "outlinewidth": 0,
             "ticks": ""
            },
            "type": "choropleth"
           }
          ],
          "contour": [
           {
            "colorbar": {
             "outlinewidth": 0,
             "ticks": ""
            },
            "colorscale": [
             [
              0,
              "#0d0887"
             ],
             [
              0.1111111111111111,
              "#46039f"
             ],
             [
              0.2222222222222222,
              "#7201a8"
             ],
             [
              0.3333333333333333,
              "#9c179e"
             ],
             [
              0.4444444444444444,
              "#bd3786"
             ],
             [
              0.5555555555555556,
              "#d8576b"
             ],
             [
              0.6666666666666666,
              "#ed7953"
             ],
             [
              0.7777777777777778,
              "#fb9f3a"
             ],
             [
              0.8888888888888888,
              "#fdca26"
             ],
             [
              1,
              "#f0f921"
             ]
            ],
            "type": "contour"
           }
          ],
          "contourcarpet": [
           {
            "colorbar": {
             "outlinewidth": 0,
             "ticks": ""
            },
            "type": "contourcarpet"
           }
          ],
          "heatmap": [
           {
            "colorbar": {
             "outlinewidth": 0,
             "ticks": ""
            },
            "colorscale": [
             [
              0,
              "#0d0887"
             ],
             [
              0.1111111111111111,
              "#46039f"
             ],
             [
              0.2222222222222222,
              "#7201a8"
             ],
             [
              0.3333333333333333,
              "#9c179e"
             ],
             [
              0.4444444444444444,
              "#bd3786"
             ],
             [
              0.5555555555555556,
              "#d8576b"
             ],
             [
              0.6666666666666666,
              "#ed7953"
             ],
             [
              0.7777777777777778,
              "#fb9f3a"
             ],
             [
              0.8888888888888888,
              "#fdca26"
             ],
             [
              1,
              "#f0f921"
             ]
            ],
            "type": "heatmap"
           }
          ],
          "heatmapgl": [
           {
            "colorbar": {
             "outlinewidth": 0,
             "ticks": ""
            },
            "colorscale": [
             [
              0,
              "#0d0887"
             ],
             [
              0.1111111111111111,
              "#46039f"
             ],
             [
              0.2222222222222222,
              "#7201a8"
             ],
             [
              0.3333333333333333,
              "#9c179e"
             ],
             [
              0.4444444444444444,
              "#bd3786"
             ],
             [
              0.5555555555555556,
              "#d8576b"
             ],
             [
              0.6666666666666666,
              "#ed7953"
             ],
             [
              0.7777777777777778,
              "#fb9f3a"
             ],
             [
              0.8888888888888888,
              "#fdca26"
             ],
             [
              1,
              "#f0f921"
             ]
            ],
            "type": "heatmapgl"
           }
          ],
          "histogram": [
           {
            "marker": {
             "pattern": {
              "fillmode": "overlay",
              "size": 10,
              "solidity": 0.2
             }
            },
            "type": "histogram"
           }
          ],
          "histogram2d": [
           {
            "colorbar": {
             "outlinewidth": 0,
             "ticks": ""
            },
            "colorscale": [
             [
              0,
              "#0d0887"
             ],
             [
              0.1111111111111111,
              "#46039f"
             ],
             [
              0.2222222222222222,
              "#7201a8"
             ],
             [
              0.3333333333333333,
              "#9c179e"
             ],
             [
              0.4444444444444444,
              "#bd3786"
             ],
             [
              0.5555555555555556,
              "#d8576b"
             ],
             [
              0.6666666666666666,
              "#ed7953"
             ],
             [
              0.7777777777777778,
              "#fb9f3a"
             ],
             [
              0.8888888888888888,
              "#fdca26"
             ],
             [
              1,
              "#f0f921"
             ]
            ],
            "type": "histogram2d"
           }
          ],
          "histogram2dcontour": [
           {
            "colorbar": {
             "outlinewidth": 0,
             "ticks": ""
            },
            "colorscale": [
             [
              0,
              "#0d0887"
             ],
             [
              0.1111111111111111,
              "#46039f"
             ],
             [
              0.2222222222222222,
              "#7201a8"
             ],
             [
              0.3333333333333333,
              "#9c179e"
             ],
             [
              0.4444444444444444,
              "#bd3786"
             ],
             [
              0.5555555555555556,
              "#d8576b"
             ],
             [
              0.6666666666666666,
              "#ed7953"
             ],
             [
              0.7777777777777778,
              "#fb9f3a"
             ],
             [
              0.8888888888888888,
              "#fdca26"
             ],
             [
              1,
              "#f0f921"
             ]
            ],
            "type": "histogram2dcontour"
           }
          ],
          "mesh3d": [
           {
            "colorbar": {
             "outlinewidth": 0,
             "ticks": ""
            },
            "type": "mesh3d"
           }
          ],
          "parcoords": [
           {
            "line": {
             "colorbar": {
              "outlinewidth": 0,
              "ticks": ""
             }
            },
            "type": "parcoords"
           }
          ],
          "pie": [
           {
            "automargin": true,
            "type": "pie"
           }
          ],
          "scatter": [
           {
            "fillpattern": {
             "fillmode": "overlay",
             "size": 10,
             "solidity": 0.2
            },
            "type": "scatter"
           }
          ],
          "scatter3d": [
           {
            "line": {
             "colorbar": {
              "outlinewidth": 0,
              "ticks": ""
             }
            },
            "marker": {
             "colorbar": {
              "outlinewidth": 0,
              "ticks": ""
             }
            },
            "type": "scatter3d"
           }
          ],
          "scattercarpet": [
           {
            "marker": {
             "colorbar": {
              "outlinewidth": 0,
              "ticks": ""
             }
            },
            "type": "scattercarpet"
           }
          ],
          "scattergeo": [
           {
            "marker": {
             "colorbar": {
              "outlinewidth": 0,
              "ticks": ""
             }
            },
            "type": "scattergeo"
           }
          ],
          "scattergl": [
           {
            "marker": {
             "colorbar": {
              "outlinewidth": 0,
              "ticks": ""
             }
            },
            "type": "scattergl"
           }
          ],
          "scattermapbox": [
           {
            "marker": {
             "colorbar": {
              "outlinewidth": 0,
              "ticks": ""
             }
            },
            "type": "scattermapbox"
           }
          ],
          "scatterpolar": [
           {
            "marker": {
             "colorbar": {
              "outlinewidth": 0,
              "ticks": ""
             }
            },
            "type": "scatterpolar"
           }
          ],
          "scatterpolargl": [
           {
            "marker": {
             "colorbar": {
              "outlinewidth": 0,
              "ticks": ""
             }
            },
            "type": "scatterpolargl"
           }
          ],
          "scatterternary": [
           {
            "marker": {
             "colorbar": {
              "outlinewidth": 0,
              "ticks": ""
             }
            },
            "type": "scatterternary"
           }
          ],
          "surface": [
           {
            "colorbar": {
             "outlinewidth": 0,
             "ticks": ""
            },
            "colorscale": [
             [
              0,
              "#0d0887"
             ],
             [
              0.1111111111111111,
              "#46039f"
             ],
             [
              0.2222222222222222,
              "#7201a8"
             ],
             [
              0.3333333333333333,
              "#9c179e"
             ],
             [
              0.4444444444444444,
              "#bd3786"
             ],
             [
              0.5555555555555556,
              "#d8576b"
             ],
             [
              0.6666666666666666,
              "#ed7953"
             ],
             [
              0.7777777777777778,
              "#fb9f3a"
             ],
             [
              0.8888888888888888,
              "#fdca26"
             ],
             [
              1,
              "#f0f921"
             ]
            ],
            "type": "surface"
           }
          ],
          "table": [
           {
            "cells": {
             "fill": {
              "color": "#EBF0F8"
             },
             "line": {
              "color": "white"
             }
            },
            "header": {
             "fill": {
              "color": "#C8D4E3"
             },
             "line": {
              "color": "white"
             }
            },
            "type": "table"
           }
          ]
         },
         "layout": {
          "annotationdefaults": {
           "arrowcolor": "#2a3f5f",
           "arrowhead": 0,
           "arrowwidth": 1
          },
          "autotypenumbers": "strict",
          "coloraxis": {
           "colorbar": {
            "outlinewidth": 0,
            "ticks": ""
           }
          },
          "colorscale": {
           "diverging": [
            [
             0,
             "#8e0152"
            ],
            [
             0.1,
             "#c51b7d"
            ],
            [
             0.2,
             "#de77ae"
            ],
            [
             0.3,
             "#f1b6da"
            ],
            [
             0.4,
             "#fde0ef"
            ],
            [
             0.5,
             "#f7f7f7"
            ],
            [
             0.6,
             "#e6f5d0"
            ],
            [
             0.7,
             "#b8e186"
            ],
            [
             0.8,
             "#7fbc41"
            ],
            [
             0.9,
             "#4d9221"
            ],
            [
             1,
             "#276419"
            ]
           ],
           "sequential": [
            [
             0,
             "#0d0887"
            ],
            [
             0.1111111111111111,
             "#46039f"
            ],
            [
             0.2222222222222222,
             "#7201a8"
            ],
            [
             0.3333333333333333,
             "#9c179e"
            ],
            [
             0.4444444444444444,
             "#bd3786"
            ],
            [
             0.5555555555555556,
             "#d8576b"
            ],
            [
             0.6666666666666666,
             "#ed7953"
            ],
            [
             0.7777777777777778,
             "#fb9f3a"
            ],
            [
             0.8888888888888888,
             "#fdca26"
            ],
            [
             1,
             "#f0f921"
            ]
           ],
           "sequentialminus": [
            [
             0,
             "#0d0887"
            ],
            [
             0.1111111111111111,
             "#46039f"
            ],
            [
             0.2222222222222222,
             "#7201a8"
            ],
            [
             0.3333333333333333,
             "#9c179e"
            ],
            [
             0.4444444444444444,
             "#bd3786"
            ],
            [
             0.5555555555555556,
             "#d8576b"
            ],
            [
             0.6666666666666666,
             "#ed7953"
            ],
            [
             0.7777777777777778,
             "#fb9f3a"
            ],
            [
             0.8888888888888888,
             "#fdca26"
            ],
            [
             1,
             "#f0f921"
            ]
           ]
          },
          "colorway": [
           "#636efa",
           "#EF553B",
           "#00cc96",
           "#ab63fa",
           "#FFA15A",
           "#19d3f3",
           "#FF6692",
           "#B6E880",
           "#FF97FF",
           "#FECB52"
          ],
          "font": {
           "color": "#2a3f5f"
          },
          "geo": {
           "bgcolor": "white",
           "lakecolor": "white",
           "landcolor": "#E5ECF6",
           "showlakes": true,
           "showland": true,
           "subunitcolor": "white"
          },
          "hoverlabel": {
           "align": "left"
          },
          "hovermode": "closest",
          "mapbox": {
           "style": "light"
          },
          "paper_bgcolor": "white",
          "plot_bgcolor": "#E5ECF6",
          "polar": {
           "angularaxis": {
            "gridcolor": "white",
            "linecolor": "white",
            "ticks": ""
           },
           "bgcolor": "#E5ECF6",
           "radialaxis": {
            "gridcolor": "white",
            "linecolor": "white",
            "ticks": ""
           }
          },
          "scene": {
           "xaxis": {
            "backgroundcolor": "#E5ECF6",
            "gridcolor": "white",
            "gridwidth": 2,
            "linecolor": "white",
            "showbackground": true,
            "ticks": "",
            "zerolinecolor": "white"
           },
           "yaxis": {
            "backgroundcolor": "#E5ECF6",
            "gridcolor": "white",
            "gridwidth": 2,
            "linecolor": "white",
            "showbackground": true,
            "ticks": "",
            "zerolinecolor": "white"
           },
           "zaxis": {
            "backgroundcolor": "#E5ECF6",
            "gridcolor": "white",
            "gridwidth": 2,
            "linecolor": "white",
            "showbackground": true,
            "ticks": "",
            "zerolinecolor": "white"
           }
          },
          "shapedefaults": {
           "line": {
            "color": "#2a3f5f"
           }
          },
          "ternary": {
           "aaxis": {
            "gridcolor": "white",
            "linecolor": "white",
            "ticks": ""
           },
           "baxis": {
            "gridcolor": "white",
            "linecolor": "white",
            "ticks": ""
           },
           "bgcolor": "#E5ECF6",
           "caxis": {
            "gridcolor": "white",
            "linecolor": "white",
            "ticks": ""
           }
          },
          "title": {
           "x": 0.05
          },
          "xaxis": {
           "automargin": true,
           "gridcolor": "white",
           "linecolor": "white",
           "ticks": "",
           "title": {
            "standoff": 15
           },
           "zerolinecolor": "white",
           "zerolinewidth": 2
          },
          "yaxis": {
           "automargin": true,
           "gridcolor": "white",
           "linecolor": "white",
           "ticks": "",
           "title": {
            "standoff": 15
           },
           "zerolinecolor": "white",
           "zerolinewidth": 2
          }
         }
        },
        "title": {
         "text": "Ranked Bar Chart of SI Score by District for NPK +20%",
         "x": 0.5
        },
        "width": 700,
        "xaxis": {
         "anchor": "y",
         "domain": [
          0,
          1
         ],
         "title": {
          "text": "SI Score"
         }
        },
        "yaxis": {
         "anchor": "x",
         "domain": [
          0,
          1
         ],
         "title": {
          "text": "District"
         }
        }
       }
      }
     },
     "metadata": {},
     "output_type": "display_data"
    }
   ],
   "source": [
    "ranked_df = result_df[['node', 'SI_Score']].sort_values(by='SI_Score', ascending=True)\n",
    "\n",
    "ranked_df = ranked_df.dropna()\n",
    "\n",
    "ranked_df['SI_Score'] = ranked_df['SI_Score'].round(2)\n",
    "\n",
    "fig = px.bar(\n",
    "    ranked_df,\n",
    "    x='SI_Score',        \n",
    "    y='node',            \n",
    "    text='SI_Score',     \n",
    "    title='Ranked Bar Chart of SI Score by District for NPK +20%',\n",
    "    labels={'node': 'District', 'SI_Score': 'SI Score'},\n",
    "    color='SI_Score',    \n",
    "    color_continuous_scale='Temps_r'\n",
    ")\n",
    "\n",
    "fig.update_layout(\n",
    "    width=700,\n",
    "    height=800,\n",
    "    xaxis_title='SI Score',\n",
    "    yaxis_title='District',\n",
    "    title_x=0.5 \n",
    ")\n",
    "\n",
    "fig.show()\n"
   ]
  },
  {
   "cell_type": "code",
   "execution_count": 132,
   "metadata": {},
   "outputs": [
    {
     "data": {
      "application/vnd.plotly.v1+json": {
       "config": {
        "plotlyServerURL": "https://plot.ly"
       },
       "data": [
        {
         "alignmentgroup": "True",
         "hovertemplate": "SI Score=%{marker.color}<br>District=%{y}<extra></extra>",
         "legendgroup": "",
         "marker": {
          "color": [
           0.64,
           0.96,
           1.09,
           1.5,
           1.76,
           1.89,
           1.96,
           2,
           2.12,
           2.17,
           2.18,
           2.22,
           2.32,
           2.35,
           2.36,
           2.39,
           2.39,
           2.41,
           2.53,
           2.62,
           2.66,
           2.68,
           2.78,
           2.79,
           2.79,
           2.82,
           2.9,
           2.92,
           3.07
          ],
          "coloraxis": "coloraxis",
          "pattern": {
           "shape": ""
          }
         },
         "name": "",
         "offsetgroup": "",
         "orientation": "h",
         "showlegend": false,
         "text": [
          0.64,
          0.96,
          1.09,
          1.5,
          1.76,
          1.89,
          1.96,
          2,
          2.12,
          2.17,
          2.18,
          2.22,
          2.32,
          2.35,
          2.36,
          2.39,
          2.39,
          2.41,
          2.53,
          2.62,
          2.66,
          2.68,
          2.78,
          2.79,
          2.79,
          2.82,
          2.9,
          2.92,
          3.07
         ],
         "textposition": "auto",
         "type": "bar",
         "x": [
          0.64,
          0.96,
          1.09,
          1.5,
          1.76,
          1.89,
          1.96,
          2,
          2.12,
          2.17,
          2.18,
          2.22,
          2.32,
          2.35,
          2.36,
          2.39,
          2.39,
          2.41,
          2.53,
          2.62,
          2.66,
          2.68,
          2.78,
          2.79,
          2.79,
          2.82,
          2.9,
          2.92,
          3.07
         ],
         "xaxis": "x",
         "y": [
          "BELAGAVI",
          "CHITRADURGA",
          "DAVANAGERE",
          "HASSAN",
          "UTTARA KANNADA",
          "TUMAKURU",
          "HAVERI",
          "KODAGU",
          "DHARAWAD",
          "CHIKKAMAGALURU",
          "VIJAYANAGARA",
          "SHIVAMOGGA",
          "KALABURAGI",
          "BENGALURU(R)",
          "RAICHUR",
          "MANDYA",
          "BALLARI",
          "YADGIRI",
          "GADAG",
          "CHAMARAJANAGAR",
          "CHIKKABALLAPURA",
          "BIDAR",
          "RAMANAGARA",
          "KOPPAL",
          "KOLAR",
          "BENGALURU",
          "BAGALKOT",
          "VIJAYAPURA",
          "MYSURU"
         ],
         "yaxis": "y"
        }
       ],
       "layout": {
        "barmode": "relative",
        "coloraxis": {
         "colorbar": {
          "title": {
           "text": "SI Score"
          }
         },
         "colorscale": [
          [
           0,
           "rgb(207, 89, 126)"
          ],
          [
           0.16666666666666666,
           "rgb(232, 132, 113)"
          ],
          [
           0.3333333333333333,
           "rgb(238, 180, 121)"
          ],
          [
           0.5,
           "rgb(233, 226, 156)"
          ],
          [
           0.6666666666666666,
           "rgb(156, 203, 134)"
          ],
          [
           0.8333333333333334,
           "rgb(57, 177, 133)"
          ],
          [
           1,
           "rgb(0, 147, 146)"
          ]
         ]
        },
        "height": 800,
        "legend": {
         "tracegroupgap": 0
        },
        "template": {
         "data": {
          "bar": [
           {
            "error_x": {
             "color": "#2a3f5f"
            },
            "error_y": {
             "color": "#2a3f5f"
            },
            "marker": {
             "line": {
              "color": "#E5ECF6",
              "width": 0.5
             },
             "pattern": {
              "fillmode": "overlay",
              "size": 10,
              "solidity": 0.2
             }
            },
            "type": "bar"
           }
          ],
          "barpolar": [
           {
            "marker": {
             "line": {
              "color": "#E5ECF6",
              "width": 0.5
             },
             "pattern": {
              "fillmode": "overlay",
              "size": 10,
              "solidity": 0.2
             }
            },
            "type": "barpolar"
           }
          ],
          "carpet": [
           {
            "aaxis": {
             "endlinecolor": "#2a3f5f",
             "gridcolor": "white",
             "linecolor": "white",
             "minorgridcolor": "white",
             "startlinecolor": "#2a3f5f"
            },
            "baxis": {
             "endlinecolor": "#2a3f5f",
             "gridcolor": "white",
             "linecolor": "white",
             "minorgridcolor": "white",
             "startlinecolor": "#2a3f5f"
            },
            "type": "carpet"
           }
          ],
          "choropleth": [
           {
            "colorbar": {
             "outlinewidth": 0,
             "ticks": ""
            },
            "type": "choropleth"
           }
          ],
          "contour": [
           {
            "colorbar": {
             "outlinewidth": 0,
             "ticks": ""
            },
            "colorscale": [
             [
              0,
              "#0d0887"
             ],
             [
              0.1111111111111111,
              "#46039f"
             ],
             [
              0.2222222222222222,
              "#7201a8"
             ],
             [
              0.3333333333333333,
              "#9c179e"
             ],
             [
              0.4444444444444444,
              "#bd3786"
             ],
             [
              0.5555555555555556,
              "#d8576b"
             ],
             [
              0.6666666666666666,
              "#ed7953"
             ],
             [
              0.7777777777777778,
              "#fb9f3a"
             ],
             [
              0.8888888888888888,
              "#fdca26"
             ],
             [
              1,
              "#f0f921"
             ]
            ],
            "type": "contour"
           }
          ],
          "contourcarpet": [
           {
            "colorbar": {
             "outlinewidth": 0,
             "ticks": ""
            },
            "type": "contourcarpet"
           }
          ],
          "heatmap": [
           {
            "colorbar": {
             "outlinewidth": 0,
             "ticks": ""
            },
            "colorscale": [
             [
              0,
              "#0d0887"
             ],
             [
              0.1111111111111111,
              "#46039f"
             ],
             [
              0.2222222222222222,
              "#7201a8"
             ],
             [
              0.3333333333333333,
              "#9c179e"
             ],
             [
              0.4444444444444444,
              "#bd3786"
             ],
             [
              0.5555555555555556,
              "#d8576b"
             ],
             [
              0.6666666666666666,
              "#ed7953"
             ],
             [
              0.7777777777777778,
              "#fb9f3a"
             ],
             [
              0.8888888888888888,
              "#fdca26"
             ],
             [
              1,
              "#f0f921"
             ]
            ],
            "type": "heatmap"
           }
          ],
          "heatmapgl": [
           {
            "colorbar": {
             "outlinewidth": 0,
             "ticks": ""
            },
            "colorscale": [
             [
              0,
              "#0d0887"
             ],
             [
              0.1111111111111111,
              "#46039f"
             ],
             [
              0.2222222222222222,
              "#7201a8"
             ],
             [
              0.3333333333333333,
              "#9c179e"
             ],
             [
              0.4444444444444444,
              "#bd3786"
             ],
             [
              0.5555555555555556,
              "#d8576b"
             ],
             [
              0.6666666666666666,
              "#ed7953"
             ],
             [
              0.7777777777777778,
              "#fb9f3a"
             ],
             [
              0.8888888888888888,
              "#fdca26"
             ],
             [
              1,
              "#f0f921"
             ]
            ],
            "type": "heatmapgl"
           }
          ],
          "histogram": [
           {
            "marker": {
             "pattern": {
              "fillmode": "overlay",
              "size": 10,
              "solidity": 0.2
             }
            },
            "type": "histogram"
           }
          ],
          "histogram2d": [
           {
            "colorbar": {
             "outlinewidth": 0,
             "ticks": ""
            },
            "colorscale": [
             [
              0,
              "#0d0887"
             ],
             [
              0.1111111111111111,
              "#46039f"
             ],
             [
              0.2222222222222222,
              "#7201a8"
             ],
             [
              0.3333333333333333,
              "#9c179e"
             ],
             [
              0.4444444444444444,
              "#bd3786"
             ],
             [
              0.5555555555555556,
              "#d8576b"
             ],
             [
              0.6666666666666666,
              "#ed7953"
             ],
             [
              0.7777777777777778,
              "#fb9f3a"
             ],
             [
              0.8888888888888888,
              "#fdca26"
             ],
             [
              1,
              "#f0f921"
             ]
            ],
            "type": "histogram2d"
           }
          ],
          "histogram2dcontour": [
           {
            "colorbar": {
             "outlinewidth": 0,
             "ticks": ""
            },
            "colorscale": [
             [
              0,
              "#0d0887"
             ],
             [
              0.1111111111111111,
              "#46039f"
             ],
             [
              0.2222222222222222,
              "#7201a8"
             ],
             [
              0.3333333333333333,
              "#9c179e"
             ],
             [
              0.4444444444444444,
              "#bd3786"
             ],
             [
              0.5555555555555556,
              "#d8576b"
             ],
             [
              0.6666666666666666,
              "#ed7953"
             ],
             [
              0.7777777777777778,
              "#fb9f3a"
             ],
             [
              0.8888888888888888,
              "#fdca26"
             ],
             [
              1,
              "#f0f921"
             ]
            ],
            "type": "histogram2dcontour"
           }
          ],
          "mesh3d": [
           {
            "colorbar": {
             "outlinewidth": 0,
             "ticks": ""
            },
            "type": "mesh3d"
           }
          ],
          "parcoords": [
           {
            "line": {
             "colorbar": {
              "outlinewidth": 0,
              "ticks": ""
             }
            },
            "type": "parcoords"
           }
          ],
          "pie": [
           {
            "automargin": true,
            "type": "pie"
           }
          ],
          "scatter": [
           {
            "fillpattern": {
             "fillmode": "overlay",
             "size": 10,
             "solidity": 0.2
            },
            "type": "scatter"
           }
          ],
          "scatter3d": [
           {
            "line": {
             "colorbar": {
              "outlinewidth": 0,
              "ticks": ""
             }
            },
            "marker": {
             "colorbar": {
              "outlinewidth": 0,
              "ticks": ""
             }
            },
            "type": "scatter3d"
           }
          ],
          "scattercarpet": [
           {
            "marker": {
             "colorbar": {
              "outlinewidth": 0,
              "ticks": ""
             }
            },
            "type": "scattercarpet"
           }
          ],
          "scattergeo": [
           {
            "marker": {
             "colorbar": {
              "outlinewidth": 0,
              "ticks": ""
             }
            },
            "type": "scattergeo"
           }
          ],
          "scattergl": [
           {
            "marker": {
             "colorbar": {
              "outlinewidth": 0,
              "ticks": ""
             }
            },
            "type": "scattergl"
           }
          ],
          "scattermapbox": [
           {
            "marker": {
             "colorbar": {
              "outlinewidth": 0,
              "ticks": ""
             }
            },
            "type": "scattermapbox"
           }
          ],
          "scatterpolar": [
           {
            "marker": {
             "colorbar": {
              "outlinewidth": 0,
              "ticks": ""
             }
            },
            "type": "scatterpolar"
           }
          ],
          "scatterpolargl": [
           {
            "marker": {
             "colorbar": {
              "outlinewidth": 0,
              "ticks": ""
             }
            },
            "type": "scatterpolargl"
           }
          ],
          "scatterternary": [
           {
            "marker": {
             "colorbar": {
              "outlinewidth": 0,
              "ticks": ""
             }
            },
            "type": "scatterternary"
           }
          ],
          "surface": [
           {
            "colorbar": {
             "outlinewidth": 0,
             "ticks": ""
            },
            "colorscale": [
             [
              0,
              "#0d0887"
             ],
             [
              0.1111111111111111,
              "#46039f"
             ],
             [
              0.2222222222222222,
              "#7201a8"
             ],
             [
              0.3333333333333333,
              "#9c179e"
             ],
             [
              0.4444444444444444,
              "#bd3786"
             ],
             [
              0.5555555555555556,
              "#d8576b"
             ],
             [
              0.6666666666666666,
              "#ed7953"
             ],
             [
              0.7777777777777778,
              "#fb9f3a"
             ],
             [
              0.8888888888888888,
              "#fdca26"
             ],
             [
              1,
              "#f0f921"
             ]
            ],
            "type": "surface"
           }
          ],
          "table": [
           {
            "cells": {
             "fill": {
              "color": "#EBF0F8"
             },
             "line": {
              "color": "white"
             }
            },
            "header": {
             "fill": {
              "color": "#C8D4E3"
             },
             "line": {
              "color": "white"
             }
            },
            "type": "table"
           }
          ]
         },
         "layout": {
          "annotationdefaults": {
           "arrowcolor": "#2a3f5f",
           "arrowhead": 0,
           "arrowwidth": 1
          },
          "autotypenumbers": "strict",
          "coloraxis": {
           "colorbar": {
            "outlinewidth": 0,
            "ticks": ""
           }
          },
          "colorscale": {
           "diverging": [
            [
             0,
             "#8e0152"
            ],
            [
             0.1,
             "#c51b7d"
            ],
            [
             0.2,
             "#de77ae"
            ],
            [
             0.3,
             "#f1b6da"
            ],
            [
             0.4,
             "#fde0ef"
            ],
            [
             0.5,
             "#f7f7f7"
            ],
            [
             0.6,
             "#e6f5d0"
            ],
            [
             0.7,
             "#b8e186"
            ],
            [
             0.8,
             "#7fbc41"
            ],
            [
             0.9,
             "#4d9221"
            ],
            [
             1,
             "#276419"
            ]
           ],
           "sequential": [
            [
             0,
             "#0d0887"
            ],
            [
             0.1111111111111111,
             "#46039f"
            ],
            [
             0.2222222222222222,
             "#7201a8"
            ],
            [
             0.3333333333333333,
             "#9c179e"
            ],
            [
             0.4444444444444444,
             "#bd3786"
            ],
            [
             0.5555555555555556,
             "#d8576b"
            ],
            [
             0.6666666666666666,
             "#ed7953"
            ],
            [
             0.7777777777777778,
             "#fb9f3a"
            ],
            [
             0.8888888888888888,
             "#fdca26"
            ],
            [
             1,
             "#f0f921"
            ]
           ],
           "sequentialminus": [
            [
             0,
             "#0d0887"
            ],
            [
             0.1111111111111111,
             "#46039f"
            ],
            [
             0.2222222222222222,
             "#7201a8"
            ],
            [
             0.3333333333333333,
             "#9c179e"
            ],
            [
             0.4444444444444444,
             "#bd3786"
            ],
            [
             0.5555555555555556,
             "#d8576b"
            ],
            [
             0.6666666666666666,
             "#ed7953"
            ],
            [
             0.7777777777777778,
             "#fb9f3a"
            ],
            [
             0.8888888888888888,
             "#fdca26"
            ],
            [
             1,
             "#f0f921"
            ]
           ]
          },
          "colorway": [
           "#636efa",
           "#EF553B",
           "#00cc96",
           "#ab63fa",
           "#FFA15A",
           "#19d3f3",
           "#FF6692",
           "#B6E880",
           "#FF97FF",
           "#FECB52"
          ],
          "font": {
           "color": "#2a3f5f"
          },
          "geo": {
           "bgcolor": "white",
           "lakecolor": "white",
           "landcolor": "#E5ECF6",
           "showlakes": true,
           "showland": true,
           "subunitcolor": "white"
          },
          "hoverlabel": {
           "align": "left"
          },
          "hovermode": "closest",
          "mapbox": {
           "style": "light"
          },
          "paper_bgcolor": "white",
          "plot_bgcolor": "#E5ECF6",
          "polar": {
           "angularaxis": {
            "gridcolor": "white",
            "linecolor": "white",
            "ticks": ""
           },
           "bgcolor": "#E5ECF6",
           "radialaxis": {
            "gridcolor": "white",
            "linecolor": "white",
            "ticks": ""
           }
          },
          "scene": {
           "xaxis": {
            "backgroundcolor": "#E5ECF6",
            "gridcolor": "white",
            "gridwidth": 2,
            "linecolor": "white",
            "showbackground": true,
            "ticks": "",
            "zerolinecolor": "white"
           },
           "yaxis": {
            "backgroundcolor": "#E5ECF6",
            "gridcolor": "white",
            "gridwidth": 2,
            "linecolor": "white",
            "showbackground": true,
            "ticks": "",
            "zerolinecolor": "white"
           },
           "zaxis": {
            "backgroundcolor": "#E5ECF6",
            "gridcolor": "white",
            "gridwidth": 2,
            "linecolor": "white",
            "showbackground": true,
            "ticks": "",
            "zerolinecolor": "white"
           }
          },
          "shapedefaults": {
           "line": {
            "color": "#2a3f5f"
           }
          },
          "ternary": {
           "aaxis": {
            "gridcolor": "white",
            "linecolor": "white",
            "ticks": ""
           },
           "baxis": {
            "gridcolor": "white",
            "linecolor": "white",
            "ticks": ""
           },
           "bgcolor": "#E5ECF6",
           "caxis": {
            "gridcolor": "white",
            "linecolor": "white",
            "ticks": ""
           }
          },
          "title": {
           "x": 0.05
          },
          "xaxis": {
           "automargin": true,
           "gridcolor": "white",
           "linecolor": "white",
           "ticks": "",
           "title": {
            "standoff": 15
           },
           "zerolinecolor": "white",
           "zerolinewidth": 2
          },
          "yaxis": {
           "automargin": true,
           "gridcolor": "white",
           "linecolor": "white",
           "ticks": "",
           "title": {
            "standoff": 15
           },
           "zerolinecolor": "white",
           "zerolinewidth": 2
          }
         }
        },
        "title": {
         "text": "Ranked Bar Chart of SI Score by District for NPK +20%",
         "x": 0.5
        },
        "width": 700,
        "xaxis": {
         "anchor": "y",
         "domain": [
          0,
          1
         ],
         "title": {
          "text": "SI Score"
         }
        },
        "yaxis": {
         "anchor": "x",
         "domain": [
          0,
          1
         ],
         "title": {
          "text": "District"
         }
        }
       }
      }
     },
     "metadata": {},
     "output_type": "display_data"
    }
   ],
   "source": [
    "ranked_df = result_df[['node', 'SI_Score']].sort_values(by='SI_Score', ascending=True)\n",
    "ranked_df = ranked_df[ranked_df['SI_Score'] <= 5]\n",
    "\n",
    "ranked_df = ranked_df.dropna()\n",
    "\n",
    "ranked_df['SI_Score'] = ranked_df['SI_Score'].round(2)\n",
    "\n",
    "fig = px.bar(\n",
    "    ranked_df,\n",
    "    x='SI_Score',        \n",
    "    y='node',            \n",
    "    text='SI_Score',     \n",
    "    title='Ranked Bar Chart of SI Score by District for NPK +20%',\n",
    "    labels={'node': 'District', 'SI_Score': 'SI Score'},\n",
    "    color='SI_Score',    \n",
    "    color_continuous_scale='Temps_r'\n",
    ")\n",
    "\n",
    "fig.update_layout(\n",
    "    width=700,\n",
    "    height=800,\n",
    "    xaxis_title='SI Score',\n",
    "    yaxis_title='District',\n",
    "    title_x=0.5 \n",
    ")\n",
    "\n",
    "fig.show()\n"
   ]
  },
  {
   "cell_type": "code",
   "execution_count": 133,
   "metadata": {},
   "outputs": [
    {
     "data": {
      "application/vnd.plotly.v1+json": {
       "config": {
        "plotlyServerURL": "https://plot.ly"
       },
       "data": [
        {
         "name": "Stability",
         "orientation": "h",
         "type": "bar",
         "x": [
          0.9471546575318599,
          0.8334743679014446,
          0.8916607870269553,
          0.3013425757052479,
          0.3402272298793382,
          0.8709059777214214,
          0.8329059676605256,
          0.8668504512086758,
          0.5915356495933974,
          0.6806570225706106,
          0.8209577457620489,
          0.8661717628327409,
          0.5159142128972629,
          0.771719774534968,
          0.7516696316238347,
          0.9872299459861256,
          0.8210796776997652,
          0.19997583978306221,
          0.9157316311521891,
          0.9072949666057523,
          0.6633426872435775,
          0.7925875056589303,
          0.6129989949301812,
          0.5516907407508259,
          0.7478489288642841,
          0.9538808533800817,
          0.7242776138264263,
          0.7536154780697685,
          0.7367596158852259,
          0.8726948402165172,
          0.6824621347572125
         ],
         "y": [
          "BENGALURU",
          "BENGALURU(R)",
          "RAMANAGARA",
          "CHITRADURGA",
          "DAVANAGERE",
          "KOLAR",
          "CHIKKABALLAPURA",
          "SHIVAMOGGA",
          "TUMAKURU",
          "CHIKKAMAGALURU",
          "DAKSHINA KANNADA",
          "UDUPI",
          "HASSAN",
          "KODAGU",
          "MANDYA",
          "MYSURU",
          "CHAMARAJANAGAR",
          "BELAGAVI",
          "VIJAYAPURA",
          "BAGALKOT",
          "DHARAWAD",
          "GADAG",
          "HAVERI",
          "UTTARA KANNADA",
          "BALLARI",
          "BIDAR",
          "KALABURAGI",
          "YADGIRI",
          "RAICHUR",
          "KOPPAL",
          "VIJAYANAGARA"
         ]
        },
        {
         "name": "Mean Impact",
         "orientation": "h",
         "type": "bar",
         "x": [
          0.15230004549701823,
          0.07083299798976254,
          0.02144640256768403,
          0.040559720709999365,
          0.04381039088597163,
          0.12686552267708046,
          0.07862399786447427,
          0.045079545836435274,
          0.041551316241324285,
          0.13444351615756428,
          null,
          0.01814477839086165,
          0.050969174671119735,
          0.1926709199015432,
          0.07554639818164247,
          0.05105585171204839,
          0.04987282586476999,
          0.08472083907814743,
          0.04657124285880644,
          0.09221691130513596,
          0.0719851486671953,
          0.040859808444518586,
          0.0531713319020268,
          0.043078602857062234,
          0.08173100935691087,
          0.08853031981560874,
          0.04909674091650843,
          0.13947262360213247,
          0.0861268289169044,
          0.058485731116570835,
          0.08173100935691087
         ],
         "y": [
          "BENGALURU",
          "BENGALURU(R)",
          "RAMANAGARA",
          "CHITRADURGA",
          "DAVANAGERE",
          "KOLAR",
          "CHIKKABALLAPURA",
          "SHIVAMOGGA",
          "TUMAKURU",
          "CHIKKAMAGALURU",
          "DAKSHINA KANNADA",
          "UDUPI",
          "HASSAN",
          "KODAGU",
          "MANDYA",
          "MYSURU",
          "CHAMARAJANAGAR",
          "BELAGAVI",
          "VIJAYAPURA",
          "BAGALKOT",
          "DHARAWAD",
          "GADAG",
          "HAVERI",
          "UTTARA KANNADA",
          "BALLARI",
          "BIDAR",
          "KALABURAGI",
          "YADGIRI",
          "RAICHUR",
          "KOPPAL",
          "VIJAYANAGARA"
         ]
        },
        {
         "name": "Dissonance",
         "orientation": "h",
         "type": "bar",
         "x": [
          0.05107896423347308,
          0.025161141610593046,
          0.0068679604148711715,
          0.012698005036477042,
          0.013729749949378159,
          0.03961744810803354,
          0.024606380473760667,
          0.01757844651158022,
          0.012997146185772794,
          0.04223059844457347,
          null,
          0.00040769092469872606,
          0.017485374294254834,
          0.07423072869197528,
          0.023766645530767794,
          0.016397417709811075,
          0.015613476247415242,
          0.02651225746315039,
          0.014604270082623057,
          0.02887652029931452,
          0.02252351293548606,
          0.012780513097386467,
          0.016659994078781888,
          0.013477467152032956,
          0.025571572520740243,
          0.0314667698994167,
          0.015341844068084295,
          0.0435388530576131,
          0.026916466647518997,
          0.018312266715831284,
          0.025571572520740243
         ],
         "y": [
          "BENGALURU",
          "BENGALURU(R)",
          "RAMANAGARA",
          "CHITRADURGA",
          "DAVANAGERE",
          "KOLAR",
          "CHIKKABALLAPURA",
          "SHIVAMOGGA",
          "TUMAKURU",
          "CHIKKAMAGALURU",
          "DAKSHINA KANNADA",
          "UDUPI",
          "HASSAN",
          "KODAGU",
          "MANDYA",
          "MYSURU",
          "CHAMARAJANAGAR",
          "BELAGAVI",
          "VIJAYAPURA",
          "BAGALKOT",
          "DHARAWAD",
          "GADAG",
          "HAVERI",
          "UTTARA KANNADA",
          "BALLARI",
          "BIDAR",
          "KALABURAGI",
          "YADGIRI",
          "RAICHUR",
          "KOPPAL",
          "VIJAYANAGARA"
         ]
        }
       ],
       "layout": {
        "barmode": "group",
        "height": 1200,
        "template": {
         "data": {
          "bar": [
           {
            "error_x": {
             "color": "#2a3f5f"
            },
            "error_y": {
             "color": "#2a3f5f"
            },
            "marker": {
             "line": {
              "color": "#E5ECF6",
              "width": 0.5
             },
             "pattern": {
              "fillmode": "overlay",
              "size": 10,
              "solidity": 0.2
             }
            },
            "type": "bar"
           }
          ],
          "barpolar": [
           {
            "marker": {
             "line": {
              "color": "#E5ECF6",
              "width": 0.5
             },
             "pattern": {
              "fillmode": "overlay",
              "size": 10,
              "solidity": 0.2
             }
            },
            "type": "barpolar"
           }
          ],
          "carpet": [
           {
            "aaxis": {
             "endlinecolor": "#2a3f5f",
             "gridcolor": "white",
             "linecolor": "white",
             "minorgridcolor": "white",
             "startlinecolor": "#2a3f5f"
            },
            "baxis": {
             "endlinecolor": "#2a3f5f",
             "gridcolor": "white",
             "linecolor": "white",
             "minorgridcolor": "white",
             "startlinecolor": "#2a3f5f"
            },
            "type": "carpet"
           }
          ],
          "choropleth": [
           {
            "colorbar": {
             "outlinewidth": 0,
             "ticks": ""
            },
            "type": "choropleth"
           }
          ],
          "contour": [
           {
            "colorbar": {
             "outlinewidth": 0,
             "ticks": ""
            },
            "colorscale": [
             [
              0,
              "#0d0887"
             ],
             [
              0.1111111111111111,
              "#46039f"
             ],
             [
              0.2222222222222222,
              "#7201a8"
             ],
             [
              0.3333333333333333,
              "#9c179e"
             ],
             [
              0.4444444444444444,
              "#bd3786"
             ],
             [
              0.5555555555555556,
              "#d8576b"
             ],
             [
              0.6666666666666666,
              "#ed7953"
             ],
             [
              0.7777777777777778,
              "#fb9f3a"
             ],
             [
              0.8888888888888888,
              "#fdca26"
             ],
             [
              1,
              "#f0f921"
             ]
            ],
            "type": "contour"
           }
          ],
          "contourcarpet": [
           {
            "colorbar": {
             "outlinewidth": 0,
             "ticks": ""
            },
            "type": "contourcarpet"
           }
          ],
          "heatmap": [
           {
            "colorbar": {
             "outlinewidth": 0,
             "ticks": ""
            },
            "colorscale": [
             [
              0,
              "#0d0887"
             ],
             [
              0.1111111111111111,
              "#46039f"
             ],
             [
              0.2222222222222222,
              "#7201a8"
             ],
             [
              0.3333333333333333,
              "#9c179e"
             ],
             [
              0.4444444444444444,
              "#bd3786"
             ],
             [
              0.5555555555555556,
              "#d8576b"
             ],
             [
              0.6666666666666666,
              "#ed7953"
             ],
             [
              0.7777777777777778,
              "#fb9f3a"
             ],
             [
              0.8888888888888888,
              "#fdca26"
             ],
             [
              1,
              "#f0f921"
             ]
            ],
            "type": "heatmap"
           }
          ],
          "heatmapgl": [
           {
            "colorbar": {
             "outlinewidth": 0,
             "ticks": ""
            },
            "colorscale": [
             [
              0,
              "#0d0887"
             ],
             [
              0.1111111111111111,
              "#46039f"
             ],
             [
              0.2222222222222222,
              "#7201a8"
             ],
             [
              0.3333333333333333,
              "#9c179e"
             ],
             [
              0.4444444444444444,
              "#bd3786"
             ],
             [
              0.5555555555555556,
              "#d8576b"
             ],
             [
              0.6666666666666666,
              "#ed7953"
             ],
             [
              0.7777777777777778,
              "#fb9f3a"
             ],
             [
              0.8888888888888888,
              "#fdca26"
             ],
             [
              1,
              "#f0f921"
             ]
            ],
            "type": "heatmapgl"
           }
          ],
          "histogram": [
           {
            "marker": {
             "pattern": {
              "fillmode": "overlay",
              "size": 10,
              "solidity": 0.2
             }
            },
            "type": "histogram"
           }
          ],
          "histogram2d": [
           {
            "colorbar": {
             "outlinewidth": 0,
             "ticks": ""
            },
            "colorscale": [
             [
              0,
              "#0d0887"
             ],
             [
              0.1111111111111111,
              "#46039f"
             ],
             [
              0.2222222222222222,
              "#7201a8"
             ],
             [
              0.3333333333333333,
              "#9c179e"
             ],
             [
              0.4444444444444444,
              "#bd3786"
             ],
             [
              0.5555555555555556,
              "#d8576b"
             ],
             [
              0.6666666666666666,
              "#ed7953"
             ],
             [
              0.7777777777777778,
              "#fb9f3a"
             ],
             [
              0.8888888888888888,
              "#fdca26"
             ],
             [
              1,
              "#f0f921"
             ]
            ],
            "type": "histogram2d"
           }
          ],
          "histogram2dcontour": [
           {
            "colorbar": {
             "outlinewidth": 0,
             "ticks": ""
            },
            "colorscale": [
             [
              0,
              "#0d0887"
             ],
             [
              0.1111111111111111,
              "#46039f"
             ],
             [
              0.2222222222222222,
              "#7201a8"
             ],
             [
              0.3333333333333333,
              "#9c179e"
             ],
             [
              0.4444444444444444,
              "#bd3786"
             ],
             [
              0.5555555555555556,
              "#d8576b"
             ],
             [
              0.6666666666666666,
              "#ed7953"
             ],
             [
              0.7777777777777778,
              "#fb9f3a"
             ],
             [
              0.8888888888888888,
              "#fdca26"
             ],
             [
              1,
              "#f0f921"
             ]
            ],
            "type": "histogram2dcontour"
           }
          ],
          "mesh3d": [
           {
            "colorbar": {
             "outlinewidth": 0,
             "ticks": ""
            },
            "type": "mesh3d"
           }
          ],
          "parcoords": [
           {
            "line": {
             "colorbar": {
              "outlinewidth": 0,
              "ticks": ""
             }
            },
            "type": "parcoords"
           }
          ],
          "pie": [
           {
            "automargin": true,
            "type": "pie"
           }
          ],
          "scatter": [
           {
            "fillpattern": {
             "fillmode": "overlay",
             "size": 10,
             "solidity": 0.2
            },
            "type": "scatter"
           }
          ],
          "scatter3d": [
           {
            "line": {
             "colorbar": {
              "outlinewidth": 0,
              "ticks": ""
             }
            },
            "marker": {
             "colorbar": {
              "outlinewidth": 0,
              "ticks": ""
             }
            },
            "type": "scatter3d"
           }
          ],
          "scattercarpet": [
           {
            "marker": {
             "colorbar": {
              "outlinewidth": 0,
              "ticks": ""
             }
            },
            "type": "scattercarpet"
           }
          ],
          "scattergeo": [
           {
            "marker": {
             "colorbar": {
              "outlinewidth": 0,
              "ticks": ""
             }
            },
            "type": "scattergeo"
           }
          ],
          "scattergl": [
           {
            "marker": {
             "colorbar": {
              "outlinewidth": 0,
              "ticks": ""
             }
            },
            "type": "scattergl"
           }
          ],
          "scattermapbox": [
           {
            "marker": {
             "colorbar": {
              "outlinewidth": 0,
              "ticks": ""
             }
            },
            "type": "scattermapbox"
           }
          ],
          "scatterpolar": [
           {
            "marker": {
             "colorbar": {
              "outlinewidth": 0,
              "ticks": ""
             }
            },
            "type": "scatterpolar"
           }
          ],
          "scatterpolargl": [
           {
            "marker": {
             "colorbar": {
              "outlinewidth": 0,
              "ticks": ""
             }
            },
            "type": "scatterpolargl"
           }
          ],
          "scatterternary": [
           {
            "marker": {
             "colorbar": {
              "outlinewidth": 0,
              "ticks": ""
             }
            },
            "type": "scatterternary"
           }
          ],
          "surface": [
           {
            "colorbar": {
             "outlinewidth": 0,
             "ticks": ""
            },
            "colorscale": [
             [
              0,
              "#0d0887"
             ],
             [
              0.1111111111111111,
              "#46039f"
             ],
             [
              0.2222222222222222,
              "#7201a8"
             ],
             [
              0.3333333333333333,
              "#9c179e"
             ],
             [
              0.4444444444444444,
              "#bd3786"
             ],
             [
              0.5555555555555556,
              "#d8576b"
             ],
             [
              0.6666666666666666,
              "#ed7953"
             ],
             [
              0.7777777777777778,
              "#fb9f3a"
             ],
             [
              0.8888888888888888,
              "#fdca26"
             ],
             [
              1,
              "#f0f921"
             ]
            ],
            "type": "surface"
           }
          ],
          "table": [
           {
            "cells": {
             "fill": {
              "color": "#EBF0F8"
             },
             "line": {
              "color": "white"
             }
            },
            "header": {
             "fill": {
              "color": "#C8D4E3"
             },
             "line": {
              "color": "white"
             }
            },
            "type": "table"
           }
          ]
         },
         "layout": {
          "annotationdefaults": {
           "arrowcolor": "#2a3f5f",
           "arrowhead": 0,
           "arrowwidth": 1
          },
          "autotypenumbers": "strict",
          "coloraxis": {
           "colorbar": {
            "outlinewidth": 0,
            "ticks": ""
           }
          },
          "colorscale": {
           "diverging": [
            [
             0,
             "#8e0152"
            ],
            [
             0.1,
             "#c51b7d"
            ],
            [
             0.2,
             "#de77ae"
            ],
            [
             0.3,
             "#f1b6da"
            ],
            [
             0.4,
             "#fde0ef"
            ],
            [
             0.5,
             "#f7f7f7"
            ],
            [
             0.6,
             "#e6f5d0"
            ],
            [
             0.7,
             "#b8e186"
            ],
            [
             0.8,
             "#7fbc41"
            ],
            [
             0.9,
             "#4d9221"
            ],
            [
             1,
             "#276419"
            ]
           ],
           "sequential": [
            [
             0,
             "#0d0887"
            ],
            [
             0.1111111111111111,
             "#46039f"
            ],
            [
             0.2222222222222222,
             "#7201a8"
            ],
            [
             0.3333333333333333,
             "#9c179e"
            ],
            [
             0.4444444444444444,
             "#bd3786"
            ],
            [
             0.5555555555555556,
             "#d8576b"
            ],
            [
             0.6666666666666666,
             "#ed7953"
            ],
            [
             0.7777777777777778,
             "#fb9f3a"
            ],
            [
             0.8888888888888888,
             "#fdca26"
            ],
            [
             1,
             "#f0f921"
            ]
           ],
           "sequentialminus": [
            [
             0,
             "#0d0887"
            ],
            [
             0.1111111111111111,
             "#46039f"
            ],
            [
             0.2222222222222222,
             "#7201a8"
            ],
            [
             0.3333333333333333,
             "#9c179e"
            ],
            [
             0.4444444444444444,
             "#bd3786"
            ],
            [
             0.5555555555555556,
             "#d8576b"
            ],
            [
             0.6666666666666666,
             "#ed7953"
            ],
            [
             0.7777777777777778,
             "#fb9f3a"
            ],
            [
             0.8888888888888888,
             "#fdca26"
            ],
            [
             1,
             "#f0f921"
            ]
           ]
          },
          "colorway": [
           "#636efa",
           "#EF553B",
           "#00cc96",
           "#ab63fa",
           "#FFA15A",
           "#19d3f3",
           "#FF6692",
           "#B6E880",
           "#FF97FF",
           "#FECB52"
          ],
          "font": {
           "color": "#2a3f5f"
          },
          "geo": {
           "bgcolor": "white",
           "lakecolor": "white",
           "landcolor": "#E5ECF6",
           "showlakes": true,
           "showland": true,
           "subunitcolor": "white"
          },
          "hoverlabel": {
           "align": "left"
          },
          "hovermode": "closest",
          "mapbox": {
           "style": "light"
          },
          "paper_bgcolor": "white",
          "plot_bgcolor": "#E5ECF6",
          "polar": {
           "angularaxis": {
            "gridcolor": "white",
            "linecolor": "white",
            "ticks": ""
           },
           "bgcolor": "#E5ECF6",
           "radialaxis": {
            "gridcolor": "white",
            "linecolor": "white",
            "ticks": ""
           }
          },
          "scene": {
           "xaxis": {
            "backgroundcolor": "#E5ECF6",
            "gridcolor": "white",
            "gridwidth": 2,
            "linecolor": "white",
            "showbackground": true,
            "ticks": "",
            "zerolinecolor": "white"
           },
           "yaxis": {
            "backgroundcolor": "#E5ECF6",
            "gridcolor": "white",
            "gridwidth": 2,
            "linecolor": "white",
            "showbackground": true,
            "ticks": "",
            "zerolinecolor": "white"
           },
           "zaxis": {
            "backgroundcolor": "#E5ECF6",
            "gridcolor": "white",
            "gridwidth": 2,
            "linecolor": "white",
            "showbackground": true,
            "ticks": "",
            "zerolinecolor": "white"
           }
          },
          "shapedefaults": {
           "line": {
            "color": "#2a3f5f"
           }
          },
          "ternary": {
           "aaxis": {
            "gridcolor": "white",
            "linecolor": "white",
            "ticks": ""
           },
           "baxis": {
            "gridcolor": "white",
            "linecolor": "white",
            "ticks": ""
           },
           "bgcolor": "#E5ECF6",
           "caxis": {
            "gridcolor": "white",
            "linecolor": "white",
            "ticks": ""
           }
          },
          "title": {
           "x": 0.05
          },
          "xaxis": {
           "automargin": true,
           "gridcolor": "white",
           "linecolor": "white",
           "ticks": "",
           "title": {
            "standoff": 15
           },
           "zerolinecolor": "white",
           "zerolinewidth": 2
          },
          "yaxis": {
           "automargin": true,
           "gridcolor": "white",
           "linecolor": "white",
           "ticks": "",
           "title": {
            "standoff": 15
           },
           "zerolinecolor": "white",
           "zerolinewidth": 2
          }
         }
        },
        "title": {
         "text": "Stability, Mean Impact, and Dissonance per District"
        },
        "width": 1200,
        "xaxis": {
         "title": {
          "text": "Values"
         }
        },
        "yaxis": {
         "title": {
          "text": "District"
         }
        }
       }
      }
     },
     "metadata": {},
     "output_type": "display_data"
    }
   ],
   "source": [
    "import plotly.graph_objects as go\n",
    "filtered_df = result_df[['node','stability','Mean_Impact','Dissonance']]\n",
    "filtered_df\n",
    "# Create a bar plot\n",
    "fig = go.Figure()\n",
    "\n",
    "# Add bars for each category\n",
    "fig.add_trace(go.Bar(\n",
    "    y=filtered_df['node'],\n",
    "    x=filtered_df['stability'],\n",
    "    name='Stability',\n",
    "    orientation='h'\n",
    "))\n",
    "\n",
    "fig.add_trace(go.Bar(\n",
    "    y=filtered_df['node'],\n",
    "    x=filtered_df['Mean_Impact'],\n",
    "    name='Mean Impact',\n",
    "    orientation='h'\n",
    "))\n",
    "\n",
    "fig.add_trace(go.Bar(\n",
    "    y=filtered_df['node'],\n",
    "    x=filtered_df['Dissonance'],\n",
    "    name='Dissonance',\n",
    "    orientation='h'\n",
    "))\n",
    "\n",
    "# Update layout with increased plot size\n",
    "fig.update_layout(\n",
    "    title='Stability, Mean Impact, and Dissonance per District',\n",
    "    barmode='group',  # Group bars together\n",
    "    xaxis_title='Values',\n",
    "    yaxis_title='District',\n",
    "    width=1200,  # Increase width\n",
    "    height=1200   # Increase height\n",
    ")\n",
    "\n",
    "# Show the plot\n",
    "fig.show()\n"
   ]
  },
  {
   "cell_type": "code",
   "execution_count": 134,
   "metadata": {},
   "outputs": [
    {
     "data": {
      "text/html": [
       "<div>\n",
       "<style scoped>\n",
       "    .dataframe tbody tr th:only-of-type {\n",
       "        vertical-align: middle;\n",
       "    }\n",
       "\n",
       "    .dataframe tbody tr th {\n",
       "        vertical-align: top;\n",
       "    }\n",
       "\n",
       "    .dataframe thead th {\n",
       "        text-align: right;\n",
       "    }\n",
       "</style>\n",
       "<table border=\"1\" class=\"dataframe\">\n",
       "  <thead>\n",
       "    <tr style=\"text-align: right;\">\n",
       "      <th></th>\n",
       "      <th>node</th>\n",
       "      <th>Groundnut_Production</th>\n",
       "      <th>Maize_Production</th>\n",
       "      <th>stress</th>\n",
       "      <th>stability</th>\n",
       "    </tr>\n",
       "  </thead>\n",
       "  <tbody>\n",
       "    <tr>\n",
       "      <th>0</th>\n",
       "      <td>BENGALURU</td>\n",
       "      <td>0.001035</td>\n",
       "      <td>0.004851</td>\n",
       "      <td>0.053472</td>\n",
       "      <td>0.946528</td>\n",
       "    </tr>\n",
       "    <tr>\n",
       "      <th>1</th>\n",
       "      <td>BENGALURU(R)</td>\n",
       "      <td>0.003004</td>\n",
       "      <td>0.071744</td>\n",
       "      <td>0.164829</td>\n",
       "      <td>0.835171</td>\n",
       "    </tr>\n",
       "    <tr>\n",
       "      <th>2</th>\n",
       "      <td>RAMANAGARA</td>\n",
       "      <td>0.070434</td>\n",
       "      <td>0.017606</td>\n",
       "      <td>0.107057</td>\n",
       "      <td>0.892943</td>\n",
       "    </tr>\n",
       "    <tr>\n",
       "      <th>3</th>\n",
       "      <td>CHITRADURGA</td>\n",
       "      <td>1.000000</td>\n",
       "      <td>0.458222</td>\n",
       "      <td>0.705870</td>\n",
       "      <td>0.294130</td>\n",
       "    </tr>\n",
       "    <tr>\n",
       "      <th>4</th>\n",
       "      <td>DAVANAGERE</td>\n",
       "      <td>0.241954</td>\n",
       "      <td>1.000000</td>\n",
       "      <td>0.674396</td>\n",
       "      <td>0.325604</td>\n",
       "    </tr>\n",
       "  </tbody>\n",
       "</table>\n",
       "</div>"
      ],
      "text/plain": [
       "           node  Groundnut_Production  Maize_Production    stress  stability\n",
       "0     BENGALURU              0.001035          0.004851  0.053472   0.946528\n",
       "1  BENGALURU(R)              0.003004          0.071744  0.164829   0.835171\n",
       "2    RAMANAGARA              0.070434          0.017606  0.107057   0.892943\n",
       "3   CHITRADURGA              1.000000          0.458222  0.705870   0.294130\n",
       "4    DAVANAGERE              0.241954          1.000000  0.674396   0.325604"
      ]
     },
     "execution_count": 134,
     "metadata": {},
     "output_type": "execute_result"
    }
   ],
   "source": [
    "Groundnut_Prod = normalize_list(Groundnut_Directory['Groundnut_Production'])\n",
    "Maize_Prod = normalize_list(Maize_Directory['Maize_Production'])\n",
    "\n",
    "# Combine capabilities into a single DataFrame\n",
    "combined_df = pd.DataFrame({\n",
    "    'node': Working_Directory['District'],\n",
    "    'Groundnut_Production': Groundnut_Prod,\n",
    "    'Maize_Production': Maize_Prod\n",
    "})\n",
    "\n",
    "# Calculate stress and stability for the combined capabilities\n",
    "init_df = calculate_stress_stability(adj_matrix_np, combined_df)\n",
    "init_df[:5]"
   ]
  },
  {
   "cell_type": "code",
   "execution_count": 135,
   "metadata": {},
   "outputs": [
    {
     "data": {
      "text/html": [
       "<div>\n",
       "<style scoped>\n",
       "    .dataframe tbody tr th:only-of-type {\n",
       "        vertical-align: middle;\n",
       "    }\n",
       "\n",
       "    .dataframe tbody tr th {\n",
       "        vertical-align: top;\n",
       "    }\n",
       "\n",
       "    .dataframe thead th {\n",
       "        text-align: right;\n",
       "    }\n",
       "</style>\n",
       "<table border=\"1\" class=\"dataframe\">\n",
       "  <thead>\n",
       "    <tr style=\"text-align: right;\">\n",
       "      <th></th>\n",
       "      <th>District</th>\n",
       "      <th>KDG_District</th>\n",
       "      <th>Original Rice Production</th>\n",
       "      <th>Original Maize Production</th>\n",
       "      <th>Initial Stress</th>\n",
       "      <th>Initial Stability</th>\n",
       "      <th>New Rice Production</th>\n",
       "      <th>New Maize Production</th>\n",
       "      <th>Rice Impact</th>\n",
       "      <th>Maize Impact</th>\n",
       "      <th>Stability</th>\n",
       "      <th>Stress</th>\n",
       "      <th>Perturbation</th>\n",
       "      <th>Factor</th>\n",
       "    </tr>\n",
       "  </thead>\n",
       "  <tbody>\n",
       "    <tr>\n",
       "      <th>0</th>\n",
       "      <td>BENGALURU</td>\n",
       "      <td>Bengaluru Urban</td>\n",
       "      <td>71.0</td>\n",
       "      <td>2879</td>\n",
       "      <td>0.053472</td>\n",
       "      <td>0.946528</td>\n",
       "      <td>75</td>\n",
       "      <td>3135</td>\n",
       "      <td>5.633803</td>\n",
       "      <td>8.891976</td>\n",
       "      <td>0.946611</td>\n",
       "      <td>0.053389</td>\n",
       "      <td>10</td>\n",
       "      <td>TotalNPK</td>\n",
       "    </tr>\n",
       "    <tr>\n",
       "      <th>1</th>\n",
       "      <td>BENGALURU(R)</td>\n",
       "      <td>Bengaluru Rural</td>\n",
       "      <td>206.0</td>\n",
       "      <td>42583</td>\n",
       "      <td>0.164829</td>\n",
       "      <td>0.835171</td>\n",
       "      <td>212</td>\n",
       "      <td>44359</td>\n",
       "      <td>2.912621</td>\n",
       "      <td>4.170678</td>\n",
       "      <td>0.834310</td>\n",
       "      <td>0.165690</td>\n",
       "      <td>10</td>\n",
       "      <td>TotalNPK</td>\n",
       "    </tr>\n",
       "    <tr>\n",
       "      <th>2</th>\n",
       "      <td>RAMANAGARA</td>\n",
       "      <td>Ramanagara</td>\n",
       "      <td>4830.0</td>\n",
       "      <td>10450</td>\n",
       "      <td>0.107057</td>\n",
       "      <td>0.892943</td>\n",
       "      <td>4873</td>\n",
       "      <td>10580</td>\n",
       "      <td>0.890269</td>\n",
       "      <td>1.244019</td>\n",
       "      <td>0.891855</td>\n",
       "      <td>0.108145</td>\n",
       "      <td>10</td>\n",
       "      <td>TotalNPK</td>\n",
       "    </tr>\n",
       "    <tr>\n",
       "      <th>3</th>\n",
       "      <td>CHITRADURGA</td>\n",
       "      <td>Chitradurga</td>\n",
       "      <td>68575.0</td>\n",
       "      <td>271975</td>\n",
       "      <td>0.705870</td>\n",
       "      <td>0.294130</td>\n",
       "      <td>69748</td>\n",
       "      <td>278354</td>\n",
       "      <td>1.710536</td>\n",
       "      <td>2.345436</td>\n",
       "      <td>0.297591</td>\n",
       "      <td>0.702409</td>\n",
       "      <td>10</td>\n",
       "      <td>TotalNPK</td>\n",
       "    </tr>\n",
       "    <tr>\n",
       "      <th>4</th>\n",
       "      <td>DAVANAGERE</td>\n",
       "      <td>Davanagere</td>\n",
       "      <td>16592.0</td>\n",
       "      <td>593544</td>\n",
       "      <td>0.674396</td>\n",
       "      <td>0.325604</td>\n",
       "      <td>16898</td>\n",
       "      <td>608583</td>\n",
       "      <td>1.844262</td>\n",
       "      <td>2.533763</td>\n",
       "      <td>0.327982</td>\n",
       "      <td>0.672018</td>\n",
       "      <td>10</td>\n",
       "      <td>TotalNPK</td>\n",
       "    </tr>\n",
       "    <tr>\n",
       "      <th>...</th>\n",
       "      <td>...</td>\n",
       "      <td>...</td>\n",
       "      <td>...</td>\n",
       "      <td>...</td>\n",
       "      <td>...</td>\n",
       "      <td>...</td>\n",
       "      <td>...</td>\n",
       "      <td>...</td>\n",
       "      <td>...</td>\n",
       "      <td>...</td>\n",
       "      <td>...</td>\n",
       "      <td>...</td>\n",
       "      <td>...</td>\n",
       "      <td>...</td>\n",
       "    </tr>\n",
       "    <tr>\n",
       "      <th>119</th>\n",
       "      <td>KALABURAGI</td>\n",
       "      <td>Kalaburagi</td>\n",
       "      <td>3114.0</td>\n",
       "      <td>14621</td>\n",
       "      <td>0.264443</td>\n",
       "      <td>0.735557</td>\n",
       "      <td>2984</td>\n",
       "      <td>13790</td>\n",
       "      <td>-4.174695</td>\n",
       "      <td>-5.683606</td>\n",
       "      <td>0.748208</td>\n",
       "      <td>0.251792</td>\n",
       "      <td>-20</td>\n",
       "      <td>TotalNPK</td>\n",
       "    </tr>\n",
       "    <tr>\n",
       "      <th>120</th>\n",
       "      <td>YADGIRI</td>\n",
       "      <td>Yadgir</td>\n",
       "      <td>31435.0</td>\n",
       "      <td>2673</td>\n",
       "      <td>0.221475</td>\n",
       "      <td>0.778525</td>\n",
       "      <td>27734</td>\n",
       "      <td>2241</td>\n",
       "      <td>-11.773501</td>\n",
       "      <td>-16.161616</td>\n",
       "      <td>0.804557</td>\n",
       "      <td>0.195443</td>\n",
       "      <td>-20</td>\n",
       "      <td>TotalNPK</td>\n",
       "    </tr>\n",
       "    <tr>\n",
       "      <th>121</th>\n",
       "      <td>RAICHUR</td>\n",
       "      <td>Raichur</td>\n",
       "      <td>26958.0</td>\n",
       "      <td>723</td>\n",
       "      <td>0.260029</td>\n",
       "      <td>0.739971</td>\n",
       "      <td>24998</td>\n",
       "      <td>650</td>\n",
       "      <td>-7.270569</td>\n",
       "      <td>-10.096819</td>\n",
       "      <td>0.748027</td>\n",
       "      <td>0.251973</td>\n",
       "      <td>-20</td>\n",
       "      <td>TotalNPK</td>\n",
       "    </tr>\n",
       "    <tr>\n",
       "      <th>122</th>\n",
       "      <td>KOPPAL</td>\n",
       "      <td>Koppal</td>\n",
       "      <td>29982.0</td>\n",
       "      <td>190252</td>\n",
       "      <td>0.132646</td>\n",
       "      <td>0.867354</td>\n",
       "      <td>28502</td>\n",
       "      <td>177382</td>\n",
       "      <td>-4.936295</td>\n",
       "      <td>-6.764712</td>\n",
       "      <td>0.863219</td>\n",
       "      <td>0.136781</td>\n",
       "      <td>-20</td>\n",
       "      <td>TotalNPK</td>\n",
       "    </tr>\n",
       "    <tr>\n",
       "      <th>123</th>\n",
       "      <td>VIJAYANAGARA</td>\n",
       "      <td>Vijayanagara</td>\n",
       "      <td>22938.5</td>\n",
       "      <td>104045</td>\n",
       "      <td>0.328751</td>\n",
       "      <td>0.671249</td>\n",
       "      <td>21356</td>\n",
       "      <td>94210</td>\n",
       "      <td>-6.898882</td>\n",
       "      <td>-9.452641</td>\n",
       "      <td>0.663577</td>\n",
       "      <td>0.336423</td>\n",
       "      <td>-20</td>\n",
       "      <td>TotalNPK</td>\n",
       "    </tr>\n",
       "  </tbody>\n",
       "</table>\n",
       "<p>124 rows × 14 columns</p>\n",
       "</div>"
      ],
      "text/plain": [
       "         District     KDG_District  Original Rice Production  \\\n",
       "0       BENGALURU  Bengaluru Urban                      71.0   \n",
       "1    BENGALURU(R)  Bengaluru Rural                     206.0   \n",
       "2      RAMANAGARA       Ramanagara                    4830.0   \n",
       "3     CHITRADURGA      Chitradurga                   68575.0   \n",
       "4      DAVANAGERE       Davanagere                   16592.0   \n",
       "..            ...              ...                       ...   \n",
       "119    KALABURAGI       Kalaburagi                    3114.0   \n",
       "120       YADGIRI           Yadgir                   31435.0   \n",
       "121       RAICHUR          Raichur                   26958.0   \n",
       "122        KOPPAL           Koppal                   29982.0   \n",
       "123  VIJAYANAGARA     Vijayanagara                   22938.5   \n",
       "\n",
       "     Original Maize Production  Initial Stress  Initial Stability  \\\n",
       "0                         2879        0.053472           0.946528   \n",
       "1                        42583        0.164829           0.835171   \n",
       "2                        10450        0.107057           0.892943   \n",
       "3                       271975        0.705870           0.294130   \n",
       "4                       593544        0.674396           0.325604   \n",
       "..                         ...             ...                ...   \n",
       "119                      14621        0.264443           0.735557   \n",
       "120                       2673        0.221475           0.778525   \n",
       "121                        723        0.260029           0.739971   \n",
       "122                     190252        0.132646           0.867354   \n",
       "123                     104045        0.328751           0.671249   \n",
       "\n",
       "     New Rice Production  New Maize Production  Rice Impact  Maize Impact  \\\n",
       "0                     75                  3135     5.633803      8.891976   \n",
       "1                    212                 44359     2.912621      4.170678   \n",
       "2                   4873                 10580     0.890269      1.244019   \n",
       "3                  69748                278354     1.710536      2.345436   \n",
       "4                  16898                608583     1.844262      2.533763   \n",
       "..                   ...                   ...          ...           ...   \n",
       "119                 2984                 13790    -4.174695     -5.683606   \n",
       "120                27734                  2241   -11.773501    -16.161616   \n",
       "121                24998                   650    -7.270569    -10.096819   \n",
       "122                28502                177382    -4.936295     -6.764712   \n",
       "123                21356                 94210    -6.898882     -9.452641   \n",
       "\n",
       "     Stability    Stress  Perturbation    Factor  \n",
       "0     0.946611  0.053389            10  TotalNPK  \n",
       "1     0.834310  0.165690            10  TotalNPK  \n",
       "2     0.891855  0.108145            10  TotalNPK  \n",
       "3     0.297591  0.702409            10  TotalNPK  \n",
       "4     0.327982  0.672018            10  TotalNPK  \n",
       "..         ...       ...           ...       ...  \n",
       "119   0.748208  0.251792           -20  TotalNPK  \n",
       "120   0.804557  0.195443           -20  TotalNPK  \n",
       "121   0.748027  0.251973           -20  TotalNPK  \n",
       "122   0.863219  0.136781           -20  TotalNPK  \n",
       "123   0.663577  0.336423           -20  TotalNPK  \n",
       "\n",
       "[124 rows x 14 columns]"
      ]
     },
     "execution_count": 135,
     "metadata": {},
     "output_type": "execute_result"
    }
   ],
   "source": [
    "# Perturbations and factor mapping\n",
    "crop1 = 'Groundnut'\n",
    "crop2 = 'Maize'\n",
    "perturbations = [10, -10, 20, -20]\n",
    "factor_mapping = {\n",
    "    'NPK': 'TotalNPK'\n",
    "}\n",
    "\n",
    "# Initialize an empty DataFrame to store the results\n",
    "G_M_2D_Diff_Impact = pd.DataFrame()\n",
    "\n",
    "# Loop over each perturbation and factor\n",
    "for perturbation in perturbations:\n",
    "    for factor, mapped_factor in factor_mapping.items():\n",
    "        # Call the function to calculate and \n",
    "        calculate_and_visualize(perturbation, crop1, Groundnut_Directory, factor,False)\n",
    "        calculate_and_visualize(perturbation, crop2, Maize_Directory, factor, False)\n",
    "        Calculate_and_visualize_2D(Groundnut_Directory,Maize_Directory, adj_matrix_np, crop1, crop2, perturbation, factor,False)\n",
    "        \n",
    "        # Collect all the new columns in a dictionary\n",
    "        new_columns = {\n",
    "            'District': Working_Directory['District'],\n",
    "            'KDG_District' : Working_Directory['KDG_District'],\n",
    "            'Original Rice Production': Groundnut_Directory[f'{crop1}_Production'],\n",
    "            'Original Maize Production': Maize_Directory[f'{crop2}_Production'],\n",
    "            'Initial Stress': init_df['stress'],\n",
    "            'Initial Stability': init_df['stability'],\n",
    "            'New Rice Production': Groundnut_Directory[f'{crop1[0].upper()} - {factor} {perturbation}'],\n",
    "            'New Maize Production': Maize_Directory[f'{crop2[0].upper()} - {factor} {perturbation}'],\n",
    "            'Rice Impact': Working_Directory[f'Impact_{crop1[0].upper()}_{factor}_{perturbation}'],\n",
    "            'Maize Impact': Working_Directory[f'Impact_{crop2[0].upper()}_{factor}_{perturbation}'],\n",
    "            'Stability': Working_Directory[f'Stability_{crop1[0].upper()}_{crop2[0].upper()}_{factor}_{perturbation}'],\n",
    "            'Stress': Working_Directory[f'Stress_{crop1[0].upper()}_{crop2[0].upper()}_{factor}_{perturbation}'],\n",
    "            'Perturbation': perturbation,\n",
    "            'Factor': mapped_factor,\n",
    "        }\n",
    "        \n",
    "        # Convert the dictionary to a DataFrame and append it to the final DataFrame\n",
    "        temp_df = pd.DataFrame(new_columns)\n",
    "        G_M_2D_Diff_Impact = pd.concat([G_M_2D_Diff_Impact, temp_df], ignore_index=True)\n",
    "\n",
    "# Display or save the final DataFrame\n",
    "G_M_2D_Diff_Impact.to_csv('2D\\G_M_2D_Diff_Impact.csv', index=False)\n",
    "G_M_2D_Diff_Impact\n"
   ]
  },
  {
   "cell_type": "code",
   "execution_count": 136,
   "metadata": {},
   "outputs": [
    {
     "data": {
      "text/html": [
       "<div>\n",
       "<style scoped>\n",
       "    .dataframe tbody tr th:only-of-type {\n",
       "        vertical-align: middle;\n",
       "    }\n",
       "\n",
       "    .dataframe tbody tr th {\n",
       "        vertical-align: top;\n",
       "    }\n",
       "\n",
       "    .dataframe thead th {\n",
       "        text-align: right;\n",
       "    }\n",
       "</style>\n",
       "<table border=\"1\" class=\"dataframe\">\n",
       "  <thead>\n",
       "    <tr style=\"text-align: right;\">\n",
       "      <th></th>\n",
       "      <th>District</th>\n",
       "      <th>KDG_District</th>\n",
       "      <th>Crop</th>\n",
       "      <th>Original Production</th>\n",
       "      <th>New Production</th>\n",
       "      <th>Impact</th>\n",
       "      <th>Stability</th>\n",
       "      <th>Stress</th>\n",
       "      <th>Perturbation</th>\n",
       "      <th>Factor</th>\n",
       "    </tr>\n",
       "  </thead>\n",
       "  <tbody>\n",
       "    <tr>\n",
       "      <th>0</th>\n",
       "      <td>BENGALURU</td>\n",
       "      <td>Bengaluru Urban</td>\n",
       "      <td>Groundnut</td>\n",
       "      <td>71.0</td>\n",
       "      <td>75</td>\n",
       "      <td>5.633803</td>\n",
       "      <td>0.946611</td>\n",
       "      <td>0.053389</td>\n",
       "      <td>10</td>\n",
       "      <td>TotalNPK</td>\n",
       "    </tr>\n",
       "    <tr>\n",
       "      <th>1</th>\n",
       "      <td>BENGALURU(R)</td>\n",
       "      <td>Bengaluru Rural</td>\n",
       "      <td>Groundnut</td>\n",
       "      <td>206.0</td>\n",
       "      <td>212</td>\n",
       "      <td>2.912621</td>\n",
       "      <td>0.834310</td>\n",
       "      <td>0.165690</td>\n",
       "      <td>10</td>\n",
       "      <td>TotalNPK</td>\n",
       "    </tr>\n",
       "    <tr>\n",
       "      <th>2</th>\n",
       "      <td>RAMANAGARA</td>\n",
       "      <td>Ramanagara</td>\n",
       "      <td>Groundnut</td>\n",
       "      <td>4830.0</td>\n",
       "      <td>4873</td>\n",
       "      <td>0.890269</td>\n",
       "      <td>0.891855</td>\n",
       "      <td>0.108145</td>\n",
       "      <td>10</td>\n",
       "      <td>TotalNPK</td>\n",
       "    </tr>\n",
       "    <tr>\n",
       "      <th>3</th>\n",
       "      <td>CHITRADURGA</td>\n",
       "      <td>Chitradurga</td>\n",
       "      <td>Groundnut</td>\n",
       "      <td>68575.0</td>\n",
       "      <td>69748</td>\n",
       "      <td>1.710536</td>\n",
       "      <td>0.297591</td>\n",
       "      <td>0.702409</td>\n",
       "      <td>10</td>\n",
       "      <td>TotalNPK</td>\n",
       "    </tr>\n",
       "    <tr>\n",
       "      <th>4</th>\n",
       "      <td>DAVANAGERE</td>\n",
       "      <td>Davanagere</td>\n",
       "      <td>Groundnut</td>\n",
       "      <td>16592.0</td>\n",
       "      <td>16898</td>\n",
       "      <td>1.844262</td>\n",
       "      <td>0.327982</td>\n",
       "      <td>0.672018</td>\n",
       "      <td>10</td>\n",
       "      <td>TotalNPK</td>\n",
       "    </tr>\n",
       "    <tr>\n",
       "      <th>...</th>\n",
       "      <td>...</td>\n",
       "      <td>...</td>\n",
       "      <td>...</td>\n",
       "      <td>...</td>\n",
       "      <td>...</td>\n",
       "      <td>...</td>\n",
       "      <td>...</td>\n",
       "      <td>...</td>\n",
       "      <td>...</td>\n",
       "      <td>...</td>\n",
       "    </tr>\n",
       "    <tr>\n",
       "      <th>243</th>\n",
       "      <td>KALABURAGI</td>\n",
       "      <td>Kalaburagi</td>\n",
       "      <td>Maize</td>\n",
       "      <td>14621.0</td>\n",
       "      <td>13790</td>\n",
       "      <td>-5.683606</td>\n",
       "      <td>0.748208</td>\n",
       "      <td>0.251792</td>\n",
       "      <td>-20</td>\n",
       "      <td>TotalNPK</td>\n",
       "    </tr>\n",
       "    <tr>\n",
       "      <th>244</th>\n",
       "      <td>YADGIRI</td>\n",
       "      <td>Yadgir</td>\n",
       "      <td>Maize</td>\n",
       "      <td>2673.0</td>\n",
       "      <td>2241</td>\n",
       "      <td>-16.161616</td>\n",
       "      <td>0.804557</td>\n",
       "      <td>0.195443</td>\n",
       "      <td>-20</td>\n",
       "      <td>TotalNPK</td>\n",
       "    </tr>\n",
       "    <tr>\n",
       "      <th>245</th>\n",
       "      <td>RAICHUR</td>\n",
       "      <td>Raichur</td>\n",
       "      <td>Maize</td>\n",
       "      <td>723.0</td>\n",
       "      <td>650</td>\n",
       "      <td>-10.096819</td>\n",
       "      <td>0.748027</td>\n",
       "      <td>0.251973</td>\n",
       "      <td>-20</td>\n",
       "      <td>TotalNPK</td>\n",
       "    </tr>\n",
       "    <tr>\n",
       "      <th>246</th>\n",
       "      <td>KOPPAL</td>\n",
       "      <td>Koppal</td>\n",
       "      <td>Maize</td>\n",
       "      <td>190252.0</td>\n",
       "      <td>177382</td>\n",
       "      <td>-6.764712</td>\n",
       "      <td>0.863219</td>\n",
       "      <td>0.136781</td>\n",
       "      <td>-20</td>\n",
       "      <td>TotalNPK</td>\n",
       "    </tr>\n",
       "    <tr>\n",
       "      <th>247</th>\n",
       "      <td>VIJAYANAGARA</td>\n",
       "      <td>Vijayanagara</td>\n",
       "      <td>Maize</td>\n",
       "      <td>104045.0</td>\n",
       "      <td>94210</td>\n",
       "      <td>-9.452641</td>\n",
       "      <td>0.663577</td>\n",
       "      <td>0.336423</td>\n",
       "      <td>-20</td>\n",
       "      <td>TotalNPK</td>\n",
       "    </tr>\n",
       "  </tbody>\n",
       "</table>\n",
       "<p>248 rows × 10 columns</p>\n",
       "</div>"
      ],
      "text/plain": [
       "         District     KDG_District       Crop  Original Production  \\\n",
       "0       BENGALURU  Bengaluru Urban  Groundnut                 71.0   \n",
       "1    BENGALURU(R)  Bengaluru Rural  Groundnut                206.0   \n",
       "2      RAMANAGARA       Ramanagara  Groundnut               4830.0   \n",
       "3     CHITRADURGA      Chitradurga  Groundnut              68575.0   \n",
       "4      DAVANAGERE       Davanagere  Groundnut              16592.0   \n",
       "..            ...              ...        ...                  ...   \n",
       "243    KALABURAGI       Kalaburagi      Maize              14621.0   \n",
       "244       YADGIRI           Yadgir      Maize               2673.0   \n",
       "245       RAICHUR          Raichur      Maize                723.0   \n",
       "246        KOPPAL           Koppal      Maize             190252.0   \n",
       "247  VIJAYANAGARA     Vijayanagara      Maize             104045.0   \n",
       "\n",
       "     New Production     Impact  Stability    Stress  Perturbation    Factor  \n",
       "0                75   5.633803   0.946611  0.053389            10  TotalNPK  \n",
       "1               212   2.912621   0.834310  0.165690            10  TotalNPK  \n",
       "2              4873   0.890269   0.891855  0.108145            10  TotalNPK  \n",
       "3             69748   1.710536   0.297591  0.702409            10  TotalNPK  \n",
       "4             16898   1.844262   0.327982  0.672018            10  TotalNPK  \n",
       "..              ...        ...        ...       ...           ...       ...  \n",
       "243           13790  -5.683606   0.748208  0.251792           -20  TotalNPK  \n",
       "244            2241 -16.161616   0.804557  0.195443           -20  TotalNPK  \n",
       "245             650 -10.096819   0.748027  0.251973           -20  TotalNPK  \n",
       "246          177382  -6.764712   0.863219  0.136781           -20  TotalNPK  \n",
       "247           94210  -9.452641   0.663577  0.336423           -20  TotalNPK  \n",
       "\n",
       "[248 rows x 10 columns]"
      ]
     },
     "execution_count": 136,
     "metadata": {},
     "output_type": "execute_result"
    }
   ],
   "source": [
    "# Perturbations and factor mapping\n",
    "crop1 = 'Groundnut'\n",
    "crop2 = 'Maize'\n",
    "perturbations = [10, -10, 20, -20]\n",
    "factor_mapping = {\n",
    "    'NPK': 'TotalNPK'\n",
    "}\n",
    "\n",
    "# Initialize an empty DataFrame to store the results\n",
    "G_M_2D_Diff_Impact = pd.DataFrame()\n",
    "\n",
    "# Loop over each perturbation and factor\n",
    "for perturbation in perturbations:\n",
    "    for factor, mapped_factor in factor_mapping.items():\n",
    "        # Call the function to calculate and visualize for both crops\n",
    "        calculate_and_visualize(perturbation, crop1, Groundnut_Directory, factor, False)\n",
    "        calculate_and_visualize(perturbation, crop2, Maize_Directory, factor, False)\n",
    "        Calculate_and_visualize_2D(Groundnut_Directory, Maize_Directory, adj_matrix_np, crop1, crop2, perturbation, factor, False)\n",
    "\n",
    "        # Create a DataFrame for Rice entries\n",
    "        rice_df = pd.DataFrame({\n",
    "            'District': Working_Directory['District'],\n",
    "            'KDG_District': Working_Directory['KDG_District'],\n",
    "            'Crop': crop1,  # Indicate that these entries are for Rice\n",
    "            'Original Production': Groundnut_Directory[f'{crop1}_Production'],\n",
    "            'New Production': Groundnut_Directory[f'{crop1[0].upper()} - {factor} {perturbation}'],\n",
    "            'Impact': Working_Directory[f'Impact_{crop1[0].upper()}_{factor}_{perturbation}'],\n",
    "            'Stability': Working_Directory[f'Stability_{crop1[0].upper()}_{crop2[0].upper()}_{factor}_{perturbation}'],\n",
    "            'Stress': Working_Directory[f'Stress_{crop1[0].upper()}_{crop2[0].upper()}_{factor}_{perturbation}'],\n",
    "            'Perturbation': perturbation,\n",
    "            'Factor': mapped_factor\n",
    "        })\n",
    "\n",
    "        # Create a DataFrame for Maize entries\n",
    "        maize_df = pd.DataFrame({\n",
    "            'District': Working_Directory['District'],\n",
    "            'KDG_District': Working_Directory['KDG_District'],\n",
    "            'Crop': crop2,  # Indicate that these entries are for Maize\n",
    "            'Original Production': Maize_Directory[f'{crop2}_Production'],\n",
    "            'New Production': Maize_Directory[f'{crop2[0].upper()} - {factor} {perturbation}'],\n",
    "            'Impact': Working_Directory[f'Impact_{crop2[0].upper()}_{factor}_{perturbation}'],\n",
    "            'Stability': Working_Directory[f'Stability_{crop1[0].upper()}_{crop2[0].upper()}_{factor}_{perturbation}'],\n",
    "            'Stress': Working_Directory[f'Stress_{crop1[0].upper()}_{crop2[0].upper()}_{factor}_{perturbation}'],\n",
    "            'Perturbation': perturbation,\n",
    "            'Factor': mapped_factor\n",
    "        })\n",
    "\n",
    "        # Concatenate the Rice and Maize DataFrames for the current perturbation and factor\n",
    "        temp_df = pd.concat([rice_df, maize_df], ignore_index=True)\n",
    "        \n",
    "        # Append to the final DataFrame\n",
    "        G_M_2D_Diff_Impact = pd.concat([G_M_2D_Diff_Impact, temp_df], ignore_index=True)\n",
    "\n",
    "# Display or save the final DataFrame\n",
    "G_M_2D_Diff_Impact.to_csv('2D/G_M_2D_Diff_Impact_1.csv', index=False)\n",
    "G_M_2D_Diff_Impact\n"
   ]
  }
 ],
 "metadata": {
  "kernelspec": {
   "display_name": "Python 3",
   "language": "python",
   "name": "python3"
  },
  "language_info": {
   "codemirror_mode": {
    "name": "ipython",
    "version": 3
   },
   "file_extension": ".py",
   "mimetype": "text/x-python",
   "name": "python",
   "nbconvert_exporter": "python",
   "pygments_lexer": "ipython3",
   "version": "3.9.13"
  }
 },
 "nbformat": 4,
 "nbformat_minor": 2
}
